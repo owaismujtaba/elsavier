{
 "cells": [
  {
   "cell_type": "code",
   "execution_count": 1,
   "metadata": {},
   "outputs": [],
   "source": [
    "from src.dataset.data_reader import BIDSDatasetReader\n",
    "from src.analysis.registery import Registery\n",
    "from src.utils.graphics import styled_print\n",
    "from src.dataset.data_loader import DataLoader\n",
    "from matplotlib import pyplot as plt\n",
    "import config as config\n",
    "import numpy as np\n",
    "from pathlib import Path"
   ]
  },
  {
   "cell_type": "code",
   "execution_count": 2,
   "metadata": {},
   "outputs": [],
   "source": [
    "def create_epochs_for_all(\n",
    "        registery, trial_mode, trial_unit, experiment_mode, \n",
    "        trial_boundary, trial_type, modality, tmin, tmax\n",
    "    ):\n",
    "    styled_print('', 'Creating EPOCHS for all subjects', color='red')\n",
    "    epochs = {}\n",
    "\n",
    "    for (subject, session), raw in registery.raw_data.items():\n",
    "        styled_print('', f'Loading for sub-{subject}, ses-{session}', color='green')\n",
    "        data_loader = DataLoader(\n",
    "            eeg_data=raw, trial_mode=trial_mode, trial_unit=trial_unit,\n",
    "            experiment_mode=experiment_mode, trial_boundary=trial_boundary,\n",
    "            trial_type=trial_type, modality=modality\n",
    "        )\n",
    "        try:\n",
    "            epochs[(subject, session)] = data_loader.create_epochs(tmin=tmin, tmax=tmax)\n",
    "        except Exception as e:\n",
    "            styled_print('', f\"Error processing sub-{subject}, ses-{session}: {e}\", color='yellow')\n",
    "\n",
    "    return epochs\n"
   ]
  },
  {
   "cell_type": "code",
   "execution_count": 3,
   "metadata": {},
   "outputs": [
    {
     "data": {
      "text/html": [
       "<pre style=\"white-space:pre;overflow-x:auto;line-height:normal;font-family:Menlo,'DejaVu Sans Mono',consolas,'Courier New',monospace\"><span style=\"color: #800000; text-decoration-color: #800000\">╭──────────────────────────────╮</span>\n",
       "<span style=\"color: #800000; text-decoration-color: #800000\">│</span>  <span style=\"color: #800000; text-decoration-color: #800000; font-weight: bold\">Initializing Register Class</span> <span style=\"color: #800000; text-decoration-color: #800000\">│</span>\n",
       "<span style=\"color: #800000; text-decoration-color: #800000\">╰──────────────────────────────╯</span>\n",
       "</pre>\n"
      ],
      "text/plain": [
       "\u001b[31m╭──────────────────────────────╮\u001b[0m\n",
       "\u001b[31m│\u001b[0m  \u001b[1;31mInitializing Register Class\u001b[0m \u001b[31m│\u001b[0m\n",
       "\u001b[31m╰──────────────────────────────╯\u001b[0m\n"
      ]
     },
     "metadata": {},
     "output_type": "display_data"
    },
    {
     "data": {
      "text/html": [
       "<pre style=\"white-space:pre;overflow-x:auto;line-height:normal;font-family:Menlo,'DejaVu Sans Mono',consolas,'Courier New',monospace\"> <span style=\"color: #008000; text-decoration-color: #008000; font-weight: bold\">Loading raw data for all subjects</span>\n",
       "</pre>\n"
      ],
      "text/plain": [
       " \u001b[1;32mLoading raw data for all subjects\u001b[0m\n"
      ]
     },
     "metadata": {},
     "output_type": "display_data"
    },
    {
     "data": {
      "text/html": [
       "<pre style=\"white-space:pre;overflow-x:auto;line-height:normal;font-family:Menlo,'DejaVu Sans Mono',consolas,'Courier New',monospace\"> <span style=\"color: #008000; text-decoration-color: #008000; font-weight: bold\">Loading raw data for sub-</span><span style=\"color: #008000; text-decoration-color: #008000; font-weight: bold\">01</span><span style=\"color: #008000; text-decoration-color: #008000; font-weight: bold\">, ses-</span><span style=\"color: #008000; text-decoration-color: #008000; font-weight: bold\">01</span>\n",
       "</pre>\n"
      ],
      "text/plain": [
       " \u001b[1;32mLoading raw data for sub-\u001b[0m\u001b[1;32m01\u001b[0m\u001b[1;32m, ses-\u001b[0m\u001b[1;32m01\u001b[0m\n"
      ]
     },
     "metadata": {},
     "output_type": "display_data"
    },
    {
     "data": {
      "text/html": [
       "<pre style=\"white-space:pre;overflow-x:auto;line-height:normal;font-family:Menlo,'DejaVu Sans Mono',consolas,'Courier New',monospace\"><span style=\"color: #808000; text-decoration-color: #808000\">╭─────────────────────────────────────────╮</span>\n",
       "<span style=\"color: #808000; text-decoration-color: #808000\">│</span> 🚀 <span style=\"color: #808000; text-decoration-color: #808000; font-weight: bold\">Initializing BIDSDatasetReader Class</span> <span style=\"color: #808000; text-decoration-color: #808000\">│</span>\n",
       "<span style=\"color: #808000; text-decoration-color: #808000\">╰─────────────────────────────────────────╯</span>\n",
       "</pre>\n"
      ],
      "text/plain": [
       "\u001b[33m╭─────────────────────────────────────────╮\u001b[0m\n",
       "\u001b[33m│\u001b[0m 🚀 \u001b[1;33mInitializing BIDSDatasetReader Class\u001b[0m \u001b[33m│\u001b[0m\n",
       "\u001b[33m╰─────────────────────────────────────────╯\u001b[0m\n"
      ]
     },
     "metadata": {},
     "output_type": "display_data"
    },
    {
     "data": {
      "text/html": [
       "<pre style=\"white-space:pre;overflow-x:auto;line-height:normal;font-family:Menlo,'DejaVu Sans Mono',consolas,'Courier New',monospace\"> <span style=\"color: #008000; text-decoration-color: #008000; font-weight: bold\">Loading Processed EEG Data</span>\n",
       "</pre>\n"
      ],
      "text/plain": [
       " \u001b[1;32mLoading Processed EEG Data\u001b[0m\n"
      ]
     },
     "metadata": {},
     "output_type": "display_data"
    },
    {
     "name": "stdout",
     "output_type": "stream",
     "text": [
      "Opening raw data file /home/owaismujtaba/projects/elsavier/BIDS/derivatives/processed_eeg/sub-01_ses-01_processed-raw.fif...\n"
     ]
    },
    {
     "name": "stdout",
     "output_type": "stream",
     "text": [
      "    Range : 0 ... 6306999 =      0.000 ...  6306.999 secs\n",
      "Ready.\n",
      "Reading 0 ... 6306999  =      0.000 ...  6306.999 secs...\n"
     ]
    },
    {
     "data": {
      "text/html": [
       "<pre style=\"white-space:pre;overflow-x:auto;line-height:normal;font-family:Menlo,'DejaVu Sans Mono',consolas,'Courier New',monospace\"> <span style=\"color: #008000; text-decoration-color: #008000; font-weight: bold\">Loading raw data for sub-</span><span style=\"color: #008000; text-decoration-color: #008000; font-weight: bold\">02</span><span style=\"color: #008000; text-decoration-color: #008000; font-weight: bold\">, ses-</span><span style=\"color: #008000; text-decoration-color: #008000; font-weight: bold\">01</span>\n",
       "</pre>\n"
      ],
      "text/plain": [
       " \u001b[1;32mLoading raw data for sub-\u001b[0m\u001b[1;32m02\u001b[0m\u001b[1;32m, ses-\u001b[0m\u001b[1;32m01\u001b[0m\n"
      ]
     },
     "metadata": {},
     "output_type": "display_data"
    },
    {
     "data": {
      "text/html": [
       "<pre style=\"white-space:pre;overflow-x:auto;line-height:normal;font-family:Menlo,'DejaVu Sans Mono',consolas,'Courier New',monospace\"><span style=\"color: #808000; text-decoration-color: #808000\">╭─────────────────────────────────────────╮</span>\n",
       "<span style=\"color: #808000; text-decoration-color: #808000\">│</span> 🚀 <span style=\"color: #808000; text-decoration-color: #808000; font-weight: bold\">Initializing BIDSDatasetReader Class</span> <span style=\"color: #808000; text-decoration-color: #808000\">│</span>\n",
       "<span style=\"color: #808000; text-decoration-color: #808000\">╰─────────────────────────────────────────╯</span>\n",
       "</pre>\n"
      ],
      "text/plain": [
       "\u001b[33m╭─────────────────────────────────────────╮\u001b[0m\n",
       "\u001b[33m│\u001b[0m 🚀 \u001b[1;33mInitializing BIDSDatasetReader Class\u001b[0m \u001b[33m│\u001b[0m\n",
       "\u001b[33m╰─────────────────────────────────────────╯\u001b[0m\n"
      ]
     },
     "metadata": {},
     "output_type": "display_data"
    },
    {
     "data": {
      "text/html": [
       "<pre style=\"white-space:pre;overflow-x:auto;line-height:normal;font-family:Menlo,'DejaVu Sans Mono',consolas,'Courier New',monospace\"> <span style=\"color: #008000; text-decoration-color: #008000; font-weight: bold\">Loading Processed EEG Data</span>\n",
       "</pre>\n"
      ],
      "text/plain": [
       " \u001b[1;32mLoading Processed EEG Data\u001b[0m\n"
      ]
     },
     "metadata": {},
     "output_type": "display_data"
    },
    {
     "name": "stdout",
     "output_type": "stream",
     "text": [
      "Opening raw data file /home/owaismujtaba/projects/elsavier/BIDS/derivatives/processed_eeg/sub-02_ses-01_processed-raw.fif...\n",
      "    Range : 0 ... 6465999 =      0.000 ...  6465.999 secs\n",
      "Ready.\n",
      "Reading 0 ... 6465999  =      0.000 ...  6465.999 secs...\n"
     ]
    },
    {
     "data": {
      "text/html": [
       "<pre style=\"white-space:pre;overflow-x:auto;line-height:normal;font-family:Menlo,'DejaVu Sans Mono',consolas,'Courier New',monospace\"> <span style=\"color: #008000; text-decoration-color: #008000; font-weight: bold\">Loading raw data for sub-</span><span style=\"color: #008000; text-decoration-color: #008000; font-weight: bold\">03</span><span style=\"color: #008000; text-decoration-color: #008000; font-weight: bold\">, ses-</span><span style=\"color: #008000; text-decoration-color: #008000; font-weight: bold\">01</span>\n",
       "</pre>\n"
      ],
      "text/plain": [
       " \u001b[1;32mLoading raw data for sub-\u001b[0m\u001b[1;32m03\u001b[0m\u001b[1;32m, ses-\u001b[0m\u001b[1;32m01\u001b[0m\n"
      ]
     },
     "metadata": {},
     "output_type": "display_data"
    },
    {
     "data": {
      "text/html": [
       "<pre style=\"white-space:pre;overflow-x:auto;line-height:normal;font-family:Menlo,'DejaVu Sans Mono',consolas,'Courier New',monospace\"><span style=\"color: #808000; text-decoration-color: #808000\">╭─────────────────────────────────────────╮</span>\n",
       "<span style=\"color: #808000; text-decoration-color: #808000\">│</span> 🚀 <span style=\"color: #808000; text-decoration-color: #808000; font-weight: bold\">Initializing BIDSDatasetReader Class</span> <span style=\"color: #808000; text-decoration-color: #808000\">│</span>\n",
       "<span style=\"color: #808000; text-decoration-color: #808000\">╰─────────────────────────────────────────╯</span>\n",
       "</pre>\n"
      ],
      "text/plain": [
       "\u001b[33m╭─────────────────────────────────────────╮\u001b[0m\n",
       "\u001b[33m│\u001b[0m 🚀 \u001b[1;33mInitializing BIDSDatasetReader Class\u001b[0m \u001b[33m│\u001b[0m\n",
       "\u001b[33m╰─────────────────────────────────────────╯\u001b[0m\n"
      ]
     },
     "metadata": {},
     "output_type": "display_data"
    },
    {
     "data": {
      "text/html": [
       "<pre style=\"white-space:pre;overflow-x:auto;line-height:normal;font-family:Menlo,'DejaVu Sans Mono',consolas,'Courier New',monospace\"> <span style=\"color: #008000; text-decoration-color: #008000; font-weight: bold\">Loading Processed EEG Data</span>\n",
       "</pre>\n"
      ],
      "text/plain": [
       " \u001b[1;32mLoading Processed EEG Data\u001b[0m\n"
      ]
     },
     "metadata": {},
     "output_type": "display_data"
    },
    {
     "name": "stdout",
     "output_type": "stream",
     "text": [
      "Opening raw data file /home/owaismujtaba/projects/elsavier/BIDS/derivatives/processed_eeg/sub-03_ses-01_processed-raw.fif...\n",
      "    Range : 0 ... 6127999 =      0.000 ...  6127.999 secs\n",
      "Ready.\n",
      "Reading 0 ... 6127999  =      0.000 ...  6127.999 secs...\n"
     ]
    },
    {
     "data": {
      "text/html": [
       "<pre style=\"white-space:pre;overflow-x:auto;line-height:normal;font-family:Menlo,'DejaVu Sans Mono',consolas,'Courier New',monospace\"> <span style=\"color: #008000; text-decoration-color: #008000; font-weight: bold\">Loading raw data for sub-</span><span style=\"color: #008000; text-decoration-color: #008000; font-weight: bold\">04</span><span style=\"color: #008000; text-decoration-color: #008000; font-weight: bold\">, ses-</span><span style=\"color: #008000; text-decoration-color: #008000; font-weight: bold\">01</span>\n",
       "</pre>\n"
      ],
      "text/plain": [
       " \u001b[1;32mLoading raw data for sub-\u001b[0m\u001b[1;32m04\u001b[0m\u001b[1;32m, ses-\u001b[0m\u001b[1;32m01\u001b[0m\n"
      ]
     },
     "metadata": {},
     "output_type": "display_data"
    },
    {
     "data": {
      "text/html": [
       "<pre style=\"white-space:pre;overflow-x:auto;line-height:normal;font-family:Menlo,'DejaVu Sans Mono',consolas,'Courier New',monospace\"><span style=\"color: #808000; text-decoration-color: #808000\">╭─────────────────────────────────────────╮</span>\n",
       "<span style=\"color: #808000; text-decoration-color: #808000\">│</span> 🚀 <span style=\"color: #808000; text-decoration-color: #808000; font-weight: bold\">Initializing BIDSDatasetReader Class</span> <span style=\"color: #808000; text-decoration-color: #808000\">│</span>\n",
       "<span style=\"color: #808000; text-decoration-color: #808000\">╰─────────────────────────────────────────╯</span>\n",
       "</pre>\n"
      ],
      "text/plain": [
       "\u001b[33m╭─────────────────────────────────────────╮\u001b[0m\n",
       "\u001b[33m│\u001b[0m 🚀 \u001b[1;33mInitializing BIDSDatasetReader Class\u001b[0m \u001b[33m│\u001b[0m\n",
       "\u001b[33m╰─────────────────────────────────────────╯\u001b[0m\n"
      ]
     },
     "metadata": {},
     "output_type": "display_data"
    },
    {
     "data": {
      "text/html": [
       "<pre style=\"white-space:pre;overflow-x:auto;line-height:normal;font-family:Menlo,'DejaVu Sans Mono',consolas,'Courier New',monospace\"> <span style=\"color: #008000; text-decoration-color: #008000; font-weight: bold\">Loading Processed EEG Data</span>\n",
       "</pre>\n"
      ],
      "text/plain": [
       " \u001b[1;32mLoading Processed EEG Data\u001b[0m\n"
      ]
     },
     "metadata": {},
     "output_type": "display_data"
    },
    {
     "name": "stdout",
     "output_type": "stream",
     "text": [
      "Opening raw data file /home/owaismujtaba/projects/elsavier/BIDS/derivatives/processed_eeg/sub-04_ses-01_processed-raw.fif...\n",
      "    Range : 0 ... 7078999 =      0.000 ...  7078.999 secs\n",
      "Ready.\n",
      "Reading 0 ... 7078999  =      0.000 ...  7078.999 secs...\n"
     ]
    },
    {
     "data": {
      "text/html": [
       "<pre style=\"white-space:pre;overflow-x:auto;line-height:normal;font-family:Menlo,'DejaVu Sans Mono',consolas,'Courier New',monospace\"> <span style=\"color: #008000; text-decoration-color: #008000; font-weight: bold\">Loading raw data for sub-</span><span style=\"color: #008000; text-decoration-color: #008000; font-weight: bold\">04</span><span style=\"color: #008000; text-decoration-color: #008000; font-weight: bold\">, ses-</span><span style=\"color: #008000; text-decoration-color: #008000; font-weight: bold\">02</span>\n",
       "</pre>\n"
      ],
      "text/plain": [
       " \u001b[1;32mLoading raw data for sub-\u001b[0m\u001b[1;32m04\u001b[0m\u001b[1;32m, ses-\u001b[0m\u001b[1;32m02\u001b[0m\n"
      ]
     },
     "metadata": {},
     "output_type": "display_data"
    },
    {
     "data": {
      "text/html": [
       "<pre style=\"white-space:pre;overflow-x:auto;line-height:normal;font-family:Menlo,'DejaVu Sans Mono',consolas,'Courier New',monospace\"><span style=\"color: #808000; text-decoration-color: #808000\">╭─────────────────────────────────────────╮</span>\n",
       "<span style=\"color: #808000; text-decoration-color: #808000\">│</span> 🚀 <span style=\"color: #808000; text-decoration-color: #808000; font-weight: bold\">Initializing BIDSDatasetReader Class</span> <span style=\"color: #808000; text-decoration-color: #808000\">│</span>\n",
       "<span style=\"color: #808000; text-decoration-color: #808000\">╰─────────────────────────────────────────╯</span>\n",
       "</pre>\n"
      ],
      "text/plain": [
       "\u001b[33m╭─────────────────────────────────────────╮\u001b[0m\n",
       "\u001b[33m│\u001b[0m 🚀 \u001b[1;33mInitializing BIDSDatasetReader Class\u001b[0m \u001b[33m│\u001b[0m\n",
       "\u001b[33m╰─────────────────────────────────────────╯\u001b[0m\n"
      ]
     },
     "metadata": {},
     "output_type": "display_data"
    },
    {
     "data": {
      "text/html": [
       "<pre style=\"white-space:pre;overflow-x:auto;line-height:normal;font-family:Menlo,'DejaVu Sans Mono',consolas,'Courier New',monospace\"> <span style=\"color: #008000; text-decoration-color: #008000; font-weight: bold\">Loading Processed EEG Data</span>\n",
       "</pre>\n"
      ],
      "text/plain": [
       " \u001b[1;32mLoading Processed EEG Data\u001b[0m\n"
      ]
     },
     "metadata": {},
     "output_type": "display_data"
    },
    {
     "name": "stdout",
     "output_type": "stream",
     "text": [
      "Opening raw data file /home/owaismujtaba/projects/elsavier/BIDS/derivatives/processed_eeg/sub-04_ses-02_processed-raw.fif...\n",
      "    Range : 0 ... 6420999 =      0.000 ...  6420.999 secs\n",
      "Ready.\n",
      "Reading 0 ... 6420999  =      0.000 ...  6420.999 secs...\n"
     ]
    },
    {
     "data": {
      "text/html": [
       "<pre style=\"white-space:pre;overflow-x:auto;line-height:normal;font-family:Menlo,'DejaVu Sans Mono',consolas,'Courier New',monospace\"> <span style=\"color: #008000; text-decoration-color: #008000; font-weight: bold\">Loading raw data for sub-</span><span style=\"color: #008000; text-decoration-color: #008000; font-weight: bold\">05</span><span style=\"color: #008000; text-decoration-color: #008000; font-weight: bold\">, ses-</span><span style=\"color: #008000; text-decoration-color: #008000; font-weight: bold\">01</span>\n",
       "</pre>\n"
      ],
      "text/plain": [
       " \u001b[1;32mLoading raw data for sub-\u001b[0m\u001b[1;32m05\u001b[0m\u001b[1;32m, ses-\u001b[0m\u001b[1;32m01\u001b[0m\n"
      ]
     },
     "metadata": {},
     "output_type": "display_data"
    },
    {
     "data": {
      "text/html": [
       "<pre style=\"white-space:pre;overflow-x:auto;line-height:normal;font-family:Menlo,'DejaVu Sans Mono',consolas,'Courier New',monospace\"><span style=\"color: #808000; text-decoration-color: #808000\">╭─────────────────────────────────────────╮</span>\n",
       "<span style=\"color: #808000; text-decoration-color: #808000\">│</span> 🚀 <span style=\"color: #808000; text-decoration-color: #808000; font-weight: bold\">Initializing BIDSDatasetReader Class</span> <span style=\"color: #808000; text-decoration-color: #808000\">│</span>\n",
       "<span style=\"color: #808000; text-decoration-color: #808000\">╰─────────────────────────────────────────╯</span>\n",
       "</pre>\n"
      ],
      "text/plain": [
       "\u001b[33m╭─────────────────────────────────────────╮\u001b[0m\n",
       "\u001b[33m│\u001b[0m 🚀 \u001b[1;33mInitializing BIDSDatasetReader Class\u001b[0m \u001b[33m│\u001b[0m\n",
       "\u001b[33m╰─────────────────────────────────────────╯\u001b[0m\n"
      ]
     },
     "metadata": {},
     "output_type": "display_data"
    },
    {
     "data": {
      "text/html": [
       "<pre style=\"white-space:pre;overflow-x:auto;line-height:normal;font-family:Menlo,'DejaVu Sans Mono',consolas,'Courier New',monospace\"> <span style=\"color: #008000; text-decoration-color: #008000; font-weight: bold\">Loading Processed EEG Data</span>\n",
       "</pre>\n"
      ],
      "text/plain": [
       " \u001b[1;32mLoading Processed EEG Data\u001b[0m\n"
      ]
     },
     "metadata": {},
     "output_type": "display_data"
    },
    {
     "name": "stdout",
     "output_type": "stream",
     "text": [
      "Opening raw data file /home/owaismujtaba/projects/elsavier/BIDS/derivatives/processed_eeg/sub-05_ses-01_processed-raw.fif...\n",
      "    Range : 0 ... 5886999 =      0.000 ...  5886.999 secs\n",
      "Ready.\n",
      "Reading 0 ... 5886999  =      0.000 ...  5886.999 secs...\n"
     ]
    },
    {
     "data": {
      "text/html": [
       "<pre style=\"white-space:pre;overflow-x:auto;line-height:normal;font-family:Menlo,'DejaVu Sans Mono',consolas,'Courier New',monospace\"> <span style=\"color: #008000; text-decoration-color: #008000; font-weight: bold\">Loading raw data for sub-</span><span style=\"color: #008000; text-decoration-color: #008000; font-weight: bold\">05</span><span style=\"color: #008000; text-decoration-color: #008000; font-weight: bold\">, ses-</span><span style=\"color: #008000; text-decoration-color: #008000; font-weight: bold\">02</span>\n",
       "</pre>\n"
      ],
      "text/plain": [
       " \u001b[1;32mLoading raw data for sub-\u001b[0m\u001b[1;32m05\u001b[0m\u001b[1;32m, ses-\u001b[0m\u001b[1;32m02\u001b[0m\n"
      ]
     },
     "metadata": {},
     "output_type": "display_data"
    },
    {
     "data": {
      "text/html": [
       "<pre style=\"white-space:pre;overflow-x:auto;line-height:normal;font-family:Menlo,'DejaVu Sans Mono',consolas,'Courier New',monospace\"><span style=\"color: #808000; text-decoration-color: #808000\">╭─────────────────────────────────────────╮</span>\n",
       "<span style=\"color: #808000; text-decoration-color: #808000\">│</span> 🚀 <span style=\"color: #808000; text-decoration-color: #808000; font-weight: bold\">Initializing BIDSDatasetReader Class</span> <span style=\"color: #808000; text-decoration-color: #808000\">│</span>\n",
       "<span style=\"color: #808000; text-decoration-color: #808000\">╰─────────────────────────────────────────╯</span>\n",
       "</pre>\n"
      ],
      "text/plain": [
       "\u001b[33m╭─────────────────────────────────────────╮\u001b[0m\n",
       "\u001b[33m│\u001b[0m 🚀 \u001b[1;33mInitializing BIDSDatasetReader Class\u001b[0m \u001b[33m│\u001b[0m\n",
       "\u001b[33m╰─────────────────────────────────────────╯\u001b[0m\n"
      ]
     },
     "metadata": {},
     "output_type": "display_data"
    },
    {
     "data": {
      "text/html": [
       "<pre style=\"white-space:pre;overflow-x:auto;line-height:normal;font-family:Menlo,'DejaVu Sans Mono',consolas,'Courier New',monospace\"> <span style=\"color: #008000; text-decoration-color: #008000; font-weight: bold\">Loading Processed EEG Data</span>\n",
       "</pre>\n"
      ],
      "text/plain": [
       " \u001b[1;32mLoading Processed EEG Data\u001b[0m\n"
      ]
     },
     "metadata": {},
     "output_type": "display_data"
    },
    {
     "name": "stdout",
     "output_type": "stream",
     "text": [
      "Opening raw data file /home/owaismujtaba/projects/elsavier/BIDS/derivatives/processed_eeg/sub-05_ses-02_processed-raw.fif...\n",
      "    Range : 0 ... 5732999 =      0.000 ...  5732.999 secs\n",
      "Ready.\n",
      "Reading 0 ... 5732999  =      0.000 ...  5732.999 secs...\n"
     ]
    },
    {
     "data": {
      "text/html": [
       "<pre style=\"white-space:pre;overflow-x:auto;line-height:normal;font-family:Menlo,'DejaVu Sans Mono',consolas,'Courier New',monospace\"> <span style=\"color: #008000; text-decoration-color: #008000; font-weight: bold\">Loading raw data for sub-</span><span style=\"color: #008000; text-decoration-color: #008000; font-weight: bold\">06</span><span style=\"color: #008000; text-decoration-color: #008000; font-weight: bold\">, ses-</span><span style=\"color: #008000; text-decoration-color: #008000; font-weight: bold\">01</span>\n",
       "</pre>\n"
      ],
      "text/plain": [
       " \u001b[1;32mLoading raw data for sub-\u001b[0m\u001b[1;32m06\u001b[0m\u001b[1;32m, ses-\u001b[0m\u001b[1;32m01\u001b[0m\n"
      ]
     },
     "metadata": {},
     "output_type": "display_data"
    },
    {
     "data": {
      "text/html": [
       "<pre style=\"white-space:pre;overflow-x:auto;line-height:normal;font-family:Menlo,'DejaVu Sans Mono',consolas,'Courier New',monospace\"><span style=\"color: #808000; text-decoration-color: #808000\">╭─────────────────────────────────────────╮</span>\n",
       "<span style=\"color: #808000; text-decoration-color: #808000\">│</span> 🚀 <span style=\"color: #808000; text-decoration-color: #808000; font-weight: bold\">Initializing BIDSDatasetReader Class</span> <span style=\"color: #808000; text-decoration-color: #808000\">│</span>\n",
       "<span style=\"color: #808000; text-decoration-color: #808000\">╰─────────────────────────────────────────╯</span>\n",
       "</pre>\n"
      ],
      "text/plain": [
       "\u001b[33m╭─────────────────────────────────────────╮\u001b[0m\n",
       "\u001b[33m│\u001b[0m 🚀 \u001b[1;33mInitializing BIDSDatasetReader Class\u001b[0m \u001b[33m│\u001b[0m\n",
       "\u001b[33m╰─────────────────────────────────────────╯\u001b[0m\n"
      ]
     },
     "metadata": {},
     "output_type": "display_data"
    },
    {
     "data": {
      "text/html": [
       "<pre style=\"white-space:pre;overflow-x:auto;line-height:normal;font-family:Menlo,'DejaVu Sans Mono',consolas,'Courier New',monospace\"> <span style=\"color: #008000; text-decoration-color: #008000; font-weight: bold\">Loading Processed EEG Data</span>\n",
       "</pre>\n"
      ],
      "text/plain": [
       " \u001b[1;32mLoading Processed EEG Data\u001b[0m\n"
      ]
     },
     "metadata": {},
     "output_type": "display_data"
    },
    {
     "name": "stdout",
     "output_type": "stream",
     "text": [
      "Opening raw data file /home/owaismujtaba/projects/elsavier/BIDS/derivatives/processed_eeg/sub-06_ses-01_processed-raw.fif...\n",
      "    Range : 0 ... 6603999 =      0.000 ...  6603.999 secs\n",
      "Ready.\n",
      "Reading 0 ... 6603999  =      0.000 ...  6603.999 secs...\n"
     ]
    },
    {
     "data": {
      "text/html": [
       "<pre style=\"white-space:pre;overflow-x:auto;line-height:normal;font-family:Menlo,'DejaVu Sans Mono',consolas,'Courier New',monospace\"> <span style=\"color: #008000; text-decoration-color: #008000; font-weight: bold\">Loading raw data for sub-</span><span style=\"color: #008000; text-decoration-color: #008000; font-weight: bold\">06</span><span style=\"color: #008000; text-decoration-color: #008000; font-weight: bold\">, ses-</span><span style=\"color: #008000; text-decoration-color: #008000; font-weight: bold\">02</span>\n",
       "</pre>\n"
      ],
      "text/plain": [
       " \u001b[1;32mLoading raw data for sub-\u001b[0m\u001b[1;32m06\u001b[0m\u001b[1;32m, ses-\u001b[0m\u001b[1;32m02\u001b[0m\n"
      ]
     },
     "metadata": {},
     "output_type": "display_data"
    },
    {
     "data": {
      "text/html": [
       "<pre style=\"white-space:pre;overflow-x:auto;line-height:normal;font-family:Menlo,'DejaVu Sans Mono',consolas,'Courier New',monospace\"><span style=\"color: #808000; text-decoration-color: #808000\">╭─────────────────────────────────────────╮</span>\n",
       "<span style=\"color: #808000; text-decoration-color: #808000\">│</span> 🚀 <span style=\"color: #808000; text-decoration-color: #808000; font-weight: bold\">Initializing BIDSDatasetReader Class</span> <span style=\"color: #808000; text-decoration-color: #808000\">│</span>\n",
       "<span style=\"color: #808000; text-decoration-color: #808000\">╰─────────────────────────────────────────╯</span>\n",
       "</pre>\n"
      ],
      "text/plain": [
       "\u001b[33m╭─────────────────────────────────────────╮\u001b[0m\n",
       "\u001b[33m│\u001b[0m 🚀 \u001b[1;33mInitializing BIDSDatasetReader Class\u001b[0m \u001b[33m│\u001b[0m\n",
       "\u001b[33m╰─────────────────────────────────────────╯\u001b[0m\n"
      ]
     },
     "metadata": {},
     "output_type": "display_data"
    },
    {
     "data": {
      "text/html": [
       "<pre style=\"white-space:pre;overflow-x:auto;line-height:normal;font-family:Menlo,'DejaVu Sans Mono',consolas,'Courier New',monospace\"> <span style=\"color: #008000; text-decoration-color: #008000; font-weight: bold\">Loading Processed EEG Data</span>\n",
       "</pre>\n"
      ],
      "text/plain": [
       " \u001b[1;32mLoading Processed EEG Data\u001b[0m\n"
      ]
     },
     "metadata": {},
     "output_type": "display_data"
    },
    {
     "name": "stdout",
     "output_type": "stream",
     "text": [
      "Opening raw data file /home/owaismujtaba/projects/elsavier/BIDS/derivatives/processed_eeg/sub-06_ses-02_processed-raw.fif...\n",
      "    Range : 0 ... 6025999 =      0.000 ...  6025.999 secs\n",
      "Ready.\n",
      "Reading 0 ... 6025999  =      0.000 ...  6025.999 secs...\n"
     ]
    },
    {
     "data": {
      "text/html": [
       "<pre style=\"white-space:pre;overflow-x:auto;line-height:normal;font-family:Menlo,'DejaVu Sans Mono',consolas,'Courier New',monospace\"> <span style=\"color: #008000; text-decoration-color: #008000; font-weight: bold\">Loading raw data for sub-</span><span style=\"color: #008000; text-decoration-color: #008000; font-weight: bold\">07</span><span style=\"color: #008000; text-decoration-color: #008000; font-weight: bold\">, ses-</span><span style=\"color: #008000; text-decoration-color: #008000; font-weight: bold\">01</span>\n",
       "</pre>\n"
      ],
      "text/plain": [
       " \u001b[1;32mLoading raw data for sub-\u001b[0m\u001b[1;32m07\u001b[0m\u001b[1;32m, ses-\u001b[0m\u001b[1;32m01\u001b[0m\n"
      ]
     },
     "metadata": {},
     "output_type": "display_data"
    },
    {
     "data": {
      "text/html": [
       "<pre style=\"white-space:pre;overflow-x:auto;line-height:normal;font-family:Menlo,'DejaVu Sans Mono',consolas,'Courier New',monospace\"><span style=\"color: #808000; text-decoration-color: #808000\">╭─────────────────────────────────────────╮</span>\n",
       "<span style=\"color: #808000; text-decoration-color: #808000\">│</span> 🚀 <span style=\"color: #808000; text-decoration-color: #808000; font-weight: bold\">Initializing BIDSDatasetReader Class</span> <span style=\"color: #808000; text-decoration-color: #808000\">│</span>\n",
       "<span style=\"color: #808000; text-decoration-color: #808000\">╰─────────────────────────────────────────╯</span>\n",
       "</pre>\n"
      ],
      "text/plain": [
       "\u001b[33m╭─────────────────────────────────────────╮\u001b[0m\n",
       "\u001b[33m│\u001b[0m 🚀 \u001b[1;33mInitializing BIDSDatasetReader Class\u001b[0m \u001b[33m│\u001b[0m\n",
       "\u001b[33m╰─────────────────────────────────────────╯\u001b[0m\n"
      ]
     },
     "metadata": {},
     "output_type": "display_data"
    },
    {
     "data": {
      "text/html": [
       "<pre style=\"white-space:pre;overflow-x:auto;line-height:normal;font-family:Menlo,'DejaVu Sans Mono',consolas,'Courier New',monospace\"> <span style=\"color: #008000; text-decoration-color: #008000; font-weight: bold\">Loading Processed EEG Data</span>\n",
       "</pre>\n"
      ],
      "text/plain": [
       " \u001b[1;32mLoading Processed EEG Data\u001b[0m\n"
      ]
     },
     "metadata": {},
     "output_type": "display_data"
    },
    {
     "name": "stdout",
     "output_type": "stream",
     "text": [
      "Opening raw data file /home/owaismujtaba/projects/elsavier/BIDS/derivatives/processed_eeg/sub-07_ses-01_processed-raw.fif...\n",
      "    Range : 0 ... 5999999 =      0.000 ...  5999.999 secs\n",
      "Ready.\n",
      "Reading 0 ... 5999999  =      0.000 ...  5999.999 secs...\n"
     ]
    },
    {
     "data": {
      "text/html": [
       "<pre style=\"white-space:pre;overflow-x:auto;line-height:normal;font-family:Menlo,'DejaVu Sans Mono',consolas,'Courier New',monospace\"> <span style=\"color: #008000; text-decoration-color: #008000; font-weight: bold\">Loading raw data for sub-</span><span style=\"color: #008000; text-decoration-color: #008000; font-weight: bold\">08</span><span style=\"color: #008000; text-decoration-color: #008000; font-weight: bold\">, ses-</span><span style=\"color: #008000; text-decoration-color: #008000; font-weight: bold\">01</span>\n",
       "</pre>\n"
      ],
      "text/plain": [
       " \u001b[1;32mLoading raw data for sub-\u001b[0m\u001b[1;32m08\u001b[0m\u001b[1;32m, ses-\u001b[0m\u001b[1;32m01\u001b[0m\n"
      ]
     },
     "metadata": {},
     "output_type": "display_data"
    },
    {
     "data": {
      "text/html": [
       "<pre style=\"white-space:pre;overflow-x:auto;line-height:normal;font-family:Menlo,'DejaVu Sans Mono',consolas,'Courier New',monospace\"><span style=\"color: #808000; text-decoration-color: #808000\">╭─────────────────────────────────────────╮</span>\n",
       "<span style=\"color: #808000; text-decoration-color: #808000\">│</span> 🚀 <span style=\"color: #808000; text-decoration-color: #808000; font-weight: bold\">Initializing BIDSDatasetReader Class</span> <span style=\"color: #808000; text-decoration-color: #808000\">│</span>\n",
       "<span style=\"color: #808000; text-decoration-color: #808000\">╰─────────────────────────────────────────╯</span>\n",
       "</pre>\n"
      ],
      "text/plain": [
       "\u001b[33m╭─────────────────────────────────────────╮\u001b[0m\n",
       "\u001b[33m│\u001b[0m 🚀 \u001b[1;33mInitializing BIDSDatasetReader Class\u001b[0m \u001b[33m│\u001b[0m\n",
       "\u001b[33m╰─────────────────────────────────────────╯\u001b[0m\n"
      ]
     },
     "metadata": {},
     "output_type": "display_data"
    },
    {
     "data": {
      "text/html": [
       "<pre style=\"white-space:pre;overflow-x:auto;line-height:normal;font-family:Menlo,'DejaVu Sans Mono',consolas,'Courier New',monospace\"> <span style=\"color: #008000; text-decoration-color: #008000; font-weight: bold\">Loading Processed EEG Data</span>\n",
       "</pre>\n"
      ],
      "text/plain": [
       " \u001b[1;32mLoading Processed EEG Data\u001b[0m\n"
      ]
     },
     "metadata": {},
     "output_type": "display_data"
    },
    {
     "name": "stdout",
     "output_type": "stream",
     "text": [
      "Opening raw data file /home/owaismujtaba/projects/elsavier/BIDS/derivatives/processed_eeg/sub-08_ses-01_processed-raw.fif...\n",
      "    Range : 0 ... 5847999 =      0.000 ...  5847.999 secs\n",
      "Ready.\n",
      "Reading 0 ... 5847999  =      0.000 ...  5847.999 secs...\n"
     ]
    },
    {
     "data": {
      "text/html": [
       "<pre style=\"white-space:pre;overflow-x:auto;line-height:normal;font-family:Menlo,'DejaVu Sans Mono',consolas,'Courier New',monospace\"> <span style=\"color: #008000; text-decoration-color: #008000; font-weight: bold\">Loading raw data for sub-</span><span style=\"color: #008000; text-decoration-color: #008000; font-weight: bold\">09</span><span style=\"color: #008000; text-decoration-color: #008000; font-weight: bold\">, ses-</span><span style=\"color: #008000; text-decoration-color: #008000; font-weight: bold\">01</span>\n",
       "</pre>\n"
      ],
      "text/plain": [
       " \u001b[1;32mLoading raw data for sub-\u001b[0m\u001b[1;32m09\u001b[0m\u001b[1;32m, ses-\u001b[0m\u001b[1;32m01\u001b[0m\n"
      ]
     },
     "metadata": {},
     "output_type": "display_data"
    },
    {
     "data": {
      "text/html": [
       "<pre style=\"white-space:pre;overflow-x:auto;line-height:normal;font-family:Menlo,'DejaVu Sans Mono',consolas,'Courier New',monospace\"><span style=\"color: #808000; text-decoration-color: #808000\">╭─────────────────────────────────────────╮</span>\n",
       "<span style=\"color: #808000; text-decoration-color: #808000\">│</span> 🚀 <span style=\"color: #808000; text-decoration-color: #808000; font-weight: bold\">Initializing BIDSDatasetReader Class</span> <span style=\"color: #808000; text-decoration-color: #808000\">│</span>\n",
       "<span style=\"color: #808000; text-decoration-color: #808000\">╰─────────────────────────────────────────╯</span>\n",
       "</pre>\n"
      ],
      "text/plain": [
       "\u001b[33m╭─────────────────────────────────────────╮\u001b[0m\n",
       "\u001b[33m│\u001b[0m 🚀 \u001b[1;33mInitializing BIDSDatasetReader Class\u001b[0m \u001b[33m│\u001b[0m\n",
       "\u001b[33m╰─────────────────────────────────────────╯\u001b[0m\n"
      ]
     },
     "metadata": {},
     "output_type": "display_data"
    },
    {
     "data": {
      "text/html": [
       "<pre style=\"white-space:pre;overflow-x:auto;line-height:normal;font-family:Menlo,'DejaVu Sans Mono',consolas,'Courier New',monospace\"> <span style=\"color: #008000; text-decoration-color: #008000; font-weight: bold\">Loading Processed EEG Data</span>\n",
       "</pre>\n"
      ],
      "text/plain": [
       " \u001b[1;32mLoading Processed EEG Data\u001b[0m\n"
      ]
     },
     "metadata": {},
     "output_type": "display_data"
    },
    {
     "name": "stdout",
     "output_type": "stream",
     "text": [
      "Opening raw data file /home/owaismujtaba/projects/elsavier/BIDS/derivatives/processed_eeg/sub-09_ses-01_processed-raw.fif...\n",
      "    Range : 0 ... 6227999 =      0.000 ...  6227.999 secs\n",
      "Ready.\n",
      "Reading 0 ... 6227999  =      0.000 ...  6227.999 secs...\n"
     ]
    },
    {
     "data": {
      "text/html": [
       "<pre style=\"white-space:pre;overflow-x:auto;line-height:normal;font-family:Menlo,'DejaVu Sans Mono',consolas,'Courier New',monospace\"> <span style=\"color: #008000; text-decoration-color: #008000; font-weight: bold\">Loading raw data for sub-</span><span style=\"color: #008000; text-decoration-color: #008000; font-weight: bold\">09</span><span style=\"color: #008000; text-decoration-color: #008000; font-weight: bold\">, ses-</span><span style=\"color: #008000; text-decoration-color: #008000; font-weight: bold\">02</span>\n",
       "</pre>\n"
      ],
      "text/plain": [
       " \u001b[1;32mLoading raw data for sub-\u001b[0m\u001b[1;32m09\u001b[0m\u001b[1;32m, ses-\u001b[0m\u001b[1;32m02\u001b[0m\n"
      ]
     },
     "metadata": {},
     "output_type": "display_data"
    },
    {
     "data": {
      "text/html": [
       "<pre style=\"white-space:pre;overflow-x:auto;line-height:normal;font-family:Menlo,'DejaVu Sans Mono',consolas,'Courier New',monospace\"><span style=\"color: #808000; text-decoration-color: #808000\">╭─────────────────────────────────────────╮</span>\n",
       "<span style=\"color: #808000; text-decoration-color: #808000\">│</span> 🚀 <span style=\"color: #808000; text-decoration-color: #808000; font-weight: bold\">Initializing BIDSDatasetReader Class</span> <span style=\"color: #808000; text-decoration-color: #808000\">│</span>\n",
       "<span style=\"color: #808000; text-decoration-color: #808000\">╰─────────────────────────────────────────╯</span>\n",
       "</pre>\n"
      ],
      "text/plain": [
       "\u001b[33m╭─────────────────────────────────────────╮\u001b[0m\n",
       "\u001b[33m│\u001b[0m 🚀 \u001b[1;33mInitializing BIDSDatasetReader Class\u001b[0m \u001b[33m│\u001b[0m\n",
       "\u001b[33m╰─────────────────────────────────────────╯\u001b[0m\n"
      ]
     },
     "metadata": {},
     "output_type": "display_data"
    },
    {
     "data": {
      "text/html": [
       "<pre style=\"white-space:pre;overflow-x:auto;line-height:normal;font-family:Menlo,'DejaVu Sans Mono',consolas,'Courier New',monospace\"> <span style=\"color: #008000; text-decoration-color: #008000; font-weight: bold\">Loading Processed EEG Data</span>\n",
       "</pre>\n"
      ],
      "text/plain": [
       " \u001b[1;32mLoading Processed EEG Data\u001b[0m\n"
      ]
     },
     "metadata": {},
     "output_type": "display_data"
    },
    {
     "name": "stdout",
     "output_type": "stream",
     "text": [
      "Opening raw data file /home/owaismujtaba/projects/elsavier/BIDS/derivatives/processed_eeg/sub-09_ses-02_processed-raw.fif...\n",
      "    Range : 0 ... 5755999 =      0.000 ...  5755.999 secs\n",
      "Ready.\n",
      "Reading 0 ... 5755999  =      0.000 ...  5755.999 secs...\n"
     ]
    },
    {
     "data": {
      "text/html": [
       "<pre style=\"white-space:pre;overflow-x:auto;line-height:normal;font-family:Menlo,'DejaVu Sans Mono',consolas,'Courier New',monospace\"> <span style=\"color: #008000; text-decoration-color: #008000; font-weight: bold\">Loading raw data for sub-</span><span style=\"color: #008000; text-decoration-color: #008000; font-weight: bold\">10</span><span style=\"color: #008000; text-decoration-color: #008000; font-weight: bold\">, ses-</span><span style=\"color: #008000; text-decoration-color: #008000; font-weight: bold\">01</span>\n",
       "</pre>\n"
      ],
      "text/plain": [
       " \u001b[1;32mLoading raw data for sub-\u001b[0m\u001b[1;32m10\u001b[0m\u001b[1;32m, ses-\u001b[0m\u001b[1;32m01\u001b[0m\n"
      ]
     },
     "metadata": {},
     "output_type": "display_data"
    },
    {
     "data": {
      "text/html": [
       "<pre style=\"white-space:pre;overflow-x:auto;line-height:normal;font-family:Menlo,'DejaVu Sans Mono',consolas,'Courier New',monospace\"><span style=\"color: #808000; text-decoration-color: #808000\">╭─────────────────────────────────────────╮</span>\n",
       "<span style=\"color: #808000; text-decoration-color: #808000\">│</span> 🚀 <span style=\"color: #808000; text-decoration-color: #808000; font-weight: bold\">Initializing BIDSDatasetReader Class</span> <span style=\"color: #808000; text-decoration-color: #808000\">│</span>\n",
       "<span style=\"color: #808000; text-decoration-color: #808000\">╰─────────────────────────────────────────╯</span>\n",
       "</pre>\n"
      ],
      "text/plain": [
       "\u001b[33m╭─────────────────────────────────────────╮\u001b[0m\n",
       "\u001b[33m│\u001b[0m 🚀 \u001b[1;33mInitializing BIDSDatasetReader Class\u001b[0m \u001b[33m│\u001b[0m\n",
       "\u001b[33m╰─────────────────────────────────────────╯\u001b[0m\n"
      ]
     },
     "metadata": {},
     "output_type": "display_data"
    },
    {
     "data": {
      "text/html": [
       "<pre style=\"white-space:pre;overflow-x:auto;line-height:normal;font-family:Menlo,'DejaVu Sans Mono',consolas,'Courier New',monospace\"> <span style=\"color: #008000; text-decoration-color: #008000; font-weight: bold\">Loading Processed EEG Data</span>\n",
       "</pre>\n"
      ],
      "text/plain": [
       " \u001b[1;32mLoading Processed EEG Data\u001b[0m\n"
      ]
     },
     "metadata": {},
     "output_type": "display_data"
    },
    {
     "name": "stdout",
     "output_type": "stream",
     "text": [
      "Opening raw data file /home/owaismujtaba/projects/elsavier/BIDS/derivatives/processed_eeg/sub-10_ses-01_processed-raw.fif...\n",
      "    Range : 0 ... 6179999 =      0.000 ...  6179.999 secs\n",
      "Ready.\n",
      "Reading 0 ... 6179999  =      0.000 ...  6179.999 secs...\n"
     ]
    },
    {
     "data": {
      "text/html": [
       "<pre style=\"white-space:pre;overflow-x:auto;line-height:normal;font-family:Menlo,'DejaVu Sans Mono',consolas,'Courier New',monospace\"> <span style=\"color: #008000; text-decoration-color: #008000; font-weight: bold\">Loading raw data for sub-</span><span style=\"color: #008000; text-decoration-color: #008000; font-weight: bold\">11</span><span style=\"color: #008000; text-decoration-color: #008000; font-weight: bold\">, ses-</span><span style=\"color: #008000; text-decoration-color: #008000; font-weight: bold\">01</span>\n",
       "</pre>\n"
      ],
      "text/plain": [
       " \u001b[1;32mLoading raw data for sub-\u001b[0m\u001b[1;32m11\u001b[0m\u001b[1;32m, ses-\u001b[0m\u001b[1;32m01\u001b[0m\n"
      ]
     },
     "metadata": {},
     "output_type": "display_data"
    },
    {
     "data": {
      "text/html": [
       "<pre style=\"white-space:pre;overflow-x:auto;line-height:normal;font-family:Menlo,'DejaVu Sans Mono',consolas,'Courier New',monospace\"><span style=\"color: #808000; text-decoration-color: #808000\">╭─────────────────────────────────────────╮</span>\n",
       "<span style=\"color: #808000; text-decoration-color: #808000\">│</span> 🚀 <span style=\"color: #808000; text-decoration-color: #808000; font-weight: bold\">Initializing BIDSDatasetReader Class</span> <span style=\"color: #808000; text-decoration-color: #808000\">│</span>\n",
       "<span style=\"color: #808000; text-decoration-color: #808000\">╰─────────────────────────────────────────╯</span>\n",
       "</pre>\n"
      ],
      "text/plain": [
       "\u001b[33m╭─────────────────────────────────────────╮\u001b[0m\n",
       "\u001b[33m│\u001b[0m 🚀 \u001b[1;33mInitializing BIDSDatasetReader Class\u001b[0m \u001b[33m│\u001b[0m\n",
       "\u001b[33m╰─────────────────────────────────────────╯\u001b[0m\n"
      ]
     },
     "metadata": {},
     "output_type": "display_data"
    },
    {
     "data": {
      "text/html": [
       "<pre style=\"white-space:pre;overflow-x:auto;line-height:normal;font-family:Menlo,'DejaVu Sans Mono',consolas,'Courier New',monospace\"> <span style=\"color: #008000; text-decoration-color: #008000; font-weight: bold\">Loading Processed EEG Data</span>\n",
       "</pre>\n"
      ],
      "text/plain": [
       " \u001b[1;32mLoading Processed EEG Data\u001b[0m\n"
      ]
     },
     "metadata": {},
     "output_type": "display_data"
    },
    {
     "name": "stdout",
     "output_type": "stream",
     "text": [
      "Opening raw data file /home/owaismujtaba/projects/elsavier/BIDS/derivatives/processed_eeg/sub-11_ses-01_processed-raw.fif...\n",
      "    Range : 0 ... 6050999 =      0.000 ...  6050.999 secs\n",
      "Ready.\n",
      "Reading 0 ... 6050999  =      0.000 ...  6050.999 secs...\n"
     ]
    },
    {
     "data": {
      "text/html": [
       "<pre style=\"white-space:pre;overflow-x:auto;line-height:normal;font-family:Menlo,'DejaVu Sans Mono',consolas,'Courier New',monospace\"> <span style=\"color: #008000; text-decoration-color: #008000; font-weight: bold\">Loading raw data for sub-</span><span style=\"color: #008000; text-decoration-color: #008000; font-weight: bold\">12</span><span style=\"color: #008000; text-decoration-color: #008000; font-weight: bold\">, ses-</span><span style=\"color: #008000; text-decoration-color: #008000; font-weight: bold\">01</span>\n",
       "</pre>\n"
      ],
      "text/plain": [
       " \u001b[1;32mLoading raw data for sub-\u001b[0m\u001b[1;32m12\u001b[0m\u001b[1;32m, ses-\u001b[0m\u001b[1;32m01\u001b[0m\n"
      ]
     },
     "metadata": {},
     "output_type": "display_data"
    },
    {
     "data": {
      "text/html": [
       "<pre style=\"white-space:pre;overflow-x:auto;line-height:normal;font-family:Menlo,'DejaVu Sans Mono',consolas,'Courier New',monospace\"><span style=\"color: #808000; text-decoration-color: #808000\">╭─────────────────────────────────────────╮</span>\n",
       "<span style=\"color: #808000; text-decoration-color: #808000\">│</span> 🚀 <span style=\"color: #808000; text-decoration-color: #808000; font-weight: bold\">Initializing BIDSDatasetReader Class</span> <span style=\"color: #808000; text-decoration-color: #808000\">│</span>\n",
       "<span style=\"color: #808000; text-decoration-color: #808000\">╰─────────────────────────────────────────╯</span>\n",
       "</pre>\n"
      ],
      "text/plain": [
       "\u001b[33m╭─────────────────────────────────────────╮\u001b[0m\n",
       "\u001b[33m│\u001b[0m 🚀 \u001b[1;33mInitializing BIDSDatasetReader Class\u001b[0m \u001b[33m│\u001b[0m\n",
       "\u001b[33m╰─────────────────────────────────────────╯\u001b[0m\n"
      ]
     },
     "metadata": {},
     "output_type": "display_data"
    },
    {
     "data": {
      "text/html": [
       "<pre style=\"white-space:pre;overflow-x:auto;line-height:normal;font-family:Menlo,'DejaVu Sans Mono',consolas,'Courier New',monospace\"> <span style=\"color: #008000; text-decoration-color: #008000; font-weight: bold\">Loading Processed EEG Data</span>\n",
       "</pre>\n"
      ],
      "text/plain": [
       " \u001b[1;32mLoading Processed EEG Data\u001b[0m\n"
      ]
     },
     "metadata": {},
     "output_type": "display_data"
    },
    {
     "name": "stdout",
     "output_type": "stream",
     "text": [
      "Opening raw data file /home/owaismujtaba/projects/elsavier/BIDS/derivatives/processed_eeg/sub-12_ses-01_processed-raw.fif...\n",
      "    Range : 0 ... 6990999 =      0.000 ...  6990.999 secs\n",
      "Ready.\n",
      "Reading 0 ... 6990999  =      0.000 ...  6990.999 secs...\n"
     ]
    },
    {
     "data": {
      "text/html": [
       "<pre style=\"white-space:pre;overflow-x:auto;line-height:normal;font-family:Menlo,'DejaVu Sans Mono',consolas,'Courier New',monospace\"> <span style=\"color: #008000; text-decoration-color: #008000; font-weight: bold\">Loading raw data for sub-</span><span style=\"color: #008000; text-decoration-color: #008000; font-weight: bold\">12</span><span style=\"color: #008000; text-decoration-color: #008000; font-weight: bold\">, ses-</span><span style=\"color: #008000; text-decoration-color: #008000; font-weight: bold\">02</span>\n",
       "</pre>\n"
      ],
      "text/plain": [
       " \u001b[1;32mLoading raw data for sub-\u001b[0m\u001b[1;32m12\u001b[0m\u001b[1;32m, ses-\u001b[0m\u001b[1;32m02\u001b[0m\n"
      ]
     },
     "metadata": {},
     "output_type": "display_data"
    },
    {
     "data": {
      "text/html": [
       "<pre style=\"white-space:pre;overflow-x:auto;line-height:normal;font-family:Menlo,'DejaVu Sans Mono',consolas,'Courier New',monospace\"><span style=\"color: #808000; text-decoration-color: #808000\">╭─────────────────────────────────────────╮</span>\n",
       "<span style=\"color: #808000; text-decoration-color: #808000\">│</span> 🚀 <span style=\"color: #808000; text-decoration-color: #808000; font-weight: bold\">Initializing BIDSDatasetReader Class</span> <span style=\"color: #808000; text-decoration-color: #808000\">│</span>\n",
       "<span style=\"color: #808000; text-decoration-color: #808000\">╰─────────────────────────────────────────╯</span>\n",
       "</pre>\n"
      ],
      "text/plain": [
       "\u001b[33m╭─────────────────────────────────────────╮\u001b[0m\n",
       "\u001b[33m│\u001b[0m 🚀 \u001b[1;33mInitializing BIDSDatasetReader Class\u001b[0m \u001b[33m│\u001b[0m\n",
       "\u001b[33m╰─────────────────────────────────────────╯\u001b[0m\n"
      ]
     },
     "metadata": {},
     "output_type": "display_data"
    },
    {
     "data": {
      "text/html": [
       "<pre style=\"white-space:pre;overflow-x:auto;line-height:normal;font-family:Menlo,'DejaVu Sans Mono',consolas,'Courier New',monospace\"> <span style=\"color: #008000; text-decoration-color: #008000; font-weight: bold\">Loading Processed EEG Data</span>\n",
       "</pre>\n"
      ],
      "text/plain": [
       " \u001b[1;32mLoading Processed EEG Data\u001b[0m\n"
      ]
     },
     "metadata": {},
     "output_type": "display_data"
    },
    {
     "name": "stdout",
     "output_type": "stream",
     "text": [
      "Opening raw data file /home/owaismujtaba/projects/elsavier/BIDS/derivatives/processed_eeg/sub-12_ses-02_processed-raw.fif...\n",
      "    Range : 0 ... 7404999 =      0.000 ...  7404.999 secs\n",
      "Ready.\n",
      "Reading 0 ... 7404999  =      0.000 ...  7404.999 secs...\n"
     ]
    },
    {
     "data": {
      "text/html": [
       "<pre style=\"white-space:pre;overflow-x:auto;line-height:normal;font-family:Menlo,'DejaVu Sans Mono',consolas,'Courier New',monospace\"> <span style=\"color: #008000; text-decoration-color: #008000; font-weight: bold\">Loading raw data for sub-</span><span style=\"color: #008000; text-decoration-color: #008000; font-weight: bold\">13</span><span style=\"color: #008000; text-decoration-color: #008000; font-weight: bold\">, ses-</span><span style=\"color: #008000; text-decoration-color: #008000; font-weight: bold\">01</span>\n",
       "</pre>\n"
      ],
      "text/plain": [
       " \u001b[1;32mLoading raw data for sub-\u001b[0m\u001b[1;32m13\u001b[0m\u001b[1;32m, ses-\u001b[0m\u001b[1;32m01\u001b[0m\n"
      ]
     },
     "metadata": {},
     "output_type": "display_data"
    },
    {
     "data": {
      "text/html": [
       "<pre style=\"white-space:pre;overflow-x:auto;line-height:normal;font-family:Menlo,'DejaVu Sans Mono',consolas,'Courier New',monospace\"><span style=\"color: #808000; text-decoration-color: #808000\">╭─────────────────────────────────────────╮</span>\n",
       "<span style=\"color: #808000; text-decoration-color: #808000\">│</span> 🚀 <span style=\"color: #808000; text-decoration-color: #808000; font-weight: bold\">Initializing BIDSDatasetReader Class</span> <span style=\"color: #808000; text-decoration-color: #808000\">│</span>\n",
       "<span style=\"color: #808000; text-decoration-color: #808000\">╰─────────────────────────────────────────╯</span>\n",
       "</pre>\n"
      ],
      "text/plain": [
       "\u001b[33m╭─────────────────────────────────────────╮\u001b[0m\n",
       "\u001b[33m│\u001b[0m 🚀 \u001b[1;33mInitializing BIDSDatasetReader Class\u001b[0m \u001b[33m│\u001b[0m\n",
       "\u001b[33m╰─────────────────────────────────────────╯\u001b[0m\n"
      ]
     },
     "metadata": {},
     "output_type": "display_data"
    },
    {
     "data": {
      "text/html": [
       "<pre style=\"white-space:pre;overflow-x:auto;line-height:normal;font-family:Menlo,'DejaVu Sans Mono',consolas,'Courier New',monospace\"> <span style=\"color: #008000; text-decoration-color: #008000; font-weight: bold\">Loading Processed EEG Data</span>\n",
       "</pre>\n"
      ],
      "text/plain": [
       " \u001b[1;32mLoading Processed EEG Data\u001b[0m\n"
      ]
     },
     "metadata": {},
     "output_type": "display_data"
    },
    {
     "name": "stdout",
     "output_type": "stream",
     "text": [
      "Opening raw data file /home/owaismujtaba/projects/elsavier/BIDS/derivatives/processed_eeg/sub-13_ses-01_processed-raw.fif...\n",
      "    Range : 0 ... 7201999 =      0.000 ...  7201.999 secs\n",
      "Ready.\n",
      "Reading 0 ... 7201999  =      0.000 ...  7201.999 secs...\n"
     ]
    },
    {
     "data": {
      "text/html": [
       "<pre style=\"white-space:pre;overflow-x:auto;line-height:normal;font-family:Menlo,'DejaVu Sans Mono',consolas,'Courier New',monospace\"> <span style=\"color: #008000; text-decoration-color: #008000; font-weight: bold\">Loading raw data for sub-</span><span style=\"color: #008000; text-decoration-color: #008000; font-weight: bold\">13</span><span style=\"color: #008000; text-decoration-color: #008000; font-weight: bold\">, ses-</span><span style=\"color: #008000; text-decoration-color: #008000; font-weight: bold\">02</span>\n",
       "</pre>\n"
      ],
      "text/plain": [
       " \u001b[1;32mLoading raw data for sub-\u001b[0m\u001b[1;32m13\u001b[0m\u001b[1;32m, ses-\u001b[0m\u001b[1;32m02\u001b[0m\n"
      ]
     },
     "metadata": {},
     "output_type": "display_data"
    },
    {
     "data": {
      "text/html": [
       "<pre style=\"white-space:pre;overflow-x:auto;line-height:normal;font-family:Menlo,'DejaVu Sans Mono',consolas,'Courier New',monospace\"><span style=\"color: #808000; text-decoration-color: #808000\">╭─────────────────────────────────────────╮</span>\n",
       "<span style=\"color: #808000; text-decoration-color: #808000\">│</span> 🚀 <span style=\"color: #808000; text-decoration-color: #808000; font-weight: bold\">Initializing BIDSDatasetReader Class</span> <span style=\"color: #808000; text-decoration-color: #808000\">│</span>\n",
       "<span style=\"color: #808000; text-decoration-color: #808000\">╰─────────────────────────────────────────╯</span>\n",
       "</pre>\n"
      ],
      "text/plain": [
       "\u001b[33m╭─────────────────────────────────────────╮\u001b[0m\n",
       "\u001b[33m│\u001b[0m 🚀 \u001b[1;33mInitializing BIDSDatasetReader Class\u001b[0m \u001b[33m│\u001b[0m\n",
       "\u001b[33m╰─────────────────────────────────────────╯\u001b[0m\n"
      ]
     },
     "metadata": {},
     "output_type": "display_data"
    },
    {
     "data": {
      "text/html": [
       "<pre style=\"white-space:pre;overflow-x:auto;line-height:normal;font-family:Menlo,'DejaVu Sans Mono',consolas,'Courier New',monospace\"> <span style=\"color: #008000; text-decoration-color: #008000; font-weight: bold\">Loading Processed EEG Data</span>\n",
       "</pre>\n"
      ],
      "text/plain": [
       " \u001b[1;32mLoading Processed EEG Data\u001b[0m\n"
      ]
     },
     "metadata": {},
     "output_type": "display_data"
    },
    {
     "name": "stdout",
     "output_type": "stream",
     "text": [
      "Opening raw data file /home/owaismujtaba/projects/elsavier/BIDS/derivatives/processed_eeg/sub-13_ses-02_processed-raw.fif...\n",
      "    Range : 0 ... 6910999 =      0.000 ...  6910.999 secs\n",
      "Ready.\n",
      "Reading 0 ... 6910999  =      0.000 ...  6910.999 secs...\n"
     ]
    },
    {
     "data": {
      "text/html": [
       "<pre style=\"white-space:pre;overflow-x:auto;line-height:normal;font-family:Menlo,'DejaVu Sans Mono',consolas,'Courier New',monospace\"> <span style=\"color: #008000; text-decoration-color: #008000; font-weight: bold\">Loading raw data for sub-</span><span style=\"color: #008000; text-decoration-color: #008000; font-weight: bold\">14</span><span style=\"color: #008000; text-decoration-color: #008000; font-weight: bold\">, ses-</span><span style=\"color: #008000; text-decoration-color: #008000; font-weight: bold\">01</span>\n",
       "</pre>\n"
      ],
      "text/plain": [
       " \u001b[1;32mLoading raw data for sub-\u001b[0m\u001b[1;32m14\u001b[0m\u001b[1;32m, ses-\u001b[0m\u001b[1;32m01\u001b[0m\n"
      ]
     },
     "metadata": {},
     "output_type": "display_data"
    },
    {
     "data": {
      "text/html": [
       "<pre style=\"white-space:pre;overflow-x:auto;line-height:normal;font-family:Menlo,'DejaVu Sans Mono',consolas,'Courier New',monospace\"><span style=\"color: #808000; text-decoration-color: #808000\">╭─────────────────────────────────────────╮</span>\n",
       "<span style=\"color: #808000; text-decoration-color: #808000\">│</span> 🚀 <span style=\"color: #808000; text-decoration-color: #808000; font-weight: bold\">Initializing BIDSDatasetReader Class</span> <span style=\"color: #808000; text-decoration-color: #808000\">│</span>\n",
       "<span style=\"color: #808000; text-decoration-color: #808000\">╰─────────────────────────────────────────╯</span>\n",
       "</pre>\n"
      ],
      "text/plain": [
       "\u001b[33m╭─────────────────────────────────────────╮\u001b[0m\n",
       "\u001b[33m│\u001b[0m 🚀 \u001b[1;33mInitializing BIDSDatasetReader Class\u001b[0m \u001b[33m│\u001b[0m\n",
       "\u001b[33m╰─────────────────────────────────────────╯\u001b[0m\n"
      ]
     },
     "metadata": {},
     "output_type": "display_data"
    },
    {
     "data": {
      "text/html": [
       "<pre style=\"white-space:pre;overflow-x:auto;line-height:normal;font-family:Menlo,'DejaVu Sans Mono',consolas,'Courier New',monospace\"> <span style=\"color: #008000; text-decoration-color: #008000; font-weight: bold\">Loading Processed EEG Data</span>\n",
       "</pre>\n"
      ],
      "text/plain": [
       " \u001b[1;32mLoading Processed EEG Data\u001b[0m\n"
      ]
     },
     "metadata": {},
     "output_type": "display_data"
    },
    {
     "name": "stdout",
     "output_type": "stream",
     "text": [
      "Opening raw data file /home/owaismujtaba/projects/elsavier/BIDS/derivatives/processed_eeg/sub-14_ses-01_processed-raw.fif...\n",
      "    Range : 0 ... 8229999 =      0.000 ...  8229.999 secs\n",
      "Ready.\n",
      "Reading 0 ... 8229999  =      0.000 ...  8229.999 secs...\n"
     ]
    },
    {
     "data": {
      "text/plain": [
       "{('01',\n",
       "  '01'): <Raw | sub-01_ses-01_processed-raw.fif, 64 x 6307000 (6307.0 s), ~3.01 GiB, data loaded>,\n",
       " ('02',\n",
       "  '01'): <Raw | sub-02_ses-01_processed-raw.fif, 64 x 6466000 (6466.0 s), ~3.08 GiB, data loaded>,\n",
       " ('03',\n",
       "  '01'): <Raw | sub-03_ses-01_processed-raw.fif, 64 x 6128000 (6128.0 s), ~2.92 GiB, data loaded>,\n",
       " ('04',\n",
       "  '01'): <Raw | sub-04_ses-01_processed-raw.fif, 64 x 7079000 (7079.0 s), ~3.38 GiB, data loaded>,\n",
       " ('04',\n",
       "  '02'): <Raw | sub-04_ses-02_processed-raw.fif, 64 x 6421000 (6421.0 s), ~3.06 GiB, data loaded>,\n",
       " ('05',\n",
       "  '01'): <Raw | sub-05_ses-01_processed-raw.fif, 64 x 5887000 (5887.0 s), ~2.81 GiB, data loaded>,\n",
       " ('05',\n",
       "  '02'): <Raw | sub-05_ses-02_processed-raw.fif, 64 x 5733000 (5733.0 s), ~2.73 GiB, data loaded>,\n",
       " ('06',\n",
       "  '01'): <Raw | sub-06_ses-01_processed-raw.fif, 64 x 6604000 (6604.0 s), ~3.15 GiB, data loaded>,\n",
       " ('06',\n",
       "  '02'): <Raw | sub-06_ses-02_processed-raw.fif, 64 x 6026000 (6026.0 s), ~2.87 GiB, data loaded>,\n",
       " ('07',\n",
       "  '01'): <Raw | sub-07_ses-01_processed-raw.fif, 64 x 6000000 (6000.0 s), ~2.86 GiB, data loaded>,\n",
       " ('08',\n",
       "  '01'): <Raw | sub-08_ses-01_processed-raw.fif, 64 x 5848000 (5848.0 s), ~2.79 GiB, data loaded>,\n",
       " ('09',\n",
       "  '01'): <Raw | sub-09_ses-01_processed-raw.fif, 64 x 6228000 (6228.0 s), ~2.97 GiB, data loaded>,\n",
       " ('09',\n",
       "  '02'): <Raw | sub-09_ses-02_processed-raw.fif, 64 x 5756000 (5756.0 s), ~2.74 GiB, data loaded>,\n",
       " ('10',\n",
       "  '01'): <Raw | sub-10_ses-01_processed-raw.fif, 64 x 6180000 (6180.0 s), ~2.95 GiB, data loaded>,\n",
       " ('11',\n",
       "  '01'): <Raw | sub-11_ses-01_processed-raw.fif, 64 x 6051000 (6051.0 s), ~2.89 GiB, data loaded>,\n",
       " ('12',\n",
       "  '01'): <Raw | sub-12_ses-01_processed-raw.fif, 64 x 6991000 (6991.0 s), ~3.33 GiB, data loaded>,\n",
       " ('12',\n",
       "  '02'): <Raw | sub-12_ses-02_processed-raw.fif, 64 x 7405000 (7405.0 s), ~3.53 GiB, data loaded>,\n",
       " ('13',\n",
       "  '01'): <Raw | sub-13_ses-01_processed-raw.fif, 64 x 7202000 (7202.0 s), ~3.43 GiB, data loaded>,\n",
       " ('13',\n",
       "  '02'): <Raw | sub-13_ses-02_processed-raw.fif, 64 x 6911000 (6911.0 s), ~3.30 GiB, data loaded>,\n",
       " ('14',\n",
       "  '01'): <Raw | sub-14_ses-01_processed-raw.fif, 64 x 8230000 (8230.0 s), ~3.92 GiB, data loaded>}"
      ]
     },
     "execution_count": 3,
     "metadata": {},
     "output_type": "execute_result"
    }
   ],
   "source": [
    "registary = Registery()\n",
    "registary.raw_data"
   ]
  },
  {
   "cell_type": "code",
   "execution_count": 4,
   "metadata": {},
   "outputs": [
    {
     "data": {
      "text/html": [
       "<script type=\"text/javascript\">\n",
       "    // must be `var` (not `const`) because this can get embedded multiple times on a page\n",
       "var toggleVisibility = (className) => {\n",
       "\n",
       "    const elements = document.querySelectorAll(`.${className}`);\n",
       "\n",
       "    elements.forEach(element => {\n",
       "        if (element.classList.contains(\"mne-repr-section-header\")) {\n",
       "            return  // Don't collapse the section header row\n",
       "        }\n",
       "        element.classList.toggle(\"mne-repr-collapsed\");\n",
       "    });\n",
       "\n",
       "    // trigger caret to rotate\n",
       "    var sel = `.mne-repr-section-header.${className} > th.mne-repr-section-toggle > button`;\n",
       "    const button = document.querySelector(sel);\n",
       "    button.classList.toggle(\"collapsed\");\n",
       "\n",
       "    // adjust tooltip\n",
       "    sel = `tr.mne-repr-section-header.${className}`;\n",
       "    const secHeadRow = document.querySelector(sel);\n",
       "    secHeadRow.classList.toggle(\"collapsed\");\n",
       "    secHeadRow.title = secHeadRow.title === \"Hide section\" ? \"Show section\" : \"Hide section\";\n",
       "}\n",
       "</script>\n",
       "\n",
       "<style type=\"text/css\">\n",
       "    /*\n",
       "Styles in this section apply both to the sphinx-built website docs and to notebooks\n",
       "rendered in an IDE or in Jupyter. In our web docs, styles here are complemented by\n",
       "doc/_static/styles.css and other CSS files (e.g. from the sphinx theme, sphinx-gallery,\n",
       "or bootstrap). In IDEs/Jupyter, those style files are unavailable, so only the rules in\n",
       "this file apply (plus whatever default styling the IDE applies).\n",
       "*/\n",
       ".mne-repr-table {\n",
       "    display: inline;  /* prevent using full container width */\n",
       "}\n",
       ".mne-repr-table tr.mne-repr-section-header > th {\n",
       "    padding-top: 1rem;\n",
       "    text-align: left;\n",
       "    vertical-align: middle;\n",
       "}\n",
       ".mne-repr-section-toggle > button {\n",
       "    all: unset;\n",
       "    display: block;\n",
       "    height: 1rem;\n",
       "    width: 1rem;\n",
       "}\n",
       ".mne-repr-section-toggle > button > svg {\n",
       "    height: 60%;\n",
       "}\n",
       "\n",
       "/* transition (rotation) effects on the collapser button */\n",
       ".mne-repr-section-toggle > button.collapsed > svg {\n",
       "    transition: 0.1s ease-out;\n",
       "    transform: rotate(-90deg);\n",
       "}\n",
       ".mne-repr-section-toggle > button:not(.collapsed) > svg {\n",
       "    transition: 0.1s ease-out;\n",
       "    transform: rotate(0deg);\n",
       "}\n",
       "\n",
       "/* hide collapsed table rows */\n",
       ".mne-repr-collapsed {\n",
       "    display: none;\n",
       "}\n",
       "\n",
       "\n",
       "@layer {\n",
       "    /*\n",
       "    Selectors in a `@layer` will always be lower-precedence than selectors outside the\n",
       "    layer. So even though e.g. `div.output_html` is present in the sphinx-rendered\n",
       "    website docs, the styles here won't take effect there as long as some other rule\n",
       "    somewhere in the page's CSS targets the same element.\n",
       "\n",
       "    In IDEs or Jupyter notebooks, though, the CSS files from the sphinx theme,\n",
       "    sphinx-gallery, and bootstrap are unavailable, so these styles will apply.\n",
       "\n",
       "    Notes:\n",
       "\n",
       "    - the selector `.accordion-body` is for MNE Reports\n",
       "    - the selector `.output_html` is for VSCode's notebook interface\n",
       "    - the selector `.jp-RenderedHTML` is for Jupyter notebook\n",
       "    - variables starting with `--theme-` are VSCode-specific.\n",
       "    - variables starting with `--jp-` are Jupyter styles, *some of which* are also\n",
       "      available in VSCode. Here we try the `--theme-` variable first, then fall back to\n",
       "      the `--jp-` ones.\n",
       "    */\n",
       "    .mne-repr-table {\n",
       "        --mne-toggle-color: var(--theme-foreground, var(--jp-ui-font-color1));\n",
       "        --mne-button-bg-color: var(--theme-button-background, var(--jp-info-color0, var(--jp-content-link-color)));\n",
       "        --mne-button-fg-color: var(--theme-button-foreground, var(--jp-ui-inverse-font-color0, var(--jp-editor-background)));\n",
       "        --mne-button-hover-bg-color: var(--theme-button-hover-background, var(--jp-info-color1));\n",
       "        --mne-button-radius: var(--jp-border-radius, 0.25rem);\n",
       "    }\n",
       "    /* chevron position/alignment; in VSCode it looks ok without adjusting */\n",
       "    .accordion-body .mne-repr-section-toggle > button,\n",
       "    .jp-RenderedHTML .mne-repr-section-toggle > button {\n",
       "        padding: 0 0 45% 25% !important;\n",
       "    }\n",
       "    /* chevron color; MNE Report doesn't have light/dark mode */\n",
       "    div.output_html .mne-repr-section-toggle > button > svg > path,\n",
       "    .jp-RenderedHTML .mne-repr-section-toggle > button > svg > path {\n",
       "        fill: var(--mne-toggle-color);\n",
       "    }\n",
       "    .accordion-body .mne-ch-names-btn,\n",
       "    div.output_html .mne-ch-names-btn,\n",
       "    .jp-RenderedHTML .mne-ch-names-btn {\n",
       "        -webkit-border-radius: var(--mne-button-radius);\n",
       "        -moz-border-radius: var(--mne-button-radius);\n",
       "        border-radius: var(--mne-button-radius);\n",
       "        border: none;\n",
       "        background-image: none;\n",
       "        background-color: var(--mne-button-bg-color);\n",
       "        color: var(--mne-button-fg-color);\n",
       "        font-size: inherit;\n",
       "        min-width: 1.5rem;\n",
       "        padding: 0.25rem;\n",
       "        text-align: center;\n",
       "        text-decoration: none;\n",
       "    }\n",
       "    .accordion-body .mne-ch-names-btn:hover,\n",
       "    div.output_html .mne.ch-names-btn:hover,\n",
       "    .jp-RenderedHTML .mne-ch-names-btn:hover {\n",
       "        background-color: var(--mne-button-hover-bg-color);\n",
       "        text-decoration: underline;\n",
       "    }\n",
       "    .accordion-body .mne-ch-names-btn:focus-visible,\n",
       "    div.output_html .mne-ch-names-btn:focus-visible,\n",
       "    .jp-RenderedHTML .mne-ch-names-btn:focus-visible {\n",
       "        outline: 0.1875rem solid var(--mne-button-bg-color) !important;\n",
       "        outline-offset: 0.1875rem !important;\n",
       "    }\n",
       "}\n",
       "</style>\n",
       "\n",
       "\n",
       "\n",
       "<table class=\"table mne-repr-table\">\n",
       "    \n",
       "\n",
       "\n",
       "\n",
       "\n",
       "\n",
       "\n",
       "\n",
       "<tr class=\"mne-repr-section-header general-3285a2d7-811b-47f1-817a-5d83e1ee9f58\"\n",
       "     title=\"Hide section\" \n",
       "    onclick=\"toggleVisibility('general-3285a2d7-811b-47f1-817a-5d83e1ee9f58')\">\n",
       "    <th class=\"mne-repr-section-toggle\">\n",
       "        <button >\n",
       "            <svg xmlns=\"http://www.w3.org/2000/svg\" viewBox=\"0 0 512 512\"><!--!Font Awesome Free 6.6.0 by @fontawesome - https://fontawesome.com License - https://fontawesome.com/license/free Copyright 2024 Fonticons, Inc.--><path d=\"M233.4 406.6c12.5 12.5 32.8 12.5 45.3 0l192-192c12.5-12.5 12.5-32.8 0-45.3s-32.8-12.5-45.3 0L256 338.7 86.6 169.4c-12.5-12.5-32.8-12.5-45.3 0s-12.5 32.8 0 45.3l192 192z\"/></svg>\n",
       "        </button>\n",
       "    </th>\n",
       "    <th colspan=\"2\">\n",
       "        <strong>General</strong>\n",
       "    </th>\n",
       "</tr>\n",
       "\n",
       "\n",
       "<tr class=\"repr-element general-3285a2d7-811b-47f1-817a-5d83e1ee9f58 \">\n",
       "    <td class=\"mne-repr-section-toggle\"></td>\n",
       "    <td>Filename(s)</td>\n",
       "    <td>\n",
       "        \n",
       "        sub-01_ses-01_processed-raw.fif\n",
       "        \n",
       "        \n",
       "    </td>\n",
       "</tr>\n",
       "\n",
       "<tr class=\"repr-element general-3285a2d7-811b-47f1-817a-5d83e1ee9f58 \">\n",
       "    <td class=\"mne-repr-section-toggle\"></td>\n",
       "    <td>MNE object type</td>\n",
       "    <td>Raw</td>\n",
       "</tr>\n",
       "<tr class=\"repr-element general-3285a2d7-811b-47f1-817a-5d83e1ee9f58 \">\n",
       "    <td class=\"mne-repr-section-toggle\"></td>\n",
       "    <td>Measurement date</td>\n",
       "    \n",
       "    <td>1985-01-01 at 00:00:00 UTC</td>\n",
       "    \n",
       "</tr>\n",
       "<tr class=\"repr-element general-3285a2d7-811b-47f1-817a-5d83e1ee9f58 \">\n",
       "    <td class=\"mne-repr-section-toggle\"></td>\n",
       "    <td>Participant</td>\n",
       "    \n",
       "    \n",
       "    <td>sub-01</td>\n",
       "    \n",
       "    \n",
       "</tr>\n",
       "<tr class=\"repr-element general-3285a2d7-811b-47f1-817a-5d83e1ee9f58 \">\n",
       "    <td class=\"mne-repr-section-toggle\"></td>\n",
       "    <td>Experimenter</td>\n",
       "    \n",
       "    <td>Unknown</td>\n",
       "    \n",
       "</tr>\n",
       "    \n",
       "\n",
       "\n",
       "\n",
       "\n",
       "\n",
       "\n",
       "\n",
       "<tr class=\"mne-repr-section-header acquisition-fb38a5d1-caa8-4928-adf1-e0aeba6a9799\"\n",
       "     title=\"Hide section\" \n",
       "    onclick=\"toggleVisibility('acquisition-fb38a5d1-caa8-4928-adf1-e0aeba6a9799')\">\n",
       "    <th class=\"mne-repr-section-toggle\">\n",
       "        <button >\n",
       "            <svg xmlns=\"http://www.w3.org/2000/svg\" viewBox=\"0 0 512 512\"><!--!Font Awesome Free 6.6.0 by @fontawesome - https://fontawesome.com License - https://fontawesome.com/license/free Copyright 2024 Fonticons, Inc.--><path d=\"M233.4 406.6c12.5 12.5 32.8 12.5 45.3 0l192-192c12.5-12.5 12.5-32.8 0-45.3s-32.8-12.5-45.3 0L256 338.7 86.6 169.4c-12.5-12.5-32.8-12.5-45.3 0s-12.5 32.8 0 45.3l192 192z\"/></svg>\n",
       "        </button>\n",
       "    </th>\n",
       "    <th colspan=\"2\">\n",
       "        <strong>Acquisition</strong>\n",
       "    </th>\n",
       "</tr>\n",
       "\n",
       "\n",
       "<tr class=\"repr-element acquisition-fb38a5d1-caa8-4928-adf1-e0aeba6a9799 \">\n",
       "    <td class=\"mne-repr-section-toggle\"></td>\n",
       "    <td>Duration</td>\n",
       "    <td>01:45:07 (HH:MM:SS)</td>\n",
       "</tr>\n",
       "\n",
       "\n",
       "\n",
       "\n",
       "\n",
       "\n",
       "\n",
       "\n",
       "<tr class=\"repr-element acquisition-fb38a5d1-caa8-4928-adf1-e0aeba6a9799 \">\n",
       "    <td class=\"mne-repr-section-toggle\"></td>\n",
       "    <td>Sampling frequency</td>\n",
       "    <td>1000.00 Hz</td>\n",
       "</tr>\n",
       "\n",
       "\n",
       "<tr class=\"repr-element acquisition-fb38a5d1-caa8-4928-adf1-e0aeba6a9799 \">\n",
       "    <td class=\"mne-repr-section-toggle\"></td>\n",
       "    <td>Time points</td>\n",
       "    <td>6,307,000</td>\n",
       "</tr>\n",
       "\n",
       "\n",
       "    \n",
       "\n",
       "\n",
       "\n",
       "\n",
       "\n",
       "\n",
       "\n",
       "<tr class=\"mne-repr-section-header channels-5f71eafb-acd9-416f-9e9f-9787c5d4b491\"\n",
       "     title=\"Hide section\" \n",
       "    onclick=\"toggleVisibility('channels-5f71eafb-acd9-416f-9e9f-9787c5d4b491')\">\n",
       "    <th class=\"mne-repr-section-toggle\">\n",
       "        <button >\n",
       "            <svg xmlns=\"http://www.w3.org/2000/svg\" viewBox=\"0 0 512 512\"><!--!Font Awesome Free 6.6.0 by @fontawesome - https://fontawesome.com License - https://fontawesome.com/license/free Copyright 2024 Fonticons, Inc.--><path d=\"M233.4 406.6c12.5 12.5 32.8 12.5 45.3 0l192-192c12.5-12.5 12.5-32.8 0-45.3s-32.8-12.5-45.3 0L256 338.7 86.6 169.4c-12.5-12.5-32.8-12.5-45.3 0s-12.5 32.8 0 45.3l192 192z\"/></svg>\n",
       "        </button>\n",
       "    </th>\n",
       "    <th colspan=\"2\">\n",
       "        <strong>Channels</strong>\n",
       "    </th>\n",
       "</tr>\n",
       "\n",
       "\n",
       "    \n",
       "<tr class=\"repr-element channels-5f71eafb-acd9-416f-9e9f-9787c5d4b491 \">\n",
       "    <td class=\"mne-repr-section-toggle\"></td>\n",
       "    <td>EEG</td>\n",
       "    <td>\n",
       "        <button class=\"mne-ch-names-btn sd-sphinx-override sd-btn sd-btn-info sd-text-wrap sd-shadow-sm\" onclick=\"alert('Good EEG:\\n\\nFp1, Fz, F3, F7, FT9, FC5, FC1, C3, T7, CP5, CP1, Pz, P3, P7, O1, Oz, O2, P4, P8, CP6, CP2, Cz, C4, T8, FT10, FC6, FC2, F4, F8, Fp2, AF7, AF3, AFz, F1, F5, FT7, FC3, C1, C5, TP7, CP3, P1, P5, PO7, PO3, POz, PO4, PO8, P6, P2, CPz, CP4, TP8, C6, C2, FC4, FT8, F6, AF8, AF4, F2, FCz')\" title=\"(Click to open in popup)&#13;&#13;Fp1, Fz, F3, F7, FT9, FC5, FC1, C3, T7, CP5, CP1, Pz, P3, P7, O1, Oz, O2, P4, P8, CP6, CP2, Cz, C4, T8, FT10, FC6, FC2, F4, F8, Fp2, AF7, AF3, AFz, F1, F5, FT7, FC3, C1, C5, TP7, CP3, P1, P5, PO7, PO3, POz, PO4, PO8, P6, P2, CPz, CP4, TP8, C6, C2, FC4, FT8, F6, AF8, AF4, F2, FCz\">\n",
       "            62\n",
       "        </button>\n",
       "\n",
       "        \n",
       "    </td>\n",
       "</tr>\n",
       "\n",
       "    \n",
       "<tr class=\"repr-element channels-5f71eafb-acd9-416f-9e9f-9787c5d4b491 \">\n",
       "    <td class=\"mne-repr-section-toggle\"></td>\n",
       "    <td>EOG</td>\n",
       "    <td>\n",
       "        <button class=\"mne-ch-names-btn sd-sphinx-override sd-btn sd-btn-info sd-text-wrap sd-shadow-sm\" onclick=\"alert('Good EOG:\\n\\nEOG1, EOG2')\" title=\"(Click to open in popup)&#13;&#13;EOG1, EOG2\">\n",
       "            2\n",
       "        </button>\n",
       "\n",
       "        \n",
       "    </td>\n",
       "</tr>\n",
       "\n",
       "\n",
       "<tr class=\"repr-element channels-5f71eafb-acd9-416f-9e9f-9787c5d4b491 \">\n",
       "    <td class=\"mne-repr-section-toggle\"></td>\n",
       "    <td>Head & sensor digitization</td>\n",
       "    \n",
       "    <td>65 points</td>\n",
       "    \n",
       "</tr>\n",
       "    \n",
       "\n",
       "\n",
       "\n",
       "\n",
       "\n",
       "\n",
       "\n",
       "<tr class=\"mne-repr-section-header filters-81b1a6b1-f8c1-42f5-97b2-7ceb098428ab\"\n",
       "     title=\"Hide section\" \n",
       "    onclick=\"toggleVisibility('filters-81b1a6b1-f8c1-42f5-97b2-7ceb098428ab')\">\n",
       "    <th class=\"mne-repr-section-toggle\">\n",
       "        <button >\n",
       "            <svg xmlns=\"http://www.w3.org/2000/svg\" viewBox=\"0 0 512 512\"><!--!Font Awesome Free 6.6.0 by @fontawesome - https://fontawesome.com License - https://fontawesome.com/license/free Copyright 2024 Fonticons, Inc.--><path d=\"M233.4 406.6c12.5 12.5 32.8 12.5 45.3 0l192-192c12.5-12.5 12.5-32.8 0-45.3s-32.8-12.5-45.3 0L256 338.7 86.6 169.4c-12.5-12.5-32.8-12.5-45.3 0s-12.5 32.8 0 45.3l192 192z\"/></svg>\n",
       "        </button>\n",
       "    </th>\n",
       "    <th colspan=\"2\">\n",
       "        <strong>Filters</strong>\n",
       "    </th>\n",
       "</tr>\n",
       "\n",
       "\n",
       "<tr class=\"repr-element filters-81b1a6b1-f8c1-42f5-97b2-7ceb098428ab \">\n",
       "    <td class=\"mne-repr-section-toggle\"></td>\n",
       "    <td>Highpass</td>\n",
       "    <td>0.10 Hz</td>\n",
       "</tr>\n",
       "\n",
       "\n",
       "<tr class=\"repr-element filters-81b1a6b1-f8c1-42f5-97b2-7ceb098428ab \">\n",
       "    <td class=\"mne-repr-section-toggle\"></td>\n",
       "    <td>Lowpass</td>\n",
       "    <td>40.00 Hz</td>\n",
       "</tr>\n",
       "\n",
       "\n",
       "</table>"
      ],
      "text/plain": [
       "<Raw | sub-01_ses-01_processed-raw.fif, 64 x 6307000 (6307.0 s), ~3.01 GiB, data loaded>"
      ]
     },
     "execution_count": 4,
     "metadata": {},
     "output_type": "execute_result"
    }
   ],
   "source": [
    "sub = registary.raw_data[('01', '01')]\n",
    "sub"
   ]
  },
  {
   "cell_type": "code",
   "execution_count": 45,
   "metadata": {},
   "outputs": [],
   "source": [
    "def get_silenece_events(annotations):\n",
    "    criteria = ['Experiment', 'Start', 'Speech' , 'silence']\n",
    "    filtered_events = []\n",
    "    for event in annotations:\n",
    "        if all(criterion in event['description'] for criterion in criteria):\n",
    "            filtered_events.append(event)\n",
    "    return filtered_events\n",
    "def get_overt_speaking_events(annotations):\n",
    "    criteria = ['Real','Words', 'Experiment', 'Start', 'Speech']\n",
    "    filtered_events = []\n",
    "    for event in annotations:\n",
    "        if all(criterion in event['description'] for criterion in criteria):\n",
    "            if 'silence' not in event['description']:\n",
    "                filtered_events.append(event)\n",
    "    return filtered_events\n",
    "def get_covert_speaking_events(annotations):\n",
    "    criteria = ['Silent','Words', 'Experiment', 'Start', 'Speech']\n",
    "    filtered_events = []\n",
    "    for event in annotations:\n",
    "        if all(criterion in event['description'] for criterion in criteria):\n",
    "            if 'silence' not in event['description']:\n",
    "                filtered_events.append(event)\n",
    "    return filtered_events\n"
   ]
  },
  {
   "cell_type": "code",
   "execution_count": 43,
   "metadata": {},
   "outputs": [],
   "source": [
    "silence_events = get_silenece_events(sub.annotations)\n",
    "overt_events = get_overt_speaking_events(sub.annotations)\n",
    "covert_events = get_covert_speaking_events(sub.annotations)"
   ]
  },
  {
   "cell_type": "code",
   "execution_count": 46,
   "metadata": {},
   "outputs": [
    {
     "name": "stdout",
     "output_type": "stream",
     "text": [
      "SilentWordsExperimentStartSpeech:Audio_cladi\n"
     ]
    }
   ],
   "source": [
    "for item in covert_events:\n",
    "    print(item['description'])\n",
    "    break"
   ]
  },
  {
   "cell_type": "code",
   "execution_count": 9,
   "metadata": {},
   "outputs": [],
   "source": [
    "def create_epochs_for_all(\n",
    "        registery, trial_mode, trial_unit, experiment_mode, \n",
    "        trial_boundary, trial_type, modality, tmin, tmax\n",
    "    ):\n",
    "    styled_print('', 'Creating EPOCHS for all subjects', color='red')\n",
    "    epochs = {}\n",
    "\n",
    "    for (subject, session), raw in registery.raw_data.items():\n",
    "        styled_print('', f'Loading for sub-{subject}, ses-{session}', color='green')\n",
    "        data_loader = DataLoader(\n",
    "            eeg_data=raw, trial_mode=trial_mode, trial_unit=trial_unit,\n",
    "            experiment_mode=experiment_mode, trial_boundary=trial_boundary,\n",
    "            trial_type=trial_type, modality=modality\n",
    "        )\n",
    "        try:\n",
    "            epochs[(subject, session)] = data_loader.create_epochs(tmin=tmin, tmax=tmax)\n",
    "        except Exception as e:\n",
    "            styled_print('', f\"Error processing sub-{subject}, ses-{session}: {e}\", color='yellow')\n",
    "\n",
    "    return epochs\n",
    "\n",
    "\n"
   ]
  },
  {
   "cell_type": "code",
   "execution_count": null,
   "metadata": {},
   "outputs": [],
   "source": [
    "import mne\n",
    "class OvertCoverSilent:\n",
    "    def __init__(self, sub_id, ses_id):\n",
    "        self.sub_id = sub_id\n",
    "        self.ses_id = ses_id\n",
    "        self.tmin=-0.2\n",
    "        self.tmax = 1.0\n",
    "        self.load_data()\n",
    "\n",
    "    def load_data(self):\n",
    "        raw = BIDSDatasetReader(\n",
    "            sub_id=self.sub_id,\n",
    "            ses_id=self.ses_id\n",
    "        )\n",
    "        self.raw = raw.raw\n",
    "\n",
    "\n",
    "    def extract_relevant_events(self):\n",
    "        silence_events = self._get_silenece_events(self.raw.annotations)\n",
    "        overt_events = get_overt_speaking_events(self.raw.annotations)\n",
    "        covert_events = get_covert_speaking_events(self.raw.annotations)\n",
    "\n",
    "\n",
    "        events, event_id_map = self._get_events_info(silence_events)\n",
    "        silence_epochs = mne.Epochs(\n",
    "            self.raw, events=events,\n",
    "            event_id=event_id_map,\n",
    "            tmin=tmin, tmax=tmax, \n",
    "            baseline=(tmin, tmin+0.2),\n",
    "            preload=True\n",
    "        )\n",
    "\n",
    "    def _get_events_info(self, filtered_events):\n",
    "        event_list = []\n",
    "        event_id_map = {} \n",
    "        event_counter = 1\n",
    "\n",
    "        for event in filtered_events:\n",
    "            onset_sample = int(event['onset'] * self.raw.info['sfreq'])  \n",
    "            description = event['description']\n",
    "\n",
    "            if description not in event_id_map:\n",
    "                event_id_map[description] = event_counter\n",
    "                event_counter += 1\n",
    "\n",
    "            event_list.append([onset_sample, 0, event_id_map[description]])\n",
    "\n",
    "        events = np.array(event_list)\n",
    "\n",
    "        return events, event_id_map\n",
    "\n",
    "    def _get_silenece_events(self, annotations):\n",
    "        criteria = ['Experiment', 'Start', 'Speech' , 'silence']\n",
    "        filtered_events = []\n",
    "        for event in annotations:\n",
    "            if all(criterion in event['description'] for criterion in criteria):\n",
    "                filtered_events.append(event)\n",
    "        return filtered_events\n",
    "    \n",
    "    def _get_overt_speaking_events(self, annotations):\n",
    "        criteria = ['Real','Words', 'Experiment', 'Start', 'Speech']\n",
    "        filtered_events = []\n",
    "        for event in annotations:\n",
    "            if all(criterion in event['description'] for criterion in criteria):\n",
    "                if 'silence' not in event['description']:\n",
    "                    filtered_events.append(event)\n",
    "        return filtered_events\n",
    "    \n",
    "    def _get_covert_speaking_events(self, annotations):\n",
    "        criteria = ['Silent','Words', 'Experiment', 'Start', 'Speech']\n",
    "        filtered_events = []\n",
    "        for event in annotations:\n",
    "            if all(criterion in event['description'] for criterion in criteria):\n",
    "                if 'silence' not in event['description']:\n",
    "                    filtered_events.append(event)\n",
    "        return filtered_events\n",
    "\n",
    "        "
   ]
  },
  {
   "cell_type": "code",
   "execution_count": 47,
   "metadata": {},
   "outputs": [
    {
     "data": {
      "text/html": [
       "<pre style=\"white-space:pre;overflow-x:auto;line-height:normal;font-family:Menlo,'DejaVu Sans Mono',consolas,'Courier New',monospace\"><span style=\"color: #808000; text-decoration-color: #808000\">╭─────────────────────────────────────────╮</span>\n",
       "<span style=\"color: #808000; text-decoration-color: #808000\">│</span> 🚀 <span style=\"color: #808000; text-decoration-color: #808000; font-weight: bold\">Initializing BIDSDatasetReader Class</span> <span style=\"color: #808000; text-decoration-color: #808000\">│</span>\n",
       "<span style=\"color: #808000; text-decoration-color: #808000\">╰─────────────────────────────────────────╯</span>\n",
       "</pre>\n"
      ],
      "text/plain": [
       "\u001b[33m╭─────────────────────────────────────────╮\u001b[0m\n",
       "\u001b[33m│\u001b[0m 🚀 \u001b[1;33mInitializing BIDSDatasetReader Class\u001b[0m \u001b[33m│\u001b[0m\n",
       "\u001b[33m╰─────────────────────────────────────────╯\u001b[0m\n"
      ]
     },
     "metadata": {},
     "output_type": "display_data"
    },
    {
     "data": {
      "text/html": [
       "<pre style=\"white-space:pre;overflow-x:auto;line-height:normal;font-family:Menlo,'DejaVu Sans Mono',consolas,'Courier New',monospace\"> <span style=\"color: #008000; text-decoration-color: #008000; font-weight: bold\">Loading Processed EEG Data</span>\n",
       "</pre>\n"
      ],
      "text/plain": [
       " \u001b[1;32mLoading Processed EEG Data\u001b[0m\n"
      ]
     },
     "metadata": {},
     "output_type": "display_data"
    },
    {
     "name": "stdout",
     "output_type": "stream",
     "text": [
      "Opening raw data file /home/owaismujtaba/projects/elsavier/BIDS/derivatives/processed_eeg/sub-01_ses-01_processed-raw.fif...\n",
      "    Range : 0 ... 6306999 =      0.000 ...  6306.999 secs\n",
      "Ready.\n",
      "Reading 0 ... 6306999  =      0.000 ...  6306.999 secs...\n"
     ]
    }
   ],
   "source": [
    "data = BIDSDatasetReader('01', '01')"
   ]
  },
  {
   "cell_type": "code",
   "execution_count": 48,
   "metadata": {},
   "outputs": [
    {
     "data": {
      "text/html": [
       "<script type=\"text/javascript\">\n",
       "    // must be `var` (not `const`) because this can get embedded multiple times on a page\n",
       "var toggleVisibility = (className) => {\n",
       "\n",
       "    const elements = document.querySelectorAll(`.${className}`);\n",
       "\n",
       "    elements.forEach(element => {\n",
       "        if (element.classList.contains(\"mne-repr-section-header\")) {\n",
       "            return  // Don't collapse the section header row\n",
       "        }\n",
       "        element.classList.toggle(\"mne-repr-collapsed\");\n",
       "    });\n",
       "\n",
       "    // trigger caret to rotate\n",
       "    var sel = `.mne-repr-section-header.${className} > th.mne-repr-section-toggle > button`;\n",
       "    const button = document.querySelector(sel);\n",
       "    button.classList.toggle(\"collapsed\");\n",
       "\n",
       "    // adjust tooltip\n",
       "    sel = `tr.mne-repr-section-header.${className}`;\n",
       "    const secHeadRow = document.querySelector(sel);\n",
       "    secHeadRow.classList.toggle(\"collapsed\");\n",
       "    secHeadRow.title = secHeadRow.title === \"Hide section\" ? \"Show section\" : \"Hide section\";\n",
       "}\n",
       "</script>\n",
       "\n",
       "<style type=\"text/css\">\n",
       "    /*\n",
       "Styles in this section apply both to the sphinx-built website docs and to notebooks\n",
       "rendered in an IDE or in Jupyter. In our web docs, styles here are complemented by\n",
       "doc/_static/styles.css and other CSS files (e.g. from the sphinx theme, sphinx-gallery,\n",
       "or bootstrap). In IDEs/Jupyter, those style files are unavailable, so only the rules in\n",
       "this file apply (plus whatever default styling the IDE applies).\n",
       "*/\n",
       ".mne-repr-table {\n",
       "    display: inline;  /* prevent using full container width */\n",
       "}\n",
       ".mne-repr-table tr.mne-repr-section-header > th {\n",
       "    padding-top: 1rem;\n",
       "    text-align: left;\n",
       "    vertical-align: middle;\n",
       "}\n",
       ".mne-repr-section-toggle > button {\n",
       "    all: unset;\n",
       "    display: block;\n",
       "    height: 1rem;\n",
       "    width: 1rem;\n",
       "}\n",
       ".mne-repr-section-toggle > button > svg {\n",
       "    height: 60%;\n",
       "}\n",
       "\n",
       "/* transition (rotation) effects on the collapser button */\n",
       ".mne-repr-section-toggle > button.collapsed > svg {\n",
       "    transition: 0.1s ease-out;\n",
       "    transform: rotate(-90deg);\n",
       "}\n",
       ".mne-repr-section-toggle > button:not(.collapsed) > svg {\n",
       "    transition: 0.1s ease-out;\n",
       "    transform: rotate(0deg);\n",
       "}\n",
       "\n",
       "/* hide collapsed table rows */\n",
       ".mne-repr-collapsed {\n",
       "    display: none;\n",
       "}\n",
       "\n",
       "\n",
       "@layer {\n",
       "    /*\n",
       "    Selectors in a `@layer` will always be lower-precedence than selectors outside the\n",
       "    layer. So even though e.g. `div.output_html` is present in the sphinx-rendered\n",
       "    website docs, the styles here won't take effect there as long as some other rule\n",
       "    somewhere in the page's CSS targets the same element.\n",
       "\n",
       "    In IDEs or Jupyter notebooks, though, the CSS files from the sphinx theme,\n",
       "    sphinx-gallery, and bootstrap are unavailable, so these styles will apply.\n",
       "\n",
       "    Notes:\n",
       "\n",
       "    - the selector `.accordion-body` is for MNE Reports\n",
       "    - the selector `.output_html` is for VSCode's notebook interface\n",
       "    - the selector `.jp-RenderedHTML` is for Jupyter notebook\n",
       "    - variables starting with `--theme-` are VSCode-specific.\n",
       "    - variables starting with `--jp-` are Jupyter styles, *some of which* are also\n",
       "      available in VSCode. Here we try the `--theme-` variable first, then fall back to\n",
       "      the `--jp-` ones.\n",
       "    */\n",
       "    .mne-repr-table {\n",
       "        --mne-toggle-color: var(--theme-foreground, var(--jp-ui-font-color1));\n",
       "        --mne-button-bg-color: var(--theme-button-background, var(--jp-info-color0, var(--jp-content-link-color)));\n",
       "        --mne-button-fg-color: var(--theme-button-foreground, var(--jp-ui-inverse-font-color0, var(--jp-editor-background)));\n",
       "        --mne-button-hover-bg-color: var(--theme-button-hover-background, var(--jp-info-color1));\n",
       "        --mne-button-radius: var(--jp-border-radius, 0.25rem);\n",
       "    }\n",
       "    /* chevron position/alignment; in VSCode it looks ok without adjusting */\n",
       "    .accordion-body .mne-repr-section-toggle > button,\n",
       "    .jp-RenderedHTML .mne-repr-section-toggle > button {\n",
       "        padding: 0 0 45% 25% !important;\n",
       "    }\n",
       "    /* chevron color; MNE Report doesn't have light/dark mode */\n",
       "    div.output_html .mne-repr-section-toggle > button > svg > path,\n",
       "    .jp-RenderedHTML .mne-repr-section-toggle > button > svg > path {\n",
       "        fill: var(--mne-toggle-color);\n",
       "    }\n",
       "    .accordion-body .mne-ch-names-btn,\n",
       "    div.output_html .mne-ch-names-btn,\n",
       "    .jp-RenderedHTML .mne-ch-names-btn {\n",
       "        -webkit-border-radius: var(--mne-button-radius);\n",
       "        -moz-border-radius: var(--mne-button-radius);\n",
       "        border-radius: var(--mne-button-radius);\n",
       "        border: none;\n",
       "        background-image: none;\n",
       "        background-color: var(--mne-button-bg-color);\n",
       "        color: var(--mne-button-fg-color);\n",
       "        font-size: inherit;\n",
       "        min-width: 1.5rem;\n",
       "        padding: 0.25rem;\n",
       "        text-align: center;\n",
       "        text-decoration: none;\n",
       "    }\n",
       "    .accordion-body .mne-ch-names-btn:hover,\n",
       "    div.output_html .mne.ch-names-btn:hover,\n",
       "    .jp-RenderedHTML .mne-ch-names-btn:hover {\n",
       "        background-color: var(--mne-button-hover-bg-color);\n",
       "        text-decoration: underline;\n",
       "    }\n",
       "    .accordion-body .mne-ch-names-btn:focus-visible,\n",
       "    div.output_html .mne-ch-names-btn:focus-visible,\n",
       "    .jp-RenderedHTML .mne-ch-names-btn:focus-visible {\n",
       "        outline: 0.1875rem solid var(--mne-button-bg-color) !important;\n",
       "        outline-offset: 0.1875rem !important;\n",
       "    }\n",
       "}\n",
       "</style>\n",
       "\n",
       "\n",
       "\n",
       "<table class=\"table mne-repr-table\">\n",
       "    \n",
       "\n",
       "\n",
       "\n",
       "\n",
       "\n",
       "\n",
       "\n",
       "<tr class=\"mne-repr-section-header general-74828f04-b543-4b21-97b3-946005608b56\"\n",
       "     title=\"Hide section\" \n",
       "    onclick=\"toggleVisibility('general-74828f04-b543-4b21-97b3-946005608b56')\">\n",
       "    <th class=\"mne-repr-section-toggle\">\n",
       "        <button >\n",
       "            <svg xmlns=\"http://www.w3.org/2000/svg\" viewBox=\"0 0 512 512\"><!--!Font Awesome Free 6.6.0 by @fontawesome - https://fontawesome.com License - https://fontawesome.com/license/free Copyright 2024 Fonticons, Inc.--><path d=\"M233.4 406.6c12.5 12.5 32.8 12.5 45.3 0l192-192c12.5-12.5 12.5-32.8 0-45.3s-32.8-12.5-45.3 0L256 338.7 86.6 169.4c-12.5-12.5-32.8-12.5-45.3 0s-12.5 32.8 0 45.3l192 192z\"/></svg>\n",
       "        </button>\n",
       "    </th>\n",
       "    <th colspan=\"2\">\n",
       "        <strong>General</strong>\n",
       "    </th>\n",
       "</tr>\n",
       "\n",
       "\n",
       "<tr class=\"repr-element general-74828f04-b543-4b21-97b3-946005608b56 \">\n",
       "    <td class=\"mne-repr-section-toggle\"></td>\n",
       "    <td>Filename(s)</td>\n",
       "    <td>\n",
       "        \n",
       "        sub-01_ses-01_processed-raw.fif\n",
       "        \n",
       "        \n",
       "    </td>\n",
       "</tr>\n",
       "\n",
       "<tr class=\"repr-element general-74828f04-b543-4b21-97b3-946005608b56 \">\n",
       "    <td class=\"mne-repr-section-toggle\"></td>\n",
       "    <td>MNE object type</td>\n",
       "    <td>Raw</td>\n",
       "</tr>\n",
       "<tr class=\"repr-element general-74828f04-b543-4b21-97b3-946005608b56 \">\n",
       "    <td class=\"mne-repr-section-toggle\"></td>\n",
       "    <td>Measurement date</td>\n",
       "    \n",
       "    <td>1985-01-01 at 00:00:00 UTC</td>\n",
       "    \n",
       "</tr>\n",
       "<tr class=\"repr-element general-74828f04-b543-4b21-97b3-946005608b56 \">\n",
       "    <td class=\"mne-repr-section-toggle\"></td>\n",
       "    <td>Participant</td>\n",
       "    \n",
       "    \n",
       "    <td>sub-01</td>\n",
       "    \n",
       "    \n",
       "</tr>\n",
       "<tr class=\"repr-element general-74828f04-b543-4b21-97b3-946005608b56 \">\n",
       "    <td class=\"mne-repr-section-toggle\"></td>\n",
       "    <td>Experimenter</td>\n",
       "    \n",
       "    <td>Unknown</td>\n",
       "    \n",
       "</tr>\n",
       "    \n",
       "\n",
       "\n",
       "\n",
       "\n",
       "\n",
       "\n",
       "\n",
       "<tr class=\"mne-repr-section-header acquisition-2c95c52b-b736-457a-8ca1-251ceecdb249\"\n",
       "     title=\"Hide section\" \n",
       "    onclick=\"toggleVisibility('acquisition-2c95c52b-b736-457a-8ca1-251ceecdb249')\">\n",
       "    <th class=\"mne-repr-section-toggle\">\n",
       "        <button >\n",
       "            <svg xmlns=\"http://www.w3.org/2000/svg\" viewBox=\"0 0 512 512\"><!--!Font Awesome Free 6.6.0 by @fontawesome - https://fontawesome.com License - https://fontawesome.com/license/free Copyright 2024 Fonticons, Inc.--><path d=\"M233.4 406.6c12.5 12.5 32.8 12.5 45.3 0l192-192c12.5-12.5 12.5-32.8 0-45.3s-32.8-12.5-45.3 0L256 338.7 86.6 169.4c-12.5-12.5-32.8-12.5-45.3 0s-12.5 32.8 0 45.3l192 192z\"/></svg>\n",
       "        </button>\n",
       "    </th>\n",
       "    <th colspan=\"2\">\n",
       "        <strong>Acquisition</strong>\n",
       "    </th>\n",
       "</tr>\n",
       "\n",
       "\n",
       "<tr class=\"repr-element acquisition-2c95c52b-b736-457a-8ca1-251ceecdb249 \">\n",
       "    <td class=\"mne-repr-section-toggle\"></td>\n",
       "    <td>Duration</td>\n",
       "    <td>01:45:07 (HH:MM:SS)</td>\n",
       "</tr>\n",
       "\n",
       "\n",
       "\n",
       "\n",
       "\n",
       "\n",
       "\n",
       "\n",
       "<tr class=\"repr-element acquisition-2c95c52b-b736-457a-8ca1-251ceecdb249 \">\n",
       "    <td class=\"mne-repr-section-toggle\"></td>\n",
       "    <td>Sampling frequency</td>\n",
       "    <td>1000.00 Hz</td>\n",
       "</tr>\n",
       "\n",
       "\n",
       "<tr class=\"repr-element acquisition-2c95c52b-b736-457a-8ca1-251ceecdb249 \">\n",
       "    <td class=\"mne-repr-section-toggle\"></td>\n",
       "    <td>Time points</td>\n",
       "    <td>6,307,000</td>\n",
       "</tr>\n",
       "\n",
       "\n",
       "    \n",
       "\n",
       "\n",
       "\n",
       "\n",
       "\n",
       "\n",
       "\n",
       "<tr class=\"mne-repr-section-header channels-ac5bfc2e-a2c1-4cfe-ba0c-e09b8da7348b\"\n",
       "     title=\"Hide section\" \n",
       "    onclick=\"toggleVisibility('channels-ac5bfc2e-a2c1-4cfe-ba0c-e09b8da7348b')\">\n",
       "    <th class=\"mne-repr-section-toggle\">\n",
       "        <button >\n",
       "            <svg xmlns=\"http://www.w3.org/2000/svg\" viewBox=\"0 0 512 512\"><!--!Font Awesome Free 6.6.0 by @fontawesome - https://fontawesome.com License - https://fontawesome.com/license/free Copyright 2024 Fonticons, Inc.--><path d=\"M233.4 406.6c12.5 12.5 32.8 12.5 45.3 0l192-192c12.5-12.5 12.5-32.8 0-45.3s-32.8-12.5-45.3 0L256 338.7 86.6 169.4c-12.5-12.5-32.8-12.5-45.3 0s-12.5 32.8 0 45.3l192 192z\"/></svg>\n",
       "        </button>\n",
       "    </th>\n",
       "    <th colspan=\"2\">\n",
       "        <strong>Channels</strong>\n",
       "    </th>\n",
       "</tr>\n",
       "\n",
       "\n",
       "    \n",
       "<tr class=\"repr-element channels-ac5bfc2e-a2c1-4cfe-ba0c-e09b8da7348b \">\n",
       "    <td class=\"mne-repr-section-toggle\"></td>\n",
       "    <td>EEG</td>\n",
       "    <td>\n",
       "        <button class=\"mne-ch-names-btn sd-sphinx-override sd-btn sd-btn-info sd-text-wrap sd-shadow-sm\" onclick=\"alert('Good EEG:\\n\\nFp1, Fz, F3, F7, FT9, FC5, FC1, C3, T7, CP5, CP1, Pz, P3, P7, O1, Oz, O2, P4, P8, CP6, CP2, Cz, C4, T8, FT10, FC6, FC2, F4, F8, Fp2, AF7, AF3, AFz, F1, F5, FT7, FC3, C1, C5, TP7, CP3, P1, P5, PO7, PO3, POz, PO4, PO8, P6, P2, CPz, CP4, TP8, C6, C2, FC4, FT8, F6, AF8, AF4, F2, FCz')\" title=\"(Click to open in popup)&#13;&#13;Fp1, Fz, F3, F7, FT9, FC5, FC1, C3, T7, CP5, CP1, Pz, P3, P7, O1, Oz, O2, P4, P8, CP6, CP2, Cz, C4, T8, FT10, FC6, FC2, F4, F8, Fp2, AF7, AF3, AFz, F1, F5, FT7, FC3, C1, C5, TP7, CP3, P1, P5, PO7, PO3, POz, PO4, PO8, P6, P2, CPz, CP4, TP8, C6, C2, FC4, FT8, F6, AF8, AF4, F2, FCz\">\n",
       "            62\n",
       "        </button>\n",
       "\n",
       "        \n",
       "    </td>\n",
       "</tr>\n",
       "\n",
       "    \n",
       "<tr class=\"repr-element channels-ac5bfc2e-a2c1-4cfe-ba0c-e09b8da7348b \">\n",
       "    <td class=\"mne-repr-section-toggle\"></td>\n",
       "    <td>EOG</td>\n",
       "    <td>\n",
       "        <button class=\"mne-ch-names-btn sd-sphinx-override sd-btn sd-btn-info sd-text-wrap sd-shadow-sm\" onclick=\"alert('Good EOG:\\n\\nEOG1, EOG2')\" title=\"(Click to open in popup)&#13;&#13;EOG1, EOG2\">\n",
       "            2\n",
       "        </button>\n",
       "\n",
       "        \n",
       "    </td>\n",
       "</tr>\n",
       "\n",
       "\n",
       "<tr class=\"repr-element channels-ac5bfc2e-a2c1-4cfe-ba0c-e09b8da7348b \">\n",
       "    <td class=\"mne-repr-section-toggle\"></td>\n",
       "    <td>Head & sensor digitization</td>\n",
       "    \n",
       "    <td>65 points</td>\n",
       "    \n",
       "</tr>\n",
       "    \n",
       "\n",
       "\n",
       "\n",
       "\n",
       "\n",
       "\n",
       "\n",
       "<tr class=\"mne-repr-section-header filters-ba9e4097-6fbf-4bd1-8596-9e0f67ef1e0d\"\n",
       "     title=\"Hide section\" \n",
       "    onclick=\"toggleVisibility('filters-ba9e4097-6fbf-4bd1-8596-9e0f67ef1e0d')\">\n",
       "    <th class=\"mne-repr-section-toggle\">\n",
       "        <button >\n",
       "            <svg xmlns=\"http://www.w3.org/2000/svg\" viewBox=\"0 0 512 512\"><!--!Font Awesome Free 6.6.0 by @fontawesome - https://fontawesome.com License - https://fontawesome.com/license/free Copyright 2024 Fonticons, Inc.--><path d=\"M233.4 406.6c12.5 12.5 32.8 12.5 45.3 0l192-192c12.5-12.5 12.5-32.8 0-45.3s-32.8-12.5-45.3 0L256 338.7 86.6 169.4c-12.5-12.5-32.8-12.5-45.3 0s-12.5 32.8 0 45.3l192 192z\"/></svg>\n",
       "        </button>\n",
       "    </th>\n",
       "    <th colspan=\"2\">\n",
       "        <strong>Filters</strong>\n",
       "    </th>\n",
       "</tr>\n",
       "\n",
       "\n",
       "<tr class=\"repr-element filters-ba9e4097-6fbf-4bd1-8596-9e0f67ef1e0d \">\n",
       "    <td class=\"mne-repr-section-toggle\"></td>\n",
       "    <td>Highpass</td>\n",
       "    <td>0.10 Hz</td>\n",
       "</tr>\n",
       "\n",
       "\n",
       "<tr class=\"repr-element filters-ba9e4097-6fbf-4bd1-8596-9e0f67ef1e0d \">\n",
       "    <td class=\"mne-repr-section-toggle\"></td>\n",
       "    <td>Lowpass</td>\n",
       "    <td>40.00 Hz</td>\n",
       "</tr>\n",
       "\n",
       "\n",
       "</table>"
      ],
      "text/plain": [
       "<Raw | sub-01_ses-01_processed-raw.fif, 64 x 6307000 (6307.0 s), ~3.01 GiB, data loaded>"
      ]
     },
     "execution_count": 48,
     "metadata": {},
     "output_type": "execute_result"
    }
   ],
   "source": [
    "data.raw"
   ]
  },
  {
   "cell_type": "code",
   "execution_count": null,
   "metadata": {},
   "outputs": [],
   "source": []
  },
  {
   "cell_type": "code",
   "execution_count": null,
   "metadata": {},
   "outputs": [],
   "source": []
  },
  {
   "cell_type": "code",
   "execution_count": null,
   "metadata": {},
   "outputs": [],
   "source": [
    "trial_mode = ''\n",
    "trial_unit = 'Words'\n",
    "experiment_mode = 'Experiment'\n",
    "trial_boundary = 'Start'\n",
    "trial_type = 'Stimulus'\n",
    "modality = 'Pictures'\n",
    "channels = ['PO3', 'POz', 'PO4']\n",
    "\n",
    "epochs_pictorial = create_epochs_for_all(\n",
    "        registery=registary,\n",
    "        trial_mode=trial_mode, trial_unit=trial_unit,\n",
    "        experiment_mode=experiment_mode, trial_boundary=trial_boundary,\n",
    "        trial_type=trial_type, modality=modality,\n",
    "        tmin=-0.2, tmax=0.5\n",
    ")"
   ]
  }
 ],
 "metadata": {
  "kernelspec": {
   "display_name": "vow",
   "language": "python",
   "name": "python3"
  },
  "language_info": {
   "codemirror_mode": {
    "name": "ipython",
    "version": 3
   },
   "file_extension": ".py",
   "mimetype": "text/x-python",
   "name": "python",
   "nbconvert_exporter": "python",
   "pygments_lexer": "ipython3",
   "version": "3.10.16"
  }
 },
 "nbformat": 4,
 "nbformat_minor": 2
}
