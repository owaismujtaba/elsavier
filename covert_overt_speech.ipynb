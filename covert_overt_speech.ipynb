{
 "cells": [
  {
   "cell_type": "code",
   "execution_count": 1,
   "metadata": {},
   "outputs": [],
   "source": [
    "from src.dataset.data_reader import BIDSDatasetReader\n",
    "from src.analysis.registery import Registery\n",
    "from src.utils.graphics import styled_print\n",
    "from src.dataset.data_loader import DataLoader\n",
    "from matplotlib import pyplot as plt\n",
    "import config as config\n",
    "import numpy as np\n",
    "from pathlib import Path"
   ]
  },
  {
   "cell_type": "code",
   "execution_count": 2,
   "metadata": {},
   "outputs": [],
   "source": [
    "def create_epochs_for_all(\n",
    "        registery, trial_mode, trial_unit, experiment_mode, \n",
    "        trial_boundary, trial_type, modality, tmin, tmax\n",
    "    ):\n",
    "    styled_print('', 'Creating EPOCHS for all subjects', color='red')\n",
    "    epochs = {}\n",
    "\n",
    "    for (subject, session), raw in registery.raw_data.items():\n",
    "        styled_print('', f'Loading for sub-{subject}, ses-{session}', color='green')\n",
    "        data_loader = DataLoader(\n",
    "            eeg_data=raw, trial_mode=trial_mode, trial_unit=trial_unit,\n",
    "            experiment_mode=experiment_mode, trial_boundary=trial_boundary,\n",
    "            trial_type=trial_type, modality=modality\n",
    "        )\n",
    "        try:\n",
    "            epochs[(subject, session)] = data_loader.create_epochs(tmin=tmin, tmax=tmax)\n",
    "        except Exception as e:\n",
    "            styled_print('', f\"Error processing sub-{subject}, ses-{session}: {e}\", color='yellow')\n",
    "\n",
    "    return epochs\n"
   ]
  },
  {
   "cell_type": "code",
   "execution_count": 3,
   "metadata": {},
   "outputs": [
    {
     "data": {
      "text/html": [
       "<pre style=\"white-space:pre;overflow-x:auto;line-height:normal;font-family:Menlo,'DejaVu Sans Mono',consolas,'Courier New',monospace\"><span style=\"color: #800000; text-decoration-color: #800000\">╭──────────────────────────────╮</span>\n",
       "<span style=\"color: #800000; text-decoration-color: #800000\">│</span>  <span style=\"color: #800000; text-decoration-color: #800000; font-weight: bold\">Initializing Register Class</span> <span style=\"color: #800000; text-decoration-color: #800000\">│</span>\n",
       "<span style=\"color: #800000; text-decoration-color: #800000\">╰──────────────────────────────╯</span>\n",
       "</pre>\n"
      ],
      "text/plain": [
       "\u001b[31m╭──────────────────────────────╮\u001b[0m\n",
       "\u001b[31m│\u001b[0m  \u001b[1;31mInitializing Register Class\u001b[0m \u001b[31m│\u001b[0m\n",
       "\u001b[31m╰──────────────────────────────╯\u001b[0m\n"
      ]
     },
     "metadata": {},
     "output_type": "display_data"
    },
    {
     "data": {
      "text/html": [
       "<pre style=\"white-space:pre;overflow-x:auto;line-height:normal;font-family:Menlo,'DejaVu Sans Mono',consolas,'Courier New',monospace\"> <span style=\"color: #008000; text-decoration-color: #008000; font-weight: bold\">Loading raw data for all subjects</span>\n",
       "</pre>\n"
      ],
      "text/plain": [
       " \u001b[1;32mLoading raw data for all subjects\u001b[0m\n"
      ]
     },
     "metadata": {},
     "output_type": "display_data"
    },
    {
     "data": {
      "text/html": [
       "<pre style=\"white-space:pre;overflow-x:auto;line-height:normal;font-family:Menlo,'DejaVu Sans Mono',consolas,'Courier New',monospace\"> <span style=\"color: #008000; text-decoration-color: #008000; font-weight: bold\">Loading raw data for sub-</span><span style=\"color: #008000; text-decoration-color: #008000; font-weight: bold\">01</span><span style=\"color: #008000; text-decoration-color: #008000; font-weight: bold\">, ses-</span><span style=\"color: #008000; text-decoration-color: #008000; font-weight: bold\">01</span>\n",
       "</pre>\n"
      ],
      "text/plain": [
       " \u001b[1;32mLoading raw data for sub-\u001b[0m\u001b[1;32m01\u001b[0m\u001b[1;32m, ses-\u001b[0m\u001b[1;32m01\u001b[0m\n"
      ]
     },
     "metadata": {},
     "output_type": "display_data"
    },
    {
     "data": {
      "text/html": [
       "<pre style=\"white-space:pre;overflow-x:auto;line-height:normal;font-family:Menlo,'DejaVu Sans Mono',consolas,'Courier New',monospace\"><span style=\"color: #808000; text-decoration-color: #808000\">╭─────────────────────────────────────────╮</span>\n",
       "<span style=\"color: #808000; text-decoration-color: #808000\">│</span> 🚀 <span style=\"color: #808000; text-decoration-color: #808000; font-weight: bold\">Initializing BIDSDatasetReader Class</span> <span style=\"color: #808000; text-decoration-color: #808000\">│</span>\n",
       "<span style=\"color: #808000; text-decoration-color: #808000\">╰─────────────────────────────────────────╯</span>\n",
       "</pre>\n"
      ],
      "text/plain": [
       "\u001b[33m╭─────────────────────────────────────────╮\u001b[0m\n",
       "\u001b[33m│\u001b[0m 🚀 \u001b[1;33mInitializing BIDSDatasetReader Class\u001b[0m \u001b[33m│\u001b[0m\n",
       "\u001b[33m╰─────────────────────────────────────────╯\u001b[0m\n"
      ]
     },
     "metadata": {},
     "output_type": "display_data"
    },
    {
     "data": {
      "text/html": [
       "<pre style=\"white-space:pre;overflow-x:auto;line-height:normal;font-family:Menlo,'DejaVu Sans Mono',consolas,'Courier New',monospace\"> <span style=\"color: #000080; text-decoration-color: #000080; font-weight: bold\">Loading Raw Data</span>\n",
       "</pre>\n"
      ],
      "text/plain": [
       " \u001b[1;34mLoading Raw Data\u001b[0m\n"
      ]
     },
     "metadata": {},
     "output_type": "display_data"
    },
    {
     "name": "stdout",
     "output_type": "stream",
     "text": [
      "Reading 0 ... 6306999  =      0.000 ...  6306.999 secs...\n"
     ]
    },
    {
     "data": {
      "text/html": [
       "<pre style=\"white-space:pre;overflow-x:auto;line-height:normal;font-family:Menlo,'DejaVu Sans Mono',consolas,'Courier New',monospace\"> <span style=\"color: #800000; text-decoration-color: #800000; font-weight: bold\">Preprocessing EEG</span>\n",
       "</pre>\n"
      ],
      "text/plain": [
       " \u001b[1;31mPreprocessing EEG\u001b[0m\n"
      ]
     },
     "metadata": {},
     "output_type": "display_data"
    },
    {
     "data": {
      "text/html": [
       "<pre style=\"white-space:pre;overflow-x:auto;line-height:normal;font-family:Menlo,'DejaVu Sans Mono',consolas,'Courier New',monospace\"> <span style=\"color: #000080; text-decoration-color: #000080; font-weight: bold\">Setting Channels and Montage</span>\n",
       "</pre>\n"
      ],
      "text/plain": [
       " \u001b[1;34mSetting Channels and Montage\u001b[0m\n"
      ]
     },
     "metadata": {},
     "output_type": "display_data"
    },
    {
     "data": {
      "text/html": [
       "<pre style=\"white-space:pre;overflow-x:auto;line-height:normal;font-family:Menlo,'DejaVu Sans Mono',consolas,'Courier New',monospace\"> <span style=\"color: #000080; text-decoration-color: #000080; font-weight: bold\">Removing Bad Channels</span>\n",
       "</pre>\n"
      ],
      "text/plain": [
       " \u001b[1;34mRemoving Bad Channels\u001b[0m\n"
      ]
     },
     "metadata": {},
     "output_type": "display_data"
    },
    {
     "name": "stdout",
     "output_type": "stream",
     "text": [
      "NOTE: pick_types() is a legacy function. New code should use inst.pick(...).\n",
      "Setting up high-pass filter at 1 Hz\n",
      "\n",
      "FIR filter parameters\n",
      "---------------------\n",
      "Designing a one-pass, zero-phase, non-causal highpass filter:\n",
      "- Windowed time-domain design (firwin) method\n",
      "- Hamming window with 0.0194 passband ripple and 53 dB stopband attenuation\n",
      "- Lower passband edge: 1.00\n",
      "- Lower transition bandwidth: 1.00 Hz (-6 dB cutoff frequency: 0.50 Hz)\n",
      "- Filter length: 3301 samples (3.301 s)\n",
      "\n"
     ]
    },
    {
     "name": "stderr",
     "output_type": "stream",
     "text": [
      "[Parallel(n_jobs=1)]: Done  17 tasks      | elapsed:    1.2s\n"
     ]
    },
    {
     "name": "stdout",
     "output_type": "stream",
     "text": [
      "Setting channel interpolation method to {'eeg': 'spline'}.\n",
      "Interpolating bad channels.\n",
      "    Automatic origin fit: head of radius 94.8 mm\n",
      "Computing interpolation matrix from 59 sensor positions\n",
      "Interpolating 3 sensors\n",
      "EEG channel type selected for re-referencing\n",
      "Applying a custom ('EEG',) reference.\n"
     ]
    },
    {
     "data": {
      "text/html": [
       "<pre style=\"white-space:pre;overflow-x:auto;line-height:normal;font-family:Menlo,'DejaVu Sans Mono',consolas,'Courier New',monospace\"> <span style=\"color: #000080; text-decoration-color: #000080; font-weight: bold\">Removing Artifacts</span>\n",
       "</pre>\n"
      ],
      "text/plain": [
       " \u001b[1;34mRemoving Artifacts\u001b[0m\n"
      ]
     },
     "metadata": {},
     "output_type": "display_data"
    },
    {
     "name": "stdout",
     "output_type": "stream",
     "text": [
      "Fitting ICA to data using 62 channels (please be patient, this may take a while)\n",
      "Omitting 399 of 6307000 (0.01%) samples, retaining 6306601 (99.99%) samples.\n",
      "Selecting by number: 50 components\n"
     ]
    }
   ],
   "source": [
    "registary = Registery()"
   ]
  },
  {
   "cell_type": "code",
   "execution_count": 94,
   "metadata": {},
   "outputs": [],
   "source": [
    "\n",
    "def plot_vs_fixation_all_subjects(\n",
    "        registery, trial_mode, trial_unit, experiment_mode,\n",
    "        trial_boundary, trial_type, modality, channels=None\n",
    "    ):\n",
    "    \"\"\"Plots evoked responses in selected channels across all subjects.\"\"\"\n",
    "\n",
    "    epochs_pictorial = create_epochs_for_all(\n",
    "        registery=registery,\n",
    "        trial_mode=trial_mode, trial_unit=trial_unit,\n",
    "        experiment_mode=experiment_mode, trial_boundary=trial_boundary,\n",
    "        trial_type=trial_type, modality=modality,\n",
    "        tmin=-0.2, tmax=0.5\n",
    "    )\n",
    "    print(epochs_pictorial)\n",
    "    exit\n",
    "    epochs_fixation = create_epochs_for_all(\n",
    "        registery=registery,\n",
    "        trial_mode=trial_mode, trial_unit=trial_unit,\n",
    "        experiment_mode=experiment_mode, trial_boundary=trial_boundary,\n",
    "        trial_type='Fixation', modality=modality,\n",
    "        tmin=0.3, tmax=1.0\n",
    "    )\n",
    "\n",
    "    if not epochs_pictorial or not epochs_fixation:\n",
    "        print(\"No epochs available for plotting.\")\n",
    "        return\n",
    "\n",
    "    fig, axes = plt.subplots(5, 4, figsize=(15, 10), sharex=True, sharey=True)\n",
    "    axes = axes.flatten()\n",
    "\n",
    "    for i, ((subject, session), epoch) in enumerate(epochs_pictorial.items()):\n",
    "        if (subject, session) not in epochs_fixation:\n",
    "            print(f\"Skipping subject {subject}, session {session}: No fixation data.\")\n",
    "            continue\n",
    "\n",
    "        evoked_pictorial = epoch.average()\n",
    "        evoked_fixation = epochs_fixation[(subject, session)].average()\n",
    "\n",
    "        selected_channels = channels if channels else evoked_pictorial.ch_names\n",
    "        if channels != None:\n",
    "            evoked_pictorial.pick_channels(selected_channels)\n",
    "            evoked_fixation.pick_channels(selected_channels)\n",
    "\n",
    "        mean_signal_pictorial = np.mean(evoked_pictorial.data, axis=0)\n",
    "        mean_signal_fixation = np.mean(evoked_fixation.data, axis=0)\n",
    "\n",
    "        ax = axes[i]\n",
    "        ax.plot(mean_signal_pictorial, label='Pictorial', color='green')\n",
    "        ax.plot(mean_signal_fixation, label='Fixation', color='blue')\n",
    "\n",
    "        ax.axvline(200, color='cyan', linestyle='--', label=\"Onset\")\n",
    "        ax.axvline(300, color='r', linestyle='--', label=\"100ms\")\n",
    "        ax.axvline(500, color='black', linestyle='--', label=\"300ms\")\n",
    "\n",
    "        ax.set_title(f\"sub-{subject}_ses-{session}\")\n",
    "        ax.spines['top'].set_visible(False)\n",
    "        ax.spines['right'].set_visible(False)\n",
    "\n",
    "        if i % 4 == 0:\n",
    "            ax.set_ylabel(\"µV\")\n",
    "        if i >= 16:\n",
    "            ax.set_xlabel(\"Time (s)\")\n",
    "\n",
    "    axes[0].legend(loc='upper right')\n",
    "    plt.tight_layout()\n",
    "\n",
    "    # Save figure\n",
    "    images_dir = config.IMAGES_DIR\n",
    "    image_filepath = Path(images_dir,picture_name)\n",
    "    plt.savefig(image_filepath, dpi=600)\n",
    "    print(f\"Saved plot to {image_filepath}\")\n"
   ]
  },
  {
   "cell_type": "code",
   "execution_count": 79,
   "metadata": {},
   "outputs": [
    {
     "data": {
      "text/html": [
       "<pre style=\"white-space:pre;overflow-x:auto;line-height:normal;font-family:Menlo,'DejaVu Sans Mono',consolas,'Courier New',monospace\"> <span style=\"color: #800000; text-decoration-color: #800000; font-weight: bold\">Creating EPOCHS for all subjects</span>\n",
       "</pre>\n"
      ],
      "text/plain": [
       " \u001b[1;31mCreating EPOCHS for all subjects\u001b[0m\n"
      ]
     },
     "metadata": {},
     "output_type": "display_data"
    },
    {
     "data": {
      "text/html": [
       "<pre style=\"white-space:pre;overflow-x:auto;line-height:normal;font-family:Menlo,'DejaVu Sans Mono',consolas,'Courier New',monospace\"> <span style=\"color: #008000; text-decoration-color: #008000; font-weight: bold\">Loading for sub-</span><span style=\"color: #008000; text-decoration-color: #008000; font-weight: bold\">01</span><span style=\"color: #008000; text-decoration-color: #008000; font-weight: bold\">, ses-</span><span style=\"color: #008000; text-decoration-color: #008000; font-weight: bold\">01</span>\n",
       "</pre>\n"
      ],
      "text/plain": [
       " \u001b[1;32mLoading for sub-\u001b[0m\u001b[1;32m01\u001b[0m\u001b[1;32m, ses-\u001b[0m\u001b[1;32m01\u001b[0m\n"
      ]
     },
     "metadata": {},
     "output_type": "display_data"
    },
    {
     "data": {
      "text/html": [
       "<pre style=\"white-space:pre;overflow-x:auto;line-height:normal;font-family:Menlo,'DejaVu Sans Mono',consolas,'Courier New',monospace\"><span style=\"color: #800000; text-decoration-color: #800000\">╭────────────────────────────────╮</span>\n",
       "<span style=\"color: #800000; text-decoration-color: #800000\">│</span>  <span style=\"color: #800000; text-decoration-color: #800000; font-weight: bold\">Initializing DataLoader Class</span> <span style=\"color: #800000; text-decoration-color: #800000\">│</span>\n",
       "<span style=\"color: #800000; text-decoration-color: #800000\">╰────────────────────────────────╯</span>\n",
       "</pre>\n"
      ],
      "text/plain": [
       "\u001b[31m╭────────────────────────────────╮\u001b[0m\n",
       "\u001b[31m│\u001b[0m  \u001b[1;31mInitializing DataLoader Class\u001b[0m \u001b[31m│\u001b[0m\n",
       "\u001b[31m╰────────────────────────────────╯\u001b[0m\n"
      ]
     },
     "metadata": {},
     "output_type": "display_data"
    },
    {
     "data": {
      "text/html": [
       "<pre style=\"white-space:pre;overflow-x:auto;line-height:normal;font-family:Menlo,'DejaVu Sans Mono',consolas,'Courier New',monospace\"> <span style=\"color: #008000; text-decoration-color: #008000; font-weight: bold\">Creating EPOCHS</span>\n",
       "</pre>\n"
      ],
      "text/plain": [
       " \u001b[1;32mCreating EPOCHS\u001b[0m\n"
      ]
     },
     "metadata": {},
     "output_type": "display_data"
    },
    {
     "data": {
      "text/html": [
       "<pre style=\"white-space:pre;overflow-x:auto;line-height:normal;font-family:Menlo,'DejaVu Sans Mono',consolas,'Courier New',monospace\"><span style=\"font-style: italic\">        Extraction Criteria        </span>\n",
       "┏━━━━━━━━━━━━━━━━━━━━┳━━━━━━━━━━━━┓\n",
       "┃<span style=\"font-weight: bold\"> Parameter          </span>┃<span style=\"font-weight: bold\"> Value      </span>┃\n",
       "┣━━━━━━━━━━━━━━━━━━━━╋━━━━━━━━━━━━┫\n",
       "┃<span style=\"color: #008080; text-decoration-color: #008080; font-weight: bold\"> 🧪 Trial Mode      </span>┃<span style=\"color: #808000; text-decoration-color: #808000; font-weight: bold\">            </span>┃\n",
       "┃<span style=\"color: #008080; text-decoration-color: #008080; font-weight: bold\"> 📏 Trial Unit      </span>┃<span style=\"color: #808000; text-decoration-color: #808000; font-weight: bold\"> Words      </span>┃\n",
       "┃<span style=\"color: #008080; text-decoration-color: #008080; font-weight: bold\"> 🔗 Experiment Mode </span>┃<span style=\"color: #808000; text-decoration-color: #808000; font-weight: bold\"> Experiment </span>┃\n",
       "┃<span style=\"color: #008080; text-decoration-color: #008080; font-weight: bold\"> 🎭 Trial Boundary  </span>┃<span style=\"color: #808000; text-decoration-color: #808000; font-weight: bold\"> Start      </span>┃\n",
       "┃<span style=\"color: #008080; text-decoration-color: #008080; font-weight: bold\"> 🔬 Trial Type      </span>┃<span style=\"color: #808000; text-decoration-color: #808000; font-weight: bold\"> Stimulus   </span>┃\n",
       "┃<span style=\"color: #008080; text-decoration-color: #008080; font-weight: bold\"> 📊 Modality        </span>┃<span style=\"color: #808000; text-decoration-color: #808000; font-weight: bold\"> Pictures   </span>┃\n",
       "┃<span style=\"color: #008080; text-decoration-color: #008080; font-weight: bold\"> ⏱ Tmin             </span>┃<span style=\"color: #808000; text-decoration-color: #808000; font-weight: bold\"> </span><span style=\"color: #008080; text-decoration-color: #008080; font-weight: bold\">-0.2</span><span style=\"color: #808000; text-decoration-color: #808000; font-weight: bold\">       </span>┃\n",
       "┃<span style=\"color: #008080; text-decoration-color: #008080; font-weight: bold\"> ⏳ Tmax            </span>┃<span style=\"color: #808000; text-decoration-color: #808000; font-weight: bold\"> </span><span style=\"color: #008080; text-decoration-color: #008080; font-weight: bold\">0.5</span><span style=\"color: #808000; text-decoration-color: #808000; font-weight: bold\">        </span>┃\n",
       "┗━━━━━━━━━━━━━━━━━━━━┻━━━━━━━━━━━━┛\n",
       "</pre>\n"
      ],
      "text/plain": [
       "\u001b[3m        Extraction Criteria        \u001b[0m\n",
       "┏━━━━━━━━━━━━━━━━━━━━┳━━━━━━━━━━━━┓\n",
       "┃\u001b[1m \u001b[0m\u001b[1mParameter         \u001b[0m\u001b[1m \u001b[0m┃\u001b[1m \u001b[0m\u001b[1mValue     \u001b[0m\u001b[1m \u001b[0m┃\n",
       "┣━━━━━━━━━━━━━━━━━━━━╋━━━━━━━━━━━━┫\n",
       "┃\u001b[1;36m \u001b[0m\u001b[1;36m🧪 Trial Mode     \u001b[0m\u001b[1;36m \u001b[0m┃\u001b[1;33m \u001b[0m\u001b[1;33m          \u001b[0m\u001b[1;33m \u001b[0m┃\n",
       "┃\u001b[1;36m \u001b[0m\u001b[1;36m📏 Trial Unit     \u001b[0m\u001b[1;36m \u001b[0m┃\u001b[1;33m \u001b[0m\u001b[1;33mWords     \u001b[0m\u001b[1;33m \u001b[0m┃\n",
       "┃\u001b[1;36m \u001b[0m\u001b[1;36m🔗 Experiment Mode\u001b[0m\u001b[1;36m \u001b[0m┃\u001b[1;33m \u001b[0m\u001b[1;33mExperiment\u001b[0m\u001b[1;33m \u001b[0m┃\n",
       "┃\u001b[1;36m \u001b[0m\u001b[1;36m🎭 Trial Boundary \u001b[0m\u001b[1;36m \u001b[0m┃\u001b[1;33m \u001b[0m\u001b[1;33mStart     \u001b[0m\u001b[1;33m \u001b[0m┃\n",
       "┃\u001b[1;36m \u001b[0m\u001b[1;36m🔬 Trial Type     \u001b[0m\u001b[1;36m \u001b[0m┃\u001b[1;33m \u001b[0m\u001b[1;33mStimulus  \u001b[0m\u001b[1;33m \u001b[0m┃\n",
       "┃\u001b[1;36m \u001b[0m\u001b[1;36m📊 Modality       \u001b[0m\u001b[1;36m \u001b[0m┃\u001b[1;33m \u001b[0m\u001b[1;33mPictures  \u001b[0m\u001b[1;33m \u001b[0m┃\n",
       "┃\u001b[1;36m \u001b[0m\u001b[1;36m⏱ Tmin            \u001b[0m\u001b[1;36m \u001b[0m┃\u001b[1;33m \u001b[0m\u001b[1;36m-0.2\u001b[0m\u001b[1;33m      \u001b[0m\u001b[1;33m \u001b[0m┃\n",
       "┃\u001b[1;36m \u001b[0m\u001b[1;36m⏳ Tmax           \u001b[0m\u001b[1;36m \u001b[0m┃\u001b[1;33m \u001b[0m\u001b[1;36m0.5\u001b[0m\u001b[1;33m       \u001b[0m\u001b[1;33m \u001b[0m┃\n",
       "┗━━━━━━━━━━━━━━━━━━━━┻━━━━━━━━━━━━┛\n"
      ]
     },
     "metadata": {},
     "output_type": "display_data"
    },
    {
     "name": "stdout",
     "output_type": "stream",
     "text": [
      "Not setting metadata\n",
      "130 matching events found\n"
     ]
    },
    {
     "data": {
      "text/html": [
       "<pre style=\"white-space:pre;overflow-x:auto;line-height:normal;font-family:Menlo,'DejaVu Sans Mono',consolas,'Courier New',monospace\"> <span style=\"color: #808000; text-decoration-color: #808000; font-weight: bold\">Error processing sub-</span><span style=\"color: #808000; text-decoration-color: #808000; font-weight: bold\">01</span><span style=\"color: #808000; text-decoration-color: #808000; font-weight: bold\">, ses-</span><span style=\"color: #808000; text-decoration-color: #808000; font-weight: bold\">01</span><span style=\"color: #808000; text-decoration-color: #808000; font-weight: bold\">: info channel name inconsistency detected, please notify MNE-Python developers</span>\n",
       "</pre>\n"
      ],
      "text/plain": [
       " \u001b[1;33mError processing sub-\u001b[0m\u001b[1;33m01\u001b[0m\u001b[1;33m, ses-\u001b[0m\u001b[1;33m01\u001b[0m\u001b[1;33m: info channel name inconsistency detected, please notify MNE-Python developers\u001b[0m\n"
      ]
     },
     "metadata": {},
     "output_type": "display_data"
    },
    {
     "data": {
      "text/html": [
       "<pre style=\"white-space:pre;overflow-x:auto;line-height:normal;font-family:Menlo,'DejaVu Sans Mono',consolas,'Courier New',monospace\"> <span style=\"color: #008000; text-decoration-color: #008000; font-weight: bold\">Loading for sub-</span><span style=\"color: #008000; text-decoration-color: #008000; font-weight: bold\">02</span><span style=\"color: #008000; text-decoration-color: #008000; font-weight: bold\">, ses-</span><span style=\"color: #008000; text-decoration-color: #008000; font-weight: bold\">01</span>\n",
       "</pre>\n"
      ],
      "text/plain": [
       " \u001b[1;32mLoading for sub-\u001b[0m\u001b[1;32m02\u001b[0m\u001b[1;32m, ses-\u001b[0m\u001b[1;32m01\u001b[0m\n"
      ]
     },
     "metadata": {},
     "output_type": "display_data"
    },
    {
     "data": {
      "text/html": [
       "<pre style=\"white-space:pre;overflow-x:auto;line-height:normal;font-family:Menlo,'DejaVu Sans Mono',consolas,'Courier New',monospace\"><span style=\"color: #800000; text-decoration-color: #800000\">╭────────────────────────────────╮</span>\n",
       "<span style=\"color: #800000; text-decoration-color: #800000\">│</span>  <span style=\"color: #800000; text-decoration-color: #800000; font-weight: bold\">Initializing DataLoader Class</span> <span style=\"color: #800000; text-decoration-color: #800000\">│</span>\n",
       "<span style=\"color: #800000; text-decoration-color: #800000\">╰────────────────────────────────╯</span>\n",
       "</pre>\n"
      ],
      "text/plain": [
       "\u001b[31m╭────────────────────────────────╮\u001b[0m\n",
       "\u001b[31m│\u001b[0m  \u001b[1;31mInitializing DataLoader Class\u001b[0m \u001b[31m│\u001b[0m\n",
       "\u001b[31m╰────────────────────────────────╯\u001b[0m\n"
      ]
     },
     "metadata": {},
     "output_type": "display_data"
    },
    {
     "data": {
      "text/html": [
       "<pre style=\"white-space:pre;overflow-x:auto;line-height:normal;font-family:Menlo,'DejaVu Sans Mono',consolas,'Courier New',monospace\"> <span style=\"color: #008000; text-decoration-color: #008000; font-weight: bold\">Creating EPOCHS</span>\n",
       "</pre>\n"
      ],
      "text/plain": [
       " \u001b[1;32mCreating EPOCHS\u001b[0m\n"
      ]
     },
     "metadata": {},
     "output_type": "display_data"
    },
    {
     "data": {
      "text/html": [
       "<pre style=\"white-space:pre;overflow-x:auto;line-height:normal;font-family:Menlo,'DejaVu Sans Mono',consolas,'Courier New',monospace\"><span style=\"font-style: italic\">        Extraction Criteria        </span>\n",
       "┏━━━━━━━━━━━━━━━━━━━━┳━━━━━━━━━━━━┓\n",
       "┃<span style=\"font-weight: bold\"> Parameter          </span>┃<span style=\"font-weight: bold\"> Value      </span>┃\n",
       "┣━━━━━━━━━━━━━━━━━━━━╋━━━━━━━━━━━━┫\n",
       "┃<span style=\"color: #008080; text-decoration-color: #008080; font-weight: bold\"> 🧪 Trial Mode      </span>┃<span style=\"color: #808000; text-decoration-color: #808000; font-weight: bold\">            </span>┃\n",
       "┃<span style=\"color: #008080; text-decoration-color: #008080; font-weight: bold\"> 📏 Trial Unit      </span>┃<span style=\"color: #808000; text-decoration-color: #808000; font-weight: bold\"> Words      </span>┃\n",
       "┃<span style=\"color: #008080; text-decoration-color: #008080; font-weight: bold\"> 🔗 Experiment Mode </span>┃<span style=\"color: #808000; text-decoration-color: #808000; font-weight: bold\"> Experiment </span>┃\n",
       "┃<span style=\"color: #008080; text-decoration-color: #008080; font-weight: bold\"> 🎭 Trial Boundary  </span>┃<span style=\"color: #808000; text-decoration-color: #808000; font-weight: bold\"> Start      </span>┃\n",
       "┃<span style=\"color: #008080; text-decoration-color: #008080; font-weight: bold\"> 🔬 Trial Type      </span>┃<span style=\"color: #808000; text-decoration-color: #808000; font-weight: bold\"> Stimulus   </span>┃\n",
       "┃<span style=\"color: #008080; text-decoration-color: #008080; font-weight: bold\"> 📊 Modality        </span>┃<span style=\"color: #808000; text-decoration-color: #808000; font-weight: bold\"> Pictures   </span>┃\n",
       "┃<span style=\"color: #008080; text-decoration-color: #008080; font-weight: bold\"> ⏱ Tmin             </span>┃<span style=\"color: #808000; text-decoration-color: #808000; font-weight: bold\"> </span><span style=\"color: #008080; text-decoration-color: #008080; font-weight: bold\">-0.2</span><span style=\"color: #808000; text-decoration-color: #808000; font-weight: bold\">       </span>┃\n",
       "┃<span style=\"color: #008080; text-decoration-color: #008080; font-weight: bold\"> ⏳ Tmax            </span>┃<span style=\"color: #808000; text-decoration-color: #808000; font-weight: bold\"> </span><span style=\"color: #008080; text-decoration-color: #008080; font-weight: bold\">0.5</span><span style=\"color: #808000; text-decoration-color: #808000; font-weight: bold\">        </span>┃\n",
       "┗━━━━━━━━━━━━━━━━━━━━┻━━━━━━━━━━━━┛\n",
       "</pre>\n"
      ],
      "text/plain": [
       "\u001b[3m        Extraction Criteria        \u001b[0m\n",
       "┏━━━━━━━━━━━━━━━━━━━━┳━━━━━━━━━━━━┓\n",
       "┃\u001b[1m \u001b[0m\u001b[1mParameter         \u001b[0m\u001b[1m \u001b[0m┃\u001b[1m \u001b[0m\u001b[1mValue     \u001b[0m\u001b[1m \u001b[0m┃\n",
       "┣━━━━━━━━━━━━━━━━━━━━╋━━━━━━━━━━━━┫\n",
       "┃\u001b[1;36m \u001b[0m\u001b[1;36m🧪 Trial Mode     \u001b[0m\u001b[1;36m \u001b[0m┃\u001b[1;33m \u001b[0m\u001b[1;33m          \u001b[0m\u001b[1;33m \u001b[0m┃\n",
       "┃\u001b[1;36m \u001b[0m\u001b[1;36m📏 Trial Unit     \u001b[0m\u001b[1;36m \u001b[0m┃\u001b[1;33m \u001b[0m\u001b[1;33mWords     \u001b[0m\u001b[1;33m \u001b[0m┃\n",
       "┃\u001b[1;36m \u001b[0m\u001b[1;36m🔗 Experiment Mode\u001b[0m\u001b[1;36m \u001b[0m┃\u001b[1;33m \u001b[0m\u001b[1;33mExperiment\u001b[0m\u001b[1;33m \u001b[0m┃\n",
       "┃\u001b[1;36m \u001b[0m\u001b[1;36m🎭 Trial Boundary \u001b[0m\u001b[1;36m \u001b[0m┃\u001b[1;33m \u001b[0m\u001b[1;33mStart     \u001b[0m\u001b[1;33m \u001b[0m┃\n",
       "┃\u001b[1;36m \u001b[0m\u001b[1;36m🔬 Trial Type     \u001b[0m\u001b[1;36m \u001b[0m┃\u001b[1;33m \u001b[0m\u001b[1;33mStimulus  \u001b[0m\u001b[1;33m \u001b[0m┃\n",
       "┃\u001b[1;36m \u001b[0m\u001b[1;36m📊 Modality       \u001b[0m\u001b[1;36m \u001b[0m┃\u001b[1;33m \u001b[0m\u001b[1;33mPictures  \u001b[0m\u001b[1;33m \u001b[0m┃\n",
       "┃\u001b[1;36m \u001b[0m\u001b[1;36m⏱ Tmin            \u001b[0m\u001b[1;36m \u001b[0m┃\u001b[1;33m \u001b[0m\u001b[1;36m-0.2\u001b[0m\u001b[1;33m      \u001b[0m\u001b[1;33m \u001b[0m┃\n",
       "┃\u001b[1;36m \u001b[0m\u001b[1;36m⏳ Tmax           \u001b[0m\u001b[1;36m \u001b[0m┃\u001b[1;33m \u001b[0m\u001b[1;36m0.5\u001b[0m\u001b[1;33m       \u001b[0m\u001b[1;33m \u001b[0m┃\n",
       "┗━━━━━━━━━━━━━━━━━━━━┻━━━━━━━━━━━━┛\n"
      ]
     },
     "metadata": {},
     "output_type": "display_data"
    },
    {
     "name": "stdout",
     "output_type": "stream",
     "text": [
      "Not setting metadata\n",
      "130 matching events found\n",
      "Applying baseline correction (mode: mean)\n",
      "0 projection items activated\n",
      "Using data from preloaded Raw for 130 events and 701 original time points ...\n",
      "0 bad epochs dropped\n"
     ]
    },
    {
     "data": {
      "text/html": [
       "<pre style=\"white-space:pre;overflow-x:auto;line-height:normal;font-family:Menlo,'DejaVu Sans Mono',consolas,'Courier New',monospace\"> <span style=\"color: #008000; text-decoration-color: #008000; font-weight: bold\">Loading for sub-</span><span style=\"color: #008000; text-decoration-color: #008000; font-weight: bold\">03</span><span style=\"color: #008000; text-decoration-color: #008000; font-weight: bold\">, ses-</span><span style=\"color: #008000; text-decoration-color: #008000; font-weight: bold\">01</span>\n",
       "</pre>\n"
      ],
      "text/plain": [
       " \u001b[1;32mLoading for sub-\u001b[0m\u001b[1;32m03\u001b[0m\u001b[1;32m, ses-\u001b[0m\u001b[1;32m01\u001b[0m\n"
      ]
     },
     "metadata": {},
     "output_type": "display_data"
    },
    {
     "data": {
      "text/html": [
       "<pre style=\"white-space:pre;overflow-x:auto;line-height:normal;font-family:Menlo,'DejaVu Sans Mono',consolas,'Courier New',monospace\"><span style=\"color: #800000; text-decoration-color: #800000\">╭────────────────────────────────╮</span>\n",
       "<span style=\"color: #800000; text-decoration-color: #800000\">│</span>  <span style=\"color: #800000; text-decoration-color: #800000; font-weight: bold\">Initializing DataLoader Class</span> <span style=\"color: #800000; text-decoration-color: #800000\">│</span>\n",
       "<span style=\"color: #800000; text-decoration-color: #800000\">╰────────────────────────────────╯</span>\n",
       "</pre>\n"
      ],
      "text/plain": [
       "\u001b[31m╭────────────────────────────────╮\u001b[0m\n",
       "\u001b[31m│\u001b[0m  \u001b[1;31mInitializing DataLoader Class\u001b[0m \u001b[31m│\u001b[0m\n",
       "\u001b[31m╰────────────────────────────────╯\u001b[0m\n"
      ]
     },
     "metadata": {},
     "output_type": "display_data"
    },
    {
     "data": {
      "text/html": [
       "<pre style=\"white-space:pre;overflow-x:auto;line-height:normal;font-family:Menlo,'DejaVu Sans Mono',consolas,'Courier New',monospace\"> <span style=\"color: #008000; text-decoration-color: #008000; font-weight: bold\">Creating EPOCHS</span>\n",
       "</pre>\n"
      ],
      "text/plain": [
       " \u001b[1;32mCreating EPOCHS\u001b[0m\n"
      ]
     },
     "metadata": {},
     "output_type": "display_data"
    },
    {
     "data": {
      "text/html": [
       "<pre style=\"white-space:pre;overflow-x:auto;line-height:normal;font-family:Menlo,'DejaVu Sans Mono',consolas,'Courier New',monospace\"><span style=\"font-style: italic\">        Extraction Criteria        </span>\n",
       "┏━━━━━━━━━━━━━━━━━━━━┳━━━━━━━━━━━━┓\n",
       "┃<span style=\"font-weight: bold\"> Parameter          </span>┃<span style=\"font-weight: bold\"> Value      </span>┃\n",
       "┣━━━━━━━━━━━━━━━━━━━━╋━━━━━━━━━━━━┫\n",
       "┃<span style=\"color: #008080; text-decoration-color: #008080; font-weight: bold\"> 🧪 Trial Mode      </span>┃<span style=\"color: #808000; text-decoration-color: #808000; font-weight: bold\">            </span>┃\n",
       "┃<span style=\"color: #008080; text-decoration-color: #008080; font-weight: bold\"> 📏 Trial Unit      </span>┃<span style=\"color: #808000; text-decoration-color: #808000; font-weight: bold\"> Words      </span>┃\n",
       "┃<span style=\"color: #008080; text-decoration-color: #008080; font-weight: bold\"> 🔗 Experiment Mode </span>┃<span style=\"color: #808000; text-decoration-color: #808000; font-weight: bold\"> Experiment </span>┃\n",
       "┃<span style=\"color: #008080; text-decoration-color: #008080; font-weight: bold\"> 🎭 Trial Boundary  </span>┃<span style=\"color: #808000; text-decoration-color: #808000; font-weight: bold\"> Start      </span>┃\n",
       "┃<span style=\"color: #008080; text-decoration-color: #008080; font-weight: bold\"> 🔬 Trial Type      </span>┃<span style=\"color: #808000; text-decoration-color: #808000; font-weight: bold\"> Stimulus   </span>┃\n",
       "┃<span style=\"color: #008080; text-decoration-color: #008080; font-weight: bold\"> 📊 Modality        </span>┃<span style=\"color: #808000; text-decoration-color: #808000; font-weight: bold\"> Pictures   </span>┃\n",
       "┃<span style=\"color: #008080; text-decoration-color: #008080; font-weight: bold\"> ⏱ Tmin             </span>┃<span style=\"color: #808000; text-decoration-color: #808000; font-weight: bold\"> </span><span style=\"color: #008080; text-decoration-color: #008080; font-weight: bold\">-0.2</span><span style=\"color: #808000; text-decoration-color: #808000; font-weight: bold\">       </span>┃\n",
       "┃<span style=\"color: #008080; text-decoration-color: #008080; font-weight: bold\"> ⏳ Tmax            </span>┃<span style=\"color: #808000; text-decoration-color: #808000; font-weight: bold\"> </span><span style=\"color: #008080; text-decoration-color: #008080; font-weight: bold\">0.5</span><span style=\"color: #808000; text-decoration-color: #808000; font-weight: bold\">        </span>┃\n",
       "┗━━━━━━━━━━━━━━━━━━━━┻━━━━━━━━━━━━┛\n",
       "</pre>\n"
      ],
      "text/plain": [
       "\u001b[3m        Extraction Criteria        \u001b[0m\n",
       "┏━━━━━━━━━━━━━━━━━━━━┳━━━━━━━━━━━━┓\n",
       "┃\u001b[1m \u001b[0m\u001b[1mParameter         \u001b[0m\u001b[1m \u001b[0m┃\u001b[1m \u001b[0m\u001b[1mValue     \u001b[0m\u001b[1m \u001b[0m┃\n",
       "┣━━━━━━━━━━━━━━━━━━━━╋━━━━━━━━━━━━┫\n",
       "┃\u001b[1;36m \u001b[0m\u001b[1;36m🧪 Trial Mode     \u001b[0m\u001b[1;36m \u001b[0m┃\u001b[1;33m \u001b[0m\u001b[1;33m          \u001b[0m\u001b[1;33m \u001b[0m┃\n",
       "┃\u001b[1;36m \u001b[0m\u001b[1;36m📏 Trial Unit     \u001b[0m\u001b[1;36m \u001b[0m┃\u001b[1;33m \u001b[0m\u001b[1;33mWords     \u001b[0m\u001b[1;33m \u001b[0m┃\n",
       "┃\u001b[1;36m \u001b[0m\u001b[1;36m🔗 Experiment Mode\u001b[0m\u001b[1;36m \u001b[0m┃\u001b[1;33m \u001b[0m\u001b[1;33mExperiment\u001b[0m\u001b[1;33m \u001b[0m┃\n",
       "┃\u001b[1;36m \u001b[0m\u001b[1;36m🎭 Trial Boundary \u001b[0m\u001b[1;36m \u001b[0m┃\u001b[1;33m \u001b[0m\u001b[1;33mStart     \u001b[0m\u001b[1;33m \u001b[0m┃\n",
       "┃\u001b[1;36m \u001b[0m\u001b[1;36m🔬 Trial Type     \u001b[0m\u001b[1;36m \u001b[0m┃\u001b[1;33m \u001b[0m\u001b[1;33mStimulus  \u001b[0m\u001b[1;33m \u001b[0m┃\n",
       "┃\u001b[1;36m \u001b[0m\u001b[1;36m📊 Modality       \u001b[0m\u001b[1;36m \u001b[0m┃\u001b[1;33m \u001b[0m\u001b[1;33mPictures  \u001b[0m\u001b[1;33m \u001b[0m┃\n",
       "┃\u001b[1;36m \u001b[0m\u001b[1;36m⏱ Tmin            \u001b[0m\u001b[1;36m \u001b[0m┃\u001b[1;33m \u001b[0m\u001b[1;36m-0.2\u001b[0m\u001b[1;33m      \u001b[0m\u001b[1;33m \u001b[0m┃\n",
       "┃\u001b[1;36m \u001b[0m\u001b[1;36m⏳ Tmax           \u001b[0m\u001b[1;36m \u001b[0m┃\u001b[1;33m \u001b[0m\u001b[1;36m0.5\u001b[0m\u001b[1;33m       \u001b[0m\u001b[1;33m \u001b[0m┃\n",
       "┗━━━━━━━━━━━━━━━━━━━━┻━━━━━━━━━━━━┛\n"
      ]
     },
     "metadata": {},
     "output_type": "display_data"
    },
    {
     "name": "stdout",
     "output_type": "stream",
     "text": [
      "Not setting metadata\n",
      "130 matching events found\n",
      "Applying baseline correction (mode: mean)\n",
      "0 projection items activated\n",
      "Using data from preloaded Raw for 130 events and 701 original time points ...\n",
      "0 bad epochs dropped\n"
     ]
    },
    {
     "data": {
      "text/html": [
       "<pre style=\"white-space:pre;overflow-x:auto;line-height:normal;font-family:Menlo,'DejaVu Sans Mono',consolas,'Courier New',monospace\"> <span style=\"color: #008000; text-decoration-color: #008000; font-weight: bold\">Loading for sub-</span><span style=\"color: #008000; text-decoration-color: #008000; font-weight: bold\">04</span><span style=\"color: #008000; text-decoration-color: #008000; font-weight: bold\">, ses-</span><span style=\"color: #008000; text-decoration-color: #008000; font-weight: bold\">01</span>\n",
       "</pre>\n"
      ],
      "text/plain": [
       " \u001b[1;32mLoading for sub-\u001b[0m\u001b[1;32m04\u001b[0m\u001b[1;32m, ses-\u001b[0m\u001b[1;32m01\u001b[0m\n"
      ]
     },
     "metadata": {},
     "output_type": "display_data"
    },
    {
     "data": {
      "text/html": [
       "<pre style=\"white-space:pre;overflow-x:auto;line-height:normal;font-family:Menlo,'DejaVu Sans Mono',consolas,'Courier New',monospace\"><span style=\"color: #800000; text-decoration-color: #800000\">╭────────────────────────────────╮</span>\n",
       "<span style=\"color: #800000; text-decoration-color: #800000\">│</span>  <span style=\"color: #800000; text-decoration-color: #800000; font-weight: bold\">Initializing DataLoader Class</span> <span style=\"color: #800000; text-decoration-color: #800000\">│</span>\n",
       "<span style=\"color: #800000; text-decoration-color: #800000\">╰────────────────────────────────╯</span>\n",
       "</pre>\n"
      ],
      "text/plain": [
       "\u001b[31m╭────────────────────────────────╮\u001b[0m\n",
       "\u001b[31m│\u001b[0m  \u001b[1;31mInitializing DataLoader Class\u001b[0m \u001b[31m│\u001b[0m\n",
       "\u001b[31m╰────────────────────────────────╯\u001b[0m\n"
      ]
     },
     "metadata": {},
     "output_type": "display_data"
    },
    {
     "data": {
      "text/html": [
       "<pre style=\"white-space:pre;overflow-x:auto;line-height:normal;font-family:Menlo,'DejaVu Sans Mono',consolas,'Courier New',monospace\"> <span style=\"color: #008000; text-decoration-color: #008000; font-weight: bold\">Creating EPOCHS</span>\n",
       "</pre>\n"
      ],
      "text/plain": [
       " \u001b[1;32mCreating EPOCHS\u001b[0m\n"
      ]
     },
     "metadata": {},
     "output_type": "display_data"
    },
    {
     "data": {
      "text/html": [
       "<pre style=\"white-space:pre;overflow-x:auto;line-height:normal;font-family:Menlo,'DejaVu Sans Mono',consolas,'Courier New',monospace\"><span style=\"font-style: italic\">        Extraction Criteria        </span>\n",
       "┏━━━━━━━━━━━━━━━━━━━━┳━━━━━━━━━━━━┓\n",
       "┃<span style=\"font-weight: bold\"> Parameter          </span>┃<span style=\"font-weight: bold\"> Value      </span>┃\n",
       "┣━━━━━━━━━━━━━━━━━━━━╋━━━━━━━━━━━━┫\n",
       "┃<span style=\"color: #008080; text-decoration-color: #008080; font-weight: bold\"> 🧪 Trial Mode      </span>┃<span style=\"color: #808000; text-decoration-color: #808000; font-weight: bold\">            </span>┃\n",
       "┃<span style=\"color: #008080; text-decoration-color: #008080; font-weight: bold\"> 📏 Trial Unit      </span>┃<span style=\"color: #808000; text-decoration-color: #808000; font-weight: bold\"> Words      </span>┃\n",
       "┃<span style=\"color: #008080; text-decoration-color: #008080; font-weight: bold\"> 🔗 Experiment Mode </span>┃<span style=\"color: #808000; text-decoration-color: #808000; font-weight: bold\"> Experiment </span>┃\n",
       "┃<span style=\"color: #008080; text-decoration-color: #008080; font-weight: bold\"> 🎭 Trial Boundary  </span>┃<span style=\"color: #808000; text-decoration-color: #808000; font-weight: bold\"> Start      </span>┃\n",
       "┃<span style=\"color: #008080; text-decoration-color: #008080; font-weight: bold\"> 🔬 Trial Type      </span>┃<span style=\"color: #808000; text-decoration-color: #808000; font-weight: bold\"> Stimulus   </span>┃\n",
       "┃<span style=\"color: #008080; text-decoration-color: #008080; font-weight: bold\"> 📊 Modality        </span>┃<span style=\"color: #808000; text-decoration-color: #808000; font-weight: bold\"> Pictures   </span>┃\n",
       "┃<span style=\"color: #008080; text-decoration-color: #008080; font-weight: bold\"> ⏱ Tmin             </span>┃<span style=\"color: #808000; text-decoration-color: #808000; font-weight: bold\"> </span><span style=\"color: #008080; text-decoration-color: #008080; font-weight: bold\">-0.2</span><span style=\"color: #808000; text-decoration-color: #808000; font-weight: bold\">       </span>┃\n",
       "┃<span style=\"color: #008080; text-decoration-color: #008080; font-weight: bold\"> ⏳ Tmax            </span>┃<span style=\"color: #808000; text-decoration-color: #808000; font-weight: bold\"> </span><span style=\"color: #008080; text-decoration-color: #008080; font-weight: bold\">0.5</span><span style=\"color: #808000; text-decoration-color: #808000; font-weight: bold\">        </span>┃\n",
       "┗━━━━━━━━━━━━━━━━━━━━┻━━━━━━━━━━━━┛\n",
       "</pre>\n"
      ],
      "text/plain": [
       "\u001b[3m        Extraction Criteria        \u001b[0m\n",
       "┏━━━━━━━━━━━━━━━━━━━━┳━━━━━━━━━━━━┓\n",
       "┃\u001b[1m \u001b[0m\u001b[1mParameter         \u001b[0m\u001b[1m \u001b[0m┃\u001b[1m \u001b[0m\u001b[1mValue     \u001b[0m\u001b[1m \u001b[0m┃\n",
       "┣━━━━━━━━━━━━━━━━━━━━╋━━━━━━━━━━━━┫\n",
       "┃\u001b[1;36m \u001b[0m\u001b[1;36m🧪 Trial Mode     \u001b[0m\u001b[1;36m \u001b[0m┃\u001b[1;33m \u001b[0m\u001b[1;33m          \u001b[0m\u001b[1;33m \u001b[0m┃\n",
       "┃\u001b[1;36m \u001b[0m\u001b[1;36m📏 Trial Unit     \u001b[0m\u001b[1;36m \u001b[0m┃\u001b[1;33m \u001b[0m\u001b[1;33mWords     \u001b[0m\u001b[1;33m \u001b[0m┃\n",
       "┃\u001b[1;36m \u001b[0m\u001b[1;36m🔗 Experiment Mode\u001b[0m\u001b[1;36m \u001b[0m┃\u001b[1;33m \u001b[0m\u001b[1;33mExperiment\u001b[0m\u001b[1;33m \u001b[0m┃\n",
       "┃\u001b[1;36m \u001b[0m\u001b[1;36m🎭 Trial Boundary \u001b[0m\u001b[1;36m \u001b[0m┃\u001b[1;33m \u001b[0m\u001b[1;33mStart     \u001b[0m\u001b[1;33m \u001b[0m┃\n",
       "┃\u001b[1;36m \u001b[0m\u001b[1;36m🔬 Trial Type     \u001b[0m\u001b[1;36m \u001b[0m┃\u001b[1;33m \u001b[0m\u001b[1;33mStimulus  \u001b[0m\u001b[1;33m \u001b[0m┃\n",
       "┃\u001b[1;36m \u001b[0m\u001b[1;36m📊 Modality       \u001b[0m\u001b[1;36m \u001b[0m┃\u001b[1;33m \u001b[0m\u001b[1;33mPictures  \u001b[0m\u001b[1;33m \u001b[0m┃\n",
       "┃\u001b[1;36m \u001b[0m\u001b[1;36m⏱ Tmin            \u001b[0m\u001b[1;36m \u001b[0m┃\u001b[1;33m \u001b[0m\u001b[1;36m-0.2\u001b[0m\u001b[1;33m      \u001b[0m\u001b[1;33m \u001b[0m┃\n",
       "┃\u001b[1;36m \u001b[0m\u001b[1;36m⏳ Tmax           \u001b[0m\u001b[1;36m \u001b[0m┃\u001b[1;33m \u001b[0m\u001b[1;36m0.5\u001b[0m\u001b[1;33m       \u001b[0m\u001b[1;33m \u001b[0m┃\n",
       "┗━━━━━━━━━━━━━━━━━━━━┻━━━━━━━━━━━━┛\n"
      ]
     },
     "metadata": {},
     "output_type": "display_data"
    },
    {
     "name": "stdout",
     "output_type": "stream",
     "text": [
      "Not setting metadata\n",
      "130 matching events found\n",
      "Applying baseline correction (mode: mean)\n",
      "0 projection items activated\n",
      "Using data from preloaded Raw for 130 events and 701 original time points ...\n",
      "0 bad epochs dropped\n"
     ]
    },
    {
     "data": {
      "text/html": [
       "<pre style=\"white-space:pre;overflow-x:auto;line-height:normal;font-family:Menlo,'DejaVu Sans Mono',consolas,'Courier New',monospace\"> <span style=\"color: #008000; text-decoration-color: #008000; font-weight: bold\">Loading for sub-</span><span style=\"color: #008000; text-decoration-color: #008000; font-weight: bold\">04</span><span style=\"color: #008000; text-decoration-color: #008000; font-weight: bold\">, ses-</span><span style=\"color: #008000; text-decoration-color: #008000; font-weight: bold\">02</span>\n",
       "</pre>\n"
      ],
      "text/plain": [
       " \u001b[1;32mLoading for sub-\u001b[0m\u001b[1;32m04\u001b[0m\u001b[1;32m, ses-\u001b[0m\u001b[1;32m02\u001b[0m\n"
      ]
     },
     "metadata": {},
     "output_type": "display_data"
    },
    {
     "data": {
      "text/html": [
       "<pre style=\"white-space:pre;overflow-x:auto;line-height:normal;font-family:Menlo,'DejaVu Sans Mono',consolas,'Courier New',monospace\"><span style=\"color: #800000; text-decoration-color: #800000\">╭────────────────────────────────╮</span>\n",
       "<span style=\"color: #800000; text-decoration-color: #800000\">│</span>  <span style=\"color: #800000; text-decoration-color: #800000; font-weight: bold\">Initializing DataLoader Class</span> <span style=\"color: #800000; text-decoration-color: #800000\">│</span>\n",
       "<span style=\"color: #800000; text-decoration-color: #800000\">╰────────────────────────────────╯</span>\n",
       "</pre>\n"
      ],
      "text/plain": [
       "\u001b[31m╭────────────────────────────────╮\u001b[0m\n",
       "\u001b[31m│\u001b[0m  \u001b[1;31mInitializing DataLoader Class\u001b[0m \u001b[31m│\u001b[0m\n",
       "\u001b[31m╰────────────────────────────────╯\u001b[0m\n"
      ]
     },
     "metadata": {},
     "output_type": "display_data"
    },
    {
     "data": {
      "text/html": [
       "<pre style=\"white-space:pre;overflow-x:auto;line-height:normal;font-family:Menlo,'DejaVu Sans Mono',consolas,'Courier New',monospace\"> <span style=\"color: #008000; text-decoration-color: #008000; font-weight: bold\">Creating EPOCHS</span>\n",
       "</pre>\n"
      ],
      "text/plain": [
       " \u001b[1;32mCreating EPOCHS\u001b[0m\n"
      ]
     },
     "metadata": {},
     "output_type": "display_data"
    },
    {
     "data": {
      "text/html": [
       "<pre style=\"white-space:pre;overflow-x:auto;line-height:normal;font-family:Menlo,'DejaVu Sans Mono',consolas,'Courier New',monospace\"><span style=\"font-style: italic\">        Extraction Criteria        </span>\n",
       "┏━━━━━━━━━━━━━━━━━━━━┳━━━━━━━━━━━━┓\n",
       "┃<span style=\"font-weight: bold\"> Parameter          </span>┃<span style=\"font-weight: bold\"> Value      </span>┃\n",
       "┣━━━━━━━━━━━━━━━━━━━━╋━━━━━━━━━━━━┫\n",
       "┃<span style=\"color: #008080; text-decoration-color: #008080; font-weight: bold\"> 🧪 Trial Mode      </span>┃<span style=\"color: #808000; text-decoration-color: #808000; font-weight: bold\">            </span>┃\n",
       "┃<span style=\"color: #008080; text-decoration-color: #008080; font-weight: bold\"> 📏 Trial Unit      </span>┃<span style=\"color: #808000; text-decoration-color: #808000; font-weight: bold\"> Words      </span>┃\n",
       "┃<span style=\"color: #008080; text-decoration-color: #008080; font-weight: bold\"> 🔗 Experiment Mode </span>┃<span style=\"color: #808000; text-decoration-color: #808000; font-weight: bold\"> Experiment </span>┃\n",
       "┃<span style=\"color: #008080; text-decoration-color: #008080; font-weight: bold\"> 🎭 Trial Boundary  </span>┃<span style=\"color: #808000; text-decoration-color: #808000; font-weight: bold\"> Start      </span>┃\n",
       "┃<span style=\"color: #008080; text-decoration-color: #008080; font-weight: bold\"> 🔬 Trial Type      </span>┃<span style=\"color: #808000; text-decoration-color: #808000; font-weight: bold\"> Stimulus   </span>┃\n",
       "┃<span style=\"color: #008080; text-decoration-color: #008080; font-weight: bold\"> 📊 Modality        </span>┃<span style=\"color: #808000; text-decoration-color: #808000; font-weight: bold\"> Pictures   </span>┃\n",
       "┃<span style=\"color: #008080; text-decoration-color: #008080; font-weight: bold\"> ⏱ Tmin             </span>┃<span style=\"color: #808000; text-decoration-color: #808000; font-weight: bold\"> </span><span style=\"color: #008080; text-decoration-color: #008080; font-weight: bold\">-0.2</span><span style=\"color: #808000; text-decoration-color: #808000; font-weight: bold\">       </span>┃\n",
       "┃<span style=\"color: #008080; text-decoration-color: #008080; font-weight: bold\"> ⏳ Tmax            </span>┃<span style=\"color: #808000; text-decoration-color: #808000; font-weight: bold\"> </span><span style=\"color: #008080; text-decoration-color: #008080; font-weight: bold\">0.5</span><span style=\"color: #808000; text-decoration-color: #808000; font-weight: bold\">        </span>┃\n",
       "┗━━━━━━━━━━━━━━━━━━━━┻━━━━━━━━━━━━┛\n",
       "</pre>\n"
      ],
      "text/plain": [
       "\u001b[3m        Extraction Criteria        \u001b[0m\n",
       "┏━━━━━━━━━━━━━━━━━━━━┳━━━━━━━━━━━━┓\n",
       "┃\u001b[1m \u001b[0m\u001b[1mParameter         \u001b[0m\u001b[1m \u001b[0m┃\u001b[1m \u001b[0m\u001b[1mValue     \u001b[0m\u001b[1m \u001b[0m┃\n",
       "┣━━━━━━━━━━━━━━━━━━━━╋━━━━━━━━━━━━┫\n",
       "┃\u001b[1;36m \u001b[0m\u001b[1;36m🧪 Trial Mode     \u001b[0m\u001b[1;36m \u001b[0m┃\u001b[1;33m \u001b[0m\u001b[1;33m          \u001b[0m\u001b[1;33m \u001b[0m┃\n",
       "┃\u001b[1;36m \u001b[0m\u001b[1;36m📏 Trial Unit     \u001b[0m\u001b[1;36m \u001b[0m┃\u001b[1;33m \u001b[0m\u001b[1;33mWords     \u001b[0m\u001b[1;33m \u001b[0m┃\n",
       "┃\u001b[1;36m \u001b[0m\u001b[1;36m🔗 Experiment Mode\u001b[0m\u001b[1;36m \u001b[0m┃\u001b[1;33m \u001b[0m\u001b[1;33mExperiment\u001b[0m\u001b[1;33m \u001b[0m┃\n",
       "┃\u001b[1;36m \u001b[0m\u001b[1;36m🎭 Trial Boundary \u001b[0m\u001b[1;36m \u001b[0m┃\u001b[1;33m \u001b[0m\u001b[1;33mStart     \u001b[0m\u001b[1;33m \u001b[0m┃\n",
       "┃\u001b[1;36m \u001b[0m\u001b[1;36m🔬 Trial Type     \u001b[0m\u001b[1;36m \u001b[0m┃\u001b[1;33m \u001b[0m\u001b[1;33mStimulus  \u001b[0m\u001b[1;33m \u001b[0m┃\n",
       "┃\u001b[1;36m \u001b[0m\u001b[1;36m📊 Modality       \u001b[0m\u001b[1;36m \u001b[0m┃\u001b[1;33m \u001b[0m\u001b[1;33mPictures  \u001b[0m\u001b[1;33m \u001b[0m┃\n",
       "┃\u001b[1;36m \u001b[0m\u001b[1;36m⏱ Tmin            \u001b[0m\u001b[1;36m \u001b[0m┃\u001b[1;33m \u001b[0m\u001b[1;36m-0.2\u001b[0m\u001b[1;33m      \u001b[0m\u001b[1;33m \u001b[0m┃\n",
       "┃\u001b[1;36m \u001b[0m\u001b[1;36m⏳ Tmax           \u001b[0m\u001b[1;36m \u001b[0m┃\u001b[1;33m \u001b[0m\u001b[1;36m0.5\u001b[0m\u001b[1;33m       \u001b[0m\u001b[1;33m \u001b[0m┃\n",
       "┗━━━━━━━━━━━━━━━━━━━━┻━━━━━━━━━━━━┛\n"
      ]
     },
     "metadata": {},
     "output_type": "display_data"
    },
    {
     "name": "stdout",
     "output_type": "stream",
     "text": [
      "Not setting metadata\n",
      "130 matching events found\n",
      "Applying baseline correction (mode: mean)\n",
      "0 projection items activated\n",
      "Using data from preloaded Raw for 130 events and 701 original time points ...\n",
      "0 bad epochs dropped\n"
     ]
    },
    {
     "data": {
      "text/html": [
       "<pre style=\"white-space:pre;overflow-x:auto;line-height:normal;font-family:Menlo,'DejaVu Sans Mono',consolas,'Courier New',monospace\"> <span style=\"color: #008000; text-decoration-color: #008000; font-weight: bold\">Loading for sub-</span><span style=\"color: #008000; text-decoration-color: #008000; font-weight: bold\">05</span><span style=\"color: #008000; text-decoration-color: #008000; font-weight: bold\">, ses-</span><span style=\"color: #008000; text-decoration-color: #008000; font-weight: bold\">01</span>\n",
       "</pre>\n"
      ],
      "text/plain": [
       " \u001b[1;32mLoading for sub-\u001b[0m\u001b[1;32m05\u001b[0m\u001b[1;32m, ses-\u001b[0m\u001b[1;32m01\u001b[0m\n"
      ]
     },
     "metadata": {},
     "output_type": "display_data"
    },
    {
     "data": {
      "text/html": [
       "<pre style=\"white-space:pre;overflow-x:auto;line-height:normal;font-family:Menlo,'DejaVu Sans Mono',consolas,'Courier New',monospace\"><span style=\"color: #800000; text-decoration-color: #800000\">╭────────────────────────────────╮</span>\n",
       "<span style=\"color: #800000; text-decoration-color: #800000\">│</span>  <span style=\"color: #800000; text-decoration-color: #800000; font-weight: bold\">Initializing DataLoader Class</span> <span style=\"color: #800000; text-decoration-color: #800000\">│</span>\n",
       "<span style=\"color: #800000; text-decoration-color: #800000\">╰────────────────────────────────╯</span>\n",
       "</pre>\n"
      ],
      "text/plain": [
       "\u001b[31m╭────────────────────────────────╮\u001b[0m\n",
       "\u001b[31m│\u001b[0m  \u001b[1;31mInitializing DataLoader Class\u001b[0m \u001b[31m│\u001b[0m\n",
       "\u001b[31m╰────────────────────────────────╯\u001b[0m\n"
      ]
     },
     "metadata": {},
     "output_type": "display_data"
    },
    {
     "data": {
      "text/html": [
       "<pre style=\"white-space:pre;overflow-x:auto;line-height:normal;font-family:Menlo,'DejaVu Sans Mono',consolas,'Courier New',monospace\"> <span style=\"color: #008000; text-decoration-color: #008000; font-weight: bold\">Creating EPOCHS</span>\n",
       "</pre>\n"
      ],
      "text/plain": [
       " \u001b[1;32mCreating EPOCHS\u001b[0m\n"
      ]
     },
     "metadata": {},
     "output_type": "display_data"
    },
    {
     "data": {
      "text/html": [
       "<pre style=\"white-space:pre;overflow-x:auto;line-height:normal;font-family:Menlo,'DejaVu Sans Mono',consolas,'Courier New',monospace\"><span style=\"font-style: italic\">        Extraction Criteria        </span>\n",
       "┏━━━━━━━━━━━━━━━━━━━━┳━━━━━━━━━━━━┓\n",
       "┃<span style=\"font-weight: bold\"> Parameter          </span>┃<span style=\"font-weight: bold\"> Value      </span>┃\n",
       "┣━━━━━━━━━━━━━━━━━━━━╋━━━━━━━━━━━━┫\n",
       "┃<span style=\"color: #008080; text-decoration-color: #008080; font-weight: bold\"> 🧪 Trial Mode      </span>┃<span style=\"color: #808000; text-decoration-color: #808000; font-weight: bold\">            </span>┃\n",
       "┃<span style=\"color: #008080; text-decoration-color: #008080; font-weight: bold\"> 📏 Trial Unit      </span>┃<span style=\"color: #808000; text-decoration-color: #808000; font-weight: bold\"> Words      </span>┃\n",
       "┃<span style=\"color: #008080; text-decoration-color: #008080; font-weight: bold\"> 🔗 Experiment Mode </span>┃<span style=\"color: #808000; text-decoration-color: #808000; font-weight: bold\"> Experiment </span>┃\n",
       "┃<span style=\"color: #008080; text-decoration-color: #008080; font-weight: bold\"> 🎭 Trial Boundary  </span>┃<span style=\"color: #808000; text-decoration-color: #808000; font-weight: bold\"> Start      </span>┃\n",
       "┃<span style=\"color: #008080; text-decoration-color: #008080; font-weight: bold\"> 🔬 Trial Type      </span>┃<span style=\"color: #808000; text-decoration-color: #808000; font-weight: bold\"> Stimulus   </span>┃\n",
       "┃<span style=\"color: #008080; text-decoration-color: #008080; font-weight: bold\"> 📊 Modality        </span>┃<span style=\"color: #808000; text-decoration-color: #808000; font-weight: bold\"> Pictures   </span>┃\n",
       "┃<span style=\"color: #008080; text-decoration-color: #008080; font-weight: bold\"> ⏱ Tmin             </span>┃<span style=\"color: #808000; text-decoration-color: #808000; font-weight: bold\"> </span><span style=\"color: #008080; text-decoration-color: #008080; font-weight: bold\">-0.2</span><span style=\"color: #808000; text-decoration-color: #808000; font-weight: bold\">       </span>┃\n",
       "┃<span style=\"color: #008080; text-decoration-color: #008080; font-weight: bold\"> ⏳ Tmax            </span>┃<span style=\"color: #808000; text-decoration-color: #808000; font-weight: bold\"> </span><span style=\"color: #008080; text-decoration-color: #008080; font-weight: bold\">0.5</span><span style=\"color: #808000; text-decoration-color: #808000; font-weight: bold\">        </span>┃\n",
       "┗━━━━━━━━━━━━━━━━━━━━┻━━━━━━━━━━━━┛\n",
       "</pre>\n"
      ],
      "text/plain": [
       "\u001b[3m        Extraction Criteria        \u001b[0m\n",
       "┏━━━━━━━━━━━━━━━━━━━━┳━━━━━━━━━━━━┓\n",
       "┃\u001b[1m \u001b[0m\u001b[1mParameter         \u001b[0m\u001b[1m \u001b[0m┃\u001b[1m \u001b[0m\u001b[1mValue     \u001b[0m\u001b[1m \u001b[0m┃\n",
       "┣━━━━━━━━━━━━━━━━━━━━╋━━━━━━━━━━━━┫\n",
       "┃\u001b[1;36m \u001b[0m\u001b[1;36m🧪 Trial Mode     \u001b[0m\u001b[1;36m \u001b[0m┃\u001b[1;33m \u001b[0m\u001b[1;33m          \u001b[0m\u001b[1;33m \u001b[0m┃\n",
       "┃\u001b[1;36m \u001b[0m\u001b[1;36m📏 Trial Unit     \u001b[0m\u001b[1;36m \u001b[0m┃\u001b[1;33m \u001b[0m\u001b[1;33mWords     \u001b[0m\u001b[1;33m \u001b[0m┃\n",
       "┃\u001b[1;36m \u001b[0m\u001b[1;36m🔗 Experiment Mode\u001b[0m\u001b[1;36m \u001b[0m┃\u001b[1;33m \u001b[0m\u001b[1;33mExperiment\u001b[0m\u001b[1;33m \u001b[0m┃\n",
       "┃\u001b[1;36m \u001b[0m\u001b[1;36m🎭 Trial Boundary \u001b[0m\u001b[1;36m \u001b[0m┃\u001b[1;33m \u001b[0m\u001b[1;33mStart     \u001b[0m\u001b[1;33m \u001b[0m┃\n",
       "┃\u001b[1;36m \u001b[0m\u001b[1;36m🔬 Trial Type     \u001b[0m\u001b[1;36m \u001b[0m┃\u001b[1;33m \u001b[0m\u001b[1;33mStimulus  \u001b[0m\u001b[1;33m \u001b[0m┃\n",
       "┃\u001b[1;36m \u001b[0m\u001b[1;36m📊 Modality       \u001b[0m\u001b[1;36m \u001b[0m┃\u001b[1;33m \u001b[0m\u001b[1;33mPictures  \u001b[0m\u001b[1;33m \u001b[0m┃\n",
       "┃\u001b[1;36m \u001b[0m\u001b[1;36m⏱ Tmin            \u001b[0m\u001b[1;36m \u001b[0m┃\u001b[1;33m \u001b[0m\u001b[1;36m-0.2\u001b[0m\u001b[1;33m      \u001b[0m\u001b[1;33m \u001b[0m┃\n",
       "┃\u001b[1;36m \u001b[0m\u001b[1;36m⏳ Tmax           \u001b[0m\u001b[1;36m \u001b[0m┃\u001b[1;33m \u001b[0m\u001b[1;36m0.5\u001b[0m\u001b[1;33m       \u001b[0m\u001b[1;33m \u001b[0m┃\n",
       "┗━━━━━━━━━━━━━━━━━━━━┻━━━━━━━━━━━━┛\n"
      ]
     },
     "metadata": {},
     "output_type": "display_data"
    },
    {
     "name": "stdout",
     "output_type": "stream",
     "text": [
      "Not setting metadata\n",
      "130 matching events found\n",
      "Applying baseline correction (mode: mean)\n",
      "0 projection items activated\n",
      "Using data from preloaded Raw for 130 events and 701 original time points ...\n",
      "0 bad epochs dropped\n"
     ]
    },
    {
     "data": {
      "text/html": [
       "<pre style=\"white-space:pre;overflow-x:auto;line-height:normal;font-family:Menlo,'DejaVu Sans Mono',consolas,'Courier New',monospace\"> <span style=\"color: #008000; text-decoration-color: #008000; font-weight: bold\">Loading for sub-</span><span style=\"color: #008000; text-decoration-color: #008000; font-weight: bold\">05</span><span style=\"color: #008000; text-decoration-color: #008000; font-weight: bold\">, ses-</span><span style=\"color: #008000; text-decoration-color: #008000; font-weight: bold\">02</span>\n",
       "</pre>\n"
      ],
      "text/plain": [
       " \u001b[1;32mLoading for sub-\u001b[0m\u001b[1;32m05\u001b[0m\u001b[1;32m, ses-\u001b[0m\u001b[1;32m02\u001b[0m\n"
      ]
     },
     "metadata": {},
     "output_type": "display_data"
    },
    {
     "data": {
      "text/html": [
       "<pre style=\"white-space:pre;overflow-x:auto;line-height:normal;font-family:Menlo,'DejaVu Sans Mono',consolas,'Courier New',monospace\"><span style=\"color: #800000; text-decoration-color: #800000\">╭────────────────────────────────╮</span>\n",
       "<span style=\"color: #800000; text-decoration-color: #800000\">│</span>  <span style=\"color: #800000; text-decoration-color: #800000; font-weight: bold\">Initializing DataLoader Class</span> <span style=\"color: #800000; text-decoration-color: #800000\">│</span>\n",
       "<span style=\"color: #800000; text-decoration-color: #800000\">╰────────────────────────────────╯</span>\n",
       "</pre>\n"
      ],
      "text/plain": [
       "\u001b[31m╭────────────────────────────────╮\u001b[0m\n",
       "\u001b[31m│\u001b[0m  \u001b[1;31mInitializing DataLoader Class\u001b[0m \u001b[31m│\u001b[0m\n",
       "\u001b[31m╰────────────────────────────────╯\u001b[0m\n"
      ]
     },
     "metadata": {},
     "output_type": "display_data"
    },
    {
     "data": {
      "text/html": [
       "<pre style=\"white-space:pre;overflow-x:auto;line-height:normal;font-family:Menlo,'DejaVu Sans Mono',consolas,'Courier New',monospace\"> <span style=\"color: #008000; text-decoration-color: #008000; font-weight: bold\">Creating EPOCHS</span>\n",
       "</pre>\n"
      ],
      "text/plain": [
       " \u001b[1;32mCreating EPOCHS\u001b[0m\n"
      ]
     },
     "metadata": {},
     "output_type": "display_data"
    },
    {
     "data": {
      "text/html": [
       "<pre style=\"white-space:pre;overflow-x:auto;line-height:normal;font-family:Menlo,'DejaVu Sans Mono',consolas,'Courier New',monospace\"><span style=\"font-style: italic\">        Extraction Criteria        </span>\n",
       "┏━━━━━━━━━━━━━━━━━━━━┳━━━━━━━━━━━━┓\n",
       "┃<span style=\"font-weight: bold\"> Parameter          </span>┃<span style=\"font-weight: bold\"> Value      </span>┃\n",
       "┣━━━━━━━━━━━━━━━━━━━━╋━━━━━━━━━━━━┫\n",
       "┃<span style=\"color: #008080; text-decoration-color: #008080; font-weight: bold\"> 🧪 Trial Mode      </span>┃<span style=\"color: #808000; text-decoration-color: #808000; font-weight: bold\">            </span>┃\n",
       "┃<span style=\"color: #008080; text-decoration-color: #008080; font-weight: bold\"> 📏 Trial Unit      </span>┃<span style=\"color: #808000; text-decoration-color: #808000; font-weight: bold\"> Words      </span>┃\n",
       "┃<span style=\"color: #008080; text-decoration-color: #008080; font-weight: bold\"> 🔗 Experiment Mode </span>┃<span style=\"color: #808000; text-decoration-color: #808000; font-weight: bold\"> Experiment </span>┃\n",
       "┃<span style=\"color: #008080; text-decoration-color: #008080; font-weight: bold\"> 🎭 Trial Boundary  </span>┃<span style=\"color: #808000; text-decoration-color: #808000; font-weight: bold\"> Start      </span>┃\n",
       "┃<span style=\"color: #008080; text-decoration-color: #008080; font-weight: bold\"> 🔬 Trial Type      </span>┃<span style=\"color: #808000; text-decoration-color: #808000; font-weight: bold\"> Stimulus   </span>┃\n",
       "┃<span style=\"color: #008080; text-decoration-color: #008080; font-weight: bold\"> 📊 Modality        </span>┃<span style=\"color: #808000; text-decoration-color: #808000; font-weight: bold\"> Pictures   </span>┃\n",
       "┃<span style=\"color: #008080; text-decoration-color: #008080; font-weight: bold\"> ⏱ Tmin             </span>┃<span style=\"color: #808000; text-decoration-color: #808000; font-weight: bold\"> </span><span style=\"color: #008080; text-decoration-color: #008080; font-weight: bold\">-0.2</span><span style=\"color: #808000; text-decoration-color: #808000; font-weight: bold\">       </span>┃\n",
       "┃<span style=\"color: #008080; text-decoration-color: #008080; font-weight: bold\"> ⏳ Tmax            </span>┃<span style=\"color: #808000; text-decoration-color: #808000; font-weight: bold\"> </span><span style=\"color: #008080; text-decoration-color: #008080; font-weight: bold\">0.5</span><span style=\"color: #808000; text-decoration-color: #808000; font-weight: bold\">        </span>┃\n",
       "┗━━━━━━━━━━━━━━━━━━━━┻━━━━━━━━━━━━┛\n",
       "</pre>\n"
      ],
      "text/plain": [
       "\u001b[3m        Extraction Criteria        \u001b[0m\n",
       "┏━━━━━━━━━━━━━━━━━━━━┳━━━━━━━━━━━━┓\n",
       "┃\u001b[1m \u001b[0m\u001b[1mParameter         \u001b[0m\u001b[1m \u001b[0m┃\u001b[1m \u001b[0m\u001b[1mValue     \u001b[0m\u001b[1m \u001b[0m┃\n",
       "┣━━━━━━━━━━━━━━━━━━━━╋━━━━━━━━━━━━┫\n",
       "┃\u001b[1;36m \u001b[0m\u001b[1;36m🧪 Trial Mode     \u001b[0m\u001b[1;36m \u001b[0m┃\u001b[1;33m \u001b[0m\u001b[1;33m          \u001b[0m\u001b[1;33m \u001b[0m┃\n",
       "┃\u001b[1;36m \u001b[0m\u001b[1;36m📏 Trial Unit     \u001b[0m\u001b[1;36m \u001b[0m┃\u001b[1;33m \u001b[0m\u001b[1;33mWords     \u001b[0m\u001b[1;33m \u001b[0m┃\n",
       "┃\u001b[1;36m \u001b[0m\u001b[1;36m🔗 Experiment Mode\u001b[0m\u001b[1;36m \u001b[0m┃\u001b[1;33m \u001b[0m\u001b[1;33mExperiment\u001b[0m\u001b[1;33m \u001b[0m┃\n",
       "┃\u001b[1;36m \u001b[0m\u001b[1;36m🎭 Trial Boundary \u001b[0m\u001b[1;36m \u001b[0m┃\u001b[1;33m \u001b[0m\u001b[1;33mStart     \u001b[0m\u001b[1;33m \u001b[0m┃\n",
       "┃\u001b[1;36m \u001b[0m\u001b[1;36m🔬 Trial Type     \u001b[0m\u001b[1;36m \u001b[0m┃\u001b[1;33m \u001b[0m\u001b[1;33mStimulus  \u001b[0m\u001b[1;33m \u001b[0m┃\n",
       "┃\u001b[1;36m \u001b[0m\u001b[1;36m📊 Modality       \u001b[0m\u001b[1;36m \u001b[0m┃\u001b[1;33m \u001b[0m\u001b[1;33mPictures  \u001b[0m\u001b[1;33m \u001b[0m┃\n",
       "┃\u001b[1;36m \u001b[0m\u001b[1;36m⏱ Tmin            \u001b[0m\u001b[1;36m \u001b[0m┃\u001b[1;33m \u001b[0m\u001b[1;36m-0.2\u001b[0m\u001b[1;33m      \u001b[0m\u001b[1;33m \u001b[0m┃\n",
       "┃\u001b[1;36m \u001b[0m\u001b[1;36m⏳ Tmax           \u001b[0m\u001b[1;36m \u001b[0m┃\u001b[1;33m \u001b[0m\u001b[1;36m0.5\u001b[0m\u001b[1;33m       \u001b[0m\u001b[1;33m \u001b[0m┃\n",
       "┗━━━━━━━━━━━━━━━━━━━━┻━━━━━━━━━━━━┛\n"
      ]
     },
     "metadata": {},
     "output_type": "display_data"
    },
    {
     "name": "stdout",
     "output_type": "stream",
     "text": [
      "Not setting metadata\n",
      "130 matching events found\n",
      "Applying baseline correction (mode: mean)\n",
      "0 projection items activated\n",
      "Using data from preloaded Raw for 130 events and 701 original time points ...\n",
      "0 bad epochs dropped\n"
     ]
    },
    {
     "data": {
      "text/html": [
       "<pre style=\"white-space:pre;overflow-x:auto;line-height:normal;font-family:Menlo,'DejaVu Sans Mono',consolas,'Courier New',monospace\"> <span style=\"color: #008000; text-decoration-color: #008000; font-weight: bold\">Loading for sub-</span><span style=\"color: #008000; text-decoration-color: #008000; font-weight: bold\">06</span><span style=\"color: #008000; text-decoration-color: #008000; font-weight: bold\">, ses-</span><span style=\"color: #008000; text-decoration-color: #008000; font-weight: bold\">01</span>\n",
       "</pre>\n"
      ],
      "text/plain": [
       " \u001b[1;32mLoading for sub-\u001b[0m\u001b[1;32m06\u001b[0m\u001b[1;32m, ses-\u001b[0m\u001b[1;32m01\u001b[0m\n"
      ]
     },
     "metadata": {},
     "output_type": "display_data"
    },
    {
     "data": {
      "text/html": [
       "<pre style=\"white-space:pre;overflow-x:auto;line-height:normal;font-family:Menlo,'DejaVu Sans Mono',consolas,'Courier New',monospace\"><span style=\"color: #800000; text-decoration-color: #800000\">╭────────────────────────────────╮</span>\n",
       "<span style=\"color: #800000; text-decoration-color: #800000\">│</span>  <span style=\"color: #800000; text-decoration-color: #800000; font-weight: bold\">Initializing DataLoader Class</span> <span style=\"color: #800000; text-decoration-color: #800000\">│</span>\n",
       "<span style=\"color: #800000; text-decoration-color: #800000\">╰────────────────────────────────╯</span>\n",
       "</pre>\n"
      ],
      "text/plain": [
       "\u001b[31m╭────────────────────────────────╮\u001b[0m\n",
       "\u001b[31m│\u001b[0m  \u001b[1;31mInitializing DataLoader Class\u001b[0m \u001b[31m│\u001b[0m\n",
       "\u001b[31m╰────────────────────────────────╯\u001b[0m\n"
      ]
     },
     "metadata": {},
     "output_type": "display_data"
    },
    {
     "data": {
      "text/html": [
       "<pre style=\"white-space:pre;overflow-x:auto;line-height:normal;font-family:Menlo,'DejaVu Sans Mono',consolas,'Courier New',monospace\"> <span style=\"color: #008000; text-decoration-color: #008000; font-weight: bold\">Creating EPOCHS</span>\n",
       "</pre>\n"
      ],
      "text/plain": [
       " \u001b[1;32mCreating EPOCHS\u001b[0m\n"
      ]
     },
     "metadata": {},
     "output_type": "display_data"
    },
    {
     "data": {
      "text/html": [
       "<pre style=\"white-space:pre;overflow-x:auto;line-height:normal;font-family:Menlo,'DejaVu Sans Mono',consolas,'Courier New',monospace\"><span style=\"font-style: italic\">        Extraction Criteria        </span>\n",
       "┏━━━━━━━━━━━━━━━━━━━━┳━━━━━━━━━━━━┓\n",
       "┃<span style=\"font-weight: bold\"> Parameter          </span>┃<span style=\"font-weight: bold\"> Value      </span>┃\n",
       "┣━━━━━━━━━━━━━━━━━━━━╋━━━━━━━━━━━━┫\n",
       "┃<span style=\"color: #008080; text-decoration-color: #008080; font-weight: bold\"> 🧪 Trial Mode      </span>┃<span style=\"color: #808000; text-decoration-color: #808000; font-weight: bold\">            </span>┃\n",
       "┃<span style=\"color: #008080; text-decoration-color: #008080; font-weight: bold\"> 📏 Trial Unit      </span>┃<span style=\"color: #808000; text-decoration-color: #808000; font-weight: bold\"> Words      </span>┃\n",
       "┃<span style=\"color: #008080; text-decoration-color: #008080; font-weight: bold\"> 🔗 Experiment Mode </span>┃<span style=\"color: #808000; text-decoration-color: #808000; font-weight: bold\"> Experiment </span>┃\n",
       "┃<span style=\"color: #008080; text-decoration-color: #008080; font-weight: bold\"> 🎭 Trial Boundary  </span>┃<span style=\"color: #808000; text-decoration-color: #808000; font-weight: bold\"> Start      </span>┃\n",
       "┃<span style=\"color: #008080; text-decoration-color: #008080; font-weight: bold\"> 🔬 Trial Type      </span>┃<span style=\"color: #808000; text-decoration-color: #808000; font-weight: bold\"> Stimulus   </span>┃\n",
       "┃<span style=\"color: #008080; text-decoration-color: #008080; font-weight: bold\"> 📊 Modality        </span>┃<span style=\"color: #808000; text-decoration-color: #808000; font-weight: bold\"> Pictures   </span>┃\n",
       "┃<span style=\"color: #008080; text-decoration-color: #008080; font-weight: bold\"> ⏱ Tmin             </span>┃<span style=\"color: #808000; text-decoration-color: #808000; font-weight: bold\"> </span><span style=\"color: #008080; text-decoration-color: #008080; font-weight: bold\">-0.2</span><span style=\"color: #808000; text-decoration-color: #808000; font-weight: bold\">       </span>┃\n",
       "┃<span style=\"color: #008080; text-decoration-color: #008080; font-weight: bold\"> ⏳ Tmax            </span>┃<span style=\"color: #808000; text-decoration-color: #808000; font-weight: bold\"> </span><span style=\"color: #008080; text-decoration-color: #008080; font-weight: bold\">0.5</span><span style=\"color: #808000; text-decoration-color: #808000; font-weight: bold\">        </span>┃\n",
       "┗━━━━━━━━━━━━━━━━━━━━┻━━━━━━━━━━━━┛\n",
       "</pre>\n"
      ],
      "text/plain": [
       "\u001b[3m        Extraction Criteria        \u001b[0m\n",
       "┏━━━━━━━━━━━━━━━━━━━━┳━━━━━━━━━━━━┓\n",
       "┃\u001b[1m \u001b[0m\u001b[1mParameter         \u001b[0m\u001b[1m \u001b[0m┃\u001b[1m \u001b[0m\u001b[1mValue     \u001b[0m\u001b[1m \u001b[0m┃\n",
       "┣━━━━━━━━━━━━━━━━━━━━╋━━━━━━━━━━━━┫\n",
       "┃\u001b[1;36m \u001b[0m\u001b[1;36m🧪 Trial Mode     \u001b[0m\u001b[1;36m \u001b[0m┃\u001b[1;33m \u001b[0m\u001b[1;33m          \u001b[0m\u001b[1;33m \u001b[0m┃\n",
       "┃\u001b[1;36m \u001b[0m\u001b[1;36m📏 Trial Unit     \u001b[0m\u001b[1;36m \u001b[0m┃\u001b[1;33m \u001b[0m\u001b[1;33mWords     \u001b[0m\u001b[1;33m \u001b[0m┃\n",
       "┃\u001b[1;36m \u001b[0m\u001b[1;36m🔗 Experiment Mode\u001b[0m\u001b[1;36m \u001b[0m┃\u001b[1;33m \u001b[0m\u001b[1;33mExperiment\u001b[0m\u001b[1;33m \u001b[0m┃\n",
       "┃\u001b[1;36m \u001b[0m\u001b[1;36m🎭 Trial Boundary \u001b[0m\u001b[1;36m \u001b[0m┃\u001b[1;33m \u001b[0m\u001b[1;33mStart     \u001b[0m\u001b[1;33m \u001b[0m┃\n",
       "┃\u001b[1;36m \u001b[0m\u001b[1;36m🔬 Trial Type     \u001b[0m\u001b[1;36m \u001b[0m┃\u001b[1;33m \u001b[0m\u001b[1;33mStimulus  \u001b[0m\u001b[1;33m \u001b[0m┃\n",
       "┃\u001b[1;36m \u001b[0m\u001b[1;36m📊 Modality       \u001b[0m\u001b[1;36m \u001b[0m┃\u001b[1;33m \u001b[0m\u001b[1;33mPictures  \u001b[0m\u001b[1;33m \u001b[0m┃\n",
       "┃\u001b[1;36m \u001b[0m\u001b[1;36m⏱ Tmin            \u001b[0m\u001b[1;36m \u001b[0m┃\u001b[1;33m \u001b[0m\u001b[1;36m-0.2\u001b[0m\u001b[1;33m      \u001b[0m\u001b[1;33m \u001b[0m┃\n",
       "┃\u001b[1;36m \u001b[0m\u001b[1;36m⏳ Tmax           \u001b[0m\u001b[1;36m \u001b[0m┃\u001b[1;33m \u001b[0m\u001b[1;36m0.5\u001b[0m\u001b[1;33m       \u001b[0m\u001b[1;33m \u001b[0m┃\n",
       "┗━━━━━━━━━━━━━━━━━━━━┻━━━━━━━━━━━━┛\n"
      ]
     },
     "metadata": {},
     "output_type": "display_data"
    },
    {
     "name": "stdout",
     "output_type": "stream",
     "text": [
      "Not setting metadata\n",
      "130 matching events found\n",
      "Applying baseline correction (mode: mean)\n",
      "0 projection items activated\n",
      "Using data from preloaded Raw for 130 events and 701 original time points ...\n",
      "0 bad epochs dropped\n"
     ]
    },
    {
     "data": {
      "text/html": [
       "<pre style=\"white-space:pre;overflow-x:auto;line-height:normal;font-family:Menlo,'DejaVu Sans Mono',consolas,'Courier New',monospace\"> <span style=\"color: #008000; text-decoration-color: #008000; font-weight: bold\">Loading for sub-</span><span style=\"color: #008000; text-decoration-color: #008000; font-weight: bold\">06</span><span style=\"color: #008000; text-decoration-color: #008000; font-weight: bold\">, ses-</span><span style=\"color: #008000; text-decoration-color: #008000; font-weight: bold\">02</span>\n",
       "</pre>\n"
      ],
      "text/plain": [
       " \u001b[1;32mLoading for sub-\u001b[0m\u001b[1;32m06\u001b[0m\u001b[1;32m, ses-\u001b[0m\u001b[1;32m02\u001b[0m\n"
      ]
     },
     "metadata": {},
     "output_type": "display_data"
    },
    {
     "data": {
      "text/html": [
       "<pre style=\"white-space:pre;overflow-x:auto;line-height:normal;font-family:Menlo,'DejaVu Sans Mono',consolas,'Courier New',monospace\"><span style=\"color: #800000; text-decoration-color: #800000\">╭────────────────────────────────╮</span>\n",
       "<span style=\"color: #800000; text-decoration-color: #800000\">│</span>  <span style=\"color: #800000; text-decoration-color: #800000; font-weight: bold\">Initializing DataLoader Class</span> <span style=\"color: #800000; text-decoration-color: #800000\">│</span>\n",
       "<span style=\"color: #800000; text-decoration-color: #800000\">╰────────────────────────────────╯</span>\n",
       "</pre>\n"
      ],
      "text/plain": [
       "\u001b[31m╭────────────────────────────────╮\u001b[0m\n",
       "\u001b[31m│\u001b[0m  \u001b[1;31mInitializing DataLoader Class\u001b[0m \u001b[31m│\u001b[0m\n",
       "\u001b[31m╰────────────────────────────────╯\u001b[0m\n"
      ]
     },
     "metadata": {},
     "output_type": "display_data"
    },
    {
     "data": {
      "text/html": [
       "<pre style=\"white-space:pre;overflow-x:auto;line-height:normal;font-family:Menlo,'DejaVu Sans Mono',consolas,'Courier New',monospace\"> <span style=\"color: #008000; text-decoration-color: #008000; font-weight: bold\">Creating EPOCHS</span>\n",
       "</pre>\n"
      ],
      "text/plain": [
       " \u001b[1;32mCreating EPOCHS\u001b[0m\n"
      ]
     },
     "metadata": {},
     "output_type": "display_data"
    },
    {
     "data": {
      "text/html": [
       "<pre style=\"white-space:pre;overflow-x:auto;line-height:normal;font-family:Menlo,'DejaVu Sans Mono',consolas,'Courier New',monospace\"><span style=\"font-style: italic\">        Extraction Criteria        </span>\n",
       "┏━━━━━━━━━━━━━━━━━━━━┳━━━━━━━━━━━━┓\n",
       "┃<span style=\"font-weight: bold\"> Parameter          </span>┃<span style=\"font-weight: bold\"> Value      </span>┃\n",
       "┣━━━━━━━━━━━━━━━━━━━━╋━━━━━━━━━━━━┫\n",
       "┃<span style=\"color: #008080; text-decoration-color: #008080; font-weight: bold\"> 🧪 Trial Mode      </span>┃<span style=\"color: #808000; text-decoration-color: #808000; font-weight: bold\">            </span>┃\n",
       "┃<span style=\"color: #008080; text-decoration-color: #008080; font-weight: bold\"> 📏 Trial Unit      </span>┃<span style=\"color: #808000; text-decoration-color: #808000; font-weight: bold\"> Words      </span>┃\n",
       "┃<span style=\"color: #008080; text-decoration-color: #008080; font-weight: bold\"> 🔗 Experiment Mode </span>┃<span style=\"color: #808000; text-decoration-color: #808000; font-weight: bold\"> Experiment </span>┃\n",
       "┃<span style=\"color: #008080; text-decoration-color: #008080; font-weight: bold\"> 🎭 Trial Boundary  </span>┃<span style=\"color: #808000; text-decoration-color: #808000; font-weight: bold\"> Start      </span>┃\n",
       "┃<span style=\"color: #008080; text-decoration-color: #008080; font-weight: bold\"> 🔬 Trial Type      </span>┃<span style=\"color: #808000; text-decoration-color: #808000; font-weight: bold\"> Stimulus   </span>┃\n",
       "┃<span style=\"color: #008080; text-decoration-color: #008080; font-weight: bold\"> 📊 Modality        </span>┃<span style=\"color: #808000; text-decoration-color: #808000; font-weight: bold\"> Pictures   </span>┃\n",
       "┃<span style=\"color: #008080; text-decoration-color: #008080; font-weight: bold\"> ⏱ Tmin             </span>┃<span style=\"color: #808000; text-decoration-color: #808000; font-weight: bold\"> </span><span style=\"color: #008080; text-decoration-color: #008080; font-weight: bold\">-0.2</span><span style=\"color: #808000; text-decoration-color: #808000; font-weight: bold\">       </span>┃\n",
       "┃<span style=\"color: #008080; text-decoration-color: #008080; font-weight: bold\"> ⏳ Tmax            </span>┃<span style=\"color: #808000; text-decoration-color: #808000; font-weight: bold\"> </span><span style=\"color: #008080; text-decoration-color: #008080; font-weight: bold\">0.5</span><span style=\"color: #808000; text-decoration-color: #808000; font-weight: bold\">        </span>┃\n",
       "┗━━━━━━━━━━━━━━━━━━━━┻━━━━━━━━━━━━┛\n",
       "</pre>\n"
      ],
      "text/plain": [
       "\u001b[3m        Extraction Criteria        \u001b[0m\n",
       "┏━━━━━━━━━━━━━━━━━━━━┳━━━━━━━━━━━━┓\n",
       "┃\u001b[1m \u001b[0m\u001b[1mParameter         \u001b[0m\u001b[1m \u001b[0m┃\u001b[1m \u001b[0m\u001b[1mValue     \u001b[0m\u001b[1m \u001b[0m┃\n",
       "┣━━━━━━━━━━━━━━━━━━━━╋━━━━━━━━━━━━┫\n",
       "┃\u001b[1;36m \u001b[0m\u001b[1;36m🧪 Trial Mode     \u001b[0m\u001b[1;36m \u001b[0m┃\u001b[1;33m \u001b[0m\u001b[1;33m          \u001b[0m\u001b[1;33m \u001b[0m┃\n",
       "┃\u001b[1;36m \u001b[0m\u001b[1;36m📏 Trial Unit     \u001b[0m\u001b[1;36m \u001b[0m┃\u001b[1;33m \u001b[0m\u001b[1;33mWords     \u001b[0m\u001b[1;33m \u001b[0m┃\n",
       "┃\u001b[1;36m \u001b[0m\u001b[1;36m🔗 Experiment Mode\u001b[0m\u001b[1;36m \u001b[0m┃\u001b[1;33m \u001b[0m\u001b[1;33mExperiment\u001b[0m\u001b[1;33m \u001b[0m┃\n",
       "┃\u001b[1;36m \u001b[0m\u001b[1;36m🎭 Trial Boundary \u001b[0m\u001b[1;36m \u001b[0m┃\u001b[1;33m \u001b[0m\u001b[1;33mStart     \u001b[0m\u001b[1;33m \u001b[0m┃\n",
       "┃\u001b[1;36m \u001b[0m\u001b[1;36m🔬 Trial Type     \u001b[0m\u001b[1;36m \u001b[0m┃\u001b[1;33m \u001b[0m\u001b[1;33mStimulus  \u001b[0m\u001b[1;33m \u001b[0m┃\n",
       "┃\u001b[1;36m \u001b[0m\u001b[1;36m📊 Modality       \u001b[0m\u001b[1;36m \u001b[0m┃\u001b[1;33m \u001b[0m\u001b[1;33mPictures  \u001b[0m\u001b[1;33m \u001b[0m┃\n",
       "┃\u001b[1;36m \u001b[0m\u001b[1;36m⏱ Tmin            \u001b[0m\u001b[1;36m \u001b[0m┃\u001b[1;33m \u001b[0m\u001b[1;36m-0.2\u001b[0m\u001b[1;33m      \u001b[0m\u001b[1;33m \u001b[0m┃\n",
       "┃\u001b[1;36m \u001b[0m\u001b[1;36m⏳ Tmax           \u001b[0m\u001b[1;36m \u001b[0m┃\u001b[1;33m \u001b[0m\u001b[1;36m0.5\u001b[0m\u001b[1;33m       \u001b[0m\u001b[1;33m \u001b[0m┃\n",
       "┗━━━━━━━━━━━━━━━━━━━━┻━━━━━━━━━━━━┛\n"
      ]
     },
     "metadata": {},
     "output_type": "display_data"
    },
    {
     "name": "stdout",
     "output_type": "stream",
     "text": [
      "Not setting metadata\n",
      "130 matching events found\n",
      "Applying baseline correction (mode: mean)\n",
      "0 projection items activated\n",
      "Using data from preloaded Raw for 130 events and 701 original time points ...\n",
      "0 bad epochs dropped\n"
     ]
    },
    {
     "data": {
      "text/html": [
       "<pre style=\"white-space:pre;overflow-x:auto;line-height:normal;font-family:Menlo,'DejaVu Sans Mono',consolas,'Courier New',monospace\"> <span style=\"color: #008000; text-decoration-color: #008000; font-weight: bold\">Loading for sub-</span><span style=\"color: #008000; text-decoration-color: #008000; font-weight: bold\">07</span><span style=\"color: #008000; text-decoration-color: #008000; font-weight: bold\">, ses-</span><span style=\"color: #008000; text-decoration-color: #008000; font-weight: bold\">01</span>\n",
       "</pre>\n"
      ],
      "text/plain": [
       " \u001b[1;32mLoading for sub-\u001b[0m\u001b[1;32m07\u001b[0m\u001b[1;32m, ses-\u001b[0m\u001b[1;32m01\u001b[0m\n"
      ]
     },
     "metadata": {},
     "output_type": "display_data"
    },
    {
     "data": {
      "text/html": [
       "<pre style=\"white-space:pre;overflow-x:auto;line-height:normal;font-family:Menlo,'DejaVu Sans Mono',consolas,'Courier New',monospace\"><span style=\"color: #800000; text-decoration-color: #800000\">╭────────────────────────────────╮</span>\n",
       "<span style=\"color: #800000; text-decoration-color: #800000\">│</span>  <span style=\"color: #800000; text-decoration-color: #800000; font-weight: bold\">Initializing DataLoader Class</span> <span style=\"color: #800000; text-decoration-color: #800000\">│</span>\n",
       "<span style=\"color: #800000; text-decoration-color: #800000\">╰────────────────────────────────╯</span>\n",
       "</pre>\n"
      ],
      "text/plain": [
       "\u001b[31m╭────────────────────────────────╮\u001b[0m\n",
       "\u001b[31m│\u001b[0m  \u001b[1;31mInitializing DataLoader Class\u001b[0m \u001b[31m│\u001b[0m\n",
       "\u001b[31m╰────────────────────────────────╯\u001b[0m\n"
      ]
     },
     "metadata": {},
     "output_type": "display_data"
    },
    {
     "data": {
      "text/html": [
       "<pre style=\"white-space:pre;overflow-x:auto;line-height:normal;font-family:Menlo,'DejaVu Sans Mono',consolas,'Courier New',monospace\"> <span style=\"color: #008000; text-decoration-color: #008000; font-weight: bold\">Creating EPOCHS</span>\n",
       "</pre>\n"
      ],
      "text/plain": [
       " \u001b[1;32mCreating EPOCHS\u001b[0m\n"
      ]
     },
     "metadata": {},
     "output_type": "display_data"
    },
    {
     "data": {
      "text/html": [
       "<pre style=\"white-space:pre;overflow-x:auto;line-height:normal;font-family:Menlo,'DejaVu Sans Mono',consolas,'Courier New',monospace\"><span style=\"font-style: italic\">        Extraction Criteria        </span>\n",
       "┏━━━━━━━━━━━━━━━━━━━━┳━━━━━━━━━━━━┓\n",
       "┃<span style=\"font-weight: bold\"> Parameter          </span>┃<span style=\"font-weight: bold\"> Value      </span>┃\n",
       "┣━━━━━━━━━━━━━━━━━━━━╋━━━━━━━━━━━━┫\n",
       "┃<span style=\"color: #008080; text-decoration-color: #008080; font-weight: bold\"> 🧪 Trial Mode      </span>┃<span style=\"color: #808000; text-decoration-color: #808000; font-weight: bold\">            </span>┃\n",
       "┃<span style=\"color: #008080; text-decoration-color: #008080; font-weight: bold\"> 📏 Trial Unit      </span>┃<span style=\"color: #808000; text-decoration-color: #808000; font-weight: bold\"> Words      </span>┃\n",
       "┃<span style=\"color: #008080; text-decoration-color: #008080; font-weight: bold\"> 🔗 Experiment Mode </span>┃<span style=\"color: #808000; text-decoration-color: #808000; font-weight: bold\"> Experiment </span>┃\n",
       "┃<span style=\"color: #008080; text-decoration-color: #008080; font-weight: bold\"> 🎭 Trial Boundary  </span>┃<span style=\"color: #808000; text-decoration-color: #808000; font-weight: bold\"> Start      </span>┃\n",
       "┃<span style=\"color: #008080; text-decoration-color: #008080; font-weight: bold\"> 🔬 Trial Type      </span>┃<span style=\"color: #808000; text-decoration-color: #808000; font-weight: bold\"> Stimulus   </span>┃\n",
       "┃<span style=\"color: #008080; text-decoration-color: #008080; font-weight: bold\"> 📊 Modality        </span>┃<span style=\"color: #808000; text-decoration-color: #808000; font-weight: bold\"> Pictures   </span>┃\n",
       "┃<span style=\"color: #008080; text-decoration-color: #008080; font-weight: bold\"> ⏱ Tmin             </span>┃<span style=\"color: #808000; text-decoration-color: #808000; font-weight: bold\"> </span><span style=\"color: #008080; text-decoration-color: #008080; font-weight: bold\">-0.2</span><span style=\"color: #808000; text-decoration-color: #808000; font-weight: bold\">       </span>┃\n",
       "┃<span style=\"color: #008080; text-decoration-color: #008080; font-weight: bold\"> ⏳ Tmax            </span>┃<span style=\"color: #808000; text-decoration-color: #808000; font-weight: bold\"> </span><span style=\"color: #008080; text-decoration-color: #008080; font-weight: bold\">0.5</span><span style=\"color: #808000; text-decoration-color: #808000; font-weight: bold\">        </span>┃\n",
       "┗━━━━━━━━━━━━━━━━━━━━┻━━━━━━━━━━━━┛\n",
       "</pre>\n"
      ],
      "text/plain": [
       "\u001b[3m        Extraction Criteria        \u001b[0m\n",
       "┏━━━━━━━━━━━━━━━━━━━━┳━━━━━━━━━━━━┓\n",
       "┃\u001b[1m \u001b[0m\u001b[1mParameter         \u001b[0m\u001b[1m \u001b[0m┃\u001b[1m \u001b[0m\u001b[1mValue     \u001b[0m\u001b[1m \u001b[0m┃\n",
       "┣━━━━━━━━━━━━━━━━━━━━╋━━━━━━━━━━━━┫\n",
       "┃\u001b[1;36m \u001b[0m\u001b[1;36m🧪 Trial Mode     \u001b[0m\u001b[1;36m \u001b[0m┃\u001b[1;33m \u001b[0m\u001b[1;33m          \u001b[0m\u001b[1;33m \u001b[0m┃\n",
       "┃\u001b[1;36m \u001b[0m\u001b[1;36m📏 Trial Unit     \u001b[0m\u001b[1;36m \u001b[0m┃\u001b[1;33m \u001b[0m\u001b[1;33mWords     \u001b[0m\u001b[1;33m \u001b[0m┃\n",
       "┃\u001b[1;36m \u001b[0m\u001b[1;36m🔗 Experiment Mode\u001b[0m\u001b[1;36m \u001b[0m┃\u001b[1;33m \u001b[0m\u001b[1;33mExperiment\u001b[0m\u001b[1;33m \u001b[0m┃\n",
       "┃\u001b[1;36m \u001b[0m\u001b[1;36m🎭 Trial Boundary \u001b[0m\u001b[1;36m \u001b[0m┃\u001b[1;33m \u001b[0m\u001b[1;33mStart     \u001b[0m\u001b[1;33m \u001b[0m┃\n",
       "┃\u001b[1;36m \u001b[0m\u001b[1;36m🔬 Trial Type     \u001b[0m\u001b[1;36m \u001b[0m┃\u001b[1;33m \u001b[0m\u001b[1;33mStimulus  \u001b[0m\u001b[1;33m \u001b[0m┃\n",
       "┃\u001b[1;36m \u001b[0m\u001b[1;36m📊 Modality       \u001b[0m\u001b[1;36m \u001b[0m┃\u001b[1;33m \u001b[0m\u001b[1;33mPictures  \u001b[0m\u001b[1;33m \u001b[0m┃\n",
       "┃\u001b[1;36m \u001b[0m\u001b[1;36m⏱ Tmin            \u001b[0m\u001b[1;36m \u001b[0m┃\u001b[1;33m \u001b[0m\u001b[1;36m-0.2\u001b[0m\u001b[1;33m      \u001b[0m\u001b[1;33m \u001b[0m┃\n",
       "┃\u001b[1;36m \u001b[0m\u001b[1;36m⏳ Tmax           \u001b[0m\u001b[1;36m \u001b[0m┃\u001b[1;33m \u001b[0m\u001b[1;36m0.5\u001b[0m\u001b[1;33m       \u001b[0m\u001b[1;33m \u001b[0m┃\n",
       "┗━━━━━━━━━━━━━━━━━━━━┻━━━━━━━━━━━━┛\n"
      ]
     },
     "metadata": {},
     "output_type": "display_data"
    },
    {
     "name": "stdout",
     "output_type": "stream",
     "text": [
      "Not setting metadata\n",
      "130 matching events found\n",
      "Applying baseline correction (mode: mean)\n",
      "0 projection items activated\n",
      "Using data from preloaded Raw for 130 events and 701 original time points ...\n",
      "0 bad epochs dropped\n"
     ]
    },
    {
     "data": {
      "text/html": [
       "<pre style=\"white-space:pre;overflow-x:auto;line-height:normal;font-family:Menlo,'DejaVu Sans Mono',consolas,'Courier New',monospace\"> <span style=\"color: #008000; text-decoration-color: #008000; font-weight: bold\">Loading for sub-</span><span style=\"color: #008000; text-decoration-color: #008000; font-weight: bold\">08</span><span style=\"color: #008000; text-decoration-color: #008000; font-weight: bold\">, ses-</span><span style=\"color: #008000; text-decoration-color: #008000; font-weight: bold\">01</span>\n",
       "</pre>\n"
      ],
      "text/plain": [
       " \u001b[1;32mLoading for sub-\u001b[0m\u001b[1;32m08\u001b[0m\u001b[1;32m, ses-\u001b[0m\u001b[1;32m01\u001b[0m\n"
      ]
     },
     "metadata": {},
     "output_type": "display_data"
    },
    {
     "data": {
      "text/html": [
       "<pre style=\"white-space:pre;overflow-x:auto;line-height:normal;font-family:Menlo,'DejaVu Sans Mono',consolas,'Courier New',monospace\"><span style=\"color: #800000; text-decoration-color: #800000\">╭────────────────────────────────╮</span>\n",
       "<span style=\"color: #800000; text-decoration-color: #800000\">│</span>  <span style=\"color: #800000; text-decoration-color: #800000; font-weight: bold\">Initializing DataLoader Class</span> <span style=\"color: #800000; text-decoration-color: #800000\">│</span>\n",
       "<span style=\"color: #800000; text-decoration-color: #800000\">╰────────────────────────────────╯</span>\n",
       "</pre>\n"
      ],
      "text/plain": [
       "\u001b[31m╭────────────────────────────────╮\u001b[0m\n",
       "\u001b[31m│\u001b[0m  \u001b[1;31mInitializing DataLoader Class\u001b[0m \u001b[31m│\u001b[0m\n",
       "\u001b[31m╰────────────────────────────────╯\u001b[0m\n"
      ]
     },
     "metadata": {},
     "output_type": "display_data"
    },
    {
     "data": {
      "text/html": [
       "<pre style=\"white-space:pre;overflow-x:auto;line-height:normal;font-family:Menlo,'DejaVu Sans Mono',consolas,'Courier New',monospace\"> <span style=\"color: #008000; text-decoration-color: #008000; font-weight: bold\">Creating EPOCHS</span>\n",
       "</pre>\n"
      ],
      "text/plain": [
       " \u001b[1;32mCreating EPOCHS\u001b[0m\n"
      ]
     },
     "metadata": {},
     "output_type": "display_data"
    },
    {
     "data": {
      "text/html": [
       "<pre style=\"white-space:pre;overflow-x:auto;line-height:normal;font-family:Menlo,'DejaVu Sans Mono',consolas,'Courier New',monospace\"><span style=\"font-style: italic\">        Extraction Criteria        </span>\n",
       "┏━━━━━━━━━━━━━━━━━━━━┳━━━━━━━━━━━━┓\n",
       "┃<span style=\"font-weight: bold\"> Parameter          </span>┃<span style=\"font-weight: bold\"> Value      </span>┃\n",
       "┣━━━━━━━━━━━━━━━━━━━━╋━━━━━━━━━━━━┫\n",
       "┃<span style=\"color: #008080; text-decoration-color: #008080; font-weight: bold\"> 🧪 Trial Mode      </span>┃<span style=\"color: #808000; text-decoration-color: #808000; font-weight: bold\">            </span>┃\n",
       "┃<span style=\"color: #008080; text-decoration-color: #008080; font-weight: bold\"> 📏 Trial Unit      </span>┃<span style=\"color: #808000; text-decoration-color: #808000; font-weight: bold\"> Words      </span>┃\n",
       "┃<span style=\"color: #008080; text-decoration-color: #008080; font-weight: bold\"> 🔗 Experiment Mode </span>┃<span style=\"color: #808000; text-decoration-color: #808000; font-weight: bold\"> Experiment </span>┃\n",
       "┃<span style=\"color: #008080; text-decoration-color: #008080; font-weight: bold\"> 🎭 Trial Boundary  </span>┃<span style=\"color: #808000; text-decoration-color: #808000; font-weight: bold\"> Start      </span>┃\n",
       "┃<span style=\"color: #008080; text-decoration-color: #008080; font-weight: bold\"> 🔬 Trial Type      </span>┃<span style=\"color: #808000; text-decoration-color: #808000; font-weight: bold\"> Stimulus   </span>┃\n",
       "┃<span style=\"color: #008080; text-decoration-color: #008080; font-weight: bold\"> 📊 Modality        </span>┃<span style=\"color: #808000; text-decoration-color: #808000; font-weight: bold\"> Pictures   </span>┃\n",
       "┃<span style=\"color: #008080; text-decoration-color: #008080; font-weight: bold\"> ⏱ Tmin             </span>┃<span style=\"color: #808000; text-decoration-color: #808000; font-weight: bold\"> </span><span style=\"color: #008080; text-decoration-color: #008080; font-weight: bold\">-0.2</span><span style=\"color: #808000; text-decoration-color: #808000; font-weight: bold\">       </span>┃\n",
       "┃<span style=\"color: #008080; text-decoration-color: #008080; font-weight: bold\"> ⏳ Tmax            </span>┃<span style=\"color: #808000; text-decoration-color: #808000; font-weight: bold\"> </span><span style=\"color: #008080; text-decoration-color: #008080; font-weight: bold\">0.5</span><span style=\"color: #808000; text-decoration-color: #808000; font-weight: bold\">        </span>┃\n",
       "┗━━━━━━━━━━━━━━━━━━━━┻━━━━━━━━━━━━┛\n",
       "</pre>\n"
      ],
      "text/plain": [
       "\u001b[3m        Extraction Criteria        \u001b[0m\n",
       "┏━━━━━━━━━━━━━━━━━━━━┳━━━━━━━━━━━━┓\n",
       "┃\u001b[1m \u001b[0m\u001b[1mParameter         \u001b[0m\u001b[1m \u001b[0m┃\u001b[1m \u001b[0m\u001b[1mValue     \u001b[0m\u001b[1m \u001b[0m┃\n",
       "┣━━━━━━━━━━━━━━━━━━━━╋━━━━━━━━━━━━┫\n",
       "┃\u001b[1;36m \u001b[0m\u001b[1;36m🧪 Trial Mode     \u001b[0m\u001b[1;36m \u001b[0m┃\u001b[1;33m \u001b[0m\u001b[1;33m          \u001b[0m\u001b[1;33m \u001b[0m┃\n",
       "┃\u001b[1;36m \u001b[0m\u001b[1;36m📏 Trial Unit     \u001b[0m\u001b[1;36m \u001b[0m┃\u001b[1;33m \u001b[0m\u001b[1;33mWords     \u001b[0m\u001b[1;33m \u001b[0m┃\n",
       "┃\u001b[1;36m \u001b[0m\u001b[1;36m🔗 Experiment Mode\u001b[0m\u001b[1;36m \u001b[0m┃\u001b[1;33m \u001b[0m\u001b[1;33mExperiment\u001b[0m\u001b[1;33m \u001b[0m┃\n",
       "┃\u001b[1;36m \u001b[0m\u001b[1;36m🎭 Trial Boundary \u001b[0m\u001b[1;36m \u001b[0m┃\u001b[1;33m \u001b[0m\u001b[1;33mStart     \u001b[0m\u001b[1;33m \u001b[0m┃\n",
       "┃\u001b[1;36m \u001b[0m\u001b[1;36m🔬 Trial Type     \u001b[0m\u001b[1;36m \u001b[0m┃\u001b[1;33m \u001b[0m\u001b[1;33mStimulus  \u001b[0m\u001b[1;33m \u001b[0m┃\n",
       "┃\u001b[1;36m \u001b[0m\u001b[1;36m📊 Modality       \u001b[0m\u001b[1;36m \u001b[0m┃\u001b[1;33m \u001b[0m\u001b[1;33mPictures  \u001b[0m\u001b[1;33m \u001b[0m┃\n",
       "┃\u001b[1;36m \u001b[0m\u001b[1;36m⏱ Tmin            \u001b[0m\u001b[1;36m \u001b[0m┃\u001b[1;33m \u001b[0m\u001b[1;36m-0.2\u001b[0m\u001b[1;33m      \u001b[0m\u001b[1;33m \u001b[0m┃\n",
       "┃\u001b[1;36m \u001b[0m\u001b[1;36m⏳ Tmax           \u001b[0m\u001b[1;36m \u001b[0m┃\u001b[1;33m \u001b[0m\u001b[1;36m0.5\u001b[0m\u001b[1;33m       \u001b[0m\u001b[1;33m \u001b[0m┃\n",
       "┗━━━━━━━━━━━━━━━━━━━━┻━━━━━━━━━━━━┛\n"
      ]
     },
     "metadata": {},
     "output_type": "display_data"
    },
    {
     "name": "stdout",
     "output_type": "stream",
     "text": [
      "Not setting metadata\n",
      "130 matching events found\n",
      "Applying baseline correction (mode: mean)\n",
      "0 projection items activated\n",
      "Using data from preloaded Raw for 130 events and 701 original time points ...\n",
      "0 bad epochs dropped\n"
     ]
    },
    {
     "data": {
      "text/html": [
       "<pre style=\"white-space:pre;overflow-x:auto;line-height:normal;font-family:Menlo,'DejaVu Sans Mono',consolas,'Courier New',monospace\"> <span style=\"color: #008000; text-decoration-color: #008000; font-weight: bold\">Loading for sub-</span><span style=\"color: #008000; text-decoration-color: #008000; font-weight: bold\">09</span><span style=\"color: #008000; text-decoration-color: #008000; font-weight: bold\">, ses-</span><span style=\"color: #008000; text-decoration-color: #008000; font-weight: bold\">01</span>\n",
       "</pre>\n"
      ],
      "text/plain": [
       " \u001b[1;32mLoading for sub-\u001b[0m\u001b[1;32m09\u001b[0m\u001b[1;32m, ses-\u001b[0m\u001b[1;32m01\u001b[0m\n"
      ]
     },
     "metadata": {},
     "output_type": "display_data"
    },
    {
     "data": {
      "text/html": [
       "<pre style=\"white-space:pre;overflow-x:auto;line-height:normal;font-family:Menlo,'DejaVu Sans Mono',consolas,'Courier New',monospace\"><span style=\"color: #800000; text-decoration-color: #800000\">╭────────────────────────────────╮</span>\n",
       "<span style=\"color: #800000; text-decoration-color: #800000\">│</span>  <span style=\"color: #800000; text-decoration-color: #800000; font-weight: bold\">Initializing DataLoader Class</span> <span style=\"color: #800000; text-decoration-color: #800000\">│</span>\n",
       "<span style=\"color: #800000; text-decoration-color: #800000\">╰────────────────────────────────╯</span>\n",
       "</pre>\n"
      ],
      "text/plain": [
       "\u001b[31m╭────────────────────────────────╮\u001b[0m\n",
       "\u001b[31m│\u001b[0m  \u001b[1;31mInitializing DataLoader Class\u001b[0m \u001b[31m│\u001b[0m\n",
       "\u001b[31m╰────────────────────────────────╯\u001b[0m\n"
      ]
     },
     "metadata": {},
     "output_type": "display_data"
    },
    {
     "data": {
      "text/html": [
       "<pre style=\"white-space:pre;overflow-x:auto;line-height:normal;font-family:Menlo,'DejaVu Sans Mono',consolas,'Courier New',monospace\"> <span style=\"color: #008000; text-decoration-color: #008000; font-weight: bold\">Creating EPOCHS</span>\n",
       "</pre>\n"
      ],
      "text/plain": [
       " \u001b[1;32mCreating EPOCHS\u001b[0m\n"
      ]
     },
     "metadata": {},
     "output_type": "display_data"
    },
    {
     "data": {
      "text/html": [
       "<pre style=\"white-space:pre;overflow-x:auto;line-height:normal;font-family:Menlo,'DejaVu Sans Mono',consolas,'Courier New',monospace\"><span style=\"font-style: italic\">        Extraction Criteria        </span>\n",
       "┏━━━━━━━━━━━━━━━━━━━━┳━━━━━━━━━━━━┓\n",
       "┃<span style=\"font-weight: bold\"> Parameter          </span>┃<span style=\"font-weight: bold\"> Value      </span>┃\n",
       "┣━━━━━━━━━━━━━━━━━━━━╋━━━━━━━━━━━━┫\n",
       "┃<span style=\"color: #008080; text-decoration-color: #008080; font-weight: bold\"> 🧪 Trial Mode      </span>┃<span style=\"color: #808000; text-decoration-color: #808000; font-weight: bold\">            </span>┃\n",
       "┃<span style=\"color: #008080; text-decoration-color: #008080; font-weight: bold\"> 📏 Trial Unit      </span>┃<span style=\"color: #808000; text-decoration-color: #808000; font-weight: bold\"> Words      </span>┃\n",
       "┃<span style=\"color: #008080; text-decoration-color: #008080; font-weight: bold\"> 🔗 Experiment Mode </span>┃<span style=\"color: #808000; text-decoration-color: #808000; font-weight: bold\"> Experiment </span>┃\n",
       "┃<span style=\"color: #008080; text-decoration-color: #008080; font-weight: bold\"> 🎭 Trial Boundary  </span>┃<span style=\"color: #808000; text-decoration-color: #808000; font-weight: bold\"> Start      </span>┃\n",
       "┃<span style=\"color: #008080; text-decoration-color: #008080; font-weight: bold\"> 🔬 Trial Type      </span>┃<span style=\"color: #808000; text-decoration-color: #808000; font-weight: bold\"> Stimulus   </span>┃\n",
       "┃<span style=\"color: #008080; text-decoration-color: #008080; font-weight: bold\"> 📊 Modality        </span>┃<span style=\"color: #808000; text-decoration-color: #808000; font-weight: bold\"> Pictures   </span>┃\n",
       "┃<span style=\"color: #008080; text-decoration-color: #008080; font-weight: bold\"> ⏱ Tmin             </span>┃<span style=\"color: #808000; text-decoration-color: #808000; font-weight: bold\"> </span><span style=\"color: #008080; text-decoration-color: #008080; font-weight: bold\">-0.2</span><span style=\"color: #808000; text-decoration-color: #808000; font-weight: bold\">       </span>┃\n",
       "┃<span style=\"color: #008080; text-decoration-color: #008080; font-weight: bold\"> ⏳ Tmax            </span>┃<span style=\"color: #808000; text-decoration-color: #808000; font-weight: bold\"> </span><span style=\"color: #008080; text-decoration-color: #008080; font-weight: bold\">0.5</span><span style=\"color: #808000; text-decoration-color: #808000; font-weight: bold\">        </span>┃\n",
       "┗━━━━━━━━━━━━━━━━━━━━┻━━━━━━━━━━━━┛\n",
       "</pre>\n"
      ],
      "text/plain": [
       "\u001b[3m        Extraction Criteria        \u001b[0m\n",
       "┏━━━━━━━━━━━━━━━━━━━━┳━━━━━━━━━━━━┓\n",
       "┃\u001b[1m \u001b[0m\u001b[1mParameter         \u001b[0m\u001b[1m \u001b[0m┃\u001b[1m \u001b[0m\u001b[1mValue     \u001b[0m\u001b[1m \u001b[0m┃\n",
       "┣━━━━━━━━━━━━━━━━━━━━╋━━━━━━━━━━━━┫\n",
       "┃\u001b[1;36m \u001b[0m\u001b[1;36m🧪 Trial Mode     \u001b[0m\u001b[1;36m \u001b[0m┃\u001b[1;33m \u001b[0m\u001b[1;33m          \u001b[0m\u001b[1;33m \u001b[0m┃\n",
       "┃\u001b[1;36m \u001b[0m\u001b[1;36m📏 Trial Unit     \u001b[0m\u001b[1;36m \u001b[0m┃\u001b[1;33m \u001b[0m\u001b[1;33mWords     \u001b[0m\u001b[1;33m \u001b[0m┃\n",
       "┃\u001b[1;36m \u001b[0m\u001b[1;36m🔗 Experiment Mode\u001b[0m\u001b[1;36m \u001b[0m┃\u001b[1;33m \u001b[0m\u001b[1;33mExperiment\u001b[0m\u001b[1;33m \u001b[0m┃\n",
       "┃\u001b[1;36m \u001b[0m\u001b[1;36m🎭 Trial Boundary \u001b[0m\u001b[1;36m \u001b[0m┃\u001b[1;33m \u001b[0m\u001b[1;33mStart     \u001b[0m\u001b[1;33m \u001b[0m┃\n",
       "┃\u001b[1;36m \u001b[0m\u001b[1;36m🔬 Trial Type     \u001b[0m\u001b[1;36m \u001b[0m┃\u001b[1;33m \u001b[0m\u001b[1;33mStimulus  \u001b[0m\u001b[1;33m \u001b[0m┃\n",
       "┃\u001b[1;36m \u001b[0m\u001b[1;36m📊 Modality       \u001b[0m\u001b[1;36m \u001b[0m┃\u001b[1;33m \u001b[0m\u001b[1;33mPictures  \u001b[0m\u001b[1;33m \u001b[0m┃\n",
       "┃\u001b[1;36m \u001b[0m\u001b[1;36m⏱ Tmin            \u001b[0m\u001b[1;36m \u001b[0m┃\u001b[1;33m \u001b[0m\u001b[1;36m-0.2\u001b[0m\u001b[1;33m      \u001b[0m\u001b[1;33m \u001b[0m┃\n",
       "┃\u001b[1;36m \u001b[0m\u001b[1;36m⏳ Tmax           \u001b[0m\u001b[1;36m \u001b[0m┃\u001b[1;33m \u001b[0m\u001b[1;36m0.5\u001b[0m\u001b[1;33m       \u001b[0m\u001b[1;33m \u001b[0m┃\n",
       "┗━━━━━━━━━━━━━━━━━━━━┻━━━━━━━━━━━━┛\n"
      ]
     },
     "metadata": {},
     "output_type": "display_data"
    },
    {
     "name": "stdout",
     "output_type": "stream",
     "text": [
      "Not setting metadata\n",
      "130 matching events found\n",
      "Applying baseline correction (mode: mean)\n",
      "0 projection items activated\n",
      "Using data from preloaded Raw for 130 events and 701 original time points ...\n",
      "0 bad epochs dropped\n"
     ]
    },
    {
     "data": {
      "text/html": [
       "<pre style=\"white-space:pre;overflow-x:auto;line-height:normal;font-family:Menlo,'DejaVu Sans Mono',consolas,'Courier New',monospace\"> <span style=\"color: #008000; text-decoration-color: #008000; font-weight: bold\">Loading for sub-</span><span style=\"color: #008000; text-decoration-color: #008000; font-weight: bold\">09</span><span style=\"color: #008000; text-decoration-color: #008000; font-weight: bold\">, ses-</span><span style=\"color: #008000; text-decoration-color: #008000; font-weight: bold\">02</span>\n",
       "</pre>\n"
      ],
      "text/plain": [
       " \u001b[1;32mLoading for sub-\u001b[0m\u001b[1;32m09\u001b[0m\u001b[1;32m, ses-\u001b[0m\u001b[1;32m02\u001b[0m\n"
      ]
     },
     "metadata": {},
     "output_type": "display_data"
    },
    {
     "data": {
      "text/html": [
       "<pre style=\"white-space:pre;overflow-x:auto;line-height:normal;font-family:Menlo,'DejaVu Sans Mono',consolas,'Courier New',monospace\"><span style=\"color: #800000; text-decoration-color: #800000\">╭────────────────────────────────╮</span>\n",
       "<span style=\"color: #800000; text-decoration-color: #800000\">│</span>  <span style=\"color: #800000; text-decoration-color: #800000; font-weight: bold\">Initializing DataLoader Class</span> <span style=\"color: #800000; text-decoration-color: #800000\">│</span>\n",
       "<span style=\"color: #800000; text-decoration-color: #800000\">╰────────────────────────────────╯</span>\n",
       "</pre>\n"
      ],
      "text/plain": [
       "\u001b[31m╭────────────────────────────────╮\u001b[0m\n",
       "\u001b[31m│\u001b[0m  \u001b[1;31mInitializing DataLoader Class\u001b[0m \u001b[31m│\u001b[0m\n",
       "\u001b[31m╰────────────────────────────────╯\u001b[0m\n"
      ]
     },
     "metadata": {},
     "output_type": "display_data"
    },
    {
     "data": {
      "text/html": [
       "<pre style=\"white-space:pre;overflow-x:auto;line-height:normal;font-family:Menlo,'DejaVu Sans Mono',consolas,'Courier New',monospace\"> <span style=\"color: #008000; text-decoration-color: #008000; font-weight: bold\">Creating EPOCHS</span>\n",
       "</pre>\n"
      ],
      "text/plain": [
       " \u001b[1;32mCreating EPOCHS\u001b[0m\n"
      ]
     },
     "metadata": {},
     "output_type": "display_data"
    },
    {
     "data": {
      "text/html": [
       "<pre style=\"white-space:pre;overflow-x:auto;line-height:normal;font-family:Menlo,'DejaVu Sans Mono',consolas,'Courier New',monospace\"><span style=\"font-style: italic\">        Extraction Criteria        </span>\n",
       "┏━━━━━━━━━━━━━━━━━━━━┳━━━━━━━━━━━━┓\n",
       "┃<span style=\"font-weight: bold\"> Parameter          </span>┃<span style=\"font-weight: bold\"> Value      </span>┃\n",
       "┣━━━━━━━━━━━━━━━━━━━━╋━━━━━━━━━━━━┫\n",
       "┃<span style=\"color: #008080; text-decoration-color: #008080; font-weight: bold\"> 🧪 Trial Mode      </span>┃<span style=\"color: #808000; text-decoration-color: #808000; font-weight: bold\">            </span>┃\n",
       "┃<span style=\"color: #008080; text-decoration-color: #008080; font-weight: bold\"> 📏 Trial Unit      </span>┃<span style=\"color: #808000; text-decoration-color: #808000; font-weight: bold\"> Words      </span>┃\n",
       "┃<span style=\"color: #008080; text-decoration-color: #008080; font-weight: bold\"> 🔗 Experiment Mode </span>┃<span style=\"color: #808000; text-decoration-color: #808000; font-weight: bold\"> Experiment </span>┃\n",
       "┃<span style=\"color: #008080; text-decoration-color: #008080; font-weight: bold\"> 🎭 Trial Boundary  </span>┃<span style=\"color: #808000; text-decoration-color: #808000; font-weight: bold\"> Start      </span>┃\n",
       "┃<span style=\"color: #008080; text-decoration-color: #008080; font-weight: bold\"> 🔬 Trial Type      </span>┃<span style=\"color: #808000; text-decoration-color: #808000; font-weight: bold\"> Stimulus   </span>┃\n",
       "┃<span style=\"color: #008080; text-decoration-color: #008080; font-weight: bold\"> 📊 Modality        </span>┃<span style=\"color: #808000; text-decoration-color: #808000; font-weight: bold\"> Pictures   </span>┃\n",
       "┃<span style=\"color: #008080; text-decoration-color: #008080; font-weight: bold\"> ⏱ Tmin             </span>┃<span style=\"color: #808000; text-decoration-color: #808000; font-weight: bold\"> </span><span style=\"color: #008080; text-decoration-color: #008080; font-weight: bold\">-0.2</span><span style=\"color: #808000; text-decoration-color: #808000; font-weight: bold\">       </span>┃\n",
       "┃<span style=\"color: #008080; text-decoration-color: #008080; font-weight: bold\"> ⏳ Tmax            </span>┃<span style=\"color: #808000; text-decoration-color: #808000; font-weight: bold\"> </span><span style=\"color: #008080; text-decoration-color: #008080; font-weight: bold\">0.5</span><span style=\"color: #808000; text-decoration-color: #808000; font-weight: bold\">        </span>┃\n",
       "┗━━━━━━━━━━━━━━━━━━━━┻━━━━━━━━━━━━┛\n",
       "</pre>\n"
      ],
      "text/plain": [
       "\u001b[3m        Extraction Criteria        \u001b[0m\n",
       "┏━━━━━━━━━━━━━━━━━━━━┳━━━━━━━━━━━━┓\n",
       "┃\u001b[1m \u001b[0m\u001b[1mParameter         \u001b[0m\u001b[1m \u001b[0m┃\u001b[1m \u001b[0m\u001b[1mValue     \u001b[0m\u001b[1m \u001b[0m┃\n",
       "┣━━━━━━━━━━━━━━━━━━━━╋━━━━━━━━━━━━┫\n",
       "┃\u001b[1;36m \u001b[0m\u001b[1;36m🧪 Trial Mode     \u001b[0m\u001b[1;36m \u001b[0m┃\u001b[1;33m \u001b[0m\u001b[1;33m          \u001b[0m\u001b[1;33m \u001b[0m┃\n",
       "┃\u001b[1;36m \u001b[0m\u001b[1;36m📏 Trial Unit     \u001b[0m\u001b[1;36m \u001b[0m┃\u001b[1;33m \u001b[0m\u001b[1;33mWords     \u001b[0m\u001b[1;33m \u001b[0m┃\n",
       "┃\u001b[1;36m \u001b[0m\u001b[1;36m🔗 Experiment Mode\u001b[0m\u001b[1;36m \u001b[0m┃\u001b[1;33m \u001b[0m\u001b[1;33mExperiment\u001b[0m\u001b[1;33m \u001b[0m┃\n",
       "┃\u001b[1;36m \u001b[0m\u001b[1;36m🎭 Trial Boundary \u001b[0m\u001b[1;36m \u001b[0m┃\u001b[1;33m \u001b[0m\u001b[1;33mStart     \u001b[0m\u001b[1;33m \u001b[0m┃\n",
       "┃\u001b[1;36m \u001b[0m\u001b[1;36m🔬 Trial Type     \u001b[0m\u001b[1;36m \u001b[0m┃\u001b[1;33m \u001b[0m\u001b[1;33mStimulus  \u001b[0m\u001b[1;33m \u001b[0m┃\n",
       "┃\u001b[1;36m \u001b[0m\u001b[1;36m📊 Modality       \u001b[0m\u001b[1;36m \u001b[0m┃\u001b[1;33m \u001b[0m\u001b[1;33mPictures  \u001b[0m\u001b[1;33m \u001b[0m┃\n",
       "┃\u001b[1;36m \u001b[0m\u001b[1;36m⏱ Tmin            \u001b[0m\u001b[1;36m \u001b[0m┃\u001b[1;33m \u001b[0m\u001b[1;36m-0.2\u001b[0m\u001b[1;33m      \u001b[0m\u001b[1;33m \u001b[0m┃\n",
       "┃\u001b[1;36m \u001b[0m\u001b[1;36m⏳ Tmax           \u001b[0m\u001b[1;36m \u001b[0m┃\u001b[1;33m \u001b[0m\u001b[1;36m0.5\u001b[0m\u001b[1;33m       \u001b[0m\u001b[1;33m \u001b[0m┃\n",
       "┗━━━━━━━━━━━━━━━━━━━━┻━━━━━━━━━━━━┛\n"
      ]
     },
     "metadata": {},
     "output_type": "display_data"
    },
    {
     "name": "stdout",
     "output_type": "stream",
     "text": [
      "Not setting metadata\n",
      "130 matching events found\n",
      "Applying baseline correction (mode: mean)\n",
      "0 projection items activated\n",
      "Using data from preloaded Raw for 130 events and 701 original time points ...\n",
      "0 bad epochs dropped\n"
     ]
    },
    {
     "data": {
      "text/html": [
       "<pre style=\"white-space:pre;overflow-x:auto;line-height:normal;font-family:Menlo,'DejaVu Sans Mono',consolas,'Courier New',monospace\"> <span style=\"color: #008000; text-decoration-color: #008000; font-weight: bold\">Loading for sub-</span><span style=\"color: #008000; text-decoration-color: #008000; font-weight: bold\">10</span><span style=\"color: #008000; text-decoration-color: #008000; font-weight: bold\">, ses-</span><span style=\"color: #008000; text-decoration-color: #008000; font-weight: bold\">01</span>\n",
       "</pre>\n"
      ],
      "text/plain": [
       " \u001b[1;32mLoading for sub-\u001b[0m\u001b[1;32m10\u001b[0m\u001b[1;32m, ses-\u001b[0m\u001b[1;32m01\u001b[0m\n"
      ]
     },
     "metadata": {},
     "output_type": "display_data"
    },
    {
     "data": {
      "text/html": [
       "<pre style=\"white-space:pre;overflow-x:auto;line-height:normal;font-family:Menlo,'DejaVu Sans Mono',consolas,'Courier New',monospace\"><span style=\"color: #800000; text-decoration-color: #800000\">╭────────────────────────────────╮</span>\n",
       "<span style=\"color: #800000; text-decoration-color: #800000\">│</span>  <span style=\"color: #800000; text-decoration-color: #800000; font-weight: bold\">Initializing DataLoader Class</span> <span style=\"color: #800000; text-decoration-color: #800000\">│</span>\n",
       "<span style=\"color: #800000; text-decoration-color: #800000\">╰────────────────────────────────╯</span>\n",
       "</pre>\n"
      ],
      "text/plain": [
       "\u001b[31m╭────────────────────────────────╮\u001b[0m\n",
       "\u001b[31m│\u001b[0m  \u001b[1;31mInitializing DataLoader Class\u001b[0m \u001b[31m│\u001b[0m\n",
       "\u001b[31m╰────────────────────────────────╯\u001b[0m\n"
      ]
     },
     "metadata": {},
     "output_type": "display_data"
    },
    {
     "data": {
      "text/html": [
       "<pre style=\"white-space:pre;overflow-x:auto;line-height:normal;font-family:Menlo,'DejaVu Sans Mono',consolas,'Courier New',monospace\"> <span style=\"color: #008000; text-decoration-color: #008000; font-weight: bold\">Creating EPOCHS</span>\n",
       "</pre>\n"
      ],
      "text/plain": [
       " \u001b[1;32mCreating EPOCHS\u001b[0m\n"
      ]
     },
     "metadata": {},
     "output_type": "display_data"
    },
    {
     "data": {
      "text/html": [
       "<pre style=\"white-space:pre;overflow-x:auto;line-height:normal;font-family:Menlo,'DejaVu Sans Mono',consolas,'Courier New',monospace\"><span style=\"font-style: italic\">        Extraction Criteria        </span>\n",
       "┏━━━━━━━━━━━━━━━━━━━━┳━━━━━━━━━━━━┓\n",
       "┃<span style=\"font-weight: bold\"> Parameter          </span>┃<span style=\"font-weight: bold\"> Value      </span>┃\n",
       "┣━━━━━━━━━━━━━━━━━━━━╋━━━━━━━━━━━━┫\n",
       "┃<span style=\"color: #008080; text-decoration-color: #008080; font-weight: bold\"> 🧪 Trial Mode      </span>┃<span style=\"color: #808000; text-decoration-color: #808000; font-weight: bold\">            </span>┃\n",
       "┃<span style=\"color: #008080; text-decoration-color: #008080; font-weight: bold\"> 📏 Trial Unit      </span>┃<span style=\"color: #808000; text-decoration-color: #808000; font-weight: bold\"> Words      </span>┃\n",
       "┃<span style=\"color: #008080; text-decoration-color: #008080; font-weight: bold\"> 🔗 Experiment Mode </span>┃<span style=\"color: #808000; text-decoration-color: #808000; font-weight: bold\"> Experiment </span>┃\n",
       "┃<span style=\"color: #008080; text-decoration-color: #008080; font-weight: bold\"> 🎭 Trial Boundary  </span>┃<span style=\"color: #808000; text-decoration-color: #808000; font-weight: bold\"> Start      </span>┃\n",
       "┃<span style=\"color: #008080; text-decoration-color: #008080; font-weight: bold\"> 🔬 Trial Type      </span>┃<span style=\"color: #808000; text-decoration-color: #808000; font-weight: bold\"> Stimulus   </span>┃\n",
       "┃<span style=\"color: #008080; text-decoration-color: #008080; font-weight: bold\"> 📊 Modality        </span>┃<span style=\"color: #808000; text-decoration-color: #808000; font-weight: bold\"> Pictures   </span>┃\n",
       "┃<span style=\"color: #008080; text-decoration-color: #008080; font-weight: bold\"> ⏱ Tmin             </span>┃<span style=\"color: #808000; text-decoration-color: #808000; font-weight: bold\"> </span><span style=\"color: #008080; text-decoration-color: #008080; font-weight: bold\">-0.2</span><span style=\"color: #808000; text-decoration-color: #808000; font-weight: bold\">       </span>┃\n",
       "┃<span style=\"color: #008080; text-decoration-color: #008080; font-weight: bold\"> ⏳ Tmax            </span>┃<span style=\"color: #808000; text-decoration-color: #808000; font-weight: bold\"> </span><span style=\"color: #008080; text-decoration-color: #008080; font-weight: bold\">0.5</span><span style=\"color: #808000; text-decoration-color: #808000; font-weight: bold\">        </span>┃\n",
       "┗━━━━━━━━━━━━━━━━━━━━┻━━━━━━━━━━━━┛\n",
       "</pre>\n"
      ],
      "text/plain": [
       "\u001b[3m        Extraction Criteria        \u001b[0m\n",
       "┏━━━━━━━━━━━━━━━━━━━━┳━━━━━━━━━━━━┓\n",
       "┃\u001b[1m \u001b[0m\u001b[1mParameter         \u001b[0m\u001b[1m \u001b[0m┃\u001b[1m \u001b[0m\u001b[1mValue     \u001b[0m\u001b[1m \u001b[0m┃\n",
       "┣━━━━━━━━━━━━━━━━━━━━╋━━━━━━━━━━━━┫\n",
       "┃\u001b[1;36m \u001b[0m\u001b[1;36m🧪 Trial Mode     \u001b[0m\u001b[1;36m \u001b[0m┃\u001b[1;33m \u001b[0m\u001b[1;33m          \u001b[0m\u001b[1;33m \u001b[0m┃\n",
       "┃\u001b[1;36m \u001b[0m\u001b[1;36m📏 Trial Unit     \u001b[0m\u001b[1;36m \u001b[0m┃\u001b[1;33m \u001b[0m\u001b[1;33mWords     \u001b[0m\u001b[1;33m \u001b[0m┃\n",
       "┃\u001b[1;36m \u001b[0m\u001b[1;36m🔗 Experiment Mode\u001b[0m\u001b[1;36m \u001b[0m┃\u001b[1;33m \u001b[0m\u001b[1;33mExperiment\u001b[0m\u001b[1;33m \u001b[0m┃\n",
       "┃\u001b[1;36m \u001b[0m\u001b[1;36m🎭 Trial Boundary \u001b[0m\u001b[1;36m \u001b[0m┃\u001b[1;33m \u001b[0m\u001b[1;33mStart     \u001b[0m\u001b[1;33m \u001b[0m┃\n",
       "┃\u001b[1;36m \u001b[0m\u001b[1;36m🔬 Trial Type     \u001b[0m\u001b[1;36m \u001b[0m┃\u001b[1;33m \u001b[0m\u001b[1;33mStimulus  \u001b[0m\u001b[1;33m \u001b[0m┃\n",
       "┃\u001b[1;36m \u001b[0m\u001b[1;36m📊 Modality       \u001b[0m\u001b[1;36m \u001b[0m┃\u001b[1;33m \u001b[0m\u001b[1;33mPictures  \u001b[0m\u001b[1;33m \u001b[0m┃\n",
       "┃\u001b[1;36m \u001b[0m\u001b[1;36m⏱ Tmin            \u001b[0m\u001b[1;36m \u001b[0m┃\u001b[1;33m \u001b[0m\u001b[1;36m-0.2\u001b[0m\u001b[1;33m      \u001b[0m\u001b[1;33m \u001b[0m┃\n",
       "┃\u001b[1;36m \u001b[0m\u001b[1;36m⏳ Tmax           \u001b[0m\u001b[1;36m \u001b[0m┃\u001b[1;33m \u001b[0m\u001b[1;36m0.5\u001b[0m\u001b[1;33m       \u001b[0m\u001b[1;33m \u001b[0m┃\n",
       "┗━━━━━━━━━━━━━━━━━━━━┻━━━━━━━━━━━━┛\n"
      ]
     },
     "metadata": {},
     "output_type": "display_data"
    },
    {
     "name": "stdout",
     "output_type": "stream",
     "text": [
      "Not setting metadata\n",
      "130 matching events found\n",
      "Applying baseline correction (mode: mean)\n",
      "0 projection items activated\n",
      "Using data from preloaded Raw for 130 events and 701 original time points ...\n",
      "0 bad epochs dropped\n"
     ]
    },
    {
     "data": {
      "text/html": [
       "<pre style=\"white-space:pre;overflow-x:auto;line-height:normal;font-family:Menlo,'DejaVu Sans Mono',consolas,'Courier New',monospace\"> <span style=\"color: #008000; text-decoration-color: #008000; font-weight: bold\">Loading for sub-</span><span style=\"color: #008000; text-decoration-color: #008000; font-weight: bold\">11</span><span style=\"color: #008000; text-decoration-color: #008000; font-weight: bold\">, ses-</span><span style=\"color: #008000; text-decoration-color: #008000; font-weight: bold\">01</span>\n",
       "</pre>\n"
      ],
      "text/plain": [
       " \u001b[1;32mLoading for sub-\u001b[0m\u001b[1;32m11\u001b[0m\u001b[1;32m, ses-\u001b[0m\u001b[1;32m01\u001b[0m\n"
      ]
     },
     "metadata": {},
     "output_type": "display_data"
    },
    {
     "data": {
      "text/html": [
       "<pre style=\"white-space:pre;overflow-x:auto;line-height:normal;font-family:Menlo,'DejaVu Sans Mono',consolas,'Courier New',monospace\"><span style=\"color: #800000; text-decoration-color: #800000\">╭────────────────────────────────╮</span>\n",
       "<span style=\"color: #800000; text-decoration-color: #800000\">│</span>  <span style=\"color: #800000; text-decoration-color: #800000; font-weight: bold\">Initializing DataLoader Class</span> <span style=\"color: #800000; text-decoration-color: #800000\">│</span>\n",
       "<span style=\"color: #800000; text-decoration-color: #800000\">╰────────────────────────────────╯</span>\n",
       "</pre>\n"
      ],
      "text/plain": [
       "\u001b[31m╭────────────────────────────────╮\u001b[0m\n",
       "\u001b[31m│\u001b[0m  \u001b[1;31mInitializing DataLoader Class\u001b[0m \u001b[31m│\u001b[0m\n",
       "\u001b[31m╰────────────────────────────────╯\u001b[0m\n"
      ]
     },
     "metadata": {},
     "output_type": "display_data"
    },
    {
     "data": {
      "text/html": [
       "<pre style=\"white-space:pre;overflow-x:auto;line-height:normal;font-family:Menlo,'DejaVu Sans Mono',consolas,'Courier New',monospace\"> <span style=\"color: #008000; text-decoration-color: #008000; font-weight: bold\">Creating EPOCHS</span>\n",
       "</pre>\n"
      ],
      "text/plain": [
       " \u001b[1;32mCreating EPOCHS\u001b[0m\n"
      ]
     },
     "metadata": {},
     "output_type": "display_data"
    },
    {
     "data": {
      "text/html": [
       "<pre style=\"white-space:pre;overflow-x:auto;line-height:normal;font-family:Menlo,'DejaVu Sans Mono',consolas,'Courier New',monospace\"><span style=\"font-style: italic\">        Extraction Criteria        </span>\n",
       "┏━━━━━━━━━━━━━━━━━━━━┳━━━━━━━━━━━━┓\n",
       "┃<span style=\"font-weight: bold\"> Parameter          </span>┃<span style=\"font-weight: bold\"> Value      </span>┃\n",
       "┣━━━━━━━━━━━━━━━━━━━━╋━━━━━━━━━━━━┫\n",
       "┃<span style=\"color: #008080; text-decoration-color: #008080; font-weight: bold\"> 🧪 Trial Mode      </span>┃<span style=\"color: #808000; text-decoration-color: #808000; font-weight: bold\">            </span>┃\n",
       "┃<span style=\"color: #008080; text-decoration-color: #008080; font-weight: bold\"> 📏 Trial Unit      </span>┃<span style=\"color: #808000; text-decoration-color: #808000; font-weight: bold\"> Words      </span>┃\n",
       "┃<span style=\"color: #008080; text-decoration-color: #008080; font-weight: bold\"> 🔗 Experiment Mode </span>┃<span style=\"color: #808000; text-decoration-color: #808000; font-weight: bold\"> Experiment </span>┃\n",
       "┃<span style=\"color: #008080; text-decoration-color: #008080; font-weight: bold\"> 🎭 Trial Boundary  </span>┃<span style=\"color: #808000; text-decoration-color: #808000; font-weight: bold\"> Start      </span>┃\n",
       "┃<span style=\"color: #008080; text-decoration-color: #008080; font-weight: bold\"> 🔬 Trial Type      </span>┃<span style=\"color: #808000; text-decoration-color: #808000; font-weight: bold\"> Stimulus   </span>┃\n",
       "┃<span style=\"color: #008080; text-decoration-color: #008080; font-weight: bold\"> 📊 Modality        </span>┃<span style=\"color: #808000; text-decoration-color: #808000; font-weight: bold\"> Pictures   </span>┃\n",
       "┃<span style=\"color: #008080; text-decoration-color: #008080; font-weight: bold\"> ⏱ Tmin             </span>┃<span style=\"color: #808000; text-decoration-color: #808000; font-weight: bold\"> </span><span style=\"color: #008080; text-decoration-color: #008080; font-weight: bold\">-0.2</span><span style=\"color: #808000; text-decoration-color: #808000; font-weight: bold\">       </span>┃\n",
       "┃<span style=\"color: #008080; text-decoration-color: #008080; font-weight: bold\"> ⏳ Tmax            </span>┃<span style=\"color: #808000; text-decoration-color: #808000; font-weight: bold\"> </span><span style=\"color: #008080; text-decoration-color: #008080; font-weight: bold\">0.5</span><span style=\"color: #808000; text-decoration-color: #808000; font-weight: bold\">        </span>┃\n",
       "┗━━━━━━━━━━━━━━━━━━━━┻━━━━━━━━━━━━┛\n",
       "</pre>\n"
      ],
      "text/plain": [
       "\u001b[3m        Extraction Criteria        \u001b[0m\n",
       "┏━━━━━━━━━━━━━━━━━━━━┳━━━━━━━━━━━━┓\n",
       "┃\u001b[1m \u001b[0m\u001b[1mParameter         \u001b[0m\u001b[1m \u001b[0m┃\u001b[1m \u001b[0m\u001b[1mValue     \u001b[0m\u001b[1m \u001b[0m┃\n",
       "┣━━━━━━━━━━━━━━━━━━━━╋━━━━━━━━━━━━┫\n",
       "┃\u001b[1;36m \u001b[0m\u001b[1;36m🧪 Trial Mode     \u001b[0m\u001b[1;36m \u001b[0m┃\u001b[1;33m \u001b[0m\u001b[1;33m          \u001b[0m\u001b[1;33m \u001b[0m┃\n",
       "┃\u001b[1;36m \u001b[0m\u001b[1;36m📏 Trial Unit     \u001b[0m\u001b[1;36m \u001b[0m┃\u001b[1;33m \u001b[0m\u001b[1;33mWords     \u001b[0m\u001b[1;33m \u001b[0m┃\n",
       "┃\u001b[1;36m \u001b[0m\u001b[1;36m🔗 Experiment Mode\u001b[0m\u001b[1;36m \u001b[0m┃\u001b[1;33m \u001b[0m\u001b[1;33mExperiment\u001b[0m\u001b[1;33m \u001b[0m┃\n",
       "┃\u001b[1;36m \u001b[0m\u001b[1;36m🎭 Trial Boundary \u001b[0m\u001b[1;36m \u001b[0m┃\u001b[1;33m \u001b[0m\u001b[1;33mStart     \u001b[0m\u001b[1;33m \u001b[0m┃\n",
       "┃\u001b[1;36m \u001b[0m\u001b[1;36m🔬 Trial Type     \u001b[0m\u001b[1;36m \u001b[0m┃\u001b[1;33m \u001b[0m\u001b[1;33mStimulus  \u001b[0m\u001b[1;33m \u001b[0m┃\n",
       "┃\u001b[1;36m \u001b[0m\u001b[1;36m📊 Modality       \u001b[0m\u001b[1;36m \u001b[0m┃\u001b[1;33m \u001b[0m\u001b[1;33mPictures  \u001b[0m\u001b[1;33m \u001b[0m┃\n",
       "┃\u001b[1;36m \u001b[0m\u001b[1;36m⏱ Tmin            \u001b[0m\u001b[1;36m \u001b[0m┃\u001b[1;33m \u001b[0m\u001b[1;36m-0.2\u001b[0m\u001b[1;33m      \u001b[0m\u001b[1;33m \u001b[0m┃\n",
       "┃\u001b[1;36m \u001b[0m\u001b[1;36m⏳ Tmax           \u001b[0m\u001b[1;36m \u001b[0m┃\u001b[1;33m \u001b[0m\u001b[1;36m0.5\u001b[0m\u001b[1;33m       \u001b[0m\u001b[1;33m \u001b[0m┃\n",
       "┗━━━━━━━━━━━━━━━━━━━━┻━━━━━━━━━━━━┛\n"
      ]
     },
     "metadata": {},
     "output_type": "display_data"
    },
    {
     "name": "stdout",
     "output_type": "stream",
     "text": [
      "Not setting metadata\n",
      "130 matching events found\n",
      "Applying baseline correction (mode: mean)\n",
      "0 projection items activated\n",
      "Using data from preloaded Raw for 130 events and 701 original time points ...\n",
      "0 bad epochs dropped\n"
     ]
    },
    {
     "data": {
      "text/html": [
       "<pre style=\"white-space:pre;overflow-x:auto;line-height:normal;font-family:Menlo,'DejaVu Sans Mono',consolas,'Courier New',monospace\"> <span style=\"color: #008000; text-decoration-color: #008000; font-weight: bold\">Loading for sub-</span><span style=\"color: #008000; text-decoration-color: #008000; font-weight: bold\">12</span><span style=\"color: #008000; text-decoration-color: #008000; font-weight: bold\">, ses-</span><span style=\"color: #008000; text-decoration-color: #008000; font-weight: bold\">01</span>\n",
       "</pre>\n"
      ],
      "text/plain": [
       " \u001b[1;32mLoading for sub-\u001b[0m\u001b[1;32m12\u001b[0m\u001b[1;32m, ses-\u001b[0m\u001b[1;32m01\u001b[0m\n"
      ]
     },
     "metadata": {},
     "output_type": "display_data"
    },
    {
     "data": {
      "text/html": [
       "<pre style=\"white-space:pre;overflow-x:auto;line-height:normal;font-family:Menlo,'DejaVu Sans Mono',consolas,'Courier New',monospace\"><span style=\"color: #800000; text-decoration-color: #800000\">╭────────────────────────────────╮</span>\n",
       "<span style=\"color: #800000; text-decoration-color: #800000\">│</span>  <span style=\"color: #800000; text-decoration-color: #800000; font-weight: bold\">Initializing DataLoader Class</span> <span style=\"color: #800000; text-decoration-color: #800000\">│</span>\n",
       "<span style=\"color: #800000; text-decoration-color: #800000\">╰────────────────────────────────╯</span>\n",
       "</pre>\n"
      ],
      "text/plain": [
       "\u001b[31m╭────────────────────────────────╮\u001b[0m\n",
       "\u001b[31m│\u001b[0m  \u001b[1;31mInitializing DataLoader Class\u001b[0m \u001b[31m│\u001b[0m\n",
       "\u001b[31m╰────────────────────────────────╯\u001b[0m\n"
      ]
     },
     "metadata": {},
     "output_type": "display_data"
    },
    {
     "data": {
      "text/html": [
       "<pre style=\"white-space:pre;overflow-x:auto;line-height:normal;font-family:Menlo,'DejaVu Sans Mono',consolas,'Courier New',monospace\"> <span style=\"color: #008000; text-decoration-color: #008000; font-weight: bold\">Creating EPOCHS</span>\n",
       "</pre>\n"
      ],
      "text/plain": [
       " \u001b[1;32mCreating EPOCHS\u001b[0m\n"
      ]
     },
     "metadata": {},
     "output_type": "display_data"
    },
    {
     "data": {
      "text/html": [
       "<pre style=\"white-space:pre;overflow-x:auto;line-height:normal;font-family:Menlo,'DejaVu Sans Mono',consolas,'Courier New',monospace\"><span style=\"font-style: italic\">        Extraction Criteria        </span>\n",
       "┏━━━━━━━━━━━━━━━━━━━━┳━━━━━━━━━━━━┓\n",
       "┃<span style=\"font-weight: bold\"> Parameter          </span>┃<span style=\"font-weight: bold\"> Value      </span>┃\n",
       "┣━━━━━━━━━━━━━━━━━━━━╋━━━━━━━━━━━━┫\n",
       "┃<span style=\"color: #008080; text-decoration-color: #008080; font-weight: bold\"> 🧪 Trial Mode      </span>┃<span style=\"color: #808000; text-decoration-color: #808000; font-weight: bold\">            </span>┃\n",
       "┃<span style=\"color: #008080; text-decoration-color: #008080; font-weight: bold\"> 📏 Trial Unit      </span>┃<span style=\"color: #808000; text-decoration-color: #808000; font-weight: bold\"> Words      </span>┃\n",
       "┃<span style=\"color: #008080; text-decoration-color: #008080; font-weight: bold\"> 🔗 Experiment Mode </span>┃<span style=\"color: #808000; text-decoration-color: #808000; font-weight: bold\"> Experiment </span>┃\n",
       "┃<span style=\"color: #008080; text-decoration-color: #008080; font-weight: bold\"> 🎭 Trial Boundary  </span>┃<span style=\"color: #808000; text-decoration-color: #808000; font-weight: bold\"> Start      </span>┃\n",
       "┃<span style=\"color: #008080; text-decoration-color: #008080; font-weight: bold\"> 🔬 Trial Type      </span>┃<span style=\"color: #808000; text-decoration-color: #808000; font-weight: bold\"> Stimulus   </span>┃\n",
       "┃<span style=\"color: #008080; text-decoration-color: #008080; font-weight: bold\"> 📊 Modality        </span>┃<span style=\"color: #808000; text-decoration-color: #808000; font-weight: bold\"> Pictures   </span>┃\n",
       "┃<span style=\"color: #008080; text-decoration-color: #008080; font-weight: bold\"> ⏱ Tmin             </span>┃<span style=\"color: #808000; text-decoration-color: #808000; font-weight: bold\"> </span><span style=\"color: #008080; text-decoration-color: #008080; font-weight: bold\">-0.2</span><span style=\"color: #808000; text-decoration-color: #808000; font-weight: bold\">       </span>┃\n",
       "┃<span style=\"color: #008080; text-decoration-color: #008080; font-weight: bold\"> ⏳ Tmax            </span>┃<span style=\"color: #808000; text-decoration-color: #808000; font-weight: bold\"> </span><span style=\"color: #008080; text-decoration-color: #008080; font-weight: bold\">0.5</span><span style=\"color: #808000; text-decoration-color: #808000; font-weight: bold\">        </span>┃\n",
       "┗━━━━━━━━━━━━━━━━━━━━┻━━━━━━━━━━━━┛\n",
       "</pre>\n"
      ],
      "text/plain": [
       "\u001b[3m        Extraction Criteria        \u001b[0m\n",
       "┏━━━━━━━━━━━━━━━━━━━━┳━━━━━━━━━━━━┓\n",
       "┃\u001b[1m \u001b[0m\u001b[1mParameter         \u001b[0m\u001b[1m \u001b[0m┃\u001b[1m \u001b[0m\u001b[1mValue     \u001b[0m\u001b[1m \u001b[0m┃\n",
       "┣━━━━━━━━━━━━━━━━━━━━╋━━━━━━━━━━━━┫\n",
       "┃\u001b[1;36m \u001b[0m\u001b[1;36m🧪 Trial Mode     \u001b[0m\u001b[1;36m \u001b[0m┃\u001b[1;33m \u001b[0m\u001b[1;33m          \u001b[0m\u001b[1;33m \u001b[0m┃\n",
       "┃\u001b[1;36m \u001b[0m\u001b[1;36m📏 Trial Unit     \u001b[0m\u001b[1;36m \u001b[0m┃\u001b[1;33m \u001b[0m\u001b[1;33mWords     \u001b[0m\u001b[1;33m \u001b[0m┃\n",
       "┃\u001b[1;36m \u001b[0m\u001b[1;36m🔗 Experiment Mode\u001b[0m\u001b[1;36m \u001b[0m┃\u001b[1;33m \u001b[0m\u001b[1;33mExperiment\u001b[0m\u001b[1;33m \u001b[0m┃\n",
       "┃\u001b[1;36m \u001b[0m\u001b[1;36m🎭 Trial Boundary \u001b[0m\u001b[1;36m \u001b[0m┃\u001b[1;33m \u001b[0m\u001b[1;33mStart     \u001b[0m\u001b[1;33m \u001b[0m┃\n",
       "┃\u001b[1;36m \u001b[0m\u001b[1;36m🔬 Trial Type     \u001b[0m\u001b[1;36m \u001b[0m┃\u001b[1;33m \u001b[0m\u001b[1;33mStimulus  \u001b[0m\u001b[1;33m \u001b[0m┃\n",
       "┃\u001b[1;36m \u001b[0m\u001b[1;36m📊 Modality       \u001b[0m\u001b[1;36m \u001b[0m┃\u001b[1;33m \u001b[0m\u001b[1;33mPictures  \u001b[0m\u001b[1;33m \u001b[0m┃\n",
       "┃\u001b[1;36m \u001b[0m\u001b[1;36m⏱ Tmin            \u001b[0m\u001b[1;36m \u001b[0m┃\u001b[1;33m \u001b[0m\u001b[1;36m-0.2\u001b[0m\u001b[1;33m      \u001b[0m\u001b[1;33m \u001b[0m┃\n",
       "┃\u001b[1;36m \u001b[0m\u001b[1;36m⏳ Tmax           \u001b[0m\u001b[1;36m \u001b[0m┃\u001b[1;33m \u001b[0m\u001b[1;36m0.5\u001b[0m\u001b[1;33m       \u001b[0m\u001b[1;33m \u001b[0m┃\n",
       "┗━━━━━━━━━━━━━━━━━━━━┻━━━━━━━━━━━━┛\n"
      ]
     },
     "metadata": {},
     "output_type": "display_data"
    },
    {
     "name": "stdout",
     "output_type": "stream",
     "text": [
      "Not setting metadata\n",
      "130 matching events found\n",
      "Applying baseline correction (mode: mean)\n",
      "0 projection items activated\n",
      "Using data from preloaded Raw for 130 events and 701 original time points ...\n",
      "0 bad epochs dropped\n"
     ]
    },
    {
     "data": {
      "text/html": [
       "<pre style=\"white-space:pre;overflow-x:auto;line-height:normal;font-family:Menlo,'DejaVu Sans Mono',consolas,'Courier New',monospace\"> <span style=\"color: #008000; text-decoration-color: #008000; font-weight: bold\">Loading for sub-</span><span style=\"color: #008000; text-decoration-color: #008000; font-weight: bold\">12</span><span style=\"color: #008000; text-decoration-color: #008000; font-weight: bold\">, ses-</span><span style=\"color: #008000; text-decoration-color: #008000; font-weight: bold\">02</span>\n",
       "</pre>\n"
      ],
      "text/plain": [
       " \u001b[1;32mLoading for sub-\u001b[0m\u001b[1;32m12\u001b[0m\u001b[1;32m, ses-\u001b[0m\u001b[1;32m02\u001b[0m\n"
      ]
     },
     "metadata": {},
     "output_type": "display_data"
    },
    {
     "data": {
      "text/html": [
       "<pre style=\"white-space:pre;overflow-x:auto;line-height:normal;font-family:Menlo,'DejaVu Sans Mono',consolas,'Courier New',monospace\"><span style=\"color: #800000; text-decoration-color: #800000\">╭────────────────────────────────╮</span>\n",
       "<span style=\"color: #800000; text-decoration-color: #800000\">│</span>  <span style=\"color: #800000; text-decoration-color: #800000; font-weight: bold\">Initializing DataLoader Class</span> <span style=\"color: #800000; text-decoration-color: #800000\">│</span>\n",
       "<span style=\"color: #800000; text-decoration-color: #800000\">╰────────────────────────────────╯</span>\n",
       "</pre>\n"
      ],
      "text/plain": [
       "\u001b[31m╭────────────────────────────────╮\u001b[0m\n",
       "\u001b[31m│\u001b[0m  \u001b[1;31mInitializing DataLoader Class\u001b[0m \u001b[31m│\u001b[0m\n",
       "\u001b[31m╰────────────────────────────────╯\u001b[0m\n"
      ]
     },
     "metadata": {},
     "output_type": "display_data"
    },
    {
     "data": {
      "text/html": [
       "<pre style=\"white-space:pre;overflow-x:auto;line-height:normal;font-family:Menlo,'DejaVu Sans Mono',consolas,'Courier New',monospace\"> <span style=\"color: #008000; text-decoration-color: #008000; font-weight: bold\">Creating EPOCHS</span>\n",
       "</pre>\n"
      ],
      "text/plain": [
       " \u001b[1;32mCreating EPOCHS\u001b[0m\n"
      ]
     },
     "metadata": {},
     "output_type": "display_data"
    },
    {
     "data": {
      "text/html": [
       "<pre style=\"white-space:pre;overflow-x:auto;line-height:normal;font-family:Menlo,'DejaVu Sans Mono',consolas,'Courier New',monospace\"><span style=\"font-style: italic\">        Extraction Criteria        </span>\n",
       "┏━━━━━━━━━━━━━━━━━━━━┳━━━━━━━━━━━━┓\n",
       "┃<span style=\"font-weight: bold\"> Parameter          </span>┃<span style=\"font-weight: bold\"> Value      </span>┃\n",
       "┣━━━━━━━━━━━━━━━━━━━━╋━━━━━━━━━━━━┫\n",
       "┃<span style=\"color: #008080; text-decoration-color: #008080; font-weight: bold\"> 🧪 Trial Mode      </span>┃<span style=\"color: #808000; text-decoration-color: #808000; font-weight: bold\">            </span>┃\n",
       "┃<span style=\"color: #008080; text-decoration-color: #008080; font-weight: bold\"> 📏 Trial Unit      </span>┃<span style=\"color: #808000; text-decoration-color: #808000; font-weight: bold\"> Words      </span>┃\n",
       "┃<span style=\"color: #008080; text-decoration-color: #008080; font-weight: bold\"> 🔗 Experiment Mode </span>┃<span style=\"color: #808000; text-decoration-color: #808000; font-weight: bold\"> Experiment </span>┃\n",
       "┃<span style=\"color: #008080; text-decoration-color: #008080; font-weight: bold\"> 🎭 Trial Boundary  </span>┃<span style=\"color: #808000; text-decoration-color: #808000; font-weight: bold\"> Start      </span>┃\n",
       "┃<span style=\"color: #008080; text-decoration-color: #008080; font-weight: bold\"> 🔬 Trial Type      </span>┃<span style=\"color: #808000; text-decoration-color: #808000; font-weight: bold\"> Stimulus   </span>┃\n",
       "┃<span style=\"color: #008080; text-decoration-color: #008080; font-weight: bold\"> 📊 Modality        </span>┃<span style=\"color: #808000; text-decoration-color: #808000; font-weight: bold\"> Pictures   </span>┃\n",
       "┃<span style=\"color: #008080; text-decoration-color: #008080; font-weight: bold\"> ⏱ Tmin             </span>┃<span style=\"color: #808000; text-decoration-color: #808000; font-weight: bold\"> </span><span style=\"color: #008080; text-decoration-color: #008080; font-weight: bold\">-0.2</span><span style=\"color: #808000; text-decoration-color: #808000; font-weight: bold\">       </span>┃\n",
       "┃<span style=\"color: #008080; text-decoration-color: #008080; font-weight: bold\"> ⏳ Tmax            </span>┃<span style=\"color: #808000; text-decoration-color: #808000; font-weight: bold\"> </span><span style=\"color: #008080; text-decoration-color: #008080; font-weight: bold\">0.5</span><span style=\"color: #808000; text-decoration-color: #808000; font-weight: bold\">        </span>┃\n",
       "┗━━━━━━━━━━━━━━━━━━━━┻━━━━━━━━━━━━┛\n",
       "</pre>\n"
      ],
      "text/plain": [
       "\u001b[3m        Extraction Criteria        \u001b[0m\n",
       "┏━━━━━━━━━━━━━━━━━━━━┳━━━━━━━━━━━━┓\n",
       "┃\u001b[1m \u001b[0m\u001b[1mParameter         \u001b[0m\u001b[1m \u001b[0m┃\u001b[1m \u001b[0m\u001b[1mValue     \u001b[0m\u001b[1m \u001b[0m┃\n",
       "┣━━━━━━━━━━━━━━━━━━━━╋━━━━━━━━━━━━┫\n",
       "┃\u001b[1;36m \u001b[0m\u001b[1;36m🧪 Trial Mode     \u001b[0m\u001b[1;36m \u001b[0m┃\u001b[1;33m \u001b[0m\u001b[1;33m          \u001b[0m\u001b[1;33m \u001b[0m┃\n",
       "┃\u001b[1;36m \u001b[0m\u001b[1;36m📏 Trial Unit     \u001b[0m\u001b[1;36m \u001b[0m┃\u001b[1;33m \u001b[0m\u001b[1;33mWords     \u001b[0m\u001b[1;33m \u001b[0m┃\n",
       "┃\u001b[1;36m \u001b[0m\u001b[1;36m🔗 Experiment Mode\u001b[0m\u001b[1;36m \u001b[0m┃\u001b[1;33m \u001b[0m\u001b[1;33mExperiment\u001b[0m\u001b[1;33m \u001b[0m┃\n",
       "┃\u001b[1;36m \u001b[0m\u001b[1;36m🎭 Trial Boundary \u001b[0m\u001b[1;36m \u001b[0m┃\u001b[1;33m \u001b[0m\u001b[1;33mStart     \u001b[0m\u001b[1;33m \u001b[0m┃\n",
       "┃\u001b[1;36m \u001b[0m\u001b[1;36m🔬 Trial Type     \u001b[0m\u001b[1;36m \u001b[0m┃\u001b[1;33m \u001b[0m\u001b[1;33mStimulus  \u001b[0m\u001b[1;33m \u001b[0m┃\n",
       "┃\u001b[1;36m \u001b[0m\u001b[1;36m📊 Modality       \u001b[0m\u001b[1;36m \u001b[0m┃\u001b[1;33m \u001b[0m\u001b[1;33mPictures  \u001b[0m\u001b[1;33m \u001b[0m┃\n",
       "┃\u001b[1;36m \u001b[0m\u001b[1;36m⏱ Tmin            \u001b[0m\u001b[1;36m \u001b[0m┃\u001b[1;33m \u001b[0m\u001b[1;36m-0.2\u001b[0m\u001b[1;33m      \u001b[0m\u001b[1;33m \u001b[0m┃\n",
       "┃\u001b[1;36m \u001b[0m\u001b[1;36m⏳ Tmax           \u001b[0m\u001b[1;36m \u001b[0m┃\u001b[1;33m \u001b[0m\u001b[1;36m0.5\u001b[0m\u001b[1;33m       \u001b[0m\u001b[1;33m \u001b[0m┃\n",
       "┗━━━━━━━━━━━━━━━━━━━━┻━━━━━━━━━━━━┛\n"
      ]
     },
     "metadata": {},
     "output_type": "display_data"
    },
    {
     "name": "stdout",
     "output_type": "stream",
     "text": [
      "Not setting metadata\n",
      "130 matching events found\n",
      "Applying baseline correction (mode: mean)\n",
      "0 projection items activated\n",
      "Using data from preloaded Raw for 130 events and 701 original time points ...\n",
      "0 bad epochs dropped\n"
     ]
    },
    {
     "data": {
      "text/html": [
       "<pre style=\"white-space:pre;overflow-x:auto;line-height:normal;font-family:Menlo,'DejaVu Sans Mono',consolas,'Courier New',monospace\"> <span style=\"color: #008000; text-decoration-color: #008000; font-weight: bold\">Loading for sub-</span><span style=\"color: #008000; text-decoration-color: #008000; font-weight: bold\">13</span><span style=\"color: #008000; text-decoration-color: #008000; font-weight: bold\">, ses-</span><span style=\"color: #008000; text-decoration-color: #008000; font-weight: bold\">01</span>\n",
       "</pre>\n"
      ],
      "text/plain": [
       " \u001b[1;32mLoading for sub-\u001b[0m\u001b[1;32m13\u001b[0m\u001b[1;32m, ses-\u001b[0m\u001b[1;32m01\u001b[0m\n"
      ]
     },
     "metadata": {},
     "output_type": "display_data"
    },
    {
     "data": {
      "text/html": [
       "<pre style=\"white-space:pre;overflow-x:auto;line-height:normal;font-family:Menlo,'DejaVu Sans Mono',consolas,'Courier New',monospace\"><span style=\"color: #800000; text-decoration-color: #800000\">╭────────────────────────────────╮</span>\n",
       "<span style=\"color: #800000; text-decoration-color: #800000\">│</span>  <span style=\"color: #800000; text-decoration-color: #800000; font-weight: bold\">Initializing DataLoader Class</span> <span style=\"color: #800000; text-decoration-color: #800000\">│</span>\n",
       "<span style=\"color: #800000; text-decoration-color: #800000\">╰────────────────────────────────╯</span>\n",
       "</pre>\n"
      ],
      "text/plain": [
       "\u001b[31m╭────────────────────────────────╮\u001b[0m\n",
       "\u001b[31m│\u001b[0m  \u001b[1;31mInitializing DataLoader Class\u001b[0m \u001b[31m│\u001b[0m\n",
       "\u001b[31m╰────────────────────────────────╯\u001b[0m\n"
      ]
     },
     "metadata": {},
     "output_type": "display_data"
    },
    {
     "data": {
      "text/html": [
       "<pre style=\"white-space:pre;overflow-x:auto;line-height:normal;font-family:Menlo,'DejaVu Sans Mono',consolas,'Courier New',monospace\"> <span style=\"color: #008000; text-decoration-color: #008000; font-weight: bold\">Creating EPOCHS</span>\n",
       "</pre>\n"
      ],
      "text/plain": [
       " \u001b[1;32mCreating EPOCHS\u001b[0m\n"
      ]
     },
     "metadata": {},
     "output_type": "display_data"
    },
    {
     "data": {
      "text/html": [
       "<pre style=\"white-space:pre;overflow-x:auto;line-height:normal;font-family:Menlo,'DejaVu Sans Mono',consolas,'Courier New',monospace\"><span style=\"font-style: italic\">        Extraction Criteria        </span>\n",
       "┏━━━━━━━━━━━━━━━━━━━━┳━━━━━━━━━━━━┓\n",
       "┃<span style=\"font-weight: bold\"> Parameter          </span>┃<span style=\"font-weight: bold\"> Value      </span>┃\n",
       "┣━━━━━━━━━━━━━━━━━━━━╋━━━━━━━━━━━━┫\n",
       "┃<span style=\"color: #008080; text-decoration-color: #008080; font-weight: bold\"> 🧪 Trial Mode      </span>┃<span style=\"color: #808000; text-decoration-color: #808000; font-weight: bold\">            </span>┃\n",
       "┃<span style=\"color: #008080; text-decoration-color: #008080; font-weight: bold\"> 📏 Trial Unit      </span>┃<span style=\"color: #808000; text-decoration-color: #808000; font-weight: bold\"> Words      </span>┃\n",
       "┃<span style=\"color: #008080; text-decoration-color: #008080; font-weight: bold\"> 🔗 Experiment Mode </span>┃<span style=\"color: #808000; text-decoration-color: #808000; font-weight: bold\"> Experiment </span>┃\n",
       "┃<span style=\"color: #008080; text-decoration-color: #008080; font-weight: bold\"> 🎭 Trial Boundary  </span>┃<span style=\"color: #808000; text-decoration-color: #808000; font-weight: bold\"> Start      </span>┃\n",
       "┃<span style=\"color: #008080; text-decoration-color: #008080; font-weight: bold\"> 🔬 Trial Type      </span>┃<span style=\"color: #808000; text-decoration-color: #808000; font-weight: bold\"> Stimulus   </span>┃\n",
       "┃<span style=\"color: #008080; text-decoration-color: #008080; font-weight: bold\"> 📊 Modality        </span>┃<span style=\"color: #808000; text-decoration-color: #808000; font-weight: bold\"> Pictures   </span>┃\n",
       "┃<span style=\"color: #008080; text-decoration-color: #008080; font-weight: bold\"> ⏱ Tmin             </span>┃<span style=\"color: #808000; text-decoration-color: #808000; font-weight: bold\"> </span><span style=\"color: #008080; text-decoration-color: #008080; font-weight: bold\">-0.2</span><span style=\"color: #808000; text-decoration-color: #808000; font-weight: bold\">       </span>┃\n",
       "┃<span style=\"color: #008080; text-decoration-color: #008080; font-weight: bold\"> ⏳ Tmax            </span>┃<span style=\"color: #808000; text-decoration-color: #808000; font-weight: bold\"> </span><span style=\"color: #008080; text-decoration-color: #008080; font-weight: bold\">0.5</span><span style=\"color: #808000; text-decoration-color: #808000; font-weight: bold\">        </span>┃\n",
       "┗━━━━━━━━━━━━━━━━━━━━┻━━━━━━━━━━━━┛\n",
       "</pre>\n"
      ],
      "text/plain": [
       "\u001b[3m        Extraction Criteria        \u001b[0m\n",
       "┏━━━━━━━━━━━━━━━━━━━━┳━━━━━━━━━━━━┓\n",
       "┃\u001b[1m \u001b[0m\u001b[1mParameter         \u001b[0m\u001b[1m \u001b[0m┃\u001b[1m \u001b[0m\u001b[1mValue     \u001b[0m\u001b[1m \u001b[0m┃\n",
       "┣━━━━━━━━━━━━━━━━━━━━╋━━━━━━━━━━━━┫\n",
       "┃\u001b[1;36m \u001b[0m\u001b[1;36m🧪 Trial Mode     \u001b[0m\u001b[1;36m \u001b[0m┃\u001b[1;33m \u001b[0m\u001b[1;33m          \u001b[0m\u001b[1;33m \u001b[0m┃\n",
       "┃\u001b[1;36m \u001b[0m\u001b[1;36m📏 Trial Unit     \u001b[0m\u001b[1;36m \u001b[0m┃\u001b[1;33m \u001b[0m\u001b[1;33mWords     \u001b[0m\u001b[1;33m \u001b[0m┃\n",
       "┃\u001b[1;36m \u001b[0m\u001b[1;36m🔗 Experiment Mode\u001b[0m\u001b[1;36m \u001b[0m┃\u001b[1;33m \u001b[0m\u001b[1;33mExperiment\u001b[0m\u001b[1;33m \u001b[0m┃\n",
       "┃\u001b[1;36m \u001b[0m\u001b[1;36m🎭 Trial Boundary \u001b[0m\u001b[1;36m \u001b[0m┃\u001b[1;33m \u001b[0m\u001b[1;33mStart     \u001b[0m\u001b[1;33m \u001b[0m┃\n",
       "┃\u001b[1;36m \u001b[0m\u001b[1;36m🔬 Trial Type     \u001b[0m\u001b[1;36m \u001b[0m┃\u001b[1;33m \u001b[0m\u001b[1;33mStimulus  \u001b[0m\u001b[1;33m \u001b[0m┃\n",
       "┃\u001b[1;36m \u001b[0m\u001b[1;36m📊 Modality       \u001b[0m\u001b[1;36m \u001b[0m┃\u001b[1;33m \u001b[0m\u001b[1;33mPictures  \u001b[0m\u001b[1;33m \u001b[0m┃\n",
       "┃\u001b[1;36m \u001b[0m\u001b[1;36m⏱ Tmin            \u001b[0m\u001b[1;36m \u001b[0m┃\u001b[1;33m \u001b[0m\u001b[1;36m-0.2\u001b[0m\u001b[1;33m      \u001b[0m\u001b[1;33m \u001b[0m┃\n",
       "┃\u001b[1;36m \u001b[0m\u001b[1;36m⏳ Tmax           \u001b[0m\u001b[1;36m \u001b[0m┃\u001b[1;33m \u001b[0m\u001b[1;36m0.5\u001b[0m\u001b[1;33m       \u001b[0m\u001b[1;33m \u001b[0m┃\n",
       "┗━━━━━━━━━━━━━━━━━━━━┻━━━━━━━━━━━━┛\n"
      ]
     },
     "metadata": {},
     "output_type": "display_data"
    },
    {
     "name": "stdout",
     "output_type": "stream",
     "text": [
      "Not setting metadata\n",
      "130 matching events found\n",
      "Applying baseline correction (mode: mean)\n",
      "0 projection items activated\n",
      "Using data from preloaded Raw for 130 events and 701 original time points ...\n",
      "0 bad epochs dropped\n"
     ]
    },
    {
     "data": {
      "text/html": [
       "<pre style=\"white-space:pre;overflow-x:auto;line-height:normal;font-family:Menlo,'DejaVu Sans Mono',consolas,'Courier New',monospace\"> <span style=\"color: #008000; text-decoration-color: #008000; font-weight: bold\">Loading for sub-</span><span style=\"color: #008000; text-decoration-color: #008000; font-weight: bold\">13</span><span style=\"color: #008000; text-decoration-color: #008000; font-weight: bold\">, ses-</span><span style=\"color: #008000; text-decoration-color: #008000; font-weight: bold\">02</span>\n",
       "</pre>\n"
      ],
      "text/plain": [
       " \u001b[1;32mLoading for sub-\u001b[0m\u001b[1;32m13\u001b[0m\u001b[1;32m, ses-\u001b[0m\u001b[1;32m02\u001b[0m\n"
      ]
     },
     "metadata": {},
     "output_type": "display_data"
    },
    {
     "data": {
      "text/html": [
       "<pre style=\"white-space:pre;overflow-x:auto;line-height:normal;font-family:Menlo,'DejaVu Sans Mono',consolas,'Courier New',monospace\"><span style=\"color: #800000; text-decoration-color: #800000\">╭────────────────────────────────╮</span>\n",
       "<span style=\"color: #800000; text-decoration-color: #800000\">│</span>  <span style=\"color: #800000; text-decoration-color: #800000; font-weight: bold\">Initializing DataLoader Class</span> <span style=\"color: #800000; text-decoration-color: #800000\">│</span>\n",
       "<span style=\"color: #800000; text-decoration-color: #800000\">╰────────────────────────────────╯</span>\n",
       "</pre>\n"
      ],
      "text/plain": [
       "\u001b[31m╭────────────────────────────────╮\u001b[0m\n",
       "\u001b[31m│\u001b[0m  \u001b[1;31mInitializing DataLoader Class\u001b[0m \u001b[31m│\u001b[0m\n",
       "\u001b[31m╰────────────────────────────────╯\u001b[0m\n"
      ]
     },
     "metadata": {},
     "output_type": "display_data"
    },
    {
     "data": {
      "text/html": [
       "<pre style=\"white-space:pre;overflow-x:auto;line-height:normal;font-family:Menlo,'DejaVu Sans Mono',consolas,'Courier New',monospace\"> <span style=\"color: #008000; text-decoration-color: #008000; font-weight: bold\">Creating EPOCHS</span>\n",
       "</pre>\n"
      ],
      "text/plain": [
       " \u001b[1;32mCreating EPOCHS\u001b[0m\n"
      ]
     },
     "metadata": {},
     "output_type": "display_data"
    },
    {
     "data": {
      "text/html": [
       "<pre style=\"white-space:pre;overflow-x:auto;line-height:normal;font-family:Menlo,'DejaVu Sans Mono',consolas,'Courier New',monospace\"><span style=\"font-style: italic\">        Extraction Criteria        </span>\n",
       "┏━━━━━━━━━━━━━━━━━━━━┳━━━━━━━━━━━━┓\n",
       "┃<span style=\"font-weight: bold\"> Parameter          </span>┃<span style=\"font-weight: bold\"> Value      </span>┃\n",
       "┣━━━━━━━━━━━━━━━━━━━━╋━━━━━━━━━━━━┫\n",
       "┃<span style=\"color: #008080; text-decoration-color: #008080; font-weight: bold\"> 🧪 Trial Mode      </span>┃<span style=\"color: #808000; text-decoration-color: #808000; font-weight: bold\">            </span>┃\n",
       "┃<span style=\"color: #008080; text-decoration-color: #008080; font-weight: bold\"> 📏 Trial Unit      </span>┃<span style=\"color: #808000; text-decoration-color: #808000; font-weight: bold\"> Words      </span>┃\n",
       "┃<span style=\"color: #008080; text-decoration-color: #008080; font-weight: bold\"> 🔗 Experiment Mode </span>┃<span style=\"color: #808000; text-decoration-color: #808000; font-weight: bold\"> Experiment </span>┃\n",
       "┃<span style=\"color: #008080; text-decoration-color: #008080; font-weight: bold\"> 🎭 Trial Boundary  </span>┃<span style=\"color: #808000; text-decoration-color: #808000; font-weight: bold\"> Start      </span>┃\n",
       "┃<span style=\"color: #008080; text-decoration-color: #008080; font-weight: bold\"> 🔬 Trial Type      </span>┃<span style=\"color: #808000; text-decoration-color: #808000; font-weight: bold\"> Stimulus   </span>┃\n",
       "┃<span style=\"color: #008080; text-decoration-color: #008080; font-weight: bold\"> 📊 Modality        </span>┃<span style=\"color: #808000; text-decoration-color: #808000; font-weight: bold\"> Pictures   </span>┃\n",
       "┃<span style=\"color: #008080; text-decoration-color: #008080; font-weight: bold\"> ⏱ Tmin             </span>┃<span style=\"color: #808000; text-decoration-color: #808000; font-weight: bold\"> </span><span style=\"color: #008080; text-decoration-color: #008080; font-weight: bold\">-0.2</span><span style=\"color: #808000; text-decoration-color: #808000; font-weight: bold\">       </span>┃\n",
       "┃<span style=\"color: #008080; text-decoration-color: #008080; font-weight: bold\"> ⏳ Tmax            </span>┃<span style=\"color: #808000; text-decoration-color: #808000; font-weight: bold\"> </span><span style=\"color: #008080; text-decoration-color: #008080; font-weight: bold\">0.5</span><span style=\"color: #808000; text-decoration-color: #808000; font-weight: bold\">        </span>┃\n",
       "┗━━━━━━━━━━━━━━━━━━━━┻━━━━━━━━━━━━┛\n",
       "</pre>\n"
      ],
      "text/plain": [
       "\u001b[3m        Extraction Criteria        \u001b[0m\n",
       "┏━━━━━━━━━━━━━━━━━━━━┳━━━━━━━━━━━━┓\n",
       "┃\u001b[1m \u001b[0m\u001b[1mParameter         \u001b[0m\u001b[1m \u001b[0m┃\u001b[1m \u001b[0m\u001b[1mValue     \u001b[0m\u001b[1m \u001b[0m┃\n",
       "┣━━━━━━━━━━━━━━━━━━━━╋━━━━━━━━━━━━┫\n",
       "┃\u001b[1;36m \u001b[0m\u001b[1;36m🧪 Trial Mode     \u001b[0m\u001b[1;36m \u001b[0m┃\u001b[1;33m \u001b[0m\u001b[1;33m          \u001b[0m\u001b[1;33m \u001b[0m┃\n",
       "┃\u001b[1;36m \u001b[0m\u001b[1;36m📏 Trial Unit     \u001b[0m\u001b[1;36m \u001b[0m┃\u001b[1;33m \u001b[0m\u001b[1;33mWords     \u001b[0m\u001b[1;33m \u001b[0m┃\n",
       "┃\u001b[1;36m \u001b[0m\u001b[1;36m🔗 Experiment Mode\u001b[0m\u001b[1;36m \u001b[0m┃\u001b[1;33m \u001b[0m\u001b[1;33mExperiment\u001b[0m\u001b[1;33m \u001b[0m┃\n",
       "┃\u001b[1;36m \u001b[0m\u001b[1;36m🎭 Trial Boundary \u001b[0m\u001b[1;36m \u001b[0m┃\u001b[1;33m \u001b[0m\u001b[1;33mStart     \u001b[0m\u001b[1;33m \u001b[0m┃\n",
       "┃\u001b[1;36m \u001b[0m\u001b[1;36m🔬 Trial Type     \u001b[0m\u001b[1;36m \u001b[0m┃\u001b[1;33m \u001b[0m\u001b[1;33mStimulus  \u001b[0m\u001b[1;33m \u001b[0m┃\n",
       "┃\u001b[1;36m \u001b[0m\u001b[1;36m📊 Modality       \u001b[0m\u001b[1;36m \u001b[0m┃\u001b[1;33m \u001b[0m\u001b[1;33mPictures  \u001b[0m\u001b[1;33m \u001b[0m┃\n",
       "┃\u001b[1;36m \u001b[0m\u001b[1;36m⏱ Tmin            \u001b[0m\u001b[1;36m \u001b[0m┃\u001b[1;33m \u001b[0m\u001b[1;36m-0.2\u001b[0m\u001b[1;33m      \u001b[0m\u001b[1;33m \u001b[0m┃\n",
       "┃\u001b[1;36m \u001b[0m\u001b[1;36m⏳ Tmax           \u001b[0m\u001b[1;36m \u001b[0m┃\u001b[1;33m \u001b[0m\u001b[1;36m0.5\u001b[0m\u001b[1;33m       \u001b[0m\u001b[1;33m \u001b[0m┃\n",
       "┗━━━━━━━━━━━━━━━━━━━━┻━━━━━━━━━━━━┛\n"
      ]
     },
     "metadata": {},
     "output_type": "display_data"
    },
    {
     "name": "stdout",
     "output_type": "stream",
     "text": [
      "Not setting metadata\n",
      "130 matching events found\n",
      "Applying baseline correction (mode: mean)\n",
      "0 projection items activated\n",
      "Using data from preloaded Raw for 130 events and 701 original time points ...\n",
      "0 bad epochs dropped\n"
     ]
    },
    {
     "data": {
      "text/html": [
       "<pre style=\"white-space:pre;overflow-x:auto;line-height:normal;font-family:Menlo,'DejaVu Sans Mono',consolas,'Courier New',monospace\"> <span style=\"color: #008000; text-decoration-color: #008000; font-weight: bold\">Loading for sub-</span><span style=\"color: #008000; text-decoration-color: #008000; font-weight: bold\">14</span><span style=\"color: #008000; text-decoration-color: #008000; font-weight: bold\">, ses-</span><span style=\"color: #008000; text-decoration-color: #008000; font-weight: bold\">01</span>\n",
       "</pre>\n"
      ],
      "text/plain": [
       " \u001b[1;32mLoading for sub-\u001b[0m\u001b[1;32m14\u001b[0m\u001b[1;32m, ses-\u001b[0m\u001b[1;32m01\u001b[0m\n"
      ]
     },
     "metadata": {},
     "output_type": "display_data"
    },
    {
     "data": {
      "text/html": [
       "<pre style=\"white-space:pre;overflow-x:auto;line-height:normal;font-family:Menlo,'DejaVu Sans Mono',consolas,'Courier New',monospace\"><span style=\"color: #800000; text-decoration-color: #800000\">╭────────────────────────────────╮</span>\n",
       "<span style=\"color: #800000; text-decoration-color: #800000\">│</span>  <span style=\"color: #800000; text-decoration-color: #800000; font-weight: bold\">Initializing DataLoader Class</span> <span style=\"color: #800000; text-decoration-color: #800000\">│</span>\n",
       "<span style=\"color: #800000; text-decoration-color: #800000\">╰────────────────────────────────╯</span>\n",
       "</pre>\n"
      ],
      "text/plain": [
       "\u001b[31m╭────────────────────────────────╮\u001b[0m\n",
       "\u001b[31m│\u001b[0m  \u001b[1;31mInitializing DataLoader Class\u001b[0m \u001b[31m│\u001b[0m\n",
       "\u001b[31m╰────────────────────────────────╯\u001b[0m\n"
      ]
     },
     "metadata": {},
     "output_type": "display_data"
    },
    {
     "data": {
      "text/html": [
       "<pre style=\"white-space:pre;overflow-x:auto;line-height:normal;font-family:Menlo,'DejaVu Sans Mono',consolas,'Courier New',monospace\"> <span style=\"color: #008000; text-decoration-color: #008000; font-weight: bold\">Creating EPOCHS</span>\n",
       "</pre>\n"
      ],
      "text/plain": [
       " \u001b[1;32mCreating EPOCHS\u001b[0m\n"
      ]
     },
     "metadata": {},
     "output_type": "display_data"
    },
    {
     "data": {
      "text/html": [
       "<pre style=\"white-space:pre;overflow-x:auto;line-height:normal;font-family:Menlo,'DejaVu Sans Mono',consolas,'Courier New',monospace\"><span style=\"font-style: italic\">        Extraction Criteria        </span>\n",
       "┏━━━━━━━━━━━━━━━━━━━━┳━━━━━━━━━━━━┓\n",
       "┃<span style=\"font-weight: bold\"> Parameter          </span>┃<span style=\"font-weight: bold\"> Value      </span>┃\n",
       "┣━━━━━━━━━━━━━━━━━━━━╋━━━━━━━━━━━━┫\n",
       "┃<span style=\"color: #008080; text-decoration-color: #008080; font-weight: bold\"> 🧪 Trial Mode      </span>┃<span style=\"color: #808000; text-decoration-color: #808000; font-weight: bold\">            </span>┃\n",
       "┃<span style=\"color: #008080; text-decoration-color: #008080; font-weight: bold\"> 📏 Trial Unit      </span>┃<span style=\"color: #808000; text-decoration-color: #808000; font-weight: bold\"> Words      </span>┃\n",
       "┃<span style=\"color: #008080; text-decoration-color: #008080; font-weight: bold\"> 🔗 Experiment Mode </span>┃<span style=\"color: #808000; text-decoration-color: #808000; font-weight: bold\"> Experiment </span>┃\n",
       "┃<span style=\"color: #008080; text-decoration-color: #008080; font-weight: bold\"> 🎭 Trial Boundary  </span>┃<span style=\"color: #808000; text-decoration-color: #808000; font-weight: bold\"> Start      </span>┃\n",
       "┃<span style=\"color: #008080; text-decoration-color: #008080; font-weight: bold\"> 🔬 Trial Type      </span>┃<span style=\"color: #808000; text-decoration-color: #808000; font-weight: bold\"> Stimulus   </span>┃\n",
       "┃<span style=\"color: #008080; text-decoration-color: #008080; font-weight: bold\"> 📊 Modality        </span>┃<span style=\"color: #808000; text-decoration-color: #808000; font-weight: bold\"> Pictures   </span>┃\n",
       "┃<span style=\"color: #008080; text-decoration-color: #008080; font-weight: bold\"> ⏱ Tmin             </span>┃<span style=\"color: #808000; text-decoration-color: #808000; font-weight: bold\"> </span><span style=\"color: #008080; text-decoration-color: #008080; font-weight: bold\">-0.2</span><span style=\"color: #808000; text-decoration-color: #808000; font-weight: bold\">       </span>┃\n",
       "┃<span style=\"color: #008080; text-decoration-color: #008080; font-weight: bold\"> ⏳ Tmax            </span>┃<span style=\"color: #808000; text-decoration-color: #808000; font-weight: bold\"> </span><span style=\"color: #008080; text-decoration-color: #008080; font-weight: bold\">0.5</span><span style=\"color: #808000; text-decoration-color: #808000; font-weight: bold\">        </span>┃\n",
       "┗━━━━━━━━━━━━━━━━━━━━┻━━━━━━━━━━━━┛\n",
       "</pre>\n"
      ],
      "text/plain": [
       "\u001b[3m        Extraction Criteria        \u001b[0m\n",
       "┏━━━━━━━━━━━━━━━━━━━━┳━━━━━━━━━━━━┓\n",
       "┃\u001b[1m \u001b[0m\u001b[1mParameter         \u001b[0m\u001b[1m \u001b[0m┃\u001b[1m \u001b[0m\u001b[1mValue     \u001b[0m\u001b[1m \u001b[0m┃\n",
       "┣━━━━━━━━━━━━━━━━━━━━╋━━━━━━━━━━━━┫\n",
       "┃\u001b[1;36m \u001b[0m\u001b[1;36m🧪 Trial Mode     \u001b[0m\u001b[1;36m \u001b[0m┃\u001b[1;33m \u001b[0m\u001b[1;33m          \u001b[0m\u001b[1;33m \u001b[0m┃\n",
       "┃\u001b[1;36m \u001b[0m\u001b[1;36m📏 Trial Unit     \u001b[0m\u001b[1;36m \u001b[0m┃\u001b[1;33m \u001b[0m\u001b[1;33mWords     \u001b[0m\u001b[1;33m \u001b[0m┃\n",
       "┃\u001b[1;36m \u001b[0m\u001b[1;36m🔗 Experiment Mode\u001b[0m\u001b[1;36m \u001b[0m┃\u001b[1;33m \u001b[0m\u001b[1;33mExperiment\u001b[0m\u001b[1;33m \u001b[0m┃\n",
       "┃\u001b[1;36m \u001b[0m\u001b[1;36m🎭 Trial Boundary \u001b[0m\u001b[1;36m \u001b[0m┃\u001b[1;33m \u001b[0m\u001b[1;33mStart     \u001b[0m\u001b[1;33m \u001b[0m┃\n",
       "┃\u001b[1;36m \u001b[0m\u001b[1;36m🔬 Trial Type     \u001b[0m\u001b[1;36m \u001b[0m┃\u001b[1;33m \u001b[0m\u001b[1;33mStimulus  \u001b[0m\u001b[1;33m \u001b[0m┃\n",
       "┃\u001b[1;36m \u001b[0m\u001b[1;36m📊 Modality       \u001b[0m\u001b[1;36m \u001b[0m┃\u001b[1;33m \u001b[0m\u001b[1;33mPictures  \u001b[0m\u001b[1;33m \u001b[0m┃\n",
       "┃\u001b[1;36m \u001b[0m\u001b[1;36m⏱ Tmin            \u001b[0m\u001b[1;36m \u001b[0m┃\u001b[1;33m \u001b[0m\u001b[1;36m-0.2\u001b[0m\u001b[1;33m      \u001b[0m\u001b[1;33m \u001b[0m┃\n",
       "┃\u001b[1;36m \u001b[0m\u001b[1;36m⏳ Tmax           \u001b[0m\u001b[1;36m \u001b[0m┃\u001b[1;33m \u001b[0m\u001b[1;36m0.5\u001b[0m\u001b[1;33m       \u001b[0m\u001b[1;33m \u001b[0m┃\n",
       "┗━━━━━━━━━━━━━━━━━━━━┻━━━━━━━━━━━━┛\n"
      ]
     },
     "metadata": {},
     "output_type": "display_data"
    },
    {
     "name": "stdout",
     "output_type": "stream",
     "text": [
      "Not setting metadata\n",
      "130 matching events found\n",
      "Applying baseline correction (mode: mean)\n",
      "0 projection items activated\n",
      "Using data from preloaded Raw for 130 events and 701 original time points ...\n",
      "0 bad epochs dropped\n"
     ]
    }
   ],
   "source": [
    "def create_epochs_for_all(\n",
    "        registery, trial_mode, trial_unit, experiment_mode, \n",
    "        trial_boundary, trial_type, modality, tmin, tmax\n",
    "    ):\n",
    "    styled_print('', 'Creating EPOCHS for all subjects', color='red')\n",
    "    epochs = {}\n",
    "\n",
    "    for (subject, session), raw in registery.raw_data.items():\n",
    "        styled_print('', f'Loading for sub-{subject}, ses-{session}', color='green')\n",
    "        data_loader = DataLoader(\n",
    "            eeg_data=raw, trial_mode=trial_mode, trial_unit=trial_unit,\n",
    "            experiment_mode=experiment_mode, trial_boundary=trial_boundary,\n",
    "            trial_type=trial_type, modality=modality\n",
    "        )\n",
    "        try:\n",
    "            epochs[(subject, session)] = data_loader.create_epochs(tmin=tmin, tmax=tmax)\n",
    "        except Exception as e:\n",
    "            styled_print('', f\"Error processing sub-{subject}, ses-{session}: {e}\", color='yellow')\n",
    "\n",
    "    return epochs\n",
    "\n",
    "\n",
    "trial_mode = ''\n",
    "trial_unit = 'Words'\n",
    "experiment_mode = 'Experiment'\n",
    "trial_boundary = 'Start'\n",
    "trial_type = 'Stimulus'\n",
    "modality = 'Pictures'\n",
    "channels = ['PO3', 'POz', 'PO4']\n",
    "\n",
    "epochs_pictorial = create_epochs_for_all(\n",
    "        registery=registary,\n",
    "        trial_mode=trial_mode, trial_unit=trial_unit,\n",
    "        experiment_mode=experiment_mode, trial_boundary=trial_boundary,\n",
    "        trial_type=trial_type, modality=modality,\n",
    "        tmin=-0.2, tmax=0.5\n",
    ")"
   ]
  },
  {
   "cell_type": "code",
   "execution_count": null,
   "metadata": {},
   "outputs": [],
   "source": [
    "plot_vs_fixation_all_subjects(\n",
    "    registery=registary,\n",
    "    trial_mode=trail_mode, \n",
    "    trial_unit=trail_unit, \n",
    "    experiment_mode=experiment_mode,\n",
    "    trial_boundary=trail_boundary, \n",
    "    trial_type=trail_type, \n",
    "    modality=modality,\n",
    "    #channels=channels\n",
    ")"
   ]
  },
  {
   "cell_type": "code",
   "execution_count": 38,
   "metadata": {},
   "outputs": [
    {
     "data": {
      "text/plain": [
       "['Fp1',\n",
       " 'Fz',\n",
       " 'F3',\n",
       " 'F7',\n",
       " 'FT9',\n",
       " 'FC5',\n",
       " 'FC1',\n",
       " 'C3',\n",
       " 'T7',\n",
       " 'EOG1',\n",
       " 'CP5',\n",
       " 'CP1',\n",
       " 'Pz',\n",
       " 'P3',\n",
       " 'P7',\n",
       " 'O1',\n",
       " 'Oz',\n",
       " 'O2',\n",
       " 'P4',\n",
       " 'P8',\n",
       " 'EOG2',\n",
       " 'CP6',\n",
       " 'CP2',\n",
       " 'Cz',\n",
       " 'C4',\n",
       " 'T8',\n",
       " 'FT10',\n",
       " 'FC6',\n",
       " 'FC2',\n",
       " 'F4',\n",
       " 'F8',\n",
       " 'Fp2',\n",
       " 'AF7',\n",
       " 'AF3',\n",
       " 'AFz',\n",
       " 'F1',\n",
       " 'F5',\n",
       " 'FT7',\n",
       " 'FC3',\n",
       " 'C1',\n",
       " 'C5',\n",
       " 'TP7',\n",
       " 'CP3',\n",
       " 'P1',\n",
       " 'P5',\n",
       " 'PO7',\n",
       " 'PO3',\n",
       " 'POz',\n",
       " 'PO4',\n",
       " 'PO8',\n",
       " 'P6',\n",
       " 'P2',\n",
       " 'CPz',\n",
       " 'CP4',\n",
       " 'TP8',\n",
       " 'C6',\n",
       " 'C2',\n",
       " 'FC4',\n",
       " 'FT8',\n",
       " 'F6',\n",
       " 'AF8',\n",
       " 'AF4',\n",
       " 'F2',\n",
       " 'FCz']"
      ]
     },
     "execution_count": 38,
     "metadata": {},
     "output_type": "execute_result"
    }
   ],
   "source": [
    "ep[('02','01')].ch_names"
   ]
  },
  {
   "cell_type": "code",
   "execution_count": null,
   "metadata": {},
   "outputs": [],
   "source": []
  }
 ],
 "metadata": {
  "kernelspec": {
   "display_name": "vow",
   "language": "python",
   "name": "python3"
  },
  "language_info": {
   "codemirror_mode": {
    "name": "ipython",
    "version": 3
   },
   "file_extension": ".py",
   "mimetype": "text/x-python",
   "name": "python",
   "nbconvert_exporter": "python",
   "pygments_lexer": "ipython3",
   "version": "3.10.16"
  }
 },
 "nbformat": 4,
 "nbformat_minor": 2
}
