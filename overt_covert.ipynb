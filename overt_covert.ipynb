{
 "cells": [
  {
   "cell_type": "code",
   "execution_count": 1,
   "metadata": {},
   "outputs": [],
   "source": [
    "import config as config\n",
    "from src.pipelines.p100_pipeline import P100AnalysisPipeline\n",
    "import config as config\n",
    "from bids import BIDSLayout"
   ]
  },
  {
   "cell_type": "code",
   "execution_count": 2,
   "metadata": {},
   "outputs": [
    {
     "data": {
      "text/html": [
       "<pre style=\"white-space:pre;overflow-x:auto;line-height:normal;font-family:Menlo,'DejaVu Sans Mono',consolas,'Courier New',monospace\"><span style=\"color: #808000; text-decoration-color: #808000\">╭─────────────────────────────────────────╮</span>\n",
       "<span style=\"color: #808000; text-decoration-color: #808000\">│</span> 🚀 <span style=\"color: #808000; text-decoration-color: #808000; font-weight: bold\">Initializing BIDSDatasetReader Class</span> <span style=\"color: #808000; text-decoration-color: #808000\">│</span>\n",
       "<span style=\"color: #808000; text-decoration-color: #808000\">╰─────────────────────────────────────────╯</span>\n",
       "</pre>\n"
      ],
      "text/plain": [
       "\u001b[33m╭─────────────────────────────────────────╮\u001b[0m\n",
       "\u001b[33m│\u001b[0m 🚀 \u001b[1;33mInitializing BIDSDatasetReader Class\u001b[0m \u001b[33m│\u001b[0m\n",
       "\u001b[33m╰─────────────────────────────────────────╯\u001b[0m\n"
      ]
     },
     "metadata": {},
     "output_type": "display_data"
    },
    {
     "data": {
      "text/html": [
       "<pre style=\"white-space:pre;overflow-x:auto;line-height:normal;font-family:Menlo,'DejaVu Sans Mono',consolas,'Courier New',monospace\"> <span style=\"color: #008000; text-decoration-color: #008000; font-weight: bold\">Loading Processed EEG Data: sub-</span><span style=\"color: #008000; text-decoration-color: #008000; font-weight: bold\">01</span><span style=\"color: #008000; text-decoration-color: #008000; font-weight: bold\"> ses-</span><span style=\"color: #008000; text-decoration-color: #008000; font-weight: bold\">01</span>\n",
       "</pre>\n"
      ],
      "text/plain": [
       " \u001b[1;32mLoading Processed EEG Data: sub-\u001b[0m\u001b[1;32m01\u001b[0m\u001b[1;32m ses-\u001b[0m\u001b[1;32m01\u001b[0m\n"
      ]
     },
     "metadata": {},
     "output_type": "display_data"
    },
    {
     "data": {
      "text/html": [
       "<pre style=\"white-space:pre;overflow-x:auto;line-height:normal;font-family:Menlo,'DejaVu Sans Mono',consolas,'Courier New',monospace\"><span style=\"color: #800000; text-decoration-color: #800000\">╭─────────────────────────────────────╮</span>\n",
       "<span style=\"color: #800000; text-decoration-color: #800000\">│</span>  <span style=\"color: #800000; text-decoration-color: #800000; font-weight: bold\">Initializing EEGEpochBuilder Class</span> <span style=\"color: #800000; text-decoration-color: #800000\">│</span>\n",
       "<span style=\"color: #800000; text-decoration-color: #800000\">╰─────────────────────────────────────╯</span>\n",
       "</pre>\n"
      ],
      "text/plain": [
       "\u001b[31m╭─────────────────────────────────────╮\u001b[0m\n",
       "\u001b[31m│\u001b[0m  \u001b[1;31mInitializing EEGEpochBuilder Class\u001b[0m \u001b[31m│\u001b[0m\n",
       "\u001b[31m╰─────────────────────────────────────╯\u001b[0m\n"
      ]
     },
     "metadata": {},
     "output_type": "display_data"
    },
    {
     "data": {
      "text/html": [
       "<pre style=\"white-space:pre;overflow-x:auto;line-height:normal;font-family:Menlo,'DejaVu Sans Mono',consolas,'Courier New',monospace\"> <span style=\"color: #008000; text-decoration-color: #008000; font-weight: bold\">Creating EPOCHS</span>\n",
       "</pre>\n"
      ],
      "text/plain": [
       " \u001b[1;32mCreating EPOCHS\u001b[0m\n"
      ]
     },
     "metadata": {},
     "output_type": "display_data"
    },
    {
     "data": {
      "text/html": [
       "<pre style=\"white-space:pre;overflow-x:auto;line-height:normal;font-family:Menlo,'DejaVu Sans Mono',consolas,'Courier New',monospace\"><span style=\"font-style: italic\">        Extraction Criteria        </span>\n",
       "┏━━━━━━━━━━━━━━━━━━━━┳━━━━━━━━━━━━┓\n",
       "┃<span style=\"font-weight: bold\"> Parameter          </span>┃<span style=\"font-weight: bold\"> Value      </span>┃\n",
       "┣━━━━━━━━━━━━━━━━━━━━╋━━━━━━━━━━━━┫\n",
       "┃<span style=\"color: #008080; text-decoration-color: #008080; font-weight: bold\"> 🧪 Trial Mode      </span>┃<span style=\"color: #808000; text-decoration-color: #808000; font-weight: bold\"> Real       </span>┃\n",
       "┃<span style=\"color: #008080; text-decoration-color: #008080; font-weight: bold\"> 📏 Trial Unit      </span>┃<span style=\"color: #808000; text-decoration-color: #808000; font-weight: bold\"> Words      </span>┃\n",
       "┃<span style=\"color: #008080; text-decoration-color: #008080; font-weight: bold\"> 🔗 Experiment Mode </span>┃<span style=\"color: #808000; text-decoration-color: #808000; font-weight: bold\"> Experiment </span>┃\n",
       "┃<span style=\"color: #008080; text-decoration-color: #008080; font-weight: bold\"> 🎭 Trial Boundary  </span>┃<span style=\"color: #808000; text-decoration-color: #808000; font-weight: bold\"> Start      </span>┃\n",
       "┃<span style=\"color: #008080; text-decoration-color: #008080; font-weight: bold\"> 🔬 Trial Type      </span>┃<span style=\"color: #808000; text-decoration-color: #808000; font-weight: bold\"> Speech     </span>┃\n",
       "┃<span style=\"color: #008080; text-decoration-color: #008080; font-weight: bold\"> 📊 Modality        </span>┃<span style=\"color: #808000; text-decoration-color: #808000; font-weight: bold\"> Audio      </span>┃\n",
       "┃<span style=\"color: #008080; text-decoration-color: #008080; font-weight: bold\"> ⏱ Tmin             </span>┃<span style=\"color: #808000; text-decoration-color: #808000; font-weight: bold\"> </span><span style=\"color: #008080; text-decoration-color: #008080; font-weight: bold\">-0.2</span><span style=\"color: #808000; text-decoration-color: #808000; font-weight: bold\">       </span>┃\n",
       "┃<span style=\"color: #008080; text-decoration-color: #008080; font-weight: bold\"> ⏳ Tmax            </span>┃<span style=\"color: #808000; text-decoration-color: #808000; font-weight: bold\"> </span><span style=\"color: #008080; text-decoration-color: #008080; font-weight: bold\">0.5</span><span style=\"color: #808000; text-decoration-color: #808000; font-weight: bold\">        </span>┃\n",
       "┗━━━━━━━━━━━━━━━━━━━━┻━━━━━━━━━━━━┛\n",
       "</pre>\n"
      ],
      "text/plain": [
       "\u001b[3m        Extraction Criteria        \u001b[0m\n",
       "┏━━━━━━━━━━━━━━━━━━━━┳━━━━━━━━━━━━┓\n",
       "┃\u001b[1m \u001b[0m\u001b[1mParameter         \u001b[0m\u001b[1m \u001b[0m┃\u001b[1m \u001b[0m\u001b[1mValue     \u001b[0m\u001b[1m \u001b[0m┃\n",
       "┣━━━━━━━━━━━━━━━━━━━━╋━━━━━━━━━━━━┫\n",
       "┃\u001b[1;36m \u001b[0m\u001b[1;36m🧪 Trial Mode     \u001b[0m\u001b[1;36m \u001b[0m┃\u001b[1;33m \u001b[0m\u001b[1;33mReal      \u001b[0m\u001b[1;33m \u001b[0m┃\n",
       "┃\u001b[1;36m \u001b[0m\u001b[1;36m📏 Trial Unit     \u001b[0m\u001b[1;36m \u001b[0m┃\u001b[1;33m \u001b[0m\u001b[1;33mWords     \u001b[0m\u001b[1;33m \u001b[0m┃\n",
       "┃\u001b[1;36m \u001b[0m\u001b[1;36m🔗 Experiment Mode\u001b[0m\u001b[1;36m \u001b[0m┃\u001b[1;33m \u001b[0m\u001b[1;33mExperiment\u001b[0m\u001b[1;33m \u001b[0m┃\n",
       "┃\u001b[1;36m \u001b[0m\u001b[1;36m🎭 Trial Boundary \u001b[0m\u001b[1;36m \u001b[0m┃\u001b[1;33m \u001b[0m\u001b[1;33mStart     \u001b[0m\u001b[1;33m \u001b[0m┃\n",
       "┃\u001b[1;36m \u001b[0m\u001b[1;36m🔬 Trial Type     \u001b[0m\u001b[1;36m \u001b[0m┃\u001b[1;33m \u001b[0m\u001b[1;33mSpeech    \u001b[0m\u001b[1;33m \u001b[0m┃\n",
       "┃\u001b[1;36m \u001b[0m\u001b[1;36m📊 Modality       \u001b[0m\u001b[1;36m \u001b[0m┃\u001b[1;33m \u001b[0m\u001b[1;33mAudio     \u001b[0m\u001b[1;33m \u001b[0m┃\n",
       "┃\u001b[1;36m \u001b[0m\u001b[1;36m⏱ Tmin            \u001b[0m\u001b[1;36m \u001b[0m┃\u001b[1;33m \u001b[0m\u001b[1;36m-0.2\u001b[0m\u001b[1;33m      \u001b[0m\u001b[1;33m \u001b[0m┃\n",
       "┃\u001b[1;36m \u001b[0m\u001b[1;36m⏳ Tmax           \u001b[0m\u001b[1;36m \u001b[0m┃\u001b[1;33m \u001b[0m\u001b[1;36m0.5\u001b[0m\u001b[1;33m       \u001b[0m\u001b[1;33m \u001b[0m┃\n",
       "┗━━━━━━━━━━━━━━━━━━━━┻━━━━━━━━━━━━┛\n"
      ]
     },
     "metadata": {},
     "output_type": "display_data"
    },
    {
     "name": "stdout",
     "output_type": "stream",
     "text": [
      "Not setting metadata\n",
      "95 matching events found\n",
      "Applying baseline correction (mode: mean)\n",
      "0 projection items activated\n",
      "Using data from preloaded Raw for 95 events and 701 original time points ...\n",
      "0 bad epochs dropped\n"
     ]
    },
    {
     "data": {
      "text/html": [
       "<pre style=\"white-space:pre;overflow-x:auto;line-height:normal;font-family:Menlo,'DejaVu Sans Mono',consolas,'Courier New',monospace\"><span style=\"color: #800000; text-decoration-color: #800000\">╭─────────────────────────────────────╮</span>\n",
       "<span style=\"color: #800000; text-decoration-color: #800000\">│</span>  <span style=\"color: #800000; text-decoration-color: #800000; font-weight: bold\">Initializing EEGEpochBuilder Class</span> <span style=\"color: #800000; text-decoration-color: #800000\">│</span>\n",
       "<span style=\"color: #800000; text-decoration-color: #800000\">╰─────────────────────────────────────╯</span>\n",
       "</pre>\n"
      ],
      "text/plain": [
       "\u001b[31m╭─────────────────────────────────────╮\u001b[0m\n",
       "\u001b[31m│\u001b[0m  \u001b[1;31mInitializing EEGEpochBuilder Class\u001b[0m \u001b[31m│\u001b[0m\n",
       "\u001b[31m╰─────────────────────────────────────╯\u001b[0m\n"
      ]
     },
     "metadata": {},
     "output_type": "display_data"
    },
    {
     "data": {
      "text/html": [
       "<pre style=\"white-space:pre;overflow-x:auto;line-height:normal;font-family:Menlo,'DejaVu Sans Mono',consolas,'Courier New',monospace\"> <span style=\"color: #008000; text-decoration-color: #008000; font-weight: bold\">Creating EPOCHS</span>\n",
       "</pre>\n"
      ],
      "text/plain": [
       " \u001b[1;32mCreating EPOCHS\u001b[0m\n"
      ]
     },
     "metadata": {},
     "output_type": "display_data"
    },
    {
     "data": {
      "text/html": [
       "<pre style=\"white-space:pre;overflow-x:auto;line-height:normal;font-family:Menlo,'DejaVu Sans Mono',consolas,'Courier New',monospace\"><span style=\"font-style: italic\">        Extraction Criteria        </span>\n",
       "┏━━━━━━━━━━━━━━━━━━━━┳━━━━━━━━━━━━┓\n",
       "┃<span style=\"font-weight: bold\"> Parameter          </span>┃<span style=\"font-weight: bold\"> Value      </span>┃\n",
       "┣━━━━━━━━━━━━━━━━━━━━╋━━━━━━━━━━━━┫\n",
       "┃<span style=\"color: #008080; text-decoration-color: #008080; font-weight: bold\"> 🧪 Trial Mode      </span>┃<span style=\"color: #808000; text-decoration-color: #808000; font-weight: bold\"> Silent     </span>┃\n",
       "┃<span style=\"color: #008080; text-decoration-color: #008080; font-weight: bold\"> 📏 Trial Unit      </span>┃<span style=\"color: #808000; text-decoration-color: #808000; font-weight: bold\"> Words      </span>┃\n",
       "┃<span style=\"color: #008080; text-decoration-color: #008080; font-weight: bold\"> 🔗 Experiment Mode </span>┃<span style=\"color: #808000; text-decoration-color: #808000; font-weight: bold\"> Experiment </span>┃\n",
       "┃<span style=\"color: #008080; text-decoration-color: #008080; font-weight: bold\"> 🎭 Trial Boundary  </span>┃<span style=\"color: #808000; text-decoration-color: #808000; font-weight: bold\"> Start      </span>┃\n",
       "┃<span style=\"color: #008080; text-decoration-color: #008080; font-weight: bold\"> 🔬 Trial Type      </span>┃<span style=\"color: #808000; text-decoration-color: #808000; font-weight: bold\"> Speech     </span>┃\n",
       "┃<span style=\"color: #008080; text-decoration-color: #008080; font-weight: bold\"> 📊 Modality        </span>┃<span style=\"color: #808000; text-decoration-color: #808000; font-weight: bold\"> Audio      </span>┃\n",
       "┃<span style=\"color: #008080; text-decoration-color: #008080; font-weight: bold\"> ⏱ Tmin             </span>┃<span style=\"color: #808000; text-decoration-color: #808000; font-weight: bold\"> </span><span style=\"color: #008080; text-decoration-color: #008080; font-weight: bold\">-0.2</span><span style=\"color: #808000; text-decoration-color: #808000; font-weight: bold\">       </span>┃\n",
       "┃<span style=\"color: #008080; text-decoration-color: #008080; font-weight: bold\"> ⏳ Tmax            </span>┃<span style=\"color: #808000; text-decoration-color: #808000; font-weight: bold\"> </span><span style=\"color: #008080; text-decoration-color: #008080; font-weight: bold\">0.5</span><span style=\"color: #808000; text-decoration-color: #808000; font-weight: bold\">        </span>┃\n",
       "┗━━━━━━━━━━━━━━━━━━━━┻━━━━━━━━━━━━┛\n",
       "</pre>\n"
      ],
      "text/plain": [
       "\u001b[3m        Extraction Criteria        \u001b[0m\n",
       "┏━━━━━━━━━━━━━━━━━━━━┳━━━━━━━━━━━━┓\n",
       "┃\u001b[1m \u001b[0m\u001b[1mParameter         \u001b[0m\u001b[1m \u001b[0m┃\u001b[1m \u001b[0m\u001b[1mValue     \u001b[0m\u001b[1m \u001b[0m┃\n",
       "┣━━━━━━━━━━━━━━━━━━━━╋━━━━━━━━━━━━┫\n",
       "┃\u001b[1;36m \u001b[0m\u001b[1;36m🧪 Trial Mode     \u001b[0m\u001b[1;36m \u001b[0m┃\u001b[1;33m \u001b[0m\u001b[1;33mSilent    \u001b[0m\u001b[1;33m \u001b[0m┃\n",
       "┃\u001b[1;36m \u001b[0m\u001b[1;36m📏 Trial Unit     \u001b[0m\u001b[1;36m \u001b[0m┃\u001b[1;33m \u001b[0m\u001b[1;33mWords     \u001b[0m\u001b[1;33m \u001b[0m┃\n",
       "┃\u001b[1;36m \u001b[0m\u001b[1;36m🔗 Experiment Mode\u001b[0m\u001b[1;36m \u001b[0m┃\u001b[1;33m \u001b[0m\u001b[1;33mExperiment\u001b[0m\u001b[1;33m \u001b[0m┃\n",
       "┃\u001b[1;36m \u001b[0m\u001b[1;36m🎭 Trial Boundary \u001b[0m\u001b[1;36m \u001b[0m┃\u001b[1;33m \u001b[0m\u001b[1;33mStart     \u001b[0m\u001b[1;33m \u001b[0m┃\n",
       "┃\u001b[1;36m \u001b[0m\u001b[1;36m🔬 Trial Type     \u001b[0m\u001b[1;36m \u001b[0m┃\u001b[1;33m \u001b[0m\u001b[1;33mSpeech    \u001b[0m\u001b[1;33m \u001b[0m┃\n",
       "┃\u001b[1;36m \u001b[0m\u001b[1;36m📊 Modality       \u001b[0m\u001b[1;36m \u001b[0m┃\u001b[1;33m \u001b[0m\u001b[1;33mAudio     \u001b[0m\u001b[1;33m \u001b[0m┃\n",
       "┃\u001b[1;36m \u001b[0m\u001b[1;36m⏱ Tmin            \u001b[0m\u001b[1;36m \u001b[0m┃\u001b[1;33m \u001b[0m\u001b[1;36m-0.2\u001b[0m\u001b[1;33m      \u001b[0m\u001b[1;33m \u001b[0m┃\n",
       "┃\u001b[1;36m \u001b[0m\u001b[1;36m⏳ Tmax           \u001b[0m\u001b[1;36m \u001b[0m┃\u001b[1;33m \u001b[0m\u001b[1;36m0.5\u001b[0m\u001b[1;33m       \u001b[0m\u001b[1;33m \u001b[0m┃\n",
       "┗━━━━━━━━━━━━━━━━━━━━┻━━━━━━━━━━━━┛\n"
      ]
     },
     "metadata": {},
     "output_type": "display_data"
    },
    {
     "name": "stdout",
     "output_type": "stream",
     "text": [
      "Not setting metadata\n",
      "95 matching events found\n",
      "Applying baseline correction (mode: mean)\n",
      "0 projection items activated\n",
      "Using data from preloaded Raw for 95 events and 701 original time points ...\n",
      "0 bad epochs dropped\n",
      "NOTE: pick_channels() is a legacy function. New code should use inst.pick(...).\n",
      "NOTE: pick_channels() is a legacy function. New code should use inst.pick(...).\n",
      "Overt P100: latency=0.110s, peak=1.08µV, mean=-0.63µV\n",
      "Covert P100: latency=0.280s, peak=-1.00µV, mean=-2.71µV\n",
      "Initializing Plotter\n",
      "Results saved to p100_results/sub-01_ses-01_p100_Overt_Covert.csv\n"
     ]
    },
    {
     "data": {
      "text/html": [
       "<pre style=\"white-space:pre;overflow-x:auto;line-height:normal;font-family:Menlo,'DejaVu Sans Mono',consolas,'Courier New',monospace\"><span style=\"color: #808000; text-decoration-color: #808000\">╭─────────────────────────────────────────╮</span>\n",
       "<span style=\"color: #808000; text-decoration-color: #808000\">│</span> 🚀 <span style=\"color: #808000; text-decoration-color: #808000; font-weight: bold\">Initializing BIDSDatasetReader Class</span> <span style=\"color: #808000; text-decoration-color: #808000\">│</span>\n",
       "<span style=\"color: #808000; text-decoration-color: #808000\">╰─────────────────────────────────────────╯</span>\n",
       "</pre>\n"
      ],
      "text/plain": [
       "\u001b[33m╭─────────────────────────────────────────╮\u001b[0m\n",
       "\u001b[33m│\u001b[0m 🚀 \u001b[1;33mInitializing BIDSDatasetReader Class\u001b[0m \u001b[33m│\u001b[0m\n",
       "\u001b[33m╰─────────────────────────────────────────╯\u001b[0m\n"
      ]
     },
     "metadata": {},
     "output_type": "display_data"
    },
    {
     "data": {
      "text/html": [
       "<pre style=\"white-space:pre;overflow-x:auto;line-height:normal;font-family:Menlo,'DejaVu Sans Mono',consolas,'Courier New',monospace\"> <span style=\"color: #008000; text-decoration-color: #008000; font-weight: bold\">Loading Processed EEG Data: sub-</span><span style=\"color: #008000; text-decoration-color: #008000; font-weight: bold\">02</span><span style=\"color: #008000; text-decoration-color: #008000; font-weight: bold\"> ses-</span><span style=\"color: #008000; text-decoration-color: #008000; font-weight: bold\">01</span>\n",
       "</pre>\n"
      ],
      "text/plain": [
       " \u001b[1;32mLoading Processed EEG Data: sub-\u001b[0m\u001b[1;32m02\u001b[0m\u001b[1;32m ses-\u001b[0m\u001b[1;32m01\u001b[0m\n"
      ]
     },
     "metadata": {},
     "output_type": "display_data"
    },
    {
     "data": {
      "text/html": [
       "<pre style=\"white-space:pre;overflow-x:auto;line-height:normal;font-family:Menlo,'DejaVu Sans Mono',consolas,'Courier New',monospace\"><span style=\"color: #800000; text-decoration-color: #800000\">╭─────────────────────────────────────╮</span>\n",
       "<span style=\"color: #800000; text-decoration-color: #800000\">│</span>  <span style=\"color: #800000; text-decoration-color: #800000; font-weight: bold\">Initializing EEGEpochBuilder Class</span> <span style=\"color: #800000; text-decoration-color: #800000\">│</span>\n",
       "<span style=\"color: #800000; text-decoration-color: #800000\">╰─────────────────────────────────────╯</span>\n",
       "</pre>\n"
      ],
      "text/plain": [
       "\u001b[31m╭─────────────────────────────────────╮\u001b[0m\n",
       "\u001b[31m│\u001b[0m  \u001b[1;31mInitializing EEGEpochBuilder Class\u001b[0m \u001b[31m│\u001b[0m\n",
       "\u001b[31m╰─────────────────────────────────────╯\u001b[0m\n"
      ]
     },
     "metadata": {},
     "output_type": "display_data"
    },
    {
     "data": {
      "text/html": [
       "<pre style=\"white-space:pre;overflow-x:auto;line-height:normal;font-family:Menlo,'DejaVu Sans Mono',consolas,'Courier New',monospace\"> <span style=\"color: #008000; text-decoration-color: #008000; font-weight: bold\">Creating EPOCHS</span>\n",
       "</pre>\n"
      ],
      "text/plain": [
       " \u001b[1;32mCreating EPOCHS\u001b[0m\n"
      ]
     },
     "metadata": {},
     "output_type": "display_data"
    },
    {
     "data": {
      "text/html": [
       "<pre style=\"white-space:pre;overflow-x:auto;line-height:normal;font-family:Menlo,'DejaVu Sans Mono',consolas,'Courier New',monospace\"><span style=\"font-style: italic\">        Extraction Criteria        </span>\n",
       "┏━━━━━━━━━━━━━━━━━━━━┳━━━━━━━━━━━━┓\n",
       "┃<span style=\"font-weight: bold\"> Parameter          </span>┃<span style=\"font-weight: bold\"> Value      </span>┃\n",
       "┣━━━━━━━━━━━━━━━━━━━━╋━━━━━━━━━━━━┫\n",
       "┃<span style=\"color: #008080; text-decoration-color: #008080; font-weight: bold\"> 🧪 Trial Mode      </span>┃<span style=\"color: #808000; text-decoration-color: #808000; font-weight: bold\"> Real       </span>┃\n",
       "┃<span style=\"color: #008080; text-decoration-color: #008080; font-weight: bold\"> 📏 Trial Unit      </span>┃<span style=\"color: #808000; text-decoration-color: #808000; font-weight: bold\"> Words      </span>┃\n",
       "┃<span style=\"color: #008080; text-decoration-color: #008080; font-weight: bold\"> 🔗 Experiment Mode </span>┃<span style=\"color: #808000; text-decoration-color: #808000; font-weight: bold\"> Experiment </span>┃\n",
       "┃<span style=\"color: #008080; text-decoration-color: #008080; font-weight: bold\"> 🎭 Trial Boundary  </span>┃<span style=\"color: #808000; text-decoration-color: #808000; font-weight: bold\"> Start      </span>┃\n",
       "┃<span style=\"color: #008080; text-decoration-color: #008080; font-weight: bold\"> 🔬 Trial Type      </span>┃<span style=\"color: #808000; text-decoration-color: #808000; font-weight: bold\"> Speech     </span>┃\n",
       "┃<span style=\"color: #008080; text-decoration-color: #008080; font-weight: bold\"> 📊 Modality        </span>┃<span style=\"color: #808000; text-decoration-color: #808000; font-weight: bold\"> Audio      </span>┃\n",
       "┃<span style=\"color: #008080; text-decoration-color: #008080; font-weight: bold\"> ⏱ Tmin             </span>┃<span style=\"color: #808000; text-decoration-color: #808000; font-weight: bold\"> </span><span style=\"color: #008080; text-decoration-color: #008080; font-weight: bold\">-0.2</span><span style=\"color: #808000; text-decoration-color: #808000; font-weight: bold\">       </span>┃\n",
       "┃<span style=\"color: #008080; text-decoration-color: #008080; font-weight: bold\"> ⏳ Tmax            </span>┃<span style=\"color: #808000; text-decoration-color: #808000; font-weight: bold\"> </span><span style=\"color: #008080; text-decoration-color: #008080; font-weight: bold\">0.5</span><span style=\"color: #808000; text-decoration-color: #808000; font-weight: bold\">        </span>┃\n",
       "┗━━━━━━━━━━━━━━━━━━━━┻━━━━━━━━━━━━┛\n",
       "</pre>\n"
      ],
      "text/plain": [
       "\u001b[3m        Extraction Criteria        \u001b[0m\n",
       "┏━━━━━━━━━━━━━━━━━━━━┳━━━━━━━━━━━━┓\n",
       "┃\u001b[1m \u001b[0m\u001b[1mParameter         \u001b[0m\u001b[1m \u001b[0m┃\u001b[1m \u001b[0m\u001b[1mValue     \u001b[0m\u001b[1m \u001b[0m┃\n",
       "┣━━━━━━━━━━━━━━━━━━━━╋━━━━━━━━━━━━┫\n",
       "┃\u001b[1;36m \u001b[0m\u001b[1;36m🧪 Trial Mode     \u001b[0m\u001b[1;36m \u001b[0m┃\u001b[1;33m \u001b[0m\u001b[1;33mReal      \u001b[0m\u001b[1;33m \u001b[0m┃\n",
       "┃\u001b[1;36m \u001b[0m\u001b[1;36m📏 Trial Unit     \u001b[0m\u001b[1;36m \u001b[0m┃\u001b[1;33m \u001b[0m\u001b[1;33mWords     \u001b[0m\u001b[1;33m \u001b[0m┃\n",
       "┃\u001b[1;36m \u001b[0m\u001b[1;36m🔗 Experiment Mode\u001b[0m\u001b[1;36m \u001b[0m┃\u001b[1;33m \u001b[0m\u001b[1;33mExperiment\u001b[0m\u001b[1;33m \u001b[0m┃\n",
       "┃\u001b[1;36m \u001b[0m\u001b[1;36m🎭 Trial Boundary \u001b[0m\u001b[1;36m \u001b[0m┃\u001b[1;33m \u001b[0m\u001b[1;33mStart     \u001b[0m\u001b[1;33m \u001b[0m┃\n",
       "┃\u001b[1;36m \u001b[0m\u001b[1;36m🔬 Trial Type     \u001b[0m\u001b[1;36m \u001b[0m┃\u001b[1;33m \u001b[0m\u001b[1;33mSpeech    \u001b[0m\u001b[1;33m \u001b[0m┃\n",
       "┃\u001b[1;36m \u001b[0m\u001b[1;36m📊 Modality       \u001b[0m\u001b[1;36m \u001b[0m┃\u001b[1;33m \u001b[0m\u001b[1;33mAudio     \u001b[0m\u001b[1;33m \u001b[0m┃\n",
       "┃\u001b[1;36m \u001b[0m\u001b[1;36m⏱ Tmin            \u001b[0m\u001b[1;36m \u001b[0m┃\u001b[1;33m \u001b[0m\u001b[1;36m-0.2\u001b[0m\u001b[1;33m      \u001b[0m\u001b[1;33m \u001b[0m┃\n",
       "┃\u001b[1;36m \u001b[0m\u001b[1;36m⏳ Tmax           \u001b[0m\u001b[1;36m \u001b[0m┃\u001b[1;33m \u001b[0m\u001b[1;36m0.5\u001b[0m\u001b[1;33m       \u001b[0m\u001b[1;33m \u001b[0m┃\n",
       "┗━━━━━━━━━━━━━━━━━━━━┻━━━━━━━━━━━━┛\n"
      ]
     },
     "metadata": {},
     "output_type": "display_data"
    },
    {
     "name": "stdout",
     "output_type": "stream",
     "text": [
      "Not setting metadata\n",
      "95 matching events found\n",
      "Applying baseline correction (mode: mean)\n",
      "0 projection items activated\n",
      "Using data from preloaded Raw for 95 events and 701 original time points ...\n",
      "0 bad epochs dropped\n"
     ]
    },
    {
     "data": {
      "text/html": [
       "<pre style=\"white-space:pre;overflow-x:auto;line-height:normal;font-family:Menlo,'DejaVu Sans Mono',consolas,'Courier New',monospace\"><span style=\"color: #800000; text-decoration-color: #800000\">╭─────────────────────────────────────╮</span>\n",
       "<span style=\"color: #800000; text-decoration-color: #800000\">│</span>  <span style=\"color: #800000; text-decoration-color: #800000; font-weight: bold\">Initializing EEGEpochBuilder Class</span> <span style=\"color: #800000; text-decoration-color: #800000\">│</span>\n",
       "<span style=\"color: #800000; text-decoration-color: #800000\">╰─────────────────────────────────────╯</span>\n",
       "</pre>\n"
      ],
      "text/plain": [
       "\u001b[31m╭─────────────────────────────────────╮\u001b[0m\n",
       "\u001b[31m│\u001b[0m  \u001b[1;31mInitializing EEGEpochBuilder Class\u001b[0m \u001b[31m│\u001b[0m\n",
       "\u001b[31m╰─────────────────────────────────────╯\u001b[0m\n"
      ]
     },
     "metadata": {},
     "output_type": "display_data"
    },
    {
     "data": {
      "text/html": [
       "<pre style=\"white-space:pre;overflow-x:auto;line-height:normal;font-family:Menlo,'DejaVu Sans Mono',consolas,'Courier New',monospace\"> <span style=\"color: #008000; text-decoration-color: #008000; font-weight: bold\">Creating EPOCHS</span>\n",
       "</pre>\n"
      ],
      "text/plain": [
       " \u001b[1;32mCreating EPOCHS\u001b[0m\n"
      ]
     },
     "metadata": {},
     "output_type": "display_data"
    },
    {
     "data": {
      "text/html": [
       "<pre style=\"white-space:pre;overflow-x:auto;line-height:normal;font-family:Menlo,'DejaVu Sans Mono',consolas,'Courier New',monospace\"><span style=\"font-style: italic\">        Extraction Criteria        </span>\n",
       "┏━━━━━━━━━━━━━━━━━━━━┳━━━━━━━━━━━━┓\n",
       "┃<span style=\"font-weight: bold\"> Parameter          </span>┃<span style=\"font-weight: bold\"> Value      </span>┃\n",
       "┣━━━━━━━━━━━━━━━━━━━━╋━━━━━━━━━━━━┫\n",
       "┃<span style=\"color: #008080; text-decoration-color: #008080; font-weight: bold\"> 🧪 Trial Mode      </span>┃<span style=\"color: #808000; text-decoration-color: #808000; font-weight: bold\"> Silent     </span>┃\n",
       "┃<span style=\"color: #008080; text-decoration-color: #008080; font-weight: bold\"> 📏 Trial Unit      </span>┃<span style=\"color: #808000; text-decoration-color: #808000; font-weight: bold\"> Words      </span>┃\n",
       "┃<span style=\"color: #008080; text-decoration-color: #008080; font-weight: bold\"> 🔗 Experiment Mode </span>┃<span style=\"color: #808000; text-decoration-color: #808000; font-weight: bold\"> Experiment </span>┃\n",
       "┃<span style=\"color: #008080; text-decoration-color: #008080; font-weight: bold\"> 🎭 Trial Boundary  </span>┃<span style=\"color: #808000; text-decoration-color: #808000; font-weight: bold\"> Start      </span>┃\n",
       "┃<span style=\"color: #008080; text-decoration-color: #008080; font-weight: bold\"> 🔬 Trial Type      </span>┃<span style=\"color: #808000; text-decoration-color: #808000; font-weight: bold\"> Speech     </span>┃\n",
       "┃<span style=\"color: #008080; text-decoration-color: #008080; font-weight: bold\"> 📊 Modality        </span>┃<span style=\"color: #808000; text-decoration-color: #808000; font-weight: bold\"> Audio      </span>┃\n",
       "┃<span style=\"color: #008080; text-decoration-color: #008080; font-weight: bold\"> ⏱ Tmin             </span>┃<span style=\"color: #808000; text-decoration-color: #808000; font-weight: bold\"> </span><span style=\"color: #008080; text-decoration-color: #008080; font-weight: bold\">-0.2</span><span style=\"color: #808000; text-decoration-color: #808000; font-weight: bold\">       </span>┃\n",
       "┃<span style=\"color: #008080; text-decoration-color: #008080; font-weight: bold\"> ⏳ Tmax            </span>┃<span style=\"color: #808000; text-decoration-color: #808000; font-weight: bold\"> </span><span style=\"color: #008080; text-decoration-color: #008080; font-weight: bold\">0.5</span><span style=\"color: #808000; text-decoration-color: #808000; font-weight: bold\">        </span>┃\n",
       "┗━━━━━━━━━━━━━━━━━━━━┻━━━━━━━━━━━━┛\n",
       "</pre>\n"
      ],
      "text/plain": [
       "\u001b[3m        Extraction Criteria        \u001b[0m\n",
       "┏━━━━━━━━━━━━━━━━━━━━┳━━━━━━━━━━━━┓\n",
       "┃\u001b[1m \u001b[0m\u001b[1mParameter         \u001b[0m\u001b[1m \u001b[0m┃\u001b[1m \u001b[0m\u001b[1mValue     \u001b[0m\u001b[1m \u001b[0m┃\n",
       "┣━━━━━━━━━━━━━━━━━━━━╋━━━━━━━━━━━━┫\n",
       "┃\u001b[1;36m \u001b[0m\u001b[1;36m🧪 Trial Mode     \u001b[0m\u001b[1;36m \u001b[0m┃\u001b[1;33m \u001b[0m\u001b[1;33mSilent    \u001b[0m\u001b[1;33m \u001b[0m┃\n",
       "┃\u001b[1;36m \u001b[0m\u001b[1;36m📏 Trial Unit     \u001b[0m\u001b[1;36m \u001b[0m┃\u001b[1;33m \u001b[0m\u001b[1;33mWords     \u001b[0m\u001b[1;33m \u001b[0m┃\n",
       "┃\u001b[1;36m \u001b[0m\u001b[1;36m🔗 Experiment Mode\u001b[0m\u001b[1;36m \u001b[0m┃\u001b[1;33m \u001b[0m\u001b[1;33mExperiment\u001b[0m\u001b[1;33m \u001b[0m┃\n",
       "┃\u001b[1;36m \u001b[0m\u001b[1;36m🎭 Trial Boundary \u001b[0m\u001b[1;36m \u001b[0m┃\u001b[1;33m \u001b[0m\u001b[1;33mStart     \u001b[0m\u001b[1;33m \u001b[0m┃\n",
       "┃\u001b[1;36m \u001b[0m\u001b[1;36m🔬 Trial Type     \u001b[0m\u001b[1;36m \u001b[0m┃\u001b[1;33m \u001b[0m\u001b[1;33mSpeech    \u001b[0m\u001b[1;33m \u001b[0m┃\n",
       "┃\u001b[1;36m \u001b[0m\u001b[1;36m📊 Modality       \u001b[0m\u001b[1;36m \u001b[0m┃\u001b[1;33m \u001b[0m\u001b[1;33mAudio     \u001b[0m\u001b[1;33m \u001b[0m┃\n",
       "┃\u001b[1;36m \u001b[0m\u001b[1;36m⏱ Tmin            \u001b[0m\u001b[1;36m \u001b[0m┃\u001b[1;33m \u001b[0m\u001b[1;36m-0.2\u001b[0m\u001b[1;33m      \u001b[0m\u001b[1;33m \u001b[0m┃\n",
       "┃\u001b[1;36m \u001b[0m\u001b[1;36m⏳ Tmax           \u001b[0m\u001b[1;36m \u001b[0m┃\u001b[1;33m \u001b[0m\u001b[1;36m0.5\u001b[0m\u001b[1;33m       \u001b[0m\u001b[1;33m \u001b[0m┃\n",
       "┗━━━━━━━━━━━━━━━━━━━━┻━━━━━━━━━━━━┛\n"
      ]
     },
     "metadata": {},
     "output_type": "display_data"
    },
    {
     "name": "stdout",
     "output_type": "stream",
     "text": [
      "Not setting metadata\n",
      "95 matching events found\n",
      "Applying baseline correction (mode: mean)\n",
      "0 projection items activated\n",
      "Using data from preloaded Raw for 95 events and 701 original time points ...\n",
      "0 bad epochs dropped\n",
      "NOTE: pick_channels() is a legacy function. New code should use inst.pick(...).\n",
      "NOTE: pick_channels() is a legacy function. New code should use inst.pick(...).\n",
      "Overt P100: latency=0.120s, peak=1.19µV, mean=-0.20µV\n",
      "Covert P100: latency=0.320s, peak=2.76µV, mean=1.70µV\n",
      "Initializing Plotter\n",
      "Results saved to p100_results/sub-02_ses-01_p100_Overt_Covert.csv\n"
     ]
    },
    {
     "data": {
      "text/html": [
       "<pre style=\"white-space:pre;overflow-x:auto;line-height:normal;font-family:Menlo,'DejaVu Sans Mono',consolas,'Courier New',monospace\"><span style=\"color: #808000; text-decoration-color: #808000\">╭─────────────────────────────────────────╮</span>\n",
       "<span style=\"color: #808000; text-decoration-color: #808000\">│</span> 🚀 <span style=\"color: #808000; text-decoration-color: #808000; font-weight: bold\">Initializing BIDSDatasetReader Class</span> <span style=\"color: #808000; text-decoration-color: #808000\">│</span>\n",
       "<span style=\"color: #808000; text-decoration-color: #808000\">╰─────────────────────────────────────────╯</span>\n",
       "</pre>\n"
      ],
      "text/plain": [
       "\u001b[33m╭─────────────────────────────────────────╮\u001b[0m\n",
       "\u001b[33m│\u001b[0m 🚀 \u001b[1;33mInitializing BIDSDatasetReader Class\u001b[0m \u001b[33m│\u001b[0m\n",
       "\u001b[33m╰─────────────────────────────────────────╯\u001b[0m\n"
      ]
     },
     "metadata": {},
     "output_type": "display_data"
    },
    {
     "data": {
      "text/html": [
       "<pre style=\"white-space:pre;overflow-x:auto;line-height:normal;font-family:Menlo,'DejaVu Sans Mono',consolas,'Courier New',monospace\"> <span style=\"color: #008000; text-decoration-color: #008000; font-weight: bold\">Loading Processed EEG Data: sub-</span><span style=\"color: #008000; text-decoration-color: #008000; font-weight: bold\">03</span><span style=\"color: #008000; text-decoration-color: #008000; font-weight: bold\"> ses-</span><span style=\"color: #008000; text-decoration-color: #008000; font-weight: bold\">01</span>\n",
       "</pre>\n"
      ],
      "text/plain": [
       " \u001b[1;32mLoading Processed EEG Data: sub-\u001b[0m\u001b[1;32m03\u001b[0m\u001b[1;32m ses-\u001b[0m\u001b[1;32m01\u001b[0m\n"
      ]
     },
     "metadata": {},
     "output_type": "display_data"
    },
    {
     "data": {
      "text/html": [
       "<pre style=\"white-space:pre;overflow-x:auto;line-height:normal;font-family:Menlo,'DejaVu Sans Mono',consolas,'Courier New',monospace\"><span style=\"color: #800000; text-decoration-color: #800000\">╭─────────────────────────────────────╮</span>\n",
       "<span style=\"color: #800000; text-decoration-color: #800000\">│</span>  <span style=\"color: #800000; text-decoration-color: #800000; font-weight: bold\">Initializing EEGEpochBuilder Class</span> <span style=\"color: #800000; text-decoration-color: #800000\">│</span>\n",
       "<span style=\"color: #800000; text-decoration-color: #800000\">╰─────────────────────────────────────╯</span>\n",
       "</pre>\n"
      ],
      "text/plain": [
       "\u001b[31m╭─────────────────────────────────────╮\u001b[0m\n",
       "\u001b[31m│\u001b[0m  \u001b[1;31mInitializing EEGEpochBuilder Class\u001b[0m \u001b[31m│\u001b[0m\n",
       "\u001b[31m╰─────────────────────────────────────╯\u001b[0m\n"
      ]
     },
     "metadata": {},
     "output_type": "display_data"
    },
    {
     "data": {
      "text/html": [
       "<pre style=\"white-space:pre;overflow-x:auto;line-height:normal;font-family:Menlo,'DejaVu Sans Mono',consolas,'Courier New',monospace\"> <span style=\"color: #008000; text-decoration-color: #008000; font-weight: bold\">Creating EPOCHS</span>\n",
       "</pre>\n"
      ],
      "text/plain": [
       " \u001b[1;32mCreating EPOCHS\u001b[0m\n"
      ]
     },
     "metadata": {},
     "output_type": "display_data"
    },
    {
     "data": {
      "text/html": [
       "<pre style=\"white-space:pre;overflow-x:auto;line-height:normal;font-family:Menlo,'DejaVu Sans Mono',consolas,'Courier New',monospace\"><span style=\"font-style: italic\">        Extraction Criteria        </span>\n",
       "┏━━━━━━━━━━━━━━━━━━━━┳━━━━━━━━━━━━┓\n",
       "┃<span style=\"font-weight: bold\"> Parameter          </span>┃<span style=\"font-weight: bold\"> Value      </span>┃\n",
       "┣━━━━━━━━━━━━━━━━━━━━╋━━━━━━━━━━━━┫\n",
       "┃<span style=\"color: #008080; text-decoration-color: #008080; font-weight: bold\"> 🧪 Trial Mode      </span>┃<span style=\"color: #808000; text-decoration-color: #808000; font-weight: bold\"> Real       </span>┃\n",
       "┃<span style=\"color: #008080; text-decoration-color: #008080; font-weight: bold\"> 📏 Trial Unit      </span>┃<span style=\"color: #808000; text-decoration-color: #808000; font-weight: bold\"> Words      </span>┃\n",
       "┃<span style=\"color: #008080; text-decoration-color: #008080; font-weight: bold\"> 🔗 Experiment Mode </span>┃<span style=\"color: #808000; text-decoration-color: #808000; font-weight: bold\"> Experiment </span>┃\n",
       "┃<span style=\"color: #008080; text-decoration-color: #008080; font-weight: bold\"> 🎭 Trial Boundary  </span>┃<span style=\"color: #808000; text-decoration-color: #808000; font-weight: bold\"> Start      </span>┃\n",
       "┃<span style=\"color: #008080; text-decoration-color: #008080; font-weight: bold\"> 🔬 Trial Type      </span>┃<span style=\"color: #808000; text-decoration-color: #808000; font-weight: bold\"> Speech     </span>┃\n",
       "┃<span style=\"color: #008080; text-decoration-color: #008080; font-weight: bold\"> 📊 Modality        </span>┃<span style=\"color: #808000; text-decoration-color: #808000; font-weight: bold\"> Audio      </span>┃\n",
       "┃<span style=\"color: #008080; text-decoration-color: #008080; font-weight: bold\"> ⏱ Tmin             </span>┃<span style=\"color: #808000; text-decoration-color: #808000; font-weight: bold\"> </span><span style=\"color: #008080; text-decoration-color: #008080; font-weight: bold\">-0.2</span><span style=\"color: #808000; text-decoration-color: #808000; font-weight: bold\">       </span>┃\n",
       "┃<span style=\"color: #008080; text-decoration-color: #008080; font-weight: bold\"> ⏳ Tmax            </span>┃<span style=\"color: #808000; text-decoration-color: #808000; font-weight: bold\"> </span><span style=\"color: #008080; text-decoration-color: #008080; font-weight: bold\">0.5</span><span style=\"color: #808000; text-decoration-color: #808000; font-weight: bold\">        </span>┃\n",
       "┗━━━━━━━━━━━━━━━━━━━━┻━━━━━━━━━━━━┛\n",
       "</pre>\n"
      ],
      "text/plain": [
       "\u001b[3m        Extraction Criteria        \u001b[0m\n",
       "┏━━━━━━━━━━━━━━━━━━━━┳━━━━━━━━━━━━┓\n",
       "┃\u001b[1m \u001b[0m\u001b[1mParameter         \u001b[0m\u001b[1m \u001b[0m┃\u001b[1m \u001b[0m\u001b[1mValue     \u001b[0m\u001b[1m \u001b[0m┃\n",
       "┣━━━━━━━━━━━━━━━━━━━━╋━━━━━━━━━━━━┫\n",
       "┃\u001b[1;36m \u001b[0m\u001b[1;36m🧪 Trial Mode     \u001b[0m\u001b[1;36m \u001b[0m┃\u001b[1;33m \u001b[0m\u001b[1;33mReal      \u001b[0m\u001b[1;33m \u001b[0m┃\n",
       "┃\u001b[1;36m \u001b[0m\u001b[1;36m📏 Trial Unit     \u001b[0m\u001b[1;36m \u001b[0m┃\u001b[1;33m \u001b[0m\u001b[1;33mWords     \u001b[0m\u001b[1;33m \u001b[0m┃\n",
       "┃\u001b[1;36m \u001b[0m\u001b[1;36m🔗 Experiment Mode\u001b[0m\u001b[1;36m \u001b[0m┃\u001b[1;33m \u001b[0m\u001b[1;33mExperiment\u001b[0m\u001b[1;33m \u001b[0m┃\n",
       "┃\u001b[1;36m \u001b[0m\u001b[1;36m🎭 Trial Boundary \u001b[0m\u001b[1;36m \u001b[0m┃\u001b[1;33m \u001b[0m\u001b[1;33mStart     \u001b[0m\u001b[1;33m \u001b[0m┃\n",
       "┃\u001b[1;36m \u001b[0m\u001b[1;36m🔬 Trial Type     \u001b[0m\u001b[1;36m \u001b[0m┃\u001b[1;33m \u001b[0m\u001b[1;33mSpeech    \u001b[0m\u001b[1;33m \u001b[0m┃\n",
       "┃\u001b[1;36m \u001b[0m\u001b[1;36m📊 Modality       \u001b[0m\u001b[1;36m \u001b[0m┃\u001b[1;33m \u001b[0m\u001b[1;33mAudio     \u001b[0m\u001b[1;33m \u001b[0m┃\n",
       "┃\u001b[1;36m \u001b[0m\u001b[1;36m⏱ Tmin            \u001b[0m\u001b[1;36m \u001b[0m┃\u001b[1;33m \u001b[0m\u001b[1;36m-0.2\u001b[0m\u001b[1;33m      \u001b[0m\u001b[1;33m \u001b[0m┃\n",
       "┃\u001b[1;36m \u001b[0m\u001b[1;36m⏳ Tmax           \u001b[0m\u001b[1;36m \u001b[0m┃\u001b[1;33m \u001b[0m\u001b[1;36m0.5\u001b[0m\u001b[1;33m       \u001b[0m\u001b[1;33m \u001b[0m┃\n",
       "┗━━━━━━━━━━━━━━━━━━━━┻━━━━━━━━━━━━┛\n"
      ]
     },
     "metadata": {},
     "output_type": "display_data"
    },
    {
     "name": "stdout",
     "output_type": "stream",
     "text": [
      "Not setting metadata\n",
      "95 matching events found\n",
      "Applying baseline correction (mode: mean)\n",
      "0 projection items activated\n",
      "Using data from preloaded Raw for 95 events and 701 original time points ...\n",
      "0 bad epochs dropped\n"
     ]
    },
    {
     "data": {
      "text/html": [
       "<pre style=\"white-space:pre;overflow-x:auto;line-height:normal;font-family:Menlo,'DejaVu Sans Mono',consolas,'Courier New',monospace\"><span style=\"color: #800000; text-decoration-color: #800000\">╭─────────────────────────────────────╮</span>\n",
       "<span style=\"color: #800000; text-decoration-color: #800000\">│</span>  <span style=\"color: #800000; text-decoration-color: #800000; font-weight: bold\">Initializing EEGEpochBuilder Class</span> <span style=\"color: #800000; text-decoration-color: #800000\">│</span>\n",
       "<span style=\"color: #800000; text-decoration-color: #800000\">╰─────────────────────────────────────╯</span>\n",
       "</pre>\n"
      ],
      "text/plain": [
       "\u001b[31m╭─────────────────────────────────────╮\u001b[0m\n",
       "\u001b[31m│\u001b[0m  \u001b[1;31mInitializing EEGEpochBuilder Class\u001b[0m \u001b[31m│\u001b[0m\n",
       "\u001b[31m╰─────────────────────────────────────╯\u001b[0m\n"
      ]
     },
     "metadata": {},
     "output_type": "display_data"
    },
    {
     "data": {
      "text/html": [
       "<pre style=\"white-space:pre;overflow-x:auto;line-height:normal;font-family:Menlo,'DejaVu Sans Mono',consolas,'Courier New',monospace\"> <span style=\"color: #008000; text-decoration-color: #008000; font-weight: bold\">Creating EPOCHS</span>\n",
       "</pre>\n"
      ],
      "text/plain": [
       " \u001b[1;32mCreating EPOCHS\u001b[0m\n"
      ]
     },
     "metadata": {},
     "output_type": "display_data"
    },
    {
     "data": {
      "text/html": [
       "<pre style=\"white-space:pre;overflow-x:auto;line-height:normal;font-family:Menlo,'DejaVu Sans Mono',consolas,'Courier New',monospace\"><span style=\"font-style: italic\">        Extraction Criteria        </span>\n",
       "┏━━━━━━━━━━━━━━━━━━━━┳━━━━━━━━━━━━┓\n",
       "┃<span style=\"font-weight: bold\"> Parameter          </span>┃<span style=\"font-weight: bold\"> Value      </span>┃\n",
       "┣━━━━━━━━━━━━━━━━━━━━╋━━━━━━━━━━━━┫\n",
       "┃<span style=\"color: #008080; text-decoration-color: #008080; font-weight: bold\"> 🧪 Trial Mode      </span>┃<span style=\"color: #808000; text-decoration-color: #808000; font-weight: bold\"> Silent     </span>┃\n",
       "┃<span style=\"color: #008080; text-decoration-color: #008080; font-weight: bold\"> 📏 Trial Unit      </span>┃<span style=\"color: #808000; text-decoration-color: #808000; font-weight: bold\"> Words      </span>┃\n",
       "┃<span style=\"color: #008080; text-decoration-color: #008080; font-weight: bold\"> 🔗 Experiment Mode </span>┃<span style=\"color: #808000; text-decoration-color: #808000; font-weight: bold\"> Experiment </span>┃\n",
       "┃<span style=\"color: #008080; text-decoration-color: #008080; font-weight: bold\"> 🎭 Trial Boundary  </span>┃<span style=\"color: #808000; text-decoration-color: #808000; font-weight: bold\"> Start      </span>┃\n",
       "┃<span style=\"color: #008080; text-decoration-color: #008080; font-weight: bold\"> 🔬 Trial Type      </span>┃<span style=\"color: #808000; text-decoration-color: #808000; font-weight: bold\"> Speech     </span>┃\n",
       "┃<span style=\"color: #008080; text-decoration-color: #008080; font-weight: bold\"> 📊 Modality        </span>┃<span style=\"color: #808000; text-decoration-color: #808000; font-weight: bold\"> Audio      </span>┃\n",
       "┃<span style=\"color: #008080; text-decoration-color: #008080; font-weight: bold\"> ⏱ Tmin             </span>┃<span style=\"color: #808000; text-decoration-color: #808000; font-weight: bold\"> </span><span style=\"color: #008080; text-decoration-color: #008080; font-weight: bold\">-0.2</span><span style=\"color: #808000; text-decoration-color: #808000; font-weight: bold\">       </span>┃\n",
       "┃<span style=\"color: #008080; text-decoration-color: #008080; font-weight: bold\"> ⏳ Tmax            </span>┃<span style=\"color: #808000; text-decoration-color: #808000; font-weight: bold\"> </span><span style=\"color: #008080; text-decoration-color: #008080; font-weight: bold\">0.5</span><span style=\"color: #808000; text-decoration-color: #808000; font-weight: bold\">        </span>┃\n",
       "┗━━━━━━━━━━━━━━━━━━━━┻━━━━━━━━━━━━┛\n",
       "</pre>\n"
      ],
      "text/plain": [
       "\u001b[3m        Extraction Criteria        \u001b[0m\n",
       "┏━━━━━━━━━━━━━━━━━━━━┳━━━━━━━━━━━━┓\n",
       "┃\u001b[1m \u001b[0m\u001b[1mParameter         \u001b[0m\u001b[1m \u001b[0m┃\u001b[1m \u001b[0m\u001b[1mValue     \u001b[0m\u001b[1m \u001b[0m┃\n",
       "┣━━━━━━━━━━━━━━━━━━━━╋━━━━━━━━━━━━┫\n",
       "┃\u001b[1;36m \u001b[0m\u001b[1;36m🧪 Trial Mode     \u001b[0m\u001b[1;36m \u001b[0m┃\u001b[1;33m \u001b[0m\u001b[1;33mSilent    \u001b[0m\u001b[1;33m \u001b[0m┃\n",
       "┃\u001b[1;36m \u001b[0m\u001b[1;36m📏 Trial Unit     \u001b[0m\u001b[1;36m \u001b[0m┃\u001b[1;33m \u001b[0m\u001b[1;33mWords     \u001b[0m\u001b[1;33m \u001b[0m┃\n",
       "┃\u001b[1;36m \u001b[0m\u001b[1;36m🔗 Experiment Mode\u001b[0m\u001b[1;36m \u001b[0m┃\u001b[1;33m \u001b[0m\u001b[1;33mExperiment\u001b[0m\u001b[1;33m \u001b[0m┃\n",
       "┃\u001b[1;36m \u001b[0m\u001b[1;36m🎭 Trial Boundary \u001b[0m\u001b[1;36m \u001b[0m┃\u001b[1;33m \u001b[0m\u001b[1;33mStart     \u001b[0m\u001b[1;33m \u001b[0m┃\n",
       "┃\u001b[1;36m \u001b[0m\u001b[1;36m🔬 Trial Type     \u001b[0m\u001b[1;36m \u001b[0m┃\u001b[1;33m \u001b[0m\u001b[1;33mSpeech    \u001b[0m\u001b[1;33m \u001b[0m┃\n",
       "┃\u001b[1;36m \u001b[0m\u001b[1;36m📊 Modality       \u001b[0m\u001b[1;36m \u001b[0m┃\u001b[1;33m \u001b[0m\u001b[1;33mAudio     \u001b[0m\u001b[1;33m \u001b[0m┃\n",
       "┃\u001b[1;36m \u001b[0m\u001b[1;36m⏱ Tmin            \u001b[0m\u001b[1;36m \u001b[0m┃\u001b[1;33m \u001b[0m\u001b[1;36m-0.2\u001b[0m\u001b[1;33m      \u001b[0m\u001b[1;33m \u001b[0m┃\n",
       "┃\u001b[1;36m \u001b[0m\u001b[1;36m⏳ Tmax           \u001b[0m\u001b[1;36m \u001b[0m┃\u001b[1;33m \u001b[0m\u001b[1;36m0.5\u001b[0m\u001b[1;33m       \u001b[0m\u001b[1;33m \u001b[0m┃\n",
       "┗━━━━━━━━━━━━━━━━━━━━┻━━━━━━━━━━━━┛\n"
      ]
     },
     "metadata": {},
     "output_type": "display_data"
    },
    {
     "name": "stdout",
     "output_type": "stream",
     "text": [
      "Not setting metadata\n",
      "95 matching events found\n",
      "Applying baseline correction (mode: mean)\n",
      "0 projection items activated\n",
      "Using data from preloaded Raw for 95 events and 701 original time points ...\n",
      "0 bad epochs dropped\n",
      "NOTE: pick_channels() is a legacy function. New code should use inst.pick(...).\n",
      "NOTE: pick_channels() is a legacy function. New code should use inst.pick(...).\n",
      "Overt P100: latency=0.120s, peak=1.74µV, mean=1.00µV\n",
      "Covert P100: latency=0.303s, peak=0.50µV, mean=0.07µV\n",
      "Initializing Plotter\n",
      "Results saved to p100_results/sub-03_ses-01_p100_Overt_Covert.csv\n"
     ]
    },
    {
     "data": {
      "text/html": [
       "<pre style=\"white-space:pre;overflow-x:auto;line-height:normal;font-family:Menlo,'DejaVu Sans Mono',consolas,'Courier New',monospace\"><span style=\"color: #808000; text-decoration-color: #808000\">╭─────────────────────────────────────────╮</span>\n",
       "<span style=\"color: #808000; text-decoration-color: #808000\">│</span> 🚀 <span style=\"color: #808000; text-decoration-color: #808000; font-weight: bold\">Initializing BIDSDatasetReader Class</span> <span style=\"color: #808000; text-decoration-color: #808000\">│</span>\n",
       "<span style=\"color: #808000; text-decoration-color: #808000\">╰─────────────────────────────────────────╯</span>\n",
       "</pre>\n"
      ],
      "text/plain": [
       "\u001b[33m╭─────────────────────────────────────────╮\u001b[0m\n",
       "\u001b[33m│\u001b[0m 🚀 \u001b[1;33mInitializing BIDSDatasetReader Class\u001b[0m \u001b[33m│\u001b[0m\n",
       "\u001b[33m╰─────────────────────────────────────────╯\u001b[0m\n"
      ]
     },
     "metadata": {},
     "output_type": "display_data"
    },
    {
     "data": {
      "text/html": [
       "<pre style=\"white-space:pre;overflow-x:auto;line-height:normal;font-family:Menlo,'DejaVu Sans Mono',consolas,'Courier New',monospace\"> <span style=\"color: #008000; text-decoration-color: #008000; font-weight: bold\">Loading Processed EEG Data: sub-</span><span style=\"color: #008000; text-decoration-color: #008000; font-weight: bold\">04</span><span style=\"color: #008000; text-decoration-color: #008000; font-weight: bold\"> ses-</span><span style=\"color: #008000; text-decoration-color: #008000; font-weight: bold\">01</span>\n",
       "</pre>\n"
      ],
      "text/plain": [
       " \u001b[1;32mLoading Processed EEG Data: sub-\u001b[0m\u001b[1;32m04\u001b[0m\u001b[1;32m ses-\u001b[0m\u001b[1;32m01\u001b[0m\n"
      ]
     },
     "metadata": {},
     "output_type": "display_data"
    },
    {
     "data": {
      "text/html": [
       "<pre style=\"white-space:pre;overflow-x:auto;line-height:normal;font-family:Menlo,'DejaVu Sans Mono',consolas,'Courier New',monospace\"><span style=\"color: #800000; text-decoration-color: #800000\">╭─────────────────────────────────────╮</span>\n",
       "<span style=\"color: #800000; text-decoration-color: #800000\">│</span>  <span style=\"color: #800000; text-decoration-color: #800000; font-weight: bold\">Initializing EEGEpochBuilder Class</span> <span style=\"color: #800000; text-decoration-color: #800000\">│</span>\n",
       "<span style=\"color: #800000; text-decoration-color: #800000\">╰─────────────────────────────────────╯</span>\n",
       "</pre>\n"
      ],
      "text/plain": [
       "\u001b[31m╭─────────────────────────────────────╮\u001b[0m\n",
       "\u001b[31m│\u001b[0m  \u001b[1;31mInitializing EEGEpochBuilder Class\u001b[0m \u001b[31m│\u001b[0m\n",
       "\u001b[31m╰─────────────────────────────────────╯\u001b[0m\n"
      ]
     },
     "metadata": {},
     "output_type": "display_data"
    },
    {
     "data": {
      "text/html": [
       "<pre style=\"white-space:pre;overflow-x:auto;line-height:normal;font-family:Menlo,'DejaVu Sans Mono',consolas,'Courier New',monospace\"> <span style=\"color: #008000; text-decoration-color: #008000; font-weight: bold\">Creating EPOCHS</span>\n",
       "</pre>\n"
      ],
      "text/plain": [
       " \u001b[1;32mCreating EPOCHS\u001b[0m\n"
      ]
     },
     "metadata": {},
     "output_type": "display_data"
    },
    {
     "data": {
      "text/html": [
       "<pre style=\"white-space:pre;overflow-x:auto;line-height:normal;font-family:Menlo,'DejaVu Sans Mono',consolas,'Courier New',monospace\"><span style=\"font-style: italic\">        Extraction Criteria        </span>\n",
       "┏━━━━━━━━━━━━━━━━━━━━┳━━━━━━━━━━━━┓\n",
       "┃<span style=\"font-weight: bold\"> Parameter          </span>┃<span style=\"font-weight: bold\"> Value      </span>┃\n",
       "┣━━━━━━━━━━━━━━━━━━━━╋━━━━━━━━━━━━┫\n",
       "┃<span style=\"color: #008080; text-decoration-color: #008080; font-weight: bold\"> 🧪 Trial Mode      </span>┃<span style=\"color: #808000; text-decoration-color: #808000; font-weight: bold\"> Real       </span>┃\n",
       "┃<span style=\"color: #008080; text-decoration-color: #008080; font-weight: bold\"> 📏 Trial Unit      </span>┃<span style=\"color: #808000; text-decoration-color: #808000; font-weight: bold\"> Words      </span>┃\n",
       "┃<span style=\"color: #008080; text-decoration-color: #008080; font-weight: bold\"> 🔗 Experiment Mode </span>┃<span style=\"color: #808000; text-decoration-color: #808000; font-weight: bold\"> Experiment </span>┃\n",
       "┃<span style=\"color: #008080; text-decoration-color: #008080; font-weight: bold\"> 🎭 Trial Boundary  </span>┃<span style=\"color: #808000; text-decoration-color: #808000; font-weight: bold\"> Start      </span>┃\n",
       "┃<span style=\"color: #008080; text-decoration-color: #008080; font-weight: bold\"> 🔬 Trial Type      </span>┃<span style=\"color: #808000; text-decoration-color: #808000; font-weight: bold\"> Speech     </span>┃\n",
       "┃<span style=\"color: #008080; text-decoration-color: #008080; font-weight: bold\"> 📊 Modality        </span>┃<span style=\"color: #808000; text-decoration-color: #808000; font-weight: bold\"> Audio      </span>┃\n",
       "┃<span style=\"color: #008080; text-decoration-color: #008080; font-weight: bold\"> ⏱ Tmin             </span>┃<span style=\"color: #808000; text-decoration-color: #808000; font-weight: bold\"> </span><span style=\"color: #008080; text-decoration-color: #008080; font-weight: bold\">-0.2</span><span style=\"color: #808000; text-decoration-color: #808000; font-weight: bold\">       </span>┃\n",
       "┃<span style=\"color: #008080; text-decoration-color: #008080; font-weight: bold\"> ⏳ Tmax            </span>┃<span style=\"color: #808000; text-decoration-color: #808000; font-weight: bold\"> </span><span style=\"color: #008080; text-decoration-color: #008080; font-weight: bold\">0.5</span><span style=\"color: #808000; text-decoration-color: #808000; font-weight: bold\">        </span>┃\n",
       "┗━━━━━━━━━━━━━━━━━━━━┻━━━━━━━━━━━━┛\n",
       "</pre>\n"
      ],
      "text/plain": [
       "\u001b[3m        Extraction Criteria        \u001b[0m\n",
       "┏━━━━━━━━━━━━━━━━━━━━┳━━━━━━━━━━━━┓\n",
       "┃\u001b[1m \u001b[0m\u001b[1mParameter         \u001b[0m\u001b[1m \u001b[0m┃\u001b[1m \u001b[0m\u001b[1mValue     \u001b[0m\u001b[1m \u001b[0m┃\n",
       "┣━━━━━━━━━━━━━━━━━━━━╋━━━━━━━━━━━━┫\n",
       "┃\u001b[1;36m \u001b[0m\u001b[1;36m🧪 Trial Mode     \u001b[0m\u001b[1;36m \u001b[0m┃\u001b[1;33m \u001b[0m\u001b[1;33mReal      \u001b[0m\u001b[1;33m \u001b[0m┃\n",
       "┃\u001b[1;36m \u001b[0m\u001b[1;36m📏 Trial Unit     \u001b[0m\u001b[1;36m \u001b[0m┃\u001b[1;33m \u001b[0m\u001b[1;33mWords     \u001b[0m\u001b[1;33m \u001b[0m┃\n",
       "┃\u001b[1;36m \u001b[0m\u001b[1;36m🔗 Experiment Mode\u001b[0m\u001b[1;36m \u001b[0m┃\u001b[1;33m \u001b[0m\u001b[1;33mExperiment\u001b[0m\u001b[1;33m \u001b[0m┃\n",
       "┃\u001b[1;36m \u001b[0m\u001b[1;36m🎭 Trial Boundary \u001b[0m\u001b[1;36m \u001b[0m┃\u001b[1;33m \u001b[0m\u001b[1;33mStart     \u001b[0m\u001b[1;33m \u001b[0m┃\n",
       "┃\u001b[1;36m \u001b[0m\u001b[1;36m🔬 Trial Type     \u001b[0m\u001b[1;36m \u001b[0m┃\u001b[1;33m \u001b[0m\u001b[1;33mSpeech    \u001b[0m\u001b[1;33m \u001b[0m┃\n",
       "┃\u001b[1;36m \u001b[0m\u001b[1;36m📊 Modality       \u001b[0m\u001b[1;36m \u001b[0m┃\u001b[1;33m \u001b[0m\u001b[1;33mAudio     \u001b[0m\u001b[1;33m \u001b[0m┃\n",
       "┃\u001b[1;36m \u001b[0m\u001b[1;36m⏱ Tmin            \u001b[0m\u001b[1;36m \u001b[0m┃\u001b[1;33m \u001b[0m\u001b[1;36m-0.2\u001b[0m\u001b[1;33m      \u001b[0m\u001b[1;33m \u001b[0m┃\n",
       "┃\u001b[1;36m \u001b[0m\u001b[1;36m⏳ Tmax           \u001b[0m\u001b[1;36m \u001b[0m┃\u001b[1;33m \u001b[0m\u001b[1;36m0.5\u001b[0m\u001b[1;33m       \u001b[0m\u001b[1;33m \u001b[0m┃\n",
       "┗━━━━━━━━━━━━━━━━━━━━┻━━━━━━━━━━━━┛\n"
      ]
     },
     "metadata": {},
     "output_type": "display_data"
    },
    {
     "name": "stdout",
     "output_type": "stream",
     "text": [
      "Not setting metadata\n",
      "95 matching events found\n",
      "Applying baseline correction (mode: mean)\n",
      "0 projection items activated\n",
      "Using data from preloaded Raw for 95 events and 701 original time points ...\n",
      "0 bad epochs dropped\n"
     ]
    },
    {
     "data": {
      "text/html": [
       "<pre style=\"white-space:pre;overflow-x:auto;line-height:normal;font-family:Menlo,'DejaVu Sans Mono',consolas,'Courier New',monospace\"><span style=\"color: #800000; text-decoration-color: #800000\">╭─────────────────────────────────────╮</span>\n",
       "<span style=\"color: #800000; text-decoration-color: #800000\">│</span>  <span style=\"color: #800000; text-decoration-color: #800000; font-weight: bold\">Initializing EEGEpochBuilder Class</span> <span style=\"color: #800000; text-decoration-color: #800000\">│</span>\n",
       "<span style=\"color: #800000; text-decoration-color: #800000\">╰─────────────────────────────────────╯</span>\n",
       "</pre>\n"
      ],
      "text/plain": [
       "\u001b[31m╭─────────────────────────────────────╮\u001b[0m\n",
       "\u001b[31m│\u001b[0m  \u001b[1;31mInitializing EEGEpochBuilder Class\u001b[0m \u001b[31m│\u001b[0m\n",
       "\u001b[31m╰─────────────────────────────────────╯\u001b[0m\n"
      ]
     },
     "metadata": {},
     "output_type": "display_data"
    },
    {
     "data": {
      "text/html": [
       "<pre style=\"white-space:pre;overflow-x:auto;line-height:normal;font-family:Menlo,'DejaVu Sans Mono',consolas,'Courier New',monospace\"> <span style=\"color: #008000; text-decoration-color: #008000; font-weight: bold\">Creating EPOCHS</span>\n",
       "</pre>\n"
      ],
      "text/plain": [
       " \u001b[1;32mCreating EPOCHS\u001b[0m\n"
      ]
     },
     "metadata": {},
     "output_type": "display_data"
    },
    {
     "data": {
      "text/html": [
       "<pre style=\"white-space:pre;overflow-x:auto;line-height:normal;font-family:Menlo,'DejaVu Sans Mono',consolas,'Courier New',monospace\"><span style=\"font-style: italic\">        Extraction Criteria        </span>\n",
       "┏━━━━━━━━━━━━━━━━━━━━┳━━━━━━━━━━━━┓\n",
       "┃<span style=\"font-weight: bold\"> Parameter          </span>┃<span style=\"font-weight: bold\"> Value      </span>┃\n",
       "┣━━━━━━━━━━━━━━━━━━━━╋━━━━━━━━━━━━┫\n",
       "┃<span style=\"color: #008080; text-decoration-color: #008080; font-weight: bold\"> 🧪 Trial Mode      </span>┃<span style=\"color: #808000; text-decoration-color: #808000; font-weight: bold\"> Silent     </span>┃\n",
       "┃<span style=\"color: #008080; text-decoration-color: #008080; font-weight: bold\"> 📏 Trial Unit      </span>┃<span style=\"color: #808000; text-decoration-color: #808000; font-weight: bold\"> Words      </span>┃\n",
       "┃<span style=\"color: #008080; text-decoration-color: #008080; font-weight: bold\"> 🔗 Experiment Mode </span>┃<span style=\"color: #808000; text-decoration-color: #808000; font-weight: bold\"> Experiment </span>┃\n",
       "┃<span style=\"color: #008080; text-decoration-color: #008080; font-weight: bold\"> 🎭 Trial Boundary  </span>┃<span style=\"color: #808000; text-decoration-color: #808000; font-weight: bold\"> Start      </span>┃\n",
       "┃<span style=\"color: #008080; text-decoration-color: #008080; font-weight: bold\"> 🔬 Trial Type      </span>┃<span style=\"color: #808000; text-decoration-color: #808000; font-weight: bold\"> Speech     </span>┃\n",
       "┃<span style=\"color: #008080; text-decoration-color: #008080; font-weight: bold\"> 📊 Modality        </span>┃<span style=\"color: #808000; text-decoration-color: #808000; font-weight: bold\"> Audio      </span>┃\n",
       "┃<span style=\"color: #008080; text-decoration-color: #008080; font-weight: bold\"> ⏱ Tmin             </span>┃<span style=\"color: #808000; text-decoration-color: #808000; font-weight: bold\"> </span><span style=\"color: #008080; text-decoration-color: #008080; font-weight: bold\">-0.2</span><span style=\"color: #808000; text-decoration-color: #808000; font-weight: bold\">       </span>┃\n",
       "┃<span style=\"color: #008080; text-decoration-color: #008080; font-weight: bold\"> ⏳ Tmax            </span>┃<span style=\"color: #808000; text-decoration-color: #808000; font-weight: bold\"> </span><span style=\"color: #008080; text-decoration-color: #008080; font-weight: bold\">0.5</span><span style=\"color: #808000; text-decoration-color: #808000; font-weight: bold\">        </span>┃\n",
       "┗━━━━━━━━━━━━━━━━━━━━┻━━━━━━━━━━━━┛\n",
       "</pre>\n"
      ],
      "text/plain": [
       "\u001b[3m        Extraction Criteria        \u001b[0m\n",
       "┏━━━━━━━━━━━━━━━━━━━━┳━━━━━━━━━━━━┓\n",
       "┃\u001b[1m \u001b[0m\u001b[1mParameter         \u001b[0m\u001b[1m \u001b[0m┃\u001b[1m \u001b[0m\u001b[1mValue     \u001b[0m\u001b[1m \u001b[0m┃\n",
       "┣━━━━━━━━━━━━━━━━━━━━╋━━━━━━━━━━━━┫\n",
       "┃\u001b[1;36m \u001b[0m\u001b[1;36m🧪 Trial Mode     \u001b[0m\u001b[1;36m \u001b[0m┃\u001b[1;33m \u001b[0m\u001b[1;33mSilent    \u001b[0m\u001b[1;33m \u001b[0m┃\n",
       "┃\u001b[1;36m \u001b[0m\u001b[1;36m📏 Trial Unit     \u001b[0m\u001b[1;36m \u001b[0m┃\u001b[1;33m \u001b[0m\u001b[1;33mWords     \u001b[0m\u001b[1;33m \u001b[0m┃\n",
       "┃\u001b[1;36m \u001b[0m\u001b[1;36m🔗 Experiment Mode\u001b[0m\u001b[1;36m \u001b[0m┃\u001b[1;33m \u001b[0m\u001b[1;33mExperiment\u001b[0m\u001b[1;33m \u001b[0m┃\n",
       "┃\u001b[1;36m \u001b[0m\u001b[1;36m🎭 Trial Boundary \u001b[0m\u001b[1;36m \u001b[0m┃\u001b[1;33m \u001b[0m\u001b[1;33mStart     \u001b[0m\u001b[1;33m \u001b[0m┃\n",
       "┃\u001b[1;36m \u001b[0m\u001b[1;36m🔬 Trial Type     \u001b[0m\u001b[1;36m \u001b[0m┃\u001b[1;33m \u001b[0m\u001b[1;33mSpeech    \u001b[0m\u001b[1;33m \u001b[0m┃\n",
       "┃\u001b[1;36m \u001b[0m\u001b[1;36m📊 Modality       \u001b[0m\u001b[1;36m \u001b[0m┃\u001b[1;33m \u001b[0m\u001b[1;33mAudio     \u001b[0m\u001b[1;33m \u001b[0m┃\n",
       "┃\u001b[1;36m \u001b[0m\u001b[1;36m⏱ Tmin            \u001b[0m\u001b[1;36m \u001b[0m┃\u001b[1;33m \u001b[0m\u001b[1;36m-0.2\u001b[0m\u001b[1;33m      \u001b[0m\u001b[1;33m \u001b[0m┃\n",
       "┃\u001b[1;36m \u001b[0m\u001b[1;36m⏳ Tmax           \u001b[0m\u001b[1;36m \u001b[0m┃\u001b[1;33m \u001b[0m\u001b[1;36m0.5\u001b[0m\u001b[1;33m       \u001b[0m\u001b[1;33m \u001b[0m┃\n",
       "┗━━━━━━━━━━━━━━━━━━━━┻━━━━━━━━━━━━┛\n"
      ]
     },
     "metadata": {},
     "output_type": "display_data"
    },
    {
     "name": "stdout",
     "output_type": "stream",
     "text": [
      "Not setting metadata\n",
      "95 matching events found\n",
      "Applying baseline correction (mode: mean)\n",
      "0 projection items activated\n",
      "Using data from preloaded Raw for 95 events and 701 original time points ...\n",
      "0 bad epochs dropped\n",
      "NOTE: pick_channels() is a legacy function. New code should use inst.pick(...).\n",
      "NOTE: pick_channels() is a legacy function. New code should use inst.pick(...).\n",
      "Overt P100: latency=0.120s, peak=-0.33µV, mean=-0.95µV\n",
      "Covert P100: latency=0.303s, peak=0.94µV, mean=0.36µV\n",
      "Initializing Plotter\n",
      "Results saved to p100_results/sub-04_ses-01_p100_Overt_Covert.csv\n"
     ]
    },
    {
     "data": {
      "text/html": [
       "<pre style=\"white-space:pre;overflow-x:auto;line-height:normal;font-family:Menlo,'DejaVu Sans Mono',consolas,'Courier New',monospace\"><span style=\"color: #808000; text-decoration-color: #808000\">╭─────────────────────────────────────────╮</span>\n",
       "<span style=\"color: #808000; text-decoration-color: #808000\">│</span> 🚀 <span style=\"color: #808000; text-decoration-color: #808000; font-weight: bold\">Initializing BIDSDatasetReader Class</span> <span style=\"color: #808000; text-decoration-color: #808000\">│</span>\n",
       "<span style=\"color: #808000; text-decoration-color: #808000\">╰─────────────────────────────────────────╯</span>\n",
       "</pre>\n"
      ],
      "text/plain": [
       "\u001b[33m╭─────────────────────────────────────────╮\u001b[0m\n",
       "\u001b[33m│\u001b[0m 🚀 \u001b[1;33mInitializing BIDSDatasetReader Class\u001b[0m \u001b[33m│\u001b[0m\n",
       "\u001b[33m╰─────────────────────────────────────────╯\u001b[0m\n"
      ]
     },
     "metadata": {},
     "output_type": "display_data"
    },
    {
     "data": {
      "text/html": [
       "<pre style=\"white-space:pre;overflow-x:auto;line-height:normal;font-family:Menlo,'DejaVu Sans Mono',consolas,'Courier New',monospace\"> <span style=\"color: #008000; text-decoration-color: #008000; font-weight: bold\">Loading Processed EEG Data: sub-</span><span style=\"color: #008000; text-decoration-color: #008000; font-weight: bold\">04</span><span style=\"color: #008000; text-decoration-color: #008000; font-weight: bold\"> ses-</span><span style=\"color: #008000; text-decoration-color: #008000; font-weight: bold\">02</span>\n",
       "</pre>\n"
      ],
      "text/plain": [
       " \u001b[1;32mLoading Processed EEG Data: sub-\u001b[0m\u001b[1;32m04\u001b[0m\u001b[1;32m ses-\u001b[0m\u001b[1;32m02\u001b[0m\n"
      ]
     },
     "metadata": {},
     "output_type": "display_data"
    },
    {
     "data": {
      "text/html": [
       "<pre style=\"white-space:pre;overflow-x:auto;line-height:normal;font-family:Menlo,'DejaVu Sans Mono',consolas,'Courier New',monospace\"><span style=\"color: #800000; text-decoration-color: #800000\">╭─────────────────────────────────────╮</span>\n",
       "<span style=\"color: #800000; text-decoration-color: #800000\">│</span>  <span style=\"color: #800000; text-decoration-color: #800000; font-weight: bold\">Initializing EEGEpochBuilder Class</span> <span style=\"color: #800000; text-decoration-color: #800000\">│</span>\n",
       "<span style=\"color: #800000; text-decoration-color: #800000\">╰─────────────────────────────────────╯</span>\n",
       "</pre>\n"
      ],
      "text/plain": [
       "\u001b[31m╭─────────────────────────────────────╮\u001b[0m\n",
       "\u001b[31m│\u001b[0m  \u001b[1;31mInitializing EEGEpochBuilder Class\u001b[0m \u001b[31m│\u001b[0m\n",
       "\u001b[31m╰─────────────────────────────────────╯\u001b[0m\n"
      ]
     },
     "metadata": {},
     "output_type": "display_data"
    },
    {
     "data": {
      "text/html": [
       "<pre style=\"white-space:pre;overflow-x:auto;line-height:normal;font-family:Menlo,'DejaVu Sans Mono',consolas,'Courier New',monospace\"> <span style=\"color: #008000; text-decoration-color: #008000; font-weight: bold\">Creating EPOCHS</span>\n",
       "</pre>\n"
      ],
      "text/plain": [
       " \u001b[1;32mCreating EPOCHS\u001b[0m\n"
      ]
     },
     "metadata": {},
     "output_type": "display_data"
    },
    {
     "data": {
      "text/html": [
       "<pre style=\"white-space:pre;overflow-x:auto;line-height:normal;font-family:Menlo,'DejaVu Sans Mono',consolas,'Courier New',monospace\"><span style=\"font-style: italic\">        Extraction Criteria        </span>\n",
       "┏━━━━━━━━━━━━━━━━━━━━┳━━━━━━━━━━━━┓\n",
       "┃<span style=\"font-weight: bold\"> Parameter          </span>┃<span style=\"font-weight: bold\"> Value      </span>┃\n",
       "┣━━━━━━━━━━━━━━━━━━━━╋━━━━━━━━━━━━┫\n",
       "┃<span style=\"color: #008080; text-decoration-color: #008080; font-weight: bold\"> 🧪 Trial Mode      </span>┃<span style=\"color: #808000; text-decoration-color: #808000; font-weight: bold\"> Real       </span>┃\n",
       "┃<span style=\"color: #008080; text-decoration-color: #008080; font-weight: bold\"> 📏 Trial Unit      </span>┃<span style=\"color: #808000; text-decoration-color: #808000; font-weight: bold\"> Words      </span>┃\n",
       "┃<span style=\"color: #008080; text-decoration-color: #008080; font-weight: bold\"> 🔗 Experiment Mode </span>┃<span style=\"color: #808000; text-decoration-color: #808000; font-weight: bold\"> Experiment </span>┃\n",
       "┃<span style=\"color: #008080; text-decoration-color: #008080; font-weight: bold\"> 🎭 Trial Boundary  </span>┃<span style=\"color: #808000; text-decoration-color: #808000; font-weight: bold\"> Start      </span>┃\n",
       "┃<span style=\"color: #008080; text-decoration-color: #008080; font-weight: bold\"> 🔬 Trial Type      </span>┃<span style=\"color: #808000; text-decoration-color: #808000; font-weight: bold\"> Speech     </span>┃\n",
       "┃<span style=\"color: #008080; text-decoration-color: #008080; font-weight: bold\"> 📊 Modality        </span>┃<span style=\"color: #808000; text-decoration-color: #808000; font-weight: bold\"> Audio      </span>┃\n",
       "┃<span style=\"color: #008080; text-decoration-color: #008080; font-weight: bold\"> ⏱ Tmin             </span>┃<span style=\"color: #808000; text-decoration-color: #808000; font-weight: bold\"> </span><span style=\"color: #008080; text-decoration-color: #008080; font-weight: bold\">-0.2</span><span style=\"color: #808000; text-decoration-color: #808000; font-weight: bold\">       </span>┃\n",
       "┃<span style=\"color: #008080; text-decoration-color: #008080; font-weight: bold\"> ⏳ Tmax            </span>┃<span style=\"color: #808000; text-decoration-color: #808000; font-weight: bold\"> </span><span style=\"color: #008080; text-decoration-color: #008080; font-weight: bold\">0.5</span><span style=\"color: #808000; text-decoration-color: #808000; font-weight: bold\">        </span>┃\n",
       "┗━━━━━━━━━━━━━━━━━━━━┻━━━━━━━━━━━━┛\n",
       "</pre>\n"
      ],
      "text/plain": [
       "\u001b[3m        Extraction Criteria        \u001b[0m\n",
       "┏━━━━━━━━━━━━━━━━━━━━┳━━━━━━━━━━━━┓\n",
       "┃\u001b[1m \u001b[0m\u001b[1mParameter         \u001b[0m\u001b[1m \u001b[0m┃\u001b[1m \u001b[0m\u001b[1mValue     \u001b[0m\u001b[1m \u001b[0m┃\n",
       "┣━━━━━━━━━━━━━━━━━━━━╋━━━━━━━━━━━━┫\n",
       "┃\u001b[1;36m \u001b[0m\u001b[1;36m🧪 Trial Mode     \u001b[0m\u001b[1;36m \u001b[0m┃\u001b[1;33m \u001b[0m\u001b[1;33mReal      \u001b[0m\u001b[1;33m \u001b[0m┃\n",
       "┃\u001b[1;36m \u001b[0m\u001b[1;36m📏 Trial Unit     \u001b[0m\u001b[1;36m \u001b[0m┃\u001b[1;33m \u001b[0m\u001b[1;33mWords     \u001b[0m\u001b[1;33m \u001b[0m┃\n",
       "┃\u001b[1;36m \u001b[0m\u001b[1;36m🔗 Experiment Mode\u001b[0m\u001b[1;36m \u001b[0m┃\u001b[1;33m \u001b[0m\u001b[1;33mExperiment\u001b[0m\u001b[1;33m \u001b[0m┃\n",
       "┃\u001b[1;36m \u001b[0m\u001b[1;36m🎭 Trial Boundary \u001b[0m\u001b[1;36m \u001b[0m┃\u001b[1;33m \u001b[0m\u001b[1;33mStart     \u001b[0m\u001b[1;33m \u001b[0m┃\n",
       "┃\u001b[1;36m \u001b[0m\u001b[1;36m🔬 Trial Type     \u001b[0m\u001b[1;36m \u001b[0m┃\u001b[1;33m \u001b[0m\u001b[1;33mSpeech    \u001b[0m\u001b[1;33m \u001b[0m┃\n",
       "┃\u001b[1;36m \u001b[0m\u001b[1;36m📊 Modality       \u001b[0m\u001b[1;36m \u001b[0m┃\u001b[1;33m \u001b[0m\u001b[1;33mAudio     \u001b[0m\u001b[1;33m \u001b[0m┃\n",
       "┃\u001b[1;36m \u001b[0m\u001b[1;36m⏱ Tmin            \u001b[0m\u001b[1;36m \u001b[0m┃\u001b[1;33m \u001b[0m\u001b[1;36m-0.2\u001b[0m\u001b[1;33m      \u001b[0m\u001b[1;33m \u001b[0m┃\n",
       "┃\u001b[1;36m \u001b[0m\u001b[1;36m⏳ Tmax           \u001b[0m\u001b[1;36m \u001b[0m┃\u001b[1;33m \u001b[0m\u001b[1;36m0.5\u001b[0m\u001b[1;33m       \u001b[0m\u001b[1;33m \u001b[0m┃\n",
       "┗━━━━━━━━━━━━━━━━━━━━┻━━━━━━━━━━━━┛\n"
      ]
     },
     "metadata": {},
     "output_type": "display_data"
    },
    {
     "name": "stdout",
     "output_type": "stream",
     "text": [
      "Not setting metadata\n",
      "95 matching events found\n",
      "Applying baseline correction (mode: mean)\n",
      "0 projection items activated\n",
      "Using data from preloaded Raw for 95 events and 701 original time points ...\n",
      "0 bad epochs dropped\n"
     ]
    },
    {
     "data": {
      "text/html": [
       "<pre style=\"white-space:pre;overflow-x:auto;line-height:normal;font-family:Menlo,'DejaVu Sans Mono',consolas,'Courier New',monospace\"><span style=\"color: #800000; text-decoration-color: #800000\">╭─────────────────────────────────────╮</span>\n",
       "<span style=\"color: #800000; text-decoration-color: #800000\">│</span>  <span style=\"color: #800000; text-decoration-color: #800000; font-weight: bold\">Initializing EEGEpochBuilder Class</span> <span style=\"color: #800000; text-decoration-color: #800000\">│</span>\n",
       "<span style=\"color: #800000; text-decoration-color: #800000\">╰─────────────────────────────────────╯</span>\n",
       "</pre>\n"
      ],
      "text/plain": [
       "\u001b[31m╭─────────────────────────────────────╮\u001b[0m\n",
       "\u001b[31m│\u001b[0m  \u001b[1;31mInitializing EEGEpochBuilder Class\u001b[0m \u001b[31m│\u001b[0m\n",
       "\u001b[31m╰─────────────────────────────────────╯\u001b[0m\n"
      ]
     },
     "metadata": {},
     "output_type": "display_data"
    },
    {
     "data": {
      "text/html": [
       "<pre style=\"white-space:pre;overflow-x:auto;line-height:normal;font-family:Menlo,'DejaVu Sans Mono',consolas,'Courier New',monospace\"> <span style=\"color: #008000; text-decoration-color: #008000; font-weight: bold\">Creating EPOCHS</span>\n",
       "</pre>\n"
      ],
      "text/plain": [
       " \u001b[1;32mCreating EPOCHS\u001b[0m\n"
      ]
     },
     "metadata": {},
     "output_type": "display_data"
    },
    {
     "data": {
      "text/html": [
       "<pre style=\"white-space:pre;overflow-x:auto;line-height:normal;font-family:Menlo,'DejaVu Sans Mono',consolas,'Courier New',monospace\"><span style=\"font-style: italic\">        Extraction Criteria        </span>\n",
       "┏━━━━━━━━━━━━━━━━━━━━┳━━━━━━━━━━━━┓\n",
       "┃<span style=\"font-weight: bold\"> Parameter          </span>┃<span style=\"font-weight: bold\"> Value      </span>┃\n",
       "┣━━━━━━━━━━━━━━━━━━━━╋━━━━━━━━━━━━┫\n",
       "┃<span style=\"color: #008080; text-decoration-color: #008080; font-weight: bold\"> 🧪 Trial Mode      </span>┃<span style=\"color: #808000; text-decoration-color: #808000; font-weight: bold\"> Silent     </span>┃\n",
       "┃<span style=\"color: #008080; text-decoration-color: #008080; font-weight: bold\"> 📏 Trial Unit      </span>┃<span style=\"color: #808000; text-decoration-color: #808000; font-weight: bold\"> Words      </span>┃\n",
       "┃<span style=\"color: #008080; text-decoration-color: #008080; font-weight: bold\"> 🔗 Experiment Mode </span>┃<span style=\"color: #808000; text-decoration-color: #808000; font-weight: bold\"> Experiment </span>┃\n",
       "┃<span style=\"color: #008080; text-decoration-color: #008080; font-weight: bold\"> 🎭 Trial Boundary  </span>┃<span style=\"color: #808000; text-decoration-color: #808000; font-weight: bold\"> Start      </span>┃\n",
       "┃<span style=\"color: #008080; text-decoration-color: #008080; font-weight: bold\"> 🔬 Trial Type      </span>┃<span style=\"color: #808000; text-decoration-color: #808000; font-weight: bold\"> Speech     </span>┃\n",
       "┃<span style=\"color: #008080; text-decoration-color: #008080; font-weight: bold\"> 📊 Modality        </span>┃<span style=\"color: #808000; text-decoration-color: #808000; font-weight: bold\"> Audio      </span>┃\n",
       "┃<span style=\"color: #008080; text-decoration-color: #008080; font-weight: bold\"> ⏱ Tmin             </span>┃<span style=\"color: #808000; text-decoration-color: #808000; font-weight: bold\"> </span><span style=\"color: #008080; text-decoration-color: #008080; font-weight: bold\">-0.2</span><span style=\"color: #808000; text-decoration-color: #808000; font-weight: bold\">       </span>┃\n",
       "┃<span style=\"color: #008080; text-decoration-color: #008080; font-weight: bold\"> ⏳ Tmax            </span>┃<span style=\"color: #808000; text-decoration-color: #808000; font-weight: bold\"> </span><span style=\"color: #008080; text-decoration-color: #008080; font-weight: bold\">0.5</span><span style=\"color: #808000; text-decoration-color: #808000; font-weight: bold\">        </span>┃\n",
       "┗━━━━━━━━━━━━━━━━━━━━┻━━━━━━━━━━━━┛\n",
       "</pre>\n"
      ],
      "text/plain": [
       "\u001b[3m        Extraction Criteria        \u001b[0m\n",
       "┏━━━━━━━━━━━━━━━━━━━━┳━━━━━━━━━━━━┓\n",
       "┃\u001b[1m \u001b[0m\u001b[1mParameter         \u001b[0m\u001b[1m \u001b[0m┃\u001b[1m \u001b[0m\u001b[1mValue     \u001b[0m\u001b[1m \u001b[0m┃\n",
       "┣━━━━━━━━━━━━━━━━━━━━╋━━━━━━━━━━━━┫\n",
       "┃\u001b[1;36m \u001b[0m\u001b[1;36m🧪 Trial Mode     \u001b[0m\u001b[1;36m \u001b[0m┃\u001b[1;33m \u001b[0m\u001b[1;33mSilent    \u001b[0m\u001b[1;33m \u001b[0m┃\n",
       "┃\u001b[1;36m \u001b[0m\u001b[1;36m📏 Trial Unit     \u001b[0m\u001b[1;36m \u001b[0m┃\u001b[1;33m \u001b[0m\u001b[1;33mWords     \u001b[0m\u001b[1;33m \u001b[0m┃\n",
       "┃\u001b[1;36m \u001b[0m\u001b[1;36m🔗 Experiment Mode\u001b[0m\u001b[1;36m \u001b[0m┃\u001b[1;33m \u001b[0m\u001b[1;33mExperiment\u001b[0m\u001b[1;33m \u001b[0m┃\n",
       "┃\u001b[1;36m \u001b[0m\u001b[1;36m🎭 Trial Boundary \u001b[0m\u001b[1;36m \u001b[0m┃\u001b[1;33m \u001b[0m\u001b[1;33mStart     \u001b[0m\u001b[1;33m \u001b[0m┃\n",
       "┃\u001b[1;36m \u001b[0m\u001b[1;36m🔬 Trial Type     \u001b[0m\u001b[1;36m \u001b[0m┃\u001b[1;33m \u001b[0m\u001b[1;33mSpeech    \u001b[0m\u001b[1;33m \u001b[0m┃\n",
       "┃\u001b[1;36m \u001b[0m\u001b[1;36m📊 Modality       \u001b[0m\u001b[1;36m \u001b[0m┃\u001b[1;33m \u001b[0m\u001b[1;33mAudio     \u001b[0m\u001b[1;33m \u001b[0m┃\n",
       "┃\u001b[1;36m \u001b[0m\u001b[1;36m⏱ Tmin            \u001b[0m\u001b[1;36m \u001b[0m┃\u001b[1;33m \u001b[0m\u001b[1;36m-0.2\u001b[0m\u001b[1;33m      \u001b[0m\u001b[1;33m \u001b[0m┃\n",
       "┃\u001b[1;36m \u001b[0m\u001b[1;36m⏳ Tmax           \u001b[0m\u001b[1;36m \u001b[0m┃\u001b[1;33m \u001b[0m\u001b[1;36m0.5\u001b[0m\u001b[1;33m       \u001b[0m\u001b[1;33m \u001b[0m┃\n",
       "┗━━━━━━━━━━━━━━━━━━━━┻━━━━━━━━━━━━┛\n"
      ]
     },
     "metadata": {},
     "output_type": "display_data"
    },
    {
     "name": "stdout",
     "output_type": "stream",
     "text": [
      "Not setting metadata\n",
      "95 matching events found\n",
      "Applying baseline correction (mode: mean)\n",
      "0 projection items activated\n",
      "Using data from preloaded Raw for 95 events and 701 original time points ...\n",
      "0 bad epochs dropped\n",
      "NOTE: pick_channels() is a legacy function. New code should use inst.pick(...).\n",
      "NOTE: pick_channels() is a legacy function. New code should use inst.pick(...).\n",
      "Overt P100: latency=0.120s, peak=3.10µV, mean=1.75µV\n",
      "Covert P100: latency=0.288s, peak=3.83µV, mean=2.87µV\n",
      "Initializing Plotter\n",
      "Results saved to p100_results/sub-04_ses-02_p100_Overt_Covert.csv\n"
     ]
    },
    {
     "data": {
      "text/html": [
       "<pre style=\"white-space:pre;overflow-x:auto;line-height:normal;font-family:Menlo,'DejaVu Sans Mono',consolas,'Courier New',monospace\"><span style=\"color: #808000; text-decoration-color: #808000\">╭─────────────────────────────────────────╮</span>\n",
       "<span style=\"color: #808000; text-decoration-color: #808000\">│</span> 🚀 <span style=\"color: #808000; text-decoration-color: #808000; font-weight: bold\">Initializing BIDSDatasetReader Class</span> <span style=\"color: #808000; text-decoration-color: #808000\">│</span>\n",
       "<span style=\"color: #808000; text-decoration-color: #808000\">╰─────────────────────────────────────────╯</span>\n",
       "</pre>\n"
      ],
      "text/plain": [
       "\u001b[33m╭─────────────────────────────────────────╮\u001b[0m\n",
       "\u001b[33m│\u001b[0m 🚀 \u001b[1;33mInitializing BIDSDatasetReader Class\u001b[0m \u001b[33m│\u001b[0m\n",
       "\u001b[33m╰─────────────────────────────────────────╯\u001b[0m\n"
      ]
     },
     "metadata": {},
     "output_type": "display_data"
    },
    {
     "data": {
      "text/html": [
       "<pre style=\"white-space:pre;overflow-x:auto;line-height:normal;font-family:Menlo,'DejaVu Sans Mono',consolas,'Courier New',monospace\"> <span style=\"color: #008000; text-decoration-color: #008000; font-weight: bold\">Loading Processed EEG Data: sub-</span><span style=\"color: #008000; text-decoration-color: #008000; font-weight: bold\">05</span><span style=\"color: #008000; text-decoration-color: #008000; font-weight: bold\"> ses-</span><span style=\"color: #008000; text-decoration-color: #008000; font-weight: bold\">01</span>\n",
       "</pre>\n"
      ],
      "text/plain": [
       " \u001b[1;32mLoading Processed EEG Data: sub-\u001b[0m\u001b[1;32m05\u001b[0m\u001b[1;32m ses-\u001b[0m\u001b[1;32m01\u001b[0m\n"
      ]
     },
     "metadata": {},
     "output_type": "display_data"
    },
    {
     "data": {
      "text/html": [
       "<pre style=\"white-space:pre;overflow-x:auto;line-height:normal;font-family:Menlo,'DejaVu Sans Mono',consolas,'Courier New',monospace\"><span style=\"color: #800000; text-decoration-color: #800000\">╭─────────────────────────────────────╮</span>\n",
       "<span style=\"color: #800000; text-decoration-color: #800000\">│</span>  <span style=\"color: #800000; text-decoration-color: #800000; font-weight: bold\">Initializing EEGEpochBuilder Class</span> <span style=\"color: #800000; text-decoration-color: #800000\">│</span>\n",
       "<span style=\"color: #800000; text-decoration-color: #800000\">╰─────────────────────────────────────╯</span>\n",
       "</pre>\n"
      ],
      "text/plain": [
       "\u001b[31m╭─────────────────────────────────────╮\u001b[0m\n",
       "\u001b[31m│\u001b[0m  \u001b[1;31mInitializing EEGEpochBuilder Class\u001b[0m \u001b[31m│\u001b[0m\n",
       "\u001b[31m╰─────────────────────────────────────╯\u001b[0m\n"
      ]
     },
     "metadata": {},
     "output_type": "display_data"
    },
    {
     "data": {
      "text/html": [
       "<pre style=\"white-space:pre;overflow-x:auto;line-height:normal;font-family:Menlo,'DejaVu Sans Mono',consolas,'Courier New',monospace\"> <span style=\"color: #008000; text-decoration-color: #008000; font-weight: bold\">Creating EPOCHS</span>\n",
       "</pre>\n"
      ],
      "text/plain": [
       " \u001b[1;32mCreating EPOCHS\u001b[0m\n"
      ]
     },
     "metadata": {},
     "output_type": "display_data"
    },
    {
     "data": {
      "text/html": [
       "<pre style=\"white-space:pre;overflow-x:auto;line-height:normal;font-family:Menlo,'DejaVu Sans Mono',consolas,'Courier New',monospace\"><span style=\"font-style: italic\">        Extraction Criteria        </span>\n",
       "┏━━━━━━━━━━━━━━━━━━━━┳━━━━━━━━━━━━┓\n",
       "┃<span style=\"font-weight: bold\"> Parameter          </span>┃<span style=\"font-weight: bold\"> Value      </span>┃\n",
       "┣━━━━━━━━━━━━━━━━━━━━╋━━━━━━━━━━━━┫\n",
       "┃<span style=\"color: #008080; text-decoration-color: #008080; font-weight: bold\"> 🧪 Trial Mode      </span>┃<span style=\"color: #808000; text-decoration-color: #808000; font-weight: bold\"> Real       </span>┃\n",
       "┃<span style=\"color: #008080; text-decoration-color: #008080; font-weight: bold\"> 📏 Trial Unit      </span>┃<span style=\"color: #808000; text-decoration-color: #808000; font-weight: bold\"> Words      </span>┃\n",
       "┃<span style=\"color: #008080; text-decoration-color: #008080; font-weight: bold\"> 🔗 Experiment Mode </span>┃<span style=\"color: #808000; text-decoration-color: #808000; font-weight: bold\"> Experiment </span>┃\n",
       "┃<span style=\"color: #008080; text-decoration-color: #008080; font-weight: bold\"> 🎭 Trial Boundary  </span>┃<span style=\"color: #808000; text-decoration-color: #808000; font-weight: bold\"> Start      </span>┃\n",
       "┃<span style=\"color: #008080; text-decoration-color: #008080; font-weight: bold\"> 🔬 Trial Type      </span>┃<span style=\"color: #808000; text-decoration-color: #808000; font-weight: bold\"> Speech     </span>┃\n",
       "┃<span style=\"color: #008080; text-decoration-color: #008080; font-weight: bold\"> 📊 Modality        </span>┃<span style=\"color: #808000; text-decoration-color: #808000; font-weight: bold\"> Audio      </span>┃\n",
       "┃<span style=\"color: #008080; text-decoration-color: #008080; font-weight: bold\"> ⏱ Tmin             </span>┃<span style=\"color: #808000; text-decoration-color: #808000; font-weight: bold\"> </span><span style=\"color: #008080; text-decoration-color: #008080; font-weight: bold\">-0.2</span><span style=\"color: #808000; text-decoration-color: #808000; font-weight: bold\">       </span>┃\n",
       "┃<span style=\"color: #008080; text-decoration-color: #008080; font-weight: bold\"> ⏳ Tmax            </span>┃<span style=\"color: #808000; text-decoration-color: #808000; font-weight: bold\"> </span><span style=\"color: #008080; text-decoration-color: #008080; font-weight: bold\">0.5</span><span style=\"color: #808000; text-decoration-color: #808000; font-weight: bold\">        </span>┃\n",
       "┗━━━━━━━━━━━━━━━━━━━━┻━━━━━━━━━━━━┛\n",
       "</pre>\n"
      ],
      "text/plain": [
       "\u001b[3m        Extraction Criteria        \u001b[0m\n",
       "┏━━━━━━━━━━━━━━━━━━━━┳━━━━━━━━━━━━┓\n",
       "┃\u001b[1m \u001b[0m\u001b[1mParameter         \u001b[0m\u001b[1m \u001b[0m┃\u001b[1m \u001b[0m\u001b[1mValue     \u001b[0m\u001b[1m \u001b[0m┃\n",
       "┣━━━━━━━━━━━━━━━━━━━━╋━━━━━━━━━━━━┫\n",
       "┃\u001b[1;36m \u001b[0m\u001b[1;36m🧪 Trial Mode     \u001b[0m\u001b[1;36m \u001b[0m┃\u001b[1;33m \u001b[0m\u001b[1;33mReal      \u001b[0m\u001b[1;33m \u001b[0m┃\n",
       "┃\u001b[1;36m \u001b[0m\u001b[1;36m📏 Trial Unit     \u001b[0m\u001b[1;36m \u001b[0m┃\u001b[1;33m \u001b[0m\u001b[1;33mWords     \u001b[0m\u001b[1;33m \u001b[0m┃\n",
       "┃\u001b[1;36m \u001b[0m\u001b[1;36m🔗 Experiment Mode\u001b[0m\u001b[1;36m \u001b[0m┃\u001b[1;33m \u001b[0m\u001b[1;33mExperiment\u001b[0m\u001b[1;33m \u001b[0m┃\n",
       "┃\u001b[1;36m \u001b[0m\u001b[1;36m🎭 Trial Boundary \u001b[0m\u001b[1;36m \u001b[0m┃\u001b[1;33m \u001b[0m\u001b[1;33mStart     \u001b[0m\u001b[1;33m \u001b[0m┃\n",
       "┃\u001b[1;36m \u001b[0m\u001b[1;36m🔬 Trial Type     \u001b[0m\u001b[1;36m \u001b[0m┃\u001b[1;33m \u001b[0m\u001b[1;33mSpeech    \u001b[0m\u001b[1;33m \u001b[0m┃\n",
       "┃\u001b[1;36m \u001b[0m\u001b[1;36m📊 Modality       \u001b[0m\u001b[1;36m \u001b[0m┃\u001b[1;33m \u001b[0m\u001b[1;33mAudio     \u001b[0m\u001b[1;33m \u001b[0m┃\n",
       "┃\u001b[1;36m \u001b[0m\u001b[1;36m⏱ Tmin            \u001b[0m\u001b[1;36m \u001b[0m┃\u001b[1;33m \u001b[0m\u001b[1;36m-0.2\u001b[0m\u001b[1;33m      \u001b[0m\u001b[1;33m \u001b[0m┃\n",
       "┃\u001b[1;36m \u001b[0m\u001b[1;36m⏳ Tmax           \u001b[0m\u001b[1;36m \u001b[0m┃\u001b[1;33m \u001b[0m\u001b[1;36m0.5\u001b[0m\u001b[1;33m       \u001b[0m\u001b[1;33m \u001b[0m┃\n",
       "┗━━━━━━━━━━━━━━━━━━━━┻━━━━━━━━━━━━┛\n"
      ]
     },
     "metadata": {},
     "output_type": "display_data"
    },
    {
     "name": "stdout",
     "output_type": "stream",
     "text": [
      "Not setting metadata\n",
      "95 matching events found\n",
      "Applying baseline correction (mode: mean)\n",
      "0 projection items activated\n",
      "Using data from preloaded Raw for 95 events and 701 original time points ...\n",
      "0 bad epochs dropped\n"
     ]
    },
    {
     "data": {
      "text/html": [
       "<pre style=\"white-space:pre;overflow-x:auto;line-height:normal;font-family:Menlo,'DejaVu Sans Mono',consolas,'Courier New',monospace\"><span style=\"color: #800000; text-decoration-color: #800000\">╭─────────────────────────────────────╮</span>\n",
       "<span style=\"color: #800000; text-decoration-color: #800000\">│</span>  <span style=\"color: #800000; text-decoration-color: #800000; font-weight: bold\">Initializing EEGEpochBuilder Class</span> <span style=\"color: #800000; text-decoration-color: #800000\">│</span>\n",
       "<span style=\"color: #800000; text-decoration-color: #800000\">╰─────────────────────────────────────╯</span>\n",
       "</pre>\n"
      ],
      "text/plain": [
       "\u001b[31m╭─────────────────────────────────────╮\u001b[0m\n",
       "\u001b[31m│\u001b[0m  \u001b[1;31mInitializing EEGEpochBuilder Class\u001b[0m \u001b[31m│\u001b[0m\n",
       "\u001b[31m╰─────────────────────────────────────╯\u001b[0m\n"
      ]
     },
     "metadata": {},
     "output_type": "display_data"
    },
    {
     "data": {
      "text/html": [
       "<pre style=\"white-space:pre;overflow-x:auto;line-height:normal;font-family:Menlo,'DejaVu Sans Mono',consolas,'Courier New',monospace\"> <span style=\"color: #008000; text-decoration-color: #008000; font-weight: bold\">Creating EPOCHS</span>\n",
       "</pre>\n"
      ],
      "text/plain": [
       " \u001b[1;32mCreating EPOCHS\u001b[0m\n"
      ]
     },
     "metadata": {},
     "output_type": "display_data"
    },
    {
     "data": {
      "text/html": [
       "<pre style=\"white-space:pre;overflow-x:auto;line-height:normal;font-family:Menlo,'DejaVu Sans Mono',consolas,'Courier New',monospace\"><span style=\"font-style: italic\">        Extraction Criteria        </span>\n",
       "┏━━━━━━━━━━━━━━━━━━━━┳━━━━━━━━━━━━┓\n",
       "┃<span style=\"font-weight: bold\"> Parameter          </span>┃<span style=\"font-weight: bold\"> Value      </span>┃\n",
       "┣━━━━━━━━━━━━━━━━━━━━╋━━━━━━━━━━━━┫\n",
       "┃<span style=\"color: #008080; text-decoration-color: #008080; font-weight: bold\"> 🧪 Trial Mode      </span>┃<span style=\"color: #808000; text-decoration-color: #808000; font-weight: bold\"> Silent     </span>┃\n",
       "┃<span style=\"color: #008080; text-decoration-color: #008080; font-weight: bold\"> 📏 Trial Unit      </span>┃<span style=\"color: #808000; text-decoration-color: #808000; font-weight: bold\"> Words      </span>┃\n",
       "┃<span style=\"color: #008080; text-decoration-color: #008080; font-weight: bold\"> 🔗 Experiment Mode </span>┃<span style=\"color: #808000; text-decoration-color: #808000; font-weight: bold\"> Experiment </span>┃\n",
       "┃<span style=\"color: #008080; text-decoration-color: #008080; font-weight: bold\"> 🎭 Trial Boundary  </span>┃<span style=\"color: #808000; text-decoration-color: #808000; font-weight: bold\"> Start      </span>┃\n",
       "┃<span style=\"color: #008080; text-decoration-color: #008080; font-weight: bold\"> 🔬 Trial Type      </span>┃<span style=\"color: #808000; text-decoration-color: #808000; font-weight: bold\"> Speech     </span>┃\n",
       "┃<span style=\"color: #008080; text-decoration-color: #008080; font-weight: bold\"> 📊 Modality        </span>┃<span style=\"color: #808000; text-decoration-color: #808000; font-weight: bold\"> Audio      </span>┃\n",
       "┃<span style=\"color: #008080; text-decoration-color: #008080; font-weight: bold\"> ⏱ Tmin             </span>┃<span style=\"color: #808000; text-decoration-color: #808000; font-weight: bold\"> </span><span style=\"color: #008080; text-decoration-color: #008080; font-weight: bold\">-0.2</span><span style=\"color: #808000; text-decoration-color: #808000; font-weight: bold\">       </span>┃\n",
       "┃<span style=\"color: #008080; text-decoration-color: #008080; font-weight: bold\"> ⏳ Tmax            </span>┃<span style=\"color: #808000; text-decoration-color: #808000; font-weight: bold\"> </span><span style=\"color: #008080; text-decoration-color: #008080; font-weight: bold\">0.5</span><span style=\"color: #808000; text-decoration-color: #808000; font-weight: bold\">        </span>┃\n",
       "┗━━━━━━━━━━━━━━━━━━━━┻━━━━━━━━━━━━┛\n",
       "</pre>\n"
      ],
      "text/plain": [
       "\u001b[3m        Extraction Criteria        \u001b[0m\n",
       "┏━━━━━━━━━━━━━━━━━━━━┳━━━━━━━━━━━━┓\n",
       "┃\u001b[1m \u001b[0m\u001b[1mParameter         \u001b[0m\u001b[1m \u001b[0m┃\u001b[1m \u001b[0m\u001b[1mValue     \u001b[0m\u001b[1m \u001b[0m┃\n",
       "┣━━━━━━━━━━━━━━━━━━━━╋━━━━━━━━━━━━┫\n",
       "┃\u001b[1;36m \u001b[0m\u001b[1;36m🧪 Trial Mode     \u001b[0m\u001b[1;36m \u001b[0m┃\u001b[1;33m \u001b[0m\u001b[1;33mSilent    \u001b[0m\u001b[1;33m \u001b[0m┃\n",
       "┃\u001b[1;36m \u001b[0m\u001b[1;36m📏 Trial Unit     \u001b[0m\u001b[1;36m \u001b[0m┃\u001b[1;33m \u001b[0m\u001b[1;33mWords     \u001b[0m\u001b[1;33m \u001b[0m┃\n",
       "┃\u001b[1;36m \u001b[0m\u001b[1;36m🔗 Experiment Mode\u001b[0m\u001b[1;36m \u001b[0m┃\u001b[1;33m \u001b[0m\u001b[1;33mExperiment\u001b[0m\u001b[1;33m \u001b[0m┃\n",
       "┃\u001b[1;36m \u001b[0m\u001b[1;36m🎭 Trial Boundary \u001b[0m\u001b[1;36m \u001b[0m┃\u001b[1;33m \u001b[0m\u001b[1;33mStart     \u001b[0m\u001b[1;33m \u001b[0m┃\n",
       "┃\u001b[1;36m \u001b[0m\u001b[1;36m🔬 Trial Type     \u001b[0m\u001b[1;36m \u001b[0m┃\u001b[1;33m \u001b[0m\u001b[1;33mSpeech    \u001b[0m\u001b[1;33m \u001b[0m┃\n",
       "┃\u001b[1;36m \u001b[0m\u001b[1;36m📊 Modality       \u001b[0m\u001b[1;36m \u001b[0m┃\u001b[1;33m \u001b[0m\u001b[1;33mAudio     \u001b[0m\u001b[1;33m \u001b[0m┃\n",
       "┃\u001b[1;36m \u001b[0m\u001b[1;36m⏱ Tmin            \u001b[0m\u001b[1;36m \u001b[0m┃\u001b[1;33m \u001b[0m\u001b[1;36m-0.2\u001b[0m\u001b[1;33m      \u001b[0m\u001b[1;33m \u001b[0m┃\n",
       "┃\u001b[1;36m \u001b[0m\u001b[1;36m⏳ Tmax           \u001b[0m\u001b[1;36m \u001b[0m┃\u001b[1;33m \u001b[0m\u001b[1;36m0.5\u001b[0m\u001b[1;33m       \u001b[0m\u001b[1;33m \u001b[0m┃\n",
       "┗━━━━━━━━━━━━━━━━━━━━┻━━━━━━━━━━━━┛\n"
      ]
     },
     "metadata": {},
     "output_type": "display_data"
    },
    {
     "name": "stdout",
     "output_type": "stream",
     "text": [
      "Not setting metadata\n",
      "95 matching events found\n",
      "Applying baseline correction (mode: mean)\n",
      "0 projection items activated\n",
      "Using data from preloaded Raw for 95 events and 701 original time points ...\n",
      "0 bad epochs dropped\n",
      "NOTE: pick_channels() is a legacy function. New code should use inst.pick(...).\n",
      "NOTE: pick_channels() is a legacy function. New code should use inst.pick(...).\n",
      "Overt P100: latency=0.120s, peak=0.67µV, mean=-0.50µV\n",
      "Covert P100: latency=0.319s, peak=1.37µV, mean=0.13µV\n",
      "Initializing Plotter\n",
      "Results saved to p100_results/sub-05_ses-01_p100_Overt_Covert.csv\n"
     ]
    },
    {
     "data": {
      "text/html": [
       "<pre style=\"white-space:pre;overflow-x:auto;line-height:normal;font-family:Menlo,'DejaVu Sans Mono',consolas,'Courier New',monospace\"><span style=\"color: #808000; text-decoration-color: #808000\">╭─────────────────────────────────────────╮</span>\n",
       "<span style=\"color: #808000; text-decoration-color: #808000\">│</span> 🚀 <span style=\"color: #808000; text-decoration-color: #808000; font-weight: bold\">Initializing BIDSDatasetReader Class</span> <span style=\"color: #808000; text-decoration-color: #808000\">│</span>\n",
       "<span style=\"color: #808000; text-decoration-color: #808000\">╰─────────────────────────────────────────╯</span>\n",
       "</pre>\n"
      ],
      "text/plain": [
       "\u001b[33m╭─────────────────────────────────────────╮\u001b[0m\n",
       "\u001b[33m│\u001b[0m 🚀 \u001b[1;33mInitializing BIDSDatasetReader Class\u001b[0m \u001b[33m│\u001b[0m\n",
       "\u001b[33m╰─────────────────────────────────────────╯\u001b[0m\n"
      ]
     },
     "metadata": {},
     "output_type": "display_data"
    },
    {
     "data": {
      "text/html": [
       "<pre style=\"white-space:pre;overflow-x:auto;line-height:normal;font-family:Menlo,'DejaVu Sans Mono',consolas,'Courier New',monospace\"> <span style=\"color: #008000; text-decoration-color: #008000; font-weight: bold\">Loading Processed EEG Data: sub-</span><span style=\"color: #008000; text-decoration-color: #008000; font-weight: bold\">05</span><span style=\"color: #008000; text-decoration-color: #008000; font-weight: bold\"> ses-</span><span style=\"color: #008000; text-decoration-color: #008000; font-weight: bold\">02</span>\n",
       "</pre>\n"
      ],
      "text/plain": [
       " \u001b[1;32mLoading Processed EEG Data: sub-\u001b[0m\u001b[1;32m05\u001b[0m\u001b[1;32m ses-\u001b[0m\u001b[1;32m02\u001b[0m\n"
      ]
     },
     "metadata": {},
     "output_type": "display_data"
    },
    {
     "data": {
      "text/html": [
       "<pre style=\"white-space:pre;overflow-x:auto;line-height:normal;font-family:Menlo,'DejaVu Sans Mono',consolas,'Courier New',monospace\"><span style=\"color: #800000; text-decoration-color: #800000\">╭─────────────────────────────────────╮</span>\n",
       "<span style=\"color: #800000; text-decoration-color: #800000\">│</span>  <span style=\"color: #800000; text-decoration-color: #800000; font-weight: bold\">Initializing EEGEpochBuilder Class</span> <span style=\"color: #800000; text-decoration-color: #800000\">│</span>\n",
       "<span style=\"color: #800000; text-decoration-color: #800000\">╰─────────────────────────────────────╯</span>\n",
       "</pre>\n"
      ],
      "text/plain": [
       "\u001b[31m╭─────────────────────────────────────╮\u001b[0m\n",
       "\u001b[31m│\u001b[0m  \u001b[1;31mInitializing EEGEpochBuilder Class\u001b[0m \u001b[31m│\u001b[0m\n",
       "\u001b[31m╰─────────────────────────────────────╯\u001b[0m\n"
      ]
     },
     "metadata": {},
     "output_type": "display_data"
    },
    {
     "data": {
      "text/html": [
       "<pre style=\"white-space:pre;overflow-x:auto;line-height:normal;font-family:Menlo,'DejaVu Sans Mono',consolas,'Courier New',monospace\"> <span style=\"color: #008000; text-decoration-color: #008000; font-weight: bold\">Creating EPOCHS</span>\n",
       "</pre>\n"
      ],
      "text/plain": [
       " \u001b[1;32mCreating EPOCHS\u001b[0m\n"
      ]
     },
     "metadata": {},
     "output_type": "display_data"
    },
    {
     "data": {
      "text/html": [
       "<pre style=\"white-space:pre;overflow-x:auto;line-height:normal;font-family:Menlo,'DejaVu Sans Mono',consolas,'Courier New',monospace\"><span style=\"font-style: italic\">        Extraction Criteria        </span>\n",
       "┏━━━━━━━━━━━━━━━━━━━━┳━━━━━━━━━━━━┓\n",
       "┃<span style=\"font-weight: bold\"> Parameter          </span>┃<span style=\"font-weight: bold\"> Value      </span>┃\n",
       "┣━━━━━━━━━━━━━━━━━━━━╋━━━━━━━━━━━━┫\n",
       "┃<span style=\"color: #008080; text-decoration-color: #008080; font-weight: bold\"> 🧪 Trial Mode      </span>┃<span style=\"color: #808000; text-decoration-color: #808000; font-weight: bold\"> Real       </span>┃\n",
       "┃<span style=\"color: #008080; text-decoration-color: #008080; font-weight: bold\"> 📏 Trial Unit      </span>┃<span style=\"color: #808000; text-decoration-color: #808000; font-weight: bold\"> Words      </span>┃\n",
       "┃<span style=\"color: #008080; text-decoration-color: #008080; font-weight: bold\"> 🔗 Experiment Mode </span>┃<span style=\"color: #808000; text-decoration-color: #808000; font-weight: bold\"> Experiment </span>┃\n",
       "┃<span style=\"color: #008080; text-decoration-color: #008080; font-weight: bold\"> 🎭 Trial Boundary  </span>┃<span style=\"color: #808000; text-decoration-color: #808000; font-weight: bold\"> Start      </span>┃\n",
       "┃<span style=\"color: #008080; text-decoration-color: #008080; font-weight: bold\"> 🔬 Trial Type      </span>┃<span style=\"color: #808000; text-decoration-color: #808000; font-weight: bold\"> Speech     </span>┃\n",
       "┃<span style=\"color: #008080; text-decoration-color: #008080; font-weight: bold\"> 📊 Modality        </span>┃<span style=\"color: #808000; text-decoration-color: #808000; font-weight: bold\"> Audio      </span>┃\n",
       "┃<span style=\"color: #008080; text-decoration-color: #008080; font-weight: bold\"> ⏱ Tmin             </span>┃<span style=\"color: #808000; text-decoration-color: #808000; font-weight: bold\"> </span><span style=\"color: #008080; text-decoration-color: #008080; font-weight: bold\">-0.2</span><span style=\"color: #808000; text-decoration-color: #808000; font-weight: bold\">       </span>┃\n",
       "┃<span style=\"color: #008080; text-decoration-color: #008080; font-weight: bold\"> ⏳ Tmax            </span>┃<span style=\"color: #808000; text-decoration-color: #808000; font-weight: bold\"> </span><span style=\"color: #008080; text-decoration-color: #008080; font-weight: bold\">0.5</span><span style=\"color: #808000; text-decoration-color: #808000; font-weight: bold\">        </span>┃\n",
       "┗━━━━━━━━━━━━━━━━━━━━┻━━━━━━━━━━━━┛\n",
       "</pre>\n"
      ],
      "text/plain": [
       "\u001b[3m        Extraction Criteria        \u001b[0m\n",
       "┏━━━━━━━━━━━━━━━━━━━━┳━━━━━━━━━━━━┓\n",
       "┃\u001b[1m \u001b[0m\u001b[1mParameter         \u001b[0m\u001b[1m \u001b[0m┃\u001b[1m \u001b[0m\u001b[1mValue     \u001b[0m\u001b[1m \u001b[0m┃\n",
       "┣━━━━━━━━━━━━━━━━━━━━╋━━━━━━━━━━━━┫\n",
       "┃\u001b[1;36m \u001b[0m\u001b[1;36m🧪 Trial Mode     \u001b[0m\u001b[1;36m \u001b[0m┃\u001b[1;33m \u001b[0m\u001b[1;33mReal      \u001b[0m\u001b[1;33m \u001b[0m┃\n",
       "┃\u001b[1;36m \u001b[0m\u001b[1;36m📏 Trial Unit     \u001b[0m\u001b[1;36m \u001b[0m┃\u001b[1;33m \u001b[0m\u001b[1;33mWords     \u001b[0m\u001b[1;33m \u001b[0m┃\n",
       "┃\u001b[1;36m \u001b[0m\u001b[1;36m🔗 Experiment Mode\u001b[0m\u001b[1;36m \u001b[0m┃\u001b[1;33m \u001b[0m\u001b[1;33mExperiment\u001b[0m\u001b[1;33m \u001b[0m┃\n",
       "┃\u001b[1;36m \u001b[0m\u001b[1;36m🎭 Trial Boundary \u001b[0m\u001b[1;36m \u001b[0m┃\u001b[1;33m \u001b[0m\u001b[1;33mStart     \u001b[0m\u001b[1;33m \u001b[0m┃\n",
       "┃\u001b[1;36m \u001b[0m\u001b[1;36m🔬 Trial Type     \u001b[0m\u001b[1;36m \u001b[0m┃\u001b[1;33m \u001b[0m\u001b[1;33mSpeech    \u001b[0m\u001b[1;33m \u001b[0m┃\n",
       "┃\u001b[1;36m \u001b[0m\u001b[1;36m📊 Modality       \u001b[0m\u001b[1;36m \u001b[0m┃\u001b[1;33m \u001b[0m\u001b[1;33mAudio     \u001b[0m\u001b[1;33m \u001b[0m┃\n",
       "┃\u001b[1;36m \u001b[0m\u001b[1;36m⏱ Tmin            \u001b[0m\u001b[1;36m \u001b[0m┃\u001b[1;33m \u001b[0m\u001b[1;36m-0.2\u001b[0m\u001b[1;33m      \u001b[0m\u001b[1;33m \u001b[0m┃\n",
       "┃\u001b[1;36m \u001b[0m\u001b[1;36m⏳ Tmax           \u001b[0m\u001b[1;36m \u001b[0m┃\u001b[1;33m \u001b[0m\u001b[1;36m0.5\u001b[0m\u001b[1;33m       \u001b[0m\u001b[1;33m \u001b[0m┃\n",
       "┗━━━━━━━━━━━━━━━━━━━━┻━━━━━━━━━━━━┛\n"
      ]
     },
     "metadata": {},
     "output_type": "display_data"
    },
    {
     "name": "stdout",
     "output_type": "stream",
     "text": [
      "Not setting metadata\n",
      "95 matching events found\n",
      "Applying baseline correction (mode: mean)\n",
      "0 projection items activated\n",
      "Using data from preloaded Raw for 95 events and 701 original time points ...\n",
      "0 bad epochs dropped\n"
     ]
    },
    {
     "data": {
      "text/html": [
       "<pre style=\"white-space:pre;overflow-x:auto;line-height:normal;font-family:Menlo,'DejaVu Sans Mono',consolas,'Courier New',monospace\"><span style=\"color: #800000; text-decoration-color: #800000\">╭─────────────────────────────────────╮</span>\n",
       "<span style=\"color: #800000; text-decoration-color: #800000\">│</span>  <span style=\"color: #800000; text-decoration-color: #800000; font-weight: bold\">Initializing EEGEpochBuilder Class</span> <span style=\"color: #800000; text-decoration-color: #800000\">│</span>\n",
       "<span style=\"color: #800000; text-decoration-color: #800000\">╰─────────────────────────────────────╯</span>\n",
       "</pre>\n"
      ],
      "text/plain": [
       "\u001b[31m╭─────────────────────────────────────╮\u001b[0m\n",
       "\u001b[31m│\u001b[0m  \u001b[1;31mInitializing EEGEpochBuilder Class\u001b[0m \u001b[31m│\u001b[0m\n",
       "\u001b[31m╰─────────────────────────────────────╯\u001b[0m\n"
      ]
     },
     "metadata": {},
     "output_type": "display_data"
    },
    {
     "data": {
      "text/html": [
       "<pre style=\"white-space:pre;overflow-x:auto;line-height:normal;font-family:Menlo,'DejaVu Sans Mono',consolas,'Courier New',monospace\"> <span style=\"color: #008000; text-decoration-color: #008000; font-weight: bold\">Creating EPOCHS</span>\n",
       "</pre>\n"
      ],
      "text/plain": [
       " \u001b[1;32mCreating EPOCHS\u001b[0m\n"
      ]
     },
     "metadata": {},
     "output_type": "display_data"
    },
    {
     "data": {
      "text/html": [
       "<pre style=\"white-space:pre;overflow-x:auto;line-height:normal;font-family:Menlo,'DejaVu Sans Mono',consolas,'Courier New',monospace\"><span style=\"font-style: italic\">        Extraction Criteria        </span>\n",
       "┏━━━━━━━━━━━━━━━━━━━━┳━━━━━━━━━━━━┓\n",
       "┃<span style=\"font-weight: bold\"> Parameter          </span>┃<span style=\"font-weight: bold\"> Value      </span>┃\n",
       "┣━━━━━━━━━━━━━━━━━━━━╋━━━━━━━━━━━━┫\n",
       "┃<span style=\"color: #008080; text-decoration-color: #008080; font-weight: bold\"> 🧪 Trial Mode      </span>┃<span style=\"color: #808000; text-decoration-color: #808000; font-weight: bold\"> Silent     </span>┃\n",
       "┃<span style=\"color: #008080; text-decoration-color: #008080; font-weight: bold\"> 📏 Trial Unit      </span>┃<span style=\"color: #808000; text-decoration-color: #808000; font-weight: bold\"> Words      </span>┃\n",
       "┃<span style=\"color: #008080; text-decoration-color: #008080; font-weight: bold\"> 🔗 Experiment Mode </span>┃<span style=\"color: #808000; text-decoration-color: #808000; font-weight: bold\"> Experiment </span>┃\n",
       "┃<span style=\"color: #008080; text-decoration-color: #008080; font-weight: bold\"> 🎭 Trial Boundary  </span>┃<span style=\"color: #808000; text-decoration-color: #808000; font-weight: bold\"> Start      </span>┃\n",
       "┃<span style=\"color: #008080; text-decoration-color: #008080; font-weight: bold\"> 🔬 Trial Type      </span>┃<span style=\"color: #808000; text-decoration-color: #808000; font-weight: bold\"> Speech     </span>┃\n",
       "┃<span style=\"color: #008080; text-decoration-color: #008080; font-weight: bold\"> 📊 Modality        </span>┃<span style=\"color: #808000; text-decoration-color: #808000; font-weight: bold\"> Audio      </span>┃\n",
       "┃<span style=\"color: #008080; text-decoration-color: #008080; font-weight: bold\"> ⏱ Tmin             </span>┃<span style=\"color: #808000; text-decoration-color: #808000; font-weight: bold\"> </span><span style=\"color: #008080; text-decoration-color: #008080; font-weight: bold\">-0.2</span><span style=\"color: #808000; text-decoration-color: #808000; font-weight: bold\">       </span>┃\n",
       "┃<span style=\"color: #008080; text-decoration-color: #008080; font-weight: bold\"> ⏳ Tmax            </span>┃<span style=\"color: #808000; text-decoration-color: #808000; font-weight: bold\"> </span><span style=\"color: #008080; text-decoration-color: #008080; font-weight: bold\">0.5</span><span style=\"color: #808000; text-decoration-color: #808000; font-weight: bold\">        </span>┃\n",
       "┗━━━━━━━━━━━━━━━━━━━━┻━━━━━━━━━━━━┛\n",
       "</pre>\n"
      ],
      "text/plain": [
       "\u001b[3m        Extraction Criteria        \u001b[0m\n",
       "┏━━━━━━━━━━━━━━━━━━━━┳━━━━━━━━━━━━┓\n",
       "┃\u001b[1m \u001b[0m\u001b[1mParameter         \u001b[0m\u001b[1m \u001b[0m┃\u001b[1m \u001b[0m\u001b[1mValue     \u001b[0m\u001b[1m \u001b[0m┃\n",
       "┣━━━━━━━━━━━━━━━━━━━━╋━━━━━━━━━━━━┫\n",
       "┃\u001b[1;36m \u001b[0m\u001b[1;36m🧪 Trial Mode     \u001b[0m\u001b[1;36m \u001b[0m┃\u001b[1;33m \u001b[0m\u001b[1;33mSilent    \u001b[0m\u001b[1;33m \u001b[0m┃\n",
       "┃\u001b[1;36m \u001b[0m\u001b[1;36m📏 Trial Unit     \u001b[0m\u001b[1;36m \u001b[0m┃\u001b[1;33m \u001b[0m\u001b[1;33mWords     \u001b[0m\u001b[1;33m \u001b[0m┃\n",
       "┃\u001b[1;36m \u001b[0m\u001b[1;36m🔗 Experiment Mode\u001b[0m\u001b[1;36m \u001b[0m┃\u001b[1;33m \u001b[0m\u001b[1;33mExperiment\u001b[0m\u001b[1;33m \u001b[0m┃\n",
       "┃\u001b[1;36m \u001b[0m\u001b[1;36m🎭 Trial Boundary \u001b[0m\u001b[1;36m \u001b[0m┃\u001b[1;33m \u001b[0m\u001b[1;33mStart     \u001b[0m\u001b[1;33m \u001b[0m┃\n",
       "┃\u001b[1;36m \u001b[0m\u001b[1;36m🔬 Trial Type     \u001b[0m\u001b[1;36m \u001b[0m┃\u001b[1;33m \u001b[0m\u001b[1;33mSpeech    \u001b[0m\u001b[1;33m \u001b[0m┃\n",
       "┃\u001b[1;36m \u001b[0m\u001b[1;36m📊 Modality       \u001b[0m\u001b[1;36m \u001b[0m┃\u001b[1;33m \u001b[0m\u001b[1;33mAudio     \u001b[0m\u001b[1;33m \u001b[0m┃\n",
       "┃\u001b[1;36m \u001b[0m\u001b[1;36m⏱ Tmin            \u001b[0m\u001b[1;36m \u001b[0m┃\u001b[1;33m \u001b[0m\u001b[1;36m-0.2\u001b[0m\u001b[1;33m      \u001b[0m\u001b[1;33m \u001b[0m┃\n",
       "┃\u001b[1;36m \u001b[0m\u001b[1;36m⏳ Tmax           \u001b[0m\u001b[1;36m \u001b[0m┃\u001b[1;33m \u001b[0m\u001b[1;36m0.5\u001b[0m\u001b[1;33m       \u001b[0m\u001b[1;33m \u001b[0m┃\n",
       "┗━━━━━━━━━━━━━━━━━━━━┻━━━━━━━━━━━━┛\n"
      ]
     },
     "metadata": {},
     "output_type": "display_data"
    },
    {
     "name": "stdout",
     "output_type": "stream",
     "text": [
      "Not setting metadata\n",
      "95 matching events found\n",
      "Applying baseline correction (mode: mean)\n",
      "0 projection items activated\n",
      "Using data from preloaded Raw for 95 events and 701 original time points ...\n",
      "0 bad epochs dropped\n",
      "NOTE: pick_channels() is a legacy function. New code should use inst.pick(...).\n",
      "NOTE: pick_channels() is a legacy function. New code should use inst.pick(...).\n",
      "Overt P100: latency=0.117s, peak=0.67µV, mean=-0.05µV\n",
      "Covert P100: latency=0.308s, peak=1.44µV, mean=0.41µV\n",
      "Initializing Plotter\n",
      "Results saved to p100_results/sub-05_ses-02_p100_Overt_Covert.csv\n"
     ]
    },
    {
     "data": {
      "text/html": [
       "<pre style=\"white-space:pre;overflow-x:auto;line-height:normal;font-family:Menlo,'DejaVu Sans Mono',consolas,'Courier New',monospace\"><span style=\"color: #808000; text-decoration-color: #808000\">╭─────────────────────────────────────────╮</span>\n",
       "<span style=\"color: #808000; text-decoration-color: #808000\">│</span> 🚀 <span style=\"color: #808000; text-decoration-color: #808000; font-weight: bold\">Initializing BIDSDatasetReader Class</span> <span style=\"color: #808000; text-decoration-color: #808000\">│</span>\n",
       "<span style=\"color: #808000; text-decoration-color: #808000\">╰─────────────────────────────────────────╯</span>\n",
       "</pre>\n"
      ],
      "text/plain": [
       "\u001b[33m╭─────────────────────────────────────────╮\u001b[0m\n",
       "\u001b[33m│\u001b[0m 🚀 \u001b[1;33mInitializing BIDSDatasetReader Class\u001b[0m \u001b[33m│\u001b[0m\n",
       "\u001b[33m╰─────────────────────────────────────────╯\u001b[0m\n"
      ]
     },
     "metadata": {},
     "output_type": "display_data"
    },
    {
     "data": {
      "text/html": [
       "<pre style=\"white-space:pre;overflow-x:auto;line-height:normal;font-family:Menlo,'DejaVu Sans Mono',consolas,'Courier New',monospace\"> <span style=\"color: #008000; text-decoration-color: #008000; font-weight: bold\">Loading Processed EEG Data: sub-</span><span style=\"color: #008000; text-decoration-color: #008000; font-weight: bold\">06</span><span style=\"color: #008000; text-decoration-color: #008000; font-weight: bold\"> ses-</span><span style=\"color: #008000; text-decoration-color: #008000; font-weight: bold\">01</span>\n",
       "</pre>\n"
      ],
      "text/plain": [
       " \u001b[1;32mLoading Processed EEG Data: sub-\u001b[0m\u001b[1;32m06\u001b[0m\u001b[1;32m ses-\u001b[0m\u001b[1;32m01\u001b[0m\n"
      ]
     },
     "metadata": {},
     "output_type": "display_data"
    },
    {
     "data": {
      "text/html": [
       "<pre style=\"white-space:pre;overflow-x:auto;line-height:normal;font-family:Menlo,'DejaVu Sans Mono',consolas,'Courier New',monospace\"><span style=\"color: #800000; text-decoration-color: #800000\">╭─────────────────────────────────────╮</span>\n",
       "<span style=\"color: #800000; text-decoration-color: #800000\">│</span>  <span style=\"color: #800000; text-decoration-color: #800000; font-weight: bold\">Initializing EEGEpochBuilder Class</span> <span style=\"color: #800000; text-decoration-color: #800000\">│</span>\n",
       "<span style=\"color: #800000; text-decoration-color: #800000\">╰─────────────────────────────────────╯</span>\n",
       "</pre>\n"
      ],
      "text/plain": [
       "\u001b[31m╭─────────────────────────────────────╮\u001b[0m\n",
       "\u001b[31m│\u001b[0m  \u001b[1;31mInitializing EEGEpochBuilder Class\u001b[0m \u001b[31m│\u001b[0m\n",
       "\u001b[31m╰─────────────────────────────────────╯\u001b[0m\n"
      ]
     },
     "metadata": {},
     "output_type": "display_data"
    },
    {
     "data": {
      "text/html": [
       "<pre style=\"white-space:pre;overflow-x:auto;line-height:normal;font-family:Menlo,'DejaVu Sans Mono',consolas,'Courier New',monospace\"> <span style=\"color: #008000; text-decoration-color: #008000; font-weight: bold\">Creating EPOCHS</span>\n",
       "</pre>\n"
      ],
      "text/plain": [
       " \u001b[1;32mCreating EPOCHS\u001b[0m\n"
      ]
     },
     "metadata": {},
     "output_type": "display_data"
    },
    {
     "data": {
      "text/html": [
       "<pre style=\"white-space:pre;overflow-x:auto;line-height:normal;font-family:Menlo,'DejaVu Sans Mono',consolas,'Courier New',monospace\"><span style=\"font-style: italic\">        Extraction Criteria        </span>\n",
       "┏━━━━━━━━━━━━━━━━━━━━┳━━━━━━━━━━━━┓\n",
       "┃<span style=\"font-weight: bold\"> Parameter          </span>┃<span style=\"font-weight: bold\"> Value      </span>┃\n",
       "┣━━━━━━━━━━━━━━━━━━━━╋━━━━━━━━━━━━┫\n",
       "┃<span style=\"color: #008080; text-decoration-color: #008080; font-weight: bold\"> 🧪 Trial Mode      </span>┃<span style=\"color: #808000; text-decoration-color: #808000; font-weight: bold\"> Real       </span>┃\n",
       "┃<span style=\"color: #008080; text-decoration-color: #008080; font-weight: bold\"> 📏 Trial Unit      </span>┃<span style=\"color: #808000; text-decoration-color: #808000; font-weight: bold\"> Words      </span>┃\n",
       "┃<span style=\"color: #008080; text-decoration-color: #008080; font-weight: bold\"> 🔗 Experiment Mode </span>┃<span style=\"color: #808000; text-decoration-color: #808000; font-weight: bold\"> Experiment </span>┃\n",
       "┃<span style=\"color: #008080; text-decoration-color: #008080; font-weight: bold\"> 🎭 Trial Boundary  </span>┃<span style=\"color: #808000; text-decoration-color: #808000; font-weight: bold\"> Start      </span>┃\n",
       "┃<span style=\"color: #008080; text-decoration-color: #008080; font-weight: bold\"> 🔬 Trial Type      </span>┃<span style=\"color: #808000; text-decoration-color: #808000; font-weight: bold\"> Speech     </span>┃\n",
       "┃<span style=\"color: #008080; text-decoration-color: #008080; font-weight: bold\"> 📊 Modality        </span>┃<span style=\"color: #808000; text-decoration-color: #808000; font-weight: bold\"> Audio      </span>┃\n",
       "┃<span style=\"color: #008080; text-decoration-color: #008080; font-weight: bold\"> ⏱ Tmin             </span>┃<span style=\"color: #808000; text-decoration-color: #808000; font-weight: bold\"> </span><span style=\"color: #008080; text-decoration-color: #008080; font-weight: bold\">-0.2</span><span style=\"color: #808000; text-decoration-color: #808000; font-weight: bold\">       </span>┃\n",
       "┃<span style=\"color: #008080; text-decoration-color: #008080; font-weight: bold\"> ⏳ Tmax            </span>┃<span style=\"color: #808000; text-decoration-color: #808000; font-weight: bold\"> </span><span style=\"color: #008080; text-decoration-color: #008080; font-weight: bold\">0.5</span><span style=\"color: #808000; text-decoration-color: #808000; font-weight: bold\">        </span>┃\n",
       "┗━━━━━━━━━━━━━━━━━━━━┻━━━━━━━━━━━━┛\n",
       "</pre>\n"
      ],
      "text/plain": [
       "\u001b[3m        Extraction Criteria        \u001b[0m\n",
       "┏━━━━━━━━━━━━━━━━━━━━┳━━━━━━━━━━━━┓\n",
       "┃\u001b[1m \u001b[0m\u001b[1mParameter         \u001b[0m\u001b[1m \u001b[0m┃\u001b[1m \u001b[0m\u001b[1mValue     \u001b[0m\u001b[1m \u001b[0m┃\n",
       "┣━━━━━━━━━━━━━━━━━━━━╋━━━━━━━━━━━━┫\n",
       "┃\u001b[1;36m \u001b[0m\u001b[1;36m🧪 Trial Mode     \u001b[0m\u001b[1;36m \u001b[0m┃\u001b[1;33m \u001b[0m\u001b[1;33mReal      \u001b[0m\u001b[1;33m \u001b[0m┃\n",
       "┃\u001b[1;36m \u001b[0m\u001b[1;36m📏 Trial Unit     \u001b[0m\u001b[1;36m \u001b[0m┃\u001b[1;33m \u001b[0m\u001b[1;33mWords     \u001b[0m\u001b[1;33m \u001b[0m┃\n",
       "┃\u001b[1;36m \u001b[0m\u001b[1;36m🔗 Experiment Mode\u001b[0m\u001b[1;36m \u001b[0m┃\u001b[1;33m \u001b[0m\u001b[1;33mExperiment\u001b[0m\u001b[1;33m \u001b[0m┃\n",
       "┃\u001b[1;36m \u001b[0m\u001b[1;36m🎭 Trial Boundary \u001b[0m\u001b[1;36m \u001b[0m┃\u001b[1;33m \u001b[0m\u001b[1;33mStart     \u001b[0m\u001b[1;33m \u001b[0m┃\n",
       "┃\u001b[1;36m \u001b[0m\u001b[1;36m🔬 Trial Type     \u001b[0m\u001b[1;36m \u001b[0m┃\u001b[1;33m \u001b[0m\u001b[1;33mSpeech    \u001b[0m\u001b[1;33m \u001b[0m┃\n",
       "┃\u001b[1;36m \u001b[0m\u001b[1;36m📊 Modality       \u001b[0m\u001b[1;36m \u001b[0m┃\u001b[1;33m \u001b[0m\u001b[1;33mAudio     \u001b[0m\u001b[1;33m \u001b[0m┃\n",
       "┃\u001b[1;36m \u001b[0m\u001b[1;36m⏱ Tmin            \u001b[0m\u001b[1;36m \u001b[0m┃\u001b[1;33m \u001b[0m\u001b[1;36m-0.2\u001b[0m\u001b[1;33m      \u001b[0m\u001b[1;33m \u001b[0m┃\n",
       "┃\u001b[1;36m \u001b[0m\u001b[1;36m⏳ Tmax           \u001b[0m\u001b[1;36m \u001b[0m┃\u001b[1;33m \u001b[0m\u001b[1;36m0.5\u001b[0m\u001b[1;33m       \u001b[0m\u001b[1;33m \u001b[0m┃\n",
       "┗━━━━━━━━━━━━━━━━━━━━┻━━━━━━━━━━━━┛\n"
      ]
     },
     "metadata": {},
     "output_type": "display_data"
    },
    {
     "name": "stdout",
     "output_type": "stream",
     "text": [
      "Not setting metadata\n",
      "95 matching events found\n",
      "Applying baseline correction (mode: mean)\n",
      "0 projection items activated\n",
      "Using data from preloaded Raw for 95 events and 701 original time points ...\n",
      "0 bad epochs dropped\n"
     ]
    },
    {
     "data": {
      "text/html": [
       "<pre style=\"white-space:pre;overflow-x:auto;line-height:normal;font-family:Menlo,'DejaVu Sans Mono',consolas,'Courier New',monospace\"><span style=\"color: #800000; text-decoration-color: #800000\">╭─────────────────────────────────────╮</span>\n",
       "<span style=\"color: #800000; text-decoration-color: #800000\">│</span>  <span style=\"color: #800000; text-decoration-color: #800000; font-weight: bold\">Initializing EEGEpochBuilder Class</span> <span style=\"color: #800000; text-decoration-color: #800000\">│</span>\n",
       "<span style=\"color: #800000; text-decoration-color: #800000\">╰─────────────────────────────────────╯</span>\n",
       "</pre>\n"
      ],
      "text/plain": [
       "\u001b[31m╭─────────────────────────────────────╮\u001b[0m\n",
       "\u001b[31m│\u001b[0m  \u001b[1;31mInitializing EEGEpochBuilder Class\u001b[0m \u001b[31m│\u001b[0m\n",
       "\u001b[31m╰─────────────────────────────────────╯\u001b[0m\n"
      ]
     },
     "metadata": {},
     "output_type": "display_data"
    },
    {
     "data": {
      "text/html": [
       "<pre style=\"white-space:pre;overflow-x:auto;line-height:normal;font-family:Menlo,'DejaVu Sans Mono',consolas,'Courier New',monospace\"> <span style=\"color: #008000; text-decoration-color: #008000; font-weight: bold\">Creating EPOCHS</span>\n",
       "</pre>\n"
      ],
      "text/plain": [
       " \u001b[1;32mCreating EPOCHS\u001b[0m\n"
      ]
     },
     "metadata": {},
     "output_type": "display_data"
    },
    {
     "data": {
      "text/html": [
       "<pre style=\"white-space:pre;overflow-x:auto;line-height:normal;font-family:Menlo,'DejaVu Sans Mono',consolas,'Courier New',monospace\"><span style=\"font-style: italic\">        Extraction Criteria        </span>\n",
       "┏━━━━━━━━━━━━━━━━━━━━┳━━━━━━━━━━━━┓\n",
       "┃<span style=\"font-weight: bold\"> Parameter          </span>┃<span style=\"font-weight: bold\"> Value      </span>┃\n",
       "┣━━━━━━━━━━━━━━━━━━━━╋━━━━━━━━━━━━┫\n",
       "┃<span style=\"color: #008080; text-decoration-color: #008080; font-weight: bold\"> 🧪 Trial Mode      </span>┃<span style=\"color: #808000; text-decoration-color: #808000; font-weight: bold\"> Silent     </span>┃\n",
       "┃<span style=\"color: #008080; text-decoration-color: #008080; font-weight: bold\"> 📏 Trial Unit      </span>┃<span style=\"color: #808000; text-decoration-color: #808000; font-weight: bold\"> Words      </span>┃\n",
       "┃<span style=\"color: #008080; text-decoration-color: #008080; font-weight: bold\"> 🔗 Experiment Mode </span>┃<span style=\"color: #808000; text-decoration-color: #808000; font-weight: bold\"> Experiment </span>┃\n",
       "┃<span style=\"color: #008080; text-decoration-color: #008080; font-weight: bold\"> 🎭 Trial Boundary  </span>┃<span style=\"color: #808000; text-decoration-color: #808000; font-weight: bold\"> Start      </span>┃\n",
       "┃<span style=\"color: #008080; text-decoration-color: #008080; font-weight: bold\"> 🔬 Trial Type      </span>┃<span style=\"color: #808000; text-decoration-color: #808000; font-weight: bold\"> Speech     </span>┃\n",
       "┃<span style=\"color: #008080; text-decoration-color: #008080; font-weight: bold\"> 📊 Modality        </span>┃<span style=\"color: #808000; text-decoration-color: #808000; font-weight: bold\"> Audio      </span>┃\n",
       "┃<span style=\"color: #008080; text-decoration-color: #008080; font-weight: bold\"> ⏱ Tmin             </span>┃<span style=\"color: #808000; text-decoration-color: #808000; font-weight: bold\"> </span><span style=\"color: #008080; text-decoration-color: #008080; font-weight: bold\">-0.2</span><span style=\"color: #808000; text-decoration-color: #808000; font-weight: bold\">       </span>┃\n",
       "┃<span style=\"color: #008080; text-decoration-color: #008080; font-weight: bold\"> ⏳ Tmax            </span>┃<span style=\"color: #808000; text-decoration-color: #808000; font-weight: bold\"> </span><span style=\"color: #008080; text-decoration-color: #008080; font-weight: bold\">0.5</span><span style=\"color: #808000; text-decoration-color: #808000; font-weight: bold\">        </span>┃\n",
       "┗━━━━━━━━━━━━━━━━━━━━┻━━━━━━━━━━━━┛\n",
       "</pre>\n"
      ],
      "text/plain": [
       "\u001b[3m        Extraction Criteria        \u001b[0m\n",
       "┏━━━━━━━━━━━━━━━━━━━━┳━━━━━━━━━━━━┓\n",
       "┃\u001b[1m \u001b[0m\u001b[1mParameter         \u001b[0m\u001b[1m \u001b[0m┃\u001b[1m \u001b[0m\u001b[1mValue     \u001b[0m\u001b[1m \u001b[0m┃\n",
       "┣━━━━━━━━━━━━━━━━━━━━╋━━━━━━━━━━━━┫\n",
       "┃\u001b[1;36m \u001b[0m\u001b[1;36m🧪 Trial Mode     \u001b[0m\u001b[1;36m \u001b[0m┃\u001b[1;33m \u001b[0m\u001b[1;33mSilent    \u001b[0m\u001b[1;33m \u001b[0m┃\n",
       "┃\u001b[1;36m \u001b[0m\u001b[1;36m📏 Trial Unit     \u001b[0m\u001b[1;36m \u001b[0m┃\u001b[1;33m \u001b[0m\u001b[1;33mWords     \u001b[0m\u001b[1;33m \u001b[0m┃\n",
       "┃\u001b[1;36m \u001b[0m\u001b[1;36m🔗 Experiment Mode\u001b[0m\u001b[1;36m \u001b[0m┃\u001b[1;33m \u001b[0m\u001b[1;33mExperiment\u001b[0m\u001b[1;33m \u001b[0m┃\n",
       "┃\u001b[1;36m \u001b[0m\u001b[1;36m🎭 Trial Boundary \u001b[0m\u001b[1;36m \u001b[0m┃\u001b[1;33m \u001b[0m\u001b[1;33mStart     \u001b[0m\u001b[1;33m \u001b[0m┃\n",
       "┃\u001b[1;36m \u001b[0m\u001b[1;36m🔬 Trial Type     \u001b[0m\u001b[1;36m \u001b[0m┃\u001b[1;33m \u001b[0m\u001b[1;33mSpeech    \u001b[0m\u001b[1;33m \u001b[0m┃\n",
       "┃\u001b[1;36m \u001b[0m\u001b[1;36m📊 Modality       \u001b[0m\u001b[1;36m \u001b[0m┃\u001b[1;33m \u001b[0m\u001b[1;33mAudio     \u001b[0m\u001b[1;33m \u001b[0m┃\n",
       "┃\u001b[1;36m \u001b[0m\u001b[1;36m⏱ Tmin            \u001b[0m\u001b[1;36m \u001b[0m┃\u001b[1;33m \u001b[0m\u001b[1;36m-0.2\u001b[0m\u001b[1;33m      \u001b[0m\u001b[1;33m \u001b[0m┃\n",
       "┃\u001b[1;36m \u001b[0m\u001b[1;36m⏳ Tmax           \u001b[0m\u001b[1;36m \u001b[0m┃\u001b[1;33m \u001b[0m\u001b[1;36m0.5\u001b[0m\u001b[1;33m       \u001b[0m\u001b[1;33m \u001b[0m┃\n",
       "┗━━━━━━━━━━━━━━━━━━━━┻━━━━━━━━━━━━┛\n"
      ]
     },
     "metadata": {},
     "output_type": "display_data"
    },
    {
     "name": "stdout",
     "output_type": "stream",
     "text": [
      "Not setting metadata\n",
      "95 matching events found\n",
      "Applying baseline correction (mode: mean)\n",
      "0 projection items activated\n",
      "Using data from preloaded Raw for 95 events and 701 original time points ...\n",
      "0 bad epochs dropped\n",
      "NOTE: pick_channels() is a legacy function. New code should use inst.pick(...).\n",
      "NOTE: pick_channels() is a legacy function. New code should use inst.pick(...).\n",
      "Overt P100: latency=0.117s, peak=1.33µV, mean=0.72µV\n",
      "Covert P100: latency=0.320s, peak=1.92µV, mean=1.26µV\n",
      "Initializing Plotter\n",
      "Results saved to p100_results/sub-06_ses-01_p100_Overt_Covert.csv\n"
     ]
    },
    {
     "data": {
      "text/html": [
       "<pre style=\"white-space:pre;overflow-x:auto;line-height:normal;font-family:Menlo,'DejaVu Sans Mono',consolas,'Courier New',monospace\"><span style=\"color: #808000; text-decoration-color: #808000\">╭─────────────────────────────────────────╮</span>\n",
       "<span style=\"color: #808000; text-decoration-color: #808000\">│</span> 🚀 <span style=\"color: #808000; text-decoration-color: #808000; font-weight: bold\">Initializing BIDSDatasetReader Class</span> <span style=\"color: #808000; text-decoration-color: #808000\">│</span>\n",
       "<span style=\"color: #808000; text-decoration-color: #808000\">╰─────────────────────────────────────────╯</span>\n",
       "</pre>\n"
      ],
      "text/plain": [
       "\u001b[33m╭─────────────────────────────────────────╮\u001b[0m\n",
       "\u001b[33m│\u001b[0m 🚀 \u001b[1;33mInitializing BIDSDatasetReader Class\u001b[0m \u001b[33m│\u001b[0m\n",
       "\u001b[33m╰─────────────────────────────────────────╯\u001b[0m\n"
      ]
     },
     "metadata": {},
     "output_type": "display_data"
    },
    {
     "data": {
      "text/html": [
       "<pre style=\"white-space:pre;overflow-x:auto;line-height:normal;font-family:Menlo,'DejaVu Sans Mono',consolas,'Courier New',monospace\"> <span style=\"color: #008000; text-decoration-color: #008000; font-weight: bold\">Loading Processed EEG Data: sub-</span><span style=\"color: #008000; text-decoration-color: #008000; font-weight: bold\">06</span><span style=\"color: #008000; text-decoration-color: #008000; font-weight: bold\"> ses-</span><span style=\"color: #008000; text-decoration-color: #008000; font-weight: bold\">02</span>\n",
       "</pre>\n"
      ],
      "text/plain": [
       " \u001b[1;32mLoading Processed EEG Data: sub-\u001b[0m\u001b[1;32m06\u001b[0m\u001b[1;32m ses-\u001b[0m\u001b[1;32m02\u001b[0m\n"
      ]
     },
     "metadata": {},
     "output_type": "display_data"
    },
    {
     "data": {
      "text/html": [
       "<pre style=\"white-space:pre;overflow-x:auto;line-height:normal;font-family:Menlo,'DejaVu Sans Mono',consolas,'Courier New',monospace\"><span style=\"color: #800000; text-decoration-color: #800000\">╭─────────────────────────────────────╮</span>\n",
       "<span style=\"color: #800000; text-decoration-color: #800000\">│</span>  <span style=\"color: #800000; text-decoration-color: #800000; font-weight: bold\">Initializing EEGEpochBuilder Class</span> <span style=\"color: #800000; text-decoration-color: #800000\">│</span>\n",
       "<span style=\"color: #800000; text-decoration-color: #800000\">╰─────────────────────────────────────╯</span>\n",
       "</pre>\n"
      ],
      "text/plain": [
       "\u001b[31m╭─────────────────────────────────────╮\u001b[0m\n",
       "\u001b[31m│\u001b[0m  \u001b[1;31mInitializing EEGEpochBuilder Class\u001b[0m \u001b[31m│\u001b[0m\n",
       "\u001b[31m╰─────────────────────────────────────╯\u001b[0m\n"
      ]
     },
     "metadata": {},
     "output_type": "display_data"
    },
    {
     "data": {
      "text/html": [
       "<pre style=\"white-space:pre;overflow-x:auto;line-height:normal;font-family:Menlo,'DejaVu Sans Mono',consolas,'Courier New',monospace\"> <span style=\"color: #008000; text-decoration-color: #008000; font-weight: bold\">Creating EPOCHS</span>\n",
       "</pre>\n"
      ],
      "text/plain": [
       " \u001b[1;32mCreating EPOCHS\u001b[0m\n"
      ]
     },
     "metadata": {},
     "output_type": "display_data"
    },
    {
     "data": {
      "text/html": [
       "<pre style=\"white-space:pre;overflow-x:auto;line-height:normal;font-family:Menlo,'DejaVu Sans Mono',consolas,'Courier New',monospace\"><span style=\"font-style: italic\">        Extraction Criteria        </span>\n",
       "┏━━━━━━━━━━━━━━━━━━━━┳━━━━━━━━━━━━┓\n",
       "┃<span style=\"font-weight: bold\"> Parameter          </span>┃<span style=\"font-weight: bold\"> Value      </span>┃\n",
       "┣━━━━━━━━━━━━━━━━━━━━╋━━━━━━━━━━━━┫\n",
       "┃<span style=\"color: #008080; text-decoration-color: #008080; font-weight: bold\"> 🧪 Trial Mode      </span>┃<span style=\"color: #808000; text-decoration-color: #808000; font-weight: bold\"> Real       </span>┃\n",
       "┃<span style=\"color: #008080; text-decoration-color: #008080; font-weight: bold\"> 📏 Trial Unit      </span>┃<span style=\"color: #808000; text-decoration-color: #808000; font-weight: bold\"> Words      </span>┃\n",
       "┃<span style=\"color: #008080; text-decoration-color: #008080; font-weight: bold\"> 🔗 Experiment Mode </span>┃<span style=\"color: #808000; text-decoration-color: #808000; font-weight: bold\"> Experiment </span>┃\n",
       "┃<span style=\"color: #008080; text-decoration-color: #008080; font-weight: bold\"> 🎭 Trial Boundary  </span>┃<span style=\"color: #808000; text-decoration-color: #808000; font-weight: bold\"> Start      </span>┃\n",
       "┃<span style=\"color: #008080; text-decoration-color: #008080; font-weight: bold\"> 🔬 Trial Type      </span>┃<span style=\"color: #808000; text-decoration-color: #808000; font-weight: bold\"> Speech     </span>┃\n",
       "┃<span style=\"color: #008080; text-decoration-color: #008080; font-weight: bold\"> 📊 Modality        </span>┃<span style=\"color: #808000; text-decoration-color: #808000; font-weight: bold\"> Audio      </span>┃\n",
       "┃<span style=\"color: #008080; text-decoration-color: #008080; font-weight: bold\"> ⏱ Tmin             </span>┃<span style=\"color: #808000; text-decoration-color: #808000; font-weight: bold\"> </span><span style=\"color: #008080; text-decoration-color: #008080; font-weight: bold\">-0.2</span><span style=\"color: #808000; text-decoration-color: #808000; font-weight: bold\">       </span>┃\n",
       "┃<span style=\"color: #008080; text-decoration-color: #008080; font-weight: bold\"> ⏳ Tmax            </span>┃<span style=\"color: #808000; text-decoration-color: #808000; font-weight: bold\"> </span><span style=\"color: #008080; text-decoration-color: #008080; font-weight: bold\">0.5</span><span style=\"color: #808000; text-decoration-color: #808000; font-weight: bold\">        </span>┃\n",
       "┗━━━━━━━━━━━━━━━━━━━━┻━━━━━━━━━━━━┛\n",
       "</pre>\n"
      ],
      "text/plain": [
       "\u001b[3m        Extraction Criteria        \u001b[0m\n",
       "┏━━━━━━━━━━━━━━━━━━━━┳━━━━━━━━━━━━┓\n",
       "┃\u001b[1m \u001b[0m\u001b[1mParameter         \u001b[0m\u001b[1m \u001b[0m┃\u001b[1m \u001b[0m\u001b[1mValue     \u001b[0m\u001b[1m \u001b[0m┃\n",
       "┣━━━━━━━━━━━━━━━━━━━━╋━━━━━━━━━━━━┫\n",
       "┃\u001b[1;36m \u001b[0m\u001b[1;36m🧪 Trial Mode     \u001b[0m\u001b[1;36m \u001b[0m┃\u001b[1;33m \u001b[0m\u001b[1;33mReal      \u001b[0m\u001b[1;33m \u001b[0m┃\n",
       "┃\u001b[1;36m \u001b[0m\u001b[1;36m📏 Trial Unit     \u001b[0m\u001b[1;36m \u001b[0m┃\u001b[1;33m \u001b[0m\u001b[1;33mWords     \u001b[0m\u001b[1;33m \u001b[0m┃\n",
       "┃\u001b[1;36m \u001b[0m\u001b[1;36m🔗 Experiment Mode\u001b[0m\u001b[1;36m \u001b[0m┃\u001b[1;33m \u001b[0m\u001b[1;33mExperiment\u001b[0m\u001b[1;33m \u001b[0m┃\n",
       "┃\u001b[1;36m \u001b[0m\u001b[1;36m🎭 Trial Boundary \u001b[0m\u001b[1;36m \u001b[0m┃\u001b[1;33m \u001b[0m\u001b[1;33mStart     \u001b[0m\u001b[1;33m \u001b[0m┃\n",
       "┃\u001b[1;36m \u001b[0m\u001b[1;36m🔬 Trial Type     \u001b[0m\u001b[1;36m \u001b[0m┃\u001b[1;33m \u001b[0m\u001b[1;33mSpeech    \u001b[0m\u001b[1;33m \u001b[0m┃\n",
       "┃\u001b[1;36m \u001b[0m\u001b[1;36m📊 Modality       \u001b[0m\u001b[1;36m \u001b[0m┃\u001b[1;33m \u001b[0m\u001b[1;33mAudio     \u001b[0m\u001b[1;33m \u001b[0m┃\n",
       "┃\u001b[1;36m \u001b[0m\u001b[1;36m⏱ Tmin            \u001b[0m\u001b[1;36m \u001b[0m┃\u001b[1;33m \u001b[0m\u001b[1;36m-0.2\u001b[0m\u001b[1;33m      \u001b[0m\u001b[1;33m \u001b[0m┃\n",
       "┃\u001b[1;36m \u001b[0m\u001b[1;36m⏳ Tmax           \u001b[0m\u001b[1;36m \u001b[0m┃\u001b[1;33m \u001b[0m\u001b[1;36m0.5\u001b[0m\u001b[1;33m       \u001b[0m\u001b[1;33m \u001b[0m┃\n",
       "┗━━━━━━━━━━━━━━━━━━━━┻━━━━━━━━━━━━┛\n"
      ]
     },
     "metadata": {},
     "output_type": "display_data"
    },
    {
     "name": "stdout",
     "output_type": "stream",
     "text": [
      "Not setting metadata\n",
      "95 matching events found\n",
      "Applying baseline correction (mode: mean)\n",
      "0 projection items activated\n",
      "Using data from preloaded Raw for 95 events and 701 original time points ...\n",
      "0 bad epochs dropped\n"
     ]
    },
    {
     "data": {
      "text/html": [
       "<pre style=\"white-space:pre;overflow-x:auto;line-height:normal;font-family:Menlo,'DejaVu Sans Mono',consolas,'Courier New',monospace\"><span style=\"color: #800000; text-decoration-color: #800000\">╭─────────────────────────────────────╮</span>\n",
       "<span style=\"color: #800000; text-decoration-color: #800000\">│</span>  <span style=\"color: #800000; text-decoration-color: #800000; font-weight: bold\">Initializing EEGEpochBuilder Class</span> <span style=\"color: #800000; text-decoration-color: #800000\">│</span>\n",
       "<span style=\"color: #800000; text-decoration-color: #800000\">╰─────────────────────────────────────╯</span>\n",
       "</pre>\n"
      ],
      "text/plain": [
       "\u001b[31m╭─────────────────────────────────────╮\u001b[0m\n",
       "\u001b[31m│\u001b[0m  \u001b[1;31mInitializing EEGEpochBuilder Class\u001b[0m \u001b[31m│\u001b[0m\n",
       "\u001b[31m╰─────────────────────────────────────╯\u001b[0m\n"
      ]
     },
     "metadata": {},
     "output_type": "display_data"
    },
    {
     "data": {
      "text/html": [
       "<pre style=\"white-space:pre;overflow-x:auto;line-height:normal;font-family:Menlo,'DejaVu Sans Mono',consolas,'Courier New',monospace\"> <span style=\"color: #008000; text-decoration-color: #008000; font-weight: bold\">Creating EPOCHS</span>\n",
       "</pre>\n"
      ],
      "text/plain": [
       " \u001b[1;32mCreating EPOCHS\u001b[0m\n"
      ]
     },
     "metadata": {},
     "output_type": "display_data"
    },
    {
     "data": {
      "text/html": [
       "<pre style=\"white-space:pre;overflow-x:auto;line-height:normal;font-family:Menlo,'DejaVu Sans Mono',consolas,'Courier New',monospace\"><span style=\"font-style: italic\">        Extraction Criteria        </span>\n",
       "┏━━━━━━━━━━━━━━━━━━━━┳━━━━━━━━━━━━┓\n",
       "┃<span style=\"font-weight: bold\"> Parameter          </span>┃<span style=\"font-weight: bold\"> Value      </span>┃\n",
       "┣━━━━━━━━━━━━━━━━━━━━╋━━━━━━━━━━━━┫\n",
       "┃<span style=\"color: #008080; text-decoration-color: #008080; font-weight: bold\"> 🧪 Trial Mode      </span>┃<span style=\"color: #808000; text-decoration-color: #808000; font-weight: bold\"> Silent     </span>┃\n",
       "┃<span style=\"color: #008080; text-decoration-color: #008080; font-weight: bold\"> 📏 Trial Unit      </span>┃<span style=\"color: #808000; text-decoration-color: #808000; font-weight: bold\"> Words      </span>┃\n",
       "┃<span style=\"color: #008080; text-decoration-color: #008080; font-weight: bold\"> 🔗 Experiment Mode </span>┃<span style=\"color: #808000; text-decoration-color: #808000; font-weight: bold\"> Experiment </span>┃\n",
       "┃<span style=\"color: #008080; text-decoration-color: #008080; font-weight: bold\"> 🎭 Trial Boundary  </span>┃<span style=\"color: #808000; text-decoration-color: #808000; font-weight: bold\"> Start      </span>┃\n",
       "┃<span style=\"color: #008080; text-decoration-color: #008080; font-weight: bold\"> 🔬 Trial Type      </span>┃<span style=\"color: #808000; text-decoration-color: #808000; font-weight: bold\"> Speech     </span>┃\n",
       "┃<span style=\"color: #008080; text-decoration-color: #008080; font-weight: bold\"> 📊 Modality        </span>┃<span style=\"color: #808000; text-decoration-color: #808000; font-weight: bold\"> Audio      </span>┃\n",
       "┃<span style=\"color: #008080; text-decoration-color: #008080; font-weight: bold\"> ⏱ Tmin             </span>┃<span style=\"color: #808000; text-decoration-color: #808000; font-weight: bold\"> </span><span style=\"color: #008080; text-decoration-color: #008080; font-weight: bold\">-0.2</span><span style=\"color: #808000; text-decoration-color: #808000; font-weight: bold\">       </span>┃\n",
       "┃<span style=\"color: #008080; text-decoration-color: #008080; font-weight: bold\"> ⏳ Tmax            </span>┃<span style=\"color: #808000; text-decoration-color: #808000; font-weight: bold\"> </span><span style=\"color: #008080; text-decoration-color: #008080; font-weight: bold\">0.5</span><span style=\"color: #808000; text-decoration-color: #808000; font-weight: bold\">        </span>┃\n",
       "┗━━━━━━━━━━━━━━━━━━━━┻━━━━━━━━━━━━┛\n",
       "</pre>\n"
      ],
      "text/plain": [
       "\u001b[3m        Extraction Criteria        \u001b[0m\n",
       "┏━━━━━━━━━━━━━━━━━━━━┳━━━━━━━━━━━━┓\n",
       "┃\u001b[1m \u001b[0m\u001b[1mParameter         \u001b[0m\u001b[1m \u001b[0m┃\u001b[1m \u001b[0m\u001b[1mValue     \u001b[0m\u001b[1m \u001b[0m┃\n",
       "┣━━━━━━━━━━━━━━━━━━━━╋━━━━━━━━━━━━┫\n",
       "┃\u001b[1;36m \u001b[0m\u001b[1;36m🧪 Trial Mode     \u001b[0m\u001b[1;36m \u001b[0m┃\u001b[1;33m \u001b[0m\u001b[1;33mSilent    \u001b[0m\u001b[1;33m \u001b[0m┃\n",
       "┃\u001b[1;36m \u001b[0m\u001b[1;36m📏 Trial Unit     \u001b[0m\u001b[1;36m \u001b[0m┃\u001b[1;33m \u001b[0m\u001b[1;33mWords     \u001b[0m\u001b[1;33m \u001b[0m┃\n",
       "┃\u001b[1;36m \u001b[0m\u001b[1;36m🔗 Experiment Mode\u001b[0m\u001b[1;36m \u001b[0m┃\u001b[1;33m \u001b[0m\u001b[1;33mExperiment\u001b[0m\u001b[1;33m \u001b[0m┃\n",
       "┃\u001b[1;36m \u001b[0m\u001b[1;36m🎭 Trial Boundary \u001b[0m\u001b[1;36m \u001b[0m┃\u001b[1;33m \u001b[0m\u001b[1;33mStart     \u001b[0m\u001b[1;33m \u001b[0m┃\n",
       "┃\u001b[1;36m \u001b[0m\u001b[1;36m🔬 Trial Type     \u001b[0m\u001b[1;36m \u001b[0m┃\u001b[1;33m \u001b[0m\u001b[1;33mSpeech    \u001b[0m\u001b[1;33m \u001b[0m┃\n",
       "┃\u001b[1;36m \u001b[0m\u001b[1;36m📊 Modality       \u001b[0m\u001b[1;36m \u001b[0m┃\u001b[1;33m \u001b[0m\u001b[1;33mAudio     \u001b[0m\u001b[1;33m \u001b[0m┃\n",
       "┃\u001b[1;36m \u001b[0m\u001b[1;36m⏱ Tmin            \u001b[0m\u001b[1;36m \u001b[0m┃\u001b[1;33m \u001b[0m\u001b[1;36m-0.2\u001b[0m\u001b[1;33m      \u001b[0m\u001b[1;33m \u001b[0m┃\n",
       "┃\u001b[1;36m \u001b[0m\u001b[1;36m⏳ Tmax           \u001b[0m\u001b[1;36m \u001b[0m┃\u001b[1;33m \u001b[0m\u001b[1;36m0.5\u001b[0m\u001b[1;33m       \u001b[0m\u001b[1;33m \u001b[0m┃\n",
       "┗━━━━━━━━━━━━━━━━━━━━┻━━━━━━━━━━━━┛\n"
      ]
     },
     "metadata": {},
     "output_type": "display_data"
    },
    {
     "name": "stdout",
     "output_type": "stream",
     "text": [
      "Not setting metadata\n",
      "95 matching events found\n",
      "Applying baseline correction (mode: mean)\n",
      "0 projection items activated\n",
      "Using data from preloaded Raw for 95 events and 701 original time points ...\n",
      "0 bad epochs dropped\n",
      "NOTE: pick_channels() is a legacy function. New code should use inst.pick(...).\n",
      "NOTE: pick_channels() is a legacy function. New code should use inst.pick(...).\n",
      "Overt P100: latency=0.116s, peak=2.51µV, mean=1.81µV\n",
      "Covert P100: latency=0.306s, peak=1.35µV, mean=0.87µV\n",
      "Initializing Plotter\n",
      "Results saved to p100_results/sub-06_ses-02_p100_Overt_Covert.csv\n"
     ]
    },
    {
     "data": {
      "text/html": [
       "<pre style=\"white-space:pre;overflow-x:auto;line-height:normal;font-family:Menlo,'DejaVu Sans Mono',consolas,'Courier New',monospace\"><span style=\"color: #808000; text-decoration-color: #808000\">╭─────────────────────────────────────────╮</span>\n",
       "<span style=\"color: #808000; text-decoration-color: #808000\">│</span> 🚀 <span style=\"color: #808000; text-decoration-color: #808000; font-weight: bold\">Initializing BIDSDatasetReader Class</span> <span style=\"color: #808000; text-decoration-color: #808000\">│</span>\n",
       "<span style=\"color: #808000; text-decoration-color: #808000\">╰─────────────────────────────────────────╯</span>\n",
       "</pre>\n"
      ],
      "text/plain": [
       "\u001b[33m╭─────────────────────────────────────────╮\u001b[0m\n",
       "\u001b[33m│\u001b[0m 🚀 \u001b[1;33mInitializing BIDSDatasetReader Class\u001b[0m \u001b[33m│\u001b[0m\n",
       "\u001b[33m╰─────────────────────────────────────────╯\u001b[0m\n"
      ]
     },
     "metadata": {},
     "output_type": "display_data"
    },
    {
     "data": {
      "text/html": [
       "<pre style=\"white-space:pre;overflow-x:auto;line-height:normal;font-family:Menlo,'DejaVu Sans Mono',consolas,'Courier New',monospace\"> <span style=\"color: #008000; text-decoration-color: #008000; font-weight: bold\">Loading Processed EEG Data: sub-</span><span style=\"color: #008000; text-decoration-color: #008000; font-weight: bold\">07</span><span style=\"color: #008000; text-decoration-color: #008000; font-weight: bold\"> ses-</span><span style=\"color: #008000; text-decoration-color: #008000; font-weight: bold\">01</span>\n",
       "</pre>\n"
      ],
      "text/plain": [
       " \u001b[1;32mLoading Processed EEG Data: sub-\u001b[0m\u001b[1;32m07\u001b[0m\u001b[1;32m ses-\u001b[0m\u001b[1;32m01\u001b[0m\n"
      ]
     },
     "metadata": {},
     "output_type": "display_data"
    },
    {
     "data": {
      "text/html": [
       "<pre style=\"white-space:pre;overflow-x:auto;line-height:normal;font-family:Menlo,'DejaVu Sans Mono',consolas,'Courier New',monospace\"><span style=\"color: #800000; text-decoration-color: #800000\">╭─────────────────────────────────────╮</span>\n",
       "<span style=\"color: #800000; text-decoration-color: #800000\">│</span>  <span style=\"color: #800000; text-decoration-color: #800000; font-weight: bold\">Initializing EEGEpochBuilder Class</span> <span style=\"color: #800000; text-decoration-color: #800000\">│</span>\n",
       "<span style=\"color: #800000; text-decoration-color: #800000\">╰─────────────────────────────────────╯</span>\n",
       "</pre>\n"
      ],
      "text/plain": [
       "\u001b[31m╭─────────────────────────────────────╮\u001b[0m\n",
       "\u001b[31m│\u001b[0m  \u001b[1;31mInitializing EEGEpochBuilder Class\u001b[0m \u001b[31m│\u001b[0m\n",
       "\u001b[31m╰─────────────────────────────────────╯\u001b[0m\n"
      ]
     },
     "metadata": {},
     "output_type": "display_data"
    },
    {
     "data": {
      "text/html": [
       "<pre style=\"white-space:pre;overflow-x:auto;line-height:normal;font-family:Menlo,'DejaVu Sans Mono',consolas,'Courier New',monospace\"> <span style=\"color: #008000; text-decoration-color: #008000; font-weight: bold\">Creating EPOCHS</span>\n",
       "</pre>\n"
      ],
      "text/plain": [
       " \u001b[1;32mCreating EPOCHS\u001b[0m\n"
      ]
     },
     "metadata": {},
     "output_type": "display_data"
    },
    {
     "data": {
      "text/html": [
       "<pre style=\"white-space:pre;overflow-x:auto;line-height:normal;font-family:Menlo,'DejaVu Sans Mono',consolas,'Courier New',monospace\"><span style=\"font-style: italic\">        Extraction Criteria        </span>\n",
       "┏━━━━━━━━━━━━━━━━━━━━┳━━━━━━━━━━━━┓\n",
       "┃<span style=\"font-weight: bold\"> Parameter          </span>┃<span style=\"font-weight: bold\"> Value      </span>┃\n",
       "┣━━━━━━━━━━━━━━━━━━━━╋━━━━━━━━━━━━┫\n",
       "┃<span style=\"color: #008080; text-decoration-color: #008080; font-weight: bold\"> 🧪 Trial Mode      </span>┃<span style=\"color: #808000; text-decoration-color: #808000; font-weight: bold\"> Real       </span>┃\n",
       "┃<span style=\"color: #008080; text-decoration-color: #008080; font-weight: bold\"> 📏 Trial Unit      </span>┃<span style=\"color: #808000; text-decoration-color: #808000; font-weight: bold\"> Words      </span>┃\n",
       "┃<span style=\"color: #008080; text-decoration-color: #008080; font-weight: bold\"> 🔗 Experiment Mode </span>┃<span style=\"color: #808000; text-decoration-color: #808000; font-weight: bold\"> Experiment </span>┃\n",
       "┃<span style=\"color: #008080; text-decoration-color: #008080; font-weight: bold\"> 🎭 Trial Boundary  </span>┃<span style=\"color: #808000; text-decoration-color: #808000; font-weight: bold\"> Start      </span>┃\n",
       "┃<span style=\"color: #008080; text-decoration-color: #008080; font-weight: bold\"> 🔬 Trial Type      </span>┃<span style=\"color: #808000; text-decoration-color: #808000; font-weight: bold\"> Speech     </span>┃\n",
       "┃<span style=\"color: #008080; text-decoration-color: #008080; font-weight: bold\"> 📊 Modality        </span>┃<span style=\"color: #808000; text-decoration-color: #808000; font-weight: bold\"> Audio      </span>┃\n",
       "┃<span style=\"color: #008080; text-decoration-color: #008080; font-weight: bold\"> ⏱ Tmin             </span>┃<span style=\"color: #808000; text-decoration-color: #808000; font-weight: bold\"> </span><span style=\"color: #008080; text-decoration-color: #008080; font-weight: bold\">-0.2</span><span style=\"color: #808000; text-decoration-color: #808000; font-weight: bold\">       </span>┃\n",
       "┃<span style=\"color: #008080; text-decoration-color: #008080; font-weight: bold\"> ⏳ Tmax            </span>┃<span style=\"color: #808000; text-decoration-color: #808000; font-weight: bold\"> </span><span style=\"color: #008080; text-decoration-color: #008080; font-weight: bold\">0.5</span><span style=\"color: #808000; text-decoration-color: #808000; font-weight: bold\">        </span>┃\n",
       "┗━━━━━━━━━━━━━━━━━━━━┻━━━━━━━━━━━━┛\n",
       "</pre>\n"
      ],
      "text/plain": [
       "\u001b[3m        Extraction Criteria        \u001b[0m\n",
       "┏━━━━━━━━━━━━━━━━━━━━┳━━━━━━━━━━━━┓\n",
       "┃\u001b[1m \u001b[0m\u001b[1mParameter         \u001b[0m\u001b[1m \u001b[0m┃\u001b[1m \u001b[0m\u001b[1mValue     \u001b[0m\u001b[1m \u001b[0m┃\n",
       "┣━━━━━━━━━━━━━━━━━━━━╋━━━━━━━━━━━━┫\n",
       "┃\u001b[1;36m \u001b[0m\u001b[1;36m🧪 Trial Mode     \u001b[0m\u001b[1;36m \u001b[0m┃\u001b[1;33m \u001b[0m\u001b[1;33mReal      \u001b[0m\u001b[1;33m \u001b[0m┃\n",
       "┃\u001b[1;36m \u001b[0m\u001b[1;36m📏 Trial Unit     \u001b[0m\u001b[1;36m \u001b[0m┃\u001b[1;33m \u001b[0m\u001b[1;33mWords     \u001b[0m\u001b[1;33m \u001b[0m┃\n",
       "┃\u001b[1;36m \u001b[0m\u001b[1;36m🔗 Experiment Mode\u001b[0m\u001b[1;36m \u001b[0m┃\u001b[1;33m \u001b[0m\u001b[1;33mExperiment\u001b[0m\u001b[1;33m \u001b[0m┃\n",
       "┃\u001b[1;36m \u001b[0m\u001b[1;36m🎭 Trial Boundary \u001b[0m\u001b[1;36m \u001b[0m┃\u001b[1;33m \u001b[0m\u001b[1;33mStart     \u001b[0m\u001b[1;33m \u001b[0m┃\n",
       "┃\u001b[1;36m \u001b[0m\u001b[1;36m🔬 Trial Type     \u001b[0m\u001b[1;36m \u001b[0m┃\u001b[1;33m \u001b[0m\u001b[1;33mSpeech    \u001b[0m\u001b[1;33m \u001b[0m┃\n",
       "┃\u001b[1;36m \u001b[0m\u001b[1;36m📊 Modality       \u001b[0m\u001b[1;36m \u001b[0m┃\u001b[1;33m \u001b[0m\u001b[1;33mAudio     \u001b[0m\u001b[1;33m \u001b[0m┃\n",
       "┃\u001b[1;36m \u001b[0m\u001b[1;36m⏱ Tmin            \u001b[0m\u001b[1;36m \u001b[0m┃\u001b[1;33m \u001b[0m\u001b[1;36m-0.2\u001b[0m\u001b[1;33m      \u001b[0m\u001b[1;33m \u001b[0m┃\n",
       "┃\u001b[1;36m \u001b[0m\u001b[1;36m⏳ Tmax           \u001b[0m\u001b[1;36m \u001b[0m┃\u001b[1;33m \u001b[0m\u001b[1;36m0.5\u001b[0m\u001b[1;33m       \u001b[0m\u001b[1;33m \u001b[0m┃\n",
       "┗━━━━━━━━━━━━━━━━━━━━┻━━━━━━━━━━━━┛\n"
      ]
     },
     "metadata": {},
     "output_type": "display_data"
    },
    {
     "name": "stdout",
     "output_type": "stream",
     "text": [
      "Not setting metadata\n",
      "95 matching events found\n",
      "Applying baseline correction (mode: mean)\n",
      "0 projection items activated\n",
      "Using data from preloaded Raw for 95 events and 701 original time points ...\n",
      "0 bad epochs dropped\n"
     ]
    },
    {
     "data": {
      "text/html": [
       "<pre style=\"white-space:pre;overflow-x:auto;line-height:normal;font-family:Menlo,'DejaVu Sans Mono',consolas,'Courier New',monospace\"><span style=\"color: #800000; text-decoration-color: #800000\">╭─────────────────────────────────────╮</span>\n",
       "<span style=\"color: #800000; text-decoration-color: #800000\">│</span>  <span style=\"color: #800000; text-decoration-color: #800000; font-weight: bold\">Initializing EEGEpochBuilder Class</span> <span style=\"color: #800000; text-decoration-color: #800000\">│</span>\n",
       "<span style=\"color: #800000; text-decoration-color: #800000\">╰─────────────────────────────────────╯</span>\n",
       "</pre>\n"
      ],
      "text/plain": [
       "\u001b[31m╭─────────────────────────────────────╮\u001b[0m\n",
       "\u001b[31m│\u001b[0m  \u001b[1;31mInitializing EEGEpochBuilder Class\u001b[0m \u001b[31m│\u001b[0m\n",
       "\u001b[31m╰─────────────────────────────────────╯\u001b[0m\n"
      ]
     },
     "metadata": {},
     "output_type": "display_data"
    },
    {
     "data": {
      "text/html": [
       "<pre style=\"white-space:pre;overflow-x:auto;line-height:normal;font-family:Menlo,'DejaVu Sans Mono',consolas,'Courier New',monospace\"> <span style=\"color: #008000; text-decoration-color: #008000; font-weight: bold\">Creating EPOCHS</span>\n",
       "</pre>\n"
      ],
      "text/plain": [
       " \u001b[1;32mCreating EPOCHS\u001b[0m\n"
      ]
     },
     "metadata": {},
     "output_type": "display_data"
    },
    {
     "data": {
      "text/html": [
       "<pre style=\"white-space:pre;overflow-x:auto;line-height:normal;font-family:Menlo,'DejaVu Sans Mono',consolas,'Courier New',monospace\"><span style=\"font-style: italic\">        Extraction Criteria        </span>\n",
       "┏━━━━━━━━━━━━━━━━━━━━┳━━━━━━━━━━━━┓\n",
       "┃<span style=\"font-weight: bold\"> Parameter          </span>┃<span style=\"font-weight: bold\"> Value      </span>┃\n",
       "┣━━━━━━━━━━━━━━━━━━━━╋━━━━━━━━━━━━┫\n",
       "┃<span style=\"color: #008080; text-decoration-color: #008080; font-weight: bold\"> 🧪 Trial Mode      </span>┃<span style=\"color: #808000; text-decoration-color: #808000; font-weight: bold\"> Silent     </span>┃\n",
       "┃<span style=\"color: #008080; text-decoration-color: #008080; font-weight: bold\"> 📏 Trial Unit      </span>┃<span style=\"color: #808000; text-decoration-color: #808000; font-weight: bold\"> Words      </span>┃\n",
       "┃<span style=\"color: #008080; text-decoration-color: #008080; font-weight: bold\"> 🔗 Experiment Mode </span>┃<span style=\"color: #808000; text-decoration-color: #808000; font-weight: bold\"> Experiment </span>┃\n",
       "┃<span style=\"color: #008080; text-decoration-color: #008080; font-weight: bold\"> 🎭 Trial Boundary  </span>┃<span style=\"color: #808000; text-decoration-color: #808000; font-weight: bold\"> Start      </span>┃\n",
       "┃<span style=\"color: #008080; text-decoration-color: #008080; font-weight: bold\"> 🔬 Trial Type      </span>┃<span style=\"color: #808000; text-decoration-color: #808000; font-weight: bold\"> Speech     </span>┃\n",
       "┃<span style=\"color: #008080; text-decoration-color: #008080; font-weight: bold\"> 📊 Modality        </span>┃<span style=\"color: #808000; text-decoration-color: #808000; font-weight: bold\"> Audio      </span>┃\n",
       "┃<span style=\"color: #008080; text-decoration-color: #008080; font-weight: bold\"> ⏱ Tmin             </span>┃<span style=\"color: #808000; text-decoration-color: #808000; font-weight: bold\"> </span><span style=\"color: #008080; text-decoration-color: #008080; font-weight: bold\">-0.2</span><span style=\"color: #808000; text-decoration-color: #808000; font-weight: bold\">       </span>┃\n",
       "┃<span style=\"color: #008080; text-decoration-color: #008080; font-weight: bold\"> ⏳ Tmax            </span>┃<span style=\"color: #808000; text-decoration-color: #808000; font-weight: bold\"> </span><span style=\"color: #008080; text-decoration-color: #008080; font-weight: bold\">0.5</span><span style=\"color: #808000; text-decoration-color: #808000; font-weight: bold\">        </span>┃\n",
       "┗━━━━━━━━━━━━━━━━━━━━┻━━━━━━━━━━━━┛\n",
       "</pre>\n"
      ],
      "text/plain": [
       "\u001b[3m        Extraction Criteria        \u001b[0m\n",
       "┏━━━━━━━━━━━━━━━━━━━━┳━━━━━━━━━━━━┓\n",
       "┃\u001b[1m \u001b[0m\u001b[1mParameter         \u001b[0m\u001b[1m \u001b[0m┃\u001b[1m \u001b[0m\u001b[1mValue     \u001b[0m\u001b[1m \u001b[0m┃\n",
       "┣━━━━━━━━━━━━━━━━━━━━╋━━━━━━━━━━━━┫\n",
       "┃\u001b[1;36m \u001b[0m\u001b[1;36m🧪 Trial Mode     \u001b[0m\u001b[1;36m \u001b[0m┃\u001b[1;33m \u001b[0m\u001b[1;33mSilent    \u001b[0m\u001b[1;33m \u001b[0m┃\n",
       "┃\u001b[1;36m \u001b[0m\u001b[1;36m📏 Trial Unit     \u001b[0m\u001b[1;36m \u001b[0m┃\u001b[1;33m \u001b[0m\u001b[1;33mWords     \u001b[0m\u001b[1;33m \u001b[0m┃\n",
       "┃\u001b[1;36m \u001b[0m\u001b[1;36m🔗 Experiment Mode\u001b[0m\u001b[1;36m \u001b[0m┃\u001b[1;33m \u001b[0m\u001b[1;33mExperiment\u001b[0m\u001b[1;33m \u001b[0m┃\n",
       "┃\u001b[1;36m \u001b[0m\u001b[1;36m🎭 Trial Boundary \u001b[0m\u001b[1;36m \u001b[0m┃\u001b[1;33m \u001b[0m\u001b[1;33mStart     \u001b[0m\u001b[1;33m \u001b[0m┃\n",
       "┃\u001b[1;36m \u001b[0m\u001b[1;36m🔬 Trial Type     \u001b[0m\u001b[1;36m \u001b[0m┃\u001b[1;33m \u001b[0m\u001b[1;33mSpeech    \u001b[0m\u001b[1;33m \u001b[0m┃\n",
       "┃\u001b[1;36m \u001b[0m\u001b[1;36m📊 Modality       \u001b[0m\u001b[1;36m \u001b[0m┃\u001b[1;33m \u001b[0m\u001b[1;33mAudio     \u001b[0m\u001b[1;33m \u001b[0m┃\n",
       "┃\u001b[1;36m \u001b[0m\u001b[1;36m⏱ Tmin            \u001b[0m\u001b[1;36m \u001b[0m┃\u001b[1;33m \u001b[0m\u001b[1;36m-0.2\u001b[0m\u001b[1;33m      \u001b[0m\u001b[1;33m \u001b[0m┃\n",
       "┃\u001b[1;36m \u001b[0m\u001b[1;36m⏳ Tmax           \u001b[0m\u001b[1;36m \u001b[0m┃\u001b[1;33m \u001b[0m\u001b[1;36m0.5\u001b[0m\u001b[1;33m       \u001b[0m\u001b[1;33m \u001b[0m┃\n",
       "┗━━━━━━━━━━━━━━━━━━━━┻━━━━━━━━━━━━┛\n"
      ]
     },
     "metadata": {},
     "output_type": "display_data"
    },
    {
     "name": "stdout",
     "output_type": "stream",
     "text": [
      "Not setting metadata\n",
      "95 matching events found\n",
      "Applying baseline correction (mode: mean)\n",
      "0 projection items activated\n",
      "Using data from preloaded Raw for 95 events and 701 original time points ...\n",
      "0 bad epochs dropped\n",
      "NOTE: pick_channels() is a legacy function. New code should use inst.pick(...).\n",
      "NOTE: pick_channels() is a legacy function. New code should use inst.pick(...).\n",
      "Overt P100: latency=0.081s, peak=-1.78µV, mean=-2.33µV\n",
      "Covert P100: latency=0.280s, peak=-1.13µV, mean=-1.88µV\n",
      "Initializing Plotter\n",
      "Results saved to p100_results/sub-07_ses-01_p100_Overt_Covert.csv\n"
     ]
    },
    {
     "data": {
      "text/html": [
       "<pre style=\"white-space:pre;overflow-x:auto;line-height:normal;font-family:Menlo,'DejaVu Sans Mono',consolas,'Courier New',monospace\"><span style=\"color: #808000; text-decoration-color: #808000\">╭─────────────────────────────────────────╮</span>\n",
       "<span style=\"color: #808000; text-decoration-color: #808000\">│</span> 🚀 <span style=\"color: #808000; text-decoration-color: #808000; font-weight: bold\">Initializing BIDSDatasetReader Class</span> <span style=\"color: #808000; text-decoration-color: #808000\">│</span>\n",
       "<span style=\"color: #808000; text-decoration-color: #808000\">╰─────────────────────────────────────────╯</span>\n",
       "</pre>\n"
      ],
      "text/plain": [
       "\u001b[33m╭─────────────────────────────────────────╮\u001b[0m\n",
       "\u001b[33m│\u001b[0m 🚀 \u001b[1;33mInitializing BIDSDatasetReader Class\u001b[0m \u001b[33m│\u001b[0m\n",
       "\u001b[33m╰─────────────────────────────────────────╯\u001b[0m\n"
      ]
     },
     "metadata": {},
     "output_type": "display_data"
    },
    {
     "data": {
      "text/html": [
       "<pre style=\"white-space:pre;overflow-x:auto;line-height:normal;font-family:Menlo,'DejaVu Sans Mono',consolas,'Courier New',monospace\"> <span style=\"color: #008000; text-decoration-color: #008000; font-weight: bold\">Loading Processed EEG Data: sub-</span><span style=\"color: #008000; text-decoration-color: #008000; font-weight: bold\">08</span><span style=\"color: #008000; text-decoration-color: #008000; font-weight: bold\"> ses-</span><span style=\"color: #008000; text-decoration-color: #008000; font-weight: bold\">01</span>\n",
       "</pre>\n"
      ],
      "text/plain": [
       " \u001b[1;32mLoading Processed EEG Data: sub-\u001b[0m\u001b[1;32m08\u001b[0m\u001b[1;32m ses-\u001b[0m\u001b[1;32m01\u001b[0m\n"
      ]
     },
     "metadata": {},
     "output_type": "display_data"
    },
    {
     "data": {
      "text/html": [
       "<pre style=\"white-space:pre;overflow-x:auto;line-height:normal;font-family:Menlo,'DejaVu Sans Mono',consolas,'Courier New',monospace\"><span style=\"color: #800000; text-decoration-color: #800000\">╭─────────────────────────────────────╮</span>\n",
       "<span style=\"color: #800000; text-decoration-color: #800000\">│</span>  <span style=\"color: #800000; text-decoration-color: #800000; font-weight: bold\">Initializing EEGEpochBuilder Class</span> <span style=\"color: #800000; text-decoration-color: #800000\">│</span>\n",
       "<span style=\"color: #800000; text-decoration-color: #800000\">╰─────────────────────────────────────╯</span>\n",
       "</pre>\n"
      ],
      "text/plain": [
       "\u001b[31m╭─────────────────────────────────────╮\u001b[0m\n",
       "\u001b[31m│\u001b[0m  \u001b[1;31mInitializing EEGEpochBuilder Class\u001b[0m \u001b[31m│\u001b[0m\n",
       "\u001b[31m╰─────────────────────────────────────╯\u001b[0m\n"
      ]
     },
     "metadata": {},
     "output_type": "display_data"
    },
    {
     "data": {
      "text/html": [
       "<pre style=\"white-space:pre;overflow-x:auto;line-height:normal;font-family:Menlo,'DejaVu Sans Mono',consolas,'Courier New',monospace\"> <span style=\"color: #008000; text-decoration-color: #008000; font-weight: bold\">Creating EPOCHS</span>\n",
       "</pre>\n"
      ],
      "text/plain": [
       " \u001b[1;32mCreating EPOCHS\u001b[0m\n"
      ]
     },
     "metadata": {},
     "output_type": "display_data"
    },
    {
     "data": {
      "text/html": [
       "<pre style=\"white-space:pre;overflow-x:auto;line-height:normal;font-family:Menlo,'DejaVu Sans Mono',consolas,'Courier New',monospace\"><span style=\"font-style: italic\">        Extraction Criteria        </span>\n",
       "┏━━━━━━━━━━━━━━━━━━━━┳━━━━━━━━━━━━┓\n",
       "┃<span style=\"font-weight: bold\"> Parameter          </span>┃<span style=\"font-weight: bold\"> Value      </span>┃\n",
       "┣━━━━━━━━━━━━━━━━━━━━╋━━━━━━━━━━━━┫\n",
       "┃<span style=\"color: #008080; text-decoration-color: #008080; font-weight: bold\"> 🧪 Trial Mode      </span>┃<span style=\"color: #808000; text-decoration-color: #808000; font-weight: bold\"> Real       </span>┃\n",
       "┃<span style=\"color: #008080; text-decoration-color: #008080; font-weight: bold\"> 📏 Trial Unit      </span>┃<span style=\"color: #808000; text-decoration-color: #808000; font-weight: bold\"> Words      </span>┃\n",
       "┃<span style=\"color: #008080; text-decoration-color: #008080; font-weight: bold\"> 🔗 Experiment Mode </span>┃<span style=\"color: #808000; text-decoration-color: #808000; font-weight: bold\"> Experiment </span>┃\n",
       "┃<span style=\"color: #008080; text-decoration-color: #008080; font-weight: bold\"> 🎭 Trial Boundary  </span>┃<span style=\"color: #808000; text-decoration-color: #808000; font-weight: bold\"> Start      </span>┃\n",
       "┃<span style=\"color: #008080; text-decoration-color: #008080; font-weight: bold\"> 🔬 Trial Type      </span>┃<span style=\"color: #808000; text-decoration-color: #808000; font-weight: bold\"> Speech     </span>┃\n",
       "┃<span style=\"color: #008080; text-decoration-color: #008080; font-weight: bold\"> 📊 Modality        </span>┃<span style=\"color: #808000; text-decoration-color: #808000; font-weight: bold\"> Audio      </span>┃\n",
       "┃<span style=\"color: #008080; text-decoration-color: #008080; font-weight: bold\"> ⏱ Tmin             </span>┃<span style=\"color: #808000; text-decoration-color: #808000; font-weight: bold\"> </span><span style=\"color: #008080; text-decoration-color: #008080; font-weight: bold\">-0.2</span><span style=\"color: #808000; text-decoration-color: #808000; font-weight: bold\">       </span>┃\n",
       "┃<span style=\"color: #008080; text-decoration-color: #008080; font-weight: bold\"> ⏳ Tmax            </span>┃<span style=\"color: #808000; text-decoration-color: #808000; font-weight: bold\"> </span><span style=\"color: #008080; text-decoration-color: #008080; font-weight: bold\">0.5</span><span style=\"color: #808000; text-decoration-color: #808000; font-weight: bold\">        </span>┃\n",
       "┗━━━━━━━━━━━━━━━━━━━━┻━━━━━━━━━━━━┛\n",
       "</pre>\n"
      ],
      "text/plain": [
       "\u001b[3m        Extraction Criteria        \u001b[0m\n",
       "┏━━━━━━━━━━━━━━━━━━━━┳━━━━━━━━━━━━┓\n",
       "┃\u001b[1m \u001b[0m\u001b[1mParameter         \u001b[0m\u001b[1m \u001b[0m┃\u001b[1m \u001b[0m\u001b[1mValue     \u001b[0m\u001b[1m \u001b[0m┃\n",
       "┣━━━━━━━━━━━━━━━━━━━━╋━━━━━━━━━━━━┫\n",
       "┃\u001b[1;36m \u001b[0m\u001b[1;36m🧪 Trial Mode     \u001b[0m\u001b[1;36m \u001b[0m┃\u001b[1;33m \u001b[0m\u001b[1;33mReal      \u001b[0m\u001b[1;33m \u001b[0m┃\n",
       "┃\u001b[1;36m \u001b[0m\u001b[1;36m📏 Trial Unit     \u001b[0m\u001b[1;36m \u001b[0m┃\u001b[1;33m \u001b[0m\u001b[1;33mWords     \u001b[0m\u001b[1;33m \u001b[0m┃\n",
       "┃\u001b[1;36m \u001b[0m\u001b[1;36m🔗 Experiment Mode\u001b[0m\u001b[1;36m \u001b[0m┃\u001b[1;33m \u001b[0m\u001b[1;33mExperiment\u001b[0m\u001b[1;33m \u001b[0m┃\n",
       "┃\u001b[1;36m \u001b[0m\u001b[1;36m🎭 Trial Boundary \u001b[0m\u001b[1;36m \u001b[0m┃\u001b[1;33m \u001b[0m\u001b[1;33mStart     \u001b[0m\u001b[1;33m \u001b[0m┃\n",
       "┃\u001b[1;36m \u001b[0m\u001b[1;36m🔬 Trial Type     \u001b[0m\u001b[1;36m \u001b[0m┃\u001b[1;33m \u001b[0m\u001b[1;33mSpeech    \u001b[0m\u001b[1;33m \u001b[0m┃\n",
       "┃\u001b[1;36m \u001b[0m\u001b[1;36m📊 Modality       \u001b[0m\u001b[1;36m \u001b[0m┃\u001b[1;33m \u001b[0m\u001b[1;33mAudio     \u001b[0m\u001b[1;33m \u001b[0m┃\n",
       "┃\u001b[1;36m \u001b[0m\u001b[1;36m⏱ Tmin            \u001b[0m\u001b[1;36m \u001b[0m┃\u001b[1;33m \u001b[0m\u001b[1;36m-0.2\u001b[0m\u001b[1;33m      \u001b[0m\u001b[1;33m \u001b[0m┃\n",
       "┃\u001b[1;36m \u001b[0m\u001b[1;36m⏳ Tmax           \u001b[0m\u001b[1;36m \u001b[0m┃\u001b[1;33m \u001b[0m\u001b[1;36m0.5\u001b[0m\u001b[1;33m       \u001b[0m\u001b[1;33m \u001b[0m┃\n",
       "┗━━━━━━━━━━━━━━━━━━━━┻━━━━━━━━━━━━┛\n"
      ]
     },
     "metadata": {},
     "output_type": "display_data"
    },
    {
     "name": "stdout",
     "output_type": "stream",
     "text": [
      "Not setting metadata\n",
      "95 matching events found\n",
      "Applying baseline correction (mode: mean)\n",
      "0 projection items activated\n",
      "Using data from preloaded Raw for 95 events and 701 original time points ...\n",
      "0 bad epochs dropped\n"
     ]
    },
    {
     "data": {
      "text/html": [
       "<pre style=\"white-space:pre;overflow-x:auto;line-height:normal;font-family:Menlo,'DejaVu Sans Mono',consolas,'Courier New',monospace\"><span style=\"color: #800000; text-decoration-color: #800000\">╭─────────────────────────────────────╮</span>\n",
       "<span style=\"color: #800000; text-decoration-color: #800000\">│</span>  <span style=\"color: #800000; text-decoration-color: #800000; font-weight: bold\">Initializing EEGEpochBuilder Class</span> <span style=\"color: #800000; text-decoration-color: #800000\">│</span>\n",
       "<span style=\"color: #800000; text-decoration-color: #800000\">╰─────────────────────────────────────╯</span>\n",
       "</pre>\n"
      ],
      "text/plain": [
       "\u001b[31m╭─────────────────────────────────────╮\u001b[0m\n",
       "\u001b[31m│\u001b[0m  \u001b[1;31mInitializing EEGEpochBuilder Class\u001b[0m \u001b[31m│\u001b[0m\n",
       "\u001b[31m╰─────────────────────────────────────╯\u001b[0m\n"
      ]
     },
     "metadata": {},
     "output_type": "display_data"
    },
    {
     "data": {
      "text/html": [
       "<pre style=\"white-space:pre;overflow-x:auto;line-height:normal;font-family:Menlo,'DejaVu Sans Mono',consolas,'Courier New',monospace\"> <span style=\"color: #008000; text-decoration-color: #008000; font-weight: bold\">Creating EPOCHS</span>\n",
       "</pre>\n"
      ],
      "text/plain": [
       " \u001b[1;32mCreating EPOCHS\u001b[0m\n"
      ]
     },
     "metadata": {},
     "output_type": "display_data"
    },
    {
     "data": {
      "text/html": [
       "<pre style=\"white-space:pre;overflow-x:auto;line-height:normal;font-family:Menlo,'DejaVu Sans Mono',consolas,'Courier New',monospace\"><span style=\"font-style: italic\">        Extraction Criteria        </span>\n",
       "┏━━━━━━━━━━━━━━━━━━━━┳━━━━━━━━━━━━┓\n",
       "┃<span style=\"font-weight: bold\"> Parameter          </span>┃<span style=\"font-weight: bold\"> Value      </span>┃\n",
       "┣━━━━━━━━━━━━━━━━━━━━╋━━━━━━━━━━━━┫\n",
       "┃<span style=\"color: #008080; text-decoration-color: #008080; font-weight: bold\"> 🧪 Trial Mode      </span>┃<span style=\"color: #808000; text-decoration-color: #808000; font-weight: bold\"> Silent     </span>┃\n",
       "┃<span style=\"color: #008080; text-decoration-color: #008080; font-weight: bold\"> 📏 Trial Unit      </span>┃<span style=\"color: #808000; text-decoration-color: #808000; font-weight: bold\"> Words      </span>┃\n",
       "┃<span style=\"color: #008080; text-decoration-color: #008080; font-weight: bold\"> 🔗 Experiment Mode </span>┃<span style=\"color: #808000; text-decoration-color: #808000; font-weight: bold\"> Experiment </span>┃\n",
       "┃<span style=\"color: #008080; text-decoration-color: #008080; font-weight: bold\"> 🎭 Trial Boundary  </span>┃<span style=\"color: #808000; text-decoration-color: #808000; font-weight: bold\"> Start      </span>┃\n",
       "┃<span style=\"color: #008080; text-decoration-color: #008080; font-weight: bold\"> 🔬 Trial Type      </span>┃<span style=\"color: #808000; text-decoration-color: #808000; font-weight: bold\"> Speech     </span>┃\n",
       "┃<span style=\"color: #008080; text-decoration-color: #008080; font-weight: bold\"> 📊 Modality        </span>┃<span style=\"color: #808000; text-decoration-color: #808000; font-weight: bold\"> Audio      </span>┃\n",
       "┃<span style=\"color: #008080; text-decoration-color: #008080; font-weight: bold\"> ⏱ Tmin             </span>┃<span style=\"color: #808000; text-decoration-color: #808000; font-weight: bold\"> </span><span style=\"color: #008080; text-decoration-color: #008080; font-weight: bold\">-0.2</span><span style=\"color: #808000; text-decoration-color: #808000; font-weight: bold\">       </span>┃\n",
       "┃<span style=\"color: #008080; text-decoration-color: #008080; font-weight: bold\"> ⏳ Tmax            </span>┃<span style=\"color: #808000; text-decoration-color: #808000; font-weight: bold\"> </span><span style=\"color: #008080; text-decoration-color: #008080; font-weight: bold\">0.5</span><span style=\"color: #808000; text-decoration-color: #808000; font-weight: bold\">        </span>┃\n",
       "┗━━━━━━━━━━━━━━━━━━━━┻━━━━━━━━━━━━┛\n",
       "</pre>\n"
      ],
      "text/plain": [
       "\u001b[3m        Extraction Criteria        \u001b[0m\n",
       "┏━━━━━━━━━━━━━━━━━━━━┳━━━━━━━━━━━━┓\n",
       "┃\u001b[1m \u001b[0m\u001b[1mParameter         \u001b[0m\u001b[1m \u001b[0m┃\u001b[1m \u001b[0m\u001b[1mValue     \u001b[0m\u001b[1m \u001b[0m┃\n",
       "┣━━━━━━━━━━━━━━━━━━━━╋━━━━━━━━━━━━┫\n",
       "┃\u001b[1;36m \u001b[0m\u001b[1;36m🧪 Trial Mode     \u001b[0m\u001b[1;36m \u001b[0m┃\u001b[1;33m \u001b[0m\u001b[1;33mSilent    \u001b[0m\u001b[1;33m \u001b[0m┃\n",
       "┃\u001b[1;36m \u001b[0m\u001b[1;36m📏 Trial Unit     \u001b[0m\u001b[1;36m \u001b[0m┃\u001b[1;33m \u001b[0m\u001b[1;33mWords     \u001b[0m\u001b[1;33m \u001b[0m┃\n",
       "┃\u001b[1;36m \u001b[0m\u001b[1;36m🔗 Experiment Mode\u001b[0m\u001b[1;36m \u001b[0m┃\u001b[1;33m \u001b[0m\u001b[1;33mExperiment\u001b[0m\u001b[1;33m \u001b[0m┃\n",
       "┃\u001b[1;36m \u001b[0m\u001b[1;36m🎭 Trial Boundary \u001b[0m\u001b[1;36m \u001b[0m┃\u001b[1;33m \u001b[0m\u001b[1;33mStart     \u001b[0m\u001b[1;33m \u001b[0m┃\n",
       "┃\u001b[1;36m \u001b[0m\u001b[1;36m🔬 Trial Type     \u001b[0m\u001b[1;36m \u001b[0m┃\u001b[1;33m \u001b[0m\u001b[1;33mSpeech    \u001b[0m\u001b[1;33m \u001b[0m┃\n",
       "┃\u001b[1;36m \u001b[0m\u001b[1;36m📊 Modality       \u001b[0m\u001b[1;36m \u001b[0m┃\u001b[1;33m \u001b[0m\u001b[1;33mAudio     \u001b[0m\u001b[1;33m \u001b[0m┃\n",
       "┃\u001b[1;36m \u001b[0m\u001b[1;36m⏱ Tmin            \u001b[0m\u001b[1;36m \u001b[0m┃\u001b[1;33m \u001b[0m\u001b[1;36m-0.2\u001b[0m\u001b[1;33m      \u001b[0m\u001b[1;33m \u001b[0m┃\n",
       "┃\u001b[1;36m \u001b[0m\u001b[1;36m⏳ Tmax           \u001b[0m\u001b[1;36m \u001b[0m┃\u001b[1;33m \u001b[0m\u001b[1;36m0.5\u001b[0m\u001b[1;33m       \u001b[0m\u001b[1;33m \u001b[0m┃\n",
       "┗━━━━━━━━━━━━━━━━━━━━┻━━━━━━━━━━━━┛\n"
      ]
     },
     "metadata": {},
     "output_type": "display_data"
    },
    {
     "name": "stdout",
     "output_type": "stream",
     "text": [
      "Not setting metadata\n",
      "95 matching events found\n",
      "Applying baseline correction (mode: mean)\n",
      "0 projection items activated\n",
      "Using data from preloaded Raw for 95 events and 701 original time points ...\n",
      "0 bad epochs dropped\n",
      "NOTE: pick_channels() is a legacy function. New code should use inst.pick(...).\n",
      "NOTE: pick_channels() is a legacy function. New code should use inst.pick(...).\n",
      "Overt P100: latency=0.092s, peak=-0.13µV, mean=-0.56µV\n",
      "Covert P100: latency=0.320s, peak=-1.54µV, mean=-2.14µV\n",
      "Initializing Plotter\n",
      "Results saved to p100_results/sub-08_ses-01_p100_Overt_Covert.csv\n"
     ]
    },
    {
     "data": {
      "text/html": [
       "<pre style=\"white-space:pre;overflow-x:auto;line-height:normal;font-family:Menlo,'DejaVu Sans Mono',consolas,'Courier New',monospace\"><span style=\"color: #808000; text-decoration-color: #808000\">╭─────────────────────────────────────────╮</span>\n",
       "<span style=\"color: #808000; text-decoration-color: #808000\">│</span> 🚀 <span style=\"color: #808000; text-decoration-color: #808000; font-weight: bold\">Initializing BIDSDatasetReader Class</span> <span style=\"color: #808000; text-decoration-color: #808000\">│</span>\n",
       "<span style=\"color: #808000; text-decoration-color: #808000\">╰─────────────────────────────────────────╯</span>\n",
       "</pre>\n"
      ],
      "text/plain": [
       "\u001b[33m╭─────────────────────────────────────────╮\u001b[0m\n",
       "\u001b[33m│\u001b[0m 🚀 \u001b[1;33mInitializing BIDSDatasetReader Class\u001b[0m \u001b[33m│\u001b[0m\n",
       "\u001b[33m╰─────────────────────────────────────────╯\u001b[0m\n"
      ]
     },
     "metadata": {},
     "output_type": "display_data"
    },
    {
     "data": {
      "text/html": [
       "<pre style=\"white-space:pre;overflow-x:auto;line-height:normal;font-family:Menlo,'DejaVu Sans Mono',consolas,'Courier New',monospace\"> <span style=\"color: #008000; text-decoration-color: #008000; font-weight: bold\">Loading Processed EEG Data: sub-</span><span style=\"color: #008000; text-decoration-color: #008000; font-weight: bold\">09</span><span style=\"color: #008000; text-decoration-color: #008000; font-weight: bold\"> ses-</span><span style=\"color: #008000; text-decoration-color: #008000; font-weight: bold\">01</span>\n",
       "</pre>\n"
      ],
      "text/plain": [
       " \u001b[1;32mLoading Processed EEG Data: sub-\u001b[0m\u001b[1;32m09\u001b[0m\u001b[1;32m ses-\u001b[0m\u001b[1;32m01\u001b[0m\n"
      ]
     },
     "metadata": {},
     "output_type": "display_data"
    },
    {
     "data": {
      "text/html": [
       "<pre style=\"white-space:pre;overflow-x:auto;line-height:normal;font-family:Menlo,'DejaVu Sans Mono',consolas,'Courier New',monospace\"><span style=\"color: #800000; text-decoration-color: #800000\">╭─────────────────────────────────────╮</span>\n",
       "<span style=\"color: #800000; text-decoration-color: #800000\">│</span>  <span style=\"color: #800000; text-decoration-color: #800000; font-weight: bold\">Initializing EEGEpochBuilder Class</span> <span style=\"color: #800000; text-decoration-color: #800000\">│</span>\n",
       "<span style=\"color: #800000; text-decoration-color: #800000\">╰─────────────────────────────────────╯</span>\n",
       "</pre>\n"
      ],
      "text/plain": [
       "\u001b[31m╭─────────────────────────────────────╮\u001b[0m\n",
       "\u001b[31m│\u001b[0m  \u001b[1;31mInitializing EEGEpochBuilder Class\u001b[0m \u001b[31m│\u001b[0m\n",
       "\u001b[31m╰─────────────────────────────────────╯\u001b[0m\n"
      ]
     },
     "metadata": {},
     "output_type": "display_data"
    },
    {
     "data": {
      "text/html": [
       "<pre style=\"white-space:pre;overflow-x:auto;line-height:normal;font-family:Menlo,'DejaVu Sans Mono',consolas,'Courier New',monospace\"> <span style=\"color: #008000; text-decoration-color: #008000; font-weight: bold\">Creating EPOCHS</span>\n",
       "</pre>\n"
      ],
      "text/plain": [
       " \u001b[1;32mCreating EPOCHS\u001b[0m\n"
      ]
     },
     "metadata": {},
     "output_type": "display_data"
    },
    {
     "data": {
      "text/html": [
       "<pre style=\"white-space:pre;overflow-x:auto;line-height:normal;font-family:Menlo,'DejaVu Sans Mono',consolas,'Courier New',monospace\"><span style=\"font-style: italic\">        Extraction Criteria        </span>\n",
       "┏━━━━━━━━━━━━━━━━━━━━┳━━━━━━━━━━━━┓\n",
       "┃<span style=\"font-weight: bold\"> Parameter          </span>┃<span style=\"font-weight: bold\"> Value      </span>┃\n",
       "┣━━━━━━━━━━━━━━━━━━━━╋━━━━━━━━━━━━┫\n",
       "┃<span style=\"color: #008080; text-decoration-color: #008080; font-weight: bold\"> 🧪 Trial Mode      </span>┃<span style=\"color: #808000; text-decoration-color: #808000; font-weight: bold\"> Real       </span>┃\n",
       "┃<span style=\"color: #008080; text-decoration-color: #008080; font-weight: bold\"> 📏 Trial Unit      </span>┃<span style=\"color: #808000; text-decoration-color: #808000; font-weight: bold\"> Words      </span>┃\n",
       "┃<span style=\"color: #008080; text-decoration-color: #008080; font-weight: bold\"> 🔗 Experiment Mode </span>┃<span style=\"color: #808000; text-decoration-color: #808000; font-weight: bold\"> Experiment </span>┃\n",
       "┃<span style=\"color: #008080; text-decoration-color: #008080; font-weight: bold\"> 🎭 Trial Boundary  </span>┃<span style=\"color: #808000; text-decoration-color: #808000; font-weight: bold\"> Start      </span>┃\n",
       "┃<span style=\"color: #008080; text-decoration-color: #008080; font-weight: bold\"> 🔬 Trial Type      </span>┃<span style=\"color: #808000; text-decoration-color: #808000; font-weight: bold\"> Speech     </span>┃\n",
       "┃<span style=\"color: #008080; text-decoration-color: #008080; font-weight: bold\"> 📊 Modality        </span>┃<span style=\"color: #808000; text-decoration-color: #808000; font-weight: bold\"> Audio      </span>┃\n",
       "┃<span style=\"color: #008080; text-decoration-color: #008080; font-weight: bold\"> ⏱ Tmin             </span>┃<span style=\"color: #808000; text-decoration-color: #808000; font-weight: bold\"> </span><span style=\"color: #008080; text-decoration-color: #008080; font-weight: bold\">-0.2</span><span style=\"color: #808000; text-decoration-color: #808000; font-weight: bold\">       </span>┃\n",
       "┃<span style=\"color: #008080; text-decoration-color: #008080; font-weight: bold\"> ⏳ Tmax            </span>┃<span style=\"color: #808000; text-decoration-color: #808000; font-weight: bold\"> </span><span style=\"color: #008080; text-decoration-color: #008080; font-weight: bold\">0.5</span><span style=\"color: #808000; text-decoration-color: #808000; font-weight: bold\">        </span>┃\n",
       "┗━━━━━━━━━━━━━━━━━━━━┻━━━━━━━━━━━━┛\n",
       "</pre>\n"
      ],
      "text/plain": [
       "\u001b[3m        Extraction Criteria        \u001b[0m\n",
       "┏━━━━━━━━━━━━━━━━━━━━┳━━━━━━━━━━━━┓\n",
       "┃\u001b[1m \u001b[0m\u001b[1mParameter         \u001b[0m\u001b[1m \u001b[0m┃\u001b[1m \u001b[0m\u001b[1mValue     \u001b[0m\u001b[1m \u001b[0m┃\n",
       "┣━━━━━━━━━━━━━━━━━━━━╋━━━━━━━━━━━━┫\n",
       "┃\u001b[1;36m \u001b[0m\u001b[1;36m🧪 Trial Mode     \u001b[0m\u001b[1;36m \u001b[0m┃\u001b[1;33m \u001b[0m\u001b[1;33mReal      \u001b[0m\u001b[1;33m \u001b[0m┃\n",
       "┃\u001b[1;36m \u001b[0m\u001b[1;36m📏 Trial Unit     \u001b[0m\u001b[1;36m \u001b[0m┃\u001b[1;33m \u001b[0m\u001b[1;33mWords     \u001b[0m\u001b[1;33m \u001b[0m┃\n",
       "┃\u001b[1;36m \u001b[0m\u001b[1;36m🔗 Experiment Mode\u001b[0m\u001b[1;36m \u001b[0m┃\u001b[1;33m \u001b[0m\u001b[1;33mExperiment\u001b[0m\u001b[1;33m \u001b[0m┃\n",
       "┃\u001b[1;36m \u001b[0m\u001b[1;36m🎭 Trial Boundary \u001b[0m\u001b[1;36m \u001b[0m┃\u001b[1;33m \u001b[0m\u001b[1;33mStart     \u001b[0m\u001b[1;33m \u001b[0m┃\n",
       "┃\u001b[1;36m \u001b[0m\u001b[1;36m🔬 Trial Type     \u001b[0m\u001b[1;36m \u001b[0m┃\u001b[1;33m \u001b[0m\u001b[1;33mSpeech    \u001b[0m\u001b[1;33m \u001b[0m┃\n",
       "┃\u001b[1;36m \u001b[0m\u001b[1;36m📊 Modality       \u001b[0m\u001b[1;36m \u001b[0m┃\u001b[1;33m \u001b[0m\u001b[1;33mAudio     \u001b[0m\u001b[1;33m \u001b[0m┃\n",
       "┃\u001b[1;36m \u001b[0m\u001b[1;36m⏱ Tmin            \u001b[0m\u001b[1;36m \u001b[0m┃\u001b[1;33m \u001b[0m\u001b[1;36m-0.2\u001b[0m\u001b[1;33m      \u001b[0m\u001b[1;33m \u001b[0m┃\n",
       "┃\u001b[1;36m \u001b[0m\u001b[1;36m⏳ Tmax           \u001b[0m\u001b[1;36m \u001b[0m┃\u001b[1;33m \u001b[0m\u001b[1;36m0.5\u001b[0m\u001b[1;33m       \u001b[0m\u001b[1;33m \u001b[0m┃\n",
       "┗━━━━━━━━━━━━━━━━━━━━┻━━━━━━━━━━━━┛\n"
      ]
     },
     "metadata": {},
     "output_type": "display_data"
    },
    {
     "name": "stdout",
     "output_type": "stream",
     "text": [
      "Not setting metadata\n",
      "95 matching events found\n",
      "Applying baseline correction (mode: mean)\n",
      "0 projection items activated\n",
      "Using data from preloaded Raw for 95 events and 701 original time points ...\n",
      "0 bad epochs dropped\n"
     ]
    },
    {
     "data": {
      "text/html": [
       "<pre style=\"white-space:pre;overflow-x:auto;line-height:normal;font-family:Menlo,'DejaVu Sans Mono',consolas,'Courier New',monospace\"><span style=\"color: #800000; text-decoration-color: #800000\">╭─────────────────────────────────────╮</span>\n",
       "<span style=\"color: #800000; text-decoration-color: #800000\">│</span>  <span style=\"color: #800000; text-decoration-color: #800000; font-weight: bold\">Initializing EEGEpochBuilder Class</span> <span style=\"color: #800000; text-decoration-color: #800000\">│</span>\n",
       "<span style=\"color: #800000; text-decoration-color: #800000\">╰─────────────────────────────────────╯</span>\n",
       "</pre>\n"
      ],
      "text/plain": [
       "\u001b[31m╭─────────────────────────────────────╮\u001b[0m\n",
       "\u001b[31m│\u001b[0m  \u001b[1;31mInitializing EEGEpochBuilder Class\u001b[0m \u001b[31m│\u001b[0m\n",
       "\u001b[31m╰─────────────────────────────────────╯\u001b[0m\n"
      ]
     },
     "metadata": {},
     "output_type": "display_data"
    },
    {
     "data": {
      "text/html": [
       "<pre style=\"white-space:pre;overflow-x:auto;line-height:normal;font-family:Menlo,'DejaVu Sans Mono',consolas,'Courier New',monospace\"> <span style=\"color: #008000; text-decoration-color: #008000; font-weight: bold\">Creating EPOCHS</span>\n",
       "</pre>\n"
      ],
      "text/plain": [
       " \u001b[1;32mCreating EPOCHS\u001b[0m\n"
      ]
     },
     "metadata": {},
     "output_type": "display_data"
    },
    {
     "data": {
      "text/html": [
       "<pre style=\"white-space:pre;overflow-x:auto;line-height:normal;font-family:Menlo,'DejaVu Sans Mono',consolas,'Courier New',monospace\"><span style=\"font-style: italic\">        Extraction Criteria        </span>\n",
       "┏━━━━━━━━━━━━━━━━━━━━┳━━━━━━━━━━━━┓\n",
       "┃<span style=\"font-weight: bold\"> Parameter          </span>┃<span style=\"font-weight: bold\"> Value      </span>┃\n",
       "┣━━━━━━━━━━━━━━━━━━━━╋━━━━━━━━━━━━┫\n",
       "┃<span style=\"color: #008080; text-decoration-color: #008080; font-weight: bold\"> 🧪 Trial Mode      </span>┃<span style=\"color: #808000; text-decoration-color: #808000; font-weight: bold\"> Silent     </span>┃\n",
       "┃<span style=\"color: #008080; text-decoration-color: #008080; font-weight: bold\"> 📏 Trial Unit      </span>┃<span style=\"color: #808000; text-decoration-color: #808000; font-weight: bold\"> Words      </span>┃\n",
       "┃<span style=\"color: #008080; text-decoration-color: #008080; font-weight: bold\"> 🔗 Experiment Mode </span>┃<span style=\"color: #808000; text-decoration-color: #808000; font-weight: bold\"> Experiment </span>┃\n",
       "┃<span style=\"color: #008080; text-decoration-color: #008080; font-weight: bold\"> 🎭 Trial Boundary  </span>┃<span style=\"color: #808000; text-decoration-color: #808000; font-weight: bold\"> Start      </span>┃\n",
       "┃<span style=\"color: #008080; text-decoration-color: #008080; font-weight: bold\"> 🔬 Trial Type      </span>┃<span style=\"color: #808000; text-decoration-color: #808000; font-weight: bold\"> Speech     </span>┃\n",
       "┃<span style=\"color: #008080; text-decoration-color: #008080; font-weight: bold\"> 📊 Modality        </span>┃<span style=\"color: #808000; text-decoration-color: #808000; font-weight: bold\"> Audio      </span>┃\n",
       "┃<span style=\"color: #008080; text-decoration-color: #008080; font-weight: bold\"> ⏱ Tmin             </span>┃<span style=\"color: #808000; text-decoration-color: #808000; font-weight: bold\"> </span><span style=\"color: #008080; text-decoration-color: #008080; font-weight: bold\">-0.2</span><span style=\"color: #808000; text-decoration-color: #808000; font-weight: bold\">       </span>┃\n",
       "┃<span style=\"color: #008080; text-decoration-color: #008080; font-weight: bold\"> ⏳ Tmax            </span>┃<span style=\"color: #808000; text-decoration-color: #808000; font-weight: bold\"> </span><span style=\"color: #008080; text-decoration-color: #008080; font-weight: bold\">0.5</span><span style=\"color: #808000; text-decoration-color: #808000; font-weight: bold\">        </span>┃\n",
       "┗━━━━━━━━━━━━━━━━━━━━┻━━━━━━━━━━━━┛\n",
       "</pre>\n"
      ],
      "text/plain": [
       "\u001b[3m        Extraction Criteria        \u001b[0m\n",
       "┏━━━━━━━━━━━━━━━━━━━━┳━━━━━━━━━━━━┓\n",
       "┃\u001b[1m \u001b[0m\u001b[1mParameter         \u001b[0m\u001b[1m \u001b[0m┃\u001b[1m \u001b[0m\u001b[1mValue     \u001b[0m\u001b[1m \u001b[0m┃\n",
       "┣━━━━━━━━━━━━━━━━━━━━╋━━━━━━━━━━━━┫\n",
       "┃\u001b[1;36m \u001b[0m\u001b[1;36m🧪 Trial Mode     \u001b[0m\u001b[1;36m \u001b[0m┃\u001b[1;33m \u001b[0m\u001b[1;33mSilent    \u001b[0m\u001b[1;33m \u001b[0m┃\n",
       "┃\u001b[1;36m \u001b[0m\u001b[1;36m📏 Trial Unit     \u001b[0m\u001b[1;36m \u001b[0m┃\u001b[1;33m \u001b[0m\u001b[1;33mWords     \u001b[0m\u001b[1;33m \u001b[0m┃\n",
       "┃\u001b[1;36m \u001b[0m\u001b[1;36m🔗 Experiment Mode\u001b[0m\u001b[1;36m \u001b[0m┃\u001b[1;33m \u001b[0m\u001b[1;33mExperiment\u001b[0m\u001b[1;33m \u001b[0m┃\n",
       "┃\u001b[1;36m \u001b[0m\u001b[1;36m🎭 Trial Boundary \u001b[0m\u001b[1;36m \u001b[0m┃\u001b[1;33m \u001b[0m\u001b[1;33mStart     \u001b[0m\u001b[1;33m \u001b[0m┃\n",
       "┃\u001b[1;36m \u001b[0m\u001b[1;36m🔬 Trial Type     \u001b[0m\u001b[1;36m \u001b[0m┃\u001b[1;33m \u001b[0m\u001b[1;33mSpeech    \u001b[0m\u001b[1;33m \u001b[0m┃\n",
       "┃\u001b[1;36m \u001b[0m\u001b[1;36m📊 Modality       \u001b[0m\u001b[1;36m \u001b[0m┃\u001b[1;33m \u001b[0m\u001b[1;33mAudio     \u001b[0m\u001b[1;33m \u001b[0m┃\n",
       "┃\u001b[1;36m \u001b[0m\u001b[1;36m⏱ Tmin            \u001b[0m\u001b[1;36m \u001b[0m┃\u001b[1;33m \u001b[0m\u001b[1;36m-0.2\u001b[0m\u001b[1;33m      \u001b[0m\u001b[1;33m \u001b[0m┃\n",
       "┃\u001b[1;36m \u001b[0m\u001b[1;36m⏳ Tmax           \u001b[0m\u001b[1;36m \u001b[0m┃\u001b[1;33m \u001b[0m\u001b[1;36m0.5\u001b[0m\u001b[1;33m       \u001b[0m\u001b[1;33m \u001b[0m┃\n",
       "┗━━━━━━━━━━━━━━━━━━━━┻━━━━━━━━━━━━┛\n"
      ]
     },
     "metadata": {},
     "output_type": "display_data"
    },
    {
     "name": "stdout",
     "output_type": "stream",
     "text": [
      "Not setting metadata\n",
      "95 matching events found\n",
      "Applying baseline correction (mode: mean)\n",
      "0 projection items activated\n",
      "Using data from preloaded Raw for 95 events and 701 original time points ...\n",
      "0 bad epochs dropped\n",
      "NOTE: pick_channels() is a legacy function. New code should use inst.pick(...).\n",
      "NOTE: pick_channels() is a legacy function. New code should use inst.pick(...).\n",
      "Overt P100: latency=0.105s, peak=1.65µV, mean=1.01µV\n",
      "Covert P100: latency=0.320s, peak=0.79µV, mean=0.18µV\n",
      "Initializing Plotter\n",
      "Results saved to p100_results/sub-09_ses-01_p100_Overt_Covert.csv\n"
     ]
    },
    {
     "data": {
      "text/html": [
       "<pre style=\"white-space:pre;overflow-x:auto;line-height:normal;font-family:Menlo,'DejaVu Sans Mono',consolas,'Courier New',monospace\"><span style=\"color: #808000; text-decoration-color: #808000\">╭─────────────────────────────────────────╮</span>\n",
       "<span style=\"color: #808000; text-decoration-color: #808000\">│</span> 🚀 <span style=\"color: #808000; text-decoration-color: #808000; font-weight: bold\">Initializing BIDSDatasetReader Class</span> <span style=\"color: #808000; text-decoration-color: #808000\">│</span>\n",
       "<span style=\"color: #808000; text-decoration-color: #808000\">╰─────────────────────────────────────────╯</span>\n",
       "</pre>\n"
      ],
      "text/plain": [
       "\u001b[33m╭─────────────────────────────────────────╮\u001b[0m\n",
       "\u001b[33m│\u001b[0m 🚀 \u001b[1;33mInitializing BIDSDatasetReader Class\u001b[0m \u001b[33m│\u001b[0m\n",
       "\u001b[33m╰─────────────────────────────────────────╯\u001b[0m\n"
      ]
     },
     "metadata": {},
     "output_type": "display_data"
    },
    {
     "data": {
      "text/html": [
       "<pre style=\"white-space:pre;overflow-x:auto;line-height:normal;font-family:Menlo,'DejaVu Sans Mono',consolas,'Courier New',monospace\"> <span style=\"color: #008000; text-decoration-color: #008000; font-weight: bold\">Loading Processed EEG Data: sub-</span><span style=\"color: #008000; text-decoration-color: #008000; font-weight: bold\">09</span><span style=\"color: #008000; text-decoration-color: #008000; font-weight: bold\"> ses-</span><span style=\"color: #008000; text-decoration-color: #008000; font-weight: bold\">02</span>\n",
       "</pre>\n"
      ],
      "text/plain": [
       " \u001b[1;32mLoading Processed EEG Data: sub-\u001b[0m\u001b[1;32m09\u001b[0m\u001b[1;32m ses-\u001b[0m\u001b[1;32m02\u001b[0m\n"
      ]
     },
     "metadata": {},
     "output_type": "display_data"
    },
    {
     "data": {
      "text/html": [
       "<pre style=\"white-space:pre;overflow-x:auto;line-height:normal;font-family:Menlo,'DejaVu Sans Mono',consolas,'Courier New',monospace\"><span style=\"color: #800000; text-decoration-color: #800000\">╭─────────────────────────────────────╮</span>\n",
       "<span style=\"color: #800000; text-decoration-color: #800000\">│</span>  <span style=\"color: #800000; text-decoration-color: #800000; font-weight: bold\">Initializing EEGEpochBuilder Class</span> <span style=\"color: #800000; text-decoration-color: #800000\">│</span>\n",
       "<span style=\"color: #800000; text-decoration-color: #800000\">╰─────────────────────────────────────╯</span>\n",
       "</pre>\n"
      ],
      "text/plain": [
       "\u001b[31m╭─────────────────────────────────────╮\u001b[0m\n",
       "\u001b[31m│\u001b[0m  \u001b[1;31mInitializing EEGEpochBuilder Class\u001b[0m \u001b[31m│\u001b[0m\n",
       "\u001b[31m╰─────────────────────────────────────╯\u001b[0m\n"
      ]
     },
     "metadata": {},
     "output_type": "display_data"
    },
    {
     "data": {
      "text/html": [
       "<pre style=\"white-space:pre;overflow-x:auto;line-height:normal;font-family:Menlo,'DejaVu Sans Mono',consolas,'Courier New',monospace\"> <span style=\"color: #008000; text-decoration-color: #008000; font-weight: bold\">Creating EPOCHS</span>\n",
       "</pre>\n"
      ],
      "text/plain": [
       " \u001b[1;32mCreating EPOCHS\u001b[0m\n"
      ]
     },
     "metadata": {},
     "output_type": "display_data"
    },
    {
     "data": {
      "text/html": [
       "<pre style=\"white-space:pre;overflow-x:auto;line-height:normal;font-family:Menlo,'DejaVu Sans Mono',consolas,'Courier New',monospace\"><span style=\"font-style: italic\">        Extraction Criteria        </span>\n",
       "┏━━━━━━━━━━━━━━━━━━━━┳━━━━━━━━━━━━┓\n",
       "┃<span style=\"font-weight: bold\"> Parameter          </span>┃<span style=\"font-weight: bold\"> Value      </span>┃\n",
       "┣━━━━━━━━━━━━━━━━━━━━╋━━━━━━━━━━━━┫\n",
       "┃<span style=\"color: #008080; text-decoration-color: #008080; font-weight: bold\"> 🧪 Trial Mode      </span>┃<span style=\"color: #808000; text-decoration-color: #808000; font-weight: bold\"> Real       </span>┃\n",
       "┃<span style=\"color: #008080; text-decoration-color: #008080; font-weight: bold\"> 📏 Trial Unit      </span>┃<span style=\"color: #808000; text-decoration-color: #808000; font-weight: bold\"> Words      </span>┃\n",
       "┃<span style=\"color: #008080; text-decoration-color: #008080; font-weight: bold\"> 🔗 Experiment Mode </span>┃<span style=\"color: #808000; text-decoration-color: #808000; font-weight: bold\"> Experiment </span>┃\n",
       "┃<span style=\"color: #008080; text-decoration-color: #008080; font-weight: bold\"> 🎭 Trial Boundary  </span>┃<span style=\"color: #808000; text-decoration-color: #808000; font-weight: bold\"> Start      </span>┃\n",
       "┃<span style=\"color: #008080; text-decoration-color: #008080; font-weight: bold\"> 🔬 Trial Type      </span>┃<span style=\"color: #808000; text-decoration-color: #808000; font-weight: bold\"> Speech     </span>┃\n",
       "┃<span style=\"color: #008080; text-decoration-color: #008080; font-weight: bold\"> 📊 Modality        </span>┃<span style=\"color: #808000; text-decoration-color: #808000; font-weight: bold\"> Audio      </span>┃\n",
       "┃<span style=\"color: #008080; text-decoration-color: #008080; font-weight: bold\"> ⏱ Tmin             </span>┃<span style=\"color: #808000; text-decoration-color: #808000; font-weight: bold\"> </span><span style=\"color: #008080; text-decoration-color: #008080; font-weight: bold\">-0.2</span><span style=\"color: #808000; text-decoration-color: #808000; font-weight: bold\">       </span>┃\n",
       "┃<span style=\"color: #008080; text-decoration-color: #008080; font-weight: bold\"> ⏳ Tmax            </span>┃<span style=\"color: #808000; text-decoration-color: #808000; font-weight: bold\"> </span><span style=\"color: #008080; text-decoration-color: #008080; font-weight: bold\">0.5</span><span style=\"color: #808000; text-decoration-color: #808000; font-weight: bold\">        </span>┃\n",
       "┗━━━━━━━━━━━━━━━━━━━━┻━━━━━━━━━━━━┛\n",
       "</pre>\n"
      ],
      "text/plain": [
       "\u001b[3m        Extraction Criteria        \u001b[0m\n",
       "┏━━━━━━━━━━━━━━━━━━━━┳━━━━━━━━━━━━┓\n",
       "┃\u001b[1m \u001b[0m\u001b[1mParameter         \u001b[0m\u001b[1m \u001b[0m┃\u001b[1m \u001b[0m\u001b[1mValue     \u001b[0m\u001b[1m \u001b[0m┃\n",
       "┣━━━━━━━━━━━━━━━━━━━━╋━━━━━━━━━━━━┫\n",
       "┃\u001b[1;36m \u001b[0m\u001b[1;36m🧪 Trial Mode     \u001b[0m\u001b[1;36m \u001b[0m┃\u001b[1;33m \u001b[0m\u001b[1;33mReal      \u001b[0m\u001b[1;33m \u001b[0m┃\n",
       "┃\u001b[1;36m \u001b[0m\u001b[1;36m📏 Trial Unit     \u001b[0m\u001b[1;36m \u001b[0m┃\u001b[1;33m \u001b[0m\u001b[1;33mWords     \u001b[0m\u001b[1;33m \u001b[0m┃\n",
       "┃\u001b[1;36m \u001b[0m\u001b[1;36m🔗 Experiment Mode\u001b[0m\u001b[1;36m \u001b[0m┃\u001b[1;33m \u001b[0m\u001b[1;33mExperiment\u001b[0m\u001b[1;33m \u001b[0m┃\n",
       "┃\u001b[1;36m \u001b[0m\u001b[1;36m🎭 Trial Boundary \u001b[0m\u001b[1;36m \u001b[0m┃\u001b[1;33m \u001b[0m\u001b[1;33mStart     \u001b[0m\u001b[1;33m \u001b[0m┃\n",
       "┃\u001b[1;36m \u001b[0m\u001b[1;36m🔬 Trial Type     \u001b[0m\u001b[1;36m \u001b[0m┃\u001b[1;33m \u001b[0m\u001b[1;33mSpeech    \u001b[0m\u001b[1;33m \u001b[0m┃\n",
       "┃\u001b[1;36m \u001b[0m\u001b[1;36m📊 Modality       \u001b[0m\u001b[1;36m \u001b[0m┃\u001b[1;33m \u001b[0m\u001b[1;33mAudio     \u001b[0m\u001b[1;33m \u001b[0m┃\n",
       "┃\u001b[1;36m \u001b[0m\u001b[1;36m⏱ Tmin            \u001b[0m\u001b[1;36m \u001b[0m┃\u001b[1;33m \u001b[0m\u001b[1;36m-0.2\u001b[0m\u001b[1;33m      \u001b[0m\u001b[1;33m \u001b[0m┃\n",
       "┃\u001b[1;36m \u001b[0m\u001b[1;36m⏳ Tmax           \u001b[0m\u001b[1;36m \u001b[0m┃\u001b[1;33m \u001b[0m\u001b[1;36m0.5\u001b[0m\u001b[1;33m       \u001b[0m\u001b[1;33m \u001b[0m┃\n",
       "┗━━━━━━━━━━━━━━━━━━━━┻━━━━━━━━━━━━┛\n"
      ]
     },
     "metadata": {},
     "output_type": "display_data"
    },
    {
     "name": "stdout",
     "output_type": "stream",
     "text": [
      "Not setting metadata\n",
      "95 matching events found\n",
      "Applying baseline correction (mode: mean)\n",
      "0 projection items activated\n",
      "Using data from preloaded Raw for 95 events and 701 original time points ...\n",
      "0 bad epochs dropped\n"
     ]
    },
    {
     "data": {
      "text/html": [
       "<pre style=\"white-space:pre;overflow-x:auto;line-height:normal;font-family:Menlo,'DejaVu Sans Mono',consolas,'Courier New',monospace\"><span style=\"color: #800000; text-decoration-color: #800000\">╭─────────────────────────────────────╮</span>\n",
       "<span style=\"color: #800000; text-decoration-color: #800000\">│</span>  <span style=\"color: #800000; text-decoration-color: #800000; font-weight: bold\">Initializing EEGEpochBuilder Class</span> <span style=\"color: #800000; text-decoration-color: #800000\">│</span>\n",
       "<span style=\"color: #800000; text-decoration-color: #800000\">╰─────────────────────────────────────╯</span>\n",
       "</pre>\n"
      ],
      "text/plain": [
       "\u001b[31m╭─────────────────────────────────────╮\u001b[0m\n",
       "\u001b[31m│\u001b[0m  \u001b[1;31mInitializing EEGEpochBuilder Class\u001b[0m \u001b[31m│\u001b[0m\n",
       "\u001b[31m╰─────────────────────────────────────╯\u001b[0m\n"
      ]
     },
     "metadata": {},
     "output_type": "display_data"
    },
    {
     "data": {
      "text/html": [
       "<pre style=\"white-space:pre;overflow-x:auto;line-height:normal;font-family:Menlo,'DejaVu Sans Mono',consolas,'Courier New',monospace\"> <span style=\"color: #008000; text-decoration-color: #008000; font-weight: bold\">Creating EPOCHS</span>\n",
       "</pre>\n"
      ],
      "text/plain": [
       " \u001b[1;32mCreating EPOCHS\u001b[0m\n"
      ]
     },
     "metadata": {},
     "output_type": "display_data"
    },
    {
     "data": {
      "text/html": [
       "<pre style=\"white-space:pre;overflow-x:auto;line-height:normal;font-family:Menlo,'DejaVu Sans Mono',consolas,'Courier New',monospace\"><span style=\"font-style: italic\">        Extraction Criteria        </span>\n",
       "┏━━━━━━━━━━━━━━━━━━━━┳━━━━━━━━━━━━┓\n",
       "┃<span style=\"font-weight: bold\"> Parameter          </span>┃<span style=\"font-weight: bold\"> Value      </span>┃\n",
       "┣━━━━━━━━━━━━━━━━━━━━╋━━━━━━━━━━━━┫\n",
       "┃<span style=\"color: #008080; text-decoration-color: #008080; font-weight: bold\"> 🧪 Trial Mode      </span>┃<span style=\"color: #808000; text-decoration-color: #808000; font-weight: bold\"> Silent     </span>┃\n",
       "┃<span style=\"color: #008080; text-decoration-color: #008080; font-weight: bold\"> 📏 Trial Unit      </span>┃<span style=\"color: #808000; text-decoration-color: #808000; font-weight: bold\"> Words      </span>┃\n",
       "┃<span style=\"color: #008080; text-decoration-color: #008080; font-weight: bold\"> 🔗 Experiment Mode </span>┃<span style=\"color: #808000; text-decoration-color: #808000; font-weight: bold\"> Experiment </span>┃\n",
       "┃<span style=\"color: #008080; text-decoration-color: #008080; font-weight: bold\"> 🎭 Trial Boundary  </span>┃<span style=\"color: #808000; text-decoration-color: #808000; font-weight: bold\"> Start      </span>┃\n",
       "┃<span style=\"color: #008080; text-decoration-color: #008080; font-weight: bold\"> 🔬 Trial Type      </span>┃<span style=\"color: #808000; text-decoration-color: #808000; font-weight: bold\"> Speech     </span>┃\n",
       "┃<span style=\"color: #008080; text-decoration-color: #008080; font-weight: bold\"> 📊 Modality        </span>┃<span style=\"color: #808000; text-decoration-color: #808000; font-weight: bold\"> Audio      </span>┃\n",
       "┃<span style=\"color: #008080; text-decoration-color: #008080; font-weight: bold\"> ⏱ Tmin             </span>┃<span style=\"color: #808000; text-decoration-color: #808000; font-weight: bold\"> </span><span style=\"color: #008080; text-decoration-color: #008080; font-weight: bold\">-0.2</span><span style=\"color: #808000; text-decoration-color: #808000; font-weight: bold\">       </span>┃\n",
       "┃<span style=\"color: #008080; text-decoration-color: #008080; font-weight: bold\"> ⏳ Tmax            </span>┃<span style=\"color: #808000; text-decoration-color: #808000; font-weight: bold\"> </span><span style=\"color: #008080; text-decoration-color: #008080; font-weight: bold\">0.5</span><span style=\"color: #808000; text-decoration-color: #808000; font-weight: bold\">        </span>┃\n",
       "┗━━━━━━━━━━━━━━━━━━━━┻━━━━━━━━━━━━┛\n",
       "</pre>\n"
      ],
      "text/plain": [
       "\u001b[3m        Extraction Criteria        \u001b[0m\n",
       "┏━━━━━━━━━━━━━━━━━━━━┳━━━━━━━━━━━━┓\n",
       "┃\u001b[1m \u001b[0m\u001b[1mParameter         \u001b[0m\u001b[1m \u001b[0m┃\u001b[1m \u001b[0m\u001b[1mValue     \u001b[0m\u001b[1m \u001b[0m┃\n",
       "┣━━━━━━━━━━━━━━━━━━━━╋━━━━━━━━━━━━┫\n",
       "┃\u001b[1;36m \u001b[0m\u001b[1;36m🧪 Trial Mode     \u001b[0m\u001b[1;36m \u001b[0m┃\u001b[1;33m \u001b[0m\u001b[1;33mSilent    \u001b[0m\u001b[1;33m \u001b[0m┃\n",
       "┃\u001b[1;36m \u001b[0m\u001b[1;36m📏 Trial Unit     \u001b[0m\u001b[1;36m \u001b[0m┃\u001b[1;33m \u001b[0m\u001b[1;33mWords     \u001b[0m\u001b[1;33m \u001b[0m┃\n",
       "┃\u001b[1;36m \u001b[0m\u001b[1;36m🔗 Experiment Mode\u001b[0m\u001b[1;36m \u001b[0m┃\u001b[1;33m \u001b[0m\u001b[1;33mExperiment\u001b[0m\u001b[1;33m \u001b[0m┃\n",
       "┃\u001b[1;36m \u001b[0m\u001b[1;36m🎭 Trial Boundary \u001b[0m\u001b[1;36m \u001b[0m┃\u001b[1;33m \u001b[0m\u001b[1;33mStart     \u001b[0m\u001b[1;33m \u001b[0m┃\n",
       "┃\u001b[1;36m \u001b[0m\u001b[1;36m🔬 Trial Type     \u001b[0m\u001b[1;36m \u001b[0m┃\u001b[1;33m \u001b[0m\u001b[1;33mSpeech    \u001b[0m\u001b[1;33m \u001b[0m┃\n",
       "┃\u001b[1;36m \u001b[0m\u001b[1;36m📊 Modality       \u001b[0m\u001b[1;36m \u001b[0m┃\u001b[1;33m \u001b[0m\u001b[1;33mAudio     \u001b[0m\u001b[1;33m \u001b[0m┃\n",
       "┃\u001b[1;36m \u001b[0m\u001b[1;36m⏱ Tmin            \u001b[0m\u001b[1;36m \u001b[0m┃\u001b[1;33m \u001b[0m\u001b[1;36m-0.2\u001b[0m\u001b[1;33m      \u001b[0m\u001b[1;33m \u001b[0m┃\n",
       "┃\u001b[1;36m \u001b[0m\u001b[1;36m⏳ Tmax           \u001b[0m\u001b[1;36m \u001b[0m┃\u001b[1;33m \u001b[0m\u001b[1;36m0.5\u001b[0m\u001b[1;33m       \u001b[0m\u001b[1;33m \u001b[0m┃\n",
       "┗━━━━━━━━━━━━━━━━━━━━┻━━━━━━━━━━━━┛\n"
      ]
     },
     "metadata": {},
     "output_type": "display_data"
    },
    {
     "name": "stdout",
     "output_type": "stream",
     "text": [
      "Not setting metadata\n",
      "95 matching events found\n",
      "Applying baseline correction (mode: mean)\n",
      "0 projection items activated\n",
      "Using data from preloaded Raw for 95 events and 701 original time points ...\n",
      "0 bad epochs dropped\n",
      "NOTE: pick_channels() is a legacy function. New code should use inst.pick(...).\n",
      "NOTE: pick_channels() is a legacy function. New code should use inst.pick(...).\n",
      "Overt P100: latency=0.080s, peak=1.25µV, mean=0.68µV\n",
      "Covert P100: latency=0.320s, peak=2.48µV, mean=1.13µV\n",
      "Initializing Plotter\n",
      "Results saved to p100_results/sub-09_ses-02_p100_Overt_Covert.csv\n"
     ]
    },
    {
     "data": {
      "text/html": [
       "<pre style=\"white-space:pre;overflow-x:auto;line-height:normal;font-family:Menlo,'DejaVu Sans Mono',consolas,'Courier New',monospace\"><span style=\"color: #808000; text-decoration-color: #808000\">╭─────────────────────────────────────────╮</span>\n",
       "<span style=\"color: #808000; text-decoration-color: #808000\">│</span> 🚀 <span style=\"color: #808000; text-decoration-color: #808000; font-weight: bold\">Initializing BIDSDatasetReader Class</span> <span style=\"color: #808000; text-decoration-color: #808000\">│</span>\n",
       "<span style=\"color: #808000; text-decoration-color: #808000\">╰─────────────────────────────────────────╯</span>\n",
       "</pre>\n"
      ],
      "text/plain": [
       "\u001b[33m╭─────────────────────────────────────────╮\u001b[0m\n",
       "\u001b[33m│\u001b[0m 🚀 \u001b[1;33mInitializing BIDSDatasetReader Class\u001b[0m \u001b[33m│\u001b[0m\n",
       "\u001b[33m╰─────────────────────────────────────────╯\u001b[0m\n"
      ]
     },
     "metadata": {},
     "output_type": "display_data"
    },
    {
     "data": {
      "text/html": [
       "<pre style=\"white-space:pre;overflow-x:auto;line-height:normal;font-family:Menlo,'DejaVu Sans Mono',consolas,'Courier New',monospace\"> <span style=\"color: #008000; text-decoration-color: #008000; font-weight: bold\">Loading Processed EEG Data: sub-</span><span style=\"color: #008000; text-decoration-color: #008000; font-weight: bold\">10</span><span style=\"color: #008000; text-decoration-color: #008000; font-weight: bold\"> ses-</span><span style=\"color: #008000; text-decoration-color: #008000; font-weight: bold\">01</span>\n",
       "</pre>\n"
      ],
      "text/plain": [
       " \u001b[1;32mLoading Processed EEG Data: sub-\u001b[0m\u001b[1;32m10\u001b[0m\u001b[1;32m ses-\u001b[0m\u001b[1;32m01\u001b[0m\n"
      ]
     },
     "metadata": {},
     "output_type": "display_data"
    },
    {
     "data": {
      "text/html": [
       "<pre style=\"white-space:pre;overflow-x:auto;line-height:normal;font-family:Menlo,'DejaVu Sans Mono',consolas,'Courier New',monospace\"><span style=\"color: #800000; text-decoration-color: #800000\">╭─────────────────────────────────────╮</span>\n",
       "<span style=\"color: #800000; text-decoration-color: #800000\">│</span>  <span style=\"color: #800000; text-decoration-color: #800000; font-weight: bold\">Initializing EEGEpochBuilder Class</span> <span style=\"color: #800000; text-decoration-color: #800000\">│</span>\n",
       "<span style=\"color: #800000; text-decoration-color: #800000\">╰─────────────────────────────────────╯</span>\n",
       "</pre>\n"
      ],
      "text/plain": [
       "\u001b[31m╭─────────────────────────────────────╮\u001b[0m\n",
       "\u001b[31m│\u001b[0m  \u001b[1;31mInitializing EEGEpochBuilder Class\u001b[0m \u001b[31m│\u001b[0m\n",
       "\u001b[31m╰─────────────────────────────────────╯\u001b[0m\n"
      ]
     },
     "metadata": {},
     "output_type": "display_data"
    },
    {
     "data": {
      "text/html": [
       "<pre style=\"white-space:pre;overflow-x:auto;line-height:normal;font-family:Menlo,'DejaVu Sans Mono',consolas,'Courier New',monospace\"> <span style=\"color: #008000; text-decoration-color: #008000; font-weight: bold\">Creating EPOCHS</span>\n",
       "</pre>\n"
      ],
      "text/plain": [
       " \u001b[1;32mCreating EPOCHS\u001b[0m\n"
      ]
     },
     "metadata": {},
     "output_type": "display_data"
    },
    {
     "data": {
      "text/html": [
       "<pre style=\"white-space:pre;overflow-x:auto;line-height:normal;font-family:Menlo,'DejaVu Sans Mono',consolas,'Courier New',monospace\"><span style=\"font-style: italic\">        Extraction Criteria        </span>\n",
       "┏━━━━━━━━━━━━━━━━━━━━┳━━━━━━━━━━━━┓\n",
       "┃<span style=\"font-weight: bold\"> Parameter          </span>┃<span style=\"font-weight: bold\"> Value      </span>┃\n",
       "┣━━━━━━━━━━━━━━━━━━━━╋━━━━━━━━━━━━┫\n",
       "┃<span style=\"color: #008080; text-decoration-color: #008080; font-weight: bold\"> 🧪 Trial Mode      </span>┃<span style=\"color: #808000; text-decoration-color: #808000; font-weight: bold\"> Real       </span>┃\n",
       "┃<span style=\"color: #008080; text-decoration-color: #008080; font-weight: bold\"> 📏 Trial Unit      </span>┃<span style=\"color: #808000; text-decoration-color: #808000; font-weight: bold\"> Words      </span>┃\n",
       "┃<span style=\"color: #008080; text-decoration-color: #008080; font-weight: bold\"> 🔗 Experiment Mode </span>┃<span style=\"color: #808000; text-decoration-color: #808000; font-weight: bold\"> Experiment </span>┃\n",
       "┃<span style=\"color: #008080; text-decoration-color: #008080; font-weight: bold\"> 🎭 Trial Boundary  </span>┃<span style=\"color: #808000; text-decoration-color: #808000; font-weight: bold\"> Start      </span>┃\n",
       "┃<span style=\"color: #008080; text-decoration-color: #008080; font-weight: bold\"> 🔬 Trial Type      </span>┃<span style=\"color: #808000; text-decoration-color: #808000; font-weight: bold\"> Speech     </span>┃\n",
       "┃<span style=\"color: #008080; text-decoration-color: #008080; font-weight: bold\"> 📊 Modality        </span>┃<span style=\"color: #808000; text-decoration-color: #808000; font-weight: bold\"> Audio      </span>┃\n",
       "┃<span style=\"color: #008080; text-decoration-color: #008080; font-weight: bold\"> ⏱ Tmin             </span>┃<span style=\"color: #808000; text-decoration-color: #808000; font-weight: bold\"> </span><span style=\"color: #008080; text-decoration-color: #008080; font-weight: bold\">-0.2</span><span style=\"color: #808000; text-decoration-color: #808000; font-weight: bold\">       </span>┃\n",
       "┃<span style=\"color: #008080; text-decoration-color: #008080; font-weight: bold\"> ⏳ Tmax            </span>┃<span style=\"color: #808000; text-decoration-color: #808000; font-weight: bold\"> </span><span style=\"color: #008080; text-decoration-color: #008080; font-weight: bold\">0.5</span><span style=\"color: #808000; text-decoration-color: #808000; font-weight: bold\">        </span>┃\n",
       "┗━━━━━━━━━━━━━━━━━━━━┻━━━━━━━━━━━━┛\n",
       "</pre>\n"
      ],
      "text/plain": [
       "\u001b[3m        Extraction Criteria        \u001b[0m\n",
       "┏━━━━━━━━━━━━━━━━━━━━┳━━━━━━━━━━━━┓\n",
       "┃\u001b[1m \u001b[0m\u001b[1mParameter         \u001b[0m\u001b[1m \u001b[0m┃\u001b[1m \u001b[0m\u001b[1mValue     \u001b[0m\u001b[1m \u001b[0m┃\n",
       "┣━━━━━━━━━━━━━━━━━━━━╋━━━━━━━━━━━━┫\n",
       "┃\u001b[1;36m \u001b[0m\u001b[1;36m🧪 Trial Mode     \u001b[0m\u001b[1;36m \u001b[0m┃\u001b[1;33m \u001b[0m\u001b[1;33mReal      \u001b[0m\u001b[1;33m \u001b[0m┃\n",
       "┃\u001b[1;36m \u001b[0m\u001b[1;36m📏 Trial Unit     \u001b[0m\u001b[1;36m \u001b[0m┃\u001b[1;33m \u001b[0m\u001b[1;33mWords     \u001b[0m\u001b[1;33m \u001b[0m┃\n",
       "┃\u001b[1;36m \u001b[0m\u001b[1;36m🔗 Experiment Mode\u001b[0m\u001b[1;36m \u001b[0m┃\u001b[1;33m \u001b[0m\u001b[1;33mExperiment\u001b[0m\u001b[1;33m \u001b[0m┃\n",
       "┃\u001b[1;36m \u001b[0m\u001b[1;36m🎭 Trial Boundary \u001b[0m\u001b[1;36m \u001b[0m┃\u001b[1;33m \u001b[0m\u001b[1;33mStart     \u001b[0m\u001b[1;33m \u001b[0m┃\n",
       "┃\u001b[1;36m \u001b[0m\u001b[1;36m🔬 Trial Type     \u001b[0m\u001b[1;36m \u001b[0m┃\u001b[1;33m \u001b[0m\u001b[1;33mSpeech    \u001b[0m\u001b[1;33m \u001b[0m┃\n",
       "┃\u001b[1;36m \u001b[0m\u001b[1;36m📊 Modality       \u001b[0m\u001b[1;36m \u001b[0m┃\u001b[1;33m \u001b[0m\u001b[1;33mAudio     \u001b[0m\u001b[1;33m \u001b[0m┃\n",
       "┃\u001b[1;36m \u001b[0m\u001b[1;36m⏱ Tmin            \u001b[0m\u001b[1;36m \u001b[0m┃\u001b[1;33m \u001b[0m\u001b[1;36m-0.2\u001b[0m\u001b[1;33m      \u001b[0m\u001b[1;33m \u001b[0m┃\n",
       "┃\u001b[1;36m \u001b[0m\u001b[1;36m⏳ Tmax           \u001b[0m\u001b[1;36m \u001b[0m┃\u001b[1;33m \u001b[0m\u001b[1;36m0.5\u001b[0m\u001b[1;33m       \u001b[0m\u001b[1;33m \u001b[0m┃\n",
       "┗━━━━━━━━━━━━━━━━━━━━┻━━━━━━━━━━━━┛\n"
      ]
     },
     "metadata": {},
     "output_type": "display_data"
    },
    {
     "name": "stdout",
     "output_type": "stream",
     "text": [
      "Not setting metadata\n",
      "95 matching events found\n",
      "Applying baseline correction (mode: mean)\n",
      "0 projection items activated\n",
      "Using data from preloaded Raw for 95 events and 701 original time points ...\n",
      "0 bad epochs dropped\n"
     ]
    },
    {
     "data": {
      "text/html": [
       "<pre style=\"white-space:pre;overflow-x:auto;line-height:normal;font-family:Menlo,'DejaVu Sans Mono',consolas,'Courier New',monospace\"><span style=\"color: #800000; text-decoration-color: #800000\">╭─────────────────────────────────────╮</span>\n",
       "<span style=\"color: #800000; text-decoration-color: #800000\">│</span>  <span style=\"color: #800000; text-decoration-color: #800000; font-weight: bold\">Initializing EEGEpochBuilder Class</span> <span style=\"color: #800000; text-decoration-color: #800000\">│</span>\n",
       "<span style=\"color: #800000; text-decoration-color: #800000\">╰─────────────────────────────────────╯</span>\n",
       "</pre>\n"
      ],
      "text/plain": [
       "\u001b[31m╭─────────────────────────────────────╮\u001b[0m\n",
       "\u001b[31m│\u001b[0m  \u001b[1;31mInitializing EEGEpochBuilder Class\u001b[0m \u001b[31m│\u001b[0m\n",
       "\u001b[31m╰─────────────────────────────────────╯\u001b[0m\n"
      ]
     },
     "metadata": {},
     "output_type": "display_data"
    },
    {
     "data": {
      "text/html": [
       "<pre style=\"white-space:pre;overflow-x:auto;line-height:normal;font-family:Menlo,'DejaVu Sans Mono',consolas,'Courier New',monospace\"> <span style=\"color: #008000; text-decoration-color: #008000; font-weight: bold\">Creating EPOCHS</span>\n",
       "</pre>\n"
      ],
      "text/plain": [
       " \u001b[1;32mCreating EPOCHS\u001b[0m\n"
      ]
     },
     "metadata": {},
     "output_type": "display_data"
    },
    {
     "data": {
      "text/html": [
       "<pre style=\"white-space:pre;overflow-x:auto;line-height:normal;font-family:Menlo,'DejaVu Sans Mono',consolas,'Courier New',monospace\"><span style=\"font-style: italic\">        Extraction Criteria        </span>\n",
       "┏━━━━━━━━━━━━━━━━━━━━┳━━━━━━━━━━━━┓\n",
       "┃<span style=\"font-weight: bold\"> Parameter          </span>┃<span style=\"font-weight: bold\"> Value      </span>┃\n",
       "┣━━━━━━━━━━━━━━━━━━━━╋━━━━━━━━━━━━┫\n",
       "┃<span style=\"color: #008080; text-decoration-color: #008080; font-weight: bold\"> 🧪 Trial Mode      </span>┃<span style=\"color: #808000; text-decoration-color: #808000; font-weight: bold\"> Silent     </span>┃\n",
       "┃<span style=\"color: #008080; text-decoration-color: #008080; font-weight: bold\"> 📏 Trial Unit      </span>┃<span style=\"color: #808000; text-decoration-color: #808000; font-weight: bold\"> Words      </span>┃\n",
       "┃<span style=\"color: #008080; text-decoration-color: #008080; font-weight: bold\"> 🔗 Experiment Mode </span>┃<span style=\"color: #808000; text-decoration-color: #808000; font-weight: bold\"> Experiment </span>┃\n",
       "┃<span style=\"color: #008080; text-decoration-color: #008080; font-weight: bold\"> 🎭 Trial Boundary  </span>┃<span style=\"color: #808000; text-decoration-color: #808000; font-weight: bold\"> Start      </span>┃\n",
       "┃<span style=\"color: #008080; text-decoration-color: #008080; font-weight: bold\"> 🔬 Trial Type      </span>┃<span style=\"color: #808000; text-decoration-color: #808000; font-weight: bold\"> Speech     </span>┃\n",
       "┃<span style=\"color: #008080; text-decoration-color: #008080; font-weight: bold\"> 📊 Modality        </span>┃<span style=\"color: #808000; text-decoration-color: #808000; font-weight: bold\"> Audio      </span>┃\n",
       "┃<span style=\"color: #008080; text-decoration-color: #008080; font-weight: bold\"> ⏱ Tmin             </span>┃<span style=\"color: #808000; text-decoration-color: #808000; font-weight: bold\"> </span><span style=\"color: #008080; text-decoration-color: #008080; font-weight: bold\">-0.2</span><span style=\"color: #808000; text-decoration-color: #808000; font-weight: bold\">       </span>┃\n",
       "┃<span style=\"color: #008080; text-decoration-color: #008080; font-weight: bold\"> ⏳ Tmax            </span>┃<span style=\"color: #808000; text-decoration-color: #808000; font-weight: bold\"> </span><span style=\"color: #008080; text-decoration-color: #008080; font-weight: bold\">0.5</span><span style=\"color: #808000; text-decoration-color: #808000; font-weight: bold\">        </span>┃\n",
       "┗━━━━━━━━━━━━━━━━━━━━┻━━━━━━━━━━━━┛\n",
       "</pre>\n"
      ],
      "text/plain": [
       "\u001b[3m        Extraction Criteria        \u001b[0m\n",
       "┏━━━━━━━━━━━━━━━━━━━━┳━━━━━━━━━━━━┓\n",
       "┃\u001b[1m \u001b[0m\u001b[1mParameter         \u001b[0m\u001b[1m \u001b[0m┃\u001b[1m \u001b[0m\u001b[1mValue     \u001b[0m\u001b[1m \u001b[0m┃\n",
       "┣━━━━━━━━━━━━━━━━━━━━╋━━━━━━━━━━━━┫\n",
       "┃\u001b[1;36m \u001b[0m\u001b[1;36m🧪 Trial Mode     \u001b[0m\u001b[1;36m \u001b[0m┃\u001b[1;33m \u001b[0m\u001b[1;33mSilent    \u001b[0m\u001b[1;33m \u001b[0m┃\n",
       "┃\u001b[1;36m \u001b[0m\u001b[1;36m📏 Trial Unit     \u001b[0m\u001b[1;36m \u001b[0m┃\u001b[1;33m \u001b[0m\u001b[1;33mWords     \u001b[0m\u001b[1;33m \u001b[0m┃\n",
       "┃\u001b[1;36m \u001b[0m\u001b[1;36m🔗 Experiment Mode\u001b[0m\u001b[1;36m \u001b[0m┃\u001b[1;33m \u001b[0m\u001b[1;33mExperiment\u001b[0m\u001b[1;33m \u001b[0m┃\n",
       "┃\u001b[1;36m \u001b[0m\u001b[1;36m🎭 Trial Boundary \u001b[0m\u001b[1;36m \u001b[0m┃\u001b[1;33m \u001b[0m\u001b[1;33mStart     \u001b[0m\u001b[1;33m \u001b[0m┃\n",
       "┃\u001b[1;36m \u001b[0m\u001b[1;36m🔬 Trial Type     \u001b[0m\u001b[1;36m \u001b[0m┃\u001b[1;33m \u001b[0m\u001b[1;33mSpeech    \u001b[0m\u001b[1;33m \u001b[0m┃\n",
       "┃\u001b[1;36m \u001b[0m\u001b[1;36m📊 Modality       \u001b[0m\u001b[1;36m \u001b[0m┃\u001b[1;33m \u001b[0m\u001b[1;33mAudio     \u001b[0m\u001b[1;33m \u001b[0m┃\n",
       "┃\u001b[1;36m \u001b[0m\u001b[1;36m⏱ Tmin            \u001b[0m\u001b[1;36m \u001b[0m┃\u001b[1;33m \u001b[0m\u001b[1;36m-0.2\u001b[0m\u001b[1;33m      \u001b[0m\u001b[1;33m \u001b[0m┃\n",
       "┃\u001b[1;36m \u001b[0m\u001b[1;36m⏳ Tmax           \u001b[0m\u001b[1;36m \u001b[0m┃\u001b[1;33m \u001b[0m\u001b[1;36m0.5\u001b[0m\u001b[1;33m       \u001b[0m\u001b[1;33m \u001b[0m┃\n",
       "┗━━━━━━━━━━━━━━━━━━━━┻━━━━━━━━━━━━┛\n"
      ]
     },
     "metadata": {},
     "output_type": "display_data"
    },
    {
     "name": "stdout",
     "output_type": "stream",
     "text": [
      "Not setting metadata\n",
      "95 matching events found\n",
      "Applying baseline correction (mode: mean)\n",
      "0 projection items activated\n",
      "Using data from preloaded Raw for 95 events and 701 original time points ...\n",
      "0 bad epochs dropped\n",
      "NOTE: pick_channels() is a legacy function. New code should use inst.pick(...).\n",
      "NOTE: pick_channels() is a legacy function. New code should use inst.pick(...).\n",
      "Overt P100: latency=0.111s, peak=0.48µV, mean=-0.17µV\n",
      "Covert P100: latency=0.303s, peak=-1.13µV, mean=-1.66µV\n",
      "Initializing Plotter\n",
      "Results saved to p100_results/sub-10_ses-01_p100_Overt_Covert.csv\n"
     ]
    },
    {
     "data": {
      "text/html": [
       "<pre style=\"white-space:pre;overflow-x:auto;line-height:normal;font-family:Menlo,'DejaVu Sans Mono',consolas,'Courier New',monospace\"><span style=\"color: #808000; text-decoration-color: #808000\">╭─────────────────────────────────────────╮</span>\n",
       "<span style=\"color: #808000; text-decoration-color: #808000\">│</span> 🚀 <span style=\"color: #808000; text-decoration-color: #808000; font-weight: bold\">Initializing BIDSDatasetReader Class</span> <span style=\"color: #808000; text-decoration-color: #808000\">│</span>\n",
       "<span style=\"color: #808000; text-decoration-color: #808000\">╰─────────────────────────────────────────╯</span>\n",
       "</pre>\n"
      ],
      "text/plain": [
       "\u001b[33m╭─────────────────────────────────────────╮\u001b[0m\n",
       "\u001b[33m│\u001b[0m 🚀 \u001b[1;33mInitializing BIDSDatasetReader Class\u001b[0m \u001b[33m│\u001b[0m\n",
       "\u001b[33m╰─────────────────────────────────────────╯\u001b[0m\n"
      ]
     },
     "metadata": {},
     "output_type": "display_data"
    },
    {
     "data": {
      "text/html": [
       "<pre style=\"white-space:pre;overflow-x:auto;line-height:normal;font-family:Menlo,'DejaVu Sans Mono',consolas,'Courier New',monospace\"> <span style=\"color: #008000; text-decoration-color: #008000; font-weight: bold\">Loading Processed EEG Data: sub-</span><span style=\"color: #008000; text-decoration-color: #008000; font-weight: bold\">11</span><span style=\"color: #008000; text-decoration-color: #008000; font-weight: bold\"> ses-</span><span style=\"color: #008000; text-decoration-color: #008000; font-weight: bold\">01</span>\n",
       "</pre>\n"
      ],
      "text/plain": [
       " \u001b[1;32mLoading Processed EEG Data: sub-\u001b[0m\u001b[1;32m11\u001b[0m\u001b[1;32m ses-\u001b[0m\u001b[1;32m01\u001b[0m\n"
      ]
     },
     "metadata": {},
     "output_type": "display_data"
    },
    {
     "data": {
      "text/html": [
       "<pre style=\"white-space:pre;overflow-x:auto;line-height:normal;font-family:Menlo,'DejaVu Sans Mono',consolas,'Courier New',monospace\"><span style=\"color: #800000; text-decoration-color: #800000\">╭─────────────────────────────────────╮</span>\n",
       "<span style=\"color: #800000; text-decoration-color: #800000\">│</span>  <span style=\"color: #800000; text-decoration-color: #800000; font-weight: bold\">Initializing EEGEpochBuilder Class</span> <span style=\"color: #800000; text-decoration-color: #800000\">│</span>\n",
       "<span style=\"color: #800000; text-decoration-color: #800000\">╰─────────────────────────────────────╯</span>\n",
       "</pre>\n"
      ],
      "text/plain": [
       "\u001b[31m╭─────────────────────────────────────╮\u001b[0m\n",
       "\u001b[31m│\u001b[0m  \u001b[1;31mInitializing EEGEpochBuilder Class\u001b[0m \u001b[31m│\u001b[0m\n",
       "\u001b[31m╰─────────────────────────────────────╯\u001b[0m\n"
      ]
     },
     "metadata": {},
     "output_type": "display_data"
    },
    {
     "data": {
      "text/html": [
       "<pre style=\"white-space:pre;overflow-x:auto;line-height:normal;font-family:Menlo,'DejaVu Sans Mono',consolas,'Courier New',monospace\"> <span style=\"color: #008000; text-decoration-color: #008000; font-weight: bold\">Creating EPOCHS</span>\n",
       "</pre>\n"
      ],
      "text/plain": [
       " \u001b[1;32mCreating EPOCHS\u001b[0m\n"
      ]
     },
     "metadata": {},
     "output_type": "display_data"
    },
    {
     "data": {
      "text/html": [
       "<pre style=\"white-space:pre;overflow-x:auto;line-height:normal;font-family:Menlo,'DejaVu Sans Mono',consolas,'Courier New',monospace\"><span style=\"font-style: italic\">        Extraction Criteria        </span>\n",
       "┏━━━━━━━━━━━━━━━━━━━━┳━━━━━━━━━━━━┓\n",
       "┃<span style=\"font-weight: bold\"> Parameter          </span>┃<span style=\"font-weight: bold\"> Value      </span>┃\n",
       "┣━━━━━━━━━━━━━━━━━━━━╋━━━━━━━━━━━━┫\n",
       "┃<span style=\"color: #008080; text-decoration-color: #008080; font-weight: bold\"> 🧪 Trial Mode      </span>┃<span style=\"color: #808000; text-decoration-color: #808000; font-weight: bold\"> Real       </span>┃\n",
       "┃<span style=\"color: #008080; text-decoration-color: #008080; font-weight: bold\"> 📏 Trial Unit      </span>┃<span style=\"color: #808000; text-decoration-color: #808000; font-weight: bold\"> Words      </span>┃\n",
       "┃<span style=\"color: #008080; text-decoration-color: #008080; font-weight: bold\"> 🔗 Experiment Mode </span>┃<span style=\"color: #808000; text-decoration-color: #808000; font-weight: bold\"> Experiment </span>┃\n",
       "┃<span style=\"color: #008080; text-decoration-color: #008080; font-weight: bold\"> 🎭 Trial Boundary  </span>┃<span style=\"color: #808000; text-decoration-color: #808000; font-weight: bold\"> Start      </span>┃\n",
       "┃<span style=\"color: #008080; text-decoration-color: #008080; font-weight: bold\"> 🔬 Trial Type      </span>┃<span style=\"color: #808000; text-decoration-color: #808000; font-weight: bold\"> Speech     </span>┃\n",
       "┃<span style=\"color: #008080; text-decoration-color: #008080; font-weight: bold\"> 📊 Modality        </span>┃<span style=\"color: #808000; text-decoration-color: #808000; font-weight: bold\"> Audio      </span>┃\n",
       "┃<span style=\"color: #008080; text-decoration-color: #008080; font-weight: bold\"> ⏱ Tmin             </span>┃<span style=\"color: #808000; text-decoration-color: #808000; font-weight: bold\"> </span><span style=\"color: #008080; text-decoration-color: #008080; font-weight: bold\">-0.2</span><span style=\"color: #808000; text-decoration-color: #808000; font-weight: bold\">       </span>┃\n",
       "┃<span style=\"color: #008080; text-decoration-color: #008080; font-weight: bold\"> ⏳ Tmax            </span>┃<span style=\"color: #808000; text-decoration-color: #808000; font-weight: bold\"> </span><span style=\"color: #008080; text-decoration-color: #008080; font-weight: bold\">0.5</span><span style=\"color: #808000; text-decoration-color: #808000; font-weight: bold\">        </span>┃\n",
       "┗━━━━━━━━━━━━━━━━━━━━┻━━━━━━━━━━━━┛\n",
       "</pre>\n"
      ],
      "text/plain": [
       "\u001b[3m        Extraction Criteria        \u001b[0m\n",
       "┏━━━━━━━━━━━━━━━━━━━━┳━━━━━━━━━━━━┓\n",
       "┃\u001b[1m \u001b[0m\u001b[1mParameter         \u001b[0m\u001b[1m \u001b[0m┃\u001b[1m \u001b[0m\u001b[1mValue     \u001b[0m\u001b[1m \u001b[0m┃\n",
       "┣━━━━━━━━━━━━━━━━━━━━╋━━━━━━━━━━━━┫\n",
       "┃\u001b[1;36m \u001b[0m\u001b[1;36m🧪 Trial Mode     \u001b[0m\u001b[1;36m \u001b[0m┃\u001b[1;33m \u001b[0m\u001b[1;33mReal      \u001b[0m\u001b[1;33m \u001b[0m┃\n",
       "┃\u001b[1;36m \u001b[0m\u001b[1;36m📏 Trial Unit     \u001b[0m\u001b[1;36m \u001b[0m┃\u001b[1;33m \u001b[0m\u001b[1;33mWords     \u001b[0m\u001b[1;33m \u001b[0m┃\n",
       "┃\u001b[1;36m \u001b[0m\u001b[1;36m🔗 Experiment Mode\u001b[0m\u001b[1;36m \u001b[0m┃\u001b[1;33m \u001b[0m\u001b[1;33mExperiment\u001b[0m\u001b[1;33m \u001b[0m┃\n",
       "┃\u001b[1;36m \u001b[0m\u001b[1;36m🎭 Trial Boundary \u001b[0m\u001b[1;36m \u001b[0m┃\u001b[1;33m \u001b[0m\u001b[1;33mStart     \u001b[0m\u001b[1;33m \u001b[0m┃\n",
       "┃\u001b[1;36m \u001b[0m\u001b[1;36m🔬 Trial Type     \u001b[0m\u001b[1;36m \u001b[0m┃\u001b[1;33m \u001b[0m\u001b[1;33mSpeech    \u001b[0m\u001b[1;33m \u001b[0m┃\n",
       "┃\u001b[1;36m \u001b[0m\u001b[1;36m📊 Modality       \u001b[0m\u001b[1;36m \u001b[0m┃\u001b[1;33m \u001b[0m\u001b[1;33mAudio     \u001b[0m\u001b[1;33m \u001b[0m┃\n",
       "┃\u001b[1;36m \u001b[0m\u001b[1;36m⏱ Tmin            \u001b[0m\u001b[1;36m \u001b[0m┃\u001b[1;33m \u001b[0m\u001b[1;36m-0.2\u001b[0m\u001b[1;33m      \u001b[0m\u001b[1;33m \u001b[0m┃\n",
       "┃\u001b[1;36m \u001b[0m\u001b[1;36m⏳ Tmax           \u001b[0m\u001b[1;36m \u001b[0m┃\u001b[1;33m \u001b[0m\u001b[1;36m0.5\u001b[0m\u001b[1;33m       \u001b[0m\u001b[1;33m \u001b[0m┃\n",
       "┗━━━━━━━━━━━━━━━━━━━━┻━━━━━━━━━━━━┛\n"
      ]
     },
     "metadata": {},
     "output_type": "display_data"
    },
    {
     "name": "stdout",
     "output_type": "stream",
     "text": [
      "Not setting metadata\n",
      "95 matching events found\n",
      "Applying baseline correction (mode: mean)\n",
      "0 projection items activated\n",
      "Using data from preloaded Raw for 95 events and 701 original time points ...\n",
      "0 bad epochs dropped\n"
     ]
    },
    {
     "data": {
      "text/html": [
       "<pre style=\"white-space:pre;overflow-x:auto;line-height:normal;font-family:Menlo,'DejaVu Sans Mono',consolas,'Courier New',monospace\"><span style=\"color: #800000; text-decoration-color: #800000\">╭─────────────────────────────────────╮</span>\n",
       "<span style=\"color: #800000; text-decoration-color: #800000\">│</span>  <span style=\"color: #800000; text-decoration-color: #800000; font-weight: bold\">Initializing EEGEpochBuilder Class</span> <span style=\"color: #800000; text-decoration-color: #800000\">│</span>\n",
       "<span style=\"color: #800000; text-decoration-color: #800000\">╰─────────────────────────────────────╯</span>\n",
       "</pre>\n"
      ],
      "text/plain": [
       "\u001b[31m╭─────────────────────────────────────╮\u001b[0m\n",
       "\u001b[31m│\u001b[0m  \u001b[1;31mInitializing EEGEpochBuilder Class\u001b[0m \u001b[31m│\u001b[0m\n",
       "\u001b[31m╰─────────────────────────────────────╯\u001b[0m\n"
      ]
     },
     "metadata": {},
     "output_type": "display_data"
    },
    {
     "data": {
      "text/html": [
       "<pre style=\"white-space:pre;overflow-x:auto;line-height:normal;font-family:Menlo,'DejaVu Sans Mono',consolas,'Courier New',monospace\"> <span style=\"color: #008000; text-decoration-color: #008000; font-weight: bold\">Creating EPOCHS</span>\n",
       "</pre>\n"
      ],
      "text/plain": [
       " \u001b[1;32mCreating EPOCHS\u001b[0m\n"
      ]
     },
     "metadata": {},
     "output_type": "display_data"
    },
    {
     "data": {
      "text/html": [
       "<pre style=\"white-space:pre;overflow-x:auto;line-height:normal;font-family:Menlo,'DejaVu Sans Mono',consolas,'Courier New',monospace\"><span style=\"font-style: italic\">        Extraction Criteria        </span>\n",
       "┏━━━━━━━━━━━━━━━━━━━━┳━━━━━━━━━━━━┓\n",
       "┃<span style=\"font-weight: bold\"> Parameter          </span>┃<span style=\"font-weight: bold\"> Value      </span>┃\n",
       "┣━━━━━━━━━━━━━━━━━━━━╋━━━━━━━━━━━━┫\n",
       "┃<span style=\"color: #008080; text-decoration-color: #008080; font-weight: bold\"> 🧪 Trial Mode      </span>┃<span style=\"color: #808000; text-decoration-color: #808000; font-weight: bold\"> Silent     </span>┃\n",
       "┃<span style=\"color: #008080; text-decoration-color: #008080; font-weight: bold\"> 📏 Trial Unit      </span>┃<span style=\"color: #808000; text-decoration-color: #808000; font-weight: bold\"> Words      </span>┃\n",
       "┃<span style=\"color: #008080; text-decoration-color: #008080; font-weight: bold\"> 🔗 Experiment Mode </span>┃<span style=\"color: #808000; text-decoration-color: #808000; font-weight: bold\"> Experiment </span>┃\n",
       "┃<span style=\"color: #008080; text-decoration-color: #008080; font-weight: bold\"> 🎭 Trial Boundary  </span>┃<span style=\"color: #808000; text-decoration-color: #808000; font-weight: bold\"> Start      </span>┃\n",
       "┃<span style=\"color: #008080; text-decoration-color: #008080; font-weight: bold\"> 🔬 Trial Type      </span>┃<span style=\"color: #808000; text-decoration-color: #808000; font-weight: bold\"> Speech     </span>┃\n",
       "┃<span style=\"color: #008080; text-decoration-color: #008080; font-weight: bold\"> 📊 Modality        </span>┃<span style=\"color: #808000; text-decoration-color: #808000; font-weight: bold\"> Audio      </span>┃\n",
       "┃<span style=\"color: #008080; text-decoration-color: #008080; font-weight: bold\"> ⏱ Tmin             </span>┃<span style=\"color: #808000; text-decoration-color: #808000; font-weight: bold\"> </span><span style=\"color: #008080; text-decoration-color: #008080; font-weight: bold\">-0.2</span><span style=\"color: #808000; text-decoration-color: #808000; font-weight: bold\">       </span>┃\n",
       "┃<span style=\"color: #008080; text-decoration-color: #008080; font-weight: bold\"> ⏳ Tmax            </span>┃<span style=\"color: #808000; text-decoration-color: #808000; font-weight: bold\"> </span><span style=\"color: #008080; text-decoration-color: #008080; font-weight: bold\">0.5</span><span style=\"color: #808000; text-decoration-color: #808000; font-weight: bold\">        </span>┃\n",
       "┗━━━━━━━━━━━━━━━━━━━━┻━━━━━━━━━━━━┛\n",
       "</pre>\n"
      ],
      "text/plain": [
       "\u001b[3m        Extraction Criteria        \u001b[0m\n",
       "┏━━━━━━━━━━━━━━━━━━━━┳━━━━━━━━━━━━┓\n",
       "┃\u001b[1m \u001b[0m\u001b[1mParameter         \u001b[0m\u001b[1m \u001b[0m┃\u001b[1m \u001b[0m\u001b[1mValue     \u001b[0m\u001b[1m \u001b[0m┃\n",
       "┣━━━━━━━━━━━━━━━━━━━━╋━━━━━━━━━━━━┫\n",
       "┃\u001b[1;36m \u001b[0m\u001b[1;36m🧪 Trial Mode     \u001b[0m\u001b[1;36m \u001b[0m┃\u001b[1;33m \u001b[0m\u001b[1;33mSilent    \u001b[0m\u001b[1;33m \u001b[0m┃\n",
       "┃\u001b[1;36m \u001b[0m\u001b[1;36m📏 Trial Unit     \u001b[0m\u001b[1;36m \u001b[0m┃\u001b[1;33m \u001b[0m\u001b[1;33mWords     \u001b[0m\u001b[1;33m \u001b[0m┃\n",
       "┃\u001b[1;36m \u001b[0m\u001b[1;36m🔗 Experiment Mode\u001b[0m\u001b[1;36m \u001b[0m┃\u001b[1;33m \u001b[0m\u001b[1;33mExperiment\u001b[0m\u001b[1;33m \u001b[0m┃\n",
       "┃\u001b[1;36m \u001b[0m\u001b[1;36m🎭 Trial Boundary \u001b[0m\u001b[1;36m \u001b[0m┃\u001b[1;33m \u001b[0m\u001b[1;33mStart     \u001b[0m\u001b[1;33m \u001b[0m┃\n",
       "┃\u001b[1;36m \u001b[0m\u001b[1;36m🔬 Trial Type     \u001b[0m\u001b[1;36m \u001b[0m┃\u001b[1;33m \u001b[0m\u001b[1;33mSpeech    \u001b[0m\u001b[1;33m \u001b[0m┃\n",
       "┃\u001b[1;36m \u001b[0m\u001b[1;36m📊 Modality       \u001b[0m\u001b[1;36m \u001b[0m┃\u001b[1;33m \u001b[0m\u001b[1;33mAudio     \u001b[0m\u001b[1;33m \u001b[0m┃\n",
       "┃\u001b[1;36m \u001b[0m\u001b[1;36m⏱ Tmin            \u001b[0m\u001b[1;36m \u001b[0m┃\u001b[1;33m \u001b[0m\u001b[1;36m-0.2\u001b[0m\u001b[1;33m      \u001b[0m\u001b[1;33m \u001b[0m┃\n",
       "┃\u001b[1;36m \u001b[0m\u001b[1;36m⏳ Tmax           \u001b[0m\u001b[1;36m \u001b[0m┃\u001b[1;33m \u001b[0m\u001b[1;36m0.5\u001b[0m\u001b[1;33m       \u001b[0m\u001b[1;33m \u001b[0m┃\n",
       "┗━━━━━━━━━━━━━━━━━━━━┻━━━━━━━━━━━━┛\n"
      ]
     },
     "metadata": {},
     "output_type": "display_data"
    },
    {
     "name": "stdout",
     "output_type": "stream",
     "text": [
      "Not setting metadata\n",
      "95 matching events found\n",
      "Applying baseline correction (mode: mean)\n",
      "0 projection items activated\n",
      "Using data from preloaded Raw for 95 events and 701 original time points ...\n",
      "0 bad epochs dropped\n",
      "NOTE: pick_channels() is a legacy function. New code should use inst.pick(...).\n",
      "NOTE: pick_channels() is a legacy function. New code should use inst.pick(...).\n",
      "Overt P100: latency=0.120s, peak=1.43µV, mean=0.70µV\n",
      "Covert P100: latency=0.303s, peak=0.52µV, mean=-0.19µV\n",
      "Initializing Plotter\n",
      "Results saved to p100_results/sub-11_ses-01_p100_Overt_Covert.csv\n"
     ]
    },
    {
     "data": {
      "text/html": [
       "<pre style=\"white-space:pre;overflow-x:auto;line-height:normal;font-family:Menlo,'DejaVu Sans Mono',consolas,'Courier New',monospace\"><span style=\"color: #808000; text-decoration-color: #808000\">╭─────────────────────────────────────────╮</span>\n",
       "<span style=\"color: #808000; text-decoration-color: #808000\">│</span> 🚀 <span style=\"color: #808000; text-decoration-color: #808000; font-weight: bold\">Initializing BIDSDatasetReader Class</span> <span style=\"color: #808000; text-decoration-color: #808000\">│</span>\n",
       "<span style=\"color: #808000; text-decoration-color: #808000\">╰─────────────────────────────────────────╯</span>\n",
       "</pre>\n"
      ],
      "text/plain": [
       "\u001b[33m╭─────────────────────────────────────────╮\u001b[0m\n",
       "\u001b[33m│\u001b[0m 🚀 \u001b[1;33mInitializing BIDSDatasetReader Class\u001b[0m \u001b[33m│\u001b[0m\n",
       "\u001b[33m╰─────────────────────────────────────────╯\u001b[0m\n"
      ]
     },
     "metadata": {},
     "output_type": "display_data"
    },
    {
     "data": {
      "text/html": [
       "<pre style=\"white-space:pre;overflow-x:auto;line-height:normal;font-family:Menlo,'DejaVu Sans Mono',consolas,'Courier New',monospace\"> <span style=\"color: #008000; text-decoration-color: #008000; font-weight: bold\">Loading Processed EEG Data: sub-</span><span style=\"color: #008000; text-decoration-color: #008000; font-weight: bold\">12</span><span style=\"color: #008000; text-decoration-color: #008000; font-weight: bold\"> ses-</span><span style=\"color: #008000; text-decoration-color: #008000; font-weight: bold\">01</span>\n",
       "</pre>\n"
      ],
      "text/plain": [
       " \u001b[1;32mLoading Processed EEG Data: sub-\u001b[0m\u001b[1;32m12\u001b[0m\u001b[1;32m ses-\u001b[0m\u001b[1;32m01\u001b[0m\n"
      ]
     },
     "metadata": {},
     "output_type": "display_data"
    },
    {
     "data": {
      "text/html": [
       "<pre style=\"white-space:pre;overflow-x:auto;line-height:normal;font-family:Menlo,'DejaVu Sans Mono',consolas,'Courier New',monospace\"><span style=\"color: #800000; text-decoration-color: #800000\">╭─────────────────────────────────────╮</span>\n",
       "<span style=\"color: #800000; text-decoration-color: #800000\">│</span>  <span style=\"color: #800000; text-decoration-color: #800000; font-weight: bold\">Initializing EEGEpochBuilder Class</span> <span style=\"color: #800000; text-decoration-color: #800000\">│</span>\n",
       "<span style=\"color: #800000; text-decoration-color: #800000\">╰─────────────────────────────────────╯</span>\n",
       "</pre>\n"
      ],
      "text/plain": [
       "\u001b[31m╭─────────────────────────────────────╮\u001b[0m\n",
       "\u001b[31m│\u001b[0m  \u001b[1;31mInitializing EEGEpochBuilder Class\u001b[0m \u001b[31m│\u001b[0m\n",
       "\u001b[31m╰─────────────────────────────────────╯\u001b[0m\n"
      ]
     },
     "metadata": {},
     "output_type": "display_data"
    },
    {
     "data": {
      "text/html": [
       "<pre style=\"white-space:pre;overflow-x:auto;line-height:normal;font-family:Menlo,'DejaVu Sans Mono',consolas,'Courier New',monospace\"> <span style=\"color: #008000; text-decoration-color: #008000; font-weight: bold\">Creating EPOCHS</span>\n",
       "</pre>\n"
      ],
      "text/plain": [
       " \u001b[1;32mCreating EPOCHS\u001b[0m\n"
      ]
     },
     "metadata": {},
     "output_type": "display_data"
    },
    {
     "data": {
      "text/html": [
       "<pre style=\"white-space:pre;overflow-x:auto;line-height:normal;font-family:Menlo,'DejaVu Sans Mono',consolas,'Courier New',monospace\"><span style=\"font-style: italic\">        Extraction Criteria        </span>\n",
       "┏━━━━━━━━━━━━━━━━━━━━┳━━━━━━━━━━━━┓\n",
       "┃<span style=\"font-weight: bold\"> Parameter          </span>┃<span style=\"font-weight: bold\"> Value      </span>┃\n",
       "┣━━━━━━━━━━━━━━━━━━━━╋━━━━━━━━━━━━┫\n",
       "┃<span style=\"color: #008080; text-decoration-color: #008080; font-weight: bold\"> 🧪 Trial Mode      </span>┃<span style=\"color: #808000; text-decoration-color: #808000; font-weight: bold\"> Real       </span>┃\n",
       "┃<span style=\"color: #008080; text-decoration-color: #008080; font-weight: bold\"> 📏 Trial Unit      </span>┃<span style=\"color: #808000; text-decoration-color: #808000; font-weight: bold\"> Words      </span>┃\n",
       "┃<span style=\"color: #008080; text-decoration-color: #008080; font-weight: bold\"> 🔗 Experiment Mode </span>┃<span style=\"color: #808000; text-decoration-color: #808000; font-weight: bold\"> Experiment </span>┃\n",
       "┃<span style=\"color: #008080; text-decoration-color: #008080; font-weight: bold\"> 🎭 Trial Boundary  </span>┃<span style=\"color: #808000; text-decoration-color: #808000; font-weight: bold\"> Start      </span>┃\n",
       "┃<span style=\"color: #008080; text-decoration-color: #008080; font-weight: bold\"> 🔬 Trial Type      </span>┃<span style=\"color: #808000; text-decoration-color: #808000; font-weight: bold\"> Speech     </span>┃\n",
       "┃<span style=\"color: #008080; text-decoration-color: #008080; font-weight: bold\"> 📊 Modality        </span>┃<span style=\"color: #808000; text-decoration-color: #808000; font-weight: bold\"> Audio      </span>┃\n",
       "┃<span style=\"color: #008080; text-decoration-color: #008080; font-weight: bold\"> ⏱ Tmin             </span>┃<span style=\"color: #808000; text-decoration-color: #808000; font-weight: bold\"> </span><span style=\"color: #008080; text-decoration-color: #008080; font-weight: bold\">-0.2</span><span style=\"color: #808000; text-decoration-color: #808000; font-weight: bold\">       </span>┃\n",
       "┃<span style=\"color: #008080; text-decoration-color: #008080; font-weight: bold\"> ⏳ Tmax            </span>┃<span style=\"color: #808000; text-decoration-color: #808000; font-weight: bold\"> </span><span style=\"color: #008080; text-decoration-color: #008080; font-weight: bold\">0.5</span><span style=\"color: #808000; text-decoration-color: #808000; font-weight: bold\">        </span>┃\n",
       "┗━━━━━━━━━━━━━━━━━━━━┻━━━━━━━━━━━━┛\n",
       "</pre>\n"
      ],
      "text/plain": [
       "\u001b[3m        Extraction Criteria        \u001b[0m\n",
       "┏━━━━━━━━━━━━━━━━━━━━┳━━━━━━━━━━━━┓\n",
       "┃\u001b[1m \u001b[0m\u001b[1mParameter         \u001b[0m\u001b[1m \u001b[0m┃\u001b[1m \u001b[0m\u001b[1mValue     \u001b[0m\u001b[1m \u001b[0m┃\n",
       "┣━━━━━━━━━━━━━━━━━━━━╋━━━━━━━━━━━━┫\n",
       "┃\u001b[1;36m \u001b[0m\u001b[1;36m🧪 Trial Mode     \u001b[0m\u001b[1;36m \u001b[0m┃\u001b[1;33m \u001b[0m\u001b[1;33mReal      \u001b[0m\u001b[1;33m \u001b[0m┃\n",
       "┃\u001b[1;36m \u001b[0m\u001b[1;36m📏 Trial Unit     \u001b[0m\u001b[1;36m \u001b[0m┃\u001b[1;33m \u001b[0m\u001b[1;33mWords     \u001b[0m\u001b[1;33m \u001b[0m┃\n",
       "┃\u001b[1;36m \u001b[0m\u001b[1;36m🔗 Experiment Mode\u001b[0m\u001b[1;36m \u001b[0m┃\u001b[1;33m \u001b[0m\u001b[1;33mExperiment\u001b[0m\u001b[1;33m \u001b[0m┃\n",
       "┃\u001b[1;36m \u001b[0m\u001b[1;36m🎭 Trial Boundary \u001b[0m\u001b[1;36m \u001b[0m┃\u001b[1;33m \u001b[0m\u001b[1;33mStart     \u001b[0m\u001b[1;33m \u001b[0m┃\n",
       "┃\u001b[1;36m \u001b[0m\u001b[1;36m🔬 Trial Type     \u001b[0m\u001b[1;36m \u001b[0m┃\u001b[1;33m \u001b[0m\u001b[1;33mSpeech    \u001b[0m\u001b[1;33m \u001b[0m┃\n",
       "┃\u001b[1;36m \u001b[0m\u001b[1;36m📊 Modality       \u001b[0m\u001b[1;36m \u001b[0m┃\u001b[1;33m \u001b[0m\u001b[1;33mAudio     \u001b[0m\u001b[1;33m \u001b[0m┃\n",
       "┃\u001b[1;36m \u001b[0m\u001b[1;36m⏱ Tmin            \u001b[0m\u001b[1;36m \u001b[0m┃\u001b[1;33m \u001b[0m\u001b[1;36m-0.2\u001b[0m\u001b[1;33m      \u001b[0m\u001b[1;33m \u001b[0m┃\n",
       "┃\u001b[1;36m \u001b[0m\u001b[1;36m⏳ Tmax           \u001b[0m\u001b[1;36m \u001b[0m┃\u001b[1;33m \u001b[0m\u001b[1;36m0.5\u001b[0m\u001b[1;33m       \u001b[0m\u001b[1;33m \u001b[0m┃\n",
       "┗━━━━━━━━━━━━━━━━━━━━┻━━━━━━━━━━━━┛\n"
      ]
     },
     "metadata": {},
     "output_type": "display_data"
    },
    {
     "name": "stdout",
     "output_type": "stream",
     "text": [
      "Not setting metadata\n",
      "95 matching events found\n",
      "Applying baseline correction (mode: mean)\n",
      "0 projection items activated\n",
      "Using data from preloaded Raw for 95 events and 701 original time points ...\n",
      "0 bad epochs dropped\n"
     ]
    },
    {
     "data": {
      "text/html": [
       "<pre style=\"white-space:pre;overflow-x:auto;line-height:normal;font-family:Menlo,'DejaVu Sans Mono',consolas,'Courier New',monospace\"><span style=\"color: #800000; text-decoration-color: #800000\">╭─────────────────────────────────────╮</span>\n",
       "<span style=\"color: #800000; text-decoration-color: #800000\">│</span>  <span style=\"color: #800000; text-decoration-color: #800000; font-weight: bold\">Initializing EEGEpochBuilder Class</span> <span style=\"color: #800000; text-decoration-color: #800000\">│</span>\n",
       "<span style=\"color: #800000; text-decoration-color: #800000\">╰─────────────────────────────────────╯</span>\n",
       "</pre>\n"
      ],
      "text/plain": [
       "\u001b[31m╭─────────────────────────────────────╮\u001b[0m\n",
       "\u001b[31m│\u001b[0m  \u001b[1;31mInitializing EEGEpochBuilder Class\u001b[0m \u001b[31m│\u001b[0m\n",
       "\u001b[31m╰─────────────────────────────────────╯\u001b[0m\n"
      ]
     },
     "metadata": {},
     "output_type": "display_data"
    },
    {
     "data": {
      "text/html": [
       "<pre style=\"white-space:pre;overflow-x:auto;line-height:normal;font-family:Menlo,'DejaVu Sans Mono',consolas,'Courier New',monospace\"> <span style=\"color: #008000; text-decoration-color: #008000; font-weight: bold\">Creating EPOCHS</span>\n",
       "</pre>\n"
      ],
      "text/plain": [
       " \u001b[1;32mCreating EPOCHS\u001b[0m\n"
      ]
     },
     "metadata": {},
     "output_type": "display_data"
    },
    {
     "data": {
      "text/html": [
       "<pre style=\"white-space:pre;overflow-x:auto;line-height:normal;font-family:Menlo,'DejaVu Sans Mono',consolas,'Courier New',monospace\"><span style=\"font-style: italic\">        Extraction Criteria        </span>\n",
       "┏━━━━━━━━━━━━━━━━━━━━┳━━━━━━━━━━━━┓\n",
       "┃<span style=\"font-weight: bold\"> Parameter          </span>┃<span style=\"font-weight: bold\"> Value      </span>┃\n",
       "┣━━━━━━━━━━━━━━━━━━━━╋━━━━━━━━━━━━┫\n",
       "┃<span style=\"color: #008080; text-decoration-color: #008080; font-weight: bold\"> 🧪 Trial Mode      </span>┃<span style=\"color: #808000; text-decoration-color: #808000; font-weight: bold\"> Silent     </span>┃\n",
       "┃<span style=\"color: #008080; text-decoration-color: #008080; font-weight: bold\"> 📏 Trial Unit      </span>┃<span style=\"color: #808000; text-decoration-color: #808000; font-weight: bold\"> Words      </span>┃\n",
       "┃<span style=\"color: #008080; text-decoration-color: #008080; font-weight: bold\"> 🔗 Experiment Mode </span>┃<span style=\"color: #808000; text-decoration-color: #808000; font-weight: bold\"> Experiment </span>┃\n",
       "┃<span style=\"color: #008080; text-decoration-color: #008080; font-weight: bold\"> 🎭 Trial Boundary  </span>┃<span style=\"color: #808000; text-decoration-color: #808000; font-weight: bold\"> Start      </span>┃\n",
       "┃<span style=\"color: #008080; text-decoration-color: #008080; font-weight: bold\"> 🔬 Trial Type      </span>┃<span style=\"color: #808000; text-decoration-color: #808000; font-weight: bold\"> Speech     </span>┃\n",
       "┃<span style=\"color: #008080; text-decoration-color: #008080; font-weight: bold\"> 📊 Modality        </span>┃<span style=\"color: #808000; text-decoration-color: #808000; font-weight: bold\"> Audio      </span>┃\n",
       "┃<span style=\"color: #008080; text-decoration-color: #008080; font-weight: bold\"> ⏱ Tmin             </span>┃<span style=\"color: #808000; text-decoration-color: #808000; font-weight: bold\"> </span><span style=\"color: #008080; text-decoration-color: #008080; font-weight: bold\">-0.2</span><span style=\"color: #808000; text-decoration-color: #808000; font-weight: bold\">       </span>┃\n",
       "┃<span style=\"color: #008080; text-decoration-color: #008080; font-weight: bold\"> ⏳ Tmax            </span>┃<span style=\"color: #808000; text-decoration-color: #808000; font-weight: bold\"> </span><span style=\"color: #008080; text-decoration-color: #008080; font-weight: bold\">0.5</span><span style=\"color: #808000; text-decoration-color: #808000; font-weight: bold\">        </span>┃\n",
       "┗━━━━━━━━━━━━━━━━━━━━┻━━━━━━━━━━━━┛\n",
       "</pre>\n"
      ],
      "text/plain": [
       "\u001b[3m        Extraction Criteria        \u001b[0m\n",
       "┏━━━━━━━━━━━━━━━━━━━━┳━━━━━━━━━━━━┓\n",
       "┃\u001b[1m \u001b[0m\u001b[1mParameter         \u001b[0m\u001b[1m \u001b[0m┃\u001b[1m \u001b[0m\u001b[1mValue     \u001b[0m\u001b[1m \u001b[0m┃\n",
       "┣━━━━━━━━━━━━━━━━━━━━╋━━━━━━━━━━━━┫\n",
       "┃\u001b[1;36m \u001b[0m\u001b[1;36m🧪 Trial Mode     \u001b[0m\u001b[1;36m \u001b[0m┃\u001b[1;33m \u001b[0m\u001b[1;33mSilent    \u001b[0m\u001b[1;33m \u001b[0m┃\n",
       "┃\u001b[1;36m \u001b[0m\u001b[1;36m📏 Trial Unit     \u001b[0m\u001b[1;36m \u001b[0m┃\u001b[1;33m \u001b[0m\u001b[1;33mWords     \u001b[0m\u001b[1;33m \u001b[0m┃\n",
       "┃\u001b[1;36m \u001b[0m\u001b[1;36m🔗 Experiment Mode\u001b[0m\u001b[1;36m \u001b[0m┃\u001b[1;33m \u001b[0m\u001b[1;33mExperiment\u001b[0m\u001b[1;33m \u001b[0m┃\n",
       "┃\u001b[1;36m \u001b[0m\u001b[1;36m🎭 Trial Boundary \u001b[0m\u001b[1;36m \u001b[0m┃\u001b[1;33m \u001b[0m\u001b[1;33mStart     \u001b[0m\u001b[1;33m \u001b[0m┃\n",
       "┃\u001b[1;36m \u001b[0m\u001b[1;36m🔬 Trial Type     \u001b[0m\u001b[1;36m \u001b[0m┃\u001b[1;33m \u001b[0m\u001b[1;33mSpeech    \u001b[0m\u001b[1;33m \u001b[0m┃\n",
       "┃\u001b[1;36m \u001b[0m\u001b[1;36m📊 Modality       \u001b[0m\u001b[1;36m \u001b[0m┃\u001b[1;33m \u001b[0m\u001b[1;33mAudio     \u001b[0m\u001b[1;33m \u001b[0m┃\n",
       "┃\u001b[1;36m \u001b[0m\u001b[1;36m⏱ Tmin            \u001b[0m\u001b[1;36m \u001b[0m┃\u001b[1;33m \u001b[0m\u001b[1;36m-0.2\u001b[0m\u001b[1;33m      \u001b[0m\u001b[1;33m \u001b[0m┃\n",
       "┃\u001b[1;36m \u001b[0m\u001b[1;36m⏳ Tmax           \u001b[0m\u001b[1;36m \u001b[0m┃\u001b[1;33m \u001b[0m\u001b[1;36m0.5\u001b[0m\u001b[1;33m       \u001b[0m\u001b[1;33m \u001b[0m┃\n",
       "┗━━━━━━━━━━━━━━━━━━━━┻━━━━━━━━━━━━┛\n"
      ]
     },
     "metadata": {},
     "output_type": "display_data"
    },
    {
     "name": "stdout",
     "output_type": "stream",
     "text": [
      "Not setting metadata\n",
      "95 matching events found\n",
      "Applying baseline correction (mode: mean)\n",
      "0 projection items activated\n",
      "Using data from preloaded Raw for 95 events and 701 original time points ...\n",
      "0 bad epochs dropped\n",
      "NOTE: pick_channels() is a legacy function. New code should use inst.pick(...).\n",
      "NOTE: pick_channels() is a legacy function. New code should use inst.pick(...).\n",
      "Overt P100: latency=0.120s, peak=0.99µV, mean=0.26µV\n",
      "Covert P100: latency=0.295s, peak=4.13µV, mean=3.31µV\n",
      "Initializing Plotter\n",
      "Results saved to p100_results/sub-12_ses-01_p100_Overt_Covert.csv\n"
     ]
    },
    {
     "data": {
      "text/html": [
       "<pre style=\"white-space:pre;overflow-x:auto;line-height:normal;font-family:Menlo,'DejaVu Sans Mono',consolas,'Courier New',monospace\"><span style=\"color: #808000; text-decoration-color: #808000\">╭─────────────────────────────────────────╮</span>\n",
       "<span style=\"color: #808000; text-decoration-color: #808000\">│</span> 🚀 <span style=\"color: #808000; text-decoration-color: #808000; font-weight: bold\">Initializing BIDSDatasetReader Class</span> <span style=\"color: #808000; text-decoration-color: #808000\">│</span>\n",
       "<span style=\"color: #808000; text-decoration-color: #808000\">╰─────────────────────────────────────────╯</span>\n",
       "</pre>\n"
      ],
      "text/plain": [
       "\u001b[33m╭─────────────────────────────────────────╮\u001b[0m\n",
       "\u001b[33m│\u001b[0m 🚀 \u001b[1;33mInitializing BIDSDatasetReader Class\u001b[0m \u001b[33m│\u001b[0m\n",
       "\u001b[33m╰─────────────────────────────────────────╯\u001b[0m\n"
      ]
     },
     "metadata": {},
     "output_type": "display_data"
    },
    {
     "data": {
      "text/html": [
       "<pre style=\"white-space:pre;overflow-x:auto;line-height:normal;font-family:Menlo,'DejaVu Sans Mono',consolas,'Courier New',monospace\"> <span style=\"color: #008000; text-decoration-color: #008000; font-weight: bold\">Loading Processed EEG Data: sub-</span><span style=\"color: #008000; text-decoration-color: #008000; font-weight: bold\">12</span><span style=\"color: #008000; text-decoration-color: #008000; font-weight: bold\"> ses-</span><span style=\"color: #008000; text-decoration-color: #008000; font-weight: bold\">02</span>\n",
       "</pre>\n"
      ],
      "text/plain": [
       " \u001b[1;32mLoading Processed EEG Data: sub-\u001b[0m\u001b[1;32m12\u001b[0m\u001b[1;32m ses-\u001b[0m\u001b[1;32m02\u001b[0m\n"
      ]
     },
     "metadata": {},
     "output_type": "display_data"
    },
    {
     "data": {
      "text/html": [
       "<pre style=\"white-space:pre;overflow-x:auto;line-height:normal;font-family:Menlo,'DejaVu Sans Mono',consolas,'Courier New',monospace\"><span style=\"color: #800000; text-decoration-color: #800000\">╭─────────────────────────────────────╮</span>\n",
       "<span style=\"color: #800000; text-decoration-color: #800000\">│</span>  <span style=\"color: #800000; text-decoration-color: #800000; font-weight: bold\">Initializing EEGEpochBuilder Class</span> <span style=\"color: #800000; text-decoration-color: #800000\">│</span>\n",
       "<span style=\"color: #800000; text-decoration-color: #800000\">╰─────────────────────────────────────╯</span>\n",
       "</pre>\n"
      ],
      "text/plain": [
       "\u001b[31m╭─────────────────────────────────────╮\u001b[0m\n",
       "\u001b[31m│\u001b[0m  \u001b[1;31mInitializing EEGEpochBuilder Class\u001b[0m \u001b[31m│\u001b[0m\n",
       "\u001b[31m╰─────────────────────────────────────╯\u001b[0m\n"
      ]
     },
     "metadata": {},
     "output_type": "display_data"
    },
    {
     "data": {
      "text/html": [
       "<pre style=\"white-space:pre;overflow-x:auto;line-height:normal;font-family:Menlo,'DejaVu Sans Mono',consolas,'Courier New',monospace\"> <span style=\"color: #008000; text-decoration-color: #008000; font-weight: bold\">Creating EPOCHS</span>\n",
       "</pre>\n"
      ],
      "text/plain": [
       " \u001b[1;32mCreating EPOCHS\u001b[0m\n"
      ]
     },
     "metadata": {},
     "output_type": "display_data"
    },
    {
     "data": {
      "text/html": [
       "<pre style=\"white-space:pre;overflow-x:auto;line-height:normal;font-family:Menlo,'DejaVu Sans Mono',consolas,'Courier New',monospace\"><span style=\"font-style: italic\">        Extraction Criteria        </span>\n",
       "┏━━━━━━━━━━━━━━━━━━━━┳━━━━━━━━━━━━┓\n",
       "┃<span style=\"font-weight: bold\"> Parameter          </span>┃<span style=\"font-weight: bold\"> Value      </span>┃\n",
       "┣━━━━━━━━━━━━━━━━━━━━╋━━━━━━━━━━━━┫\n",
       "┃<span style=\"color: #008080; text-decoration-color: #008080; font-weight: bold\"> 🧪 Trial Mode      </span>┃<span style=\"color: #808000; text-decoration-color: #808000; font-weight: bold\"> Real       </span>┃\n",
       "┃<span style=\"color: #008080; text-decoration-color: #008080; font-weight: bold\"> 📏 Trial Unit      </span>┃<span style=\"color: #808000; text-decoration-color: #808000; font-weight: bold\"> Words      </span>┃\n",
       "┃<span style=\"color: #008080; text-decoration-color: #008080; font-weight: bold\"> 🔗 Experiment Mode </span>┃<span style=\"color: #808000; text-decoration-color: #808000; font-weight: bold\"> Experiment </span>┃\n",
       "┃<span style=\"color: #008080; text-decoration-color: #008080; font-weight: bold\"> 🎭 Trial Boundary  </span>┃<span style=\"color: #808000; text-decoration-color: #808000; font-weight: bold\"> Start      </span>┃\n",
       "┃<span style=\"color: #008080; text-decoration-color: #008080; font-weight: bold\"> 🔬 Trial Type      </span>┃<span style=\"color: #808000; text-decoration-color: #808000; font-weight: bold\"> Speech     </span>┃\n",
       "┃<span style=\"color: #008080; text-decoration-color: #008080; font-weight: bold\"> 📊 Modality        </span>┃<span style=\"color: #808000; text-decoration-color: #808000; font-weight: bold\"> Audio      </span>┃\n",
       "┃<span style=\"color: #008080; text-decoration-color: #008080; font-weight: bold\"> ⏱ Tmin             </span>┃<span style=\"color: #808000; text-decoration-color: #808000; font-weight: bold\"> </span><span style=\"color: #008080; text-decoration-color: #008080; font-weight: bold\">-0.2</span><span style=\"color: #808000; text-decoration-color: #808000; font-weight: bold\">       </span>┃\n",
       "┃<span style=\"color: #008080; text-decoration-color: #008080; font-weight: bold\"> ⏳ Tmax            </span>┃<span style=\"color: #808000; text-decoration-color: #808000; font-weight: bold\"> </span><span style=\"color: #008080; text-decoration-color: #008080; font-weight: bold\">0.5</span><span style=\"color: #808000; text-decoration-color: #808000; font-weight: bold\">        </span>┃\n",
       "┗━━━━━━━━━━━━━━━━━━━━┻━━━━━━━━━━━━┛\n",
       "</pre>\n"
      ],
      "text/plain": [
       "\u001b[3m        Extraction Criteria        \u001b[0m\n",
       "┏━━━━━━━━━━━━━━━━━━━━┳━━━━━━━━━━━━┓\n",
       "┃\u001b[1m \u001b[0m\u001b[1mParameter         \u001b[0m\u001b[1m \u001b[0m┃\u001b[1m \u001b[0m\u001b[1mValue     \u001b[0m\u001b[1m \u001b[0m┃\n",
       "┣━━━━━━━━━━━━━━━━━━━━╋━━━━━━━━━━━━┫\n",
       "┃\u001b[1;36m \u001b[0m\u001b[1;36m🧪 Trial Mode     \u001b[0m\u001b[1;36m \u001b[0m┃\u001b[1;33m \u001b[0m\u001b[1;33mReal      \u001b[0m\u001b[1;33m \u001b[0m┃\n",
       "┃\u001b[1;36m \u001b[0m\u001b[1;36m📏 Trial Unit     \u001b[0m\u001b[1;36m \u001b[0m┃\u001b[1;33m \u001b[0m\u001b[1;33mWords     \u001b[0m\u001b[1;33m \u001b[0m┃\n",
       "┃\u001b[1;36m \u001b[0m\u001b[1;36m🔗 Experiment Mode\u001b[0m\u001b[1;36m \u001b[0m┃\u001b[1;33m \u001b[0m\u001b[1;33mExperiment\u001b[0m\u001b[1;33m \u001b[0m┃\n",
       "┃\u001b[1;36m \u001b[0m\u001b[1;36m🎭 Trial Boundary \u001b[0m\u001b[1;36m \u001b[0m┃\u001b[1;33m \u001b[0m\u001b[1;33mStart     \u001b[0m\u001b[1;33m \u001b[0m┃\n",
       "┃\u001b[1;36m \u001b[0m\u001b[1;36m🔬 Trial Type     \u001b[0m\u001b[1;36m \u001b[0m┃\u001b[1;33m \u001b[0m\u001b[1;33mSpeech    \u001b[0m\u001b[1;33m \u001b[0m┃\n",
       "┃\u001b[1;36m \u001b[0m\u001b[1;36m📊 Modality       \u001b[0m\u001b[1;36m \u001b[0m┃\u001b[1;33m \u001b[0m\u001b[1;33mAudio     \u001b[0m\u001b[1;33m \u001b[0m┃\n",
       "┃\u001b[1;36m \u001b[0m\u001b[1;36m⏱ Tmin            \u001b[0m\u001b[1;36m \u001b[0m┃\u001b[1;33m \u001b[0m\u001b[1;36m-0.2\u001b[0m\u001b[1;33m      \u001b[0m\u001b[1;33m \u001b[0m┃\n",
       "┃\u001b[1;36m \u001b[0m\u001b[1;36m⏳ Tmax           \u001b[0m\u001b[1;36m \u001b[0m┃\u001b[1;33m \u001b[0m\u001b[1;36m0.5\u001b[0m\u001b[1;33m       \u001b[0m\u001b[1;33m \u001b[0m┃\n",
       "┗━━━━━━━━━━━━━━━━━━━━┻━━━━━━━━━━━━┛\n"
      ]
     },
     "metadata": {},
     "output_type": "display_data"
    },
    {
     "name": "stdout",
     "output_type": "stream",
     "text": [
      "Not setting metadata\n",
      "95 matching events found\n",
      "Applying baseline correction (mode: mean)\n",
      "0 projection items activated\n",
      "Using data from preloaded Raw for 95 events and 701 original time points ...\n",
      "0 bad epochs dropped\n"
     ]
    },
    {
     "data": {
      "text/html": [
       "<pre style=\"white-space:pre;overflow-x:auto;line-height:normal;font-family:Menlo,'DejaVu Sans Mono',consolas,'Courier New',monospace\"><span style=\"color: #800000; text-decoration-color: #800000\">╭─────────────────────────────────────╮</span>\n",
       "<span style=\"color: #800000; text-decoration-color: #800000\">│</span>  <span style=\"color: #800000; text-decoration-color: #800000; font-weight: bold\">Initializing EEGEpochBuilder Class</span> <span style=\"color: #800000; text-decoration-color: #800000\">│</span>\n",
       "<span style=\"color: #800000; text-decoration-color: #800000\">╰─────────────────────────────────────╯</span>\n",
       "</pre>\n"
      ],
      "text/plain": [
       "\u001b[31m╭─────────────────────────────────────╮\u001b[0m\n",
       "\u001b[31m│\u001b[0m  \u001b[1;31mInitializing EEGEpochBuilder Class\u001b[0m \u001b[31m│\u001b[0m\n",
       "\u001b[31m╰─────────────────────────────────────╯\u001b[0m\n"
      ]
     },
     "metadata": {},
     "output_type": "display_data"
    },
    {
     "data": {
      "text/html": [
       "<pre style=\"white-space:pre;overflow-x:auto;line-height:normal;font-family:Menlo,'DejaVu Sans Mono',consolas,'Courier New',monospace\"> <span style=\"color: #008000; text-decoration-color: #008000; font-weight: bold\">Creating EPOCHS</span>\n",
       "</pre>\n"
      ],
      "text/plain": [
       " \u001b[1;32mCreating EPOCHS\u001b[0m\n"
      ]
     },
     "metadata": {},
     "output_type": "display_data"
    },
    {
     "data": {
      "text/html": [
       "<pre style=\"white-space:pre;overflow-x:auto;line-height:normal;font-family:Menlo,'DejaVu Sans Mono',consolas,'Courier New',monospace\"><span style=\"font-style: italic\">        Extraction Criteria        </span>\n",
       "┏━━━━━━━━━━━━━━━━━━━━┳━━━━━━━━━━━━┓\n",
       "┃<span style=\"font-weight: bold\"> Parameter          </span>┃<span style=\"font-weight: bold\"> Value      </span>┃\n",
       "┣━━━━━━━━━━━━━━━━━━━━╋━━━━━━━━━━━━┫\n",
       "┃<span style=\"color: #008080; text-decoration-color: #008080; font-weight: bold\"> 🧪 Trial Mode      </span>┃<span style=\"color: #808000; text-decoration-color: #808000; font-weight: bold\"> Silent     </span>┃\n",
       "┃<span style=\"color: #008080; text-decoration-color: #008080; font-weight: bold\"> 📏 Trial Unit      </span>┃<span style=\"color: #808000; text-decoration-color: #808000; font-weight: bold\"> Words      </span>┃\n",
       "┃<span style=\"color: #008080; text-decoration-color: #008080; font-weight: bold\"> 🔗 Experiment Mode </span>┃<span style=\"color: #808000; text-decoration-color: #808000; font-weight: bold\"> Experiment </span>┃\n",
       "┃<span style=\"color: #008080; text-decoration-color: #008080; font-weight: bold\"> 🎭 Trial Boundary  </span>┃<span style=\"color: #808000; text-decoration-color: #808000; font-weight: bold\"> Start      </span>┃\n",
       "┃<span style=\"color: #008080; text-decoration-color: #008080; font-weight: bold\"> 🔬 Trial Type      </span>┃<span style=\"color: #808000; text-decoration-color: #808000; font-weight: bold\"> Speech     </span>┃\n",
       "┃<span style=\"color: #008080; text-decoration-color: #008080; font-weight: bold\"> 📊 Modality        </span>┃<span style=\"color: #808000; text-decoration-color: #808000; font-weight: bold\"> Audio      </span>┃\n",
       "┃<span style=\"color: #008080; text-decoration-color: #008080; font-weight: bold\"> ⏱ Tmin             </span>┃<span style=\"color: #808000; text-decoration-color: #808000; font-weight: bold\"> </span><span style=\"color: #008080; text-decoration-color: #008080; font-weight: bold\">-0.2</span><span style=\"color: #808000; text-decoration-color: #808000; font-weight: bold\">       </span>┃\n",
       "┃<span style=\"color: #008080; text-decoration-color: #008080; font-weight: bold\"> ⏳ Tmax            </span>┃<span style=\"color: #808000; text-decoration-color: #808000; font-weight: bold\"> </span><span style=\"color: #008080; text-decoration-color: #008080; font-weight: bold\">0.5</span><span style=\"color: #808000; text-decoration-color: #808000; font-weight: bold\">        </span>┃\n",
       "┗━━━━━━━━━━━━━━━━━━━━┻━━━━━━━━━━━━┛\n",
       "</pre>\n"
      ],
      "text/plain": [
       "\u001b[3m        Extraction Criteria        \u001b[0m\n",
       "┏━━━━━━━━━━━━━━━━━━━━┳━━━━━━━━━━━━┓\n",
       "┃\u001b[1m \u001b[0m\u001b[1mParameter         \u001b[0m\u001b[1m \u001b[0m┃\u001b[1m \u001b[0m\u001b[1mValue     \u001b[0m\u001b[1m \u001b[0m┃\n",
       "┣━━━━━━━━━━━━━━━━━━━━╋━━━━━━━━━━━━┫\n",
       "┃\u001b[1;36m \u001b[0m\u001b[1;36m🧪 Trial Mode     \u001b[0m\u001b[1;36m \u001b[0m┃\u001b[1;33m \u001b[0m\u001b[1;33mSilent    \u001b[0m\u001b[1;33m \u001b[0m┃\n",
       "┃\u001b[1;36m \u001b[0m\u001b[1;36m📏 Trial Unit     \u001b[0m\u001b[1;36m \u001b[0m┃\u001b[1;33m \u001b[0m\u001b[1;33mWords     \u001b[0m\u001b[1;33m \u001b[0m┃\n",
       "┃\u001b[1;36m \u001b[0m\u001b[1;36m🔗 Experiment Mode\u001b[0m\u001b[1;36m \u001b[0m┃\u001b[1;33m \u001b[0m\u001b[1;33mExperiment\u001b[0m\u001b[1;33m \u001b[0m┃\n",
       "┃\u001b[1;36m \u001b[0m\u001b[1;36m🎭 Trial Boundary \u001b[0m\u001b[1;36m \u001b[0m┃\u001b[1;33m \u001b[0m\u001b[1;33mStart     \u001b[0m\u001b[1;33m \u001b[0m┃\n",
       "┃\u001b[1;36m \u001b[0m\u001b[1;36m🔬 Trial Type     \u001b[0m\u001b[1;36m \u001b[0m┃\u001b[1;33m \u001b[0m\u001b[1;33mSpeech    \u001b[0m\u001b[1;33m \u001b[0m┃\n",
       "┃\u001b[1;36m \u001b[0m\u001b[1;36m📊 Modality       \u001b[0m\u001b[1;36m \u001b[0m┃\u001b[1;33m \u001b[0m\u001b[1;33mAudio     \u001b[0m\u001b[1;33m \u001b[0m┃\n",
       "┃\u001b[1;36m \u001b[0m\u001b[1;36m⏱ Tmin            \u001b[0m\u001b[1;36m \u001b[0m┃\u001b[1;33m \u001b[0m\u001b[1;36m-0.2\u001b[0m\u001b[1;33m      \u001b[0m\u001b[1;33m \u001b[0m┃\n",
       "┃\u001b[1;36m \u001b[0m\u001b[1;36m⏳ Tmax           \u001b[0m\u001b[1;36m \u001b[0m┃\u001b[1;33m \u001b[0m\u001b[1;36m0.5\u001b[0m\u001b[1;33m       \u001b[0m\u001b[1;33m \u001b[0m┃\n",
       "┗━━━━━━━━━━━━━━━━━━━━┻━━━━━━━━━━━━┛\n"
      ]
     },
     "metadata": {},
     "output_type": "display_data"
    },
    {
     "name": "stdout",
     "output_type": "stream",
     "text": [
      "Not setting metadata\n",
      "95 matching events found\n",
      "Applying baseline correction (mode: mean)\n",
      "0 projection items activated\n",
      "Using data from preloaded Raw for 95 events and 701 original time points ...\n",
      "0 bad epochs dropped\n",
      "NOTE: pick_channels() is a legacy function. New code should use inst.pick(...).\n",
      "NOTE: pick_channels() is a legacy function. New code should use inst.pick(...).\n",
      "Overt P100: latency=0.120s, peak=0.54µV, mean=-0.35µV\n",
      "Covert P100: latency=0.307s, peak=5.36µV, mean=4.93µV\n",
      "Initializing Plotter\n",
      "Results saved to p100_results/sub-12_ses-02_p100_Overt_Covert.csv\n"
     ]
    },
    {
     "data": {
      "text/html": [
       "<pre style=\"white-space:pre;overflow-x:auto;line-height:normal;font-family:Menlo,'DejaVu Sans Mono',consolas,'Courier New',monospace\"><span style=\"color: #808000; text-decoration-color: #808000\">╭─────────────────────────────────────────╮</span>\n",
       "<span style=\"color: #808000; text-decoration-color: #808000\">│</span> 🚀 <span style=\"color: #808000; text-decoration-color: #808000; font-weight: bold\">Initializing BIDSDatasetReader Class</span> <span style=\"color: #808000; text-decoration-color: #808000\">│</span>\n",
       "<span style=\"color: #808000; text-decoration-color: #808000\">╰─────────────────────────────────────────╯</span>\n",
       "</pre>\n"
      ],
      "text/plain": [
       "\u001b[33m╭─────────────────────────────────────────╮\u001b[0m\n",
       "\u001b[33m│\u001b[0m 🚀 \u001b[1;33mInitializing BIDSDatasetReader Class\u001b[0m \u001b[33m│\u001b[0m\n",
       "\u001b[33m╰─────────────────────────────────────────╯\u001b[0m\n"
      ]
     },
     "metadata": {},
     "output_type": "display_data"
    },
    {
     "data": {
      "text/html": [
       "<pre style=\"white-space:pre;overflow-x:auto;line-height:normal;font-family:Menlo,'DejaVu Sans Mono',consolas,'Courier New',monospace\"> <span style=\"color: #008000; text-decoration-color: #008000; font-weight: bold\">Loading Processed EEG Data: sub-</span><span style=\"color: #008000; text-decoration-color: #008000; font-weight: bold\">13</span><span style=\"color: #008000; text-decoration-color: #008000; font-weight: bold\"> ses-</span><span style=\"color: #008000; text-decoration-color: #008000; font-weight: bold\">01</span>\n",
       "</pre>\n"
      ],
      "text/plain": [
       " \u001b[1;32mLoading Processed EEG Data: sub-\u001b[0m\u001b[1;32m13\u001b[0m\u001b[1;32m ses-\u001b[0m\u001b[1;32m01\u001b[0m\n"
      ]
     },
     "metadata": {},
     "output_type": "display_data"
    },
    {
     "data": {
      "text/html": [
       "<pre style=\"white-space:pre;overflow-x:auto;line-height:normal;font-family:Menlo,'DejaVu Sans Mono',consolas,'Courier New',monospace\"><span style=\"color: #800000; text-decoration-color: #800000\">╭─────────────────────────────────────╮</span>\n",
       "<span style=\"color: #800000; text-decoration-color: #800000\">│</span>  <span style=\"color: #800000; text-decoration-color: #800000; font-weight: bold\">Initializing EEGEpochBuilder Class</span> <span style=\"color: #800000; text-decoration-color: #800000\">│</span>\n",
       "<span style=\"color: #800000; text-decoration-color: #800000\">╰─────────────────────────────────────╯</span>\n",
       "</pre>\n"
      ],
      "text/plain": [
       "\u001b[31m╭─────────────────────────────────────╮\u001b[0m\n",
       "\u001b[31m│\u001b[0m  \u001b[1;31mInitializing EEGEpochBuilder Class\u001b[0m \u001b[31m│\u001b[0m\n",
       "\u001b[31m╰─────────────────────────────────────╯\u001b[0m\n"
      ]
     },
     "metadata": {},
     "output_type": "display_data"
    },
    {
     "data": {
      "text/html": [
       "<pre style=\"white-space:pre;overflow-x:auto;line-height:normal;font-family:Menlo,'DejaVu Sans Mono',consolas,'Courier New',monospace\"> <span style=\"color: #008000; text-decoration-color: #008000; font-weight: bold\">Creating EPOCHS</span>\n",
       "</pre>\n"
      ],
      "text/plain": [
       " \u001b[1;32mCreating EPOCHS\u001b[0m\n"
      ]
     },
     "metadata": {},
     "output_type": "display_data"
    },
    {
     "data": {
      "text/html": [
       "<pre style=\"white-space:pre;overflow-x:auto;line-height:normal;font-family:Menlo,'DejaVu Sans Mono',consolas,'Courier New',monospace\"><span style=\"font-style: italic\">        Extraction Criteria        </span>\n",
       "┏━━━━━━━━━━━━━━━━━━━━┳━━━━━━━━━━━━┓\n",
       "┃<span style=\"font-weight: bold\"> Parameter          </span>┃<span style=\"font-weight: bold\"> Value      </span>┃\n",
       "┣━━━━━━━━━━━━━━━━━━━━╋━━━━━━━━━━━━┫\n",
       "┃<span style=\"color: #008080; text-decoration-color: #008080; font-weight: bold\"> 🧪 Trial Mode      </span>┃<span style=\"color: #808000; text-decoration-color: #808000; font-weight: bold\"> Real       </span>┃\n",
       "┃<span style=\"color: #008080; text-decoration-color: #008080; font-weight: bold\"> 📏 Trial Unit      </span>┃<span style=\"color: #808000; text-decoration-color: #808000; font-weight: bold\"> Words      </span>┃\n",
       "┃<span style=\"color: #008080; text-decoration-color: #008080; font-weight: bold\"> 🔗 Experiment Mode </span>┃<span style=\"color: #808000; text-decoration-color: #808000; font-weight: bold\"> Experiment </span>┃\n",
       "┃<span style=\"color: #008080; text-decoration-color: #008080; font-weight: bold\"> 🎭 Trial Boundary  </span>┃<span style=\"color: #808000; text-decoration-color: #808000; font-weight: bold\"> Start      </span>┃\n",
       "┃<span style=\"color: #008080; text-decoration-color: #008080; font-weight: bold\"> 🔬 Trial Type      </span>┃<span style=\"color: #808000; text-decoration-color: #808000; font-weight: bold\"> Speech     </span>┃\n",
       "┃<span style=\"color: #008080; text-decoration-color: #008080; font-weight: bold\"> 📊 Modality        </span>┃<span style=\"color: #808000; text-decoration-color: #808000; font-weight: bold\"> Audio      </span>┃\n",
       "┃<span style=\"color: #008080; text-decoration-color: #008080; font-weight: bold\"> ⏱ Tmin             </span>┃<span style=\"color: #808000; text-decoration-color: #808000; font-weight: bold\"> </span><span style=\"color: #008080; text-decoration-color: #008080; font-weight: bold\">-0.2</span><span style=\"color: #808000; text-decoration-color: #808000; font-weight: bold\">       </span>┃\n",
       "┃<span style=\"color: #008080; text-decoration-color: #008080; font-weight: bold\"> ⏳ Tmax            </span>┃<span style=\"color: #808000; text-decoration-color: #808000; font-weight: bold\"> </span><span style=\"color: #008080; text-decoration-color: #008080; font-weight: bold\">0.5</span><span style=\"color: #808000; text-decoration-color: #808000; font-weight: bold\">        </span>┃\n",
       "┗━━━━━━━━━━━━━━━━━━━━┻━━━━━━━━━━━━┛\n",
       "</pre>\n"
      ],
      "text/plain": [
       "\u001b[3m        Extraction Criteria        \u001b[0m\n",
       "┏━━━━━━━━━━━━━━━━━━━━┳━━━━━━━━━━━━┓\n",
       "┃\u001b[1m \u001b[0m\u001b[1mParameter         \u001b[0m\u001b[1m \u001b[0m┃\u001b[1m \u001b[0m\u001b[1mValue     \u001b[0m\u001b[1m \u001b[0m┃\n",
       "┣━━━━━━━━━━━━━━━━━━━━╋━━━━━━━━━━━━┫\n",
       "┃\u001b[1;36m \u001b[0m\u001b[1;36m🧪 Trial Mode     \u001b[0m\u001b[1;36m \u001b[0m┃\u001b[1;33m \u001b[0m\u001b[1;33mReal      \u001b[0m\u001b[1;33m \u001b[0m┃\n",
       "┃\u001b[1;36m \u001b[0m\u001b[1;36m📏 Trial Unit     \u001b[0m\u001b[1;36m \u001b[0m┃\u001b[1;33m \u001b[0m\u001b[1;33mWords     \u001b[0m\u001b[1;33m \u001b[0m┃\n",
       "┃\u001b[1;36m \u001b[0m\u001b[1;36m🔗 Experiment Mode\u001b[0m\u001b[1;36m \u001b[0m┃\u001b[1;33m \u001b[0m\u001b[1;33mExperiment\u001b[0m\u001b[1;33m \u001b[0m┃\n",
       "┃\u001b[1;36m \u001b[0m\u001b[1;36m🎭 Trial Boundary \u001b[0m\u001b[1;36m \u001b[0m┃\u001b[1;33m \u001b[0m\u001b[1;33mStart     \u001b[0m\u001b[1;33m \u001b[0m┃\n",
       "┃\u001b[1;36m \u001b[0m\u001b[1;36m🔬 Trial Type     \u001b[0m\u001b[1;36m \u001b[0m┃\u001b[1;33m \u001b[0m\u001b[1;33mSpeech    \u001b[0m\u001b[1;33m \u001b[0m┃\n",
       "┃\u001b[1;36m \u001b[0m\u001b[1;36m📊 Modality       \u001b[0m\u001b[1;36m \u001b[0m┃\u001b[1;33m \u001b[0m\u001b[1;33mAudio     \u001b[0m\u001b[1;33m \u001b[0m┃\n",
       "┃\u001b[1;36m \u001b[0m\u001b[1;36m⏱ Tmin            \u001b[0m\u001b[1;36m \u001b[0m┃\u001b[1;33m \u001b[0m\u001b[1;36m-0.2\u001b[0m\u001b[1;33m      \u001b[0m\u001b[1;33m \u001b[0m┃\n",
       "┃\u001b[1;36m \u001b[0m\u001b[1;36m⏳ Tmax           \u001b[0m\u001b[1;36m \u001b[0m┃\u001b[1;33m \u001b[0m\u001b[1;36m0.5\u001b[0m\u001b[1;33m       \u001b[0m\u001b[1;33m \u001b[0m┃\n",
       "┗━━━━━━━━━━━━━━━━━━━━┻━━━━━━━━━━━━┛\n"
      ]
     },
     "metadata": {},
     "output_type": "display_data"
    },
    {
     "name": "stdout",
     "output_type": "stream",
     "text": [
      "Not setting metadata\n",
      "95 matching events found\n",
      "Applying baseline correction (mode: mean)\n",
      "0 projection items activated\n",
      "Using data from preloaded Raw for 95 events and 701 original time points ...\n",
      "0 bad epochs dropped\n"
     ]
    },
    {
     "data": {
      "text/html": [
       "<pre style=\"white-space:pre;overflow-x:auto;line-height:normal;font-family:Menlo,'DejaVu Sans Mono',consolas,'Courier New',monospace\"><span style=\"color: #800000; text-decoration-color: #800000\">╭─────────────────────────────────────╮</span>\n",
       "<span style=\"color: #800000; text-decoration-color: #800000\">│</span>  <span style=\"color: #800000; text-decoration-color: #800000; font-weight: bold\">Initializing EEGEpochBuilder Class</span> <span style=\"color: #800000; text-decoration-color: #800000\">│</span>\n",
       "<span style=\"color: #800000; text-decoration-color: #800000\">╰─────────────────────────────────────╯</span>\n",
       "</pre>\n"
      ],
      "text/plain": [
       "\u001b[31m╭─────────────────────────────────────╮\u001b[0m\n",
       "\u001b[31m│\u001b[0m  \u001b[1;31mInitializing EEGEpochBuilder Class\u001b[0m \u001b[31m│\u001b[0m\n",
       "\u001b[31m╰─────────────────────────────────────╯\u001b[0m\n"
      ]
     },
     "metadata": {},
     "output_type": "display_data"
    },
    {
     "data": {
      "text/html": [
       "<pre style=\"white-space:pre;overflow-x:auto;line-height:normal;font-family:Menlo,'DejaVu Sans Mono',consolas,'Courier New',monospace\"> <span style=\"color: #008000; text-decoration-color: #008000; font-weight: bold\">Creating EPOCHS</span>\n",
       "</pre>\n"
      ],
      "text/plain": [
       " \u001b[1;32mCreating EPOCHS\u001b[0m\n"
      ]
     },
     "metadata": {},
     "output_type": "display_data"
    },
    {
     "data": {
      "text/html": [
       "<pre style=\"white-space:pre;overflow-x:auto;line-height:normal;font-family:Menlo,'DejaVu Sans Mono',consolas,'Courier New',monospace\"><span style=\"font-style: italic\">        Extraction Criteria        </span>\n",
       "┏━━━━━━━━━━━━━━━━━━━━┳━━━━━━━━━━━━┓\n",
       "┃<span style=\"font-weight: bold\"> Parameter          </span>┃<span style=\"font-weight: bold\"> Value      </span>┃\n",
       "┣━━━━━━━━━━━━━━━━━━━━╋━━━━━━━━━━━━┫\n",
       "┃<span style=\"color: #008080; text-decoration-color: #008080; font-weight: bold\"> 🧪 Trial Mode      </span>┃<span style=\"color: #808000; text-decoration-color: #808000; font-weight: bold\"> Silent     </span>┃\n",
       "┃<span style=\"color: #008080; text-decoration-color: #008080; font-weight: bold\"> 📏 Trial Unit      </span>┃<span style=\"color: #808000; text-decoration-color: #808000; font-weight: bold\"> Words      </span>┃\n",
       "┃<span style=\"color: #008080; text-decoration-color: #008080; font-weight: bold\"> 🔗 Experiment Mode </span>┃<span style=\"color: #808000; text-decoration-color: #808000; font-weight: bold\"> Experiment </span>┃\n",
       "┃<span style=\"color: #008080; text-decoration-color: #008080; font-weight: bold\"> 🎭 Trial Boundary  </span>┃<span style=\"color: #808000; text-decoration-color: #808000; font-weight: bold\"> Start      </span>┃\n",
       "┃<span style=\"color: #008080; text-decoration-color: #008080; font-weight: bold\"> 🔬 Trial Type      </span>┃<span style=\"color: #808000; text-decoration-color: #808000; font-weight: bold\"> Speech     </span>┃\n",
       "┃<span style=\"color: #008080; text-decoration-color: #008080; font-weight: bold\"> 📊 Modality        </span>┃<span style=\"color: #808000; text-decoration-color: #808000; font-weight: bold\"> Audio      </span>┃\n",
       "┃<span style=\"color: #008080; text-decoration-color: #008080; font-weight: bold\"> ⏱ Tmin             </span>┃<span style=\"color: #808000; text-decoration-color: #808000; font-weight: bold\"> </span><span style=\"color: #008080; text-decoration-color: #008080; font-weight: bold\">-0.2</span><span style=\"color: #808000; text-decoration-color: #808000; font-weight: bold\">       </span>┃\n",
       "┃<span style=\"color: #008080; text-decoration-color: #008080; font-weight: bold\"> ⏳ Tmax            </span>┃<span style=\"color: #808000; text-decoration-color: #808000; font-weight: bold\"> </span><span style=\"color: #008080; text-decoration-color: #008080; font-weight: bold\">0.5</span><span style=\"color: #808000; text-decoration-color: #808000; font-weight: bold\">        </span>┃\n",
       "┗━━━━━━━━━━━━━━━━━━━━┻━━━━━━━━━━━━┛\n",
       "</pre>\n"
      ],
      "text/plain": [
       "\u001b[3m        Extraction Criteria        \u001b[0m\n",
       "┏━━━━━━━━━━━━━━━━━━━━┳━━━━━━━━━━━━┓\n",
       "┃\u001b[1m \u001b[0m\u001b[1mParameter         \u001b[0m\u001b[1m \u001b[0m┃\u001b[1m \u001b[0m\u001b[1mValue     \u001b[0m\u001b[1m \u001b[0m┃\n",
       "┣━━━━━━━━━━━━━━━━━━━━╋━━━━━━━━━━━━┫\n",
       "┃\u001b[1;36m \u001b[0m\u001b[1;36m🧪 Trial Mode     \u001b[0m\u001b[1;36m \u001b[0m┃\u001b[1;33m \u001b[0m\u001b[1;33mSilent    \u001b[0m\u001b[1;33m \u001b[0m┃\n",
       "┃\u001b[1;36m \u001b[0m\u001b[1;36m📏 Trial Unit     \u001b[0m\u001b[1;36m \u001b[0m┃\u001b[1;33m \u001b[0m\u001b[1;33mWords     \u001b[0m\u001b[1;33m \u001b[0m┃\n",
       "┃\u001b[1;36m \u001b[0m\u001b[1;36m🔗 Experiment Mode\u001b[0m\u001b[1;36m \u001b[0m┃\u001b[1;33m \u001b[0m\u001b[1;33mExperiment\u001b[0m\u001b[1;33m \u001b[0m┃\n",
       "┃\u001b[1;36m \u001b[0m\u001b[1;36m🎭 Trial Boundary \u001b[0m\u001b[1;36m \u001b[0m┃\u001b[1;33m \u001b[0m\u001b[1;33mStart     \u001b[0m\u001b[1;33m \u001b[0m┃\n",
       "┃\u001b[1;36m \u001b[0m\u001b[1;36m🔬 Trial Type     \u001b[0m\u001b[1;36m \u001b[0m┃\u001b[1;33m \u001b[0m\u001b[1;33mSpeech    \u001b[0m\u001b[1;33m \u001b[0m┃\n",
       "┃\u001b[1;36m \u001b[0m\u001b[1;36m📊 Modality       \u001b[0m\u001b[1;36m \u001b[0m┃\u001b[1;33m \u001b[0m\u001b[1;33mAudio     \u001b[0m\u001b[1;33m \u001b[0m┃\n",
       "┃\u001b[1;36m \u001b[0m\u001b[1;36m⏱ Tmin            \u001b[0m\u001b[1;36m \u001b[0m┃\u001b[1;33m \u001b[0m\u001b[1;36m-0.2\u001b[0m\u001b[1;33m      \u001b[0m\u001b[1;33m \u001b[0m┃\n",
       "┃\u001b[1;36m \u001b[0m\u001b[1;36m⏳ Tmax           \u001b[0m\u001b[1;36m \u001b[0m┃\u001b[1;33m \u001b[0m\u001b[1;36m0.5\u001b[0m\u001b[1;33m       \u001b[0m\u001b[1;33m \u001b[0m┃\n",
       "┗━━━━━━━━━━━━━━━━━━━━┻━━━━━━━━━━━━┛\n"
      ]
     },
     "metadata": {},
     "output_type": "display_data"
    },
    {
     "name": "stdout",
     "output_type": "stream",
     "text": [
      "Not setting metadata\n",
      "95 matching events found\n",
      "Applying baseline correction (mode: mean)\n",
      "0 projection items activated\n",
      "Using data from preloaded Raw for 95 events and 701 original time points ...\n",
      "0 bad epochs dropped\n",
      "NOTE: pick_channels() is a legacy function. New code should use inst.pick(...).\n",
      "NOTE: pick_channels() is a legacy function. New code should use inst.pick(...).\n",
      "Overt P100: latency=0.080s, peak=0.09µV, mean=-0.52µV\n",
      "Covert P100: latency=0.307s, peak=-1.49µV, mean=-1.82µV\n",
      "Initializing Plotter\n",
      "Results saved to p100_results/sub-13_ses-01_p100_Overt_Covert.csv\n"
     ]
    },
    {
     "data": {
      "text/html": [
       "<pre style=\"white-space:pre;overflow-x:auto;line-height:normal;font-family:Menlo,'DejaVu Sans Mono',consolas,'Courier New',monospace\"><span style=\"color: #808000; text-decoration-color: #808000\">╭─────────────────────────────────────────╮</span>\n",
       "<span style=\"color: #808000; text-decoration-color: #808000\">│</span> 🚀 <span style=\"color: #808000; text-decoration-color: #808000; font-weight: bold\">Initializing BIDSDatasetReader Class</span> <span style=\"color: #808000; text-decoration-color: #808000\">│</span>\n",
       "<span style=\"color: #808000; text-decoration-color: #808000\">╰─────────────────────────────────────────╯</span>\n",
       "</pre>\n"
      ],
      "text/plain": [
       "\u001b[33m╭─────────────────────────────────────────╮\u001b[0m\n",
       "\u001b[33m│\u001b[0m 🚀 \u001b[1;33mInitializing BIDSDatasetReader Class\u001b[0m \u001b[33m│\u001b[0m\n",
       "\u001b[33m╰─────────────────────────────────────────╯\u001b[0m\n"
      ]
     },
     "metadata": {},
     "output_type": "display_data"
    },
    {
     "data": {
      "text/html": [
       "<pre style=\"white-space:pre;overflow-x:auto;line-height:normal;font-family:Menlo,'DejaVu Sans Mono',consolas,'Courier New',monospace\"> <span style=\"color: #008000; text-decoration-color: #008000; font-weight: bold\">Loading Processed EEG Data: sub-</span><span style=\"color: #008000; text-decoration-color: #008000; font-weight: bold\">13</span><span style=\"color: #008000; text-decoration-color: #008000; font-weight: bold\"> ses-</span><span style=\"color: #008000; text-decoration-color: #008000; font-weight: bold\">02</span>\n",
       "</pre>\n"
      ],
      "text/plain": [
       " \u001b[1;32mLoading Processed EEG Data: sub-\u001b[0m\u001b[1;32m13\u001b[0m\u001b[1;32m ses-\u001b[0m\u001b[1;32m02\u001b[0m\n"
      ]
     },
     "metadata": {},
     "output_type": "display_data"
    },
    {
     "data": {
      "text/html": [
       "<pre style=\"white-space:pre;overflow-x:auto;line-height:normal;font-family:Menlo,'DejaVu Sans Mono',consolas,'Courier New',monospace\"><span style=\"color: #800000; text-decoration-color: #800000\">╭─────────────────────────────────────╮</span>\n",
       "<span style=\"color: #800000; text-decoration-color: #800000\">│</span>  <span style=\"color: #800000; text-decoration-color: #800000; font-weight: bold\">Initializing EEGEpochBuilder Class</span> <span style=\"color: #800000; text-decoration-color: #800000\">│</span>\n",
       "<span style=\"color: #800000; text-decoration-color: #800000\">╰─────────────────────────────────────╯</span>\n",
       "</pre>\n"
      ],
      "text/plain": [
       "\u001b[31m╭─────────────────────────────────────╮\u001b[0m\n",
       "\u001b[31m│\u001b[0m  \u001b[1;31mInitializing EEGEpochBuilder Class\u001b[0m \u001b[31m│\u001b[0m\n",
       "\u001b[31m╰─────────────────────────────────────╯\u001b[0m\n"
      ]
     },
     "metadata": {},
     "output_type": "display_data"
    },
    {
     "data": {
      "text/html": [
       "<pre style=\"white-space:pre;overflow-x:auto;line-height:normal;font-family:Menlo,'DejaVu Sans Mono',consolas,'Courier New',monospace\"> <span style=\"color: #008000; text-decoration-color: #008000; font-weight: bold\">Creating EPOCHS</span>\n",
       "</pre>\n"
      ],
      "text/plain": [
       " \u001b[1;32mCreating EPOCHS\u001b[0m\n"
      ]
     },
     "metadata": {},
     "output_type": "display_data"
    },
    {
     "data": {
      "text/html": [
       "<pre style=\"white-space:pre;overflow-x:auto;line-height:normal;font-family:Menlo,'DejaVu Sans Mono',consolas,'Courier New',monospace\"><span style=\"font-style: italic\">        Extraction Criteria        </span>\n",
       "┏━━━━━━━━━━━━━━━━━━━━┳━━━━━━━━━━━━┓\n",
       "┃<span style=\"font-weight: bold\"> Parameter          </span>┃<span style=\"font-weight: bold\"> Value      </span>┃\n",
       "┣━━━━━━━━━━━━━━━━━━━━╋━━━━━━━━━━━━┫\n",
       "┃<span style=\"color: #008080; text-decoration-color: #008080; font-weight: bold\"> 🧪 Trial Mode      </span>┃<span style=\"color: #808000; text-decoration-color: #808000; font-weight: bold\"> Real       </span>┃\n",
       "┃<span style=\"color: #008080; text-decoration-color: #008080; font-weight: bold\"> 📏 Trial Unit      </span>┃<span style=\"color: #808000; text-decoration-color: #808000; font-weight: bold\"> Words      </span>┃\n",
       "┃<span style=\"color: #008080; text-decoration-color: #008080; font-weight: bold\"> 🔗 Experiment Mode </span>┃<span style=\"color: #808000; text-decoration-color: #808000; font-weight: bold\"> Experiment </span>┃\n",
       "┃<span style=\"color: #008080; text-decoration-color: #008080; font-weight: bold\"> 🎭 Trial Boundary  </span>┃<span style=\"color: #808000; text-decoration-color: #808000; font-weight: bold\"> Start      </span>┃\n",
       "┃<span style=\"color: #008080; text-decoration-color: #008080; font-weight: bold\"> 🔬 Trial Type      </span>┃<span style=\"color: #808000; text-decoration-color: #808000; font-weight: bold\"> Speech     </span>┃\n",
       "┃<span style=\"color: #008080; text-decoration-color: #008080; font-weight: bold\"> 📊 Modality        </span>┃<span style=\"color: #808000; text-decoration-color: #808000; font-weight: bold\"> Audio      </span>┃\n",
       "┃<span style=\"color: #008080; text-decoration-color: #008080; font-weight: bold\"> ⏱ Tmin             </span>┃<span style=\"color: #808000; text-decoration-color: #808000; font-weight: bold\"> </span><span style=\"color: #008080; text-decoration-color: #008080; font-weight: bold\">-0.2</span><span style=\"color: #808000; text-decoration-color: #808000; font-weight: bold\">       </span>┃\n",
       "┃<span style=\"color: #008080; text-decoration-color: #008080; font-weight: bold\"> ⏳ Tmax            </span>┃<span style=\"color: #808000; text-decoration-color: #808000; font-weight: bold\"> </span><span style=\"color: #008080; text-decoration-color: #008080; font-weight: bold\">0.5</span><span style=\"color: #808000; text-decoration-color: #808000; font-weight: bold\">        </span>┃\n",
       "┗━━━━━━━━━━━━━━━━━━━━┻━━━━━━━━━━━━┛\n",
       "</pre>\n"
      ],
      "text/plain": [
       "\u001b[3m        Extraction Criteria        \u001b[0m\n",
       "┏━━━━━━━━━━━━━━━━━━━━┳━━━━━━━━━━━━┓\n",
       "┃\u001b[1m \u001b[0m\u001b[1mParameter         \u001b[0m\u001b[1m \u001b[0m┃\u001b[1m \u001b[0m\u001b[1mValue     \u001b[0m\u001b[1m \u001b[0m┃\n",
       "┣━━━━━━━━━━━━━━━━━━━━╋━━━━━━━━━━━━┫\n",
       "┃\u001b[1;36m \u001b[0m\u001b[1;36m🧪 Trial Mode     \u001b[0m\u001b[1;36m \u001b[0m┃\u001b[1;33m \u001b[0m\u001b[1;33mReal      \u001b[0m\u001b[1;33m \u001b[0m┃\n",
       "┃\u001b[1;36m \u001b[0m\u001b[1;36m📏 Trial Unit     \u001b[0m\u001b[1;36m \u001b[0m┃\u001b[1;33m \u001b[0m\u001b[1;33mWords     \u001b[0m\u001b[1;33m \u001b[0m┃\n",
       "┃\u001b[1;36m \u001b[0m\u001b[1;36m🔗 Experiment Mode\u001b[0m\u001b[1;36m \u001b[0m┃\u001b[1;33m \u001b[0m\u001b[1;33mExperiment\u001b[0m\u001b[1;33m \u001b[0m┃\n",
       "┃\u001b[1;36m \u001b[0m\u001b[1;36m🎭 Trial Boundary \u001b[0m\u001b[1;36m \u001b[0m┃\u001b[1;33m \u001b[0m\u001b[1;33mStart     \u001b[0m\u001b[1;33m \u001b[0m┃\n",
       "┃\u001b[1;36m \u001b[0m\u001b[1;36m🔬 Trial Type     \u001b[0m\u001b[1;36m \u001b[0m┃\u001b[1;33m \u001b[0m\u001b[1;33mSpeech    \u001b[0m\u001b[1;33m \u001b[0m┃\n",
       "┃\u001b[1;36m \u001b[0m\u001b[1;36m📊 Modality       \u001b[0m\u001b[1;36m \u001b[0m┃\u001b[1;33m \u001b[0m\u001b[1;33mAudio     \u001b[0m\u001b[1;33m \u001b[0m┃\n",
       "┃\u001b[1;36m \u001b[0m\u001b[1;36m⏱ Tmin            \u001b[0m\u001b[1;36m \u001b[0m┃\u001b[1;33m \u001b[0m\u001b[1;36m-0.2\u001b[0m\u001b[1;33m      \u001b[0m\u001b[1;33m \u001b[0m┃\n",
       "┃\u001b[1;36m \u001b[0m\u001b[1;36m⏳ Tmax           \u001b[0m\u001b[1;36m \u001b[0m┃\u001b[1;33m \u001b[0m\u001b[1;36m0.5\u001b[0m\u001b[1;33m       \u001b[0m\u001b[1;33m \u001b[0m┃\n",
       "┗━━━━━━━━━━━━━━━━━━━━┻━━━━━━━━━━━━┛\n"
      ]
     },
     "metadata": {},
     "output_type": "display_data"
    },
    {
     "name": "stdout",
     "output_type": "stream",
     "text": [
      "Not setting metadata\n",
      "95 matching events found\n",
      "Applying baseline correction (mode: mean)\n",
      "0 projection items activated\n",
      "Using data from preloaded Raw for 95 events and 701 original time points ...\n",
      "0 bad epochs dropped\n"
     ]
    },
    {
     "data": {
      "text/html": [
       "<pre style=\"white-space:pre;overflow-x:auto;line-height:normal;font-family:Menlo,'DejaVu Sans Mono',consolas,'Courier New',monospace\"><span style=\"color: #800000; text-decoration-color: #800000\">╭─────────────────────────────────────╮</span>\n",
       "<span style=\"color: #800000; text-decoration-color: #800000\">│</span>  <span style=\"color: #800000; text-decoration-color: #800000; font-weight: bold\">Initializing EEGEpochBuilder Class</span> <span style=\"color: #800000; text-decoration-color: #800000\">│</span>\n",
       "<span style=\"color: #800000; text-decoration-color: #800000\">╰─────────────────────────────────────╯</span>\n",
       "</pre>\n"
      ],
      "text/plain": [
       "\u001b[31m╭─────────────────────────────────────╮\u001b[0m\n",
       "\u001b[31m│\u001b[0m  \u001b[1;31mInitializing EEGEpochBuilder Class\u001b[0m \u001b[31m│\u001b[0m\n",
       "\u001b[31m╰─────────────────────────────────────╯\u001b[0m\n"
      ]
     },
     "metadata": {},
     "output_type": "display_data"
    },
    {
     "data": {
      "text/html": [
       "<pre style=\"white-space:pre;overflow-x:auto;line-height:normal;font-family:Menlo,'DejaVu Sans Mono',consolas,'Courier New',monospace\"> <span style=\"color: #008000; text-decoration-color: #008000; font-weight: bold\">Creating EPOCHS</span>\n",
       "</pre>\n"
      ],
      "text/plain": [
       " \u001b[1;32mCreating EPOCHS\u001b[0m\n"
      ]
     },
     "metadata": {},
     "output_type": "display_data"
    },
    {
     "data": {
      "text/html": [
       "<pre style=\"white-space:pre;overflow-x:auto;line-height:normal;font-family:Menlo,'DejaVu Sans Mono',consolas,'Courier New',monospace\"><span style=\"font-style: italic\">        Extraction Criteria        </span>\n",
       "┏━━━━━━━━━━━━━━━━━━━━┳━━━━━━━━━━━━┓\n",
       "┃<span style=\"font-weight: bold\"> Parameter          </span>┃<span style=\"font-weight: bold\"> Value      </span>┃\n",
       "┣━━━━━━━━━━━━━━━━━━━━╋━━━━━━━━━━━━┫\n",
       "┃<span style=\"color: #008080; text-decoration-color: #008080; font-weight: bold\"> 🧪 Trial Mode      </span>┃<span style=\"color: #808000; text-decoration-color: #808000; font-weight: bold\"> Silent     </span>┃\n",
       "┃<span style=\"color: #008080; text-decoration-color: #008080; font-weight: bold\"> 📏 Trial Unit      </span>┃<span style=\"color: #808000; text-decoration-color: #808000; font-weight: bold\"> Words      </span>┃\n",
       "┃<span style=\"color: #008080; text-decoration-color: #008080; font-weight: bold\"> 🔗 Experiment Mode </span>┃<span style=\"color: #808000; text-decoration-color: #808000; font-weight: bold\"> Experiment </span>┃\n",
       "┃<span style=\"color: #008080; text-decoration-color: #008080; font-weight: bold\"> 🎭 Trial Boundary  </span>┃<span style=\"color: #808000; text-decoration-color: #808000; font-weight: bold\"> Start      </span>┃\n",
       "┃<span style=\"color: #008080; text-decoration-color: #008080; font-weight: bold\"> 🔬 Trial Type      </span>┃<span style=\"color: #808000; text-decoration-color: #808000; font-weight: bold\"> Speech     </span>┃\n",
       "┃<span style=\"color: #008080; text-decoration-color: #008080; font-weight: bold\"> 📊 Modality        </span>┃<span style=\"color: #808000; text-decoration-color: #808000; font-weight: bold\"> Audio      </span>┃\n",
       "┃<span style=\"color: #008080; text-decoration-color: #008080; font-weight: bold\"> ⏱ Tmin             </span>┃<span style=\"color: #808000; text-decoration-color: #808000; font-weight: bold\"> </span><span style=\"color: #008080; text-decoration-color: #008080; font-weight: bold\">-0.2</span><span style=\"color: #808000; text-decoration-color: #808000; font-weight: bold\">       </span>┃\n",
       "┃<span style=\"color: #008080; text-decoration-color: #008080; font-weight: bold\"> ⏳ Tmax            </span>┃<span style=\"color: #808000; text-decoration-color: #808000; font-weight: bold\"> </span><span style=\"color: #008080; text-decoration-color: #008080; font-weight: bold\">0.5</span><span style=\"color: #808000; text-decoration-color: #808000; font-weight: bold\">        </span>┃\n",
       "┗━━━━━━━━━━━━━━━━━━━━┻━━━━━━━━━━━━┛\n",
       "</pre>\n"
      ],
      "text/plain": [
       "\u001b[3m        Extraction Criteria        \u001b[0m\n",
       "┏━━━━━━━━━━━━━━━━━━━━┳━━━━━━━━━━━━┓\n",
       "┃\u001b[1m \u001b[0m\u001b[1mParameter         \u001b[0m\u001b[1m \u001b[0m┃\u001b[1m \u001b[0m\u001b[1mValue     \u001b[0m\u001b[1m \u001b[0m┃\n",
       "┣━━━━━━━━━━━━━━━━━━━━╋━━━━━━━━━━━━┫\n",
       "┃\u001b[1;36m \u001b[0m\u001b[1;36m🧪 Trial Mode     \u001b[0m\u001b[1;36m \u001b[0m┃\u001b[1;33m \u001b[0m\u001b[1;33mSilent    \u001b[0m\u001b[1;33m \u001b[0m┃\n",
       "┃\u001b[1;36m \u001b[0m\u001b[1;36m📏 Trial Unit     \u001b[0m\u001b[1;36m \u001b[0m┃\u001b[1;33m \u001b[0m\u001b[1;33mWords     \u001b[0m\u001b[1;33m \u001b[0m┃\n",
       "┃\u001b[1;36m \u001b[0m\u001b[1;36m🔗 Experiment Mode\u001b[0m\u001b[1;36m \u001b[0m┃\u001b[1;33m \u001b[0m\u001b[1;33mExperiment\u001b[0m\u001b[1;33m \u001b[0m┃\n",
       "┃\u001b[1;36m \u001b[0m\u001b[1;36m🎭 Trial Boundary \u001b[0m\u001b[1;36m \u001b[0m┃\u001b[1;33m \u001b[0m\u001b[1;33mStart     \u001b[0m\u001b[1;33m \u001b[0m┃\n",
       "┃\u001b[1;36m \u001b[0m\u001b[1;36m🔬 Trial Type     \u001b[0m\u001b[1;36m \u001b[0m┃\u001b[1;33m \u001b[0m\u001b[1;33mSpeech    \u001b[0m\u001b[1;33m \u001b[0m┃\n",
       "┃\u001b[1;36m \u001b[0m\u001b[1;36m📊 Modality       \u001b[0m\u001b[1;36m \u001b[0m┃\u001b[1;33m \u001b[0m\u001b[1;33mAudio     \u001b[0m\u001b[1;33m \u001b[0m┃\n",
       "┃\u001b[1;36m \u001b[0m\u001b[1;36m⏱ Tmin            \u001b[0m\u001b[1;36m \u001b[0m┃\u001b[1;33m \u001b[0m\u001b[1;36m-0.2\u001b[0m\u001b[1;33m      \u001b[0m\u001b[1;33m \u001b[0m┃\n",
       "┃\u001b[1;36m \u001b[0m\u001b[1;36m⏳ Tmax           \u001b[0m\u001b[1;36m \u001b[0m┃\u001b[1;33m \u001b[0m\u001b[1;36m0.5\u001b[0m\u001b[1;33m       \u001b[0m\u001b[1;33m \u001b[0m┃\n",
       "┗━━━━━━━━━━━━━━━━━━━━┻━━━━━━━━━━━━┛\n"
      ]
     },
     "metadata": {},
     "output_type": "display_data"
    },
    {
     "name": "stdout",
     "output_type": "stream",
     "text": [
      "Not setting metadata\n",
      "95 matching events found\n",
      "Applying baseline correction (mode: mean)\n",
      "0 projection items activated\n",
      "Using data from preloaded Raw for 95 events and 701 original time points ...\n",
      "0 bad epochs dropped\n",
      "NOTE: pick_channels() is a legacy function. New code should use inst.pick(...).\n",
      "NOTE: pick_channels() is a legacy function. New code should use inst.pick(...).\n",
      "Overt P100: latency=0.120s, peak=2.60µV, mean=1.88µV\n",
      "Covert P100: latency=0.314s, peak=-1.87µV, mean=-2.67µV\n",
      "Initializing Plotter\n",
      "Results saved to p100_results/sub-13_ses-02_p100_Overt_Covert.csv\n"
     ]
    },
    {
     "data": {
      "text/html": [
       "<pre style=\"white-space:pre;overflow-x:auto;line-height:normal;font-family:Menlo,'DejaVu Sans Mono',consolas,'Courier New',monospace\"><span style=\"color: #808000; text-decoration-color: #808000\">╭─────────────────────────────────────────╮</span>\n",
       "<span style=\"color: #808000; text-decoration-color: #808000\">│</span> 🚀 <span style=\"color: #808000; text-decoration-color: #808000; font-weight: bold\">Initializing BIDSDatasetReader Class</span> <span style=\"color: #808000; text-decoration-color: #808000\">│</span>\n",
       "<span style=\"color: #808000; text-decoration-color: #808000\">╰─────────────────────────────────────────╯</span>\n",
       "</pre>\n"
      ],
      "text/plain": [
       "\u001b[33m╭─────────────────────────────────────────╮\u001b[0m\n",
       "\u001b[33m│\u001b[0m 🚀 \u001b[1;33mInitializing BIDSDatasetReader Class\u001b[0m \u001b[33m│\u001b[0m\n",
       "\u001b[33m╰─────────────────────────────────────────╯\u001b[0m\n"
      ]
     },
     "metadata": {},
     "output_type": "display_data"
    },
    {
     "data": {
      "text/html": [
       "<pre style=\"white-space:pre;overflow-x:auto;line-height:normal;font-family:Menlo,'DejaVu Sans Mono',consolas,'Courier New',monospace\"> <span style=\"color: #008000; text-decoration-color: #008000; font-weight: bold\">Loading Processed EEG Data: sub-</span><span style=\"color: #008000; text-decoration-color: #008000; font-weight: bold\">14</span><span style=\"color: #008000; text-decoration-color: #008000; font-weight: bold\"> ses-</span><span style=\"color: #008000; text-decoration-color: #008000; font-weight: bold\">01</span>\n",
       "</pre>\n"
      ],
      "text/plain": [
       " \u001b[1;32mLoading Processed EEG Data: sub-\u001b[0m\u001b[1;32m14\u001b[0m\u001b[1;32m ses-\u001b[0m\u001b[1;32m01\u001b[0m\n"
      ]
     },
     "metadata": {},
     "output_type": "display_data"
    },
    {
     "data": {
      "text/html": [
       "<pre style=\"white-space:pre;overflow-x:auto;line-height:normal;font-family:Menlo,'DejaVu Sans Mono',consolas,'Courier New',monospace\"><span style=\"color: #800000; text-decoration-color: #800000\">╭─────────────────────────────────────╮</span>\n",
       "<span style=\"color: #800000; text-decoration-color: #800000\">│</span>  <span style=\"color: #800000; text-decoration-color: #800000; font-weight: bold\">Initializing EEGEpochBuilder Class</span> <span style=\"color: #800000; text-decoration-color: #800000\">│</span>\n",
       "<span style=\"color: #800000; text-decoration-color: #800000\">╰─────────────────────────────────────╯</span>\n",
       "</pre>\n"
      ],
      "text/plain": [
       "\u001b[31m╭─────────────────────────────────────╮\u001b[0m\n",
       "\u001b[31m│\u001b[0m  \u001b[1;31mInitializing EEGEpochBuilder Class\u001b[0m \u001b[31m│\u001b[0m\n",
       "\u001b[31m╰─────────────────────────────────────╯\u001b[0m\n"
      ]
     },
     "metadata": {},
     "output_type": "display_data"
    },
    {
     "data": {
      "text/html": [
       "<pre style=\"white-space:pre;overflow-x:auto;line-height:normal;font-family:Menlo,'DejaVu Sans Mono',consolas,'Courier New',monospace\"> <span style=\"color: #008000; text-decoration-color: #008000; font-weight: bold\">Creating EPOCHS</span>\n",
       "</pre>\n"
      ],
      "text/plain": [
       " \u001b[1;32mCreating EPOCHS\u001b[0m\n"
      ]
     },
     "metadata": {},
     "output_type": "display_data"
    },
    {
     "data": {
      "text/html": [
       "<pre style=\"white-space:pre;overflow-x:auto;line-height:normal;font-family:Menlo,'DejaVu Sans Mono',consolas,'Courier New',monospace\"><span style=\"font-style: italic\">        Extraction Criteria        </span>\n",
       "┏━━━━━━━━━━━━━━━━━━━━┳━━━━━━━━━━━━┓\n",
       "┃<span style=\"font-weight: bold\"> Parameter          </span>┃<span style=\"font-weight: bold\"> Value      </span>┃\n",
       "┣━━━━━━━━━━━━━━━━━━━━╋━━━━━━━━━━━━┫\n",
       "┃<span style=\"color: #008080; text-decoration-color: #008080; font-weight: bold\"> 🧪 Trial Mode      </span>┃<span style=\"color: #808000; text-decoration-color: #808000; font-weight: bold\"> Real       </span>┃\n",
       "┃<span style=\"color: #008080; text-decoration-color: #008080; font-weight: bold\"> 📏 Trial Unit      </span>┃<span style=\"color: #808000; text-decoration-color: #808000; font-weight: bold\"> Words      </span>┃\n",
       "┃<span style=\"color: #008080; text-decoration-color: #008080; font-weight: bold\"> 🔗 Experiment Mode </span>┃<span style=\"color: #808000; text-decoration-color: #808000; font-weight: bold\"> Experiment </span>┃\n",
       "┃<span style=\"color: #008080; text-decoration-color: #008080; font-weight: bold\"> 🎭 Trial Boundary  </span>┃<span style=\"color: #808000; text-decoration-color: #808000; font-weight: bold\"> Start      </span>┃\n",
       "┃<span style=\"color: #008080; text-decoration-color: #008080; font-weight: bold\"> 🔬 Trial Type      </span>┃<span style=\"color: #808000; text-decoration-color: #808000; font-weight: bold\"> Speech     </span>┃\n",
       "┃<span style=\"color: #008080; text-decoration-color: #008080; font-weight: bold\"> 📊 Modality        </span>┃<span style=\"color: #808000; text-decoration-color: #808000; font-weight: bold\"> Audio      </span>┃\n",
       "┃<span style=\"color: #008080; text-decoration-color: #008080; font-weight: bold\"> ⏱ Tmin             </span>┃<span style=\"color: #808000; text-decoration-color: #808000; font-weight: bold\"> </span><span style=\"color: #008080; text-decoration-color: #008080; font-weight: bold\">-0.2</span><span style=\"color: #808000; text-decoration-color: #808000; font-weight: bold\">       </span>┃\n",
       "┃<span style=\"color: #008080; text-decoration-color: #008080; font-weight: bold\"> ⏳ Tmax            </span>┃<span style=\"color: #808000; text-decoration-color: #808000; font-weight: bold\"> </span><span style=\"color: #008080; text-decoration-color: #008080; font-weight: bold\">0.5</span><span style=\"color: #808000; text-decoration-color: #808000; font-weight: bold\">        </span>┃\n",
       "┗━━━━━━━━━━━━━━━━━━━━┻━━━━━━━━━━━━┛\n",
       "</pre>\n"
      ],
      "text/plain": [
       "\u001b[3m        Extraction Criteria        \u001b[0m\n",
       "┏━━━━━━━━━━━━━━━━━━━━┳━━━━━━━━━━━━┓\n",
       "┃\u001b[1m \u001b[0m\u001b[1mParameter         \u001b[0m\u001b[1m \u001b[0m┃\u001b[1m \u001b[0m\u001b[1mValue     \u001b[0m\u001b[1m \u001b[0m┃\n",
       "┣━━━━━━━━━━━━━━━━━━━━╋━━━━━━━━━━━━┫\n",
       "┃\u001b[1;36m \u001b[0m\u001b[1;36m🧪 Trial Mode     \u001b[0m\u001b[1;36m \u001b[0m┃\u001b[1;33m \u001b[0m\u001b[1;33mReal      \u001b[0m\u001b[1;33m \u001b[0m┃\n",
       "┃\u001b[1;36m \u001b[0m\u001b[1;36m📏 Trial Unit     \u001b[0m\u001b[1;36m \u001b[0m┃\u001b[1;33m \u001b[0m\u001b[1;33mWords     \u001b[0m\u001b[1;33m \u001b[0m┃\n",
       "┃\u001b[1;36m \u001b[0m\u001b[1;36m🔗 Experiment Mode\u001b[0m\u001b[1;36m \u001b[0m┃\u001b[1;33m \u001b[0m\u001b[1;33mExperiment\u001b[0m\u001b[1;33m \u001b[0m┃\n",
       "┃\u001b[1;36m \u001b[0m\u001b[1;36m🎭 Trial Boundary \u001b[0m\u001b[1;36m \u001b[0m┃\u001b[1;33m \u001b[0m\u001b[1;33mStart     \u001b[0m\u001b[1;33m \u001b[0m┃\n",
       "┃\u001b[1;36m \u001b[0m\u001b[1;36m🔬 Trial Type     \u001b[0m\u001b[1;36m \u001b[0m┃\u001b[1;33m \u001b[0m\u001b[1;33mSpeech    \u001b[0m\u001b[1;33m \u001b[0m┃\n",
       "┃\u001b[1;36m \u001b[0m\u001b[1;36m📊 Modality       \u001b[0m\u001b[1;36m \u001b[0m┃\u001b[1;33m \u001b[0m\u001b[1;33mAudio     \u001b[0m\u001b[1;33m \u001b[0m┃\n",
       "┃\u001b[1;36m \u001b[0m\u001b[1;36m⏱ Tmin            \u001b[0m\u001b[1;36m \u001b[0m┃\u001b[1;33m \u001b[0m\u001b[1;36m-0.2\u001b[0m\u001b[1;33m      \u001b[0m\u001b[1;33m \u001b[0m┃\n",
       "┃\u001b[1;36m \u001b[0m\u001b[1;36m⏳ Tmax           \u001b[0m\u001b[1;36m \u001b[0m┃\u001b[1;33m \u001b[0m\u001b[1;36m0.5\u001b[0m\u001b[1;33m       \u001b[0m\u001b[1;33m \u001b[0m┃\n",
       "┗━━━━━━━━━━━━━━━━━━━━┻━━━━━━━━━━━━┛\n"
      ]
     },
     "metadata": {},
     "output_type": "display_data"
    },
    {
     "name": "stdout",
     "output_type": "stream",
     "text": [
      "Not setting metadata\n",
      "95 matching events found\n",
      "Applying baseline correction (mode: mean)\n",
      "0 projection items activated\n",
      "Using data from preloaded Raw for 95 events and 701 original time points ...\n",
      "0 bad epochs dropped\n"
     ]
    },
    {
     "data": {
      "text/html": [
       "<pre style=\"white-space:pre;overflow-x:auto;line-height:normal;font-family:Menlo,'DejaVu Sans Mono',consolas,'Courier New',monospace\"><span style=\"color: #800000; text-decoration-color: #800000\">╭─────────────────────────────────────╮</span>\n",
       "<span style=\"color: #800000; text-decoration-color: #800000\">│</span>  <span style=\"color: #800000; text-decoration-color: #800000; font-weight: bold\">Initializing EEGEpochBuilder Class</span> <span style=\"color: #800000; text-decoration-color: #800000\">│</span>\n",
       "<span style=\"color: #800000; text-decoration-color: #800000\">╰─────────────────────────────────────╯</span>\n",
       "</pre>\n"
      ],
      "text/plain": [
       "\u001b[31m╭─────────────────────────────────────╮\u001b[0m\n",
       "\u001b[31m│\u001b[0m  \u001b[1;31mInitializing EEGEpochBuilder Class\u001b[0m \u001b[31m│\u001b[0m\n",
       "\u001b[31m╰─────────────────────────────────────╯\u001b[0m\n"
      ]
     },
     "metadata": {},
     "output_type": "display_data"
    },
    {
     "data": {
      "text/html": [
       "<pre style=\"white-space:pre;overflow-x:auto;line-height:normal;font-family:Menlo,'DejaVu Sans Mono',consolas,'Courier New',monospace\"> <span style=\"color: #008000; text-decoration-color: #008000; font-weight: bold\">Creating EPOCHS</span>\n",
       "</pre>\n"
      ],
      "text/plain": [
       " \u001b[1;32mCreating EPOCHS\u001b[0m\n"
      ]
     },
     "metadata": {},
     "output_type": "display_data"
    },
    {
     "data": {
      "text/html": [
       "<pre style=\"white-space:pre;overflow-x:auto;line-height:normal;font-family:Menlo,'DejaVu Sans Mono',consolas,'Courier New',monospace\"><span style=\"font-style: italic\">        Extraction Criteria        </span>\n",
       "┏━━━━━━━━━━━━━━━━━━━━┳━━━━━━━━━━━━┓\n",
       "┃<span style=\"font-weight: bold\"> Parameter          </span>┃<span style=\"font-weight: bold\"> Value      </span>┃\n",
       "┣━━━━━━━━━━━━━━━━━━━━╋━━━━━━━━━━━━┫\n",
       "┃<span style=\"color: #008080; text-decoration-color: #008080; font-weight: bold\"> 🧪 Trial Mode      </span>┃<span style=\"color: #808000; text-decoration-color: #808000; font-weight: bold\"> Silent     </span>┃\n",
       "┃<span style=\"color: #008080; text-decoration-color: #008080; font-weight: bold\"> 📏 Trial Unit      </span>┃<span style=\"color: #808000; text-decoration-color: #808000; font-weight: bold\"> Words      </span>┃\n",
       "┃<span style=\"color: #008080; text-decoration-color: #008080; font-weight: bold\"> 🔗 Experiment Mode </span>┃<span style=\"color: #808000; text-decoration-color: #808000; font-weight: bold\"> Experiment </span>┃\n",
       "┃<span style=\"color: #008080; text-decoration-color: #008080; font-weight: bold\"> 🎭 Trial Boundary  </span>┃<span style=\"color: #808000; text-decoration-color: #808000; font-weight: bold\"> Start      </span>┃\n",
       "┃<span style=\"color: #008080; text-decoration-color: #008080; font-weight: bold\"> 🔬 Trial Type      </span>┃<span style=\"color: #808000; text-decoration-color: #808000; font-weight: bold\"> Speech     </span>┃\n",
       "┃<span style=\"color: #008080; text-decoration-color: #008080; font-weight: bold\"> 📊 Modality        </span>┃<span style=\"color: #808000; text-decoration-color: #808000; font-weight: bold\"> Audio      </span>┃\n",
       "┃<span style=\"color: #008080; text-decoration-color: #008080; font-weight: bold\"> ⏱ Tmin             </span>┃<span style=\"color: #808000; text-decoration-color: #808000; font-weight: bold\"> </span><span style=\"color: #008080; text-decoration-color: #008080; font-weight: bold\">-0.2</span><span style=\"color: #808000; text-decoration-color: #808000; font-weight: bold\">       </span>┃\n",
       "┃<span style=\"color: #008080; text-decoration-color: #008080; font-weight: bold\"> ⏳ Tmax            </span>┃<span style=\"color: #808000; text-decoration-color: #808000; font-weight: bold\"> </span><span style=\"color: #008080; text-decoration-color: #008080; font-weight: bold\">0.5</span><span style=\"color: #808000; text-decoration-color: #808000; font-weight: bold\">        </span>┃\n",
       "┗━━━━━━━━━━━━━━━━━━━━┻━━━━━━━━━━━━┛\n",
       "</pre>\n"
      ],
      "text/plain": [
       "\u001b[3m        Extraction Criteria        \u001b[0m\n",
       "┏━━━━━━━━━━━━━━━━━━━━┳━━━━━━━━━━━━┓\n",
       "┃\u001b[1m \u001b[0m\u001b[1mParameter         \u001b[0m\u001b[1m \u001b[0m┃\u001b[1m \u001b[0m\u001b[1mValue     \u001b[0m\u001b[1m \u001b[0m┃\n",
       "┣━━━━━━━━━━━━━━━━━━━━╋━━━━━━━━━━━━┫\n",
       "┃\u001b[1;36m \u001b[0m\u001b[1;36m🧪 Trial Mode     \u001b[0m\u001b[1;36m \u001b[0m┃\u001b[1;33m \u001b[0m\u001b[1;33mSilent    \u001b[0m\u001b[1;33m \u001b[0m┃\n",
       "┃\u001b[1;36m \u001b[0m\u001b[1;36m📏 Trial Unit     \u001b[0m\u001b[1;36m \u001b[0m┃\u001b[1;33m \u001b[0m\u001b[1;33mWords     \u001b[0m\u001b[1;33m \u001b[0m┃\n",
       "┃\u001b[1;36m \u001b[0m\u001b[1;36m🔗 Experiment Mode\u001b[0m\u001b[1;36m \u001b[0m┃\u001b[1;33m \u001b[0m\u001b[1;33mExperiment\u001b[0m\u001b[1;33m \u001b[0m┃\n",
       "┃\u001b[1;36m \u001b[0m\u001b[1;36m🎭 Trial Boundary \u001b[0m\u001b[1;36m \u001b[0m┃\u001b[1;33m \u001b[0m\u001b[1;33mStart     \u001b[0m\u001b[1;33m \u001b[0m┃\n",
       "┃\u001b[1;36m \u001b[0m\u001b[1;36m🔬 Trial Type     \u001b[0m\u001b[1;36m \u001b[0m┃\u001b[1;33m \u001b[0m\u001b[1;33mSpeech    \u001b[0m\u001b[1;33m \u001b[0m┃\n",
       "┃\u001b[1;36m \u001b[0m\u001b[1;36m📊 Modality       \u001b[0m\u001b[1;36m \u001b[0m┃\u001b[1;33m \u001b[0m\u001b[1;33mAudio     \u001b[0m\u001b[1;33m \u001b[0m┃\n",
       "┃\u001b[1;36m \u001b[0m\u001b[1;36m⏱ Tmin            \u001b[0m\u001b[1;36m \u001b[0m┃\u001b[1;33m \u001b[0m\u001b[1;36m-0.2\u001b[0m\u001b[1;33m      \u001b[0m\u001b[1;33m \u001b[0m┃\n",
       "┃\u001b[1;36m \u001b[0m\u001b[1;36m⏳ Tmax           \u001b[0m\u001b[1;36m \u001b[0m┃\u001b[1;33m \u001b[0m\u001b[1;36m0.5\u001b[0m\u001b[1;33m       \u001b[0m\u001b[1;33m \u001b[0m┃\n",
       "┗━━━━━━━━━━━━━━━━━━━━┻━━━━━━━━━━━━┛\n"
      ]
     },
     "metadata": {},
     "output_type": "display_data"
    },
    {
     "name": "stdout",
     "output_type": "stream",
     "text": [
      "Not setting metadata\n",
      "95 matching events found\n",
      "Applying baseline correction (mode: mean)\n",
      "0 projection items activated\n",
      "Using data from preloaded Raw for 95 events and 701 original time points ...\n",
      "0 bad epochs dropped\n",
      "NOTE: pick_channels() is a legacy function. New code should use inst.pick(...).\n",
      "NOTE: pick_channels() is a legacy function. New code should use inst.pick(...).\n",
      "Overt P100: latency=0.118s, peak=3.70µV, mean=2.45µV\n",
      "Covert P100: latency=0.313s, peak=-0.32µV, mean=-1.02µV\n",
      "Initializing Plotter\n",
      "Results saved to p100_results/sub-14_ses-01_p100_Overt_Covert.csv\n"
     ]
    },
    {
     "data": {
      "text/html": [
       "<pre style=\"white-space:pre;overflow-x:auto;line-height:normal;font-family:Menlo,'DejaVu Sans Mono',consolas,'Courier New',monospace\"><span style=\"color: #808000; text-decoration-color: #808000\">╭─────────────────────────────────────────╮</span>\n",
       "<span style=\"color: #808000; text-decoration-color: #808000\">│</span> 🚀 <span style=\"color: #808000; text-decoration-color: #808000; font-weight: bold\">Initializing BIDSDatasetReader Class</span> <span style=\"color: #808000; text-decoration-color: #808000\">│</span>\n",
       "<span style=\"color: #808000; text-decoration-color: #808000\">╰─────────────────────────────────────────╯</span>\n",
       "</pre>\n"
      ],
      "text/plain": [
       "\u001b[33m╭─────────────────────────────────────────╮\u001b[0m\n",
       "\u001b[33m│\u001b[0m 🚀 \u001b[1;33mInitializing BIDSDatasetReader Class\u001b[0m \u001b[33m│\u001b[0m\n",
       "\u001b[33m╰─────────────────────────────────────────╯\u001b[0m\n"
      ]
     },
     "metadata": {},
     "output_type": "display_data"
    },
    {
     "data": {
      "text/html": [
       "<pre style=\"white-space:pre;overflow-x:auto;line-height:normal;font-family:Menlo,'DejaVu Sans Mono',consolas,'Courier New',monospace\"> <span style=\"color: #008000; text-decoration-color: #008000; font-weight: bold\">Loading Processed EEG Data: sub-</span><span style=\"color: #008000; text-decoration-color: #008000; font-weight: bold\">15</span><span style=\"color: #008000; text-decoration-color: #008000; font-weight: bold\"> ses-</span><span style=\"color: #008000; text-decoration-color: #008000; font-weight: bold\">01</span>\n",
       "</pre>\n"
      ],
      "text/plain": [
       " \u001b[1;32mLoading Processed EEG Data: sub-\u001b[0m\u001b[1;32m15\u001b[0m\u001b[1;32m ses-\u001b[0m\u001b[1;32m01\u001b[0m\n"
      ]
     },
     "metadata": {},
     "output_type": "display_data"
    },
    {
     "data": {
      "text/html": [
       "<pre style=\"white-space:pre;overflow-x:auto;line-height:normal;font-family:Menlo,'DejaVu Sans Mono',consolas,'Courier New',monospace\"><span style=\"color: #800000; text-decoration-color: #800000\">╭─────────────────────────────────────╮</span>\n",
       "<span style=\"color: #800000; text-decoration-color: #800000\">│</span>  <span style=\"color: #800000; text-decoration-color: #800000; font-weight: bold\">Initializing EEGEpochBuilder Class</span> <span style=\"color: #800000; text-decoration-color: #800000\">│</span>\n",
       "<span style=\"color: #800000; text-decoration-color: #800000\">╰─────────────────────────────────────╯</span>\n",
       "</pre>\n"
      ],
      "text/plain": [
       "\u001b[31m╭─────────────────────────────────────╮\u001b[0m\n",
       "\u001b[31m│\u001b[0m  \u001b[1;31mInitializing EEGEpochBuilder Class\u001b[0m \u001b[31m│\u001b[0m\n",
       "\u001b[31m╰─────────────────────────────────────╯\u001b[0m\n"
      ]
     },
     "metadata": {},
     "output_type": "display_data"
    },
    {
     "data": {
      "text/html": [
       "<pre style=\"white-space:pre;overflow-x:auto;line-height:normal;font-family:Menlo,'DejaVu Sans Mono',consolas,'Courier New',monospace\"> <span style=\"color: #008000; text-decoration-color: #008000; font-weight: bold\">Creating EPOCHS</span>\n",
       "</pre>\n"
      ],
      "text/plain": [
       " \u001b[1;32mCreating EPOCHS\u001b[0m\n"
      ]
     },
     "metadata": {},
     "output_type": "display_data"
    },
    {
     "data": {
      "text/html": [
       "<pre style=\"white-space:pre;overflow-x:auto;line-height:normal;font-family:Menlo,'DejaVu Sans Mono',consolas,'Courier New',monospace\"><span style=\"font-style: italic\">        Extraction Criteria        </span>\n",
       "┏━━━━━━━━━━━━━━━━━━━━┳━━━━━━━━━━━━┓\n",
       "┃<span style=\"font-weight: bold\"> Parameter          </span>┃<span style=\"font-weight: bold\"> Value      </span>┃\n",
       "┣━━━━━━━━━━━━━━━━━━━━╋━━━━━━━━━━━━┫\n",
       "┃<span style=\"color: #008080; text-decoration-color: #008080; font-weight: bold\"> 🧪 Trial Mode      </span>┃<span style=\"color: #808000; text-decoration-color: #808000; font-weight: bold\"> Real       </span>┃\n",
       "┃<span style=\"color: #008080; text-decoration-color: #008080; font-weight: bold\"> 📏 Trial Unit      </span>┃<span style=\"color: #808000; text-decoration-color: #808000; font-weight: bold\"> Words      </span>┃\n",
       "┃<span style=\"color: #008080; text-decoration-color: #008080; font-weight: bold\"> 🔗 Experiment Mode </span>┃<span style=\"color: #808000; text-decoration-color: #808000; font-weight: bold\"> Experiment </span>┃\n",
       "┃<span style=\"color: #008080; text-decoration-color: #008080; font-weight: bold\"> 🎭 Trial Boundary  </span>┃<span style=\"color: #808000; text-decoration-color: #808000; font-weight: bold\"> Start      </span>┃\n",
       "┃<span style=\"color: #008080; text-decoration-color: #008080; font-weight: bold\"> 🔬 Trial Type      </span>┃<span style=\"color: #808000; text-decoration-color: #808000; font-weight: bold\"> Speech     </span>┃\n",
       "┃<span style=\"color: #008080; text-decoration-color: #008080; font-weight: bold\"> 📊 Modality        </span>┃<span style=\"color: #808000; text-decoration-color: #808000; font-weight: bold\"> Audio      </span>┃\n",
       "┃<span style=\"color: #008080; text-decoration-color: #008080; font-weight: bold\"> ⏱ Tmin             </span>┃<span style=\"color: #808000; text-decoration-color: #808000; font-weight: bold\"> </span><span style=\"color: #008080; text-decoration-color: #008080; font-weight: bold\">-0.2</span><span style=\"color: #808000; text-decoration-color: #808000; font-weight: bold\">       </span>┃\n",
       "┃<span style=\"color: #008080; text-decoration-color: #008080; font-weight: bold\"> ⏳ Tmax            </span>┃<span style=\"color: #808000; text-decoration-color: #808000; font-weight: bold\"> </span><span style=\"color: #008080; text-decoration-color: #008080; font-weight: bold\">0.5</span><span style=\"color: #808000; text-decoration-color: #808000; font-weight: bold\">        </span>┃\n",
       "┗━━━━━━━━━━━━━━━━━━━━┻━━━━━━━━━━━━┛\n",
       "</pre>\n"
      ],
      "text/plain": [
       "\u001b[3m        Extraction Criteria        \u001b[0m\n",
       "┏━━━━━━━━━━━━━━━━━━━━┳━━━━━━━━━━━━┓\n",
       "┃\u001b[1m \u001b[0m\u001b[1mParameter         \u001b[0m\u001b[1m \u001b[0m┃\u001b[1m \u001b[0m\u001b[1mValue     \u001b[0m\u001b[1m \u001b[0m┃\n",
       "┣━━━━━━━━━━━━━━━━━━━━╋━━━━━━━━━━━━┫\n",
       "┃\u001b[1;36m \u001b[0m\u001b[1;36m🧪 Trial Mode     \u001b[0m\u001b[1;36m \u001b[0m┃\u001b[1;33m \u001b[0m\u001b[1;33mReal      \u001b[0m\u001b[1;33m \u001b[0m┃\n",
       "┃\u001b[1;36m \u001b[0m\u001b[1;36m📏 Trial Unit     \u001b[0m\u001b[1;36m \u001b[0m┃\u001b[1;33m \u001b[0m\u001b[1;33mWords     \u001b[0m\u001b[1;33m \u001b[0m┃\n",
       "┃\u001b[1;36m \u001b[0m\u001b[1;36m🔗 Experiment Mode\u001b[0m\u001b[1;36m \u001b[0m┃\u001b[1;33m \u001b[0m\u001b[1;33mExperiment\u001b[0m\u001b[1;33m \u001b[0m┃\n",
       "┃\u001b[1;36m \u001b[0m\u001b[1;36m🎭 Trial Boundary \u001b[0m\u001b[1;36m \u001b[0m┃\u001b[1;33m \u001b[0m\u001b[1;33mStart     \u001b[0m\u001b[1;33m \u001b[0m┃\n",
       "┃\u001b[1;36m \u001b[0m\u001b[1;36m🔬 Trial Type     \u001b[0m\u001b[1;36m \u001b[0m┃\u001b[1;33m \u001b[0m\u001b[1;33mSpeech    \u001b[0m\u001b[1;33m \u001b[0m┃\n",
       "┃\u001b[1;36m \u001b[0m\u001b[1;36m📊 Modality       \u001b[0m\u001b[1;36m \u001b[0m┃\u001b[1;33m \u001b[0m\u001b[1;33mAudio     \u001b[0m\u001b[1;33m \u001b[0m┃\n",
       "┃\u001b[1;36m \u001b[0m\u001b[1;36m⏱ Tmin            \u001b[0m\u001b[1;36m \u001b[0m┃\u001b[1;33m \u001b[0m\u001b[1;36m-0.2\u001b[0m\u001b[1;33m      \u001b[0m\u001b[1;33m \u001b[0m┃\n",
       "┃\u001b[1;36m \u001b[0m\u001b[1;36m⏳ Tmax           \u001b[0m\u001b[1;36m \u001b[0m┃\u001b[1;33m \u001b[0m\u001b[1;36m0.5\u001b[0m\u001b[1;33m       \u001b[0m\u001b[1;33m \u001b[0m┃\n",
       "┗━━━━━━━━━━━━━━━━━━━━┻━━━━━━━━━━━━┛\n"
      ]
     },
     "metadata": {},
     "output_type": "display_data"
    },
    {
     "name": "stdout",
     "output_type": "stream",
     "text": [
      "Not setting metadata\n",
      "95 matching events found\n",
      "Applying baseline correction (mode: mean)\n",
      "0 projection items activated\n",
      "Using data from preloaded Raw for 95 events and 701 original time points ...\n",
      "0 bad epochs dropped\n"
     ]
    },
    {
     "data": {
      "text/html": [
       "<pre style=\"white-space:pre;overflow-x:auto;line-height:normal;font-family:Menlo,'DejaVu Sans Mono',consolas,'Courier New',monospace\"><span style=\"color: #800000; text-decoration-color: #800000\">╭─────────────────────────────────────╮</span>\n",
       "<span style=\"color: #800000; text-decoration-color: #800000\">│</span>  <span style=\"color: #800000; text-decoration-color: #800000; font-weight: bold\">Initializing EEGEpochBuilder Class</span> <span style=\"color: #800000; text-decoration-color: #800000\">│</span>\n",
       "<span style=\"color: #800000; text-decoration-color: #800000\">╰─────────────────────────────────────╯</span>\n",
       "</pre>\n"
      ],
      "text/plain": [
       "\u001b[31m╭─────────────────────────────────────╮\u001b[0m\n",
       "\u001b[31m│\u001b[0m  \u001b[1;31mInitializing EEGEpochBuilder Class\u001b[0m \u001b[31m│\u001b[0m\n",
       "\u001b[31m╰─────────────────────────────────────╯\u001b[0m\n"
      ]
     },
     "metadata": {},
     "output_type": "display_data"
    },
    {
     "data": {
      "text/html": [
       "<pre style=\"white-space:pre;overflow-x:auto;line-height:normal;font-family:Menlo,'DejaVu Sans Mono',consolas,'Courier New',monospace\"> <span style=\"color: #008000; text-decoration-color: #008000; font-weight: bold\">Creating EPOCHS</span>\n",
       "</pre>\n"
      ],
      "text/plain": [
       " \u001b[1;32mCreating EPOCHS\u001b[0m\n"
      ]
     },
     "metadata": {},
     "output_type": "display_data"
    },
    {
     "data": {
      "text/html": [
       "<pre style=\"white-space:pre;overflow-x:auto;line-height:normal;font-family:Menlo,'DejaVu Sans Mono',consolas,'Courier New',monospace\"><span style=\"font-style: italic\">        Extraction Criteria        </span>\n",
       "┏━━━━━━━━━━━━━━━━━━━━┳━━━━━━━━━━━━┓\n",
       "┃<span style=\"font-weight: bold\"> Parameter          </span>┃<span style=\"font-weight: bold\"> Value      </span>┃\n",
       "┣━━━━━━━━━━━━━━━━━━━━╋━━━━━━━━━━━━┫\n",
       "┃<span style=\"color: #008080; text-decoration-color: #008080; font-weight: bold\"> 🧪 Trial Mode      </span>┃<span style=\"color: #808000; text-decoration-color: #808000; font-weight: bold\"> Silent     </span>┃\n",
       "┃<span style=\"color: #008080; text-decoration-color: #008080; font-weight: bold\"> 📏 Trial Unit      </span>┃<span style=\"color: #808000; text-decoration-color: #808000; font-weight: bold\"> Words      </span>┃\n",
       "┃<span style=\"color: #008080; text-decoration-color: #008080; font-weight: bold\"> 🔗 Experiment Mode </span>┃<span style=\"color: #808000; text-decoration-color: #808000; font-weight: bold\"> Experiment </span>┃\n",
       "┃<span style=\"color: #008080; text-decoration-color: #008080; font-weight: bold\"> 🎭 Trial Boundary  </span>┃<span style=\"color: #808000; text-decoration-color: #808000; font-weight: bold\"> Start      </span>┃\n",
       "┃<span style=\"color: #008080; text-decoration-color: #008080; font-weight: bold\"> 🔬 Trial Type      </span>┃<span style=\"color: #808000; text-decoration-color: #808000; font-weight: bold\"> Speech     </span>┃\n",
       "┃<span style=\"color: #008080; text-decoration-color: #008080; font-weight: bold\"> 📊 Modality        </span>┃<span style=\"color: #808000; text-decoration-color: #808000; font-weight: bold\"> Audio      </span>┃\n",
       "┃<span style=\"color: #008080; text-decoration-color: #008080; font-weight: bold\"> ⏱ Tmin             </span>┃<span style=\"color: #808000; text-decoration-color: #808000; font-weight: bold\"> </span><span style=\"color: #008080; text-decoration-color: #008080; font-weight: bold\">-0.2</span><span style=\"color: #808000; text-decoration-color: #808000; font-weight: bold\">       </span>┃\n",
       "┃<span style=\"color: #008080; text-decoration-color: #008080; font-weight: bold\"> ⏳ Tmax            </span>┃<span style=\"color: #808000; text-decoration-color: #808000; font-weight: bold\"> </span><span style=\"color: #008080; text-decoration-color: #008080; font-weight: bold\">0.5</span><span style=\"color: #808000; text-decoration-color: #808000; font-weight: bold\">        </span>┃\n",
       "┗━━━━━━━━━━━━━━━━━━━━┻━━━━━━━━━━━━┛\n",
       "</pre>\n"
      ],
      "text/plain": [
       "\u001b[3m        Extraction Criteria        \u001b[0m\n",
       "┏━━━━━━━━━━━━━━━━━━━━┳━━━━━━━━━━━━┓\n",
       "┃\u001b[1m \u001b[0m\u001b[1mParameter         \u001b[0m\u001b[1m \u001b[0m┃\u001b[1m \u001b[0m\u001b[1mValue     \u001b[0m\u001b[1m \u001b[0m┃\n",
       "┣━━━━━━━━━━━━━━━━━━━━╋━━━━━━━━━━━━┫\n",
       "┃\u001b[1;36m \u001b[0m\u001b[1;36m🧪 Trial Mode     \u001b[0m\u001b[1;36m \u001b[0m┃\u001b[1;33m \u001b[0m\u001b[1;33mSilent    \u001b[0m\u001b[1;33m \u001b[0m┃\n",
       "┃\u001b[1;36m \u001b[0m\u001b[1;36m📏 Trial Unit     \u001b[0m\u001b[1;36m \u001b[0m┃\u001b[1;33m \u001b[0m\u001b[1;33mWords     \u001b[0m\u001b[1;33m \u001b[0m┃\n",
       "┃\u001b[1;36m \u001b[0m\u001b[1;36m🔗 Experiment Mode\u001b[0m\u001b[1;36m \u001b[0m┃\u001b[1;33m \u001b[0m\u001b[1;33mExperiment\u001b[0m\u001b[1;33m \u001b[0m┃\n",
       "┃\u001b[1;36m \u001b[0m\u001b[1;36m🎭 Trial Boundary \u001b[0m\u001b[1;36m \u001b[0m┃\u001b[1;33m \u001b[0m\u001b[1;33mStart     \u001b[0m\u001b[1;33m \u001b[0m┃\n",
       "┃\u001b[1;36m \u001b[0m\u001b[1;36m🔬 Trial Type     \u001b[0m\u001b[1;36m \u001b[0m┃\u001b[1;33m \u001b[0m\u001b[1;33mSpeech    \u001b[0m\u001b[1;33m \u001b[0m┃\n",
       "┃\u001b[1;36m \u001b[0m\u001b[1;36m📊 Modality       \u001b[0m\u001b[1;36m \u001b[0m┃\u001b[1;33m \u001b[0m\u001b[1;33mAudio     \u001b[0m\u001b[1;33m \u001b[0m┃\n",
       "┃\u001b[1;36m \u001b[0m\u001b[1;36m⏱ Tmin            \u001b[0m\u001b[1;36m \u001b[0m┃\u001b[1;33m \u001b[0m\u001b[1;36m-0.2\u001b[0m\u001b[1;33m      \u001b[0m\u001b[1;33m \u001b[0m┃\n",
       "┃\u001b[1;36m \u001b[0m\u001b[1;36m⏳ Tmax           \u001b[0m\u001b[1;36m \u001b[0m┃\u001b[1;33m \u001b[0m\u001b[1;36m0.5\u001b[0m\u001b[1;33m       \u001b[0m\u001b[1;33m \u001b[0m┃\n",
       "┗━━━━━━━━━━━━━━━━━━━━┻━━━━━━━━━━━━┛\n"
      ]
     },
     "metadata": {},
     "output_type": "display_data"
    },
    {
     "name": "stdout",
     "output_type": "stream",
     "text": [
      "Not setting metadata\n",
      "95 matching events found\n",
      "Applying baseline correction (mode: mean)\n",
      "0 projection items activated\n",
      "Using data from preloaded Raw for 95 events and 701 original time points ...\n",
      "0 bad epochs dropped\n",
      "NOTE: pick_channels() is a legacy function. New code should use inst.pick(...).\n",
      "NOTE: pick_channels() is a legacy function. New code should use inst.pick(...).\n",
      "Overt P100: latency=0.092s, peak=1.14µV, mean=0.63µV\n",
      "Covert P100: latency=0.317s, peak=-0.07µV, mean=-0.84µV\n",
      "Initializing Plotter\n",
      "Results saved to p100_results/sub-15_ses-01_p100_Overt_Covert.csv\n"
     ]
    },
    {
     "data": {
      "text/html": [
       "<pre style=\"white-space:pre;overflow-x:auto;line-height:normal;font-family:Menlo,'DejaVu Sans Mono',consolas,'Courier New',monospace\"><span style=\"color: #808000; text-decoration-color: #808000\">╭─────────────────────────────────────────╮</span>\n",
       "<span style=\"color: #808000; text-decoration-color: #808000\">│</span> 🚀 <span style=\"color: #808000; text-decoration-color: #808000; font-weight: bold\">Initializing BIDSDatasetReader Class</span> <span style=\"color: #808000; text-decoration-color: #808000\">│</span>\n",
       "<span style=\"color: #808000; text-decoration-color: #808000\">╰─────────────────────────────────────────╯</span>\n",
       "</pre>\n"
      ],
      "text/plain": [
       "\u001b[33m╭─────────────────────────────────────────╮\u001b[0m\n",
       "\u001b[33m│\u001b[0m 🚀 \u001b[1;33mInitializing BIDSDatasetReader Class\u001b[0m \u001b[33m│\u001b[0m\n",
       "\u001b[33m╰─────────────────────────────────────────╯\u001b[0m\n"
      ]
     },
     "metadata": {},
     "output_type": "display_data"
    },
    {
     "data": {
      "text/html": [
       "<pre style=\"white-space:pre;overflow-x:auto;line-height:normal;font-family:Menlo,'DejaVu Sans Mono',consolas,'Courier New',monospace\"> <span style=\"color: #008000; text-decoration-color: #008000; font-weight: bold\">Loading Processed EEG Data: sub-</span><span style=\"color: #008000; text-decoration-color: #008000; font-weight: bold\">15</span><span style=\"color: #008000; text-decoration-color: #008000; font-weight: bold\"> ses-</span><span style=\"color: #008000; text-decoration-color: #008000; font-weight: bold\">02</span>\n",
       "</pre>\n"
      ],
      "text/plain": [
       " \u001b[1;32mLoading Processed EEG Data: sub-\u001b[0m\u001b[1;32m15\u001b[0m\u001b[1;32m ses-\u001b[0m\u001b[1;32m02\u001b[0m\n"
      ]
     },
     "metadata": {},
     "output_type": "display_data"
    },
    {
     "data": {
      "text/html": [
       "<pre style=\"white-space:pre;overflow-x:auto;line-height:normal;font-family:Menlo,'DejaVu Sans Mono',consolas,'Courier New',monospace\"><span style=\"color: #800000; text-decoration-color: #800000\">╭─────────────────────────────────────╮</span>\n",
       "<span style=\"color: #800000; text-decoration-color: #800000\">│</span>  <span style=\"color: #800000; text-decoration-color: #800000; font-weight: bold\">Initializing EEGEpochBuilder Class</span> <span style=\"color: #800000; text-decoration-color: #800000\">│</span>\n",
       "<span style=\"color: #800000; text-decoration-color: #800000\">╰─────────────────────────────────────╯</span>\n",
       "</pre>\n"
      ],
      "text/plain": [
       "\u001b[31m╭─────────────────────────────────────╮\u001b[0m\n",
       "\u001b[31m│\u001b[0m  \u001b[1;31mInitializing EEGEpochBuilder Class\u001b[0m \u001b[31m│\u001b[0m\n",
       "\u001b[31m╰─────────────────────────────────────╯\u001b[0m\n"
      ]
     },
     "metadata": {},
     "output_type": "display_data"
    },
    {
     "data": {
      "text/html": [
       "<pre style=\"white-space:pre;overflow-x:auto;line-height:normal;font-family:Menlo,'DejaVu Sans Mono',consolas,'Courier New',monospace\"> <span style=\"color: #008000; text-decoration-color: #008000; font-weight: bold\">Creating EPOCHS</span>\n",
       "</pre>\n"
      ],
      "text/plain": [
       " \u001b[1;32mCreating EPOCHS\u001b[0m\n"
      ]
     },
     "metadata": {},
     "output_type": "display_data"
    },
    {
     "data": {
      "text/html": [
       "<pre style=\"white-space:pre;overflow-x:auto;line-height:normal;font-family:Menlo,'DejaVu Sans Mono',consolas,'Courier New',monospace\"><span style=\"font-style: italic\">        Extraction Criteria        </span>\n",
       "┏━━━━━━━━━━━━━━━━━━━━┳━━━━━━━━━━━━┓\n",
       "┃<span style=\"font-weight: bold\"> Parameter          </span>┃<span style=\"font-weight: bold\"> Value      </span>┃\n",
       "┣━━━━━━━━━━━━━━━━━━━━╋━━━━━━━━━━━━┫\n",
       "┃<span style=\"color: #008080; text-decoration-color: #008080; font-weight: bold\"> 🧪 Trial Mode      </span>┃<span style=\"color: #808000; text-decoration-color: #808000; font-weight: bold\"> Real       </span>┃\n",
       "┃<span style=\"color: #008080; text-decoration-color: #008080; font-weight: bold\"> 📏 Trial Unit      </span>┃<span style=\"color: #808000; text-decoration-color: #808000; font-weight: bold\"> Words      </span>┃\n",
       "┃<span style=\"color: #008080; text-decoration-color: #008080; font-weight: bold\"> 🔗 Experiment Mode </span>┃<span style=\"color: #808000; text-decoration-color: #808000; font-weight: bold\"> Experiment </span>┃\n",
       "┃<span style=\"color: #008080; text-decoration-color: #008080; font-weight: bold\"> 🎭 Trial Boundary  </span>┃<span style=\"color: #808000; text-decoration-color: #808000; font-weight: bold\"> Start      </span>┃\n",
       "┃<span style=\"color: #008080; text-decoration-color: #008080; font-weight: bold\"> 🔬 Trial Type      </span>┃<span style=\"color: #808000; text-decoration-color: #808000; font-weight: bold\"> Speech     </span>┃\n",
       "┃<span style=\"color: #008080; text-decoration-color: #008080; font-weight: bold\"> 📊 Modality        </span>┃<span style=\"color: #808000; text-decoration-color: #808000; font-weight: bold\"> Audio      </span>┃\n",
       "┃<span style=\"color: #008080; text-decoration-color: #008080; font-weight: bold\"> ⏱ Tmin             </span>┃<span style=\"color: #808000; text-decoration-color: #808000; font-weight: bold\"> </span><span style=\"color: #008080; text-decoration-color: #008080; font-weight: bold\">-0.2</span><span style=\"color: #808000; text-decoration-color: #808000; font-weight: bold\">       </span>┃\n",
       "┃<span style=\"color: #008080; text-decoration-color: #008080; font-weight: bold\"> ⏳ Tmax            </span>┃<span style=\"color: #808000; text-decoration-color: #808000; font-weight: bold\"> </span><span style=\"color: #008080; text-decoration-color: #008080; font-weight: bold\">0.5</span><span style=\"color: #808000; text-decoration-color: #808000; font-weight: bold\">        </span>┃\n",
       "┗━━━━━━━━━━━━━━━━━━━━┻━━━━━━━━━━━━┛\n",
       "</pre>\n"
      ],
      "text/plain": [
       "\u001b[3m        Extraction Criteria        \u001b[0m\n",
       "┏━━━━━━━━━━━━━━━━━━━━┳━━━━━━━━━━━━┓\n",
       "┃\u001b[1m \u001b[0m\u001b[1mParameter         \u001b[0m\u001b[1m \u001b[0m┃\u001b[1m \u001b[0m\u001b[1mValue     \u001b[0m\u001b[1m \u001b[0m┃\n",
       "┣━━━━━━━━━━━━━━━━━━━━╋━━━━━━━━━━━━┫\n",
       "┃\u001b[1;36m \u001b[0m\u001b[1;36m🧪 Trial Mode     \u001b[0m\u001b[1;36m \u001b[0m┃\u001b[1;33m \u001b[0m\u001b[1;33mReal      \u001b[0m\u001b[1;33m \u001b[0m┃\n",
       "┃\u001b[1;36m \u001b[0m\u001b[1;36m📏 Trial Unit     \u001b[0m\u001b[1;36m \u001b[0m┃\u001b[1;33m \u001b[0m\u001b[1;33mWords     \u001b[0m\u001b[1;33m \u001b[0m┃\n",
       "┃\u001b[1;36m \u001b[0m\u001b[1;36m🔗 Experiment Mode\u001b[0m\u001b[1;36m \u001b[0m┃\u001b[1;33m \u001b[0m\u001b[1;33mExperiment\u001b[0m\u001b[1;33m \u001b[0m┃\n",
       "┃\u001b[1;36m \u001b[0m\u001b[1;36m🎭 Trial Boundary \u001b[0m\u001b[1;36m \u001b[0m┃\u001b[1;33m \u001b[0m\u001b[1;33mStart     \u001b[0m\u001b[1;33m \u001b[0m┃\n",
       "┃\u001b[1;36m \u001b[0m\u001b[1;36m🔬 Trial Type     \u001b[0m\u001b[1;36m \u001b[0m┃\u001b[1;33m \u001b[0m\u001b[1;33mSpeech    \u001b[0m\u001b[1;33m \u001b[0m┃\n",
       "┃\u001b[1;36m \u001b[0m\u001b[1;36m📊 Modality       \u001b[0m\u001b[1;36m \u001b[0m┃\u001b[1;33m \u001b[0m\u001b[1;33mAudio     \u001b[0m\u001b[1;33m \u001b[0m┃\n",
       "┃\u001b[1;36m \u001b[0m\u001b[1;36m⏱ Tmin            \u001b[0m\u001b[1;36m \u001b[0m┃\u001b[1;33m \u001b[0m\u001b[1;36m-0.2\u001b[0m\u001b[1;33m      \u001b[0m\u001b[1;33m \u001b[0m┃\n",
       "┃\u001b[1;36m \u001b[0m\u001b[1;36m⏳ Tmax           \u001b[0m\u001b[1;36m \u001b[0m┃\u001b[1;33m \u001b[0m\u001b[1;36m0.5\u001b[0m\u001b[1;33m       \u001b[0m\u001b[1;33m \u001b[0m┃\n",
       "┗━━━━━━━━━━━━━━━━━━━━┻━━━━━━━━━━━━┛\n"
      ]
     },
     "metadata": {},
     "output_type": "display_data"
    },
    {
     "name": "stdout",
     "output_type": "stream",
     "text": [
      "Not setting metadata\n",
      "51 matching events found\n",
      "Applying baseline correction (mode: mean)\n",
      "0 projection items activated\n",
      "Using data from preloaded Raw for 51 events and 701 original time points ...\n",
      "0 bad epochs dropped\n"
     ]
    },
    {
     "data": {
      "text/html": [
       "<pre style=\"white-space:pre;overflow-x:auto;line-height:normal;font-family:Menlo,'DejaVu Sans Mono',consolas,'Courier New',monospace\"><span style=\"color: #800000; text-decoration-color: #800000\">╭─────────────────────────────────────╮</span>\n",
       "<span style=\"color: #800000; text-decoration-color: #800000\">│</span>  <span style=\"color: #800000; text-decoration-color: #800000; font-weight: bold\">Initializing EEGEpochBuilder Class</span> <span style=\"color: #800000; text-decoration-color: #800000\">│</span>\n",
       "<span style=\"color: #800000; text-decoration-color: #800000\">╰─────────────────────────────────────╯</span>\n",
       "</pre>\n"
      ],
      "text/plain": [
       "\u001b[31m╭─────────────────────────────────────╮\u001b[0m\n",
       "\u001b[31m│\u001b[0m  \u001b[1;31mInitializing EEGEpochBuilder Class\u001b[0m \u001b[31m│\u001b[0m\n",
       "\u001b[31m╰─────────────────────────────────────╯\u001b[0m\n"
      ]
     },
     "metadata": {},
     "output_type": "display_data"
    },
    {
     "data": {
      "text/html": [
       "<pre style=\"white-space:pre;overflow-x:auto;line-height:normal;font-family:Menlo,'DejaVu Sans Mono',consolas,'Courier New',monospace\"> <span style=\"color: #008000; text-decoration-color: #008000; font-weight: bold\">Creating EPOCHS</span>\n",
       "</pre>\n"
      ],
      "text/plain": [
       " \u001b[1;32mCreating EPOCHS\u001b[0m\n"
      ]
     },
     "metadata": {},
     "output_type": "display_data"
    },
    {
     "data": {
      "text/html": [
       "<pre style=\"white-space:pre;overflow-x:auto;line-height:normal;font-family:Menlo,'DejaVu Sans Mono',consolas,'Courier New',monospace\"><span style=\"font-style: italic\">        Extraction Criteria        </span>\n",
       "┏━━━━━━━━━━━━━━━━━━━━┳━━━━━━━━━━━━┓\n",
       "┃<span style=\"font-weight: bold\"> Parameter          </span>┃<span style=\"font-weight: bold\"> Value      </span>┃\n",
       "┣━━━━━━━━━━━━━━━━━━━━╋━━━━━━━━━━━━┫\n",
       "┃<span style=\"color: #008080; text-decoration-color: #008080; font-weight: bold\"> 🧪 Trial Mode      </span>┃<span style=\"color: #808000; text-decoration-color: #808000; font-weight: bold\"> Silent     </span>┃\n",
       "┃<span style=\"color: #008080; text-decoration-color: #008080; font-weight: bold\"> 📏 Trial Unit      </span>┃<span style=\"color: #808000; text-decoration-color: #808000; font-weight: bold\"> Words      </span>┃\n",
       "┃<span style=\"color: #008080; text-decoration-color: #008080; font-weight: bold\"> 🔗 Experiment Mode </span>┃<span style=\"color: #808000; text-decoration-color: #808000; font-weight: bold\"> Experiment </span>┃\n",
       "┃<span style=\"color: #008080; text-decoration-color: #008080; font-weight: bold\"> 🎭 Trial Boundary  </span>┃<span style=\"color: #808000; text-decoration-color: #808000; font-weight: bold\"> Start      </span>┃\n",
       "┃<span style=\"color: #008080; text-decoration-color: #008080; font-weight: bold\"> 🔬 Trial Type      </span>┃<span style=\"color: #808000; text-decoration-color: #808000; font-weight: bold\"> Speech     </span>┃\n",
       "┃<span style=\"color: #008080; text-decoration-color: #008080; font-weight: bold\"> 📊 Modality        </span>┃<span style=\"color: #808000; text-decoration-color: #808000; font-weight: bold\"> Audio      </span>┃\n",
       "┃<span style=\"color: #008080; text-decoration-color: #008080; font-weight: bold\"> ⏱ Tmin             </span>┃<span style=\"color: #808000; text-decoration-color: #808000; font-weight: bold\"> </span><span style=\"color: #008080; text-decoration-color: #008080; font-weight: bold\">-0.2</span><span style=\"color: #808000; text-decoration-color: #808000; font-weight: bold\">       </span>┃\n",
       "┃<span style=\"color: #008080; text-decoration-color: #008080; font-weight: bold\"> ⏳ Tmax            </span>┃<span style=\"color: #808000; text-decoration-color: #808000; font-weight: bold\"> </span><span style=\"color: #008080; text-decoration-color: #008080; font-weight: bold\">0.5</span><span style=\"color: #808000; text-decoration-color: #808000; font-weight: bold\">        </span>┃\n",
       "┗━━━━━━━━━━━━━━━━━━━━┻━━━━━━━━━━━━┛\n",
       "</pre>\n"
      ],
      "text/plain": [
       "\u001b[3m        Extraction Criteria        \u001b[0m\n",
       "┏━━━━━━━━━━━━━━━━━━━━┳━━━━━━━━━━━━┓\n",
       "┃\u001b[1m \u001b[0m\u001b[1mParameter         \u001b[0m\u001b[1m \u001b[0m┃\u001b[1m \u001b[0m\u001b[1mValue     \u001b[0m\u001b[1m \u001b[0m┃\n",
       "┣━━━━━━━━━━━━━━━━━━━━╋━━━━━━━━━━━━┫\n",
       "┃\u001b[1;36m \u001b[0m\u001b[1;36m🧪 Trial Mode     \u001b[0m\u001b[1;36m \u001b[0m┃\u001b[1;33m \u001b[0m\u001b[1;33mSilent    \u001b[0m\u001b[1;33m \u001b[0m┃\n",
       "┃\u001b[1;36m \u001b[0m\u001b[1;36m📏 Trial Unit     \u001b[0m\u001b[1;36m \u001b[0m┃\u001b[1;33m \u001b[0m\u001b[1;33mWords     \u001b[0m\u001b[1;33m \u001b[0m┃\n",
       "┃\u001b[1;36m \u001b[0m\u001b[1;36m🔗 Experiment Mode\u001b[0m\u001b[1;36m \u001b[0m┃\u001b[1;33m \u001b[0m\u001b[1;33mExperiment\u001b[0m\u001b[1;33m \u001b[0m┃\n",
       "┃\u001b[1;36m \u001b[0m\u001b[1;36m🎭 Trial Boundary \u001b[0m\u001b[1;36m \u001b[0m┃\u001b[1;33m \u001b[0m\u001b[1;33mStart     \u001b[0m\u001b[1;33m \u001b[0m┃\n",
       "┃\u001b[1;36m \u001b[0m\u001b[1;36m🔬 Trial Type     \u001b[0m\u001b[1;36m \u001b[0m┃\u001b[1;33m \u001b[0m\u001b[1;33mSpeech    \u001b[0m\u001b[1;33m \u001b[0m┃\n",
       "┃\u001b[1;36m \u001b[0m\u001b[1;36m📊 Modality       \u001b[0m\u001b[1;36m \u001b[0m┃\u001b[1;33m \u001b[0m\u001b[1;33mAudio     \u001b[0m\u001b[1;33m \u001b[0m┃\n",
       "┃\u001b[1;36m \u001b[0m\u001b[1;36m⏱ Tmin            \u001b[0m\u001b[1;36m \u001b[0m┃\u001b[1;33m \u001b[0m\u001b[1;36m-0.2\u001b[0m\u001b[1;33m      \u001b[0m\u001b[1;33m \u001b[0m┃\n",
       "┃\u001b[1;36m \u001b[0m\u001b[1;36m⏳ Tmax           \u001b[0m\u001b[1;36m \u001b[0m┃\u001b[1;33m \u001b[0m\u001b[1;36m0.5\u001b[0m\u001b[1;33m       \u001b[0m\u001b[1;33m \u001b[0m┃\n",
       "┗━━━━━━━━━━━━━━━━━━━━┻━━━━━━━━━━━━┛\n"
      ]
     },
     "metadata": {},
     "output_type": "display_data"
    },
    {
     "name": "stdout",
     "output_type": "stream",
     "text": [
      "Not setting metadata\n",
      "51 matching events found\n",
      "Applying baseline correction (mode: mean)\n",
      "0 projection items activated\n",
      "Using data from preloaded Raw for 51 events and 701 original time points ...\n",
      "0 bad epochs dropped\n",
      "NOTE: pick_channels() is a legacy function. New code should use inst.pick(...).\n",
      "NOTE: pick_channels() is a legacy function. New code should use inst.pick(...).\n",
      "Overt P100: latency=0.080s, peak=0.10µV, mean=-0.31µV\n",
      "Covert P100: latency=0.293s, peak=-1.74µV, mean=-2.16µV\n",
      "Initializing Plotter\n",
      "Results saved to p100_results/sub-15_ses-02_p100_Overt_Covert.csv\n"
     ]
    }
   ],
   "source": [
    "if config.OVERT_COVERT_ANALYSIS:\n",
    "        overt = {\n",
    "            \"label\": \"Overt\",\n",
    "            \"trial_type\": \"Speech\",\n",
    "            \"tmin\": -0.2,\n",
    "            \"tmax\": 0.5,\n",
    "            \"trial_mode\": \"Real\",\n",
    "            \"trial_unit\": \"Words\",\n",
    "            \"experiment_mode\": \"Experiment\",\n",
    "            \"trial_boundary\": \"Start\",\n",
    "            \"modality\": \"Audio\",\n",
    "            \"time_window\": (0.28, 0.32)\n",
    "        }\n",
    "\n",
    "        covert = {\n",
    "            \"label\": \"Covert\",\n",
    "            \"trial_type\": \"Speech\",\n",
    "            \"tmin\": -0.2,\n",
    "            \"tmax\": 0.5,\n",
    "            \"trial_mode\": \"Silent\",\n",
    "            \"trial_unit\": \"Words\",\n",
    "            \"experiment_mode\": \"Experiment\",\n",
    "            \"trial_boundary\": \"Start\",\n",
    "            \"modality\": \"Audio\",\n",
    "            \"time_window\": (0.28, 0.32)  # Optional window for P100\n",
    "        }\n",
    "\n",
    "        layout = BIDSLayout(config.BIDS_DIR, validate=True)\n",
    "        subject_ids = layout.get_subjects()\n",
    "\n",
    "        for sub in subject_ids:\n",
    "            session_ids = layout.get_sessions(subject=sub)  # or any other subject\n",
    "            for ses in session_ids:\n",
    "                pipeline = P100AnalysisPipeline(\n",
    "                    subject_id=sub,\n",
    "                    session_id=ses,\n",
    "                    condition1_config=overt,\n",
    "                    condition2_config=covert,\n",
    "                    channels = ['F7', 'T7', 'TP7', 'C3', 'FT7']\n",
    "                )\n",
    "\n",
    "                pipeline.run(save_csv=True)\n",
    "                \n",
    "            "
   ]
  },
  {
   "cell_type": "code",
   "execution_count": null,
   "metadata": {},
   "outputs": [],
   "source": []
  },
  {
   "cell_type": "code",
   "execution_count": null,
   "metadata": {},
   "outputs": [],
   "source": []
  },
  {
   "cell_type": "code",
   "execution_count": 7,
   "metadata": {},
   "outputs": [],
   "source": [
    "import pandas as pd\n",
    "from glob import glob\n",
    "import os"
   ]
  },
  {
   "cell_type": "code",
   "execution_count": 18,
   "metadata": {},
   "outputs": [
    {
     "name": "stdout",
     "output_type": "stream",
     "text": [
      "Combined CSV saved to: /home/owaismujtaba/projects/elsavier/p100_results/combined_p100_results_Overt_Covert.csv\n"
     ]
    }
   ],
   "source": [
    "csv_dir = '/home/owaismujtaba/projects/elsavier/p100_results'\n",
    "csv_files = [f for f in glob(os.path.join(csv_dir, \"*.csv\")) if f.endswith(\"Overt_Covert.csv\")]\n",
    "\n",
    "# Load and concatenate all CSV files\n",
    "all_dfs = [pd.read_csv(f) for f in csv_files]\n",
    "combined_df = pd.concat(all_dfs, ignore_index=True)\n",
    "\n",
    "# Save the result\n",
    "output_path = os.path.join(csv_dir, \"combined_p100_results_Overt_Covert.csv\")\n",
    "combined_df.to_csv(output_path, index=False)\n",
    "\n",
    "print(f\"Combined CSV saved to: {output_path}\")"
   ]
  },
  {
   "cell_type": "code",
   "execution_count": 19,
   "metadata": {},
   "outputs": [
    {
     "data": {
      "text/html": [
       "<div>\n",
       "<style scoped>\n",
       "    .dataframe tbody tr th:only-of-type {\n",
       "        vertical-align: middle;\n",
       "    }\n",
       "\n",
       "    .dataframe tbody tr th {\n",
       "        vertical-align: top;\n",
       "    }\n",
       "\n",
       "    .dataframe thead th {\n",
       "        text-align: right;\n",
       "    }\n",
       "</style>\n",
       "<table border=\"1\" class=\"dataframe\">\n",
       "  <thead>\n",
       "    <tr style=\"text-align: right;\">\n",
       "      <th></th>\n",
       "      <th>subject_id</th>\n",
       "      <th>session_id</th>\n",
       "      <th>condition</th>\n",
       "      <th>latency</th>\n",
       "      <th>peak</th>\n",
       "      <th>mean</th>\n",
       "    </tr>\n",
       "  </thead>\n",
       "  <tbody>\n",
       "    <tr>\n",
       "      <th>0</th>\n",
       "      <td>4</td>\n",
       "      <td>1</td>\n",
       "      <td>Overt</td>\n",
       "      <td>0.120</td>\n",
       "      <td>-0.328065</td>\n",
       "      <td>-0.954843</td>\n",
       "    </tr>\n",
       "    <tr>\n",
       "      <th>1</th>\n",
       "      <td>4</td>\n",
       "      <td>1</td>\n",
       "      <td>Covert</td>\n",
       "      <td>0.303</td>\n",
       "      <td>0.941593</td>\n",
       "      <td>0.362563</td>\n",
       "    </tr>\n",
       "    <tr>\n",
       "      <th>2</th>\n",
       "      <td>5</td>\n",
       "      <td>2</td>\n",
       "      <td>Overt</td>\n",
       "      <td>0.117</td>\n",
       "      <td>0.671909</td>\n",
       "      <td>-0.048863</td>\n",
       "    </tr>\n",
       "    <tr>\n",
       "      <th>3</th>\n",
       "      <td>5</td>\n",
       "      <td>2</td>\n",
       "      <td>Covert</td>\n",
       "      <td>0.308</td>\n",
       "      <td>1.440780</td>\n",
       "      <td>0.407050</td>\n",
       "    </tr>\n",
       "    <tr>\n",
       "      <th>4</th>\n",
       "      <td>12</td>\n",
       "      <td>1</td>\n",
       "      <td>Overt</td>\n",
       "      <td>0.120</td>\n",
       "      <td>0.994269</td>\n",
       "      <td>0.257525</td>\n",
       "    </tr>\n",
       "    <tr>\n",
       "      <th>5</th>\n",
       "      <td>12</td>\n",
       "      <td>1</td>\n",
       "      <td>Covert</td>\n",
       "      <td>0.295</td>\n",
       "      <td>4.126913</td>\n",
       "      <td>3.307028</td>\n",
       "    </tr>\n",
       "    <tr>\n",
       "      <th>6</th>\n",
       "      <td>14</td>\n",
       "      <td>1</td>\n",
       "      <td>Overt</td>\n",
       "      <td>0.118</td>\n",
       "      <td>3.697912</td>\n",
       "      <td>2.447247</td>\n",
       "    </tr>\n",
       "    <tr>\n",
       "      <th>7</th>\n",
       "      <td>14</td>\n",
       "      <td>1</td>\n",
       "      <td>Covert</td>\n",
       "      <td>0.313</td>\n",
       "      <td>-0.318390</td>\n",
       "      <td>-1.017173</td>\n",
       "    </tr>\n",
       "    <tr>\n",
       "      <th>8</th>\n",
       "      <td>3</td>\n",
       "      <td>1</td>\n",
       "      <td>Overt</td>\n",
       "      <td>0.120</td>\n",
       "      <td>1.736315</td>\n",
       "      <td>1.002762</td>\n",
       "    </tr>\n",
       "    <tr>\n",
       "      <th>9</th>\n",
       "      <td>3</td>\n",
       "      <td>1</td>\n",
       "      <td>Covert</td>\n",
       "      <td>0.303</td>\n",
       "      <td>0.500812</td>\n",
       "      <td>0.066748</td>\n",
       "    </tr>\n",
       "    <tr>\n",
       "      <th>10</th>\n",
       "      <td>8</td>\n",
       "      <td>1</td>\n",
       "      <td>Overt</td>\n",
       "      <td>0.092</td>\n",
       "      <td>-0.134539</td>\n",
       "      <td>-0.561409</td>\n",
       "    </tr>\n",
       "    <tr>\n",
       "      <th>11</th>\n",
       "      <td>8</td>\n",
       "      <td>1</td>\n",
       "      <td>Covert</td>\n",
       "      <td>0.320</td>\n",
       "      <td>-1.544027</td>\n",
       "      <td>-2.137941</td>\n",
       "    </tr>\n",
       "    <tr>\n",
       "      <th>12</th>\n",
       "      <td>5</td>\n",
       "      <td>1</td>\n",
       "      <td>Overt</td>\n",
       "      <td>0.120</td>\n",
       "      <td>0.665689</td>\n",
       "      <td>-0.497992</td>\n",
       "    </tr>\n",
       "    <tr>\n",
       "      <th>13</th>\n",
       "      <td>5</td>\n",
       "      <td>1</td>\n",
       "      <td>Covert</td>\n",
       "      <td>0.319</td>\n",
       "      <td>1.365060</td>\n",
       "      <td>0.129564</td>\n",
       "    </tr>\n",
       "    <tr>\n",
       "      <th>14</th>\n",
       "      <td>15</td>\n",
       "      <td>2</td>\n",
       "      <td>Overt</td>\n",
       "      <td>0.080</td>\n",
       "      <td>0.104519</td>\n",
       "      <td>-0.310987</td>\n",
       "    </tr>\n",
       "    <tr>\n",
       "      <th>15</th>\n",
       "      <td>15</td>\n",
       "      <td>2</td>\n",
       "      <td>Covert</td>\n",
       "      <td>0.293</td>\n",
       "      <td>-1.735110</td>\n",
       "      <td>-2.164548</td>\n",
       "    </tr>\n",
       "    <tr>\n",
       "      <th>16</th>\n",
       "      <td>9</td>\n",
       "      <td>2</td>\n",
       "      <td>Overt</td>\n",
       "      <td>0.080</td>\n",
       "      <td>1.249841</td>\n",
       "      <td>0.681337</td>\n",
       "    </tr>\n",
       "    <tr>\n",
       "      <th>17</th>\n",
       "      <td>9</td>\n",
       "      <td>2</td>\n",
       "      <td>Covert</td>\n",
       "      <td>0.320</td>\n",
       "      <td>2.476516</td>\n",
       "      <td>1.127578</td>\n",
       "    </tr>\n",
       "    <tr>\n",
       "      <th>18</th>\n",
       "      <td>15</td>\n",
       "      <td>1</td>\n",
       "      <td>Overt</td>\n",
       "      <td>0.092</td>\n",
       "      <td>1.142006</td>\n",
       "      <td>0.632786</td>\n",
       "    </tr>\n",
       "    <tr>\n",
       "      <th>19</th>\n",
       "      <td>15</td>\n",
       "      <td>1</td>\n",
       "      <td>Covert</td>\n",
       "      <td>0.317</td>\n",
       "      <td>-0.070297</td>\n",
       "      <td>-0.840425</td>\n",
       "    </tr>\n",
       "    <tr>\n",
       "      <th>20</th>\n",
       "      <td>13</td>\n",
       "      <td>2</td>\n",
       "      <td>Overt</td>\n",
       "      <td>0.120</td>\n",
       "      <td>2.598853</td>\n",
       "      <td>1.879196</td>\n",
       "    </tr>\n",
       "    <tr>\n",
       "      <th>21</th>\n",
       "      <td>13</td>\n",
       "      <td>2</td>\n",
       "      <td>Covert</td>\n",
       "      <td>0.314</td>\n",
       "      <td>-1.871879</td>\n",
       "      <td>-2.672225</td>\n",
       "    </tr>\n",
       "    <tr>\n",
       "      <th>22</th>\n",
       "      <td>10</td>\n",
       "      <td>1</td>\n",
       "      <td>Overt</td>\n",
       "      <td>0.111</td>\n",
       "      <td>0.482052</td>\n",
       "      <td>-0.167822</td>\n",
       "    </tr>\n",
       "    <tr>\n",
       "      <th>23</th>\n",
       "      <td>10</td>\n",
       "      <td>1</td>\n",
       "      <td>Covert</td>\n",
       "      <td>0.303</td>\n",
       "      <td>-1.131795</td>\n",
       "      <td>-1.664721</td>\n",
       "    </tr>\n",
       "    <tr>\n",
       "      <th>24</th>\n",
       "      <td>13</td>\n",
       "      <td>1</td>\n",
       "      <td>Overt</td>\n",
       "      <td>0.080</td>\n",
       "      <td>0.092106</td>\n",
       "      <td>-0.522506</td>\n",
       "    </tr>\n",
       "    <tr>\n",
       "      <th>25</th>\n",
       "      <td>13</td>\n",
       "      <td>1</td>\n",
       "      <td>Covert</td>\n",
       "      <td>0.307</td>\n",
       "      <td>-1.486083</td>\n",
       "      <td>-1.823831</td>\n",
       "    </tr>\n",
       "    <tr>\n",
       "      <th>26</th>\n",
       "      <td>1</td>\n",
       "      <td>1</td>\n",
       "      <td>Overt</td>\n",
       "      <td>0.110</td>\n",
       "      <td>1.082491</td>\n",
       "      <td>-0.632836</td>\n",
       "    </tr>\n",
       "    <tr>\n",
       "      <th>27</th>\n",
       "      <td>1</td>\n",
       "      <td>1</td>\n",
       "      <td>Covert</td>\n",
       "      <td>0.280</td>\n",
       "      <td>-0.996062</td>\n",
       "      <td>-2.706654</td>\n",
       "    </tr>\n",
       "    <tr>\n",
       "      <th>28</th>\n",
       "      <td>12</td>\n",
       "      <td>2</td>\n",
       "      <td>Overt</td>\n",
       "      <td>0.120</td>\n",
       "      <td>0.542024</td>\n",
       "      <td>-0.354699</td>\n",
       "    </tr>\n",
       "    <tr>\n",
       "      <th>29</th>\n",
       "      <td>12</td>\n",
       "      <td>2</td>\n",
       "      <td>Covert</td>\n",
       "      <td>0.307</td>\n",
       "      <td>5.363290</td>\n",
       "      <td>4.933383</td>\n",
       "    </tr>\n",
       "    <tr>\n",
       "      <th>30</th>\n",
       "      <td>11</td>\n",
       "      <td>1</td>\n",
       "      <td>Overt</td>\n",
       "      <td>0.120</td>\n",
       "      <td>1.425210</td>\n",
       "      <td>0.699632</td>\n",
       "    </tr>\n",
       "    <tr>\n",
       "      <th>31</th>\n",
       "      <td>11</td>\n",
       "      <td>1</td>\n",
       "      <td>Covert</td>\n",
       "      <td>0.303</td>\n",
       "      <td>0.521173</td>\n",
       "      <td>-0.189798</td>\n",
       "    </tr>\n",
       "    <tr>\n",
       "      <th>32</th>\n",
       "      <td>6</td>\n",
       "      <td>1</td>\n",
       "      <td>Overt</td>\n",
       "      <td>0.117</td>\n",
       "      <td>1.327583</td>\n",
       "      <td>0.724391</td>\n",
       "    </tr>\n",
       "    <tr>\n",
       "      <th>33</th>\n",
       "      <td>6</td>\n",
       "      <td>1</td>\n",
       "      <td>Covert</td>\n",
       "      <td>0.320</td>\n",
       "      <td>1.923171</td>\n",
       "      <td>1.255225</td>\n",
       "    </tr>\n",
       "    <tr>\n",
       "      <th>34</th>\n",
       "      <td>9</td>\n",
       "      <td>1</td>\n",
       "      <td>Overt</td>\n",
       "      <td>0.105</td>\n",
       "      <td>1.645574</td>\n",
       "      <td>1.005606</td>\n",
       "    </tr>\n",
       "    <tr>\n",
       "      <th>35</th>\n",
       "      <td>9</td>\n",
       "      <td>1</td>\n",
       "      <td>Covert</td>\n",
       "      <td>0.320</td>\n",
       "      <td>0.793388</td>\n",
       "      <td>0.184404</td>\n",
       "    </tr>\n",
       "    <tr>\n",
       "      <th>36</th>\n",
       "      <td>4</td>\n",
       "      <td>2</td>\n",
       "      <td>Overt</td>\n",
       "      <td>0.120</td>\n",
       "      <td>3.098969</td>\n",
       "      <td>1.751072</td>\n",
       "    </tr>\n",
       "    <tr>\n",
       "      <th>37</th>\n",
       "      <td>4</td>\n",
       "      <td>2</td>\n",
       "      <td>Covert</td>\n",
       "      <td>0.288</td>\n",
       "      <td>3.828037</td>\n",
       "      <td>2.867954</td>\n",
       "    </tr>\n",
       "    <tr>\n",
       "      <th>38</th>\n",
       "      <td>6</td>\n",
       "      <td>2</td>\n",
       "      <td>Overt</td>\n",
       "      <td>0.116</td>\n",
       "      <td>2.512520</td>\n",
       "      <td>1.805264</td>\n",
       "    </tr>\n",
       "    <tr>\n",
       "      <th>39</th>\n",
       "      <td>6</td>\n",
       "      <td>2</td>\n",
       "      <td>Covert</td>\n",
       "      <td>0.306</td>\n",
       "      <td>1.348834</td>\n",
       "      <td>0.870794</td>\n",
       "    </tr>\n",
       "    <tr>\n",
       "      <th>40</th>\n",
       "      <td>2</td>\n",
       "      <td>1</td>\n",
       "      <td>Overt</td>\n",
       "      <td>0.120</td>\n",
       "      <td>1.188595</td>\n",
       "      <td>-0.197270</td>\n",
       "    </tr>\n",
       "    <tr>\n",
       "      <th>41</th>\n",
       "      <td>2</td>\n",
       "      <td>1</td>\n",
       "      <td>Covert</td>\n",
       "      <td>0.320</td>\n",
       "      <td>2.759786</td>\n",
       "      <td>1.695980</td>\n",
       "    </tr>\n",
       "    <tr>\n",
       "      <th>42</th>\n",
       "      <td>7</td>\n",
       "      <td>1</td>\n",
       "      <td>Overt</td>\n",
       "      <td>0.081</td>\n",
       "      <td>-1.781666</td>\n",
       "      <td>-2.333991</td>\n",
       "    </tr>\n",
       "    <tr>\n",
       "      <th>43</th>\n",
       "      <td>7</td>\n",
       "      <td>1</td>\n",
       "      <td>Covert</td>\n",
       "      <td>0.280</td>\n",
       "      <td>-1.125919</td>\n",
       "      <td>-1.876323</td>\n",
       "    </tr>\n",
       "  </tbody>\n",
       "</table>\n",
       "</div>"
      ],
      "text/plain": [
       "    subject_id  session_id condition  latency      peak      mean\n",
       "0            4           1     Overt    0.120 -0.328065 -0.954843\n",
       "1            4           1    Covert    0.303  0.941593  0.362563\n",
       "2            5           2     Overt    0.117  0.671909 -0.048863\n",
       "3            5           2    Covert    0.308  1.440780  0.407050\n",
       "4           12           1     Overt    0.120  0.994269  0.257525\n",
       "5           12           1    Covert    0.295  4.126913  3.307028\n",
       "6           14           1     Overt    0.118  3.697912  2.447247\n",
       "7           14           1    Covert    0.313 -0.318390 -1.017173\n",
       "8            3           1     Overt    0.120  1.736315  1.002762\n",
       "9            3           1    Covert    0.303  0.500812  0.066748\n",
       "10           8           1     Overt    0.092 -0.134539 -0.561409\n",
       "11           8           1    Covert    0.320 -1.544027 -2.137941\n",
       "12           5           1     Overt    0.120  0.665689 -0.497992\n",
       "13           5           1    Covert    0.319  1.365060  0.129564\n",
       "14          15           2     Overt    0.080  0.104519 -0.310987\n",
       "15          15           2    Covert    0.293 -1.735110 -2.164548\n",
       "16           9           2     Overt    0.080  1.249841  0.681337\n",
       "17           9           2    Covert    0.320  2.476516  1.127578\n",
       "18          15           1     Overt    0.092  1.142006  0.632786\n",
       "19          15           1    Covert    0.317 -0.070297 -0.840425\n",
       "20          13           2     Overt    0.120  2.598853  1.879196\n",
       "21          13           2    Covert    0.314 -1.871879 -2.672225\n",
       "22          10           1     Overt    0.111  0.482052 -0.167822\n",
       "23          10           1    Covert    0.303 -1.131795 -1.664721\n",
       "24          13           1     Overt    0.080  0.092106 -0.522506\n",
       "25          13           1    Covert    0.307 -1.486083 -1.823831\n",
       "26           1           1     Overt    0.110  1.082491 -0.632836\n",
       "27           1           1    Covert    0.280 -0.996062 -2.706654\n",
       "28          12           2     Overt    0.120  0.542024 -0.354699\n",
       "29          12           2    Covert    0.307  5.363290  4.933383\n",
       "30          11           1     Overt    0.120  1.425210  0.699632\n",
       "31          11           1    Covert    0.303  0.521173 -0.189798\n",
       "32           6           1     Overt    0.117  1.327583  0.724391\n",
       "33           6           1    Covert    0.320  1.923171  1.255225\n",
       "34           9           1     Overt    0.105  1.645574  1.005606\n",
       "35           9           1    Covert    0.320  0.793388  0.184404\n",
       "36           4           2     Overt    0.120  3.098969  1.751072\n",
       "37           4           2    Covert    0.288  3.828037  2.867954\n",
       "38           6           2     Overt    0.116  2.512520  1.805264\n",
       "39           6           2    Covert    0.306  1.348834  0.870794\n",
       "40           2           1     Overt    0.120  1.188595 -0.197270\n",
       "41           2           1    Covert    0.320  2.759786  1.695980\n",
       "42           7           1     Overt    0.081 -1.781666 -2.333991\n",
       "43           7           1    Covert    0.280 -1.125919 -1.876323"
      ]
     },
     "execution_count": 19,
     "metadata": {},
     "output_type": "execute_result"
    }
   ],
   "source": [
    "combined_df"
   ]
  },
  {
   "cell_type": "code",
   "execution_count": 20,
   "metadata": {},
   "outputs": [
    {
     "name": "stderr",
     "output_type": "stream",
     "text": [
      "/tmp/ipykernel_1360169/426640620.py:29: FutureWarning: \n",
      "\n",
      "Passing `palette` without assigning `hue` is deprecated and will be removed in v0.14.0. Assign the `x` variable to `hue` and set `legend=False` for the same effect.\n",
      "\n",
      "  sns.boxplot(data=df_avg, x='condition', y='peak', ax=axes[0], palette='Set3', width=0.5, boxprops=dict(alpha=0.7))\n",
      "/tmp/ipykernel_1360169/426640620.py:37: FutureWarning: \n",
      "\n",
      "Passing `palette` without assigning `hue` is deprecated and will be removed in v0.14.0. Assign the `x` variable to `hue` and set `legend=False` for the same effect.\n",
      "\n",
      "  sns.boxplot(data=df_avg, x='condition', y='mean', ax=axes[1], palette='Set3', width=0.5, boxprops=dict(alpha=0.7))\n"
     ]
    },
    {
     "data": {
      "image/png": "[encoded data removed]",
      "text/plain": [
       "<Figure size 1400x600 with 2 Axes>"
      ]
     },
     "metadata": {},
     "output_type": "display_data"
    }
   ],
   "source": [
    "import pandas as pd\n",
    "import matplotlib.pyplot as plt\n",
    "import seaborn as sns\n",
    "from scipy.stats import ttest_rel\n",
    "\n",
    "# Load data\n",
    "df = pd.read_csv(output_path)\n",
    "\n",
    "# Normalize condition names\n",
    "df['condition'] = df['condition'].str.lower()\n",
    "\n",
    "# Aggregate (mean) per subject and condition\n",
    "df_avg = df.groupby(['subject_id', 'condition'], as_index=False).mean()\n",
    "\n",
    "# Pivot for paired t-tests\n",
    "peak_pivot = df_avg.pivot(index='subject_id', columns='condition', values='peak')\n",
    "mean_pivot = df_avg.pivot(index='subject_id', columns='condition', values='mean')\n",
    "\n",
    "# Paired t-tests\n",
    "t_peak, p_peak = ttest_rel(peak_pivot['overt'], peak_pivot['covert'], nan_policy='omit')\n",
    "t_mean, p_mean = ttest_rel(mean_pivot['overt'], mean_pivot['covert'], nan_policy='omit')\n",
    "\n",
    "# Plot style\n",
    "sns.set(style=\"whitegrid\", font_scale=1.2)\n",
    "\n",
    "fig, axes = plt.subplots(1, 2, figsize=(14, 6))\n",
    "\n",
    "# Plot 1: Peak Amplitude\n",
    "sns.boxplot(data=df_avg, x='condition', y='peak', ax=axes[0], palette='Set3', width=0.5, boxprops=dict(alpha=0.7))\n",
    "sns.stripplot(data=df_avg, x='condition', y='peak', ax=axes[0], color='black', size=5, jitter=True, alpha=0.7)\n",
    "axes[0].set_title(f\"P100 Peak Amplitude\\np = {p_peak:.3f}\")\n",
    "axes[0].set_ylabel(\"Peak Amplitude (µV)\")\n",
    "axes[0].set_xlabel(\"\")\n",
    "sns.despine(ax=axes[0])\n",
    "\n",
    "# Plot 2: Mean Amplitude\n",
    "sns.boxplot(data=df_avg, x='condition', y='mean', ax=axes[1], palette='Set3', width=0.5, boxprops=dict(alpha=0.7))\n",
    "sns.stripplot(data=df_avg, x='condition', y='mean', ax=axes[1], color='black', size=5, jitter=True, alpha=0.7)\n",
    "axes[1].set_title(f\"P100 Mean Amplitude\\np = {p_mean:.3f}\")\n",
    "axes[1].set_ylabel(\"Mean Amplitude (µV)\")\n",
    "axes[1].set_xlabel(\"\")\n",
    "sns.despine(ax=axes[1])\n",
    "\n",
    "plt.tight_layout()\n",
    "plt.savefig('p100_overt_covert.png', dpi=600)\n"
   ]
  },
  {
   "cell_type": "code",
   "execution_count": null,
   "metadata": {},
   "outputs": [],
   "source": []
  }
 ],
 "metadata": {
  "kernelspec": {
   "display_name": "vow",
   "language": "python",
   "name": "python3"
  },
  "language_info": {
   "codemirror_mode": {
    "name": "ipython",
    "version": 3
   },
   "file_extension": ".py",
   "mimetype": "text/x-python",
   "name": "python",
   "nbconvert_exporter": "python",
   "pygments_lexer": "ipython3",
   "version": "3.10.16"
  }
 },
 "nbformat": 4,
 "nbformat_minor": 2
}
