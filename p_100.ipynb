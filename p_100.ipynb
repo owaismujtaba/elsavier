{
 "cells": [
  {
   "cell_type": "code",
   "execution_count": 1,
   "metadata": {},
   "outputs": [],
   "source": [
    "import config as config\n",
    "from src.dataset.bids import create_bids_dataset\n",
    "from src.pipelines.p100_pipeline import P100AnalysisPipeline\n",
    "import config as config\n",
    "from bids import BIDSLayout"
   ]
  },
  {
   "cell_type": "code",
   "execution_count": 2,
   "metadata": {},
   "outputs": [
    {
     "data": {
      "text/html": [
       "<pre style=\"white-space:pre;overflow-x:auto;line-height:normal;font-family:Menlo,'DejaVu Sans Mono',consolas,'Courier New',monospace\"><span style=\"color: #808000; text-decoration-color: #808000\">╭─────────────────────────────────────────╮</span>\n",
       "<span style=\"color: #808000; text-decoration-color: #808000\">│</span> 🚀 <span style=\"color: #808000; text-decoration-color: #808000; font-weight: bold\">Initializing BIDSDatasetReader Class</span> <span style=\"color: #808000; text-decoration-color: #808000\">│</span>\n",
       "<span style=\"color: #808000; text-decoration-color: #808000\">╰─────────────────────────────────────────╯</span>\n",
       "</pre>\n"
      ],
      "text/plain": [
       "\u001b[33m╭─────────────────────────────────────────╮\u001b[0m\n",
       "\u001b[33m│\u001b[0m 🚀 \u001b[1;33mInitializing BIDSDatasetReader Class\u001b[0m \u001b[33m│\u001b[0m\n",
       "\u001b[33m╰─────────────────────────────────────────╯\u001b[0m\n"
      ]
     },
     "metadata": {},
     "output_type": "display_data"
    },
    {
     "data": {
      "text/html": [
       "<pre style=\"white-space:pre;overflow-x:auto;line-height:normal;font-family:Menlo,'DejaVu Sans Mono',consolas,'Courier New',monospace\"> <span style=\"color: #008000; text-decoration-color: #008000; font-weight: bold\">Loading Processed EEG Data: sub-</span><span style=\"color: #008000; text-decoration-color: #008000; font-weight: bold\">01</span><span style=\"color: #008000; text-decoration-color: #008000; font-weight: bold\"> ses-</span><span style=\"color: #008000; text-decoration-color: #008000; font-weight: bold\">01</span>\n",
       "</pre>\n"
      ],
      "text/plain": [
       " \u001b[1;32mLoading Processed EEG Data: sub-\u001b[0m\u001b[1;32m01\u001b[0m\u001b[1;32m ses-\u001b[0m\u001b[1;32m01\u001b[0m\n"
      ]
     },
     "metadata": {},
     "output_type": "display_data"
    },
    {
     "data": {
      "text/html": [
       "<pre style=\"white-space:pre;overflow-x:auto;line-height:normal;font-family:Menlo,'DejaVu Sans Mono',consolas,'Courier New',monospace\"><span style=\"color: #800000; text-decoration-color: #800000\">╭─────────────────────────────────────╮</span>\n",
       "<span style=\"color: #800000; text-decoration-color: #800000\">│</span>  <span style=\"color: #800000; text-decoration-color: #800000; font-weight: bold\">Initializing EEGEpochBuilder Class</span> <span style=\"color: #800000; text-decoration-color: #800000\">│</span>\n",
       "<span style=\"color: #800000; text-decoration-color: #800000\">╰─────────────────────────────────────╯</span>\n",
       "</pre>\n"
      ],
      "text/plain": [
       "\u001b[31m╭─────────────────────────────────────╮\u001b[0m\n",
       "\u001b[31m│\u001b[0m  \u001b[1;31mInitializing EEGEpochBuilder Class\u001b[0m \u001b[31m│\u001b[0m\n",
       "\u001b[31m╰─────────────────────────────────────╯\u001b[0m\n"
      ]
     },
     "metadata": {},
     "output_type": "display_data"
    },
    {
     "data": {
      "text/html": [
       "<pre style=\"white-space:pre;overflow-x:auto;line-height:normal;font-family:Menlo,'DejaVu Sans Mono',consolas,'Courier New',monospace\"> <span style=\"color: #008000; text-decoration-color: #008000; font-weight: bold\">Creating EPOCHS</span>\n",
       "</pre>\n"
      ],
      "text/plain": [
       " \u001b[1;32mCreating EPOCHS\u001b[0m\n"
      ]
     },
     "metadata": {},
     "output_type": "display_data"
    },
    {
     "data": {
      "text/html": [
       "<pre style=\"white-space:pre;overflow-x:auto;line-height:normal;font-family:Menlo,'DejaVu Sans Mono',consolas,'Courier New',monospace\"><span style=\"font-style: italic\">        Extraction Criteria        </span>\n",
       "┏━━━━━━━━━━━━━━━━━━━━┳━━━━━━━━━━━━┓\n",
       "┃<span style=\"font-weight: bold\"> Parameter          </span>┃<span style=\"font-weight: bold\"> Value      </span>┃\n",
       "┣━━━━━━━━━━━━━━━━━━━━╋━━━━━━━━━━━━┫\n",
       "┃<span style=\"color: #008080; text-decoration-color: #008080; font-weight: bold\"> 🧪 Trial Mode      </span>┃<span style=\"color: #808000; text-decoration-color: #808000; font-weight: bold\">            </span>┃\n",
       "┃<span style=\"color: #008080; text-decoration-color: #008080; font-weight: bold\"> 📏 Trial Unit      </span>┃<span style=\"color: #808000; text-decoration-color: #808000; font-weight: bold\"> Words      </span>┃\n",
       "┃<span style=\"color: #008080; text-decoration-color: #008080; font-weight: bold\"> 🔗 Experiment Mode </span>┃<span style=\"color: #808000; text-decoration-color: #808000; font-weight: bold\"> Experiment </span>┃\n",
       "┃<span style=\"color: #008080; text-decoration-color: #008080; font-weight: bold\"> 🎭 Trial Boundary  </span>┃<span style=\"color: #808000; text-decoration-color: #808000; font-weight: bold\"> Start      </span>┃\n",
       "┃<span style=\"color: #008080; text-decoration-color: #008080; font-weight: bold\"> 🔬 Trial Type      </span>┃<span style=\"color: #808000; text-decoration-color: #808000; font-weight: bold\"> Stimulus   </span>┃\n",
       "┃<span style=\"color: #008080; text-decoration-color: #008080; font-weight: bold\"> 📊 Modality        </span>┃<span style=\"color: #808000; text-decoration-color: #808000; font-weight: bold\"> Pictures   </span>┃\n",
       "┃<span style=\"color: #008080; text-decoration-color: #008080; font-weight: bold\"> ⏱ Tmin             </span>┃<span style=\"color: #808000; text-decoration-color: #808000; font-weight: bold\"> </span><span style=\"color: #008080; text-decoration-color: #008080; font-weight: bold\">-0.2</span><span style=\"color: #808000; text-decoration-color: #808000; font-weight: bold\">       </span>┃\n",
       "┃<span style=\"color: #008080; text-decoration-color: #008080; font-weight: bold\"> ⏳ Tmax            </span>┃<span style=\"color: #808000; text-decoration-color: #808000; font-weight: bold\"> </span><span style=\"color: #008080; text-decoration-color: #008080; font-weight: bold\">0.5</span><span style=\"color: #808000; text-decoration-color: #808000; font-weight: bold\">        </span>┃\n",
       "┗━━━━━━━━━━━━━━━━━━━━┻━━━━━━━━━━━━┛\n",
       "</pre>\n"
      ],
      "text/plain": [
       "\u001b[3m        Extraction Criteria        \u001b[0m\n",
       "┏━━━━━━━━━━━━━━━━━━━━┳━━━━━━━━━━━━┓\n",
       "┃\u001b[1m \u001b[0m\u001b[1mParameter         \u001b[0m\u001b[1m \u001b[0m┃\u001b[1m \u001b[0m\u001b[1mValue     \u001b[0m\u001b[1m \u001b[0m┃\n",
       "┣━━━━━━━━━━━━━━━━━━━━╋━━━━━━━━━━━━┫\n",
       "┃\u001b[1;36m \u001b[0m\u001b[1;36m🧪 Trial Mode     \u001b[0m\u001b[1;36m \u001b[0m┃\u001b[1;33m \u001b[0m\u001b[1;33m          \u001b[0m\u001b[1;33m \u001b[0m┃\n",
       "┃\u001b[1;36m \u001b[0m\u001b[1;36m📏 Trial Unit     \u001b[0m\u001b[1;36m \u001b[0m┃\u001b[1;33m \u001b[0m\u001b[1;33mWords     \u001b[0m\u001b[1;33m \u001b[0m┃\n",
       "┃\u001b[1;36m \u001b[0m\u001b[1;36m🔗 Experiment Mode\u001b[0m\u001b[1;36m \u001b[0m┃\u001b[1;33m \u001b[0m\u001b[1;33mExperiment\u001b[0m\u001b[1;33m \u001b[0m┃\n",
       "┃\u001b[1;36m \u001b[0m\u001b[1;36m🎭 Trial Boundary \u001b[0m\u001b[1;36m \u001b[0m┃\u001b[1;33m \u001b[0m\u001b[1;33mStart     \u001b[0m\u001b[1;33m \u001b[0m┃\n",
       "┃\u001b[1;36m \u001b[0m\u001b[1;36m🔬 Trial Type     \u001b[0m\u001b[1;36m \u001b[0m┃\u001b[1;33m \u001b[0m\u001b[1;33mStimulus  \u001b[0m\u001b[1;33m \u001b[0m┃\n",
       "┃\u001b[1;36m \u001b[0m\u001b[1;36m📊 Modality       \u001b[0m\u001b[1;36m \u001b[0m┃\u001b[1;33m \u001b[0m\u001b[1;33mPictures  \u001b[0m\u001b[1;33m \u001b[0m┃\n",
       "┃\u001b[1;36m \u001b[0m\u001b[1;36m⏱ Tmin            \u001b[0m\u001b[1;36m \u001b[0m┃\u001b[1;33m \u001b[0m\u001b[1;36m-0.2\u001b[0m\u001b[1;33m      \u001b[0m\u001b[1;33m \u001b[0m┃\n",
       "┃\u001b[1;36m \u001b[0m\u001b[1;36m⏳ Tmax           \u001b[0m\u001b[1;36m \u001b[0m┃\u001b[1;33m \u001b[0m\u001b[1;36m0.5\u001b[0m\u001b[1;33m       \u001b[0m\u001b[1;33m \u001b[0m┃\n",
       "┗━━━━━━━━━━━━━━━━━━━━┻━━━━━━━━━━━━┛\n"
      ]
     },
     "metadata": {},
     "output_type": "display_data"
    },
    {
     "name": "stdout",
     "output_type": "stream",
     "text": [
      "Not setting metadata\n",
      "130 matching events found\n",
      "Applying baseline correction (mode: mean)\n",
      "0 projection items activated\n",
      "Using data from preloaded Raw for 130 events and 701 original time points ...\n",
      "0 bad epochs dropped\n"
     ]
    },
    {
     "data": {
      "text/html": [
       "<pre style=\"white-space:pre;overflow-x:auto;line-height:normal;font-family:Menlo,'DejaVu Sans Mono',consolas,'Courier New',monospace\"><span style=\"color: #800000; text-decoration-color: #800000\">╭─────────────────────────────────────╮</span>\n",
       "<span style=\"color: #800000; text-decoration-color: #800000\">│</span>  <span style=\"color: #800000; text-decoration-color: #800000; font-weight: bold\">Initializing EEGEpochBuilder Class</span> <span style=\"color: #800000; text-decoration-color: #800000\">│</span>\n",
       "<span style=\"color: #800000; text-decoration-color: #800000\">╰─────────────────────────────────────╯</span>\n",
       "</pre>\n"
      ],
      "text/plain": [
       "\u001b[31m╭─────────────────────────────────────╮\u001b[0m\n",
       "\u001b[31m│\u001b[0m  \u001b[1;31mInitializing EEGEpochBuilder Class\u001b[0m \u001b[31m│\u001b[0m\n",
       "\u001b[31m╰─────────────────────────────────────╯\u001b[0m\n"
      ]
     },
     "metadata": {},
     "output_type": "display_data"
    },
    {
     "data": {
      "text/html": [
       "<pre style=\"white-space:pre;overflow-x:auto;line-height:normal;font-family:Menlo,'DejaVu Sans Mono',consolas,'Courier New',monospace\"> <span style=\"color: #008000; text-decoration-color: #008000; font-weight: bold\">Creating EPOCHS</span>\n",
       "</pre>\n"
      ],
      "text/plain": [
       " \u001b[1;32mCreating EPOCHS\u001b[0m\n"
      ]
     },
     "metadata": {},
     "output_type": "display_data"
    },
    {
     "data": {
      "text/html": [
       "<pre style=\"white-space:pre;overflow-x:auto;line-height:normal;font-family:Menlo,'DejaVu Sans Mono',consolas,'Courier New',monospace\"><span style=\"font-style: italic\">        Extraction Criteria        </span>\n",
       "┏━━━━━━━━━━━━━━━━━━━━┳━━━━━━━━━━━━┓\n",
       "┃<span style=\"font-weight: bold\"> Parameter          </span>┃<span style=\"font-weight: bold\"> Value      </span>┃\n",
       "┣━━━━━━━━━━━━━━━━━━━━╋━━━━━━━━━━━━┫\n",
       "┃<span style=\"color: #008080; text-decoration-color: #008080; font-weight: bold\"> 🧪 Trial Mode      </span>┃<span style=\"color: #808000; text-decoration-color: #808000; font-weight: bold\">            </span>┃\n",
       "┃<span style=\"color: #008080; text-decoration-color: #008080; font-weight: bold\"> 📏 Trial Unit      </span>┃<span style=\"color: #808000; text-decoration-color: #808000; font-weight: bold\"> Words      </span>┃\n",
       "┃<span style=\"color: #008080; text-decoration-color: #008080; font-weight: bold\"> 🔗 Experiment Mode </span>┃<span style=\"color: #808000; text-decoration-color: #808000; font-weight: bold\"> Experiment </span>┃\n",
       "┃<span style=\"color: #008080; text-decoration-color: #008080; font-weight: bold\"> 🎭 Trial Boundary  </span>┃<span style=\"color: #808000; text-decoration-color: #808000; font-weight: bold\"> Start      </span>┃\n",
       "┃<span style=\"color: #008080; text-decoration-color: #008080; font-weight: bold\"> 🔬 Trial Type      </span>┃<span style=\"color: #808000; text-decoration-color: #808000; font-weight: bold\"> Fixation   </span>┃\n",
       "┃<span style=\"color: #008080; text-decoration-color: #008080; font-weight: bold\"> 📊 Modality        </span>┃<span style=\"color: #808000; text-decoration-color: #808000; font-weight: bold\"> Pictures   </span>┃\n",
       "┃<span style=\"color: #008080; text-decoration-color: #008080; font-weight: bold\"> ⏱ Tmin             </span>┃<span style=\"color: #808000; text-decoration-color: #808000; font-weight: bold\"> </span><span style=\"color: #008080; text-decoration-color: #008080; font-weight: bold\">-0.2</span><span style=\"color: #808000; text-decoration-color: #808000; font-weight: bold\">       </span>┃\n",
       "┃<span style=\"color: #008080; text-decoration-color: #008080; font-weight: bold\"> ⏳ Tmax            </span>┃<span style=\"color: #808000; text-decoration-color: #808000; font-weight: bold\"> </span><span style=\"color: #008080; text-decoration-color: #008080; font-weight: bold\">0.5</span><span style=\"color: #808000; text-decoration-color: #808000; font-weight: bold\">        </span>┃\n",
       "┗━━━━━━━━━━━━━━━━━━━━┻━━━━━━━━━━━━┛\n",
       "</pre>\n"
      ],
      "text/plain": [
       "\u001b[3m        Extraction Criteria        \u001b[0m\n",
       "┏━━━━━━━━━━━━━━━━━━━━┳━━━━━━━━━━━━┓\n",
       "┃\u001b[1m \u001b[0m\u001b[1mParameter         \u001b[0m\u001b[1m \u001b[0m┃\u001b[1m \u001b[0m\u001b[1mValue     \u001b[0m\u001b[1m \u001b[0m┃\n",
       "┣━━━━━━━━━━━━━━━━━━━━╋━━━━━━━━━━━━┫\n",
       "┃\u001b[1;36m \u001b[0m\u001b[1;36m🧪 Trial Mode     \u001b[0m\u001b[1;36m \u001b[0m┃\u001b[1;33m \u001b[0m\u001b[1;33m          \u001b[0m\u001b[1;33m \u001b[0m┃\n",
       "┃\u001b[1;36m \u001b[0m\u001b[1;36m📏 Trial Unit     \u001b[0m\u001b[1;36m \u001b[0m┃\u001b[1;33m \u001b[0m\u001b[1;33mWords     \u001b[0m\u001b[1;33m \u001b[0m┃\n",
       "┃\u001b[1;36m \u001b[0m\u001b[1;36m🔗 Experiment Mode\u001b[0m\u001b[1;36m \u001b[0m┃\u001b[1;33m \u001b[0m\u001b[1;33mExperiment\u001b[0m\u001b[1;33m \u001b[0m┃\n",
       "┃\u001b[1;36m \u001b[0m\u001b[1;36m🎭 Trial Boundary \u001b[0m\u001b[1;36m \u001b[0m┃\u001b[1;33m \u001b[0m\u001b[1;33mStart     \u001b[0m\u001b[1;33m \u001b[0m┃\n",
       "┃\u001b[1;36m \u001b[0m\u001b[1;36m🔬 Trial Type     \u001b[0m\u001b[1;36m \u001b[0m┃\u001b[1;33m \u001b[0m\u001b[1;33mFixation  \u001b[0m\u001b[1;33m \u001b[0m┃\n",
       "┃\u001b[1;36m \u001b[0m\u001b[1;36m📊 Modality       \u001b[0m\u001b[1;36m \u001b[0m┃\u001b[1;33m \u001b[0m\u001b[1;33mPictures  \u001b[0m\u001b[1;33m \u001b[0m┃\n",
       "┃\u001b[1;36m \u001b[0m\u001b[1;36m⏱ Tmin            \u001b[0m\u001b[1;36m \u001b[0m┃\u001b[1;33m \u001b[0m\u001b[1;36m-0.2\u001b[0m\u001b[1;33m      \u001b[0m\u001b[1;33m \u001b[0m┃\n",
       "┃\u001b[1;36m \u001b[0m\u001b[1;36m⏳ Tmax           \u001b[0m\u001b[1;36m \u001b[0m┃\u001b[1;33m \u001b[0m\u001b[1;36m0.5\u001b[0m\u001b[1;33m       \u001b[0m\u001b[1;33m \u001b[0m┃\n",
       "┗━━━━━━━━━━━━━━━━━━━━┻━━━━━━━━━━━━┛\n"
      ]
     },
     "metadata": {},
     "output_type": "display_data"
    },
    {
     "name": "stdout",
     "output_type": "stream",
     "text": [
      "Not setting metadata\n",
      "130 matching events found\n",
      "Applying baseline correction (mode: mean)\n",
      "0 projection items activated\n",
      "Using data from preloaded Raw for 130 events and 701 original time points ...\n",
      "0 bad epochs dropped\n",
      "NOTE: pick_channels() is a legacy function. New code should use inst.pick(...).\n",
      "NOTE: pick_channels() is a legacy function. New code should use inst.pick(...).\n",
      "Visual Change P100: latency=0.114s, peak=2.66µV, mean=0.09µV\n",
      "No Visual Change P100: latency=0.096s, peak=0.80µV, mean=-0.78µV\n",
      "Initializing Plotter\n",
      "Results saved to p100_results/sub-01_ses-01_p100_Visual Change_No Visual Change.csv\n"
     ]
    },
    {
     "data": {
      "text/html": [
       "<pre style=\"white-space:pre;overflow-x:auto;line-height:normal;font-family:Menlo,'DejaVu Sans Mono',consolas,'Courier New',monospace\"><span style=\"color: #808000; text-decoration-color: #808000\">╭─────────────────────────────────────────╮</span>\n",
       "<span style=\"color: #808000; text-decoration-color: #808000\">│</span> 🚀 <span style=\"color: #808000; text-decoration-color: #808000; font-weight: bold\">Initializing BIDSDatasetReader Class</span> <span style=\"color: #808000; text-decoration-color: #808000\">│</span>\n",
       "<span style=\"color: #808000; text-decoration-color: #808000\">╰─────────────────────────────────────────╯</span>\n",
       "</pre>\n"
      ],
      "text/plain": [
       "\u001b[33m╭─────────────────────────────────────────╮\u001b[0m\n",
       "\u001b[33m│\u001b[0m 🚀 \u001b[1;33mInitializing BIDSDatasetReader Class\u001b[0m \u001b[33m│\u001b[0m\n",
       "\u001b[33m╰─────────────────────────────────────────╯\u001b[0m\n"
      ]
     },
     "metadata": {},
     "output_type": "display_data"
    },
    {
     "data": {
      "text/html": [
       "<pre style=\"white-space:pre;overflow-x:auto;line-height:normal;font-family:Menlo,'DejaVu Sans Mono',consolas,'Courier New',monospace\"> <span style=\"color: #008000; text-decoration-color: #008000; font-weight: bold\">Loading Processed EEG Data: sub-</span><span style=\"color: #008000; text-decoration-color: #008000; font-weight: bold\">02</span><span style=\"color: #008000; text-decoration-color: #008000; font-weight: bold\"> ses-</span><span style=\"color: #008000; text-decoration-color: #008000; font-weight: bold\">01</span>\n",
       "</pre>\n"
      ],
      "text/plain": [
       " \u001b[1;32mLoading Processed EEG Data: sub-\u001b[0m\u001b[1;32m02\u001b[0m\u001b[1;32m ses-\u001b[0m\u001b[1;32m01\u001b[0m\n"
      ]
     },
     "metadata": {},
     "output_type": "display_data"
    },
    {
     "data": {
      "text/html": [
       "<pre style=\"white-space:pre;overflow-x:auto;line-height:normal;font-family:Menlo,'DejaVu Sans Mono',consolas,'Courier New',monospace\"><span style=\"color: #800000; text-decoration-color: #800000\">╭─────────────────────────────────────╮</span>\n",
       "<span style=\"color: #800000; text-decoration-color: #800000\">│</span>  <span style=\"color: #800000; text-decoration-color: #800000; font-weight: bold\">Initializing EEGEpochBuilder Class</span> <span style=\"color: #800000; text-decoration-color: #800000\">│</span>\n",
       "<span style=\"color: #800000; text-decoration-color: #800000\">╰─────────────────────────────────────╯</span>\n",
       "</pre>\n"
      ],
      "text/plain": [
       "\u001b[31m╭─────────────────────────────────────╮\u001b[0m\n",
       "\u001b[31m│\u001b[0m  \u001b[1;31mInitializing EEGEpochBuilder Class\u001b[0m \u001b[31m│\u001b[0m\n",
       "\u001b[31m╰─────────────────────────────────────╯\u001b[0m\n"
      ]
     },
     "metadata": {},
     "output_type": "display_data"
    },
    {
     "data": {
      "text/html": [
       "<pre style=\"white-space:pre;overflow-x:auto;line-height:normal;font-family:Menlo,'DejaVu Sans Mono',consolas,'Courier New',monospace\"> <span style=\"color: #008000; text-decoration-color: #008000; font-weight: bold\">Creating EPOCHS</span>\n",
       "</pre>\n"
      ],
      "text/plain": [
       " \u001b[1;32mCreating EPOCHS\u001b[0m\n"
      ]
     },
     "metadata": {},
     "output_type": "display_data"
    },
    {
     "data": {
      "text/html": [
       "<pre style=\"white-space:pre;overflow-x:auto;line-height:normal;font-family:Menlo,'DejaVu Sans Mono',consolas,'Courier New',monospace\"><span style=\"font-style: italic\">        Extraction Criteria        </span>\n",
       "┏━━━━━━━━━━━━━━━━━━━━┳━━━━━━━━━━━━┓\n",
       "┃<span style=\"font-weight: bold\"> Parameter          </span>┃<span style=\"font-weight: bold\"> Value      </span>┃\n",
       "┣━━━━━━━━━━━━━━━━━━━━╋━━━━━━━━━━━━┫\n",
       "┃<span style=\"color: #008080; text-decoration-color: #008080; font-weight: bold\"> 🧪 Trial Mode      </span>┃<span style=\"color: #808000; text-decoration-color: #808000; font-weight: bold\">            </span>┃\n",
       "┃<span style=\"color: #008080; text-decoration-color: #008080; font-weight: bold\"> 📏 Trial Unit      </span>┃<span style=\"color: #808000; text-decoration-color: #808000; font-weight: bold\"> Words      </span>┃\n",
       "┃<span style=\"color: #008080; text-decoration-color: #008080; font-weight: bold\"> 🔗 Experiment Mode </span>┃<span style=\"color: #808000; text-decoration-color: #808000; font-weight: bold\"> Experiment </span>┃\n",
       "┃<span style=\"color: #008080; text-decoration-color: #008080; font-weight: bold\"> 🎭 Trial Boundary  </span>┃<span style=\"color: #808000; text-decoration-color: #808000; font-weight: bold\"> Start      </span>┃\n",
       "┃<span style=\"color: #008080; text-decoration-color: #008080; font-weight: bold\"> 🔬 Trial Type      </span>┃<span style=\"color: #808000; text-decoration-color: #808000; font-weight: bold\"> Stimulus   </span>┃\n",
       "┃<span style=\"color: #008080; text-decoration-color: #008080; font-weight: bold\"> 📊 Modality        </span>┃<span style=\"color: #808000; text-decoration-color: #808000; font-weight: bold\"> Pictures   </span>┃\n",
       "┃<span style=\"color: #008080; text-decoration-color: #008080; font-weight: bold\"> ⏱ Tmin             </span>┃<span style=\"color: #808000; text-decoration-color: #808000; font-weight: bold\"> </span><span style=\"color: #008080; text-decoration-color: #008080; font-weight: bold\">-0.2</span><span style=\"color: #808000; text-decoration-color: #808000; font-weight: bold\">       </span>┃\n",
       "┃<span style=\"color: #008080; text-decoration-color: #008080; font-weight: bold\"> ⏳ Tmax            </span>┃<span style=\"color: #808000; text-decoration-color: #808000; font-weight: bold\"> </span><span style=\"color: #008080; text-decoration-color: #008080; font-weight: bold\">0.5</span><span style=\"color: #808000; text-decoration-color: #808000; font-weight: bold\">        </span>┃\n",
       "┗━━━━━━━━━━━━━━━━━━━━┻━━━━━━━━━━━━┛\n",
       "</pre>\n"
      ],
      "text/plain": [
       "\u001b[3m        Extraction Criteria        \u001b[0m\n",
       "┏━━━━━━━━━━━━━━━━━━━━┳━━━━━━━━━━━━┓\n",
       "┃\u001b[1m \u001b[0m\u001b[1mParameter         \u001b[0m\u001b[1m \u001b[0m┃\u001b[1m \u001b[0m\u001b[1mValue     \u001b[0m\u001b[1m \u001b[0m┃\n",
       "┣━━━━━━━━━━━━━━━━━━━━╋━━━━━━━━━━━━┫\n",
       "┃\u001b[1;36m \u001b[0m\u001b[1;36m🧪 Trial Mode     \u001b[0m\u001b[1;36m \u001b[0m┃\u001b[1;33m \u001b[0m\u001b[1;33m          \u001b[0m\u001b[1;33m \u001b[0m┃\n",
       "┃\u001b[1;36m \u001b[0m\u001b[1;36m📏 Trial Unit     \u001b[0m\u001b[1;36m \u001b[0m┃\u001b[1;33m \u001b[0m\u001b[1;33mWords     \u001b[0m\u001b[1;33m \u001b[0m┃\n",
       "┃\u001b[1;36m \u001b[0m\u001b[1;36m🔗 Experiment Mode\u001b[0m\u001b[1;36m \u001b[0m┃\u001b[1;33m \u001b[0m\u001b[1;33mExperiment\u001b[0m\u001b[1;33m \u001b[0m┃\n",
       "┃\u001b[1;36m \u001b[0m\u001b[1;36m🎭 Trial Boundary \u001b[0m\u001b[1;36m \u001b[0m┃\u001b[1;33m \u001b[0m\u001b[1;33mStart     \u001b[0m\u001b[1;33m \u001b[0m┃\n",
       "┃\u001b[1;36m \u001b[0m\u001b[1;36m🔬 Trial Type     \u001b[0m\u001b[1;36m \u001b[0m┃\u001b[1;33m \u001b[0m\u001b[1;33mStimulus  \u001b[0m\u001b[1;33m \u001b[0m┃\n",
       "┃\u001b[1;36m \u001b[0m\u001b[1;36m📊 Modality       \u001b[0m\u001b[1;36m \u001b[0m┃\u001b[1;33m \u001b[0m\u001b[1;33mPictures  \u001b[0m\u001b[1;33m \u001b[0m┃\n",
       "┃\u001b[1;36m \u001b[0m\u001b[1;36m⏱ Tmin            \u001b[0m\u001b[1;36m \u001b[0m┃\u001b[1;33m \u001b[0m\u001b[1;36m-0.2\u001b[0m\u001b[1;33m      \u001b[0m\u001b[1;33m \u001b[0m┃\n",
       "┃\u001b[1;36m \u001b[0m\u001b[1;36m⏳ Tmax           \u001b[0m\u001b[1;36m \u001b[0m┃\u001b[1;33m \u001b[0m\u001b[1;36m0.5\u001b[0m\u001b[1;33m       \u001b[0m\u001b[1;33m \u001b[0m┃\n",
       "┗━━━━━━━━━━━━━━━━━━━━┻━━━━━━━━━━━━┛\n"
      ]
     },
     "metadata": {},
     "output_type": "display_data"
    },
    {
     "name": "stdout",
     "output_type": "stream",
     "text": [
      "Not setting metadata\n",
      "130 matching events found\n",
      "Applying baseline correction (mode: mean)\n",
      "0 projection items activated\n",
      "Using data from preloaded Raw for 130 events and 701 original time points ...\n",
      "0 bad epochs dropped\n"
     ]
    },
    {
     "data": {
      "text/html": [
       "<pre style=\"white-space:pre;overflow-x:auto;line-height:normal;font-family:Menlo,'DejaVu Sans Mono',consolas,'Courier New',monospace\"><span style=\"color: #800000; text-decoration-color: #800000\">╭─────────────────────────────────────╮</span>\n",
       "<span style=\"color: #800000; text-decoration-color: #800000\">│</span>  <span style=\"color: #800000; text-decoration-color: #800000; font-weight: bold\">Initializing EEGEpochBuilder Class</span> <span style=\"color: #800000; text-decoration-color: #800000\">│</span>\n",
       "<span style=\"color: #800000; text-decoration-color: #800000\">╰─────────────────────────────────────╯</span>\n",
       "</pre>\n"
      ],
      "text/plain": [
       "\u001b[31m╭─────────────────────────────────────╮\u001b[0m\n",
       "\u001b[31m│\u001b[0m  \u001b[1;31mInitializing EEGEpochBuilder Class\u001b[0m \u001b[31m│\u001b[0m\n",
       "\u001b[31m╰─────────────────────────────────────╯\u001b[0m\n"
      ]
     },
     "metadata": {},
     "output_type": "display_data"
    },
    {
     "data": {
      "text/html": [
       "<pre style=\"white-space:pre;overflow-x:auto;line-height:normal;font-family:Menlo,'DejaVu Sans Mono',consolas,'Courier New',monospace\"> <span style=\"color: #008000; text-decoration-color: #008000; font-weight: bold\">Creating EPOCHS</span>\n",
       "</pre>\n"
      ],
      "text/plain": [
       " \u001b[1;32mCreating EPOCHS\u001b[0m\n"
      ]
     },
     "metadata": {},
     "output_type": "display_data"
    },
    {
     "data": {
      "text/html": [
       "<pre style=\"white-space:pre;overflow-x:auto;line-height:normal;font-family:Menlo,'DejaVu Sans Mono',consolas,'Courier New',monospace\"><span style=\"font-style: italic\">        Extraction Criteria        </span>\n",
       "┏━━━━━━━━━━━━━━━━━━━━┳━━━━━━━━━━━━┓\n",
       "┃<span style=\"font-weight: bold\"> Parameter          </span>┃<span style=\"font-weight: bold\"> Value      </span>┃\n",
       "┣━━━━━━━━━━━━━━━━━━━━╋━━━━━━━━━━━━┫\n",
       "┃<span style=\"color: #008080; text-decoration-color: #008080; font-weight: bold\"> 🧪 Trial Mode      </span>┃<span style=\"color: #808000; text-decoration-color: #808000; font-weight: bold\">            </span>┃\n",
       "┃<span style=\"color: #008080; text-decoration-color: #008080; font-weight: bold\"> 📏 Trial Unit      </span>┃<span style=\"color: #808000; text-decoration-color: #808000; font-weight: bold\"> Words      </span>┃\n",
       "┃<span style=\"color: #008080; text-decoration-color: #008080; font-weight: bold\"> 🔗 Experiment Mode </span>┃<span style=\"color: #808000; text-decoration-color: #808000; font-weight: bold\"> Experiment </span>┃\n",
       "┃<span style=\"color: #008080; text-decoration-color: #008080; font-weight: bold\"> 🎭 Trial Boundary  </span>┃<span style=\"color: #808000; text-decoration-color: #808000; font-weight: bold\"> Start      </span>┃\n",
       "┃<span style=\"color: #008080; text-decoration-color: #008080; font-weight: bold\"> 🔬 Trial Type      </span>┃<span style=\"color: #808000; text-decoration-color: #808000; font-weight: bold\"> Fixation   </span>┃\n",
       "┃<span style=\"color: #008080; text-decoration-color: #008080; font-weight: bold\"> 📊 Modality        </span>┃<span style=\"color: #808000; text-decoration-color: #808000; font-weight: bold\"> Pictures   </span>┃\n",
       "┃<span style=\"color: #008080; text-decoration-color: #008080; font-weight: bold\"> ⏱ Tmin             </span>┃<span style=\"color: #808000; text-decoration-color: #808000; font-weight: bold\"> </span><span style=\"color: #008080; text-decoration-color: #008080; font-weight: bold\">-0.2</span><span style=\"color: #808000; text-decoration-color: #808000; font-weight: bold\">       </span>┃\n",
       "┃<span style=\"color: #008080; text-decoration-color: #008080; font-weight: bold\"> ⏳ Tmax            </span>┃<span style=\"color: #808000; text-decoration-color: #808000; font-weight: bold\"> </span><span style=\"color: #008080; text-decoration-color: #008080; font-weight: bold\">0.5</span><span style=\"color: #808000; text-decoration-color: #808000; font-weight: bold\">        </span>┃\n",
       "┗━━━━━━━━━━━━━━━━━━━━┻━━━━━━━━━━━━┛\n",
       "</pre>\n"
      ],
      "text/plain": [
       "\u001b[3m        Extraction Criteria        \u001b[0m\n",
       "┏━━━━━━━━━━━━━━━━━━━━┳━━━━━━━━━━━━┓\n",
       "┃\u001b[1m \u001b[0m\u001b[1mParameter         \u001b[0m\u001b[1m \u001b[0m┃\u001b[1m \u001b[0m\u001b[1mValue     \u001b[0m\u001b[1m \u001b[0m┃\n",
       "┣━━━━━━━━━━━━━━━━━━━━╋━━━━━━━━━━━━┫\n",
       "┃\u001b[1;36m \u001b[0m\u001b[1;36m🧪 Trial Mode     \u001b[0m\u001b[1;36m \u001b[0m┃\u001b[1;33m \u001b[0m\u001b[1;33m          \u001b[0m\u001b[1;33m \u001b[0m┃\n",
       "┃\u001b[1;36m \u001b[0m\u001b[1;36m📏 Trial Unit     \u001b[0m\u001b[1;36m \u001b[0m┃\u001b[1;33m \u001b[0m\u001b[1;33mWords     \u001b[0m\u001b[1;33m \u001b[0m┃\n",
       "┃\u001b[1;36m \u001b[0m\u001b[1;36m🔗 Experiment Mode\u001b[0m\u001b[1;36m \u001b[0m┃\u001b[1;33m \u001b[0m\u001b[1;33mExperiment\u001b[0m\u001b[1;33m \u001b[0m┃\n",
       "┃\u001b[1;36m \u001b[0m\u001b[1;36m🎭 Trial Boundary \u001b[0m\u001b[1;36m \u001b[0m┃\u001b[1;33m \u001b[0m\u001b[1;33mStart     \u001b[0m\u001b[1;33m \u001b[0m┃\n",
       "┃\u001b[1;36m \u001b[0m\u001b[1;36m🔬 Trial Type     \u001b[0m\u001b[1;36m \u001b[0m┃\u001b[1;33m \u001b[0m\u001b[1;33mFixation  \u001b[0m\u001b[1;33m \u001b[0m┃\n",
       "┃\u001b[1;36m \u001b[0m\u001b[1;36m📊 Modality       \u001b[0m\u001b[1;36m \u001b[0m┃\u001b[1;33m \u001b[0m\u001b[1;33mPictures  \u001b[0m\u001b[1;33m \u001b[0m┃\n",
       "┃\u001b[1;36m \u001b[0m\u001b[1;36m⏱ Tmin            \u001b[0m\u001b[1;36m \u001b[0m┃\u001b[1;33m \u001b[0m\u001b[1;36m-0.2\u001b[0m\u001b[1;33m      \u001b[0m\u001b[1;33m \u001b[0m┃\n",
       "┃\u001b[1;36m \u001b[0m\u001b[1;36m⏳ Tmax           \u001b[0m\u001b[1;36m \u001b[0m┃\u001b[1;33m \u001b[0m\u001b[1;36m0.5\u001b[0m\u001b[1;33m       \u001b[0m\u001b[1;33m \u001b[0m┃\n",
       "┗━━━━━━━━━━━━━━━━━━━━┻━━━━━━━━━━━━┛\n"
      ]
     },
     "metadata": {},
     "output_type": "display_data"
    },
    {
     "name": "stdout",
     "output_type": "stream",
     "text": [
      "Not setting metadata\n",
      "130 matching events found\n",
      "Applying baseline correction (mode: mean)\n",
      "0 projection items activated\n",
      "Using data from preloaded Raw for 130 events and 701 original time points ...\n",
      "0 bad epochs dropped\n",
      "NOTE: pick_channels() is a legacy function. New code should use inst.pick(...).\n",
      "NOTE: pick_channels() is a legacy function. New code should use inst.pick(...).\n",
      "Visual Change P100: latency=0.120s, peak=4.93µV, mean=0.91µV\n",
      "No Visual Change P100: latency=0.120s, peak=1.20µV, mean=-1.88µV\n",
      "Initializing Plotter\n",
      "Results saved to p100_results/sub-02_ses-01_p100_Visual Change_No Visual Change.csv\n"
     ]
    },
    {
     "data": {
      "text/html": [
       "<pre style=\"white-space:pre;overflow-x:auto;line-height:normal;font-family:Menlo,'DejaVu Sans Mono',consolas,'Courier New',monospace\"><span style=\"color: #808000; text-decoration-color: #808000\">╭─────────────────────────────────────────╮</span>\n",
       "<span style=\"color: #808000; text-decoration-color: #808000\">│</span> 🚀 <span style=\"color: #808000; text-decoration-color: #808000; font-weight: bold\">Initializing BIDSDatasetReader Class</span> <span style=\"color: #808000; text-decoration-color: #808000\">│</span>\n",
       "<span style=\"color: #808000; text-decoration-color: #808000\">╰─────────────────────────────────────────╯</span>\n",
       "</pre>\n"
      ],
      "text/plain": [
       "\u001b[33m╭─────────────────────────────────────────╮\u001b[0m\n",
       "\u001b[33m│\u001b[0m 🚀 \u001b[1;33mInitializing BIDSDatasetReader Class\u001b[0m \u001b[33m│\u001b[0m\n",
       "\u001b[33m╰─────────────────────────────────────────╯\u001b[0m\n"
      ]
     },
     "metadata": {},
     "output_type": "display_data"
    },
    {
     "data": {
      "text/html": [
       "<pre style=\"white-space:pre;overflow-x:auto;line-height:normal;font-family:Menlo,'DejaVu Sans Mono',consolas,'Courier New',monospace\"> <span style=\"color: #008000; text-decoration-color: #008000; font-weight: bold\">Loading Processed EEG Data: sub-</span><span style=\"color: #008000; text-decoration-color: #008000; font-weight: bold\">03</span><span style=\"color: #008000; text-decoration-color: #008000; font-weight: bold\"> ses-</span><span style=\"color: #008000; text-decoration-color: #008000; font-weight: bold\">01</span>\n",
       "</pre>\n"
      ],
      "text/plain": [
       " \u001b[1;32mLoading Processed EEG Data: sub-\u001b[0m\u001b[1;32m03\u001b[0m\u001b[1;32m ses-\u001b[0m\u001b[1;32m01\u001b[0m\n"
      ]
     },
     "metadata": {},
     "output_type": "display_data"
    },
    {
     "data": {
      "text/html": [
       "<pre style=\"white-space:pre;overflow-x:auto;line-height:normal;font-family:Menlo,'DejaVu Sans Mono',consolas,'Courier New',monospace\"><span style=\"color: #800000; text-decoration-color: #800000\">╭─────────────────────────────────────╮</span>\n",
       "<span style=\"color: #800000; text-decoration-color: #800000\">│</span>  <span style=\"color: #800000; text-decoration-color: #800000; font-weight: bold\">Initializing EEGEpochBuilder Class</span> <span style=\"color: #800000; text-decoration-color: #800000\">│</span>\n",
       "<span style=\"color: #800000; text-decoration-color: #800000\">╰─────────────────────────────────────╯</span>\n",
       "</pre>\n"
      ],
      "text/plain": [
       "\u001b[31m╭─────────────────────────────────────╮\u001b[0m\n",
       "\u001b[31m│\u001b[0m  \u001b[1;31mInitializing EEGEpochBuilder Class\u001b[0m \u001b[31m│\u001b[0m\n",
       "\u001b[31m╰─────────────────────────────────────╯\u001b[0m\n"
      ]
     },
     "metadata": {},
     "output_type": "display_data"
    },
    {
     "data": {
      "text/html": [
       "<pre style=\"white-space:pre;overflow-x:auto;line-height:normal;font-family:Menlo,'DejaVu Sans Mono',consolas,'Courier New',monospace\"> <span style=\"color: #008000; text-decoration-color: #008000; font-weight: bold\">Creating EPOCHS</span>\n",
       "</pre>\n"
      ],
      "text/plain": [
       " \u001b[1;32mCreating EPOCHS\u001b[0m\n"
      ]
     },
     "metadata": {},
     "output_type": "display_data"
    },
    {
     "data": {
      "text/html": [
       "<pre style=\"white-space:pre;overflow-x:auto;line-height:normal;font-family:Menlo,'DejaVu Sans Mono',consolas,'Courier New',monospace\"><span style=\"font-style: italic\">        Extraction Criteria        </span>\n",
       "┏━━━━━━━━━━━━━━━━━━━━┳━━━━━━━━━━━━┓\n",
       "┃<span style=\"font-weight: bold\"> Parameter          </span>┃<span style=\"font-weight: bold\"> Value      </span>┃\n",
       "┣━━━━━━━━━━━━━━━━━━━━╋━━━━━━━━━━━━┫\n",
       "┃<span style=\"color: #008080; text-decoration-color: #008080; font-weight: bold\"> 🧪 Trial Mode      </span>┃<span style=\"color: #808000; text-decoration-color: #808000; font-weight: bold\">            </span>┃\n",
       "┃<span style=\"color: #008080; text-decoration-color: #008080; font-weight: bold\"> 📏 Trial Unit      </span>┃<span style=\"color: #808000; text-decoration-color: #808000; font-weight: bold\"> Words      </span>┃\n",
       "┃<span style=\"color: #008080; text-decoration-color: #008080; font-weight: bold\"> 🔗 Experiment Mode </span>┃<span style=\"color: #808000; text-decoration-color: #808000; font-weight: bold\"> Experiment </span>┃\n",
       "┃<span style=\"color: #008080; text-decoration-color: #008080; font-weight: bold\"> 🎭 Trial Boundary  </span>┃<span style=\"color: #808000; text-decoration-color: #808000; font-weight: bold\"> Start      </span>┃\n",
       "┃<span style=\"color: #008080; text-decoration-color: #008080; font-weight: bold\"> 🔬 Trial Type      </span>┃<span style=\"color: #808000; text-decoration-color: #808000; font-weight: bold\"> Stimulus   </span>┃\n",
       "┃<span style=\"color: #008080; text-decoration-color: #008080; font-weight: bold\"> 📊 Modality        </span>┃<span style=\"color: #808000; text-decoration-color: #808000; font-weight: bold\"> Pictures   </span>┃\n",
       "┃<span style=\"color: #008080; text-decoration-color: #008080; font-weight: bold\"> ⏱ Tmin             </span>┃<span style=\"color: #808000; text-decoration-color: #808000; font-weight: bold\"> </span><span style=\"color: #008080; text-decoration-color: #008080; font-weight: bold\">-0.2</span><span style=\"color: #808000; text-decoration-color: #808000; font-weight: bold\">       </span>┃\n",
       "┃<span style=\"color: #008080; text-decoration-color: #008080; font-weight: bold\"> ⏳ Tmax            </span>┃<span style=\"color: #808000; text-decoration-color: #808000; font-weight: bold\"> </span><span style=\"color: #008080; text-decoration-color: #008080; font-weight: bold\">0.5</span><span style=\"color: #808000; text-decoration-color: #808000; font-weight: bold\">        </span>┃\n",
       "┗━━━━━━━━━━━━━━━━━━━━┻━━━━━━━━━━━━┛\n",
       "</pre>\n"
      ],
      "text/plain": [
       "\u001b[3m        Extraction Criteria        \u001b[0m\n",
       "┏━━━━━━━━━━━━━━━━━━━━┳━━━━━━━━━━━━┓\n",
       "┃\u001b[1m \u001b[0m\u001b[1mParameter         \u001b[0m\u001b[1m \u001b[0m┃\u001b[1m \u001b[0m\u001b[1mValue     \u001b[0m\u001b[1m \u001b[0m┃\n",
       "┣━━━━━━━━━━━━━━━━━━━━╋━━━━━━━━━━━━┫\n",
       "┃\u001b[1;36m \u001b[0m\u001b[1;36m🧪 Trial Mode     \u001b[0m\u001b[1;36m \u001b[0m┃\u001b[1;33m \u001b[0m\u001b[1;33m          \u001b[0m\u001b[1;33m \u001b[0m┃\n",
       "┃\u001b[1;36m \u001b[0m\u001b[1;36m📏 Trial Unit     \u001b[0m\u001b[1;36m \u001b[0m┃\u001b[1;33m \u001b[0m\u001b[1;33mWords     \u001b[0m\u001b[1;33m \u001b[0m┃\n",
       "┃\u001b[1;36m \u001b[0m\u001b[1;36m🔗 Experiment Mode\u001b[0m\u001b[1;36m \u001b[0m┃\u001b[1;33m \u001b[0m\u001b[1;33mExperiment\u001b[0m\u001b[1;33m \u001b[0m┃\n",
       "┃\u001b[1;36m \u001b[0m\u001b[1;36m🎭 Trial Boundary \u001b[0m\u001b[1;36m \u001b[0m┃\u001b[1;33m \u001b[0m\u001b[1;33mStart     \u001b[0m\u001b[1;33m \u001b[0m┃\n",
       "┃\u001b[1;36m \u001b[0m\u001b[1;36m🔬 Trial Type     \u001b[0m\u001b[1;36m \u001b[0m┃\u001b[1;33m \u001b[0m\u001b[1;33mStimulus  \u001b[0m\u001b[1;33m \u001b[0m┃\n",
       "┃\u001b[1;36m \u001b[0m\u001b[1;36m📊 Modality       \u001b[0m\u001b[1;36m \u001b[0m┃\u001b[1;33m \u001b[0m\u001b[1;33mPictures  \u001b[0m\u001b[1;33m \u001b[0m┃\n",
       "┃\u001b[1;36m \u001b[0m\u001b[1;36m⏱ Tmin            \u001b[0m\u001b[1;36m \u001b[0m┃\u001b[1;33m \u001b[0m\u001b[1;36m-0.2\u001b[0m\u001b[1;33m      \u001b[0m\u001b[1;33m \u001b[0m┃\n",
       "┃\u001b[1;36m \u001b[0m\u001b[1;36m⏳ Tmax           \u001b[0m\u001b[1;36m \u001b[0m┃\u001b[1;33m \u001b[0m\u001b[1;36m0.5\u001b[0m\u001b[1;33m       \u001b[0m\u001b[1;33m \u001b[0m┃\n",
       "┗━━━━━━━━━━━━━━━━━━━━┻━━━━━━━━━━━━┛\n"
      ]
     },
     "metadata": {},
     "output_type": "display_data"
    },
    {
     "name": "stdout",
     "output_type": "stream",
     "text": [
      "Not setting metadata\n",
      "130 matching events found\n",
      "Applying baseline correction (mode: mean)\n",
      "0 projection items activated\n",
      "Using data from preloaded Raw for 130 events and 701 original time points ...\n",
      "0 bad epochs dropped\n"
     ]
    },
    {
     "data": {
      "text/html": [
       "<pre style=\"white-space:pre;overflow-x:auto;line-height:normal;font-family:Menlo,'DejaVu Sans Mono',consolas,'Courier New',monospace\"><span style=\"color: #800000; text-decoration-color: #800000\">╭─────────────────────────────────────╮</span>\n",
       "<span style=\"color: #800000; text-decoration-color: #800000\">│</span>  <span style=\"color: #800000; text-decoration-color: #800000; font-weight: bold\">Initializing EEGEpochBuilder Class</span> <span style=\"color: #800000; text-decoration-color: #800000\">│</span>\n",
       "<span style=\"color: #800000; text-decoration-color: #800000\">╰─────────────────────────────────────╯</span>\n",
       "</pre>\n"
      ],
      "text/plain": [
       "\u001b[31m╭─────────────────────────────────────╮\u001b[0m\n",
       "\u001b[31m│\u001b[0m  \u001b[1;31mInitializing EEGEpochBuilder Class\u001b[0m \u001b[31m│\u001b[0m\n",
       "\u001b[31m╰─────────────────────────────────────╯\u001b[0m\n"
      ]
     },
     "metadata": {},
     "output_type": "display_data"
    },
    {
     "data": {
      "text/html": [
       "<pre style=\"white-space:pre;overflow-x:auto;line-height:normal;font-family:Menlo,'DejaVu Sans Mono',consolas,'Courier New',monospace\"> <span style=\"color: #008000; text-decoration-color: #008000; font-weight: bold\">Creating EPOCHS</span>\n",
       "</pre>\n"
      ],
      "text/plain": [
       " \u001b[1;32mCreating EPOCHS\u001b[0m\n"
      ]
     },
     "metadata": {},
     "output_type": "display_data"
    },
    {
     "data": {
      "text/html": [
       "<pre style=\"white-space:pre;overflow-x:auto;line-height:normal;font-family:Menlo,'DejaVu Sans Mono',consolas,'Courier New',monospace\"><span style=\"font-style: italic\">        Extraction Criteria        </span>\n",
       "┏━━━━━━━━━━━━━━━━━━━━┳━━━━━━━━━━━━┓\n",
       "┃<span style=\"font-weight: bold\"> Parameter          </span>┃<span style=\"font-weight: bold\"> Value      </span>┃\n",
       "┣━━━━━━━━━━━━━━━━━━━━╋━━━━━━━━━━━━┫\n",
       "┃<span style=\"color: #008080; text-decoration-color: #008080; font-weight: bold\"> 🧪 Trial Mode      </span>┃<span style=\"color: #808000; text-decoration-color: #808000; font-weight: bold\">            </span>┃\n",
       "┃<span style=\"color: #008080; text-decoration-color: #008080; font-weight: bold\"> 📏 Trial Unit      </span>┃<span style=\"color: #808000; text-decoration-color: #808000; font-weight: bold\"> Words      </span>┃\n",
       "┃<span style=\"color: #008080; text-decoration-color: #008080; font-weight: bold\"> 🔗 Experiment Mode </span>┃<span style=\"color: #808000; text-decoration-color: #808000; font-weight: bold\"> Experiment </span>┃\n",
       "┃<span style=\"color: #008080; text-decoration-color: #008080; font-weight: bold\"> 🎭 Trial Boundary  </span>┃<span style=\"color: #808000; text-decoration-color: #808000; font-weight: bold\"> Start      </span>┃\n",
       "┃<span style=\"color: #008080; text-decoration-color: #008080; font-weight: bold\"> 🔬 Trial Type      </span>┃<span style=\"color: #808000; text-decoration-color: #808000; font-weight: bold\"> Fixation   </span>┃\n",
       "┃<span style=\"color: #008080; text-decoration-color: #008080; font-weight: bold\"> 📊 Modality        </span>┃<span style=\"color: #808000; text-decoration-color: #808000; font-weight: bold\"> Pictures   </span>┃\n",
       "┃<span style=\"color: #008080; text-decoration-color: #008080; font-weight: bold\"> ⏱ Tmin             </span>┃<span style=\"color: #808000; text-decoration-color: #808000; font-weight: bold\"> </span><span style=\"color: #008080; text-decoration-color: #008080; font-weight: bold\">-0.2</span><span style=\"color: #808000; text-decoration-color: #808000; font-weight: bold\">       </span>┃\n",
       "┃<span style=\"color: #008080; text-decoration-color: #008080; font-weight: bold\"> ⏳ Tmax            </span>┃<span style=\"color: #808000; text-decoration-color: #808000; font-weight: bold\"> </span><span style=\"color: #008080; text-decoration-color: #008080; font-weight: bold\">0.5</span><span style=\"color: #808000; text-decoration-color: #808000; font-weight: bold\">        </span>┃\n",
       "┗━━━━━━━━━━━━━━━━━━━━┻━━━━━━━━━━━━┛\n",
       "</pre>\n"
      ],
      "text/plain": [
       "\u001b[3m        Extraction Criteria        \u001b[0m\n",
       "┏━━━━━━━━━━━━━━━━━━━━┳━━━━━━━━━━━━┓\n",
       "┃\u001b[1m \u001b[0m\u001b[1mParameter         \u001b[0m\u001b[1m \u001b[0m┃\u001b[1m \u001b[0m\u001b[1mValue     \u001b[0m\u001b[1m \u001b[0m┃\n",
       "┣━━━━━━━━━━━━━━━━━━━━╋━━━━━━━━━━━━┫\n",
       "┃\u001b[1;36m \u001b[0m\u001b[1;36m🧪 Trial Mode     \u001b[0m\u001b[1;36m \u001b[0m┃\u001b[1;33m \u001b[0m\u001b[1;33m          \u001b[0m\u001b[1;33m \u001b[0m┃\n",
       "┃\u001b[1;36m \u001b[0m\u001b[1;36m📏 Trial Unit     \u001b[0m\u001b[1;36m \u001b[0m┃\u001b[1;33m \u001b[0m\u001b[1;33mWords     \u001b[0m\u001b[1;33m \u001b[0m┃\n",
       "┃\u001b[1;36m \u001b[0m\u001b[1;36m🔗 Experiment Mode\u001b[0m\u001b[1;36m \u001b[0m┃\u001b[1;33m \u001b[0m\u001b[1;33mExperiment\u001b[0m\u001b[1;33m \u001b[0m┃\n",
       "┃\u001b[1;36m \u001b[0m\u001b[1;36m🎭 Trial Boundary \u001b[0m\u001b[1;36m \u001b[0m┃\u001b[1;33m \u001b[0m\u001b[1;33mStart     \u001b[0m\u001b[1;33m \u001b[0m┃\n",
       "┃\u001b[1;36m \u001b[0m\u001b[1;36m🔬 Trial Type     \u001b[0m\u001b[1;36m \u001b[0m┃\u001b[1;33m \u001b[0m\u001b[1;33mFixation  \u001b[0m\u001b[1;33m \u001b[0m┃\n",
       "┃\u001b[1;36m \u001b[0m\u001b[1;36m📊 Modality       \u001b[0m\u001b[1;36m \u001b[0m┃\u001b[1;33m \u001b[0m\u001b[1;33mPictures  \u001b[0m\u001b[1;33m \u001b[0m┃\n",
       "┃\u001b[1;36m \u001b[0m\u001b[1;36m⏱ Tmin            \u001b[0m\u001b[1;36m \u001b[0m┃\u001b[1;33m \u001b[0m\u001b[1;36m-0.2\u001b[0m\u001b[1;33m      \u001b[0m\u001b[1;33m \u001b[0m┃\n",
       "┃\u001b[1;36m \u001b[0m\u001b[1;36m⏳ Tmax           \u001b[0m\u001b[1;36m \u001b[0m┃\u001b[1;33m \u001b[0m\u001b[1;36m0.5\u001b[0m\u001b[1;33m       \u001b[0m\u001b[1;33m \u001b[0m┃\n",
       "┗━━━━━━━━━━━━━━━━━━━━┻━━━━━━━━━━━━┛\n"
      ]
     },
     "metadata": {},
     "output_type": "display_data"
    },
    {
     "name": "stdout",
     "output_type": "stream",
     "text": [
      "Not setting metadata\n",
      "130 matching events found\n",
      "Applying baseline correction (mode: mean)\n",
      "0 projection items activated\n",
      "Using data from preloaded Raw for 130 events and 701 original time points ...\n",
      "0 bad epochs dropped\n",
      "NOTE: pick_channels() is a legacy function. New code should use inst.pick(...).\n",
      "NOTE: pick_channels() is a legacy function. New code should use inst.pick(...).\n",
      "Visual Change P100: latency=0.109s, peak=5.23µV, mean=3.07µV\n",
      "No Visual Change P100: latency=0.080s, peak=0.23µV, mean=-2.01µV\n",
      "Initializing Plotter\n",
      "Results saved to p100_results/sub-03_ses-01_p100_Visual Change_No Visual Change.csv\n"
     ]
    },
    {
     "data": {
      "text/html": [
       "<pre style=\"white-space:pre;overflow-x:auto;line-height:normal;font-family:Menlo,'DejaVu Sans Mono',consolas,'Courier New',monospace\"><span style=\"color: #808000; text-decoration-color: #808000\">╭─────────────────────────────────────────╮</span>\n",
       "<span style=\"color: #808000; text-decoration-color: #808000\">│</span> 🚀 <span style=\"color: #808000; text-decoration-color: #808000; font-weight: bold\">Initializing BIDSDatasetReader Class</span> <span style=\"color: #808000; text-decoration-color: #808000\">│</span>\n",
       "<span style=\"color: #808000; text-decoration-color: #808000\">╰─────────────────────────────────────────╯</span>\n",
       "</pre>\n"
      ],
      "text/plain": [
       "\u001b[33m╭─────────────────────────────────────────╮\u001b[0m\n",
       "\u001b[33m│\u001b[0m 🚀 \u001b[1;33mInitializing BIDSDatasetReader Class\u001b[0m \u001b[33m│\u001b[0m\n",
       "\u001b[33m╰─────────────────────────────────────────╯\u001b[0m\n"
      ]
     },
     "metadata": {},
     "output_type": "display_data"
    },
    {
     "data": {
      "text/html": [
       "<pre style=\"white-space:pre;overflow-x:auto;line-height:normal;font-family:Menlo,'DejaVu Sans Mono',consolas,'Courier New',monospace\"> <span style=\"color: #008000; text-decoration-color: #008000; font-weight: bold\">Loading Processed EEG Data: sub-</span><span style=\"color: #008000; text-decoration-color: #008000; font-weight: bold\">04</span><span style=\"color: #008000; text-decoration-color: #008000; font-weight: bold\"> ses-</span><span style=\"color: #008000; text-decoration-color: #008000; font-weight: bold\">01</span>\n",
       "</pre>\n"
      ],
      "text/plain": [
       " \u001b[1;32mLoading Processed EEG Data: sub-\u001b[0m\u001b[1;32m04\u001b[0m\u001b[1;32m ses-\u001b[0m\u001b[1;32m01\u001b[0m\n"
      ]
     },
     "metadata": {},
     "output_type": "display_data"
    },
    {
     "data": {
      "text/html": [
       "<pre style=\"white-space:pre;overflow-x:auto;line-height:normal;font-family:Menlo,'DejaVu Sans Mono',consolas,'Courier New',monospace\"><span style=\"color: #800000; text-decoration-color: #800000\">╭─────────────────────────────────────╮</span>\n",
       "<span style=\"color: #800000; text-decoration-color: #800000\">│</span>  <span style=\"color: #800000; text-decoration-color: #800000; font-weight: bold\">Initializing EEGEpochBuilder Class</span> <span style=\"color: #800000; text-decoration-color: #800000\">│</span>\n",
       "<span style=\"color: #800000; text-decoration-color: #800000\">╰─────────────────────────────────────╯</span>\n",
       "</pre>\n"
      ],
      "text/plain": [
       "\u001b[31m╭─────────────────────────────────────╮\u001b[0m\n",
       "\u001b[31m│\u001b[0m  \u001b[1;31mInitializing EEGEpochBuilder Class\u001b[0m \u001b[31m│\u001b[0m\n",
       "\u001b[31m╰─────────────────────────────────────╯\u001b[0m\n"
      ]
     },
     "metadata": {},
     "output_type": "display_data"
    },
    {
     "data": {
      "text/html": [
       "<pre style=\"white-space:pre;overflow-x:auto;line-height:normal;font-family:Menlo,'DejaVu Sans Mono',consolas,'Courier New',monospace\"> <span style=\"color: #008000; text-decoration-color: #008000; font-weight: bold\">Creating EPOCHS</span>\n",
       "</pre>\n"
      ],
      "text/plain": [
       " \u001b[1;32mCreating EPOCHS\u001b[0m\n"
      ]
     },
     "metadata": {},
     "output_type": "display_data"
    },
    {
     "data": {
      "text/html": [
       "<pre style=\"white-space:pre;overflow-x:auto;line-height:normal;font-family:Menlo,'DejaVu Sans Mono',consolas,'Courier New',monospace\"><span style=\"font-style: italic\">        Extraction Criteria        </span>\n",
       "┏━━━━━━━━━━━━━━━━━━━━┳━━━━━━━━━━━━┓\n",
       "┃<span style=\"font-weight: bold\"> Parameter          </span>┃<span style=\"font-weight: bold\"> Value      </span>┃\n",
       "┣━━━━━━━━━━━━━━━━━━━━╋━━━━━━━━━━━━┫\n",
       "┃<span style=\"color: #008080; text-decoration-color: #008080; font-weight: bold\"> 🧪 Trial Mode      </span>┃<span style=\"color: #808000; text-decoration-color: #808000; font-weight: bold\">            </span>┃\n",
       "┃<span style=\"color: #008080; text-decoration-color: #008080; font-weight: bold\"> 📏 Trial Unit      </span>┃<span style=\"color: #808000; text-decoration-color: #808000; font-weight: bold\"> Words      </span>┃\n",
       "┃<span style=\"color: #008080; text-decoration-color: #008080; font-weight: bold\"> 🔗 Experiment Mode </span>┃<span style=\"color: #808000; text-decoration-color: #808000; font-weight: bold\"> Experiment </span>┃\n",
       "┃<span style=\"color: #008080; text-decoration-color: #008080; font-weight: bold\"> 🎭 Trial Boundary  </span>┃<span style=\"color: #808000; text-decoration-color: #808000; font-weight: bold\"> Start      </span>┃\n",
       "┃<span style=\"color: #008080; text-decoration-color: #008080; font-weight: bold\"> 🔬 Trial Type      </span>┃<span style=\"color: #808000; text-decoration-color: #808000; font-weight: bold\"> Stimulus   </span>┃\n",
       "┃<span style=\"color: #008080; text-decoration-color: #008080; font-weight: bold\"> 📊 Modality        </span>┃<span style=\"color: #808000; text-decoration-color: #808000; font-weight: bold\"> Pictures   </span>┃\n",
       "┃<span style=\"color: #008080; text-decoration-color: #008080; font-weight: bold\"> ⏱ Tmin             </span>┃<span style=\"color: #808000; text-decoration-color: #808000; font-weight: bold\"> </span><span style=\"color: #008080; text-decoration-color: #008080; font-weight: bold\">-0.2</span><span style=\"color: #808000; text-decoration-color: #808000; font-weight: bold\">       </span>┃\n",
       "┃<span style=\"color: #008080; text-decoration-color: #008080; font-weight: bold\"> ⏳ Tmax            </span>┃<span style=\"color: #808000; text-decoration-color: #808000; font-weight: bold\"> </span><span style=\"color: #008080; text-decoration-color: #008080; font-weight: bold\">0.5</span><span style=\"color: #808000; text-decoration-color: #808000; font-weight: bold\">        </span>┃\n",
       "┗━━━━━━━━━━━━━━━━━━━━┻━━━━━━━━━━━━┛\n",
       "</pre>\n"
      ],
      "text/plain": [
       "\u001b[3m        Extraction Criteria        \u001b[0m\n",
       "┏━━━━━━━━━━━━━━━━━━━━┳━━━━━━━━━━━━┓\n",
       "┃\u001b[1m \u001b[0m\u001b[1mParameter         \u001b[0m\u001b[1m \u001b[0m┃\u001b[1m \u001b[0m\u001b[1mValue     \u001b[0m\u001b[1m \u001b[0m┃\n",
       "┣━━━━━━━━━━━━━━━━━━━━╋━━━━━━━━━━━━┫\n",
       "┃\u001b[1;36m \u001b[0m\u001b[1;36m🧪 Trial Mode     \u001b[0m\u001b[1;36m \u001b[0m┃\u001b[1;33m \u001b[0m\u001b[1;33m          \u001b[0m\u001b[1;33m \u001b[0m┃\n",
       "┃\u001b[1;36m \u001b[0m\u001b[1;36m📏 Trial Unit     \u001b[0m\u001b[1;36m \u001b[0m┃\u001b[1;33m \u001b[0m\u001b[1;33mWords     \u001b[0m\u001b[1;33m \u001b[0m┃\n",
       "┃\u001b[1;36m \u001b[0m\u001b[1;36m🔗 Experiment Mode\u001b[0m\u001b[1;36m \u001b[0m┃\u001b[1;33m \u001b[0m\u001b[1;33mExperiment\u001b[0m\u001b[1;33m \u001b[0m┃\n",
       "┃\u001b[1;36m \u001b[0m\u001b[1;36m🎭 Trial Boundary \u001b[0m\u001b[1;36m \u001b[0m┃\u001b[1;33m \u001b[0m\u001b[1;33mStart     \u001b[0m\u001b[1;33m \u001b[0m┃\n",
       "┃\u001b[1;36m \u001b[0m\u001b[1;36m🔬 Trial Type     \u001b[0m\u001b[1;36m \u001b[0m┃\u001b[1;33m \u001b[0m\u001b[1;33mStimulus  \u001b[0m\u001b[1;33m \u001b[0m┃\n",
       "┃\u001b[1;36m \u001b[0m\u001b[1;36m📊 Modality       \u001b[0m\u001b[1;36m \u001b[0m┃\u001b[1;33m \u001b[0m\u001b[1;33mPictures  \u001b[0m\u001b[1;33m \u001b[0m┃\n",
       "┃\u001b[1;36m \u001b[0m\u001b[1;36m⏱ Tmin            \u001b[0m\u001b[1;36m \u001b[0m┃\u001b[1;33m \u001b[0m\u001b[1;36m-0.2\u001b[0m\u001b[1;33m      \u001b[0m\u001b[1;33m \u001b[0m┃\n",
       "┃\u001b[1;36m \u001b[0m\u001b[1;36m⏳ Tmax           \u001b[0m\u001b[1;36m \u001b[0m┃\u001b[1;33m \u001b[0m\u001b[1;36m0.5\u001b[0m\u001b[1;33m       \u001b[0m\u001b[1;33m \u001b[0m┃\n",
       "┗━━━━━━━━━━━━━━━━━━━━┻━━━━━━━━━━━━┛\n"
      ]
     },
     "metadata": {},
     "output_type": "display_data"
    },
    {
     "name": "stdout",
     "output_type": "stream",
     "text": [
      "Not setting metadata\n",
      "130 matching events found\n",
      "Applying baseline correction (mode: mean)\n",
      "0 projection items activated\n",
      "Using data from preloaded Raw for 130 events and 701 original time points ...\n",
      "0 bad epochs dropped\n"
     ]
    },
    {
     "data": {
      "text/html": [
       "<pre style=\"white-space:pre;overflow-x:auto;line-height:normal;font-family:Menlo,'DejaVu Sans Mono',consolas,'Courier New',monospace\"><span style=\"color: #800000; text-decoration-color: #800000\">╭─────────────────────────────────────╮</span>\n",
       "<span style=\"color: #800000; text-decoration-color: #800000\">│</span>  <span style=\"color: #800000; text-decoration-color: #800000; font-weight: bold\">Initializing EEGEpochBuilder Class</span> <span style=\"color: #800000; text-decoration-color: #800000\">│</span>\n",
       "<span style=\"color: #800000; text-decoration-color: #800000\">╰─────────────────────────────────────╯</span>\n",
       "</pre>\n"
      ],
      "text/plain": [
       "\u001b[31m╭─────────────────────────────────────╮\u001b[0m\n",
       "\u001b[31m│\u001b[0m  \u001b[1;31mInitializing EEGEpochBuilder Class\u001b[0m \u001b[31m│\u001b[0m\n",
       "\u001b[31m╰─────────────────────────────────────╯\u001b[0m\n"
      ]
     },
     "metadata": {},
     "output_type": "display_data"
    },
    {
     "data": {
      "text/html": [
       "<pre style=\"white-space:pre;overflow-x:auto;line-height:normal;font-family:Menlo,'DejaVu Sans Mono',consolas,'Courier New',monospace\"> <span style=\"color: #008000; text-decoration-color: #008000; font-weight: bold\">Creating EPOCHS</span>\n",
       "</pre>\n"
      ],
      "text/plain": [
       " \u001b[1;32mCreating EPOCHS\u001b[0m\n"
      ]
     },
     "metadata": {},
     "output_type": "display_data"
    },
    {
     "data": {
      "text/html": [
       "<pre style=\"white-space:pre;overflow-x:auto;line-height:normal;font-family:Menlo,'DejaVu Sans Mono',consolas,'Courier New',monospace\"><span style=\"font-style: italic\">        Extraction Criteria        </span>\n",
       "┏━━━━━━━━━━━━━━━━━━━━┳━━━━━━━━━━━━┓\n",
       "┃<span style=\"font-weight: bold\"> Parameter          </span>┃<span style=\"font-weight: bold\"> Value      </span>┃\n",
       "┣━━━━━━━━━━━━━━━━━━━━╋━━━━━━━━━━━━┫\n",
       "┃<span style=\"color: #008080; text-decoration-color: #008080; font-weight: bold\"> 🧪 Trial Mode      </span>┃<span style=\"color: #808000; text-decoration-color: #808000; font-weight: bold\">            </span>┃\n",
       "┃<span style=\"color: #008080; text-decoration-color: #008080; font-weight: bold\"> 📏 Trial Unit      </span>┃<span style=\"color: #808000; text-decoration-color: #808000; font-weight: bold\"> Words      </span>┃\n",
       "┃<span style=\"color: #008080; text-decoration-color: #008080; font-weight: bold\"> 🔗 Experiment Mode </span>┃<span style=\"color: #808000; text-decoration-color: #808000; font-weight: bold\"> Experiment </span>┃\n",
       "┃<span style=\"color: #008080; text-decoration-color: #008080; font-weight: bold\"> 🎭 Trial Boundary  </span>┃<span style=\"color: #808000; text-decoration-color: #808000; font-weight: bold\"> Start      </span>┃\n",
       "┃<span style=\"color: #008080; text-decoration-color: #008080; font-weight: bold\"> 🔬 Trial Type      </span>┃<span style=\"color: #808000; text-decoration-color: #808000; font-weight: bold\"> Fixation   </span>┃\n",
       "┃<span style=\"color: #008080; text-decoration-color: #008080; font-weight: bold\"> 📊 Modality        </span>┃<span style=\"color: #808000; text-decoration-color: #808000; font-weight: bold\"> Pictures   </span>┃\n",
       "┃<span style=\"color: #008080; text-decoration-color: #008080; font-weight: bold\"> ⏱ Tmin             </span>┃<span style=\"color: #808000; text-decoration-color: #808000; font-weight: bold\"> </span><span style=\"color: #008080; text-decoration-color: #008080; font-weight: bold\">-0.2</span><span style=\"color: #808000; text-decoration-color: #808000; font-weight: bold\">       </span>┃\n",
       "┃<span style=\"color: #008080; text-decoration-color: #008080; font-weight: bold\"> ⏳ Tmax            </span>┃<span style=\"color: #808000; text-decoration-color: #808000; font-weight: bold\"> </span><span style=\"color: #008080; text-decoration-color: #008080; font-weight: bold\">0.5</span><span style=\"color: #808000; text-decoration-color: #808000; font-weight: bold\">        </span>┃\n",
       "┗━━━━━━━━━━━━━━━━━━━━┻━━━━━━━━━━━━┛\n",
       "</pre>\n"
      ],
      "text/plain": [
       "\u001b[3m        Extraction Criteria        \u001b[0m\n",
       "┏━━━━━━━━━━━━━━━━━━━━┳━━━━━━━━━━━━┓\n",
       "┃\u001b[1m \u001b[0m\u001b[1mParameter         \u001b[0m\u001b[1m \u001b[0m┃\u001b[1m \u001b[0m\u001b[1mValue     \u001b[0m\u001b[1m \u001b[0m┃\n",
       "┣━━━━━━━━━━━━━━━━━━━━╋━━━━━━━━━━━━┫\n",
       "┃\u001b[1;36m \u001b[0m\u001b[1;36m🧪 Trial Mode     \u001b[0m\u001b[1;36m \u001b[0m┃\u001b[1;33m \u001b[0m\u001b[1;33m          \u001b[0m\u001b[1;33m \u001b[0m┃\n",
       "┃\u001b[1;36m \u001b[0m\u001b[1;36m📏 Trial Unit     \u001b[0m\u001b[1;36m \u001b[0m┃\u001b[1;33m \u001b[0m\u001b[1;33mWords     \u001b[0m\u001b[1;33m \u001b[0m┃\n",
       "┃\u001b[1;36m \u001b[0m\u001b[1;36m🔗 Experiment Mode\u001b[0m\u001b[1;36m \u001b[0m┃\u001b[1;33m \u001b[0m\u001b[1;33mExperiment\u001b[0m\u001b[1;33m \u001b[0m┃\n",
       "┃\u001b[1;36m \u001b[0m\u001b[1;36m🎭 Trial Boundary \u001b[0m\u001b[1;36m \u001b[0m┃\u001b[1;33m \u001b[0m\u001b[1;33mStart     \u001b[0m\u001b[1;33m \u001b[0m┃\n",
       "┃\u001b[1;36m \u001b[0m\u001b[1;36m🔬 Trial Type     \u001b[0m\u001b[1;36m \u001b[0m┃\u001b[1;33m \u001b[0m\u001b[1;33mFixation  \u001b[0m\u001b[1;33m \u001b[0m┃\n",
       "┃\u001b[1;36m \u001b[0m\u001b[1;36m📊 Modality       \u001b[0m\u001b[1;36m \u001b[0m┃\u001b[1;33m \u001b[0m\u001b[1;33mPictures  \u001b[0m\u001b[1;33m \u001b[0m┃\n",
       "┃\u001b[1;36m \u001b[0m\u001b[1;36m⏱ Tmin            \u001b[0m\u001b[1;36m \u001b[0m┃\u001b[1;33m \u001b[0m\u001b[1;36m-0.2\u001b[0m\u001b[1;33m      \u001b[0m\u001b[1;33m \u001b[0m┃\n",
       "┃\u001b[1;36m \u001b[0m\u001b[1;36m⏳ Tmax           \u001b[0m\u001b[1;36m \u001b[0m┃\u001b[1;33m \u001b[0m\u001b[1;36m0.5\u001b[0m\u001b[1;33m       \u001b[0m\u001b[1;33m \u001b[0m┃\n",
       "┗━━━━━━━━━━━━━━━━━━━━┻━━━━━━━━━━━━┛\n"
      ]
     },
     "metadata": {},
     "output_type": "display_data"
    },
    {
     "name": "stdout",
     "output_type": "stream",
     "text": [
      "Not setting metadata\n",
      "130 matching events found\n",
      "Applying baseline correction (mode: mean)\n",
      "0 projection items activated\n",
      "Using data from preloaded Raw for 130 events and 701 original time points ...\n",
      "0 bad epochs dropped\n",
      "NOTE: pick_channels() is a legacy function. New code should use inst.pick(...).\n",
      "NOTE: pick_channels() is a legacy function. New code should use inst.pick(...).\n",
      "Visual Change P100: latency=0.120s, peak=4.85µV, mean=1.90µV\n",
      "No Visual Change P100: latency=0.110s, peak=2.23µV, mean=1.12µV\n",
      "Initializing Plotter\n",
      "Results saved to p100_results/sub-04_ses-01_p100_Visual Change_No Visual Change.csv\n"
     ]
    },
    {
     "data": {
      "text/html": [
       "<pre style=\"white-space:pre;overflow-x:auto;line-height:normal;font-family:Menlo,'DejaVu Sans Mono',consolas,'Courier New',monospace\"><span style=\"color: #808000; text-decoration-color: #808000\">╭─────────────────────────────────────────╮</span>\n",
       "<span style=\"color: #808000; text-decoration-color: #808000\">│</span> 🚀 <span style=\"color: #808000; text-decoration-color: #808000; font-weight: bold\">Initializing BIDSDatasetReader Class</span> <span style=\"color: #808000; text-decoration-color: #808000\">│</span>\n",
       "<span style=\"color: #808000; text-decoration-color: #808000\">╰─────────────────────────────────────────╯</span>\n",
       "</pre>\n"
      ],
      "text/plain": [
       "\u001b[33m╭─────────────────────────────────────────╮\u001b[0m\n",
       "\u001b[33m│\u001b[0m 🚀 \u001b[1;33mInitializing BIDSDatasetReader Class\u001b[0m \u001b[33m│\u001b[0m\n",
       "\u001b[33m╰─────────────────────────────────────────╯\u001b[0m\n"
      ]
     },
     "metadata": {},
     "output_type": "display_data"
    },
    {
     "data": {
      "text/html": [
       "<pre style=\"white-space:pre;overflow-x:auto;line-height:normal;font-family:Menlo,'DejaVu Sans Mono',consolas,'Courier New',monospace\"> <span style=\"color: #008000; text-decoration-color: #008000; font-weight: bold\">Loading Processed EEG Data: sub-</span><span style=\"color: #008000; text-decoration-color: #008000; font-weight: bold\">04</span><span style=\"color: #008000; text-decoration-color: #008000; font-weight: bold\"> ses-</span><span style=\"color: #008000; text-decoration-color: #008000; font-weight: bold\">02</span>\n",
       "</pre>\n"
      ],
      "text/plain": [
       " \u001b[1;32mLoading Processed EEG Data: sub-\u001b[0m\u001b[1;32m04\u001b[0m\u001b[1;32m ses-\u001b[0m\u001b[1;32m02\u001b[0m\n"
      ]
     },
     "metadata": {},
     "output_type": "display_data"
    },
    {
     "data": {
      "text/html": [
       "<pre style=\"white-space:pre;overflow-x:auto;line-height:normal;font-family:Menlo,'DejaVu Sans Mono',consolas,'Courier New',monospace\"><span style=\"color: #800000; text-decoration-color: #800000\">╭─────────────────────────────────────╮</span>\n",
       "<span style=\"color: #800000; text-decoration-color: #800000\">│</span>  <span style=\"color: #800000; text-decoration-color: #800000; font-weight: bold\">Initializing EEGEpochBuilder Class</span> <span style=\"color: #800000; text-decoration-color: #800000\">│</span>\n",
       "<span style=\"color: #800000; text-decoration-color: #800000\">╰─────────────────────────────────────╯</span>\n",
       "</pre>\n"
      ],
      "text/plain": [
       "\u001b[31m╭─────────────────────────────────────╮\u001b[0m\n",
       "\u001b[31m│\u001b[0m  \u001b[1;31mInitializing EEGEpochBuilder Class\u001b[0m \u001b[31m│\u001b[0m\n",
       "\u001b[31m╰─────────────────────────────────────╯\u001b[0m\n"
      ]
     },
     "metadata": {},
     "output_type": "display_data"
    },
    {
     "data": {
      "text/html": [
       "<pre style=\"white-space:pre;overflow-x:auto;line-height:normal;font-family:Menlo,'DejaVu Sans Mono',consolas,'Courier New',monospace\"> <span style=\"color: #008000; text-decoration-color: #008000; font-weight: bold\">Creating EPOCHS</span>\n",
       "</pre>\n"
      ],
      "text/plain": [
       " \u001b[1;32mCreating EPOCHS\u001b[0m\n"
      ]
     },
     "metadata": {},
     "output_type": "display_data"
    },
    {
     "data": {
      "text/html": [
       "<pre style=\"white-space:pre;overflow-x:auto;line-height:normal;font-family:Menlo,'DejaVu Sans Mono',consolas,'Courier New',monospace\"><span style=\"font-style: italic\">        Extraction Criteria        </span>\n",
       "┏━━━━━━━━━━━━━━━━━━━━┳━━━━━━━━━━━━┓\n",
       "┃<span style=\"font-weight: bold\"> Parameter          </span>┃<span style=\"font-weight: bold\"> Value      </span>┃\n",
       "┣━━━━━━━━━━━━━━━━━━━━╋━━━━━━━━━━━━┫\n",
       "┃<span style=\"color: #008080; text-decoration-color: #008080; font-weight: bold\"> 🧪 Trial Mode      </span>┃<span style=\"color: #808000; text-decoration-color: #808000; font-weight: bold\">            </span>┃\n",
       "┃<span style=\"color: #008080; text-decoration-color: #008080; font-weight: bold\"> 📏 Trial Unit      </span>┃<span style=\"color: #808000; text-decoration-color: #808000; font-weight: bold\"> Words      </span>┃\n",
       "┃<span style=\"color: #008080; text-decoration-color: #008080; font-weight: bold\"> 🔗 Experiment Mode </span>┃<span style=\"color: #808000; text-decoration-color: #808000; font-weight: bold\"> Experiment </span>┃\n",
       "┃<span style=\"color: #008080; text-decoration-color: #008080; font-weight: bold\"> 🎭 Trial Boundary  </span>┃<span style=\"color: #808000; text-decoration-color: #808000; font-weight: bold\"> Start      </span>┃\n",
       "┃<span style=\"color: #008080; text-decoration-color: #008080; font-weight: bold\"> 🔬 Trial Type      </span>┃<span style=\"color: #808000; text-decoration-color: #808000; font-weight: bold\"> Stimulus   </span>┃\n",
       "┃<span style=\"color: #008080; text-decoration-color: #008080; font-weight: bold\"> 📊 Modality        </span>┃<span style=\"color: #808000; text-decoration-color: #808000; font-weight: bold\"> Pictures   </span>┃\n",
       "┃<span style=\"color: #008080; text-decoration-color: #008080; font-weight: bold\"> ⏱ Tmin             </span>┃<span style=\"color: #808000; text-decoration-color: #808000; font-weight: bold\"> </span><span style=\"color: #008080; text-decoration-color: #008080; font-weight: bold\">-0.2</span><span style=\"color: #808000; text-decoration-color: #808000; font-weight: bold\">       </span>┃\n",
       "┃<span style=\"color: #008080; text-decoration-color: #008080; font-weight: bold\"> ⏳ Tmax            </span>┃<span style=\"color: #808000; text-decoration-color: #808000; font-weight: bold\"> </span><span style=\"color: #008080; text-decoration-color: #008080; font-weight: bold\">0.5</span><span style=\"color: #808000; text-decoration-color: #808000; font-weight: bold\">        </span>┃\n",
       "┗━━━━━━━━━━━━━━━━━━━━┻━━━━━━━━━━━━┛\n",
       "</pre>\n"
      ],
      "text/plain": [
       "\u001b[3m        Extraction Criteria        \u001b[0m\n",
       "┏━━━━━━━━━━━━━━━━━━━━┳━━━━━━━━━━━━┓\n",
       "┃\u001b[1m \u001b[0m\u001b[1mParameter         \u001b[0m\u001b[1m \u001b[0m┃\u001b[1m \u001b[0m\u001b[1mValue     \u001b[0m\u001b[1m \u001b[0m┃\n",
       "┣━━━━━━━━━━━━━━━━━━━━╋━━━━━━━━━━━━┫\n",
       "┃\u001b[1;36m \u001b[0m\u001b[1;36m🧪 Trial Mode     \u001b[0m\u001b[1;36m \u001b[0m┃\u001b[1;33m \u001b[0m\u001b[1;33m          \u001b[0m\u001b[1;33m \u001b[0m┃\n",
       "┃\u001b[1;36m \u001b[0m\u001b[1;36m📏 Trial Unit     \u001b[0m\u001b[1;36m \u001b[0m┃\u001b[1;33m \u001b[0m\u001b[1;33mWords     \u001b[0m\u001b[1;33m \u001b[0m┃\n",
       "┃\u001b[1;36m \u001b[0m\u001b[1;36m🔗 Experiment Mode\u001b[0m\u001b[1;36m \u001b[0m┃\u001b[1;33m \u001b[0m\u001b[1;33mExperiment\u001b[0m\u001b[1;33m \u001b[0m┃\n",
       "┃\u001b[1;36m \u001b[0m\u001b[1;36m🎭 Trial Boundary \u001b[0m\u001b[1;36m \u001b[0m┃\u001b[1;33m \u001b[0m\u001b[1;33mStart     \u001b[0m\u001b[1;33m \u001b[0m┃\n",
       "┃\u001b[1;36m \u001b[0m\u001b[1;36m🔬 Trial Type     \u001b[0m\u001b[1;36m \u001b[0m┃\u001b[1;33m \u001b[0m\u001b[1;33mStimulus  \u001b[0m\u001b[1;33m \u001b[0m┃\n",
       "┃\u001b[1;36m \u001b[0m\u001b[1;36m📊 Modality       \u001b[0m\u001b[1;36m \u001b[0m┃\u001b[1;33m \u001b[0m\u001b[1;33mPictures  \u001b[0m\u001b[1;33m \u001b[0m┃\n",
       "┃\u001b[1;36m \u001b[0m\u001b[1;36m⏱ Tmin            \u001b[0m\u001b[1;36m \u001b[0m┃\u001b[1;33m \u001b[0m\u001b[1;36m-0.2\u001b[0m\u001b[1;33m      \u001b[0m\u001b[1;33m \u001b[0m┃\n",
       "┃\u001b[1;36m \u001b[0m\u001b[1;36m⏳ Tmax           \u001b[0m\u001b[1;36m \u001b[0m┃\u001b[1;33m \u001b[0m\u001b[1;36m0.5\u001b[0m\u001b[1;33m       \u001b[0m\u001b[1;33m \u001b[0m┃\n",
       "┗━━━━━━━━━━━━━━━━━━━━┻━━━━━━━━━━━━┛\n"
      ]
     },
     "metadata": {},
     "output_type": "display_data"
    },
    {
     "name": "stdout",
     "output_type": "stream",
     "text": [
      "Not setting metadata\n",
      "130 matching events found\n",
      "Applying baseline correction (mode: mean)\n",
      "0 projection items activated\n",
      "Using data from preloaded Raw for 130 events and 701 original time points ...\n",
      "0 bad epochs dropped\n"
     ]
    },
    {
     "data": {
      "text/html": [
       "<pre style=\"white-space:pre;overflow-x:auto;line-height:normal;font-family:Menlo,'DejaVu Sans Mono',consolas,'Courier New',monospace\"><span style=\"color: #800000; text-decoration-color: #800000\">╭─────────────────────────────────────╮</span>\n",
       "<span style=\"color: #800000; text-decoration-color: #800000\">│</span>  <span style=\"color: #800000; text-decoration-color: #800000; font-weight: bold\">Initializing EEGEpochBuilder Class</span> <span style=\"color: #800000; text-decoration-color: #800000\">│</span>\n",
       "<span style=\"color: #800000; text-decoration-color: #800000\">╰─────────────────────────────────────╯</span>\n",
       "</pre>\n"
      ],
      "text/plain": [
       "\u001b[31m╭─────────────────────────────────────╮\u001b[0m\n",
       "\u001b[31m│\u001b[0m  \u001b[1;31mInitializing EEGEpochBuilder Class\u001b[0m \u001b[31m│\u001b[0m\n",
       "\u001b[31m╰─────────────────────────────────────╯\u001b[0m\n"
      ]
     },
     "metadata": {},
     "output_type": "display_data"
    },
    {
     "data": {
      "text/html": [
       "<pre style=\"white-space:pre;overflow-x:auto;line-height:normal;font-family:Menlo,'DejaVu Sans Mono',consolas,'Courier New',monospace\"> <span style=\"color: #008000; text-decoration-color: #008000; font-weight: bold\">Creating EPOCHS</span>\n",
       "</pre>\n"
      ],
      "text/plain": [
       " \u001b[1;32mCreating EPOCHS\u001b[0m\n"
      ]
     },
     "metadata": {},
     "output_type": "display_data"
    },
    {
     "data": {
      "text/html": [
       "<pre style=\"white-space:pre;overflow-x:auto;line-height:normal;font-family:Menlo,'DejaVu Sans Mono',consolas,'Courier New',monospace\"><span style=\"font-style: italic\">        Extraction Criteria        </span>\n",
       "┏━━━━━━━━━━━━━━━━━━━━┳━━━━━━━━━━━━┓\n",
       "┃<span style=\"font-weight: bold\"> Parameter          </span>┃<span style=\"font-weight: bold\"> Value      </span>┃\n",
       "┣━━━━━━━━━━━━━━━━━━━━╋━━━━━━━━━━━━┫\n",
       "┃<span style=\"color: #008080; text-decoration-color: #008080; font-weight: bold\"> 🧪 Trial Mode      </span>┃<span style=\"color: #808000; text-decoration-color: #808000; font-weight: bold\">            </span>┃\n",
       "┃<span style=\"color: #008080; text-decoration-color: #008080; font-weight: bold\"> 📏 Trial Unit      </span>┃<span style=\"color: #808000; text-decoration-color: #808000; font-weight: bold\"> Words      </span>┃\n",
       "┃<span style=\"color: #008080; text-decoration-color: #008080; font-weight: bold\"> 🔗 Experiment Mode </span>┃<span style=\"color: #808000; text-decoration-color: #808000; font-weight: bold\"> Experiment </span>┃\n",
       "┃<span style=\"color: #008080; text-decoration-color: #008080; font-weight: bold\"> 🎭 Trial Boundary  </span>┃<span style=\"color: #808000; text-decoration-color: #808000; font-weight: bold\"> Start      </span>┃\n",
       "┃<span style=\"color: #008080; text-decoration-color: #008080; font-weight: bold\"> 🔬 Trial Type      </span>┃<span style=\"color: #808000; text-decoration-color: #808000; font-weight: bold\"> Fixation   </span>┃\n",
       "┃<span style=\"color: #008080; text-decoration-color: #008080; font-weight: bold\"> 📊 Modality        </span>┃<span style=\"color: #808000; text-decoration-color: #808000; font-weight: bold\"> Pictures   </span>┃\n",
       "┃<span style=\"color: #008080; text-decoration-color: #008080; font-weight: bold\"> ⏱ Tmin             </span>┃<span style=\"color: #808000; text-decoration-color: #808000; font-weight: bold\"> </span><span style=\"color: #008080; text-decoration-color: #008080; font-weight: bold\">-0.2</span><span style=\"color: #808000; text-decoration-color: #808000; font-weight: bold\">       </span>┃\n",
       "┃<span style=\"color: #008080; text-decoration-color: #008080; font-weight: bold\"> ⏳ Tmax            </span>┃<span style=\"color: #808000; text-decoration-color: #808000; font-weight: bold\"> </span><span style=\"color: #008080; text-decoration-color: #008080; font-weight: bold\">0.5</span><span style=\"color: #808000; text-decoration-color: #808000; font-weight: bold\">        </span>┃\n",
       "┗━━━━━━━━━━━━━━━━━━━━┻━━━━━━━━━━━━┛\n",
       "</pre>\n"
      ],
      "text/plain": [
       "\u001b[3m        Extraction Criteria        \u001b[0m\n",
       "┏━━━━━━━━━━━━━━━━━━━━┳━━━━━━━━━━━━┓\n",
       "┃\u001b[1m \u001b[0m\u001b[1mParameter         \u001b[0m\u001b[1m \u001b[0m┃\u001b[1m \u001b[0m\u001b[1mValue     \u001b[0m\u001b[1m \u001b[0m┃\n",
       "┣━━━━━━━━━━━━━━━━━━━━╋━━━━━━━━━━━━┫\n",
       "┃\u001b[1;36m \u001b[0m\u001b[1;36m🧪 Trial Mode     \u001b[0m\u001b[1;36m \u001b[0m┃\u001b[1;33m \u001b[0m\u001b[1;33m          \u001b[0m\u001b[1;33m \u001b[0m┃\n",
       "┃\u001b[1;36m \u001b[0m\u001b[1;36m📏 Trial Unit     \u001b[0m\u001b[1;36m \u001b[0m┃\u001b[1;33m \u001b[0m\u001b[1;33mWords     \u001b[0m\u001b[1;33m \u001b[0m┃\n",
       "┃\u001b[1;36m \u001b[0m\u001b[1;36m🔗 Experiment Mode\u001b[0m\u001b[1;36m \u001b[0m┃\u001b[1;33m \u001b[0m\u001b[1;33mExperiment\u001b[0m\u001b[1;33m \u001b[0m┃\n",
       "┃\u001b[1;36m \u001b[0m\u001b[1;36m🎭 Trial Boundary \u001b[0m\u001b[1;36m \u001b[0m┃\u001b[1;33m \u001b[0m\u001b[1;33mStart     \u001b[0m\u001b[1;33m \u001b[0m┃\n",
       "┃\u001b[1;36m \u001b[0m\u001b[1;36m🔬 Trial Type     \u001b[0m\u001b[1;36m \u001b[0m┃\u001b[1;33m \u001b[0m\u001b[1;33mFixation  \u001b[0m\u001b[1;33m \u001b[0m┃\n",
       "┃\u001b[1;36m \u001b[0m\u001b[1;36m📊 Modality       \u001b[0m\u001b[1;36m \u001b[0m┃\u001b[1;33m \u001b[0m\u001b[1;33mPictures  \u001b[0m\u001b[1;33m \u001b[0m┃\n",
       "┃\u001b[1;36m \u001b[0m\u001b[1;36m⏱ Tmin            \u001b[0m\u001b[1;36m \u001b[0m┃\u001b[1;33m \u001b[0m\u001b[1;36m-0.2\u001b[0m\u001b[1;33m      \u001b[0m\u001b[1;33m \u001b[0m┃\n",
       "┃\u001b[1;36m \u001b[0m\u001b[1;36m⏳ Tmax           \u001b[0m\u001b[1;36m \u001b[0m┃\u001b[1;33m \u001b[0m\u001b[1;36m0.5\u001b[0m\u001b[1;33m       \u001b[0m\u001b[1;33m \u001b[0m┃\n",
       "┗━━━━━━━━━━━━━━━━━━━━┻━━━━━━━━━━━━┛\n"
      ]
     },
     "metadata": {},
     "output_type": "display_data"
    },
    {
     "name": "stdout",
     "output_type": "stream",
     "text": [
      "Not setting metadata\n",
      "130 matching events found\n",
      "Applying baseline correction (mode: mean)\n",
      "0 projection items activated\n",
      "Using data from preloaded Raw for 130 events and 701 original time points ...\n",
      "0 bad epochs dropped\n",
      "NOTE: pick_channels() is a legacy function. New code should use inst.pick(...).\n",
      "NOTE: pick_channels() is a legacy function. New code should use inst.pick(...).\n",
      "Visual Change P100: latency=0.120s, peak=2.78µV, mean=0.42µV\n",
      "No Visual Change P100: latency=0.080s, peak=0.83µV, mean=0.23µV\n",
      "Initializing Plotter\n",
      "Results saved to p100_results/sub-04_ses-02_p100_Visual Change_No Visual Change.csv\n"
     ]
    },
    {
     "data": {
      "text/html": [
       "<pre style=\"white-space:pre;overflow-x:auto;line-height:normal;font-family:Menlo,'DejaVu Sans Mono',consolas,'Courier New',monospace\"><span style=\"color: #808000; text-decoration-color: #808000\">╭─────────────────────────────────────────╮</span>\n",
       "<span style=\"color: #808000; text-decoration-color: #808000\">│</span> 🚀 <span style=\"color: #808000; text-decoration-color: #808000; font-weight: bold\">Initializing BIDSDatasetReader Class</span> <span style=\"color: #808000; text-decoration-color: #808000\">│</span>\n",
       "<span style=\"color: #808000; text-decoration-color: #808000\">╰─────────────────────────────────────────╯</span>\n",
       "</pre>\n"
      ],
      "text/plain": [
       "\u001b[33m╭─────────────────────────────────────────╮\u001b[0m\n",
       "\u001b[33m│\u001b[0m 🚀 \u001b[1;33mInitializing BIDSDatasetReader Class\u001b[0m \u001b[33m│\u001b[0m\n",
       "\u001b[33m╰─────────────────────────────────────────╯\u001b[0m\n"
      ]
     },
     "metadata": {},
     "output_type": "display_data"
    },
    {
     "data": {
      "text/html": [
       "<pre style=\"white-space:pre;overflow-x:auto;line-height:normal;font-family:Menlo,'DejaVu Sans Mono',consolas,'Courier New',monospace\"> <span style=\"color: #008000; text-decoration-color: #008000; font-weight: bold\">Loading Processed EEG Data: sub-</span><span style=\"color: #008000; text-decoration-color: #008000; font-weight: bold\">05</span><span style=\"color: #008000; text-decoration-color: #008000; font-weight: bold\"> ses-</span><span style=\"color: #008000; text-decoration-color: #008000; font-weight: bold\">01</span>\n",
       "</pre>\n"
      ],
      "text/plain": [
       " \u001b[1;32mLoading Processed EEG Data: sub-\u001b[0m\u001b[1;32m05\u001b[0m\u001b[1;32m ses-\u001b[0m\u001b[1;32m01\u001b[0m\n"
      ]
     },
     "metadata": {},
     "output_type": "display_data"
    },
    {
     "data": {
      "text/html": [
       "<pre style=\"white-space:pre;overflow-x:auto;line-height:normal;font-family:Menlo,'DejaVu Sans Mono',consolas,'Courier New',monospace\"><span style=\"color: #800000; text-decoration-color: #800000\">╭─────────────────────────────────────╮</span>\n",
       "<span style=\"color: #800000; text-decoration-color: #800000\">│</span>  <span style=\"color: #800000; text-decoration-color: #800000; font-weight: bold\">Initializing EEGEpochBuilder Class</span> <span style=\"color: #800000; text-decoration-color: #800000\">│</span>\n",
       "<span style=\"color: #800000; text-decoration-color: #800000\">╰─────────────────────────────────────╯</span>\n",
       "</pre>\n"
      ],
      "text/plain": [
       "\u001b[31m╭─────────────────────────────────────╮\u001b[0m\n",
       "\u001b[31m│\u001b[0m  \u001b[1;31mInitializing EEGEpochBuilder Class\u001b[0m \u001b[31m│\u001b[0m\n",
       "\u001b[31m╰─────────────────────────────────────╯\u001b[0m\n"
      ]
     },
     "metadata": {},
     "output_type": "display_data"
    },
    {
     "data": {
      "text/html": [
       "<pre style=\"white-space:pre;overflow-x:auto;line-height:normal;font-family:Menlo,'DejaVu Sans Mono',consolas,'Courier New',monospace\"> <span style=\"color: #008000; text-decoration-color: #008000; font-weight: bold\">Creating EPOCHS</span>\n",
       "</pre>\n"
      ],
      "text/plain": [
       " \u001b[1;32mCreating EPOCHS\u001b[0m\n"
      ]
     },
     "metadata": {},
     "output_type": "display_data"
    },
    {
     "data": {
      "text/html": [
       "<pre style=\"white-space:pre;overflow-x:auto;line-height:normal;font-family:Menlo,'DejaVu Sans Mono',consolas,'Courier New',monospace\"><span style=\"font-style: italic\">        Extraction Criteria        </span>\n",
       "┏━━━━━━━━━━━━━━━━━━━━┳━━━━━━━━━━━━┓\n",
       "┃<span style=\"font-weight: bold\"> Parameter          </span>┃<span style=\"font-weight: bold\"> Value      </span>┃\n",
       "┣━━━━━━━━━━━━━━━━━━━━╋━━━━━━━━━━━━┫\n",
       "┃<span style=\"color: #008080; text-decoration-color: #008080; font-weight: bold\"> 🧪 Trial Mode      </span>┃<span style=\"color: #808000; text-decoration-color: #808000; font-weight: bold\">            </span>┃\n",
       "┃<span style=\"color: #008080; text-decoration-color: #008080; font-weight: bold\"> 📏 Trial Unit      </span>┃<span style=\"color: #808000; text-decoration-color: #808000; font-weight: bold\"> Words      </span>┃\n",
       "┃<span style=\"color: #008080; text-decoration-color: #008080; font-weight: bold\"> 🔗 Experiment Mode </span>┃<span style=\"color: #808000; text-decoration-color: #808000; font-weight: bold\"> Experiment </span>┃\n",
       "┃<span style=\"color: #008080; text-decoration-color: #008080; font-weight: bold\"> 🎭 Trial Boundary  </span>┃<span style=\"color: #808000; text-decoration-color: #808000; font-weight: bold\"> Start      </span>┃\n",
       "┃<span style=\"color: #008080; text-decoration-color: #008080; font-weight: bold\"> 🔬 Trial Type      </span>┃<span style=\"color: #808000; text-decoration-color: #808000; font-weight: bold\"> Stimulus   </span>┃\n",
       "┃<span style=\"color: #008080; text-decoration-color: #008080; font-weight: bold\"> 📊 Modality        </span>┃<span style=\"color: #808000; text-decoration-color: #808000; font-weight: bold\"> Pictures   </span>┃\n",
       "┃<span style=\"color: #008080; text-decoration-color: #008080; font-weight: bold\"> ⏱ Tmin             </span>┃<span style=\"color: #808000; text-decoration-color: #808000; font-weight: bold\"> </span><span style=\"color: #008080; text-decoration-color: #008080; font-weight: bold\">-0.2</span><span style=\"color: #808000; text-decoration-color: #808000; font-weight: bold\">       </span>┃\n",
       "┃<span style=\"color: #008080; text-decoration-color: #008080; font-weight: bold\"> ⏳ Tmax            </span>┃<span style=\"color: #808000; text-decoration-color: #808000; font-weight: bold\"> </span><span style=\"color: #008080; text-decoration-color: #008080; font-weight: bold\">0.5</span><span style=\"color: #808000; text-decoration-color: #808000; font-weight: bold\">        </span>┃\n",
       "┗━━━━━━━━━━━━━━━━━━━━┻━━━━━━━━━━━━┛\n",
       "</pre>\n"
      ],
      "text/plain": [
       "\u001b[3m        Extraction Criteria        \u001b[0m\n",
       "┏━━━━━━━━━━━━━━━━━━━━┳━━━━━━━━━━━━┓\n",
       "┃\u001b[1m \u001b[0m\u001b[1mParameter         \u001b[0m\u001b[1m \u001b[0m┃\u001b[1m \u001b[0m\u001b[1mValue     \u001b[0m\u001b[1m \u001b[0m┃\n",
       "┣━━━━━━━━━━━━━━━━━━━━╋━━━━━━━━━━━━┫\n",
       "┃\u001b[1;36m \u001b[0m\u001b[1;36m🧪 Trial Mode     \u001b[0m\u001b[1;36m \u001b[0m┃\u001b[1;33m \u001b[0m\u001b[1;33m          \u001b[0m\u001b[1;33m \u001b[0m┃\n",
       "┃\u001b[1;36m \u001b[0m\u001b[1;36m📏 Trial Unit     \u001b[0m\u001b[1;36m \u001b[0m┃\u001b[1;33m \u001b[0m\u001b[1;33mWords     \u001b[0m\u001b[1;33m \u001b[0m┃\n",
       "┃\u001b[1;36m \u001b[0m\u001b[1;36m🔗 Experiment Mode\u001b[0m\u001b[1;36m \u001b[0m┃\u001b[1;33m \u001b[0m\u001b[1;33mExperiment\u001b[0m\u001b[1;33m \u001b[0m┃\n",
       "┃\u001b[1;36m \u001b[0m\u001b[1;36m🎭 Trial Boundary \u001b[0m\u001b[1;36m \u001b[0m┃\u001b[1;33m \u001b[0m\u001b[1;33mStart     \u001b[0m\u001b[1;33m \u001b[0m┃\n",
       "┃\u001b[1;36m \u001b[0m\u001b[1;36m🔬 Trial Type     \u001b[0m\u001b[1;36m \u001b[0m┃\u001b[1;33m \u001b[0m\u001b[1;33mStimulus  \u001b[0m\u001b[1;33m \u001b[0m┃\n",
       "┃\u001b[1;36m \u001b[0m\u001b[1;36m📊 Modality       \u001b[0m\u001b[1;36m \u001b[0m┃\u001b[1;33m \u001b[0m\u001b[1;33mPictures  \u001b[0m\u001b[1;33m \u001b[0m┃\n",
       "┃\u001b[1;36m \u001b[0m\u001b[1;36m⏱ Tmin            \u001b[0m\u001b[1;36m \u001b[0m┃\u001b[1;33m \u001b[0m\u001b[1;36m-0.2\u001b[0m\u001b[1;33m      \u001b[0m\u001b[1;33m \u001b[0m┃\n",
       "┃\u001b[1;36m \u001b[0m\u001b[1;36m⏳ Tmax           \u001b[0m\u001b[1;36m \u001b[0m┃\u001b[1;33m \u001b[0m\u001b[1;36m0.5\u001b[0m\u001b[1;33m       \u001b[0m\u001b[1;33m \u001b[0m┃\n",
       "┗━━━━━━━━━━━━━━━━━━━━┻━━━━━━━━━━━━┛\n"
      ]
     },
     "metadata": {},
     "output_type": "display_data"
    },
    {
     "name": "stdout",
     "output_type": "stream",
     "text": [
      "Not setting metadata\n",
      "130 matching events found\n",
      "Applying baseline correction (mode: mean)\n",
      "0 projection items activated\n",
      "Using data from preloaded Raw for 130 events and 701 original time points ...\n",
      "0 bad epochs dropped\n"
     ]
    },
    {
     "data": {
      "text/html": [
       "<pre style=\"white-space:pre;overflow-x:auto;line-height:normal;font-family:Menlo,'DejaVu Sans Mono',consolas,'Courier New',monospace\"><span style=\"color: #800000; text-decoration-color: #800000\">╭─────────────────────────────────────╮</span>\n",
       "<span style=\"color: #800000; text-decoration-color: #800000\">│</span>  <span style=\"color: #800000; text-decoration-color: #800000; font-weight: bold\">Initializing EEGEpochBuilder Class</span> <span style=\"color: #800000; text-decoration-color: #800000\">│</span>\n",
       "<span style=\"color: #800000; text-decoration-color: #800000\">╰─────────────────────────────────────╯</span>\n",
       "</pre>\n"
      ],
      "text/plain": [
       "\u001b[31m╭─────────────────────────────────────╮\u001b[0m\n",
       "\u001b[31m│\u001b[0m  \u001b[1;31mInitializing EEGEpochBuilder Class\u001b[0m \u001b[31m│\u001b[0m\n",
       "\u001b[31m╰─────────────────────────────────────╯\u001b[0m\n"
      ]
     },
     "metadata": {},
     "output_type": "display_data"
    },
    {
     "data": {
      "text/html": [
       "<pre style=\"white-space:pre;overflow-x:auto;line-height:normal;font-family:Menlo,'DejaVu Sans Mono',consolas,'Courier New',monospace\"> <span style=\"color: #008000; text-decoration-color: #008000; font-weight: bold\">Creating EPOCHS</span>\n",
       "</pre>\n"
      ],
      "text/plain": [
       " \u001b[1;32mCreating EPOCHS\u001b[0m\n"
      ]
     },
     "metadata": {},
     "output_type": "display_data"
    },
    {
     "data": {
      "text/html": [
       "<pre style=\"white-space:pre;overflow-x:auto;line-height:normal;font-family:Menlo,'DejaVu Sans Mono',consolas,'Courier New',monospace\"><span style=\"font-style: italic\">        Extraction Criteria        </span>\n",
       "┏━━━━━━━━━━━━━━━━━━━━┳━━━━━━━━━━━━┓\n",
       "┃<span style=\"font-weight: bold\"> Parameter          </span>┃<span style=\"font-weight: bold\"> Value      </span>┃\n",
       "┣━━━━━━━━━━━━━━━━━━━━╋━━━━━━━━━━━━┫\n",
       "┃<span style=\"color: #008080; text-decoration-color: #008080; font-weight: bold\"> 🧪 Trial Mode      </span>┃<span style=\"color: #808000; text-decoration-color: #808000; font-weight: bold\">            </span>┃\n",
       "┃<span style=\"color: #008080; text-decoration-color: #008080; font-weight: bold\"> 📏 Trial Unit      </span>┃<span style=\"color: #808000; text-decoration-color: #808000; font-weight: bold\"> Words      </span>┃\n",
       "┃<span style=\"color: #008080; text-decoration-color: #008080; font-weight: bold\"> 🔗 Experiment Mode </span>┃<span style=\"color: #808000; text-decoration-color: #808000; font-weight: bold\"> Experiment </span>┃\n",
       "┃<span style=\"color: #008080; text-decoration-color: #008080; font-weight: bold\"> 🎭 Trial Boundary  </span>┃<span style=\"color: #808000; text-decoration-color: #808000; font-weight: bold\"> Start      </span>┃\n",
       "┃<span style=\"color: #008080; text-decoration-color: #008080; font-weight: bold\"> 🔬 Trial Type      </span>┃<span style=\"color: #808000; text-decoration-color: #808000; font-weight: bold\"> Fixation   </span>┃\n",
       "┃<span style=\"color: #008080; text-decoration-color: #008080; font-weight: bold\"> 📊 Modality        </span>┃<span style=\"color: #808000; text-decoration-color: #808000; font-weight: bold\"> Pictures   </span>┃\n",
       "┃<span style=\"color: #008080; text-decoration-color: #008080; font-weight: bold\"> ⏱ Tmin             </span>┃<span style=\"color: #808000; text-decoration-color: #808000; font-weight: bold\"> </span><span style=\"color: #008080; text-decoration-color: #008080; font-weight: bold\">-0.2</span><span style=\"color: #808000; text-decoration-color: #808000; font-weight: bold\">       </span>┃\n",
       "┃<span style=\"color: #008080; text-decoration-color: #008080; font-weight: bold\"> ⏳ Tmax            </span>┃<span style=\"color: #808000; text-decoration-color: #808000; font-weight: bold\"> </span><span style=\"color: #008080; text-decoration-color: #008080; font-weight: bold\">0.5</span><span style=\"color: #808000; text-decoration-color: #808000; font-weight: bold\">        </span>┃\n",
       "┗━━━━━━━━━━━━━━━━━━━━┻━━━━━━━━━━━━┛\n",
       "</pre>\n"
      ],
      "text/plain": [
       "\u001b[3m        Extraction Criteria        \u001b[0m\n",
       "┏━━━━━━━━━━━━━━━━━━━━┳━━━━━━━━━━━━┓\n",
       "┃\u001b[1m \u001b[0m\u001b[1mParameter         \u001b[0m\u001b[1m \u001b[0m┃\u001b[1m \u001b[0m\u001b[1mValue     \u001b[0m\u001b[1m \u001b[0m┃\n",
       "┣━━━━━━━━━━━━━━━━━━━━╋━━━━━━━━━━━━┫\n",
       "┃\u001b[1;36m \u001b[0m\u001b[1;36m🧪 Trial Mode     \u001b[0m\u001b[1;36m \u001b[0m┃\u001b[1;33m \u001b[0m\u001b[1;33m          \u001b[0m\u001b[1;33m \u001b[0m┃\n",
       "┃\u001b[1;36m \u001b[0m\u001b[1;36m📏 Trial Unit     \u001b[0m\u001b[1;36m \u001b[0m┃\u001b[1;33m \u001b[0m\u001b[1;33mWords     \u001b[0m\u001b[1;33m \u001b[0m┃\n",
       "┃\u001b[1;36m \u001b[0m\u001b[1;36m🔗 Experiment Mode\u001b[0m\u001b[1;36m \u001b[0m┃\u001b[1;33m \u001b[0m\u001b[1;33mExperiment\u001b[0m\u001b[1;33m \u001b[0m┃\n",
       "┃\u001b[1;36m \u001b[0m\u001b[1;36m🎭 Trial Boundary \u001b[0m\u001b[1;36m \u001b[0m┃\u001b[1;33m \u001b[0m\u001b[1;33mStart     \u001b[0m\u001b[1;33m \u001b[0m┃\n",
       "┃\u001b[1;36m \u001b[0m\u001b[1;36m🔬 Trial Type     \u001b[0m\u001b[1;36m \u001b[0m┃\u001b[1;33m \u001b[0m\u001b[1;33mFixation  \u001b[0m\u001b[1;33m \u001b[0m┃\n",
       "┃\u001b[1;36m \u001b[0m\u001b[1;36m📊 Modality       \u001b[0m\u001b[1;36m \u001b[0m┃\u001b[1;33m \u001b[0m\u001b[1;33mPictures  \u001b[0m\u001b[1;33m \u001b[0m┃\n",
       "┃\u001b[1;36m \u001b[0m\u001b[1;36m⏱ Tmin            \u001b[0m\u001b[1;36m \u001b[0m┃\u001b[1;33m \u001b[0m\u001b[1;36m-0.2\u001b[0m\u001b[1;33m      \u001b[0m\u001b[1;33m \u001b[0m┃\n",
       "┃\u001b[1;36m \u001b[0m\u001b[1;36m⏳ Tmax           \u001b[0m\u001b[1;36m \u001b[0m┃\u001b[1;33m \u001b[0m\u001b[1;36m0.5\u001b[0m\u001b[1;33m       \u001b[0m\u001b[1;33m \u001b[0m┃\n",
       "┗━━━━━━━━━━━━━━━━━━━━┻━━━━━━━━━━━━┛\n"
      ]
     },
     "metadata": {},
     "output_type": "display_data"
    },
    {
     "name": "stdout",
     "output_type": "stream",
     "text": [
      "Not setting metadata\n",
      "130 matching events found\n",
      "Applying baseline correction (mode: mean)\n",
      "0 projection items activated\n",
      "Using data from preloaded Raw for 130 events and 701 original time points ...\n",
      "0 bad epochs dropped\n",
      "NOTE: pick_channels() is a legacy function. New code should use inst.pick(...).\n",
      "NOTE: pick_channels() is a legacy function. New code should use inst.pick(...).\n",
      "Visual Change P100: latency=0.120s, peak=1.41µV, mean=-0.92µV\n",
      "No Visual Change P100: latency=0.119s, peak=1.34µV, mean=-0.29µV\n",
      "Initializing Plotter\n",
      "Results saved to p100_results/sub-05_ses-01_p100_Visual Change_No Visual Change.csv\n"
     ]
    },
    {
     "data": {
      "text/html": [
       "<pre style=\"white-space:pre;overflow-x:auto;line-height:normal;font-family:Menlo,'DejaVu Sans Mono',consolas,'Courier New',monospace\"><span style=\"color: #808000; text-decoration-color: #808000\">╭─────────────────────────────────────────╮</span>\n",
       "<span style=\"color: #808000; text-decoration-color: #808000\">│</span> 🚀 <span style=\"color: #808000; text-decoration-color: #808000; font-weight: bold\">Initializing BIDSDatasetReader Class</span> <span style=\"color: #808000; text-decoration-color: #808000\">│</span>\n",
       "<span style=\"color: #808000; text-decoration-color: #808000\">╰─────────────────────────────────────────╯</span>\n",
       "</pre>\n"
      ],
      "text/plain": [
       "\u001b[33m╭─────────────────────────────────────────╮\u001b[0m\n",
       "\u001b[33m│\u001b[0m 🚀 \u001b[1;33mInitializing BIDSDatasetReader Class\u001b[0m \u001b[33m│\u001b[0m\n",
       "\u001b[33m╰─────────────────────────────────────────╯\u001b[0m\n"
      ]
     },
     "metadata": {},
     "output_type": "display_data"
    },
    {
     "data": {
      "text/html": [
       "<pre style=\"white-space:pre;overflow-x:auto;line-height:normal;font-family:Menlo,'DejaVu Sans Mono',consolas,'Courier New',monospace\"> <span style=\"color: #008000; text-decoration-color: #008000; font-weight: bold\">Loading Processed EEG Data: sub-</span><span style=\"color: #008000; text-decoration-color: #008000; font-weight: bold\">05</span><span style=\"color: #008000; text-decoration-color: #008000; font-weight: bold\"> ses-</span><span style=\"color: #008000; text-decoration-color: #008000; font-weight: bold\">02</span>\n",
       "</pre>\n"
      ],
      "text/plain": [
       " \u001b[1;32mLoading Processed EEG Data: sub-\u001b[0m\u001b[1;32m05\u001b[0m\u001b[1;32m ses-\u001b[0m\u001b[1;32m02\u001b[0m\n"
      ]
     },
     "metadata": {},
     "output_type": "display_data"
    },
    {
     "data": {
      "text/html": [
       "<pre style=\"white-space:pre;overflow-x:auto;line-height:normal;font-family:Menlo,'DejaVu Sans Mono',consolas,'Courier New',monospace\"><span style=\"color: #800000; text-decoration-color: #800000\">╭─────────────────────────────────────╮</span>\n",
       "<span style=\"color: #800000; text-decoration-color: #800000\">│</span>  <span style=\"color: #800000; text-decoration-color: #800000; font-weight: bold\">Initializing EEGEpochBuilder Class</span> <span style=\"color: #800000; text-decoration-color: #800000\">│</span>\n",
       "<span style=\"color: #800000; text-decoration-color: #800000\">╰─────────────────────────────────────╯</span>\n",
       "</pre>\n"
      ],
      "text/plain": [
       "\u001b[31m╭─────────────────────────────────────╮\u001b[0m\n",
       "\u001b[31m│\u001b[0m  \u001b[1;31mInitializing EEGEpochBuilder Class\u001b[0m \u001b[31m│\u001b[0m\n",
       "\u001b[31m╰─────────────────────────────────────╯\u001b[0m\n"
      ]
     },
     "metadata": {},
     "output_type": "display_data"
    },
    {
     "data": {
      "text/html": [
       "<pre style=\"white-space:pre;overflow-x:auto;line-height:normal;font-family:Menlo,'DejaVu Sans Mono',consolas,'Courier New',monospace\"> <span style=\"color: #008000; text-decoration-color: #008000; font-weight: bold\">Creating EPOCHS</span>\n",
       "</pre>\n"
      ],
      "text/plain": [
       " \u001b[1;32mCreating EPOCHS\u001b[0m\n"
      ]
     },
     "metadata": {},
     "output_type": "display_data"
    },
    {
     "data": {
      "text/html": [
       "<pre style=\"white-space:pre;overflow-x:auto;line-height:normal;font-family:Menlo,'DejaVu Sans Mono',consolas,'Courier New',monospace\"><span style=\"font-style: italic\">        Extraction Criteria        </span>\n",
       "┏━━━━━━━━━━━━━━━━━━━━┳━━━━━━━━━━━━┓\n",
       "┃<span style=\"font-weight: bold\"> Parameter          </span>┃<span style=\"font-weight: bold\"> Value      </span>┃\n",
       "┣━━━━━━━━━━━━━━━━━━━━╋━━━━━━━━━━━━┫\n",
       "┃<span style=\"color: #008080; text-decoration-color: #008080; font-weight: bold\"> 🧪 Trial Mode      </span>┃<span style=\"color: #808000; text-decoration-color: #808000; font-weight: bold\">            </span>┃\n",
       "┃<span style=\"color: #008080; text-decoration-color: #008080; font-weight: bold\"> 📏 Trial Unit      </span>┃<span style=\"color: #808000; text-decoration-color: #808000; font-weight: bold\"> Words      </span>┃\n",
       "┃<span style=\"color: #008080; text-decoration-color: #008080; font-weight: bold\"> 🔗 Experiment Mode </span>┃<span style=\"color: #808000; text-decoration-color: #808000; font-weight: bold\"> Experiment </span>┃\n",
       "┃<span style=\"color: #008080; text-decoration-color: #008080; font-weight: bold\"> 🎭 Trial Boundary  </span>┃<span style=\"color: #808000; text-decoration-color: #808000; font-weight: bold\"> Start      </span>┃\n",
       "┃<span style=\"color: #008080; text-decoration-color: #008080; font-weight: bold\"> 🔬 Trial Type      </span>┃<span style=\"color: #808000; text-decoration-color: #808000; font-weight: bold\"> Stimulus   </span>┃\n",
       "┃<span style=\"color: #008080; text-decoration-color: #008080; font-weight: bold\"> 📊 Modality        </span>┃<span style=\"color: #808000; text-decoration-color: #808000; font-weight: bold\"> Pictures   </span>┃\n",
       "┃<span style=\"color: #008080; text-decoration-color: #008080; font-weight: bold\"> ⏱ Tmin             </span>┃<span style=\"color: #808000; text-decoration-color: #808000; font-weight: bold\"> </span><span style=\"color: #008080; text-decoration-color: #008080; font-weight: bold\">-0.2</span><span style=\"color: #808000; text-decoration-color: #808000; font-weight: bold\">       </span>┃\n",
       "┃<span style=\"color: #008080; text-decoration-color: #008080; font-weight: bold\"> ⏳ Tmax            </span>┃<span style=\"color: #808000; text-decoration-color: #808000; font-weight: bold\"> </span><span style=\"color: #008080; text-decoration-color: #008080; font-weight: bold\">0.5</span><span style=\"color: #808000; text-decoration-color: #808000; font-weight: bold\">        </span>┃\n",
       "┗━━━━━━━━━━━━━━━━━━━━┻━━━━━━━━━━━━┛\n",
       "</pre>\n"
      ],
      "text/plain": [
       "\u001b[3m        Extraction Criteria        \u001b[0m\n",
       "┏━━━━━━━━━━━━━━━━━━━━┳━━━━━━━━━━━━┓\n",
       "┃\u001b[1m \u001b[0m\u001b[1mParameter         \u001b[0m\u001b[1m \u001b[0m┃\u001b[1m \u001b[0m\u001b[1mValue     \u001b[0m\u001b[1m \u001b[0m┃\n",
       "┣━━━━━━━━━━━━━━━━━━━━╋━━━━━━━━━━━━┫\n",
       "┃\u001b[1;36m \u001b[0m\u001b[1;36m🧪 Trial Mode     \u001b[0m\u001b[1;36m \u001b[0m┃\u001b[1;33m \u001b[0m\u001b[1;33m          \u001b[0m\u001b[1;33m \u001b[0m┃\n",
       "┃\u001b[1;36m \u001b[0m\u001b[1;36m📏 Trial Unit     \u001b[0m\u001b[1;36m \u001b[0m┃\u001b[1;33m \u001b[0m\u001b[1;33mWords     \u001b[0m\u001b[1;33m \u001b[0m┃\n",
       "┃\u001b[1;36m \u001b[0m\u001b[1;36m🔗 Experiment Mode\u001b[0m\u001b[1;36m \u001b[0m┃\u001b[1;33m \u001b[0m\u001b[1;33mExperiment\u001b[0m\u001b[1;33m \u001b[0m┃\n",
       "┃\u001b[1;36m \u001b[0m\u001b[1;36m🎭 Trial Boundary \u001b[0m\u001b[1;36m \u001b[0m┃\u001b[1;33m \u001b[0m\u001b[1;33mStart     \u001b[0m\u001b[1;33m \u001b[0m┃\n",
       "┃\u001b[1;36m \u001b[0m\u001b[1;36m🔬 Trial Type     \u001b[0m\u001b[1;36m \u001b[0m┃\u001b[1;33m \u001b[0m\u001b[1;33mStimulus  \u001b[0m\u001b[1;33m \u001b[0m┃\n",
       "┃\u001b[1;36m \u001b[0m\u001b[1;36m📊 Modality       \u001b[0m\u001b[1;36m \u001b[0m┃\u001b[1;33m \u001b[0m\u001b[1;33mPictures  \u001b[0m\u001b[1;33m \u001b[0m┃\n",
       "┃\u001b[1;36m \u001b[0m\u001b[1;36m⏱ Tmin            \u001b[0m\u001b[1;36m \u001b[0m┃\u001b[1;33m \u001b[0m\u001b[1;36m-0.2\u001b[0m\u001b[1;33m      \u001b[0m\u001b[1;33m \u001b[0m┃\n",
       "┃\u001b[1;36m \u001b[0m\u001b[1;36m⏳ Tmax           \u001b[0m\u001b[1;36m \u001b[0m┃\u001b[1;33m \u001b[0m\u001b[1;36m0.5\u001b[0m\u001b[1;33m       \u001b[0m\u001b[1;33m \u001b[0m┃\n",
       "┗━━━━━━━━━━━━━━━━━━━━┻━━━━━━━━━━━━┛\n"
      ]
     },
     "metadata": {},
     "output_type": "display_data"
    },
    {
     "name": "stdout",
     "output_type": "stream",
     "text": [
      "Not setting metadata\n",
      "130 matching events found\n",
      "Applying baseline correction (mode: mean)\n",
      "0 projection items activated\n",
      "Using data from preloaded Raw for 130 events and 701 original time points ...\n",
      "0 bad epochs dropped\n"
     ]
    },
    {
     "data": {
      "text/html": [
       "<pre style=\"white-space:pre;overflow-x:auto;line-height:normal;font-family:Menlo,'DejaVu Sans Mono',consolas,'Courier New',monospace\"><span style=\"color: #800000; text-decoration-color: #800000\">╭─────────────────────────────────────╮</span>\n",
       "<span style=\"color: #800000; text-decoration-color: #800000\">│</span>  <span style=\"color: #800000; text-decoration-color: #800000; font-weight: bold\">Initializing EEGEpochBuilder Class</span> <span style=\"color: #800000; text-decoration-color: #800000\">│</span>\n",
       "<span style=\"color: #800000; text-decoration-color: #800000\">╰─────────────────────────────────────╯</span>\n",
       "</pre>\n"
      ],
      "text/plain": [
       "\u001b[31m╭─────────────────────────────────────╮\u001b[0m\n",
       "\u001b[31m│\u001b[0m  \u001b[1;31mInitializing EEGEpochBuilder Class\u001b[0m \u001b[31m│\u001b[0m\n",
       "\u001b[31m╰─────────────────────────────────────╯\u001b[0m\n"
      ]
     },
     "metadata": {},
     "output_type": "display_data"
    },
    {
     "data": {
      "text/html": [
       "<pre style=\"white-space:pre;overflow-x:auto;line-height:normal;font-family:Menlo,'DejaVu Sans Mono',consolas,'Courier New',monospace\"> <span style=\"color: #008000; text-decoration-color: #008000; font-weight: bold\">Creating EPOCHS</span>\n",
       "</pre>\n"
      ],
      "text/plain": [
       " \u001b[1;32mCreating EPOCHS\u001b[0m\n"
      ]
     },
     "metadata": {},
     "output_type": "display_data"
    },
    {
     "data": {
      "text/html": [
       "<pre style=\"white-space:pre;overflow-x:auto;line-height:normal;font-family:Menlo,'DejaVu Sans Mono',consolas,'Courier New',monospace\"><span style=\"font-style: italic\">        Extraction Criteria        </span>\n",
       "┏━━━━━━━━━━━━━━━━━━━━┳━━━━━━━━━━━━┓\n",
       "┃<span style=\"font-weight: bold\"> Parameter          </span>┃<span style=\"font-weight: bold\"> Value      </span>┃\n",
       "┣━━━━━━━━━━━━━━━━━━━━╋━━━━━━━━━━━━┫\n",
       "┃<span style=\"color: #008080; text-decoration-color: #008080; font-weight: bold\"> 🧪 Trial Mode      </span>┃<span style=\"color: #808000; text-decoration-color: #808000; font-weight: bold\">            </span>┃\n",
       "┃<span style=\"color: #008080; text-decoration-color: #008080; font-weight: bold\"> 📏 Trial Unit      </span>┃<span style=\"color: #808000; text-decoration-color: #808000; font-weight: bold\"> Words      </span>┃\n",
       "┃<span style=\"color: #008080; text-decoration-color: #008080; font-weight: bold\"> 🔗 Experiment Mode </span>┃<span style=\"color: #808000; text-decoration-color: #808000; font-weight: bold\"> Experiment </span>┃\n",
       "┃<span style=\"color: #008080; text-decoration-color: #008080; font-weight: bold\"> 🎭 Trial Boundary  </span>┃<span style=\"color: #808000; text-decoration-color: #808000; font-weight: bold\"> Start      </span>┃\n",
       "┃<span style=\"color: #008080; text-decoration-color: #008080; font-weight: bold\"> 🔬 Trial Type      </span>┃<span style=\"color: #808000; text-decoration-color: #808000; font-weight: bold\"> Fixation   </span>┃\n",
       "┃<span style=\"color: #008080; text-decoration-color: #008080; font-weight: bold\"> 📊 Modality        </span>┃<span style=\"color: #808000; text-decoration-color: #808000; font-weight: bold\"> Pictures   </span>┃\n",
       "┃<span style=\"color: #008080; text-decoration-color: #008080; font-weight: bold\"> ⏱ Tmin             </span>┃<span style=\"color: #808000; text-decoration-color: #808000; font-weight: bold\"> </span><span style=\"color: #008080; text-decoration-color: #008080; font-weight: bold\">-0.2</span><span style=\"color: #808000; text-decoration-color: #808000; font-weight: bold\">       </span>┃\n",
       "┃<span style=\"color: #008080; text-decoration-color: #008080; font-weight: bold\"> ⏳ Tmax            </span>┃<span style=\"color: #808000; text-decoration-color: #808000; font-weight: bold\"> </span><span style=\"color: #008080; text-decoration-color: #008080; font-weight: bold\">0.5</span><span style=\"color: #808000; text-decoration-color: #808000; font-weight: bold\">        </span>┃\n",
       "┗━━━━━━━━━━━━━━━━━━━━┻━━━━━━━━━━━━┛\n",
       "</pre>\n"
      ],
      "text/plain": [
       "\u001b[3m        Extraction Criteria        \u001b[0m\n",
       "┏━━━━━━━━━━━━━━━━━━━━┳━━━━━━━━━━━━┓\n",
       "┃\u001b[1m \u001b[0m\u001b[1mParameter         \u001b[0m\u001b[1m \u001b[0m┃\u001b[1m \u001b[0m\u001b[1mValue     \u001b[0m\u001b[1m \u001b[0m┃\n",
       "┣━━━━━━━━━━━━━━━━━━━━╋━━━━━━━━━━━━┫\n",
       "┃\u001b[1;36m \u001b[0m\u001b[1;36m🧪 Trial Mode     \u001b[0m\u001b[1;36m \u001b[0m┃\u001b[1;33m \u001b[0m\u001b[1;33m          \u001b[0m\u001b[1;33m \u001b[0m┃\n",
       "┃\u001b[1;36m \u001b[0m\u001b[1;36m📏 Trial Unit     \u001b[0m\u001b[1;36m \u001b[0m┃\u001b[1;33m \u001b[0m\u001b[1;33mWords     \u001b[0m\u001b[1;33m \u001b[0m┃\n",
       "┃\u001b[1;36m \u001b[0m\u001b[1;36m🔗 Experiment Mode\u001b[0m\u001b[1;36m \u001b[0m┃\u001b[1;33m \u001b[0m\u001b[1;33mExperiment\u001b[0m\u001b[1;33m \u001b[0m┃\n",
       "┃\u001b[1;36m \u001b[0m\u001b[1;36m🎭 Trial Boundary \u001b[0m\u001b[1;36m \u001b[0m┃\u001b[1;33m \u001b[0m\u001b[1;33mStart     \u001b[0m\u001b[1;33m \u001b[0m┃\n",
       "┃\u001b[1;36m \u001b[0m\u001b[1;36m🔬 Trial Type     \u001b[0m\u001b[1;36m \u001b[0m┃\u001b[1;33m \u001b[0m\u001b[1;33mFixation  \u001b[0m\u001b[1;33m \u001b[0m┃\n",
       "┃\u001b[1;36m \u001b[0m\u001b[1;36m📊 Modality       \u001b[0m\u001b[1;36m \u001b[0m┃\u001b[1;33m \u001b[0m\u001b[1;33mPictures  \u001b[0m\u001b[1;33m \u001b[0m┃\n",
       "┃\u001b[1;36m \u001b[0m\u001b[1;36m⏱ Tmin            \u001b[0m\u001b[1;36m \u001b[0m┃\u001b[1;33m \u001b[0m\u001b[1;36m-0.2\u001b[0m\u001b[1;33m      \u001b[0m\u001b[1;33m \u001b[0m┃\n",
       "┃\u001b[1;36m \u001b[0m\u001b[1;36m⏳ Tmax           \u001b[0m\u001b[1;36m \u001b[0m┃\u001b[1;33m \u001b[0m\u001b[1;36m0.5\u001b[0m\u001b[1;33m       \u001b[0m\u001b[1;33m \u001b[0m┃\n",
       "┗━━━━━━━━━━━━━━━━━━━━┻━━━━━━━━━━━━┛\n"
      ]
     },
     "metadata": {},
     "output_type": "display_data"
    },
    {
     "name": "stdout",
     "output_type": "stream",
     "text": [
      "Not setting metadata\n",
      "130 matching events found\n",
      "Applying baseline correction (mode: mean)\n",
      "0 projection items activated\n",
      "Using data from preloaded Raw for 130 events and 701 original time points ...\n",
      "0 bad epochs dropped\n",
      "NOTE: pick_channels() is a legacy function. New code should use inst.pick(...).\n",
      "NOTE: pick_channels() is a legacy function. New code should use inst.pick(...).\n",
      "Visual Change P100: latency=0.120s, peak=1.63µV, mean=-1.51µV\n",
      "No Visual Change P100: latency=0.120s, peak=0.57µV, mean=-0.74µV\n",
      "Initializing Plotter\n",
      "Results saved to p100_results/sub-05_ses-02_p100_Visual Change_No Visual Change.csv\n"
     ]
    },
    {
     "data": {
      "text/html": [
       "<pre style=\"white-space:pre;overflow-x:auto;line-height:normal;font-family:Menlo,'DejaVu Sans Mono',consolas,'Courier New',monospace\"><span style=\"color: #808000; text-decoration-color: #808000\">╭─────────────────────────────────────────╮</span>\n",
       "<span style=\"color: #808000; text-decoration-color: #808000\">│</span> 🚀 <span style=\"color: #808000; text-decoration-color: #808000; font-weight: bold\">Initializing BIDSDatasetReader Class</span> <span style=\"color: #808000; text-decoration-color: #808000\">│</span>\n",
       "<span style=\"color: #808000; text-decoration-color: #808000\">╰─────────────────────────────────────────╯</span>\n",
       "</pre>\n"
      ],
      "text/plain": [
       "\u001b[33m╭─────────────────────────────────────────╮\u001b[0m\n",
       "\u001b[33m│\u001b[0m 🚀 \u001b[1;33mInitializing BIDSDatasetReader Class\u001b[0m \u001b[33m│\u001b[0m\n",
       "\u001b[33m╰─────────────────────────────────────────╯\u001b[0m\n"
      ]
     },
     "metadata": {},
     "output_type": "display_data"
    },
    {
     "data": {
      "text/html": [
       "<pre style=\"white-space:pre;overflow-x:auto;line-height:normal;font-family:Menlo,'DejaVu Sans Mono',consolas,'Courier New',monospace\"> <span style=\"color: #008000; text-decoration-color: #008000; font-weight: bold\">Loading Processed EEG Data: sub-</span><span style=\"color: #008000; text-decoration-color: #008000; font-weight: bold\">06</span><span style=\"color: #008000; text-decoration-color: #008000; font-weight: bold\"> ses-</span><span style=\"color: #008000; text-decoration-color: #008000; font-weight: bold\">01</span>\n",
       "</pre>\n"
      ],
      "text/plain": [
       " \u001b[1;32mLoading Processed EEG Data: sub-\u001b[0m\u001b[1;32m06\u001b[0m\u001b[1;32m ses-\u001b[0m\u001b[1;32m01\u001b[0m\n"
      ]
     },
     "metadata": {},
     "output_type": "display_data"
    },
    {
     "data": {
      "text/html": [
       "<pre style=\"white-space:pre;overflow-x:auto;line-height:normal;font-family:Menlo,'DejaVu Sans Mono',consolas,'Courier New',monospace\"><span style=\"color: #800000; text-decoration-color: #800000\">╭─────────────────────────────────────╮</span>\n",
       "<span style=\"color: #800000; text-decoration-color: #800000\">│</span>  <span style=\"color: #800000; text-decoration-color: #800000; font-weight: bold\">Initializing EEGEpochBuilder Class</span> <span style=\"color: #800000; text-decoration-color: #800000\">│</span>\n",
       "<span style=\"color: #800000; text-decoration-color: #800000\">╰─────────────────────────────────────╯</span>\n",
       "</pre>\n"
      ],
      "text/plain": [
       "\u001b[31m╭─────────────────────────────────────╮\u001b[0m\n",
       "\u001b[31m│\u001b[0m  \u001b[1;31mInitializing EEGEpochBuilder Class\u001b[0m \u001b[31m│\u001b[0m\n",
       "\u001b[31m╰─────────────────────────────────────╯\u001b[0m\n"
      ]
     },
     "metadata": {},
     "output_type": "display_data"
    },
    {
     "data": {
      "text/html": [
       "<pre style=\"white-space:pre;overflow-x:auto;line-height:normal;font-family:Menlo,'DejaVu Sans Mono',consolas,'Courier New',monospace\"> <span style=\"color: #008000; text-decoration-color: #008000; font-weight: bold\">Creating EPOCHS</span>\n",
       "</pre>\n"
      ],
      "text/plain": [
       " \u001b[1;32mCreating EPOCHS\u001b[0m\n"
      ]
     },
     "metadata": {},
     "output_type": "display_data"
    },
    {
     "data": {
      "text/html": [
       "<pre style=\"white-space:pre;overflow-x:auto;line-height:normal;font-family:Menlo,'DejaVu Sans Mono',consolas,'Courier New',monospace\"><span style=\"font-style: italic\">        Extraction Criteria        </span>\n",
       "┏━━━━━━━━━━━━━━━━━━━━┳━━━━━━━━━━━━┓\n",
       "┃<span style=\"font-weight: bold\"> Parameter          </span>┃<span style=\"font-weight: bold\"> Value      </span>┃\n",
       "┣━━━━━━━━━━━━━━━━━━━━╋━━━━━━━━━━━━┫\n",
       "┃<span style=\"color: #008080; text-decoration-color: #008080; font-weight: bold\"> 🧪 Trial Mode      </span>┃<span style=\"color: #808000; text-decoration-color: #808000; font-weight: bold\">            </span>┃\n",
       "┃<span style=\"color: #008080; text-decoration-color: #008080; font-weight: bold\"> 📏 Trial Unit      </span>┃<span style=\"color: #808000; text-decoration-color: #808000; font-weight: bold\"> Words      </span>┃\n",
       "┃<span style=\"color: #008080; text-decoration-color: #008080; font-weight: bold\"> 🔗 Experiment Mode </span>┃<span style=\"color: #808000; text-decoration-color: #808000; font-weight: bold\"> Experiment </span>┃\n",
       "┃<span style=\"color: #008080; text-decoration-color: #008080; font-weight: bold\"> 🎭 Trial Boundary  </span>┃<span style=\"color: #808000; text-decoration-color: #808000; font-weight: bold\"> Start      </span>┃\n",
       "┃<span style=\"color: #008080; text-decoration-color: #008080; font-weight: bold\"> 🔬 Trial Type      </span>┃<span style=\"color: #808000; text-decoration-color: #808000; font-weight: bold\"> Stimulus   </span>┃\n",
       "┃<span style=\"color: #008080; text-decoration-color: #008080; font-weight: bold\"> 📊 Modality        </span>┃<span style=\"color: #808000; text-decoration-color: #808000; font-weight: bold\"> Pictures   </span>┃\n",
       "┃<span style=\"color: #008080; text-decoration-color: #008080; font-weight: bold\"> ⏱ Tmin             </span>┃<span style=\"color: #808000; text-decoration-color: #808000; font-weight: bold\"> </span><span style=\"color: #008080; text-decoration-color: #008080; font-weight: bold\">-0.2</span><span style=\"color: #808000; text-decoration-color: #808000; font-weight: bold\">       </span>┃\n",
       "┃<span style=\"color: #008080; text-decoration-color: #008080; font-weight: bold\"> ⏳ Tmax            </span>┃<span style=\"color: #808000; text-decoration-color: #808000; font-weight: bold\"> </span><span style=\"color: #008080; text-decoration-color: #008080; font-weight: bold\">0.5</span><span style=\"color: #808000; text-decoration-color: #808000; font-weight: bold\">        </span>┃\n",
       "┗━━━━━━━━━━━━━━━━━━━━┻━━━━━━━━━━━━┛\n",
       "</pre>\n"
      ],
      "text/plain": [
       "\u001b[3m        Extraction Criteria        \u001b[0m\n",
       "┏━━━━━━━━━━━━━━━━━━━━┳━━━━━━━━━━━━┓\n",
       "┃\u001b[1m \u001b[0m\u001b[1mParameter         \u001b[0m\u001b[1m \u001b[0m┃\u001b[1m \u001b[0m\u001b[1mValue     \u001b[0m\u001b[1m \u001b[0m┃\n",
       "┣━━━━━━━━━━━━━━━━━━━━╋━━━━━━━━━━━━┫\n",
       "┃\u001b[1;36m \u001b[0m\u001b[1;36m🧪 Trial Mode     \u001b[0m\u001b[1;36m \u001b[0m┃\u001b[1;33m \u001b[0m\u001b[1;33m          \u001b[0m\u001b[1;33m \u001b[0m┃\n",
       "┃\u001b[1;36m \u001b[0m\u001b[1;36m📏 Trial Unit     \u001b[0m\u001b[1;36m \u001b[0m┃\u001b[1;33m \u001b[0m\u001b[1;33mWords     \u001b[0m\u001b[1;33m \u001b[0m┃\n",
       "┃\u001b[1;36m \u001b[0m\u001b[1;36m🔗 Experiment Mode\u001b[0m\u001b[1;36m \u001b[0m┃\u001b[1;33m \u001b[0m\u001b[1;33mExperiment\u001b[0m\u001b[1;33m \u001b[0m┃\n",
       "┃\u001b[1;36m \u001b[0m\u001b[1;36m🎭 Trial Boundary \u001b[0m\u001b[1;36m \u001b[0m┃\u001b[1;33m \u001b[0m\u001b[1;33mStart     \u001b[0m\u001b[1;33m \u001b[0m┃\n",
       "┃\u001b[1;36m \u001b[0m\u001b[1;36m🔬 Trial Type     \u001b[0m\u001b[1;36m \u001b[0m┃\u001b[1;33m \u001b[0m\u001b[1;33mStimulus  \u001b[0m\u001b[1;33m \u001b[0m┃\n",
       "┃\u001b[1;36m \u001b[0m\u001b[1;36m📊 Modality       \u001b[0m\u001b[1;36m \u001b[0m┃\u001b[1;33m \u001b[0m\u001b[1;33mPictures  \u001b[0m\u001b[1;33m \u001b[0m┃\n",
       "┃\u001b[1;36m \u001b[0m\u001b[1;36m⏱ Tmin            \u001b[0m\u001b[1;36m \u001b[0m┃\u001b[1;33m \u001b[0m\u001b[1;36m-0.2\u001b[0m\u001b[1;33m      \u001b[0m\u001b[1;33m \u001b[0m┃\n",
       "┃\u001b[1;36m \u001b[0m\u001b[1;36m⏳ Tmax           \u001b[0m\u001b[1;36m \u001b[0m┃\u001b[1;33m \u001b[0m\u001b[1;36m0.5\u001b[0m\u001b[1;33m       \u001b[0m\u001b[1;33m \u001b[0m┃\n",
       "┗━━━━━━━━━━━━━━━━━━━━┻━━━━━━━━━━━━┛\n"
      ]
     },
     "metadata": {},
     "output_type": "display_data"
    },
    {
     "name": "stdout",
     "output_type": "stream",
     "text": [
      "Not setting metadata\n",
      "130 matching events found\n",
      "Applying baseline correction (mode: mean)\n",
      "0 projection items activated\n",
      "Using data from preloaded Raw for 130 events and 701 original time points ...\n",
      "0 bad epochs dropped\n"
     ]
    },
    {
     "data": {
      "text/html": [
       "<pre style=\"white-space:pre;overflow-x:auto;line-height:normal;font-family:Menlo,'DejaVu Sans Mono',consolas,'Courier New',monospace\"><span style=\"color: #800000; text-decoration-color: #800000\">╭─────────────────────────────────────╮</span>\n",
       "<span style=\"color: #800000; text-decoration-color: #800000\">│</span>  <span style=\"color: #800000; text-decoration-color: #800000; font-weight: bold\">Initializing EEGEpochBuilder Class</span> <span style=\"color: #800000; text-decoration-color: #800000\">│</span>\n",
       "<span style=\"color: #800000; text-decoration-color: #800000\">╰─────────────────────────────────────╯</span>\n",
       "</pre>\n"
      ],
      "text/plain": [
       "\u001b[31m╭─────────────────────────────────────╮\u001b[0m\n",
       "\u001b[31m│\u001b[0m  \u001b[1;31mInitializing EEGEpochBuilder Class\u001b[0m \u001b[31m│\u001b[0m\n",
       "\u001b[31m╰─────────────────────────────────────╯\u001b[0m\n"
      ]
     },
     "metadata": {},
     "output_type": "display_data"
    },
    {
     "data": {
      "text/html": [
       "<pre style=\"white-space:pre;overflow-x:auto;line-height:normal;font-family:Menlo,'DejaVu Sans Mono',consolas,'Courier New',monospace\"> <span style=\"color: #008000; text-decoration-color: #008000; font-weight: bold\">Creating EPOCHS</span>\n",
       "</pre>\n"
      ],
      "text/plain": [
       " \u001b[1;32mCreating EPOCHS\u001b[0m\n"
      ]
     },
     "metadata": {},
     "output_type": "display_data"
    },
    {
     "data": {
      "text/html": [
       "<pre style=\"white-space:pre;overflow-x:auto;line-height:normal;font-family:Menlo,'DejaVu Sans Mono',consolas,'Courier New',monospace\"><span style=\"font-style: italic\">        Extraction Criteria        </span>\n",
       "┏━━━━━━━━━━━━━━━━━━━━┳━━━━━━━━━━━━┓\n",
       "┃<span style=\"font-weight: bold\"> Parameter          </span>┃<span style=\"font-weight: bold\"> Value      </span>┃\n",
       "┣━━━━━━━━━━━━━━━━━━━━╋━━━━━━━━━━━━┫\n",
       "┃<span style=\"color: #008080; text-decoration-color: #008080; font-weight: bold\"> 🧪 Trial Mode      </span>┃<span style=\"color: #808000; text-decoration-color: #808000; font-weight: bold\">            </span>┃\n",
       "┃<span style=\"color: #008080; text-decoration-color: #008080; font-weight: bold\"> 📏 Trial Unit      </span>┃<span style=\"color: #808000; text-decoration-color: #808000; font-weight: bold\"> Words      </span>┃\n",
       "┃<span style=\"color: #008080; text-decoration-color: #008080; font-weight: bold\"> 🔗 Experiment Mode </span>┃<span style=\"color: #808000; text-decoration-color: #808000; font-weight: bold\"> Experiment </span>┃\n",
       "┃<span style=\"color: #008080; text-decoration-color: #008080; font-weight: bold\"> 🎭 Trial Boundary  </span>┃<span style=\"color: #808000; text-decoration-color: #808000; font-weight: bold\"> Start      </span>┃\n",
       "┃<span style=\"color: #008080; text-decoration-color: #008080; font-weight: bold\"> 🔬 Trial Type      </span>┃<span style=\"color: #808000; text-decoration-color: #808000; font-weight: bold\"> Fixation   </span>┃\n",
       "┃<span style=\"color: #008080; text-decoration-color: #008080; font-weight: bold\"> 📊 Modality        </span>┃<span style=\"color: #808000; text-decoration-color: #808000; font-weight: bold\"> Pictures   </span>┃\n",
       "┃<span style=\"color: #008080; text-decoration-color: #008080; font-weight: bold\"> ⏱ Tmin             </span>┃<span style=\"color: #808000; text-decoration-color: #808000; font-weight: bold\"> </span><span style=\"color: #008080; text-decoration-color: #008080; font-weight: bold\">-0.2</span><span style=\"color: #808000; text-decoration-color: #808000; font-weight: bold\">       </span>┃\n",
       "┃<span style=\"color: #008080; text-decoration-color: #008080; font-weight: bold\"> ⏳ Tmax            </span>┃<span style=\"color: #808000; text-decoration-color: #808000; font-weight: bold\"> </span><span style=\"color: #008080; text-decoration-color: #008080; font-weight: bold\">0.5</span><span style=\"color: #808000; text-decoration-color: #808000; font-weight: bold\">        </span>┃\n",
       "┗━━━━━━━━━━━━━━━━━━━━┻━━━━━━━━━━━━┛\n",
       "</pre>\n"
      ],
      "text/plain": [
       "\u001b[3m        Extraction Criteria        \u001b[0m\n",
       "┏━━━━━━━━━━━━━━━━━━━━┳━━━━━━━━━━━━┓\n",
       "┃\u001b[1m \u001b[0m\u001b[1mParameter         \u001b[0m\u001b[1m \u001b[0m┃\u001b[1m \u001b[0m\u001b[1mValue     \u001b[0m\u001b[1m \u001b[0m┃\n",
       "┣━━━━━━━━━━━━━━━━━━━━╋━━━━━━━━━━━━┫\n",
       "┃\u001b[1;36m \u001b[0m\u001b[1;36m🧪 Trial Mode     \u001b[0m\u001b[1;36m \u001b[0m┃\u001b[1;33m \u001b[0m\u001b[1;33m          \u001b[0m\u001b[1;33m \u001b[0m┃\n",
       "┃\u001b[1;36m \u001b[0m\u001b[1;36m📏 Trial Unit     \u001b[0m\u001b[1;36m \u001b[0m┃\u001b[1;33m \u001b[0m\u001b[1;33mWords     \u001b[0m\u001b[1;33m \u001b[0m┃\n",
       "┃\u001b[1;36m \u001b[0m\u001b[1;36m🔗 Experiment Mode\u001b[0m\u001b[1;36m \u001b[0m┃\u001b[1;33m \u001b[0m\u001b[1;33mExperiment\u001b[0m\u001b[1;33m \u001b[0m┃\n",
       "┃\u001b[1;36m \u001b[0m\u001b[1;36m🎭 Trial Boundary \u001b[0m\u001b[1;36m \u001b[0m┃\u001b[1;33m \u001b[0m\u001b[1;33mStart     \u001b[0m\u001b[1;33m \u001b[0m┃\n",
       "┃\u001b[1;36m \u001b[0m\u001b[1;36m🔬 Trial Type     \u001b[0m\u001b[1;36m \u001b[0m┃\u001b[1;33m \u001b[0m\u001b[1;33mFixation  \u001b[0m\u001b[1;33m \u001b[0m┃\n",
       "┃\u001b[1;36m \u001b[0m\u001b[1;36m📊 Modality       \u001b[0m\u001b[1;36m \u001b[0m┃\u001b[1;33m \u001b[0m\u001b[1;33mPictures  \u001b[0m\u001b[1;33m \u001b[0m┃\n",
       "┃\u001b[1;36m \u001b[0m\u001b[1;36m⏱ Tmin            \u001b[0m\u001b[1;36m \u001b[0m┃\u001b[1;33m \u001b[0m\u001b[1;36m-0.2\u001b[0m\u001b[1;33m      \u001b[0m\u001b[1;33m \u001b[0m┃\n",
       "┃\u001b[1;36m \u001b[0m\u001b[1;36m⏳ Tmax           \u001b[0m\u001b[1;36m \u001b[0m┃\u001b[1;33m \u001b[0m\u001b[1;36m0.5\u001b[0m\u001b[1;33m       \u001b[0m\u001b[1;33m \u001b[0m┃\n",
       "┗━━━━━━━━━━━━━━━━━━━━┻━━━━━━━━━━━━┛\n"
      ]
     },
     "metadata": {},
     "output_type": "display_data"
    },
    {
     "name": "stdout",
     "output_type": "stream",
     "text": [
      "Not setting metadata\n",
      "130 matching events found\n",
      "Applying baseline correction (mode: mean)\n",
      "0 projection items activated\n",
      "Using data from preloaded Raw for 130 events and 701 original time points ...\n",
      "0 bad epochs dropped\n",
      "NOTE: pick_channels() is a legacy function. New code should use inst.pick(...).\n",
      "NOTE: pick_channels() is a legacy function. New code should use inst.pick(...).\n",
      "Visual Change P100: latency=0.120s, peak=8.48µV, mean=4.58µV\n",
      "No Visual Change P100: latency=0.120s, peak=-4.02µV, mean=-5.09µV\n",
      "Initializing Plotter\n",
      "Results saved to p100_results/sub-06_ses-01_p100_Visual Change_No Visual Change.csv\n"
     ]
    },
    {
     "data": {
      "text/html": [
       "<pre style=\"white-space:pre;overflow-x:auto;line-height:normal;font-family:Menlo,'DejaVu Sans Mono',consolas,'Courier New',monospace\"><span style=\"color: #808000; text-decoration-color: #808000\">╭─────────────────────────────────────────╮</span>\n",
       "<span style=\"color: #808000; text-decoration-color: #808000\">│</span> 🚀 <span style=\"color: #808000; text-decoration-color: #808000; font-weight: bold\">Initializing BIDSDatasetReader Class</span> <span style=\"color: #808000; text-decoration-color: #808000\">│</span>\n",
       "<span style=\"color: #808000; text-decoration-color: #808000\">╰─────────────────────────────────────────╯</span>\n",
       "</pre>\n"
      ],
      "text/plain": [
       "\u001b[33m╭─────────────────────────────────────────╮\u001b[0m\n",
       "\u001b[33m│\u001b[0m 🚀 \u001b[1;33mInitializing BIDSDatasetReader Class\u001b[0m \u001b[33m│\u001b[0m\n",
       "\u001b[33m╰─────────────────────────────────────────╯\u001b[0m\n"
      ]
     },
     "metadata": {},
     "output_type": "display_data"
    },
    {
     "data": {
      "text/html": [
       "<pre style=\"white-space:pre;overflow-x:auto;line-height:normal;font-family:Menlo,'DejaVu Sans Mono',consolas,'Courier New',monospace\"> <span style=\"color: #008000; text-decoration-color: #008000; font-weight: bold\">Loading Processed EEG Data: sub-</span><span style=\"color: #008000; text-decoration-color: #008000; font-weight: bold\">06</span><span style=\"color: #008000; text-decoration-color: #008000; font-weight: bold\"> ses-</span><span style=\"color: #008000; text-decoration-color: #008000; font-weight: bold\">02</span>\n",
       "</pre>\n"
      ],
      "text/plain": [
       " \u001b[1;32mLoading Processed EEG Data: sub-\u001b[0m\u001b[1;32m06\u001b[0m\u001b[1;32m ses-\u001b[0m\u001b[1;32m02\u001b[0m\n"
      ]
     },
     "metadata": {},
     "output_type": "display_data"
    },
    {
     "data": {
      "text/html": [
       "<pre style=\"white-space:pre;overflow-x:auto;line-height:normal;font-family:Menlo,'DejaVu Sans Mono',consolas,'Courier New',monospace\"><span style=\"color: #800000; text-decoration-color: #800000\">╭─────────────────────────────────────╮</span>\n",
       "<span style=\"color: #800000; text-decoration-color: #800000\">│</span>  <span style=\"color: #800000; text-decoration-color: #800000; font-weight: bold\">Initializing EEGEpochBuilder Class</span> <span style=\"color: #800000; text-decoration-color: #800000\">│</span>\n",
       "<span style=\"color: #800000; text-decoration-color: #800000\">╰─────────────────────────────────────╯</span>\n",
       "</pre>\n"
      ],
      "text/plain": [
       "\u001b[31m╭─────────────────────────────────────╮\u001b[0m\n",
       "\u001b[31m│\u001b[0m  \u001b[1;31mInitializing EEGEpochBuilder Class\u001b[0m \u001b[31m│\u001b[0m\n",
       "\u001b[31m╰─────────────────────────────────────╯\u001b[0m\n"
      ]
     },
     "metadata": {},
     "output_type": "display_data"
    },
    {
     "data": {
      "text/html": [
       "<pre style=\"white-space:pre;overflow-x:auto;line-height:normal;font-family:Menlo,'DejaVu Sans Mono',consolas,'Courier New',monospace\"> <span style=\"color: #008000; text-decoration-color: #008000; font-weight: bold\">Creating EPOCHS</span>\n",
       "</pre>\n"
      ],
      "text/plain": [
       " \u001b[1;32mCreating EPOCHS\u001b[0m\n"
      ]
     },
     "metadata": {},
     "output_type": "display_data"
    },
    {
     "data": {
      "text/html": [
       "<pre style=\"white-space:pre;overflow-x:auto;line-height:normal;font-family:Menlo,'DejaVu Sans Mono',consolas,'Courier New',monospace\"><span style=\"font-style: italic\">        Extraction Criteria        </span>\n",
       "┏━━━━━━━━━━━━━━━━━━━━┳━━━━━━━━━━━━┓\n",
       "┃<span style=\"font-weight: bold\"> Parameter          </span>┃<span style=\"font-weight: bold\"> Value      </span>┃\n",
       "┣━━━━━━━━━━━━━━━━━━━━╋━━━━━━━━━━━━┫\n",
       "┃<span style=\"color: #008080; text-decoration-color: #008080; font-weight: bold\"> 🧪 Trial Mode      </span>┃<span style=\"color: #808000; text-decoration-color: #808000; font-weight: bold\">            </span>┃\n",
       "┃<span style=\"color: #008080; text-decoration-color: #008080; font-weight: bold\"> 📏 Trial Unit      </span>┃<span style=\"color: #808000; text-decoration-color: #808000; font-weight: bold\"> Words      </span>┃\n",
       "┃<span style=\"color: #008080; text-decoration-color: #008080; font-weight: bold\"> 🔗 Experiment Mode </span>┃<span style=\"color: #808000; text-decoration-color: #808000; font-weight: bold\"> Experiment </span>┃\n",
       "┃<span style=\"color: #008080; text-decoration-color: #008080; font-weight: bold\"> 🎭 Trial Boundary  </span>┃<span style=\"color: #808000; text-decoration-color: #808000; font-weight: bold\"> Start      </span>┃\n",
       "┃<span style=\"color: #008080; text-decoration-color: #008080; font-weight: bold\"> 🔬 Trial Type      </span>┃<span style=\"color: #808000; text-decoration-color: #808000; font-weight: bold\"> Stimulus   </span>┃\n",
       "┃<span style=\"color: #008080; text-decoration-color: #008080; font-weight: bold\"> 📊 Modality        </span>┃<span style=\"color: #808000; text-decoration-color: #808000; font-weight: bold\"> Pictures   </span>┃\n",
       "┃<span style=\"color: #008080; text-decoration-color: #008080; font-weight: bold\"> ⏱ Tmin             </span>┃<span style=\"color: #808000; text-decoration-color: #808000; font-weight: bold\"> </span><span style=\"color: #008080; text-decoration-color: #008080; font-weight: bold\">-0.2</span><span style=\"color: #808000; text-decoration-color: #808000; font-weight: bold\">       </span>┃\n",
       "┃<span style=\"color: #008080; text-decoration-color: #008080; font-weight: bold\"> ⏳ Tmax            </span>┃<span style=\"color: #808000; text-decoration-color: #808000; font-weight: bold\"> </span><span style=\"color: #008080; text-decoration-color: #008080; font-weight: bold\">0.5</span><span style=\"color: #808000; text-decoration-color: #808000; font-weight: bold\">        </span>┃\n",
       "┗━━━━━━━━━━━━━━━━━━━━┻━━━━━━━━━━━━┛\n",
       "</pre>\n"
      ],
      "text/plain": [
       "\u001b[3m        Extraction Criteria        \u001b[0m\n",
       "┏━━━━━━━━━━━━━━━━━━━━┳━━━━━━━━━━━━┓\n",
       "┃\u001b[1m \u001b[0m\u001b[1mParameter         \u001b[0m\u001b[1m \u001b[0m┃\u001b[1m \u001b[0m\u001b[1mValue     \u001b[0m\u001b[1m \u001b[0m┃\n",
       "┣━━━━━━━━━━━━━━━━━━━━╋━━━━━━━━━━━━┫\n",
       "┃\u001b[1;36m \u001b[0m\u001b[1;36m🧪 Trial Mode     \u001b[0m\u001b[1;36m \u001b[0m┃\u001b[1;33m \u001b[0m\u001b[1;33m          \u001b[0m\u001b[1;33m \u001b[0m┃\n",
       "┃\u001b[1;36m \u001b[0m\u001b[1;36m📏 Trial Unit     \u001b[0m\u001b[1;36m \u001b[0m┃\u001b[1;33m \u001b[0m\u001b[1;33mWords     \u001b[0m\u001b[1;33m \u001b[0m┃\n",
       "┃\u001b[1;36m \u001b[0m\u001b[1;36m🔗 Experiment Mode\u001b[0m\u001b[1;36m \u001b[0m┃\u001b[1;33m \u001b[0m\u001b[1;33mExperiment\u001b[0m\u001b[1;33m \u001b[0m┃\n",
       "┃\u001b[1;36m \u001b[0m\u001b[1;36m🎭 Trial Boundary \u001b[0m\u001b[1;36m \u001b[0m┃\u001b[1;33m \u001b[0m\u001b[1;33mStart     \u001b[0m\u001b[1;33m \u001b[0m┃\n",
       "┃\u001b[1;36m \u001b[0m\u001b[1;36m🔬 Trial Type     \u001b[0m\u001b[1;36m \u001b[0m┃\u001b[1;33m \u001b[0m\u001b[1;33mStimulus  \u001b[0m\u001b[1;33m \u001b[0m┃\n",
       "┃\u001b[1;36m \u001b[0m\u001b[1;36m📊 Modality       \u001b[0m\u001b[1;36m \u001b[0m┃\u001b[1;33m \u001b[0m\u001b[1;33mPictures  \u001b[0m\u001b[1;33m \u001b[0m┃\n",
       "┃\u001b[1;36m \u001b[0m\u001b[1;36m⏱ Tmin            \u001b[0m\u001b[1;36m \u001b[0m┃\u001b[1;33m \u001b[0m\u001b[1;36m-0.2\u001b[0m\u001b[1;33m      \u001b[0m\u001b[1;33m \u001b[0m┃\n",
       "┃\u001b[1;36m \u001b[0m\u001b[1;36m⏳ Tmax           \u001b[0m\u001b[1;36m \u001b[0m┃\u001b[1;33m \u001b[0m\u001b[1;36m0.5\u001b[0m\u001b[1;33m       \u001b[0m\u001b[1;33m \u001b[0m┃\n",
       "┗━━━━━━━━━━━━━━━━━━━━┻━━━━━━━━━━━━┛\n"
      ]
     },
     "metadata": {},
     "output_type": "display_data"
    },
    {
     "name": "stdout",
     "output_type": "stream",
     "text": [
      "Not setting metadata\n",
      "130 matching events found\n",
      "Applying baseline correction (mode: mean)\n",
      "0 projection items activated\n",
      "Using data from preloaded Raw for 130 events and 701 original time points ...\n",
      "0 bad epochs dropped\n"
     ]
    },
    {
     "data": {
      "text/html": [
       "<pre style=\"white-space:pre;overflow-x:auto;line-height:normal;font-family:Menlo,'DejaVu Sans Mono',consolas,'Courier New',monospace\"><span style=\"color: #800000; text-decoration-color: #800000\">╭─────────────────────────────────────╮</span>\n",
       "<span style=\"color: #800000; text-decoration-color: #800000\">│</span>  <span style=\"color: #800000; text-decoration-color: #800000; font-weight: bold\">Initializing EEGEpochBuilder Class</span> <span style=\"color: #800000; text-decoration-color: #800000\">│</span>\n",
       "<span style=\"color: #800000; text-decoration-color: #800000\">╰─────────────────────────────────────╯</span>\n",
       "</pre>\n"
      ],
      "text/plain": [
       "\u001b[31m╭─────────────────────────────────────╮\u001b[0m\n",
       "\u001b[31m│\u001b[0m  \u001b[1;31mInitializing EEGEpochBuilder Class\u001b[0m \u001b[31m│\u001b[0m\n",
       "\u001b[31m╰─────────────────────────────────────╯\u001b[0m\n"
      ]
     },
     "metadata": {},
     "output_type": "display_data"
    },
    {
     "data": {
      "text/html": [
       "<pre style=\"white-space:pre;overflow-x:auto;line-height:normal;font-family:Menlo,'DejaVu Sans Mono',consolas,'Courier New',monospace\"> <span style=\"color: #008000; text-decoration-color: #008000; font-weight: bold\">Creating EPOCHS</span>\n",
       "</pre>\n"
      ],
      "text/plain": [
       " \u001b[1;32mCreating EPOCHS\u001b[0m\n"
      ]
     },
     "metadata": {},
     "output_type": "display_data"
    },
    {
     "data": {
      "text/html": [
       "<pre style=\"white-space:pre;overflow-x:auto;line-height:normal;font-family:Menlo,'DejaVu Sans Mono',consolas,'Courier New',monospace\"><span style=\"font-style: italic\">        Extraction Criteria        </span>\n",
       "┏━━━━━━━━━━━━━━━━━━━━┳━━━━━━━━━━━━┓\n",
       "┃<span style=\"font-weight: bold\"> Parameter          </span>┃<span style=\"font-weight: bold\"> Value      </span>┃\n",
       "┣━━━━━━━━━━━━━━━━━━━━╋━━━━━━━━━━━━┫\n",
       "┃<span style=\"color: #008080; text-decoration-color: #008080; font-weight: bold\"> 🧪 Trial Mode      </span>┃<span style=\"color: #808000; text-decoration-color: #808000; font-weight: bold\">            </span>┃\n",
       "┃<span style=\"color: #008080; text-decoration-color: #008080; font-weight: bold\"> 📏 Trial Unit      </span>┃<span style=\"color: #808000; text-decoration-color: #808000; font-weight: bold\"> Words      </span>┃\n",
       "┃<span style=\"color: #008080; text-decoration-color: #008080; font-weight: bold\"> 🔗 Experiment Mode </span>┃<span style=\"color: #808000; text-decoration-color: #808000; font-weight: bold\"> Experiment </span>┃\n",
       "┃<span style=\"color: #008080; text-decoration-color: #008080; font-weight: bold\"> 🎭 Trial Boundary  </span>┃<span style=\"color: #808000; text-decoration-color: #808000; font-weight: bold\"> Start      </span>┃\n",
       "┃<span style=\"color: #008080; text-decoration-color: #008080; font-weight: bold\"> 🔬 Trial Type      </span>┃<span style=\"color: #808000; text-decoration-color: #808000; font-weight: bold\"> Fixation   </span>┃\n",
       "┃<span style=\"color: #008080; text-decoration-color: #008080; font-weight: bold\"> 📊 Modality        </span>┃<span style=\"color: #808000; text-decoration-color: #808000; font-weight: bold\"> Pictures   </span>┃\n",
       "┃<span style=\"color: #008080; text-decoration-color: #008080; font-weight: bold\"> ⏱ Tmin             </span>┃<span style=\"color: #808000; text-decoration-color: #808000; font-weight: bold\"> </span><span style=\"color: #008080; text-decoration-color: #008080; font-weight: bold\">-0.2</span><span style=\"color: #808000; text-decoration-color: #808000; font-weight: bold\">       </span>┃\n",
       "┃<span style=\"color: #008080; text-decoration-color: #008080; font-weight: bold\"> ⏳ Tmax            </span>┃<span style=\"color: #808000; text-decoration-color: #808000; font-weight: bold\"> </span><span style=\"color: #008080; text-decoration-color: #008080; font-weight: bold\">0.5</span><span style=\"color: #808000; text-decoration-color: #808000; font-weight: bold\">        </span>┃\n",
       "┗━━━━━━━━━━━━━━━━━━━━┻━━━━━━━━━━━━┛\n",
       "</pre>\n"
      ],
      "text/plain": [
       "\u001b[3m        Extraction Criteria        \u001b[0m\n",
       "┏━━━━━━━━━━━━━━━━━━━━┳━━━━━━━━━━━━┓\n",
       "┃\u001b[1m \u001b[0m\u001b[1mParameter         \u001b[0m\u001b[1m \u001b[0m┃\u001b[1m \u001b[0m\u001b[1mValue     \u001b[0m\u001b[1m \u001b[0m┃\n",
       "┣━━━━━━━━━━━━━━━━━━━━╋━━━━━━━━━━━━┫\n",
       "┃\u001b[1;36m \u001b[0m\u001b[1;36m🧪 Trial Mode     \u001b[0m\u001b[1;36m \u001b[0m┃\u001b[1;33m \u001b[0m\u001b[1;33m          \u001b[0m\u001b[1;33m \u001b[0m┃\n",
       "┃\u001b[1;36m \u001b[0m\u001b[1;36m📏 Trial Unit     \u001b[0m\u001b[1;36m \u001b[0m┃\u001b[1;33m \u001b[0m\u001b[1;33mWords     \u001b[0m\u001b[1;33m \u001b[0m┃\n",
       "┃\u001b[1;36m \u001b[0m\u001b[1;36m🔗 Experiment Mode\u001b[0m\u001b[1;36m \u001b[0m┃\u001b[1;33m \u001b[0m\u001b[1;33mExperiment\u001b[0m\u001b[1;33m \u001b[0m┃\n",
       "┃\u001b[1;36m \u001b[0m\u001b[1;36m🎭 Trial Boundary \u001b[0m\u001b[1;36m \u001b[0m┃\u001b[1;33m \u001b[0m\u001b[1;33mStart     \u001b[0m\u001b[1;33m \u001b[0m┃\n",
       "┃\u001b[1;36m \u001b[0m\u001b[1;36m🔬 Trial Type     \u001b[0m\u001b[1;36m \u001b[0m┃\u001b[1;33m \u001b[0m\u001b[1;33mFixation  \u001b[0m\u001b[1;33m \u001b[0m┃\n",
       "┃\u001b[1;36m \u001b[0m\u001b[1;36m📊 Modality       \u001b[0m\u001b[1;36m \u001b[0m┃\u001b[1;33m \u001b[0m\u001b[1;33mPictures  \u001b[0m\u001b[1;33m \u001b[0m┃\n",
       "┃\u001b[1;36m \u001b[0m\u001b[1;36m⏱ Tmin            \u001b[0m\u001b[1;36m \u001b[0m┃\u001b[1;33m \u001b[0m\u001b[1;36m-0.2\u001b[0m\u001b[1;33m      \u001b[0m\u001b[1;33m \u001b[0m┃\n",
       "┃\u001b[1;36m \u001b[0m\u001b[1;36m⏳ Tmax           \u001b[0m\u001b[1;36m \u001b[0m┃\u001b[1;33m \u001b[0m\u001b[1;36m0.5\u001b[0m\u001b[1;33m       \u001b[0m\u001b[1;33m \u001b[0m┃\n",
       "┗━━━━━━━━━━━━━━━━━━━━┻━━━━━━━━━━━━┛\n"
      ]
     },
     "metadata": {},
     "output_type": "display_data"
    },
    {
     "name": "stdout",
     "output_type": "stream",
     "text": [
      "Not setting metadata\n",
      "130 matching events found\n",
      "Applying baseline correction (mode: mean)\n",
      "0 projection items activated\n",
      "Using data from preloaded Raw for 130 events and 701 original time points ...\n",
      "0 bad epochs dropped\n",
      "NOTE: pick_channels() is a legacy function. New code should use inst.pick(...).\n",
      "NOTE: pick_channels() is a legacy function. New code should use inst.pick(...).\n",
      "Visual Change P100: latency=0.120s, peak=10.87µV, mean=4.85µV\n",
      "No Visual Change P100: latency=0.086s, peak=0.05µV, mean=-1.22µV\n",
      "Initializing Plotter\n",
      "Results saved to p100_results/sub-06_ses-02_p100_Visual Change_No Visual Change.csv\n"
     ]
    },
    {
     "data": {
      "text/html": [
       "<pre style=\"white-space:pre;overflow-x:auto;line-height:normal;font-family:Menlo,'DejaVu Sans Mono',consolas,'Courier New',monospace\"><span style=\"color: #808000; text-decoration-color: #808000\">╭─────────────────────────────────────────╮</span>\n",
       "<span style=\"color: #808000; text-decoration-color: #808000\">│</span> 🚀 <span style=\"color: #808000; text-decoration-color: #808000; font-weight: bold\">Initializing BIDSDatasetReader Class</span> <span style=\"color: #808000; text-decoration-color: #808000\">│</span>\n",
       "<span style=\"color: #808000; text-decoration-color: #808000\">╰─────────────────────────────────────────╯</span>\n",
       "</pre>\n"
      ],
      "text/plain": [
       "\u001b[33m╭─────────────────────────────────────────╮\u001b[0m\n",
       "\u001b[33m│\u001b[0m 🚀 \u001b[1;33mInitializing BIDSDatasetReader Class\u001b[0m \u001b[33m│\u001b[0m\n",
       "\u001b[33m╰─────────────────────────────────────────╯\u001b[0m\n"
      ]
     },
     "metadata": {},
     "output_type": "display_data"
    },
    {
     "data": {
      "text/html": [
       "<pre style=\"white-space:pre;overflow-x:auto;line-height:normal;font-family:Menlo,'DejaVu Sans Mono',consolas,'Courier New',monospace\"> <span style=\"color: #008000; text-decoration-color: #008000; font-weight: bold\">Loading Processed EEG Data: sub-</span><span style=\"color: #008000; text-decoration-color: #008000; font-weight: bold\">07</span><span style=\"color: #008000; text-decoration-color: #008000; font-weight: bold\"> ses-</span><span style=\"color: #008000; text-decoration-color: #008000; font-weight: bold\">01</span>\n",
       "</pre>\n"
      ],
      "text/plain": [
       " \u001b[1;32mLoading Processed EEG Data: sub-\u001b[0m\u001b[1;32m07\u001b[0m\u001b[1;32m ses-\u001b[0m\u001b[1;32m01\u001b[0m\n"
      ]
     },
     "metadata": {},
     "output_type": "display_data"
    },
    {
     "data": {
      "text/html": [
       "<pre style=\"white-space:pre;overflow-x:auto;line-height:normal;font-family:Menlo,'DejaVu Sans Mono',consolas,'Courier New',monospace\"><span style=\"color: #800000; text-decoration-color: #800000\">╭─────────────────────────────────────╮</span>\n",
       "<span style=\"color: #800000; text-decoration-color: #800000\">│</span>  <span style=\"color: #800000; text-decoration-color: #800000; font-weight: bold\">Initializing EEGEpochBuilder Class</span> <span style=\"color: #800000; text-decoration-color: #800000\">│</span>\n",
       "<span style=\"color: #800000; text-decoration-color: #800000\">╰─────────────────────────────────────╯</span>\n",
       "</pre>\n"
      ],
      "text/plain": [
       "\u001b[31m╭─────────────────────────────────────╮\u001b[0m\n",
       "\u001b[31m│\u001b[0m  \u001b[1;31mInitializing EEGEpochBuilder Class\u001b[0m \u001b[31m│\u001b[0m\n",
       "\u001b[31m╰─────────────────────────────────────╯\u001b[0m\n"
      ]
     },
     "metadata": {},
     "output_type": "display_data"
    },
    {
     "data": {
      "text/html": [
       "<pre style=\"white-space:pre;overflow-x:auto;line-height:normal;font-family:Menlo,'DejaVu Sans Mono',consolas,'Courier New',monospace\"> <span style=\"color: #008000; text-decoration-color: #008000; font-weight: bold\">Creating EPOCHS</span>\n",
       "</pre>\n"
      ],
      "text/plain": [
       " \u001b[1;32mCreating EPOCHS\u001b[0m\n"
      ]
     },
     "metadata": {},
     "output_type": "display_data"
    },
    {
     "data": {
      "text/html": [
       "<pre style=\"white-space:pre;overflow-x:auto;line-height:normal;font-family:Menlo,'DejaVu Sans Mono',consolas,'Courier New',monospace\"><span style=\"font-style: italic\">        Extraction Criteria        </span>\n",
       "┏━━━━━━━━━━━━━━━━━━━━┳━━━━━━━━━━━━┓\n",
       "┃<span style=\"font-weight: bold\"> Parameter          </span>┃<span style=\"font-weight: bold\"> Value      </span>┃\n",
       "┣━━━━━━━━━━━━━━━━━━━━╋━━━━━━━━━━━━┫\n",
       "┃<span style=\"color: #008080; text-decoration-color: #008080; font-weight: bold\"> 🧪 Trial Mode      </span>┃<span style=\"color: #808000; text-decoration-color: #808000; font-weight: bold\">            </span>┃\n",
       "┃<span style=\"color: #008080; text-decoration-color: #008080; font-weight: bold\"> 📏 Trial Unit      </span>┃<span style=\"color: #808000; text-decoration-color: #808000; font-weight: bold\"> Words      </span>┃\n",
       "┃<span style=\"color: #008080; text-decoration-color: #008080; font-weight: bold\"> 🔗 Experiment Mode </span>┃<span style=\"color: #808000; text-decoration-color: #808000; font-weight: bold\"> Experiment </span>┃\n",
       "┃<span style=\"color: #008080; text-decoration-color: #008080; font-weight: bold\"> 🎭 Trial Boundary  </span>┃<span style=\"color: #808000; text-decoration-color: #808000; font-weight: bold\"> Start      </span>┃\n",
       "┃<span style=\"color: #008080; text-decoration-color: #008080; font-weight: bold\"> 🔬 Trial Type      </span>┃<span style=\"color: #808000; text-decoration-color: #808000; font-weight: bold\"> Stimulus   </span>┃\n",
       "┃<span style=\"color: #008080; text-decoration-color: #008080; font-weight: bold\"> 📊 Modality        </span>┃<span style=\"color: #808000; text-decoration-color: #808000; font-weight: bold\"> Pictures   </span>┃\n",
       "┃<span style=\"color: #008080; text-decoration-color: #008080; font-weight: bold\"> ⏱ Tmin             </span>┃<span style=\"color: #808000; text-decoration-color: #808000; font-weight: bold\"> </span><span style=\"color: #008080; text-decoration-color: #008080; font-weight: bold\">-0.2</span><span style=\"color: #808000; text-decoration-color: #808000; font-weight: bold\">       </span>┃\n",
       "┃<span style=\"color: #008080; text-decoration-color: #008080; font-weight: bold\"> ⏳ Tmax            </span>┃<span style=\"color: #808000; text-decoration-color: #808000; font-weight: bold\"> </span><span style=\"color: #008080; text-decoration-color: #008080; font-weight: bold\">0.5</span><span style=\"color: #808000; text-decoration-color: #808000; font-weight: bold\">        </span>┃\n",
       "┗━━━━━━━━━━━━━━━━━━━━┻━━━━━━━━━━━━┛\n",
       "</pre>\n"
      ],
      "text/plain": [
       "\u001b[3m        Extraction Criteria        \u001b[0m\n",
       "┏━━━━━━━━━━━━━━━━━━━━┳━━━━━━━━━━━━┓\n",
       "┃\u001b[1m \u001b[0m\u001b[1mParameter         \u001b[0m\u001b[1m \u001b[0m┃\u001b[1m \u001b[0m\u001b[1mValue     \u001b[0m\u001b[1m \u001b[0m┃\n",
       "┣━━━━━━━━━━━━━━━━━━━━╋━━━━━━━━━━━━┫\n",
       "┃\u001b[1;36m \u001b[0m\u001b[1;36m🧪 Trial Mode     \u001b[0m\u001b[1;36m \u001b[0m┃\u001b[1;33m \u001b[0m\u001b[1;33m          \u001b[0m\u001b[1;33m \u001b[0m┃\n",
       "┃\u001b[1;36m \u001b[0m\u001b[1;36m📏 Trial Unit     \u001b[0m\u001b[1;36m \u001b[0m┃\u001b[1;33m \u001b[0m\u001b[1;33mWords     \u001b[0m\u001b[1;33m \u001b[0m┃\n",
       "┃\u001b[1;36m \u001b[0m\u001b[1;36m🔗 Experiment Mode\u001b[0m\u001b[1;36m \u001b[0m┃\u001b[1;33m \u001b[0m\u001b[1;33mExperiment\u001b[0m\u001b[1;33m \u001b[0m┃\n",
       "┃\u001b[1;36m \u001b[0m\u001b[1;36m🎭 Trial Boundary \u001b[0m\u001b[1;36m \u001b[0m┃\u001b[1;33m \u001b[0m\u001b[1;33mStart     \u001b[0m\u001b[1;33m \u001b[0m┃\n",
       "┃\u001b[1;36m \u001b[0m\u001b[1;36m🔬 Trial Type     \u001b[0m\u001b[1;36m \u001b[0m┃\u001b[1;33m \u001b[0m\u001b[1;33mStimulus  \u001b[0m\u001b[1;33m \u001b[0m┃\n",
       "┃\u001b[1;36m \u001b[0m\u001b[1;36m📊 Modality       \u001b[0m\u001b[1;36m \u001b[0m┃\u001b[1;33m \u001b[0m\u001b[1;33mPictures  \u001b[0m\u001b[1;33m \u001b[0m┃\n",
       "┃\u001b[1;36m \u001b[0m\u001b[1;36m⏱ Tmin            \u001b[0m\u001b[1;36m \u001b[0m┃\u001b[1;33m \u001b[0m\u001b[1;36m-0.2\u001b[0m\u001b[1;33m      \u001b[0m\u001b[1;33m \u001b[0m┃\n",
       "┃\u001b[1;36m \u001b[0m\u001b[1;36m⏳ Tmax           \u001b[0m\u001b[1;36m \u001b[0m┃\u001b[1;33m \u001b[0m\u001b[1;36m0.5\u001b[0m\u001b[1;33m       \u001b[0m\u001b[1;33m \u001b[0m┃\n",
       "┗━━━━━━━━━━━━━━━━━━━━┻━━━━━━━━━━━━┛\n"
      ]
     },
     "metadata": {},
     "output_type": "display_data"
    },
    {
     "name": "stdout",
     "output_type": "stream",
     "text": [
      "Not setting metadata\n",
      "130 matching events found\n",
      "Applying baseline correction (mode: mean)\n",
      "0 projection items activated\n",
      "Using data from preloaded Raw for 130 events and 701 original time points ...\n",
      "0 bad epochs dropped\n"
     ]
    },
    {
     "data": {
      "text/html": [
       "<pre style=\"white-space:pre;overflow-x:auto;line-height:normal;font-family:Menlo,'DejaVu Sans Mono',consolas,'Courier New',monospace\"><span style=\"color: #800000; text-decoration-color: #800000\">╭─────────────────────────────────────╮</span>\n",
       "<span style=\"color: #800000; text-decoration-color: #800000\">│</span>  <span style=\"color: #800000; text-decoration-color: #800000; font-weight: bold\">Initializing EEGEpochBuilder Class</span> <span style=\"color: #800000; text-decoration-color: #800000\">│</span>\n",
       "<span style=\"color: #800000; text-decoration-color: #800000\">╰─────────────────────────────────────╯</span>\n",
       "</pre>\n"
      ],
      "text/plain": [
       "\u001b[31m╭─────────────────────────────────────╮\u001b[0m\n",
       "\u001b[31m│\u001b[0m  \u001b[1;31mInitializing EEGEpochBuilder Class\u001b[0m \u001b[31m│\u001b[0m\n",
       "\u001b[31m╰─────────────────────────────────────╯\u001b[0m\n"
      ]
     },
     "metadata": {},
     "output_type": "display_data"
    },
    {
     "data": {
      "text/html": [
       "<pre style=\"white-space:pre;overflow-x:auto;line-height:normal;font-family:Menlo,'DejaVu Sans Mono',consolas,'Courier New',monospace\"> <span style=\"color: #008000; text-decoration-color: #008000; font-weight: bold\">Creating EPOCHS</span>\n",
       "</pre>\n"
      ],
      "text/plain": [
       " \u001b[1;32mCreating EPOCHS\u001b[0m\n"
      ]
     },
     "metadata": {},
     "output_type": "display_data"
    },
    {
     "data": {
      "text/html": [
       "<pre style=\"white-space:pre;overflow-x:auto;line-height:normal;font-family:Menlo,'DejaVu Sans Mono',consolas,'Courier New',monospace\"><span style=\"font-style: italic\">        Extraction Criteria        </span>\n",
       "┏━━━━━━━━━━━━━━━━━━━━┳━━━━━━━━━━━━┓\n",
       "┃<span style=\"font-weight: bold\"> Parameter          </span>┃<span style=\"font-weight: bold\"> Value      </span>┃\n",
       "┣━━━━━━━━━━━━━━━━━━━━╋━━━━━━━━━━━━┫\n",
       "┃<span style=\"color: #008080; text-decoration-color: #008080; font-weight: bold\"> 🧪 Trial Mode      </span>┃<span style=\"color: #808000; text-decoration-color: #808000; font-weight: bold\">            </span>┃\n",
       "┃<span style=\"color: #008080; text-decoration-color: #008080; font-weight: bold\"> 📏 Trial Unit      </span>┃<span style=\"color: #808000; text-decoration-color: #808000; font-weight: bold\"> Words      </span>┃\n",
       "┃<span style=\"color: #008080; text-decoration-color: #008080; font-weight: bold\"> 🔗 Experiment Mode </span>┃<span style=\"color: #808000; text-decoration-color: #808000; font-weight: bold\"> Experiment </span>┃\n",
       "┃<span style=\"color: #008080; text-decoration-color: #008080; font-weight: bold\"> 🎭 Trial Boundary  </span>┃<span style=\"color: #808000; text-decoration-color: #808000; font-weight: bold\"> Start      </span>┃\n",
       "┃<span style=\"color: #008080; text-decoration-color: #008080; font-weight: bold\"> 🔬 Trial Type      </span>┃<span style=\"color: #808000; text-decoration-color: #808000; font-weight: bold\"> Fixation   </span>┃\n",
       "┃<span style=\"color: #008080; text-decoration-color: #008080; font-weight: bold\"> 📊 Modality        </span>┃<span style=\"color: #808000; text-decoration-color: #808000; font-weight: bold\"> Pictures   </span>┃\n",
       "┃<span style=\"color: #008080; text-decoration-color: #008080; font-weight: bold\"> ⏱ Tmin             </span>┃<span style=\"color: #808000; text-decoration-color: #808000; font-weight: bold\"> </span><span style=\"color: #008080; text-decoration-color: #008080; font-weight: bold\">-0.2</span><span style=\"color: #808000; text-decoration-color: #808000; font-weight: bold\">       </span>┃\n",
       "┃<span style=\"color: #008080; text-decoration-color: #008080; font-weight: bold\"> ⏳ Tmax            </span>┃<span style=\"color: #808000; text-decoration-color: #808000; font-weight: bold\"> </span><span style=\"color: #008080; text-decoration-color: #008080; font-weight: bold\">0.5</span><span style=\"color: #808000; text-decoration-color: #808000; font-weight: bold\">        </span>┃\n",
       "┗━━━━━━━━━━━━━━━━━━━━┻━━━━━━━━━━━━┛\n",
       "</pre>\n"
      ],
      "text/plain": [
       "\u001b[3m        Extraction Criteria        \u001b[0m\n",
       "┏━━━━━━━━━━━━━━━━━━━━┳━━━━━━━━━━━━┓\n",
       "┃\u001b[1m \u001b[0m\u001b[1mParameter         \u001b[0m\u001b[1m \u001b[0m┃\u001b[1m \u001b[0m\u001b[1mValue     \u001b[0m\u001b[1m \u001b[0m┃\n",
       "┣━━━━━━━━━━━━━━━━━━━━╋━━━━━━━━━━━━┫\n",
       "┃\u001b[1;36m \u001b[0m\u001b[1;36m🧪 Trial Mode     \u001b[0m\u001b[1;36m \u001b[0m┃\u001b[1;33m \u001b[0m\u001b[1;33m          \u001b[0m\u001b[1;33m \u001b[0m┃\n",
       "┃\u001b[1;36m \u001b[0m\u001b[1;36m📏 Trial Unit     \u001b[0m\u001b[1;36m \u001b[0m┃\u001b[1;33m \u001b[0m\u001b[1;33mWords     \u001b[0m\u001b[1;33m \u001b[0m┃\n",
       "┃\u001b[1;36m \u001b[0m\u001b[1;36m🔗 Experiment Mode\u001b[0m\u001b[1;36m \u001b[0m┃\u001b[1;33m \u001b[0m\u001b[1;33mExperiment\u001b[0m\u001b[1;33m \u001b[0m┃\n",
       "┃\u001b[1;36m \u001b[0m\u001b[1;36m🎭 Trial Boundary \u001b[0m\u001b[1;36m \u001b[0m┃\u001b[1;33m \u001b[0m\u001b[1;33mStart     \u001b[0m\u001b[1;33m \u001b[0m┃\n",
       "┃\u001b[1;36m \u001b[0m\u001b[1;36m🔬 Trial Type     \u001b[0m\u001b[1;36m \u001b[0m┃\u001b[1;33m \u001b[0m\u001b[1;33mFixation  \u001b[0m\u001b[1;33m \u001b[0m┃\n",
       "┃\u001b[1;36m \u001b[0m\u001b[1;36m📊 Modality       \u001b[0m\u001b[1;36m \u001b[0m┃\u001b[1;33m \u001b[0m\u001b[1;33mPictures  \u001b[0m\u001b[1;33m \u001b[0m┃\n",
       "┃\u001b[1;36m \u001b[0m\u001b[1;36m⏱ Tmin            \u001b[0m\u001b[1;36m \u001b[0m┃\u001b[1;33m \u001b[0m\u001b[1;36m-0.2\u001b[0m\u001b[1;33m      \u001b[0m\u001b[1;33m \u001b[0m┃\n",
       "┃\u001b[1;36m \u001b[0m\u001b[1;36m⏳ Tmax           \u001b[0m\u001b[1;36m \u001b[0m┃\u001b[1;33m \u001b[0m\u001b[1;36m0.5\u001b[0m\u001b[1;33m       \u001b[0m\u001b[1;33m \u001b[0m┃\n",
       "┗━━━━━━━━━━━━━━━━━━━━┻━━━━━━━━━━━━┛\n"
      ]
     },
     "metadata": {},
     "output_type": "display_data"
    },
    {
     "name": "stdout",
     "output_type": "stream",
     "text": [
      "Not setting metadata\n",
      "130 matching events found\n",
      "Applying baseline correction (mode: mean)\n",
      "0 projection items activated\n",
      "Using data from preloaded Raw for 130 events and 701 original time points ...\n",
      "0 bad epochs dropped\n",
      "NOTE: pick_channels() is a legacy function. New code should use inst.pick(...).\n",
      "NOTE: pick_channels() is a legacy function. New code should use inst.pick(...).\n",
      "Visual Change P100: latency=0.120s, peak=4.77µV, mean=0.79µV\n",
      "No Visual Change P100: latency=0.109s, peak=-0.64µV, mean=-1.04µV\n",
      "Initializing Plotter\n",
      "Results saved to p100_results/sub-07_ses-01_p100_Visual Change_No Visual Change.csv\n"
     ]
    },
    {
     "data": {
      "text/html": [
       "<pre style=\"white-space:pre;overflow-x:auto;line-height:normal;font-family:Menlo,'DejaVu Sans Mono',consolas,'Courier New',monospace\"><span style=\"color: #808000; text-decoration-color: #808000\">╭─────────────────────────────────────────╮</span>\n",
       "<span style=\"color: #808000; text-decoration-color: #808000\">│</span> 🚀 <span style=\"color: #808000; text-decoration-color: #808000; font-weight: bold\">Initializing BIDSDatasetReader Class</span> <span style=\"color: #808000; text-decoration-color: #808000\">│</span>\n",
       "<span style=\"color: #808000; text-decoration-color: #808000\">╰─────────────────────────────────────────╯</span>\n",
       "</pre>\n"
      ],
      "text/plain": [
       "\u001b[33m╭─────────────────────────────────────────╮\u001b[0m\n",
       "\u001b[33m│\u001b[0m 🚀 \u001b[1;33mInitializing BIDSDatasetReader Class\u001b[0m \u001b[33m│\u001b[0m\n",
       "\u001b[33m╰─────────────────────────────────────────╯\u001b[0m\n"
      ]
     },
     "metadata": {},
     "output_type": "display_data"
    },
    {
     "data": {
      "text/html": [
       "<pre style=\"white-space:pre;overflow-x:auto;line-height:normal;font-family:Menlo,'DejaVu Sans Mono',consolas,'Courier New',monospace\"> <span style=\"color: #008000; text-decoration-color: #008000; font-weight: bold\">Loading Processed EEG Data: sub-</span><span style=\"color: #008000; text-decoration-color: #008000; font-weight: bold\">08</span><span style=\"color: #008000; text-decoration-color: #008000; font-weight: bold\"> ses-</span><span style=\"color: #008000; text-decoration-color: #008000; font-weight: bold\">01</span>\n",
       "</pre>\n"
      ],
      "text/plain": [
       " \u001b[1;32mLoading Processed EEG Data: sub-\u001b[0m\u001b[1;32m08\u001b[0m\u001b[1;32m ses-\u001b[0m\u001b[1;32m01\u001b[0m\n"
      ]
     },
     "metadata": {},
     "output_type": "display_data"
    },
    {
     "data": {
      "text/html": [
       "<pre style=\"white-space:pre;overflow-x:auto;line-height:normal;font-family:Menlo,'DejaVu Sans Mono',consolas,'Courier New',monospace\"><span style=\"color: #800000; text-decoration-color: #800000\">╭─────────────────────────────────────╮</span>\n",
       "<span style=\"color: #800000; text-decoration-color: #800000\">│</span>  <span style=\"color: #800000; text-decoration-color: #800000; font-weight: bold\">Initializing EEGEpochBuilder Class</span> <span style=\"color: #800000; text-decoration-color: #800000\">│</span>\n",
       "<span style=\"color: #800000; text-decoration-color: #800000\">╰─────────────────────────────────────╯</span>\n",
       "</pre>\n"
      ],
      "text/plain": [
       "\u001b[31m╭─────────────────────────────────────╮\u001b[0m\n",
       "\u001b[31m│\u001b[0m  \u001b[1;31mInitializing EEGEpochBuilder Class\u001b[0m \u001b[31m│\u001b[0m\n",
       "\u001b[31m╰─────────────────────────────────────╯\u001b[0m\n"
      ]
     },
     "metadata": {},
     "output_type": "display_data"
    },
    {
     "data": {
      "text/html": [
       "<pre style=\"white-space:pre;overflow-x:auto;line-height:normal;font-family:Menlo,'DejaVu Sans Mono',consolas,'Courier New',monospace\"> <span style=\"color: #008000; text-decoration-color: #008000; font-weight: bold\">Creating EPOCHS</span>\n",
       "</pre>\n"
      ],
      "text/plain": [
       " \u001b[1;32mCreating EPOCHS\u001b[0m\n"
      ]
     },
     "metadata": {},
     "output_type": "display_data"
    },
    {
     "data": {
      "text/html": [
       "<pre style=\"white-space:pre;overflow-x:auto;line-height:normal;font-family:Menlo,'DejaVu Sans Mono',consolas,'Courier New',monospace\"><span style=\"font-style: italic\">        Extraction Criteria        </span>\n",
       "┏━━━━━━━━━━━━━━━━━━━━┳━━━━━━━━━━━━┓\n",
       "┃<span style=\"font-weight: bold\"> Parameter          </span>┃<span style=\"font-weight: bold\"> Value      </span>┃\n",
       "┣━━━━━━━━━━━━━━━━━━━━╋━━━━━━━━━━━━┫\n",
       "┃<span style=\"color: #008080; text-decoration-color: #008080; font-weight: bold\"> 🧪 Trial Mode      </span>┃<span style=\"color: #808000; text-decoration-color: #808000; font-weight: bold\">            </span>┃\n",
       "┃<span style=\"color: #008080; text-decoration-color: #008080; font-weight: bold\"> 📏 Trial Unit      </span>┃<span style=\"color: #808000; text-decoration-color: #808000; font-weight: bold\"> Words      </span>┃\n",
       "┃<span style=\"color: #008080; text-decoration-color: #008080; font-weight: bold\"> 🔗 Experiment Mode </span>┃<span style=\"color: #808000; text-decoration-color: #808000; font-weight: bold\"> Experiment </span>┃\n",
       "┃<span style=\"color: #008080; text-decoration-color: #008080; font-weight: bold\"> 🎭 Trial Boundary  </span>┃<span style=\"color: #808000; text-decoration-color: #808000; font-weight: bold\"> Start      </span>┃\n",
       "┃<span style=\"color: #008080; text-decoration-color: #008080; font-weight: bold\"> 🔬 Trial Type      </span>┃<span style=\"color: #808000; text-decoration-color: #808000; font-weight: bold\"> Stimulus   </span>┃\n",
       "┃<span style=\"color: #008080; text-decoration-color: #008080; font-weight: bold\"> 📊 Modality        </span>┃<span style=\"color: #808000; text-decoration-color: #808000; font-weight: bold\"> Pictures   </span>┃\n",
       "┃<span style=\"color: #008080; text-decoration-color: #008080; font-weight: bold\"> ⏱ Tmin             </span>┃<span style=\"color: #808000; text-decoration-color: #808000; font-weight: bold\"> </span><span style=\"color: #008080; text-decoration-color: #008080; font-weight: bold\">-0.2</span><span style=\"color: #808000; text-decoration-color: #808000; font-weight: bold\">       </span>┃\n",
       "┃<span style=\"color: #008080; text-decoration-color: #008080; font-weight: bold\"> ⏳ Tmax            </span>┃<span style=\"color: #808000; text-decoration-color: #808000; font-weight: bold\"> </span><span style=\"color: #008080; text-decoration-color: #008080; font-weight: bold\">0.5</span><span style=\"color: #808000; text-decoration-color: #808000; font-weight: bold\">        </span>┃\n",
       "┗━━━━━━━━━━━━━━━━━━━━┻━━━━━━━━━━━━┛\n",
       "</pre>\n"
      ],
      "text/plain": [
       "\u001b[3m        Extraction Criteria        \u001b[0m\n",
       "┏━━━━━━━━━━━━━━━━━━━━┳━━━━━━━━━━━━┓\n",
       "┃\u001b[1m \u001b[0m\u001b[1mParameter         \u001b[0m\u001b[1m \u001b[0m┃\u001b[1m \u001b[0m\u001b[1mValue     \u001b[0m\u001b[1m \u001b[0m┃\n",
       "┣━━━━━━━━━━━━━━━━━━━━╋━━━━━━━━━━━━┫\n",
       "┃\u001b[1;36m \u001b[0m\u001b[1;36m🧪 Trial Mode     \u001b[0m\u001b[1;36m \u001b[0m┃\u001b[1;33m \u001b[0m\u001b[1;33m          \u001b[0m\u001b[1;33m \u001b[0m┃\n",
       "┃\u001b[1;36m \u001b[0m\u001b[1;36m📏 Trial Unit     \u001b[0m\u001b[1;36m \u001b[0m┃\u001b[1;33m \u001b[0m\u001b[1;33mWords     \u001b[0m\u001b[1;33m \u001b[0m┃\n",
       "┃\u001b[1;36m \u001b[0m\u001b[1;36m🔗 Experiment Mode\u001b[0m\u001b[1;36m \u001b[0m┃\u001b[1;33m \u001b[0m\u001b[1;33mExperiment\u001b[0m\u001b[1;33m \u001b[0m┃\n",
       "┃\u001b[1;36m \u001b[0m\u001b[1;36m🎭 Trial Boundary \u001b[0m\u001b[1;36m \u001b[0m┃\u001b[1;33m \u001b[0m\u001b[1;33mStart     \u001b[0m\u001b[1;33m \u001b[0m┃\n",
       "┃\u001b[1;36m \u001b[0m\u001b[1;36m🔬 Trial Type     \u001b[0m\u001b[1;36m \u001b[0m┃\u001b[1;33m \u001b[0m\u001b[1;33mStimulus  \u001b[0m\u001b[1;33m \u001b[0m┃\n",
       "┃\u001b[1;36m \u001b[0m\u001b[1;36m📊 Modality       \u001b[0m\u001b[1;36m \u001b[0m┃\u001b[1;33m \u001b[0m\u001b[1;33mPictures  \u001b[0m\u001b[1;33m \u001b[0m┃\n",
       "┃\u001b[1;36m \u001b[0m\u001b[1;36m⏱ Tmin            \u001b[0m\u001b[1;36m \u001b[0m┃\u001b[1;33m \u001b[0m\u001b[1;36m-0.2\u001b[0m\u001b[1;33m      \u001b[0m\u001b[1;33m \u001b[0m┃\n",
       "┃\u001b[1;36m \u001b[0m\u001b[1;36m⏳ Tmax           \u001b[0m\u001b[1;36m \u001b[0m┃\u001b[1;33m \u001b[0m\u001b[1;36m0.5\u001b[0m\u001b[1;33m       \u001b[0m\u001b[1;33m \u001b[0m┃\n",
       "┗━━━━━━━━━━━━━━━━━━━━┻━━━━━━━━━━━━┛\n"
      ]
     },
     "metadata": {},
     "output_type": "display_data"
    },
    {
     "name": "stdout",
     "output_type": "stream",
     "text": [
      "Not setting metadata\n",
      "130 matching events found\n",
      "Applying baseline correction (mode: mean)\n",
      "0 projection items activated\n",
      "Using data from preloaded Raw for 130 events and 701 original time points ...\n",
      "0 bad epochs dropped\n"
     ]
    },
    {
     "data": {
      "text/html": [
       "<pre style=\"white-space:pre;overflow-x:auto;line-height:normal;font-family:Menlo,'DejaVu Sans Mono',consolas,'Courier New',monospace\"><span style=\"color: #800000; text-decoration-color: #800000\">╭─────────────────────────────────────╮</span>\n",
       "<span style=\"color: #800000; text-decoration-color: #800000\">│</span>  <span style=\"color: #800000; text-decoration-color: #800000; font-weight: bold\">Initializing EEGEpochBuilder Class</span> <span style=\"color: #800000; text-decoration-color: #800000\">│</span>\n",
       "<span style=\"color: #800000; text-decoration-color: #800000\">╰─────────────────────────────────────╯</span>\n",
       "</pre>\n"
      ],
      "text/plain": [
       "\u001b[31m╭─────────────────────────────────────╮\u001b[0m\n",
       "\u001b[31m│\u001b[0m  \u001b[1;31mInitializing EEGEpochBuilder Class\u001b[0m \u001b[31m│\u001b[0m\n",
       "\u001b[31m╰─────────────────────────────────────╯\u001b[0m\n"
      ]
     },
     "metadata": {},
     "output_type": "display_data"
    },
    {
     "data": {
      "text/html": [
       "<pre style=\"white-space:pre;overflow-x:auto;line-height:normal;font-family:Menlo,'DejaVu Sans Mono',consolas,'Courier New',monospace\"> <span style=\"color: #008000; text-decoration-color: #008000; font-weight: bold\">Creating EPOCHS</span>\n",
       "</pre>\n"
      ],
      "text/plain": [
       " \u001b[1;32mCreating EPOCHS\u001b[0m\n"
      ]
     },
     "metadata": {},
     "output_type": "display_data"
    },
    {
     "data": {
      "text/html": [
       "<pre style=\"white-space:pre;overflow-x:auto;line-height:normal;font-family:Menlo,'DejaVu Sans Mono',consolas,'Courier New',monospace\"><span style=\"font-style: italic\">        Extraction Criteria        </span>\n",
       "┏━━━━━━━━━━━━━━━━━━━━┳━━━━━━━━━━━━┓\n",
       "┃<span style=\"font-weight: bold\"> Parameter          </span>┃<span style=\"font-weight: bold\"> Value      </span>┃\n",
       "┣━━━━━━━━━━━━━━━━━━━━╋━━━━━━━━━━━━┫\n",
       "┃<span style=\"color: #008080; text-decoration-color: #008080; font-weight: bold\"> 🧪 Trial Mode      </span>┃<span style=\"color: #808000; text-decoration-color: #808000; font-weight: bold\">            </span>┃\n",
       "┃<span style=\"color: #008080; text-decoration-color: #008080; font-weight: bold\"> 📏 Trial Unit      </span>┃<span style=\"color: #808000; text-decoration-color: #808000; font-weight: bold\"> Words      </span>┃\n",
       "┃<span style=\"color: #008080; text-decoration-color: #008080; font-weight: bold\"> 🔗 Experiment Mode </span>┃<span style=\"color: #808000; text-decoration-color: #808000; font-weight: bold\"> Experiment </span>┃\n",
       "┃<span style=\"color: #008080; text-decoration-color: #008080; font-weight: bold\"> 🎭 Trial Boundary  </span>┃<span style=\"color: #808000; text-decoration-color: #808000; font-weight: bold\"> Start      </span>┃\n",
       "┃<span style=\"color: #008080; text-decoration-color: #008080; font-weight: bold\"> 🔬 Trial Type      </span>┃<span style=\"color: #808000; text-decoration-color: #808000; font-weight: bold\"> Fixation   </span>┃\n",
       "┃<span style=\"color: #008080; text-decoration-color: #008080; font-weight: bold\"> 📊 Modality        </span>┃<span style=\"color: #808000; text-decoration-color: #808000; font-weight: bold\"> Pictures   </span>┃\n",
       "┃<span style=\"color: #008080; text-decoration-color: #008080; font-weight: bold\"> ⏱ Tmin             </span>┃<span style=\"color: #808000; text-decoration-color: #808000; font-weight: bold\"> </span><span style=\"color: #008080; text-decoration-color: #008080; font-weight: bold\">-0.2</span><span style=\"color: #808000; text-decoration-color: #808000; font-weight: bold\">       </span>┃\n",
       "┃<span style=\"color: #008080; text-decoration-color: #008080; font-weight: bold\"> ⏳ Tmax            </span>┃<span style=\"color: #808000; text-decoration-color: #808000; font-weight: bold\"> </span><span style=\"color: #008080; text-decoration-color: #008080; font-weight: bold\">0.5</span><span style=\"color: #808000; text-decoration-color: #808000; font-weight: bold\">        </span>┃\n",
       "┗━━━━━━━━━━━━━━━━━━━━┻━━━━━━━━━━━━┛\n",
       "</pre>\n"
      ],
      "text/plain": [
       "\u001b[3m        Extraction Criteria        \u001b[0m\n",
       "┏━━━━━━━━━━━━━━━━━━━━┳━━━━━━━━━━━━┓\n",
       "┃\u001b[1m \u001b[0m\u001b[1mParameter         \u001b[0m\u001b[1m \u001b[0m┃\u001b[1m \u001b[0m\u001b[1mValue     \u001b[0m\u001b[1m \u001b[0m┃\n",
       "┣━━━━━━━━━━━━━━━━━━━━╋━━━━━━━━━━━━┫\n",
       "┃\u001b[1;36m \u001b[0m\u001b[1;36m🧪 Trial Mode     \u001b[0m\u001b[1;36m \u001b[0m┃\u001b[1;33m \u001b[0m\u001b[1;33m          \u001b[0m\u001b[1;33m \u001b[0m┃\n",
       "┃\u001b[1;36m \u001b[0m\u001b[1;36m📏 Trial Unit     \u001b[0m\u001b[1;36m \u001b[0m┃\u001b[1;33m \u001b[0m\u001b[1;33mWords     \u001b[0m\u001b[1;33m \u001b[0m┃\n",
       "┃\u001b[1;36m \u001b[0m\u001b[1;36m🔗 Experiment Mode\u001b[0m\u001b[1;36m \u001b[0m┃\u001b[1;33m \u001b[0m\u001b[1;33mExperiment\u001b[0m\u001b[1;33m \u001b[0m┃\n",
       "┃\u001b[1;36m \u001b[0m\u001b[1;36m🎭 Trial Boundary \u001b[0m\u001b[1;36m \u001b[0m┃\u001b[1;33m \u001b[0m\u001b[1;33mStart     \u001b[0m\u001b[1;33m \u001b[0m┃\n",
       "┃\u001b[1;36m \u001b[0m\u001b[1;36m🔬 Trial Type     \u001b[0m\u001b[1;36m \u001b[0m┃\u001b[1;33m \u001b[0m\u001b[1;33mFixation  \u001b[0m\u001b[1;33m \u001b[0m┃\n",
       "┃\u001b[1;36m \u001b[0m\u001b[1;36m📊 Modality       \u001b[0m\u001b[1;36m \u001b[0m┃\u001b[1;33m \u001b[0m\u001b[1;33mPictures  \u001b[0m\u001b[1;33m \u001b[0m┃\n",
       "┃\u001b[1;36m \u001b[0m\u001b[1;36m⏱ Tmin            \u001b[0m\u001b[1;36m \u001b[0m┃\u001b[1;33m \u001b[0m\u001b[1;36m-0.2\u001b[0m\u001b[1;33m      \u001b[0m\u001b[1;33m \u001b[0m┃\n",
       "┃\u001b[1;36m \u001b[0m\u001b[1;36m⏳ Tmax           \u001b[0m\u001b[1;36m \u001b[0m┃\u001b[1;33m \u001b[0m\u001b[1;36m0.5\u001b[0m\u001b[1;33m       \u001b[0m\u001b[1;33m \u001b[0m┃\n",
       "┗━━━━━━━━━━━━━━━━━━━━┻━━━━━━━━━━━━┛\n"
      ]
     },
     "metadata": {},
     "output_type": "display_data"
    },
    {
     "name": "stdout",
     "output_type": "stream",
     "text": [
      "Not setting metadata\n",
      "130 matching events found\n",
      "Applying baseline correction (mode: mean)\n",
      "0 projection items activated\n",
      "Using data from preloaded Raw for 130 events and 701 original time points ...\n",
      "0 bad epochs dropped\n",
      "NOTE: pick_channels() is a legacy function. New code should use inst.pick(...).\n",
      "NOTE: pick_channels() is a legacy function. New code should use inst.pick(...).\n",
      "Visual Change P100: latency=0.120s, peak=14.02µV, mean=7.63µV\n",
      "No Visual Change P100: latency=0.120s, peak=2.75µV, mean=1.13µV\n",
      "Initializing Plotter\n",
      "Results saved to p100_results/sub-08_ses-01_p100_Visual Change_No Visual Change.csv\n"
     ]
    },
    {
     "data": {
      "text/html": [
       "<pre style=\"white-space:pre;overflow-x:auto;line-height:normal;font-family:Menlo,'DejaVu Sans Mono',consolas,'Courier New',monospace\"><span style=\"color: #808000; text-decoration-color: #808000\">╭─────────────────────────────────────────╮</span>\n",
       "<span style=\"color: #808000; text-decoration-color: #808000\">│</span> 🚀 <span style=\"color: #808000; text-decoration-color: #808000; font-weight: bold\">Initializing BIDSDatasetReader Class</span> <span style=\"color: #808000; text-decoration-color: #808000\">│</span>\n",
       "<span style=\"color: #808000; text-decoration-color: #808000\">╰─────────────────────────────────────────╯</span>\n",
       "</pre>\n"
      ],
      "text/plain": [
       "\u001b[33m╭─────────────────────────────────────────╮\u001b[0m\n",
       "\u001b[33m│\u001b[0m 🚀 \u001b[1;33mInitializing BIDSDatasetReader Class\u001b[0m \u001b[33m│\u001b[0m\n",
       "\u001b[33m╰─────────────────────────────────────────╯\u001b[0m\n"
      ]
     },
     "metadata": {},
     "output_type": "display_data"
    },
    {
     "data": {
      "text/html": [
       "<pre style=\"white-space:pre;overflow-x:auto;line-height:normal;font-family:Menlo,'DejaVu Sans Mono',consolas,'Courier New',monospace\"> <span style=\"color: #008000; text-decoration-color: #008000; font-weight: bold\">Loading Processed EEG Data: sub-</span><span style=\"color: #008000; text-decoration-color: #008000; font-weight: bold\">09</span><span style=\"color: #008000; text-decoration-color: #008000; font-weight: bold\"> ses-</span><span style=\"color: #008000; text-decoration-color: #008000; font-weight: bold\">01</span>\n",
       "</pre>\n"
      ],
      "text/plain": [
       " \u001b[1;32mLoading Processed EEG Data: sub-\u001b[0m\u001b[1;32m09\u001b[0m\u001b[1;32m ses-\u001b[0m\u001b[1;32m01\u001b[0m\n"
      ]
     },
     "metadata": {},
     "output_type": "display_data"
    },
    {
     "data": {
      "text/html": [
       "<pre style=\"white-space:pre;overflow-x:auto;line-height:normal;font-family:Menlo,'DejaVu Sans Mono',consolas,'Courier New',monospace\"><span style=\"color: #800000; text-decoration-color: #800000\">╭─────────────────────────────────────╮</span>\n",
       "<span style=\"color: #800000; text-decoration-color: #800000\">│</span>  <span style=\"color: #800000; text-decoration-color: #800000; font-weight: bold\">Initializing EEGEpochBuilder Class</span> <span style=\"color: #800000; text-decoration-color: #800000\">│</span>\n",
       "<span style=\"color: #800000; text-decoration-color: #800000\">╰─────────────────────────────────────╯</span>\n",
       "</pre>\n"
      ],
      "text/plain": [
       "\u001b[31m╭─────────────────────────────────────╮\u001b[0m\n",
       "\u001b[31m│\u001b[0m  \u001b[1;31mInitializing EEGEpochBuilder Class\u001b[0m \u001b[31m│\u001b[0m\n",
       "\u001b[31m╰─────────────────────────────────────╯\u001b[0m\n"
      ]
     },
     "metadata": {},
     "output_type": "display_data"
    },
    {
     "data": {
      "text/html": [
       "<pre style=\"white-space:pre;overflow-x:auto;line-height:normal;font-family:Menlo,'DejaVu Sans Mono',consolas,'Courier New',monospace\"> <span style=\"color: #008000; text-decoration-color: #008000; font-weight: bold\">Creating EPOCHS</span>\n",
       "</pre>\n"
      ],
      "text/plain": [
       " \u001b[1;32mCreating EPOCHS\u001b[0m\n"
      ]
     },
     "metadata": {},
     "output_type": "display_data"
    },
    {
     "data": {
      "text/html": [
       "<pre style=\"white-space:pre;overflow-x:auto;line-height:normal;font-family:Menlo,'DejaVu Sans Mono',consolas,'Courier New',monospace\"><span style=\"font-style: italic\">        Extraction Criteria        </span>\n",
       "┏━━━━━━━━━━━━━━━━━━━━┳━━━━━━━━━━━━┓\n",
       "┃<span style=\"font-weight: bold\"> Parameter          </span>┃<span style=\"font-weight: bold\"> Value      </span>┃\n",
       "┣━━━━━━━━━━━━━━━━━━━━╋━━━━━━━━━━━━┫\n",
       "┃<span style=\"color: #008080; text-decoration-color: #008080; font-weight: bold\"> 🧪 Trial Mode      </span>┃<span style=\"color: #808000; text-decoration-color: #808000; font-weight: bold\">            </span>┃\n",
       "┃<span style=\"color: #008080; text-decoration-color: #008080; font-weight: bold\"> 📏 Trial Unit      </span>┃<span style=\"color: #808000; text-decoration-color: #808000; font-weight: bold\"> Words      </span>┃\n",
       "┃<span style=\"color: #008080; text-decoration-color: #008080; font-weight: bold\"> 🔗 Experiment Mode </span>┃<span style=\"color: #808000; text-decoration-color: #808000; font-weight: bold\"> Experiment </span>┃\n",
       "┃<span style=\"color: #008080; text-decoration-color: #008080; font-weight: bold\"> 🎭 Trial Boundary  </span>┃<span style=\"color: #808000; text-decoration-color: #808000; font-weight: bold\"> Start      </span>┃\n",
       "┃<span style=\"color: #008080; text-decoration-color: #008080; font-weight: bold\"> 🔬 Trial Type      </span>┃<span style=\"color: #808000; text-decoration-color: #808000; font-weight: bold\"> Stimulus   </span>┃\n",
       "┃<span style=\"color: #008080; text-decoration-color: #008080; font-weight: bold\"> 📊 Modality        </span>┃<span style=\"color: #808000; text-decoration-color: #808000; font-weight: bold\"> Pictures   </span>┃\n",
       "┃<span style=\"color: #008080; text-decoration-color: #008080; font-weight: bold\"> ⏱ Tmin             </span>┃<span style=\"color: #808000; text-decoration-color: #808000; font-weight: bold\"> </span><span style=\"color: #008080; text-decoration-color: #008080; font-weight: bold\">-0.2</span><span style=\"color: #808000; text-decoration-color: #808000; font-weight: bold\">       </span>┃\n",
       "┃<span style=\"color: #008080; text-decoration-color: #008080; font-weight: bold\"> ⏳ Tmax            </span>┃<span style=\"color: #808000; text-decoration-color: #808000; font-weight: bold\"> </span><span style=\"color: #008080; text-decoration-color: #008080; font-weight: bold\">0.5</span><span style=\"color: #808000; text-decoration-color: #808000; font-weight: bold\">        </span>┃\n",
       "┗━━━━━━━━━━━━━━━━━━━━┻━━━━━━━━━━━━┛\n",
       "</pre>\n"
      ],
      "text/plain": [
       "\u001b[3m        Extraction Criteria        \u001b[0m\n",
       "┏━━━━━━━━━━━━━━━━━━━━┳━━━━━━━━━━━━┓\n",
       "┃\u001b[1m \u001b[0m\u001b[1mParameter         \u001b[0m\u001b[1m \u001b[0m┃\u001b[1m \u001b[0m\u001b[1mValue     \u001b[0m\u001b[1m \u001b[0m┃\n",
       "┣━━━━━━━━━━━━━━━━━━━━╋━━━━━━━━━━━━┫\n",
       "┃\u001b[1;36m \u001b[0m\u001b[1;36m🧪 Trial Mode     \u001b[0m\u001b[1;36m \u001b[0m┃\u001b[1;33m \u001b[0m\u001b[1;33m          \u001b[0m\u001b[1;33m \u001b[0m┃\n",
       "┃\u001b[1;36m \u001b[0m\u001b[1;36m📏 Trial Unit     \u001b[0m\u001b[1;36m \u001b[0m┃\u001b[1;33m \u001b[0m\u001b[1;33mWords     \u001b[0m\u001b[1;33m \u001b[0m┃\n",
       "┃\u001b[1;36m \u001b[0m\u001b[1;36m🔗 Experiment Mode\u001b[0m\u001b[1;36m \u001b[0m┃\u001b[1;33m \u001b[0m\u001b[1;33mExperiment\u001b[0m\u001b[1;33m \u001b[0m┃\n",
       "┃\u001b[1;36m \u001b[0m\u001b[1;36m🎭 Trial Boundary \u001b[0m\u001b[1;36m \u001b[0m┃\u001b[1;33m \u001b[0m\u001b[1;33mStart     \u001b[0m\u001b[1;33m \u001b[0m┃\n",
       "┃\u001b[1;36m \u001b[0m\u001b[1;36m🔬 Trial Type     \u001b[0m\u001b[1;36m \u001b[0m┃\u001b[1;33m \u001b[0m\u001b[1;33mStimulus  \u001b[0m\u001b[1;33m \u001b[0m┃\n",
       "┃\u001b[1;36m \u001b[0m\u001b[1;36m📊 Modality       \u001b[0m\u001b[1;36m \u001b[0m┃\u001b[1;33m \u001b[0m\u001b[1;33mPictures  \u001b[0m\u001b[1;33m \u001b[0m┃\n",
       "┃\u001b[1;36m \u001b[0m\u001b[1;36m⏱ Tmin            \u001b[0m\u001b[1;36m \u001b[0m┃\u001b[1;33m \u001b[0m\u001b[1;36m-0.2\u001b[0m\u001b[1;33m      \u001b[0m\u001b[1;33m \u001b[0m┃\n",
       "┃\u001b[1;36m \u001b[0m\u001b[1;36m⏳ Tmax           \u001b[0m\u001b[1;36m \u001b[0m┃\u001b[1;33m \u001b[0m\u001b[1;36m0.5\u001b[0m\u001b[1;33m       \u001b[0m\u001b[1;33m \u001b[0m┃\n",
       "┗━━━━━━━━━━━━━━━━━━━━┻━━━━━━━━━━━━┛\n"
      ]
     },
     "metadata": {},
     "output_type": "display_data"
    },
    {
     "name": "stdout",
     "output_type": "stream",
     "text": [
      "Not setting metadata\n",
      "130 matching events found\n",
      "Applying baseline correction (mode: mean)\n",
      "0 projection items activated\n",
      "Using data from preloaded Raw for 130 events and 701 original time points ...\n",
      "0 bad epochs dropped\n"
     ]
    },
    {
     "data": {
      "text/html": [
       "<pre style=\"white-space:pre;overflow-x:auto;line-height:normal;font-family:Menlo,'DejaVu Sans Mono',consolas,'Courier New',monospace\"><span style=\"color: #800000; text-decoration-color: #800000\">╭─────────────────────────────────────╮</span>\n",
       "<span style=\"color: #800000; text-decoration-color: #800000\">│</span>  <span style=\"color: #800000; text-decoration-color: #800000; font-weight: bold\">Initializing EEGEpochBuilder Class</span> <span style=\"color: #800000; text-decoration-color: #800000\">│</span>\n",
       "<span style=\"color: #800000; text-decoration-color: #800000\">╰─────────────────────────────────────╯</span>\n",
       "</pre>\n"
      ],
      "text/plain": [
       "\u001b[31m╭─────────────────────────────────────╮\u001b[0m\n",
       "\u001b[31m│\u001b[0m  \u001b[1;31mInitializing EEGEpochBuilder Class\u001b[0m \u001b[31m│\u001b[0m\n",
       "\u001b[31m╰─────────────────────────────────────╯\u001b[0m\n"
      ]
     },
     "metadata": {},
     "output_type": "display_data"
    },
    {
     "data": {
      "text/html": [
       "<pre style=\"white-space:pre;overflow-x:auto;line-height:normal;font-family:Menlo,'DejaVu Sans Mono',consolas,'Courier New',monospace\"> <span style=\"color: #008000; text-decoration-color: #008000; font-weight: bold\">Creating EPOCHS</span>\n",
       "</pre>\n"
      ],
      "text/plain": [
       " \u001b[1;32mCreating EPOCHS\u001b[0m\n"
      ]
     },
     "metadata": {},
     "output_type": "display_data"
    },
    {
     "data": {
      "text/html": [
       "<pre style=\"white-space:pre;overflow-x:auto;line-height:normal;font-family:Menlo,'DejaVu Sans Mono',consolas,'Courier New',monospace\"><span style=\"font-style: italic\">        Extraction Criteria        </span>\n",
       "┏━━━━━━━━━━━━━━━━━━━━┳━━━━━━━━━━━━┓\n",
       "┃<span style=\"font-weight: bold\"> Parameter          </span>┃<span style=\"font-weight: bold\"> Value      </span>┃\n",
       "┣━━━━━━━━━━━━━━━━━━━━╋━━━━━━━━━━━━┫\n",
       "┃<span style=\"color: #008080; text-decoration-color: #008080; font-weight: bold\"> 🧪 Trial Mode      </span>┃<span style=\"color: #808000; text-decoration-color: #808000; font-weight: bold\">            </span>┃\n",
       "┃<span style=\"color: #008080; text-decoration-color: #008080; font-weight: bold\"> 📏 Trial Unit      </span>┃<span style=\"color: #808000; text-decoration-color: #808000; font-weight: bold\"> Words      </span>┃\n",
       "┃<span style=\"color: #008080; text-decoration-color: #008080; font-weight: bold\"> 🔗 Experiment Mode </span>┃<span style=\"color: #808000; text-decoration-color: #808000; font-weight: bold\"> Experiment </span>┃\n",
       "┃<span style=\"color: #008080; text-decoration-color: #008080; font-weight: bold\"> 🎭 Trial Boundary  </span>┃<span style=\"color: #808000; text-decoration-color: #808000; font-weight: bold\"> Start      </span>┃\n",
       "┃<span style=\"color: #008080; text-decoration-color: #008080; font-weight: bold\"> 🔬 Trial Type      </span>┃<span style=\"color: #808000; text-decoration-color: #808000; font-weight: bold\"> Fixation   </span>┃\n",
       "┃<span style=\"color: #008080; text-decoration-color: #008080; font-weight: bold\"> 📊 Modality        </span>┃<span style=\"color: #808000; text-decoration-color: #808000; font-weight: bold\"> Pictures   </span>┃\n",
       "┃<span style=\"color: #008080; text-decoration-color: #008080; font-weight: bold\"> ⏱ Tmin             </span>┃<span style=\"color: #808000; text-decoration-color: #808000; font-weight: bold\"> </span><span style=\"color: #008080; text-decoration-color: #008080; font-weight: bold\">-0.2</span><span style=\"color: #808000; text-decoration-color: #808000; font-weight: bold\">       </span>┃\n",
       "┃<span style=\"color: #008080; text-decoration-color: #008080; font-weight: bold\"> ⏳ Tmax            </span>┃<span style=\"color: #808000; text-decoration-color: #808000; font-weight: bold\"> </span><span style=\"color: #008080; text-decoration-color: #008080; font-weight: bold\">0.5</span><span style=\"color: #808000; text-decoration-color: #808000; font-weight: bold\">        </span>┃\n",
       "┗━━━━━━━━━━━━━━━━━━━━┻━━━━━━━━━━━━┛\n",
       "</pre>\n"
      ],
      "text/plain": [
       "\u001b[3m        Extraction Criteria        \u001b[0m\n",
       "┏━━━━━━━━━━━━━━━━━━━━┳━━━━━━━━━━━━┓\n",
       "┃\u001b[1m \u001b[0m\u001b[1mParameter         \u001b[0m\u001b[1m \u001b[0m┃\u001b[1m \u001b[0m\u001b[1mValue     \u001b[0m\u001b[1m \u001b[0m┃\n",
       "┣━━━━━━━━━━━━━━━━━━━━╋━━━━━━━━━━━━┫\n",
       "┃\u001b[1;36m \u001b[0m\u001b[1;36m🧪 Trial Mode     \u001b[0m\u001b[1;36m \u001b[0m┃\u001b[1;33m \u001b[0m\u001b[1;33m          \u001b[0m\u001b[1;33m \u001b[0m┃\n",
       "┃\u001b[1;36m \u001b[0m\u001b[1;36m📏 Trial Unit     \u001b[0m\u001b[1;36m \u001b[0m┃\u001b[1;33m \u001b[0m\u001b[1;33mWords     \u001b[0m\u001b[1;33m \u001b[0m┃\n",
       "┃\u001b[1;36m \u001b[0m\u001b[1;36m🔗 Experiment Mode\u001b[0m\u001b[1;36m \u001b[0m┃\u001b[1;33m \u001b[0m\u001b[1;33mExperiment\u001b[0m\u001b[1;33m \u001b[0m┃\n",
       "┃\u001b[1;36m \u001b[0m\u001b[1;36m🎭 Trial Boundary \u001b[0m\u001b[1;36m \u001b[0m┃\u001b[1;33m \u001b[0m\u001b[1;33mStart     \u001b[0m\u001b[1;33m \u001b[0m┃\n",
       "┃\u001b[1;36m \u001b[0m\u001b[1;36m🔬 Trial Type     \u001b[0m\u001b[1;36m \u001b[0m┃\u001b[1;33m \u001b[0m\u001b[1;33mFixation  \u001b[0m\u001b[1;33m \u001b[0m┃\n",
       "┃\u001b[1;36m \u001b[0m\u001b[1;36m📊 Modality       \u001b[0m\u001b[1;36m \u001b[0m┃\u001b[1;33m \u001b[0m\u001b[1;33mPictures  \u001b[0m\u001b[1;33m \u001b[0m┃\n",
       "┃\u001b[1;36m \u001b[0m\u001b[1;36m⏱ Tmin            \u001b[0m\u001b[1;36m \u001b[0m┃\u001b[1;33m \u001b[0m\u001b[1;36m-0.2\u001b[0m\u001b[1;33m      \u001b[0m\u001b[1;33m \u001b[0m┃\n",
       "┃\u001b[1;36m \u001b[0m\u001b[1;36m⏳ Tmax           \u001b[0m\u001b[1;36m \u001b[0m┃\u001b[1;33m \u001b[0m\u001b[1;36m0.5\u001b[0m\u001b[1;33m       \u001b[0m\u001b[1;33m \u001b[0m┃\n",
       "┗━━━━━━━━━━━━━━━━━━━━┻━━━━━━━━━━━━┛\n"
      ]
     },
     "metadata": {},
     "output_type": "display_data"
    },
    {
     "name": "stdout",
     "output_type": "stream",
     "text": [
      "Not setting metadata\n",
      "130 matching events found\n",
      "Applying baseline correction (mode: mean)\n",
      "0 projection items activated\n",
      "Using data from preloaded Raw for 130 events and 701 original time points ...\n",
      "0 bad epochs dropped\n",
      "NOTE: pick_channels() is a legacy function. New code should use inst.pick(...).\n",
      "NOTE: pick_channels() is a legacy function. New code should use inst.pick(...).\n",
      "Visual Change P100: latency=0.120s, peak=7.43µV, mean=1.64µV\n",
      "No Visual Change P100: latency=0.120s, peak=0.12µV, mean=-2.05µV\n",
      "Initializing Plotter\n",
      "Results saved to p100_results/sub-09_ses-01_p100_Visual Change_No Visual Change.csv\n"
     ]
    },
    {
     "data": {
      "text/html": [
       "<pre style=\"white-space:pre;overflow-x:auto;line-height:normal;font-family:Menlo,'DejaVu Sans Mono',consolas,'Courier New',monospace\"><span style=\"color: #808000; text-decoration-color: #808000\">╭─────────────────────────────────────────╮</span>\n",
       "<span style=\"color: #808000; text-decoration-color: #808000\">│</span> 🚀 <span style=\"color: #808000; text-decoration-color: #808000; font-weight: bold\">Initializing BIDSDatasetReader Class</span> <span style=\"color: #808000; text-decoration-color: #808000\">│</span>\n",
       "<span style=\"color: #808000; text-decoration-color: #808000\">╰─────────────────────────────────────────╯</span>\n",
       "</pre>\n"
      ],
      "text/plain": [
       "\u001b[33m╭─────────────────────────────────────────╮\u001b[0m\n",
       "\u001b[33m│\u001b[0m 🚀 \u001b[1;33mInitializing BIDSDatasetReader Class\u001b[0m \u001b[33m│\u001b[0m\n",
       "\u001b[33m╰─────────────────────────────────────────╯\u001b[0m\n"
      ]
     },
     "metadata": {},
     "output_type": "display_data"
    },
    {
     "data": {
      "text/html": [
       "<pre style=\"white-space:pre;overflow-x:auto;line-height:normal;font-family:Menlo,'DejaVu Sans Mono',consolas,'Courier New',monospace\"> <span style=\"color: #008000; text-decoration-color: #008000; font-weight: bold\">Loading Processed EEG Data: sub-</span><span style=\"color: #008000; text-decoration-color: #008000; font-weight: bold\">09</span><span style=\"color: #008000; text-decoration-color: #008000; font-weight: bold\"> ses-</span><span style=\"color: #008000; text-decoration-color: #008000; font-weight: bold\">02</span>\n",
       "</pre>\n"
      ],
      "text/plain": [
       " \u001b[1;32mLoading Processed EEG Data: sub-\u001b[0m\u001b[1;32m09\u001b[0m\u001b[1;32m ses-\u001b[0m\u001b[1;32m02\u001b[0m\n"
      ]
     },
     "metadata": {},
     "output_type": "display_data"
    },
    {
     "data": {
      "text/html": [
       "<pre style=\"white-space:pre;overflow-x:auto;line-height:normal;font-family:Menlo,'DejaVu Sans Mono',consolas,'Courier New',monospace\"><span style=\"color: #800000; text-decoration-color: #800000\">╭─────────────────────────────────────╮</span>\n",
       "<span style=\"color: #800000; text-decoration-color: #800000\">│</span>  <span style=\"color: #800000; text-decoration-color: #800000; font-weight: bold\">Initializing EEGEpochBuilder Class</span> <span style=\"color: #800000; text-decoration-color: #800000\">│</span>\n",
       "<span style=\"color: #800000; text-decoration-color: #800000\">╰─────────────────────────────────────╯</span>\n",
       "</pre>\n"
      ],
      "text/plain": [
       "\u001b[31m╭─────────────────────────────────────╮\u001b[0m\n",
       "\u001b[31m│\u001b[0m  \u001b[1;31mInitializing EEGEpochBuilder Class\u001b[0m \u001b[31m│\u001b[0m\n",
       "\u001b[31m╰─────────────────────────────────────╯\u001b[0m\n"
      ]
     },
     "metadata": {},
     "output_type": "display_data"
    },
    {
     "data": {
      "text/html": [
       "<pre style=\"white-space:pre;overflow-x:auto;line-height:normal;font-family:Menlo,'DejaVu Sans Mono',consolas,'Courier New',monospace\"> <span style=\"color: #008000; text-decoration-color: #008000; font-weight: bold\">Creating EPOCHS</span>\n",
       "</pre>\n"
      ],
      "text/plain": [
       " \u001b[1;32mCreating EPOCHS\u001b[0m\n"
      ]
     },
     "metadata": {},
     "output_type": "display_data"
    },
    {
     "data": {
      "text/html": [
       "<pre style=\"white-space:pre;overflow-x:auto;line-height:normal;font-family:Menlo,'DejaVu Sans Mono',consolas,'Courier New',monospace\"><span style=\"font-style: italic\">        Extraction Criteria        </span>\n",
       "┏━━━━━━━━━━━━━━━━━━━━┳━━━━━━━━━━━━┓\n",
       "┃<span style=\"font-weight: bold\"> Parameter          </span>┃<span style=\"font-weight: bold\"> Value      </span>┃\n",
       "┣━━━━━━━━━━━━━━━━━━━━╋━━━━━━━━━━━━┫\n",
       "┃<span style=\"color: #008080; text-decoration-color: #008080; font-weight: bold\"> 🧪 Trial Mode      </span>┃<span style=\"color: #808000; text-decoration-color: #808000; font-weight: bold\">            </span>┃\n",
       "┃<span style=\"color: #008080; text-decoration-color: #008080; font-weight: bold\"> 📏 Trial Unit      </span>┃<span style=\"color: #808000; text-decoration-color: #808000; font-weight: bold\"> Words      </span>┃\n",
       "┃<span style=\"color: #008080; text-decoration-color: #008080; font-weight: bold\"> 🔗 Experiment Mode </span>┃<span style=\"color: #808000; text-decoration-color: #808000; font-weight: bold\"> Experiment </span>┃\n",
       "┃<span style=\"color: #008080; text-decoration-color: #008080; font-weight: bold\"> 🎭 Trial Boundary  </span>┃<span style=\"color: #808000; text-decoration-color: #808000; font-weight: bold\"> Start      </span>┃\n",
       "┃<span style=\"color: #008080; text-decoration-color: #008080; font-weight: bold\"> 🔬 Trial Type      </span>┃<span style=\"color: #808000; text-decoration-color: #808000; font-weight: bold\"> Stimulus   </span>┃\n",
       "┃<span style=\"color: #008080; text-decoration-color: #008080; font-weight: bold\"> 📊 Modality        </span>┃<span style=\"color: #808000; text-decoration-color: #808000; font-weight: bold\"> Pictures   </span>┃\n",
       "┃<span style=\"color: #008080; text-decoration-color: #008080; font-weight: bold\"> ⏱ Tmin             </span>┃<span style=\"color: #808000; text-decoration-color: #808000; font-weight: bold\"> </span><span style=\"color: #008080; text-decoration-color: #008080; font-weight: bold\">-0.2</span><span style=\"color: #808000; text-decoration-color: #808000; font-weight: bold\">       </span>┃\n",
       "┃<span style=\"color: #008080; text-decoration-color: #008080; font-weight: bold\"> ⏳ Tmax            </span>┃<span style=\"color: #808000; text-decoration-color: #808000; font-weight: bold\"> </span><span style=\"color: #008080; text-decoration-color: #008080; font-weight: bold\">0.5</span><span style=\"color: #808000; text-decoration-color: #808000; font-weight: bold\">        </span>┃\n",
       "┗━━━━━━━━━━━━━━━━━━━━┻━━━━━━━━━━━━┛\n",
       "</pre>\n"
      ],
      "text/plain": [
       "\u001b[3m        Extraction Criteria        \u001b[0m\n",
       "┏━━━━━━━━━━━━━━━━━━━━┳━━━━━━━━━━━━┓\n",
       "┃\u001b[1m \u001b[0m\u001b[1mParameter         \u001b[0m\u001b[1m \u001b[0m┃\u001b[1m \u001b[0m\u001b[1mValue     \u001b[0m\u001b[1m \u001b[0m┃\n",
       "┣━━━━━━━━━━━━━━━━━━━━╋━━━━━━━━━━━━┫\n",
       "┃\u001b[1;36m \u001b[0m\u001b[1;36m🧪 Trial Mode     \u001b[0m\u001b[1;36m \u001b[0m┃\u001b[1;33m \u001b[0m\u001b[1;33m          \u001b[0m\u001b[1;33m \u001b[0m┃\n",
       "┃\u001b[1;36m \u001b[0m\u001b[1;36m📏 Trial Unit     \u001b[0m\u001b[1;36m \u001b[0m┃\u001b[1;33m \u001b[0m\u001b[1;33mWords     \u001b[0m\u001b[1;33m \u001b[0m┃\n",
       "┃\u001b[1;36m \u001b[0m\u001b[1;36m🔗 Experiment Mode\u001b[0m\u001b[1;36m \u001b[0m┃\u001b[1;33m \u001b[0m\u001b[1;33mExperiment\u001b[0m\u001b[1;33m \u001b[0m┃\n",
       "┃\u001b[1;36m \u001b[0m\u001b[1;36m🎭 Trial Boundary \u001b[0m\u001b[1;36m \u001b[0m┃\u001b[1;33m \u001b[0m\u001b[1;33mStart     \u001b[0m\u001b[1;33m \u001b[0m┃\n",
       "┃\u001b[1;36m \u001b[0m\u001b[1;36m🔬 Trial Type     \u001b[0m\u001b[1;36m \u001b[0m┃\u001b[1;33m \u001b[0m\u001b[1;33mStimulus  \u001b[0m\u001b[1;33m \u001b[0m┃\n",
       "┃\u001b[1;36m \u001b[0m\u001b[1;36m📊 Modality       \u001b[0m\u001b[1;36m \u001b[0m┃\u001b[1;33m \u001b[0m\u001b[1;33mPictures  \u001b[0m\u001b[1;33m \u001b[0m┃\n",
       "┃\u001b[1;36m \u001b[0m\u001b[1;36m⏱ Tmin            \u001b[0m\u001b[1;36m \u001b[0m┃\u001b[1;33m \u001b[0m\u001b[1;36m-0.2\u001b[0m\u001b[1;33m      \u001b[0m\u001b[1;33m \u001b[0m┃\n",
       "┃\u001b[1;36m \u001b[0m\u001b[1;36m⏳ Tmax           \u001b[0m\u001b[1;36m \u001b[0m┃\u001b[1;33m \u001b[0m\u001b[1;36m0.5\u001b[0m\u001b[1;33m       \u001b[0m\u001b[1;33m \u001b[0m┃\n",
       "┗━━━━━━━━━━━━━━━━━━━━┻━━━━━━━━━━━━┛\n"
      ]
     },
     "metadata": {},
     "output_type": "display_data"
    },
    {
     "name": "stdout",
     "output_type": "stream",
     "text": [
      "Not setting metadata\n",
      "130 matching events found\n",
      "Applying baseline correction (mode: mean)\n",
      "0 projection items activated\n",
      "Using data from preloaded Raw for 130 events and 701 original time points ...\n",
      "0 bad epochs dropped\n"
     ]
    },
    {
     "data": {
      "text/html": [
       "<pre style=\"white-space:pre;overflow-x:auto;line-height:normal;font-family:Menlo,'DejaVu Sans Mono',consolas,'Courier New',monospace\"><span style=\"color: #800000; text-decoration-color: #800000\">╭─────────────────────────────────────╮</span>\n",
       "<span style=\"color: #800000; text-decoration-color: #800000\">│</span>  <span style=\"color: #800000; text-decoration-color: #800000; font-weight: bold\">Initializing EEGEpochBuilder Class</span> <span style=\"color: #800000; text-decoration-color: #800000\">│</span>\n",
       "<span style=\"color: #800000; text-decoration-color: #800000\">╰─────────────────────────────────────╯</span>\n",
       "</pre>\n"
      ],
      "text/plain": [
       "\u001b[31m╭─────────────────────────────────────╮\u001b[0m\n",
       "\u001b[31m│\u001b[0m  \u001b[1;31mInitializing EEGEpochBuilder Class\u001b[0m \u001b[31m│\u001b[0m\n",
       "\u001b[31m╰─────────────────────────────────────╯\u001b[0m\n"
      ]
     },
     "metadata": {},
     "output_type": "display_data"
    },
    {
     "data": {
      "text/html": [
       "<pre style=\"white-space:pre;overflow-x:auto;line-height:normal;font-family:Menlo,'DejaVu Sans Mono',consolas,'Courier New',monospace\"> <span style=\"color: #008000; text-decoration-color: #008000; font-weight: bold\">Creating EPOCHS</span>\n",
       "</pre>\n"
      ],
      "text/plain": [
       " \u001b[1;32mCreating EPOCHS\u001b[0m\n"
      ]
     },
     "metadata": {},
     "output_type": "display_data"
    },
    {
     "data": {
      "text/html": [
       "<pre style=\"white-space:pre;overflow-x:auto;line-height:normal;font-family:Menlo,'DejaVu Sans Mono',consolas,'Courier New',monospace\"><span style=\"font-style: italic\">        Extraction Criteria        </span>\n",
       "┏━━━━━━━━━━━━━━━━━━━━┳━━━━━━━━━━━━┓\n",
       "┃<span style=\"font-weight: bold\"> Parameter          </span>┃<span style=\"font-weight: bold\"> Value      </span>┃\n",
       "┣━━━━━━━━━━━━━━━━━━━━╋━━━━━━━━━━━━┫\n",
       "┃<span style=\"color: #008080; text-decoration-color: #008080; font-weight: bold\"> 🧪 Trial Mode      </span>┃<span style=\"color: #808000; text-decoration-color: #808000; font-weight: bold\">            </span>┃\n",
       "┃<span style=\"color: #008080; text-decoration-color: #008080; font-weight: bold\"> 📏 Trial Unit      </span>┃<span style=\"color: #808000; text-decoration-color: #808000; font-weight: bold\"> Words      </span>┃\n",
       "┃<span style=\"color: #008080; text-decoration-color: #008080; font-weight: bold\"> 🔗 Experiment Mode </span>┃<span style=\"color: #808000; text-decoration-color: #808000; font-weight: bold\"> Experiment </span>┃\n",
       "┃<span style=\"color: #008080; text-decoration-color: #008080; font-weight: bold\"> 🎭 Trial Boundary  </span>┃<span style=\"color: #808000; text-decoration-color: #808000; font-weight: bold\"> Start      </span>┃\n",
       "┃<span style=\"color: #008080; text-decoration-color: #008080; font-weight: bold\"> 🔬 Trial Type      </span>┃<span style=\"color: #808000; text-decoration-color: #808000; font-weight: bold\"> Fixation   </span>┃\n",
       "┃<span style=\"color: #008080; text-decoration-color: #008080; font-weight: bold\"> 📊 Modality        </span>┃<span style=\"color: #808000; text-decoration-color: #808000; font-weight: bold\"> Pictures   </span>┃\n",
       "┃<span style=\"color: #008080; text-decoration-color: #008080; font-weight: bold\"> ⏱ Tmin             </span>┃<span style=\"color: #808000; text-decoration-color: #808000; font-weight: bold\"> </span><span style=\"color: #008080; text-decoration-color: #008080; font-weight: bold\">-0.2</span><span style=\"color: #808000; text-decoration-color: #808000; font-weight: bold\">       </span>┃\n",
       "┃<span style=\"color: #008080; text-decoration-color: #008080; font-weight: bold\"> ⏳ Tmax            </span>┃<span style=\"color: #808000; text-decoration-color: #808000; font-weight: bold\"> </span><span style=\"color: #008080; text-decoration-color: #008080; font-weight: bold\">0.5</span><span style=\"color: #808000; text-decoration-color: #808000; font-weight: bold\">        </span>┃\n",
       "┗━━━━━━━━━━━━━━━━━━━━┻━━━━━━━━━━━━┛\n",
       "</pre>\n"
      ],
      "text/plain": [
       "\u001b[3m        Extraction Criteria        \u001b[0m\n",
       "┏━━━━━━━━━━━━━━━━━━━━┳━━━━━━━━━━━━┓\n",
       "┃\u001b[1m \u001b[0m\u001b[1mParameter         \u001b[0m\u001b[1m \u001b[0m┃\u001b[1m \u001b[0m\u001b[1mValue     \u001b[0m\u001b[1m \u001b[0m┃\n",
       "┣━━━━━━━━━━━━━━━━━━━━╋━━━━━━━━━━━━┫\n",
       "┃\u001b[1;36m \u001b[0m\u001b[1;36m🧪 Trial Mode     \u001b[0m\u001b[1;36m \u001b[0m┃\u001b[1;33m \u001b[0m\u001b[1;33m          \u001b[0m\u001b[1;33m \u001b[0m┃\n",
       "┃\u001b[1;36m \u001b[0m\u001b[1;36m📏 Trial Unit     \u001b[0m\u001b[1;36m \u001b[0m┃\u001b[1;33m \u001b[0m\u001b[1;33mWords     \u001b[0m\u001b[1;33m \u001b[0m┃\n",
       "┃\u001b[1;36m \u001b[0m\u001b[1;36m🔗 Experiment Mode\u001b[0m\u001b[1;36m \u001b[0m┃\u001b[1;33m \u001b[0m\u001b[1;33mExperiment\u001b[0m\u001b[1;33m \u001b[0m┃\n",
       "┃\u001b[1;36m \u001b[0m\u001b[1;36m🎭 Trial Boundary \u001b[0m\u001b[1;36m \u001b[0m┃\u001b[1;33m \u001b[0m\u001b[1;33mStart     \u001b[0m\u001b[1;33m \u001b[0m┃\n",
       "┃\u001b[1;36m \u001b[0m\u001b[1;36m🔬 Trial Type     \u001b[0m\u001b[1;36m \u001b[0m┃\u001b[1;33m \u001b[0m\u001b[1;33mFixation  \u001b[0m\u001b[1;33m \u001b[0m┃\n",
       "┃\u001b[1;36m \u001b[0m\u001b[1;36m📊 Modality       \u001b[0m\u001b[1;36m \u001b[0m┃\u001b[1;33m \u001b[0m\u001b[1;33mPictures  \u001b[0m\u001b[1;33m \u001b[0m┃\n",
       "┃\u001b[1;36m \u001b[0m\u001b[1;36m⏱ Tmin            \u001b[0m\u001b[1;36m \u001b[0m┃\u001b[1;33m \u001b[0m\u001b[1;36m-0.2\u001b[0m\u001b[1;33m      \u001b[0m\u001b[1;33m \u001b[0m┃\n",
       "┃\u001b[1;36m \u001b[0m\u001b[1;36m⏳ Tmax           \u001b[0m\u001b[1;36m \u001b[0m┃\u001b[1;33m \u001b[0m\u001b[1;36m0.5\u001b[0m\u001b[1;33m       \u001b[0m\u001b[1;33m \u001b[0m┃\n",
       "┗━━━━━━━━━━━━━━━━━━━━┻━━━━━━━━━━━━┛\n"
      ]
     },
     "metadata": {},
     "output_type": "display_data"
    },
    {
     "name": "stdout",
     "output_type": "stream",
     "text": [
      "Not setting metadata\n",
      "130 matching events found\n",
      "Applying baseline correction (mode: mean)\n",
      "0 projection items activated\n",
      "Using data from preloaded Raw for 130 events and 701 original time points ...\n",
      "0 bad epochs dropped\n",
      "NOTE: pick_channels() is a legacy function. New code should use inst.pick(...).\n",
      "NOTE: pick_channels() is a legacy function. New code should use inst.pick(...).\n",
      "Visual Change P100: latency=0.120s, peak=3.72µV, mean=0.43µV\n",
      "No Visual Change P100: latency=0.120s, peak=0.64µV, mean=0.05µV\n",
      "Initializing Plotter\n",
      "Results saved to p100_results/sub-09_ses-02_p100_Visual Change_No Visual Change.csv\n"
     ]
    },
    {
     "data": {
      "text/html": [
       "<pre style=\"white-space:pre;overflow-x:auto;line-height:normal;font-family:Menlo,'DejaVu Sans Mono',consolas,'Courier New',monospace\"><span style=\"color: #808000; text-decoration-color: #808000\">╭─────────────────────────────────────────╮</span>\n",
       "<span style=\"color: #808000; text-decoration-color: #808000\">│</span> 🚀 <span style=\"color: #808000; text-decoration-color: #808000; font-weight: bold\">Initializing BIDSDatasetReader Class</span> <span style=\"color: #808000; text-decoration-color: #808000\">│</span>\n",
       "<span style=\"color: #808000; text-decoration-color: #808000\">╰─────────────────────────────────────────╯</span>\n",
       "</pre>\n"
      ],
      "text/plain": [
       "\u001b[33m╭─────────────────────────────────────────╮\u001b[0m\n",
       "\u001b[33m│\u001b[0m 🚀 \u001b[1;33mInitializing BIDSDatasetReader Class\u001b[0m \u001b[33m│\u001b[0m\n",
       "\u001b[33m╰─────────────────────────────────────────╯\u001b[0m\n"
      ]
     },
     "metadata": {},
     "output_type": "display_data"
    },
    {
     "data": {
      "text/html": [
       "<pre style=\"white-space:pre;overflow-x:auto;line-height:normal;font-family:Menlo,'DejaVu Sans Mono',consolas,'Courier New',monospace\"> <span style=\"color: #008000; text-decoration-color: #008000; font-weight: bold\">Loading Processed EEG Data: sub-</span><span style=\"color: #008000; text-decoration-color: #008000; font-weight: bold\">10</span><span style=\"color: #008000; text-decoration-color: #008000; font-weight: bold\"> ses-</span><span style=\"color: #008000; text-decoration-color: #008000; font-weight: bold\">01</span>\n",
       "</pre>\n"
      ],
      "text/plain": [
       " \u001b[1;32mLoading Processed EEG Data: sub-\u001b[0m\u001b[1;32m10\u001b[0m\u001b[1;32m ses-\u001b[0m\u001b[1;32m01\u001b[0m\n"
      ]
     },
     "metadata": {},
     "output_type": "display_data"
    },
    {
     "data": {
      "text/html": [
       "<pre style=\"white-space:pre;overflow-x:auto;line-height:normal;font-family:Menlo,'DejaVu Sans Mono',consolas,'Courier New',monospace\"><span style=\"color: #800000; text-decoration-color: #800000\">╭─────────────────────────────────────╮</span>\n",
       "<span style=\"color: #800000; text-decoration-color: #800000\">│</span>  <span style=\"color: #800000; text-decoration-color: #800000; font-weight: bold\">Initializing EEGEpochBuilder Class</span> <span style=\"color: #800000; text-decoration-color: #800000\">│</span>\n",
       "<span style=\"color: #800000; text-decoration-color: #800000\">╰─────────────────────────────────────╯</span>\n",
       "</pre>\n"
      ],
      "text/plain": [
       "\u001b[31m╭─────────────────────────────────────╮\u001b[0m\n",
       "\u001b[31m│\u001b[0m  \u001b[1;31mInitializing EEGEpochBuilder Class\u001b[0m \u001b[31m│\u001b[0m\n",
       "\u001b[31m╰─────────────────────────────────────╯\u001b[0m\n"
      ]
     },
     "metadata": {},
     "output_type": "display_data"
    },
    {
     "data": {
      "text/html": [
       "<pre style=\"white-space:pre;overflow-x:auto;line-height:normal;font-family:Menlo,'DejaVu Sans Mono',consolas,'Courier New',monospace\"> <span style=\"color: #008000; text-decoration-color: #008000; font-weight: bold\">Creating EPOCHS</span>\n",
       "</pre>\n"
      ],
      "text/plain": [
       " \u001b[1;32mCreating EPOCHS\u001b[0m\n"
      ]
     },
     "metadata": {},
     "output_type": "display_data"
    },
    {
     "data": {
      "text/html": [
       "<pre style=\"white-space:pre;overflow-x:auto;line-height:normal;font-family:Menlo,'DejaVu Sans Mono',consolas,'Courier New',monospace\"><span style=\"font-style: italic\">        Extraction Criteria        </span>\n",
       "┏━━━━━━━━━━━━━━━━━━━━┳━━━━━━━━━━━━┓\n",
       "┃<span style=\"font-weight: bold\"> Parameter          </span>┃<span style=\"font-weight: bold\"> Value      </span>┃\n",
       "┣━━━━━━━━━━━━━━━━━━━━╋━━━━━━━━━━━━┫\n",
       "┃<span style=\"color: #008080; text-decoration-color: #008080; font-weight: bold\"> 🧪 Trial Mode      </span>┃<span style=\"color: #808000; text-decoration-color: #808000; font-weight: bold\">            </span>┃\n",
       "┃<span style=\"color: #008080; text-decoration-color: #008080; font-weight: bold\"> 📏 Trial Unit      </span>┃<span style=\"color: #808000; text-decoration-color: #808000; font-weight: bold\"> Words      </span>┃\n",
       "┃<span style=\"color: #008080; text-decoration-color: #008080; font-weight: bold\"> 🔗 Experiment Mode </span>┃<span style=\"color: #808000; text-decoration-color: #808000; font-weight: bold\"> Experiment </span>┃\n",
       "┃<span style=\"color: #008080; text-decoration-color: #008080; font-weight: bold\"> 🎭 Trial Boundary  </span>┃<span style=\"color: #808000; text-decoration-color: #808000; font-weight: bold\"> Start      </span>┃\n",
       "┃<span style=\"color: #008080; text-decoration-color: #008080; font-weight: bold\"> 🔬 Trial Type      </span>┃<span style=\"color: #808000; text-decoration-color: #808000; font-weight: bold\"> Stimulus   </span>┃\n",
       "┃<span style=\"color: #008080; text-decoration-color: #008080; font-weight: bold\"> 📊 Modality        </span>┃<span style=\"color: #808000; text-decoration-color: #808000; font-weight: bold\"> Pictures   </span>┃\n",
       "┃<span style=\"color: #008080; text-decoration-color: #008080; font-weight: bold\"> ⏱ Tmin             </span>┃<span style=\"color: #808000; text-decoration-color: #808000; font-weight: bold\"> </span><span style=\"color: #008080; text-decoration-color: #008080; font-weight: bold\">-0.2</span><span style=\"color: #808000; text-decoration-color: #808000; font-weight: bold\">       </span>┃\n",
       "┃<span style=\"color: #008080; text-decoration-color: #008080; font-weight: bold\"> ⏳ Tmax            </span>┃<span style=\"color: #808000; text-decoration-color: #808000; font-weight: bold\"> </span><span style=\"color: #008080; text-decoration-color: #008080; font-weight: bold\">0.5</span><span style=\"color: #808000; text-decoration-color: #808000; font-weight: bold\">        </span>┃\n",
       "┗━━━━━━━━━━━━━━━━━━━━┻━━━━━━━━━━━━┛\n",
       "</pre>\n"
      ],
      "text/plain": [
       "\u001b[3m        Extraction Criteria        \u001b[0m\n",
       "┏━━━━━━━━━━━━━━━━━━━━┳━━━━━━━━━━━━┓\n",
       "┃\u001b[1m \u001b[0m\u001b[1mParameter         \u001b[0m\u001b[1m \u001b[0m┃\u001b[1m \u001b[0m\u001b[1mValue     \u001b[0m\u001b[1m \u001b[0m┃\n",
       "┣━━━━━━━━━━━━━━━━━━━━╋━━━━━━━━━━━━┫\n",
       "┃\u001b[1;36m \u001b[0m\u001b[1;36m🧪 Trial Mode     \u001b[0m\u001b[1;36m \u001b[0m┃\u001b[1;33m \u001b[0m\u001b[1;33m          \u001b[0m\u001b[1;33m \u001b[0m┃\n",
       "┃\u001b[1;36m \u001b[0m\u001b[1;36m📏 Trial Unit     \u001b[0m\u001b[1;36m \u001b[0m┃\u001b[1;33m \u001b[0m\u001b[1;33mWords     \u001b[0m\u001b[1;33m \u001b[0m┃\n",
       "┃\u001b[1;36m \u001b[0m\u001b[1;36m🔗 Experiment Mode\u001b[0m\u001b[1;36m \u001b[0m┃\u001b[1;33m \u001b[0m\u001b[1;33mExperiment\u001b[0m\u001b[1;33m \u001b[0m┃\n",
       "┃\u001b[1;36m \u001b[0m\u001b[1;36m🎭 Trial Boundary \u001b[0m\u001b[1;36m \u001b[0m┃\u001b[1;33m \u001b[0m\u001b[1;33mStart     \u001b[0m\u001b[1;33m \u001b[0m┃\n",
       "┃\u001b[1;36m \u001b[0m\u001b[1;36m🔬 Trial Type     \u001b[0m\u001b[1;36m \u001b[0m┃\u001b[1;33m \u001b[0m\u001b[1;33mStimulus  \u001b[0m\u001b[1;33m \u001b[0m┃\n",
       "┃\u001b[1;36m \u001b[0m\u001b[1;36m📊 Modality       \u001b[0m\u001b[1;36m \u001b[0m┃\u001b[1;33m \u001b[0m\u001b[1;33mPictures  \u001b[0m\u001b[1;33m \u001b[0m┃\n",
       "┃\u001b[1;36m \u001b[0m\u001b[1;36m⏱ Tmin            \u001b[0m\u001b[1;36m \u001b[0m┃\u001b[1;33m \u001b[0m\u001b[1;36m-0.2\u001b[0m\u001b[1;33m      \u001b[0m\u001b[1;33m \u001b[0m┃\n",
       "┃\u001b[1;36m \u001b[0m\u001b[1;36m⏳ Tmax           \u001b[0m\u001b[1;36m \u001b[0m┃\u001b[1;33m \u001b[0m\u001b[1;36m0.5\u001b[0m\u001b[1;33m       \u001b[0m\u001b[1;33m \u001b[0m┃\n",
       "┗━━━━━━━━━━━━━━━━━━━━┻━━━━━━━━━━━━┛\n"
      ]
     },
     "metadata": {},
     "output_type": "display_data"
    },
    {
     "name": "stdout",
     "output_type": "stream",
     "text": [
      "Not setting metadata\n",
      "130 matching events found\n",
      "Applying baseline correction (mode: mean)\n",
      "0 projection items activated\n",
      "Using data from preloaded Raw for 130 events and 701 original time points ...\n",
      "0 bad epochs dropped\n"
     ]
    },
    {
     "data": {
      "text/html": [
       "<pre style=\"white-space:pre;overflow-x:auto;line-height:normal;font-family:Menlo,'DejaVu Sans Mono',consolas,'Courier New',monospace\"><span style=\"color: #800000; text-decoration-color: #800000\">╭─────────────────────────────────────╮</span>\n",
       "<span style=\"color: #800000; text-decoration-color: #800000\">│</span>  <span style=\"color: #800000; text-decoration-color: #800000; font-weight: bold\">Initializing EEGEpochBuilder Class</span> <span style=\"color: #800000; text-decoration-color: #800000\">│</span>\n",
       "<span style=\"color: #800000; text-decoration-color: #800000\">╰─────────────────────────────────────╯</span>\n",
       "</pre>\n"
      ],
      "text/plain": [
       "\u001b[31m╭─────────────────────────────────────╮\u001b[0m\n",
       "\u001b[31m│\u001b[0m  \u001b[1;31mInitializing EEGEpochBuilder Class\u001b[0m \u001b[31m│\u001b[0m\n",
       "\u001b[31m╰─────────────────────────────────────╯\u001b[0m\n"
      ]
     },
     "metadata": {},
     "output_type": "display_data"
    },
    {
     "data": {
      "text/html": [
       "<pre style=\"white-space:pre;overflow-x:auto;line-height:normal;font-family:Menlo,'DejaVu Sans Mono',consolas,'Courier New',monospace\"> <span style=\"color: #008000; text-decoration-color: #008000; font-weight: bold\">Creating EPOCHS</span>\n",
       "</pre>\n"
      ],
      "text/plain": [
       " \u001b[1;32mCreating EPOCHS\u001b[0m\n"
      ]
     },
     "metadata": {},
     "output_type": "display_data"
    },
    {
     "data": {
      "text/html": [
       "<pre style=\"white-space:pre;overflow-x:auto;line-height:normal;font-family:Menlo,'DejaVu Sans Mono',consolas,'Courier New',monospace\"><span style=\"font-style: italic\">        Extraction Criteria        </span>\n",
       "┏━━━━━━━━━━━━━━━━━━━━┳━━━━━━━━━━━━┓\n",
       "┃<span style=\"font-weight: bold\"> Parameter          </span>┃<span style=\"font-weight: bold\"> Value      </span>┃\n",
       "┣━━━━━━━━━━━━━━━━━━━━╋━━━━━━━━━━━━┫\n",
       "┃<span style=\"color: #008080; text-decoration-color: #008080; font-weight: bold\"> 🧪 Trial Mode      </span>┃<span style=\"color: #808000; text-decoration-color: #808000; font-weight: bold\">            </span>┃\n",
       "┃<span style=\"color: #008080; text-decoration-color: #008080; font-weight: bold\"> 📏 Trial Unit      </span>┃<span style=\"color: #808000; text-decoration-color: #808000; font-weight: bold\"> Words      </span>┃\n",
       "┃<span style=\"color: #008080; text-decoration-color: #008080; font-weight: bold\"> 🔗 Experiment Mode </span>┃<span style=\"color: #808000; text-decoration-color: #808000; font-weight: bold\"> Experiment </span>┃\n",
       "┃<span style=\"color: #008080; text-decoration-color: #008080; font-weight: bold\"> 🎭 Trial Boundary  </span>┃<span style=\"color: #808000; text-decoration-color: #808000; font-weight: bold\"> Start      </span>┃\n",
       "┃<span style=\"color: #008080; text-decoration-color: #008080; font-weight: bold\"> 🔬 Trial Type      </span>┃<span style=\"color: #808000; text-decoration-color: #808000; font-weight: bold\"> Fixation   </span>┃\n",
       "┃<span style=\"color: #008080; text-decoration-color: #008080; font-weight: bold\"> 📊 Modality        </span>┃<span style=\"color: #808000; text-decoration-color: #808000; font-weight: bold\"> Pictures   </span>┃\n",
       "┃<span style=\"color: #008080; text-decoration-color: #008080; font-weight: bold\"> ⏱ Tmin             </span>┃<span style=\"color: #808000; text-decoration-color: #808000; font-weight: bold\"> </span><span style=\"color: #008080; text-decoration-color: #008080; font-weight: bold\">-0.2</span><span style=\"color: #808000; text-decoration-color: #808000; font-weight: bold\">       </span>┃\n",
       "┃<span style=\"color: #008080; text-decoration-color: #008080; font-weight: bold\"> ⏳ Tmax            </span>┃<span style=\"color: #808000; text-decoration-color: #808000; font-weight: bold\"> </span><span style=\"color: #008080; text-decoration-color: #008080; font-weight: bold\">0.5</span><span style=\"color: #808000; text-decoration-color: #808000; font-weight: bold\">        </span>┃\n",
       "┗━━━━━━━━━━━━━━━━━━━━┻━━━━━━━━━━━━┛\n",
       "</pre>\n"
      ],
      "text/plain": [
       "\u001b[3m        Extraction Criteria        \u001b[0m\n",
       "┏━━━━━━━━━━━━━━━━━━━━┳━━━━━━━━━━━━┓\n",
       "┃\u001b[1m \u001b[0m\u001b[1mParameter         \u001b[0m\u001b[1m \u001b[0m┃\u001b[1m \u001b[0m\u001b[1mValue     \u001b[0m\u001b[1m \u001b[0m┃\n",
       "┣━━━━━━━━━━━━━━━━━━━━╋━━━━━━━━━━━━┫\n",
       "┃\u001b[1;36m \u001b[0m\u001b[1;36m🧪 Trial Mode     \u001b[0m\u001b[1;36m \u001b[0m┃\u001b[1;33m \u001b[0m\u001b[1;33m          \u001b[0m\u001b[1;33m \u001b[0m┃\n",
       "┃\u001b[1;36m \u001b[0m\u001b[1;36m📏 Trial Unit     \u001b[0m\u001b[1;36m \u001b[0m┃\u001b[1;33m \u001b[0m\u001b[1;33mWords     \u001b[0m\u001b[1;33m \u001b[0m┃\n",
       "┃\u001b[1;36m \u001b[0m\u001b[1;36m🔗 Experiment Mode\u001b[0m\u001b[1;36m \u001b[0m┃\u001b[1;33m \u001b[0m\u001b[1;33mExperiment\u001b[0m\u001b[1;33m \u001b[0m┃\n",
       "┃\u001b[1;36m \u001b[0m\u001b[1;36m🎭 Trial Boundary \u001b[0m\u001b[1;36m \u001b[0m┃\u001b[1;33m \u001b[0m\u001b[1;33mStart     \u001b[0m\u001b[1;33m \u001b[0m┃\n",
       "┃\u001b[1;36m \u001b[0m\u001b[1;36m🔬 Trial Type     \u001b[0m\u001b[1;36m \u001b[0m┃\u001b[1;33m \u001b[0m\u001b[1;33mFixation  \u001b[0m\u001b[1;33m \u001b[0m┃\n",
       "┃\u001b[1;36m \u001b[0m\u001b[1;36m📊 Modality       \u001b[0m\u001b[1;36m \u001b[0m┃\u001b[1;33m \u001b[0m\u001b[1;33mPictures  \u001b[0m\u001b[1;33m \u001b[0m┃\n",
       "┃\u001b[1;36m \u001b[0m\u001b[1;36m⏱ Tmin            \u001b[0m\u001b[1;36m \u001b[0m┃\u001b[1;33m \u001b[0m\u001b[1;36m-0.2\u001b[0m\u001b[1;33m      \u001b[0m\u001b[1;33m \u001b[0m┃\n",
       "┃\u001b[1;36m \u001b[0m\u001b[1;36m⏳ Tmax           \u001b[0m\u001b[1;36m \u001b[0m┃\u001b[1;33m \u001b[0m\u001b[1;36m0.5\u001b[0m\u001b[1;33m       \u001b[0m\u001b[1;33m \u001b[0m┃\n",
       "┗━━━━━━━━━━━━━━━━━━━━┻━━━━━━━━━━━━┛\n"
      ]
     },
     "metadata": {},
     "output_type": "display_data"
    },
    {
     "name": "stdout",
     "output_type": "stream",
     "text": [
      "Not setting metadata\n",
      "130 matching events found\n",
      "Applying baseline correction (mode: mean)\n",
      "0 projection items activated\n",
      "Using data from preloaded Raw for 130 events and 701 original time points ...\n",
      "0 bad epochs dropped\n",
      "NOTE: pick_channels() is a legacy function. New code should use inst.pick(...).\n",
      "NOTE: pick_channels() is a legacy function. New code should use inst.pick(...).\n",
      "Visual Change P100: latency=0.120s, peak=8.55µV, mean=3.66µV\n",
      "No Visual Change P100: latency=0.120s, peak=2.24µV, mean=0.52µV\n",
      "Initializing Plotter\n",
      "Results saved to p100_results/sub-10_ses-01_p100_Visual Change_No Visual Change.csv\n"
     ]
    },
    {
     "data": {
      "text/html": [
       "<pre style=\"white-space:pre;overflow-x:auto;line-height:normal;font-family:Menlo,'DejaVu Sans Mono',consolas,'Courier New',monospace\"><span style=\"color: #808000; text-decoration-color: #808000\">╭─────────────────────────────────────────╮</span>\n",
       "<span style=\"color: #808000; text-decoration-color: #808000\">│</span> 🚀 <span style=\"color: #808000; text-decoration-color: #808000; font-weight: bold\">Initializing BIDSDatasetReader Class</span> <span style=\"color: #808000; text-decoration-color: #808000\">│</span>\n",
       "<span style=\"color: #808000; text-decoration-color: #808000\">╰─────────────────────────────────────────╯</span>\n",
       "</pre>\n"
      ],
      "text/plain": [
       "\u001b[33m╭─────────────────────────────────────────╮\u001b[0m\n",
       "\u001b[33m│\u001b[0m 🚀 \u001b[1;33mInitializing BIDSDatasetReader Class\u001b[0m \u001b[33m│\u001b[0m\n",
       "\u001b[33m╰─────────────────────────────────────────╯\u001b[0m\n"
      ]
     },
     "metadata": {},
     "output_type": "display_data"
    },
    {
     "data": {
      "text/html": [
       "<pre style=\"white-space:pre;overflow-x:auto;line-height:normal;font-family:Menlo,'DejaVu Sans Mono',consolas,'Courier New',monospace\"> <span style=\"color: #008000; text-decoration-color: #008000; font-weight: bold\">Loading Processed EEG Data: sub-</span><span style=\"color: #008000; text-decoration-color: #008000; font-weight: bold\">11</span><span style=\"color: #008000; text-decoration-color: #008000; font-weight: bold\"> ses-</span><span style=\"color: #008000; text-decoration-color: #008000; font-weight: bold\">01</span>\n",
       "</pre>\n"
      ],
      "text/plain": [
       " \u001b[1;32mLoading Processed EEG Data: sub-\u001b[0m\u001b[1;32m11\u001b[0m\u001b[1;32m ses-\u001b[0m\u001b[1;32m01\u001b[0m\n"
      ]
     },
     "metadata": {},
     "output_type": "display_data"
    },
    {
     "data": {
      "text/html": [
       "<pre style=\"white-space:pre;overflow-x:auto;line-height:normal;font-family:Menlo,'DejaVu Sans Mono',consolas,'Courier New',monospace\"><span style=\"color: #800000; text-decoration-color: #800000\">╭─────────────────────────────────────╮</span>\n",
       "<span style=\"color: #800000; text-decoration-color: #800000\">│</span>  <span style=\"color: #800000; text-decoration-color: #800000; font-weight: bold\">Initializing EEGEpochBuilder Class</span> <span style=\"color: #800000; text-decoration-color: #800000\">│</span>\n",
       "<span style=\"color: #800000; text-decoration-color: #800000\">╰─────────────────────────────────────╯</span>\n",
       "</pre>\n"
      ],
      "text/plain": [
       "\u001b[31m╭─────────────────────────────────────╮\u001b[0m\n",
       "\u001b[31m│\u001b[0m  \u001b[1;31mInitializing EEGEpochBuilder Class\u001b[0m \u001b[31m│\u001b[0m\n",
       "\u001b[31m╰─────────────────────────────────────╯\u001b[0m\n"
      ]
     },
     "metadata": {},
     "output_type": "display_data"
    },
    {
     "data": {
      "text/html": [
       "<pre style=\"white-space:pre;overflow-x:auto;line-height:normal;font-family:Menlo,'DejaVu Sans Mono',consolas,'Courier New',monospace\"> <span style=\"color: #008000; text-decoration-color: #008000; font-weight: bold\">Creating EPOCHS</span>\n",
       "</pre>\n"
      ],
      "text/plain": [
       " \u001b[1;32mCreating EPOCHS\u001b[0m\n"
      ]
     },
     "metadata": {},
     "output_type": "display_data"
    },
    {
     "data": {
      "text/html": [
       "<pre style=\"white-space:pre;overflow-x:auto;line-height:normal;font-family:Menlo,'DejaVu Sans Mono',consolas,'Courier New',monospace\"><span style=\"font-style: italic\">        Extraction Criteria        </span>\n",
       "┏━━━━━━━━━━━━━━━━━━━━┳━━━━━━━━━━━━┓\n",
       "┃<span style=\"font-weight: bold\"> Parameter          </span>┃<span style=\"font-weight: bold\"> Value      </span>┃\n",
       "┣━━━━━━━━━━━━━━━━━━━━╋━━━━━━━━━━━━┫\n",
       "┃<span style=\"color: #008080; text-decoration-color: #008080; font-weight: bold\"> 🧪 Trial Mode      </span>┃<span style=\"color: #808000; text-decoration-color: #808000; font-weight: bold\">            </span>┃\n",
       "┃<span style=\"color: #008080; text-decoration-color: #008080; font-weight: bold\"> 📏 Trial Unit      </span>┃<span style=\"color: #808000; text-decoration-color: #808000; font-weight: bold\"> Words      </span>┃\n",
       "┃<span style=\"color: #008080; text-decoration-color: #008080; font-weight: bold\"> 🔗 Experiment Mode </span>┃<span style=\"color: #808000; text-decoration-color: #808000; font-weight: bold\"> Experiment </span>┃\n",
       "┃<span style=\"color: #008080; text-decoration-color: #008080; font-weight: bold\"> 🎭 Trial Boundary  </span>┃<span style=\"color: #808000; text-decoration-color: #808000; font-weight: bold\"> Start      </span>┃\n",
       "┃<span style=\"color: #008080; text-decoration-color: #008080; font-weight: bold\"> 🔬 Trial Type      </span>┃<span style=\"color: #808000; text-decoration-color: #808000; font-weight: bold\"> Stimulus   </span>┃\n",
       "┃<span style=\"color: #008080; text-decoration-color: #008080; font-weight: bold\"> 📊 Modality        </span>┃<span style=\"color: #808000; text-decoration-color: #808000; font-weight: bold\"> Pictures   </span>┃\n",
       "┃<span style=\"color: #008080; text-decoration-color: #008080; font-weight: bold\"> ⏱ Tmin             </span>┃<span style=\"color: #808000; text-decoration-color: #808000; font-weight: bold\"> </span><span style=\"color: #008080; text-decoration-color: #008080; font-weight: bold\">-0.2</span><span style=\"color: #808000; text-decoration-color: #808000; font-weight: bold\">       </span>┃\n",
       "┃<span style=\"color: #008080; text-decoration-color: #008080; font-weight: bold\"> ⏳ Tmax            </span>┃<span style=\"color: #808000; text-decoration-color: #808000; font-weight: bold\"> </span><span style=\"color: #008080; text-decoration-color: #008080; font-weight: bold\">0.5</span><span style=\"color: #808000; text-decoration-color: #808000; font-weight: bold\">        </span>┃\n",
       "┗━━━━━━━━━━━━━━━━━━━━┻━━━━━━━━━━━━┛\n",
       "</pre>\n"
      ],
      "text/plain": [
       "\u001b[3m        Extraction Criteria        \u001b[0m\n",
       "┏━━━━━━━━━━━━━━━━━━━━┳━━━━━━━━━━━━┓\n",
       "┃\u001b[1m \u001b[0m\u001b[1mParameter         \u001b[0m\u001b[1m \u001b[0m┃\u001b[1m \u001b[0m\u001b[1mValue     \u001b[0m\u001b[1m \u001b[0m┃\n",
       "┣━━━━━━━━━━━━━━━━━━━━╋━━━━━━━━━━━━┫\n",
       "┃\u001b[1;36m \u001b[0m\u001b[1;36m🧪 Trial Mode     \u001b[0m\u001b[1;36m \u001b[0m┃\u001b[1;33m \u001b[0m\u001b[1;33m          \u001b[0m\u001b[1;33m \u001b[0m┃\n",
       "┃\u001b[1;36m \u001b[0m\u001b[1;36m📏 Trial Unit     \u001b[0m\u001b[1;36m \u001b[0m┃\u001b[1;33m \u001b[0m\u001b[1;33mWords     \u001b[0m\u001b[1;33m \u001b[0m┃\n",
       "┃\u001b[1;36m \u001b[0m\u001b[1;36m🔗 Experiment Mode\u001b[0m\u001b[1;36m \u001b[0m┃\u001b[1;33m \u001b[0m\u001b[1;33mExperiment\u001b[0m\u001b[1;33m \u001b[0m┃\n",
       "┃\u001b[1;36m \u001b[0m\u001b[1;36m🎭 Trial Boundary \u001b[0m\u001b[1;36m \u001b[0m┃\u001b[1;33m \u001b[0m\u001b[1;33mStart     \u001b[0m\u001b[1;33m \u001b[0m┃\n",
       "┃\u001b[1;36m \u001b[0m\u001b[1;36m🔬 Trial Type     \u001b[0m\u001b[1;36m \u001b[0m┃\u001b[1;33m \u001b[0m\u001b[1;33mStimulus  \u001b[0m\u001b[1;33m \u001b[0m┃\n",
       "┃\u001b[1;36m \u001b[0m\u001b[1;36m📊 Modality       \u001b[0m\u001b[1;36m \u001b[0m┃\u001b[1;33m \u001b[0m\u001b[1;33mPictures  \u001b[0m\u001b[1;33m \u001b[0m┃\n",
       "┃\u001b[1;36m \u001b[0m\u001b[1;36m⏱ Tmin            \u001b[0m\u001b[1;36m \u001b[0m┃\u001b[1;33m \u001b[0m\u001b[1;36m-0.2\u001b[0m\u001b[1;33m      \u001b[0m\u001b[1;33m \u001b[0m┃\n",
       "┃\u001b[1;36m \u001b[0m\u001b[1;36m⏳ Tmax           \u001b[0m\u001b[1;36m \u001b[0m┃\u001b[1;33m \u001b[0m\u001b[1;36m0.5\u001b[0m\u001b[1;33m       \u001b[0m\u001b[1;33m \u001b[0m┃\n",
       "┗━━━━━━━━━━━━━━━━━━━━┻━━━━━━━━━━━━┛\n"
      ]
     },
     "metadata": {},
     "output_type": "display_data"
    },
    {
     "name": "stdout",
     "output_type": "stream",
     "text": [
      "Not setting metadata\n",
      "130 matching events found\n",
      "Applying baseline correction (mode: mean)\n",
      "0 projection items activated\n",
      "Using data from preloaded Raw for 130 events and 701 original time points ...\n",
      "0 bad epochs dropped\n"
     ]
    },
    {
     "data": {
      "text/html": [
       "<pre style=\"white-space:pre;overflow-x:auto;line-height:normal;font-family:Menlo,'DejaVu Sans Mono',consolas,'Courier New',monospace\"><span style=\"color: #800000; text-decoration-color: #800000\">╭─────────────────────────────────────╮</span>\n",
       "<span style=\"color: #800000; text-decoration-color: #800000\">│</span>  <span style=\"color: #800000; text-decoration-color: #800000; font-weight: bold\">Initializing EEGEpochBuilder Class</span> <span style=\"color: #800000; text-decoration-color: #800000\">│</span>\n",
       "<span style=\"color: #800000; text-decoration-color: #800000\">╰─────────────────────────────────────╯</span>\n",
       "</pre>\n"
      ],
      "text/plain": [
       "\u001b[31m╭─────────────────────────────────────╮\u001b[0m\n",
       "\u001b[31m│\u001b[0m  \u001b[1;31mInitializing EEGEpochBuilder Class\u001b[0m \u001b[31m│\u001b[0m\n",
       "\u001b[31m╰─────────────────────────────────────╯\u001b[0m\n"
      ]
     },
     "metadata": {},
     "output_type": "display_data"
    },
    {
     "data": {
      "text/html": [
       "<pre style=\"white-space:pre;overflow-x:auto;line-height:normal;font-family:Menlo,'DejaVu Sans Mono',consolas,'Courier New',monospace\"> <span style=\"color: #008000; text-decoration-color: #008000; font-weight: bold\">Creating EPOCHS</span>\n",
       "</pre>\n"
      ],
      "text/plain": [
       " \u001b[1;32mCreating EPOCHS\u001b[0m\n"
      ]
     },
     "metadata": {},
     "output_type": "display_data"
    },
    {
     "data": {
      "text/html": [
       "<pre style=\"white-space:pre;overflow-x:auto;line-height:normal;font-family:Menlo,'DejaVu Sans Mono',consolas,'Courier New',monospace\"><span style=\"font-style: italic\">        Extraction Criteria        </span>\n",
       "┏━━━━━━━━━━━━━━━━━━━━┳━━━━━━━━━━━━┓\n",
       "┃<span style=\"font-weight: bold\"> Parameter          </span>┃<span style=\"font-weight: bold\"> Value      </span>┃\n",
       "┣━━━━━━━━━━━━━━━━━━━━╋━━━━━━━━━━━━┫\n",
       "┃<span style=\"color: #008080; text-decoration-color: #008080; font-weight: bold\"> 🧪 Trial Mode      </span>┃<span style=\"color: #808000; text-decoration-color: #808000; font-weight: bold\">            </span>┃\n",
       "┃<span style=\"color: #008080; text-decoration-color: #008080; font-weight: bold\"> 📏 Trial Unit      </span>┃<span style=\"color: #808000; text-decoration-color: #808000; font-weight: bold\"> Words      </span>┃\n",
       "┃<span style=\"color: #008080; text-decoration-color: #008080; font-weight: bold\"> 🔗 Experiment Mode </span>┃<span style=\"color: #808000; text-decoration-color: #808000; font-weight: bold\"> Experiment </span>┃\n",
       "┃<span style=\"color: #008080; text-decoration-color: #008080; font-weight: bold\"> 🎭 Trial Boundary  </span>┃<span style=\"color: #808000; text-decoration-color: #808000; font-weight: bold\"> Start      </span>┃\n",
       "┃<span style=\"color: #008080; text-decoration-color: #008080; font-weight: bold\"> 🔬 Trial Type      </span>┃<span style=\"color: #808000; text-decoration-color: #808000; font-weight: bold\"> Fixation   </span>┃\n",
       "┃<span style=\"color: #008080; text-decoration-color: #008080; font-weight: bold\"> 📊 Modality        </span>┃<span style=\"color: #808000; text-decoration-color: #808000; font-weight: bold\"> Pictures   </span>┃\n",
       "┃<span style=\"color: #008080; text-decoration-color: #008080; font-weight: bold\"> ⏱ Tmin             </span>┃<span style=\"color: #808000; text-decoration-color: #808000; font-weight: bold\"> </span><span style=\"color: #008080; text-decoration-color: #008080; font-weight: bold\">-0.2</span><span style=\"color: #808000; text-decoration-color: #808000; font-weight: bold\">       </span>┃\n",
       "┃<span style=\"color: #008080; text-decoration-color: #008080; font-weight: bold\"> ⏳ Tmax            </span>┃<span style=\"color: #808000; text-decoration-color: #808000; font-weight: bold\"> </span><span style=\"color: #008080; text-decoration-color: #008080; font-weight: bold\">0.5</span><span style=\"color: #808000; text-decoration-color: #808000; font-weight: bold\">        </span>┃\n",
       "┗━━━━━━━━━━━━━━━━━━━━┻━━━━━━━━━━━━┛\n",
       "</pre>\n"
      ],
      "text/plain": [
       "\u001b[3m        Extraction Criteria        \u001b[0m\n",
       "┏━━━━━━━━━━━━━━━━━━━━┳━━━━━━━━━━━━┓\n",
       "┃\u001b[1m \u001b[0m\u001b[1mParameter         \u001b[0m\u001b[1m \u001b[0m┃\u001b[1m \u001b[0m\u001b[1mValue     \u001b[0m\u001b[1m \u001b[0m┃\n",
       "┣━━━━━━━━━━━━━━━━━━━━╋━━━━━━━━━━━━┫\n",
       "┃\u001b[1;36m \u001b[0m\u001b[1;36m🧪 Trial Mode     \u001b[0m\u001b[1;36m \u001b[0m┃\u001b[1;33m \u001b[0m\u001b[1;33m          \u001b[0m\u001b[1;33m \u001b[0m┃\n",
       "┃\u001b[1;36m \u001b[0m\u001b[1;36m📏 Trial Unit     \u001b[0m\u001b[1;36m \u001b[0m┃\u001b[1;33m \u001b[0m\u001b[1;33mWords     \u001b[0m\u001b[1;33m \u001b[0m┃\n",
       "┃\u001b[1;36m \u001b[0m\u001b[1;36m🔗 Experiment Mode\u001b[0m\u001b[1;36m \u001b[0m┃\u001b[1;33m \u001b[0m\u001b[1;33mExperiment\u001b[0m\u001b[1;33m \u001b[0m┃\n",
       "┃\u001b[1;36m \u001b[0m\u001b[1;36m🎭 Trial Boundary \u001b[0m\u001b[1;36m \u001b[0m┃\u001b[1;33m \u001b[0m\u001b[1;33mStart     \u001b[0m\u001b[1;33m \u001b[0m┃\n",
       "┃\u001b[1;36m \u001b[0m\u001b[1;36m🔬 Trial Type     \u001b[0m\u001b[1;36m \u001b[0m┃\u001b[1;33m \u001b[0m\u001b[1;33mFixation  \u001b[0m\u001b[1;33m \u001b[0m┃\n",
       "┃\u001b[1;36m \u001b[0m\u001b[1;36m📊 Modality       \u001b[0m\u001b[1;36m \u001b[0m┃\u001b[1;33m \u001b[0m\u001b[1;33mPictures  \u001b[0m\u001b[1;33m \u001b[0m┃\n",
       "┃\u001b[1;36m \u001b[0m\u001b[1;36m⏱ Tmin            \u001b[0m\u001b[1;36m \u001b[0m┃\u001b[1;33m \u001b[0m\u001b[1;36m-0.2\u001b[0m\u001b[1;33m      \u001b[0m\u001b[1;33m \u001b[0m┃\n",
       "┃\u001b[1;36m \u001b[0m\u001b[1;36m⏳ Tmax           \u001b[0m\u001b[1;36m \u001b[0m┃\u001b[1;33m \u001b[0m\u001b[1;36m0.5\u001b[0m\u001b[1;33m       \u001b[0m\u001b[1;33m \u001b[0m┃\n",
       "┗━━━━━━━━━━━━━━━━━━━━┻━━━━━━━━━━━━┛\n"
      ]
     },
     "metadata": {},
     "output_type": "display_data"
    },
    {
     "name": "stdout",
     "output_type": "stream",
     "text": [
      "Not setting metadata\n",
      "130 matching events found\n",
      "Applying baseline correction (mode: mean)\n",
      "0 projection items activated\n",
      "Using data from preloaded Raw for 130 events and 701 original time points ...\n",
      "0 bad epochs dropped\n",
      "NOTE: pick_channels() is a legacy function. New code should use inst.pick(...).\n",
      "NOTE: pick_channels() is a legacy function. New code should use inst.pick(...).\n",
      "Visual Change P100: latency=0.087s, peak=2.04µV, mean=0.98µV\n",
      "No Visual Change P100: latency=0.117s, peak=1.68µV, mean=0.55µV\n",
      "Initializing Plotter\n",
      "Results saved to p100_results/sub-11_ses-01_p100_Visual Change_No Visual Change.csv\n"
     ]
    },
    {
     "data": {
      "text/html": [
       "<pre style=\"white-space:pre;overflow-x:auto;line-height:normal;font-family:Menlo,'DejaVu Sans Mono',consolas,'Courier New',monospace\"><span style=\"color: #808000; text-decoration-color: #808000\">╭─────────────────────────────────────────╮</span>\n",
       "<span style=\"color: #808000; text-decoration-color: #808000\">│</span> 🚀 <span style=\"color: #808000; text-decoration-color: #808000; font-weight: bold\">Initializing BIDSDatasetReader Class</span> <span style=\"color: #808000; text-decoration-color: #808000\">│</span>\n",
       "<span style=\"color: #808000; text-decoration-color: #808000\">╰─────────────────────────────────────────╯</span>\n",
       "</pre>\n"
      ],
      "text/plain": [
       "\u001b[33m╭─────────────────────────────────────────╮\u001b[0m\n",
       "\u001b[33m│\u001b[0m 🚀 \u001b[1;33mInitializing BIDSDatasetReader Class\u001b[0m \u001b[33m│\u001b[0m\n",
       "\u001b[33m╰─────────────────────────────────────────╯\u001b[0m\n"
      ]
     },
     "metadata": {},
     "output_type": "display_data"
    },
    {
     "data": {
      "text/html": [
       "<pre style=\"white-space:pre;overflow-x:auto;line-height:normal;font-family:Menlo,'DejaVu Sans Mono',consolas,'Courier New',monospace\"> <span style=\"color: #008000; text-decoration-color: #008000; font-weight: bold\">Loading Processed EEG Data: sub-</span><span style=\"color: #008000; text-decoration-color: #008000; font-weight: bold\">12</span><span style=\"color: #008000; text-decoration-color: #008000; font-weight: bold\"> ses-</span><span style=\"color: #008000; text-decoration-color: #008000; font-weight: bold\">01</span>\n",
       "</pre>\n"
      ],
      "text/plain": [
       " \u001b[1;32mLoading Processed EEG Data: sub-\u001b[0m\u001b[1;32m12\u001b[0m\u001b[1;32m ses-\u001b[0m\u001b[1;32m01\u001b[0m\n"
      ]
     },
     "metadata": {},
     "output_type": "display_data"
    },
    {
     "data": {
      "text/html": [
       "<pre style=\"white-space:pre;overflow-x:auto;line-height:normal;font-family:Menlo,'DejaVu Sans Mono',consolas,'Courier New',monospace\"><span style=\"color: #800000; text-decoration-color: #800000\">╭─────────────────────────────────────╮</span>\n",
       "<span style=\"color: #800000; text-decoration-color: #800000\">│</span>  <span style=\"color: #800000; text-decoration-color: #800000; font-weight: bold\">Initializing EEGEpochBuilder Class</span> <span style=\"color: #800000; text-decoration-color: #800000\">│</span>\n",
       "<span style=\"color: #800000; text-decoration-color: #800000\">╰─────────────────────────────────────╯</span>\n",
       "</pre>\n"
      ],
      "text/plain": [
       "\u001b[31m╭─────────────────────────────────────╮\u001b[0m\n",
       "\u001b[31m│\u001b[0m  \u001b[1;31mInitializing EEGEpochBuilder Class\u001b[0m \u001b[31m│\u001b[0m\n",
       "\u001b[31m╰─────────────────────────────────────╯\u001b[0m\n"
      ]
     },
     "metadata": {},
     "output_type": "display_data"
    },
    {
     "data": {
      "text/html": [
       "<pre style=\"white-space:pre;overflow-x:auto;line-height:normal;font-family:Menlo,'DejaVu Sans Mono',consolas,'Courier New',monospace\"> <span style=\"color: #008000; text-decoration-color: #008000; font-weight: bold\">Creating EPOCHS</span>\n",
       "</pre>\n"
      ],
      "text/plain": [
       " \u001b[1;32mCreating EPOCHS\u001b[0m\n"
      ]
     },
     "metadata": {},
     "output_type": "display_data"
    },
    {
     "data": {
      "text/html": [
       "<pre style=\"white-space:pre;overflow-x:auto;line-height:normal;font-family:Menlo,'DejaVu Sans Mono',consolas,'Courier New',monospace\"><span style=\"font-style: italic\">        Extraction Criteria        </span>\n",
       "┏━━━━━━━━━━━━━━━━━━━━┳━━━━━━━━━━━━┓\n",
       "┃<span style=\"font-weight: bold\"> Parameter          </span>┃<span style=\"font-weight: bold\"> Value      </span>┃\n",
       "┣━━━━━━━━━━━━━━━━━━━━╋━━━━━━━━━━━━┫\n",
       "┃<span style=\"color: #008080; text-decoration-color: #008080; font-weight: bold\"> 🧪 Trial Mode      </span>┃<span style=\"color: #808000; text-decoration-color: #808000; font-weight: bold\">            </span>┃\n",
       "┃<span style=\"color: #008080; text-decoration-color: #008080; font-weight: bold\"> 📏 Trial Unit      </span>┃<span style=\"color: #808000; text-decoration-color: #808000; font-weight: bold\"> Words      </span>┃\n",
       "┃<span style=\"color: #008080; text-decoration-color: #008080; font-weight: bold\"> 🔗 Experiment Mode </span>┃<span style=\"color: #808000; text-decoration-color: #808000; font-weight: bold\"> Experiment </span>┃\n",
       "┃<span style=\"color: #008080; text-decoration-color: #008080; font-weight: bold\"> 🎭 Trial Boundary  </span>┃<span style=\"color: #808000; text-decoration-color: #808000; font-weight: bold\"> Start      </span>┃\n",
       "┃<span style=\"color: #008080; text-decoration-color: #008080; font-weight: bold\"> 🔬 Trial Type      </span>┃<span style=\"color: #808000; text-decoration-color: #808000; font-weight: bold\"> Stimulus   </span>┃\n",
       "┃<span style=\"color: #008080; text-decoration-color: #008080; font-weight: bold\"> 📊 Modality        </span>┃<span style=\"color: #808000; text-decoration-color: #808000; font-weight: bold\"> Pictures   </span>┃\n",
       "┃<span style=\"color: #008080; text-decoration-color: #008080; font-weight: bold\"> ⏱ Tmin             </span>┃<span style=\"color: #808000; text-decoration-color: #808000; font-weight: bold\"> </span><span style=\"color: #008080; text-decoration-color: #008080; font-weight: bold\">-0.2</span><span style=\"color: #808000; text-decoration-color: #808000; font-weight: bold\">       </span>┃\n",
       "┃<span style=\"color: #008080; text-decoration-color: #008080; font-weight: bold\"> ⏳ Tmax            </span>┃<span style=\"color: #808000; text-decoration-color: #808000; font-weight: bold\"> </span><span style=\"color: #008080; text-decoration-color: #008080; font-weight: bold\">0.5</span><span style=\"color: #808000; text-decoration-color: #808000; font-weight: bold\">        </span>┃\n",
       "┗━━━━━━━━━━━━━━━━━━━━┻━━━━━━━━━━━━┛\n",
       "</pre>\n"
      ],
      "text/plain": [
       "\u001b[3m        Extraction Criteria        \u001b[0m\n",
       "┏━━━━━━━━━━━━━━━━━━━━┳━━━━━━━━━━━━┓\n",
       "┃\u001b[1m \u001b[0m\u001b[1mParameter         \u001b[0m\u001b[1m \u001b[0m┃\u001b[1m \u001b[0m\u001b[1mValue     \u001b[0m\u001b[1m \u001b[0m┃\n",
       "┣━━━━━━━━━━━━━━━━━━━━╋━━━━━━━━━━━━┫\n",
       "┃\u001b[1;36m \u001b[0m\u001b[1;36m🧪 Trial Mode     \u001b[0m\u001b[1;36m \u001b[0m┃\u001b[1;33m \u001b[0m\u001b[1;33m          \u001b[0m\u001b[1;33m \u001b[0m┃\n",
       "┃\u001b[1;36m \u001b[0m\u001b[1;36m📏 Trial Unit     \u001b[0m\u001b[1;36m \u001b[0m┃\u001b[1;33m \u001b[0m\u001b[1;33mWords     \u001b[0m\u001b[1;33m \u001b[0m┃\n",
       "┃\u001b[1;36m \u001b[0m\u001b[1;36m🔗 Experiment Mode\u001b[0m\u001b[1;36m \u001b[0m┃\u001b[1;33m \u001b[0m\u001b[1;33mExperiment\u001b[0m\u001b[1;33m \u001b[0m┃\n",
       "┃\u001b[1;36m \u001b[0m\u001b[1;36m🎭 Trial Boundary \u001b[0m\u001b[1;36m \u001b[0m┃\u001b[1;33m \u001b[0m\u001b[1;33mStart     \u001b[0m\u001b[1;33m \u001b[0m┃\n",
       "┃\u001b[1;36m \u001b[0m\u001b[1;36m🔬 Trial Type     \u001b[0m\u001b[1;36m \u001b[0m┃\u001b[1;33m \u001b[0m\u001b[1;33mStimulus  \u001b[0m\u001b[1;33m \u001b[0m┃\n",
       "┃\u001b[1;36m \u001b[0m\u001b[1;36m📊 Modality       \u001b[0m\u001b[1;36m \u001b[0m┃\u001b[1;33m \u001b[0m\u001b[1;33mPictures  \u001b[0m\u001b[1;33m \u001b[0m┃\n",
       "┃\u001b[1;36m \u001b[0m\u001b[1;36m⏱ Tmin            \u001b[0m\u001b[1;36m \u001b[0m┃\u001b[1;33m \u001b[0m\u001b[1;36m-0.2\u001b[0m\u001b[1;33m      \u001b[0m\u001b[1;33m \u001b[0m┃\n",
       "┃\u001b[1;36m \u001b[0m\u001b[1;36m⏳ Tmax           \u001b[0m\u001b[1;36m \u001b[0m┃\u001b[1;33m \u001b[0m\u001b[1;36m0.5\u001b[0m\u001b[1;33m       \u001b[0m\u001b[1;33m \u001b[0m┃\n",
       "┗━━━━━━━━━━━━━━━━━━━━┻━━━━━━━━━━━━┛\n"
      ]
     },
     "metadata": {},
     "output_type": "display_data"
    },
    {
     "name": "stdout",
     "output_type": "stream",
     "text": [
      "Not setting metadata\n",
      "130 matching events found\n",
      "Applying baseline correction (mode: mean)\n",
      "0 projection items activated\n",
      "Using data from preloaded Raw for 130 events and 701 original time points ...\n",
      "0 bad epochs dropped\n"
     ]
    },
    {
     "data": {
      "text/html": [
       "<pre style=\"white-space:pre;overflow-x:auto;line-height:normal;font-family:Menlo,'DejaVu Sans Mono',consolas,'Courier New',monospace\"><span style=\"color: #800000; text-decoration-color: #800000\">╭─────────────────────────────────────╮</span>\n",
       "<span style=\"color: #800000; text-decoration-color: #800000\">│</span>  <span style=\"color: #800000; text-decoration-color: #800000; font-weight: bold\">Initializing EEGEpochBuilder Class</span> <span style=\"color: #800000; text-decoration-color: #800000\">│</span>\n",
       "<span style=\"color: #800000; text-decoration-color: #800000\">╰─────────────────────────────────────╯</span>\n",
       "</pre>\n"
      ],
      "text/plain": [
       "\u001b[31m╭─────────────────────────────────────╮\u001b[0m\n",
       "\u001b[31m│\u001b[0m  \u001b[1;31mInitializing EEGEpochBuilder Class\u001b[0m \u001b[31m│\u001b[0m\n",
       "\u001b[31m╰─────────────────────────────────────╯\u001b[0m\n"
      ]
     },
     "metadata": {},
     "output_type": "display_data"
    },
    {
     "data": {
      "text/html": [
       "<pre style=\"white-space:pre;overflow-x:auto;line-height:normal;font-family:Menlo,'DejaVu Sans Mono',consolas,'Courier New',monospace\"> <span style=\"color: #008000; text-decoration-color: #008000; font-weight: bold\">Creating EPOCHS</span>\n",
       "</pre>\n"
      ],
      "text/plain": [
       " \u001b[1;32mCreating EPOCHS\u001b[0m\n"
      ]
     },
     "metadata": {},
     "output_type": "display_data"
    },
    {
     "data": {
      "text/html": [
       "<pre style=\"white-space:pre;overflow-x:auto;line-height:normal;font-family:Menlo,'DejaVu Sans Mono',consolas,'Courier New',monospace\"><span style=\"font-style: italic\">        Extraction Criteria        </span>\n",
       "┏━━━━━━━━━━━━━━━━━━━━┳━━━━━━━━━━━━┓\n",
       "┃<span style=\"font-weight: bold\"> Parameter          </span>┃<span style=\"font-weight: bold\"> Value      </span>┃\n",
       "┣━━━━━━━━━━━━━━━━━━━━╋━━━━━━━━━━━━┫\n",
       "┃<span style=\"color: #008080; text-decoration-color: #008080; font-weight: bold\"> 🧪 Trial Mode      </span>┃<span style=\"color: #808000; text-decoration-color: #808000; font-weight: bold\">            </span>┃\n",
       "┃<span style=\"color: #008080; text-decoration-color: #008080; font-weight: bold\"> 📏 Trial Unit      </span>┃<span style=\"color: #808000; text-decoration-color: #808000; font-weight: bold\"> Words      </span>┃\n",
       "┃<span style=\"color: #008080; text-decoration-color: #008080; font-weight: bold\"> 🔗 Experiment Mode </span>┃<span style=\"color: #808000; text-decoration-color: #808000; font-weight: bold\"> Experiment </span>┃\n",
       "┃<span style=\"color: #008080; text-decoration-color: #008080; font-weight: bold\"> 🎭 Trial Boundary  </span>┃<span style=\"color: #808000; text-decoration-color: #808000; font-weight: bold\"> Start      </span>┃\n",
       "┃<span style=\"color: #008080; text-decoration-color: #008080; font-weight: bold\"> 🔬 Trial Type      </span>┃<span style=\"color: #808000; text-decoration-color: #808000; font-weight: bold\"> Fixation   </span>┃\n",
       "┃<span style=\"color: #008080; text-decoration-color: #008080; font-weight: bold\"> 📊 Modality        </span>┃<span style=\"color: #808000; text-decoration-color: #808000; font-weight: bold\"> Pictures   </span>┃\n",
       "┃<span style=\"color: #008080; text-decoration-color: #008080; font-weight: bold\"> ⏱ Tmin             </span>┃<span style=\"color: #808000; text-decoration-color: #808000; font-weight: bold\"> </span><span style=\"color: #008080; text-decoration-color: #008080; font-weight: bold\">-0.2</span><span style=\"color: #808000; text-decoration-color: #808000; font-weight: bold\">       </span>┃\n",
       "┃<span style=\"color: #008080; text-decoration-color: #008080; font-weight: bold\"> ⏳ Tmax            </span>┃<span style=\"color: #808000; text-decoration-color: #808000; font-weight: bold\"> </span><span style=\"color: #008080; text-decoration-color: #008080; font-weight: bold\">0.5</span><span style=\"color: #808000; text-decoration-color: #808000; font-weight: bold\">        </span>┃\n",
       "┗━━━━━━━━━━━━━━━━━━━━┻━━━━━━━━━━━━┛\n",
       "</pre>\n"
      ],
      "text/plain": [
       "\u001b[3m        Extraction Criteria        \u001b[0m\n",
       "┏━━━━━━━━━━━━━━━━━━━━┳━━━━━━━━━━━━┓\n",
       "┃\u001b[1m \u001b[0m\u001b[1mParameter         \u001b[0m\u001b[1m \u001b[0m┃\u001b[1m \u001b[0m\u001b[1mValue     \u001b[0m\u001b[1m \u001b[0m┃\n",
       "┣━━━━━━━━━━━━━━━━━━━━╋━━━━━━━━━━━━┫\n",
       "┃\u001b[1;36m \u001b[0m\u001b[1;36m🧪 Trial Mode     \u001b[0m\u001b[1;36m \u001b[0m┃\u001b[1;33m \u001b[0m\u001b[1;33m          \u001b[0m\u001b[1;33m \u001b[0m┃\n",
       "┃\u001b[1;36m \u001b[0m\u001b[1;36m📏 Trial Unit     \u001b[0m\u001b[1;36m \u001b[0m┃\u001b[1;33m \u001b[0m\u001b[1;33mWords     \u001b[0m\u001b[1;33m \u001b[0m┃\n",
       "┃\u001b[1;36m \u001b[0m\u001b[1;36m🔗 Experiment Mode\u001b[0m\u001b[1;36m \u001b[0m┃\u001b[1;33m \u001b[0m\u001b[1;33mExperiment\u001b[0m\u001b[1;33m \u001b[0m┃\n",
       "┃\u001b[1;36m \u001b[0m\u001b[1;36m🎭 Trial Boundary \u001b[0m\u001b[1;36m \u001b[0m┃\u001b[1;33m \u001b[0m\u001b[1;33mStart     \u001b[0m\u001b[1;33m \u001b[0m┃\n",
       "┃\u001b[1;36m \u001b[0m\u001b[1;36m🔬 Trial Type     \u001b[0m\u001b[1;36m \u001b[0m┃\u001b[1;33m \u001b[0m\u001b[1;33mFixation  \u001b[0m\u001b[1;33m \u001b[0m┃\n",
       "┃\u001b[1;36m \u001b[0m\u001b[1;36m📊 Modality       \u001b[0m\u001b[1;36m \u001b[0m┃\u001b[1;33m \u001b[0m\u001b[1;33mPictures  \u001b[0m\u001b[1;33m \u001b[0m┃\n",
       "┃\u001b[1;36m \u001b[0m\u001b[1;36m⏱ Tmin            \u001b[0m\u001b[1;36m \u001b[0m┃\u001b[1;33m \u001b[0m\u001b[1;36m-0.2\u001b[0m\u001b[1;33m      \u001b[0m\u001b[1;33m \u001b[0m┃\n",
       "┃\u001b[1;36m \u001b[0m\u001b[1;36m⏳ Tmax           \u001b[0m\u001b[1;36m \u001b[0m┃\u001b[1;33m \u001b[0m\u001b[1;36m0.5\u001b[0m\u001b[1;33m       \u001b[0m\u001b[1;33m \u001b[0m┃\n",
       "┗━━━━━━━━━━━━━━━━━━━━┻━━━━━━━━━━━━┛\n"
      ]
     },
     "metadata": {},
     "output_type": "display_data"
    },
    {
     "name": "stdout",
     "output_type": "stream",
     "text": [
      "Not setting metadata\n",
      "130 matching events found\n",
      "Applying baseline correction (mode: mean)\n",
      "0 projection items activated\n",
      "Using data from preloaded Raw for 130 events and 701 original time points ...\n",
      "0 bad epochs dropped\n",
      "NOTE: pick_channels() is a legacy function. New code should use inst.pick(...).\n",
      "NOTE: pick_channels() is a legacy function. New code should use inst.pick(...).\n",
      "Visual Change P100: latency=0.120s, peak=2.54µV, mean=0.80µV\n",
      "No Visual Change P100: latency=0.120s, peak=3.01µV, mean=1.85µV\n",
      "Initializing Plotter\n",
      "Results saved to p100_results/sub-12_ses-01_p100_Visual Change_No Visual Change.csv\n"
     ]
    },
    {
     "data": {
      "text/html": [
       "<pre style=\"white-space:pre;overflow-x:auto;line-height:normal;font-family:Menlo,'DejaVu Sans Mono',consolas,'Courier New',monospace\"><span style=\"color: #808000; text-decoration-color: #808000\">╭─────────────────────────────────────────╮</span>\n",
       "<span style=\"color: #808000; text-decoration-color: #808000\">│</span> 🚀 <span style=\"color: #808000; text-decoration-color: #808000; font-weight: bold\">Initializing BIDSDatasetReader Class</span> <span style=\"color: #808000; text-decoration-color: #808000\">│</span>\n",
       "<span style=\"color: #808000; text-decoration-color: #808000\">╰─────────────────────────────────────────╯</span>\n",
       "</pre>\n"
      ],
      "text/plain": [
       "\u001b[33m╭─────────────────────────────────────────╮\u001b[0m\n",
       "\u001b[33m│\u001b[0m 🚀 \u001b[1;33mInitializing BIDSDatasetReader Class\u001b[0m \u001b[33m│\u001b[0m\n",
       "\u001b[33m╰─────────────────────────────────────────╯\u001b[0m\n"
      ]
     },
     "metadata": {},
     "output_type": "display_data"
    },
    {
     "data": {
      "text/html": [
       "<pre style=\"white-space:pre;overflow-x:auto;line-height:normal;font-family:Menlo,'DejaVu Sans Mono',consolas,'Courier New',monospace\"> <span style=\"color: #008000; text-decoration-color: #008000; font-weight: bold\">Loading Processed EEG Data: sub-</span><span style=\"color: #008000; text-decoration-color: #008000; font-weight: bold\">12</span><span style=\"color: #008000; text-decoration-color: #008000; font-weight: bold\"> ses-</span><span style=\"color: #008000; text-decoration-color: #008000; font-weight: bold\">02</span>\n",
       "</pre>\n"
      ],
      "text/plain": [
       " \u001b[1;32mLoading Processed EEG Data: sub-\u001b[0m\u001b[1;32m12\u001b[0m\u001b[1;32m ses-\u001b[0m\u001b[1;32m02\u001b[0m\n"
      ]
     },
     "metadata": {},
     "output_type": "display_data"
    },
    {
     "data": {
      "text/html": [
       "<pre style=\"white-space:pre;overflow-x:auto;line-height:normal;font-family:Menlo,'DejaVu Sans Mono',consolas,'Courier New',monospace\"><span style=\"color: #800000; text-decoration-color: #800000\">╭─────────────────────────────────────╮</span>\n",
       "<span style=\"color: #800000; text-decoration-color: #800000\">│</span>  <span style=\"color: #800000; text-decoration-color: #800000; font-weight: bold\">Initializing EEGEpochBuilder Class</span> <span style=\"color: #800000; text-decoration-color: #800000\">│</span>\n",
       "<span style=\"color: #800000; text-decoration-color: #800000\">╰─────────────────────────────────────╯</span>\n",
       "</pre>\n"
      ],
      "text/plain": [
       "\u001b[31m╭─────────────────────────────────────╮\u001b[0m\n",
       "\u001b[31m│\u001b[0m  \u001b[1;31mInitializing EEGEpochBuilder Class\u001b[0m \u001b[31m│\u001b[0m\n",
       "\u001b[31m╰─────────────────────────────────────╯\u001b[0m\n"
      ]
     },
     "metadata": {},
     "output_type": "display_data"
    },
    {
     "data": {
      "text/html": [
       "<pre style=\"white-space:pre;overflow-x:auto;line-height:normal;font-family:Menlo,'DejaVu Sans Mono',consolas,'Courier New',monospace\"> <span style=\"color: #008000; text-decoration-color: #008000; font-weight: bold\">Creating EPOCHS</span>\n",
       "</pre>\n"
      ],
      "text/plain": [
       " \u001b[1;32mCreating EPOCHS\u001b[0m\n"
      ]
     },
     "metadata": {},
     "output_type": "display_data"
    },
    {
     "data": {
      "text/html": [
       "<pre style=\"white-space:pre;overflow-x:auto;line-height:normal;font-family:Menlo,'DejaVu Sans Mono',consolas,'Courier New',monospace\"><span style=\"font-style: italic\">        Extraction Criteria        </span>\n",
       "┏━━━━━━━━━━━━━━━━━━━━┳━━━━━━━━━━━━┓\n",
       "┃<span style=\"font-weight: bold\"> Parameter          </span>┃<span style=\"font-weight: bold\"> Value      </span>┃\n",
       "┣━━━━━━━━━━━━━━━━━━━━╋━━━━━━━━━━━━┫\n",
       "┃<span style=\"color: #008080; text-decoration-color: #008080; font-weight: bold\"> 🧪 Trial Mode      </span>┃<span style=\"color: #808000; text-decoration-color: #808000; font-weight: bold\">            </span>┃\n",
       "┃<span style=\"color: #008080; text-decoration-color: #008080; font-weight: bold\"> 📏 Trial Unit      </span>┃<span style=\"color: #808000; text-decoration-color: #808000; font-weight: bold\"> Words      </span>┃\n",
       "┃<span style=\"color: #008080; text-decoration-color: #008080; font-weight: bold\"> 🔗 Experiment Mode </span>┃<span style=\"color: #808000; text-decoration-color: #808000; font-weight: bold\"> Experiment </span>┃\n",
       "┃<span style=\"color: #008080; text-decoration-color: #008080; font-weight: bold\"> 🎭 Trial Boundary  </span>┃<span style=\"color: #808000; text-decoration-color: #808000; font-weight: bold\"> Start      </span>┃\n",
       "┃<span style=\"color: #008080; text-decoration-color: #008080; font-weight: bold\"> 🔬 Trial Type      </span>┃<span style=\"color: #808000; text-decoration-color: #808000; font-weight: bold\"> Stimulus   </span>┃\n",
       "┃<span style=\"color: #008080; text-decoration-color: #008080; font-weight: bold\"> 📊 Modality        </span>┃<span style=\"color: #808000; text-decoration-color: #808000; font-weight: bold\"> Pictures   </span>┃\n",
       "┃<span style=\"color: #008080; text-decoration-color: #008080; font-weight: bold\"> ⏱ Tmin             </span>┃<span style=\"color: #808000; text-decoration-color: #808000; font-weight: bold\"> </span><span style=\"color: #008080; text-decoration-color: #008080; font-weight: bold\">-0.2</span><span style=\"color: #808000; text-decoration-color: #808000; font-weight: bold\">       </span>┃\n",
       "┃<span style=\"color: #008080; text-decoration-color: #008080; font-weight: bold\"> ⏳ Tmax            </span>┃<span style=\"color: #808000; text-decoration-color: #808000; font-weight: bold\"> </span><span style=\"color: #008080; text-decoration-color: #008080; font-weight: bold\">0.5</span><span style=\"color: #808000; text-decoration-color: #808000; font-weight: bold\">        </span>┃\n",
       "┗━━━━━━━━━━━━━━━━━━━━┻━━━━━━━━━━━━┛\n",
       "</pre>\n"
      ],
      "text/plain": [
       "\u001b[3m        Extraction Criteria        \u001b[0m\n",
       "┏━━━━━━━━━━━━━━━━━━━━┳━━━━━━━━━━━━┓\n",
       "┃\u001b[1m \u001b[0m\u001b[1mParameter         \u001b[0m\u001b[1m \u001b[0m┃\u001b[1m \u001b[0m\u001b[1mValue     \u001b[0m\u001b[1m \u001b[0m┃\n",
       "┣━━━━━━━━━━━━━━━━━━━━╋━━━━━━━━━━━━┫\n",
       "┃\u001b[1;36m \u001b[0m\u001b[1;36m🧪 Trial Mode     \u001b[0m\u001b[1;36m \u001b[0m┃\u001b[1;33m \u001b[0m\u001b[1;33m          \u001b[0m\u001b[1;33m \u001b[0m┃\n",
       "┃\u001b[1;36m \u001b[0m\u001b[1;36m📏 Trial Unit     \u001b[0m\u001b[1;36m \u001b[0m┃\u001b[1;33m \u001b[0m\u001b[1;33mWords     \u001b[0m\u001b[1;33m \u001b[0m┃\n",
       "┃\u001b[1;36m \u001b[0m\u001b[1;36m🔗 Experiment Mode\u001b[0m\u001b[1;36m \u001b[0m┃\u001b[1;33m \u001b[0m\u001b[1;33mExperiment\u001b[0m\u001b[1;33m \u001b[0m┃\n",
       "┃\u001b[1;36m \u001b[0m\u001b[1;36m🎭 Trial Boundary \u001b[0m\u001b[1;36m \u001b[0m┃\u001b[1;33m \u001b[0m\u001b[1;33mStart     \u001b[0m\u001b[1;33m \u001b[0m┃\n",
       "┃\u001b[1;36m \u001b[0m\u001b[1;36m🔬 Trial Type     \u001b[0m\u001b[1;36m \u001b[0m┃\u001b[1;33m \u001b[0m\u001b[1;33mStimulus  \u001b[0m\u001b[1;33m \u001b[0m┃\n",
       "┃\u001b[1;36m \u001b[0m\u001b[1;36m📊 Modality       \u001b[0m\u001b[1;36m \u001b[0m┃\u001b[1;33m \u001b[0m\u001b[1;33mPictures  \u001b[0m\u001b[1;33m \u001b[0m┃\n",
       "┃\u001b[1;36m \u001b[0m\u001b[1;36m⏱ Tmin            \u001b[0m\u001b[1;36m \u001b[0m┃\u001b[1;33m \u001b[0m\u001b[1;36m-0.2\u001b[0m\u001b[1;33m      \u001b[0m\u001b[1;33m \u001b[0m┃\n",
       "┃\u001b[1;36m \u001b[0m\u001b[1;36m⏳ Tmax           \u001b[0m\u001b[1;36m \u001b[0m┃\u001b[1;33m \u001b[0m\u001b[1;36m0.5\u001b[0m\u001b[1;33m       \u001b[0m\u001b[1;33m \u001b[0m┃\n",
       "┗━━━━━━━━━━━━━━━━━━━━┻━━━━━━━━━━━━┛\n"
      ]
     },
     "metadata": {},
     "output_type": "display_data"
    },
    {
     "name": "stdout",
     "output_type": "stream",
     "text": [
      "Not setting metadata\n",
      "130 matching events found\n",
      "Applying baseline correction (mode: mean)\n",
      "0 projection items activated\n",
      "Using data from preloaded Raw for 130 events and 701 original time points ...\n",
      "0 bad epochs dropped\n"
     ]
    },
    {
     "data": {
      "text/html": [
       "<pre style=\"white-space:pre;overflow-x:auto;line-height:normal;font-family:Menlo,'DejaVu Sans Mono',consolas,'Courier New',monospace\"><span style=\"color: #800000; text-decoration-color: #800000\">╭─────────────────────────────────────╮</span>\n",
       "<span style=\"color: #800000; text-decoration-color: #800000\">│</span>  <span style=\"color: #800000; text-decoration-color: #800000; font-weight: bold\">Initializing EEGEpochBuilder Class</span> <span style=\"color: #800000; text-decoration-color: #800000\">│</span>\n",
       "<span style=\"color: #800000; text-decoration-color: #800000\">╰─────────────────────────────────────╯</span>\n",
       "</pre>\n"
      ],
      "text/plain": [
       "\u001b[31m╭─────────────────────────────────────╮\u001b[0m\n",
       "\u001b[31m│\u001b[0m  \u001b[1;31mInitializing EEGEpochBuilder Class\u001b[0m \u001b[31m│\u001b[0m\n",
       "\u001b[31m╰─────────────────────────────────────╯\u001b[0m\n"
      ]
     },
     "metadata": {},
     "output_type": "display_data"
    },
    {
     "data": {
      "text/html": [
       "<pre style=\"white-space:pre;overflow-x:auto;line-height:normal;font-family:Menlo,'DejaVu Sans Mono',consolas,'Courier New',monospace\"> <span style=\"color: #008000; text-decoration-color: #008000; font-weight: bold\">Creating EPOCHS</span>\n",
       "</pre>\n"
      ],
      "text/plain": [
       " \u001b[1;32mCreating EPOCHS\u001b[0m\n"
      ]
     },
     "metadata": {},
     "output_type": "display_data"
    },
    {
     "data": {
      "text/html": [
       "<pre style=\"white-space:pre;overflow-x:auto;line-height:normal;font-family:Menlo,'DejaVu Sans Mono',consolas,'Courier New',monospace\"><span style=\"font-style: italic\">        Extraction Criteria        </span>\n",
       "┏━━━━━━━━━━━━━━━━━━━━┳━━━━━━━━━━━━┓\n",
       "┃<span style=\"font-weight: bold\"> Parameter          </span>┃<span style=\"font-weight: bold\"> Value      </span>┃\n",
       "┣━━━━━━━━━━━━━━━━━━━━╋━━━━━━━━━━━━┫\n",
       "┃<span style=\"color: #008080; text-decoration-color: #008080; font-weight: bold\"> 🧪 Trial Mode      </span>┃<span style=\"color: #808000; text-decoration-color: #808000; font-weight: bold\">            </span>┃\n",
       "┃<span style=\"color: #008080; text-decoration-color: #008080; font-weight: bold\"> 📏 Trial Unit      </span>┃<span style=\"color: #808000; text-decoration-color: #808000; font-weight: bold\"> Words      </span>┃\n",
       "┃<span style=\"color: #008080; text-decoration-color: #008080; font-weight: bold\"> 🔗 Experiment Mode </span>┃<span style=\"color: #808000; text-decoration-color: #808000; font-weight: bold\"> Experiment </span>┃\n",
       "┃<span style=\"color: #008080; text-decoration-color: #008080; font-weight: bold\"> 🎭 Trial Boundary  </span>┃<span style=\"color: #808000; text-decoration-color: #808000; font-weight: bold\"> Start      </span>┃\n",
       "┃<span style=\"color: #008080; text-decoration-color: #008080; font-weight: bold\"> 🔬 Trial Type      </span>┃<span style=\"color: #808000; text-decoration-color: #808000; font-weight: bold\"> Fixation   </span>┃\n",
       "┃<span style=\"color: #008080; text-decoration-color: #008080; font-weight: bold\"> 📊 Modality        </span>┃<span style=\"color: #808000; text-decoration-color: #808000; font-weight: bold\"> Pictures   </span>┃\n",
       "┃<span style=\"color: #008080; text-decoration-color: #008080; font-weight: bold\"> ⏱ Tmin             </span>┃<span style=\"color: #808000; text-decoration-color: #808000; font-weight: bold\"> </span><span style=\"color: #008080; text-decoration-color: #008080; font-weight: bold\">-0.2</span><span style=\"color: #808000; text-decoration-color: #808000; font-weight: bold\">       </span>┃\n",
       "┃<span style=\"color: #008080; text-decoration-color: #008080; font-weight: bold\"> ⏳ Tmax            </span>┃<span style=\"color: #808000; text-decoration-color: #808000; font-weight: bold\"> </span><span style=\"color: #008080; text-decoration-color: #008080; font-weight: bold\">0.5</span><span style=\"color: #808000; text-decoration-color: #808000; font-weight: bold\">        </span>┃\n",
       "┗━━━━━━━━━━━━━━━━━━━━┻━━━━━━━━━━━━┛\n",
       "</pre>\n"
      ],
      "text/plain": [
       "\u001b[3m        Extraction Criteria        \u001b[0m\n",
       "┏━━━━━━━━━━━━━━━━━━━━┳━━━━━━━━━━━━┓\n",
       "┃\u001b[1m \u001b[0m\u001b[1mParameter         \u001b[0m\u001b[1m \u001b[0m┃\u001b[1m \u001b[0m\u001b[1mValue     \u001b[0m\u001b[1m \u001b[0m┃\n",
       "┣━━━━━━━━━━━━━━━━━━━━╋━━━━━━━━━━━━┫\n",
       "┃\u001b[1;36m \u001b[0m\u001b[1;36m🧪 Trial Mode     \u001b[0m\u001b[1;36m \u001b[0m┃\u001b[1;33m \u001b[0m\u001b[1;33m          \u001b[0m\u001b[1;33m \u001b[0m┃\n",
       "┃\u001b[1;36m \u001b[0m\u001b[1;36m📏 Trial Unit     \u001b[0m\u001b[1;36m \u001b[0m┃\u001b[1;33m \u001b[0m\u001b[1;33mWords     \u001b[0m\u001b[1;33m \u001b[0m┃\n",
       "┃\u001b[1;36m \u001b[0m\u001b[1;36m🔗 Experiment Mode\u001b[0m\u001b[1;36m \u001b[0m┃\u001b[1;33m \u001b[0m\u001b[1;33mExperiment\u001b[0m\u001b[1;33m \u001b[0m┃\n",
       "┃\u001b[1;36m \u001b[0m\u001b[1;36m🎭 Trial Boundary \u001b[0m\u001b[1;36m \u001b[0m┃\u001b[1;33m \u001b[0m\u001b[1;33mStart     \u001b[0m\u001b[1;33m \u001b[0m┃\n",
       "┃\u001b[1;36m \u001b[0m\u001b[1;36m🔬 Trial Type     \u001b[0m\u001b[1;36m \u001b[0m┃\u001b[1;33m \u001b[0m\u001b[1;33mFixation  \u001b[0m\u001b[1;33m \u001b[0m┃\n",
       "┃\u001b[1;36m \u001b[0m\u001b[1;36m📊 Modality       \u001b[0m\u001b[1;36m \u001b[0m┃\u001b[1;33m \u001b[0m\u001b[1;33mPictures  \u001b[0m\u001b[1;33m \u001b[0m┃\n",
       "┃\u001b[1;36m \u001b[0m\u001b[1;36m⏱ Tmin            \u001b[0m\u001b[1;36m \u001b[0m┃\u001b[1;33m \u001b[0m\u001b[1;36m-0.2\u001b[0m\u001b[1;33m      \u001b[0m\u001b[1;33m \u001b[0m┃\n",
       "┃\u001b[1;36m \u001b[0m\u001b[1;36m⏳ Tmax           \u001b[0m\u001b[1;36m \u001b[0m┃\u001b[1;33m \u001b[0m\u001b[1;36m0.5\u001b[0m\u001b[1;33m       \u001b[0m\u001b[1;33m \u001b[0m┃\n",
       "┗━━━━━━━━━━━━━━━━━━━━┻━━━━━━━━━━━━┛\n"
      ]
     },
     "metadata": {},
     "output_type": "display_data"
    },
    {
     "name": "stdout",
     "output_type": "stream",
     "text": [
      "Not setting metadata\n",
      "130 matching events found\n",
      "Applying baseline correction (mode: mean)\n",
      "0 projection items activated\n",
      "Using data from preloaded Raw for 130 events and 701 original time points ...\n",
      "0 bad epochs dropped\n",
      "NOTE: pick_channels() is a legacy function. New code should use inst.pick(...).\n",
      "NOTE: pick_channels() is a legacy function. New code should use inst.pick(...).\n",
      "Visual Change P100: latency=0.116s, peak=5.09µV, mean=2.36µV\n",
      "No Visual Change P100: latency=0.120s, peak=5.76µV, mean=4.35µV\n",
      "Initializing Plotter\n",
      "Results saved to p100_results/sub-12_ses-02_p100_Visual Change_No Visual Change.csv\n"
     ]
    },
    {
     "data": {
      "text/html": [
       "<pre style=\"white-space:pre;overflow-x:auto;line-height:normal;font-family:Menlo,'DejaVu Sans Mono',consolas,'Courier New',monospace\"><span style=\"color: #808000; text-decoration-color: #808000\">╭─────────────────────────────────────────╮</span>\n",
       "<span style=\"color: #808000; text-decoration-color: #808000\">│</span> 🚀 <span style=\"color: #808000; text-decoration-color: #808000; font-weight: bold\">Initializing BIDSDatasetReader Class</span> <span style=\"color: #808000; text-decoration-color: #808000\">│</span>\n",
       "<span style=\"color: #808000; text-decoration-color: #808000\">╰─────────────────────────────────────────╯</span>\n",
       "</pre>\n"
      ],
      "text/plain": [
       "\u001b[33m╭─────────────────────────────────────────╮\u001b[0m\n",
       "\u001b[33m│\u001b[0m 🚀 \u001b[1;33mInitializing BIDSDatasetReader Class\u001b[0m \u001b[33m│\u001b[0m\n",
       "\u001b[33m╰─────────────────────────────────────────╯\u001b[0m\n"
      ]
     },
     "metadata": {},
     "output_type": "display_data"
    },
    {
     "data": {
      "text/html": [
       "<pre style=\"white-space:pre;overflow-x:auto;line-height:normal;font-family:Menlo,'DejaVu Sans Mono',consolas,'Courier New',monospace\"> <span style=\"color: #008000; text-decoration-color: #008000; font-weight: bold\">Loading Processed EEG Data: sub-</span><span style=\"color: #008000; text-decoration-color: #008000; font-weight: bold\">13</span><span style=\"color: #008000; text-decoration-color: #008000; font-weight: bold\"> ses-</span><span style=\"color: #008000; text-decoration-color: #008000; font-weight: bold\">01</span>\n",
       "</pre>\n"
      ],
      "text/plain": [
       " \u001b[1;32mLoading Processed EEG Data: sub-\u001b[0m\u001b[1;32m13\u001b[0m\u001b[1;32m ses-\u001b[0m\u001b[1;32m01\u001b[0m\n"
      ]
     },
     "metadata": {},
     "output_type": "display_data"
    },
    {
     "data": {
      "text/html": [
       "<pre style=\"white-space:pre;overflow-x:auto;line-height:normal;font-family:Menlo,'DejaVu Sans Mono',consolas,'Courier New',monospace\"><span style=\"color: #800000; text-decoration-color: #800000\">╭─────────────────────────────────────╮</span>\n",
       "<span style=\"color: #800000; text-decoration-color: #800000\">│</span>  <span style=\"color: #800000; text-decoration-color: #800000; font-weight: bold\">Initializing EEGEpochBuilder Class</span> <span style=\"color: #800000; text-decoration-color: #800000\">│</span>\n",
       "<span style=\"color: #800000; text-decoration-color: #800000\">╰─────────────────────────────────────╯</span>\n",
       "</pre>\n"
      ],
      "text/plain": [
       "\u001b[31m╭─────────────────────────────────────╮\u001b[0m\n",
       "\u001b[31m│\u001b[0m  \u001b[1;31mInitializing EEGEpochBuilder Class\u001b[0m \u001b[31m│\u001b[0m\n",
       "\u001b[31m╰─────────────────────────────────────╯\u001b[0m\n"
      ]
     },
     "metadata": {},
     "output_type": "display_data"
    },
    {
     "data": {
      "text/html": [
       "<pre style=\"white-space:pre;overflow-x:auto;line-height:normal;font-family:Menlo,'DejaVu Sans Mono',consolas,'Courier New',monospace\"> <span style=\"color: #008000; text-decoration-color: #008000; font-weight: bold\">Creating EPOCHS</span>\n",
       "</pre>\n"
      ],
      "text/plain": [
       " \u001b[1;32mCreating EPOCHS\u001b[0m\n"
      ]
     },
     "metadata": {},
     "output_type": "display_data"
    },
    {
     "data": {
      "text/html": [
       "<pre style=\"white-space:pre;overflow-x:auto;line-height:normal;font-family:Menlo,'DejaVu Sans Mono',consolas,'Courier New',monospace\"><span style=\"font-style: italic\">        Extraction Criteria        </span>\n",
       "┏━━━━━━━━━━━━━━━━━━━━┳━━━━━━━━━━━━┓\n",
       "┃<span style=\"font-weight: bold\"> Parameter          </span>┃<span style=\"font-weight: bold\"> Value      </span>┃\n",
       "┣━━━━━━━━━━━━━━━━━━━━╋━━━━━━━━━━━━┫\n",
       "┃<span style=\"color: #008080; text-decoration-color: #008080; font-weight: bold\"> 🧪 Trial Mode      </span>┃<span style=\"color: #808000; text-decoration-color: #808000; font-weight: bold\">            </span>┃\n",
       "┃<span style=\"color: #008080; text-decoration-color: #008080; font-weight: bold\"> 📏 Trial Unit      </span>┃<span style=\"color: #808000; text-decoration-color: #808000; font-weight: bold\"> Words      </span>┃\n",
       "┃<span style=\"color: #008080; text-decoration-color: #008080; font-weight: bold\"> 🔗 Experiment Mode </span>┃<span style=\"color: #808000; text-decoration-color: #808000; font-weight: bold\"> Experiment </span>┃\n",
       "┃<span style=\"color: #008080; text-decoration-color: #008080; font-weight: bold\"> 🎭 Trial Boundary  </span>┃<span style=\"color: #808000; text-decoration-color: #808000; font-weight: bold\"> Start      </span>┃\n",
       "┃<span style=\"color: #008080; text-decoration-color: #008080; font-weight: bold\"> 🔬 Trial Type      </span>┃<span style=\"color: #808000; text-decoration-color: #808000; font-weight: bold\"> Stimulus   </span>┃\n",
       "┃<span style=\"color: #008080; text-decoration-color: #008080; font-weight: bold\"> 📊 Modality        </span>┃<span style=\"color: #808000; text-decoration-color: #808000; font-weight: bold\"> Pictures   </span>┃\n",
       "┃<span style=\"color: #008080; text-decoration-color: #008080; font-weight: bold\"> ⏱ Tmin             </span>┃<span style=\"color: #808000; text-decoration-color: #808000; font-weight: bold\"> </span><span style=\"color: #008080; text-decoration-color: #008080; font-weight: bold\">-0.2</span><span style=\"color: #808000; text-decoration-color: #808000; font-weight: bold\">       </span>┃\n",
       "┃<span style=\"color: #008080; text-decoration-color: #008080; font-weight: bold\"> ⏳ Tmax            </span>┃<span style=\"color: #808000; text-decoration-color: #808000; font-weight: bold\"> </span><span style=\"color: #008080; text-decoration-color: #008080; font-weight: bold\">0.5</span><span style=\"color: #808000; text-decoration-color: #808000; font-weight: bold\">        </span>┃\n",
       "┗━━━━━━━━━━━━━━━━━━━━┻━━━━━━━━━━━━┛\n",
       "</pre>\n"
      ],
      "text/plain": [
       "\u001b[3m        Extraction Criteria        \u001b[0m\n",
       "┏━━━━━━━━━━━━━━━━━━━━┳━━━━━━━━━━━━┓\n",
       "┃\u001b[1m \u001b[0m\u001b[1mParameter         \u001b[0m\u001b[1m \u001b[0m┃\u001b[1m \u001b[0m\u001b[1mValue     \u001b[0m\u001b[1m \u001b[0m┃\n",
       "┣━━━━━━━━━━━━━━━━━━━━╋━━━━━━━━━━━━┫\n",
       "┃\u001b[1;36m \u001b[0m\u001b[1;36m🧪 Trial Mode     \u001b[0m\u001b[1;36m \u001b[0m┃\u001b[1;33m \u001b[0m\u001b[1;33m          \u001b[0m\u001b[1;33m \u001b[0m┃\n",
       "┃\u001b[1;36m \u001b[0m\u001b[1;36m📏 Trial Unit     \u001b[0m\u001b[1;36m \u001b[0m┃\u001b[1;33m \u001b[0m\u001b[1;33mWords     \u001b[0m\u001b[1;33m \u001b[0m┃\n",
       "┃\u001b[1;36m \u001b[0m\u001b[1;36m🔗 Experiment Mode\u001b[0m\u001b[1;36m \u001b[0m┃\u001b[1;33m \u001b[0m\u001b[1;33mExperiment\u001b[0m\u001b[1;33m \u001b[0m┃\n",
       "┃\u001b[1;36m \u001b[0m\u001b[1;36m🎭 Trial Boundary \u001b[0m\u001b[1;36m \u001b[0m┃\u001b[1;33m \u001b[0m\u001b[1;33mStart     \u001b[0m\u001b[1;33m \u001b[0m┃\n",
       "┃\u001b[1;36m \u001b[0m\u001b[1;36m🔬 Trial Type     \u001b[0m\u001b[1;36m \u001b[0m┃\u001b[1;33m \u001b[0m\u001b[1;33mStimulus  \u001b[0m\u001b[1;33m \u001b[0m┃\n",
       "┃\u001b[1;36m \u001b[0m\u001b[1;36m📊 Modality       \u001b[0m\u001b[1;36m \u001b[0m┃\u001b[1;33m \u001b[0m\u001b[1;33mPictures  \u001b[0m\u001b[1;33m \u001b[0m┃\n",
       "┃\u001b[1;36m \u001b[0m\u001b[1;36m⏱ Tmin            \u001b[0m\u001b[1;36m \u001b[0m┃\u001b[1;33m \u001b[0m\u001b[1;36m-0.2\u001b[0m\u001b[1;33m      \u001b[0m\u001b[1;33m \u001b[0m┃\n",
       "┃\u001b[1;36m \u001b[0m\u001b[1;36m⏳ Tmax           \u001b[0m\u001b[1;36m \u001b[0m┃\u001b[1;33m \u001b[0m\u001b[1;36m0.5\u001b[0m\u001b[1;33m       \u001b[0m\u001b[1;33m \u001b[0m┃\n",
       "┗━━━━━━━━━━━━━━━━━━━━┻━━━━━━━━━━━━┛\n"
      ]
     },
     "metadata": {},
     "output_type": "display_data"
    },
    {
     "name": "stdout",
     "output_type": "stream",
     "text": [
      "Not setting metadata\n",
      "130 matching events found\n",
      "Applying baseline correction (mode: mean)\n",
      "0 projection items activated\n",
      "Using data from preloaded Raw for 130 events and 701 original time points ...\n",
      "0 bad epochs dropped\n"
     ]
    },
    {
     "data": {
      "text/html": [
       "<pre style=\"white-space:pre;overflow-x:auto;line-height:normal;font-family:Menlo,'DejaVu Sans Mono',consolas,'Courier New',monospace\"><span style=\"color: #800000; text-decoration-color: #800000\">╭─────────────────────────────────────╮</span>\n",
       "<span style=\"color: #800000; text-decoration-color: #800000\">│</span>  <span style=\"color: #800000; text-decoration-color: #800000; font-weight: bold\">Initializing EEGEpochBuilder Class</span> <span style=\"color: #800000; text-decoration-color: #800000\">│</span>\n",
       "<span style=\"color: #800000; text-decoration-color: #800000\">╰─────────────────────────────────────╯</span>\n",
       "</pre>\n"
      ],
      "text/plain": [
       "\u001b[31m╭─────────────────────────────────────╮\u001b[0m\n",
       "\u001b[31m│\u001b[0m  \u001b[1;31mInitializing EEGEpochBuilder Class\u001b[0m \u001b[31m│\u001b[0m\n",
       "\u001b[31m╰─────────────────────────────────────╯\u001b[0m\n"
      ]
     },
     "metadata": {},
     "output_type": "display_data"
    },
    {
     "data": {
      "text/html": [
       "<pre style=\"white-space:pre;overflow-x:auto;line-height:normal;font-family:Menlo,'DejaVu Sans Mono',consolas,'Courier New',monospace\"> <span style=\"color: #008000; text-decoration-color: #008000; font-weight: bold\">Creating EPOCHS</span>\n",
       "</pre>\n"
      ],
      "text/plain": [
       " \u001b[1;32mCreating EPOCHS\u001b[0m\n"
      ]
     },
     "metadata": {},
     "output_type": "display_data"
    },
    {
     "data": {
      "text/html": [
       "<pre style=\"white-space:pre;overflow-x:auto;line-height:normal;font-family:Menlo,'DejaVu Sans Mono',consolas,'Courier New',monospace\"><span style=\"font-style: italic\">        Extraction Criteria        </span>\n",
       "┏━━━━━━━━━━━━━━━━━━━━┳━━━━━━━━━━━━┓\n",
       "┃<span style=\"font-weight: bold\"> Parameter          </span>┃<span style=\"font-weight: bold\"> Value      </span>┃\n",
       "┣━━━━━━━━━━━━━━━━━━━━╋━━━━━━━━━━━━┫\n",
       "┃<span style=\"color: #008080; text-decoration-color: #008080; font-weight: bold\"> 🧪 Trial Mode      </span>┃<span style=\"color: #808000; text-decoration-color: #808000; font-weight: bold\">            </span>┃\n",
       "┃<span style=\"color: #008080; text-decoration-color: #008080; font-weight: bold\"> 📏 Trial Unit      </span>┃<span style=\"color: #808000; text-decoration-color: #808000; font-weight: bold\"> Words      </span>┃\n",
       "┃<span style=\"color: #008080; text-decoration-color: #008080; font-weight: bold\"> 🔗 Experiment Mode </span>┃<span style=\"color: #808000; text-decoration-color: #808000; font-weight: bold\"> Experiment </span>┃\n",
       "┃<span style=\"color: #008080; text-decoration-color: #008080; font-weight: bold\"> 🎭 Trial Boundary  </span>┃<span style=\"color: #808000; text-decoration-color: #808000; font-weight: bold\"> Start      </span>┃\n",
       "┃<span style=\"color: #008080; text-decoration-color: #008080; font-weight: bold\"> 🔬 Trial Type      </span>┃<span style=\"color: #808000; text-decoration-color: #808000; font-weight: bold\"> Fixation   </span>┃\n",
       "┃<span style=\"color: #008080; text-decoration-color: #008080; font-weight: bold\"> 📊 Modality        </span>┃<span style=\"color: #808000; text-decoration-color: #808000; font-weight: bold\"> Pictures   </span>┃\n",
       "┃<span style=\"color: #008080; text-decoration-color: #008080; font-weight: bold\"> ⏱ Tmin             </span>┃<span style=\"color: #808000; text-decoration-color: #808000; font-weight: bold\"> </span><span style=\"color: #008080; text-decoration-color: #008080; font-weight: bold\">-0.2</span><span style=\"color: #808000; text-decoration-color: #808000; font-weight: bold\">       </span>┃\n",
       "┃<span style=\"color: #008080; text-decoration-color: #008080; font-weight: bold\"> ⏳ Tmax            </span>┃<span style=\"color: #808000; text-decoration-color: #808000; font-weight: bold\"> </span><span style=\"color: #008080; text-decoration-color: #008080; font-weight: bold\">0.5</span><span style=\"color: #808000; text-decoration-color: #808000; font-weight: bold\">        </span>┃\n",
       "┗━━━━━━━━━━━━━━━━━━━━┻━━━━━━━━━━━━┛\n",
       "</pre>\n"
      ],
      "text/plain": [
       "\u001b[3m        Extraction Criteria        \u001b[0m\n",
       "┏━━━━━━━━━━━━━━━━━━━━┳━━━━━━━━━━━━┓\n",
       "┃\u001b[1m \u001b[0m\u001b[1mParameter         \u001b[0m\u001b[1m \u001b[0m┃\u001b[1m \u001b[0m\u001b[1mValue     \u001b[0m\u001b[1m \u001b[0m┃\n",
       "┣━━━━━━━━━━━━━━━━━━━━╋━━━━━━━━━━━━┫\n",
       "┃\u001b[1;36m \u001b[0m\u001b[1;36m🧪 Trial Mode     \u001b[0m\u001b[1;36m \u001b[0m┃\u001b[1;33m \u001b[0m\u001b[1;33m          \u001b[0m\u001b[1;33m \u001b[0m┃\n",
       "┃\u001b[1;36m \u001b[0m\u001b[1;36m📏 Trial Unit     \u001b[0m\u001b[1;36m \u001b[0m┃\u001b[1;33m \u001b[0m\u001b[1;33mWords     \u001b[0m\u001b[1;33m \u001b[0m┃\n",
       "┃\u001b[1;36m \u001b[0m\u001b[1;36m🔗 Experiment Mode\u001b[0m\u001b[1;36m \u001b[0m┃\u001b[1;33m \u001b[0m\u001b[1;33mExperiment\u001b[0m\u001b[1;33m \u001b[0m┃\n",
       "┃\u001b[1;36m \u001b[0m\u001b[1;36m🎭 Trial Boundary \u001b[0m\u001b[1;36m \u001b[0m┃\u001b[1;33m \u001b[0m\u001b[1;33mStart     \u001b[0m\u001b[1;33m \u001b[0m┃\n",
       "┃\u001b[1;36m \u001b[0m\u001b[1;36m🔬 Trial Type     \u001b[0m\u001b[1;36m \u001b[0m┃\u001b[1;33m \u001b[0m\u001b[1;33mFixation  \u001b[0m\u001b[1;33m \u001b[0m┃\n",
       "┃\u001b[1;36m \u001b[0m\u001b[1;36m📊 Modality       \u001b[0m\u001b[1;36m \u001b[0m┃\u001b[1;33m \u001b[0m\u001b[1;33mPictures  \u001b[0m\u001b[1;33m \u001b[0m┃\n",
       "┃\u001b[1;36m \u001b[0m\u001b[1;36m⏱ Tmin            \u001b[0m\u001b[1;36m \u001b[0m┃\u001b[1;33m \u001b[0m\u001b[1;36m-0.2\u001b[0m\u001b[1;33m      \u001b[0m\u001b[1;33m \u001b[0m┃\n",
       "┃\u001b[1;36m \u001b[0m\u001b[1;36m⏳ Tmax           \u001b[0m\u001b[1;36m \u001b[0m┃\u001b[1;33m \u001b[0m\u001b[1;36m0.5\u001b[0m\u001b[1;33m       \u001b[0m\u001b[1;33m \u001b[0m┃\n",
       "┗━━━━━━━━━━━━━━━━━━━━┻━━━━━━━━━━━━┛\n"
      ]
     },
     "metadata": {},
     "output_type": "display_data"
    },
    {
     "name": "stdout",
     "output_type": "stream",
     "text": [
      "Not setting metadata\n",
      "130 matching events found\n",
      "Applying baseline correction (mode: mean)\n",
      "0 projection items activated\n",
      "Using data from preloaded Raw for 130 events and 701 original time points ...\n",
      "0 bad epochs dropped\n",
      "NOTE: pick_channels() is a legacy function. New code should use inst.pick(...).\n",
      "NOTE: pick_channels() is a legacy function. New code should use inst.pick(...).\n",
      "Visual Change P100: latency=0.120s, peak=13.92µV, mean=4.16µV\n",
      "No Visual Change P100: latency=0.120s, peak=0.09µV, mean=-2.03µV\n",
      "Initializing Plotter\n",
      "Results saved to p100_results/sub-13_ses-01_p100_Visual Change_No Visual Change.csv\n"
     ]
    },
    {
     "data": {
      "text/html": [
       "<pre style=\"white-space:pre;overflow-x:auto;line-height:normal;font-family:Menlo,'DejaVu Sans Mono',consolas,'Courier New',monospace\"><span style=\"color: #808000; text-decoration-color: #808000\">╭─────────────────────────────────────────╮</span>\n",
       "<span style=\"color: #808000; text-decoration-color: #808000\">│</span> 🚀 <span style=\"color: #808000; text-decoration-color: #808000; font-weight: bold\">Initializing BIDSDatasetReader Class</span> <span style=\"color: #808000; text-decoration-color: #808000\">│</span>\n",
       "<span style=\"color: #808000; text-decoration-color: #808000\">╰─────────────────────────────────────────╯</span>\n",
       "</pre>\n"
      ],
      "text/plain": [
       "\u001b[33m╭─────────────────────────────────────────╮\u001b[0m\n",
       "\u001b[33m│\u001b[0m 🚀 \u001b[1;33mInitializing BIDSDatasetReader Class\u001b[0m \u001b[33m│\u001b[0m\n",
       "\u001b[33m╰─────────────────────────────────────────╯\u001b[0m\n"
      ]
     },
     "metadata": {},
     "output_type": "display_data"
    },
    {
     "data": {
      "text/html": [
       "<pre style=\"white-space:pre;overflow-x:auto;line-height:normal;font-family:Menlo,'DejaVu Sans Mono',consolas,'Courier New',monospace\"> <span style=\"color: #008000; text-decoration-color: #008000; font-weight: bold\">Loading Processed EEG Data: sub-</span><span style=\"color: #008000; text-decoration-color: #008000; font-weight: bold\">13</span><span style=\"color: #008000; text-decoration-color: #008000; font-weight: bold\"> ses-</span><span style=\"color: #008000; text-decoration-color: #008000; font-weight: bold\">02</span>\n",
       "</pre>\n"
      ],
      "text/plain": [
       " \u001b[1;32mLoading Processed EEG Data: sub-\u001b[0m\u001b[1;32m13\u001b[0m\u001b[1;32m ses-\u001b[0m\u001b[1;32m02\u001b[0m\n"
      ]
     },
     "metadata": {},
     "output_type": "display_data"
    },
    {
     "data": {
      "text/html": [
       "<pre style=\"white-space:pre;overflow-x:auto;line-height:normal;font-family:Menlo,'DejaVu Sans Mono',consolas,'Courier New',monospace\"><span style=\"color: #800000; text-decoration-color: #800000\">╭─────────────────────────────────────╮</span>\n",
       "<span style=\"color: #800000; text-decoration-color: #800000\">│</span>  <span style=\"color: #800000; text-decoration-color: #800000; font-weight: bold\">Initializing EEGEpochBuilder Class</span> <span style=\"color: #800000; text-decoration-color: #800000\">│</span>\n",
       "<span style=\"color: #800000; text-decoration-color: #800000\">╰─────────────────────────────────────╯</span>\n",
       "</pre>\n"
      ],
      "text/plain": [
       "\u001b[31m╭─────────────────────────────────────╮\u001b[0m\n",
       "\u001b[31m│\u001b[0m  \u001b[1;31mInitializing EEGEpochBuilder Class\u001b[0m \u001b[31m│\u001b[0m\n",
       "\u001b[31m╰─────────────────────────────────────╯\u001b[0m\n"
      ]
     },
     "metadata": {},
     "output_type": "display_data"
    },
    {
     "data": {
      "text/html": [
       "<pre style=\"white-space:pre;overflow-x:auto;line-height:normal;font-family:Menlo,'DejaVu Sans Mono',consolas,'Courier New',monospace\"> <span style=\"color: #008000; text-decoration-color: #008000; font-weight: bold\">Creating EPOCHS</span>\n",
       "</pre>\n"
      ],
      "text/plain": [
       " \u001b[1;32mCreating EPOCHS\u001b[0m\n"
      ]
     },
     "metadata": {},
     "output_type": "display_data"
    },
    {
     "data": {
      "text/html": [
       "<pre style=\"white-space:pre;overflow-x:auto;line-height:normal;font-family:Menlo,'DejaVu Sans Mono',consolas,'Courier New',monospace\"><span style=\"font-style: italic\">        Extraction Criteria        </span>\n",
       "┏━━━━━━━━━━━━━━━━━━━━┳━━━━━━━━━━━━┓\n",
       "┃<span style=\"font-weight: bold\"> Parameter          </span>┃<span style=\"font-weight: bold\"> Value      </span>┃\n",
       "┣━━━━━━━━━━━━━━━━━━━━╋━━━━━━━━━━━━┫\n",
       "┃<span style=\"color: #008080; text-decoration-color: #008080; font-weight: bold\"> 🧪 Trial Mode      </span>┃<span style=\"color: #808000; text-decoration-color: #808000; font-weight: bold\">            </span>┃\n",
       "┃<span style=\"color: #008080; text-decoration-color: #008080; font-weight: bold\"> 📏 Trial Unit      </span>┃<span style=\"color: #808000; text-decoration-color: #808000; font-weight: bold\"> Words      </span>┃\n",
       "┃<span style=\"color: #008080; text-decoration-color: #008080; font-weight: bold\"> 🔗 Experiment Mode </span>┃<span style=\"color: #808000; text-decoration-color: #808000; font-weight: bold\"> Experiment </span>┃\n",
       "┃<span style=\"color: #008080; text-decoration-color: #008080; font-weight: bold\"> 🎭 Trial Boundary  </span>┃<span style=\"color: #808000; text-decoration-color: #808000; font-weight: bold\"> Start      </span>┃\n",
       "┃<span style=\"color: #008080; text-decoration-color: #008080; font-weight: bold\"> 🔬 Trial Type      </span>┃<span style=\"color: #808000; text-decoration-color: #808000; font-weight: bold\"> Stimulus   </span>┃\n",
       "┃<span style=\"color: #008080; text-decoration-color: #008080; font-weight: bold\"> 📊 Modality        </span>┃<span style=\"color: #808000; text-decoration-color: #808000; font-weight: bold\"> Pictures   </span>┃\n",
       "┃<span style=\"color: #008080; text-decoration-color: #008080; font-weight: bold\"> ⏱ Tmin             </span>┃<span style=\"color: #808000; text-decoration-color: #808000; font-weight: bold\"> </span><span style=\"color: #008080; text-decoration-color: #008080; font-weight: bold\">-0.2</span><span style=\"color: #808000; text-decoration-color: #808000; font-weight: bold\">       </span>┃\n",
       "┃<span style=\"color: #008080; text-decoration-color: #008080; font-weight: bold\"> ⏳ Tmax            </span>┃<span style=\"color: #808000; text-decoration-color: #808000; font-weight: bold\"> </span><span style=\"color: #008080; text-decoration-color: #008080; font-weight: bold\">0.5</span><span style=\"color: #808000; text-decoration-color: #808000; font-weight: bold\">        </span>┃\n",
       "┗━━━━━━━━━━━━━━━━━━━━┻━━━━━━━━━━━━┛\n",
       "</pre>\n"
      ],
      "text/plain": [
       "\u001b[3m        Extraction Criteria        \u001b[0m\n",
       "┏━━━━━━━━━━━━━━━━━━━━┳━━━━━━━━━━━━┓\n",
       "┃\u001b[1m \u001b[0m\u001b[1mParameter         \u001b[0m\u001b[1m \u001b[0m┃\u001b[1m \u001b[0m\u001b[1mValue     \u001b[0m\u001b[1m \u001b[0m┃\n",
       "┣━━━━━━━━━━━━━━━━━━━━╋━━━━━━━━━━━━┫\n",
       "┃\u001b[1;36m \u001b[0m\u001b[1;36m🧪 Trial Mode     \u001b[0m\u001b[1;36m \u001b[0m┃\u001b[1;33m \u001b[0m\u001b[1;33m          \u001b[0m\u001b[1;33m \u001b[0m┃\n",
       "┃\u001b[1;36m \u001b[0m\u001b[1;36m📏 Trial Unit     \u001b[0m\u001b[1;36m \u001b[0m┃\u001b[1;33m \u001b[0m\u001b[1;33mWords     \u001b[0m\u001b[1;33m \u001b[0m┃\n",
       "┃\u001b[1;36m \u001b[0m\u001b[1;36m🔗 Experiment Mode\u001b[0m\u001b[1;36m \u001b[0m┃\u001b[1;33m \u001b[0m\u001b[1;33mExperiment\u001b[0m\u001b[1;33m \u001b[0m┃\n",
       "┃\u001b[1;36m \u001b[0m\u001b[1;36m🎭 Trial Boundary \u001b[0m\u001b[1;36m \u001b[0m┃\u001b[1;33m \u001b[0m\u001b[1;33mStart     \u001b[0m\u001b[1;33m \u001b[0m┃\n",
       "┃\u001b[1;36m \u001b[0m\u001b[1;36m🔬 Trial Type     \u001b[0m\u001b[1;36m \u001b[0m┃\u001b[1;33m \u001b[0m\u001b[1;33mStimulus  \u001b[0m\u001b[1;33m \u001b[0m┃\n",
       "┃\u001b[1;36m \u001b[0m\u001b[1;36m📊 Modality       \u001b[0m\u001b[1;36m \u001b[0m┃\u001b[1;33m \u001b[0m\u001b[1;33mPictures  \u001b[0m\u001b[1;33m \u001b[0m┃\n",
       "┃\u001b[1;36m \u001b[0m\u001b[1;36m⏱ Tmin            \u001b[0m\u001b[1;36m \u001b[0m┃\u001b[1;33m \u001b[0m\u001b[1;36m-0.2\u001b[0m\u001b[1;33m      \u001b[0m\u001b[1;33m \u001b[0m┃\n",
       "┃\u001b[1;36m \u001b[0m\u001b[1;36m⏳ Tmax           \u001b[0m\u001b[1;36m \u001b[0m┃\u001b[1;33m \u001b[0m\u001b[1;36m0.5\u001b[0m\u001b[1;33m       \u001b[0m\u001b[1;33m \u001b[0m┃\n",
       "┗━━━━━━━━━━━━━━━━━━━━┻━━━━━━━━━━━━┛\n"
      ]
     },
     "metadata": {},
     "output_type": "display_data"
    },
    {
     "name": "stdout",
     "output_type": "stream",
     "text": [
      "Not setting metadata\n",
      "130 matching events found\n",
      "Applying baseline correction (mode: mean)\n",
      "0 projection items activated\n",
      "Using data from preloaded Raw for 130 events and 701 original time points ...\n",
      "0 bad epochs dropped\n"
     ]
    },
    {
     "data": {
      "text/html": [
       "<pre style=\"white-space:pre;overflow-x:auto;line-height:normal;font-family:Menlo,'DejaVu Sans Mono',consolas,'Courier New',monospace\"><span style=\"color: #800000; text-decoration-color: #800000\">╭─────────────────────────────────────╮</span>\n",
       "<span style=\"color: #800000; text-decoration-color: #800000\">│</span>  <span style=\"color: #800000; text-decoration-color: #800000; font-weight: bold\">Initializing EEGEpochBuilder Class</span> <span style=\"color: #800000; text-decoration-color: #800000\">│</span>\n",
       "<span style=\"color: #800000; text-decoration-color: #800000\">╰─────────────────────────────────────╯</span>\n",
       "</pre>\n"
      ],
      "text/plain": [
       "\u001b[31m╭─────────────────────────────────────╮\u001b[0m\n",
       "\u001b[31m│\u001b[0m  \u001b[1;31mInitializing EEGEpochBuilder Class\u001b[0m \u001b[31m│\u001b[0m\n",
       "\u001b[31m╰─────────────────────────────────────╯\u001b[0m\n"
      ]
     },
     "metadata": {},
     "output_type": "display_data"
    },
    {
     "data": {
      "text/html": [
       "<pre style=\"white-space:pre;overflow-x:auto;line-height:normal;font-family:Menlo,'DejaVu Sans Mono',consolas,'Courier New',monospace\"> <span style=\"color: #008000; text-decoration-color: #008000; font-weight: bold\">Creating EPOCHS</span>\n",
       "</pre>\n"
      ],
      "text/plain": [
       " \u001b[1;32mCreating EPOCHS\u001b[0m\n"
      ]
     },
     "metadata": {},
     "output_type": "display_data"
    },
    {
     "data": {
      "text/html": [
       "<pre style=\"white-space:pre;overflow-x:auto;line-height:normal;font-family:Menlo,'DejaVu Sans Mono',consolas,'Courier New',monospace\"><span style=\"font-style: italic\">        Extraction Criteria        </span>\n",
       "┏━━━━━━━━━━━━━━━━━━━━┳━━━━━━━━━━━━┓\n",
       "┃<span style=\"font-weight: bold\"> Parameter          </span>┃<span style=\"font-weight: bold\"> Value      </span>┃\n",
       "┣━━━━━━━━━━━━━━━━━━━━╋━━━━━━━━━━━━┫\n",
       "┃<span style=\"color: #008080; text-decoration-color: #008080; font-weight: bold\"> 🧪 Trial Mode      </span>┃<span style=\"color: #808000; text-decoration-color: #808000; font-weight: bold\">            </span>┃\n",
       "┃<span style=\"color: #008080; text-decoration-color: #008080; font-weight: bold\"> 📏 Trial Unit      </span>┃<span style=\"color: #808000; text-decoration-color: #808000; font-weight: bold\"> Words      </span>┃\n",
       "┃<span style=\"color: #008080; text-decoration-color: #008080; font-weight: bold\"> 🔗 Experiment Mode </span>┃<span style=\"color: #808000; text-decoration-color: #808000; font-weight: bold\"> Experiment </span>┃\n",
       "┃<span style=\"color: #008080; text-decoration-color: #008080; font-weight: bold\"> 🎭 Trial Boundary  </span>┃<span style=\"color: #808000; text-decoration-color: #808000; font-weight: bold\"> Start      </span>┃\n",
       "┃<span style=\"color: #008080; text-decoration-color: #008080; font-weight: bold\"> 🔬 Trial Type      </span>┃<span style=\"color: #808000; text-decoration-color: #808000; font-weight: bold\"> Fixation   </span>┃\n",
       "┃<span style=\"color: #008080; text-decoration-color: #008080; font-weight: bold\"> 📊 Modality        </span>┃<span style=\"color: #808000; text-decoration-color: #808000; font-weight: bold\"> Pictures   </span>┃\n",
       "┃<span style=\"color: #008080; text-decoration-color: #008080; font-weight: bold\"> ⏱ Tmin             </span>┃<span style=\"color: #808000; text-decoration-color: #808000; font-weight: bold\"> </span><span style=\"color: #008080; text-decoration-color: #008080; font-weight: bold\">-0.2</span><span style=\"color: #808000; text-decoration-color: #808000; font-weight: bold\">       </span>┃\n",
       "┃<span style=\"color: #008080; text-decoration-color: #008080; font-weight: bold\"> ⏳ Tmax            </span>┃<span style=\"color: #808000; text-decoration-color: #808000; font-weight: bold\"> </span><span style=\"color: #008080; text-decoration-color: #008080; font-weight: bold\">0.5</span><span style=\"color: #808000; text-decoration-color: #808000; font-weight: bold\">        </span>┃\n",
       "┗━━━━━━━━━━━━━━━━━━━━┻━━━━━━━━━━━━┛\n",
       "</pre>\n"
      ],
      "text/plain": [
       "\u001b[3m        Extraction Criteria        \u001b[0m\n",
       "┏━━━━━━━━━━━━━━━━━━━━┳━━━━━━━━━━━━┓\n",
       "┃\u001b[1m \u001b[0m\u001b[1mParameter         \u001b[0m\u001b[1m \u001b[0m┃\u001b[1m \u001b[0m\u001b[1mValue     \u001b[0m\u001b[1m \u001b[0m┃\n",
       "┣━━━━━━━━━━━━━━━━━━━━╋━━━━━━━━━━━━┫\n",
       "┃\u001b[1;36m \u001b[0m\u001b[1;36m🧪 Trial Mode     \u001b[0m\u001b[1;36m \u001b[0m┃\u001b[1;33m \u001b[0m\u001b[1;33m          \u001b[0m\u001b[1;33m \u001b[0m┃\n",
       "┃\u001b[1;36m \u001b[0m\u001b[1;36m📏 Trial Unit     \u001b[0m\u001b[1;36m \u001b[0m┃\u001b[1;33m \u001b[0m\u001b[1;33mWords     \u001b[0m\u001b[1;33m \u001b[0m┃\n",
       "┃\u001b[1;36m \u001b[0m\u001b[1;36m🔗 Experiment Mode\u001b[0m\u001b[1;36m \u001b[0m┃\u001b[1;33m \u001b[0m\u001b[1;33mExperiment\u001b[0m\u001b[1;33m \u001b[0m┃\n",
       "┃\u001b[1;36m \u001b[0m\u001b[1;36m🎭 Trial Boundary \u001b[0m\u001b[1;36m \u001b[0m┃\u001b[1;33m \u001b[0m\u001b[1;33mStart     \u001b[0m\u001b[1;33m \u001b[0m┃\n",
       "┃\u001b[1;36m \u001b[0m\u001b[1;36m🔬 Trial Type     \u001b[0m\u001b[1;36m \u001b[0m┃\u001b[1;33m \u001b[0m\u001b[1;33mFixation  \u001b[0m\u001b[1;33m \u001b[0m┃\n",
       "┃\u001b[1;36m \u001b[0m\u001b[1;36m📊 Modality       \u001b[0m\u001b[1;36m \u001b[0m┃\u001b[1;33m \u001b[0m\u001b[1;33mPictures  \u001b[0m\u001b[1;33m \u001b[0m┃\n",
       "┃\u001b[1;36m \u001b[0m\u001b[1;36m⏱ Tmin            \u001b[0m\u001b[1;36m \u001b[0m┃\u001b[1;33m \u001b[0m\u001b[1;36m-0.2\u001b[0m\u001b[1;33m      \u001b[0m\u001b[1;33m \u001b[0m┃\n",
       "┃\u001b[1;36m \u001b[0m\u001b[1;36m⏳ Tmax           \u001b[0m\u001b[1;36m \u001b[0m┃\u001b[1;33m \u001b[0m\u001b[1;36m0.5\u001b[0m\u001b[1;33m       \u001b[0m\u001b[1;33m \u001b[0m┃\n",
       "┗━━━━━━━━━━━━━━━━━━━━┻━━━━━━━━━━━━┛\n"
      ]
     },
     "metadata": {},
     "output_type": "display_data"
    },
    {
     "name": "stdout",
     "output_type": "stream",
     "text": [
      "Not setting metadata\n",
      "130 matching events found\n",
      "Applying baseline correction (mode: mean)\n",
      "0 projection items activated\n",
      "Using data from preloaded Raw for 130 events and 701 original time points ...\n",
      "0 bad epochs dropped\n",
      "NOTE: pick_channels() is a legacy function. New code should use inst.pick(...).\n",
      "NOTE: pick_channels() is a legacy function. New code should use inst.pick(...).\n",
      "Visual Change P100: latency=0.120s, peak=14.22µV, mean=4.54µV\n",
      "No Visual Change P100: latency=0.120s, peak=0.57µV, mean=-3.09µV\n",
      "Initializing Plotter\n",
      "Results saved to p100_results/sub-13_ses-02_p100_Visual Change_No Visual Change.csv\n"
     ]
    },
    {
     "data": {
      "text/html": [
       "<pre style=\"white-space:pre;overflow-x:auto;line-height:normal;font-family:Menlo,'DejaVu Sans Mono',consolas,'Courier New',monospace\"><span style=\"color: #808000; text-decoration-color: #808000\">╭─────────────────────────────────────────╮</span>\n",
       "<span style=\"color: #808000; text-decoration-color: #808000\">│</span> 🚀 <span style=\"color: #808000; text-decoration-color: #808000; font-weight: bold\">Initializing BIDSDatasetReader Class</span> <span style=\"color: #808000; text-decoration-color: #808000\">│</span>\n",
       "<span style=\"color: #808000; text-decoration-color: #808000\">╰─────────────────────────────────────────╯</span>\n",
       "</pre>\n"
      ],
      "text/plain": [
       "\u001b[33m╭─────────────────────────────────────────╮\u001b[0m\n",
       "\u001b[33m│\u001b[0m 🚀 \u001b[1;33mInitializing BIDSDatasetReader Class\u001b[0m \u001b[33m│\u001b[0m\n",
       "\u001b[33m╰─────────────────────────────────────────╯\u001b[0m\n"
      ]
     },
     "metadata": {},
     "output_type": "display_data"
    },
    {
     "data": {
      "text/html": [
       "<pre style=\"white-space:pre;overflow-x:auto;line-height:normal;font-family:Menlo,'DejaVu Sans Mono',consolas,'Courier New',monospace\"> <span style=\"color: #008000; text-decoration-color: #008000; font-weight: bold\">Loading Processed EEG Data: sub-</span><span style=\"color: #008000; text-decoration-color: #008000; font-weight: bold\">14</span><span style=\"color: #008000; text-decoration-color: #008000; font-weight: bold\"> ses-</span><span style=\"color: #008000; text-decoration-color: #008000; font-weight: bold\">01</span>\n",
       "</pre>\n"
      ],
      "text/plain": [
       " \u001b[1;32mLoading Processed EEG Data: sub-\u001b[0m\u001b[1;32m14\u001b[0m\u001b[1;32m ses-\u001b[0m\u001b[1;32m01\u001b[0m\n"
      ]
     },
     "metadata": {},
     "output_type": "display_data"
    },
    {
     "data": {
      "text/html": [
       "<pre style=\"white-space:pre;overflow-x:auto;line-height:normal;font-family:Menlo,'DejaVu Sans Mono',consolas,'Courier New',monospace\"><span style=\"color: #800000; text-decoration-color: #800000\">╭─────────────────────────────────────╮</span>\n",
       "<span style=\"color: #800000; text-decoration-color: #800000\">│</span>  <span style=\"color: #800000; text-decoration-color: #800000; font-weight: bold\">Initializing EEGEpochBuilder Class</span> <span style=\"color: #800000; text-decoration-color: #800000\">│</span>\n",
       "<span style=\"color: #800000; text-decoration-color: #800000\">╰─────────────────────────────────────╯</span>\n",
       "</pre>\n"
      ],
      "text/plain": [
       "\u001b[31m╭─────────────────────────────────────╮\u001b[0m\n",
       "\u001b[31m│\u001b[0m  \u001b[1;31mInitializing EEGEpochBuilder Class\u001b[0m \u001b[31m│\u001b[0m\n",
       "\u001b[31m╰─────────────────────────────────────╯\u001b[0m\n"
      ]
     },
     "metadata": {},
     "output_type": "display_data"
    },
    {
     "data": {
      "text/html": [
       "<pre style=\"white-space:pre;overflow-x:auto;line-height:normal;font-family:Menlo,'DejaVu Sans Mono',consolas,'Courier New',monospace\"> <span style=\"color: #008000; text-decoration-color: #008000; font-weight: bold\">Creating EPOCHS</span>\n",
       "</pre>\n"
      ],
      "text/plain": [
       " \u001b[1;32mCreating EPOCHS\u001b[0m\n"
      ]
     },
     "metadata": {},
     "output_type": "display_data"
    },
    {
     "data": {
      "text/html": [
       "<pre style=\"white-space:pre;overflow-x:auto;line-height:normal;font-family:Menlo,'DejaVu Sans Mono',consolas,'Courier New',monospace\"><span style=\"font-style: italic\">        Extraction Criteria        </span>\n",
       "┏━━━━━━━━━━━━━━━━━━━━┳━━━━━━━━━━━━┓\n",
       "┃<span style=\"font-weight: bold\"> Parameter          </span>┃<span style=\"font-weight: bold\"> Value      </span>┃\n",
       "┣━━━━━━━━━━━━━━━━━━━━╋━━━━━━━━━━━━┫\n",
       "┃<span style=\"color: #008080; text-decoration-color: #008080; font-weight: bold\"> 🧪 Trial Mode      </span>┃<span style=\"color: #808000; text-decoration-color: #808000; font-weight: bold\">            </span>┃\n",
       "┃<span style=\"color: #008080; text-decoration-color: #008080; font-weight: bold\"> 📏 Trial Unit      </span>┃<span style=\"color: #808000; text-decoration-color: #808000; font-weight: bold\"> Words      </span>┃\n",
       "┃<span style=\"color: #008080; text-decoration-color: #008080; font-weight: bold\"> 🔗 Experiment Mode </span>┃<span style=\"color: #808000; text-decoration-color: #808000; font-weight: bold\"> Experiment </span>┃\n",
       "┃<span style=\"color: #008080; text-decoration-color: #008080; font-weight: bold\"> 🎭 Trial Boundary  </span>┃<span style=\"color: #808000; text-decoration-color: #808000; font-weight: bold\"> Start      </span>┃\n",
       "┃<span style=\"color: #008080; text-decoration-color: #008080; font-weight: bold\"> 🔬 Trial Type      </span>┃<span style=\"color: #808000; text-decoration-color: #808000; font-weight: bold\"> Stimulus   </span>┃\n",
       "┃<span style=\"color: #008080; text-decoration-color: #008080; font-weight: bold\"> 📊 Modality        </span>┃<span style=\"color: #808000; text-decoration-color: #808000; font-weight: bold\"> Pictures   </span>┃\n",
       "┃<span style=\"color: #008080; text-decoration-color: #008080; font-weight: bold\"> ⏱ Tmin             </span>┃<span style=\"color: #808000; text-decoration-color: #808000; font-weight: bold\"> </span><span style=\"color: #008080; text-decoration-color: #008080; font-weight: bold\">-0.2</span><span style=\"color: #808000; text-decoration-color: #808000; font-weight: bold\">       </span>┃\n",
       "┃<span style=\"color: #008080; text-decoration-color: #008080; font-weight: bold\"> ⏳ Tmax            </span>┃<span style=\"color: #808000; text-decoration-color: #808000; font-weight: bold\"> </span><span style=\"color: #008080; text-decoration-color: #008080; font-weight: bold\">0.5</span><span style=\"color: #808000; text-decoration-color: #808000; font-weight: bold\">        </span>┃\n",
       "┗━━━━━━━━━━━━━━━━━━━━┻━━━━━━━━━━━━┛\n",
       "</pre>\n"
      ],
      "text/plain": [
       "\u001b[3m        Extraction Criteria        \u001b[0m\n",
       "┏━━━━━━━━━━━━━━━━━━━━┳━━━━━━━━━━━━┓\n",
       "┃\u001b[1m \u001b[0m\u001b[1mParameter         \u001b[0m\u001b[1m \u001b[0m┃\u001b[1m \u001b[0m\u001b[1mValue     \u001b[0m\u001b[1m \u001b[0m┃\n",
       "┣━━━━━━━━━━━━━━━━━━━━╋━━━━━━━━━━━━┫\n",
       "┃\u001b[1;36m \u001b[0m\u001b[1;36m🧪 Trial Mode     \u001b[0m\u001b[1;36m \u001b[0m┃\u001b[1;33m \u001b[0m\u001b[1;33m          \u001b[0m\u001b[1;33m \u001b[0m┃\n",
       "┃\u001b[1;36m \u001b[0m\u001b[1;36m📏 Trial Unit     \u001b[0m\u001b[1;36m \u001b[0m┃\u001b[1;33m \u001b[0m\u001b[1;33mWords     \u001b[0m\u001b[1;33m \u001b[0m┃\n",
       "┃\u001b[1;36m \u001b[0m\u001b[1;36m🔗 Experiment Mode\u001b[0m\u001b[1;36m \u001b[0m┃\u001b[1;33m \u001b[0m\u001b[1;33mExperiment\u001b[0m\u001b[1;33m \u001b[0m┃\n",
       "┃\u001b[1;36m \u001b[0m\u001b[1;36m🎭 Trial Boundary \u001b[0m\u001b[1;36m \u001b[0m┃\u001b[1;33m \u001b[0m\u001b[1;33mStart     \u001b[0m\u001b[1;33m \u001b[0m┃\n",
       "┃\u001b[1;36m \u001b[0m\u001b[1;36m🔬 Trial Type     \u001b[0m\u001b[1;36m \u001b[0m┃\u001b[1;33m \u001b[0m\u001b[1;33mStimulus  \u001b[0m\u001b[1;33m \u001b[0m┃\n",
       "┃\u001b[1;36m \u001b[0m\u001b[1;36m📊 Modality       \u001b[0m\u001b[1;36m \u001b[0m┃\u001b[1;33m \u001b[0m\u001b[1;33mPictures  \u001b[0m\u001b[1;33m \u001b[0m┃\n",
       "┃\u001b[1;36m \u001b[0m\u001b[1;36m⏱ Tmin            \u001b[0m\u001b[1;36m \u001b[0m┃\u001b[1;33m \u001b[0m\u001b[1;36m-0.2\u001b[0m\u001b[1;33m      \u001b[0m\u001b[1;33m \u001b[0m┃\n",
       "┃\u001b[1;36m \u001b[0m\u001b[1;36m⏳ Tmax           \u001b[0m\u001b[1;36m \u001b[0m┃\u001b[1;33m \u001b[0m\u001b[1;36m0.5\u001b[0m\u001b[1;33m       \u001b[0m\u001b[1;33m \u001b[0m┃\n",
       "┗━━━━━━━━━━━━━━━━━━━━┻━━━━━━━━━━━━┛\n"
      ]
     },
     "metadata": {},
     "output_type": "display_data"
    },
    {
     "name": "stdout",
     "output_type": "stream",
     "text": [
      "Not setting metadata\n",
      "130 matching events found\n",
      "Applying baseline correction (mode: mean)\n",
      "0 projection items activated\n",
      "Using data from preloaded Raw for 130 events and 701 original time points ...\n",
      "0 bad epochs dropped\n"
     ]
    },
    {
     "data": {
      "text/html": [
       "<pre style=\"white-space:pre;overflow-x:auto;line-height:normal;font-family:Menlo,'DejaVu Sans Mono',consolas,'Courier New',monospace\"><span style=\"color: #800000; text-decoration-color: #800000\">╭─────────────────────────────────────╮</span>\n",
       "<span style=\"color: #800000; text-decoration-color: #800000\">│</span>  <span style=\"color: #800000; text-decoration-color: #800000; font-weight: bold\">Initializing EEGEpochBuilder Class</span> <span style=\"color: #800000; text-decoration-color: #800000\">│</span>\n",
       "<span style=\"color: #800000; text-decoration-color: #800000\">╰─────────────────────────────────────╯</span>\n",
       "</pre>\n"
      ],
      "text/plain": [
       "\u001b[31m╭─────────────────────────────────────╮\u001b[0m\n",
       "\u001b[31m│\u001b[0m  \u001b[1;31mInitializing EEGEpochBuilder Class\u001b[0m \u001b[31m│\u001b[0m\n",
       "\u001b[31m╰─────────────────────────────────────╯\u001b[0m\n"
      ]
     },
     "metadata": {},
     "output_type": "display_data"
    },
    {
     "data": {
      "text/html": [
       "<pre style=\"white-space:pre;overflow-x:auto;line-height:normal;font-family:Menlo,'DejaVu Sans Mono',consolas,'Courier New',monospace\"> <span style=\"color: #008000; text-decoration-color: #008000; font-weight: bold\">Creating EPOCHS</span>\n",
       "</pre>\n"
      ],
      "text/plain": [
       " \u001b[1;32mCreating EPOCHS\u001b[0m\n"
      ]
     },
     "metadata": {},
     "output_type": "display_data"
    },
    {
     "data": {
      "text/html": [
       "<pre style=\"white-space:pre;overflow-x:auto;line-height:normal;font-family:Menlo,'DejaVu Sans Mono',consolas,'Courier New',monospace\"><span style=\"font-style: italic\">        Extraction Criteria        </span>\n",
       "┏━━━━━━━━━━━━━━━━━━━━┳━━━━━━━━━━━━┓\n",
       "┃<span style=\"font-weight: bold\"> Parameter          </span>┃<span style=\"font-weight: bold\"> Value      </span>┃\n",
       "┣━━━━━━━━━━━━━━━━━━━━╋━━━━━━━━━━━━┫\n",
       "┃<span style=\"color: #008080; text-decoration-color: #008080; font-weight: bold\"> 🧪 Trial Mode      </span>┃<span style=\"color: #808000; text-decoration-color: #808000; font-weight: bold\">            </span>┃\n",
       "┃<span style=\"color: #008080; text-decoration-color: #008080; font-weight: bold\"> 📏 Trial Unit      </span>┃<span style=\"color: #808000; text-decoration-color: #808000; font-weight: bold\"> Words      </span>┃\n",
       "┃<span style=\"color: #008080; text-decoration-color: #008080; font-weight: bold\"> 🔗 Experiment Mode </span>┃<span style=\"color: #808000; text-decoration-color: #808000; font-weight: bold\"> Experiment </span>┃\n",
       "┃<span style=\"color: #008080; text-decoration-color: #008080; font-weight: bold\"> 🎭 Trial Boundary  </span>┃<span style=\"color: #808000; text-decoration-color: #808000; font-weight: bold\"> Start      </span>┃\n",
       "┃<span style=\"color: #008080; text-decoration-color: #008080; font-weight: bold\"> 🔬 Trial Type      </span>┃<span style=\"color: #808000; text-decoration-color: #808000; font-weight: bold\"> Fixation   </span>┃\n",
       "┃<span style=\"color: #008080; text-decoration-color: #008080; font-weight: bold\"> 📊 Modality        </span>┃<span style=\"color: #808000; text-decoration-color: #808000; font-weight: bold\"> Pictures   </span>┃\n",
       "┃<span style=\"color: #008080; text-decoration-color: #008080; font-weight: bold\"> ⏱ Tmin             </span>┃<span style=\"color: #808000; text-decoration-color: #808000; font-weight: bold\"> </span><span style=\"color: #008080; text-decoration-color: #008080; font-weight: bold\">-0.2</span><span style=\"color: #808000; text-decoration-color: #808000; font-weight: bold\">       </span>┃\n",
       "┃<span style=\"color: #008080; text-decoration-color: #008080; font-weight: bold\"> ⏳ Tmax            </span>┃<span style=\"color: #808000; text-decoration-color: #808000; font-weight: bold\"> </span><span style=\"color: #008080; text-decoration-color: #008080; font-weight: bold\">0.5</span><span style=\"color: #808000; text-decoration-color: #808000; font-weight: bold\">        </span>┃\n",
       "┗━━━━━━━━━━━━━━━━━━━━┻━━━━━━━━━━━━┛\n",
       "</pre>\n"
      ],
      "text/plain": [
       "\u001b[3m        Extraction Criteria        \u001b[0m\n",
       "┏━━━━━━━━━━━━━━━━━━━━┳━━━━━━━━━━━━┓\n",
       "┃\u001b[1m \u001b[0m\u001b[1mParameter         \u001b[0m\u001b[1m \u001b[0m┃\u001b[1m \u001b[0m\u001b[1mValue     \u001b[0m\u001b[1m \u001b[0m┃\n",
       "┣━━━━━━━━━━━━━━━━━━━━╋━━━━━━━━━━━━┫\n",
       "┃\u001b[1;36m \u001b[0m\u001b[1;36m🧪 Trial Mode     \u001b[0m\u001b[1;36m \u001b[0m┃\u001b[1;33m \u001b[0m\u001b[1;33m          \u001b[0m\u001b[1;33m \u001b[0m┃\n",
       "┃\u001b[1;36m \u001b[0m\u001b[1;36m📏 Trial Unit     \u001b[0m\u001b[1;36m \u001b[0m┃\u001b[1;33m \u001b[0m\u001b[1;33mWords     \u001b[0m\u001b[1;33m \u001b[0m┃\n",
       "┃\u001b[1;36m \u001b[0m\u001b[1;36m🔗 Experiment Mode\u001b[0m\u001b[1;36m \u001b[0m┃\u001b[1;33m \u001b[0m\u001b[1;33mExperiment\u001b[0m\u001b[1;33m \u001b[0m┃\n",
       "┃\u001b[1;36m \u001b[0m\u001b[1;36m🎭 Trial Boundary \u001b[0m\u001b[1;36m \u001b[0m┃\u001b[1;33m \u001b[0m\u001b[1;33mStart     \u001b[0m\u001b[1;33m \u001b[0m┃\n",
       "┃\u001b[1;36m \u001b[0m\u001b[1;36m🔬 Trial Type     \u001b[0m\u001b[1;36m \u001b[0m┃\u001b[1;33m \u001b[0m\u001b[1;33mFixation  \u001b[0m\u001b[1;33m \u001b[0m┃\n",
       "┃\u001b[1;36m \u001b[0m\u001b[1;36m📊 Modality       \u001b[0m\u001b[1;36m \u001b[0m┃\u001b[1;33m \u001b[0m\u001b[1;33mPictures  \u001b[0m\u001b[1;33m \u001b[0m┃\n",
       "┃\u001b[1;36m \u001b[0m\u001b[1;36m⏱ Tmin            \u001b[0m\u001b[1;36m \u001b[0m┃\u001b[1;33m \u001b[0m\u001b[1;36m-0.2\u001b[0m\u001b[1;33m      \u001b[0m\u001b[1;33m \u001b[0m┃\n",
       "┃\u001b[1;36m \u001b[0m\u001b[1;36m⏳ Tmax           \u001b[0m\u001b[1;36m \u001b[0m┃\u001b[1;33m \u001b[0m\u001b[1;36m0.5\u001b[0m\u001b[1;33m       \u001b[0m\u001b[1;33m \u001b[0m┃\n",
       "┗━━━━━━━━━━━━━━━━━━━━┻━━━━━━━━━━━━┛\n"
      ]
     },
     "metadata": {},
     "output_type": "display_data"
    },
    {
     "name": "stdout",
     "output_type": "stream",
     "text": [
      "Not setting metadata\n",
      "130 matching events found\n",
      "Applying baseline correction (mode: mean)\n",
      "0 projection items activated\n",
      "Using data from preloaded Raw for 130 events and 701 original time points ...\n",
      "0 bad epochs dropped\n",
      "NOTE: pick_channels() is a legacy function. New code should use inst.pick(...).\n",
      "NOTE: pick_channels() is a legacy function. New code should use inst.pick(...).\n",
      "Visual Change P100: latency=0.120s, peak=4.98µV, mean=-0.58µV\n",
      "No Visual Change P100: latency=0.101s, peak=0.38µV, mean=-0.11µV\n",
      "Initializing Plotter\n",
      "Results saved to p100_results/sub-14_ses-01_p100_Visual Change_No Visual Change.csv\n"
     ]
    },
    {
     "data": {
      "text/html": [
       "<pre style=\"white-space:pre;overflow-x:auto;line-height:normal;font-family:Menlo,'DejaVu Sans Mono',consolas,'Courier New',monospace\"><span style=\"color: #808000; text-decoration-color: #808000\">╭─────────────────────────────────────────╮</span>\n",
       "<span style=\"color: #808000; text-decoration-color: #808000\">│</span> 🚀 <span style=\"color: #808000; text-decoration-color: #808000; font-weight: bold\">Initializing BIDSDatasetReader Class</span> <span style=\"color: #808000; text-decoration-color: #808000\">│</span>\n",
       "<span style=\"color: #808000; text-decoration-color: #808000\">╰─────────────────────────────────────────╯</span>\n",
       "</pre>\n"
      ],
      "text/plain": [
       "\u001b[33m╭─────────────────────────────────────────╮\u001b[0m\n",
       "\u001b[33m│\u001b[0m 🚀 \u001b[1;33mInitializing BIDSDatasetReader Class\u001b[0m \u001b[33m│\u001b[0m\n",
       "\u001b[33m╰─────────────────────────────────────────╯\u001b[0m\n"
      ]
     },
     "metadata": {},
     "output_type": "display_data"
    },
    {
     "data": {
      "text/html": [
       "<pre style=\"white-space:pre;overflow-x:auto;line-height:normal;font-family:Menlo,'DejaVu Sans Mono',consolas,'Courier New',monospace\"> <span style=\"color: #008000; text-decoration-color: #008000; font-weight: bold\">Loading Processed EEG Data: sub-</span><span style=\"color: #008000; text-decoration-color: #008000; font-weight: bold\">15</span><span style=\"color: #008000; text-decoration-color: #008000; font-weight: bold\"> ses-</span><span style=\"color: #008000; text-decoration-color: #008000; font-weight: bold\">01</span>\n",
       "</pre>\n"
      ],
      "text/plain": [
       " \u001b[1;32mLoading Processed EEG Data: sub-\u001b[0m\u001b[1;32m15\u001b[0m\u001b[1;32m ses-\u001b[0m\u001b[1;32m01\u001b[0m\n"
      ]
     },
     "metadata": {},
     "output_type": "display_data"
    },
    {
     "data": {
      "text/html": [
       "<pre style=\"white-space:pre;overflow-x:auto;line-height:normal;font-family:Menlo,'DejaVu Sans Mono',consolas,'Courier New',monospace\"><span style=\"color: #800000; text-decoration-color: #800000\">╭─────────────────────────────────────╮</span>\n",
       "<span style=\"color: #800000; text-decoration-color: #800000\">│</span>  <span style=\"color: #800000; text-decoration-color: #800000; font-weight: bold\">Initializing EEGEpochBuilder Class</span> <span style=\"color: #800000; text-decoration-color: #800000\">│</span>\n",
       "<span style=\"color: #800000; text-decoration-color: #800000\">╰─────────────────────────────────────╯</span>\n",
       "</pre>\n"
      ],
      "text/plain": [
       "\u001b[31m╭─────────────────────────────────────╮\u001b[0m\n",
       "\u001b[31m│\u001b[0m  \u001b[1;31mInitializing EEGEpochBuilder Class\u001b[0m \u001b[31m│\u001b[0m\n",
       "\u001b[31m╰─────────────────────────────────────╯\u001b[0m\n"
      ]
     },
     "metadata": {},
     "output_type": "display_data"
    },
    {
     "data": {
      "text/html": [
       "<pre style=\"white-space:pre;overflow-x:auto;line-height:normal;font-family:Menlo,'DejaVu Sans Mono',consolas,'Courier New',monospace\"> <span style=\"color: #008000; text-decoration-color: #008000; font-weight: bold\">Creating EPOCHS</span>\n",
       "</pre>\n"
      ],
      "text/plain": [
       " \u001b[1;32mCreating EPOCHS\u001b[0m\n"
      ]
     },
     "metadata": {},
     "output_type": "display_data"
    },
    {
     "data": {
      "text/html": [
       "<pre style=\"white-space:pre;overflow-x:auto;line-height:normal;font-family:Menlo,'DejaVu Sans Mono',consolas,'Courier New',monospace\"><span style=\"font-style: italic\">        Extraction Criteria        </span>\n",
       "┏━━━━━━━━━━━━━━━━━━━━┳━━━━━━━━━━━━┓\n",
       "┃<span style=\"font-weight: bold\"> Parameter          </span>┃<span style=\"font-weight: bold\"> Value      </span>┃\n",
       "┣━━━━━━━━━━━━━━━━━━━━╋━━━━━━━━━━━━┫\n",
       "┃<span style=\"color: #008080; text-decoration-color: #008080; font-weight: bold\"> 🧪 Trial Mode      </span>┃<span style=\"color: #808000; text-decoration-color: #808000; font-weight: bold\">            </span>┃\n",
       "┃<span style=\"color: #008080; text-decoration-color: #008080; font-weight: bold\"> 📏 Trial Unit      </span>┃<span style=\"color: #808000; text-decoration-color: #808000; font-weight: bold\"> Words      </span>┃\n",
       "┃<span style=\"color: #008080; text-decoration-color: #008080; font-weight: bold\"> 🔗 Experiment Mode </span>┃<span style=\"color: #808000; text-decoration-color: #808000; font-weight: bold\"> Experiment </span>┃\n",
       "┃<span style=\"color: #008080; text-decoration-color: #008080; font-weight: bold\"> 🎭 Trial Boundary  </span>┃<span style=\"color: #808000; text-decoration-color: #808000; font-weight: bold\"> Start      </span>┃\n",
       "┃<span style=\"color: #008080; text-decoration-color: #008080; font-weight: bold\"> 🔬 Trial Type      </span>┃<span style=\"color: #808000; text-decoration-color: #808000; font-weight: bold\"> Stimulus   </span>┃\n",
       "┃<span style=\"color: #008080; text-decoration-color: #008080; font-weight: bold\"> 📊 Modality        </span>┃<span style=\"color: #808000; text-decoration-color: #808000; font-weight: bold\"> Pictures   </span>┃\n",
       "┃<span style=\"color: #008080; text-decoration-color: #008080; font-weight: bold\"> ⏱ Tmin             </span>┃<span style=\"color: #808000; text-decoration-color: #808000; font-weight: bold\"> </span><span style=\"color: #008080; text-decoration-color: #008080; font-weight: bold\">-0.2</span><span style=\"color: #808000; text-decoration-color: #808000; font-weight: bold\">       </span>┃\n",
       "┃<span style=\"color: #008080; text-decoration-color: #008080; font-weight: bold\"> ⏳ Tmax            </span>┃<span style=\"color: #808000; text-decoration-color: #808000; font-weight: bold\"> </span><span style=\"color: #008080; text-decoration-color: #008080; font-weight: bold\">0.5</span><span style=\"color: #808000; text-decoration-color: #808000; font-weight: bold\">        </span>┃\n",
       "┗━━━━━━━━━━━━━━━━━━━━┻━━━━━━━━━━━━┛\n",
       "</pre>\n"
      ],
      "text/plain": [
       "\u001b[3m        Extraction Criteria        \u001b[0m\n",
       "┏━━━━━━━━━━━━━━━━━━━━┳━━━━━━━━━━━━┓\n",
       "┃\u001b[1m \u001b[0m\u001b[1mParameter         \u001b[0m\u001b[1m \u001b[0m┃\u001b[1m \u001b[0m\u001b[1mValue     \u001b[0m\u001b[1m \u001b[0m┃\n",
       "┣━━━━━━━━━━━━━━━━━━━━╋━━━━━━━━━━━━┫\n",
       "┃\u001b[1;36m \u001b[0m\u001b[1;36m🧪 Trial Mode     \u001b[0m\u001b[1;36m \u001b[0m┃\u001b[1;33m \u001b[0m\u001b[1;33m          \u001b[0m\u001b[1;33m \u001b[0m┃\n",
       "┃\u001b[1;36m \u001b[0m\u001b[1;36m📏 Trial Unit     \u001b[0m\u001b[1;36m \u001b[0m┃\u001b[1;33m \u001b[0m\u001b[1;33mWords     \u001b[0m\u001b[1;33m \u001b[0m┃\n",
       "┃\u001b[1;36m \u001b[0m\u001b[1;36m🔗 Experiment Mode\u001b[0m\u001b[1;36m \u001b[0m┃\u001b[1;33m \u001b[0m\u001b[1;33mExperiment\u001b[0m\u001b[1;33m \u001b[0m┃\n",
       "┃\u001b[1;36m \u001b[0m\u001b[1;36m🎭 Trial Boundary \u001b[0m\u001b[1;36m \u001b[0m┃\u001b[1;33m \u001b[0m\u001b[1;33mStart     \u001b[0m\u001b[1;33m \u001b[0m┃\n",
       "┃\u001b[1;36m \u001b[0m\u001b[1;36m🔬 Trial Type     \u001b[0m\u001b[1;36m \u001b[0m┃\u001b[1;33m \u001b[0m\u001b[1;33mStimulus  \u001b[0m\u001b[1;33m \u001b[0m┃\n",
       "┃\u001b[1;36m \u001b[0m\u001b[1;36m📊 Modality       \u001b[0m\u001b[1;36m \u001b[0m┃\u001b[1;33m \u001b[0m\u001b[1;33mPictures  \u001b[0m\u001b[1;33m \u001b[0m┃\n",
       "┃\u001b[1;36m \u001b[0m\u001b[1;36m⏱ Tmin            \u001b[0m\u001b[1;36m \u001b[0m┃\u001b[1;33m \u001b[0m\u001b[1;36m-0.2\u001b[0m\u001b[1;33m      \u001b[0m\u001b[1;33m \u001b[0m┃\n",
       "┃\u001b[1;36m \u001b[0m\u001b[1;36m⏳ Tmax           \u001b[0m\u001b[1;36m \u001b[0m┃\u001b[1;33m \u001b[0m\u001b[1;36m0.5\u001b[0m\u001b[1;33m       \u001b[0m\u001b[1;33m \u001b[0m┃\n",
       "┗━━━━━━━━━━━━━━━━━━━━┻━━━━━━━━━━━━┛\n"
      ]
     },
     "metadata": {},
     "output_type": "display_data"
    },
    {
     "name": "stdout",
     "output_type": "stream",
     "text": [
      "Not setting metadata\n",
      "130 matching events found\n",
      "Applying baseline correction (mode: mean)\n",
      "0 projection items activated\n",
      "Using data from preloaded Raw for 130 events and 701 original time points ...\n",
      "0 bad epochs dropped\n"
     ]
    },
    {
     "data": {
      "text/html": [
       "<pre style=\"white-space:pre;overflow-x:auto;line-height:normal;font-family:Menlo,'DejaVu Sans Mono',consolas,'Courier New',monospace\"><span style=\"color: #800000; text-decoration-color: #800000\">╭─────────────────────────────────────╮</span>\n",
       "<span style=\"color: #800000; text-decoration-color: #800000\">│</span>  <span style=\"color: #800000; text-decoration-color: #800000; font-weight: bold\">Initializing EEGEpochBuilder Class</span> <span style=\"color: #800000; text-decoration-color: #800000\">│</span>\n",
       "<span style=\"color: #800000; text-decoration-color: #800000\">╰─────────────────────────────────────╯</span>\n",
       "</pre>\n"
      ],
      "text/plain": [
       "\u001b[31m╭─────────────────────────────────────╮\u001b[0m\n",
       "\u001b[31m│\u001b[0m  \u001b[1;31mInitializing EEGEpochBuilder Class\u001b[0m \u001b[31m│\u001b[0m\n",
       "\u001b[31m╰─────────────────────────────────────╯\u001b[0m\n"
      ]
     },
     "metadata": {},
     "output_type": "display_data"
    },
    {
     "data": {
      "text/html": [
       "<pre style=\"white-space:pre;overflow-x:auto;line-height:normal;font-family:Menlo,'DejaVu Sans Mono',consolas,'Courier New',monospace\"> <span style=\"color: #008000; text-decoration-color: #008000; font-weight: bold\">Creating EPOCHS</span>\n",
       "</pre>\n"
      ],
      "text/plain": [
       " \u001b[1;32mCreating EPOCHS\u001b[0m\n"
      ]
     },
     "metadata": {},
     "output_type": "display_data"
    },
    {
     "data": {
      "text/html": [
       "<pre style=\"white-space:pre;overflow-x:auto;line-height:normal;font-family:Menlo,'DejaVu Sans Mono',consolas,'Courier New',monospace\"><span style=\"font-style: italic\">        Extraction Criteria        </span>\n",
       "┏━━━━━━━━━━━━━━━━━━━━┳━━━━━━━━━━━━┓\n",
       "┃<span style=\"font-weight: bold\"> Parameter          </span>┃<span style=\"font-weight: bold\"> Value      </span>┃\n",
       "┣━━━━━━━━━━━━━━━━━━━━╋━━━━━━━━━━━━┫\n",
       "┃<span style=\"color: #008080; text-decoration-color: #008080; font-weight: bold\"> 🧪 Trial Mode      </span>┃<span style=\"color: #808000; text-decoration-color: #808000; font-weight: bold\">            </span>┃\n",
       "┃<span style=\"color: #008080; text-decoration-color: #008080; font-weight: bold\"> 📏 Trial Unit      </span>┃<span style=\"color: #808000; text-decoration-color: #808000; font-weight: bold\"> Words      </span>┃\n",
       "┃<span style=\"color: #008080; text-decoration-color: #008080; font-weight: bold\"> 🔗 Experiment Mode </span>┃<span style=\"color: #808000; text-decoration-color: #808000; font-weight: bold\"> Experiment </span>┃\n",
       "┃<span style=\"color: #008080; text-decoration-color: #008080; font-weight: bold\"> 🎭 Trial Boundary  </span>┃<span style=\"color: #808000; text-decoration-color: #808000; font-weight: bold\"> Start      </span>┃\n",
       "┃<span style=\"color: #008080; text-decoration-color: #008080; font-weight: bold\"> 🔬 Trial Type      </span>┃<span style=\"color: #808000; text-decoration-color: #808000; font-weight: bold\"> Fixation   </span>┃\n",
       "┃<span style=\"color: #008080; text-decoration-color: #008080; font-weight: bold\"> 📊 Modality        </span>┃<span style=\"color: #808000; text-decoration-color: #808000; font-weight: bold\"> Pictures   </span>┃\n",
       "┃<span style=\"color: #008080; text-decoration-color: #008080; font-weight: bold\"> ⏱ Tmin             </span>┃<span style=\"color: #808000; text-decoration-color: #808000; font-weight: bold\"> </span><span style=\"color: #008080; text-decoration-color: #008080; font-weight: bold\">-0.2</span><span style=\"color: #808000; text-decoration-color: #808000; font-weight: bold\">       </span>┃\n",
       "┃<span style=\"color: #008080; text-decoration-color: #008080; font-weight: bold\"> ⏳ Tmax            </span>┃<span style=\"color: #808000; text-decoration-color: #808000; font-weight: bold\"> </span><span style=\"color: #008080; text-decoration-color: #008080; font-weight: bold\">0.5</span><span style=\"color: #808000; text-decoration-color: #808000; font-weight: bold\">        </span>┃\n",
       "┗━━━━━━━━━━━━━━━━━━━━┻━━━━━━━━━━━━┛\n",
       "</pre>\n"
      ],
      "text/plain": [
       "\u001b[3m        Extraction Criteria        \u001b[0m\n",
       "┏━━━━━━━━━━━━━━━━━━━━┳━━━━━━━━━━━━┓\n",
       "┃\u001b[1m \u001b[0m\u001b[1mParameter         \u001b[0m\u001b[1m \u001b[0m┃\u001b[1m \u001b[0m\u001b[1mValue     \u001b[0m\u001b[1m \u001b[0m┃\n",
       "┣━━━━━━━━━━━━━━━━━━━━╋━━━━━━━━━━━━┫\n",
       "┃\u001b[1;36m \u001b[0m\u001b[1;36m🧪 Trial Mode     \u001b[0m\u001b[1;36m \u001b[0m┃\u001b[1;33m \u001b[0m\u001b[1;33m          \u001b[0m\u001b[1;33m \u001b[0m┃\n",
       "┃\u001b[1;36m \u001b[0m\u001b[1;36m📏 Trial Unit     \u001b[0m\u001b[1;36m \u001b[0m┃\u001b[1;33m \u001b[0m\u001b[1;33mWords     \u001b[0m\u001b[1;33m \u001b[0m┃\n",
       "┃\u001b[1;36m \u001b[0m\u001b[1;36m🔗 Experiment Mode\u001b[0m\u001b[1;36m \u001b[0m┃\u001b[1;33m \u001b[0m\u001b[1;33mExperiment\u001b[0m\u001b[1;33m \u001b[0m┃\n",
       "┃\u001b[1;36m \u001b[0m\u001b[1;36m🎭 Trial Boundary \u001b[0m\u001b[1;36m \u001b[0m┃\u001b[1;33m \u001b[0m\u001b[1;33mStart     \u001b[0m\u001b[1;33m \u001b[0m┃\n",
       "┃\u001b[1;36m \u001b[0m\u001b[1;36m🔬 Trial Type     \u001b[0m\u001b[1;36m \u001b[0m┃\u001b[1;33m \u001b[0m\u001b[1;33mFixation  \u001b[0m\u001b[1;33m \u001b[0m┃\n",
       "┃\u001b[1;36m \u001b[0m\u001b[1;36m📊 Modality       \u001b[0m\u001b[1;36m \u001b[0m┃\u001b[1;33m \u001b[0m\u001b[1;33mPictures  \u001b[0m\u001b[1;33m \u001b[0m┃\n",
       "┃\u001b[1;36m \u001b[0m\u001b[1;36m⏱ Tmin            \u001b[0m\u001b[1;36m \u001b[0m┃\u001b[1;33m \u001b[0m\u001b[1;36m-0.2\u001b[0m\u001b[1;33m      \u001b[0m\u001b[1;33m \u001b[0m┃\n",
       "┃\u001b[1;36m \u001b[0m\u001b[1;36m⏳ Tmax           \u001b[0m\u001b[1;36m \u001b[0m┃\u001b[1;33m \u001b[0m\u001b[1;36m0.5\u001b[0m\u001b[1;33m       \u001b[0m\u001b[1;33m \u001b[0m┃\n",
       "┗━━━━━━━━━━━━━━━━━━━━┻━━━━━━━━━━━━┛\n"
      ]
     },
     "metadata": {},
     "output_type": "display_data"
    },
    {
     "name": "stdout",
     "output_type": "stream",
     "text": [
      "Not setting metadata\n",
      "130 matching events found\n",
      "Applying baseline correction (mode: mean)\n",
      "0 projection items activated\n",
      "Using data from preloaded Raw for 130 events and 701 original time points ...\n",
      "0 bad epochs dropped\n",
      "NOTE: pick_channels() is a legacy function. New code should use inst.pick(...).\n",
      "NOTE: pick_channels() is a legacy function. New code should use inst.pick(...).\n",
      "Visual Change P100: latency=0.120s, peak=2.41µV, mean=-0.90µV\n",
      "No Visual Change P100: latency=0.104s, peak=2.16µV, mean=1.07µV\n",
      "Initializing Plotter\n",
      "Results saved to p100_results/sub-15_ses-01_p100_Visual Change_No Visual Change.csv\n"
     ]
    },
    {
     "data": {
      "text/html": [
       "<pre style=\"white-space:pre;overflow-x:auto;line-height:normal;font-family:Menlo,'DejaVu Sans Mono',consolas,'Courier New',monospace\"><span style=\"color: #808000; text-decoration-color: #808000\">╭─────────────────────────────────────────╮</span>\n",
       "<span style=\"color: #808000; text-decoration-color: #808000\">│</span> 🚀 <span style=\"color: #808000; text-decoration-color: #808000; font-weight: bold\">Initializing BIDSDatasetReader Class</span> <span style=\"color: #808000; text-decoration-color: #808000\">│</span>\n",
       "<span style=\"color: #808000; text-decoration-color: #808000\">╰─────────────────────────────────────────╯</span>\n",
       "</pre>\n"
      ],
      "text/plain": [
       "\u001b[33m╭─────────────────────────────────────────╮\u001b[0m\n",
       "\u001b[33m│\u001b[0m 🚀 \u001b[1;33mInitializing BIDSDatasetReader Class\u001b[0m \u001b[33m│\u001b[0m\n",
       "\u001b[33m╰─────────────────────────────────────────╯\u001b[0m\n"
      ]
     },
     "metadata": {},
     "output_type": "display_data"
    },
    {
     "data": {
      "text/html": [
       "<pre style=\"white-space:pre;overflow-x:auto;line-height:normal;font-family:Menlo,'DejaVu Sans Mono',consolas,'Courier New',monospace\"> <span style=\"color: #008000; text-decoration-color: #008000; font-weight: bold\">Loading Processed EEG Data: sub-</span><span style=\"color: #008000; text-decoration-color: #008000; font-weight: bold\">15</span><span style=\"color: #008000; text-decoration-color: #008000; font-weight: bold\"> ses-</span><span style=\"color: #008000; text-decoration-color: #008000; font-weight: bold\">02</span>\n",
       "</pre>\n"
      ],
      "text/plain": [
       " \u001b[1;32mLoading Processed EEG Data: sub-\u001b[0m\u001b[1;32m15\u001b[0m\u001b[1;32m ses-\u001b[0m\u001b[1;32m02\u001b[0m\n"
      ]
     },
     "metadata": {},
     "output_type": "display_data"
    },
    {
     "data": {
      "text/html": [
       "<pre style=\"white-space:pre;overflow-x:auto;line-height:normal;font-family:Menlo,'DejaVu Sans Mono',consolas,'Courier New',monospace\"><span style=\"color: #800000; text-decoration-color: #800000\">╭─────────────────────────────────────╮</span>\n",
       "<span style=\"color: #800000; text-decoration-color: #800000\">│</span>  <span style=\"color: #800000; text-decoration-color: #800000; font-weight: bold\">Initializing EEGEpochBuilder Class</span> <span style=\"color: #800000; text-decoration-color: #800000\">│</span>\n",
       "<span style=\"color: #800000; text-decoration-color: #800000\">╰─────────────────────────────────────╯</span>\n",
       "</pre>\n"
      ],
      "text/plain": [
       "\u001b[31m╭─────────────────────────────────────╮\u001b[0m\n",
       "\u001b[31m│\u001b[0m  \u001b[1;31mInitializing EEGEpochBuilder Class\u001b[0m \u001b[31m│\u001b[0m\n",
       "\u001b[31m╰─────────────────────────────────────╯\u001b[0m\n"
      ]
     },
     "metadata": {},
     "output_type": "display_data"
    },
    {
     "data": {
      "text/html": [
       "<pre style=\"white-space:pre;overflow-x:auto;line-height:normal;font-family:Menlo,'DejaVu Sans Mono',consolas,'Courier New',monospace\"> <span style=\"color: #008000; text-decoration-color: #008000; font-weight: bold\">Creating EPOCHS</span>\n",
       "</pre>\n"
      ],
      "text/plain": [
       " \u001b[1;32mCreating EPOCHS\u001b[0m\n"
      ]
     },
     "metadata": {},
     "output_type": "display_data"
    },
    {
     "data": {
      "text/html": [
       "<pre style=\"white-space:pre;overflow-x:auto;line-height:normal;font-family:Menlo,'DejaVu Sans Mono',consolas,'Courier New',monospace\"><span style=\"font-style: italic\">        Extraction Criteria        </span>\n",
       "┏━━━━━━━━━━━━━━━━━━━━┳━━━━━━━━━━━━┓\n",
       "┃<span style=\"font-weight: bold\"> Parameter          </span>┃<span style=\"font-weight: bold\"> Value      </span>┃\n",
       "┣━━━━━━━━━━━━━━━━━━━━╋━━━━━━━━━━━━┫\n",
       "┃<span style=\"color: #008080; text-decoration-color: #008080; font-weight: bold\"> 🧪 Trial Mode      </span>┃<span style=\"color: #808000; text-decoration-color: #808000; font-weight: bold\">            </span>┃\n",
       "┃<span style=\"color: #008080; text-decoration-color: #008080; font-weight: bold\"> 📏 Trial Unit      </span>┃<span style=\"color: #808000; text-decoration-color: #808000; font-weight: bold\"> Words      </span>┃\n",
       "┃<span style=\"color: #008080; text-decoration-color: #008080; font-weight: bold\"> 🔗 Experiment Mode </span>┃<span style=\"color: #808000; text-decoration-color: #808000; font-weight: bold\"> Experiment </span>┃\n",
       "┃<span style=\"color: #008080; text-decoration-color: #008080; font-weight: bold\"> 🎭 Trial Boundary  </span>┃<span style=\"color: #808000; text-decoration-color: #808000; font-weight: bold\"> Start      </span>┃\n",
       "┃<span style=\"color: #008080; text-decoration-color: #008080; font-weight: bold\"> 🔬 Trial Type      </span>┃<span style=\"color: #808000; text-decoration-color: #808000; font-weight: bold\"> Stimulus   </span>┃\n",
       "┃<span style=\"color: #008080; text-decoration-color: #008080; font-weight: bold\"> 📊 Modality        </span>┃<span style=\"color: #808000; text-decoration-color: #808000; font-weight: bold\"> Pictures   </span>┃\n",
       "┃<span style=\"color: #008080; text-decoration-color: #008080; font-weight: bold\"> ⏱ Tmin             </span>┃<span style=\"color: #808000; text-decoration-color: #808000; font-weight: bold\"> </span><span style=\"color: #008080; text-decoration-color: #008080; font-weight: bold\">-0.2</span><span style=\"color: #808000; text-decoration-color: #808000; font-weight: bold\">       </span>┃\n",
       "┃<span style=\"color: #008080; text-decoration-color: #008080; font-weight: bold\"> ⏳ Tmax            </span>┃<span style=\"color: #808000; text-decoration-color: #808000; font-weight: bold\"> </span><span style=\"color: #008080; text-decoration-color: #008080; font-weight: bold\">0.5</span><span style=\"color: #808000; text-decoration-color: #808000; font-weight: bold\">        </span>┃\n",
       "┗━━━━━━━━━━━━━━━━━━━━┻━━━━━━━━━━━━┛\n",
       "</pre>\n"
      ],
      "text/plain": [
       "\u001b[3m        Extraction Criteria        \u001b[0m\n",
       "┏━━━━━━━━━━━━━━━━━━━━┳━━━━━━━━━━━━┓\n",
       "┃\u001b[1m \u001b[0m\u001b[1mParameter         \u001b[0m\u001b[1m \u001b[0m┃\u001b[1m \u001b[0m\u001b[1mValue     \u001b[0m\u001b[1m \u001b[0m┃\n",
       "┣━━━━━━━━━━━━━━━━━━━━╋━━━━━━━━━━━━┫\n",
       "┃\u001b[1;36m \u001b[0m\u001b[1;36m🧪 Trial Mode     \u001b[0m\u001b[1;36m \u001b[0m┃\u001b[1;33m \u001b[0m\u001b[1;33m          \u001b[0m\u001b[1;33m \u001b[0m┃\n",
       "┃\u001b[1;36m \u001b[0m\u001b[1;36m📏 Trial Unit     \u001b[0m\u001b[1;36m \u001b[0m┃\u001b[1;33m \u001b[0m\u001b[1;33mWords     \u001b[0m\u001b[1;33m \u001b[0m┃\n",
       "┃\u001b[1;36m \u001b[0m\u001b[1;36m🔗 Experiment Mode\u001b[0m\u001b[1;36m \u001b[0m┃\u001b[1;33m \u001b[0m\u001b[1;33mExperiment\u001b[0m\u001b[1;33m \u001b[0m┃\n",
       "┃\u001b[1;36m \u001b[0m\u001b[1;36m🎭 Trial Boundary \u001b[0m\u001b[1;36m \u001b[0m┃\u001b[1;33m \u001b[0m\u001b[1;33mStart     \u001b[0m\u001b[1;33m \u001b[0m┃\n",
       "┃\u001b[1;36m \u001b[0m\u001b[1;36m🔬 Trial Type     \u001b[0m\u001b[1;36m \u001b[0m┃\u001b[1;33m \u001b[0m\u001b[1;33mStimulus  \u001b[0m\u001b[1;33m \u001b[0m┃\n",
       "┃\u001b[1;36m \u001b[0m\u001b[1;36m📊 Modality       \u001b[0m\u001b[1;36m \u001b[0m┃\u001b[1;33m \u001b[0m\u001b[1;33mPictures  \u001b[0m\u001b[1;33m \u001b[0m┃\n",
       "┃\u001b[1;36m \u001b[0m\u001b[1;36m⏱ Tmin            \u001b[0m\u001b[1;36m \u001b[0m┃\u001b[1;33m \u001b[0m\u001b[1;36m-0.2\u001b[0m\u001b[1;33m      \u001b[0m\u001b[1;33m \u001b[0m┃\n",
       "┃\u001b[1;36m \u001b[0m\u001b[1;36m⏳ Tmax           \u001b[0m\u001b[1;36m \u001b[0m┃\u001b[1;33m \u001b[0m\u001b[1;36m0.5\u001b[0m\u001b[1;33m       \u001b[0m\u001b[1;33m \u001b[0m┃\n",
       "┗━━━━━━━━━━━━━━━━━━━━┻━━━━━━━━━━━━┛\n"
      ]
     },
     "metadata": {},
     "output_type": "display_data"
    },
    {
     "name": "stdout",
     "output_type": "stream",
     "text": [
      "Not setting metadata\n",
      "61 matching events found\n",
      "Applying baseline correction (mode: mean)\n",
      "0 projection items activated\n",
      "Using data from preloaded Raw for 61 events and 701 original time points ...\n",
      "0 bad epochs dropped\n"
     ]
    },
    {
     "data": {
      "text/html": [
       "<pre style=\"white-space:pre;overflow-x:auto;line-height:normal;font-family:Menlo,'DejaVu Sans Mono',consolas,'Courier New',monospace\"><span style=\"color: #800000; text-decoration-color: #800000\">╭─────────────────────────────────────╮</span>\n",
       "<span style=\"color: #800000; text-decoration-color: #800000\">│</span>  <span style=\"color: #800000; text-decoration-color: #800000; font-weight: bold\">Initializing EEGEpochBuilder Class</span> <span style=\"color: #800000; text-decoration-color: #800000\">│</span>\n",
       "<span style=\"color: #800000; text-decoration-color: #800000\">╰─────────────────────────────────────╯</span>\n",
       "</pre>\n"
      ],
      "text/plain": [
       "\u001b[31m╭─────────────────────────────────────╮\u001b[0m\n",
       "\u001b[31m│\u001b[0m  \u001b[1;31mInitializing EEGEpochBuilder Class\u001b[0m \u001b[31m│\u001b[0m\n",
       "\u001b[31m╰─────────────────────────────────────╯\u001b[0m\n"
      ]
     },
     "metadata": {},
     "output_type": "display_data"
    },
    {
     "data": {
      "text/html": [
       "<pre style=\"white-space:pre;overflow-x:auto;line-height:normal;font-family:Menlo,'DejaVu Sans Mono',consolas,'Courier New',monospace\"> <span style=\"color: #008000; text-decoration-color: #008000; font-weight: bold\">Creating EPOCHS</span>\n",
       "</pre>\n"
      ],
      "text/plain": [
       " \u001b[1;32mCreating EPOCHS\u001b[0m\n"
      ]
     },
     "metadata": {},
     "output_type": "display_data"
    },
    {
     "data": {
      "text/html": [
       "<pre style=\"white-space:pre;overflow-x:auto;line-height:normal;font-family:Menlo,'DejaVu Sans Mono',consolas,'Courier New',monospace\"><span style=\"font-style: italic\">        Extraction Criteria        </span>\n",
       "┏━━━━━━━━━━━━━━━━━━━━┳━━━━━━━━━━━━┓\n",
       "┃<span style=\"font-weight: bold\"> Parameter          </span>┃<span style=\"font-weight: bold\"> Value      </span>┃\n",
       "┣━━━━━━━━━━━━━━━━━━━━╋━━━━━━━━━━━━┫\n",
       "┃<span style=\"color: #008080; text-decoration-color: #008080; font-weight: bold\"> 🧪 Trial Mode      </span>┃<span style=\"color: #808000; text-decoration-color: #808000; font-weight: bold\">            </span>┃\n",
       "┃<span style=\"color: #008080; text-decoration-color: #008080; font-weight: bold\"> 📏 Trial Unit      </span>┃<span style=\"color: #808000; text-decoration-color: #808000; font-weight: bold\"> Words      </span>┃\n",
       "┃<span style=\"color: #008080; text-decoration-color: #008080; font-weight: bold\"> 🔗 Experiment Mode </span>┃<span style=\"color: #808000; text-decoration-color: #808000; font-weight: bold\"> Experiment </span>┃\n",
       "┃<span style=\"color: #008080; text-decoration-color: #008080; font-weight: bold\"> 🎭 Trial Boundary  </span>┃<span style=\"color: #808000; text-decoration-color: #808000; font-weight: bold\"> Start      </span>┃\n",
       "┃<span style=\"color: #008080; text-decoration-color: #008080; font-weight: bold\"> 🔬 Trial Type      </span>┃<span style=\"color: #808000; text-decoration-color: #808000; font-weight: bold\"> Fixation   </span>┃\n",
       "┃<span style=\"color: #008080; text-decoration-color: #008080; font-weight: bold\"> 📊 Modality        </span>┃<span style=\"color: #808000; text-decoration-color: #808000; font-weight: bold\"> Pictures   </span>┃\n",
       "┃<span style=\"color: #008080; text-decoration-color: #008080; font-weight: bold\"> ⏱ Tmin             </span>┃<span style=\"color: #808000; text-decoration-color: #808000; font-weight: bold\"> </span><span style=\"color: #008080; text-decoration-color: #008080; font-weight: bold\">-0.2</span><span style=\"color: #808000; text-decoration-color: #808000; font-weight: bold\">       </span>┃\n",
       "┃<span style=\"color: #008080; text-decoration-color: #008080; font-weight: bold\"> ⏳ Tmax            </span>┃<span style=\"color: #808000; text-decoration-color: #808000; font-weight: bold\"> </span><span style=\"color: #008080; text-decoration-color: #008080; font-weight: bold\">0.5</span><span style=\"color: #808000; text-decoration-color: #808000; font-weight: bold\">        </span>┃\n",
       "┗━━━━━━━━━━━━━━━━━━━━┻━━━━━━━━━━━━┛\n",
       "</pre>\n"
      ],
      "text/plain": [
       "\u001b[3m        Extraction Criteria        \u001b[0m\n",
       "┏━━━━━━━━━━━━━━━━━━━━┳━━━━━━━━━━━━┓\n",
       "┃\u001b[1m \u001b[0m\u001b[1mParameter         \u001b[0m\u001b[1m \u001b[0m┃\u001b[1m \u001b[0m\u001b[1mValue     \u001b[0m\u001b[1m \u001b[0m┃\n",
       "┣━━━━━━━━━━━━━━━━━━━━╋━━━━━━━━━━━━┫\n",
       "┃\u001b[1;36m \u001b[0m\u001b[1;36m🧪 Trial Mode     \u001b[0m\u001b[1;36m \u001b[0m┃\u001b[1;33m \u001b[0m\u001b[1;33m          \u001b[0m\u001b[1;33m \u001b[0m┃\n",
       "┃\u001b[1;36m \u001b[0m\u001b[1;36m📏 Trial Unit     \u001b[0m\u001b[1;36m \u001b[0m┃\u001b[1;33m \u001b[0m\u001b[1;33mWords     \u001b[0m\u001b[1;33m \u001b[0m┃\n",
       "┃\u001b[1;36m \u001b[0m\u001b[1;36m🔗 Experiment Mode\u001b[0m\u001b[1;36m \u001b[0m┃\u001b[1;33m \u001b[0m\u001b[1;33mExperiment\u001b[0m\u001b[1;33m \u001b[0m┃\n",
       "┃\u001b[1;36m \u001b[0m\u001b[1;36m🎭 Trial Boundary \u001b[0m\u001b[1;36m \u001b[0m┃\u001b[1;33m \u001b[0m\u001b[1;33mStart     \u001b[0m\u001b[1;33m \u001b[0m┃\n",
       "┃\u001b[1;36m \u001b[0m\u001b[1;36m🔬 Trial Type     \u001b[0m\u001b[1;36m \u001b[0m┃\u001b[1;33m \u001b[0m\u001b[1;33mFixation  \u001b[0m\u001b[1;33m \u001b[0m┃\n",
       "┃\u001b[1;36m \u001b[0m\u001b[1;36m📊 Modality       \u001b[0m\u001b[1;36m \u001b[0m┃\u001b[1;33m \u001b[0m\u001b[1;33mPictures  \u001b[0m\u001b[1;33m \u001b[0m┃\n",
       "┃\u001b[1;36m \u001b[0m\u001b[1;36m⏱ Tmin            \u001b[0m\u001b[1;36m \u001b[0m┃\u001b[1;33m \u001b[0m\u001b[1;36m-0.2\u001b[0m\u001b[1;33m      \u001b[0m\u001b[1;33m \u001b[0m┃\n",
       "┃\u001b[1;36m \u001b[0m\u001b[1;36m⏳ Tmax           \u001b[0m\u001b[1;36m \u001b[0m┃\u001b[1;33m \u001b[0m\u001b[1;36m0.5\u001b[0m\u001b[1;33m       \u001b[0m\u001b[1;33m \u001b[0m┃\n",
       "┗━━━━━━━━━━━━━━━━━━━━┻━━━━━━━━━━━━┛\n"
      ]
     },
     "metadata": {},
     "output_type": "display_data"
    },
    {
     "name": "stdout",
     "output_type": "stream",
     "text": [
      "Not setting metadata\n",
      "61 matching events found\n",
      "Applying baseline correction (mode: mean)\n",
      "0 projection items activated\n",
      "Using data from preloaded Raw for 61 events and 701 original time points ...\n",
      "0 bad epochs dropped\n",
      "NOTE: pick_channels() is a legacy function. New code should use inst.pick(...).\n",
      "NOTE: pick_channels() is a legacy function. New code should use inst.pick(...).\n",
      "Visual Change P100: latency=0.120s, peak=2.45µV, mean=-1.18µV\n",
      "No Visual Change P100: latency=0.080s, peak=-0.55µV, mean=-3.60µV\n",
      "Initializing Plotter\n",
      "Results saved to p100_results/sub-15_ses-02_p100_Visual Change_No Visual Change.csv\n"
     ]
    }
   ],
   "source": [
    "if config.P_100_ANALYSIS:\n",
    "        visual = {\n",
    "            \"label\": \"Visual Change\",\n",
    "            \"trial_type\": \"Stimulus\",\n",
    "            \"tmin\": -0.2,\n",
    "            \"tmax\": 0.5,\n",
    "            \"trial_mode\": \"\",\n",
    "            \"trial_unit\": \"Words\",\n",
    "            \"experiment_mode\": \"Experiment\",\n",
    "            \"trial_boundary\": \"Start\",\n",
    "            \"modality\": \"Pictures\"\n",
    "        }\n",
    "\n",
    "        rest = {\n",
    "            \"label\": \"No Visual Change\",\n",
    "            \"trial_type\": \"Fixation\",\n",
    "            \"tmin\": -0.2,\n",
    "            \"tmax\": 0.5,\n",
    "            \"trial_mode\": \"\",\n",
    "            \"trial_unit\": \"Words\",\n",
    "            \"experiment_mode\": \"Experiment\",\n",
    "            \"trial_boundary\": \"Start\",\n",
    "            \"modality\": \"Pictures\",\n",
    "            \"time_window\": (0.08, 0.12)  # Optional window for P100\n",
    "        }\n",
    "\n",
    "        layout = BIDSLayout(config.BIDS_DIR, validate=True)\n",
    "        subject_ids = layout.get_subjects()\n",
    "\n",
    "        for sub in subject_ids:\n",
    "            session_ids = layout.get_sessions(subject=sub)  # or any other subject\n",
    "            for ses in session_ids:\n",
    "                pipeline = P100AnalysisPipeline(\n",
    "                    subject_id=sub,\n",
    "                    session_id=ses,\n",
    "                    condition1_config=visual,\n",
    "                    condition2_config=rest,\n",
    "                    channels = ['PO3', 'POz', 'PO4']\n",
    "                )\n",
    "\n",
    "                pipeline.run(save_csv=True)"
   ]
  },
  {
   "cell_type": "code",
   "execution_count": 3,
   "metadata": {},
   "outputs": [],
   "source": [
    "import pandas as pd\n",
    "from glob import glob\n",
    "import os"
   ]
  },
  {
   "cell_type": "code",
   "execution_count": 4,
   "metadata": {},
   "outputs": [
    {
     "name": "stdout",
     "output_type": "stream",
     "text": [
      "Combined CSV saved to: /home/owaismujtaba/projects/elsavier/p100_results/combined_p100_results_Visual_Rest.csv\n"
     ]
    }
   ],
   "source": [
    "csv_dir = '/home/owaismujtaba/projects/elsavier/p100_results'\n",
    "csv_files = [f for f in glob(os.path.join(csv_dir, \"*.csv\")) if f.endswith(\"Visual_Rest.csv\")]\n",
    "\n",
    "# Load and concatenate all CSV files\n",
    "all_dfs = [pd.read_csv(f) for f in csv_files]\n",
    "combined_df = pd.concat(all_dfs, ignore_index=True)\n",
    "\n",
    "# Save the result\n",
    "output_path = os.path.join(csv_dir, \"combined_p100_results_Visual_Rest.csv\")\n",
    "combined_df.to_csv(output_path, index=False)\n",
    "\n",
    "print(f\"Combined CSV saved to: {output_path}\")"
   ]
  },
  {
   "cell_type": "code",
   "execution_count": 5,
   "metadata": {},
   "outputs": [
    {
     "data": {
      "text/plain": [
       "['/home/owaismujtaba/projects/elsavier/p100_results/combined_p100_results_Visual_Rest.csv',\n",
       " '/home/owaismujtaba/projects/elsavier/p100_results/sub-13_ses-01_p100_Visual_Rest.csv',\n",
       " '/home/owaismujtaba/projects/elsavier/p100_results/sub-06_ses-01_p100_Visual_Rest.csv',\n",
       " '/home/owaismujtaba/projects/elsavier/p100_results/sub-04_ses-02_p100_Visual_Rest.csv',\n",
       " '/home/owaismujtaba/projects/elsavier/p100_results/sub-11_ses-01_p100_Visual_Rest.csv',\n",
       " '/home/owaismujtaba/projects/elsavier/p100_results/sub-09_ses-01_p100_Visual_Rest.csv',\n",
       " '/home/owaismujtaba/projects/elsavier/p100_results/sub-02_ses-01_p100_Visual_Rest.csv',\n",
       " '/home/owaismujtaba/projects/elsavier/p100_results/sub-07_ses-01_p100_Visual_Rest.csv',\n",
       " '/home/owaismujtaba/projects/elsavier/p100_results/sub-08_ses-01_p100_Visual_Rest.csv',\n",
       " '/home/owaismujtaba/projects/elsavier/p100_results/sub-10_ses-01_p100_Visual_Rest.csv',\n",
       " '/home/owaismujtaba/projects/elsavier/p100_results/sub-15_ses-01_p100_Visual_Rest.csv',\n",
       " '/home/owaismujtaba/projects/elsavier/p100_results/sub-13_ses-02_p100_Visual_Rest.csv',\n",
       " '/home/owaismujtaba/projects/elsavier/p100_results/sub-15_ses-02_p100_Visual_Rest.csv',\n",
       " '/home/owaismujtaba/projects/elsavier/p100_results/sub-04_ses-01_p100_Visual_Rest.csv',\n",
       " '/home/owaismujtaba/projects/elsavier/p100_results/sub-06_ses-02_p100_Visual_Rest.csv',\n",
       " '/home/owaismujtaba/projects/elsavier/p100_results/sub-09_ses-02_p100_Visual_Rest.csv',\n",
       " '/home/owaismujtaba/projects/elsavier/p100_results/sub-05_ses-01_p100_Visual_Rest.csv',\n",
       " '/home/owaismujtaba/projects/elsavier/p100_results/sub-14_ses-01_p100_Visual_Rest.csv',\n",
       " '/home/owaismujtaba/projects/elsavier/p100_results/sub-01_ses-01_p100_Visual_Rest.csv',\n",
       " '/home/owaismujtaba/projects/elsavier/p100_results/sub-05_ses-02_p100_Visual_Rest.csv',\n",
       " '/home/owaismujtaba/projects/elsavier/p100_results/sub-12_ses-01_p100_Visual_Rest.csv',\n",
       " '/home/owaismujtaba/projects/elsavier/p100_results/sub-03_ses-01_p100_Visual_Rest.csv',\n",
       " '/home/owaismujtaba/projects/elsavier/p100_results/sub-12_ses-02_p100_Visual_Rest.csv']"
      ]
     },
     "execution_count": 5,
     "metadata": {},
     "output_type": "execute_result"
    }
   ],
   "source": [
    "csv_files"
   ]
  },
  {
   "cell_type": "code",
   "execution_count": 6,
   "metadata": {},
   "outputs": [
    {
     "data": {
      "text/html": [
       "<div>\n",
       "<style scoped>\n",
       "    .dataframe tbody tr th:only-of-type {\n",
       "        vertical-align: middle;\n",
       "    }\n",
       "\n",
       "    .dataframe tbody tr th {\n",
       "        vertical-align: top;\n",
       "    }\n",
       "\n",
       "    .dataframe thead th {\n",
       "        text-align: right;\n",
       "    }\n",
       "</style>\n",
       "<table border=\"1\" class=\"dataframe\">\n",
       "  <thead>\n",
       "    <tr style=\"text-align: right;\">\n",
       "      <th></th>\n",
       "      <th>subject_id</th>\n",
       "      <th>session_id</th>\n",
       "      <th>condition</th>\n",
       "      <th>latency</th>\n",
       "      <th>peak</th>\n",
       "      <th>mean</th>\n",
       "    </tr>\n",
       "  </thead>\n",
       "  <tbody>\n",
       "    <tr>\n",
       "      <th>0</th>\n",
       "      <td>13</td>\n",
       "      <td>1</td>\n",
       "      <td>Visual</td>\n",
       "      <td>0.12</td>\n",
       "      <td>13.915362</td>\n",
       "      <td>4.157586</td>\n",
       "    </tr>\n",
       "    <tr>\n",
       "      <th>1</th>\n",
       "      <td>13</td>\n",
       "      <td>1</td>\n",
       "      <td>Rest</td>\n",
       "      <td>0.12</td>\n",
       "      <td>0.093171</td>\n",
       "      <td>-2.034094</td>\n",
       "    </tr>\n",
       "    <tr>\n",
       "      <th>2</th>\n",
       "      <td>6</td>\n",
       "      <td>1</td>\n",
       "      <td>Visual</td>\n",
       "      <td>0.12</td>\n",
       "      <td>8.475308</td>\n",
       "      <td>4.576022</td>\n",
       "    </tr>\n",
       "    <tr>\n",
       "      <th>3</th>\n",
       "      <td>6</td>\n",
       "      <td>1</td>\n",
       "      <td>Rest</td>\n",
       "      <td>0.12</td>\n",
       "      <td>-4.020665</td>\n",
       "      <td>-5.088031</td>\n",
       "    </tr>\n",
       "    <tr>\n",
       "      <th>4</th>\n",
       "      <td>4</td>\n",
       "      <td>2</td>\n",
       "      <td>Visual</td>\n",
       "      <td>0.12</td>\n",
       "      <td>2.778097</td>\n",
       "      <td>0.424015</td>\n",
       "    </tr>\n",
       "  </tbody>\n",
       "</table>\n",
       "</div>"
      ],
      "text/plain": [
       "   subject_id  session_id condition  latency       peak      mean\n",
       "0          13           1    Visual     0.12  13.915362  4.157586\n",
       "1          13           1      Rest     0.12   0.093171 -2.034094\n",
       "2           6           1    Visual     0.12   8.475308  4.576022\n",
       "3           6           1      Rest     0.12  -4.020665 -5.088031\n",
       "4           4           2    Visual     0.12   2.778097  0.424015"
      ]
     },
     "execution_count": 6,
     "metadata": {},
     "output_type": "execute_result"
    }
   ],
   "source": [
    "combined_df.head()"
   ]
  },
  {
   "cell_type": "code",
   "execution_count": 9,
   "metadata": {},
   "outputs": [
    {
     "name": "stderr",
     "output_type": "stream",
     "text": [
      "/tmp/ipykernel_1669217/3575732913.py:35: FutureWarning: \n",
      "\n",
      "Passing `palette` without assigning `hue` is deprecated and will be removed in v0.14.0. Assign the `x` variable to `hue` and set `legend=False` for the same effect.\n",
      "\n",
      "  sns.boxplot(\n",
      "/tmp/ipykernel_1669217/3575732913.py:53: FutureWarning: \n",
      "\n",
      "Passing `palette` without assigning `hue` is deprecated and will be removed in v0.14.0. Assign the `x` variable to `hue` and set `legend=False` for the same effect.\n",
      "\n",
      "  sns.boxplot(\n",
      "/tmp/ipykernel_1669217/3575732913.py:77: UserWarning: set_ticklabels() should only be used with a fixed number of ticks, i.e. after set_ticks() or using a FixedLocator.\n",
      "  axes[0].set_xticklabels(axes[0].get_xticklabels(), fontweight='bold')\n",
      "/tmp/ipykernel_1669217/3575732913.py:78: UserWarning: set_ticklabels() should only be used with a fixed number of ticks, i.e. after set_ticks() or using a FixedLocator.\n",
      "  axes[0].set_yticklabels(axes[0].get_yticklabels(), fontweight='bold')\n",
      "/tmp/ipykernel_1669217/3575732913.py:80: UserWarning: set_ticklabels() should only be used with a fixed number of ticks, i.e. after set_ticks() or using a FixedLocator.\n",
      "  axes[1].set_xticklabels(axes[1].get_xticklabels(), fontweight='bold')\n",
      "/tmp/ipykernel_1669217/3575732913.py:81: UserWarning: set_ticklabels() should only be used with a fixed number of ticks, i.e. after set_ticks() or using a FixedLocator.\n",
      "  axes[1].set_yticklabels(axes[1].get_yticklabels(), fontweight='bold')\n"
     ]
    },
    {
     "data": {
      "image/png": "[encoded data removed]",
      "text/plain": [
       "<Figure size 1600x700 with 2 Axes>"
      ]
     },
     "metadata": {},
     "output_type": "display_data"
    },
    {
     "name": "stdout",
     "output_type": "stream",
     "text": [
      "T-test (Peak): -4.3399233541684765 p-value: 0.0006790726089322875\n",
      "T-test (Mean): -3.0900810613569027 p-value: 0.007988219454275847\n"
     ]
    }
   ],
   "source": [
    "import pandas as pd\n",
    "import matplotlib.pyplot as plt\n",
    "import seaborn as sns\n",
    "from scipy.stats import ttest_rel\n",
    "\n",
    "# Load data\n",
    "df = pd.read_csv(output_path)\n",
    "\n",
    "# Normalize condition names\n",
    "df['condition'] = df['condition'].str.lower()\n",
    "\n",
    "# Aggregate (mean) per subject and condition\n",
    "df_avg = df.groupby(['subject_id', 'condition'], as_index=False).mean()\n",
    "\n",
    "# Pivot for paired t-tests\n",
    "peak_pivot = df_avg.pivot(index='subject_id', columns='condition', values='peak')\n",
    "mean_pivot = df_avg.pivot(index='subject_id', columns='condition', values='mean')\n",
    "\n",
    "# Paired t-tests\n",
    "t_peak, p_peak = ttest_rel(peak_pivot['rest'], peak_pivot['visual'], nan_policy='omit')\n",
    "t_mean, p_mean = ttest_rel(mean_pivot['rest'], mean_pivot['visual'], nan_policy='omit')\n",
    "\n",
    "# Plot style\n",
    "sns.set(style=\"whitegrid\", font_scale=1.4, rc={\"axes.labelsize\": 16, \"axes.titlesize\": 18, \"xtick.labelsize\": 14, \"ytick.labelsize\": 14})\n",
    "\n",
    "fig, axes = plt.subplots(1, 2, figsize=(16, 7))\n",
    "\n",
    "# Function to add mean squares\n",
    "def add_mean_squares(ax, data, y_col, x_col='condition', color='red'):\n",
    "    means = data.groupby(x_col)[y_col].mean()\n",
    "    for i, (cond, mean_val) in enumerate(means.items()):\n",
    "        ax.scatter(i, mean_val, marker='s', s=100, color=color, zorder=5, label='Mean' if i == 0 else \"\")\n",
    "\n",
    "# Plot 1: Peak Amplitude\n",
    "sns.boxplot(\n",
    "    data=df_avg, x='condition', y='peak', ax=axes[0], \n",
    "    palette='Set3', width=0.5, \n",
    "    boxprops=dict(alpha=0.8, linewidth=1.5),\n",
    "    medianprops=dict(linewidth=2, color='darkblue')\n",
    ")\n",
    "sns.stripplot(\n",
    "    data=df_avg, x='condition', y='peak', ax=axes[0], \n",
    "    color='black', size=6, jitter=0.15, alpha=0.6\n",
    ")\n",
    "add_mean_squares(axes[0], df_avg, y_col='peak')\n",
    "axes[0].set_title(f\"P100 Peak Amplitude\\np = {p_peak:.3f}\", fontsize=18)\n",
    "axes[0].set_ylabel(\"Peak Amplitude (µV)\", fontsize=18)\n",
    "axes[0].set_xlabel(\"\")\n",
    "axes[0].tick_params(axis='both', which='major', labelsize=16)\n",
    "sns.despine(ax=axes[0])\n",
    "\n",
    "# Plot 2: Mean Amplitude\n",
    "sns.boxplot(\n",
    "    data=df_avg, x='condition', y='mean', ax=axes[1], \n",
    "    palette='Set3', width=0.5, \n",
    "    boxprops=dict(alpha=0.8, linewidth=1.5),\n",
    "    medianprops=dict(linewidth=2, color='darkblue')\n",
    ")\n",
    "sns.stripplot(\n",
    "    data=df_avg, x='condition', y='mean', ax=axes[1], \n",
    "    color='black', size=6, jitter=0.15, alpha=0.6\n",
    ")\n",
    "add_mean_squares(axes[1], df_avg, y_col='mean')\n",
    "axes[1].set_title(f\"P100 Mean Amplitude\\np = {p_mean:.3f}\", fontsize=18)\n",
    "axes[1].set_ylabel(\"Mean Amplitude (µV)\", fontsize=16)\n",
    "axes[1].set_xlabel(\"\")\n",
    "axes[1].tick_params(axis='both', which='major', labelsize=16)\n",
    "sns.despine(ax=axes[1])\n",
    "\n",
    "# Optional: Add legend just once\n",
    "handles, labels = axes[1].get_legend_handles_labels()\n",
    "if 'Mean' in labels:\n",
    "    fig.legend(handles, labels, loc='upper center', bbox_to_anchor=(0.5, 1.02), ncol=1)\n",
    "\n",
    "plt.tight_layout(pad=2.0)\n",
    "\n",
    "axes[0].set_xticklabels(axes[0].get_xticklabels(), fontweight='bold')\n",
    "axes[0].set_yticklabels(axes[0].get_yticklabels(), fontweight='bold')\n",
    "\n",
    "axes[1].set_xticklabels(axes[1].get_xticklabels(), fontweight='bold')\n",
    "axes[1].set_yticklabels(axes[1].get_yticklabels(), fontweight='bold')\n",
    "plt.savefig('p100_visual_rest.png', dpi=600)\n",
    "plt.show()\n",
    "\n",
    "print(\"T-test (Peak):\", t_peak, \"p-value:\", p_peak)\n",
    "print(\"T-test (Mean):\", t_mean, \"p-value:\", p_mean)\n"
   ]
  },
  {
   "cell_type": "code",
   "execution_count": null,
   "metadata": {},
   "outputs": [],
   "source": []
  },
  {
   "cell_type": "code",
   "execution_count": null,
   "metadata": {},
   "outputs": [],
   "source": []
  },
  {
   "cell_type": "code",
   "execution_count": null,
   "metadata": {},
   "outputs": [],
   "source": []
  },
  {
   "cell_type": "code",
   "execution_count": null,
   "metadata": {},
   "outputs": [],
   "source": []
  }
 ],
 "metadata": {
  "kernelspec": {
   "display_name": "vow",
   "language": "python",
   "name": "python3"
  },
  "language_info": {
   "codemirror_mode": {
    "name": "ipython",
    "version": 3
   },
   "file_extension": ".py",
   "mimetype": "text/x-python",
   "name": "python",
   "nbconvert_exporter": "python",
   "pygments_lexer": "ipython3",
   "version": "3.10.16"
  }
 },
 "nbformat": 4,
 "nbformat_minor": 2
}
