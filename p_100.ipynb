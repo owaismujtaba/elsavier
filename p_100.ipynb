{
 "cells": [
  {
   "cell_type": "code",
   "execution_count": 1,
   "metadata": {},
   "outputs": [],
   "source": [
    "import config as config\n",
    "from src.analysis.registery import EEGEpochExtractor\n",
    "from src.visualizations.p_100_component import P100Plotter"
   ]
  },
  {
   "cell_type": "code",
   "execution_count": 3,
   "metadata": {},
   "outputs": [
    {
     "data": {
      "text/html": [
       "<pre style=\"white-space:pre;overflow-x:auto;line-height:normal;font-family:Menlo,'DejaVu Sans Mono',consolas,'Courier New',monospace\"><span style=\"color: #800000; text-decoration-color: #800000\">╭────────────────────────────────────╮</span>\n",
       "<span style=\"color: #800000; text-decoration-color: #800000\">│</span>  <span style=\"color: #800000; text-decoration-color: #800000; font-weight: bold\">Initializing VisualEpochExtractor</span> <span style=\"color: #800000; text-decoration-color: #800000\">│</span>\n",
       "<span style=\"color: #800000; text-decoration-color: #800000\">╰────────────────────────────────────╯</span>\n",
       "</pre>\n"
      ],
      "text/plain": [
       "\u001b[31m╭────────────────────────────────────╮\u001b[0m\n",
       "\u001b[31m│\u001b[0m  \u001b[1;31mInitializing VisualEpochExtractor\u001b[0m \u001b[31m│\u001b[0m\n",
       "\u001b[31m╰────────────────────────────────────╯\u001b[0m\n"
      ]
     },
     "metadata": {},
     "output_type": "display_data"
    },
    {
     "data": {
      "text/html": [
       "<pre style=\"white-space:pre;overflow-x:auto;line-height:normal;font-family:Menlo,'DejaVu Sans Mono',consolas,'Courier New',monospace\"> <span style=\"color: #008000; text-decoration-color: #008000; font-weight: bold\">Loading raw EEG data</span>\n",
       "</pre>\n"
      ],
      "text/plain": [
       " \u001b[1;32mLoading raw EEG data\u001b[0m\n"
      ]
     },
     "metadata": {},
     "output_type": "display_data"
    },
    {
     "data": {
      "text/html": [
       "<pre style=\"white-space:pre;overflow-x:auto;line-height:normal;font-family:Menlo,'DejaVu Sans Mono',consolas,'Courier New',monospace\"> <span style=\"color: #008000; text-decoration-color: #008000; font-weight: bold\">Loading sub-</span><span style=\"color: #008000; text-decoration-color: #008000; font-weight: bold\">01</span><span style=\"color: #008000; text-decoration-color: #008000; font-weight: bold\">, ses-</span><span style=\"color: #008000; text-decoration-color: #008000; font-weight: bold\">01</span>\n",
       "</pre>\n"
      ],
      "text/plain": [
       " \u001b[1;32mLoading sub-\u001b[0m\u001b[1;32m01\u001b[0m\u001b[1;32m, ses-\u001b[0m\u001b[1;32m01\u001b[0m\n"
      ]
     },
     "metadata": {},
     "output_type": "display_data"
    },
    {
     "data": {
      "text/html": [
       "<pre style=\"white-space:pre;overflow-x:auto;line-height:normal;font-family:Menlo,'DejaVu Sans Mono',consolas,'Courier New',monospace\"><span style=\"color: #808000; text-decoration-color: #808000\">╭─────────────────────────────────────────╮</span>\n",
       "<span style=\"color: #808000; text-decoration-color: #808000\">│</span> 🚀 <span style=\"color: #808000; text-decoration-color: #808000; font-weight: bold\">Initializing BIDSDatasetReader Class</span> <span style=\"color: #808000; text-decoration-color: #808000\">│</span>\n",
       "<span style=\"color: #808000; text-decoration-color: #808000\">╰─────────────────────────────────────────╯</span>\n",
       "</pre>\n"
      ],
      "text/plain": [
       "\u001b[33m╭─────────────────────────────────────────╮\u001b[0m\n",
       "\u001b[33m│\u001b[0m 🚀 \u001b[1;33mInitializing BIDSDatasetReader Class\u001b[0m \u001b[33m│\u001b[0m\n",
       "\u001b[33m╰─────────────────────────────────────────╯\u001b[0m\n"
      ]
     },
     "metadata": {},
     "output_type": "display_data"
    },
    {
     "data": {
      "text/html": [
       "<pre style=\"white-space:pre;overflow-x:auto;line-height:normal;font-family:Menlo,'DejaVu Sans Mono',consolas,'Courier New',monospace\"> <span style=\"color: #008000; text-decoration-color: #008000; font-weight: bold\">Loading Processed EEG Data: sub-</span><span style=\"color: #008000; text-decoration-color: #008000; font-weight: bold\">01</span><span style=\"color: #008000; text-decoration-color: #008000; font-weight: bold\"> ses-</span><span style=\"color: #008000; text-decoration-color: #008000; font-weight: bold\">01</span>\n",
       "</pre>\n"
      ],
      "text/plain": [
       " \u001b[1;32mLoading Processed EEG Data: sub-\u001b[0m\u001b[1;32m01\u001b[0m\u001b[1;32m ses-\u001b[0m\u001b[1;32m01\u001b[0m\n"
      ]
     },
     "metadata": {},
     "output_type": "display_data"
    },
    {
     "data": {
      "text/html": [
       "<pre style=\"white-space:pre;overflow-x:auto;line-height:normal;font-family:Menlo,'DejaVu Sans Mono',consolas,'Courier New',monospace\"> <span style=\"color: #008000; text-decoration-color: #008000; font-weight: bold\">Loading sub-</span><span style=\"color: #008000; text-decoration-color: #008000; font-weight: bold\">02</span><span style=\"color: #008000; text-decoration-color: #008000; font-weight: bold\">, ses-</span><span style=\"color: #008000; text-decoration-color: #008000; font-weight: bold\">01</span>\n",
       "</pre>\n"
      ],
      "text/plain": [
       " \u001b[1;32mLoading sub-\u001b[0m\u001b[1;32m02\u001b[0m\u001b[1;32m, ses-\u001b[0m\u001b[1;32m01\u001b[0m\n"
      ]
     },
     "metadata": {},
     "output_type": "display_data"
    },
    {
     "data": {
      "text/html": [
       "<pre style=\"white-space:pre;overflow-x:auto;line-height:normal;font-family:Menlo,'DejaVu Sans Mono',consolas,'Courier New',monospace\"><span style=\"color: #808000; text-decoration-color: #808000\">╭─────────────────────────────────────────╮</span>\n",
       "<span style=\"color: #808000; text-decoration-color: #808000\">│</span> 🚀 <span style=\"color: #808000; text-decoration-color: #808000; font-weight: bold\">Initializing BIDSDatasetReader Class</span> <span style=\"color: #808000; text-decoration-color: #808000\">│</span>\n",
       "<span style=\"color: #808000; text-decoration-color: #808000\">╰─────────────────────────────────────────╯</span>\n",
       "</pre>\n"
      ],
      "text/plain": [
       "\u001b[33m╭─────────────────────────────────────────╮\u001b[0m\n",
       "\u001b[33m│\u001b[0m 🚀 \u001b[1;33mInitializing BIDSDatasetReader Class\u001b[0m \u001b[33m│\u001b[0m\n",
       "\u001b[33m╰─────────────────────────────────────────╯\u001b[0m\n"
      ]
     },
     "metadata": {},
     "output_type": "display_data"
    },
    {
     "data": {
      "text/html": [
       "<pre style=\"white-space:pre;overflow-x:auto;line-height:normal;font-family:Menlo,'DejaVu Sans Mono',consolas,'Courier New',monospace\"> <span style=\"color: #008000; text-decoration-color: #008000; font-weight: bold\">Loading Processed EEG Data: sub-</span><span style=\"color: #008000; text-decoration-color: #008000; font-weight: bold\">02</span><span style=\"color: #008000; text-decoration-color: #008000; font-weight: bold\"> ses-</span><span style=\"color: #008000; text-decoration-color: #008000; font-weight: bold\">01</span>\n",
       "</pre>\n"
      ],
      "text/plain": [
       " \u001b[1;32mLoading Processed EEG Data: sub-\u001b[0m\u001b[1;32m02\u001b[0m\u001b[1;32m ses-\u001b[0m\u001b[1;32m01\u001b[0m\n"
      ]
     },
     "metadata": {},
     "output_type": "display_data"
    },
    {
     "data": {
      "text/html": [
       "<pre style=\"white-space:pre;overflow-x:auto;line-height:normal;font-family:Menlo,'DejaVu Sans Mono',consolas,'Courier New',monospace\"> <span style=\"color: #008000; text-decoration-color: #008000; font-weight: bold\">Loading sub-</span><span style=\"color: #008000; text-decoration-color: #008000; font-weight: bold\">03</span><span style=\"color: #008000; text-decoration-color: #008000; font-weight: bold\">, ses-</span><span style=\"color: #008000; text-decoration-color: #008000; font-weight: bold\">01</span>\n",
       "</pre>\n"
      ],
      "text/plain": [
       " \u001b[1;32mLoading sub-\u001b[0m\u001b[1;32m03\u001b[0m\u001b[1;32m, ses-\u001b[0m\u001b[1;32m01\u001b[0m\n"
      ]
     },
     "metadata": {},
     "output_type": "display_data"
    },
    {
     "data": {
      "text/html": [
       "<pre style=\"white-space:pre;overflow-x:auto;line-height:normal;font-family:Menlo,'DejaVu Sans Mono',consolas,'Courier New',monospace\"><span style=\"color: #808000; text-decoration-color: #808000\">╭─────────────────────────────────────────╮</span>\n",
       "<span style=\"color: #808000; text-decoration-color: #808000\">│</span> 🚀 <span style=\"color: #808000; text-decoration-color: #808000; font-weight: bold\">Initializing BIDSDatasetReader Class</span> <span style=\"color: #808000; text-decoration-color: #808000\">│</span>\n",
       "<span style=\"color: #808000; text-decoration-color: #808000\">╰─────────────────────────────────────────╯</span>\n",
       "</pre>\n"
      ],
      "text/plain": [
       "\u001b[33m╭─────────────────────────────────────────╮\u001b[0m\n",
       "\u001b[33m│\u001b[0m 🚀 \u001b[1;33mInitializing BIDSDatasetReader Class\u001b[0m \u001b[33m│\u001b[0m\n",
       "\u001b[33m╰─────────────────────────────────────────╯\u001b[0m\n"
      ]
     },
     "metadata": {},
     "output_type": "display_data"
    },
    {
     "data": {
      "text/html": [
       "<pre style=\"white-space:pre;overflow-x:auto;line-height:normal;font-family:Menlo,'DejaVu Sans Mono',consolas,'Courier New',monospace\"> <span style=\"color: #008000; text-decoration-color: #008000; font-weight: bold\">Loading Processed EEG Data: sub-</span><span style=\"color: #008000; text-decoration-color: #008000; font-weight: bold\">03</span><span style=\"color: #008000; text-decoration-color: #008000; font-weight: bold\"> ses-</span><span style=\"color: #008000; text-decoration-color: #008000; font-weight: bold\">01</span>\n",
       "</pre>\n"
      ],
      "text/plain": [
       " \u001b[1;32mLoading Processed EEG Data: sub-\u001b[0m\u001b[1;32m03\u001b[0m\u001b[1;32m ses-\u001b[0m\u001b[1;32m01\u001b[0m\n"
      ]
     },
     "metadata": {},
     "output_type": "display_data"
    },
    {
     "data": {
      "text/html": [
       "<pre style=\"white-space:pre;overflow-x:auto;line-height:normal;font-family:Menlo,'DejaVu Sans Mono',consolas,'Courier New',monospace\"> <span style=\"color: #008000; text-decoration-color: #008000; font-weight: bold\">Loading sub-</span><span style=\"color: #008000; text-decoration-color: #008000; font-weight: bold\">04</span><span style=\"color: #008000; text-decoration-color: #008000; font-weight: bold\">, ses-</span><span style=\"color: #008000; text-decoration-color: #008000; font-weight: bold\">01</span>\n",
       "</pre>\n"
      ],
      "text/plain": [
       " \u001b[1;32mLoading sub-\u001b[0m\u001b[1;32m04\u001b[0m\u001b[1;32m, ses-\u001b[0m\u001b[1;32m01\u001b[0m\n"
      ]
     },
     "metadata": {},
     "output_type": "display_data"
    },
    {
     "data": {
      "text/html": [
       "<pre style=\"white-space:pre;overflow-x:auto;line-height:normal;font-family:Menlo,'DejaVu Sans Mono',consolas,'Courier New',monospace\"><span style=\"color: #808000; text-decoration-color: #808000\">╭─────────────────────────────────────────╮</span>\n",
       "<span style=\"color: #808000; text-decoration-color: #808000\">│</span> 🚀 <span style=\"color: #808000; text-decoration-color: #808000; font-weight: bold\">Initializing BIDSDatasetReader Class</span> <span style=\"color: #808000; text-decoration-color: #808000\">│</span>\n",
       "<span style=\"color: #808000; text-decoration-color: #808000\">╰─────────────────────────────────────────╯</span>\n",
       "</pre>\n"
      ],
      "text/plain": [
       "\u001b[33m╭─────────────────────────────────────────╮\u001b[0m\n",
       "\u001b[33m│\u001b[0m 🚀 \u001b[1;33mInitializing BIDSDatasetReader Class\u001b[0m \u001b[33m│\u001b[0m\n",
       "\u001b[33m╰─────────────────────────────────────────╯\u001b[0m\n"
      ]
     },
     "metadata": {},
     "output_type": "display_data"
    },
    {
     "data": {
      "text/html": [
       "<pre style=\"white-space:pre;overflow-x:auto;line-height:normal;font-family:Menlo,'DejaVu Sans Mono',consolas,'Courier New',monospace\"> <span style=\"color: #008000; text-decoration-color: #008000; font-weight: bold\">Loading Processed EEG Data: sub-</span><span style=\"color: #008000; text-decoration-color: #008000; font-weight: bold\">04</span><span style=\"color: #008000; text-decoration-color: #008000; font-weight: bold\"> ses-</span><span style=\"color: #008000; text-decoration-color: #008000; font-weight: bold\">01</span>\n",
       "</pre>\n"
      ],
      "text/plain": [
       " \u001b[1;32mLoading Processed EEG Data: sub-\u001b[0m\u001b[1;32m04\u001b[0m\u001b[1;32m ses-\u001b[0m\u001b[1;32m01\u001b[0m\n"
      ]
     },
     "metadata": {},
     "output_type": "display_data"
    },
    {
     "data": {
      "text/html": [
       "<pre style=\"white-space:pre;overflow-x:auto;line-height:normal;font-family:Menlo,'DejaVu Sans Mono',consolas,'Courier New',monospace\"> <span style=\"color: #008000; text-decoration-color: #008000; font-weight: bold\">Loading sub-</span><span style=\"color: #008000; text-decoration-color: #008000; font-weight: bold\">05</span><span style=\"color: #008000; text-decoration-color: #008000; font-weight: bold\">, ses-</span><span style=\"color: #008000; text-decoration-color: #008000; font-weight: bold\">01</span>\n",
       "</pre>\n"
      ],
      "text/plain": [
       " \u001b[1;32mLoading sub-\u001b[0m\u001b[1;32m05\u001b[0m\u001b[1;32m, ses-\u001b[0m\u001b[1;32m01\u001b[0m\n"
      ]
     },
     "metadata": {},
     "output_type": "display_data"
    },
    {
     "data": {
      "text/html": [
       "<pre style=\"white-space:pre;overflow-x:auto;line-height:normal;font-family:Menlo,'DejaVu Sans Mono',consolas,'Courier New',monospace\"><span style=\"color: #808000; text-decoration-color: #808000\">╭─────────────────────────────────────────╮</span>\n",
       "<span style=\"color: #808000; text-decoration-color: #808000\">│</span> 🚀 <span style=\"color: #808000; text-decoration-color: #808000; font-weight: bold\">Initializing BIDSDatasetReader Class</span> <span style=\"color: #808000; text-decoration-color: #808000\">│</span>\n",
       "<span style=\"color: #808000; text-decoration-color: #808000\">╰─────────────────────────────────────────╯</span>\n",
       "</pre>\n"
      ],
      "text/plain": [
       "\u001b[33m╭─────────────────────────────────────────╮\u001b[0m\n",
       "\u001b[33m│\u001b[0m 🚀 \u001b[1;33mInitializing BIDSDatasetReader Class\u001b[0m \u001b[33m│\u001b[0m\n",
       "\u001b[33m╰─────────────────────────────────────────╯\u001b[0m\n"
      ]
     },
     "metadata": {},
     "output_type": "display_data"
    },
    {
     "data": {
      "text/html": [
       "<pre style=\"white-space:pre;overflow-x:auto;line-height:normal;font-family:Menlo,'DejaVu Sans Mono',consolas,'Courier New',monospace\"> <span style=\"color: #008000; text-decoration-color: #008000; font-weight: bold\">Loading Processed EEG Data: sub-</span><span style=\"color: #008000; text-decoration-color: #008000; font-weight: bold\">05</span><span style=\"color: #008000; text-decoration-color: #008000; font-weight: bold\"> ses-</span><span style=\"color: #008000; text-decoration-color: #008000; font-weight: bold\">01</span>\n",
       "</pre>\n"
      ],
      "text/plain": [
       " \u001b[1;32mLoading Processed EEG Data: sub-\u001b[0m\u001b[1;32m05\u001b[0m\u001b[1;32m ses-\u001b[0m\u001b[1;32m01\u001b[0m\n"
      ]
     },
     "metadata": {},
     "output_type": "display_data"
    },
    {
     "data": {
      "text/html": [
       "<pre style=\"white-space:pre;overflow-x:auto;line-height:normal;font-family:Menlo,'DejaVu Sans Mono',consolas,'Courier New',monospace\"> <span style=\"color: #008000; text-decoration-color: #008000; font-weight: bold\">Loading sub-</span><span style=\"color: #008000; text-decoration-color: #008000; font-weight: bold\">06</span><span style=\"color: #008000; text-decoration-color: #008000; font-weight: bold\">, ses-</span><span style=\"color: #008000; text-decoration-color: #008000; font-weight: bold\">01</span>\n",
       "</pre>\n"
      ],
      "text/plain": [
       " \u001b[1;32mLoading sub-\u001b[0m\u001b[1;32m06\u001b[0m\u001b[1;32m, ses-\u001b[0m\u001b[1;32m01\u001b[0m\n"
      ]
     },
     "metadata": {},
     "output_type": "display_data"
    },
    {
     "data": {
      "text/html": [
       "<pre style=\"white-space:pre;overflow-x:auto;line-height:normal;font-family:Menlo,'DejaVu Sans Mono',consolas,'Courier New',monospace\"><span style=\"color: #808000; text-decoration-color: #808000\">╭─────────────────────────────────────────╮</span>\n",
       "<span style=\"color: #808000; text-decoration-color: #808000\">│</span> 🚀 <span style=\"color: #808000; text-decoration-color: #808000; font-weight: bold\">Initializing BIDSDatasetReader Class</span> <span style=\"color: #808000; text-decoration-color: #808000\">│</span>\n",
       "<span style=\"color: #808000; text-decoration-color: #808000\">╰─────────────────────────────────────────╯</span>\n",
       "</pre>\n"
      ],
      "text/plain": [
       "\u001b[33m╭─────────────────────────────────────────╮\u001b[0m\n",
       "\u001b[33m│\u001b[0m 🚀 \u001b[1;33mInitializing BIDSDatasetReader Class\u001b[0m \u001b[33m│\u001b[0m\n",
       "\u001b[33m╰─────────────────────────────────────────╯\u001b[0m\n"
      ]
     },
     "metadata": {},
     "output_type": "display_data"
    },
    {
     "data": {
      "text/html": [
       "<pre style=\"white-space:pre;overflow-x:auto;line-height:normal;font-family:Menlo,'DejaVu Sans Mono',consolas,'Courier New',monospace\"> <span style=\"color: #008000; text-decoration-color: #008000; font-weight: bold\">Loading Processed EEG Data: sub-</span><span style=\"color: #008000; text-decoration-color: #008000; font-weight: bold\">06</span><span style=\"color: #008000; text-decoration-color: #008000; font-weight: bold\"> ses-</span><span style=\"color: #008000; text-decoration-color: #008000; font-weight: bold\">01</span>\n",
       "</pre>\n"
      ],
      "text/plain": [
       " \u001b[1;32mLoading Processed EEG Data: sub-\u001b[0m\u001b[1;32m06\u001b[0m\u001b[1;32m ses-\u001b[0m\u001b[1;32m01\u001b[0m\n"
      ]
     },
     "metadata": {},
     "output_type": "display_data"
    },
    {
     "data": {
      "text/html": [
       "<pre style=\"white-space:pre;overflow-x:auto;line-height:normal;font-family:Menlo,'DejaVu Sans Mono',consolas,'Courier New',monospace\"> <span style=\"color: #008000; text-decoration-color: #008000; font-weight: bold\">Loading sub-</span><span style=\"color: #008000; text-decoration-color: #008000; font-weight: bold\">07</span><span style=\"color: #008000; text-decoration-color: #008000; font-weight: bold\">, ses-</span><span style=\"color: #008000; text-decoration-color: #008000; font-weight: bold\">01</span>\n",
       "</pre>\n"
      ],
      "text/plain": [
       " \u001b[1;32mLoading sub-\u001b[0m\u001b[1;32m07\u001b[0m\u001b[1;32m, ses-\u001b[0m\u001b[1;32m01\u001b[0m\n"
      ]
     },
     "metadata": {},
     "output_type": "display_data"
    },
    {
     "data": {
      "text/html": [
       "<pre style=\"white-space:pre;overflow-x:auto;line-height:normal;font-family:Menlo,'DejaVu Sans Mono',consolas,'Courier New',monospace\"><span style=\"color: #808000; text-decoration-color: #808000\">╭─────────────────────────────────────────╮</span>\n",
       "<span style=\"color: #808000; text-decoration-color: #808000\">│</span> 🚀 <span style=\"color: #808000; text-decoration-color: #808000; font-weight: bold\">Initializing BIDSDatasetReader Class</span> <span style=\"color: #808000; text-decoration-color: #808000\">│</span>\n",
       "<span style=\"color: #808000; text-decoration-color: #808000\">╰─────────────────────────────────────────╯</span>\n",
       "</pre>\n"
      ],
      "text/plain": [
       "\u001b[33m╭─────────────────────────────────────────╮\u001b[0m\n",
       "\u001b[33m│\u001b[0m 🚀 \u001b[1;33mInitializing BIDSDatasetReader Class\u001b[0m \u001b[33m│\u001b[0m\n",
       "\u001b[33m╰─────────────────────────────────────────╯\u001b[0m\n"
      ]
     },
     "metadata": {},
     "output_type": "display_data"
    },
    {
     "data": {
      "text/html": [
       "<pre style=\"white-space:pre;overflow-x:auto;line-height:normal;font-family:Menlo,'DejaVu Sans Mono',consolas,'Courier New',monospace\"> <span style=\"color: #008000; text-decoration-color: #008000; font-weight: bold\">Loading Processed EEG Data: sub-</span><span style=\"color: #008000; text-decoration-color: #008000; font-weight: bold\">07</span><span style=\"color: #008000; text-decoration-color: #008000; font-weight: bold\"> ses-</span><span style=\"color: #008000; text-decoration-color: #008000; font-weight: bold\">01</span>\n",
       "</pre>\n"
      ],
      "text/plain": [
       " \u001b[1;32mLoading Processed EEG Data: sub-\u001b[0m\u001b[1;32m07\u001b[0m\u001b[1;32m ses-\u001b[0m\u001b[1;32m01\u001b[0m\n"
      ]
     },
     "metadata": {},
     "output_type": "display_data"
    },
    {
     "data": {
      "text/html": [
       "<pre style=\"white-space:pre;overflow-x:auto;line-height:normal;font-family:Menlo,'DejaVu Sans Mono',consolas,'Courier New',monospace\"> <span style=\"color: #008000; text-decoration-color: #008000; font-weight: bold\">Loading sub-</span><span style=\"color: #008000; text-decoration-color: #008000; font-weight: bold\">08</span><span style=\"color: #008000; text-decoration-color: #008000; font-weight: bold\">, ses-</span><span style=\"color: #008000; text-decoration-color: #008000; font-weight: bold\">01</span>\n",
       "</pre>\n"
      ],
      "text/plain": [
       " \u001b[1;32mLoading sub-\u001b[0m\u001b[1;32m08\u001b[0m\u001b[1;32m, ses-\u001b[0m\u001b[1;32m01\u001b[0m\n"
      ]
     },
     "metadata": {},
     "output_type": "display_data"
    },
    {
     "data": {
      "text/html": [
       "<pre style=\"white-space:pre;overflow-x:auto;line-height:normal;font-family:Menlo,'DejaVu Sans Mono',consolas,'Courier New',monospace\"><span style=\"color: #808000; text-decoration-color: #808000\">╭─────────────────────────────────────────╮</span>\n",
       "<span style=\"color: #808000; text-decoration-color: #808000\">│</span> 🚀 <span style=\"color: #808000; text-decoration-color: #808000; font-weight: bold\">Initializing BIDSDatasetReader Class</span> <span style=\"color: #808000; text-decoration-color: #808000\">│</span>\n",
       "<span style=\"color: #808000; text-decoration-color: #808000\">╰─────────────────────────────────────────╯</span>\n",
       "</pre>\n"
      ],
      "text/plain": [
       "\u001b[33m╭─────────────────────────────────────────╮\u001b[0m\n",
       "\u001b[33m│\u001b[0m 🚀 \u001b[1;33mInitializing BIDSDatasetReader Class\u001b[0m \u001b[33m│\u001b[0m\n",
       "\u001b[33m╰─────────────────────────────────────────╯\u001b[0m\n"
      ]
     },
     "metadata": {},
     "output_type": "display_data"
    },
    {
     "data": {
      "text/html": [
       "<pre style=\"white-space:pre;overflow-x:auto;line-height:normal;font-family:Menlo,'DejaVu Sans Mono',consolas,'Courier New',monospace\"> <span style=\"color: #008000; text-decoration-color: #008000; font-weight: bold\">Loading Processed EEG Data: sub-</span><span style=\"color: #008000; text-decoration-color: #008000; font-weight: bold\">08</span><span style=\"color: #008000; text-decoration-color: #008000; font-weight: bold\"> ses-</span><span style=\"color: #008000; text-decoration-color: #008000; font-weight: bold\">01</span>\n",
       "</pre>\n"
      ],
      "text/plain": [
       " \u001b[1;32mLoading Processed EEG Data: sub-\u001b[0m\u001b[1;32m08\u001b[0m\u001b[1;32m ses-\u001b[0m\u001b[1;32m01\u001b[0m\n"
      ]
     },
     "metadata": {},
     "output_type": "display_data"
    },
    {
     "data": {
      "text/html": [
       "<pre style=\"white-space:pre;overflow-x:auto;line-height:normal;font-family:Menlo,'DejaVu Sans Mono',consolas,'Courier New',monospace\"> <span style=\"color: #008000; text-decoration-color: #008000; font-weight: bold\">Loading sub-</span><span style=\"color: #008000; text-decoration-color: #008000; font-weight: bold\">09</span><span style=\"color: #008000; text-decoration-color: #008000; font-weight: bold\">, ses-</span><span style=\"color: #008000; text-decoration-color: #008000; font-weight: bold\">01</span>\n",
       "</pre>\n"
      ],
      "text/plain": [
       " \u001b[1;32mLoading sub-\u001b[0m\u001b[1;32m09\u001b[0m\u001b[1;32m, ses-\u001b[0m\u001b[1;32m01\u001b[0m\n"
      ]
     },
     "metadata": {},
     "output_type": "display_data"
    },
    {
     "data": {
      "text/html": [
       "<pre style=\"white-space:pre;overflow-x:auto;line-height:normal;font-family:Menlo,'DejaVu Sans Mono',consolas,'Courier New',monospace\"><span style=\"color: #808000; text-decoration-color: #808000\">╭─────────────────────────────────────────╮</span>\n",
       "<span style=\"color: #808000; text-decoration-color: #808000\">│</span> 🚀 <span style=\"color: #808000; text-decoration-color: #808000; font-weight: bold\">Initializing BIDSDatasetReader Class</span> <span style=\"color: #808000; text-decoration-color: #808000\">│</span>\n",
       "<span style=\"color: #808000; text-decoration-color: #808000\">╰─────────────────────────────────────────╯</span>\n",
       "</pre>\n"
      ],
      "text/plain": [
       "\u001b[33m╭─────────────────────────────────────────╮\u001b[0m\n",
       "\u001b[33m│\u001b[0m 🚀 \u001b[1;33mInitializing BIDSDatasetReader Class\u001b[0m \u001b[33m│\u001b[0m\n",
       "\u001b[33m╰─────────────────────────────────────────╯\u001b[0m\n"
      ]
     },
     "metadata": {},
     "output_type": "display_data"
    },
    {
     "data": {
      "text/html": [
       "<pre style=\"white-space:pre;overflow-x:auto;line-height:normal;font-family:Menlo,'DejaVu Sans Mono',consolas,'Courier New',monospace\"> <span style=\"color: #008000; text-decoration-color: #008000; font-weight: bold\">Loading Processed EEG Data: sub-</span><span style=\"color: #008000; text-decoration-color: #008000; font-weight: bold\">09</span><span style=\"color: #008000; text-decoration-color: #008000; font-weight: bold\"> ses-</span><span style=\"color: #008000; text-decoration-color: #008000; font-weight: bold\">01</span>\n",
       "</pre>\n"
      ],
      "text/plain": [
       " \u001b[1;32mLoading Processed EEG Data: sub-\u001b[0m\u001b[1;32m09\u001b[0m\u001b[1;32m ses-\u001b[0m\u001b[1;32m01\u001b[0m\n"
      ]
     },
     "metadata": {},
     "output_type": "display_data"
    },
    {
     "data": {
      "text/html": [
       "<pre style=\"white-space:pre;overflow-x:auto;line-height:normal;font-family:Menlo,'DejaVu Sans Mono',consolas,'Courier New',monospace\"> <span style=\"color: #008000; text-decoration-color: #008000; font-weight: bold\">Loading sub-</span><span style=\"color: #008000; text-decoration-color: #008000; font-weight: bold\">10</span><span style=\"color: #008000; text-decoration-color: #008000; font-weight: bold\">, ses-</span><span style=\"color: #008000; text-decoration-color: #008000; font-weight: bold\">01</span>\n",
       "</pre>\n"
      ],
      "text/plain": [
       " \u001b[1;32mLoading sub-\u001b[0m\u001b[1;32m10\u001b[0m\u001b[1;32m, ses-\u001b[0m\u001b[1;32m01\u001b[0m\n"
      ]
     },
     "metadata": {},
     "output_type": "display_data"
    },
    {
     "data": {
      "text/html": [
       "<pre style=\"white-space:pre;overflow-x:auto;line-height:normal;font-family:Menlo,'DejaVu Sans Mono',consolas,'Courier New',monospace\"><span style=\"color: #808000; text-decoration-color: #808000\">╭─────────────────────────────────────────╮</span>\n",
       "<span style=\"color: #808000; text-decoration-color: #808000\">│</span> 🚀 <span style=\"color: #808000; text-decoration-color: #808000; font-weight: bold\">Initializing BIDSDatasetReader Class</span> <span style=\"color: #808000; text-decoration-color: #808000\">│</span>\n",
       "<span style=\"color: #808000; text-decoration-color: #808000\">╰─────────────────────────────────────────╯</span>\n",
       "</pre>\n"
      ],
      "text/plain": [
       "\u001b[33m╭─────────────────────────────────────────╮\u001b[0m\n",
       "\u001b[33m│\u001b[0m 🚀 \u001b[1;33mInitializing BIDSDatasetReader Class\u001b[0m \u001b[33m│\u001b[0m\n",
       "\u001b[33m╰─────────────────────────────────────────╯\u001b[0m\n"
      ]
     },
     "metadata": {},
     "output_type": "display_data"
    },
    {
     "data": {
      "text/html": [
       "<pre style=\"white-space:pre;overflow-x:auto;line-height:normal;font-family:Menlo,'DejaVu Sans Mono',consolas,'Courier New',monospace\"> <span style=\"color: #008000; text-decoration-color: #008000; font-weight: bold\">Loading Processed EEG Data: sub-</span><span style=\"color: #008000; text-decoration-color: #008000; font-weight: bold\">10</span><span style=\"color: #008000; text-decoration-color: #008000; font-weight: bold\"> ses-</span><span style=\"color: #008000; text-decoration-color: #008000; font-weight: bold\">01</span>\n",
       "</pre>\n"
      ],
      "text/plain": [
       " \u001b[1;32mLoading Processed EEG Data: sub-\u001b[0m\u001b[1;32m10\u001b[0m\u001b[1;32m ses-\u001b[0m\u001b[1;32m01\u001b[0m\n"
      ]
     },
     "metadata": {},
     "output_type": "display_data"
    },
    {
     "data": {
      "text/html": [
       "<pre style=\"white-space:pre;overflow-x:auto;line-height:normal;font-family:Menlo,'DejaVu Sans Mono',consolas,'Courier New',monospace\"> <span style=\"color: #008000; text-decoration-color: #008000; font-weight: bold\">Loading sub-</span><span style=\"color: #008000; text-decoration-color: #008000; font-weight: bold\">11</span><span style=\"color: #008000; text-decoration-color: #008000; font-weight: bold\">, ses-</span><span style=\"color: #008000; text-decoration-color: #008000; font-weight: bold\">01</span>\n",
       "</pre>\n"
      ],
      "text/plain": [
       " \u001b[1;32mLoading sub-\u001b[0m\u001b[1;32m11\u001b[0m\u001b[1;32m, ses-\u001b[0m\u001b[1;32m01\u001b[0m\n"
      ]
     },
     "metadata": {},
     "output_type": "display_data"
    },
    {
     "data": {
      "text/html": [
       "<pre style=\"white-space:pre;overflow-x:auto;line-height:normal;font-family:Menlo,'DejaVu Sans Mono',consolas,'Courier New',monospace\"><span style=\"color: #808000; text-decoration-color: #808000\">╭─────────────────────────────────────────╮</span>\n",
       "<span style=\"color: #808000; text-decoration-color: #808000\">│</span> 🚀 <span style=\"color: #808000; text-decoration-color: #808000; font-weight: bold\">Initializing BIDSDatasetReader Class</span> <span style=\"color: #808000; text-decoration-color: #808000\">│</span>\n",
       "<span style=\"color: #808000; text-decoration-color: #808000\">╰─────────────────────────────────────────╯</span>\n",
       "</pre>\n"
      ],
      "text/plain": [
       "\u001b[33m╭─────────────────────────────────────────╮\u001b[0m\n",
       "\u001b[33m│\u001b[0m 🚀 \u001b[1;33mInitializing BIDSDatasetReader Class\u001b[0m \u001b[33m│\u001b[0m\n",
       "\u001b[33m╰─────────────────────────────────────────╯\u001b[0m\n"
      ]
     },
     "metadata": {},
     "output_type": "display_data"
    },
    {
     "data": {
      "text/html": [
       "<pre style=\"white-space:pre;overflow-x:auto;line-height:normal;font-family:Menlo,'DejaVu Sans Mono',consolas,'Courier New',monospace\"> <span style=\"color: #008000; text-decoration-color: #008000; font-weight: bold\">Loading Processed EEG Data: sub-</span><span style=\"color: #008000; text-decoration-color: #008000; font-weight: bold\">11</span><span style=\"color: #008000; text-decoration-color: #008000; font-weight: bold\"> ses-</span><span style=\"color: #008000; text-decoration-color: #008000; font-weight: bold\">01</span>\n",
       "</pre>\n"
      ],
      "text/plain": [
       " \u001b[1;32mLoading Processed EEG Data: sub-\u001b[0m\u001b[1;32m11\u001b[0m\u001b[1;32m ses-\u001b[0m\u001b[1;32m01\u001b[0m\n"
      ]
     },
     "metadata": {},
     "output_type": "display_data"
    },
    {
     "data": {
      "text/html": [
       "<pre style=\"white-space:pre;overflow-x:auto;line-height:normal;font-family:Menlo,'DejaVu Sans Mono',consolas,'Courier New',monospace\"> <span style=\"color: #008000; text-decoration-color: #008000; font-weight: bold\">Loading sub-</span><span style=\"color: #008000; text-decoration-color: #008000; font-weight: bold\">12</span><span style=\"color: #008000; text-decoration-color: #008000; font-weight: bold\">, ses-</span><span style=\"color: #008000; text-decoration-color: #008000; font-weight: bold\">01</span>\n",
       "</pre>\n"
      ],
      "text/plain": [
       " \u001b[1;32mLoading sub-\u001b[0m\u001b[1;32m12\u001b[0m\u001b[1;32m, ses-\u001b[0m\u001b[1;32m01\u001b[0m\n"
      ]
     },
     "metadata": {},
     "output_type": "display_data"
    },
    {
     "data": {
      "text/html": [
       "<pre style=\"white-space:pre;overflow-x:auto;line-height:normal;font-family:Menlo,'DejaVu Sans Mono',consolas,'Courier New',monospace\"><span style=\"color: #808000; text-decoration-color: #808000\">╭─────────────────────────────────────────╮</span>\n",
       "<span style=\"color: #808000; text-decoration-color: #808000\">│</span> 🚀 <span style=\"color: #808000; text-decoration-color: #808000; font-weight: bold\">Initializing BIDSDatasetReader Class</span> <span style=\"color: #808000; text-decoration-color: #808000\">│</span>\n",
       "<span style=\"color: #808000; text-decoration-color: #808000\">╰─────────────────────────────────────────╯</span>\n",
       "</pre>\n"
      ],
      "text/plain": [
       "\u001b[33m╭─────────────────────────────────────────╮\u001b[0m\n",
       "\u001b[33m│\u001b[0m 🚀 \u001b[1;33mInitializing BIDSDatasetReader Class\u001b[0m \u001b[33m│\u001b[0m\n",
       "\u001b[33m╰─────────────────────────────────────────╯\u001b[0m\n"
      ]
     },
     "metadata": {},
     "output_type": "display_data"
    },
    {
     "data": {
      "text/html": [
       "<pre style=\"white-space:pre;overflow-x:auto;line-height:normal;font-family:Menlo,'DejaVu Sans Mono',consolas,'Courier New',monospace\"> <span style=\"color: #008000; text-decoration-color: #008000; font-weight: bold\">Loading Processed EEG Data: sub-</span><span style=\"color: #008000; text-decoration-color: #008000; font-weight: bold\">12</span><span style=\"color: #008000; text-decoration-color: #008000; font-weight: bold\"> ses-</span><span style=\"color: #008000; text-decoration-color: #008000; font-weight: bold\">01</span>\n",
       "</pre>\n"
      ],
      "text/plain": [
       " \u001b[1;32mLoading Processed EEG Data: sub-\u001b[0m\u001b[1;32m12\u001b[0m\u001b[1;32m ses-\u001b[0m\u001b[1;32m01\u001b[0m\n"
      ]
     },
     "metadata": {},
     "output_type": "display_data"
    },
    {
     "data": {
      "text/html": [
       "<pre style=\"white-space:pre;overflow-x:auto;line-height:normal;font-family:Menlo,'DejaVu Sans Mono',consolas,'Courier New',monospace\"> <span style=\"color: #008000; text-decoration-color: #008000; font-weight: bold\">Loading sub-</span><span style=\"color: #008000; text-decoration-color: #008000; font-weight: bold\">13</span><span style=\"color: #008000; text-decoration-color: #008000; font-weight: bold\">, ses-</span><span style=\"color: #008000; text-decoration-color: #008000; font-weight: bold\">01</span>\n",
       "</pre>\n"
      ],
      "text/plain": [
       " \u001b[1;32mLoading sub-\u001b[0m\u001b[1;32m13\u001b[0m\u001b[1;32m, ses-\u001b[0m\u001b[1;32m01\u001b[0m\n"
      ]
     },
     "metadata": {},
     "output_type": "display_data"
    },
    {
     "data": {
      "text/html": [
       "<pre style=\"white-space:pre;overflow-x:auto;line-height:normal;font-family:Menlo,'DejaVu Sans Mono',consolas,'Courier New',monospace\"><span style=\"color: #808000; text-decoration-color: #808000\">╭─────────────────────────────────────────╮</span>\n",
       "<span style=\"color: #808000; text-decoration-color: #808000\">│</span> 🚀 <span style=\"color: #808000; text-decoration-color: #808000; font-weight: bold\">Initializing BIDSDatasetReader Class</span> <span style=\"color: #808000; text-decoration-color: #808000\">│</span>\n",
       "<span style=\"color: #808000; text-decoration-color: #808000\">╰─────────────────────────────────────────╯</span>\n",
       "</pre>\n"
      ],
      "text/plain": [
       "\u001b[33m╭─────────────────────────────────────────╮\u001b[0m\n",
       "\u001b[33m│\u001b[0m 🚀 \u001b[1;33mInitializing BIDSDatasetReader Class\u001b[0m \u001b[33m│\u001b[0m\n",
       "\u001b[33m╰─────────────────────────────────────────╯\u001b[0m\n"
      ]
     },
     "metadata": {},
     "output_type": "display_data"
    },
    {
     "data": {
      "text/html": [
       "<pre style=\"white-space:pre;overflow-x:auto;line-height:normal;font-family:Menlo,'DejaVu Sans Mono',consolas,'Courier New',monospace\"> <span style=\"color: #008000; text-decoration-color: #008000; font-weight: bold\">Loading Processed EEG Data: sub-</span><span style=\"color: #008000; text-decoration-color: #008000; font-weight: bold\">13</span><span style=\"color: #008000; text-decoration-color: #008000; font-weight: bold\"> ses-</span><span style=\"color: #008000; text-decoration-color: #008000; font-weight: bold\">01</span>\n",
       "</pre>\n"
      ],
      "text/plain": [
       " \u001b[1;32mLoading Processed EEG Data: sub-\u001b[0m\u001b[1;32m13\u001b[0m\u001b[1;32m ses-\u001b[0m\u001b[1;32m01\u001b[0m\n"
      ]
     },
     "metadata": {},
     "output_type": "display_data"
    },
    {
     "data": {
      "text/html": [
       "<pre style=\"white-space:pre;overflow-x:auto;line-height:normal;font-family:Menlo,'DejaVu Sans Mono',consolas,'Courier New',monospace\"> <span style=\"color: #008000; text-decoration-color: #008000; font-weight: bold\">Loading sub-</span><span style=\"color: #008000; text-decoration-color: #008000; font-weight: bold\">14</span><span style=\"color: #008000; text-decoration-color: #008000; font-weight: bold\">, ses-</span><span style=\"color: #008000; text-decoration-color: #008000; font-weight: bold\">01</span>\n",
       "</pre>\n"
      ],
      "text/plain": [
       " \u001b[1;32mLoading sub-\u001b[0m\u001b[1;32m14\u001b[0m\u001b[1;32m, ses-\u001b[0m\u001b[1;32m01\u001b[0m\n"
      ]
     },
     "metadata": {},
     "output_type": "display_data"
    },
    {
     "data": {
      "text/html": [
       "<pre style=\"white-space:pre;overflow-x:auto;line-height:normal;font-family:Menlo,'DejaVu Sans Mono',consolas,'Courier New',monospace\"><span style=\"color: #808000; text-decoration-color: #808000\">╭─────────────────────────────────────────╮</span>\n",
       "<span style=\"color: #808000; text-decoration-color: #808000\">│</span> 🚀 <span style=\"color: #808000; text-decoration-color: #808000; font-weight: bold\">Initializing BIDSDatasetReader Class</span> <span style=\"color: #808000; text-decoration-color: #808000\">│</span>\n",
       "<span style=\"color: #808000; text-decoration-color: #808000\">╰─────────────────────────────────────────╯</span>\n",
       "</pre>\n"
      ],
      "text/plain": [
       "\u001b[33m╭─────────────────────────────────────────╮\u001b[0m\n",
       "\u001b[33m│\u001b[0m 🚀 \u001b[1;33mInitializing BIDSDatasetReader Class\u001b[0m \u001b[33m│\u001b[0m\n",
       "\u001b[33m╰─────────────────────────────────────────╯\u001b[0m\n"
      ]
     },
     "metadata": {},
     "output_type": "display_data"
    },
    {
     "data": {
      "text/html": [
       "<pre style=\"white-space:pre;overflow-x:auto;line-height:normal;font-family:Menlo,'DejaVu Sans Mono',consolas,'Courier New',monospace\"> <span style=\"color: #008000; text-decoration-color: #008000; font-weight: bold\">Loading Processed EEG Data: sub-</span><span style=\"color: #008000; text-decoration-color: #008000; font-weight: bold\">14</span><span style=\"color: #008000; text-decoration-color: #008000; font-weight: bold\"> ses-</span><span style=\"color: #008000; text-decoration-color: #008000; font-weight: bold\">01</span>\n",
       "</pre>\n"
      ],
      "text/plain": [
       " \u001b[1;32mLoading Processed EEG Data: sub-\u001b[0m\u001b[1;32m14\u001b[0m\u001b[1;32m ses-\u001b[0m\u001b[1;32m01\u001b[0m\n"
      ]
     },
     "metadata": {},
     "output_type": "display_data"
    },
    {
     "data": {
      "text/html": [
       "<pre style=\"white-space:pre;overflow-x:auto;line-height:normal;font-family:Menlo,'DejaVu Sans Mono',consolas,'Courier New',monospace\"> <span style=\"color: #008000; text-decoration-color: #008000; font-weight: bold\">Loading sub-</span><span style=\"color: #008000; text-decoration-color: #008000; font-weight: bold\">15</span><span style=\"color: #008000; text-decoration-color: #008000; font-weight: bold\">, ses-</span><span style=\"color: #008000; text-decoration-color: #008000; font-weight: bold\">01</span>\n",
       "</pre>\n"
      ],
      "text/plain": [
       " \u001b[1;32mLoading sub-\u001b[0m\u001b[1;32m15\u001b[0m\u001b[1;32m, ses-\u001b[0m\u001b[1;32m01\u001b[0m\n"
      ]
     },
     "metadata": {},
     "output_type": "display_data"
    },
    {
     "data": {
      "text/html": [
       "<pre style=\"white-space:pre;overflow-x:auto;line-height:normal;font-family:Menlo,'DejaVu Sans Mono',consolas,'Courier New',monospace\"><span style=\"color: #808000; text-decoration-color: #808000\">╭─────────────────────────────────────────╮</span>\n",
       "<span style=\"color: #808000; text-decoration-color: #808000\">│</span> 🚀 <span style=\"color: #808000; text-decoration-color: #808000; font-weight: bold\">Initializing BIDSDatasetReader Class</span> <span style=\"color: #808000; text-decoration-color: #808000\">│</span>\n",
       "<span style=\"color: #808000; text-decoration-color: #808000\">╰─────────────────────────────────────────╯</span>\n",
       "</pre>\n"
      ],
      "text/plain": [
       "\u001b[33m╭─────────────────────────────────────────╮\u001b[0m\n",
       "\u001b[33m│\u001b[0m 🚀 \u001b[1;33mInitializing BIDSDatasetReader Class\u001b[0m \u001b[33m│\u001b[0m\n",
       "\u001b[33m╰─────────────────────────────────────────╯\u001b[0m\n"
      ]
     },
     "metadata": {},
     "output_type": "display_data"
    },
    {
     "data": {
      "text/html": [
       "<pre style=\"white-space:pre;overflow-x:auto;line-height:normal;font-family:Menlo,'DejaVu Sans Mono',consolas,'Courier New',monospace\"> <span style=\"color: #008000; text-decoration-color: #008000; font-weight: bold\">Loading Processed EEG Data: sub-</span><span style=\"color: #008000; text-decoration-color: #008000; font-weight: bold\">15</span><span style=\"color: #008000; text-decoration-color: #008000; font-weight: bold\"> ses-</span><span style=\"color: #008000; text-decoration-color: #008000; font-weight: bold\">01</span>\n",
       "</pre>\n"
      ],
      "text/plain": [
       " \u001b[1;32mLoading Processed EEG Data: sub-\u001b[0m\u001b[1;32m15\u001b[0m\u001b[1;32m ses-\u001b[0m\u001b[1;32m01\u001b[0m\n"
      ]
     },
     "metadata": {},
     "output_type": "display_data"
    },
    {
     "data": {
      "text/html": [
       "<pre style=\"white-space:pre;overflow-x:auto;line-height:normal;font-family:Menlo,'DejaVu Sans Mono',consolas,'Courier New',monospace\"> <span style=\"color: #008000; text-decoration-color: #008000; font-weight: bold\">Creating epochs: sub-</span><span style=\"color: #008000; text-decoration-color: #008000; font-weight: bold\">01</span><span style=\"color: #008000; text-decoration-color: #008000; font-weight: bold\">, ses-</span><span style=\"color: #008000; text-decoration-color: #008000; font-weight: bold\">01</span>\n",
       "</pre>\n"
      ],
      "text/plain": [
       " \u001b[1;32mCreating epochs: sub-\u001b[0m\u001b[1;32m01\u001b[0m\u001b[1;32m, ses-\u001b[0m\u001b[1;32m01\u001b[0m\n"
      ]
     },
     "metadata": {},
     "output_type": "display_data"
    },
    {
     "data": {
      "text/html": [
       "<pre style=\"white-space:pre;overflow-x:auto;line-height:normal;font-family:Menlo,'DejaVu Sans Mono',consolas,'Courier New',monospace\"><span style=\"color: #800000; text-decoration-color: #800000\">╭────────────────────────────────╮</span>\n",
       "<span style=\"color: #800000; text-decoration-color: #800000\">│</span>  <span style=\"color: #800000; text-decoration-color: #800000; font-weight: bold\">Initializing DataLoader Class</span> <span style=\"color: #800000; text-decoration-color: #800000\">│</span>\n",
       "<span style=\"color: #800000; text-decoration-color: #800000\">╰────────────────────────────────╯</span>\n",
       "</pre>\n"
      ],
      "text/plain": [
       "\u001b[31m╭────────────────────────────────╮\u001b[0m\n",
       "\u001b[31m│\u001b[0m  \u001b[1;31mInitializing DataLoader Class\u001b[0m \u001b[31m│\u001b[0m\n",
       "\u001b[31m╰────────────────────────────────╯\u001b[0m\n"
      ]
     },
     "metadata": {},
     "output_type": "display_data"
    },
    {
     "data": {
      "text/html": [
       "<pre style=\"white-space:pre;overflow-x:auto;line-height:normal;font-family:Menlo,'DejaVu Sans Mono',consolas,'Courier New',monospace\"> <span style=\"color: #008000; text-decoration-color: #008000; font-weight: bold\">Creating EPOCHS</span>\n",
       "</pre>\n"
      ],
      "text/plain": [
       " \u001b[1;32mCreating EPOCHS\u001b[0m\n"
      ]
     },
     "metadata": {},
     "output_type": "display_data"
    },
    {
     "data": {
      "text/html": [
       "<pre style=\"white-space:pre;overflow-x:auto;line-height:normal;font-family:Menlo,'DejaVu Sans Mono',consolas,'Courier New',monospace\"><span style=\"font-style: italic\">        Extraction Criteria        </span>\n",
       "┏━━━━━━━━━━━━━━━━━━━━┳━━━━━━━━━━━━┓\n",
       "┃<span style=\"font-weight: bold\"> Parameter          </span>┃<span style=\"font-weight: bold\"> Value      </span>┃\n",
       "┣━━━━━━━━━━━━━━━━━━━━╋━━━━━━━━━━━━┫\n",
       "┃<span style=\"color: #008080; text-decoration-color: #008080; font-weight: bold\"> 🧪 Trial Mode      </span>┃<span style=\"color: #808000; text-decoration-color: #808000; font-weight: bold\">            </span>┃\n",
       "┃<span style=\"color: #008080; text-decoration-color: #008080; font-weight: bold\"> 📏 Trial Unit      </span>┃<span style=\"color: #808000; text-decoration-color: #808000; font-weight: bold\"> Words      </span>┃\n",
       "┃<span style=\"color: #008080; text-decoration-color: #008080; font-weight: bold\"> 🔗 Experiment Mode </span>┃<span style=\"color: #808000; text-decoration-color: #808000; font-weight: bold\"> Experiment </span>┃\n",
       "┃<span style=\"color: #008080; text-decoration-color: #008080; font-weight: bold\"> 🎭 Trial Boundary  </span>┃<span style=\"color: #808000; text-decoration-color: #808000; font-weight: bold\"> Start      </span>┃\n",
       "┃<span style=\"color: #008080; text-decoration-color: #008080; font-weight: bold\"> 🔬 Trial Type      </span>┃<span style=\"color: #808000; text-decoration-color: #808000; font-weight: bold\"> Stimulus   </span>┃\n",
       "┃<span style=\"color: #008080; text-decoration-color: #008080; font-weight: bold\"> 📊 Modality        </span>┃<span style=\"color: #808000; text-decoration-color: #808000; font-weight: bold\"> Pictures   </span>┃\n",
       "┃<span style=\"color: #008080; text-decoration-color: #008080; font-weight: bold\"> ⏱ Tmin             </span>┃<span style=\"color: #808000; text-decoration-color: #808000; font-weight: bold\"> </span><span style=\"color: #008080; text-decoration-color: #008080; font-weight: bold\">-0.2</span><span style=\"color: #808000; text-decoration-color: #808000; font-weight: bold\">       </span>┃\n",
       "┃<span style=\"color: #008080; text-decoration-color: #008080; font-weight: bold\"> ⏳ Tmax            </span>┃<span style=\"color: #808000; text-decoration-color: #808000; font-weight: bold\"> </span><span style=\"color: #008080; text-decoration-color: #008080; font-weight: bold\">0.5</span><span style=\"color: #808000; text-decoration-color: #808000; font-weight: bold\">        </span>┃\n",
       "┗━━━━━━━━━━━━━━━━━━━━┻━━━━━━━━━━━━┛\n",
       "</pre>\n"
      ],
      "text/plain": [
       "\u001b[3m        Extraction Criteria        \u001b[0m\n",
       "┏━━━━━━━━━━━━━━━━━━━━┳━━━━━━━━━━━━┓\n",
       "┃\u001b[1m \u001b[0m\u001b[1mParameter         \u001b[0m\u001b[1m \u001b[0m┃\u001b[1m \u001b[0m\u001b[1mValue     \u001b[0m\u001b[1m \u001b[0m┃\n",
       "┣━━━━━━━━━━━━━━━━━━━━╋━━━━━━━━━━━━┫\n",
       "┃\u001b[1;36m \u001b[0m\u001b[1;36m🧪 Trial Mode     \u001b[0m\u001b[1;36m \u001b[0m┃\u001b[1;33m \u001b[0m\u001b[1;33m          \u001b[0m\u001b[1;33m \u001b[0m┃\n",
       "┃\u001b[1;36m \u001b[0m\u001b[1;36m📏 Trial Unit     \u001b[0m\u001b[1;36m \u001b[0m┃\u001b[1;33m \u001b[0m\u001b[1;33mWords     \u001b[0m\u001b[1;33m \u001b[0m┃\n",
       "┃\u001b[1;36m \u001b[0m\u001b[1;36m🔗 Experiment Mode\u001b[0m\u001b[1;36m \u001b[0m┃\u001b[1;33m \u001b[0m\u001b[1;33mExperiment\u001b[0m\u001b[1;33m \u001b[0m┃\n",
       "┃\u001b[1;36m \u001b[0m\u001b[1;36m🎭 Trial Boundary \u001b[0m\u001b[1;36m \u001b[0m┃\u001b[1;33m \u001b[0m\u001b[1;33mStart     \u001b[0m\u001b[1;33m \u001b[0m┃\n",
       "┃\u001b[1;36m \u001b[0m\u001b[1;36m🔬 Trial Type     \u001b[0m\u001b[1;36m \u001b[0m┃\u001b[1;33m \u001b[0m\u001b[1;33mStimulus  \u001b[0m\u001b[1;33m \u001b[0m┃\n",
       "┃\u001b[1;36m \u001b[0m\u001b[1;36m📊 Modality       \u001b[0m\u001b[1;36m \u001b[0m┃\u001b[1;33m \u001b[0m\u001b[1;33mPictures  \u001b[0m\u001b[1;33m \u001b[0m┃\n",
       "┃\u001b[1;36m \u001b[0m\u001b[1;36m⏱ Tmin            \u001b[0m\u001b[1;36m \u001b[0m┃\u001b[1;33m \u001b[0m\u001b[1;36m-0.2\u001b[0m\u001b[1;33m      \u001b[0m\u001b[1;33m \u001b[0m┃\n",
       "┃\u001b[1;36m \u001b[0m\u001b[1;36m⏳ Tmax           \u001b[0m\u001b[1;36m \u001b[0m┃\u001b[1;33m \u001b[0m\u001b[1;36m0.5\u001b[0m\u001b[1;33m       \u001b[0m\u001b[1;33m \u001b[0m┃\n",
       "┗━━━━━━━━━━━━━━━━━━━━┻━━━━━━━━━━━━┛\n"
      ]
     },
     "metadata": {},
     "output_type": "display_data"
    },
    {
     "name": "stdout",
     "output_type": "stream",
     "text": [
      "Not setting metadata\n",
      "130 matching events found\n",
      "Applying baseline correction (mode: mean)\n",
      "0 projection items activated\n",
      "Using data from preloaded Raw for 130 events and 701 original time points ...\n",
      "0 bad epochs dropped\n"
     ]
    },
    {
     "data": {
      "text/html": [
       "<pre style=\"white-space:pre;overflow-x:auto;line-height:normal;font-family:Menlo,'DejaVu Sans Mono',consolas,'Courier New',monospace\"> <span style=\"color: #008000; text-decoration-color: #008000; font-weight: bold\">Creating epochs: sub-</span><span style=\"color: #008000; text-decoration-color: #008000; font-weight: bold\">02</span><span style=\"color: #008000; text-decoration-color: #008000; font-weight: bold\">, ses-</span><span style=\"color: #008000; text-decoration-color: #008000; font-weight: bold\">01</span>\n",
       "</pre>\n"
      ],
      "text/plain": [
       " \u001b[1;32mCreating epochs: sub-\u001b[0m\u001b[1;32m02\u001b[0m\u001b[1;32m, ses-\u001b[0m\u001b[1;32m01\u001b[0m\n"
      ]
     },
     "metadata": {},
     "output_type": "display_data"
    },
    {
     "data": {
      "text/html": [
       "<pre style=\"white-space:pre;overflow-x:auto;line-height:normal;font-family:Menlo,'DejaVu Sans Mono',consolas,'Courier New',monospace\"><span style=\"color: #800000; text-decoration-color: #800000\">╭────────────────────────────────╮</span>\n",
       "<span style=\"color: #800000; text-decoration-color: #800000\">│</span>  <span style=\"color: #800000; text-decoration-color: #800000; font-weight: bold\">Initializing DataLoader Class</span> <span style=\"color: #800000; text-decoration-color: #800000\">│</span>\n",
       "<span style=\"color: #800000; text-decoration-color: #800000\">╰────────────────────────────────╯</span>\n",
       "</pre>\n"
      ],
      "text/plain": [
       "\u001b[31m╭────────────────────────────────╮\u001b[0m\n",
       "\u001b[31m│\u001b[0m  \u001b[1;31mInitializing DataLoader Class\u001b[0m \u001b[31m│\u001b[0m\n",
       "\u001b[31m╰────────────────────────────────╯\u001b[0m\n"
      ]
     },
     "metadata": {},
     "output_type": "display_data"
    },
    {
     "data": {
      "text/html": [
       "<pre style=\"white-space:pre;overflow-x:auto;line-height:normal;font-family:Menlo,'DejaVu Sans Mono',consolas,'Courier New',monospace\"> <span style=\"color: #008000; text-decoration-color: #008000; font-weight: bold\">Creating EPOCHS</span>\n",
       "</pre>\n"
      ],
      "text/plain": [
       " \u001b[1;32mCreating EPOCHS\u001b[0m\n"
      ]
     },
     "metadata": {},
     "output_type": "display_data"
    },
    {
     "data": {
      "text/html": [
       "<pre style=\"white-space:pre;overflow-x:auto;line-height:normal;font-family:Menlo,'DejaVu Sans Mono',consolas,'Courier New',monospace\"><span style=\"font-style: italic\">        Extraction Criteria        </span>\n",
       "┏━━━━━━━━━━━━━━━━━━━━┳━━━━━━━━━━━━┓\n",
       "┃<span style=\"font-weight: bold\"> Parameter          </span>┃<span style=\"font-weight: bold\"> Value      </span>┃\n",
       "┣━━━━━━━━━━━━━━━━━━━━╋━━━━━━━━━━━━┫\n",
       "┃<span style=\"color: #008080; text-decoration-color: #008080; font-weight: bold\"> 🧪 Trial Mode      </span>┃<span style=\"color: #808000; text-decoration-color: #808000; font-weight: bold\">            </span>┃\n",
       "┃<span style=\"color: #008080; text-decoration-color: #008080; font-weight: bold\"> 📏 Trial Unit      </span>┃<span style=\"color: #808000; text-decoration-color: #808000; font-weight: bold\"> Words      </span>┃\n",
       "┃<span style=\"color: #008080; text-decoration-color: #008080; font-weight: bold\"> 🔗 Experiment Mode </span>┃<span style=\"color: #808000; text-decoration-color: #808000; font-weight: bold\"> Experiment </span>┃\n",
       "┃<span style=\"color: #008080; text-decoration-color: #008080; font-weight: bold\"> 🎭 Trial Boundary  </span>┃<span style=\"color: #808000; text-decoration-color: #808000; font-weight: bold\"> Start      </span>┃\n",
       "┃<span style=\"color: #008080; text-decoration-color: #008080; font-weight: bold\"> 🔬 Trial Type      </span>┃<span style=\"color: #808000; text-decoration-color: #808000; font-weight: bold\"> Stimulus   </span>┃\n",
       "┃<span style=\"color: #008080; text-decoration-color: #008080; font-weight: bold\"> 📊 Modality        </span>┃<span style=\"color: #808000; text-decoration-color: #808000; font-weight: bold\"> Pictures   </span>┃\n",
       "┃<span style=\"color: #008080; text-decoration-color: #008080; font-weight: bold\"> ⏱ Tmin             </span>┃<span style=\"color: #808000; text-decoration-color: #808000; font-weight: bold\"> </span><span style=\"color: #008080; text-decoration-color: #008080; font-weight: bold\">-0.2</span><span style=\"color: #808000; text-decoration-color: #808000; font-weight: bold\">       </span>┃\n",
       "┃<span style=\"color: #008080; text-decoration-color: #008080; font-weight: bold\"> ⏳ Tmax            </span>┃<span style=\"color: #808000; text-decoration-color: #808000; font-weight: bold\"> </span><span style=\"color: #008080; text-decoration-color: #008080; font-weight: bold\">0.5</span><span style=\"color: #808000; text-decoration-color: #808000; font-weight: bold\">        </span>┃\n",
       "┗━━━━━━━━━━━━━━━━━━━━┻━━━━━━━━━━━━┛\n",
       "</pre>\n"
      ],
      "text/plain": [
       "\u001b[3m        Extraction Criteria        \u001b[0m\n",
       "┏━━━━━━━━━━━━━━━━━━━━┳━━━━━━━━━━━━┓\n",
       "┃\u001b[1m \u001b[0m\u001b[1mParameter         \u001b[0m\u001b[1m \u001b[0m┃\u001b[1m \u001b[0m\u001b[1mValue     \u001b[0m\u001b[1m \u001b[0m┃\n",
       "┣━━━━━━━━━━━━━━━━━━━━╋━━━━━━━━━━━━┫\n",
       "┃\u001b[1;36m \u001b[0m\u001b[1;36m🧪 Trial Mode     \u001b[0m\u001b[1;36m \u001b[0m┃\u001b[1;33m \u001b[0m\u001b[1;33m          \u001b[0m\u001b[1;33m \u001b[0m┃\n",
       "┃\u001b[1;36m \u001b[0m\u001b[1;36m📏 Trial Unit     \u001b[0m\u001b[1;36m \u001b[0m┃\u001b[1;33m \u001b[0m\u001b[1;33mWords     \u001b[0m\u001b[1;33m \u001b[0m┃\n",
       "┃\u001b[1;36m \u001b[0m\u001b[1;36m🔗 Experiment Mode\u001b[0m\u001b[1;36m \u001b[0m┃\u001b[1;33m \u001b[0m\u001b[1;33mExperiment\u001b[0m\u001b[1;33m \u001b[0m┃\n",
       "┃\u001b[1;36m \u001b[0m\u001b[1;36m🎭 Trial Boundary \u001b[0m\u001b[1;36m \u001b[0m┃\u001b[1;33m \u001b[0m\u001b[1;33mStart     \u001b[0m\u001b[1;33m \u001b[0m┃\n",
       "┃\u001b[1;36m \u001b[0m\u001b[1;36m🔬 Trial Type     \u001b[0m\u001b[1;36m \u001b[0m┃\u001b[1;33m \u001b[0m\u001b[1;33mStimulus  \u001b[0m\u001b[1;33m \u001b[0m┃\n",
       "┃\u001b[1;36m \u001b[0m\u001b[1;36m📊 Modality       \u001b[0m\u001b[1;36m \u001b[0m┃\u001b[1;33m \u001b[0m\u001b[1;33mPictures  \u001b[0m\u001b[1;33m \u001b[0m┃\n",
       "┃\u001b[1;36m \u001b[0m\u001b[1;36m⏱ Tmin            \u001b[0m\u001b[1;36m \u001b[0m┃\u001b[1;33m \u001b[0m\u001b[1;36m-0.2\u001b[0m\u001b[1;33m      \u001b[0m\u001b[1;33m \u001b[0m┃\n",
       "┃\u001b[1;36m \u001b[0m\u001b[1;36m⏳ Tmax           \u001b[0m\u001b[1;36m \u001b[0m┃\u001b[1;33m \u001b[0m\u001b[1;36m0.5\u001b[0m\u001b[1;33m       \u001b[0m\u001b[1;33m \u001b[0m┃\n",
       "┗━━━━━━━━━━━━━━━━━━━━┻━━━━━━━━━━━━┛\n"
      ]
     },
     "metadata": {},
     "output_type": "display_data"
    },
    {
     "name": "stdout",
     "output_type": "stream",
     "text": [
      "Not setting metadata\n",
      "130 matching events found\n",
      "Applying baseline correction (mode: mean)\n",
      "0 projection items activated\n",
      "Using data from preloaded Raw for 130 events and 701 original time points ...\n",
      "0 bad epochs dropped\n"
     ]
    },
    {
     "data": {
      "text/html": [
       "<pre style=\"white-space:pre;overflow-x:auto;line-height:normal;font-family:Menlo,'DejaVu Sans Mono',consolas,'Courier New',monospace\"> <span style=\"color: #008000; text-decoration-color: #008000; font-weight: bold\">Creating epochs: sub-</span><span style=\"color: #008000; text-decoration-color: #008000; font-weight: bold\">03</span><span style=\"color: #008000; text-decoration-color: #008000; font-weight: bold\">, ses-</span><span style=\"color: #008000; text-decoration-color: #008000; font-weight: bold\">01</span>\n",
       "</pre>\n"
      ],
      "text/plain": [
       " \u001b[1;32mCreating epochs: sub-\u001b[0m\u001b[1;32m03\u001b[0m\u001b[1;32m, ses-\u001b[0m\u001b[1;32m01\u001b[0m\n"
      ]
     },
     "metadata": {},
     "output_type": "display_data"
    },
    {
     "data": {
      "text/html": [
       "<pre style=\"white-space:pre;overflow-x:auto;line-height:normal;font-family:Menlo,'DejaVu Sans Mono',consolas,'Courier New',monospace\"><span style=\"color: #800000; text-decoration-color: #800000\">╭────────────────────────────────╮</span>\n",
       "<span style=\"color: #800000; text-decoration-color: #800000\">│</span>  <span style=\"color: #800000; text-decoration-color: #800000; font-weight: bold\">Initializing DataLoader Class</span> <span style=\"color: #800000; text-decoration-color: #800000\">│</span>\n",
       "<span style=\"color: #800000; text-decoration-color: #800000\">╰────────────────────────────────╯</span>\n",
       "</pre>\n"
      ],
      "text/plain": [
       "\u001b[31m╭────────────────────────────────╮\u001b[0m\n",
       "\u001b[31m│\u001b[0m  \u001b[1;31mInitializing DataLoader Class\u001b[0m \u001b[31m│\u001b[0m\n",
       "\u001b[31m╰────────────────────────────────╯\u001b[0m\n"
      ]
     },
     "metadata": {},
     "output_type": "display_data"
    },
    {
     "data": {
      "text/html": [
       "<pre style=\"white-space:pre;overflow-x:auto;line-height:normal;font-family:Menlo,'DejaVu Sans Mono',consolas,'Courier New',monospace\"> <span style=\"color: #008000; text-decoration-color: #008000; font-weight: bold\">Creating EPOCHS</span>\n",
       "</pre>\n"
      ],
      "text/plain": [
       " \u001b[1;32mCreating EPOCHS\u001b[0m\n"
      ]
     },
     "metadata": {},
     "output_type": "display_data"
    },
    {
     "data": {
      "text/html": [
       "<pre style=\"white-space:pre;overflow-x:auto;line-height:normal;font-family:Menlo,'DejaVu Sans Mono',consolas,'Courier New',monospace\"><span style=\"font-style: italic\">        Extraction Criteria        </span>\n",
       "┏━━━━━━━━━━━━━━━━━━━━┳━━━━━━━━━━━━┓\n",
       "┃<span style=\"font-weight: bold\"> Parameter          </span>┃<span style=\"font-weight: bold\"> Value      </span>┃\n",
       "┣━━━━━━━━━━━━━━━━━━━━╋━━━━━━━━━━━━┫\n",
       "┃<span style=\"color: #008080; text-decoration-color: #008080; font-weight: bold\"> 🧪 Trial Mode      </span>┃<span style=\"color: #808000; text-decoration-color: #808000; font-weight: bold\">            </span>┃\n",
       "┃<span style=\"color: #008080; text-decoration-color: #008080; font-weight: bold\"> 📏 Trial Unit      </span>┃<span style=\"color: #808000; text-decoration-color: #808000; font-weight: bold\"> Words      </span>┃\n",
       "┃<span style=\"color: #008080; text-decoration-color: #008080; font-weight: bold\"> 🔗 Experiment Mode </span>┃<span style=\"color: #808000; text-decoration-color: #808000; font-weight: bold\"> Experiment </span>┃\n",
       "┃<span style=\"color: #008080; text-decoration-color: #008080; font-weight: bold\"> 🎭 Trial Boundary  </span>┃<span style=\"color: #808000; text-decoration-color: #808000; font-weight: bold\"> Start      </span>┃\n",
       "┃<span style=\"color: #008080; text-decoration-color: #008080; font-weight: bold\"> 🔬 Trial Type      </span>┃<span style=\"color: #808000; text-decoration-color: #808000; font-weight: bold\"> Stimulus   </span>┃\n",
       "┃<span style=\"color: #008080; text-decoration-color: #008080; font-weight: bold\"> 📊 Modality        </span>┃<span style=\"color: #808000; text-decoration-color: #808000; font-weight: bold\"> Pictures   </span>┃\n",
       "┃<span style=\"color: #008080; text-decoration-color: #008080; font-weight: bold\"> ⏱ Tmin             </span>┃<span style=\"color: #808000; text-decoration-color: #808000; font-weight: bold\"> </span><span style=\"color: #008080; text-decoration-color: #008080; font-weight: bold\">-0.2</span><span style=\"color: #808000; text-decoration-color: #808000; font-weight: bold\">       </span>┃\n",
       "┃<span style=\"color: #008080; text-decoration-color: #008080; font-weight: bold\"> ⏳ Tmax            </span>┃<span style=\"color: #808000; text-decoration-color: #808000; font-weight: bold\"> </span><span style=\"color: #008080; text-decoration-color: #008080; font-weight: bold\">0.5</span><span style=\"color: #808000; text-decoration-color: #808000; font-weight: bold\">        </span>┃\n",
       "┗━━━━━━━━━━━━━━━━━━━━┻━━━━━━━━━━━━┛\n",
       "</pre>\n"
      ],
      "text/plain": [
       "\u001b[3m        Extraction Criteria        \u001b[0m\n",
       "┏━━━━━━━━━━━━━━━━━━━━┳━━━━━━━━━━━━┓\n",
       "┃\u001b[1m \u001b[0m\u001b[1mParameter         \u001b[0m\u001b[1m \u001b[0m┃\u001b[1m \u001b[0m\u001b[1mValue     \u001b[0m\u001b[1m \u001b[0m┃\n",
       "┣━━━━━━━━━━━━━━━━━━━━╋━━━━━━━━━━━━┫\n",
       "┃\u001b[1;36m \u001b[0m\u001b[1;36m🧪 Trial Mode     \u001b[0m\u001b[1;36m \u001b[0m┃\u001b[1;33m \u001b[0m\u001b[1;33m          \u001b[0m\u001b[1;33m \u001b[0m┃\n",
       "┃\u001b[1;36m \u001b[0m\u001b[1;36m📏 Trial Unit     \u001b[0m\u001b[1;36m \u001b[0m┃\u001b[1;33m \u001b[0m\u001b[1;33mWords     \u001b[0m\u001b[1;33m \u001b[0m┃\n",
       "┃\u001b[1;36m \u001b[0m\u001b[1;36m🔗 Experiment Mode\u001b[0m\u001b[1;36m \u001b[0m┃\u001b[1;33m \u001b[0m\u001b[1;33mExperiment\u001b[0m\u001b[1;33m \u001b[0m┃\n",
       "┃\u001b[1;36m \u001b[0m\u001b[1;36m🎭 Trial Boundary \u001b[0m\u001b[1;36m \u001b[0m┃\u001b[1;33m \u001b[0m\u001b[1;33mStart     \u001b[0m\u001b[1;33m \u001b[0m┃\n",
       "┃\u001b[1;36m \u001b[0m\u001b[1;36m🔬 Trial Type     \u001b[0m\u001b[1;36m \u001b[0m┃\u001b[1;33m \u001b[0m\u001b[1;33mStimulus  \u001b[0m\u001b[1;33m \u001b[0m┃\n",
       "┃\u001b[1;36m \u001b[0m\u001b[1;36m📊 Modality       \u001b[0m\u001b[1;36m \u001b[0m┃\u001b[1;33m \u001b[0m\u001b[1;33mPictures  \u001b[0m\u001b[1;33m \u001b[0m┃\n",
       "┃\u001b[1;36m \u001b[0m\u001b[1;36m⏱ Tmin            \u001b[0m\u001b[1;36m \u001b[0m┃\u001b[1;33m \u001b[0m\u001b[1;36m-0.2\u001b[0m\u001b[1;33m      \u001b[0m\u001b[1;33m \u001b[0m┃\n",
       "┃\u001b[1;36m \u001b[0m\u001b[1;36m⏳ Tmax           \u001b[0m\u001b[1;36m \u001b[0m┃\u001b[1;33m \u001b[0m\u001b[1;36m0.5\u001b[0m\u001b[1;33m       \u001b[0m\u001b[1;33m \u001b[0m┃\n",
       "┗━━━━━━━━━━━━━━━━━━━━┻━━━━━━━━━━━━┛\n"
      ]
     },
     "metadata": {},
     "output_type": "display_data"
    },
    {
     "name": "stdout",
     "output_type": "stream",
     "text": [
      "Not setting metadata\n",
      "130 matching events found\n",
      "Applying baseline correction (mode: mean)\n",
      "0 projection items activated\n",
      "Using data from preloaded Raw for 130 events and 701 original time points ...\n",
      "0 bad epochs dropped\n"
     ]
    },
    {
     "data": {
      "text/html": [
       "<pre style=\"white-space:pre;overflow-x:auto;line-height:normal;font-family:Menlo,'DejaVu Sans Mono',consolas,'Courier New',monospace\"> <span style=\"color: #008000; text-decoration-color: #008000; font-weight: bold\">Creating epochs: sub-</span><span style=\"color: #008000; text-decoration-color: #008000; font-weight: bold\">04</span><span style=\"color: #008000; text-decoration-color: #008000; font-weight: bold\">, ses-</span><span style=\"color: #008000; text-decoration-color: #008000; font-weight: bold\">01</span>\n",
       "</pre>\n"
      ],
      "text/plain": [
       " \u001b[1;32mCreating epochs: sub-\u001b[0m\u001b[1;32m04\u001b[0m\u001b[1;32m, ses-\u001b[0m\u001b[1;32m01\u001b[0m\n"
      ]
     },
     "metadata": {},
     "output_type": "display_data"
    },
    {
     "data": {
      "text/html": [
       "<pre style=\"white-space:pre;overflow-x:auto;line-height:normal;font-family:Menlo,'DejaVu Sans Mono',consolas,'Courier New',monospace\"><span style=\"color: #800000; text-decoration-color: #800000\">╭────────────────────────────────╮</span>\n",
       "<span style=\"color: #800000; text-decoration-color: #800000\">│</span>  <span style=\"color: #800000; text-decoration-color: #800000; font-weight: bold\">Initializing DataLoader Class</span> <span style=\"color: #800000; text-decoration-color: #800000\">│</span>\n",
       "<span style=\"color: #800000; text-decoration-color: #800000\">╰────────────────────────────────╯</span>\n",
       "</pre>\n"
      ],
      "text/plain": [
       "\u001b[31m╭────────────────────────────────╮\u001b[0m\n",
       "\u001b[31m│\u001b[0m  \u001b[1;31mInitializing DataLoader Class\u001b[0m \u001b[31m│\u001b[0m\n",
       "\u001b[31m╰────────────────────────────────╯\u001b[0m\n"
      ]
     },
     "metadata": {},
     "output_type": "display_data"
    },
    {
     "data": {
      "text/html": [
       "<pre style=\"white-space:pre;overflow-x:auto;line-height:normal;font-family:Menlo,'DejaVu Sans Mono',consolas,'Courier New',monospace\"> <span style=\"color: #008000; text-decoration-color: #008000; font-weight: bold\">Creating EPOCHS</span>\n",
       "</pre>\n"
      ],
      "text/plain": [
       " \u001b[1;32mCreating EPOCHS\u001b[0m\n"
      ]
     },
     "metadata": {},
     "output_type": "display_data"
    },
    {
     "data": {
      "text/html": [
       "<pre style=\"white-space:pre;overflow-x:auto;line-height:normal;font-family:Menlo,'DejaVu Sans Mono',consolas,'Courier New',monospace\"><span style=\"font-style: italic\">        Extraction Criteria        </span>\n",
       "┏━━━━━━━━━━━━━━━━━━━━┳━━━━━━━━━━━━┓\n",
       "┃<span style=\"font-weight: bold\"> Parameter          </span>┃<span style=\"font-weight: bold\"> Value      </span>┃\n",
       "┣━━━━━━━━━━━━━━━━━━━━╋━━━━━━━━━━━━┫\n",
       "┃<span style=\"color: #008080; text-decoration-color: #008080; font-weight: bold\"> 🧪 Trial Mode      </span>┃<span style=\"color: #808000; text-decoration-color: #808000; font-weight: bold\">            </span>┃\n",
       "┃<span style=\"color: #008080; text-decoration-color: #008080; font-weight: bold\"> 📏 Trial Unit      </span>┃<span style=\"color: #808000; text-decoration-color: #808000; font-weight: bold\"> Words      </span>┃\n",
       "┃<span style=\"color: #008080; text-decoration-color: #008080; font-weight: bold\"> 🔗 Experiment Mode </span>┃<span style=\"color: #808000; text-decoration-color: #808000; font-weight: bold\"> Experiment </span>┃\n",
       "┃<span style=\"color: #008080; text-decoration-color: #008080; font-weight: bold\"> 🎭 Trial Boundary  </span>┃<span style=\"color: #808000; text-decoration-color: #808000; font-weight: bold\"> Start      </span>┃\n",
       "┃<span style=\"color: #008080; text-decoration-color: #008080; font-weight: bold\"> 🔬 Trial Type      </span>┃<span style=\"color: #808000; text-decoration-color: #808000; font-weight: bold\"> Stimulus   </span>┃\n",
       "┃<span style=\"color: #008080; text-decoration-color: #008080; font-weight: bold\"> 📊 Modality        </span>┃<span style=\"color: #808000; text-decoration-color: #808000; font-weight: bold\"> Pictures   </span>┃\n",
       "┃<span style=\"color: #008080; text-decoration-color: #008080; font-weight: bold\"> ⏱ Tmin             </span>┃<span style=\"color: #808000; text-decoration-color: #808000; font-weight: bold\"> </span><span style=\"color: #008080; text-decoration-color: #008080; font-weight: bold\">-0.2</span><span style=\"color: #808000; text-decoration-color: #808000; font-weight: bold\">       </span>┃\n",
       "┃<span style=\"color: #008080; text-decoration-color: #008080; font-weight: bold\"> ⏳ Tmax            </span>┃<span style=\"color: #808000; text-decoration-color: #808000; font-weight: bold\"> </span><span style=\"color: #008080; text-decoration-color: #008080; font-weight: bold\">0.5</span><span style=\"color: #808000; text-decoration-color: #808000; font-weight: bold\">        </span>┃\n",
       "┗━━━━━━━━━━━━━━━━━━━━┻━━━━━━━━━━━━┛\n",
       "</pre>\n"
      ],
      "text/plain": [
       "\u001b[3m        Extraction Criteria        \u001b[0m\n",
       "┏━━━━━━━━━━━━━━━━━━━━┳━━━━━━━━━━━━┓\n",
       "┃\u001b[1m \u001b[0m\u001b[1mParameter         \u001b[0m\u001b[1m \u001b[0m┃\u001b[1m \u001b[0m\u001b[1mValue     \u001b[0m\u001b[1m \u001b[0m┃\n",
       "┣━━━━━━━━━━━━━━━━━━━━╋━━━━━━━━━━━━┫\n",
       "┃\u001b[1;36m \u001b[0m\u001b[1;36m🧪 Trial Mode     \u001b[0m\u001b[1;36m \u001b[0m┃\u001b[1;33m \u001b[0m\u001b[1;33m          \u001b[0m\u001b[1;33m \u001b[0m┃\n",
       "┃\u001b[1;36m \u001b[0m\u001b[1;36m📏 Trial Unit     \u001b[0m\u001b[1;36m \u001b[0m┃\u001b[1;33m \u001b[0m\u001b[1;33mWords     \u001b[0m\u001b[1;33m \u001b[0m┃\n",
       "┃\u001b[1;36m \u001b[0m\u001b[1;36m🔗 Experiment Mode\u001b[0m\u001b[1;36m \u001b[0m┃\u001b[1;33m \u001b[0m\u001b[1;33mExperiment\u001b[0m\u001b[1;33m \u001b[0m┃\n",
       "┃\u001b[1;36m \u001b[0m\u001b[1;36m🎭 Trial Boundary \u001b[0m\u001b[1;36m \u001b[0m┃\u001b[1;33m \u001b[0m\u001b[1;33mStart     \u001b[0m\u001b[1;33m \u001b[0m┃\n",
       "┃\u001b[1;36m \u001b[0m\u001b[1;36m🔬 Trial Type     \u001b[0m\u001b[1;36m \u001b[0m┃\u001b[1;33m \u001b[0m\u001b[1;33mStimulus  \u001b[0m\u001b[1;33m \u001b[0m┃\n",
       "┃\u001b[1;36m \u001b[0m\u001b[1;36m📊 Modality       \u001b[0m\u001b[1;36m \u001b[0m┃\u001b[1;33m \u001b[0m\u001b[1;33mPictures  \u001b[0m\u001b[1;33m \u001b[0m┃\n",
       "┃\u001b[1;36m \u001b[0m\u001b[1;36m⏱ Tmin            \u001b[0m\u001b[1;36m \u001b[0m┃\u001b[1;33m \u001b[0m\u001b[1;36m-0.2\u001b[0m\u001b[1;33m      \u001b[0m\u001b[1;33m \u001b[0m┃\n",
       "┃\u001b[1;36m \u001b[0m\u001b[1;36m⏳ Tmax           \u001b[0m\u001b[1;36m \u001b[0m┃\u001b[1;33m \u001b[0m\u001b[1;36m0.5\u001b[0m\u001b[1;33m       \u001b[0m\u001b[1;33m \u001b[0m┃\n",
       "┗━━━━━━━━━━━━━━━━━━━━┻━━━━━━━━━━━━┛\n"
      ]
     },
     "metadata": {},
     "output_type": "display_data"
    },
    {
     "name": "stdout",
     "output_type": "stream",
     "text": [
      "Not setting metadata\n",
      "130 matching events found\n",
      "Applying baseline correction (mode: mean)\n",
      "0 projection items activated\n",
      "Using data from preloaded Raw for 130 events and 701 original time points ...\n",
      "0 bad epochs dropped\n"
     ]
    },
    {
     "data": {
      "text/html": [
       "<pre style=\"white-space:pre;overflow-x:auto;line-height:normal;font-family:Menlo,'DejaVu Sans Mono',consolas,'Courier New',monospace\"> <span style=\"color: #008000; text-decoration-color: #008000; font-weight: bold\">Creating epochs: sub-</span><span style=\"color: #008000; text-decoration-color: #008000; font-weight: bold\">05</span><span style=\"color: #008000; text-decoration-color: #008000; font-weight: bold\">, ses-</span><span style=\"color: #008000; text-decoration-color: #008000; font-weight: bold\">01</span>\n",
       "</pre>\n"
      ],
      "text/plain": [
       " \u001b[1;32mCreating epochs: sub-\u001b[0m\u001b[1;32m05\u001b[0m\u001b[1;32m, ses-\u001b[0m\u001b[1;32m01\u001b[0m\n"
      ]
     },
     "metadata": {},
     "output_type": "display_data"
    },
    {
     "data": {
      "text/html": [
       "<pre style=\"white-space:pre;overflow-x:auto;line-height:normal;font-family:Menlo,'DejaVu Sans Mono',consolas,'Courier New',monospace\"><span style=\"color: #800000; text-decoration-color: #800000\">╭────────────────────────────────╮</span>\n",
       "<span style=\"color: #800000; text-decoration-color: #800000\">│</span>  <span style=\"color: #800000; text-decoration-color: #800000; font-weight: bold\">Initializing DataLoader Class</span> <span style=\"color: #800000; text-decoration-color: #800000\">│</span>\n",
       "<span style=\"color: #800000; text-decoration-color: #800000\">╰────────────────────────────────╯</span>\n",
       "</pre>\n"
      ],
      "text/plain": [
       "\u001b[31m╭────────────────────────────────╮\u001b[0m\n",
       "\u001b[31m│\u001b[0m  \u001b[1;31mInitializing DataLoader Class\u001b[0m \u001b[31m│\u001b[0m\n",
       "\u001b[31m╰────────────────────────────────╯\u001b[0m\n"
      ]
     },
     "metadata": {},
     "output_type": "display_data"
    },
    {
     "data": {
      "text/html": [
       "<pre style=\"white-space:pre;overflow-x:auto;line-height:normal;font-family:Menlo,'DejaVu Sans Mono',consolas,'Courier New',monospace\"> <span style=\"color: #008000; text-decoration-color: #008000; font-weight: bold\">Creating EPOCHS</span>\n",
       "</pre>\n"
      ],
      "text/plain": [
       " \u001b[1;32mCreating EPOCHS\u001b[0m\n"
      ]
     },
     "metadata": {},
     "output_type": "display_data"
    },
    {
     "data": {
      "text/html": [
       "<pre style=\"white-space:pre;overflow-x:auto;line-height:normal;font-family:Menlo,'DejaVu Sans Mono',consolas,'Courier New',monospace\"><span style=\"font-style: italic\">        Extraction Criteria        </span>\n",
       "┏━━━━━━━━━━━━━━━━━━━━┳━━━━━━━━━━━━┓\n",
       "┃<span style=\"font-weight: bold\"> Parameter          </span>┃<span style=\"font-weight: bold\"> Value      </span>┃\n",
       "┣━━━━━━━━━━━━━━━━━━━━╋━━━━━━━━━━━━┫\n",
       "┃<span style=\"color: #008080; text-decoration-color: #008080; font-weight: bold\"> 🧪 Trial Mode      </span>┃<span style=\"color: #808000; text-decoration-color: #808000; font-weight: bold\">            </span>┃\n",
       "┃<span style=\"color: #008080; text-decoration-color: #008080; font-weight: bold\"> 📏 Trial Unit      </span>┃<span style=\"color: #808000; text-decoration-color: #808000; font-weight: bold\"> Words      </span>┃\n",
       "┃<span style=\"color: #008080; text-decoration-color: #008080; font-weight: bold\"> 🔗 Experiment Mode </span>┃<span style=\"color: #808000; text-decoration-color: #808000; font-weight: bold\"> Experiment </span>┃\n",
       "┃<span style=\"color: #008080; text-decoration-color: #008080; font-weight: bold\"> 🎭 Trial Boundary  </span>┃<span style=\"color: #808000; text-decoration-color: #808000; font-weight: bold\"> Start      </span>┃\n",
       "┃<span style=\"color: #008080; text-decoration-color: #008080; font-weight: bold\"> 🔬 Trial Type      </span>┃<span style=\"color: #808000; text-decoration-color: #808000; font-weight: bold\"> Stimulus   </span>┃\n",
       "┃<span style=\"color: #008080; text-decoration-color: #008080; font-weight: bold\"> 📊 Modality        </span>┃<span style=\"color: #808000; text-decoration-color: #808000; font-weight: bold\"> Pictures   </span>┃\n",
       "┃<span style=\"color: #008080; text-decoration-color: #008080; font-weight: bold\"> ⏱ Tmin             </span>┃<span style=\"color: #808000; text-decoration-color: #808000; font-weight: bold\"> </span><span style=\"color: #008080; text-decoration-color: #008080; font-weight: bold\">-0.2</span><span style=\"color: #808000; text-decoration-color: #808000; font-weight: bold\">       </span>┃\n",
       "┃<span style=\"color: #008080; text-decoration-color: #008080; font-weight: bold\"> ⏳ Tmax            </span>┃<span style=\"color: #808000; text-decoration-color: #808000; font-weight: bold\"> </span><span style=\"color: #008080; text-decoration-color: #008080; font-weight: bold\">0.5</span><span style=\"color: #808000; text-decoration-color: #808000; font-weight: bold\">        </span>┃\n",
       "┗━━━━━━━━━━━━━━━━━━━━┻━━━━━━━━━━━━┛\n",
       "</pre>\n"
      ],
      "text/plain": [
       "\u001b[3m        Extraction Criteria        \u001b[0m\n",
       "┏━━━━━━━━━━━━━━━━━━━━┳━━━━━━━━━━━━┓\n",
       "┃\u001b[1m \u001b[0m\u001b[1mParameter         \u001b[0m\u001b[1m \u001b[0m┃\u001b[1m \u001b[0m\u001b[1mValue     \u001b[0m\u001b[1m \u001b[0m┃\n",
       "┣━━━━━━━━━━━━━━━━━━━━╋━━━━━━━━━━━━┫\n",
       "┃\u001b[1;36m \u001b[0m\u001b[1;36m🧪 Trial Mode     \u001b[0m\u001b[1;36m \u001b[0m┃\u001b[1;33m \u001b[0m\u001b[1;33m          \u001b[0m\u001b[1;33m \u001b[0m┃\n",
       "┃\u001b[1;36m \u001b[0m\u001b[1;36m📏 Trial Unit     \u001b[0m\u001b[1;36m \u001b[0m┃\u001b[1;33m \u001b[0m\u001b[1;33mWords     \u001b[0m\u001b[1;33m \u001b[0m┃\n",
       "┃\u001b[1;36m \u001b[0m\u001b[1;36m🔗 Experiment Mode\u001b[0m\u001b[1;36m \u001b[0m┃\u001b[1;33m \u001b[0m\u001b[1;33mExperiment\u001b[0m\u001b[1;33m \u001b[0m┃\n",
       "┃\u001b[1;36m \u001b[0m\u001b[1;36m🎭 Trial Boundary \u001b[0m\u001b[1;36m \u001b[0m┃\u001b[1;33m \u001b[0m\u001b[1;33mStart     \u001b[0m\u001b[1;33m \u001b[0m┃\n",
       "┃\u001b[1;36m \u001b[0m\u001b[1;36m🔬 Trial Type     \u001b[0m\u001b[1;36m \u001b[0m┃\u001b[1;33m \u001b[0m\u001b[1;33mStimulus  \u001b[0m\u001b[1;33m \u001b[0m┃\n",
       "┃\u001b[1;36m \u001b[0m\u001b[1;36m📊 Modality       \u001b[0m\u001b[1;36m \u001b[0m┃\u001b[1;33m \u001b[0m\u001b[1;33mPictures  \u001b[0m\u001b[1;33m \u001b[0m┃\n",
       "┃\u001b[1;36m \u001b[0m\u001b[1;36m⏱ Tmin            \u001b[0m\u001b[1;36m \u001b[0m┃\u001b[1;33m \u001b[0m\u001b[1;36m-0.2\u001b[0m\u001b[1;33m      \u001b[0m\u001b[1;33m \u001b[0m┃\n",
       "┃\u001b[1;36m \u001b[0m\u001b[1;36m⏳ Tmax           \u001b[0m\u001b[1;36m \u001b[0m┃\u001b[1;33m \u001b[0m\u001b[1;36m0.5\u001b[0m\u001b[1;33m       \u001b[0m\u001b[1;33m \u001b[0m┃\n",
       "┗━━━━━━━━━━━━━━━━━━━━┻━━━━━━━━━━━━┛\n"
      ]
     },
     "metadata": {},
     "output_type": "display_data"
    },
    {
     "name": "stdout",
     "output_type": "stream",
     "text": [
      "Not setting metadata\n",
      "130 matching events found\n",
      "Applying baseline correction (mode: mean)\n",
      "0 projection items activated\n",
      "Using data from preloaded Raw for 130 events and 701 original time points ...\n",
      "0 bad epochs dropped\n"
     ]
    },
    {
     "data": {
      "text/html": [
       "<pre style=\"white-space:pre;overflow-x:auto;line-height:normal;font-family:Menlo,'DejaVu Sans Mono',consolas,'Courier New',monospace\"> <span style=\"color: #008000; text-decoration-color: #008000; font-weight: bold\">Creating epochs: sub-</span><span style=\"color: #008000; text-decoration-color: #008000; font-weight: bold\">06</span><span style=\"color: #008000; text-decoration-color: #008000; font-weight: bold\">, ses-</span><span style=\"color: #008000; text-decoration-color: #008000; font-weight: bold\">01</span>\n",
       "</pre>\n"
      ],
      "text/plain": [
       " \u001b[1;32mCreating epochs: sub-\u001b[0m\u001b[1;32m06\u001b[0m\u001b[1;32m, ses-\u001b[0m\u001b[1;32m01\u001b[0m\n"
      ]
     },
     "metadata": {},
     "output_type": "display_data"
    },
    {
     "data": {
      "text/html": [
       "<pre style=\"white-space:pre;overflow-x:auto;line-height:normal;font-family:Menlo,'DejaVu Sans Mono',consolas,'Courier New',monospace\"><span style=\"color: #800000; text-decoration-color: #800000\">╭────────────────────────────────╮</span>\n",
       "<span style=\"color: #800000; text-decoration-color: #800000\">│</span>  <span style=\"color: #800000; text-decoration-color: #800000; font-weight: bold\">Initializing DataLoader Class</span> <span style=\"color: #800000; text-decoration-color: #800000\">│</span>\n",
       "<span style=\"color: #800000; text-decoration-color: #800000\">╰────────────────────────────────╯</span>\n",
       "</pre>\n"
      ],
      "text/plain": [
       "\u001b[31m╭────────────────────────────────╮\u001b[0m\n",
       "\u001b[31m│\u001b[0m  \u001b[1;31mInitializing DataLoader Class\u001b[0m \u001b[31m│\u001b[0m\n",
       "\u001b[31m╰────────────────────────────────╯\u001b[0m\n"
      ]
     },
     "metadata": {},
     "output_type": "display_data"
    },
    {
     "data": {
      "text/html": [
       "<pre style=\"white-space:pre;overflow-x:auto;line-height:normal;font-family:Menlo,'DejaVu Sans Mono',consolas,'Courier New',monospace\"> <span style=\"color: #008000; text-decoration-color: #008000; font-weight: bold\">Creating EPOCHS</span>\n",
       "</pre>\n"
      ],
      "text/plain": [
       " \u001b[1;32mCreating EPOCHS\u001b[0m\n"
      ]
     },
     "metadata": {},
     "output_type": "display_data"
    },
    {
     "data": {
      "text/html": [
       "<pre style=\"white-space:pre;overflow-x:auto;line-height:normal;font-family:Menlo,'DejaVu Sans Mono',consolas,'Courier New',monospace\"><span style=\"font-style: italic\">        Extraction Criteria        </span>\n",
       "┏━━━━━━━━━━━━━━━━━━━━┳━━━━━━━━━━━━┓\n",
       "┃<span style=\"font-weight: bold\"> Parameter          </span>┃<span style=\"font-weight: bold\"> Value      </span>┃\n",
       "┣━━━━━━━━━━━━━━━━━━━━╋━━━━━━━━━━━━┫\n",
       "┃<span style=\"color: #008080; text-decoration-color: #008080; font-weight: bold\"> 🧪 Trial Mode      </span>┃<span style=\"color: #808000; text-decoration-color: #808000; font-weight: bold\">            </span>┃\n",
       "┃<span style=\"color: #008080; text-decoration-color: #008080; font-weight: bold\"> 📏 Trial Unit      </span>┃<span style=\"color: #808000; text-decoration-color: #808000; font-weight: bold\"> Words      </span>┃\n",
       "┃<span style=\"color: #008080; text-decoration-color: #008080; font-weight: bold\"> 🔗 Experiment Mode </span>┃<span style=\"color: #808000; text-decoration-color: #808000; font-weight: bold\"> Experiment </span>┃\n",
       "┃<span style=\"color: #008080; text-decoration-color: #008080; font-weight: bold\"> 🎭 Trial Boundary  </span>┃<span style=\"color: #808000; text-decoration-color: #808000; font-weight: bold\"> Start      </span>┃\n",
       "┃<span style=\"color: #008080; text-decoration-color: #008080; font-weight: bold\"> 🔬 Trial Type      </span>┃<span style=\"color: #808000; text-decoration-color: #808000; font-weight: bold\"> Stimulus   </span>┃\n",
       "┃<span style=\"color: #008080; text-decoration-color: #008080; font-weight: bold\"> 📊 Modality        </span>┃<span style=\"color: #808000; text-decoration-color: #808000; font-weight: bold\"> Pictures   </span>┃\n",
       "┃<span style=\"color: #008080; text-decoration-color: #008080; font-weight: bold\"> ⏱ Tmin             </span>┃<span style=\"color: #808000; text-decoration-color: #808000; font-weight: bold\"> </span><span style=\"color: #008080; text-decoration-color: #008080; font-weight: bold\">-0.2</span><span style=\"color: #808000; text-decoration-color: #808000; font-weight: bold\">       </span>┃\n",
       "┃<span style=\"color: #008080; text-decoration-color: #008080; font-weight: bold\"> ⏳ Tmax            </span>┃<span style=\"color: #808000; text-decoration-color: #808000; font-weight: bold\"> </span><span style=\"color: #008080; text-decoration-color: #008080; font-weight: bold\">0.5</span><span style=\"color: #808000; text-decoration-color: #808000; font-weight: bold\">        </span>┃\n",
       "┗━━━━━━━━━━━━━━━━━━━━┻━━━━━━━━━━━━┛\n",
       "</pre>\n"
      ],
      "text/plain": [
       "\u001b[3m        Extraction Criteria        \u001b[0m\n",
       "┏━━━━━━━━━━━━━━━━━━━━┳━━━━━━━━━━━━┓\n",
       "┃\u001b[1m \u001b[0m\u001b[1mParameter         \u001b[0m\u001b[1m \u001b[0m┃\u001b[1m \u001b[0m\u001b[1mValue     \u001b[0m\u001b[1m \u001b[0m┃\n",
       "┣━━━━━━━━━━━━━━━━━━━━╋━━━━━━━━━━━━┫\n",
       "┃\u001b[1;36m \u001b[0m\u001b[1;36m🧪 Trial Mode     \u001b[0m\u001b[1;36m \u001b[0m┃\u001b[1;33m \u001b[0m\u001b[1;33m          \u001b[0m\u001b[1;33m \u001b[0m┃\n",
       "┃\u001b[1;36m \u001b[0m\u001b[1;36m📏 Trial Unit     \u001b[0m\u001b[1;36m \u001b[0m┃\u001b[1;33m \u001b[0m\u001b[1;33mWords     \u001b[0m\u001b[1;33m \u001b[0m┃\n",
       "┃\u001b[1;36m \u001b[0m\u001b[1;36m🔗 Experiment Mode\u001b[0m\u001b[1;36m \u001b[0m┃\u001b[1;33m \u001b[0m\u001b[1;33mExperiment\u001b[0m\u001b[1;33m \u001b[0m┃\n",
       "┃\u001b[1;36m \u001b[0m\u001b[1;36m🎭 Trial Boundary \u001b[0m\u001b[1;36m \u001b[0m┃\u001b[1;33m \u001b[0m\u001b[1;33mStart     \u001b[0m\u001b[1;33m \u001b[0m┃\n",
       "┃\u001b[1;36m \u001b[0m\u001b[1;36m🔬 Trial Type     \u001b[0m\u001b[1;36m \u001b[0m┃\u001b[1;33m \u001b[0m\u001b[1;33mStimulus  \u001b[0m\u001b[1;33m \u001b[0m┃\n",
       "┃\u001b[1;36m \u001b[0m\u001b[1;36m📊 Modality       \u001b[0m\u001b[1;36m \u001b[0m┃\u001b[1;33m \u001b[0m\u001b[1;33mPictures  \u001b[0m\u001b[1;33m \u001b[0m┃\n",
       "┃\u001b[1;36m \u001b[0m\u001b[1;36m⏱ Tmin            \u001b[0m\u001b[1;36m \u001b[0m┃\u001b[1;33m \u001b[0m\u001b[1;36m-0.2\u001b[0m\u001b[1;33m      \u001b[0m\u001b[1;33m \u001b[0m┃\n",
       "┃\u001b[1;36m \u001b[0m\u001b[1;36m⏳ Tmax           \u001b[0m\u001b[1;36m \u001b[0m┃\u001b[1;33m \u001b[0m\u001b[1;36m0.5\u001b[0m\u001b[1;33m       \u001b[0m\u001b[1;33m \u001b[0m┃\n",
       "┗━━━━━━━━━━━━━━━━━━━━┻━━━━━━━━━━━━┛\n"
      ]
     },
     "metadata": {},
     "output_type": "display_data"
    },
    {
     "name": "stdout",
     "output_type": "stream",
     "text": [
      "Not setting metadata\n",
      "130 matching events found\n",
      "Applying baseline correction (mode: mean)\n",
      "0 projection items activated\n",
      "Using data from preloaded Raw for 130 events and 701 original time points ...\n",
      "0 bad epochs dropped\n"
     ]
    },
    {
     "data": {
      "text/html": [
       "<pre style=\"white-space:pre;overflow-x:auto;line-height:normal;font-family:Menlo,'DejaVu Sans Mono',consolas,'Courier New',monospace\"> <span style=\"color: #008000; text-decoration-color: #008000; font-weight: bold\">Creating epochs: sub-</span><span style=\"color: #008000; text-decoration-color: #008000; font-weight: bold\">07</span><span style=\"color: #008000; text-decoration-color: #008000; font-weight: bold\">, ses-</span><span style=\"color: #008000; text-decoration-color: #008000; font-weight: bold\">01</span>\n",
       "</pre>\n"
      ],
      "text/plain": [
       " \u001b[1;32mCreating epochs: sub-\u001b[0m\u001b[1;32m07\u001b[0m\u001b[1;32m, ses-\u001b[0m\u001b[1;32m01\u001b[0m\n"
      ]
     },
     "metadata": {},
     "output_type": "display_data"
    },
    {
     "data": {
      "text/html": [
       "<pre style=\"white-space:pre;overflow-x:auto;line-height:normal;font-family:Menlo,'DejaVu Sans Mono',consolas,'Courier New',monospace\"><span style=\"color: #800000; text-decoration-color: #800000\">╭────────────────────────────────╮</span>\n",
       "<span style=\"color: #800000; text-decoration-color: #800000\">│</span>  <span style=\"color: #800000; text-decoration-color: #800000; font-weight: bold\">Initializing DataLoader Class</span> <span style=\"color: #800000; text-decoration-color: #800000\">│</span>\n",
       "<span style=\"color: #800000; text-decoration-color: #800000\">╰────────────────────────────────╯</span>\n",
       "</pre>\n"
      ],
      "text/plain": [
       "\u001b[31m╭────────────────────────────────╮\u001b[0m\n",
       "\u001b[31m│\u001b[0m  \u001b[1;31mInitializing DataLoader Class\u001b[0m \u001b[31m│\u001b[0m\n",
       "\u001b[31m╰────────────────────────────────╯\u001b[0m\n"
      ]
     },
     "metadata": {},
     "output_type": "display_data"
    },
    {
     "data": {
      "text/html": [
       "<pre style=\"white-space:pre;overflow-x:auto;line-height:normal;font-family:Menlo,'DejaVu Sans Mono',consolas,'Courier New',monospace\"> <span style=\"color: #008000; text-decoration-color: #008000; font-weight: bold\">Creating EPOCHS</span>\n",
       "</pre>\n"
      ],
      "text/plain": [
       " \u001b[1;32mCreating EPOCHS\u001b[0m\n"
      ]
     },
     "metadata": {},
     "output_type": "display_data"
    },
    {
     "data": {
      "text/html": [
       "<pre style=\"white-space:pre;overflow-x:auto;line-height:normal;font-family:Menlo,'DejaVu Sans Mono',consolas,'Courier New',monospace\"><span style=\"font-style: italic\">        Extraction Criteria        </span>\n",
       "┏━━━━━━━━━━━━━━━━━━━━┳━━━━━━━━━━━━┓\n",
       "┃<span style=\"font-weight: bold\"> Parameter          </span>┃<span style=\"font-weight: bold\"> Value      </span>┃\n",
       "┣━━━━━━━━━━━━━━━━━━━━╋━━━━━━━━━━━━┫\n",
       "┃<span style=\"color: #008080; text-decoration-color: #008080; font-weight: bold\"> 🧪 Trial Mode      </span>┃<span style=\"color: #808000; text-decoration-color: #808000; font-weight: bold\">            </span>┃\n",
       "┃<span style=\"color: #008080; text-decoration-color: #008080; font-weight: bold\"> 📏 Trial Unit      </span>┃<span style=\"color: #808000; text-decoration-color: #808000; font-weight: bold\"> Words      </span>┃\n",
       "┃<span style=\"color: #008080; text-decoration-color: #008080; font-weight: bold\"> 🔗 Experiment Mode </span>┃<span style=\"color: #808000; text-decoration-color: #808000; font-weight: bold\"> Experiment </span>┃\n",
       "┃<span style=\"color: #008080; text-decoration-color: #008080; font-weight: bold\"> 🎭 Trial Boundary  </span>┃<span style=\"color: #808000; text-decoration-color: #808000; font-weight: bold\"> Start      </span>┃\n",
       "┃<span style=\"color: #008080; text-decoration-color: #008080; font-weight: bold\"> 🔬 Trial Type      </span>┃<span style=\"color: #808000; text-decoration-color: #808000; font-weight: bold\"> Stimulus   </span>┃\n",
       "┃<span style=\"color: #008080; text-decoration-color: #008080; font-weight: bold\"> 📊 Modality        </span>┃<span style=\"color: #808000; text-decoration-color: #808000; font-weight: bold\"> Pictures   </span>┃\n",
       "┃<span style=\"color: #008080; text-decoration-color: #008080; font-weight: bold\"> ⏱ Tmin             </span>┃<span style=\"color: #808000; text-decoration-color: #808000; font-weight: bold\"> </span><span style=\"color: #008080; text-decoration-color: #008080; font-weight: bold\">-0.2</span><span style=\"color: #808000; text-decoration-color: #808000; font-weight: bold\">       </span>┃\n",
       "┃<span style=\"color: #008080; text-decoration-color: #008080; font-weight: bold\"> ⏳ Tmax            </span>┃<span style=\"color: #808000; text-decoration-color: #808000; font-weight: bold\"> </span><span style=\"color: #008080; text-decoration-color: #008080; font-weight: bold\">0.5</span><span style=\"color: #808000; text-decoration-color: #808000; font-weight: bold\">        </span>┃\n",
       "┗━━━━━━━━━━━━━━━━━━━━┻━━━━━━━━━━━━┛\n",
       "</pre>\n"
      ],
      "text/plain": [
       "\u001b[3m        Extraction Criteria        \u001b[0m\n",
       "┏━━━━━━━━━━━━━━━━━━━━┳━━━━━━━━━━━━┓\n",
       "┃\u001b[1m \u001b[0m\u001b[1mParameter         \u001b[0m\u001b[1m \u001b[0m┃\u001b[1m \u001b[0m\u001b[1mValue     \u001b[0m\u001b[1m \u001b[0m┃\n",
       "┣━━━━━━━━━━━━━━━━━━━━╋━━━━━━━━━━━━┫\n",
       "┃\u001b[1;36m \u001b[0m\u001b[1;36m🧪 Trial Mode     \u001b[0m\u001b[1;36m \u001b[0m┃\u001b[1;33m \u001b[0m\u001b[1;33m          \u001b[0m\u001b[1;33m \u001b[0m┃\n",
       "┃\u001b[1;36m \u001b[0m\u001b[1;36m📏 Trial Unit     \u001b[0m\u001b[1;36m \u001b[0m┃\u001b[1;33m \u001b[0m\u001b[1;33mWords     \u001b[0m\u001b[1;33m \u001b[0m┃\n",
       "┃\u001b[1;36m \u001b[0m\u001b[1;36m🔗 Experiment Mode\u001b[0m\u001b[1;36m \u001b[0m┃\u001b[1;33m \u001b[0m\u001b[1;33mExperiment\u001b[0m\u001b[1;33m \u001b[0m┃\n",
       "┃\u001b[1;36m \u001b[0m\u001b[1;36m🎭 Trial Boundary \u001b[0m\u001b[1;36m \u001b[0m┃\u001b[1;33m \u001b[0m\u001b[1;33mStart     \u001b[0m\u001b[1;33m \u001b[0m┃\n",
       "┃\u001b[1;36m \u001b[0m\u001b[1;36m🔬 Trial Type     \u001b[0m\u001b[1;36m \u001b[0m┃\u001b[1;33m \u001b[0m\u001b[1;33mStimulus  \u001b[0m\u001b[1;33m \u001b[0m┃\n",
       "┃\u001b[1;36m \u001b[0m\u001b[1;36m📊 Modality       \u001b[0m\u001b[1;36m \u001b[0m┃\u001b[1;33m \u001b[0m\u001b[1;33mPictures  \u001b[0m\u001b[1;33m \u001b[0m┃\n",
       "┃\u001b[1;36m \u001b[0m\u001b[1;36m⏱ Tmin            \u001b[0m\u001b[1;36m \u001b[0m┃\u001b[1;33m \u001b[0m\u001b[1;36m-0.2\u001b[0m\u001b[1;33m      \u001b[0m\u001b[1;33m \u001b[0m┃\n",
       "┃\u001b[1;36m \u001b[0m\u001b[1;36m⏳ Tmax           \u001b[0m\u001b[1;36m \u001b[0m┃\u001b[1;33m \u001b[0m\u001b[1;36m0.5\u001b[0m\u001b[1;33m       \u001b[0m\u001b[1;33m \u001b[0m┃\n",
       "┗━━━━━━━━━━━━━━━━━━━━┻━━━━━━━━━━━━┛\n"
      ]
     },
     "metadata": {},
     "output_type": "display_data"
    },
    {
     "name": "stdout",
     "output_type": "stream",
     "text": [
      "Not setting metadata\n",
      "130 matching events found\n",
      "Applying baseline correction (mode: mean)\n",
      "0 projection items activated\n",
      "Using data from preloaded Raw for 130 events and 701 original time points ...\n",
      "0 bad epochs dropped\n"
     ]
    },
    {
     "data": {
      "text/html": [
       "<pre style=\"white-space:pre;overflow-x:auto;line-height:normal;font-family:Menlo,'DejaVu Sans Mono',consolas,'Courier New',monospace\"> <span style=\"color: #008000; text-decoration-color: #008000; font-weight: bold\">Creating epochs: sub-</span><span style=\"color: #008000; text-decoration-color: #008000; font-weight: bold\">08</span><span style=\"color: #008000; text-decoration-color: #008000; font-weight: bold\">, ses-</span><span style=\"color: #008000; text-decoration-color: #008000; font-weight: bold\">01</span>\n",
       "</pre>\n"
      ],
      "text/plain": [
       " \u001b[1;32mCreating epochs: sub-\u001b[0m\u001b[1;32m08\u001b[0m\u001b[1;32m, ses-\u001b[0m\u001b[1;32m01\u001b[0m\n"
      ]
     },
     "metadata": {},
     "output_type": "display_data"
    },
    {
     "data": {
      "text/html": [
       "<pre style=\"white-space:pre;overflow-x:auto;line-height:normal;font-family:Menlo,'DejaVu Sans Mono',consolas,'Courier New',monospace\"><span style=\"color: #800000; text-decoration-color: #800000\">╭────────────────────────────────╮</span>\n",
       "<span style=\"color: #800000; text-decoration-color: #800000\">│</span>  <span style=\"color: #800000; text-decoration-color: #800000; font-weight: bold\">Initializing DataLoader Class</span> <span style=\"color: #800000; text-decoration-color: #800000\">│</span>\n",
       "<span style=\"color: #800000; text-decoration-color: #800000\">╰────────────────────────────────╯</span>\n",
       "</pre>\n"
      ],
      "text/plain": [
       "\u001b[31m╭────────────────────────────────╮\u001b[0m\n",
       "\u001b[31m│\u001b[0m  \u001b[1;31mInitializing DataLoader Class\u001b[0m \u001b[31m│\u001b[0m\n",
       "\u001b[31m╰────────────────────────────────╯\u001b[0m\n"
      ]
     },
     "metadata": {},
     "output_type": "display_data"
    },
    {
     "data": {
      "text/html": [
       "<pre style=\"white-space:pre;overflow-x:auto;line-height:normal;font-family:Menlo,'DejaVu Sans Mono',consolas,'Courier New',monospace\"> <span style=\"color: #008000; text-decoration-color: #008000; font-weight: bold\">Creating EPOCHS</span>\n",
       "</pre>\n"
      ],
      "text/plain": [
       " \u001b[1;32mCreating EPOCHS\u001b[0m\n"
      ]
     },
     "metadata": {},
     "output_type": "display_data"
    },
    {
     "data": {
      "text/html": [
       "<pre style=\"white-space:pre;overflow-x:auto;line-height:normal;font-family:Menlo,'DejaVu Sans Mono',consolas,'Courier New',monospace\"><span style=\"font-style: italic\">        Extraction Criteria        </span>\n",
       "┏━━━━━━━━━━━━━━━━━━━━┳━━━━━━━━━━━━┓\n",
       "┃<span style=\"font-weight: bold\"> Parameter          </span>┃<span style=\"font-weight: bold\"> Value      </span>┃\n",
       "┣━━━━━━━━━━━━━━━━━━━━╋━━━━━━━━━━━━┫\n",
       "┃<span style=\"color: #008080; text-decoration-color: #008080; font-weight: bold\"> 🧪 Trial Mode      </span>┃<span style=\"color: #808000; text-decoration-color: #808000; font-weight: bold\">            </span>┃\n",
       "┃<span style=\"color: #008080; text-decoration-color: #008080; font-weight: bold\"> 📏 Trial Unit      </span>┃<span style=\"color: #808000; text-decoration-color: #808000; font-weight: bold\"> Words      </span>┃\n",
       "┃<span style=\"color: #008080; text-decoration-color: #008080; font-weight: bold\"> 🔗 Experiment Mode </span>┃<span style=\"color: #808000; text-decoration-color: #808000; font-weight: bold\"> Experiment </span>┃\n",
       "┃<span style=\"color: #008080; text-decoration-color: #008080; font-weight: bold\"> 🎭 Trial Boundary  </span>┃<span style=\"color: #808000; text-decoration-color: #808000; font-weight: bold\"> Start      </span>┃\n",
       "┃<span style=\"color: #008080; text-decoration-color: #008080; font-weight: bold\"> 🔬 Trial Type      </span>┃<span style=\"color: #808000; text-decoration-color: #808000; font-weight: bold\"> Stimulus   </span>┃\n",
       "┃<span style=\"color: #008080; text-decoration-color: #008080; font-weight: bold\"> 📊 Modality        </span>┃<span style=\"color: #808000; text-decoration-color: #808000; font-weight: bold\"> Pictures   </span>┃\n",
       "┃<span style=\"color: #008080; text-decoration-color: #008080; font-weight: bold\"> ⏱ Tmin             </span>┃<span style=\"color: #808000; text-decoration-color: #808000; font-weight: bold\"> </span><span style=\"color: #008080; text-decoration-color: #008080; font-weight: bold\">-0.2</span><span style=\"color: #808000; text-decoration-color: #808000; font-weight: bold\">       </span>┃\n",
       "┃<span style=\"color: #008080; text-decoration-color: #008080; font-weight: bold\"> ⏳ Tmax            </span>┃<span style=\"color: #808000; text-decoration-color: #808000; font-weight: bold\"> </span><span style=\"color: #008080; text-decoration-color: #008080; font-weight: bold\">0.5</span><span style=\"color: #808000; text-decoration-color: #808000; font-weight: bold\">        </span>┃\n",
       "┗━━━━━━━━━━━━━━━━━━━━┻━━━━━━━━━━━━┛\n",
       "</pre>\n"
      ],
      "text/plain": [
       "\u001b[3m        Extraction Criteria        \u001b[0m\n",
       "┏━━━━━━━━━━━━━━━━━━━━┳━━━━━━━━━━━━┓\n",
       "┃\u001b[1m \u001b[0m\u001b[1mParameter         \u001b[0m\u001b[1m \u001b[0m┃\u001b[1m \u001b[0m\u001b[1mValue     \u001b[0m\u001b[1m \u001b[0m┃\n",
       "┣━━━━━━━━━━━━━━━━━━━━╋━━━━━━━━━━━━┫\n",
       "┃\u001b[1;36m \u001b[0m\u001b[1;36m🧪 Trial Mode     \u001b[0m\u001b[1;36m \u001b[0m┃\u001b[1;33m \u001b[0m\u001b[1;33m          \u001b[0m\u001b[1;33m \u001b[0m┃\n",
       "┃\u001b[1;36m \u001b[0m\u001b[1;36m📏 Trial Unit     \u001b[0m\u001b[1;36m \u001b[0m┃\u001b[1;33m \u001b[0m\u001b[1;33mWords     \u001b[0m\u001b[1;33m \u001b[0m┃\n",
       "┃\u001b[1;36m \u001b[0m\u001b[1;36m🔗 Experiment Mode\u001b[0m\u001b[1;36m \u001b[0m┃\u001b[1;33m \u001b[0m\u001b[1;33mExperiment\u001b[0m\u001b[1;33m \u001b[0m┃\n",
       "┃\u001b[1;36m \u001b[0m\u001b[1;36m🎭 Trial Boundary \u001b[0m\u001b[1;36m \u001b[0m┃\u001b[1;33m \u001b[0m\u001b[1;33mStart     \u001b[0m\u001b[1;33m \u001b[0m┃\n",
       "┃\u001b[1;36m \u001b[0m\u001b[1;36m🔬 Trial Type     \u001b[0m\u001b[1;36m \u001b[0m┃\u001b[1;33m \u001b[0m\u001b[1;33mStimulus  \u001b[0m\u001b[1;33m \u001b[0m┃\n",
       "┃\u001b[1;36m \u001b[0m\u001b[1;36m📊 Modality       \u001b[0m\u001b[1;36m \u001b[0m┃\u001b[1;33m \u001b[0m\u001b[1;33mPictures  \u001b[0m\u001b[1;33m \u001b[0m┃\n",
       "┃\u001b[1;36m \u001b[0m\u001b[1;36m⏱ Tmin            \u001b[0m\u001b[1;36m \u001b[0m┃\u001b[1;33m \u001b[0m\u001b[1;36m-0.2\u001b[0m\u001b[1;33m      \u001b[0m\u001b[1;33m \u001b[0m┃\n",
       "┃\u001b[1;36m \u001b[0m\u001b[1;36m⏳ Tmax           \u001b[0m\u001b[1;36m \u001b[0m┃\u001b[1;33m \u001b[0m\u001b[1;36m0.5\u001b[0m\u001b[1;33m       \u001b[0m\u001b[1;33m \u001b[0m┃\n",
       "┗━━━━━━━━━━━━━━━━━━━━┻━━━━━━━━━━━━┛\n"
      ]
     },
     "metadata": {},
     "output_type": "display_data"
    },
    {
     "name": "stdout",
     "output_type": "stream",
     "text": [
      "Not setting metadata\n",
      "130 matching events found\n",
      "Applying baseline correction (mode: mean)\n",
      "0 projection items activated\n",
      "Using data from preloaded Raw for 130 events and 701 original time points ...\n",
      "0 bad epochs dropped\n"
     ]
    },
    {
     "data": {
      "text/html": [
       "<pre style=\"white-space:pre;overflow-x:auto;line-height:normal;font-family:Menlo,'DejaVu Sans Mono',consolas,'Courier New',monospace\"> <span style=\"color: #008000; text-decoration-color: #008000; font-weight: bold\">Creating epochs: sub-</span><span style=\"color: #008000; text-decoration-color: #008000; font-weight: bold\">09</span><span style=\"color: #008000; text-decoration-color: #008000; font-weight: bold\">, ses-</span><span style=\"color: #008000; text-decoration-color: #008000; font-weight: bold\">01</span>\n",
       "</pre>\n"
      ],
      "text/plain": [
       " \u001b[1;32mCreating epochs: sub-\u001b[0m\u001b[1;32m09\u001b[0m\u001b[1;32m, ses-\u001b[0m\u001b[1;32m01\u001b[0m\n"
      ]
     },
     "metadata": {},
     "output_type": "display_data"
    },
    {
     "data": {
      "text/html": [
       "<pre style=\"white-space:pre;overflow-x:auto;line-height:normal;font-family:Menlo,'DejaVu Sans Mono',consolas,'Courier New',monospace\"><span style=\"color: #800000; text-decoration-color: #800000\">╭────────────────────────────────╮</span>\n",
       "<span style=\"color: #800000; text-decoration-color: #800000\">│</span>  <span style=\"color: #800000; text-decoration-color: #800000; font-weight: bold\">Initializing DataLoader Class</span> <span style=\"color: #800000; text-decoration-color: #800000\">│</span>\n",
       "<span style=\"color: #800000; text-decoration-color: #800000\">╰────────────────────────────────╯</span>\n",
       "</pre>\n"
      ],
      "text/plain": [
       "\u001b[31m╭────────────────────────────────╮\u001b[0m\n",
       "\u001b[31m│\u001b[0m  \u001b[1;31mInitializing DataLoader Class\u001b[0m \u001b[31m│\u001b[0m\n",
       "\u001b[31m╰────────────────────────────────╯\u001b[0m\n"
      ]
     },
     "metadata": {},
     "output_type": "display_data"
    },
    {
     "data": {
      "text/html": [
       "<pre style=\"white-space:pre;overflow-x:auto;line-height:normal;font-family:Menlo,'DejaVu Sans Mono',consolas,'Courier New',monospace\"> <span style=\"color: #008000; text-decoration-color: #008000; font-weight: bold\">Creating EPOCHS</span>\n",
       "</pre>\n"
      ],
      "text/plain": [
       " \u001b[1;32mCreating EPOCHS\u001b[0m\n"
      ]
     },
     "metadata": {},
     "output_type": "display_data"
    },
    {
     "data": {
      "text/html": [
       "<pre style=\"white-space:pre;overflow-x:auto;line-height:normal;font-family:Menlo,'DejaVu Sans Mono',consolas,'Courier New',monospace\"><span style=\"font-style: italic\">        Extraction Criteria        </span>\n",
       "┏━━━━━━━━━━━━━━━━━━━━┳━━━━━━━━━━━━┓\n",
       "┃<span style=\"font-weight: bold\"> Parameter          </span>┃<span style=\"font-weight: bold\"> Value      </span>┃\n",
       "┣━━━━━━━━━━━━━━━━━━━━╋━━━━━━━━━━━━┫\n",
       "┃<span style=\"color: #008080; text-decoration-color: #008080; font-weight: bold\"> 🧪 Trial Mode      </span>┃<span style=\"color: #808000; text-decoration-color: #808000; font-weight: bold\">            </span>┃\n",
       "┃<span style=\"color: #008080; text-decoration-color: #008080; font-weight: bold\"> 📏 Trial Unit      </span>┃<span style=\"color: #808000; text-decoration-color: #808000; font-weight: bold\"> Words      </span>┃\n",
       "┃<span style=\"color: #008080; text-decoration-color: #008080; font-weight: bold\"> 🔗 Experiment Mode </span>┃<span style=\"color: #808000; text-decoration-color: #808000; font-weight: bold\"> Experiment </span>┃\n",
       "┃<span style=\"color: #008080; text-decoration-color: #008080; font-weight: bold\"> 🎭 Trial Boundary  </span>┃<span style=\"color: #808000; text-decoration-color: #808000; font-weight: bold\"> Start      </span>┃\n",
       "┃<span style=\"color: #008080; text-decoration-color: #008080; font-weight: bold\"> 🔬 Trial Type      </span>┃<span style=\"color: #808000; text-decoration-color: #808000; font-weight: bold\"> Stimulus   </span>┃\n",
       "┃<span style=\"color: #008080; text-decoration-color: #008080; font-weight: bold\"> 📊 Modality        </span>┃<span style=\"color: #808000; text-decoration-color: #808000; font-weight: bold\"> Pictures   </span>┃\n",
       "┃<span style=\"color: #008080; text-decoration-color: #008080; font-weight: bold\"> ⏱ Tmin             </span>┃<span style=\"color: #808000; text-decoration-color: #808000; font-weight: bold\"> </span><span style=\"color: #008080; text-decoration-color: #008080; font-weight: bold\">-0.2</span><span style=\"color: #808000; text-decoration-color: #808000; font-weight: bold\">       </span>┃\n",
       "┃<span style=\"color: #008080; text-decoration-color: #008080; font-weight: bold\"> ⏳ Tmax            </span>┃<span style=\"color: #808000; text-decoration-color: #808000; font-weight: bold\"> </span><span style=\"color: #008080; text-decoration-color: #008080; font-weight: bold\">0.5</span><span style=\"color: #808000; text-decoration-color: #808000; font-weight: bold\">        </span>┃\n",
       "┗━━━━━━━━━━━━━━━━━━━━┻━━━━━━━━━━━━┛\n",
       "</pre>\n"
      ],
      "text/plain": [
       "\u001b[3m        Extraction Criteria        \u001b[0m\n",
       "┏━━━━━━━━━━━━━━━━━━━━┳━━━━━━━━━━━━┓\n",
       "┃\u001b[1m \u001b[0m\u001b[1mParameter         \u001b[0m\u001b[1m \u001b[0m┃\u001b[1m \u001b[0m\u001b[1mValue     \u001b[0m\u001b[1m \u001b[0m┃\n",
       "┣━━━━━━━━━━━━━━━━━━━━╋━━━━━━━━━━━━┫\n",
       "┃\u001b[1;36m \u001b[0m\u001b[1;36m🧪 Trial Mode     \u001b[0m\u001b[1;36m \u001b[0m┃\u001b[1;33m \u001b[0m\u001b[1;33m          \u001b[0m\u001b[1;33m \u001b[0m┃\n",
       "┃\u001b[1;36m \u001b[0m\u001b[1;36m📏 Trial Unit     \u001b[0m\u001b[1;36m \u001b[0m┃\u001b[1;33m \u001b[0m\u001b[1;33mWords     \u001b[0m\u001b[1;33m \u001b[0m┃\n",
       "┃\u001b[1;36m \u001b[0m\u001b[1;36m🔗 Experiment Mode\u001b[0m\u001b[1;36m \u001b[0m┃\u001b[1;33m \u001b[0m\u001b[1;33mExperiment\u001b[0m\u001b[1;33m \u001b[0m┃\n",
       "┃\u001b[1;36m \u001b[0m\u001b[1;36m🎭 Trial Boundary \u001b[0m\u001b[1;36m \u001b[0m┃\u001b[1;33m \u001b[0m\u001b[1;33mStart     \u001b[0m\u001b[1;33m \u001b[0m┃\n",
       "┃\u001b[1;36m \u001b[0m\u001b[1;36m🔬 Trial Type     \u001b[0m\u001b[1;36m \u001b[0m┃\u001b[1;33m \u001b[0m\u001b[1;33mStimulus  \u001b[0m\u001b[1;33m \u001b[0m┃\n",
       "┃\u001b[1;36m \u001b[0m\u001b[1;36m📊 Modality       \u001b[0m\u001b[1;36m \u001b[0m┃\u001b[1;33m \u001b[0m\u001b[1;33mPictures  \u001b[0m\u001b[1;33m \u001b[0m┃\n",
       "┃\u001b[1;36m \u001b[0m\u001b[1;36m⏱ Tmin            \u001b[0m\u001b[1;36m \u001b[0m┃\u001b[1;33m \u001b[0m\u001b[1;36m-0.2\u001b[0m\u001b[1;33m      \u001b[0m\u001b[1;33m \u001b[0m┃\n",
       "┃\u001b[1;36m \u001b[0m\u001b[1;36m⏳ Tmax           \u001b[0m\u001b[1;36m \u001b[0m┃\u001b[1;33m \u001b[0m\u001b[1;36m0.5\u001b[0m\u001b[1;33m       \u001b[0m\u001b[1;33m \u001b[0m┃\n",
       "┗━━━━━━━━━━━━━━━━━━━━┻━━━━━━━━━━━━┛\n"
      ]
     },
     "metadata": {},
     "output_type": "display_data"
    },
    {
     "name": "stdout",
     "output_type": "stream",
     "text": [
      "Not setting metadata\n",
      "130 matching events found\n",
      "Applying baseline correction (mode: mean)\n",
      "0 projection items activated\n",
      "Using data from preloaded Raw for 130 events and 701 original time points ...\n",
      "0 bad epochs dropped\n"
     ]
    },
    {
     "data": {
      "text/html": [
       "<pre style=\"white-space:pre;overflow-x:auto;line-height:normal;font-family:Menlo,'DejaVu Sans Mono',consolas,'Courier New',monospace\"> <span style=\"color: #008000; text-decoration-color: #008000; font-weight: bold\">Creating epochs: sub-</span><span style=\"color: #008000; text-decoration-color: #008000; font-weight: bold\">10</span><span style=\"color: #008000; text-decoration-color: #008000; font-weight: bold\">, ses-</span><span style=\"color: #008000; text-decoration-color: #008000; font-weight: bold\">01</span>\n",
       "</pre>\n"
      ],
      "text/plain": [
       " \u001b[1;32mCreating epochs: sub-\u001b[0m\u001b[1;32m10\u001b[0m\u001b[1;32m, ses-\u001b[0m\u001b[1;32m01\u001b[0m\n"
      ]
     },
     "metadata": {},
     "output_type": "display_data"
    },
    {
     "data": {
      "text/html": [
       "<pre style=\"white-space:pre;overflow-x:auto;line-height:normal;font-family:Menlo,'DejaVu Sans Mono',consolas,'Courier New',monospace\"><span style=\"color: #800000; text-decoration-color: #800000\">╭────────────────────────────────╮</span>\n",
       "<span style=\"color: #800000; text-decoration-color: #800000\">│</span>  <span style=\"color: #800000; text-decoration-color: #800000; font-weight: bold\">Initializing DataLoader Class</span> <span style=\"color: #800000; text-decoration-color: #800000\">│</span>\n",
       "<span style=\"color: #800000; text-decoration-color: #800000\">╰────────────────────────────────╯</span>\n",
       "</pre>\n"
      ],
      "text/plain": [
       "\u001b[31m╭────────────────────────────────╮\u001b[0m\n",
       "\u001b[31m│\u001b[0m  \u001b[1;31mInitializing DataLoader Class\u001b[0m \u001b[31m│\u001b[0m\n",
       "\u001b[31m╰────────────────────────────────╯\u001b[0m\n"
      ]
     },
     "metadata": {},
     "output_type": "display_data"
    },
    {
     "data": {
      "text/html": [
       "<pre style=\"white-space:pre;overflow-x:auto;line-height:normal;font-family:Menlo,'DejaVu Sans Mono',consolas,'Courier New',monospace\"> <span style=\"color: #008000; text-decoration-color: #008000; font-weight: bold\">Creating EPOCHS</span>\n",
       "</pre>\n"
      ],
      "text/plain": [
       " \u001b[1;32mCreating EPOCHS\u001b[0m\n"
      ]
     },
     "metadata": {},
     "output_type": "display_data"
    },
    {
     "data": {
      "text/html": [
       "<pre style=\"white-space:pre;overflow-x:auto;line-height:normal;font-family:Menlo,'DejaVu Sans Mono',consolas,'Courier New',monospace\"><span style=\"font-style: italic\">        Extraction Criteria        </span>\n",
       "┏━━━━━━━━━━━━━━━━━━━━┳━━━━━━━━━━━━┓\n",
       "┃<span style=\"font-weight: bold\"> Parameter          </span>┃<span style=\"font-weight: bold\"> Value      </span>┃\n",
       "┣━━━━━━━━━━━━━━━━━━━━╋━━━━━━━━━━━━┫\n",
       "┃<span style=\"color: #008080; text-decoration-color: #008080; font-weight: bold\"> 🧪 Trial Mode      </span>┃<span style=\"color: #808000; text-decoration-color: #808000; font-weight: bold\">            </span>┃\n",
       "┃<span style=\"color: #008080; text-decoration-color: #008080; font-weight: bold\"> 📏 Trial Unit      </span>┃<span style=\"color: #808000; text-decoration-color: #808000; font-weight: bold\"> Words      </span>┃\n",
       "┃<span style=\"color: #008080; text-decoration-color: #008080; font-weight: bold\"> 🔗 Experiment Mode </span>┃<span style=\"color: #808000; text-decoration-color: #808000; font-weight: bold\"> Experiment </span>┃\n",
       "┃<span style=\"color: #008080; text-decoration-color: #008080; font-weight: bold\"> 🎭 Trial Boundary  </span>┃<span style=\"color: #808000; text-decoration-color: #808000; font-weight: bold\"> Start      </span>┃\n",
       "┃<span style=\"color: #008080; text-decoration-color: #008080; font-weight: bold\"> 🔬 Trial Type      </span>┃<span style=\"color: #808000; text-decoration-color: #808000; font-weight: bold\"> Stimulus   </span>┃\n",
       "┃<span style=\"color: #008080; text-decoration-color: #008080; font-weight: bold\"> 📊 Modality        </span>┃<span style=\"color: #808000; text-decoration-color: #808000; font-weight: bold\"> Pictures   </span>┃\n",
       "┃<span style=\"color: #008080; text-decoration-color: #008080; font-weight: bold\"> ⏱ Tmin             </span>┃<span style=\"color: #808000; text-decoration-color: #808000; font-weight: bold\"> </span><span style=\"color: #008080; text-decoration-color: #008080; font-weight: bold\">-0.2</span><span style=\"color: #808000; text-decoration-color: #808000; font-weight: bold\">       </span>┃\n",
       "┃<span style=\"color: #008080; text-decoration-color: #008080; font-weight: bold\"> ⏳ Tmax            </span>┃<span style=\"color: #808000; text-decoration-color: #808000; font-weight: bold\"> </span><span style=\"color: #008080; text-decoration-color: #008080; font-weight: bold\">0.5</span><span style=\"color: #808000; text-decoration-color: #808000; font-weight: bold\">        </span>┃\n",
       "┗━━━━━━━━━━━━━━━━━━━━┻━━━━━━━━━━━━┛\n",
       "</pre>\n"
      ],
      "text/plain": [
       "\u001b[3m        Extraction Criteria        \u001b[0m\n",
       "┏━━━━━━━━━━━━━━━━━━━━┳━━━━━━━━━━━━┓\n",
       "┃\u001b[1m \u001b[0m\u001b[1mParameter         \u001b[0m\u001b[1m \u001b[0m┃\u001b[1m \u001b[0m\u001b[1mValue     \u001b[0m\u001b[1m \u001b[0m┃\n",
       "┣━━━━━━━━━━━━━━━━━━━━╋━━━━━━━━━━━━┫\n",
       "┃\u001b[1;36m \u001b[0m\u001b[1;36m🧪 Trial Mode     \u001b[0m\u001b[1;36m \u001b[0m┃\u001b[1;33m \u001b[0m\u001b[1;33m          \u001b[0m\u001b[1;33m \u001b[0m┃\n",
       "┃\u001b[1;36m \u001b[0m\u001b[1;36m📏 Trial Unit     \u001b[0m\u001b[1;36m \u001b[0m┃\u001b[1;33m \u001b[0m\u001b[1;33mWords     \u001b[0m\u001b[1;33m \u001b[0m┃\n",
       "┃\u001b[1;36m \u001b[0m\u001b[1;36m🔗 Experiment Mode\u001b[0m\u001b[1;36m \u001b[0m┃\u001b[1;33m \u001b[0m\u001b[1;33mExperiment\u001b[0m\u001b[1;33m \u001b[0m┃\n",
       "┃\u001b[1;36m \u001b[0m\u001b[1;36m🎭 Trial Boundary \u001b[0m\u001b[1;36m \u001b[0m┃\u001b[1;33m \u001b[0m\u001b[1;33mStart     \u001b[0m\u001b[1;33m \u001b[0m┃\n",
       "┃\u001b[1;36m \u001b[0m\u001b[1;36m🔬 Trial Type     \u001b[0m\u001b[1;36m \u001b[0m┃\u001b[1;33m \u001b[0m\u001b[1;33mStimulus  \u001b[0m\u001b[1;33m \u001b[0m┃\n",
       "┃\u001b[1;36m \u001b[0m\u001b[1;36m📊 Modality       \u001b[0m\u001b[1;36m \u001b[0m┃\u001b[1;33m \u001b[0m\u001b[1;33mPictures  \u001b[0m\u001b[1;33m \u001b[0m┃\n",
       "┃\u001b[1;36m \u001b[0m\u001b[1;36m⏱ Tmin            \u001b[0m\u001b[1;36m \u001b[0m┃\u001b[1;33m \u001b[0m\u001b[1;36m-0.2\u001b[0m\u001b[1;33m      \u001b[0m\u001b[1;33m \u001b[0m┃\n",
       "┃\u001b[1;36m \u001b[0m\u001b[1;36m⏳ Tmax           \u001b[0m\u001b[1;36m \u001b[0m┃\u001b[1;33m \u001b[0m\u001b[1;36m0.5\u001b[0m\u001b[1;33m       \u001b[0m\u001b[1;33m \u001b[0m┃\n",
       "┗━━━━━━━━━━━━━━━━━━━━┻━━━━━━━━━━━━┛\n"
      ]
     },
     "metadata": {},
     "output_type": "display_data"
    },
    {
     "name": "stdout",
     "output_type": "stream",
     "text": [
      "Not setting metadata\n",
      "130 matching events found\n",
      "Applying baseline correction (mode: mean)\n",
      "0 projection items activated\n",
      "Using data from preloaded Raw for 130 events and 701 original time points ...\n",
      "0 bad epochs dropped\n"
     ]
    },
    {
     "data": {
      "text/html": [
       "<pre style=\"white-space:pre;overflow-x:auto;line-height:normal;font-family:Menlo,'DejaVu Sans Mono',consolas,'Courier New',monospace\"> <span style=\"color: #008000; text-decoration-color: #008000; font-weight: bold\">Creating epochs: sub-</span><span style=\"color: #008000; text-decoration-color: #008000; font-weight: bold\">11</span><span style=\"color: #008000; text-decoration-color: #008000; font-weight: bold\">, ses-</span><span style=\"color: #008000; text-decoration-color: #008000; font-weight: bold\">01</span>\n",
       "</pre>\n"
      ],
      "text/plain": [
       " \u001b[1;32mCreating epochs: sub-\u001b[0m\u001b[1;32m11\u001b[0m\u001b[1;32m, ses-\u001b[0m\u001b[1;32m01\u001b[0m\n"
      ]
     },
     "metadata": {},
     "output_type": "display_data"
    },
    {
     "data": {
      "text/html": [
       "<pre style=\"white-space:pre;overflow-x:auto;line-height:normal;font-family:Menlo,'DejaVu Sans Mono',consolas,'Courier New',monospace\"><span style=\"color: #800000; text-decoration-color: #800000\">╭────────────────────────────────╮</span>\n",
       "<span style=\"color: #800000; text-decoration-color: #800000\">│</span>  <span style=\"color: #800000; text-decoration-color: #800000; font-weight: bold\">Initializing DataLoader Class</span> <span style=\"color: #800000; text-decoration-color: #800000\">│</span>\n",
       "<span style=\"color: #800000; text-decoration-color: #800000\">╰────────────────────────────────╯</span>\n",
       "</pre>\n"
      ],
      "text/plain": [
       "\u001b[31m╭────────────────────────────────╮\u001b[0m\n",
       "\u001b[31m│\u001b[0m  \u001b[1;31mInitializing DataLoader Class\u001b[0m \u001b[31m│\u001b[0m\n",
       "\u001b[31m╰────────────────────────────────╯\u001b[0m\n"
      ]
     },
     "metadata": {},
     "output_type": "display_data"
    },
    {
     "data": {
      "text/html": [
       "<pre style=\"white-space:pre;overflow-x:auto;line-height:normal;font-family:Menlo,'DejaVu Sans Mono',consolas,'Courier New',monospace\"> <span style=\"color: #008000; text-decoration-color: #008000; font-weight: bold\">Creating EPOCHS</span>\n",
       "</pre>\n"
      ],
      "text/plain": [
       " \u001b[1;32mCreating EPOCHS\u001b[0m\n"
      ]
     },
     "metadata": {},
     "output_type": "display_data"
    },
    {
     "data": {
      "text/html": [
       "<pre style=\"white-space:pre;overflow-x:auto;line-height:normal;font-family:Menlo,'DejaVu Sans Mono',consolas,'Courier New',monospace\"><span style=\"font-style: italic\">        Extraction Criteria        </span>\n",
       "┏━━━━━━━━━━━━━━━━━━━━┳━━━━━━━━━━━━┓\n",
       "┃<span style=\"font-weight: bold\"> Parameter          </span>┃<span style=\"font-weight: bold\"> Value      </span>┃\n",
       "┣━━━━━━━━━━━━━━━━━━━━╋━━━━━━━━━━━━┫\n",
       "┃<span style=\"color: #008080; text-decoration-color: #008080; font-weight: bold\"> 🧪 Trial Mode      </span>┃<span style=\"color: #808000; text-decoration-color: #808000; font-weight: bold\">            </span>┃\n",
       "┃<span style=\"color: #008080; text-decoration-color: #008080; font-weight: bold\"> 📏 Trial Unit      </span>┃<span style=\"color: #808000; text-decoration-color: #808000; font-weight: bold\"> Words      </span>┃\n",
       "┃<span style=\"color: #008080; text-decoration-color: #008080; font-weight: bold\"> 🔗 Experiment Mode </span>┃<span style=\"color: #808000; text-decoration-color: #808000; font-weight: bold\"> Experiment </span>┃\n",
       "┃<span style=\"color: #008080; text-decoration-color: #008080; font-weight: bold\"> 🎭 Trial Boundary  </span>┃<span style=\"color: #808000; text-decoration-color: #808000; font-weight: bold\"> Start      </span>┃\n",
       "┃<span style=\"color: #008080; text-decoration-color: #008080; font-weight: bold\"> 🔬 Trial Type      </span>┃<span style=\"color: #808000; text-decoration-color: #808000; font-weight: bold\"> Stimulus   </span>┃\n",
       "┃<span style=\"color: #008080; text-decoration-color: #008080; font-weight: bold\"> 📊 Modality        </span>┃<span style=\"color: #808000; text-decoration-color: #808000; font-weight: bold\"> Pictures   </span>┃\n",
       "┃<span style=\"color: #008080; text-decoration-color: #008080; font-weight: bold\"> ⏱ Tmin             </span>┃<span style=\"color: #808000; text-decoration-color: #808000; font-weight: bold\"> </span><span style=\"color: #008080; text-decoration-color: #008080; font-weight: bold\">-0.2</span><span style=\"color: #808000; text-decoration-color: #808000; font-weight: bold\">       </span>┃\n",
       "┃<span style=\"color: #008080; text-decoration-color: #008080; font-weight: bold\"> ⏳ Tmax            </span>┃<span style=\"color: #808000; text-decoration-color: #808000; font-weight: bold\"> </span><span style=\"color: #008080; text-decoration-color: #008080; font-weight: bold\">0.5</span><span style=\"color: #808000; text-decoration-color: #808000; font-weight: bold\">        </span>┃\n",
       "┗━━━━━━━━━━━━━━━━━━━━┻━━━━━━━━━━━━┛\n",
       "</pre>\n"
      ],
      "text/plain": [
       "\u001b[3m        Extraction Criteria        \u001b[0m\n",
       "┏━━━━━━━━━━━━━━━━━━━━┳━━━━━━━━━━━━┓\n",
       "┃\u001b[1m \u001b[0m\u001b[1mParameter         \u001b[0m\u001b[1m \u001b[0m┃\u001b[1m \u001b[0m\u001b[1mValue     \u001b[0m\u001b[1m \u001b[0m┃\n",
       "┣━━━━━━━━━━━━━━━━━━━━╋━━━━━━━━━━━━┫\n",
       "┃\u001b[1;36m \u001b[0m\u001b[1;36m🧪 Trial Mode     \u001b[0m\u001b[1;36m \u001b[0m┃\u001b[1;33m \u001b[0m\u001b[1;33m          \u001b[0m\u001b[1;33m \u001b[0m┃\n",
       "┃\u001b[1;36m \u001b[0m\u001b[1;36m📏 Trial Unit     \u001b[0m\u001b[1;36m \u001b[0m┃\u001b[1;33m \u001b[0m\u001b[1;33mWords     \u001b[0m\u001b[1;33m \u001b[0m┃\n",
       "┃\u001b[1;36m \u001b[0m\u001b[1;36m🔗 Experiment Mode\u001b[0m\u001b[1;36m \u001b[0m┃\u001b[1;33m \u001b[0m\u001b[1;33mExperiment\u001b[0m\u001b[1;33m \u001b[0m┃\n",
       "┃\u001b[1;36m \u001b[0m\u001b[1;36m🎭 Trial Boundary \u001b[0m\u001b[1;36m \u001b[0m┃\u001b[1;33m \u001b[0m\u001b[1;33mStart     \u001b[0m\u001b[1;33m \u001b[0m┃\n",
       "┃\u001b[1;36m \u001b[0m\u001b[1;36m🔬 Trial Type     \u001b[0m\u001b[1;36m \u001b[0m┃\u001b[1;33m \u001b[0m\u001b[1;33mStimulus  \u001b[0m\u001b[1;33m \u001b[0m┃\n",
       "┃\u001b[1;36m \u001b[0m\u001b[1;36m📊 Modality       \u001b[0m\u001b[1;36m \u001b[0m┃\u001b[1;33m \u001b[0m\u001b[1;33mPictures  \u001b[0m\u001b[1;33m \u001b[0m┃\n",
       "┃\u001b[1;36m \u001b[0m\u001b[1;36m⏱ Tmin            \u001b[0m\u001b[1;36m \u001b[0m┃\u001b[1;33m \u001b[0m\u001b[1;36m-0.2\u001b[0m\u001b[1;33m      \u001b[0m\u001b[1;33m \u001b[0m┃\n",
       "┃\u001b[1;36m \u001b[0m\u001b[1;36m⏳ Tmax           \u001b[0m\u001b[1;36m \u001b[0m┃\u001b[1;33m \u001b[0m\u001b[1;36m0.5\u001b[0m\u001b[1;33m       \u001b[0m\u001b[1;33m \u001b[0m┃\n",
       "┗━━━━━━━━━━━━━━━━━━━━┻━━━━━━━━━━━━┛\n"
      ]
     },
     "metadata": {},
     "output_type": "display_data"
    },
    {
     "name": "stdout",
     "output_type": "stream",
     "text": [
      "Not setting metadata\n",
      "130 matching events found\n",
      "Applying baseline correction (mode: mean)\n",
      "0 projection items activated\n",
      "Using data from preloaded Raw for 130 events and 701 original time points ...\n",
      "0 bad epochs dropped\n"
     ]
    },
    {
     "data": {
      "text/html": [
       "<pre style=\"white-space:pre;overflow-x:auto;line-height:normal;font-family:Menlo,'DejaVu Sans Mono',consolas,'Courier New',monospace\"> <span style=\"color: #008000; text-decoration-color: #008000; font-weight: bold\">Creating epochs: sub-</span><span style=\"color: #008000; text-decoration-color: #008000; font-weight: bold\">12</span><span style=\"color: #008000; text-decoration-color: #008000; font-weight: bold\">, ses-</span><span style=\"color: #008000; text-decoration-color: #008000; font-weight: bold\">01</span>\n",
       "</pre>\n"
      ],
      "text/plain": [
       " \u001b[1;32mCreating epochs: sub-\u001b[0m\u001b[1;32m12\u001b[0m\u001b[1;32m, ses-\u001b[0m\u001b[1;32m01\u001b[0m\n"
      ]
     },
     "metadata": {},
     "output_type": "display_data"
    },
    {
     "data": {
      "text/html": [
       "<pre style=\"white-space:pre;overflow-x:auto;line-height:normal;font-family:Menlo,'DejaVu Sans Mono',consolas,'Courier New',monospace\"><span style=\"color: #800000; text-decoration-color: #800000\">╭────────────────────────────────╮</span>\n",
       "<span style=\"color: #800000; text-decoration-color: #800000\">│</span>  <span style=\"color: #800000; text-decoration-color: #800000; font-weight: bold\">Initializing DataLoader Class</span> <span style=\"color: #800000; text-decoration-color: #800000\">│</span>\n",
       "<span style=\"color: #800000; text-decoration-color: #800000\">╰────────────────────────────────╯</span>\n",
       "</pre>\n"
      ],
      "text/plain": [
       "\u001b[31m╭────────────────────────────────╮\u001b[0m\n",
       "\u001b[31m│\u001b[0m  \u001b[1;31mInitializing DataLoader Class\u001b[0m \u001b[31m│\u001b[0m\n",
       "\u001b[31m╰────────────────────────────────╯\u001b[0m\n"
      ]
     },
     "metadata": {},
     "output_type": "display_data"
    },
    {
     "data": {
      "text/html": [
       "<pre style=\"white-space:pre;overflow-x:auto;line-height:normal;font-family:Menlo,'DejaVu Sans Mono',consolas,'Courier New',monospace\"> <span style=\"color: #008000; text-decoration-color: #008000; font-weight: bold\">Creating EPOCHS</span>\n",
       "</pre>\n"
      ],
      "text/plain": [
       " \u001b[1;32mCreating EPOCHS\u001b[0m\n"
      ]
     },
     "metadata": {},
     "output_type": "display_data"
    },
    {
     "data": {
      "text/html": [
       "<pre style=\"white-space:pre;overflow-x:auto;line-height:normal;font-family:Menlo,'DejaVu Sans Mono',consolas,'Courier New',monospace\"><span style=\"font-style: italic\">        Extraction Criteria        </span>\n",
       "┏━━━━━━━━━━━━━━━━━━━━┳━━━━━━━━━━━━┓\n",
       "┃<span style=\"font-weight: bold\"> Parameter          </span>┃<span style=\"font-weight: bold\"> Value      </span>┃\n",
       "┣━━━━━━━━━━━━━━━━━━━━╋━━━━━━━━━━━━┫\n",
       "┃<span style=\"color: #008080; text-decoration-color: #008080; font-weight: bold\"> 🧪 Trial Mode      </span>┃<span style=\"color: #808000; text-decoration-color: #808000; font-weight: bold\">            </span>┃\n",
       "┃<span style=\"color: #008080; text-decoration-color: #008080; font-weight: bold\"> 📏 Trial Unit      </span>┃<span style=\"color: #808000; text-decoration-color: #808000; font-weight: bold\"> Words      </span>┃\n",
       "┃<span style=\"color: #008080; text-decoration-color: #008080; font-weight: bold\"> 🔗 Experiment Mode </span>┃<span style=\"color: #808000; text-decoration-color: #808000; font-weight: bold\"> Experiment </span>┃\n",
       "┃<span style=\"color: #008080; text-decoration-color: #008080; font-weight: bold\"> 🎭 Trial Boundary  </span>┃<span style=\"color: #808000; text-decoration-color: #808000; font-weight: bold\"> Start      </span>┃\n",
       "┃<span style=\"color: #008080; text-decoration-color: #008080; font-weight: bold\"> 🔬 Trial Type      </span>┃<span style=\"color: #808000; text-decoration-color: #808000; font-weight: bold\"> Stimulus   </span>┃\n",
       "┃<span style=\"color: #008080; text-decoration-color: #008080; font-weight: bold\"> 📊 Modality        </span>┃<span style=\"color: #808000; text-decoration-color: #808000; font-weight: bold\"> Pictures   </span>┃\n",
       "┃<span style=\"color: #008080; text-decoration-color: #008080; font-weight: bold\"> ⏱ Tmin             </span>┃<span style=\"color: #808000; text-decoration-color: #808000; font-weight: bold\"> </span><span style=\"color: #008080; text-decoration-color: #008080; font-weight: bold\">-0.2</span><span style=\"color: #808000; text-decoration-color: #808000; font-weight: bold\">       </span>┃\n",
       "┃<span style=\"color: #008080; text-decoration-color: #008080; font-weight: bold\"> ⏳ Tmax            </span>┃<span style=\"color: #808000; text-decoration-color: #808000; font-weight: bold\"> </span><span style=\"color: #008080; text-decoration-color: #008080; font-weight: bold\">0.5</span><span style=\"color: #808000; text-decoration-color: #808000; font-weight: bold\">        </span>┃\n",
       "┗━━━━━━━━━━━━━━━━━━━━┻━━━━━━━━━━━━┛\n",
       "</pre>\n"
      ],
      "text/plain": [
       "\u001b[3m        Extraction Criteria        \u001b[0m\n",
       "┏━━━━━━━━━━━━━━━━━━━━┳━━━━━━━━━━━━┓\n",
       "┃\u001b[1m \u001b[0m\u001b[1mParameter         \u001b[0m\u001b[1m \u001b[0m┃\u001b[1m \u001b[0m\u001b[1mValue     \u001b[0m\u001b[1m \u001b[0m┃\n",
       "┣━━━━━━━━━━━━━━━━━━━━╋━━━━━━━━━━━━┫\n",
       "┃\u001b[1;36m \u001b[0m\u001b[1;36m🧪 Trial Mode     \u001b[0m\u001b[1;36m \u001b[0m┃\u001b[1;33m \u001b[0m\u001b[1;33m          \u001b[0m\u001b[1;33m \u001b[0m┃\n",
       "┃\u001b[1;36m \u001b[0m\u001b[1;36m📏 Trial Unit     \u001b[0m\u001b[1;36m \u001b[0m┃\u001b[1;33m \u001b[0m\u001b[1;33mWords     \u001b[0m\u001b[1;33m \u001b[0m┃\n",
       "┃\u001b[1;36m \u001b[0m\u001b[1;36m🔗 Experiment Mode\u001b[0m\u001b[1;36m \u001b[0m┃\u001b[1;33m \u001b[0m\u001b[1;33mExperiment\u001b[0m\u001b[1;33m \u001b[0m┃\n",
       "┃\u001b[1;36m \u001b[0m\u001b[1;36m🎭 Trial Boundary \u001b[0m\u001b[1;36m \u001b[0m┃\u001b[1;33m \u001b[0m\u001b[1;33mStart     \u001b[0m\u001b[1;33m \u001b[0m┃\n",
       "┃\u001b[1;36m \u001b[0m\u001b[1;36m🔬 Trial Type     \u001b[0m\u001b[1;36m \u001b[0m┃\u001b[1;33m \u001b[0m\u001b[1;33mStimulus  \u001b[0m\u001b[1;33m \u001b[0m┃\n",
       "┃\u001b[1;36m \u001b[0m\u001b[1;36m📊 Modality       \u001b[0m\u001b[1;36m \u001b[0m┃\u001b[1;33m \u001b[0m\u001b[1;33mPictures  \u001b[0m\u001b[1;33m \u001b[0m┃\n",
       "┃\u001b[1;36m \u001b[0m\u001b[1;36m⏱ Tmin            \u001b[0m\u001b[1;36m \u001b[0m┃\u001b[1;33m \u001b[0m\u001b[1;36m-0.2\u001b[0m\u001b[1;33m      \u001b[0m\u001b[1;33m \u001b[0m┃\n",
       "┃\u001b[1;36m \u001b[0m\u001b[1;36m⏳ Tmax           \u001b[0m\u001b[1;36m \u001b[0m┃\u001b[1;33m \u001b[0m\u001b[1;36m0.5\u001b[0m\u001b[1;33m       \u001b[0m\u001b[1;33m \u001b[0m┃\n",
       "┗━━━━━━━━━━━━━━━━━━━━┻━━━━━━━━━━━━┛\n"
      ]
     },
     "metadata": {},
     "output_type": "display_data"
    },
    {
     "name": "stdout",
     "output_type": "stream",
     "text": [
      "Not setting metadata\n",
      "130 matching events found\n",
      "Applying baseline correction (mode: mean)\n",
      "0 projection items activated\n",
      "Using data from preloaded Raw for 130 events and 701 original time points ...\n",
      "0 bad epochs dropped\n"
     ]
    },
    {
     "data": {
      "text/html": [
       "<pre style=\"white-space:pre;overflow-x:auto;line-height:normal;font-family:Menlo,'DejaVu Sans Mono',consolas,'Courier New',monospace\"> <span style=\"color: #008000; text-decoration-color: #008000; font-weight: bold\">Creating epochs: sub-</span><span style=\"color: #008000; text-decoration-color: #008000; font-weight: bold\">13</span><span style=\"color: #008000; text-decoration-color: #008000; font-weight: bold\">, ses-</span><span style=\"color: #008000; text-decoration-color: #008000; font-weight: bold\">01</span>\n",
       "</pre>\n"
      ],
      "text/plain": [
       " \u001b[1;32mCreating epochs: sub-\u001b[0m\u001b[1;32m13\u001b[0m\u001b[1;32m, ses-\u001b[0m\u001b[1;32m01\u001b[0m\n"
      ]
     },
     "metadata": {},
     "output_type": "display_data"
    },
    {
     "data": {
      "text/html": [
       "<pre style=\"white-space:pre;overflow-x:auto;line-height:normal;font-family:Menlo,'DejaVu Sans Mono',consolas,'Courier New',monospace\"><span style=\"color: #800000; text-decoration-color: #800000\">╭────────────────────────────────╮</span>\n",
       "<span style=\"color: #800000; text-decoration-color: #800000\">│</span>  <span style=\"color: #800000; text-decoration-color: #800000; font-weight: bold\">Initializing DataLoader Class</span> <span style=\"color: #800000; text-decoration-color: #800000\">│</span>\n",
       "<span style=\"color: #800000; text-decoration-color: #800000\">╰────────────────────────────────╯</span>\n",
       "</pre>\n"
      ],
      "text/plain": [
       "\u001b[31m╭────────────────────────────────╮\u001b[0m\n",
       "\u001b[31m│\u001b[0m  \u001b[1;31mInitializing DataLoader Class\u001b[0m \u001b[31m│\u001b[0m\n",
       "\u001b[31m╰────────────────────────────────╯\u001b[0m\n"
      ]
     },
     "metadata": {},
     "output_type": "display_data"
    },
    {
     "data": {
      "text/html": [
       "<pre style=\"white-space:pre;overflow-x:auto;line-height:normal;font-family:Menlo,'DejaVu Sans Mono',consolas,'Courier New',monospace\"> <span style=\"color: #008000; text-decoration-color: #008000; font-weight: bold\">Creating EPOCHS</span>\n",
       "</pre>\n"
      ],
      "text/plain": [
       " \u001b[1;32mCreating EPOCHS\u001b[0m\n"
      ]
     },
     "metadata": {},
     "output_type": "display_data"
    },
    {
     "data": {
      "text/html": [
       "<pre style=\"white-space:pre;overflow-x:auto;line-height:normal;font-family:Menlo,'DejaVu Sans Mono',consolas,'Courier New',monospace\"><span style=\"font-style: italic\">        Extraction Criteria        </span>\n",
       "┏━━━━━━━━━━━━━━━━━━━━┳━━━━━━━━━━━━┓\n",
       "┃<span style=\"font-weight: bold\"> Parameter          </span>┃<span style=\"font-weight: bold\"> Value      </span>┃\n",
       "┣━━━━━━━━━━━━━━━━━━━━╋━━━━━━━━━━━━┫\n",
       "┃<span style=\"color: #008080; text-decoration-color: #008080; font-weight: bold\"> 🧪 Trial Mode      </span>┃<span style=\"color: #808000; text-decoration-color: #808000; font-weight: bold\">            </span>┃\n",
       "┃<span style=\"color: #008080; text-decoration-color: #008080; font-weight: bold\"> 📏 Trial Unit      </span>┃<span style=\"color: #808000; text-decoration-color: #808000; font-weight: bold\"> Words      </span>┃\n",
       "┃<span style=\"color: #008080; text-decoration-color: #008080; font-weight: bold\"> 🔗 Experiment Mode </span>┃<span style=\"color: #808000; text-decoration-color: #808000; font-weight: bold\"> Experiment </span>┃\n",
       "┃<span style=\"color: #008080; text-decoration-color: #008080; font-weight: bold\"> 🎭 Trial Boundary  </span>┃<span style=\"color: #808000; text-decoration-color: #808000; font-weight: bold\"> Start      </span>┃\n",
       "┃<span style=\"color: #008080; text-decoration-color: #008080; font-weight: bold\"> 🔬 Trial Type      </span>┃<span style=\"color: #808000; text-decoration-color: #808000; font-weight: bold\"> Stimulus   </span>┃\n",
       "┃<span style=\"color: #008080; text-decoration-color: #008080; font-weight: bold\"> 📊 Modality        </span>┃<span style=\"color: #808000; text-decoration-color: #808000; font-weight: bold\"> Pictures   </span>┃\n",
       "┃<span style=\"color: #008080; text-decoration-color: #008080; font-weight: bold\"> ⏱ Tmin             </span>┃<span style=\"color: #808000; text-decoration-color: #808000; font-weight: bold\"> </span><span style=\"color: #008080; text-decoration-color: #008080; font-weight: bold\">-0.2</span><span style=\"color: #808000; text-decoration-color: #808000; font-weight: bold\">       </span>┃\n",
       "┃<span style=\"color: #008080; text-decoration-color: #008080; font-weight: bold\"> ⏳ Tmax            </span>┃<span style=\"color: #808000; text-decoration-color: #808000; font-weight: bold\"> </span><span style=\"color: #008080; text-decoration-color: #008080; font-weight: bold\">0.5</span><span style=\"color: #808000; text-decoration-color: #808000; font-weight: bold\">        </span>┃\n",
       "┗━━━━━━━━━━━━━━━━━━━━┻━━━━━━━━━━━━┛\n",
       "</pre>\n"
      ],
      "text/plain": [
       "\u001b[3m        Extraction Criteria        \u001b[0m\n",
       "┏━━━━━━━━━━━━━━━━━━━━┳━━━━━━━━━━━━┓\n",
       "┃\u001b[1m \u001b[0m\u001b[1mParameter         \u001b[0m\u001b[1m \u001b[0m┃\u001b[1m \u001b[0m\u001b[1mValue     \u001b[0m\u001b[1m \u001b[0m┃\n",
       "┣━━━━━━━━━━━━━━━━━━━━╋━━━━━━━━━━━━┫\n",
       "┃\u001b[1;36m \u001b[0m\u001b[1;36m🧪 Trial Mode     \u001b[0m\u001b[1;36m \u001b[0m┃\u001b[1;33m \u001b[0m\u001b[1;33m          \u001b[0m\u001b[1;33m \u001b[0m┃\n",
       "┃\u001b[1;36m \u001b[0m\u001b[1;36m📏 Trial Unit     \u001b[0m\u001b[1;36m \u001b[0m┃\u001b[1;33m \u001b[0m\u001b[1;33mWords     \u001b[0m\u001b[1;33m \u001b[0m┃\n",
       "┃\u001b[1;36m \u001b[0m\u001b[1;36m🔗 Experiment Mode\u001b[0m\u001b[1;36m \u001b[0m┃\u001b[1;33m \u001b[0m\u001b[1;33mExperiment\u001b[0m\u001b[1;33m \u001b[0m┃\n",
       "┃\u001b[1;36m \u001b[0m\u001b[1;36m🎭 Trial Boundary \u001b[0m\u001b[1;36m \u001b[0m┃\u001b[1;33m \u001b[0m\u001b[1;33mStart     \u001b[0m\u001b[1;33m \u001b[0m┃\n",
       "┃\u001b[1;36m \u001b[0m\u001b[1;36m🔬 Trial Type     \u001b[0m\u001b[1;36m \u001b[0m┃\u001b[1;33m \u001b[0m\u001b[1;33mStimulus  \u001b[0m\u001b[1;33m \u001b[0m┃\n",
       "┃\u001b[1;36m \u001b[0m\u001b[1;36m📊 Modality       \u001b[0m\u001b[1;36m \u001b[0m┃\u001b[1;33m \u001b[0m\u001b[1;33mPictures  \u001b[0m\u001b[1;33m \u001b[0m┃\n",
       "┃\u001b[1;36m \u001b[0m\u001b[1;36m⏱ Tmin            \u001b[0m\u001b[1;36m \u001b[0m┃\u001b[1;33m \u001b[0m\u001b[1;36m-0.2\u001b[0m\u001b[1;33m      \u001b[0m\u001b[1;33m \u001b[0m┃\n",
       "┃\u001b[1;36m \u001b[0m\u001b[1;36m⏳ Tmax           \u001b[0m\u001b[1;36m \u001b[0m┃\u001b[1;33m \u001b[0m\u001b[1;36m0.5\u001b[0m\u001b[1;33m       \u001b[0m\u001b[1;33m \u001b[0m┃\n",
       "┗━━━━━━━━━━━━━━━━━━━━┻━━━━━━━━━━━━┛\n"
      ]
     },
     "metadata": {},
     "output_type": "display_data"
    },
    {
     "name": "stdout",
     "output_type": "stream",
     "text": [
      "Not setting metadata\n",
      "130 matching events found\n",
      "Applying baseline correction (mode: mean)\n",
      "0 projection items activated\n",
      "Using data from preloaded Raw for 130 events and 701 original time points ...\n",
      "0 bad epochs dropped\n"
     ]
    },
    {
     "data": {
      "text/html": [
       "<pre style=\"white-space:pre;overflow-x:auto;line-height:normal;font-family:Menlo,'DejaVu Sans Mono',consolas,'Courier New',monospace\"> <span style=\"color: #008000; text-decoration-color: #008000; font-weight: bold\">Creating epochs: sub-</span><span style=\"color: #008000; text-decoration-color: #008000; font-weight: bold\">14</span><span style=\"color: #008000; text-decoration-color: #008000; font-weight: bold\">, ses-</span><span style=\"color: #008000; text-decoration-color: #008000; font-weight: bold\">01</span>\n",
       "</pre>\n"
      ],
      "text/plain": [
       " \u001b[1;32mCreating epochs: sub-\u001b[0m\u001b[1;32m14\u001b[0m\u001b[1;32m, ses-\u001b[0m\u001b[1;32m01\u001b[0m\n"
      ]
     },
     "metadata": {},
     "output_type": "display_data"
    },
    {
     "data": {
      "text/html": [
       "<pre style=\"white-space:pre;overflow-x:auto;line-height:normal;font-family:Menlo,'DejaVu Sans Mono',consolas,'Courier New',monospace\"><span style=\"color: #800000; text-decoration-color: #800000\">╭────────────────────────────────╮</span>\n",
       "<span style=\"color: #800000; text-decoration-color: #800000\">│</span>  <span style=\"color: #800000; text-decoration-color: #800000; font-weight: bold\">Initializing DataLoader Class</span> <span style=\"color: #800000; text-decoration-color: #800000\">│</span>\n",
       "<span style=\"color: #800000; text-decoration-color: #800000\">╰────────────────────────────────╯</span>\n",
       "</pre>\n"
      ],
      "text/plain": [
       "\u001b[31m╭────────────────────────────────╮\u001b[0m\n",
       "\u001b[31m│\u001b[0m  \u001b[1;31mInitializing DataLoader Class\u001b[0m \u001b[31m│\u001b[0m\n",
       "\u001b[31m╰────────────────────────────────╯\u001b[0m\n"
      ]
     },
     "metadata": {},
     "output_type": "display_data"
    },
    {
     "data": {
      "text/html": [
       "<pre style=\"white-space:pre;overflow-x:auto;line-height:normal;font-family:Menlo,'DejaVu Sans Mono',consolas,'Courier New',monospace\"> <span style=\"color: #008000; text-decoration-color: #008000; font-weight: bold\">Creating EPOCHS</span>\n",
       "</pre>\n"
      ],
      "text/plain": [
       " \u001b[1;32mCreating EPOCHS\u001b[0m\n"
      ]
     },
     "metadata": {},
     "output_type": "display_data"
    },
    {
     "data": {
      "text/html": [
       "<pre style=\"white-space:pre;overflow-x:auto;line-height:normal;font-family:Menlo,'DejaVu Sans Mono',consolas,'Courier New',monospace\"><span style=\"font-style: italic\">        Extraction Criteria        </span>\n",
       "┏━━━━━━━━━━━━━━━━━━━━┳━━━━━━━━━━━━┓\n",
       "┃<span style=\"font-weight: bold\"> Parameter          </span>┃<span style=\"font-weight: bold\"> Value      </span>┃\n",
       "┣━━━━━━━━━━━━━━━━━━━━╋━━━━━━━━━━━━┫\n",
       "┃<span style=\"color: #008080; text-decoration-color: #008080; font-weight: bold\"> 🧪 Trial Mode      </span>┃<span style=\"color: #808000; text-decoration-color: #808000; font-weight: bold\">            </span>┃\n",
       "┃<span style=\"color: #008080; text-decoration-color: #008080; font-weight: bold\"> 📏 Trial Unit      </span>┃<span style=\"color: #808000; text-decoration-color: #808000; font-weight: bold\"> Words      </span>┃\n",
       "┃<span style=\"color: #008080; text-decoration-color: #008080; font-weight: bold\"> 🔗 Experiment Mode </span>┃<span style=\"color: #808000; text-decoration-color: #808000; font-weight: bold\"> Experiment </span>┃\n",
       "┃<span style=\"color: #008080; text-decoration-color: #008080; font-weight: bold\"> 🎭 Trial Boundary  </span>┃<span style=\"color: #808000; text-decoration-color: #808000; font-weight: bold\"> Start      </span>┃\n",
       "┃<span style=\"color: #008080; text-decoration-color: #008080; font-weight: bold\"> 🔬 Trial Type      </span>┃<span style=\"color: #808000; text-decoration-color: #808000; font-weight: bold\"> Stimulus   </span>┃\n",
       "┃<span style=\"color: #008080; text-decoration-color: #008080; font-weight: bold\"> 📊 Modality        </span>┃<span style=\"color: #808000; text-decoration-color: #808000; font-weight: bold\"> Pictures   </span>┃\n",
       "┃<span style=\"color: #008080; text-decoration-color: #008080; font-weight: bold\"> ⏱ Tmin             </span>┃<span style=\"color: #808000; text-decoration-color: #808000; font-weight: bold\"> </span><span style=\"color: #008080; text-decoration-color: #008080; font-weight: bold\">-0.2</span><span style=\"color: #808000; text-decoration-color: #808000; font-weight: bold\">       </span>┃\n",
       "┃<span style=\"color: #008080; text-decoration-color: #008080; font-weight: bold\"> ⏳ Tmax            </span>┃<span style=\"color: #808000; text-decoration-color: #808000; font-weight: bold\"> </span><span style=\"color: #008080; text-decoration-color: #008080; font-weight: bold\">0.5</span><span style=\"color: #808000; text-decoration-color: #808000; font-weight: bold\">        </span>┃\n",
       "┗━━━━━━━━━━━━━━━━━━━━┻━━━━━━━━━━━━┛\n",
       "</pre>\n"
      ],
      "text/plain": [
       "\u001b[3m        Extraction Criteria        \u001b[0m\n",
       "┏━━━━━━━━━━━━━━━━━━━━┳━━━━━━━━━━━━┓\n",
       "┃\u001b[1m \u001b[0m\u001b[1mParameter         \u001b[0m\u001b[1m \u001b[0m┃\u001b[1m \u001b[0m\u001b[1mValue     \u001b[0m\u001b[1m \u001b[0m┃\n",
       "┣━━━━━━━━━━━━━━━━━━━━╋━━━━━━━━━━━━┫\n",
       "┃\u001b[1;36m \u001b[0m\u001b[1;36m🧪 Trial Mode     \u001b[0m\u001b[1;36m \u001b[0m┃\u001b[1;33m \u001b[0m\u001b[1;33m          \u001b[0m\u001b[1;33m \u001b[0m┃\n",
       "┃\u001b[1;36m \u001b[0m\u001b[1;36m📏 Trial Unit     \u001b[0m\u001b[1;36m \u001b[0m┃\u001b[1;33m \u001b[0m\u001b[1;33mWords     \u001b[0m\u001b[1;33m \u001b[0m┃\n",
       "┃\u001b[1;36m \u001b[0m\u001b[1;36m🔗 Experiment Mode\u001b[0m\u001b[1;36m \u001b[0m┃\u001b[1;33m \u001b[0m\u001b[1;33mExperiment\u001b[0m\u001b[1;33m \u001b[0m┃\n",
       "┃\u001b[1;36m \u001b[0m\u001b[1;36m🎭 Trial Boundary \u001b[0m\u001b[1;36m \u001b[0m┃\u001b[1;33m \u001b[0m\u001b[1;33mStart     \u001b[0m\u001b[1;33m \u001b[0m┃\n",
       "┃\u001b[1;36m \u001b[0m\u001b[1;36m🔬 Trial Type     \u001b[0m\u001b[1;36m \u001b[0m┃\u001b[1;33m \u001b[0m\u001b[1;33mStimulus  \u001b[0m\u001b[1;33m \u001b[0m┃\n",
       "┃\u001b[1;36m \u001b[0m\u001b[1;36m📊 Modality       \u001b[0m\u001b[1;36m \u001b[0m┃\u001b[1;33m \u001b[0m\u001b[1;33mPictures  \u001b[0m\u001b[1;33m \u001b[0m┃\n",
       "┃\u001b[1;36m \u001b[0m\u001b[1;36m⏱ Tmin            \u001b[0m\u001b[1;36m \u001b[0m┃\u001b[1;33m \u001b[0m\u001b[1;36m-0.2\u001b[0m\u001b[1;33m      \u001b[0m\u001b[1;33m \u001b[0m┃\n",
       "┃\u001b[1;36m \u001b[0m\u001b[1;36m⏳ Tmax           \u001b[0m\u001b[1;36m \u001b[0m┃\u001b[1;33m \u001b[0m\u001b[1;36m0.5\u001b[0m\u001b[1;33m       \u001b[0m\u001b[1;33m \u001b[0m┃\n",
       "┗━━━━━━━━━━━━━━━━━━━━┻━━━━━━━━━━━━┛\n"
      ]
     },
     "metadata": {},
     "output_type": "display_data"
    },
    {
     "name": "stdout",
     "output_type": "stream",
     "text": [
      "Not setting metadata\n",
      "130 matching events found\n",
      "Applying baseline correction (mode: mean)\n",
      "0 projection items activated\n",
      "Using data from preloaded Raw for 130 events and 701 original time points ...\n",
      "0 bad epochs dropped\n"
     ]
    },
    {
     "data": {
      "text/html": [
       "<pre style=\"white-space:pre;overflow-x:auto;line-height:normal;font-family:Menlo,'DejaVu Sans Mono',consolas,'Courier New',monospace\"> <span style=\"color: #008000; text-decoration-color: #008000; font-weight: bold\">Creating epochs: sub-</span><span style=\"color: #008000; text-decoration-color: #008000; font-weight: bold\">15</span><span style=\"color: #008000; text-decoration-color: #008000; font-weight: bold\">, ses-</span><span style=\"color: #008000; text-decoration-color: #008000; font-weight: bold\">01</span>\n",
       "</pre>\n"
      ],
      "text/plain": [
       " \u001b[1;32mCreating epochs: sub-\u001b[0m\u001b[1;32m15\u001b[0m\u001b[1;32m, ses-\u001b[0m\u001b[1;32m01\u001b[0m\n"
      ]
     },
     "metadata": {},
     "output_type": "display_data"
    },
    {
     "data": {
      "text/html": [
       "<pre style=\"white-space:pre;overflow-x:auto;line-height:normal;font-family:Menlo,'DejaVu Sans Mono',consolas,'Courier New',monospace\"><span style=\"color: #800000; text-decoration-color: #800000\">╭────────────────────────────────╮</span>\n",
       "<span style=\"color: #800000; text-decoration-color: #800000\">│</span>  <span style=\"color: #800000; text-decoration-color: #800000; font-weight: bold\">Initializing DataLoader Class</span> <span style=\"color: #800000; text-decoration-color: #800000\">│</span>\n",
       "<span style=\"color: #800000; text-decoration-color: #800000\">╰────────────────────────────────╯</span>\n",
       "</pre>\n"
      ],
      "text/plain": [
       "\u001b[31m╭────────────────────────────────╮\u001b[0m\n",
       "\u001b[31m│\u001b[0m  \u001b[1;31mInitializing DataLoader Class\u001b[0m \u001b[31m│\u001b[0m\n",
       "\u001b[31m╰────────────────────────────────╯\u001b[0m\n"
      ]
     },
     "metadata": {},
     "output_type": "display_data"
    },
    {
     "data": {
      "text/html": [
       "<pre style=\"white-space:pre;overflow-x:auto;line-height:normal;font-family:Menlo,'DejaVu Sans Mono',consolas,'Courier New',monospace\"> <span style=\"color: #008000; text-decoration-color: #008000; font-weight: bold\">Creating EPOCHS</span>\n",
       "</pre>\n"
      ],
      "text/plain": [
       " \u001b[1;32mCreating EPOCHS\u001b[0m\n"
      ]
     },
     "metadata": {},
     "output_type": "display_data"
    },
    {
     "data": {
      "text/html": [
       "<pre style=\"white-space:pre;overflow-x:auto;line-height:normal;font-family:Menlo,'DejaVu Sans Mono',consolas,'Courier New',monospace\"><span style=\"font-style: italic\">        Extraction Criteria        </span>\n",
       "┏━━━━━━━━━━━━━━━━━━━━┳━━━━━━━━━━━━┓\n",
       "┃<span style=\"font-weight: bold\"> Parameter          </span>┃<span style=\"font-weight: bold\"> Value      </span>┃\n",
       "┣━━━━━━━━━━━━━━━━━━━━╋━━━━━━━━━━━━┫\n",
       "┃<span style=\"color: #008080; text-decoration-color: #008080; font-weight: bold\"> 🧪 Trial Mode      </span>┃<span style=\"color: #808000; text-decoration-color: #808000; font-weight: bold\">            </span>┃\n",
       "┃<span style=\"color: #008080; text-decoration-color: #008080; font-weight: bold\"> 📏 Trial Unit      </span>┃<span style=\"color: #808000; text-decoration-color: #808000; font-weight: bold\"> Words      </span>┃\n",
       "┃<span style=\"color: #008080; text-decoration-color: #008080; font-weight: bold\"> 🔗 Experiment Mode </span>┃<span style=\"color: #808000; text-decoration-color: #808000; font-weight: bold\"> Experiment </span>┃\n",
       "┃<span style=\"color: #008080; text-decoration-color: #008080; font-weight: bold\"> 🎭 Trial Boundary  </span>┃<span style=\"color: #808000; text-decoration-color: #808000; font-weight: bold\"> Start      </span>┃\n",
       "┃<span style=\"color: #008080; text-decoration-color: #008080; font-weight: bold\"> 🔬 Trial Type      </span>┃<span style=\"color: #808000; text-decoration-color: #808000; font-weight: bold\"> Stimulus   </span>┃\n",
       "┃<span style=\"color: #008080; text-decoration-color: #008080; font-weight: bold\"> 📊 Modality        </span>┃<span style=\"color: #808000; text-decoration-color: #808000; font-weight: bold\"> Pictures   </span>┃\n",
       "┃<span style=\"color: #008080; text-decoration-color: #008080; font-weight: bold\"> ⏱ Tmin             </span>┃<span style=\"color: #808000; text-decoration-color: #808000; font-weight: bold\"> </span><span style=\"color: #008080; text-decoration-color: #008080; font-weight: bold\">-0.2</span><span style=\"color: #808000; text-decoration-color: #808000; font-weight: bold\">       </span>┃\n",
       "┃<span style=\"color: #008080; text-decoration-color: #008080; font-weight: bold\"> ⏳ Tmax            </span>┃<span style=\"color: #808000; text-decoration-color: #808000; font-weight: bold\"> </span><span style=\"color: #008080; text-decoration-color: #008080; font-weight: bold\">0.5</span><span style=\"color: #808000; text-decoration-color: #808000; font-weight: bold\">        </span>┃\n",
       "┗━━━━━━━━━━━━━━━━━━━━┻━━━━━━━━━━━━┛\n",
       "</pre>\n"
      ],
      "text/plain": [
       "\u001b[3m        Extraction Criteria        \u001b[0m\n",
       "┏━━━━━━━━━━━━━━━━━━━━┳━━━━━━━━━━━━┓\n",
       "┃\u001b[1m \u001b[0m\u001b[1mParameter         \u001b[0m\u001b[1m \u001b[0m┃\u001b[1m \u001b[0m\u001b[1mValue     \u001b[0m\u001b[1m \u001b[0m┃\n",
       "┣━━━━━━━━━━━━━━━━━━━━╋━━━━━━━━━━━━┫\n",
       "┃\u001b[1;36m \u001b[0m\u001b[1;36m🧪 Trial Mode     \u001b[0m\u001b[1;36m \u001b[0m┃\u001b[1;33m \u001b[0m\u001b[1;33m          \u001b[0m\u001b[1;33m \u001b[0m┃\n",
       "┃\u001b[1;36m \u001b[0m\u001b[1;36m📏 Trial Unit     \u001b[0m\u001b[1;36m \u001b[0m┃\u001b[1;33m \u001b[0m\u001b[1;33mWords     \u001b[0m\u001b[1;33m \u001b[0m┃\n",
       "┃\u001b[1;36m \u001b[0m\u001b[1;36m🔗 Experiment Mode\u001b[0m\u001b[1;36m \u001b[0m┃\u001b[1;33m \u001b[0m\u001b[1;33mExperiment\u001b[0m\u001b[1;33m \u001b[0m┃\n",
       "┃\u001b[1;36m \u001b[0m\u001b[1;36m🎭 Trial Boundary \u001b[0m\u001b[1;36m \u001b[0m┃\u001b[1;33m \u001b[0m\u001b[1;33mStart     \u001b[0m\u001b[1;33m \u001b[0m┃\n",
       "┃\u001b[1;36m \u001b[0m\u001b[1;36m🔬 Trial Type     \u001b[0m\u001b[1;36m \u001b[0m┃\u001b[1;33m \u001b[0m\u001b[1;33mStimulus  \u001b[0m\u001b[1;33m \u001b[0m┃\n",
       "┃\u001b[1;36m \u001b[0m\u001b[1;36m📊 Modality       \u001b[0m\u001b[1;36m \u001b[0m┃\u001b[1;33m \u001b[0m\u001b[1;33mPictures  \u001b[0m\u001b[1;33m \u001b[0m┃\n",
       "┃\u001b[1;36m \u001b[0m\u001b[1;36m⏱ Tmin            \u001b[0m\u001b[1;36m \u001b[0m┃\u001b[1;33m \u001b[0m\u001b[1;36m-0.2\u001b[0m\u001b[1;33m      \u001b[0m\u001b[1;33m \u001b[0m┃\n",
       "┃\u001b[1;36m \u001b[0m\u001b[1;36m⏳ Tmax           \u001b[0m\u001b[1;36m \u001b[0m┃\u001b[1;33m \u001b[0m\u001b[1;36m0.5\u001b[0m\u001b[1;33m       \u001b[0m\u001b[1;33m \u001b[0m┃\n",
       "┗━━━━━━━━━━━━━━━━━━━━┻━━━━━━━━━━━━┛\n"
      ]
     },
     "metadata": {},
     "output_type": "display_data"
    },
    {
     "name": "stdout",
     "output_type": "stream",
     "text": [
      "Not setting metadata\n",
      "130 matching events found\n",
      "Applying baseline correction (mode: mean)\n",
      "0 projection items activated\n",
      "Using data from preloaded Raw for 130 events and 701 original time points ...\n",
      "0 bad epochs dropped\n"
     ]
    },
    {
     "data": {
      "text/html": [
       "<pre style=\"white-space:pre;overflow-x:auto;line-height:normal;font-family:Menlo,'DejaVu Sans Mono',consolas,'Courier New',monospace\"> <span style=\"color: #008000; text-decoration-color: #008000; font-weight: bold\">Creating epochs: sub-</span><span style=\"color: #008000; text-decoration-color: #008000; font-weight: bold\">01</span><span style=\"color: #008000; text-decoration-color: #008000; font-weight: bold\">, ses-</span><span style=\"color: #008000; text-decoration-color: #008000; font-weight: bold\">01</span>\n",
       "</pre>\n"
      ],
      "text/plain": [
       " \u001b[1;32mCreating epochs: sub-\u001b[0m\u001b[1;32m01\u001b[0m\u001b[1;32m, ses-\u001b[0m\u001b[1;32m01\u001b[0m\n"
      ]
     },
     "metadata": {},
     "output_type": "display_data"
    },
    {
     "data": {
      "text/html": [
       "<pre style=\"white-space:pre;overflow-x:auto;line-height:normal;font-family:Menlo,'DejaVu Sans Mono',consolas,'Courier New',monospace\"><span style=\"color: #800000; text-decoration-color: #800000\">╭────────────────────────────────╮</span>\n",
       "<span style=\"color: #800000; text-decoration-color: #800000\">│</span>  <span style=\"color: #800000; text-decoration-color: #800000; font-weight: bold\">Initializing DataLoader Class</span> <span style=\"color: #800000; text-decoration-color: #800000\">│</span>\n",
       "<span style=\"color: #800000; text-decoration-color: #800000\">╰────────────────────────────────╯</span>\n",
       "</pre>\n"
      ],
      "text/plain": [
       "\u001b[31m╭────────────────────────────────╮\u001b[0m\n",
       "\u001b[31m│\u001b[0m  \u001b[1;31mInitializing DataLoader Class\u001b[0m \u001b[31m│\u001b[0m\n",
       "\u001b[31m╰────────────────────────────────╯\u001b[0m\n"
      ]
     },
     "metadata": {},
     "output_type": "display_data"
    },
    {
     "data": {
      "text/html": [
       "<pre style=\"white-space:pre;overflow-x:auto;line-height:normal;font-family:Menlo,'DejaVu Sans Mono',consolas,'Courier New',monospace\"> <span style=\"color: #008000; text-decoration-color: #008000; font-weight: bold\">Creating EPOCHS</span>\n",
       "</pre>\n"
      ],
      "text/plain": [
       " \u001b[1;32mCreating EPOCHS\u001b[0m\n"
      ]
     },
     "metadata": {},
     "output_type": "display_data"
    },
    {
     "data": {
      "text/html": [
       "<pre style=\"white-space:pre;overflow-x:auto;line-height:normal;font-family:Menlo,'DejaVu Sans Mono',consolas,'Courier New',monospace\"><span style=\"font-style: italic\">        Extraction Criteria        </span>\n",
       "┏━━━━━━━━━━━━━━━━━━━━┳━━━━━━━━━━━━┓\n",
       "┃<span style=\"font-weight: bold\"> Parameter          </span>┃<span style=\"font-weight: bold\"> Value      </span>┃\n",
       "┣━━━━━━━━━━━━━━━━━━━━╋━━━━━━━━━━━━┫\n",
       "┃<span style=\"color: #008080; text-decoration-color: #008080; font-weight: bold\"> 🧪 Trial Mode      </span>┃<span style=\"color: #808000; text-decoration-color: #808000; font-weight: bold\">            </span>┃\n",
       "┃<span style=\"color: #008080; text-decoration-color: #008080; font-weight: bold\"> 📏 Trial Unit      </span>┃<span style=\"color: #808000; text-decoration-color: #808000; font-weight: bold\"> Words      </span>┃\n",
       "┃<span style=\"color: #008080; text-decoration-color: #008080; font-weight: bold\"> 🔗 Experiment Mode </span>┃<span style=\"color: #808000; text-decoration-color: #808000; font-weight: bold\"> Experiment </span>┃\n",
       "┃<span style=\"color: #008080; text-decoration-color: #008080; font-weight: bold\"> 🎭 Trial Boundary  </span>┃<span style=\"color: #808000; text-decoration-color: #808000; font-weight: bold\"> Start      </span>┃\n",
       "┃<span style=\"color: #008080; text-decoration-color: #008080; font-weight: bold\"> 🔬 Trial Type      </span>┃<span style=\"color: #808000; text-decoration-color: #808000; font-weight: bold\"> Fixation   </span>┃\n",
       "┃<span style=\"color: #008080; text-decoration-color: #008080; font-weight: bold\"> 📊 Modality        </span>┃<span style=\"color: #808000; text-decoration-color: #808000; font-weight: bold\"> Pictures   </span>┃\n",
       "┃<span style=\"color: #008080; text-decoration-color: #008080; font-weight: bold\"> ⏱ Tmin             </span>┃<span style=\"color: #808000; text-decoration-color: #808000; font-weight: bold\"> </span><span style=\"color: #008080; text-decoration-color: #008080; font-weight: bold\">0.2</span><span style=\"color: #808000; text-decoration-color: #808000; font-weight: bold\">        </span>┃\n",
       "┃<span style=\"color: #008080; text-decoration-color: #008080; font-weight: bold\"> ⏳ Tmax            </span>┃<span style=\"color: #808000; text-decoration-color: #808000; font-weight: bold\"> </span><span style=\"color: #008080; text-decoration-color: #008080; font-weight: bold\">0.9</span><span style=\"color: #808000; text-decoration-color: #808000; font-weight: bold\">        </span>┃\n",
       "┗━━━━━━━━━━━━━━━━━━━━┻━━━━━━━━━━━━┛\n",
       "</pre>\n"
      ],
      "text/plain": [
       "\u001b[3m        Extraction Criteria        \u001b[0m\n",
       "┏━━━━━━━━━━━━━━━━━━━━┳━━━━━━━━━━━━┓\n",
       "┃\u001b[1m \u001b[0m\u001b[1mParameter         \u001b[0m\u001b[1m \u001b[0m┃\u001b[1m \u001b[0m\u001b[1mValue     \u001b[0m\u001b[1m \u001b[0m┃\n",
       "┣━━━━━━━━━━━━━━━━━━━━╋━━━━━━━━━━━━┫\n",
       "┃\u001b[1;36m \u001b[0m\u001b[1;36m🧪 Trial Mode     \u001b[0m\u001b[1;36m \u001b[0m┃\u001b[1;33m \u001b[0m\u001b[1;33m          \u001b[0m\u001b[1;33m \u001b[0m┃\n",
       "┃\u001b[1;36m \u001b[0m\u001b[1;36m📏 Trial Unit     \u001b[0m\u001b[1;36m \u001b[0m┃\u001b[1;33m \u001b[0m\u001b[1;33mWords     \u001b[0m\u001b[1;33m \u001b[0m┃\n",
       "┃\u001b[1;36m \u001b[0m\u001b[1;36m🔗 Experiment Mode\u001b[0m\u001b[1;36m \u001b[0m┃\u001b[1;33m \u001b[0m\u001b[1;33mExperiment\u001b[0m\u001b[1;33m \u001b[0m┃\n",
       "┃\u001b[1;36m \u001b[0m\u001b[1;36m🎭 Trial Boundary \u001b[0m\u001b[1;36m \u001b[0m┃\u001b[1;33m \u001b[0m\u001b[1;33mStart     \u001b[0m\u001b[1;33m \u001b[0m┃\n",
       "┃\u001b[1;36m \u001b[0m\u001b[1;36m🔬 Trial Type     \u001b[0m\u001b[1;36m \u001b[0m┃\u001b[1;33m \u001b[0m\u001b[1;33mFixation  \u001b[0m\u001b[1;33m \u001b[0m┃\n",
       "┃\u001b[1;36m \u001b[0m\u001b[1;36m📊 Modality       \u001b[0m\u001b[1;36m \u001b[0m┃\u001b[1;33m \u001b[0m\u001b[1;33mPictures  \u001b[0m\u001b[1;33m \u001b[0m┃\n",
       "┃\u001b[1;36m \u001b[0m\u001b[1;36m⏱ Tmin            \u001b[0m\u001b[1;36m \u001b[0m┃\u001b[1;33m \u001b[0m\u001b[1;36m0.2\u001b[0m\u001b[1;33m       \u001b[0m\u001b[1;33m \u001b[0m┃\n",
       "┃\u001b[1;36m \u001b[0m\u001b[1;36m⏳ Tmax           \u001b[0m\u001b[1;36m \u001b[0m┃\u001b[1;33m \u001b[0m\u001b[1;36m0.9\u001b[0m\u001b[1;33m       \u001b[0m\u001b[1;33m \u001b[0m┃\n",
       "┗━━━━━━━━━━━━━━━━━━━━┻━━━━━━━━━━━━┛\n"
      ]
     },
     "metadata": {},
     "output_type": "display_data"
    },
    {
     "name": "stdout",
     "output_type": "stream",
     "text": [
      "Not setting metadata\n",
      "130 matching events found\n",
      "Applying baseline correction (mode: mean)\n",
      "0 projection items activated\n",
      "Using data from preloaded Raw for 130 events and 701 original time points ...\n",
      "0 bad epochs dropped\n"
     ]
    },
    {
     "data": {
      "text/html": [
       "<pre style=\"white-space:pre;overflow-x:auto;line-height:normal;font-family:Menlo,'DejaVu Sans Mono',consolas,'Courier New',monospace\"> <span style=\"color: #008000; text-decoration-color: #008000; font-weight: bold\">Creating epochs: sub-</span><span style=\"color: #008000; text-decoration-color: #008000; font-weight: bold\">02</span><span style=\"color: #008000; text-decoration-color: #008000; font-weight: bold\">, ses-</span><span style=\"color: #008000; text-decoration-color: #008000; font-weight: bold\">01</span>\n",
       "</pre>\n"
      ],
      "text/plain": [
       " \u001b[1;32mCreating epochs: sub-\u001b[0m\u001b[1;32m02\u001b[0m\u001b[1;32m, ses-\u001b[0m\u001b[1;32m01\u001b[0m\n"
      ]
     },
     "metadata": {},
     "output_type": "display_data"
    },
    {
     "data": {
      "text/html": [
       "<pre style=\"white-space:pre;overflow-x:auto;line-height:normal;font-family:Menlo,'DejaVu Sans Mono',consolas,'Courier New',monospace\"><span style=\"color: #800000; text-decoration-color: #800000\">╭────────────────────────────────╮</span>\n",
       "<span style=\"color: #800000; text-decoration-color: #800000\">│</span>  <span style=\"color: #800000; text-decoration-color: #800000; font-weight: bold\">Initializing DataLoader Class</span> <span style=\"color: #800000; text-decoration-color: #800000\">│</span>\n",
       "<span style=\"color: #800000; text-decoration-color: #800000\">╰────────────────────────────────╯</span>\n",
       "</pre>\n"
      ],
      "text/plain": [
       "\u001b[31m╭────────────────────────────────╮\u001b[0m\n",
       "\u001b[31m│\u001b[0m  \u001b[1;31mInitializing DataLoader Class\u001b[0m \u001b[31m│\u001b[0m\n",
       "\u001b[31m╰────────────────────────────────╯\u001b[0m\n"
      ]
     },
     "metadata": {},
     "output_type": "display_data"
    },
    {
     "data": {
      "text/html": [
       "<pre style=\"white-space:pre;overflow-x:auto;line-height:normal;font-family:Menlo,'DejaVu Sans Mono',consolas,'Courier New',monospace\"> <span style=\"color: #008000; text-decoration-color: #008000; font-weight: bold\">Creating EPOCHS</span>\n",
       "</pre>\n"
      ],
      "text/plain": [
       " \u001b[1;32mCreating EPOCHS\u001b[0m\n"
      ]
     },
     "metadata": {},
     "output_type": "display_data"
    },
    {
     "data": {
      "text/html": [
       "<pre style=\"white-space:pre;overflow-x:auto;line-height:normal;font-family:Menlo,'DejaVu Sans Mono',consolas,'Courier New',monospace\"><span style=\"font-style: italic\">        Extraction Criteria        </span>\n",
       "┏━━━━━━━━━━━━━━━━━━━━┳━━━━━━━━━━━━┓\n",
       "┃<span style=\"font-weight: bold\"> Parameter          </span>┃<span style=\"font-weight: bold\"> Value      </span>┃\n",
       "┣━━━━━━━━━━━━━━━━━━━━╋━━━━━━━━━━━━┫\n",
       "┃<span style=\"color: #008080; text-decoration-color: #008080; font-weight: bold\"> 🧪 Trial Mode      </span>┃<span style=\"color: #808000; text-decoration-color: #808000; font-weight: bold\">            </span>┃\n",
       "┃<span style=\"color: #008080; text-decoration-color: #008080; font-weight: bold\"> 📏 Trial Unit      </span>┃<span style=\"color: #808000; text-decoration-color: #808000; font-weight: bold\"> Words      </span>┃\n",
       "┃<span style=\"color: #008080; text-decoration-color: #008080; font-weight: bold\"> 🔗 Experiment Mode </span>┃<span style=\"color: #808000; text-decoration-color: #808000; font-weight: bold\"> Experiment </span>┃\n",
       "┃<span style=\"color: #008080; text-decoration-color: #008080; font-weight: bold\"> 🎭 Trial Boundary  </span>┃<span style=\"color: #808000; text-decoration-color: #808000; font-weight: bold\"> Start      </span>┃\n",
       "┃<span style=\"color: #008080; text-decoration-color: #008080; font-weight: bold\"> 🔬 Trial Type      </span>┃<span style=\"color: #808000; text-decoration-color: #808000; font-weight: bold\"> Fixation   </span>┃\n",
       "┃<span style=\"color: #008080; text-decoration-color: #008080; font-weight: bold\"> 📊 Modality        </span>┃<span style=\"color: #808000; text-decoration-color: #808000; font-weight: bold\"> Pictures   </span>┃\n",
       "┃<span style=\"color: #008080; text-decoration-color: #008080; font-weight: bold\"> ⏱ Tmin             </span>┃<span style=\"color: #808000; text-decoration-color: #808000; font-weight: bold\"> </span><span style=\"color: #008080; text-decoration-color: #008080; font-weight: bold\">0.2</span><span style=\"color: #808000; text-decoration-color: #808000; font-weight: bold\">        </span>┃\n",
       "┃<span style=\"color: #008080; text-decoration-color: #008080; font-weight: bold\"> ⏳ Tmax            </span>┃<span style=\"color: #808000; text-decoration-color: #808000; font-weight: bold\"> </span><span style=\"color: #008080; text-decoration-color: #008080; font-weight: bold\">0.9</span><span style=\"color: #808000; text-decoration-color: #808000; font-weight: bold\">        </span>┃\n",
       "┗━━━━━━━━━━━━━━━━━━━━┻━━━━━━━━━━━━┛\n",
       "</pre>\n"
      ],
      "text/plain": [
       "\u001b[3m        Extraction Criteria        \u001b[0m\n",
       "┏━━━━━━━━━━━━━━━━━━━━┳━━━━━━━━━━━━┓\n",
       "┃\u001b[1m \u001b[0m\u001b[1mParameter         \u001b[0m\u001b[1m \u001b[0m┃\u001b[1m \u001b[0m\u001b[1mValue     \u001b[0m\u001b[1m \u001b[0m┃\n",
       "┣━━━━━━━━━━━━━━━━━━━━╋━━━━━━━━━━━━┫\n",
       "┃\u001b[1;36m \u001b[0m\u001b[1;36m🧪 Trial Mode     \u001b[0m\u001b[1;36m \u001b[0m┃\u001b[1;33m \u001b[0m\u001b[1;33m          \u001b[0m\u001b[1;33m \u001b[0m┃\n",
       "┃\u001b[1;36m \u001b[0m\u001b[1;36m📏 Trial Unit     \u001b[0m\u001b[1;36m \u001b[0m┃\u001b[1;33m \u001b[0m\u001b[1;33mWords     \u001b[0m\u001b[1;33m \u001b[0m┃\n",
       "┃\u001b[1;36m \u001b[0m\u001b[1;36m🔗 Experiment Mode\u001b[0m\u001b[1;36m \u001b[0m┃\u001b[1;33m \u001b[0m\u001b[1;33mExperiment\u001b[0m\u001b[1;33m \u001b[0m┃\n",
       "┃\u001b[1;36m \u001b[0m\u001b[1;36m🎭 Trial Boundary \u001b[0m\u001b[1;36m \u001b[0m┃\u001b[1;33m \u001b[0m\u001b[1;33mStart     \u001b[0m\u001b[1;33m \u001b[0m┃\n",
       "┃\u001b[1;36m \u001b[0m\u001b[1;36m🔬 Trial Type     \u001b[0m\u001b[1;36m \u001b[0m┃\u001b[1;33m \u001b[0m\u001b[1;33mFixation  \u001b[0m\u001b[1;33m \u001b[0m┃\n",
       "┃\u001b[1;36m \u001b[0m\u001b[1;36m📊 Modality       \u001b[0m\u001b[1;36m \u001b[0m┃\u001b[1;33m \u001b[0m\u001b[1;33mPictures  \u001b[0m\u001b[1;33m \u001b[0m┃\n",
       "┃\u001b[1;36m \u001b[0m\u001b[1;36m⏱ Tmin            \u001b[0m\u001b[1;36m \u001b[0m┃\u001b[1;33m \u001b[0m\u001b[1;36m0.2\u001b[0m\u001b[1;33m       \u001b[0m\u001b[1;33m \u001b[0m┃\n",
       "┃\u001b[1;36m \u001b[0m\u001b[1;36m⏳ Tmax           \u001b[0m\u001b[1;36m \u001b[0m┃\u001b[1;33m \u001b[0m\u001b[1;36m0.9\u001b[0m\u001b[1;33m       \u001b[0m\u001b[1;33m \u001b[0m┃\n",
       "┗━━━━━━━━━━━━━━━━━━━━┻━━━━━━━━━━━━┛\n"
      ]
     },
     "metadata": {},
     "output_type": "display_data"
    },
    {
     "name": "stdout",
     "output_type": "stream",
     "text": [
      "Not setting metadata\n",
      "130 matching events found\n",
      "Applying baseline correction (mode: mean)\n",
      "0 projection items activated\n",
      "Using data from preloaded Raw for 130 events and 701 original time points ...\n",
      "0 bad epochs dropped\n"
     ]
    },
    {
     "data": {
      "text/html": [
       "<pre style=\"white-space:pre;overflow-x:auto;line-height:normal;font-family:Menlo,'DejaVu Sans Mono',consolas,'Courier New',monospace\"> <span style=\"color: #008000; text-decoration-color: #008000; font-weight: bold\">Creating epochs: sub-</span><span style=\"color: #008000; text-decoration-color: #008000; font-weight: bold\">03</span><span style=\"color: #008000; text-decoration-color: #008000; font-weight: bold\">, ses-</span><span style=\"color: #008000; text-decoration-color: #008000; font-weight: bold\">01</span>\n",
       "</pre>\n"
      ],
      "text/plain": [
       " \u001b[1;32mCreating epochs: sub-\u001b[0m\u001b[1;32m03\u001b[0m\u001b[1;32m, ses-\u001b[0m\u001b[1;32m01\u001b[0m\n"
      ]
     },
     "metadata": {},
     "output_type": "display_data"
    },
    {
     "data": {
      "text/html": [
       "<pre style=\"white-space:pre;overflow-x:auto;line-height:normal;font-family:Menlo,'DejaVu Sans Mono',consolas,'Courier New',monospace\"><span style=\"color: #800000; text-decoration-color: #800000\">╭────────────────────────────────╮</span>\n",
       "<span style=\"color: #800000; text-decoration-color: #800000\">│</span>  <span style=\"color: #800000; text-decoration-color: #800000; font-weight: bold\">Initializing DataLoader Class</span> <span style=\"color: #800000; text-decoration-color: #800000\">│</span>\n",
       "<span style=\"color: #800000; text-decoration-color: #800000\">╰────────────────────────────────╯</span>\n",
       "</pre>\n"
      ],
      "text/plain": [
       "\u001b[31m╭────────────────────────────────╮\u001b[0m\n",
       "\u001b[31m│\u001b[0m  \u001b[1;31mInitializing DataLoader Class\u001b[0m \u001b[31m│\u001b[0m\n",
       "\u001b[31m╰────────────────────────────────╯\u001b[0m\n"
      ]
     },
     "metadata": {},
     "output_type": "display_data"
    },
    {
     "data": {
      "text/html": [
       "<pre style=\"white-space:pre;overflow-x:auto;line-height:normal;font-family:Menlo,'DejaVu Sans Mono',consolas,'Courier New',monospace\"> <span style=\"color: #008000; text-decoration-color: #008000; font-weight: bold\">Creating EPOCHS</span>\n",
       "</pre>\n"
      ],
      "text/plain": [
       " \u001b[1;32mCreating EPOCHS\u001b[0m\n"
      ]
     },
     "metadata": {},
     "output_type": "display_data"
    },
    {
     "data": {
      "text/html": [
       "<pre style=\"white-space:pre;overflow-x:auto;line-height:normal;font-family:Menlo,'DejaVu Sans Mono',consolas,'Courier New',monospace\"><span style=\"font-style: italic\">        Extraction Criteria        </span>\n",
       "┏━━━━━━━━━━━━━━━━━━━━┳━━━━━━━━━━━━┓\n",
       "┃<span style=\"font-weight: bold\"> Parameter          </span>┃<span style=\"font-weight: bold\"> Value      </span>┃\n",
       "┣━━━━━━━━━━━━━━━━━━━━╋━━━━━━━━━━━━┫\n",
       "┃<span style=\"color: #008080; text-decoration-color: #008080; font-weight: bold\"> 🧪 Trial Mode      </span>┃<span style=\"color: #808000; text-decoration-color: #808000; font-weight: bold\">            </span>┃\n",
       "┃<span style=\"color: #008080; text-decoration-color: #008080; font-weight: bold\"> 📏 Trial Unit      </span>┃<span style=\"color: #808000; text-decoration-color: #808000; font-weight: bold\"> Words      </span>┃\n",
       "┃<span style=\"color: #008080; text-decoration-color: #008080; font-weight: bold\"> 🔗 Experiment Mode </span>┃<span style=\"color: #808000; text-decoration-color: #808000; font-weight: bold\"> Experiment </span>┃\n",
       "┃<span style=\"color: #008080; text-decoration-color: #008080; font-weight: bold\"> 🎭 Trial Boundary  </span>┃<span style=\"color: #808000; text-decoration-color: #808000; font-weight: bold\"> Start      </span>┃\n",
       "┃<span style=\"color: #008080; text-decoration-color: #008080; font-weight: bold\"> 🔬 Trial Type      </span>┃<span style=\"color: #808000; text-decoration-color: #808000; font-weight: bold\"> Fixation   </span>┃\n",
       "┃<span style=\"color: #008080; text-decoration-color: #008080; font-weight: bold\"> 📊 Modality        </span>┃<span style=\"color: #808000; text-decoration-color: #808000; font-weight: bold\"> Pictures   </span>┃\n",
       "┃<span style=\"color: #008080; text-decoration-color: #008080; font-weight: bold\"> ⏱ Tmin             </span>┃<span style=\"color: #808000; text-decoration-color: #808000; font-weight: bold\"> </span><span style=\"color: #008080; text-decoration-color: #008080; font-weight: bold\">0.2</span><span style=\"color: #808000; text-decoration-color: #808000; font-weight: bold\">        </span>┃\n",
       "┃<span style=\"color: #008080; text-decoration-color: #008080; font-weight: bold\"> ⏳ Tmax            </span>┃<span style=\"color: #808000; text-decoration-color: #808000; font-weight: bold\"> </span><span style=\"color: #008080; text-decoration-color: #008080; font-weight: bold\">0.9</span><span style=\"color: #808000; text-decoration-color: #808000; font-weight: bold\">        </span>┃\n",
       "┗━━━━━━━━━━━━━━━━━━━━┻━━━━━━━━━━━━┛\n",
       "</pre>\n"
      ],
      "text/plain": [
       "\u001b[3m        Extraction Criteria        \u001b[0m\n",
       "┏━━━━━━━━━━━━━━━━━━━━┳━━━━━━━━━━━━┓\n",
       "┃\u001b[1m \u001b[0m\u001b[1mParameter         \u001b[0m\u001b[1m \u001b[0m┃\u001b[1m \u001b[0m\u001b[1mValue     \u001b[0m\u001b[1m \u001b[0m┃\n",
       "┣━━━━━━━━━━━━━━━━━━━━╋━━━━━━━━━━━━┫\n",
       "┃\u001b[1;36m \u001b[0m\u001b[1;36m🧪 Trial Mode     \u001b[0m\u001b[1;36m \u001b[0m┃\u001b[1;33m \u001b[0m\u001b[1;33m          \u001b[0m\u001b[1;33m \u001b[0m┃\n",
       "┃\u001b[1;36m \u001b[0m\u001b[1;36m📏 Trial Unit     \u001b[0m\u001b[1;36m \u001b[0m┃\u001b[1;33m \u001b[0m\u001b[1;33mWords     \u001b[0m\u001b[1;33m \u001b[0m┃\n",
       "┃\u001b[1;36m \u001b[0m\u001b[1;36m🔗 Experiment Mode\u001b[0m\u001b[1;36m \u001b[0m┃\u001b[1;33m \u001b[0m\u001b[1;33mExperiment\u001b[0m\u001b[1;33m \u001b[0m┃\n",
       "┃\u001b[1;36m \u001b[0m\u001b[1;36m🎭 Trial Boundary \u001b[0m\u001b[1;36m \u001b[0m┃\u001b[1;33m \u001b[0m\u001b[1;33mStart     \u001b[0m\u001b[1;33m \u001b[0m┃\n",
       "┃\u001b[1;36m \u001b[0m\u001b[1;36m🔬 Trial Type     \u001b[0m\u001b[1;36m \u001b[0m┃\u001b[1;33m \u001b[0m\u001b[1;33mFixation  \u001b[0m\u001b[1;33m \u001b[0m┃\n",
       "┃\u001b[1;36m \u001b[0m\u001b[1;36m📊 Modality       \u001b[0m\u001b[1;36m \u001b[0m┃\u001b[1;33m \u001b[0m\u001b[1;33mPictures  \u001b[0m\u001b[1;33m \u001b[0m┃\n",
       "┃\u001b[1;36m \u001b[0m\u001b[1;36m⏱ Tmin            \u001b[0m\u001b[1;36m \u001b[0m┃\u001b[1;33m \u001b[0m\u001b[1;36m0.2\u001b[0m\u001b[1;33m       \u001b[0m\u001b[1;33m \u001b[0m┃\n",
       "┃\u001b[1;36m \u001b[0m\u001b[1;36m⏳ Tmax           \u001b[0m\u001b[1;36m \u001b[0m┃\u001b[1;33m \u001b[0m\u001b[1;36m0.9\u001b[0m\u001b[1;33m       \u001b[0m\u001b[1;33m \u001b[0m┃\n",
       "┗━━━━━━━━━━━━━━━━━━━━┻━━━━━━━━━━━━┛\n"
      ]
     },
     "metadata": {},
     "output_type": "display_data"
    },
    {
     "name": "stdout",
     "output_type": "stream",
     "text": [
      "Not setting metadata\n",
      "130 matching events found\n",
      "Applying baseline correction (mode: mean)\n",
      "0 projection items activated\n",
      "Using data from preloaded Raw for 130 events and 701 original time points ...\n",
      "0 bad epochs dropped\n"
     ]
    },
    {
     "data": {
      "text/html": [
       "<pre style=\"white-space:pre;overflow-x:auto;line-height:normal;font-family:Menlo,'DejaVu Sans Mono',consolas,'Courier New',monospace\"> <span style=\"color: #008000; text-decoration-color: #008000; font-weight: bold\">Creating epochs: sub-</span><span style=\"color: #008000; text-decoration-color: #008000; font-weight: bold\">04</span><span style=\"color: #008000; text-decoration-color: #008000; font-weight: bold\">, ses-</span><span style=\"color: #008000; text-decoration-color: #008000; font-weight: bold\">01</span>\n",
       "</pre>\n"
      ],
      "text/plain": [
       " \u001b[1;32mCreating epochs: sub-\u001b[0m\u001b[1;32m04\u001b[0m\u001b[1;32m, ses-\u001b[0m\u001b[1;32m01\u001b[0m\n"
      ]
     },
     "metadata": {},
     "output_type": "display_data"
    },
    {
     "data": {
      "text/html": [
       "<pre style=\"white-space:pre;overflow-x:auto;line-height:normal;font-family:Menlo,'DejaVu Sans Mono',consolas,'Courier New',monospace\"><span style=\"color: #800000; text-decoration-color: #800000\">╭────────────────────────────────╮</span>\n",
       "<span style=\"color: #800000; text-decoration-color: #800000\">│</span>  <span style=\"color: #800000; text-decoration-color: #800000; font-weight: bold\">Initializing DataLoader Class</span> <span style=\"color: #800000; text-decoration-color: #800000\">│</span>\n",
       "<span style=\"color: #800000; text-decoration-color: #800000\">╰────────────────────────────────╯</span>\n",
       "</pre>\n"
      ],
      "text/plain": [
       "\u001b[31m╭────────────────────────────────╮\u001b[0m\n",
       "\u001b[31m│\u001b[0m  \u001b[1;31mInitializing DataLoader Class\u001b[0m \u001b[31m│\u001b[0m\n",
       "\u001b[31m╰────────────────────────────────╯\u001b[0m\n"
      ]
     },
     "metadata": {},
     "output_type": "display_data"
    },
    {
     "data": {
      "text/html": [
       "<pre style=\"white-space:pre;overflow-x:auto;line-height:normal;font-family:Menlo,'DejaVu Sans Mono',consolas,'Courier New',monospace\"> <span style=\"color: #008000; text-decoration-color: #008000; font-weight: bold\">Creating EPOCHS</span>\n",
       "</pre>\n"
      ],
      "text/plain": [
       " \u001b[1;32mCreating EPOCHS\u001b[0m\n"
      ]
     },
     "metadata": {},
     "output_type": "display_data"
    },
    {
     "data": {
      "text/html": [
       "<pre style=\"white-space:pre;overflow-x:auto;line-height:normal;font-family:Menlo,'DejaVu Sans Mono',consolas,'Courier New',monospace\"><span style=\"font-style: italic\">        Extraction Criteria        </span>\n",
       "┏━━━━━━━━━━━━━━━━━━━━┳━━━━━━━━━━━━┓\n",
       "┃<span style=\"font-weight: bold\"> Parameter          </span>┃<span style=\"font-weight: bold\"> Value      </span>┃\n",
       "┣━━━━━━━━━━━━━━━━━━━━╋━━━━━━━━━━━━┫\n",
       "┃<span style=\"color: #008080; text-decoration-color: #008080; font-weight: bold\"> 🧪 Trial Mode      </span>┃<span style=\"color: #808000; text-decoration-color: #808000; font-weight: bold\">            </span>┃\n",
       "┃<span style=\"color: #008080; text-decoration-color: #008080; font-weight: bold\"> 📏 Trial Unit      </span>┃<span style=\"color: #808000; text-decoration-color: #808000; font-weight: bold\"> Words      </span>┃\n",
       "┃<span style=\"color: #008080; text-decoration-color: #008080; font-weight: bold\"> 🔗 Experiment Mode </span>┃<span style=\"color: #808000; text-decoration-color: #808000; font-weight: bold\"> Experiment </span>┃\n",
       "┃<span style=\"color: #008080; text-decoration-color: #008080; font-weight: bold\"> 🎭 Trial Boundary  </span>┃<span style=\"color: #808000; text-decoration-color: #808000; font-weight: bold\"> Start      </span>┃\n",
       "┃<span style=\"color: #008080; text-decoration-color: #008080; font-weight: bold\"> 🔬 Trial Type      </span>┃<span style=\"color: #808000; text-decoration-color: #808000; font-weight: bold\"> Fixation   </span>┃\n",
       "┃<span style=\"color: #008080; text-decoration-color: #008080; font-weight: bold\"> 📊 Modality        </span>┃<span style=\"color: #808000; text-decoration-color: #808000; font-weight: bold\"> Pictures   </span>┃\n",
       "┃<span style=\"color: #008080; text-decoration-color: #008080; font-weight: bold\"> ⏱ Tmin             </span>┃<span style=\"color: #808000; text-decoration-color: #808000; font-weight: bold\"> </span><span style=\"color: #008080; text-decoration-color: #008080; font-weight: bold\">0.2</span><span style=\"color: #808000; text-decoration-color: #808000; font-weight: bold\">        </span>┃\n",
       "┃<span style=\"color: #008080; text-decoration-color: #008080; font-weight: bold\"> ⏳ Tmax            </span>┃<span style=\"color: #808000; text-decoration-color: #808000; font-weight: bold\"> </span><span style=\"color: #008080; text-decoration-color: #008080; font-weight: bold\">0.9</span><span style=\"color: #808000; text-decoration-color: #808000; font-weight: bold\">        </span>┃\n",
       "┗━━━━━━━━━━━━━━━━━━━━┻━━━━━━━━━━━━┛\n",
       "</pre>\n"
      ],
      "text/plain": [
       "\u001b[3m        Extraction Criteria        \u001b[0m\n",
       "┏━━━━━━━━━━━━━━━━━━━━┳━━━━━━━━━━━━┓\n",
       "┃\u001b[1m \u001b[0m\u001b[1mParameter         \u001b[0m\u001b[1m \u001b[0m┃\u001b[1m \u001b[0m\u001b[1mValue     \u001b[0m\u001b[1m \u001b[0m┃\n",
       "┣━━━━━━━━━━━━━━━━━━━━╋━━━━━━━━━━━━┫\n",
       "┃\u001b[1;36m \u001b[0m\u001b[1;36m🧪 Trial Mode     \u001b[0m\u001b[1;36m \u001b[0m┃\u001b[1;33m \u001b[0m\u001b[1;33m          \u001b[0m\u001b[1;33m \u001b[0m┃\n",
       "┃\u001b[1;36m \u001b[0m\u001b[1;36m📏 Trial Unit     \u001b[0m\u001b[1;36m \u001b[0m┃\u001b[1;33m \u001b[0m\u001b[1;33mWords     \u001b[0m\u001b[1;33m \u001b[0m┃\n",
       "┃\u001b[1;36m \u001b[0m\u001b[1;36m🔗 Experiment Mode\u001b[0m\u001b[1;36m \u001b[0m┃\u001b[1;33m \u001b[0m\u001b[1;33mExperiment\u001b[0m\u001b[1;33m \u001b[0m┃\n",
       "┃\u001b[1;36m \u001b[0m\u001b[1;36m🎭 Trial Boundary \u001b[0m\u001b[1;36m \u001b[0m┃\u001b[1;33m \u001b[0m\u001b[1;33mStart     \u001b[0m\u001b[1;33m \u001b[0m┃\n",
       "┃\u001b[1;36m \u001b[0m\u001b[1;36m🔬 Trial Type     \u001b[0m\u001b[1;36m \u001b[0m┃\u001b[1;33m \u001b[0m\u001b[1;33mFixation  \u001b[0m\u001b[1;33m \u001b[0m┃\n",
       "┃\u001b[1;36m \u001b[0m\u001b[1;36m📊 Modality       \u001b[0m\u001b[1;36m \u001b[0m┃\u001b[1;33m \u001b[0m\u001b[1;33mPictures  \u001b[0m\u001b[1;33m \u001b[0m┃\n",
       "┃\u001b[1;36m \u001b[0m\u001b[1;36m⏱ Tmin            \u001b[0m\u001b[1;36m \u001b[0m┃\u001b[1;33m \u001b[0m\u001b[1;36m0.2\u001b[0m\u001b[1;33m       \u001b[0m\u001b[1;33m \u001b[0m┃\n",
       "┃\u001b[1;36m \u001b[0m\u001b[1;36m⏳ Tmax           \u001b[0m\u001b[1;36m \u001b[0m┃\u001b[1;33m \u001b[0m\u001b[1;36m0.9\u001b[0m\u001b[1;33m       \u001b[0m\u001b[1;33m \u001b[0m┃\n",
       "┗━━━━━━━━━━━━━━━━━━━━┻━━━━━━━━━━━━┛\n"
      ]
     },
     "metadata": {},
     "output_type": "display_data"
    },
    {
     "name": "stdout",
     "output_type": "stream",
     "text": [
      "Not setting metadata\n",
      "130 matching events found\n",
      "Applying baseline correction (mode: mean)\n",
      "0 projection items activated\n",
      "Using data from preloaded Raw for 130 events and 701 original time points ...\n",
      "0 bad epochs dropped\n"
     ]
    },
    {
     "data": {
      "text/html": [
       "<pre style=\"white-space:pre;overflow-x:auto;line-height:normal;font-family:Menlo,'DejaVu Sans Mono',consolas,'Courier New',monospace\"> <span style=\"color: #008000; text-decoration-color: #008000; font-weight: bold\">Creating epochs: sub-</span><span style=\"color: #008000; text-decoration-color: #008000; font-weight: bold\">05</span><span style=\"color: #008000; text-decoration-color: #008000; font-weight: bold\">, ses-</span><span style=\"color: #008000; text-decoration-color: #008000; font-weight: bold\">01</span>\n",
       "</pre>\n"
      ],
      "text/plain": [
       " \u001b[1;32mCreating epochs: sub-\u001b[0m\u001b[1;32m05\u001b[0m\u001b[1;32m, ses-\u001b[0m\u001b[1;32m01\u001b[0m\n"
      ]
     },
     "metadata": {},
     "output_type": "display_data"
    },
    {
     "data": {
      "text/html": [
       "<pre style=\"white-space:pre;overflow-x:auto;line-height:normal;font-family:Menlo,'DejaVu Sans Mono',consolas,'Courier New',monospace\"><span style=\"color: #800000; text-decoration-color: #800000\">╭────────────────────────────────╮</span>\n",
       "<span style=\"color: #800000; text-decoration-color: #800000\">│</span>  <span style=\"color: #800000; text-decoration-color: #800000; font-weight: bold\">Initializing DataLoader Class</span> <span style=\"color: #800000; text-decoration-color: #800000\">│</span>\n",
       "<span style=\"color: #800000; text-decoration-color: #800000\">╰────────────────────────────────╯</span>\n",
       "</pre>\n"
      ],
      "text/plain": [
       "\u001b[31m╭────────────────────────────────╮\u001b[0m\n",
       "\u001b[31m│\u001b[0m  \u001b[1;31mInitializing DataLoader Class\u001b[0m \u001b[31m│\u001b[0m\n",
       "\u001b[31m╰────────────────────────────────╯\u001b[0m\n"
      ]
     },
     "metadata": {},
     "output_type": "display_data"
    },
    {
     "data": {
      "text/html": [
       "<pre style=\"white-space:pre;overflow-x:auto;line-height:normal;font-family:Menlo,'DejaVu Sans Mono',consolas,'Courier New',monospace\"> <span style=\"color: #008000; text-decoration-color: #008000; font-weight: bold\">Creating EPOCHS</span>\n",
       "</pre>\n"
      ],
      "text/plain": [
       " \u001b[1;32mCreating EPOCHS\u001b[0m\n"
      ]
     },
     "metadata": {},
     "output_type": "display_data"
    },
    {
     "data": {
      "text/html": [
       "<pre style=\"white-space:pre;overflow-x:auto;line-height:normal;font-family:Menlo,'DejaVu Sans Mono',consolas,'Courier New',monospace\"><span style=\"font-style: italic\">        Extraction Criteria        </span>\n",
       "┏━━━━━━━━━━━━━━━━━━━━┳━━━━━━━━━━━━┓\n",
       "┃<span style=\"font-weight: bold\"> Parameter          </span>┃<span style=\"font-weight: bold\"> Value      </span>┃\n",
       "┣━━━━━━━━━━━━━━━━━━━━╋━━━━━━━━━━━━┫\n",
       "┃<span style=\"color: #008080; text-decoration-color: #008080; font-weight: bold\"> 🧪 Trial Mode      </span>┃<span style=\"color: #808000; text-decoration-color: #808000; font-weight: bold\">            </span>┃\n",
       "┃<span style=\"color: #008080; text-decoration-color: #008080; font-weight: bold\"> 📏 Trial Unit      </span>┃<span style=\"color: #808000; text-decoration-color: #808000; font-weight: bold\"> Words      </span>┃\n",
       "┃<span style=\"color: #008080; text-decoration-color: #008080; font-weight: bold\"> 🔗 Experiment Mode </span>┃<span style=\"color: #808000; text-decoration-color: #808000; font-weight: bold\"> Experiment </span>┃\n",
       "┃<span style=\"color: #008080; text-decoration-color: #008080; font-weight: bold\"> 🎭 Trial Boundary  </span>┃<span style=\"color: #808000; text-decoration-color: #808000; font-weight: bold\"> Start      </span>┃\n",
       "┃<span style=\"color: #008080; text-decoration-color: #008080; font-weight: bold\"> 🔬 Trial Type      </span>┃<span style=\"color: #808000; text-decoration-color: #808000; font-weight: bold\"> Fixation   </span>┃\n",
       "┃<span style=\"color: #008080; text-decoration-color: #008080; font-weight: bold\"> 📊 Modality        </span>┃<span style=\"color: #808000; text-decoration-color: #808000; font-weight: bold\"> Pictures   </span>┃\n",
       "┃<span style=\"color: #008080; text-decoration-color: #008080; font-weight: bold\"> ⏱ Tmin             </span>┃<span style=\"color: #808000; text-decoration-color: #808000; font-weight: bold\"> </span><span style=\"color: #008080; text-decoration-color: #008080; font-weight: bold\">0.2</span><span style=\"color: #808000; text-decoration-color: #808000; font-weight: bold\">        </span>┃\n",
       "┃<span style=\"color: #008080; text-decoration-color: #008080; font-weight: bold\"> ⏳ Tmax            </span>┃<span style=\"color: #808000; text-decoration-color: #808000; font-weight: bold\"> </span><span style=\"color: #008080; text-decoration-color: #008080; font-weight: bold\">0.9</span><span style=\"color: #808000; text-decoration-color: #808000; font-weight: bold\">        </span>┃\n",
       "┗━━━━━━━━━━━━━━━━━━━━┻━━━━━━━━━━━━┛\n",
       "</pre>\n"
      ],
      "text/plain": [
       "\u001b[3m        Extraction Criteria        \u001b[0m\n",
       "┏━━━━━━━━━━━━━━━━━━━━┳━━━━━━━━━━━━┓\n",
       "┃\u001b[1m \u001b[0m\u001b[1mParameter         \u001b[0m\u001b[1m \u001b[0m┃\u001b[1m \u001b[0m\u001b[1mValue     \u001b[0m\u001b[1m \u001b[0m┃\n",
       "┣━━━━━━━━━━━━━━━━━━━━╋━━━━━━━━━━━━┫\n",
       "┃\u001b[1;36m \u001b[0m\u001b[1;36m🧪 Trial Mode     \u001b[0m\u001b[1;36m \u001b[0m┃\u001b[1;33m \u001b[0m\u001b[1;33m          \u001b[0m\u001b[1;33m \u001b[0m┃\n",
       "┃\u001b[1;36m \u001b[0m\u001b[1;36m📏 Trial Unit     \u001b[0m\u001b[1;36m \u001b[0m┃\u001b[1;33m \u001b[0m\u001b[1;33mWords     \u001b[0m\u001b[1;33m \u001b[0m┃\n",
       "┃\u001b[1;36m \u001b[0m\u001b[1;36m🔗 Experiment Mode\u001b[0m\u001b[1;36m \u001b[0m┃\u001b[1;33m \u001b[0m\u001b[1;33mExperiment\u001b[0m\u001b[1;33m \u001b[0m┃\n",
       "┃\u001b[1;36m \u001b[0m\u001b[1;36m🎭 Trial Boundary \u001b[0m\u001b[1;36m \u001b[0m┃\u001b[1;33m \u001b[0m\u001b[1;33mStart     \u001b[0m\u001b[1;33m \u001b[0m┃\n",
       "┃\u001b[1;36m \u001b[0m\u001b[1;36m🔬 Trial Type     \u001b[0m\u001b[1;36m \u001b[0m┃\u001b[1;33m \u001b[0m\u001b[1;33mFixation  \u001b[0m\u001b[1;33m \u001b[0m┃\n",
       "┃\u001b[1;36m \u001b[0m\u001b[1;36m📊 Modality       \u001b[0m\u001b[1;36m \u001b[0m┃\u001b[1;33m \u001b[0m\u001b[1;33mPictures  \u001b[0m\u001b[1;33m \u001b[0m┃\n",
       "┃\u001b[1;36m \u001b[0m\u001b[1;36m⏱ Tmin            \u001b[0m\u001b[1;36m \u001b[0m┃\u001b[1;33m \u001b[0m\u001b[1;36m0.2\u001b[0m\u001b[1;33m       \u001b[0m\u001b[1;33m \u001b[0m┃\n",
       "┃\u001b[1;36m \u001b[0m\u001b[1;36m⏳ Tmax           \u001b[0m\u001b[1;36m \u001b[0m┃\u001b[1;33m \u001b[0m\u001b[1;36m0.9\u001b[0m\u001b[1;33m       \u001b[0m\u001b[1;33m \u001b[0m┃\n",
       "┗━━━━━━━━━━━━━━━━━━━━┻━━━━━━━━━━━━┛\n"
      ]
     },
     "metadata": {},
     "output_type": "display_data"
    },
    {
     "name": "stdout",
     "output_type": "stream",
     "text": [
      "Not setting metadata\n",
      "130 matching events found\n",
      "Applying baseline correction (mode: mean)\n",
      "0 projection items activated\n",
      "Using data from preloaded Raw for 130 events and 701 original time points ...\n",
      "0 bad epochs dropped\n"
     ]
    },
    {
     "data": {
      "text/html": [
       "<pre style=\"white-space:pre;overflow-x:auto;line-height:normal;font-family:Menlo,'DejaVu Sans Mono',consolas,'Courier New',monospace\"> <span style=\"color: #008000; text-decoration-color: #008000; font-weight: bold\">Creating epochs: sub-</span><span style=\"color: #008000; text-decoration-color: #008000; font-weight: bold\">06</span><span style=\"color: #008000; text-decoration-color: #008000; font-weight: bold\">, ses-</span><span style=\"color: #008000; text-decoration-color: #008000; font-weight: bold\">01</span>\n",
       "</pre>\n"
      ],
      "text/plain": [
       " \u001b[1;32mCreating epochs: sub-\u001b[0m\u001b[1;32m06\u001b[0m\u001b[1;32m, ses-\u001b[0m\u001b[1;32m01\u001b[0m\n"
      ]
     },
     "metadata": {},
     "output_type": "display_data"
    },
    {
     "data": {
      "text/html": [
       "<pre style=\"white-space:pre;overflow-x:auto;line-height:normal;font-family:Menlo,'DejaVu Sans Mono',consolas,'Courier New',monospace\"><span style=\"color: #800000; text-decoration-color: #800000\">╭────────────────────────────────╮</span>\n",
       "<span style=\"color: #800000; text-decoration-color: #800000\">│</span>  <span style=\"color: #800000; text-decoration-color: #800000; font-weight: bold\">Initializing DataLoader Class</span> <span style=\"color: #800000; text-decoration-color: #800000\">│</span>\n",
       "<span style=\"color: #800000; text-decoration-color: #800000\">╰────────────────────────────────╯</span>\n",
       "</pre>\n"
      ],
      "text/plain": [
       "\u001b[31m╭────────────────────────────────╮\u001b[0m\n",
       "\u001b[31m│\u001b[0m  \u001b[1;31mInitializing DataLoader Class\u001b[0m \u001b[31m│\u001b[0m\n",
       "\u001b[31m╰────────────────────────────────╯\u001b[0m\n"
      ]
     },
     "metadata": {},
     "output_type": "display_data"
    },
    {
     "data": {
      "text/html": [
       "<pre style=\"white-space:pre;overflow-x:auto;line-height:normal;font-family:Menlo,'DejaVu Sans Mono',consolas,'Courier New',monospace\"> <span style=\"color: #008000; text-decoration-color: #008000; font-weight: bold\">Creating EPOCHS</span>\n",
       "</pre>\n"
      ],
      "text/plain": [
       " \u001b[1;32mCreating EPOCHS\u001b[0m\n"
      ]
     },
     "metadata": {},
     "output_type": "display_data"
    },
    {
     "data": {
      "text/html": [
       "<pre style=\"white-space:pre;overflow-x:auto;line-height:normal;font-family:Menlo,'DejaVu Sans Mono',consolas,'Courier New',monospace\"><span style=\"font-style: italic\">        Extraction Criteria        </span>\n",
       "┏━━━━━━━━━━━━━━━━━━━━┳━━━━━━━━━━━━┓\n",
       "┃<span style=\"font-weight: bold\"> Parameter          </span>┃<span style=\"font-weight: bold\"> Value      </span>┃\n",
       "┣━━━━━━━━━━━━━━━━━━━━╋━━━━━━━━━━━━┫\n",
       "┃<span style=\"color: #008080; text-decoration-color: #008080; font-weight: bold\"> 🧪 Trial Mode      </span>┃<span style=\"color: #808000; text-decoration-color: #808000; font-weight: bold\">            </span>┃\n",
       "┃<span style=\"color: #008080; text-decoration-color: #008080; font-weight: bold\"> 📏 Trial Unit      </span>┃<span style=\"color: #808000; text-decoration-color: #808000; font-weight: bold\"> Words      </span>┃\n",
       "┃<span style=\"color: #008080; text-decoration-color: #008080; font-weight: bold\"> 🔗 Experiment Mode </span>┃<span style=\"color: #808000; text-decoration-color: #808000; font-weight: bold\"> Experiment </span>┃\n",
       "┃<span style=\"color: #008080; text-decoration-color: #008080; font-weight: bold\"> 🎭 Trial Boundary  </span>┃<span style=\"color: #808000; text-decoration-color: #808000; font-weight: bold\"> Start      </span>┃\n",
       "┃<span style=\"color: #008080; text-decoration-color: #008080; font-weight: bold\"> 🔬 Trial Type      </span>┃<span style=\"color: #808000; text-decoration-color: #808000; font-weight: bold\"> Fixation   </span>┃\n",
       "┃<span style=\"color: #008080; text-decoration-color: #008080; font-weight: bold\"> 📊 Modality        </span>┃<span style=\"color: #808000; text-decoration-color: #808000; font-weight: bold\"> Pictures   </span>┃\n",
       "┃<span style=\"color: #008080; text-decoration-color: #008080; font-weight: bold\"> ⏱ Tmin             </span>┃<span style=\"color: #808000; text-decoration-color: #808000; font-weight: bold\"> </span><span style=\"color: #008080; text-decoration-color: #008080; font-weight: bold\">0.2</span><span style=\"color: #808000; text-decoration-color: #808000; font-weight: bold\">        </span>┃\n",
       "┃<span style=\"color: #008080; text-decoration-color: #008080; font-weight: bold\"> ⏳ Tmax            </span>┃<span style=\"color: #808000; text-decoration-color: #808000; font-weight: bold\"> </span><span style=\"color: #008080; text-decoration-color: #008080; font-weight: bold\">0.9</span><span style=\"color: #808000; text-decoration-color: #808000; font-weight: bold\">        </span>┃\n",
       "┗━━━━━━━━━━━━━━━━━━━━┻━━━━━━━━━━━━┛\n",
       "</pre>\n"
      ],
      "text/plain": [
       "\u001b[3m        Extraction Criteria        \u001b[0m\n",
       "┏━━━━━━━━━━━━━━━━━━━━┳━━━━━━━━━━━━┓\n",
       "┃\u001b[1m \u001b[0m\u001b[1mParameter         \u001b[0m\u001b[1m \u001b[0m┃\u001b[1m \u001b[0m\u001b[1mValue     \u001b[0m\u001b[1m \u001b[0m┃\n",
       "┣━━━━━━━━━━━━━━━━━━━━╋━━━━━━━━━━━━┫\n",
       "┃\u001b[1;36m \u001b[0m\u001b[1;36m🧪 Trial Mode     \u001b[0m\u001b[1;36m \u001b[0m┃\u001b[1;33m \u001b[0m\u001b[1;33m          \u001b[0m\u001b[1;33m \u001b[0m┃\n",
       "┃\u001b[1;36m \u001b[0m\u001b[1;36m📏 Trial Unit     \u001b[0m\u001b[1;36m \u001b[0m┃\u001b[1;33m \u001b[0m\u001b[1;33mWords     \u001b[0m\u001b[1;33m \u001b[0m┃\n",
       "┃\u001b[1;36m \u001b[0m\u001b[1;36m🔗 Experiment Mode\u001b[0m\u001b[1;36m \u001b[0m┃\u001b[1;33m \u001b[0m\u001b[1;33mExperiment\u001b[0m\u001b[1;33m \u001b[0m┃\n",
       "┃\u001b[1;36m \u001b[0m\u001b[1;36m🎭 Trial Boundary \u001b[0m\u001b[1;36m \u001b[0m┃\u001b[1;33m \u001b[0m\u001b[1;33mStart     \u001b[0m\u001b[1;33m \u001b[0m┃\n",
       "┃\u001b[1;36m \u001b[0m\u001b[1;36m🔬 Trial Type     \u001b[0m\u001b[1;36m \u001b[0m┃\u001b[1;33m \u001b[0m\u001b[1;33mFixation  \u001b[0m\u001b[1;33m \u001b[0m┃\n",
       "┃\u001b[1;36m \u001b[0m\u001b[1;36m📊 Modality       \u001b[0m\u001b[1;36m \u001b[0m┃\u001b[1;33m \u001b[0m\u001b[1;33mPictures  \u001b[0m\u001b[1;33m \u001b[0m┃\n",
       "┃\u001b[1;36m \u001b[0m\u001b[1;36m⏱ Tmin            \u001b[0m\u001b[1;36m \u001b[0m┃\u001b[1;33m \u001b[0m\u001b[1;36m0.2\u001b[0m\u001b[1;33m       \u001b[0m\u001b[1;33m \u001b[0m┃\n",
       "┃\u001b[1;36m \u001b[0m\u001b[1;36m⏳ Tmax           \u001b[0m\u001b[1;36m \u001b[0m┃\u001b[1;33m \u001b[0m\u001b[1;36m0.9\u001b[0m\u001b[1;33m       \u001b[0m\u001b[1;33m \u001b[0m┃\n",
       "┗━━━━━━━━━━━━━━━━━━━━┻━━━━━━━━━━━━┛\n"
      ]
     },
     "metadata": {},
     "output_type": "display_data"
    },
    {
     "name": "stdout",
     "output_type": "stream",
     "text": [
      "Not setting metadata\n",
      "130 matching events found\n",
      "Applying baseline correction (mode: mean)\n",
      "0 projection items activated\n",
      "Using data from preloaded Raw for 130 events and 701 original time points ...\n",
      "0 bad epochs dropped\n"
     ]
    },
    {
     "data": {
      "text/html": [
       "<pre style=\"white-space:pre;overflow-x:auto;line-height:normal;font-family:Menlo,'DejaVu Sans Mono',consolas,'Courier New',monospace\"> <span style=\"color: #008000; text-decoration-color: #008000; font-weight: bold\">Creating epochs: sub-</span><span style=\"color: #008000; text-decoration-color: #008000; font-weight: bold\">07</span><span style=\"color: #008000; text-decoration-color: #008000; font-weight: bold\">, ses-</span><span style=\"color: #008000; text-decoration-color: #008000; font-weight: bold\">01</span>\n",
       "</pre>\n"
      ],
      "text/plain": [
       " \u001b[1;32mCreating epochs: sub-\u001b[0m\u001b[1;32m07\u001b[0m\u001b[1;32m, ses-\u001b[0m\u001b[1;32m01\u001b[0m\n"
      ]
     },
     "metadata": {},
     "output_type": "display_data"
    },
    {
     "data": {
      "text/html": [
       "<pre style=\"white-space:pre;overflow-x:auto;line-height:normal;font-family:Menlo,'DejaVu Sans Mono',consolas,'Courier New',monospace\"><span style=\"color: #800000; text-decoration-color: #800000\">╭────────────────────────────────╮</span>\n",
       "<span style=\"color: #800000; text-decoration-color: #800000\">│</span>  <span style=\"color: #800000; text-decoration-color: #800000; font-weight: bold\">Initializing DataLoader Class</span> <span style=\"color: #800000; text-decoration-color: #800000\">│</span>\n",
       "<span style=\"color: #800000; text-decoration-color: #800000\">╰────────────────────────────────╯</span>\n",
       "</pre>\n"
      ],
      "text/plain": [
       "\u001b[31m╭────────────────────────────────╮\u001b[0m\n",
       "\u001b[31m│\u001b[0m  \u001b[1;31mInitializing DataLoader Class\u001b[0m \u001b[31m│\u001b[0m\n",
       "\u001b[31m╰────────────────────────────────╯\u001b[0m\n"
      ]
     },
     "metadata": {},
     "output_type": "display_data"
    },
    {
     "data": {
      "text/html": [
       "<pre style=\"white-space:pre;overflow-x:auto;line-height:normal;font-family:Menlo,'DejaVu Sans Mono',consolas,'Courier New',monospace\"> <span style=\"color: #008000; text-decoration-color: #008000; font-weight: bold\">Creating EPOCHS</span>\n",
       "</pre>\n"
      ],
      "text/plain": [
       " \u001b[1;32mCreating EPOCHS\u001b[0m\n"
      ]
     },
     "metadata": {},
     "output_type": "display_data"
    },
    {
     "data": {
      "text/html": [
       "<pre style=\"white-space:pre;overflow-x:auto;line-height:normal;font-family:Menlo,'DejaVu Sans Mono',consolas,'Courier New',monospace\"><span style=\"font-style: italic\">        Extraction Criteria        </span>\n",
       "┏━━━━━━━━━━━━━━━━━━━━┳━━━━━━━━━━━━┓\n",
       "┃<span style=\"font-weight: bold\"> Parameter          </span>┃<span style=\"font-weight: bold\"> Value      </span>┃\n",
       "┣━━━━━━━━━━━━━━━━━━━━╋━━━━━━━━━━━━┫\n",
       "┃<span style=\"color: #008080; text-decoration-color: #008080; font-weight: bold\"> 🧪 Trial Mode      </span>┃<span style=\"color: #808000; text-decoration-color: #808000; font-weight: bold\">            </span>┃\n",
       "┃<span style=\"color: #008080; text-decoration-color: #008080; font-weight: bold\"> 📏 Trial Unit      </span>┃<span style=\"color: #808000; text-decoration-color: #808000; font-weight: bold\"> Words      </span>┃\n",
       "┃<span style=\"color: #008080; text-decoration-color: #008080; font-weight: bold\"> 🔗 Experiment Mode </span>┃<span style=\"color: #808000; text-decoration-color: #808000; font-weight: bold\"> Experiment </span>┃\n",
       "┃<span style=\"color: #008080; text-decoration-color: #008080; font-weight: bold\"> 🎭 Trial Boundary  </span>┃<span style=\"color: #808000; text-decoration-color: #808000; font-weight: bold\"> Start      </span>┃\n",
       "┃<span style=\"color: #008080; text-decoration-color: #008080; font-weight: bold\"> 🔬 Trial Type      </span>┃<span style=\"color: #808000; text-decoration-color: #808000; font-weight: bold\"> Fixation   </span>┃\n",
       "┃<span style=\"color: #008080; text-decoration-color: #008080; font-weight: bold\"> 📊 Modality        </span>┃<span style=\"color: #808000; text-decoration-color: #808000; font-weight: bold\"> Pictures   </span>┃\n",
       "┃<span style=\"color: #008080; text-decoration-color: #008080; font-weight: bold\"> ⏱ Tmin             </span>┃<span style=\"color: #808000; text-decoration-color: #808000; font-weight: bold\"> </span><span style=\"color: #008080; text-decoration-color: #008080; font-weight: bold\">0.2</span><span style=\"color: #808000; text-decoration-color: #808000; font-weight: bold\">        </span>┃\n",
       "┃<span style=\"color: #008080; text-decoration-color: #008080; font-weight: bold\"> ⏳ Tmax            </span>┃<span style=\"color: #808000; text-decoration-color: #808000; font-weight: bold\"> </span><span style=\"color: #008080; text-decoration-color: #008080; font-weight: bold\">0.9</span><span style=\"color: #808000; text-decoration-color: #808000; font-weight: bold\">        </span>┃\n",
       "┗━━━━━━━━━━━━━━━━━━━━┻━━━━━━━━━━━━┛\n",
       "</pre>\n"
      ],
      "text/plain": [
       "\u001b[3m        Extraction Criteria        \u001b[0m\n",
       "┏━━━━━━━━━━━━━━━━━━━━┳━━━━━━━━━━━━┓\n",
       "┃\u001b[1m \u001b[0m\u001b[1mParameter         \u001b[0m\u001b[1m \u001b[0m┃\u001b[1m \u001b[0m\u001b[1mValue     \u001b[0m\u001b[1m \u001b[0m┃\n",
       "┣━━━━━━━━━━━━━━━━━━━━╋━━━━━━━━━━━━┫\n",
       "┃\u001b[1;36m \u001b[0m\u001b[1;36m🧪 Trial Mode     \u001b[0m\u001b[1;36m \u001b[0m┃\u001b[1;33m \u001b[0m\u001b[1;33m          \u001b[0m\u001b[1;33m \u001b[0m┃\n",
       "┃\u001b[1;36m \u001b[0m\u001b[1;36m📏 Trial Unit     \u001b[0m\u001b[1;36m \u001b[0m┃\u001b[1;33m \u001b[0m\u001b[1;33mWords     \u001b[0m\u001b[1;33m \u001b[0m┃\n",
       "┃\u001b[1;36m \u001b[0m\u001b[1;36m🔗 Experiment Mode\u001b[0m\u001b[1;36m \u001b[0m┃\u001b[1;33m \u001b[0m\u001b[1;33mExperiment\u001b[0m\u001b[1;33m \u001b[0m┃\n",
       "┃\u001b[1;36m \u001b[0m\u001b[1;36m🎭 Trial Boundary \u001b[0m\u001b[1;36m \u001b[0m┃\u001b[1;33m \u001b[0m\u001b[1;33mStart     \u001b[0m\u001b[1;33m \u001b[0m┃\n",
       "┃\u001b[1;36m \u001b[0m\u001b[1;36m🔬 Trial Type     \u001b[0m\u001b[1;36m \u001b[0m┃\u001b[1;33m \u001b[0m\u001b[1;33mFixation  \u001b[0m\u001b[1;33m \u001b[0m┃\n",
       "┃\u001b[1;36m \u001b[0m\u001b[1;36m📊 Modality       \u001b[0m\u001b[1;36m \u001b[0m┃\u001b[1;33m \u001b[0m\u001b[1;33mPictures  \u001b[0m\u001b[1;33m \u001b[0m┃\n",
       "┃\u001b[1;36m \u001b[0m\u001b[1;36m⏱ Tmin            \u001b[0m\u001b[1;36m \u001b[0m┃\u001b[1;33m \u001b[0m\u001b[1;36m0.2\u001b[0m\u001b[1;33m       \u001b[0m\u001b[1;33m \u001b[0m┃\n",
       "┃\u001b[1;36m \u001b[0m\u001b[1;36m⏳ Tmax           \u001b[0m\u001b[1;36m \u001b[0m┃\u001b[1;33m \u001b[0m\u001b[1;36m0.9\u001b[0m\u001b[1;33m       \u001b[0m\u001b[1;33m \u001b[0m┃\n",
       "┗━━━━━━━━━━━━━━━━━━━━┻━━━━━━━━━━━━┛\n"
      ]
     },
     "metadata": {},
     "output_type": "display_data"
    },
    {
     "name": "stdout",
     "output_type": "stream",
     "text": [
      "Not setting metadata\n",
      "130 matching events found\n",
      "Applying baseline correction (mode: mean)\n",
      "0 projection items activated\n",
      "Using data from preloaded Raw for 130 events and 701 original time points ...\n",
      "0 bad epochs dropped\n"
     ]
    },
    {
     "data": {
      "text/html": [
       "<pre style=\"white-space:pre;overflow-x:auto;line-height:normal;font-family:Menlo,'DejaVu Sans Mono',consolas,'Courier New',monospace\"> <span style=\"color: #008000; text-decoration-color: #008000; font-weight: bold\">Creating epochs: sub-</span><span style=\"color: #008000; text-decoration-color: #008000; font-weight: bold\">08</span><span style=\"color: #008000; text-decoration-color: #008000; font-weight: bold\">, ses-</span><span style=\"color: #008000; text-decoration-color: #008000; font-weight: bold\">01</span>\n",
       "</pre>\n"
      ],
      "text/plain": [
       " \u001b[1;32mCreating epochs: sub-\u001b[0m\u001b[1;32m08\u001b[0m\u001b[1;32m, ses-\u001b[0m\u001b[1;32m01\u001b[0m\n"
      ]
     },
     "metadata": {},
     "output_type": "display_data"
    },
    {
     "data": {
      "text/html": [
       "<pre style=\"white-space:pre;overflow-x:auto;line-height:normal;font-family:Menlo,'DejaVu Sans Mono',consolas,'Courier New',monospace\"><span style=\"color: #800000; text-decoration-color: #800000\">╭────────────────────────────────╮</span>\n",
       "<span style=\"color: #800000; text-decoration-color: #800000\">│</span>  <span style=\"color: #800000; text-decoration-color: #800000; font-weight: bold\">Initializing DataLoader Class</span> <span style=\"color: #800000; text-decoration-color: #800000\">│</span>\n",
       "<span style=\"color: #800000; text-decoration-color: #800000\">╰────────────────────────────────╯</span>\n",
       "</pre>\n"
      ],
      "text/plain": [
       "\u001b[31m╭────────────────────────────────╮\u001b[0m\n",
       "\u001b[31m│\u001b[0m  \u001b[1;31mInitializing DataLoader Class\u001b[0m \u001b[31m│\u001b[0m\n",
       "\u001b[31m╰────────────────────────────────╯\u001b[0m\n"
      ]
     },
     "metadata": {},
     "output_type": "display_data"
    },
    {
     "data": {
      "text/html": [
       "<pre style=\"white-space:pre;overflow-x:auto;line-height:normal;font-family:Menlo,'DejaVu Sans Mono',consolas,'Courier New',monospace\"> <span style=\"color: #008000; text-decoration-color: #008000; font-weight: bold\">Creating EPOCHS</span>\n",
       "</pre>\n"
      ],
      "text/plain": [
       " \u001b[1;32mCreating EPOCHS\u001b[0m\n"
      ]
     },
     "metadata": {},
     "output_type": "display_data"
    },
    {
     "data": {
      "text/html": [
       "<pre style=\"white-space:pre;overflow-x:auto;line-height:normal;font-family:Menlo,'DejaVu Sans Mono',consolas,'Courier New',monospace\"><span style=\"font-style: italic\">        Extraction Criteria        </span>\n",
       "┏━━━━━━━━━━━━━━━━━━━━┳━━━━━━━━━━━━┓\n",
       "┃<span style=\"font-weight: bold\"> Parameter          </span>┃<span style=\"font-weight: bold\"> Value      </span>┃\n",
       "┣━━━━━━━━━━━━━━━━━━━━╋━━━━━━━━━━━━┫\n",
       "┃<span style=\"color: #008080; text-decoration-color: #008080; font-weight: bold\"> 🧪 Trial Mode      </span>┃<span style=\"color: #808000; text-decoration-color: #808000; font-weight: bold\">            </span>┃\n",
       "┃<span style=\"color: #008080; text-decoration-color: #008080; font-weight: bold\"> 📏 Trial Unit      </span>┃<span style=\"color: #808000; text-decoration-color: #808000; font-weight: bold\"> Words      </span>┃\n",
       "┃<span style=\"color: #008080; text-decoration-color: #008080; font-weight: bold\"> 🔗 Experiment Mode </span>┃<span style=\"color: #808000; text-decoration-color: #808000; font-weight: bold\"> Experiment </span>┃\n",
       "┃<span style=\"color: #008080; text-decoration-color: #008080; font-weight: bold\"> 🎭 Trial Boundary  </span>┃<span style=\"color: #808000; text-decoration-color: #808000; font-weight: bold\"> Start      </span>┃\n",
       "┃<span style=\"color: #008080; text-decoration-color: #008080; font-weight: bold\"> 🔬 Trial Type      </span>┃<span style=\"color: #808000; text-decoration-color: #808000; font-weight: bold\"> Fixation   </span>┃\n",
       "┃<span style=\"color: #008080; text-decoration-color: #008080; font-weight: bold\"> 📊 Modality        </span>┃<span style=\"color: #808000; text-decoration-color: #808000; font-weight: bold\"> Pictures   </span>┃\n",
       "┃<span style=\"color: #008080; text-decoration-color: #008080; font-weight: bold\"> ⏱ Tmin             </span>┃<span style=\"color: #808000; text-decoration-color: #808000; font-weight: bold\"> </span><span style=\"color: #008080; text-decoration-color: #008080; font-weight: bold\">0.2</span><span style=\"color: #808000; text-decoration-color: #808000; font-weight: bold\">        </span>┃\n",
       "┃<span style=\"color: #008080; text-decoration-color: #008080; font-weight: bold\"> ⏳ Tmax            </span>┃<span style=\"color: #808000; text-decoration-color: #808000; font-weight: bold\"> </span><span style=\"color: #008080; text-decoration-color: #008080; font-weight: bold\">0.9</span><span style=\"color: #808000; text-decoration-color: #808000; font-weight: bold\">        </span>┃\n",
       "┗━━━━━━━━━━━━━━━━━━━━┻━━━━━━━━━━━━┛\n",
       "</pre>\n"
      ],
      "text/plain": [
       "\u001b[3m        Extraction Criteria        \u001b[0m\n",
       "┏━━━━━━━━━━━━━━━━━━━━┳━━━━━━━━━━━━┓\n",
       "┃\u001b[1m \u001b[0m\u001b[1mParameter         \u001b[0m\u001b[1m \u001b[0m┃\u001b[1m \u001b[0m\u001b[1mValue     \u001b[0m\u001b[1m \u001b[0m┃\n",
       "┣━━━━━━━━━━━━━━━━━━━━╋━━━━━━━━━━━━┫\n",
       "┃\u001b[1;36m \u001b[0m\u001b[1;36m🧪 Trial Mode     \u001b[0m\u001b[1;36m \u001b[0m┃\u001b[1;33m \u001b[0m\u001b[1;33m          \u001b[0m\u001b[1;33m \u001b[0m┃\n",
       "┃\u001b[1;36m \u001b[0m\u001b[1;36m📏 Trial Unit     \u001b[0m\u001b[1;36m \u001b[0m┃\u001b[1;33m \u001b[0m\u001b[1;33mWords     \u001b[0m\u001b[1;33m \u001b[0m┃\n",
       "┃\u001b[1;36m \u001b[0m\u001b[1;36m🔗 Experiment Mode\u001b[0m\u001b[1;36m \u001b[0m┃\u001b[1;33m \u001b[0m\u001b[1;33mExperiment\u001b[0m\u001b[1;33m \u001b[0m┃\n",
       "┃\u001b[1;36m \u001b[0m\u001b[1;36m🎭 Trial Boundary \u001b[0m\u001b[1;36m \u001b[0m┃\u001b[1;33m \u001b[0m\u001b[1;33mStart     \u001b[0m\u001b[1;33m \u001b[0m┃\n",
       "┃\u001b[1;36m \u001b[0m\u001b[1;36m🔬 Trial Type     \u001b[0m\u001b[1;36m \u001b[0m┃\u001b[1;33m \u001b[0m\u001b[1;33mFixation  \u001b[0m\u001b[1;33m \u001b[0m┃\n",
       "┃\u001b[1;36m \u001b[0m\u001b[1;36m📊 Modality       \u001b[0m\u001b[1;36m \u001b[0m┃\u001b[1;33m \u001b[0m\u001b[1;33mPictures  \u001b[0m\u001b[1;33m \u001b[0m┃\n",
       "┃\u001b[1;36m \u001b[0m\u001b[1;36m⏱ Tmin            \u001b[0m\u001b[1;36m \u001b[0m┃\u001b[1;33m \u001b[0m\u001b[1;36m0.2\u001b[0m\u001b[1;33m       \u001b[0m\u001b[1;33m \u001b[0m┃\n",
       "┃\u001b[1;36m \u001b[0m\u001b[1;36m⏳ Tmax           \u001b[0m\u001b[1;36m \u001b[0m┃\u001b[1;33m \u001b[0m\u001b[1;36m0.9\u001b[0m\u001b[1;33m       \u001b[0m\u001b[1;33m \u001b[0m┃\n",
       "┗━━━━━━━━━━━━━━━━━━━━┻━━━━━━━━━━━━┛\n"
      ]
     },
     "metadata": {},
     "output_type": "display_data"
    },
    {
     "name": "stdout",
     "output_type": "stream",
     "text": [
      "Not setting metadata\n",
      "130 matching events found\n",
      "Applying baseline correction (mode: mean)\n",
      "0 projection items activated\n",
      "Using data from preloaded Raw for 130 events and 701 original time points ...\n",
      "0 bad epochs dropped\n"
     ]
    },
    {
     "data": {
      "text/html": [
       "<pre style=\"white-space:pre;overflow-x:auto;line-height:normal;font-family:Menlo,'DejaVu Sans Mono',consolas,'Courier New',monospace\"> <span style=\"color: #008000; text-decoration-color: #008000; font-weight: bold\">Creating epochs: sub-</span><span style=\"color: #008000; text-decoration-color: #008000; font-weight: bold\">09</span><span style=\"color: #008000; text-decoration-color: #008000; font-weight: bold\">, ses-</span><span style=\"color: #008000; text-decoration-color: #008000; font-weight: bold\">01</span>\n",
       "</pre>\n"
      ],
      "text/plain": [
       " \u001b[1;32mCreating epochs: sub-\u001b[0m\u001b[1;32m09\u001b[0m\u001b[1;32m, ses-\u001b[0m\u001b[1;32m01\u001b[0m\n"
      ]
     },
     "metadata": {},
     "output_type": "display_data"
    },
    {
     "data": {
      "text/html": [
       "<pre style=\"white-space:pre;overflow-x:auto;line-height:normal;font-family:Menlo,'DejaVu Sans Mono',consolas,'Courier New',monospace\"><span style=\"color: #800000; text-decoration-color: #800000\">╭────────────────────────────────╮</span>\n",
       "<span style=\"color: #800000; text-decoration-color: #800000\">│</span>  <span style=\"color: #800000; text-decoration-color: #800000; font-weight: bold\">Initializing DataLoader Class</span> <span style=\"color: #800000; text-decoration-color: #800000\">│</span>\n",
       "<span style=\"color: #800000; text-decoration-color: #800000\">╰────────────────────────────────╯</span>\n",
       "</pre>\n"
      ],
      "text/plain": [
       "\u001b[31m╭────────────────────────────────╮\u001b[0m\n",
       "\u001b[31m│\u001b[0m  \u001b[1;31mInitializing DataLoader Class\u001b[0m \u001b[31m│\u001b[0m\n",
       "\u001b[31m╰────────────────────────────────╯\u001b[0m\n"
      ]
     },
     "metadata": {},
     "output_type": "display_data"
    },
    {
     "data": {
      "text/html": [
       "<pre style=\"white-space:pre;overflow-x:auto;line-height:normal;font-family:Menlo,'DejaVu Sans Mono',consolas,'Courier New',monospace\"> <span style=\"color: #008000; text-decoration-color: #008000; font-weight: bold\">Creating EPOCHS</span>\n",
       "</pre>\n"
      ],
      "text/plain": [
       " \u001b[1;32mCreating EPOCHS\u001b[0m\n"
      ]
     },
     "metadata": {},
     "output_type": "display_data"
    },
    {
     "data": {
      "text/html": [
       "<pre style=\"white-space:pre;overflow-x:auto;line-height:normal;font-family:Menlo,'DejaVu Sans Mono',consolas,'Courier New',monospace\"><span style=\"font-style: italic\">        Extraction Criteria        </span>\n",
       "┏━━━━━━━━━━━━━━━━━━━━┳━━━━━━━━━━━━┓\n",
       "┃<span style=\"font-weight: bold\"> Parameter          </span>┃<span style=\"font-weight: bold\"> Value      </span>┃\n",
       "┣━━━━━━━━━━━━━━━━━━━━╋━━━━━━━━━━━━┫\n",
       "┃<span style=\"color: #008080; text-decoration-color: #008080; font-weight: bold\"> 🧪 Trial Mode      </span>┃<span style=\"color: #808000; text-decoration-color: #808000; font-weight: bold\">            </span>┃\n",
       "┃<span style=\"color: #008080; text-decoration-color: #008080; font-weight: bold\"> 📏 Trial Unit      </span>┃<span style=\"color: #808000; text-decoration-color: #808000; font-weight: bold\"> Words      </span>┃\n",
       "┃<span style=\"color: #008080; text-decoration-color: #008080; font-weight: bold\"> 🔗 Experiment Mode </span>┃<span style=\"color: #808000; text-decoration-color: #808000; font-weight: bold\"> Experiment </span>┃\n",
       "┃<span style=\"color: #008080; text-decoration-color: #008080; font-weight: bold\"> 🎭 Trial Boundary  </span>┃<span style=\"color: #808000; text-decoration-color: #808000; font-weight: bold\"> Start      </span>┃\n",
       "┃<span style=\"color: #008080; text-decoration-color: #008080; font-weight: bold\"> 🔬 Trial Type      </span>┃<span style=\"color: #808000; text-decoration-color: #808000; font-weight: bold\"> Fixation   </span>┃\n",
       "┃<span style=\"color: #008080; text-decoration-color: #008080; font-weight: bold\"> 📊 Modality        </span>┃<span style=\"color: #808000; text-decoration-color: #808000; font-weight: bold\"> Pictures   </span>┃\n",
       "┃<span style=\"color: #008080; text-decoration-color: #008080; font-weight: bold\"> ⏱ Tmin             </span>┃<span style=\"color: #808000; text-decoration-color: #808000; font-weight: bold\"> </span><span style=\"color: #008080; text-decoration-color: #008080; font-weight: bold\">0.2</span><span style=\"color: #808000; text-decoration-color: #808000; font-weight: bold\">        </span>┃\n",
       "┃<span style=\"color: #008080; text-decoration-color: #008080; font-weight: bold\"> ⏳ Tmax            </span>┃<span style=\"color: #808000; text-decoration-color: #808000; font-weight: bold\"> </span><span style=\"color: #008080; text-decoration-color: #008080; font-weight: bold\">0.9</span><span style=\"color: #808000; text-decoration-color: #808000; font-weight: bold\">        </span>┃\n",
       "┗━━━━━━━━━━━━━━━━━━━━┻━━━━━━━━━━━━┛\n",
       "</pre>\n"
      ],
      "text/plain": [
       "\u001b[3m        Extraction Criteria        \u001b[0m\n",
       "┏━━━━━━━━━━━━━━━━━━━━┳━━━━━━━━━━━━┓\n",
       "┃\u001b[1m \u001b[0m\u001b[1mParameter         \u001b[0m\u001b[1m \u001b[0m┃\u001b[1m \u001b[0m\u001b[1mValue     \u001b[0m\u001b[1m \u001b[0m┃\n",
       "┣━━━━━━━━━━━━━━━━━━━━╋━━━━━━━━━━━━┫\n",
       "┃\u001b[1;36m \u001b[0m\u001b[1;36m🧪 Trial Mode     \u001b[0m\u001b[1;36m \u001b[0m┃\u001b[1;33m \u001b[0m\u001b[1;33m          \u001b[0m\u001b[1;33m \u001b[0m┃\n",
       "┃\u001b[1;36m \u001b[0m\u001b[1;36m📏 Trial Unit     \u001b[0m\u001b[1;36m \u001b[0m┃\u001b[1;33m \u001b[0m\u001b[1;33mWords     \u001b[0m\u001b[1;33m \u001b[0m┃\n",
       "┃\u001b[1;36m \u001b[0m\u001b[1;36m🔗 Experiment Mode\u001b[0m\u001b[1;36m \u001b[0m┃\u001b[1;33m \u001b[0m\u001b[1;33mExperiment\u001b[0m\u001b[1;33m \u001b[0m┃\n",
       "┃\u001b[1;36m \u001b[0m\u001b[1;36m🎭 Trial Boundary \u001b[0m\u001b[1;36m \u001b[0m┃\u001b[1;33m \u001b[0m\u001b[1;33mStart     \u001b[0m\u001b[1;33m \u001b[0m┃\n",
       "┃\u001b[1;36m \u001b[0m\u001b[1;36m🔬 Trial Type     \u001b[0m\u001b[1;36m \u001b[0m┃\u001b[1;33m \u001b[0m\u001b[1;33mFixation  \u001b[0m\u001b[1;33m \u001b[0m┃\n",
       "┃\u001b[1;36m \u001b[0m\u001b[1;36m📊 Modality       \u001b[0m\u001b[1;36m \u001b[0m┃\u001b[1;33m \u001b[0m\u001b[1;33mPictures  \u001b[0m\u001b[1;33m \u001b[0m┃\n",
       "┃\u001b[1;36m \u001b[0m\u001b[1;36m⏱ Tmin            \u001b[0m\u001b[1;36m \u001b[0m┃\u001b[1;33m \u001b[0m\u001b[1;36m0.2\u001b[0m\u001b[1;33m       \u001b[0m\u001b[1;33m \u001b[0m┃\n",
       "┃\u001b[1;36m \u001b[0m\u001b[1;36m⏳ Tmax           \u001b[0m\u001b[1;36m \u001b[0m┃\u001b[1;33m \u001b[0m\u001b[1;36m0.9\u001b[0m\u001b[1;33m       \u001b[0m\u001b[1;33m \u001b[0m┃\n",
       "┗━━━━━━━━━━━━━━━━━━━━┻━━━━━━━━━━━━┛\n"
      ]
     },
     "metadata": {},
     "output_type": "display_data"
    },
    {
     "name": "stdout",
     "output_type": "stream",
     "text": [
      "Not setting metadata\n",
      "130 matching events found\n",
      "Applying baseline correction (mode: mean)\n",
      "0 projection items activated\n",
      "Using data from preloaded Raw for 130 events and 701 original time points ...\n",
      "0 bad epochs dropped\n"
     ]
    },
    {
     "data": {
      "text/html": [
       "<pre style=\"white-space:pre;overflow-x:auto;line-height:normal;font-family:Menlo,'DejaVu Sans Mono',consolas,'Courier New',monospace\"> <span style=\"color: #008000; text-decoration-color: #008000; font-weight: bold\">Creating epochs: sub-</span><span style=\"color: #008000; text-decoration-color: #008000; font-weight: bold\">10</span><span style=\"color: #008000; text-decoration-color: #008000; font-weight: bold\">, ses-</span><span style=\"color: #008000; text-decoration-color: #008000; font-weight: bold\">01</span>\n",
       "</pre>\n"
      ],
      "text/plain": [
       " \u001b[1;32mCreating epochs: sub-\u001b[0m\u001b[1;32m10\u001b[0m\u001b[1;32m, ses-\u001b[0m\u001b[1;32m01\u001b[0m\n"
      ]
     },
     "metadata": {},
     "output_type": "display_data"
    },
    {
     "data": {
      "text/html": [
       "<pre style=\"white-space:pre;overflow-x:auto;line-height:normal;font-family:Menlo,'DejaVu Sans Mono',consolas,'Courier New',monospace\"><span style=\"color: #800000; text-decoration-color: #800000\">╭────────────────────────────────╮</span>\n",
       "<span style=\"color: #800000; text-decoration-color: #800000\">│</span>  <span style=\"color: #800000; text-decoration-color: #800000; font-weight: bold\">Initializing DataLoader Class</span> <span style=\"color: #800000; text-decoration-color: #800000\">│</span>\n",
       "<span style=\"color: #800000; text-decoration-color: #800000\">╰────────────────────────────────╯</span>\n",
       "</pre>\n"
      ],
      "text/plain": [
       "\u001b[31m╭────────────────────────────────╮\u001b[0m\n",
       "\u001b[31m│\u001b[0m  \u001b[1;31mInitializing DataLoader Class\u001b[0m \u001b[31m│\u001b[0m\n",
       "\u001b[31m╰────────────────────────────────╯\u001b[0m\n"
      ]
     },
     "metadata": {},
     "output_type": "display_data"
    },
    {
     "data": {
      "text/html": [
       "<pre style=\"white-space:pre;overflow-x:auto;line-height:normal;font-family:Menlo,'DejaVu Sans Mono',consolas,'Courier New',monospace\"> <span style=\"color: #008000; text-decoration-color: #008000; font-weight: bold\">Creating EPOCHS</span>\n",
       "</pre>\n"
      ],
      "text/plain": [
       " \u001b[1;32mCreating EPOCHS\u001b[0m\n"
      ]
     },
     "metadata": {},
     "output_type": "display_data"
    },
    {
     "data": {
      "text/html": [
       "<pre style=\"white-space:pre;overflow-x:auto;line-height:normal;font-family:Menlo,'DejaVu Sans Mono',consolas,'Courier New',monospace\"><span style=\"font-style: italic\">        Extraction Criteria        </span>\n",
       "┏━━━━━━━━━━━━━━━━━━━━┳━━━━━━━━━━━━┓\n",
       "┃<span style=\"font-weight: bold\"> Parameter          </span>┃<span style=\"font-weight: bold\"> Value      </span>┃\n",
       "┣━━━━━━━━━━━━━━━━━━━━╋━━━━━━━━━━━━┫\n",
       "┃<span style=\"color: #008080; text-decoration-color: #008080; font-weight: bold\"> 🧪 Trial Mode      </span>┃<span style=\"color: #808000; text-decoration-color: #808000; font-weight: bold\">            </span>┃\n",
       "┃<span style=\"color: #008080; text-decoration-color: #008080; font-weight: bold\"> 📏 Trial Unit      </span>┃<span style=\"color: #808000; text-decoration-color: #808000; font-weight: bold\"> Words      </span>┃\n",
       "┃<span style=\"color: #008080; text-decoration-color: #008080; font-weight: bold\"> 🔗 Experiment Mode </span>┃<span style=\"color: #808000; text-decoration-color: #808000; font-weight: bold\"> Experiment </span>┃\n",
       "┃<span style=\"color: #008080; text-decoration-color: #008080; font-weight: bold\"> 🎭 Trial Boundary  </span>┃<span style=\"color: #808000; text-decoration-color: #808000; font-weight: bold\"> Start      </span>┃\n",
       "┃<span style=\"color: #008080; text-decoration-color: #008080; font-weight: bold\"> 🔬 Trial Type      </span>┃<span style=\"color: #808000; text-decoration-color: #808000; font-weight: bold\"> Fixation   </span>┃\n",
       "┃<span style=\"color: #008080; text-decoration-color: #008080; font-weight: bold\"> 📊 Modality        </span>┃<span style=\"color: #808000; text-decoration-color: #808000; font-weight: bold\"> Pictures   </span>┃\n",
       "┃<span style=\"color: #008080; text-decoration-color: #008080; font-weight: bold\"> ⏱ Tmin             </span>┃<span style=\"color: #808000; text-decoration-color: #808000; font-weight: bold\"> </span><span style=\"color: #008080; text-decoration-color: #008080; font-weight: bold\">0.2</span><span style=\"color: #808000; text-decoration-color: #808000; font-weight: bold\">        </span>┃\n",
       "┃<span style=\"color: #008080; text-decoration-color: #008080; font-weight: bold\"> ⏳ Tmax            </span>┃<span style=\"color: #808000; text-decoration-color: #808000; font-weight: bold\"> </span><span style=\"color: #008080; text-decoration-color: #008080; font-weight: bold\">0.9</span><span style=\"color: #808000; text-decoration-color: #808000; font-weight: bold\">        </span>┃\n",
       "┗━━━━━━━━━━━━━━━━━━━━┻━━━━━━━━━━━━┛\n",
       "</pre>\n"
      ],
      "text/plain": [
       "\u001b[3m        Extraction Criteria        \u001b[0m\n",
       "┏━━━━━━━━━━━━━━━━━━━━┳━━━━━━━━━━━━┓\n",
       "┃\u001b[1m \u001b[0m\u001b[1mParameter         \u001b[0m\u001b[1m \u001b[0m┃\u001b[1m \u001b[0m\u001b[1mValue     \u001b[0m\u001b[1m \u001b[0m┃\n",
       "┣━━━━━━━━━━━━━━━━━━━━╋━━━━━━━━━━━━┫\n",
       "┃\u001b[1;36m \u001b[0m\u001b[1;36m🧪 Trial Mode     \u001b[0m\u001b[1;36m \u001b[0m┃\u001b[1;33m \u001b[0m\u001b[1;33m          \u001b[0m\u001b[1;33m \u001b[0m┃\n",
       "┃\u001b[1;36m \u001b[0m\u001b[1;36m📏 Trial Unit     \u001b[0m\u001b[1;36m \u001b[0m┃\u001b[1;33m \u001b[0m\u001b[1;33mWords     \u001b[0m\u001b[1;33m \u001b[0m┃\n",
       "┃\u001b[1;36m \u001b[0m\u001b[1;36m🔗 Experiment Mode\u001b[0m\u001b[1;36m \u001b[0m┃\u001b[1;33m \u001b[0m\u001b[1;33mExperiment\u001b[0m\u001b[1;33m \u001b[0m┃\n",
       "┃\u001b[1;36m \u001b[0m\u001b[1;36m🎭 Trial Boundary \u001b[0m\u001b[1;36m \u001b[0m┃\u001b[1;33m \u001b[0m\u001b[1;33mStart     \u001b[0m\u001b[1;33m \u001b[0m┃\n",
       "┃\u001b[1;36m \u001b[0m\u001b[1;36m🔬 Trial Type     \u001b[0m\u001b[1;36m \u001b[0m┃\u001b[1;33m \u001b[0m\u001b[1;33mFixation  \u001b[0m\u001b[1;33m \u001b[0m┃\n",
       "┃\u001b[1;36m \u001b[0m\u001b[1;36m📊 Modality       \u001b[0m\u001b[1;36m \u001b[0m┃\u001b[1;33m \u001b[0m\u001b[1;33mPictures  \u001b[0m\u001b[1;33m \u001b[0m┃\n",
       "┃\u001b[1;36m \u001b[0m\u001b[1;36m⏱ Tmin            \u001b[0m\u001b[1;36m \u001b[0m┃\u001b[1;33m \u001b[0m\u001b[1;36m0.2\u001b[0m\u001b[1;33m       \u001b[0m\u001b[1;33m \u001b[0m┃\n",
       "┃\u001b[1;36m \u001b[0m\u001b[1;36m⏳ Tmax           \u001b[0m\u001b[1;36m \u001b[0m┃\u001b[1;33m \u001b[0m\u001b[1;36m0.9\u001b[0m\u001b[1;33m       \u001b[0m\u001b[1;33m \u001b[0m┃\n",
       "┗━━━━━━━━━━━━━━━━━━━━┻━━━━━━━━━━━━┛\n"
      ]
     },
     "metadata": {},
     "output_type": "display_data"
    },
    {
     "name": "stdout",
     "output_type": "stream",
     "text": [
      "Not setting metadata\n",
      "130 matching events found\n",
      "Applying baseline correction (mode: mean)\n",
      "0 projection items activated\n",
      "Using data from preloaded Raw for 130 events and 701 original time points ...\n",
      "0 bad epochs dropped\n"
     ]
    },
    {
     "data": {
      "text/html": [
       "<pre style=\"white-space:pre;overflow-x:auto;line-height:normal;font-family:Menlo,'DejaVu Sans Mono',consolas,'Courier New',monospace\"> <span style=\"color: #008000; text-decoration-color: #008000; font-weight: bold\">Creating epochs: sub-</span><span style=\"color: #008000; text-decoration-color: #008000; font-weight: bold\">11</span><span style=\"color: #008000; text-decoration-color: #008000; font-weight: bold\">, ses-</span><span style=\"color: #008000; text-decoration-color: #008000; font-weight: bold\">01</span>\n",
       "</pre>\n"
      ],
      "text/plain": [
       " \u001b[1;32mCreating epochs: sub-\u001b[0m\u001b[1;32m11\u001b[0m\u001b[1;32m, ses-\u001b[0m\u001b[1;32m01\u001b[0m\n"
      ]
     },
     "metadata": {},
     "output_type": "display_data"
    },
    {
     "data": {
      "text/html": [
       "<pre style=\"white-space:pre;overflow-x:auto;line-height:normal;font-family:Menlo,'DejaVu Sans Mono',consolas,'Courier New',monospace\"><span style=\"color: #800000; text-decoration-color: #800000\">╭────────────────────────────────╮</span>\n",
       "<span style=\"color: #800000; text-decoration-color: #800000\">│</span>  <span style=\"color: #800000; text-decoration-color: #800000; font-weight: bold\">Initializing DataLoader Class</span> <span style=\"color: #800000; text-decoration-color: #800000\">│</span>\n",
       "<span style=\"color: #800000; text-decoration-color: #800000\">╰────────────────────────────────╯</span>\n",
       "</pre>\n"
      ],
      "text/plain": [
       "\u001b[31m╭────────────────────────────────╮\u001b[0m\n",
       "\u001b[31m│\u001b[0m  \u001b[1;31mInitializing DataLoader Class\u001b[0m \u001b[31m│\u001b[0m\n",
       "\u001b[31m╰────────────────────────────────╯\u001b[0m\n"
      ]
     },
     "metadata": {},
     "output_type": "display_data"
    },
    {
     "data": {
      "text/html": [
       "<pre style=\"white-space:pre;overflow-x:auto;line-height:normal;font-family:Menlo,'DejaVu Sans Mono',consolas,'Courier New',monospace\"> <span style=\"color: #008000; text-decoration-color: #008000; font-weight: bold\">Creating EPOCHS</span>\n",
       "</pre>\n"
      ],
      "text/plain": [
       " \u001b[1;32mCreating EPOCHS\u001b[0m\n"
      ]
     },
     "metadata": {},
     "output_type": "display_data"
    },
    {
     "data": {
      "text/html": [
       "<pre style=\"white-space:pre;overflow-x:auto;line-height:normal;font-family:Menlo,'DejaVu Sans Mono',consolas,'Courier New',monospace\"><span style=\"font-style: italic\">        Extraction Criteria        </span>\n",
       "┏━━━━━━━━━━━━━━━━━━━━┳━━━━━━━━━━━━┓\n",
       "┃<span style=\"font-weight: bold\"> Parameter          </span>┃<span style=\"font-weight: bold\"> Value      </span>┃\n",
       "┣━━━━━━━━━━━━━━━━━━━━╋━━━━━━━━━━━━┫\n",
       "┃<span style=\"color: #008080; text-decoration-color: #008080; font-weight: bold\"> 🧪 Trial Mode      </span>┃<span style=\"color: #808000; text-decoration-color: #808000; font-weight: bold\">            </span>┃\n",
       "┃<span style=\"color: #008080; text-decoration-color: #008080; font-weight: bold\"> 📏 Trial Unit      </span>┃<span style=\"color: #808000; text-decoration-color: #808000; font-weight: bold\"> Words      </span>┃\n",
       "┃<span style=\"color: #008080; text-decoration-color: #008080; font-weight: bold\"> 🔗 Experiment Mode </span>┃<span style=\"color: #808000; text-decoration-color: #808000; font-weight: bold\"> Experiment </span>┃\n",
       "┃<span style=\"color: #008080; text-decoration-color: #008080; font-weight: bold\"> 🎭 Trial Boundary  </span>┃<span style=\"color: #808000; text-decoration-color: #808000; font-weight: bold\"> Start      </span>┃\n",
       "┃<span style=\"color: #008080; text-decoration-color: #008080; font-weight: bold\"> 🔬 Trial Type      </span>┃<span style=\"color: #808000; text-decoration-color: #808000; font-weight: bold\"> Fixation   </span>┃\n",
       "┃<span style=\"color: #008080; text-decoration-color: #008080; font-weight: bold\"> 📊 Modality        </span>┃<span style=\"color: #808000; text-decoration-color: #808000; font-weight: bold\"> Pictures   </span>┃\n",
       "┃<span style=\"color: #008080; text-decoration-color: #008080; font-weight: bold\"> ⏱ Tmin             </span>┃<span style=\"color: #808000; text-decoration-color: #808000; font-weight: bold\"> </span><span style=\"color: #008080; text-decoration-color: #008080; font-weight: bold\">0.2</span><span style=\"color: #808000; text-decoration-color: #808000; font-weight: bold\">        </span>┃\n",
       "┃<span style=\"color: #008080; text-decoration-color: #008080; font-weight: bold\"> ⏳ Tmax            </span>┃<span style=\"color: #808000; text-decoration-color: #808000; font-weight: bold\"> </span><span style=\"color: #008080; text-decoration-color: #008080; font-weight: bold\">0.9</span><span style=\"color: #808000; text-decoration-color: #808000; font-weight: bold\">        </span>┃\n",
       "┗━━━━━━━━━━━━━━━━━━━━┻━━━━━━━━━━━━┛\n",
       "</pre>\n"
      ],
      "text/plain": [
       "\u001b[3m        Extraction Criteria        \u001b[0m\n",
       "┏━━━━━━━━━━━━━━━━━━━━┳━━━━━━━━━━━━┓\n",
       "┃\u001b[1m \u001b[0m\u001b[1mParameter         \u001b[0m\u001b[1m \u001b[0m┃\u001b[1m \u001b[0m\u001b[1mValue     \u001b[0m\u001b[1m \u001b[0m┃\n",
       "┣━━━━━━━━━━━━━━━━━━━━╋━━━━━━━━━━━━┫\n",
       "┃\u001b[1;36m \u001b[0m\u001b[1;36m🧪 Trial Mode     \u001b[0m\u001b[1;36m \u001b[0m┃\u001b[1;33m \u001b[0m\u001b[1;33m          \u001b[0m\u001b[1;33m \u001b[0m┃\n",
       "┃\u001b[1;36m \u001b[0m\u001b[1;36m📏 Trial Unit     \u001b[0m\u001b[1;36m \u001b[0m┃\u001b[1;33m \u001b[0m\u001b[1;33mWords     \u001b[0m\u001b[1;33m \u001b[0m┃\n",
       "┃\u001b[1;36m \u001b[0m\u001b[1;36m🔗 Experiment Mode\u001b[0m\u001b[1;36m \u001b[0m┃\u001b[1;33m \u001b[0m\u001b[1;33mExperiment\u001b[0m\u001b[1;33m \u001b[0m┃\n",
       "┃\u001b[1;36m \u001b[0m\u001b[1;36m🎭 Trial Boundary \u001b[0m\u001b[1;36m \u001b[0m┃\u001b[1;33m \u001b[0m\u001b[1;33mStart     \u001b[0m\u001b[1;33m \u001b[0m┃\n",
       "┃\u001b[1;36m \u001b[0m\u001b[1;36m🔬 Trial Type     \u001b[0m\u001b[1;36m \u001b[0m┃\u001b[1;33m \u001b[0m\u001b[1;33mFixation  \u001b[0m\u001b[1;33m \u001b[0m┃\n",
       "┃\u001b[1;36m \u001b[0m\u001b[1;36m📊 Modality       \u001b[0m\u001b[1;36m \u001b[0m┃\u001b[1;33m \u001b[0m\u001b[1;33mPictures  \u001b[0m\u001b[1;33m \u001b[0m┃\n",
       "┃\u001b[1;36m \u001b[0m\u001b[1;36m⏱ Tmin            \u001b[0m\u001b[1;36m \u001b[0m┃\u001b[1;33m \u001b[0m\u001b[1;36m0.2\u001b[0m\u001b[1;33m       \u001b[0m\u001b[1;33m \u001b[0m┃\n",
       "┃\u001b[1;36m \u001b[0m\u001b[1;36m⏳ Tmax           \u001b[0m\u001b[1;36m \u001b[0m┃\u001b[1;33m \u001b[0m\u001b[1;36m0.9\u001b[0m\u001b[1;33m       \u001b[0m\u001b[1;33m \u001b[0m┃\n",
       "┗━━━━━━━━━━━━━━━━━━━━┻━━━━━━━━━━━━┛\n"
      ]
     },
     "metadata": {},
     "output_type": "display_data"
    },
    {
     "name": "stdout",
     "output_type": "stream",
     "text": [
      "Not setting metadata\n",
      "130 matching events found\n",
      "Applying baseline correction (mode: mean)\n",
      "0 projection items activated\n",
      "Using data from preloaded Raw for 130 events and 701 original time points ...\n",
      "0 bad epochs dropped\n"
     ]
    },
    {
     "data": {
      "text/html": [
       "<pre style=\"white-space:pre;overflow-x:auto;line-height:normal;font-family:Menlo,'DejaVu Sans Mono',consolas,'Courier New',monospace\"> <span style=\"color: #008000; text-decoration-color: #008000; font-weight: bold\">Creating epochs: sub-</span><span style=\"color: #008000; text-decoration-color: #008000; font-weight: bold\">12</span><span style=\"color: #008000; text-decoration-color: #008000; font-weight: bold\">, ses-</span><span style=\"color: #008000; text-decoration-color: #008000; font-weight: bold\">01</span>\n",
       "</pre>\n"
      ],
      "text/plain": [
       " \u001b[1;32mCreating epochs: sub-\u001b[0m\u001b[1;32m12\u001b[0m\u001b[1;32m, ses-\u001b[0m\u001b[1;32m01\u001b[0m\n"
      ]
     },
     "metadata": {},
     "output_type": "display_data"
    },
    {
     "data": {
      "text/html": [
       "<pre style=\"white-space:pre;overflow-x:auto;line-height:normal;font-family:Menlo,'DejaVu Sans Mono',consolas,'Courier New',monospace\"><span style=\"color: #800000; text-decoration-color: #800000\">╭────────────────────────────────╮</span>\n",
       "<span style=\"color: #800000; text-decoration-color: #800000\">│</span>  <span style=\"color: #800000; text-decoration-color: #800000; font-weight: bold\">Initializing DataLoader Class</span> <span style=\"color: #800000; text-decoration-color: #800000\">│</span>\n",
       "<span style=\"color: #800000; text-decoration-color: #800000\">╰────────────────────────────────╯</span>\n",
       "</pre>\n"
      ],
      "text/plain": [
       "\u001b[31m╭────────────────────────────────╮\u001b[0m\n",
       "\u001b[31m│\u001b[0m  \u001b[1;31mInitializing DataLoader Class\u001b[0m \u001b[31m│\u001b[0m\n",
       "\u001b[31m╰────────────────────────────────╯\u001b[0m\n"
      ]
     },
     "metadata": {},
     "output_type": "display_data"
    },
    {
     "data": {
      "text/html": [
       "<pre style=\"white-space:pre;overflow-x:auto;line-height:normal;font-family:Menlo,'DejaVu Sans Mono',consolas,'Courier New',monospace\"> <span style=\"color: #008000; text-decoration-color: #008000; font-weight: bold\">Creating EPOCHS</span>\n",
       "</pre>\n"
      ],
      "text/plain": [
       " \u001b[1;32mCreating EPOCHS\u001b[0m\n"
      ]
     },
     "metadata": {},
     "output_type": "display_data"
    },
    {
     "data": {
      "text/html": [
       "<pre style=\"white-space:pre;overflow-x:auto;line-height:normal;font-family:Menlo,'DejaVu Sans Mono',consolas,'Courier New',monospace\"><span style=\"font-style: italic\">        Extraction Criteria        </span>\n",
       "┏━━━━━━━━━━━━━━━━━━━━┳━━━━━━━━━━━━┓\n",
       "┃<span style=\"font-weight: bold\"> Parameter          </span>┃<span style=\"font-weight: bold\"> Value      </span>┃\n",
       "┣━━━━━━━━━━━━━━━━━━━━╋━━━━━━━━━━━━┫\n",
       "┃<span style=\"color: #008080; text-decoration-color: #008080; font-weight: bold\"> 🧪 Trial Mode      </span>┃<span style=\"color: #808000; text-decoration-color: #808000; font-weight: bold\">            </span>┃\n",
       "┃<span style=\"color: #008080; text-decoration-color: #008080; font-weight: bold\"> 📏 Trial Unit      </span>┃<span style=\"color: #808000; text-decoration-color: #808000; font-weight: bold\"> Words      </span>┃\n",
       "┃<span style=\"color: #008080; text-decoration-color: #008080; font-weight: bold\"> 🔗 Experiment Mode </span>┃<span style=\"color: #808000; text-decoration-color: #808000; font-weight: bold\"> Experiment </span>┃\n",
       "┃<span style=\"color: #008080; text-decoration-color: #008080; font-weight: bold\"> 🎭 Trial Boundary  </span>┃<span style=\"color: #808000; text-decoration-color: #808000; font-weight: bold\"> Start      </span>┃\n",
       "┃<span style=\"color: #008080; text-decoration-color: #008080; font-weight: bold\"> 🔬 Trial Type      </span>┃<span style=\"color: #808000; text-decoration-color: #808000; font-weight: bold\"> Fixation   </span>┃\n",
       "┃<span style=\"color: #008080; text-decoration-color: #008080; font-weight: bold\"> 📊 Modality        </span>┃<span style=\"color: #808000; text-decoration-color: #808000; font-weight: bold\"> Pictures   </span>┃\n",
       "┃<span style=\"color: #008080; text-decoration-color: #008080; font-weight: bold\"> ⏱ Tmin             </span>┃<span style=\"color: #808000; text-decoration-color: #808000; font-weight: bold\"> </span><span style=\"color: #008080; text-decoration-color: #008080; font-weight: bold\">0.2</span><span style=\"color: #808000; text-decoration-color: #808000; font-weight: bold\">        </span>┃\n",
       "┃<span style=\"color: #008080; text-decoration-color: #008080; font-weight: bold\"> ⏳ Tmax            </span>┃<span style=\"color: #808000; text-decoration-color: #808000; font-weight: bold\"> </span><span style=\"color: #008080; text-decoration-color: #008080; font-weight: bold\">0.9</span><span style=\"color: #808000; text-decoration-color: #808000; font-weight: bold\">        </span>┃\n",
       "┗━━━━━━━━━━━━━━━━━━━━┻━━━━━━━━━━━━┛\n",
       "</pre>\n"
      ],
      "text/plain": [
       "\u001b[3m        Extraction Criteria        \u001b[0m\n",
       "┏━━━━━━━━━━━━━━━━━━━━┳━━━━━━━━━━━━┓\n",
       "┃\u001b[1m \u001b[0m\u001b[1mParameter         \u001b[0m\u001b[1m \u001b[0m┃\u001b[1m \u001b[0m\u001b[1mValue     \u001b[0m\u001b[1m \u001b[0m┃\n",
       "┣━━━━━━━━━━━━━━━━━━━━╋━━━━━━━━━━━━┫\n",
       "┃\u001b[1;36m \u001b[0m\u001b[1;36m🧪 Trial Mode     \u001b[0m\u001b[1;36m \u001b[0m┃\u001b[1;33m \u001b[0m\u001b[1;33m          \u001b[0m\u001b[1;33m \u001b[0m┃\n",
       "┃\u001b[1;36m \u001b[0m\u001b[1;36m📏 Trial Unit     \u001b[0m\u001b[1;36m \u001b[0m┃\u001b[1;33m \u001b[0m\u001b[1;33mWords     \u001b[0m\u001b[1;33m \u001b[0m┃\n",
       "┃\u001b[1;36m \u001b[0m\u001b[1;36m🔗 Experiment Mode\u001b[0m\u001b[1;36m \u001b[0m┃\u001b[1;33m \u001b[0m\u001b[1;33mExperiment\u001b[0m\u001b[1;33m \u001b[0m┃\n",
       "┃\u001b[1;36m \u001b[0m\u001b[1;36m🎭 Trial Boundary \u001b[0m\u001b[1;36m \u001b[0m┃\u001b[1;33m \u001b[0m\u001b[1;33mStart     \u001b[0m\u001b[1;33m \u001b[0m┃\n",
       "┃\u001b[1;36m \u001b[0m\u001b[1;36m🔬 Trial Type     \u001b[0m\u001b[1;36m \u001b[0m┃\u001b[1;33m \u001b[0m\u001b[1;33mFixation  \u001b[0m\u001b[1;33m \u001b[0m┃\n",
       "┃\u001b[1;36m \u001b[0m\u001b[1;36m📊 Modality       \u001b[0m\u001b[1;36m \u001b[0m┃\u001b[1;33m \u001b[0m\u001b[1;33mPictures  \u001b[0m\u001b[1;33m \u001b[0m┃\n",
       "┃\u001b[1;36m \u001b[0m\u001b[1;36m⏱ Tmin            \u001b[0m\u001b[1;36m \u001b[0m┃\u001b[1;33m \u001b[0m\u001b[1;36m0.2\u001b[0m\u001b[1;33m       \u001b[0m\u001b[1;33m \u001b[0m┃\n",
       "┃\u001b[1;36m \u001b[0m\u001b[1;36m⏳ Tmax           \u001b[0m\u001b[1;36m \u001b[0m┃\u001b[1;33m \u001b[0m\u001b[1;36m0.9\u001b[0m\u001b[1;33m       \u001b[0m\u001b[1;33m \u001b[0m┃\n",
       "┗━━━━━━━━━━━━━━━━━━━━┻━━━━━━━━━━━━┛\n"
      ]
     },
     "metadata": {},
     "output_type": "display_data"
    },
    {
     "name": "stdout",
     "output_type": "stream",
     "text": [
      "Not setting metadata\n",
      "130 matching events found\n",
      "Applying baseline correction (mode: mean)\n",
      "0 projection items activated\n",
      "Using data from preloaded Raw for 130 events and 701 original time points ...\n",
      "0 bad epochs dropped\n"
     ]
    },
    {
     "data": {
      "text/html": [
       "<pre style=\"white-space:pre;overflow-x:auto;line-height:normal;font-family:Menlo,'DejaVu Sans Mono',consolas,'Courier New',monospace\"> <span style=\"color: #008000; text-decoration-color: #008000; font-weight: bold\">Creating epochs: sub-</span><span style=\"color: #008000; text-decoration-color: #008000; font-weight: bold\">13</span><span style=\"color: #008000; text-decoration-color: #008000; font-weight: bold\">, ses-</span><span style=\"color: #008000; text-decoration-color: #008000; font-weight: bold\">01</span>\n",
       "</pre>\n"
      ],
      "text/plain": [
       " \u001b[1;32mCreating epochs: sub-\u001b[0m\u001b[1;32m13\u001b[0m\u001b[1;32m, ses-\u001b[0m\u001b[1;32m01\u001b[0m\n"
      ]
     },
     "metadata": {},
     "output_type": "display_data"
    },
    {
     "data": {
      "text/html": [
       "<pre style=\"white-space:pre;overflow-x:auto;line-height:normal;font-family:Menlo,'DejaVu Sans Mono',consolas,'Courier New',monospace\"><span style=\"color: #800000; text-decoration-color: #800000\">╭────────────────────────────────╮</span>\n",
       "<span style=\"color: #800000; text-decoration-color: #800000\">│</span>  <span style=\"color: #800000; text-decoration-color: #800000; font-weight: bold\">Initializing DataLoader Class</span> <span style=\"color: #800000; text-decoration-color: #800000\">│</span>\n",
       "<span style=\"color: #800000; text-decoration-color: #800000\">╰────────────────────────────────╯</span>\n",
       "</pre>\n"
      ],
      "text/plain": [
       "\u001b[31m╭────────────────────────────────╮\u001b[0m\n",
       "\u001b[31m│\u001b[0m  \u001b[1;31mInitializing DataLoader Class\u001b[0m \u001b[31m│\u001b[0m\n",
       "\u001b[31m╰────────────────────────────────╯\u001b[0m\n"
      ]
     },
     "metadata": {},
     "output_type": "display_data"
    },
    {
     "data": {
      "text/html": [
       "<pre style=\"white-space:pre;overflow-x:auto;line-height:normal;font-family:Menlo,'DejaVu Sans Mono',consolas,'Courier New',monospace\"> <span style=\"color: #008000; text-decoration-color: #008000; font-weight: bold\">Creating EPOCHS</span>\n",
       "</pre>\n"
      ],
      "text/plain": [
       " \u001b[1;32mCreating EPOCHS\u001b[0m\n"
      ]
     },
     "metadata": {},
     "output_type": "display_data"
    },
    {
     "data": {
      "text/html": [
       "<pre style=\"white-space:pre;overflow-x:auto;line-height:normal;font-family:Menlo,'DejaVu Sans Mono',consolas,'Courier New',monospace\"><span style=\"font-style: italic\">        Extraction Criteria        </span>\n",
       "┏━━━━━━━━━━━━━━━━━━━━┳━━━━━━━━━━━━┓\n",
       "┃<span style=\"font-weight: bold\"> Parameter          </span>┃<span style=\"font-weight: bold\"> Value      </span>┃\n",
       "┣━━━━━━━━━━━━━━━━━━━━╋━━━━━━━━━━━━┫\n",
       "┃<span style=\"color: #008080; text-decoration-color: #008080; font-weight: bold\"> 🧪 Trial Mode      </span>┃<span style=\"color: #808000; text-decoration-color: #808000; font-weight: bold\">            </span>┃\n",
       "┃<span style=\"color: #008080; text-decoration-color: #008080; font-weight: bold\"> 📏 Trial Unit      </span>┃<span style=\"color: #808000; text-decoration-color: #808000; font-weight: bold\"> Words      </span>┃\n",
       "┃<span style=\"color: #008080; text-decoration-color: #008080; font-weight: bold\"> 🔗 Experiment Mode </span>┃<span style=\"color: #808000; text-decoration-color: #808000; font-weight: bold\"> Experiment </span>┃\n",
       "┃<span style=\"color: #008080; text-decoration-color: #008080; font-weight: bold\"> 🎭 Trial Boundary  </span>┃<span style=\"color: #808000; text-decoration-color: #808000; font-weight: bold\"> Start      </span>┃\n",
       "┃<span style=\"color: #008080; text-decoration-color: #008080; font-weight: bold\"> 🔬 Trial Type      </span>┃<span style=\"color: #808000; text-decoration-color: #808000; font-weight: bold\"> Fixation   </span>┃\n",
       "┃<span style=\"color: #008080; text-decoration-color: #008080; font-weight: bold\"> 📊 Modality        </span>┃<span style=\"color: #808000; text-decoration-color: #808000; font-weight: bold\"> Pictures   </span>┃\n",
       "┃<span style=\"color: #008080; text-decoration-color: #008080; font-weight: bold\"> ⏱ Tmin             </span>┃<span style=\"color: #808000; text-decoration-color: #808000; font-weight: bold\"> </span><span style=\"color: #008080; text-decoration-color: #008080; font-weight: bold\">0.2</span><span style=\"color: #808000; text-decoration-color: #808000; font-weight: bold\">        </span>┃\n",
       "┃<span style=\"color: #008080; text-decoration-color: #008080; font-weight: bold\"> ⏳ Tmax            </span>┃<span style=\"color: #808000; text-decoration-color: #808000; font-weight: bold\"> </span><span style=\"color: #008080; text-decoration-color: #008080; font-weight: bold\">0.9</span><span style=\"color: #808000; text-decoration-color: #808000; font-weight: bold\">        </span>┃\n",
       "┗━━━━━━━━━━━━━━━━━━━━┻━━━━━━━━━━━━┛\n",
       "</pre>\n"
      ],
      "text/plain": [
       "\u001b[3m        Extraction Criteria        \u001b[0m\n",
       "┏━━━━━━━━━━━━━━━━━━━━┳━━━━━━━━━━━━┓\n",
       "┃\u001b[1m \u001b[0m\u001b[1mParameter         \u001b[0m\u001b[1m \u001b[0m┃\u001b[1m \u001b[0m\u001b[1mValue     \u001b[0m\u001b[1m \u001b[0m┃\n",
       "┣━━━━━━━━━━━━━━━━━━━━╋━━━━━━━━━━━━┫\n",
       "┃\u001b[1;36m \u001b[0m\u001b[1;36m🧪 Trial Mode     \u001b[0m\u001b[1;36m \u001b[0m┃\u001b[1;33m \u001b[0m\u001b[1;33m          \u001b[0m\u001b[1;33m \u001b[0m┃\n",
       "┃\u001b[1;36m \u001b[0m\u001b[1;36m📏 Trial Unit     \u001b[0m\u001b[1;36m \u001b[0m┃\u001b[1;33m \u001b[0m\u001b[1;33mWords     \u001b[0m\u001b[1;33m \u001b[0m┃\n",
       "┃\u001b[1;36m \u001b[0m\u001b[1;36m🔗 Experiment Mode\u001b[0m\u001b[1;36m \u001b[0m┃\u001b[1;33m \u001b[0m\u001b[1;33mExperiment\u001b[0m\u001b[1;33m \u001b[0m┃\n",
       "┃\u001b[1;36m \u001b[0m\u001b[1;36m🎭 Trial Boundary \u001b[0m\u001b[1;36m \u001b[0m┃\u001b[1;33m \u001b[0m\u001b[1;33mStart     \u001b[0m\u001b[1;33m \u001b[0m┃\n",
       "┃\u001b[1;36m \u001b[0m\u001b[1;36m🔬 Trial Type     \u001b[0m\u001b[1;36m \u001b[0m┃\u001b[1;33m \u001b[0m\u001b[1;33mFixation  \u001b[0m\u001b[1;33m \u001b[0m┃\n",
       "┃\u001b[1;36m \u001b[0m\u001b[1;36m📊 Modality       \u001b[0m\u001b[1;36m \u001b[0m┃\u001b[1;33m \u001b[0m\u001b[1;33mPictures  \u001b[0m\u001b[1;33m \u001b[0m┃\n",
       "┃\u001b[1;36m \u001b[0m\u001b[1;36m⏱ Tmin            \u001b[0m\u001b[1;36m \u001b[0m┃\u001b[1;33m \u001b[0m\u001b[1;36m0.2\u001b[0m\u001b[1;33m       \u001b[0m\u001b[1;33m \u001b[0m┃\n",
       "┃\u001b[1;36m \u001b[0m\u001b[1;36m⏳ Tmax           \u001b[0m\u001b[1;36m \u001b[0m┃\u001b[1;33m \u001b[0m\u001b[1;36m0.9\u001b[0m\u001b[1;33m       \u001b[0m\u001b[1;33m \u001b[0m┃\n",
       "┗━━━━━━━━━━━━━━━━━━━━┻━━━━━━━━━━━━┛\n"
      ]
     },
     "metadata": {},
     "output_type": "display_data"
    },
    {
     "name": "stdout",
     "output_type": "stream",
     "text": [
      "Not setting metadata\n",
      "130 matching events found\n",
      "Applying baseline correction (mode: mean)\n",
      "0 projection items activated\n",
      "Using data from preloaded Raw for 130 events and 701 original time points ...\n",
      "0 bad epochs dropped\n"
     ]
    },
    {
     "data": {
      "text/html": [
       "<pre style=\"white-space:pre;overflow-x:auto;line-height:normal;font-family:Menlo,'DejaVu Sans Mono',consolas,'Courier New',monospace\"> <span style=\"color: #008000; text-decoration-color: #008000; font-weight: bold\">Creating epochs: sub-</span><span style=\"color: #008000; text-decoration-color: #008000; font-weight: bold\">14</span><span style=\"color: #008000; text-decoration-color: #008000; font-weight: bold\">, ses-</span><span style=\"color: #008000; text-decoration-color: #008000; font-weight: bold\">01</span>\n",
       "</pre>\n"
      ],
      "text/plain": [
       " \u001b[1;32mCreating epochs: sub-\u001b[0m\u001b[1;32m14\u001b[0m\u001b[1;32m, ses-\u001b[0m\u001b[1;32m01\u001b[0m\n"
      ]
     },
     "metadata": {},
     "output_type": "display_data"
    },
    {
     "data": {
      "text/html": [
       "<pre style=\"white-space:pre;overflow-x:auto;line-height:normal;font-family:Menlo,'DejaVu Sans Mono',consolas,'Courier New',monospace\"><span style=\"color: #800000; text-decoration-color: #800000\">╭────────────────────────────────╮</span>\n",
       "<span style=\"color: #800000; text-decoration-color: #800000\">│</span>  <span style=\"color: #800000; text-decoration-color: #800000; font-weight: bold\">Initializing DataLoader Class</span> <span style=\"color: #800000; text-decoration-color: #800000\">│</span>\n",
       "<span style=\"color: #800000; text-decoration-color: #800000\">╰────────────────────────────────╯</span>\n",
       "</pre>\n"
      ],
      "text/plain": [
       "\u001b[31m╭────────────────────────────────╮\u001b[0m\n",
       "\u001b[31m│\u001b[0m  \u001b[1;31mInitializing DataLoader Class\u001b[0m \u001b[31m│\u001b[0m\n",
       "\u001b[31m╰────────────────────────────────╯\u001b[0m\n"
      ]
     },
     "metadata": {},
     "output_type": "display_data"
    },
    {
     "data": {
      "text/html": [
       "<pre style=\"white-space:pre;overflow-x:auto;line-height:normal;font-family:Menlo,'DejaVu Sans Mono',consolas,'Courier New',monospace\"> <span style=\"color: #008000; text-decoration-color: #008000; font-weight: bold\">Creating EPOCHS</span>\n",
       "</pre>\n"
      ],
      "text/plain": [
       " \u001b[1;32mCreating EPOCHS\u001b[0m\n"
      ]
     },
     "metadata": {},
     "output_type": "display_data"
    },
    {
     "data": {
      "text/html": [
       "<pre style=\"white-space:pre;overflow-x:auto;line-height:normal;font-family:Menlo,'DejaVu Sans Mono',consolas,'Courier New',monospace\"><span style=\"font-style: italic\">        Extraction Criteria        </span>\n",
       "┏━━━━━━━━━━━━━━━━━━━━┳━━━━━━━━━━━━┓\n",
       "┃<span style=\"font-weight: bold\"> Parameter          </span>┃<span style=\"font-weight: bold\"> Value      </span>┃\n",
       "┣━━━━━━━━━━━━━━━━━━━━╋━━━━━━━━━━━━┫\n",
       "┃<span style=\"color: #008080; text-decoration-color: #008080; font-weight: bold\"> 🧪 Trial Mode      </span>┃<span style=\"color: #808000; text-decoration-color: #808000; font-weight: bold\">            </span>┃\n",
       "┃<span style=\"color: #008080; text-decoration-color: #008080; font-weight: bold\"> 📏 Trial Unit      </span>┃<span style=\"color: #808000; text-decoration-color: #808000; font-weight: bold\"> Words      </span>┃\n",
       "┃<span style=\"color: #008080; text-decoration-color: #008080; font-weight: bold\"> 🔗 Experiment Mode </span>┃<span style=\"color: #808000; text-decoration-color: #808000; font-weight: bold\"> Experiment </span>┃\n",
       "┃<span style=\"color: #008080; text-decoration-color: #008080; font-weight: bold\"> 🎭 Trial Boundary  </span>┃<span style=\"color: #808000; text-decoration-color: #808000; font-weight: bold\"> Start      </span>┃\n",
       "┃<span style=\"color: #008080; text-decoration-color: #008080; font-weight: bold\"> 🔬 Trial Type      </span>┃<span style=\"color: #808000; text-decoration-color: #808000; font-weight: bold\"> Fixation   </span>┃\n",
       "┃<span style=\"color: #008080; text-decoration-color: #008080; font-weight: bold\"> 📊 Modality        </span>┃<span style=\"color: #808000; text-decoration-color: #808000; font-weight: bold\"> Pictures   </span>┃\n",
       "┃<span style=\"color: #008080; text-decoration-color: #008080; font-weight: bold\"> ⏱ Tmin             </span>┃<span style=\"color: #808000; text-decoration-color: #808000; font-weight: bold\"> </span><span style=\"color: #008080; text-decoration-color: #008080; font-weight: bold\">0.2</span><span style=\"color: #808000; text-decoration-color: #808000; font-weight: bold\">        </span>┃\n",
       "┃<span style=\"color: #008080; text-decoration-color: #008080; font-weight: bold\"> ⏳ Tmax            </span>┃<span style=\"color: #808000; text-decoration-color: #808000; font-weight: bold\"> </span><span style=\"color: #008080; text-decoration-color: #008080; font-weight: bold\">0.9</span><span style=\"color: #808000; text-decoration-color: #808000; font-weight: bold\">        </span>┃\n",
       "┗━━━━━━━━━━━━━━━━━━━━┻━━━━━━━━━━━━┛\n",
       "</pre>\n"
      ],
      "text/plain": [
       "\u001b[3m        Extraction Criteria        \u001b[0m\n",
       "┏━━━━━━━━━━━━━━━━━━━━┳━━━━━━━━━━━━┓\n",
       "┃\u001b[1m \u001b[0m\u001b[1mParameter         \u001b[0m\u001b[1m \u001b[0m┃\u001b[1m \u001b[0m\u001b[1mValue     \u001b[0m\u001b[1m \u001b[0m┃\n",
       "┣━━━━━━━━━━━━━━━━━━━━╋━━━━━━━━━━━━┫\n",
       "┃\u001b[1;36m \u001b[0m\u001b[1;36m🧪 Trial Mode     \u001b[0m\u001b[1;36m \u001b[0m┃\u001b[1;33m \u001b[0m\u001b[1;33m          \u001b[0m\u001b[1;33m \u001b[0m┃\n",
       "┃\u001b[1;36m \u001b[0m\u001b[1;36m📏 Trial Unit     \u001b[0m\u001b[1;36m \u001b[0m┃\u001b[1;33m \u001b[0m\u001b[1;33mWords     \u001b[0m\u001b[1;33m \u001b[0m┃\n",
       "┃\u001b[1;36m \u001b[0m\u001b[1;36m🔗 Experiment Mode\u001b[0m\u001b[1;36m \u001b[0m┃\u001b[1;33m \u001b[0m\u001b[1;33mExperiment\u001b[0m\u001b[1;33m \u001b[0m┃\n",
       "┃\u001b[1;36m \u001b[0m\u001b[1;36m🎭 Trial Boundary \u001b[0m\u001b[1;36m \u001b[0m┃\u001b[1;33m \u001b[0m\u001b[1;33mStart     \u001b[0m\u001b[1;33m \u001b[0m┃\n",
       "┃\u001b[1;36m \u001b[0m\u001b[1;36m🔬 Trial Type     \u001b[0m\u001b[1;36m \u001b[0m┃\u001b[1;33m \u001b[0m\u001b[1;33mFixation  \u001b[0m\u001b[1;33m \u001b[0m┃\n",
       "┃\u001b[1;36m \u001b[0m\u001b[1;36m📊 Modality       \u001b[0m\u001b[1;36m \u001b[0m┃\u001b[1;33m \u001b[0m\u001b[1;33mPictures  \u001b[0m\u001b[1;33m \u001b[0m┃\n",
       "┃\u001b[1;36m \u001b[0m\u001b[1;36m⏱ Tmin            \u001b[0m\u001b[1;36m \u001b[0m┃\u001b[1;33m \u001b[0m\u001b[1;36m0.2\u001b[0m\u001b[1;33m       \u001b[0m\u001b[1;33m \u001b[0m┃\n",
       "┃\u001b[1;36m \u001b[0m\u001b[1;36m⏳ Tmax           \u001b[0m\u001b[1;36m \u001b[0m┃\u001b[1;33m \u001b[0m\u001b[1;36m0.9\u001b[0m\u001b[1;33m       \u001b[0m\u001b[1;33m \u001b[0m┃\n",
       "┗━━━━━━━━━━━━━━━━━━━━┻━━━━━━━━━━━━┛\n"
      ]
     },
     "metadata": {},
     "output_type": "display_data"
    },
    {
     "name": "stdout",
     "output_type": "stream",
     "text": [
      "Not setting metadata\n",
      "130 matching events found\n",
      "Applying baseline correction (mode: mean)\n",
      "0 projection items activated\n",
      "Using data from preloaded Raw for 130 events and 701 original time points ...\n",
      "0 bad epochs dropped\n"
     ]
    },
    {
     "data": {
      "text/html": [
       "<pre style=\"white-space:pre;overflow-x:auto;line-height:normal;font-family:Menlo,'DejaVu Sans Mono',consolas,'Courier New',monospace\"> <span style=\"color: #008000; text-decoration-color: #008000; font-weight: bold\">Creating epochs: sub-</span><span style=\"color: #008000; text-decoration-color: #008000; font-weight: bold\">15</span><span style=\"color: #008000; text-decoration-color: #008000; font-weight: bold\">, ses-</span><span style=\"color: #008000; text-decoration-color: #008000; font-weight: bold\">01</span>\n",
       "</pre>\n"
      ],
      "text/plain": [
       " \u001b[1;32mCreating epochs: sub-\u001b[0m\u001b[1;32m15\u001b[0m\u001b[1;32m, ses-\u001b[0m\u001b[1;32m01\u001b[0m\n"
      ]
     },
     "metadata": {},
     "output_type": "display_data"
    },
    {
     "data": {
      "text/html": [
       "<pre style=\"white-space:pre;overflow-x:auto;line-height:normal;font-family:Menlo,'DejaVu Sans Mono',consolas,'Courier New',monospace\"><span style=\"color: #800000; text-decoration-color: #800000\">╭────────────────────────────────╮</span>\n",
       "<span style=\"color: #800000; text-decoration-color: #800000\">│</span>  <span style=\"color: #800000; text-decoration-color: #800000; font-weight: bold\">Initializing DataLoader Class</span> <span style=\"color: #800000; text-decoration-color: #800000\">│</span>\n",
       "<span style=\"color: #800000; text-decoration-color: #800000\">╰────────────────────────────────╯</span>\n",
       "</pre>\n"
      ],
      "text/plain": [
       "\u001b[31m╭────────────────────────────────╮\u001b[0m\n",
       "\u001b[31m│\u001b[0m  \u001b[1;31mInitializing DataLoader Class\u001b[0m \u001b[31m│\u001b[0m\n",
       "\u001b[31m╰────────────────────────────────╯\u001b[0m\n"
      ]
     },
     "metadata": {},
     "output_type": "display_data"
    },
    {
     "data": {
      "text/html": [
       "<pre style=\"white-space:pre;overflow-x:auto;line-height:normal;font-family:Menlo,'DejaVu Sans Mono',consolas,'Courier New',monospace\"> <span style=\"color: #008000; text-decoration-color: #008000; font-weight: bold\">Creating EPOCHS</span>\n",
       "</pre>\n"
      ],
      "text/plain": [
       " \u001b[1;32mCreating EPOCHS\u001b[0m\n"
      ]
     },
     "metadata": {},
     "output_type": "display_data"
    },
    {
     "data": {
      "text/html": [
       "<pre style=\"white-space:pre;overflow-x:auto;line-height:normal;font-family:Menlo,'DejaVu Sans Mono',consolas,'Courier New',monospace\"><span style=\"font-style: italic\">        Extraction Criteria        </span>\n",
       "┏━━━━━━━━━━━━━━━━━━━━┳━━━━━━━━━━━━┓\n",
       "┃<span style=\"font-weight: bold\"> Parameter          </span>┃<span style=\"font-weight: bold\"> Value      </span>┃\n",
       "┣━━━━━━━━━━━━━━━━━━━━╋━━━━━━━━━━━━┫\n",
       "┃<span style=\"color: #008080; text-decoration-color: #008080; font-weight: bold\"> 🧪 Trial Mode      </span>┃<span style=\"color: #808000; text-decoration-color: #808000; font-weight: bold\">            </span>┃\n",
       "┃<span style=\"color: #008080; text-decoration-color: #008080; font-weight: bold\"> 📏 Trial Unit      </span>┃<span style=\"color: #808000; text-decoration-color: #808000; font-weight: bold\"> Words      </span>┃\n",
       "┃<span style=\"color: #008080; text-decoration-color: #008080; font-weight: bold\"> 🔗 Experiment Mode </span>┃<span style=\"color: #808000; text-decoration-color: #808000; font-weight: bold\"> Experiment </span>┃\n",
       "┃<span style=\"color: #008080; text-decoration-color: #008080; font-weight: bold\"> 🎭 Trial Boundary  </span>┃<span style=\"color: #808000; text-decoration-color: #808000; font-weight: bold\"> Start      </span>┃\n",
       "┃<span style=\"color: #008080; text-decoration-color: #008080; font-weight: bold\"> 🔬 Trial Type      </span>┃<span style=\"color: #808000; text-decoration-color: #808000; font-weight: bold\"> Fixation   </span>┃\n",
       "┃<span style=\"color: #008080; text-decoration-color: #008080; font-weight: bold\"> 📊 Modality        </span>┃<span style=\"color: #808000; text-decoration-color: #808000; font-weight: bold\"> Pictures   </span>┃\n",
       "┃<span style=\"color: #008080; text-decoration-color: #008080; font-weight: bold\"> ⏱ Tmin             </span>┃<span style=\"color: #808000; text-decoration-color: #808000; font-weight: bold\"> </span><span style=\"color: #008080; text-decoration-color: #008080; font-weight: bold\">0.2</span><span style=\"color: #808000; text-decoration-color: #808000; font-weight: bold\">        </span>┃\n",
       "┃<span style=\"color: #008080; text-decoration-color: #008080; font-weight: bold\"> ⏳ Tmax            </span>┃<span style=\"color: #808000; text-decoration-color: #808000; font-weight: bold\"> </span><span style=\"color: #008080; text-decoration-color: #008080; font-weight: bold\">0.9</span><span style=\"color: #808000; text-decoration-color: #808000; font-weight: bold\">        </span>┃\n",
       "┗━━━━━━━━━━━━━━━━━━━━┻━━━━━━━━━━━━┛\n",
       "</pre>\n"
      ],
      "text/plain": [
       "\u001b[3m        Extraction Criteria        \u001b[0m\n",
       "┏━━━━━━━━━━━━━━━━━━━━┳━━━━━━━━━━━━┓\n",
       "┃\u001b[1m \u001b[0m\u001b[1mParameter         \u001b[0m\u001b[1m \u001b[0m┃\u001b[1m \u001b[0m\u001b[1mValue     \u001b[0m\u001b[1m \u001b[0m┃\n",
       "┣━━━━━━━━━━━━━━━━━━━━╋━━━━━━━━━━━━┫\n",
       "┃\u001b[1;36m \u001b[0m\u001b[1;36m🧪 Trial Mode     \u001b[0m\u001b[1;36m \u001b[0m┃\u001b[1;33m \u001b[0m\u001b[1;33m          \u001b[0m\u001b[1;33m \u001b[0m┃\n",
       "┃\u001b[1;36m \u001b[0m\u001b[1;36m📏 Trial Unit     \u001b[0m\u001b[1;36m \u001b[0m┃\u001b[1;33m \u001b[0m\u001b[1;33mWords     \u001b[0m\u001b[1;33m \u001b[0m┃\n",
       "┃\u001b[1;36m \u001b[0m\u001b[1;36m🔗 Experiment Mode\u001b[0m\u001b[1;36m \u001b[0m┃\u001b[1;33m \u001b[0m\u001b[1;33mExperiment\u001b[0m\u001b[1;33m \u001b[0m┃\n",
       "┃\u001b[1;36m \u001b[0m\u001b[1;36m🎭 Trial Boundary \u001b[0m\u001b[1;36m \u001b[0m┃\u001b[1;33m \u001b[0m\u001b[1;33mStart     \u001b[0m\u001b[1;33m \u001b[0m┃\n",
       "┃\u001b[1;36m \u001b[0m\u001b[1;36m🔬 Trial Type     \u001b[0m\u001b[1;36m \u001b[0m┃\u001b[1;33m \u001b[0m\u001b[1;33mFixation  \u001b[0m\u001b[1;33m \u001b[0m┃\n",
       "┃\u001b[1;36m \u001b[0m\u001b[1;36m📊 Modality       \u001b[0m\u001b[1;36m \u001b[0m┃\u001b[1;33m \u001b[0m\u001b[1;33mPictures  \u001b[0m\u001b[1;33m \u001b[0m┃\n",
       "┃\u001b[1;36m \u001b[0m\u001b[1;36m⏱ Tmin            \u001b[0m\u001b[1;36m \u001b[0m┃\u001b[1;33m \u001b[0m\u001b[1;36m0.2\u001b[0m\u001b[1;33m       \u001b[0m\u001b[1;33m \u001b[0m┃\n",
       "┃\u001b[1;36m \u001b[0m\u001b[1;36m⏳ Tmax           \u001b[0m\u001b[1;36m \u001b[0m┃\u001b[1;33m \u001b[0m\u001b[1;36m0.9\u001b[0m\u001b[1;33m       \u001b[0m\u001b[1;33m \u001b[0m┃\n",
       "┗━━━━━━━━━━━━━━━━━━━━┻━━━━━━━━━━━━┛\n"
      ]
     },
     "metadata": {},
     "output_type": "display_data"
    },
    {
     "name": "stdout",
     "output_type": "stream",
     "text": [
      "Not setting metadata\n",
      "130 matching events found\n",
      "Applying baseline correction (mode: mean)\n",
      "0 projection items activated\n",
      "Using data from preloaded Raw for 130 events and 701 original time points ...\n",
      "0 bad epochs dropped\n"
     ]
    },
    {
     "ename": "ValueError",
     "evalue": "Baseline interval [-0.2, 0.0] s is outside of epochs data [0.2, 0.9] s. Epochs were probably cropped.",
     "output_type": "error",
     "traceback": [
      "\u001b[0;31m---------------------------------------------------------------------------\u001b[0m",
      "\u001b[0;31mValueError\u001b[0m                                Traceback (most recent call last)",
      "Cell \u001b[0;32mIn[3], line 37\u001b[0m\n\u001b[1;32m     35\u001b[0m     name \u001b[38;5;241m=\u001b[39m \u001b[38;5;124mf\u001b[39m\u001b[38;5;124m'\u001b[39m\u001b[38;5;132;01m{\u001b[39;00mname\u001b[38;5;132;01m}\u001b[39;00m\u001b[38;5;124m_p_100_component_rest\u001b[39m\u001b[38;5;124m'\u001b[39m\n\u001b[1;32m     36\u001b[0m     plotter \u001b[38;5;241m=\u001b[39m P100Plotter(channels\u001b[38;5;241m=\u001b[39m[\u001b[38;5;124m'\u001b[39m\u001b[38;5;124mPO3\u001b[39m\u001b[38;5;124m'\u001b[39m, \u001b[38;5;124m'\u001b[39m\u001b[38;5;124mPOz\u001b[39m\u001b[38;5;124m'\u001b[39m, \u001b[38;5;124m'\u001b[39m\u001b[38;5;124mPO4\u001b[39m\u001b[38;5;124m'\u001b[39m])\n\u001b[0;32m---> 37\u001b[0m     \u001b[43mplotter\u001b[49m\u001b[38;5;241;43m.\u001b[39;49m\u001b[43mplot_p100\u001b[49m\u001b[43m(\u001b[49m\n\u001b[1;32m     38\u001b[0m \u001b[43m        \u001b[49m\u001b[43mepochs\u001b[49m\u001b[38;5;241;43m=\u001b[39;49m\u001b[43mepochs\u001b[49m\u001b[43m,\u001b[49m\u001b[43m \u001b[49m\u001b[43mname\u001b[49m\u001b[38;5;241;43m=\u001b[39;49m\u001b[43mname\u001b[49m\u001b[43m,\u001b[49m\u001b[43m \u001b[49m\n\u001b[1;32m     39\u001b[0m \u001b[43m        \u001b[49m\u001b[43msubject_id\u001b[49m\u001b[38;5;241;43m=\u001b[39;49m\u001b[43msubject_id\u001b[49m\u001b[43m,\u001b[49m\u001b[43m \u001b[49m\u001b[43msession_id\u001b[49m\u001b[38;5;241;43m=\u001b[39;49m\u001b[43msession_id\u001b[49m\u001b[43m)\u001b[49m\n\u001b[1;32m     40\u001b[0m     rest_amplitudes[key] \u001b[38;5;241m=\u001b[39m plotter\u001b[38;5;241m.\u001b[39mget_p100_amplitude(epochs)\n\u001b[1;32m     44\u001b[0m \u001b[38;5;28mprint\u001b[39m(rest_amplitudes)\n",
      "File \u001b[0;32m~/projects/elsavier/src/visualizations/p_100_component.py:34\u001b[0m, in \u001b[0;36mP100Plotter.plot_p100\u001b[0;34m(self, epochs, name, subject_id, session_id)\u001b[0m\n\u001b[1;32m     24\u001b[0m \u001b[38;5;28;01mdef\u001b[39;00m\u001b[38;5;250m \u001b[39m\u001b[38;5;21mplot_p100\u001b[39m(\u001b[38;5;28mself\u001b[39m, epochs, name, subject_id, session_id):\n\u001b[1;32m     25\u001b[0m \u001b[38;5;250m    \u001b[39m\u001b[38;5;124;03m\"\"\"\u001b[39;00m\n\u001b[1;32m     26\u001b[0m \u001b[38;5;124;03m    Plots the average ERP focusing on the P100 component.\u001b[39;00m\n\u001b[1;32m     27\u001b[0m \n\u001b[0;32m   (...)\u001b[0m\n\u001b[1;32m     31\u001b[0m \u001b[38;5;124;03m    - show: Whether to show the plot immediately.\u001b[39;00m\n\u001b[1;32m     32\u001b[0m \u001b[38;5;124;03m    \"\"\"\u001b[39;00m\n\u001b[0;32m---> 34\u001b[0m     epochs \u001b[38;5;241m=\u001b[39m \u001b[43mepochs\u001b[49m\u001b[38;5;241;43m.\u001b[39;49m\u001b[43mcopy\u001b[49m\u001b[43m(\u001b[49m\u001b[43m)\u001b[49m\u001b[38;5;241;43m.\u001b[39;49m\u001b[43mapply_baseline\u001b[49m\u001b[43m(\u001b[49m\u001b[38;5;28;43mself\u001b[39;49m\u001b[38;5;241;43m.\u001b[39;49m\u001b[43mbaseline\u001b[49m\u001b[43m)\u001b[49m\n\u001b[1;32m     36\u001b[0m     picks \u001b[38;5;241m=\u001b[39m mne\u001b[38;5;241m.\u001b[39mpick_channels(epochs\u001b[38;5;241m.\u001b[39minfo[\u001b[38;5;124m'\u001b[39m\u001b[38;5;124mch_names\u001b[39m\u001b[38;5;124m'\u001b[39m], include\u001b[38;5;241m=\u001b[39m\u001b[38;5;28mself\u001b[39m\u001b[38;5;241m.\u001b[39mchannels)\n\u001b[1;32m     37\u001b[0m     \u001b[38;5;28;01mif\u001b[39;00m picks\u001b[38;5;241m.\u001b[39mshape[\u001b[38;5;241m0\u001b[39m] \u001b[38;5;241m<\u001b[39m \u001b[38;5;241m1\u001b[39m:\n",
      "File \u001b[0;32m<decorator-gen-253>:12\u001b[0m, in \u001b[0;36mapply_baseline\u001b[0;34m(self, baseline, verbose)\u001b[0m\n",
      "File \u001b[0;32m~/anaconda3/envs/vow/lib/python3.10/site-packages/mne/epochs.py:767\u001b[0m, in \u001b[0;36mBaseEpochs.apply_baseline\u001b[0;34m(self, baseline, verbose)\u001b[0m\n\u001b[1;32m    744\u001b[0m \u001b[38;5;129m@verbose\u001b[39m\n\u001b[1;32m    745\u001b[0m \u001b[38;5;28;01mdef\u001b[39;00m\u001b[38;5;250m \u001b[39m\u001b[38;5;21mapply_baseline\u001b[39m(\u001b[38;5;28mself\u001b[39m, baseline\u001b[38;5;241m=\u001b[39m(\u001b[38;5;28;01mNone\u001b[39;00m, \u001b[38;5;241m0\u001b[39m), \u001b[38;5;241m*\u001b[39m, verbose\u001b[38;5;241m=\u001b[39m\u001b[38;5;28;01mNone\u001b[39;00m):\n\u001b[1;32m    746\u001b[0m \u001b[38;5;250m    \u001b[39m\u001b[38;5;124;03m\"\"\"Baseline correct epochs.\u001b[39;00m\n\u001b[1;32m    747\u001b[0m \n\u001b[1;32m    748\u001b[0m \u001b[38;5;124;03m    Parameters\u001b[39;00m\n\u001b[0;32m   (...)\u001b[0m\n\u001b[1;32m    765\u001b[0m \u001b[38;5;124;03m    .. versionadded:: 0.10.0\u001b[39;00m\n\u001b[1;32m    766\u001b[0m \u001b[38;5;124;03m    \"\"\"\u001b[39;00m\n\u001b[0;32m--> 767\u001b[0m     baseline \u001b[38;5;241m=\u001b[39m \u001b[43m_check_baseline\u001b[49m\u001b[43m(\u001b[49m\u001b[43mbaseline\u001b[49m\u001b[43m,\u001b[49m\u001b[43m \u001b[49m\u001b[43mtimes\u001b[49m\u001b[38;5;241;43m=\u001b[39;49m\u001b[38;5;28;43mself\u001b[39;49m\u001b[38;5;241;43m.\u001b[39;49m\u001b[43mtimes\u001b[49m\u001b[43m,\u001b[49m\u001b[43m \u001b[49m\u001b[43msfreq\u001b[49m\u001b[38;5;241;43m=\u001b[39;49m\u001b[38;5;28;43mself\u001b[39;49m\u001b[38;5;241;43m.\u001b[39;49m\u001b[43minfo\u001b[49m\u001b[43m[\u001b[49m\u001b[38;5;124;43m\"\u001b[39;49m\u001b[38;5;124;43msfreq\u001b[39;49m\u001b[38;5;124;43m\"\u001b[39;49m\u001b[43m]\u001b[49m\u001b[43m)\u001b[49m\n\u001b[1;32m    769\u001b[0m     \u001b[38;5;28;01mif\u001b[39;00m \u001b[38;5;28mself\u001b[39m\u001b[38;5;241m.\u001b[39mpreload:\n\u001b[1;32m    770\u001b[0m         \u001b[38;5;28;01mif\u001b[39;00m \u001b[38;5;28mself\u001b[39m\u001b[38;5;241m.\u001b[39mbaseline \u001b[38;5;129;01mis\u001b[39;00m \u001b[38;5;129;01mnot\u001b[39;00m \u001b[38;5;28;01mNone\u001b[39;00m \u001b[38;5;129;01mand\u001b[39;00m baseline \u001b[38;5;129;01mis\u001b[39;00m \u001b[38;5;28;01mNone\u001b[39;00m:\n",
      "File \u001b[0;32m~/anaconda3/envs/vow/lib/python3.10/site-packages/mne/baseline.py:215\u001b[0m, in \u001b[0;36m_check_baseline\u001b[0;34m(baseline, times, sfreq, on_baseline_outside_data)\u001b[0m\n\u001b[1;32m    210\u001b[0m msg \u001b[38;5;241m=\u001b[39m (\n\u001b[1;32m    211\u001b[0m     \u001b[38;5;124mf\u001b[39m\u001b[38;5;124m\"\u001b[39m\u001b[38;5;124mBaseline interval [\u001b[39m\u001b[38;5;132;01m{\u001b[39;00mbaseline_tmin\u001b[38;5;132;01m}\u001b[39;00m\u001b[38;5;124m, \u001b[39m\u001b[38;5;132;01m{\u001b[39;00mbaseline_tmax\u001b[38;5;132;01m}\u001b[39;00m\u001b[38;5;124m] s is outside of \u001b[39m\u001b[38;5;124m\"\u001b[39m\n\u001b[1;32m    212\u001b[0m     \u001b[38;5;124mf\u001b[39m\u001b[38;5;124m\"\u001b[39m\u001b[38;5;124mepochs data [\u001b[39m\u001b[38;5;132;01m{\u001b[39;00mtmin\u001b[38;5;132;01m}\u001b[39;00m\u001b[38;5;124m, \u001b[39m\u001b[38;5;132;01m{\u001b[39;00mtmax\u001b[38;5;132;01m}\u001b[39;00m\u001b[38;5;124m] s. Epochs were probably cropped.\u001b[39m\u001b[38;5;124m\"\u001b[39m\n\u001b[1;32m    213\u001b[0m )\n\u001b[1;32m    214\u001b[0m \u001b[38;5;28;01mif\u001b[39;00m on_baseline_outside_data \u001b[38;5;241m==\u001b[39m \u001b[38;5;124m\"\u001b[39m\u001b[38;5;124mraise\u001b[39m\u001b[38;5;124m\"\u001b[39m:\n\u001b[0;32m--> 215\u001b[0m     \u001b[38;5;28;01mraise\u001b[39;00m \u001b[38;5;167;01mValueError\u001b[39;00m(msg)\n\u001b[1;32m    216\u001b[0m \u001b[38;5;28;01melif\u001b[39;00m on_baseline_outside_data \u001b[38;5;241m==\u001b[39m \u001b[38;5;124m\"\u001b[39m\u001b[38;5;124minfo\u001b[39m\u001b[38;5;124m\"\u001b[39m:\n\u001b[1;32m    217\u001b[0m     logger\u001b[38;5;241m.\u001b[39minfo(msg)\n",
      "\u001b[0;31mValueError\u001b[0m: Baseline interval [-0.2, 0.0] s is outside of epochs data [0.2, 0.9] s. Epochs were probably cropped."
     ]
    }
   ],
   "source": [
    "from src.dataset.bids import create_bids_dataset\n",
    "from src.analysis.registery import EEGEpochExtractor\n",
    "from src.visualizations.p_100_component import P100Plotter\n",
    "import config as config\n",
    "\n",
    "import pdb\n",
    "\n",
    "\n",
    "if __name__== '__main__':\n",
    "    \n",
    "    if config.CREATE_BIDS_DATASET:\n",
    "        create_bids_dataset(dataset_details=config.filepaths[8:])\n",
    "\n",
    "    if config.PLOT_P100_COMP:\n",
    "        epochs_extractor = EEGEpochExtractor()\n",
    "        \n",
    "        # Variable values for visual stimulus\n",
    "        trial_mode, trial_unit, experiment_mode = '', 'Words', 'Experiment' \n",
    "        trial_boundary, trial_type, modality= 'Start', 'Stimulus', 'Pictures'\n",
    "        \n",
    "        rest_epochs = epochs_extractor.create_epochs(\n",
    "            trial_mode=trial_mode, trial_type='Fixation',\n",
    "            trial_unit=trial_unit, experiment_mode=experiment_mode,\n",
    "            trial_boundary=trial_boundary, modality=modality, tmin=0.2, tmax=0.9\n",
    "        )\n",
    "        rest_amplitudes = {}\n",
    "        for key, epochs in rest_epochs.items():\n",
    "            subject_id, session_id = key[0], key[1]\n",
    "            name = f\"{trial_mode}_{trial_unit}_{experiment_mode}_{trial_boundary}_{trial_type}\"\n",
    "            name = f'{name}_p_100_component_rest'\n",
    "            plotter = P100Plotter(channels=['PO3', 'POz', 'PO4'])\n",
    "            plotter.plot_p100(\n",
    "                epochs=epochs, name=name, \n",
    "                subject_id=subject_id, session_id=session_id)\n",
    "            rest_amplitudes[key] = plotter.get_p100_amplitude(epochs)\n",
    "        \n",
    "\n",
    "\n",
    "        print(rest_amplitudes)"
   ]
  },
  {
   "cell_type": "code",
   "execution_count": null,
   "metadata": {},
   "outputs": [],
   "source": []
  }
 ],
 "metadata": {
  "kernelspec": {
   "display_name": "vow",
   "language": "python",
   "name": "python3"
  },
  "language_info": {
   "codemirror_mode": {
    "name": "ipython",
    "version": 3
   },
   "file_extension": ".py",
   "mimetype": "text/x-python",
   "name": "python",
   "nbconvert_exporter": "python",
   "pygments_lexer": "ipython3",
   "version": "3.10.16"
  }
 },
 "nbformat": 4,
 "nbformat_minor": 2
}
