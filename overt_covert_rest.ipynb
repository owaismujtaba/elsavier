{
 "cells": [
  {
   "cell_type": "code",
   "execution_count": 1,
   "metadata": {},
   "outputs": [],
   "source": [
    "import os\n",
    "import re\n",
    "import pandas as pd\n",
    "\n",
    "def extract_max_val_accuracy(results_folder):\n",
    "    \"\"\"\n",
    "    Scans the given folder for CSV files named like 'sub-15_ses-02_*.csv',\n",
    "    reads each file, and extracts the maximum 'sparse_val_accuracy' along with subject and session.\n",
    "\n",
    "    Parameters:\n",
    "    - results_folder (str): Path to the directory containing CSV result files.\n",
    "\n",
    "    Returns:\n",
    "    - pd.DataFrame: A DataFrame with columns ['subject', 'session', 'max_sparse_val_accuracy'].\n",
    "    \"\"\"\n",
    "    # Pattern to extract subject and session from filename\n",
    "    pattern = re.compile(r\"sub-(?P<sub>\\d+)_ses-(?P<ses>\\d+)_.*\\.csv$\")\n",
    "\n",
    "    records = []\n",
    "    # Iterate through files in the folder\n",
    "    for fname in os.listdir(results_folder):\n",
    "        match = pattern.match(fname)\n",
    "        if not match:\n",
    "            continue  # skip non-matching files\n",
    "\n",
    "        sub = int(match.group('sub'))\n",
    "        ses = int(match.group('ses'))\n",
    "        file_path = os.path.join(results_folder, fname)\n",
    "\n",
    "        # Load CSV\n",
    "        df = pd.read_csv(file_path)\n",
    "        if 'val_sparse_categorical_accuracy' not in df.columns:\n",
    "            raise KeyError(f\"File {fname} does not contain 'sparse_val_accuracy' column.\")\n",
    "\n",
    "        # Extract max sparse_val_accuracy\n",
    "        max_acc = df['val_sparse_categorical_accuracy'].max()\n",
    "\n",
    "        records.append({\n",
    "            'subject': sub,\n",
    "            'session': ses,\n",
    "            'val_sparse_categorical_accuracy': max_acc\n",
    "        })\n",
    "\n",
    "    # Compile results into DataFrame\n",
    "    result_df = pd.DataFrame.from_records(records)\n",
    "    # Optional: sort by subject and session\n",
    "    result_df = result_df.sort_values(['subject', 'session']).reset_index(drop=True)\n",
    "    return result_df\n",
    "\n"
   ]
  },
  {
   "cell_type": "code",
   "execution_count": 2,
   "metadata": {},
   "outputs": [
    {
     "ename": "KeyError",
     "evalue": "\"File sub-02_ses-01_overt_covert_rest.csv does not contain 'sparse_val_accuracy' column.\"",
     "output_type": "error",
     "traceback": [
      "\u001b[0;31m---------------------------------------------------------------------------\u001b[0m",
      "\u001b[0;31mKeyError\u001b[0m                                  Traceback (most recent call last)",
      "Cell \u001b[0;32mIn[2], line 1\u001b[0m\n\u001b[0;32m----> 1\u001b[0m results \u001b[38;5;241m=\u001b[39m \u001b[43mextract_max_val_accuracy\u001b[49m\u001b[43m(\u001b[49m\u001b[38;5;124;43m'\u001b[39;49m\u001b[38;5;124;43mDecodingResults\u001b[39;49m\u001b[38;5;124;43m'\u001b[39;49m\u001b[43m)\u001b[49m\n",
      "Cell \u001b[0;32mIn[1], line 33\u001b[0m, in \u001b[0;36mextract_max_val_accuracy\u001b[0;34m(results_folder)\u001b[0m\n\u001b[1;32m     31\u001b[0m df \u001b[38;5;241m=\u001b[39m pd\u001b[38;5;241m.\u001b[39mread_csv(file_path)\n\u001b[1;32m     32\u001b[0m \u001b[38;5;28;01mif\u001b[39;00m \u001b[38;5;124m'\u001b[39m\u001b[38;5;124msparse_val_accuracy\u001b[39m\u001b[38;5;124m'\u001b[39m \u001b[38;5;129;01mnot\u001b[39;00m \u001b[38;5;129;01min\u001b[39;00m df\u001b[38;5;241m.\u001b[39mcolumns:\n\u001b[0;32m---> 33\u001b[0m     \u001b[38;5;28;01mraise\u001b[39;00m \u001b[38;5;167;01mKeyError\u001b[39;00m(\u001b[38;5;124mf\u001b[39m\u001b[38;5;124m\"\u001b[39m\u001b[38;5;124mFile \u001b[39m\u001b[38;5;132;01m{\u001b[39;00mfname\u001b[38;5;132;01m}\u001b[39;00m\u001b[38;5;124m does not contain \u001b[39m\u001b[38;5;124m'\u001b[39m\u001b[38;5;124msparse_val_accuracy\u001b[39m\u001b[38;5;124m'\u001b[39m\u001b[38;5;124m column.\u001b[39m\u001b[38;5;124m\"\u001b[39m)\n\u001b[1;32m     35\u001b[0m \u001b[38;5;66;03m# Extract max sparse_val_accuracy\u001b[39;00m\n\u001b[1;32m     36\u001b[0m max_acc \u001b[38;5;241m=\u001b[39m df[\u001b[38;5;124m'\u001b[39m\u001b[38;5;124msparse_val_accuracy\u001b[39m\u001b[38;5;124m'\u001b[39m]\u001b[38;5;241m.\u001b[39mmax()\n",
      "\u001b[0;31mKeyError\u001b[0m: \"File sub-02_ses-01_overt_covert_rest.csv does not contain 'sparse_val_accuracy' column.\""
     ]
    }
   ],
   "source": [
    "results = extract_max_val_accuracy('DecodingResults')"
   ]
  },
  {
   "cell_type": "code",
   "execution_count": null,
   "metadata": {},
   "outputs": [],
   "source": []
  }
 ],
 "metadata": {
  "kernelspec": {
   "display_name": "vow",
   "language": "python",
   "name": "python3"
  },
  "language_info": {
   "codemirror_mode": {
    "name": "ipython",
    "version": 3
   },
   "file_extension": ".py",
   "mimetype": "text/x-python",
   "name": "python",
   "nbconvert_exporter": "python",
   "pygments_lexer": "ipython3",
   "version": "3.10.16"
  }
 },
 "nbformat": 4,
 "nbformat_minor": 2
}
