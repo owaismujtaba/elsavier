{
 "cells": [
  {
   "cell_type": "code",
   "execution_count": 1,
   "metadata": {},
   "outputs": [],
   "source": [
    "from src.analysis.registery import Registery"
   ]
  },
  {
   "cell_type": "code",
   "execution_count": 2,
   "metadata": {},
   "outputs": [
    {
     "data": {
      "text/html": [
       "<pre style=\"white-space:pre;overflow-x:auto;line-height:normal;font-family:Menlo,'DejaVu Sans Mono',consolas,'Courier New',monospace\"><span style=\"color: #800000; text-decoration-color: #800000\">╭──────────────────────────────╮</span>\n",
       "<span style=\"color: #800000; text-decoration-color: #800000\">│</span>  <span style=\"color: #800000; text-decoration-color: #800000; font-weight: bold\">Initializing Register Class</span> <span style=\"color: #800000; text-decoration-color: #800000\">│</span>\n",
       "<span style=\"color: #800000; text-decoration-color: #800000\">╰──────────────────────────────╯</span>\n",
       "</pre>\n"
      ],
      "text/plain": [
       "\u001b[31m╭──────────────────────────────╮\u001b[0m\n",
       "\u001b[31m│\u001b[0m  \u001b[1;31mInitializing Register Class\u001b[0m \u001b[31m│\u001b[0m\n",
       "\u001b[31m╰──────────────────────────────╯\u001b[0m\n"
      ]
     },
     "metadata": {},
     "output_type": "display_data"
    },
    {
     "data": {
      "text/html": [
       "<pre style=\"white-space:pre;overflow-x:auto;line-height:normal;font-family:Menlo,'DejaVu Sans Mono',consolas,'Courier New',monospace\"> <span style=\"color: #008000; text-decoration-color: #008000; font-weight: bold\">Loading raw data for all subjects</span>\n",
       "</pre>\n"
      ],
      "text/plain": [
       " \u001b[1;32mLoading raw data for all subjects\u001b[0m\n"
      ]
     },
     "metadata": {},
     "output_type": "display_data"
    },
    {
     "data": {
      "text/html": [
       "<pre style=\"white-space:pre;overflow-x:auto;line-height:normal;font-family:Menlo,'DejaVu Sans Mono',consolas,'Courier New',monospace\"> <span style=\"color: #008000; text-decoration-color: #008000; font-weight: bold\">Loading raw data for sub-</span><span style=\"color: #008000; text-decoration-color: #008000; font-weight: bold\">01</span><span style=\"color: #008000; text-decoration-color: #008000; font-weight: bold\">, ses-</span><span style=\"color: #008000; text-decoration-color: #008000; font-weight: bold\">01</span>\n",
       "</pre>\n"
      ],
      "text/plain": [
       " \u001b[1;32mLoading raw data for sub-\u001b[0m\u001b[1;32m01\u001b[0m\u001b[1;32m, ses-\u001b[0m\u001b[1;32m01\u001b[0m\n"
      ]
     },
     "metadata": {},
     "output_type": "display_data"
    },
    {
     "data": {
      "text/html": [
       "<pre style=\"white-space:pre;overflow-x:auto;line-height:normal;font-family:Menlo,'DejaVu Sans Mono',consolas,'Courier New',monospace\"> <span style=\"color: #008000; text-decoration-color: #008000; font-weight: bold\">Loading raw data for sub-</span><span style=\"color: #008000; text-decoration-color: #008000; font-weight: bold\">02</span><span style=\"color: #008000; text-decoration-color: #008000; font-weight: bold\">, ses-</span><span style=\"color: #008000; text-decoration-color: #008000; font-weight: bold\">01</span>\n",
       "</pre>\n"
      ],
      "text/plain": [
       " \u001b[1;32mLoading raw data for sub-\u001b[0m\u001b[1;32m02\u001b[0m\u001b[1;32m, ses-\u001b[0m\u001b[1;32m01\u001b[0m\n"
      ]
     },
     "metadata": {},
     "output_type": "display_data"
    },
    {
     "data": {
      "text/html": [
       "<pre style=\"white-space:pre;overflow-x:auto;line-height:normal;font-family:Menlo,'DejaVu Sans Mono',consolas,'Courier New',monospace\"> <span style=\"color: #008000; text-decoration-color: #008000; font-weight: bold\">Loading raw data for sub-</span><span style=\"color: #008000; text-decoration-color: #008000; font-weight: bold\">03</span><span style=\"color: #008000; text-decoration-color: #008000; font-weight: bold\">, ses-</span><span style=\"color: #008000; text-decoration-color: #008000; font-weight: bold\">01</span>\n",
       "</pre>\n"
      ],
      "text/plain": [
       " \u001b[1;32mLoading raw data for sub-\u001b[0m\u001b[1;32m03\u001b[0m\u001b[1;32m, ses-\u001b[0m\u001b[1;32m01\u001b[0m\n"
      ]
     },
     "metadata": {},
     "output_type": "display_data"
    },
    {
     "data": {
      "text/html": [
       "<pre style=\"white-space:pre;overflow-x:auto;line-height:normal;font-family:Menlo,'DejaVu Sans Mono',consolas,'Courier New',monospace\"> <span style=\"color: #008000; text-decoration-color: #008000; font-weight: bold\">Loading raw data for sub-</span><span style=\"color: #008000; text-decoration-color: #008000; font-weight: bold\">04</span><span style=\"color: #008000; text-decoration-color: #008000; font-weight: bold\">, ses-</span><span style=\"color: #008000; text-decoration-color: #008000; font-weight: bold\">01</span>\n",
       "</pre>\n"
      ],
      "text/plain": [
       " \u001b[1;32mLoading raw data for sub-\u001b[0m\u001b[1;32m04\u001b[0m\u001b[1;32m, ses-\u001b[0m\u001b[1;32m01\u001b[0m\n"
      ]
     },
     "metadata": {},
     "output_type": "display_data"
    },
    {
     "data": {
      "text/html": [
       "<pre style=\"white-space:pre;overflow-x:auto;line-height:normal;font-family:Menlo,'DejaVu Sans Mono',consolas,'Courier New',monospace\"> <span style=\"color: #008000; text-decoration-color: #008000; font-weight: bold\">Loading raw data for sub-</span><span style=\"color: #008000; text-decoration-color: #008000; font-weight: bold\">04</span><span style=\"color: #008000; text-decoration-color: #008000; font-weight: bold\">, ses-</span><span style=\"color: #008000; text-decoration-color: #008000; font-weight: bold\">02</span>\n",
       "</pre>\n"
      ],
      "text/plain": [
       " \u001b[1;32mLoading raw data for sub-\u001b[0m\u001b[1;32m04\u001b[0m\u001b[1;32m, ses-\u001b[0m\u001b[1;32m02\u001b[0m\n"
      ]
     },
     "metadata": {},
     "output_type": "display_data"
    },
    {
     "data": {
      "text/html": [
       "<pre style=\"white-space:pre;overflow-x:auto;line-height:normal;font-family:Menlo,'DejaVu Sans Mono',consolas,'Courier New',monospace\"> <span style=\"color: #008000; text-decoration-color: #008000; font-weight: bold\">Loading raw data for sub-</span><span style=\"color: #008000; text-decoration-color: #008000; font-weight: bold\">05</span><span style=\"color: #008000; text-decoration-color: #008000; font-weight: bold\">, ses-</span><span style=\"color: #008000; text-decoration-color: #008000; font-weight: bold\">01</span>\n",
       "</pre>\n"
      ],
      "text/plain": [
       " \u001b[1;32mLoading raw data for sub-\u001b[0m\u001b[1;32m05\u001b[0m\u001b[1;32m, ses-\u001b[0m\u001b[1;32m01\u001b[0m\n"
      ]
     },
     "metadata": {},
     "output_type": "display_data"
    },
    {
     "data": {
      "text/html": [
       "<pre style=\"white-space:pre;overflow-x:auto;line-height:normal;font-family:Menlo,'DejaVu Sans Mono',consolas,'Courier New',monospace\"> <span style=\"color: #008000; text-decoration-color: #008000; font-weight: bold\">Loading raw data for sub-</span><span style=\"color: #008000; text-decoration-color: #008000; font-weight: bold\">05</span><span style=\"color: #008000; text-decoration-color: #008000; font-weight: bold\">, ses-</span><span style=\"color: #008000; text-decoration-color: #008000; font-weight: bold\">02</span>\n",
       "</pre>\n"
      ],
      "text/plain": [
       " \u001b[1;32mLoading raw data for sub-\u001b[0m\u001b[1;32m05\u001b[0m\u001b[1;32m, ses-\u001b[0m\u001b[1;32m02\u001b[0m\n"
      ]
     },
     "metadata": {},
     "output_type": "display_data"
    },
    {
     "data": {
      "text/html": [
       "<pre style=\"white-space:pre;overflow-x:auto;line-height:normal;font-family:Menlo,'DejaVu Sans Mono',consolas,'Courier New',monospace\"> <span style=\"color: #008000; text-decoration-color: #008000; font-weight: bold\">Loading raw data for sub-</span><span style=\"color: #008000; text-decoration-color: #008000; font-weight: bold\">06</span><span style=\"color: #008000; text-decoration-color: #008000; font-weight: bold\">, ses-</span><span style=\"color: #008000; text-decoration-color: #008000; font-weight: bold\">01</span>\n",
       "</pre>\n"
      ],
      "text/plain": [
       " \u001b[1;32mLoading raw data for sub-\u001b[0m\u001b[1;32m06\u001b[0m\u001b[1;32m, ses-\u001b[0m\u001b[1;32m01\u001b[0m\n"
      ]
     },
     "metadata": {},
     "output_type": "display_data"
    },
    {
     "data": {
      "text/html": [
       "<pre style=\"white-space:pre;overflow-x:auto;line-height:normal;font-family:Menlo,'DejaVu Sans Mono',consolas,'Courier New',monospace\"> <span style=\"color: #008000; text-decoration-color: #008000; font-weight: bold\">Loading raw data for sub-</span><span style=\"color: #008000; text-decoration-color: #008000; font-weight: bold\">06</span><span style=\"color: #008000; text-decoration-color: #008000; font-weight: bold\">, ses-</span><span style=\"color: #008000; text-decoration-color: #008000; font-weight: bold\">02</span>\n",
       "</pre>\n"
      ],
      "text/plain": [
       " \u001b[1;32mLoading raw data for sub-\u001b[0m\u001b[1;32m06\u001b[0m\u001b[1;32m, ses-\u001b[0m\u001b[1;32m02\u001b[0m\n"
      ]
     },
     "metadata": {},
     "output_type": "display_data"
    },
    {
     "data": {
      "text/html": [
       "<pre style=\"white-space:pre;overflow-x:auto;line-height:normal;font-family:Menlo,'DejaVu Sans Mono',consolas,'Courier New',monospace\"> <span style=\"color: #008000; text-decoration-color: #008000; font-weight: bold\">Loading raw data for sub-</span><span style=\"color: #008000; text-decoration-color: #008000; font-weight: bold\">07</span><span style=\"color: #008000; text-decoration-color: #008000; font-weight: bold\">, ses-</span><span style=\"color: #008000; text-decoration-color: #008000; font-weight: bold\">01</span>\n",
       "</pre>\n"
      ],
      "text/plain": [
       " \u001b[1;32mLoading raw data for sub-\u001b[0m\u001b[1;32m07\u001b[0m\u001b[1;32m, ses-\u001b[0m\u001b[1;32m01\u001b[0m\n"
      ]
     },
     "metadata": {},
     "output_type": "display_data"
    },
    {
     "data": {
      "text/html": [
       "<pre style=\"white-space:pre;overflow-x:auto;line-height:normal;font-family:Menlo,'DejaVu Sans Mono',consolas,'Courier New',monospace\"> <span style=\"color: #008000; text-decoration-color: #008000; font-weight: bold\">Loading raw data for sub-</span><span style=\"color: #008000; text-decoration-color: #008000; font-weight: bold\">08</span><span style=\"color: #008000; text-decoration-color: #008000; font-weight: bold\">, ses-</span><span style=\"color: #008000; text-decoration-color: #008000; font-weight: bold\">01</span>\n",
       "</pre>\n"
      ],
      "text/plain": [
       " \u001b[1;32mLoading raw data for sub-\u001b[0m\u001b[1;32m08\u001b[0m\u001b[1;32m, ses-\u001b[0m\u001b[1;32m01\u001b[0m\n"
      ]
     },
     "metadata": {},
     "output_type": "display_data"
    },
    {
     "data": {
      "text/html": [
       "<pre style=\"white-space:pre;overflow-x:auto;line-height:normal;font-family:Menlo,'DejaVu Sans Mono',consolas,'Courier New',monospace\"> <span style=\"color: #008000; text-decoration-color: #008000; font-weight: bold\">Loading raw data for sub-</span><span style=\"color: #008000; text-decoration-color: #008000; font-weight: bold\">09</span><span style=\"color: #008000; text-decoration-color: #008000; font-weight: bold\">, ses-</span><span style=\"color: #008000; text-decoration-color: #008000; font-weight: bold\">01</span>\n",
       "</pre>\n"
      ],
      "text/plain": [
       " \u001b[1;32mLoading raw data for sub-\u001b[0m\u001b[1;32m09\u001b[0m\u001b[1;32m, ses-\u001b[0m\u001b[1;32m01\u001b[0m\n"
      ]
     },
     "metadata": {},
     "output_type": "display_data"
    },
    {
     "data": {
      "text/html": [
       "<pre style=\"white-space:pre;overflow-x:auto;line-height:normal;font-family:Menlo,'DejaVu Sans Mono',consolas,'Courier New',monospace\"> <span style=\"color: #008000; text-decoration-color: #008000; font-weight: bold\">Loading raw data for sub-</span><span style=\"color: #008000; text-decoration-color: #008000; font-weight: bold\">09</span><span style=\"color: #008000; text-decoration-color: #008000; font-weight: bold\">, ses-</span><span style=\"color: #008000; text-decoration-color: #008000; font-weight: bold\">02</span>\n",
       "</pre>\n"
      ],
      "text/plain": [
       " \u001b[1;32mLoading raw data for sub-\u001b[0m\u001b[1;32m09\u001b[0m\u001b[1;32m, ses-\u001b[0m\u001b[1;32m02\u001b[0m\n"
      ]
     },
     "metadata": {},
     "output_type": "display_data"
    },
    {
     "data": {
      "text/html": [
       "<pre style=\"white-space:pre;overflow-x:auto;line-height:normal;font-family:Menlo,'DejaVu Sans Mono',consolas,'Courier New',monospace\"> <span style=\"color: #008000; text-decoration-color: #008000; font-weight: bold\">Loading raw data for sub-</span><span style=\"color: #008000; text-decoration-color: #008000; font-weight: bold\">10</span><span style=\"color: #008000; text-decoration-color: #008000; font-weight: bold\">, ses-</span><span style=\"color: #008000; text-decoration-color: #008000; font-weight: bold\">01</span>\n",
       "</pre>\n"
      ],
      "text/plain": [
       " \u001b[1;32mLoading raw data for sub-\u001b[0m\u001b[1;32m10\u001b[0m\u001b[1;32m, ses-\u001b[0m\u001b[1;32m01\u001b[0m\n"
      ]
     },
     "metadata": {},
     "output_type": "display_data"
    },
    {
     "data": {
      "text/html": [
       "<pre style=\"white-space:pre;overflow-x:auto;line-height:normal;font-family:Menlo,'DejaVu Sans Mono',consolas,'Courier New',monospace\"> <span style=\"color: #008000; text-decoration-color: #008000; font-weight: bold\">Loading raw data for sub-</span><span style=\"color: #008000; text-decoration-color: #008000; font-weight: bold\">11</span><span style=\"color: #008000; text-decoration-color: #008000; font-weight: bold\">, ses-</span><span style=\"color: #008000; text-decoration-color: #008000; font-weight: bold\">01</span>\n",
       "</pre>\n"
      ],
      "text/plain": [
       " \u001b[1;32mLoading raw data for sub-\u001b[0m\u001b[1;32m11\u001b[0m\u001b[1;32m, ses-\u001b[0m\u001b[1;32m01\u001b[0m\n"
      ]
     },
     "metadata": {},
     "output_type": "display_data"
    },
    {
     "data": {
      "text/html": [
       "<pre style=\"white-space:pre;overflow-x:auto;line-height:normal;font-family:Menlo,'DejaVu Sans Mono',consolas,'Courier New',monospace\"> <span style=\"color: #008000; text-decoration-color: #008000; font-weight: bold\">Loading raw data for sub-</span><span style=\"color: #008000; text-decoration-color: #008000; font-weight: bold\">12</span><span style=\"color: #008000; text-decoration-color: #008000; font-weight: bold\">, ses-</span><span style=\"color: #008000; text-decoration-color: #008000; font-weight: bold\">01</span>\n",
       "</pre>\n"
      ],
      "text/plain": [
       " \u001b[1;32mLoading raw data for sub-\u001b[0m\u001b[1;32m12\u001b[0m\u001b[1;32m, ses-\u001b[0m\u001b[1;32m01\u001b[0m\n"
      ]
     },
     "metadata": {},
     "output_type": "display_data"
    },
    {
     "data": {
      "text/html": [
       "<pre style=\"white-space:pre;overflow-x:auto;line-height:normal;font-family:Menlo,'DejaVu Sans Mono',consolas,'Courier New',monospace\"> <span style=\"color: #008000; text-decoration-color: #008000; font-weight: bold\">Loading raw data for sub-</span><span style=\"color: #008000; text-decoration-color: #008000; font-weight: bold\">12</span><span style=\"color: #008000; text-decoration-color: #008000; font-weight: bold\">, ses-</span><span style=\"color: #008000; text-decoration-color: #008000; font-weight: bold\">02</span>\n",
       "</pre>\n"
      ],
      "text/plain": [
       " \u001b[1;32mLoading raw data for sub-\u001b[0m\u001b[1;32m12\u001b[0m\u001b[1;32m, ses-\u001b[0m\u001b[1;32m02\u001b[0m\n"
      ]
     },
     "metadata": {},
     "output_type": "display_data"
    },
    {
     "data": {
      "text/html": [
       "<pre style=\"white-space:pre;overflow-x:auto;line-height:normal;font-family:Menlo,'DejaVu Sans Mono',consolas,'Courier New',monospace\"> <span style=\"color: #008000; text-decoration-color: #008000; font-weight: bold\">Loading raw data for sub-</span><span style=\"color: #008000; text-decoration-color: #008000; font-weight: bold\">13</span><span style=\"color: #008000; text-decoration-color: #008000; font-weight: bold\">, ses-</span><span style=\"color: #008000; text-decoration-color: #008000; font-weight: bold\">01</span>\n",
       "</pre>\n"
      ],
      "text/plain": [
       " \u001b[1;32mLoading raw data for sub-\u001b[0m\u001b[1;32m13\u001b[0m\u001b[1;32m, ses-\u001b[0m\u001b[1;32m01\u001b[0m\n"
      ]
     },
     "metadata": {},
     "output_type": "display_data"
    },
    {
     "data": {
      "text/html": [
       "<pre style=\"white-space:pre;overflow-x:auto;line-height:normal;font-family:Menlo,'DejaVu Sans Mono',consolas,'Courier New',monospace\"> <span style=\"color: #008000; text-decoration-color: #008000; font-weight: bold\">Loading raw data for sub-</span><span style=\"color: #008000; text-decoration-color: #008000; font-weight: bold\">13</span><span style=\"color: #008000; text-decoration-color: #008000; font-weight: bold\">, ses-</span><span style=\"color: #008000; text-decoration-color: #008000; font-weight: bold\">02</span>\n",
       "</pre>\n"
      ],
      "text/plain": [
       " \u001b[1;32mLoading raw data for sub-\u001b[0m\u001b[1;32m13\u001b[0m\u001b[1;32m, ses-\u001b[0m\u001b[1;32m02\u001b[0m\n"
      ]
     },
     "metadata": {},
     "output_type": "display_data"
    },
    {
     "data": {
      "text/html": [
       "<pre style=\"white-space:pre;overflow-x:auto;line-height:normal;font-family:Menlo,'DejaVu Sans Mono',consolas,'Courier New',monospace\"> <span style=\"color: #008000; text-decoration-color: #008000; font-weight: bold\">Loading raw data for sub-</span><span style=\"color: #008000; text-decoration-color: #008000; font-weight: bold\">14</span><span style=\"color: #008000; text-decoration-color: #008000; font-weight: bold\">, ses-</span><span style=\"color: #008000; text-decoration-color: #008000; font-weight: bold\">01</span>\n",
       "</pre>\n"
      ],
      "text/plain": [
       " \u001b[1;32mLoading raw data for sub-\u001b[0m\u001b[1;32m14\u001b[0m\u001b[1;32m, ses-\u001b[0m\u001b[1;32m01\u001b[0m\n"
      ]
     },
     "metadata": {},
     "output_type": "display_data"
    }
   ],
   "source": [
    "\n",
    "reg = Registery()"
   ]
  },
  {
   "cell_type": "code",
   "execution_count": 24,
   "metadata": {},
   "outputs": [],
   "source": [
    "trial_mode=''\n",
    "trial_unit='Words'\n",
    "experiment_mode='Experiment'\n",
    "trial_boundary='Start'\n",
    "trial_type='Stimulus'\n",
    "modality='Pictures'"
   ]
  },
  {
   "cell_type": "code",
   "execution_count": 25,
   "metadata": {},
   "outputs": [
    {
     "data": {
      "text/html": [
       "<pre style=\"white-space:pre;overflow-x:auto;line-height:normal;font-family:Menlo,'DejaVu Sans Mono',consolas,'Courier New',monospace\"> <span style=\"color: #800000; text-decoration-color: #800000; font-weight: bold\">Creating EPOCHS for all subjects</span>\n",
       "</pre>\n"
      ],
      "text/plain": [
       " \u001b[1;31mCreating EPOCHS for all subjects\u001b[0m\n"
      ]
     },
     "metadata": {},
     "output_type": "display_data"
    },
    {
     "data": {
      "text/html": [
       "<pre style=\"white-space:pre;overflow-x:auto;line-height:normal;font-family:Menlo,'DejaVu Sans Mono',consolas,'Courier New',monospace\"> <span style=\"color: #008000; text-decoration-color: #008000; font-weight: bold\">Loading for sub-</span><span style=\"color: #008000; text-decoration-color: #008000; font-weight: bold\">01</span><span style=\"color: #008000; text-decoration-color: #008000; font-weight: bold\">, ses-</span><span style=\"color: #008000; text-decoration-color: #008000; font-weight: bold\">01</span>\n",
       "</pre>\n"
      ],
      "text/plain": [
       " \u001b[1;32mLoading for sub-\u001b[0m\u001b[1;32m01\u001b[0m\u001b[1;32m, ses-\u001b[0m\u001b[1;32m01\u001b[0m\n"
      ]
     },
     "metadata": {},
     "output_type": "display_data"
    },
    {
     "data": {
      "text/html": [
       "<pre style=\"white-space:pre;overflow-x:auto;line-height:normal;font-family:Menlo,'DejaVu Sans Mono',consolas,'Courier New',monospace\"><span style=\"color: #800000; text-decoration-color: #800000\">╭────────────────────────────────╮</span>\n",
       "<span style=\"color: #800000; text-decoration-color: #800000\">│</span>  <span style=\"color: #800000; text-decoration-color: #800000; font-weight: bold\">Initializing DataLoader Class</span> <span style=\"color: #800000; text-decoration-color: #800000\">│</span>\n",
       "<span style=\"color: #800000; text-decoration-color: #800000\">╰────────────────────────────────╯</span>\n",
       "</pre>\n"
      ],
      "text/plain": [
       "\u001b[31m╭────────────────────────────────╮\u001b[0m\n",
       "\u001b[31m│\u001b[0m  \u001b[1;31mInitializing DataLoader Class\u001b[0m \u001b[31m│\u001b[0m\n",
       "\u001b[31m╰────────────────────────────────╯\u001b[0m\n"
      ]
     },
     "metadata": {},
     "output_type": "display_data"
    },
    {
     "data": {
      "text/html": [
       "<pre style=\"white-space:pre;overflow-x:auto;line-height:normal;font-family:Menlo,'DejaVu Sans Mono',consolas,'Courier New',monospace\"> <span style=\"color: #008000; text-decoration-color: #008000; font-weight: bold\">Creating EPOCHS</span>\n",
       "</pre>\n"
      ],
      "text/plain": [
       " \u001b[1;32mCreating EPOCHS\u001b[0m\n"
      ]
     },
     "metadata": {},
     "output_type": "display_data"
    },
    {
     "data": {
      "text/html": [
       "<pre style=\"white-space:pre;overflow-x:auto;line-height:normal;font-family:Menlo,'DejaVu Sans Mono',consolas,'Courier New',monospace\"><span style=\"font-style: italic\">        Extraction Criteria        </span>\n",
       "┏━━━━━━━━━━━━━━━━━━━━┳━━━━━━━━━━━━┓\n",
       "┃<span style=\"font-weight: bold\"> Parameter          </span>┃<span style=\"font-weight: bold\"> Value      </span>┃\n",
       "┣━━━━━━━━━━━━━━━━━━━━╋━━━━━━━━━━━━┫\n",
       "┃<span style=\"color: #008080; text-decoration-color: #008080; font-weight: bold\"> 🧪 Trial Mode      </span>┃<span style=\"color: #808000; text-decoration-color: #808000; font-weight: bold\">            </span>┃\n",
       "┃<span style=\"color: #008080; text-decoration-color: #008080; font-weight: bold\"> 📏 Trial Unit      </span>┃<span style=\"color: #808000; text-decoration-color: #808000; font-weight: bold\"> Words      </span>┃\n",
       "┃<span style=\"color: #008080; text-decoration-color: #008080; font-weight: bold\"> 🔗 Experiment Mode </span>┃<span style=\"color: #808000; text-decoration-color: #808000; font-weight: bold\"> Experiment </span>┃\n",
       "┃<span style=\"color: #008080; text-decoration-color: #008080; font-weight: bold\"> 🎭 Trial Boundary  </span>┃<span style=\"color: #808000; text-decoration-color: #808000; font-weight: bold\"> Start      </span>┃\n",
       "┃<span style=\"color: #008080; text-decoration-color: #008080; font-weight: bold\"> 🔬 Trial Type      </span>┃<span style=\"color: #808000; text-decoration-color: #808000; font-weight: bold\"> Stimulus   </span>┃\n",
       "┃<span style=\"color: #008080; text-decoration-color: #008080; font-weight: bold\"> 📊 Modality        </span>┃<span style=\"color: #808000; text-decoration-color: #808000; font-weight: bold\"> Pictures   </span>┃\n",
       "┃<span style=\"color: #008080; text-decoration-color: #008080; font-weight: bold\"> ⏱ Tmax             </span>┃<span style=\"color: #808000; text-decoration-color: #808000; font-weight: bold\"> </span><span style=\"color: #008080; text-decoration-color: #008080; font-weight: bold\">-0.2</span><span style=\"color: #808000; text-decoration-color: #808000; font-weight: bold\">       </span>┃\n",
       "┃<span style=\"color: #008080; text-decoration-color: #008080; font-weight: bold\"> ⏳ Tmin            </span>┃<span style=\"color: #808000; text-decoration-color: #808000; font-weight: bold\"> </span><span style=\"color: #008080; text-decoration-color: #008080; font-weight: bold\">0.5</span><span style=\"color: #808000; text-decoration-color: #808000; font-weight: bold\">        </span>┃\n",
       "┗━━━━━━━━━━━━━━━━━━━━┻━━━━━━━━━━━━┛\n",
       "</pre>\n"
      ],
      "text/plain": [
       "\u001b[3m        Extraction Criteria        \u001b[0m\n",
       "┏━━━━━━━━━━━━━━━━━━━━┳━━━━━━━━━━━━┓\n",
       "┃\u001b[1m \u001b[0m\u001b[1mParameter         \u001b[0m\u001b[1m \u001b[0m┃\u001b[1m \u001b[0m\u001b[1mValue     \u001b[0m\u001b[1m \u001b[0m┃\n",
       "┣━━━━━━━━━━━━━━━━━━━━╋━━━━━━━━━━━━┫\n",
       "┃\u001b[1;36m \u001b[0m\u001b[1;36m🧪 Trial Mode     \u001b[0m\u001b[1;36m \u001b[0m┃\u001b[1;33m \u001b[0m\u001b[1;33m          \u001b[0m\u001b[1;33m \u001b[0m┃\n",
       "┃\u001b[1;36m \u001b[0m\u001b[1;36m📏 Trial Unit     \u001b[0m\u001b[1;36m \u001b[0m┃\u001b[1;33m \u001b[0m\u001b[1;33mWords     \u001b[0m\u001b[1;33m \u001b[0m┃\n",
       "┃\u001b[1;36m \u001b[0m\u001b[1;36m🔗 Experiment Mode\u001b[0m\u001b[1;36m \u001b[0m┃\u001b[1;33m \u001b[0m\u001b[1;33mExperiment\u001b[0m\u001b[1;33m \u001b[0m┃\n",
       "┃\u001b[1;36m \u001b[0m\u001b[1;36m🎭 Trial Boundary \u001b[0m\u001b[1;36m \u001b[0m┃\u001b[1;33m \u001b[0m\u001b[1;33mStart     \u001b[0m\u001b[1;33m \u001b[0m┃\n",
       "┃\u001b[1;36m \u001b[0m\u001b[1;36m🔬 Trial Type     \u001b[0m\u001b[1;36m \u001b[0m┃\u001b[1;33m \u001b[0m\u001b[1;33mStimulus  \u001b[0m\u001b[1;33m \u001b[0m┃\n",
       "┃\u001b[1;36m \u001b[0m\u001b[1;36m📊 Modality       \u001b[0m\u001b[1;36m \u001b[0m┃\u001b[1;33m \u001b[0m\u001b[1;33mPictures  \u001b[0m\u001b[1;33m \u001b[0m┃\n",
       "┃\u001b[1;36m \u001b[0m\u001b[1;36m⏱ Tmax            \u001b[0m\u001b[1;36m \u001b[0m┃\u001b[1;33m \u001b[0m\u001b[1;36m-0.2\u001b[0m\u001b[1;33m      \u001b[0m\u001b[1;33m \u001b[0m┃\n",
       "┃\u001b[1;36m \u001b[0m\u001b[1;36m⏳ Tmin           \u001b[0m\u001b[1;36m \u001b[0m┃\u001b[1;33m \u001b[0m\u001b[1;36m0.5\u001b[0m\u001b[1;33m       \u001b[0m\u001b[1;33m \u001b[0m┃\n",
       "┗━━━━━━━━━━━━━━━━━━━━┻━━━━━━━━━━━━┛\n"
      ]
     },
     "metadata": {},
     "output_type": "display_data"
    },
    {
     "name": "stdout",
     "output_type": "stream",
     "text": [
      "Not setting metadata\n",
      "130 matching events found\n",
      "Applying baseline correction (mode: mean)\n",
      "0 projection items activated\n",
      "Loading data for 130 events and 701 original time points ...\n",
      "0 bad epochs dropped\n"
     ]
    },
    {
     "data": {
      "text/html": [
       "<pre style=\"white-space:pre;overflow-x:auto;line-height:normal;font-family:Menlo,'DejaVu Sans Mono',consolas,'Courier New',monospace\"> <span style=\"color: #008000; text-decoration-color: #008000; font-weight: bold\">Loading for sub-</span><span style=\"color: #008000; text-decoration-color: #008000; font-weight: bold\">02</span><span style=\"color: #008000; text-decoration-color: #008000; font-weight: bold\">, ses-</span><span style=\"color: #008000; text-decoration-color: #008000; font-weight: bold\">01</span>\n",
       "</pre>\n"
      ],
      "text/plain": [
       " \u001b[1;32mLoading for sub-\u001b[0m\u001b[1;32m02\u001b[0m\u001b[1;32m, ses-\u001b[0m\u001b[1;32m01\u001b[0m\n"
      ]
     },
     "metadata": {},
     "output_type": "display_data"
    },
    {
     "data": {
      "text/html": [
       "<pre style=\"white-space:pre;overflow-x:auto;line-height:normal;font-family:Menlo,'DejaVu Sans Mono',consolas,'Courier New',monospace\"><span style=\"color: #800000; text-decoration-color: #800000\">╭────────────────────────────────╮</span>\n",
       "<span style=\"color: #800000; text-decoration-color: #800000\">│</span>  <span style=\"color: #800000; text-decoration-color: #800000; font-weight: bold\">Initializing DataLoader Class</span> <span style=\"color: #800000; text-decoration-color: #800000\">│</span>\n",
       "<span style=\"color: #800000; text-decoration-color: #800000\">╰────────────────────────────────╯</span>\n",
       "</pre>\n"
      ],
      "text/plain": [
       "\u001b[31m╭────────────────────────────────╮\u001b[0m\n",
       "\u001b[31m│\u001b[0m  \u001b[1;31mInitializing DataLoader Class\u001b[0m \u001b[31m│\u001b[0m\n",
       "\u001b[31m╰────────────────────────────────╯\u001b[0m\n"
      ]
     },
     "metadata": {},
     "output_type": "display_data"
    },
    {
     "data": {
      "text/html": [
       "<pre style=\"white-space:pre;overflow-x:auto;line-height:normal;font-family:Menlo,'DejaVu Sans Mono',consolas,'Courier New',monospace\"> <span style=\"color: #008000; text-decoration-color: #008000; font-weight: bold\">Creating EPOCHS</span>\n",
       "</pre>\n"
      ],
      "text/plain": [
       " \u001b[1;32mCreating EPOCHS\u001b[0m\n"
      ]
     },
     "metadata": {},
     "output_type": "display_data"
    },
    {
     "data": {
      "text/html": [
       "<pre style=\"white-space:pre;overflow-x:auto;line-height:normal;font-family:Menlo,'DejaVu Sans Mono',consolas,'Courier New',monospace\"><span style=\"font-style: italic\">        Extraction Criteria        </span>\n",
       "┏━━━━━━━━━━━━━━━━━━━━┳━━━━━━━━━━━━┓\n",
       "┃<span style=\"font-weight: bold\"> Parameter          </span>┃<span style=\"font-weight: bold\"> Value      </span>┃\n",
       "┣━━━━━━━━━━━━━━━━━━━━╋━━━━━━━━━━━━┫\n",
       "┃<span style=\"color: #008080; text-decoration-color: #008080; font-weight: bold\"> 🧪 Trial Mode      </span>┃<span style=\"color: #808000; text-decoration-color: #808000; font-weight: bold\">            </span>┃\n",
       "┃<span style=\"color: #008080; text-decoration-color: #008080; font-weight: bold\"> 📏 Trial Unit      </span>┃<span style=\"color: #808000; text-decoration-color: #808000; font-weight: bold\"> Words      </span>┃\n",
       "┃<span style=\"color: #008080; text-decoration-color: #008080; font-weight: bold\"> 🔗 Experiment Mode </span>┃<span style=\"color: #808000; text-decoration-color: #808000; font-weight: bold\"> Experiment </span>┃\n",
       "┃<span style=\"color: #008080; text-decoration-color: #008080; font-weight: bold\"> 🎭 Trial Boundary  </span>┃<span style=\"color: #808000; text-decoration-color: #808000; font-weight: bold\"> Start      </span>┃\n",
       "┃<span style=\"color: #008080; text-decoration-color: #008080; font-weight: bold\"> 🔬 Trial Type      </span>┃<span style=\"color: #808000; text-decoration-color: #808000; font-weight: bold\"> Stimulus   </span>┃\n",
       "┃<span style=\"color: #008080; text-decoration-color: #008080; font-weight: bold\"> 📊 Modality        </span>┃<span style=\"color: #808000; text-decoration-color: #808000; font-weight: bold\"> Pictures   </span>┃\n",
       "┃<span style=\"color: #008080; text-decoration-color: #008080; font-weight: bold\"> ⏱ Tmax             </span>┃<span style=\"color: #808000; text-decoration-color: #808000; font-weight: bold\"> </span><span style=\"color: #008080; text-decoration-color: #008080; font-weight: bold\">-0.2</span><span style=\"color: #808000; text-decoration-color: #808000; font-weight: bold\">       </span>┃\n",
       "┃<span style=\"color: #008080; text-decoration-color: #008080; font-weight: bold\"> ⏳ Tmin            </span>┃<span style=\"color: #808000; text-decoration-color: #808000; font-weight: bold\"> </span><span style=\"color: #008080; text-decoration-color: #008080; font-weight: bold\">0.5</span><span style=\"color: #808000; text-decoration-color: #808000; font-weight: bold\">        </span>┃\n",
       "┗━━━━━━━━━━━━━━━━━━━━┻━━━━━━━━━━━━┛\n",
       "</pre>\n"
      ],
      "text/plain": [
       "\u001b[3m        Extraction Criteria        \u001b[0m\n",
       "┏━━━━━━━━━━━━━━━━━━━━┳━━━━━━━━━━━━┓\n",
       "┃\u001b[1m \u001b[0m\u001b[1mParameter         \u001b[0m\u001b[1m \u001b[0m┃\u001b[1m \u001b[0m\u001b[1mValue     \u001b[0m\u001b[1m \u001b[0m┃\n",
       "┣━━━━━━━━━━━━━━━━━━━━╋━━━━━━━━━━━━┫\n",
       "┃\u001b[1;36m \u001b[0m\u001b[1;36m🧪 Trial Mode     \u001b[0m\u001b[1;36m \u001b[0m┃\u001b[1;33m \u001b[0m\u001b[1;33m          \u001b[0m\u001b[1;33m \u001b[0m┃\n",
       "┃\u001b[1;36m \u001b[0m\u001b[1;36m📏 Trial Unit     \u001b[0m\u001b[1;36m \u001b[0m┃\u001b[1;33m \u001b[0m\u001b[1;33mWords     \u001b[0m\u001b[1;33m \u001b[0m┃\n",
       "┃\u001b[1;36m \u001b[0m\u001b[1;36m🔗 Experiment Mode\u001b[0m\u001b[1;36m \u001b[0m┃\u001b[1;33m \u001b[0m\u001b[1;33mExperiment\u001b[0m\u001b[1;33m \u001b[0m┃\n",
       "┃\u001b[1;36m \u001b[0m\u001b[1;36m🎭 Trial Boundary \u001b[0m\u001b[1;36m \u001b[0m┃\u001b[1;33m \u001b[0m\u001b[1;33mStart     \u001b[0m\u001b[1;33m \u001b[0m┃\n",
       "┃\u001b[1;36m \u001b[0m\u001b[1;36m🔬 Trial Type     \u001b[0m\u001b[1;36m \u001b[0m┃\u001b[1;33m \u001b[0m\u001b[1;33mStimulus  \u001b[0m\u001b[1;33m \u001b[0m┃\n",
       "┃\u001b[1;36m \u001b[0m\u001b[1;36m📊 Modality       \u001b[0m\u001b[1;36m \u001b[0m┃\u001b[1;33m \u001b[0m\u001b[1;33mPictures  \u001b[0m\u001b[1;33m \u001b[0m┃\n",
       "┃\u001b[1;36m \u001b[0m\u001b[1;36m⏱ Tmax            \u001b[0m\u001b[1;36m \u001b[0m┃\u001b[1;33m \u001b[0m\u001b[1;36m-0.2\u001b[0m\u001b[1;33m      \u001b[0m\u001b[1;33m \u001b[0m┃\n",
       "┃\u001b[1;36m \u001b[0m\u001b[1;36m⏳ Tmin           \u001b[0m\u001b[1;36m \u001b[0m┃\u001b[1;33m \u001b[0m\u001b[1;36m0.5\u001b[0m\u001b[1;33m       \u001b[0m\u001b[1;33m \u001b[0m┃\n",
       "┗━━━━━━━━━━━━━━━━━━━━┻━━━━━━━━━━━━┛\n"
      ]
     },
     "metadata": {},
     "output_type": "display_data"
    },
    {
     "name": "stdout",
     "output_type": "stream",
     "text": [
      "Not setting metadata\n",
      "130 matching events found\n",
      "Applying baseline correction (mode: mean)\n",
      "0 projection items activated\n",
      "Loading data for 130 events and 701 original time points ...\n",
      "0 bad epochs dropped\n"
     ]
    },
    {
     "data": {
      "text/html": [
       "<pre style=\"white-space:pre;overflow-x:auto;line-height:normal;font-family:Menlo,'DejaVu Sans Mono',consolas,'Courier New',monospace\"> <span style=\"color: #008000; text-decoration-color: #008000; font-weight: bold\">Loading for sub-</span><span style=\"color: #008000; text-decoration-color: #008000; font-weight: bold\">03</span><span style=\"color: #008000; text-decoration-color: #008000; font-weight: bold\">, ses-</span><span style=\"color: #008000; text-decoration-color: #008000; font-weight: bold\">01</span>\n",
       "</pre>\n"
      ],
      "text/plain": [
       " \u001b[1;32mLoading for sub-\u001b[0m\u001b[1;32m03\u001b[0m\u001b[1;32m, ses-\u001b[0m\u001b[1;32m01\u001b[0m\n"
      ]
     },
     "metadata": {},
     "output_type": "display_data"
    },
    {
     "data": {
      "text/html": [
       "<pre style=\"white-space:pre;overflow-x:auto;line-height:normal;font-family:Menlo,'DejaVu Sans Mono',consolas,'Courier New',monospace\"><span style=\"color: #800000; text-decoration-color: #800000\">╭────────────────────────────────╮</span>\n",
       "<span style=\"color: #800000; text-decoration-color: #800000\">│</span>  <span style=\"color: #800000; text-decoration-color: #800000; font-weight: bold\">Initializing DataLoader Class</span> <span style=\"color: #800000; text-decoration-color: #800000\">│</span>\n",
       "<span style=\"color: #800000; text-decoration-color: #800000\">╰────────────────────────────────╯</span>\n",
       "</pre>\n"
      ],
      "text/plain": [
       "\u001b[31m╭────────────────────────────────╮\u001b[0m\n",
       "\u001b[31m│\u001b[0m  \u001b[1;31mInitializing DataLoader Class\u001b[0m \u001b[31m│\u001b[0m\n",
       "\u001b[31m╰────────────────────────────────╯\u001b[0m\n"
      ]
     },
     "metadata": {},
     "output_type": "display_data"
    },
    {
     "data": {
      "text/html": [
       "<pre style=\"white-space:pre;overflow-x:auto;line-height:normal;font-family:Menlo,'DejaVu Sans Mono',consolas,'Courier New',monospace\"> <span style=\"color: #008000; text-decoration-color: #008000; font-weight: bold\">Creating EPOCHS</span>\n",
       "</pre>\n"
      ],
      "text/plain": [
       " \u001b[1;32mCreating EPOCHS\u001b[0m\n"
      ]
     },
     "metadata": {},
     "output_type": "display_data"
    },
    {
     "data": {
      "text/html": [
       "<pre style=\"white-space:pre;overflow-x:auto;line-height:normal;font-family:Menlo,'DejaVu Sans Mono',consolas,'Courier New',monospace\"><span style=\"font-style: italic\">        Extraction Criteria        </span>\n",
       "┏━━━━━━━━━━━━━━━━━━━━┳━━━━━━━━━━━━┓\n",
       "┃<span style=\"font-weight: bold\"> Parameter          </span>┃<span style=\"font-weight: bold\"> Value      </span>┃\n",
       "┣━━━━━━━━━━━━━━━━━━━━╋━━━━━━━━━━━━┫\n",
       "┃<span style=\"color: #008080; text-decoration-color: #008080; font-weight: bold\"> 🧪 Trial Mode      </span>┃<span style=\"color: #808000; text-decoration-color: #808000; font-weight: bold\">            </span>┃\n",
       "┃<span style=\"color: #008080; text-decoration-color: #008080; font-weight: bold\"> 📏 Trial Unit      </span>┃<span style=\"color: #808000; text-decoration-color: #808000; font-weight: bold\"> Words      </span>┃\n",
       "┃<span style=\"color: #008080; text-decoration-color: #008080; font-weight: bold\"> 🔗 Experiment Mode </span>┃<span style=\"color: #808000; text-decoration-color: #808000; font-weight: bold\"> Experiment </span>┃\n",
       "┃<span style=\"color: #008080; text-decoration-color: #008080; font-weight: bold\"> 🎭 Trial Boundary  </span>┃<span style=\"color: #808000; text-decoration-color: #808000; font-weight: bold\"> Start      </span>┃\n",
       "┃<span style=\"color: #008080; text-decoration-color: #008080; font-weight: bold\"> 🔬 Trial Type      </span>┃<span style=\"color: #808000; text-decoration-color: #808000; font-weight: bold\"> Stimulus   </span>┃\n",
       "┃<span style=\"color: #008080; text-decoration-color: #008080; font-weight: bold\"> 📊 Modality        </span>┃<span style=\"color: #808000; text-decoration-color: #808000; font-weight: bold\"> Pictures   </span>┃\n",
       "┃<span style=\"color: #008080; text-decoration-color: #008080; font-weight: bold\"> ⏱ Tmax             </span>┃<span style=\"color: #808000; text-decoration-color: #808000; font-weight: bold\"> </span><span style=\"color: #008080; text-decoration-color: #008080; font-weight: bold\">-0.2</span><span style=\"color: #808000; text-decoration-color: #808000; font-weight: bold\">       </span>┃\n",
       "┃<span style=\"color: #008080; text-decoration-color: #008080; font-weight: bold\"> ⏳ Tmin            </span>┃<span style=\"color: #808000; text-decoration-color: #808000; font-weight: bold\"> </span><span style=\"color: #008080; text-decoration-color: #008080; font-weight: bold\">0.5</span><span style=\"color: #808000; text-decoration-color: #808000; font-weight: bold\">        </span>┃\n",
       "┗━━━━━━━━━━━━━━━━━━━━┻━━━━━━━━━━━━┛\n",
       "</pre>\n"
      ],
      "text/plain": [
       "\u001b[3m        Extraction Criteria        \u001b[0m\n",
       "┏━━━━━━━━━━━━━━━━━━━━┳━━━━━━━━━━━━┓\n",
       "┃\u001b[1m \u001b[0m\u001b[1mParameter         \u001b[0m\u001b[1m \u001b[0m┃\u001b[1m \u001b[0m\u001b[1mValue     \u001b[0m\u001b[1m \u001b[0m┃\n",
       "┣━━━━━━━━━━━━━━━━━━━━╋━━━━━━━━━━━━┫\n",
       "┃\u001b[1;36m \u001b[0m\u001b[1;36m🧪 Trial Mode     \u001b[0m\u001b[1;36m \u001b[0m┃\u001b[1;33m \u001b[0m\u001b[1;33m          \u001b[0m\u001b[1;33m \u001b[0m┃\n",
       "┃\u001b[1;36m \u001b[0m\u001b[1;36m📏 Trial Unit     \u001b[0m\u001b[1;36m \u001b[0m┃\u001b[1;33m \u001b[0m\u001b[1;33mWords     \u001b[0m\u001b[1;33m \u001b[0m┃\n",
       "┃\u001b[1;36m \u001b[0m\u001b[1;36m🔗 Experiment Mode\u001b[0m\u001b[1;36m \u001b[0m┃\u001b[1;33m \u001b[0m\u001b[1;33mExperiment\u001b[0m\u001b[1;33m \u001b[0m┃\n",
       "┃\u001b[1;36m \u001b[0m\u001b[1;36m🎭 Trial Boundary \u001b[0m\u001b[1;36m \u001b[0m┃\u001b[1;33m \u001b[0m\u001b[1;33mStart     \u001b[0m\u001b[1;33m \u001b[0m┃\n",
       "┃\u001b[1;36m \u001b[0m\u001b[1;36m🔬 Trial Type     \u001b[0m\u001b[1;36m \u001b[0m┃\u001b[1;33m \u001b[0m\u001b[1;33mStimulus  \u001b[0m\u001b[1;33m \u001b[0m┃\n",
       "┃\u001b[1;36m \u001b[0m\u001b[1;36m📊 Modality       \u001b[0m\u001b[1;36m \u001b[0m┃\u001b[1;33m \u001b[0m\u001b[1;33mPictures  \u001b[0m\u001b[1;33m \u001b[0m┃\n",
       "┃\u001b[1;36m \u001b[0m\u001b[1;36m⏱ Tmax            \u001b[0m\u001b[1;36m \u001b[0m┃\u001b[1;33m \u001b[0m\u001b[1;36m-0.2\u001b[0m\u001b[1;33m      \u001b[0m\u001b[1;33m \u001b[0m┃\n",
       "┃\u001b[1;36m \u001b[0m\u001b[1;36m⏳ Tmin           \u001b[0m\u001b[1;36m \u001b[0m┃\u001b[1;33m \u001b[0m\u001b[1;36m0.5\u001b[0m\u001b[1;33m       \u001b[0m\u001b[1;33m \u001b[0m┃\n",
       "┗━━━━━━━━━━━━━━━━━━━━┻━━━━━━━━━━━━┛\n"
      ]
     },
     "metadata": {},
     "output_type": "display_data"
    },
    {
     "name": "stdout",
     "output_type": "stream",
     "text": [
      "Not setting metadata\n",
      "130 matching events found\n",
      "Applying baseline correction (mode: mean)\n",
      "0 projection items activated\n",
      "Loading data for 130 events and 701 original time points ...\n",
      "0 bad epochs dropped\n"
     ]
    },
    {
     "data": {
      "text/html": [
       "<pre style=\"white-space:pre;overflow-x:auto;line-height:normal;font-family:Menlo,'DejaVu Sans Mono',consolas,'Courier New',monospace\"> <span style=\"color: #008000; text-decoration-color: #008000; font-weight: bold\">Loading for sub-</span><span style=\"color: #008000; text-decoration-color: #008000; font-weight: bold\">04</span><span style=\"color: #008000; text-decoration-color: #008000; font-weight: bold\">, ses-</span><span style=\"color: #008000; text-decoration-color: #008000; font-weight: bold\">01</span>\n",
       "</pre>\n"
      ],
      "text/plain": [
       " \u001b[1;32mLoading for sub-\u001b[0m\u001b[1;32m04\u001b[0m\u001b[1;32m, ses-\u001b[0m\u001b[1;32m01\u001b[0m\n"
      ]
     },
     "metadata": {},
     "output_type": "display_data"
    },
    {
     "data": {
      "text/html": [
       "<pre style=\"white-space:pre;overflow-x:auto;line-height:normal;font-family:Menlo,'DejaVu Sans Mono',consolas,'Courier New',monospace\"><span style=\"color: #800000; text-decoration-color: #800000\">╭────────────────────────────────╮</span>\n",
       "<span style=\"color: #800000; text-decoration-color: #800000\">│</span>  <span style=\"color: #800000; text-decoration-color: #800000; font-weight: bold\">Initializing DataLoader Class</span> <span style=\"color: #800000; text-decoration-color: #800000\">│</span>\n",
       "<span style=\"color: #800000; text-decoration-color: #800000\">╰────────────────────────────────╯</span>\n",
       "</pre>\n"
      ],
      "text/plain": [
       "\u001b[31m╭────────────────────────────────╮\u001b[0m\n",
       "\u001b[31m│\u001b[0m  \u001b[1;31mInitializing DataLoader Class\u001b[0m \u001b[31m│\u001b[0m\n",
       "\u001b[31m╰────────────────────────────────╯\u001b[0m\n"
      ]
     },
     "metadata": {},
     "output_type": "display_data"
    },
    {
     "data": {
      "text/html": [
       "<pre style=\"white-space:pre;overflow-x:auto;line-height:normal;font-family:Menlo,'DejaVu Sans Mono',consolas,'Courier New',monospace\"> <span style=\"color: #008000; text-decoration-color: #008000; font-weight: bold\">Creating EPOCHS</span>\n",
       "</pre>\n"
      ],
      "text/plain": [
       " \u001b[1;32mCreating EPOCHS\u001b[0m\n"
      ]
     },
     "metadata": {},
     "output_type": "display_data"
    },
    {
     "data": {
      "text/html": [
       "<pre style=\"white-space:pre;overflow-x:auto;line-height:normal;font-family:Menlo,'DejaVu Sans Mono',consolas,'Courier New',monospace\"><span style=\"font-style: italic\">        Extraction Criteria        </span>\n",
       "┏━━━━━━━━━━━━━━━━━━━━┳━━━━━━━━━━━━┓\n",
       "┃<span style=\"font-weight: bold\"> Parameter          </span>┃<span style=\"font-weight: bold\"> Value      </span>┃\n",
       "┣━━━━━━━━━━━━━━━━━━━━╋━━━━━━━━━━━━┫\n",
       "┃<span style=\"color: #008080; text-decoration-color: #008080; font-weight: bold\"> 🧪 Trial Mode      </span>┃<span style=\"color: #808000; text-decoration-color: #808000; font-weight: bold\">            </span>┃\n",
       "┃<span style=\"color: #008080; text-decoration-color: #008080; font-weight: bold\"> 📏 Trial Unit      </span>┃<span style=\"color: #808000; text-decoration-color: #808000; font-weight: bold\"> Words      </span>┃\n",
       "┃<span style=\"color: #008080; text-decoration-color: #008080; font-weight: bold\"> 🔗 Experiment Mode </span>┃<span style=\"color: #808000; text-decoration-color: #808000; font-weight: bold\"> Experiment </span>┃\n",
       "┃<span style=\"color: #008080; text-decoration-color: #008080; font-weight: bold\"> 🎭 Trial Boundary  </span>┃<span style=\"color: #808000; text-decoration-color: #808000; font-weight: bold\"> Start      </span>┃\n",
       "┃<span style=\"color: #008080; text-decoration-color: #008080; font-weight: bold\"> 🔬 Trial Type      </span>┃<span style=\"color: #808000; text-decoration-color: #808000; font-weight: bold\"> Stimulus   </span>┃\n",
       "┃<span style=\"color: #008080; text-decoration-color: #008080; font-weight: bold\"> 📊 Modality        </span>┃<span style=\"color: #808000; text-decoration-color: #808000; font-weight: bold\"> Pictures   </span>┃\n",
       "┃<span style=\"color: #008080; text-decoration-color: #008080; font-weight: bold\"> ⏱ Tmax             </span>┃<span style=\"color: #808000; text-decoration-color: #808000; font-weight: bold\"> </span><span style=\"color: #008080; text-decoration-color: #008080; font-weight: bold\">-0.2</span><span style=\"color: #808000; text-decoration-color: #808000; font-weight: bold\">       </span>┃\n",
       "┃<span style=\"color: #008080; text-decoration-color: #008080; font-weight: bold\"> ⏳ Tmin            </span>┃<span style=\"color: #808000; text-decoration-color: #808000; font-weight: bold\"> </span><span style=\"color: #008080; text-decoration-color: #008080; font-weight: bold\">0.5</span><span style=\"color: #808000; text-decoration-color: #808000; font-weight: bold\">        </span>┃\n",
       "┗━━━━━━━━━━━━━━━━━━━━┻━━━━━━━━━━━━┛\n",
       "</pre>\n"
      ],
      "text/plain": [
       "\u001b[3m        Extraction Criteria        \u001b[0m\n",
       "┏━━━━━━━━━━━━━━━━━━━━┳━━━━━━━━━━━━┓\n",
       "┃\u001b[1m \u001b[0m\u001b[1mParameter         \u001b[0m\u001b[1m \u001b[0m┃\u001b[1m \u001b[0m\u001b[1mValue     \u001b[0m\u001b[1m \u001b[0m┃\n",
       "┣━━━━━━━━━━━━━━━━━━━━╋━━━━━━━━━━━━┫\n",
       "┃\u001b[1;36m \u001b[0m\u001b[1;36m🧪 Trial Mode     \u001b[0m\u001b[1;36m \u001b[0m┃\u001b[1;33m \u001b[0m\u001b[1;33m          \u001b[0m\u001b[1;33m \u001b[0m┃\n",
       "┃\u001b[1;36m \u001b[0m\u001b[1;36m📏 Trial Unit     \u001b[0m\u001b[1;36m \u001b[0m┃\u001b[1;33m \u001b[0m\u001b[1;33mWords     \u001b[0m\u001b[1;33m \u001b[0m┃\n",
       "┃\u001b[1;36m \u001b[0m\u001b[1;36m🔗 Experiment Mode\u001b[0m\u001b[1;36m \u001b[0m┃\u001b[1;33m \u001b[0m\u001b[1;33mExperiment\u001b[0m\u001b[1;33m \u001b[0m┃\n",
       "┃\u001b[1;36m \u001b[0m\u001b[1;36m🎭 Trial Boundary \u001b[0m\u001b[1;36m \u001b[0m┃\u001b[1;33m \u001b[0m\u001b[1;33mStart     \u001b[0m\u001b[1;33m \u001b[0m┃\n",
       "┃\u001b[1;36m \u001b[0m\u001b[1;36m🔬 Trial Type     \u001b[0m\u001b[1;36m \u001b[0m┃\u001b[1;33m \u001b[0m\u001b[1;33mStimulus  \u001b[0m\u001b[1;33m \u001b[0m┃\n",
       "┃\u001b[1;36m \u001b[0m\u001b[1;36m📊 Modality       \u001b[0m\u001b[1;36m \u001b[0m┃\u001b[1;33m \u001b[0m\u001b[1;33mPictures  \u001b[0m\u001b[1;33m \u001b[0m┃\n",
       "┃\u001b[1;36m \u001b[0m\u001b[1;36m⏱ Tmax            \u001b[0m\u001b[1;36m \u001b[0m┃\u001b[1;33m \u001b[0m\u001b[1;36m-0.2\u001b[0m\u001b[1;33m      \u001b[0m\u001b[1;33m \u001b[0m┃\n",
       "┃\u001b[1;36m \u001b[0m\u001b[1;36m⏳ Tmin           \u001b[0m\u001b[1;36m \u001b[0m┃\u001b[1;33m \u001b[0m\u001b[1;36m0.5\u001b[0m\u001b[1;33m       \u001b[0m\u001b[1;33m \u001b[0m┃\n",
       "┗━━━━━━━━━━━━━━━━━━━━┻━━━━━━━━━━━━┛\n"
      ]
     },
     "metadata": {},
     "output_type": "display_data"
    },
    {
     "name": "stdout",
     "output_type": "stream",
     "text": [
      "Not setting metadata\n",
      "130 matching events found\n",
      "Applying baseline correction (mode: mean)\n",
      "0 projection items activated\n",
      "Loading data for 130 events and 701 original time points ...\n",
      "0 bad epochs dropped\n"
     ]
    },
    {
     "data": {
      "text/html": [
       "<pre style=\"white-space:pre;overflow-x:auto;line-height:normal;font-family:Menlo,'DejaVu Sans Mono',consolas,'Courier New',monospace\"> <span style=\"color: #008000; text-decoration-color: #008000; font-weight: bold\">Loading for sub-</span><span style=\"color: #008000; text-decoration-color: #008000; font-weight: bold\">04</span><span style=\"color: #008000; text-decoration-color: #008000; font-weight: bold\">, ses-</span><span style=\"color: #008000; text-decoration-color: #008000; font-weight: bold\">02</span>\n",
       "</pre>\n"
      ],
      "text/plain": [
       " \u001b[1;32mLoading for sub-\u001b[0m\u001b[1;32m04\u001b[0m\u001b[1;32m, ses-\u001b[0m\u001b[1;32m02\u001b[0m\n"
      ]
     },
     "metadata": {},
     "output_type": "display_data"
    },
    {
     "data": {
      "text/html": [
       "<pre style=\"white-space:pre;overflow-x:auto;line-height:normal;font-family:Menlo,'DejaVu Sans Mono',consolas,'Courier New',monospace\"><span style=\"color: #800000; text-decoration-color: #800000\">╭────────────────────────────────╮</span>\n",
       "<span style=\"color: #800000; text-decoration-color: #800000\">│</span>  <span style=\"color: #800000; text-decoration-color: #800000; font-weight: bold\">Initializing DataLoader Class</span> <span style=\"color: #800000; text-decoration-color: #800000\">│</span>\n",
       "<span style=\"color: #800000; text-decoration-color: #800000\">╰────────────────────────────────╯</span>\n",
       "</pre>\n"
      ],
      "text/plain": [
       "\u001b[31m╭────────────────────────────────╮\u001b[0m\n",
       "\u001b[31m│\u001b[0m  \u001b[1;31mInitializing DataLoader Class\u001b[0m \u001b[31m│\u001b[0m\n",
       "\u001b[31m╰────────────────────────────────╯\u001b[0m\n"
      ]
     },
     "metadata": {},
     "output_type": "display_data"
    },
    {
     "data": {
      "text/html": [
       "<pre style=\"white-space:pre;overflow-x:auto;line-height:normal;font-family:Menlo,'DejaVu Sans Mono',consolas,'Courier New',monospace\"> <span style=\"color: #008000; text-decoration-color: #008000; font-weight: bold\">Creating EPOCHS</span>\n",
       "</pre>\n"
      ],
      "text/plain": [
       " \u001b[1;32mCreating EPOCHS\u001b[0m\n"
      ]
     },
     "metadata": {},
     "output_type": "display_data"
    },
    {
     "data": {
      "text/html": [
       "<pre style=\"white-space:pre;overflow-x:auto;line-height:normal;font-family:Menlo,'DejaVu Sans Mono',consolas,'Courier New',monospace\"><span style=\"font-style: italic\">        Extraction Criteria        </span>\n",
       "┏━━━━━━━━━━━━━━━━━━━━┳━━━━━━━━━━━━┓\n",
       "┃<span style=\"font-weight: bold\"> Parameter          </span>┃<span style=\"font-weight: bold\"> Value      </span>┃\n",
       "┣━━━━━━━━━━━━━━━━━━━━╋━━━━━━━━━━━━┫\n",
       "┃<span style=\"color: #008080; text-decoration-color: #008080; font-weight: bold\"> 🧪 Trial Mode      </span>┃<span style=\"color: #808000; text-decoration-color: #808000; font-weight: bold\">            </span>┃\n",
       "┃<span style=\"color: #008080; text-decoration-color: #008080; font-weight: bold\"> 📏 Trial Unit      </span>┃<span style=\"color: #808000; text-decoration-color: #808000; font-weight: bold\"> Words      </span>┃\n",
       "┃<span style=\"color: #008080; text-decoration-color: #008080; font-weight: bold\"> 🔗 Experiment Mode </span>┃<span style=\"color: #808000; text-decoration-color: #808000; font-weight: bold\"> Experiment </span>┃\n",
       "┃<span style=\"color: #008080; text-decoration-color: #008080; font-weight: bold\"> 🎭 Trial Boundary  </span>┃<span style=\"color: #808000; text-decoration-color: #808000; font-weight: bold\"> Start      </span>┃\n",
       "┃<span style=\"color: #008080; text-decoration-color: #008080; font-weight: bold\"> 🔬 Trial Type      </span>┃<span style=\"color: #808000; text-decoration-color: #808000; font-weight: bold\"> Stimulus   </span>┃\n",
       "┃<span style=\"color: #008080; text-decoration-color: #008080; font-weight: bold\"> 📊 Modality        </span>┃<span style=\"color: #808000; text-decoration-color: #808000; font-weight: bold\"> Pictures   </span>┃\n",
       "┃<span style=\"color: #008080; text-decoration-color: #008080; font-weight: bold\"> ⏱ Tmax             </span>┃<span style=\"color: #808000; text-decoration-color: #808000; font-weight: bold\"> </span><span style=\"color: #008080; text-decoration-color: #008080; font-weight: bold\">-0.2</span><span style=\"color: #808000; text-decoration-color: #808000; font-weight: bold\">       </span>┃\n",
       "┃<span style=\"color: #008080; text-decoration-color: #008080; font-weight: bold\"> ⏳ Tmin            </span>┃<span style=\"color: #808000; text-decoration-color: #808000; font-weight: bold\"> </span><span style=\"color: #008080; text-decoration-color: #008080; font-weight: bold\">0.5</span><span style=\"color: #808000; text-decoration-color: #808000; font-weight: bold\">        </span>┃\n",
       "┗━━━━━━━━━━━━━━━━━━━━┻━━━━━━━━━━━━┛\n",
       "</pre>\n"
      ],
      "text/plain": [
       "\u001b[3m        Extraction Criteria        \u001b[0m\n",
       "┏━━━━━━━━━━━━━━━━━━━━┳━━━━━━━━━━━━┓\n",
       "┃\u001b[1m \u001b[0m\u001b[1mParameter         \u001b[0m\u001b[1m \u001b[0m┃\u001b[1m \u001b[0m\u001b[1mValue     \u001b[0m\u001b[1m \u001b[0m┃\n",
       "┣━━━━━━━━━━━━━━━━━━━━╋━━━━━━━━━━━━┫\n",
       "┃\u001b[1;36m \u001b[0m\u001b[1;36m🧪 Trial Mode     \u001b[0m\u001b[1;36m \u001b[0m┃\u001b[1;33m \u001b[0m\u001b[1;33m          \u001b[0m\u001b[1;33m \u001b[0m┃\n",
       "┃\u001b[1;36m \u001b[0m\u001b[1;36m📏 Trial Unit     \u001b[0m\u001b[1;36m \u001b[0m┃\u001b[1;33m \u001b[0m\u001b[1;33mWords     \u001b[0m\u001b[1;33m \u001b[0m┃\n",
       "┃\u001b[1;36m \u001b[0m\u001b[1;36m🔗 Experiment Mode\u001b[0m\u001b[1;36m \u001b[0m┃\u001b[1;33m \u001b[0m\u001b[1;33mExperiment\u001b[0m\u001b[1;33m \u001b[0m┃\n",
       "┃\u001b[1;36m \u001b[0m\u001b[1;36m🎭 Trial Boundary \u001b[0m\u001b[1;36m \u001b[0m┃\u001b[1;33m \u001b[0m\u001b[1;33mStart     \u001b[0m\u001b[1;33m \u001b[0m┃\n",
       "┃\u001b[1;36m \u001b[0m\u001b[1;36m🔬 Trial Type     \u001b[0m\u001b[1;36m \u001b[0m┃\u001b[1;33m \u001b[0m\u001b[1;33mStimulus  \u001b[0m\u001b[1;33m \u001b[0m┃\n",
       "┃\u001b[1;36m \u001b[0m\u001b[1;36m📊 Modality       \u001b[0m\u001b[1;36m \u001b[0m┃\u001b[1;33m \u001b[0m\u001b[1;33mPictures  \u001b[0m\u001b[1;33m \u001b[0m┃\n",
       "┃\u001b[1;36m \u001b[0m\u001b[1;36m⏱ Tmax            \u001b[0m\u001b[1;36m \u001b[0m┃\u001b[1;33m \u001b[0m\u001b[1;36m-0.2\u001b[0m\u001b[1;33m      \u001b[0m\u001b[1;33m \u001b[0m┃\n",
       "┃\u001b[1;36m \u001b[0m\u001b[1;36m⏳ Tmin           \u001b[0m\u001b[1;36m \u001b[0m┃\u001b[1;33m \u001b[0m\u001b[1;36m0.5\u001b[0m\u001b[1;33m       \u001b[0m\u001b[1;33m \u001b[0m┃\n",
       "┗━━━━━━━━━━━━━━━━━━━━┻━━━━━━━━━━━━┛\n"
      ]
     },
     "metadata": {},
     "output_type": "display_data"
    },
    {
     "name": "stdout",
     "output_type": "stream",
     "text": [
      "Not setting metadata\n",
      "130 matching events found\n",
      "Applying baseline correction (mode: mean)\n",
      "0 projection items activated\n",
      "Loading data for 130 events and 701 original time points ...\n",
      "0 bad epochs dropped\n"
     ]
    },
    {
     "data": {
      "text/html": [
       "<pre style=\"white-space:pre;overflow-x:auto;line-height:normal;font-family:Menlo,'DejaVu Sans Mono',consolas,'Courier New',monospace\"> <span style=\"color: #008000; text-decoration-color: #008000; font-weight: bold\">Loading for sub-</span><span style=\"color: #008000; text-decoration-color: #008000; font-weight: bold\">05</span><span style=\"color: #008000; text-decoration-color: #008000; font-weight: bold\">, ses-</span><span style=\"color: #008000; text-decoration-color: #008000; font-weight: bold\">01</span>\n",
       "</pre>\n"
      ],
      "text/plain": [
       " \u001b[1;32mLoading for sub-\u001b[0m\u001b[1;32m05\u001b[0m\u001b[1;32m, ses-\u001b[0m\u001b[1;32m01\u001b[0m\n"
      ]
     },
     "metadata": {},
     "output_type": "display_data"
    },
    {
     "data": {
      "text/html": [
       "<pre style=\"white-space:pre;overflow-x:auto;line-height:normal;font-family:Menlo,'DejaVu Sans Mono',consolas,'Courier New',monospace\"><span style=\"color: #800000; text-decoration-color: #800000\">╭────────────────────────────────╮</span>\n",
       "<span style=\"color: #800000; text-decoration-color: #800000\">│</span>  <span style=\"color: #800000; text-decoration-color: #800000; font-weight: bold\">Initializing DataLoader Class</span> <span style=\"color: #800000; text-decoration-color: #800000\">│</span>\n",
       "<span style=\"color: #800000; text-decoration-color: #800000\">╰────────────────────────────────╯</span>\n",
       "</pre>\n"
      ],
      "text/plain": [
       "\u001b[31m╭────────────────────────────────╮\u001b[0m\n",
       "\u001b[31m│\u001b[0m  \u001b[1;31mInitializing DataLoader Class\u001b[0m \u001b[31m│\u001b[0m\n",
       "\u001b[31m╰────────────────────────────────╯\u001b[0m\n"
      ]
     },
     "metadata": {},
     "output_type": "display_data"
    },
    {
     "data": {
      "text/html": [
       "<pre style=\"white-space:pre;overflow-x:auto;line-height:normal;font-family:Menlo,'DejaVu Sans Mono',consolas,'Courier New',monospace\"> <span style=\"color: #008000; text-decoration-color: #008000; font-weight: bold\">Creating EPOCHS</span>\n",
       "</pre>\n"
      ],
      "text/plain": [
       " \u001b[1;32mCreating EPOCHS\u001b[0m\n"
      ]
     },
     "metadata": {},
     "output_type": "display_data"
    },
    {
     "data": {
      "text/html": [
       "<pre style=\"white-space:pre;overflow-x:auto;line-height:normal;font-family:Menlo,'DejaVu Sans Mono',consolas,'Courier New',monospace\"><span style=\"font-style: italic\">        Extraction Criteria        </span>\n",
       "┏━━━━━━━━━━━━━━━━━━━━┳━━━━━━━━━━━━┓\n",
       "┃<span style=\"font-weight: bold\"> Parameter          </span>┃<span style=\"font-weight: bold\"> Value      </span>┃\n",
       "┣━━━━━━━━━━━━━━━━━━━━╋━━━━━━━━━━━━┫\n",
       "┃<span style=\"color: #008080; text-decoration-color: #008080; font-weight: bold\"> 🧪 Trial Mode      </span>┃<span style=\"color: #808000; text-decoration-color: #808000; font-weight: bold\">            </span>┃\n",
       "┃<span style=\"color: #008080; text-decoration-color: #008080; font-weight: bold\"> 📏 Trial Unit      </span>┃<span style=\"color: #808000; text-decoration-color: #808000; font-weight: bold\"> Words      </span>┃\n",
       "┃<span style=\"color: #008080; text-decoration-color: #008080; font-weight: bold\"> 🔗 Experiment Mode </span>┃<span style=\"color: #808000; text-decoration-color: #808000; font-weight: bold\"> Experiment </span>┃\n",
       "┃<span style=\"color: #008080; text-decoration-color: #008080; font-weight: bold\"> 🎭 Trial Boundary  </span>┃<span style=\"color: #808000; text-decoration-color: #808000; font-weight: bold\"> Start      </span>┃\n",
       "┃<span style=\"color: #008080; text-decoration-color: #008080; font-weight: bold\"> 🔬 Trial Type      </span>┃<span style=\"color: #808000; text-decoration-color: #808000; font-weight: bold\"> Stimulus   </span>┃\n",
       "┃<span style=\"color: #008080; text-decoration-color: #008080; font-weight: bold\"> 📊 Modality        </span>┃<span style=\"color: #808000; text-decoration-color: #808000; font-weight: bold\"> Pictures   </span>┃\n",
       "┃<span style=\"color: #008080; text-decoration-color: #008080; font-weight: bold\"> ⏱ Tmax             </span>┃<span style=\"color: #808000; text-decoration-color: #808000; font-weight: bold\"> </span><span style=\"color: #008080; text-decoration-color: #008080; font-weight: bold\">-0.2</span><span style=\"color: #808000; text-decoration-color: #808000; font-weight: bold\">       </span>┃\n",
       "┃<span style=\"color: #008080; text-decoration-color: #008080; font-weight: bold\"> ⏳ Tmin            </span>┃<span style=\"color: #808000; text-decoration-color: #808000; font-weight: bold\"> </span><span style=\"color: #008080; text-decoration-color: #008080; font-weight: bold\">0.5</span><span style=\"color: #808000; text-decoration-color: #808000; font-weight: bold\">        </span>┃\n",
       "┗━━━━━━━━━━━━━━━━━━━━┻━━━━━━━━━━━━┛\n",
       "</pre>\n"
      ],
      "text/plain": [
       "\u001b[3m        Extraction Criteria        \u001b[0m\n",
       "┏━━━━━━━━━━━━━━━━━━━━┳━━━━━━━━━━━━┓\n",
       "┃\u001b[1m \u001b[0m\u001b[1mParameter         \u001b[0m\u001b[1m \u001b[0m┃\u001b[1m \u001b[0m\u001b[1mValue     \u001b[0m\u001b[1m \u001b[0m┃\n",
       "┣━━━━━━━━━━━━━━━━━━━━╋━━━━━━━━━━━━┫\n",
       "┃\u001b[1;36m \u001b[0m\u001b[1;36m🧪 Trial Mode     \u001b[0m\u001b[1;36m \u001b[0m┃\u001b[1;33m \u001b[0m\u001b[1;33m          \u001b[0m\u001b[1;33m \u001b[0m┃\n",
       "┃\u001b[1;36m \u001b[0m\u001b[1;36m📏 Trial Unit     \u001b[0m\u001b[1;36m \u001b[0m┃\u001b[1;33m \u001b[0m\u001b[1;33mWords     \u001b[0m\u001b[1;33m \u001b[0m┃\n",
       "┃\u001b[1;36m \u001b[0m\u001b[1;36m🔗 Experiment Mode\u001b[0m\u001b[1;36m \u001b[0m┃\u001b[1;33m \u001b[0m\u001b[1;33mExperiment\u001b[0m\u001b[1;33m \u001b[0m┃\n",
       "┃\u001b[1;36m \u001b[0m\u001b[1;36m🎭 Trial Boundary \u001b[0m\u001b[1;36m \u001b[0m┃\u001b[1;33m \u001b[0m\u001b[1;33mStart     \u001b[0m\u001b[1;33m \u001b[0m┃\n",
       "┃\u001b[1;36m \u001b[0m\u001b[1;36m🔬 Trial Type     \u001b[0m\u001b[1;36m \u001b[0m┃\u001b[1;33m \u001b[0m\u001b[1;33mStimulus  \u001b[0m\u001b[1;33m \u001b[0m┃\n",
       "┃\u001b[1;36m \u001b[0m\u001b[1;36m📊 Modality       \u001b[0m\u001b[1;36m \u001b[0m┃\u001b[1;33m \u001b[0m\u001b[1;33mPictures  \u001b[0m\u001b[1;33m \u001b[0m┃\n",
       "┃\u001b[1;36m \u001b[0m\u001b[1;36m⏱ Tmax            \u001b[0m\u001b[1;36m \u001b[0m┃\u001b[1;33m \u001b[0m\u001b[1;36m-0.2\u001b[0m\u001b[1;33m      \u001b[0m\u001b[1;33m \u001b[0m┃\n",
       "┃\u001b[1;36m \u001b[0m\u001b[1;36m⏳ Tmin           \u001b[0m\u001b[1;36m \u001b[0m┃\u001b[1;33m \u001b[0m\u001b[1;36m0.5\u001b[0m\u001b[1;33m       \u001b[0m\u001b[1;33m \u001b[0m┃\n",
       "┗━━━━━━━━━━━━━━━━━━━━┻━━━━━━━━━━━━┛\n"
      ]
     },
     "metadata": {},
     "output_type": "display_data"
    },
    {
     "name": "stdout",
     "output_type": "stream",
     "text": [
      "Not setting metadata\n",
      "130 matching events found\n",
      "Applying baseline correction (mode: mean)\n",
      "0 projection items activated\n",
      "Loading data for 130 events and 701 original time points ...\n",
      "0 bad epochs dropped\n"
     ]
    },
    {
     "data": {
      "text/html": [
       "<pre style=\"white-space:pre;overflow-x:auto;line-height:normal;font-family:Menlo,'DejaVu Sans Mono',consolas,'Courier New',monospace\"> <span style=\"color: #008000; text-decoration-color: #008000; font-weight: bold\">Loading for sub-</span><span style=\"color: #008000; text-decoration-color: #008000; font-weight: bold\">05</span><span style=\"color: #008000; text-decoration-color: #008000; font-weight: bold\">, ses-</span><span style=\"color: #008000; text-decoration-color: #008000; font-weight: bold\">02</span>\n",
       "</pre>\n"
      ],
      "text/plain": [
       " \u001b[1;32mLoading for sub-\u001b[0m\u001b[1;32m05\u001b[0m\u001b[1;32m, ses-\u001b[0m\u001b[1;32m02\u001b[0m\n"
      ]
     },
     "metadata": {},
     "output_type": "display_data"
    },
    {
     "data": {
      "text/html": [
       "<pre style=\"white-space:pre;overflow-x:auto;line-height:normal;font-family:Menlo,'DejaVu Sans Mono',consolas,'Courier New',monospace\"><span style=\"color: #800000; text-decoration-color: #800000\">╭────────────────────────────────╮</span>\n",
       "<span style=\"color: #800000; text-decoration-color: #800000\">│</span>  <span style=\"color: #800000; text-decoration-color: #800000; font-weight: bold\">Initializing DataLoader Class</span> <span style=\"color: #800000; text-decoration-color: #800000\">│</span>\n",
       "<span style=\"color: #800000; text-decoration-color: #800000\">╰────────────────────────────────╯</span>\n",
       "</pre>\n"
      ],
      "text/plain": [
       "\u001b[31m╭────────────────────────────────╮\u001b[0m\n",
       "\u001b[31m│\u001b[0m  \u001b[1;31mInitializing DataLoader Class\u001b[0m \u001b[31m│\u001b[0m\n",
       "\u001b[31m╰────────────────────────────────╯\u001b[0m\n"
      ]
     },
     "metadata": {},
     "output_type": "display_data"
    },
    {
     "data": {
      "text/html": [
       "<pre style=\"white-space:pre;overflow-x:auto;line-height:normal;font-family:Menlo,'DejaVu Sans Mono',consolas,'Courier New',monospace\"> <span style=\"color: #008000; text-decoration-color: #008000; font-weight: bold\">Creating EPOCHS</span>\n",
       "</pre>\n"
      ],
      "text/plain": [
       " \u001b[1;32mCreating EPOCHS\u001b[0m\n"
      ]
     },
     "metadata": {},
     "output_type": "display_data"
    },
    {
     "data": {
      "text/html": [
       "<pre style=\"white-space:pre;overflow-x:auto;line-height:normal;font-family:Menlo,'DejaVu Sans Mono',consolas,'Courier New',monospace\"><span style=\"font-style: italic\">        Extraction Criteria        </span>\n",
       "┏━━━━━━━━━━━━━━━━━━━━┳━━━━━━━━━━━━┓\n",
       "┃<span style=\"font-weight: bold\"> Parameter          </span>┃<span style=\"font-weight: bold\"> Value      </span>┃\n",
       "┣━━━━━━━━━━━━━━━━━━━━╋━━━━━━━━━━━━┫\n",
       "┃<span style=\"color: #008080; text-decoration-color: #008080; font-weight: bold\"> 🧪 Trial Mode      </span>┃<span style=\"color: #808000; text-decoration-color: #808000; font-weight: bold\">            </span>┃\n",
       "┃<span style=\"color: #008080; text-decoration-color: #008080; font-weight: bold\"> 📏 Trial Unit      </span>┃<span style=\"color: #808000; text-decoration-color: #808000; font-weight: bold\"> Words      </span>┃\n",
       "┃<span style=\"color: #008080; text-decoration-color: #008080; font-weight: bold\"> 🔗 Experiment Mode </span>┃<span style=\"color: #808000; text-decoration-color: #808000; font-weight: bold\"> Experiment </span>┃\n",
       "┃<span style=\"color: #008080; text-decoration-color: #008080; font-weight: bold\"> 🎭 Trial Boundary  </span>┃<span style=\"color: #808000; text-decoration-color: #808000; font-weight: bold\"> Start      </span>┃\n",
       "┃<span style=\"color: #008080; text-decoration-color: #008080; font-weight: bold\"> 🔬 Trial Type      </span>┃<span style=\"color: #808000; text-decoration-color: #808000; font-weight: bold\"> Stimulus   </span>┃\n",
       "┃<span style=\"color: #008080; text-decoration-color: #008080; font-weight: bold\"> 📊 Modality        </span>┃<span style=\"color: #808000; text-decoration-color: #808000; font-weight: bold\"> Pictures   </span>┃\n",
       "┃<span style=\"color: #008080; text-decoration-color: #008080; font-weight: bold\"> ⏱ Tmax             </span>┃<span style=\"color: #808000; text-decoration-color: #808000; font-weight: bold\"> </span><span style=\"color: #008080; text-decoration-color: #008080; font-weight: bold\">-0.2</span><span style=\"color: #808000; text-decoration-color: #808000; font-weight: bold\">       </span>┃\n",
       "┃<span style=\"color: #008080; text-decoration-color: #008080; font-weight: bold\"> ⏳ Tmin            </span>┃<span style=\"color: #808000; text-decoration-color: #808000; font-weight: bold\"> </span><span style=\"color: #008080; text-decoration-color: #008080; font-weight: bold\">0.5</span><span style=\"color: #808000; text-decoration-color: #808000; font-weight: bold\">        </span>┃\n",
       "┗━━━━━━━━━━━━━━━━━━━━┻━━━━━━━━━━━━┛\n",
       "</pre>\n"
      ],
      "text/plain": [
       "\u001b[3m        Extraction Criteria        \u001b[0m\n",
       "┏━━━━━━━━━━━━━━━━━━━━┳━━━━━━━━━━━━┓\n",
       "┃\u001b[1m \u001b[0m\u001b[1mParameter         \u001b[0m\u001b[1m \u001b[0m┃\u001b[1m \u001b[0m\u001b[1mValue     \u001b[0m\u001b[1m \u001b[0m┃\n",
       "┣━━━━━━━━━━━━━━━━━━━━╋━━━━━━━━━━━━┫\n",
       "┃\u001b[1;36m \u001b[0m\u001b[1;36m🧪 Trial Mode     \u001b[0m\u001b[1;36m \u001b[0m┃\u001b[1;33m \u001b[0m\u001b[1;33m          \u001b[0m\u001b[1;33m \u001b[0m┃\n",
       "┃\u001b[1;36m \u001b[0m\u001b[1;36m📏 Trial Unit     \u001b[0m\u001b[1;36m \u001b[0m┃\u001b[1;33m \u001b[0m\u001b[1;33mWords     \u001b[0m\u001b[1;33m \u001b[0m┃\n",
       "┃\u001b[1;36m \u001b[0m\u001b[1;36m🔗 Experiment Mode\u001b[0m\u001b[1;36m \u001b[0m┃\u001b[1;33m \u001b[0m\u001b[1;33mExperiment\u001b[0m\u001b[1;33m \u001b[0m┃\n",
       "┃\u001b[1;36m \u001b[0m\u001b[1;36m🎭 Trial Boundary \u001b[0m\u001b[1;36m \u001b[0m┃\u001b[1;33m \u001b[0m\u001b[1;33mStart     \u001b[0m\u001b[1;33m \u001b[0m┃\n",
       "┃\u001b[1;36m \u001b[0m\u001b[1;36m🔬 Trial Type     \u001b[0m\u001b[1;36m \u001b[0m┃\u001b[1;33m \u001b[0m\u001b[1;33mStimulus  \u001b[0m\u001b[1;33m \u001b[0m┃\n",
       "┃\u001b[1;36m \u001b[0m\u001b[1;36m📊 Modality       \u001b[0m\u001b[1;36m \u001b[0m┃\u001b[1;33m \u001b[0m\u001b[1;33mPictures  \u001b[0m\u001b[1;33m \u001b[0m┃\n",
       "┃\u001b[1;36m \u001b[0m\u001b[1;36m⏱ Tmax            \u001b[0m\u001b[1;36m \u001b[0m┃\u001b[1;33m \u001b[0m\u001b[1;36m-0.2\u001b[0m\u001b[1;33m      \u001b[0m\u001b[1;33m \u001b[0m┃\n",
       "┃\u001b[1;36m \u001b[0m\u001b[1;36m⏳ Tmin           \u001b[0m\u001b[1;36m \u001b[0m┃\u001b[1;33m \u001b[0m\u001b[1;36m0.5\u001b[0m\u001b[1;33m       \u001b[0m\u001b[1;33m \u001b[0m┃\n",
       "┗━━━━━━━━━━━━━━━━━━━━┻━━━━━━━━━━━━┛\n"
      ]
     },
     "metadata": {},
     "output_type": "display_data"
    },
    {
     "name": "stdout",
     "output_type": "stream",
     "text": [
      "Not setting metadata\n",
      "130 matching events found\n",
      "Applying baseline correction (mode: mean)\n",
      "0 projection items activated\n",
      "Loading data for 130 events and 701 original time points ...\n",
      "0 bad epochs dropped\n"
     ]
    },
    {
     "data": {
      "text/html": [
       "<pre style=\"white-space:pre;overflow-x:auto;line-height:normal;font-family:Menlo,'DejaVu Sans Mono',consolas,'Courier New',monospace\"> <span style=\"color: #008000; text-decoration-color: #008000; font-weight: bold\">Loading for sub-</span><span style=\"color: #008000; text-decoration-color: #008000; font-weight: bold\">06</span><span style=\"color: #008000; text-decoration-color: #008000; font-weight: bold\">, ses-</span><span style=\"color: #008000; text-decoration-color: #008000; font-weight: bold\">01</span>\n",
       "</pre>\n"
      ],
      "text/plain": [
       " \u001b[1;32mLoading for sub-\u001b[0m\u001b[1;32m06\u001b[0m\u001b[1;32m, ses-\u001b[0m\u001b[1;32m01\u001b[0m\n"
      ]
     },
     "metadata": {},
     "output_type": "display_data"
    },
    {
     "data": {
      "text/html": [
       "<pre style=\"white-space:pre;overflow-x:auto;line-height:normal;font-family:Menlo,'DejaVu Sans Mono',consolas,'Courier New',monospace\"><span style=\"color: #800000; text-decoration-color: #800000\">╭────────────────────────────────╮</span>\n",
       "<span style=\"color: #800000; text-decoration-color: #800000\">│</span>  <span style=\"color: #800000; text-decoration-color: #800000; font-weight: bold\">Initializing DataLoader Class</span> <span style=\"color: #800000; text-decoration-color: #800000\">│</span>\n",
       "<span style=\"color: #800000; text-decoration-color: #800000\">╰────────────────────────────────╯</span>\n",
       "</pre>\n"
      ],
      "text/plain": [
       "\u001b[31m╭────────────────────────────────╮\u001b[0m\n",
       "\u001b[31m│\u001b[0m  \u001b[1;31mInitializing DataLoader Class\u001b[0m \u001b[31m│\u001b[0m\n",
       "\u001b[31m╰────────────────────────────────╯\u001b[0m\n"
      ]
     },
     "metadata": {},
     "output_type": "display_data"
    },
    {
     "data": {
      "text/html": [
       "<pre style=\"white-space:pre;overflow-x:auto;line-height:normal;font-family:Menlo,'DejaVu Sans Mono',consolas,'Courier New',monospace\"> <span style=\"color: #008000; text-decoration-color: #008000; font-weight: bold\">Creating EPOCHS</span>\n",
       "</pre>\n"
      ],
      "text/plain": [
       " \u001b[1;32mCreating EPOCHS\u001b[0m\n"
      ]
     },
     "metadata": {},
     "output_type": "display_data"
    },
    {
     "data": {
      "text/html": [
       "<pre style=\"white-space:pre;overflow-x:auto;line-height:normal;font-family:Menlo,'DejaVu Sans Mono',consolas,'Courier New',monospace\"><span style=\"font-style: italic\">        Extraction Criteria        </span>\n",
       "┏━━━━━━━━━━━━━━━━━━━━┳━━━━━━━━━━━━┓\n",
       "┃<span style=\"font-weight: bold\"> Parameter          </span>┃<span style=\"font-weight: bold\"> Value      </span>┃\n",
       "┣━━━━━━━━━━━━━━━━━━━━╋━━━━━━━━━━━━┫\n",
       "┃<span style=\"color: #008080; text-decoration-color: #008080; font-weight: bold\"> 🧪 Trial Mode      </span>┃<span style=\"color: #808000; text-decoration-color: #808000; font-weight: bold\">            </span>┃\n",
       "┃<span style=\"color: #008080; text-decoration-color: #008080; font-weight: bold\"> 📏 Trial Unit      </span>┃<span style=\"color: #808000; text-decoration-color: #808000; font-weight: bold\"> Words      </span>┃\n",
       "┃<span style=\"color: #008080; text-decoration-color: #008080; font-weight: bold\"> 🔗 Experiment Mode </span>┃<span style=\"color: #808000; text-decoration-color: #808000; font-weight: bold\"> Experiment </span>┃\n",
       "┃<span style=\"color: #008080; text-decoration-color: #008080; font-weight: bold\"> 🎭 Trial Boundary  </span>┃<span style=\"color: #808000; text-decoration-color: #808000; font-weight: bold\"> Start      </span>┃\n",
       "┃<span style=\"color: #008080; text-decoration-color: #008080; font-weight: bold\"> 🔬 Trial Type      </span>┃<span style=\"color: #808000; text-decoration-color: #808000; font-weight: bold\"> Stimulus   </span>┃\n",
       "┃<span style=\"color: #008080; text-decoration-color: #008080; font-weight: bold\"> 📊 Modality        </span>┃<span style=\"color: #808000; text-decoration-color: #808000; font-weight: bold\"> Pictures   </span>┃\n",
       "┃<span style=\"color: #008080; text-decoration-color: #008080; font-weight: bold\"> ⏱ Tmax             </span>┃<span style=\"color: #808000; text-decoration-color: #808000; font-weight: bold\"> </span><span style=\"color: #008080; text-decoration-color: #008080; font-weight: bold\">-0.2</span><span style=\"color: #808000; text-decoration-color: #808000; font-weight: bold\">       </span>┃\n",
       "┃<span style=\"color: #008080; text-decoration-color: #008080; font-weight: bold\"> ⏳ Tmin            </span>┃<span style=\"color: #808000; text-decoration-color: #808000; font-weight: bold\"> </span><span style=\"color: #008080; text-decoration-color: #008080; font-weight: bold\">0.5</span><span style=\"color: #808000; text-decoration-color: #808000; font-weight: bold\">        </span>┃\n",
       "┗━━━━━━━━━━━━━━━━━━━━┻━━━━━━━━━━━━┛\n",
       "</pre>\n"
      ],
      "text/plain": [
       "\u001b[3m        Extraction Criteria        \u001b[0m\n",
       "┏━━━━━━━━━━━━━━━━━━━━┳━━━━━━━━━━━━┓\n",
       "┃\u001b[1m \u001b[0m\u001b[1mParameter         \u001b[0m\u001b[1m \u001b[0m┃\u001b[1m \u001b[0m\u001b[1mValue     \u001b[0m\u001b[1m \u001b[0m┃\n",
       "┣━━━━━━━━━━━━━━━━━━━━╋━━━━━━━━━━━━┫\n",
       "┃\u001b[1;36m \u001b[0m\u001b[1;36m🧪 Trial Mode     \u001b[0m\u001b[1;36m \u001b[0m┃\u001b[1;33m \u001b[0m\u001b[1;33m          \u001b[0m\u001b[1;33m \u001b[0m┃\n",
       "┃\u001b[1;36m \u001b[0m\u001b[1;36m📏 Trial Unit     \u001b[0m\u001b[1;36m \u001b[0m┃\u001b[1;33m \u001b[0m\u001b[1;33mWords     \u001b[0m\u001b[1;33m \u001b[0m┃\n",
       "┃\u001b[1;36m \u001b[0m\u001b[1;36m🔗 Experiment Mode\u001b[0m\u001b[1;36m \u001b[0m┃\u001b[1;33m \u001b[0m\u001b[1;33mExperiment\u001b[0m\u001b[1;33m \u001b[0m┃\n",
       "┃\u001b[1;36m \u001b[0m\u001b[1;36m🎭 Trial Boundary \u001b[0m\u001b[1;36m \u001b[0m┃\u001b[1;33m \u001b[0m\u001b[1;33mStart     \u001b[0m\u001b[1;33m \u001b[0m┃\n",
       "┃\u001b[1;36m \u001b[0m\u001b[1;36m🔬 Trial Type     \u001b[0m\u001b[1;36m \u001b[0m┃\u001b[1;33m \u001b[0m\u001b[1;33mStimulus  \u001b[0m\u001b[1;33m \u001b[0m┃\n",
       "┃\u001b[1;36m \u001b[0m\u001b[1;36m📊 Modality       \u001b[0m\u001b[1;36m \u001b[0m┃\u001b[1;33m \u001b[0m\u001b[1;33mPictures  \u001b[0m\u001b[1;33m \u001b[0m┃\n",
       "┃\u001b[1;36m \u001b[0m\u001b[1;36m⏱ Tmax            \u001b[0m\u001b[1;36m \u001b[0m┃\u001b[1;33m \u001b[0m\u001b[1;36m-0.2\u001b[0m\u001b[1;33m      \u001b[0m\u001b[1;33m \u001b[0m┃\n",
       "┃\u001b[1;36m \u001b[0m\u001b[1;36m⏳ Tmin           \u001b[0m\u001b[1;36m \u001b[0m┃\u001b[1;33m \u001b[0m\u001b[1;36m0.5\u001b[0m\u001b[1;33m       \u001b[0m\u001b[1;33m \u001b[0m┃\n",
       "┗━━━━━━━━━━━━━━━━━━━━┻━━━━━━━━━━━━┛\n"
      ]
     },
     "metadata": {},
     "output_type": "display_data"
    },
    {
     "name": "stdout",
     "output_type": "stream",
     "text": [
      "Not setting metadata\n",
      "130 matching events found\n",
      "Applying baseline correction (mode: mean)\n",
      "0 projection items activated\n",
      "Loading data for 130 events and 701 original time points ...\n",
      "0 bad epochs dropped\n"
     ]
    },
    {
     "data": {
      "text/html": [
       "<pre style=\"white-space:pre;overflow-x:auto;line-height:normal;font-family:Menlo,'DejaVu Sans Mono',consolas,'Courier New',monospace\"> <span style=\"color: #008000; text-decoration-color: #008000; font-weight: bold\">Loading for sub-</span><span style=\"color: #008000; text-decoration-color: #008000; font-weight: bold\">06</span><span style=\"color: #008000; text-decoration-color: #008000; font-weight: bold\">, ses-</span><span style=\"color: #008000; text-decoration-color: #008000; font-weight: bold\">02</span>\n",
       "</pre>\n"
      ],
      "text/plain": [
       " \u001b[1;32mLoading for sub-\u001b[0m\u001b[1;32m06\u001b[0m\u001b[1;32m, ses-\u001b[0m\u001b[1;32m02\u001b[0m\n"
      ]
     },
     "metadata": {},
     "output_type": "display_data"
    },
    {
     "data": {
      "text/html": [
       "<pre style=\"white-space:pre;overflow-x:auto;line-height:normal;font-family:Menlo,'DejaVu Sans Mono',consolas,'Courier New',monospace\"><span style=\"color: #800000; text-decoration-color: #800000\">╭────────────────────────────────╮</span>\n",
       "<span style=\"color: #800000; text-decoration-color: #800000\">│</span>  <span style=\"color: #800000; text-decoration-color: #800000; font-weight: bold\">Initializing DataLoader Class</span> <span style=\"color: #800000; text-decoration-color: #800000\">│</span>\n",
       "<span style=\"color: #800000; text-decoration-color: #800000\">╰────────────────────────────────╯</span>\n",
       "</pre>\n"
      ],
      "text/plain": [
       "\u001b[31m╭────────────────────────────────╮\u001b[0m\n",
       "\u001b[31m│\u001b[0m  \u001b[1;31mInitializing DataLoader Class\u001b[0m \u001b[31m│\u001b[0m\n",
       "\u001b[31m╰────────────────────────────────╯\u001b[0m\n"
      ]
     },
     "metadata": {},
     "output_type": "display_data"
    },
    {
     "data": {
      "text/html": [
       "<pre style=\"white-space:pre;overflow-x:auto;line-height:normal;font-family:Menlo,'DejaVu Sans Mono',consolas,'Courier New',monospace\"> <span style=\"color: #008000; text-decoration-color: #008000; font-weight: bold\">Creating EPOCHS</span>\n",
       "</pre>\n"
      ],
      "text/plain": [
       " \u001b[1;32mCreating EPOCHS\u001b[0m\n"
      ]
     },
     "metadata": {},
     "output_type": "display_data"
    },
    {
     "data": {
      "text/html": [
       "<pre style=\"white-space:pre;overflow-x:auto;line-height:normal;font-family:Menlo,'DejaVu Sans Mono',consolas,'Courier New',monospace\"><span style=\"font-style: italic\">        Extraction Criteria        </span>\n",
       "┏━━━━━━━━━━━━━━━━━━━━┳━━━━━━━━━━━━┓\n",
       "┃<span style=\"font-weight: bold\"> Parameter          </span>┃<span style=\"font-weight: bold\"> Value      </span>┃\n",
       "┣━━━━━━━━━━━━━━━━━━━━╋━━━━━━━━━━━━┫\n",
       "┃<span style=\"color: #008080; text-decoration-color: #008080; font-weight: bold\"> 🧪 Trial Mode      </span>┃<span style=\"color: #808000; text-decoration-color: #808000; font-weight: bold\">            </span>┃\n",
       "┃<span style=\"color: #008080; text-decoration-color: #008080; font-weight: bold\"> 📏 Trial Unit      </span>┃<span style=\"color: #808000; text-decoration-color: #808000; font-weight: bold\"> Words      </span>┃\n",
       "┃<span style=\"color: #008080; text-decoration-color: #008080; font-weight: bold\"> 🔗 Experiment Mode </span>┃<span style=\"color: #808000; text-decoration-color: #808000; font-weight: bold\"> Experiment </span>┃\n",
       "┃<span style=\"color: #008080; text-decoration-color: #008080; font-weight: bold\"> 🎭 Trial Boundary  </span>┃<span style=\"color: #808000; text-decoration-color: #808000; font-weight: bold\"> Start      </span>┃\n",
       "┃<span style=\"color: #008080; text-decoration-color: #008080; font-weight: bold\"> 🔬 Trial Type      </span>┃<span style=\"color: #808000; text-decoration-color: #808000; font-weight: bold\"> Stimulus   </span>┃\n",
       "┃<span style=\"color: #008080; text-decoration-color: #008080; font-weight: bold\"> 📊 Modality        </span>┃<span style=\"color: #808000; text-decoration-color: #808000; font-weight: bold\"> Pictures   </span>┃\n",
       "┃<span style=\"color: #008080; text-decoration-color: #008080; font-weight: bold\"> ⏱ Tmax             </span>┃<span style=\"color: #808000; text-decoration-color: #808000; font-weight: bold\"> </span><span style=\"color: #008080; text-decoration-color: #008080; font-weight: bold\">-0.2</span><span style=\"color: #808000; text-decoration-color: #808000; font-weight: bold\">       </span>┃\n",
       "┃<span style=\"color: #008080; text-decoration-color: #008080; font-weight: bold\"> ⏳ Tmin            </span>┃<span style=\"color: #808000; text-decoration-color: #808000; font-weight: bold\"> </span><span style=\"color: #008080; text-decoration-color: #008080; font-weight: bold\">0.5</span><span style=\"color: #808000; text-decoration-color: #808000; font-weight: bold\">        </span>┃\n",
       "┗━━━━━━━━━━━━━━━━━━━━┻━━━━━━━━━━━━┛\n",
       "</pre>\n"
      ],
      "text/plain": [
       "\u001b[3m        Extraction Criteria        \u001b[0m\n",
       "┏━━━━━━━━━━━━━━━━━━━━┳━━━━━━━━━━━━┓\n",
       "┃\u001b[1m \u001b[0m\u001b[1mParameter         \u001b[0m\u001b[1m \u001b[0m┃\u001b[1m \u001b[0m\u001b[1mValue     \u001b[0m\u001b[1m \u001b[0m┃\n",
       "┣━━━━━━━━━━━━━━━━━━━━╋━━━━━━━━━━━━┫\n",
       "┃\u001b[1;36m \u001b[0m\u001b[1;36m🧪 Trial Mode     \u001b[0m\u001b[1;36m \u001b[0m┃\u001b[1;33m \u001b[0m\u001b[1;33m          \u001b[0m\u001b[1;33m \u001b[0m┃\n",
       "┃\u001b[1;36m \u001b[0m\u001b[1;36m📏 Trial Unit     \u001b[0m\u001b[1;36m \u001b[0m┃\u001b[1;33m \u001b[0m\u001b[1;33mWords     \u001b[0m\u001b[1;33m \u001b[0m┃\n",
       "┃\u001b[1;36m \u001b[0m\u001b[1;36m🔗 Experiment Mode\u001b[0m\u001b[1;36m \u001b[0m┃\u001b[1;33m \u001b[0m\u001b[1;33mExperiment\u001b[0m\u001b[1;33m \u001b[0m┃\n",
       "┃\u001b[1;36m \u001b[0m\u001b[1;36m🎭 Trial Boundary \u001b[0m\u001b[1;36m \u001b[0m┃\u001b[1;33m \u001b[0m\u001b[1;33mStart     \u001b[0m\u001b[1;33m \u001b[0m┃\n",
       "┃\u001b[1;36m \u001b[0m\u001b[1;36m🔬 Trial Type     \u001b[0m\u001b[1;36m \u001b[0m┃\u001b[1;33m \u001b[0m\u001b[1;33mStimulus  \u001b[0m\u001b[1;33m \u001b[0m┃\n",
       "┃\u001b[1;36m \u001b[0m\u001b[1;36m📊 Modality       \u001b[0m\u001b[1;36m \u001b[0m┃\u001b[1;33m \u001b[0m\u001b[1;33mPictures  \u001b[0m\u001b[1;33m \u001b[0m┃\n",
       "┃\u001b[1;36m \u001b[0m\u001b[1;36m⏱ Tmax            \u001b[0m\u001b[1;36m \u001b[0m┃\u001b[1;33m \u001b[0m\u001b[1;36m-0.2\u001b[0m\u001b[1;33m      \u001b[0m\u001b[1;33m \u001b[0m┃\n",
       "┃\u001b[1;36m \u001b[0m\u001b[1;36m⏳ Tmin           \u001b[0m\u001b[1;36m \u001b[0m┃\u001b[1;33m \u001b[0m\u001b[1;36m0.5\u001b[0m\u001b[1;33m       \u001b[0m\u001b[1;33m \u001b[0m┃\n",
       "┗━━━━━━━━━━━━━━━━━━━━┻━━━━━━━━━━━━┛\n"
      ]
     },
     "metadata": {},
     "output_type": "display_data"
    },
    {
     "name": "stdout",
     "output_type": "stream",
     "text": [
      "Not setting metadata\n",
      "130 matching events found\n",
      "Applying baseline correction (mode: mean)\n",
      "0 projection items activated\n",
      "Loading data for 130 events and 701 original time points ...\n",
      "0 bad epochs dropped\n"
     ]
    },
    {
     "data": {
      "text/html": [
       "<pre style=\"white-space:pre;overflow-x:auto;line-height:normal;font-family:Menlo,'DejaVu Sans Mono',consolas,'Courier New',monospace\"> <span style=\"color: #008000; text-decoration-color: #008000; font-weight: bold\">Loading for sub-</span><span style=\"color: #008000; text-decoration-color: #008000; font-weight: bold\">07</span><span style=\"color: #008000; text-decoration-color: #008000; font-weight: bold\">, ses-</span><span style=\"color: #008000; text-decoration-color: #008000; font-weight: bold\">01</span>\n",
       "</pre>\n"
      ],
      "text/plain": [
       " \u001b[1;32mLoading for sub-\u001b[0m\u001b[1;32m07\u001b[0m\u001b[1;32m, ses-\u001b[0m\u001b[1;32m01\u001b[0m\n"
      ]
     },
     "metadata": {},
     "output_type": "display_data"
    },
    {
     "data": {
      "text/html": [
       "<pre style=\"white-space:pre;overflow-x:auto;line-height:normal;font-family:Menlo,'DejaVu Sans Mono',consolas,'Courier New',monospace\"><span style=\"color: #800000; text-decoration-color: #800000\">╭────────────────────────────────╮</span>\n",
       "<span style=\"color: #800000; text-decoration-color: #800000\">│</span>  <span style=\"color: #800000; text-decoration-color: #800000; font-weight: bold\">Initializing DataLoader Class</span> <span style=\"color: #800000; text-decoration-color: #800000\">│</span>\n",
       "<span style=\"color: #800000; text-decoration-color: #800000\">╰────────────────────────────────╯</span>\n",
       "</pre>\n"
      ],
      "text/plain": [
       "\u001b[31m╭────────────────────────────────╮\u001b[0m\n",
       "\u001b[31m│\u001b[0m  \u001b[1;31mInitializing DataLoader Class\u001b[0m \u001b[31m│\u001b[0m\n",
       "\u001b[31m╰────────────────────────────────╯\u001b[0m\n"
      ]
     },
     "metadata": {},
     "output_type": "display_data"
    },
    {
     "data": {
      "text/html": [
       "<pre style=\"white-space:pre;overflow-x:auto;line-height:normal;font-family:Menlo,'DejaVu Sans Mono',consolas,'Courier New',monospace\"> <span style=\"color: #008000; text-decoration-color: #008000; font-weight: bold\">Creating EPOCHS</span>\n",
       "</pre>\n"
      ],
      "text/plain": [
       " \u001b[1;32mCreating EPOCHS\u001b[0m\n"
      ]
     },
     "metadata": {},
     "output_type": "display_data"
    },
    {
     "data": {
      "text/html": [
       "<pre style=\"white-space:pre;overflow-x:auto;line-height:normal;font-family:Menlo,'DejaVu Sans Mono',consolas,'Courier New',monospace\"><span style=\"font-style: italic\">        Extraction Criteria        </span>\n",
       "┏━━━━━━━━━━━━━━━━━━━━┳━━━━━━━━━━━━┓\n",
       "┃<span style=\"font-weight: bold\"> Parameter          </span>┃<span style=\"font-weight: bold\"> Value      </span>┃\n",
       "┣━━━━━━━━━━━━━━━━━━━━╋━━━━━━━━━━━━┫\n",
       "┃<span style=\"color: #008080; text-decoration-color: #008080; font-weight: bold\"> 🧪 Trial Mode      </span>┃<span style=\"color: #808000; text-decoration-color: #808000; font-weight: bold\">            </span>┃\n",
       "┃<span style=\"color: #008080; text-decoration-color: #008080; font-weight: bold\"> 📏 Trial Unit      </span>┃<span style=\"color: #808000; text-decoration-color: #808000; font-weight: bold\"> Words      </span>┃\n",
       "┃<span style=\"color: #008080; text-decoration-color: #008080; font-weight: bold\"> 🔗 Experiment Mode </span>┃<span style=\"color: #808000; text-decoration-color: #808000; font-weight: bold\"> Experiment </span>┃\n",
       "┃<span style=\"color: #008080; text-decoration-color: #008080; font-weight: bold\"> 🎭 Trial Boundary  </span>┃<span style=\"color: #808000; text-decoration-color: #808000; font-weight: bold\"> Start      </span>┃\n",
       "┃<span style=\"color: #008080; text-decoration-color: #008080; font-weight: bold\"> 🔬 Trial Type      </span>┃<span style=\"color: #808000; text-decoration-color: #808000; font-weight: bold\"> Stimulus   </span>┃\n",
       "┃<span style=\"color: #008080; text-decoration-color: #008080; font-weight: bold\"> 📊 Modality        </span>┃<span style=\"color: #808000; text-decoration-color: #808000; font-weight: bold\"> Pictures   </span>┃\n",
       "┃<span style=\"color: #008080; text-decoration-color: #008080; font-weight: bold\"> ⏱ Tmax             </span>┃<span style=\"color: #808000; text-decoration-color: #808000; font-weight: bold\"> </span><span style=\"color: #008080; text-decoration-color: #008080; font-weight: bold\">-0.2</span><span style=\"color: #808000; text-decoration-color: #808000; font-weight: bold\">       </span>┃\n",
       "┃<span style=\"color: #008080; text-decoration-color: #008080; font-weight: bold\"> ⏳ Tmin            </span>┃<span style=\"color: #808000; text-decoration-color: #808000; font-weight: bold\"> </span><span style=\"color: #008080; text-decoration-color: #008080; font-weight: bold\">0.5</span><span style=\"color: #808000; text-decoration-color: #808000; font-weight: bold\">        </span>┃\n",
       "┗━━━━━━━━━━━━━━━━━━━━┻━━━━━━━━━━━━┛\n",
       "</pre>\n"
      ],
      "text/plain": [
       "\u001b[3m        Extraction Criteria        \u001b[0m\n",
       "┏━━━━━━━━━━━━━━━━━━━━┳━━━━━━━━━━━━┓\n",
       "┃\u001b[1m \u001b[0m\u001b[1mParameter         \u001b[0m\u001b[1m \u001b[0m┃\u001b[1m \u001b[0m\u001b[1mValue     \u001b[0m\u001b[1m \u001b[0m┃\n",
       "┣━━━━━━━━━━━━━━━━━━━━╋━━━━━━━━━━━━┫\n",
       "┃\u001b[1;36m \u001b[0m\u001b[1;36m🧪 Trial Mode     \u001b[0m\u001b[1;36m \u001b[0m┃\u001b[1;33m \u001b[0m\u001b[1;33m          \u001b[0m\u001b[1;33m \u001b[0m┃\n",
       "┃\u001b[1;36m \u001b[0m\u001b[1;36m📏 Trial Unit     \u001b[0m\u001b[1;36m \u001b[0m┃\u001b[1;33m \u001b[0m\u001b[1;33mWords     \u001b[0m\u001b[1;33m \u001b[0m┃\n",
       "┃\u001b[1;36m \u001b[0m\u001b[1;36m🔗 Experiment Mode\u001b[0m\u001b[1;36m \u001b[0m┃\u001b[1;33m \u001b[0m\u001b[1;33mExperiment\u001b[0m\u001b[1;33m \u001b[0m┃\n",
       "┃\u001b[1;36m \u001b[0m\u001b[1;36m🎭 Trial Boundary \u001b[0m\u001b[1;36m \u001b[0m┃\u001b[1;33m \u001b[0m\u001b[1;33mStart     \u001b[0m\u001b[1;33m \u001b[0m┃\n",
       "┃\u001b[1;36m \u001b[0m\u001b[1;36m🔬 Trial Type     \u001b[0m\u001b[1;36m \u001b[0m┃\u001b[1;33m \u001b[0m\u001b[1;33mStimulus  \u001b[0m\u001b[1;33m \u001b[0m┃\n",
       "┃\u001b[1;36m \u001b[0m\u001b[1;36m📊 Modality       \u001b[0m\u001b[1;36m \u001b[0m┃\u001b[1;33m \u001b[0m\u001b[1;33mPictures  \u001b[0m\u001b[1;33m \u001b[0m┃\n",
       "┃\u001b[1;36m \u001b[0m\u001b[1;36m⏱ Tmax            \u001b[0m\u001b[1;36m \u001b[0m┃\u001b[1;33m \u001b[0m\u001b[1;36m-0.2\u001b[0m\u001b[1;33m      \u001b[0m\u001b[1;33m \u001b[0m┃\n",
       "┃\u001b[1;36m \u001b[0m\u001b[1;36m⏳ Tmin           \u001b[0m\u001b[1;36m \u001b[0m┃\u001b[1;33m \u001b[0m\u001b[1;36m0.5\u001b[0m\u001b[1;33m       \u001b[0m\u001b[1;33m \u001b[0m┃\n",
       "┗━━━━━━━━━━━━━━━━━━━━┻━━━━━━━━━━━━┛\n"
      ]
     },
     "metadata": {},
     "output_type": "display_data"
    },
    {
     "name": "stdout",
     "output_type": "stream",
     "text": [
      "Not setting metadata\n",
      "130 matching events found\n",
      "Applying baseline correction (mode: mean)\n",
      "0 projection items activated\n",
      "Loading data for 130 events and 701 original time points ...\n",
      "0 bad epochs dropped\n"
     ]
    },
    {
     "data": {
      "text/html": [
       "<pre style=\"white-space:pre;overflow-x:auto;line-height:normal;font-family:Menlo,'DejaVu Sans Mono',consolas,'Courier New',monospace\"> <span style=\"color: #008000; text-decoration-color: #008000; font-weight: bold\">Loading for sub-</span><span style=\"color: #008000; text-decoration-color: #008000; font-weight: bold\">08</span><span style=\"color: #008000; text-decoration-color: #008000; font-weight: bold\">, ses-</span><span style=\"color: #008000; text-decoration-color: #008000; font-weight: bold\">01</span>\n",
       "</pre>\n"
      ],
      "text/plain": [
       " \u001b[1;32mLoading for sub-\u001b[0m\u001b[1;32m08\u001b[0m\u001b[1;32m, ses-\u001b[0m\u001b[1;32m01\u001b[0m\n"
      ]
     },
     "metadata": {},
     "output_type": "display_data"
    },
    {
     "data": {
      "text/html": [
       "<pre style=\"white-space:pre;overflow-x:auto;line-height:normal;font-family:Menlo,'DejaVu Sans Mono',consolas,'Courier New',monospace\"><span style=\"color: #800000; text-decoration-color: #800000\">╭────────────────────────────────╮</span>\n",
       "<span style=\"color: #800000; text-decoration-color: #800000\">│</span>  <span style=\"color: #800000; text-decoration-color: #800000; font-weight: bold\">Initializing DataLoader Class</span> <span style=\"color: #800000; text-decoration-color: #800000\">│</span>\n",
       "<span style=\"color: #800000; text-decoration-color: #800000\">╰────────────────────────────────╯</span>\n",
       "</pre>\n"
      ],
      "text/plain": [
       "\u001b[31m╭────────────────────────────────╮\u001b[0m\n",
       "\u001b[31m│\u001b[0m  \u001b[1;31mInitializing DataLoader Class\u001b[0m \u001b[31m│\u001b[0m\n",
       "\u001b[31m╰────────────────────────────────╯\u001b[0m\n"
      ]
     },
     "metadata": {},
     "output_type": "display_data"
    },
    {
     "data": {
      "text/html": [
       "<pre style=\"white-space:pre;overflow-x:auto;line-height:normal;font-family:Menlo,'DejaVu Sans Mono',consolas,'Courier New',monospace\"> <span style=\"color: #008000; text-decoration-color: #008000; font-weight: bold\">Creating EPOCHS</span>\n",
       "</pre>\n"
      ],
      "text/plain": [
       " \u001b[1;32mCreating EPOCHS\u001b[0m\n"
      ]
     },
     "metadata": {},
     "output_type": "display_data"
    },
    {
     "data": {
      "text/html": [
       "<pre style=\"white-space:pre;overflow-x:auto;line-height:normal;font-family:Menlo,'DejaVu Sans Mono',consolas,'Courier New',monospace\"><span style=\"font-style: italic\">        Extraction Criteria        </span>\n",
       "┏━━━━━━━━━━━━━━━━━━━━┳━━━━━━━━━━━━┓\n",
       "┃<span style=\"font-weight: bold\"> Parameter          </span>┃<span style=\"font-weight: bold\"> Value      </span>┃\n",
       "┣━━━━━━━━━━━━━━━━━━━━╋━━━━━━━━━━━━┫\n",
       "┃<span style=\"color: #008080; text-decoration-color: #008080; font-weight: bold\"> 🧪 Trial Mode      </span>┃<span style=\"color: #808000; text-decoration-color: #808000; font-weight: bold\">            </span>┃\n",
       "┃<span style=\"color: #008080; text-decoration-color: #008080; font-weight: bold\"> 📏 Trial Unit      </span>┃<span style=\"color: #808000; text-decoration-color: #808000; font-weight: bold\"> Words      </span>┃\n",
       "┃<span style=\"color: #008080; text-decoration-color: #008080; font-weight: bold\"> 🔗 Experiment Mode </span>┃<span style=\"color: #808000; text-decoration-color: #808000; font-weight: bold\"> Experiment </span>┃\n",
       "┃<span style=\"color: #008080; text-decoration-color: #008080; font-weight: bold\"> 🎭 Trial Boundary  </span>┃<span style=\"color: #808000; text-decoration-color: #808000; font-weight: bold\"> Start      </span>┃\n",
       "┃<span style=\"color: #008080; text-decoration-color: #008080; font-weight: bold\"> 🔬 Trial Type      </span>┃<span style=\"color: #808000; text-decoration-color: #808000; font-weight: bold\"> Stimulus   </span>┃\n",
       "┃<span style=\"color: #008080; text-decoration-color: #008080; font-weight: bold\"> 📊 Modality        </span>┃<span style=\"color: #808000; text-decoration-color: #808000; font-weight: bold\"> Pictures   </span>┃\n",
       "┃<span style=\"color: #008080; text-decoration-color: #008080; font-weight: bold\"> ⏱ Tmax             </span>┃<span style=\"color: #808000; text-decoration-color: #808000; font-weight: bold\"> </span><span style=\"color: #008080; text-decoration-color: #008080; font-weight: bold\">-0.2</span><span style=\"color: #808000; text-decoration-color: #808000; font-weight: bold\">       </span>┃\n",
       "┃<span style=\"color: #008080; text-decoration-color: #008080; font-weight: bold\"> ⏳ Tmin            </span>┃<span style=\"color: #808000; text-decoration-color: #808000; font-weight: bold\"> </span><span style=\"color: #008080; text-decoration-color: #008080; font-weight: bold\">0.5</span><span style=\"color: #808000; text-decoration-color: #808000; font-weight: bold\">        </span>┃\n",
       "┗━━━━━━━━━━━━━━━━━━━━┻━━━━━━━━━━━━┛\n",
       "</pre>\n"
      ],
      "text/plain": [
       "\u001b[3m        Extraction Criteria        \u001b[0m\n",
       "┏━━━━━━━━━━━━━━━━━━━━┳━━━━━━━━━━━━┓\n",
       "┃\u001b[1m \u001b[0m\u001b[1mParameter         \u001b[0m\u001b[1m \u001b[0m┃\u001b[1m \u001b[0m\u001b[1mValue     \u001b[0m\u001b[1m \u001b[0m┃\n",
       "┣━━━━━━━━━━━━━━━━━━━━╋━━━━━━━━━━━━┫\n",
       "┃\u001b[1;36m \u001b[0m\u001b[1;36m🧪 Trial Mode     \u001b[0m\u001b[1;36m \u001b[0m┃\u001b[1;33m \u001b[0m\u001b[1;33m          \u001b[0m\u001b[1;33m \u001b[0m┃\n",
       "┃\u001b[1;36m \u001b[0m\u001b[1;36m📏 Trial Unit     \u001b[0m\u001b[1;36m \u001b[0m┃\u001b[1;33m \u001b[0m\u001b[1;33mWords     \u001b[0m\u001b[1;33m \u001b[0m┃\n",
       "┃\u001b[1;36m \u001b[0m\u001b[1;36m🔗 Experiment Mode\u001b[0m\u001b[1;36m \u001b[0m┃\u001b[1;33m \u001b[0m\u001b[1;33mExperiment\u001b[0m\u001b[1;33m \u001b[0m┃\n",
       "┃\u001b[1;36m \u001b[0m\u001b[1;36m🎭 Trial Boundary \u001b[0m\u001b[1;36m \u001b[0m┃\u001b[1;33m \u001b[0m\u001b[1;33mStart     \u001b[0m\u001b[1;33m \u001b[0m┃\n",
       "┃\u001b[1;36m \u001b[0m\u001b[1;36m🔬 Trial Type     \u001b[0m\u001b[1;36m \u001b[0m┃\u001b[1;33m \u001b[0m\u001b[1;33mStimulus  \u001b[0m\u001b[1;33m \u001b[0m┃\n",
       "┃\u001b[1;36m \u001b[0m\u001b[1;36m📊 Modality       \u001b[0m\u001b[1;36m \u001b[0m┃\u001b[1;33m \u001b[0m\u001b[1;33mPictures  \u001b[0m\u001b[1;33m \u001b[0m┃\n",
       "┃\u001b[1;36m \u001b[0m\u001b[1;36m⏱ Tmax            \u001b[0m\u001b[1;36m \u001b[0m┃\u001b[1;33m \u001b[0m\u001b[1;36m-0.2\u001b[0m\u001b[1;33m      \u001b[0m\u001b[1;33m \u001b[0m┃\n",
       "┃\u001b[1;36m \u001b[0m\u001b[1;36m⏳ Tmin           \u001b[0m\u001b[1;36m \u001b[0m┃\u001b[1;33m \u001b[0m\u001b[1;36m0.5\u001b[0m\u001b[1;33m       \u001b[0m\u001b[1;33m \u001b[0m┃\n",
       "┗━━━━━━━━━━━━━━━━━━━━┻━━━━━━━━━━━━┛\n"
      ]
     },
     "metadata": {},
     "output_type": "display_data"
    },
    {
     "name": "stdout",
     "output_type": "stream",
     "text": [
      "Not setting metadata\n",
      "130 matching events found\n",
      "Applying baseline correction (mode: mean)\n",
      "0 projection items activated\n",
      "Loading data for 130 events and 701 original time points ...\n",
      "0 bad epochs dropped\n"
     ]
    },
    {
     "data": {
      "text/html": [
       "<pre style=\"white-space:pre;overflow-x:auto;line-height:normal;font-family:Menlo,'DejaVu Sans Mono',consolas,'Courier New',monospace\"> <span style=\"color: #008000; text-decoration-color: #008000; font-weight: bold\">Loading for sub-</span><span style=\"color: #008000; text-decoration-color: #008000; font-weight: bold\">09</span><span style=\"color: #008000; text-decoration-color: #008000; font-weight: bold\">, ses-</span><span style=\"color: #008000; text-decoration-color: #008000; font-weight: bold\">01</span>\n",
       "</pre>\n"
      ],
      "text/plain": [
       " \u001b[1;32mLoading for sub-\u001b[0m\u001b[1;32m09\u001b[0m\u001b[1;32m, ses-\u001b[0m\u001b[1;32m01\u001b[0m\n"
      ]
     },
     "metadata": {},
     "output_type": "display_data"
    },
    {
     "data": {
      "text/html": [
       "<pre style=\"white-space:pre;overflow-x:auto;line-height:normal;font-family:Menlo,'DejaVu Sans Mono',consolas,'Courier New',monospace\"><span style=\"color: #800000; text-decoration-color: #800000\">╭────────────────────────────────╮</span>\n",
       "<span style=\"color: #800000; text-decoration-color: #800000\">│</span>  <span style=\"color: #800000; text-decoration-color: #800000; font-weight: bold\">Initializing DataLoader Class</span> <span style=\"color: #800000; text-decoration-color: #800000\">│</span>\n",
       "<span style=\"color: #800000; text-decoration-color: #800000\">╰────────────────────────────────╯</span>\n",
       "</pre>\n"
      ],
      "text/plain": [
       "\u001b[31m╭────────────────────────────────╮\u001b[0m\n",
       "\u001b[31m│\u001b[0m  \u001b[1;31mInitializing DataLoader Class\u001b[0m \u001b[31m│\u001b[0m\n",
       "\u001b[31m╰────────────────────────────────╯\u001b[0m\n"
      ]
     },
     "metadata": {},
     "output_type": "display_data"
    },
    {
     "data": {
      "text/html": [
       "<pre style=\"white-space:pre;overflow-x:auto;line-height:normal;font-family:Menlo,'DejaVu Sans Mono',consolas,'Courier New',monospace\"> <span style=\"color: #008000; text-decoration-color: #008000; font-weight: bold\">Creating EPOCHS</span>\n",
       "</pre>\n"
      ],
      "text/plain": [
       " \u001b[1;32mCreating EPOCHS\u001b[0m\n"
      ]
     },
     "metadata": {},
     "output_type": "display_data"
    },
    {
     "data": {
      "text/html": [
       "<pre style=\"white-space:pre;overflow-x:auto;line-height:normal;font-family:Menlo,'DejaVu Sans Mono',consolas,'Courier New',monospace\"><span style=\"font-style: italic\">        Extraction Criteria        </span>\n",
       "┏━━━━━━━━━━━━━━━━━━━━┳━━━━━━━━━━━━┓\n",
       "┃<span style=\"font-weight: bold\"> Parameter          </span>┃<span style=\"font-weight: bold\"> Value      </span>┃\n",
       "┣━━━━━━━━━━━━━━━━━━━━╋━━━━━━━━━━━━┫\n",
       "┃<span style=\"color: #008080; text-decoration-color: #008080; font-weight: bold\"> 🧪 Trial Mode      </span>┃<span style=\"color: #808000; text-decoration-color: #808000; font-weight: bold\">            </span>┃\n",
       "┃<span style=\"color: #008080; text-decoration-color: #008080; font-weight: bold\"> 📏 Trial Unit      </span>┃<span style=\"color: #808000; text-decoration-color: #808000; font-weight: bold\"> Words      </span>┃\n",
       "┃<span style=\"color: #008080; text-decoration-color: #008080; font-weight: bold\"> 🔗 Experiment Mode </span>┃<span style=\"color: #808000; text-decoration-color: #808000; font-weight: bold\"> Experiment </span>┃\n",
       "┃<span style=\"color: #008080; text-decoration-color: #008080; font-weight: bold\"> 🎭 Trial Boundary  </span>┃<span style=\"color: #808000; text-decoration-color: #808000; font-weight: bold\"> Start      </span>┃\n",
       "┃<span style=\"color: #008080; text-decoration-color: #008080; font-weight: bold\"> 🔬 Trial Type      </span>┃<span style=\"color: #808000; text-decoration-color: #808000; font-weight: bold\"> Stimulus   </span>┃\n",
       "┃<span style=\"color: #008080; text-decoration-color: #008080; font-weight: bold\"> 📊 Modality        </span>┃<span style=\"color: #808000; text-decoration-color: #808000; font-weight: bold\"> Pictures   </span>┃\n",
       "┃<span style=\"color: #008080; text-decoration-color: #008080; font-weight: bold\"> ⏱ Tmax             </span>┃<span style=\"color: #808000; text-decoration-color: #808000; font-weight: bold\"> </span><span style=\"color: #008080; text-decoration-color: #008080; font-weight: bold\">-0.2</span><span style=\"color: #808000; text-decoration-color: #808000; font-weight: bold\">       </span>┃\n",
       "┃<span style=\"color: #008080; text-decoration-color: #008080; font-weight: bold\"> ⏳ Tmin            </span>┃<span style=\"color: #808000; text-decoration-color: #808000; font-weight: bold\"> </span><span style=\"color: #008080; text-decoration-color: #008080; font-weight: bold\">0.5</span><span style=\"color: #808000; text-decoration-color: #808000; font-weight: bold\">        </span>┃\n",
       "┗━━━━━━━━━━━━━━━━━━━━┻━━━━━━━━━━━━┛\n",
       "</pre>\n"
      ],
      "text/plain": [
       "\u001b[3m        Extraction Criteria        \u001b[0m\n",
       "┏━━━━━━━━━━━━━━━━━━━━┳━━━━━━━━━━━━┓\n",
       "┃\u001b[1m \u001b[0m\u001b[1mParameter         \u001b[0m\u001b[1m \u001b[0m┃\u001b[1m \u001b[0m\u001b[1mValue     \u001b[0m\u001b[1m \u001b[0m┃\n",
       "┣━━━━━━━━━━━━━━━━━━━━╋━━━━━━━━━━━━┫\n",
       "┃\u001b[1;36m \u001b[0m\u001b[1;36m🧪 Trial Mode     \u001b[0m\u001b[1;36m \u001b[0m┃\u001b[1;33m \u001b[0m\u001b[1;33m          \u001b[0m\u001b[1;33m \u001b[0m┃\n",
       "┃\u001b[1;36m \u001b[0m\u001b[1;36m📏 Trial Unit     \u001b[0m\u001b[1;36m \u001b[0m┃\u001b[1;33m \u001b[0m\u001b[1;33mWords     \u001b[0m\u001b[1;33m \u001b[0m┃\n",
       "┃\u001b[1;36m \u001b[0m\u001b[1;36m🔗 Experiment Mode\u001b[0m\u001b[1;36m \u001b[0m┃\u001b[1;33m \u001b[0m\u001b[1;33mExperiment\u001b[0m\u001b[1;33m \u001b[0m┃\n",
       "┃\u001b[1;36m \u001b[0m\u001b[1;36m🎭 Trial Boundary \u001b[0m\u001b[1;36m \u001b[0m┃\u001b[1;33m \u001b[0m\u001b[1;33mStart     \u001b[0m\u001b[1;33m \u001b[0m┃\n",
       "┃\u001b[1;36m \u001b[0m\u001b[1;36m🔬 Trial Type     \u001b[0m\u001b[1;36m \u001b[0m┃\u001b[1;33m \u001b[0m\u001b[1;33mStimulus  \u001b[0m\u001b[1;33m \u001b[0m┃\n",
       "┃\u001b[1;36m \u001b[0m\u001b[1;36m📊 Modality       \u001b[0m\u001b[1;36m \u001b[0m┃\u001b[1;33m \u001b[0m\u001b[1;33mPictures  \u001b[0m\u001b[1;33m \u001b[0m┃\n",
       "┃\u001b[1;36m \u001b[0m\u001b[1;36m⏱ Tmax            \u001b[0m\u001b[1;36m \u001b[0m┃\u001b[1;33m \u001b[0m\u001b[1;36m-0.2\u001b[0m\u001b[1;33m      \u001b[0m\u001b[1;33m \u001b[0m┃\n",
       "┃\u001b[1;36m \u001b[0m\u001b[1;36m⏳ Tmin           \u001b[0m\u001b[1;36m \u001b[0m┃\u001b[1;33m \u001b[0m\u001b[1;36m0.5\u001b[0m\u001b[1;33m       \u001b[0m\u001b[1;33m \u001b[0m┃\n",
       "┗━━━━━━━━━━━━━━━━━━━━┻━━━━━━━━━━━━┛\n"
      ]
     },
     "metadata": {},
     "output_type": "display_data"
    },
    {
     "name": "stdout",
     "output_type": "stream",
     "text": [
      "Not setting metadata\n",
      "130 matching events found\n",
      "Applying baseline correction (mode: mean)\n",
      "0 projection items activated\n",
      "Loading data for 130 events and 701 original time points ...\n",
      "0 bad epochs dropped\n"
     ]
    },
    {
     "data": {
      "text/html": [
       "<pre style=\"white-space:pre;overflow-x:auto;line-height:normal;font-family:Menlo,'DejaVu Sans Mono',consolas,'Courier New',monospace\"> <span style=\"color: #008000; text-decoration-color: #008000; font-weight: bold\">Loading for sub-</span><span style=\"color: #008000; text-decoration-color: #008000; font-weight: bold\">09</span><span style=\"color: #008000; text-decoration-color: #008000; font-weight: bold\">, ses-</span><span style=\"color: #008000; text-decoration-color: #008000; font-weight: bold\">02</span>\n",
       "</pre>\n"
      ],
      "text/plain": [
       " \u001b[1;32mLoading for sub-\u001b[0m\u001b[1;32m09\u001b[0m\u001b[1;32m, ses-\u001b[0m\u001b[1;32m02\u001b[0m\n"
      ]
     },
     "metadata": {},
     "output_type": "display_data"
    },
    {
     "data": {
      "text/html": [
       "<pre style=\"white-space:pre;overflow-x:auto;line-height:normal;font-family:Menlo,'DejaVu Sans Mono',consolas,'Courier New',monospace\"><span style=\"color: #800000; text-decoration-color: #800000\">╭────────────────────────────────╮</span>\n",
       "<span style=\"color: #800000; text-decoration-color: #800000\">│</span>  <span style=\"color: #800000; text-decoration-color: #800000; font-weight: bold\">Initializing DataLoader Class</span> <span style=\"color: #800000; text-decoration-color: #800000\">│</span>\n",
       "<span style=\"color: #800000; text-decoration-color: #800000\">╰────────────────────────────────╯</span>\n",
       "</pre>\n"
      ],
      "text/plain": [
       "\u001b[31m╭────────────────────────────────╮\u001b[0m\n",
       "\u001b[31m│\u001b[0m  \u001b[1;31mInitializing DataLoader Class\u001b[0m \u001b[31m│\u001b[0m\n",
       "\u001b[31m╰────────────────────────────────╯\u001b[0m\n"
      ]
     },
     "metadata": {},
     "output_type": "display_data"
    },
    {
     "data": {
      "text/html": [
       "<pre style=\"white-space:pre;overflow-x:auto;line-height:normal;font-family:Menlo,'DejaVu Sans Mono',consolas,'Courier New',monospace\"> <span style=\"color: #008000; text-decoration-color: #008000; font-weight: bold\">Creating EPOCHS</span>\n",
       "</pre>\n"
      ],
      "text/plain": [
       " \u001b[1;32mCreating EPOCHS\u001b[0m\n"
      ]
     },
     "metadata": {},
     "output_type": "display_data"
    },
    {
     "data": {
      "text/html": [
       "<pre style=\"white-space:pre;overflow-x:auto;line-height:normal;font-family:Menlo,'DejaVu Sans Mono',consolas,'Courier New',monospace\"><span style=\"font-style: italic\">        Extraction Criteria        </span>\n",
       "┏━━━━━━━━━━━━━━━━━━━━┳━━━━━━━━━━━━┓\n",
       "┃<span style=\"font-weight: bold\"> Parameter          </span>┃<span style=\"font-weight: bold\"> Value      </span>┃\n",
       "┣━━━━━━━━━━━━━━━━━━━━╋━━━━━━━━━━━━┫\n",
       "┃<span style=\"color: #008080; text-decoration-color: #008080; font-weight: bold\"> 🧪 Trial Mode      </span>┃<span style=\"color: #808000; text-decoration-color: #808000; font-weight: bold\">            </span>┃\n",
       "┃<span style=\"color: #008080; text-decoration-color: #008080; font-weight: bold\"> 📏 Trial Unit      </span>┃<span style=\"color: #808000; text-decoration-color: #808000; font-weight: bold\"> Words      </span>┃\n",
       "┃<span style=\"color: #008080; text-decoration-color: #008080; font-weight: bold\"> 🔗 Experiment Mode </span>┃<span style=\"color: #808000; text-decoration-color: #808000; font-weight: bold\"> Experiment </span>┃\n",
       "┃<span style=\"color: #008080; text-decoration-color: #008080; font-weight: bold\"> 🎭 Trial Boundary  </span>┃<span style=\"color: #808000; text-decoration-color: #808000; font-weight: bold\"> Start      </span>┃\n",
       "┃<span style=\"color: #008080; text-decoration-color: #008080; font-weight: bold\"> 🔬 Trial Type      </span>┃<span style=\"color: #808000; text-decoration-color: #808000; font-weight: bold\"> Stimulus   </span>┃\n",
       "┃<span style=\"color: #008080; text-decoration-color: #008080; font-weight: bold\"> 📊 Modality        </span>┃<span style=\"color: #808000; text-decoration-color: #808000; font-weight: bold\"> Pictures   </span>┃\n",
       "┃<span style=\"color: #008080; text-decoration-color: #008080; font-weight: bold\"> ⏱ Tmax             </span>┃<span style=\"color: #808000; text-decoration-color: #808000; font-weight: bold\"> </span><span style=\"color: #008080; text-decoration-color: #008080; font-weight: bold\">-0.2</span><span style=\"color: #808000; text-decoration-color: #808000; font-weight: bold\">       </span>┃\n",
       "┃<span style=\"color: #008080; text-decoration-color: #008080; font-weight: bold\"> ⏳ Tmin            </span>┃<span style=\"color: #808000; text-decoration-color: #808000; font-weight: bold\"> </span><span style=\"color: #008080; text-decoration-color: #008080; font-weight: bold\">0.5</span><span style=\"color: #808000; text-decoration-color: #808000; font-weight: bold\">        </span>┃\n",
       "┗━━━━━━━━━━━━━━━━━━━━┻━━━━━━━━━━━━┛\n",
       "</pre>\n"
      ],
      "text/plain": [
       "\u001b[3m        Extraction Criteria        \u001b[0m\n",
       "┏━━━━━━━━━━━━━━━━━━━━┳━━━━━━━━━━━━┓\n",
       "┃\u001b[1m \u001b[0m\u001b[1mParameter         \u001b[0m\u001b[1m \u001b[0m┃\u001b[1m \u001b[0m\u001b[1mValue     \u001b[0m\u001b[1m \u001b[0m┃\n",
       "┣━━━━━━━━━━━━━━━━━━━━╋━━━━━━━━━━━━┫\n",
       "┃\u001b[1;36m \u001b[0m\u001b[1;36m🧪 Trial Mode     \u001b[0m\u001b[1;36m \u001b[0m┃\u001b[1;33m \u001b[0m\u001b[1;33m          \u001b[0m\u001b[1;33m \u001b[0m┃\n",
       "┃\u001b[1;36m \u001b[0m\u001b[1;36m📏 Trial Unit     \u001b[0m\u001b[1;36m \u001b[0m┃\u001b[1;33m \u001b[0m\u001b[1;33mWords     \u001b[0m\u001b[1;33m \u001b[0m┃\n",
       "┃\u001b[1;36m \u001b[0m\u001b[1;36m🔗 Experiment Mode\u001b[0m\u001b[1;36m \u001b[0m┃\u001b[1;33m \u001b[0m\u001b[1;33mExperiment\u001b[0m\u001b[1;33m \u001b[0m┃\n",
       "┃\u001b[1;36m \u001b[0m\u001b[1;36m🎭 Trial Boundary \u001b[0m\u001b[1;36m \u001b[0m┃\u001b[1;33m \u001b[0m\u001b[1;33mStart     \u001b[0m\u001b[1;33m \u001b[0m┃\n",
       "┃\u001b[1;36m \u001b[0m\u001b[1;36m🔬 Trial Type     \u001b[0m\u001b[1;36m \u001b[0m┃\u001b[1;33m \u001b[0m\u001b[1;33mStimulus  \u001b[0m\u001b[1;33m \u001b[0m┃\n",
       "┃\u001b[1;36m \u001b[0m\u001b[1;36m📊 Modality       \u001b[0m\u001b[1;36m \u001b[0m┃\u001b[1;33m \u001b[0m\u001b[1;33mPictures  \u001b[0m\u001b[1;33m \u001b[0m┃\n",
       "┃\u001b[1;36m \u001b[0m\u001b[1;36m⏱ Tmax            \u001b[0m\u001b[1;36m \u001b[0m┃\u001b[1;33m \u001b[0m\u001b[1;36m-0.2\u001b[0m\u001b[1;33m      \u001b[0m\u001b[1;33m \u001b[0m┃\n",
       "┃\u001b[1;36m \u001b[0m\u001b[1;36m⏳ Tmin           \u001b[0m\u001b[1;36m \u001b[0m┃\u001b[1;33m \u001b[0m\u001b[1;36m0.5\u001b[0m\u001b[1;33m       \u001b[0m\u001b[1;33m \u001b[0m┃\n",
       "┗━━━━━━━━━━━━━━━━━━━━┻━━━━━━━━━━━━┛\n"
      ]
     },
     "metadata": {},
     "output_type": "display_data"
    },
    {
     "name": "stdout",
     "output_type": "stream",
     "text": [
      "Not setting metadata\n",
      "130 matching events found\n",
      "Applying baseline correction (mode: mean)\n",
      "0 projection items activated\n",
      "Loading data for 130 events and 701 original time points ...\n",
      "0 bad epochs dropped\n"
     ]
    },
    {
     "data": {
      "text/html": [
       "<pre style=\"white-space:pre;overflow-x:auto;line-height:normal;font-family:Menlo,'DejaVu Sans Mono',consolas,'Courier New',monospace\"> <span style=\"color: #008000; text-decoration-color: #008000; font-weight: bold\">Loading for sub-</span><span style=\"color: #008000; text-decoration-color: #008000; font-weight: bold\">10</span><span style=\"color: #008000; text-decoration-color: #008000; font-weight: bold\">, ses-</span><span style=\"color: #008000; text-decoration-color: #008000; font-weight: bold\">01</span>\n",
       "</pre>\n"
      ],
      "text/plain": [
       " \u001b[1;32mLoading for sub-\u001b[0m\u001b[1;32m10\u001b[0m\u001b[1;32m, ses-\u001b[0m\u001b[1;32m01\u001b[0m\n"
      ]
     },
     "metadata": {},
     "output_type": "display_data"
    },
    {
     "data": {
      "text/html": [
       "<pre style=\"white-space:pre;overflow-x:auto;line-height:normal;font-family:Menlo,'DejaVu Sans Mono',consolas,'Courier New',monospace\"><span style=\"color: #800000; text-decoration-color: #800000\">╭────────────────────────────────╮</span>\n",
       "<span style=\"color: #800000; text-decoration-color: #800000\">│</span>  <span style=\"color: #800000; text-decoration-color: #800000; font-weight: bold\">Initializing DataLoader Class</span> <span style=\"color: #800000; text-decoration-color: #800000\">│</span>\n",
       "<span style=\"color: #800000; text-decoration-color: #800000\">╰────────────────────────────────╯</span>\n",
       "</pre>\n"
      ],
      "text/plain": [
       "\u001b[31m╭────────────────────────────────╮\u001b[0m\n",
       "\u001b[31m│\u001b[0m  \u001b[1;31mInitializing DataLoader Class\u001b[0m \u001b[31m│\u001b[0m\n",
       "\u001b[31m╰────────────────────────────────╯\u001b[0m\n"
      ]
     },
     "metadata": {},
     "output_type": "display_data"
    },
    {
     "data": {
      "text/html": [
       "<pre style=\"white-space:pre;overflow-x:auto;line-height:normal;font-family:Menlo,'DejaVu Sans Mono',consolas,'Courier New',monospace\"> <span style=\"color: #008000; text-decoration-color: #008000; font-weight: bold\">Creating EPOCHS</span>\n",
       "</pre>\n"
      ],
      "text/plain": [
       " \u001b[1;32mCreating EPOCHS\u001b[0m\n"
      ]
     },
     "metadata": {},
     "output_type": "display_data"
    },
    {
     "data": {
      "text/html": [
       "<pre style=\"white-space:pre;overflow-x:auto;line-height:normal;font-family:Menlo,'DejaVu Sans Mono',consolas,'Courier New',monospace\"><span style=\"font-style: italic\">        Extraction Criteria        </span>\n",
       "┏━━━━━━━━━━━━━━━━━━━━┳━━━━━━━━━━━━┓\n",
       "┃<span style=\"font-weight: bold\"> Parameter          </span>┃<span style=\"font-weight: bold\"> Value      </span>┃\n",
       "┣━━━━━━━━━━━━━━━━━━━━╋━━━━━━━━━━━━┫\n",
       "┃<span style=\"color: #008080; text-decoration-color: #008080; font-weight: bold\"> 🧪 Trial Mode      </span>┃<span style=\"color: #808000; text-decoration-color: #808000; font-weight: bold\">            </span>┃\n",
       "┃<span style=\"color: #008080; text-decoration-color: #008080; font-weight: bold\"> 📏 Trial Unit      </span>┃<span style=\"color: #808000; text-decoration-color: #808000; font-weight: bold\"> Words      </span>┃\n",
       "┃<span style=\"color: #008080; text-decoration-color: #008080; font-weight: bold\"> 🔗 Experiment Mode </span>┃<span style=\"color: #808000; text-decoration-color: #808000; font-weight: bold\"> Experiment </span>┃\n",
       "┃<span style=\"color: #008080; text-decoration-color: #008080; font-weight: bold\"> 🎭 Trial Boundary  </span>┃<span style=\"color: #808000; text-decoration-color: #808000; font-weight: bold\"> Start      </span>┃\n",
       "┃<span style=\"color: #008080; text-decoration-color: #008080; font-weight: bold\"> 🔬 Trial Type      </span>┃<span style=\"color: #808000; text-decoration-color: #808000; font-weight: bold\"> Stimulus   </span>┃\n",
       "┃<span style=\"color: #008080; text-decoration-color: #008080; font-weight: bold\"> 📊 Modality        </span>┃<span style=\"color: #808000; text-decoration-color: #808000; font-weight: bold\"> Pictures   </span>┃\n",
       "┃<span style=\"color: #008080; text-decoration-color: #008080; font-weight: bold\"> ⏱ Tmax             </span>┃<span style=\"color: #808000; text-decoration-color: #808000; font-weight: bold\"> </span><span style=\"color: #008080; text-decoration-color: #008080; font-weight: bold\">-0.2</span><span style=\"color: #808000; text-decoration-color: #808000; font-weight: bold\">       </span>┃\n",
       "┃<span style=\"color: #008080; text-decoration-color: #008080; font-weight: bold\"> ⏳ Tmin            </span>┃<span style=\"color: #808000; text-decoration-color: #808000; font-weight: bold\"> </span><span style=\"color: #008080; text-decoration-color: #008080; font-weight: bold\">0.5</span><span style=\"color: #808000; text-decoration-color: #808000; font-weight: bold\">        </span>┃\n",
       "┗━━━━━━━━━━━━━━━━━━━━┻━━━━━━━━━━━━┛\n",
       "</pre>\n"
      ],
      "text/plain": [
       "\u001b[3m        Extraction Criteria        \u001b[0m\n",
       "┏━━━━━━━━━━━━━━━━━━━━┳━━━━━━━━━━━━┓\n",
       "┃\u001b[1m \u001b[0m\u001b[1mParameter         \u001b[0m\u001b[1m \u001b[0m┃\u001b[1m \u001b[0m\u001b[1mValue     \u001b[0m\u001b[1m \u001b[0m┃\n",
       "┣━━━━━━━━━━━━━━━━━━━━╋━━━━━━━━━━━━┫\n",
       "┃\u001b[1;36m \u001b[0m\u001b[1;36m🧪 Trial Mode     \u001b[0m\u001b[1;36m \u001b[0m┃\u001b[1;33m \u001b[0m\u001b[1;33m          \u001b[0m\u001b[1;33m \u001b[0m┃\n",
       "┃\u001b[1;36m \u001b[0m\u001b[1;36m📏 Trial Unit     \u001b[0m\u001b[1;36m \u001b[0m┃\u001b[1;33m \u001b[0m\u001b[1;33mWords     \u001b[0m\u001b[1;33m \u001b[0m┃\n",
       "┃\u001b[1;36m \u001b[0m\u001b[1;36m🔗 Experiment Mode\u001b[0m\u001b[1;36m \u001b[0m┃\u001b[1;33m \u001b[0m\u001b[1;33mExperiment\u001b[0m\u001b[1;33m \u001b[0m┃\n",
       "┃\u001b[1;36m \u001b[0m\u001b[1;36m🎭 Trial Boundary \u001b[0m\u001b[1;36m \u001b[0m┃\u001b[1;33m \u001b[0m\u001b[1;33mStart     \u001b[0m\u001b[1;33m \u001b[0m┃\n",
       "┃\u001b[1;36m \u001b[0m\u001b[1;36m🔬 Trial Type     \u001b[0m\u001b[1;36m \u001b[0m┃\u001b[1;33m \u001b[0m\u001b[1;33mStimulus  \u001b[0m\u001b[1;33m \u001b[0m┃\n",
       "┃\u001b[1;36m \u001b[0m\u001b[1;36m📊 Modality       \u001b[0m\u001b[1;36m \u001b[0m┃\u001b[1;33m \u001b[0m\u001b[1;33mPictures  \u001b[0m\u001b[1;33m \u001b[0m┃\n",
       "┃\u001b[1;36m \u001b[0m\u001b[1;36m⏱ Tmax            \u001b[0m\u001b[1;36m \u001b[0m┃\u001b[1;33m \u001b[0m\u001b[1;36m-0.2\u001b[0m\u001b[1;33m      \u001b[0m\u001b[1;33m \u001b[0m┃\n",
       "┃\u001b[1;36m \u001b[0m\u001b[1;36m⏳ Tmin           \u001b[0m\u001b[1;36m \u001b[0m┃\u001b[1;33m \u001b[0m\u001b[1;36m0.5\u001b[0m\u001b[1;33m       \u001b[0m\u001b[1;33m \u001b[0m┃\n",
       "┗━━━━━━━━━━━━━━━━━━━━┻━━━━━━━━━━━━┛\n"
      ]
     },
     "metadata": {},
     "output_type": "display_data"
    },
    {
     "name": "stdout",
     "output_type": "stream",
     "text": [
      "Not setting metadata\n",
      "130 matching events found\n",
      "Applying baseline correction (mode: mean)\n",
      "0 projection items activated\n",
      "Loading data for 130 events and 701 original time points ...\n",
      "0 bad epochs dropped\n"
     ]
    },
    {
     "data": {
      "text/html": [
       "<pre style=\"white-space:pre;overflow-x:auto;line-height:normal;font-family:Menlo,'DejaVu Sans Mono',consolas,'Courier New',monospace\"> <span style=\"color: #008000; text-decoration-color: #008000; font-weight: bold\">Loading for sub-</span><span style=\"color: #008000; text-decoration-color: #008000; font-weight: bold\">11</span><span style=\"color: #008000; text-decoration-color: #008000; font-weight: bold\">, ses-</span><span style=\"color: #008000; text-decoration-color: #008000; font-weight: bold\">01</span>\n",
       "</pre>\n"
      ],
      "text/plain": [
       " \u001b[1;32mLoading for sub-\u001b[0m\u001b[1;32m11\u001b[0m\u001b[1;32m, ses-\u001b[0m\u001b[1;32m01\u001b[0m\n"
      ]
     },
     "metadata": {},
     "output_type": "display_data"
    },
    {
     "data": {
      "text/html": [
       "<pre style=\"white-space:pre;overflow-x:auto;line-height:normal;font-family:Menlo,'DejaVu Sans Mono',consolas,'Courier New',monospace\"><span style=\"color: #800000; text-decoration-color: #800000\">╭────────────────────────────────╮</span>\n",
       "<span style=\"color: #800000; text-decoration-color: #800000\">│</span>  <span style=\"color: #800000; text-decoration-color: #800000; font-weight: bold\">Initializing DataLoader Class</span> <span style=\"color: #800000; text-decoration-color: #800000\">│</span>\n",
       "<span style=\"color: #800000; text-decoration-color: #800000\">╰────────────────────────────────╯</span>\n",
       "</pre>\n"
      ],
      "text/plain": [
       "\u001b[31m╭────────────────────────────────╮\u001b[0m\n",
       "\u001b[31m│\u001b[0m  \u001b[1;31mInitializing DataLoader Class\u001b[0m \u001b[31m│\u001b[0m\n",
       "\u001b[31m╰────────────────────────────────╯\u001b[0m\n"
      ]
     },
     "metadata": {},
     "output_type": "display_data"
    },
    {
     "data": {
      "text/html": [
       "<pre style=\"white-space:pre;overflow-x:auto;line-height:normal;font-family:Menlo,'DejaVu Sans Mono',consolas,'Courier New',monospace\"> <span style=\"color: #008000; text-decoration-color: #008000; font-weight: bold\">Creating EPOCHS</span>\n",
       "</pre>\n"
      ],
      "text/plain": [
       " \u001b[1;32mCreating EPOCHS\u001b[0m\n"
      ]
     },
     "metadata": {},
     "output_type": "display_data"
    },
    {
     "data": {
      "text/html": [
       "<pre style=\"white-space:pre;overflow-x:auto;line-height:normal;font-family:Menlo,'DejaVu Sans Mono',consolas,'Courier New',monospace\"><span style=\"font-style: italic\">        Extraction Criteria        </span>\n",
       "┏━━━━━━━━━━━━━━━━━━━━┳━━━━━━━━━━━━┓\n",
       "┃<span style=\"font-weight: bold\"> Parameter          </span>┃<span style=\"font-weight: bold\"> Value      </span>┃\n",
       "┣━━━━━━━━━━━━━━━━━━━━╋━━━━━━━━━━━━┫\n",
       "┃<span style=\"color: #008080; text-decoration-color: #008080; font-weight: bold\"> 🧪 Trial Mode      </span>┃<span style=\"color: #808000; text-decoration-color: #808000; font-weight: bold\">            </span>┃\n",
       "┃<span style=\"color: #008080; text-decoration-color: #008080; font-weight: bold\"> 📏 Trial Unit      </span>┃<span style=\"color: #808000; text-decoration-color: #808000; font-weight: bold\"> Words      </span>┃\n",
       "┃<span style=\"color: #008080; text-decoration-color: #008080; font-weight: bold\"> 🔗 Experiment Mode </span>┃<span style=\"color: #808000; text-decoration-color: #808000; font-weight: bold\"> Experiment </span>┃\n",
       "┃<span style=\"color: #008080; text-decoration-color: #008080; font-weight: bold\"> 🎭 Trial Boundary  </span>┃<span style=\"color: #808000; text-decoration-color: #808000; font-weight: bold\"> Start      </span>┃\n",
       "┃<span style=\"color: #008080; text-decoration-color: #008080; font-weight: bold\"> 🔬 Trial Type      </span>┃<span style=\"color: #808000; text-decoration-color: #808000; font-weight: bold\"> Stimulus   </span>┃\n",
       "┃<span style=\"color: #008080; text-decoration-color: #008080; font-weight: bold\"> 📊 Modality        </span>┃<span style=\"color: #808000; text-decoration-color: #808000; font-weight: bold\"> Pictures   </span>┃\n",
       "┃<span style=\"color: #008080; text-decoration-color: #008080; font-weight: bold\"> ⏱ Tmax             </span>┃<span style=\"color: #808000; text-decoration-color: #808000; font-weight: bold\"> </span><span style=\"color: #008080; text-decoration-color: #008080; font-weight: bold\">-0.2</span><span style=\"color: #808000; text-decoration-color: #808000; font-weight: bold\">       </span>┃\n",
       "┃<span style=\"color: #008080; text-decoration-color: #008080; font-weight: bold\"> ⏳ Tmin            </span>┃<span style=\"color: #808000; text-decoration-color: #808000; font-weight: bold\"> </span><span style=\"color: #008080; text-decoration-color: #008080; font-weight: bold\">0.5</span><span style=\"color: #808000; text-decoration-color: #808000; font-weight: bold\">        </span>┃\n",
       "┗━━━━━━━━━━━━━━━━━━━━┻━━━━━━━━━━━━┛\n",
       "</pre>\n"
      ],
      "text/plain": [
       "\u001b[3m        Extraction Criteria        \u001b[0m\n",
       "┏━━━━━━━━━━━━━━━━━━━━┳━━━━━━━━━━━━┓\n",
       "┃\u001b[1m \u001b[0m\u001b[1mParameter         \u001b[0m\u001b[1m \u001b[0m┃\u001b[1m \u001b[0m\u001b[1mValue     \u001b[0m\u001b[1m \u001b[0m┃\n",
       "┣━━━━━━━━━━━━━━━━━━━━╋━━━━━━━━━━━━┫\n",
       "┃\u001b[1;36m \u001b[0m\u001b[1;36m🧪 Trial Mode     \u001b[0m\u001b[1;36m \u001b[0m┃\u001b[1;33m \u001b[0m\u001b[1;33m          \u001b[0m\u001b[1;33m \u001b[0m┃\n",
       "┃\u001b[1;36m \u001b[0m\u001b[1;36m📏 Trial Unit     \u001b[0m\u001b[1;36m \u001b[0m┃\u001b[1;33m \u001b[0m\u001b[1;33mWords     \u001b[0m\u001b[1;33m \u001b[0m┃\n",
       "┃\u001b[1;36m \u001b[0m\u001b[1;36m🔗 Experiment Mode\u001b[0m\u001b[1;36m \u001b[0m┃\u001b[1;33m \u001b[0m\u001b[1;33mExperiment\u001b[0m\u001b[1;33m \u001b[0m┃\n",
       "┃\u001b[1;36m \u001b[0m\u001b[1;36m🎭 Trial Boundary \u001b[0m\u001b[1;36m \u001b[0m┃\u001b[1;33m \u001b[0m\u001b[1;33mStart     \u001b[0m\u001b[1;33m \u001b[0m┃\n",
       "┃\u001b[1;36m \u001b[0m\u001b[1;36m🔬 Trial Type     \u001b[0m\u001b[1;36m \u001b[0m┃\u001b[1;33m \u001b[0m\u001b[1;33mStimulus  \u001b[0m\u001b[1;33m \u001b[0m┃\n",
       "┃\u001b[1;36m \u001b[0m\u001b[1;36m📊 Modality       \u001b[0m\u001b[1;36m \u001b[0m┃\u001b[1;33m \u001b[0m\u001b[1;33mPictures  \u001b[0m\u001b[1;33m \u001b[0m┃\n",
       "┃\u001b[1;36m \u001b[0m\u001b[1;36m⏱ Tmax            \u001b[0m\u001b[1;36m \u001b[0m┃\u001b[1;33m \u001b[0m\u001b[1;36m-0.2\u001b[0m\u001b[1;33m      \u001b[0m\u001b[1;33m \u001b[0m┃\n",
       "┃\u001b[1;36m \u001b[0m\u001b[1;36m⏳ Tmin           \u001b[0m\u001b[1;36m \u001b[0m┃\u001b[1;33m \u001b[0m\u001b[1;36m0.5\u001b[0m\u001b[1;33m       \u001b[0m\u001b[1;33m \u001b[0m┃\n",
       "┗━━━━━━━━━━━━━━━━━━━━┻━━━━━━━━━━━━┛\n"
      ]
     },
     "metadata": {},
     "output_type": "display_data"
    },
    {
     "name": "stdout",
     "output_type": "stream",
     "text": [
      "Not setting metadata\n",
      "130 matching events found\n",
      "Applying baseline correction (mode: mean)\n",
      "0 projection items activated\n",
      "Loading data for 130 events and 701 original time points ...\n",
      "0 bad epochs dropped\n"
     ]
    },
    {
     "data": {
      "text/html": [
       "<pre style=\"white-space:pre;overflow-x:auto;line-height:normal;font-family:Menlo,'DejaVu Sans Mono',consolas,'Courier New',monospace\"> <span style=\"color: #008000; text-decoration-color: #008000; font-weight: bold\">Loading for sub-</span><span style=\"color: #008000; text-decoration-color: #008000; font-weight: bold\">12</span><span style=\"color: #008000; text-decoration-color: #008000; font-weight: bold\">, ses-</span><span style=\"color: #008000; text-decoration-color: #008000; font-weight: bold\">01</span>\n",
       "</pre>\n"
      ],
      "text/plain": [
       " \u001b[1;32mLoading for sub-\u001b[0m\u001b[1;32m12\u001b[0m\u001b[1;32m, ses-\u001b[0m\u001b[1;32m01\u001b[0m\n"
      ]
     },
     "metadata": {},
     "output_type": "display_data"
    },
    {
     "data": {
      "text/html": [
       "<pre style=\"white-space:pre;overflow-x:auto;line-height:normal;font-family:Menlo,'DejaVu Sans Mono',consolas,'Courier New',monospace\"><span style=\"color: #800000; text-decoration-color: #800000\">╭────────────────────────────────╮</span>\n",
       "<span style=\"color: #800000; text-decoration-color: #800000\">│</span>  <span style=\"color: #800000; text-decoration-color: #800000; font-weight: bold\">Initializing DataLoader Class</span> <span style=\"color: #800000; text-decoration-color: #800000\">│</span>\n",
       "<span style=\"color: #800000; text-decoration-color: #800000\">╰────────────────────────────────╯</span>\n",
       "</pre>\n"
      ],
      "text/plain": [
       "\u001b[31m╭────────────────────────────────╮\u001b[0m\n",
       "\u001b[31m│\u001b[0m  \u001b[1;31mInitializing DataLoader Class\u001b[0m \u001b[31m│\u001b[0m\n",
       "\u001b[31m╰────────────────────────────────╯\u001b[0m\n"
      ]
     },
     "metadata": {},
     "output_type": "display_data"
    },
    {
     "data": {
      "text/html": [
       "<pre style=\"white-space:pre;overflow-x:auto;line-height:normal;font-family:Menlo,'DejaVu Sans Mono',consolas,'Courier New',monospace\"> <span style=\"color: #008000; text-decoration-color: #008000; font-weight: bold\">Creating EPOCHS</span>\n",
       "</pre>\n"
      ],
      "text/plain": [
       " \u001b[1;32mCreating EPOCHS\u001b[0m\n"
      ]
     },
     "metadata": {},
     "output_type": "display_data"
    },
    {
     "data": {
      "text/html": [
       "<pre style=\"white-space:pre;overflow-x:auto;line-height:normal;font-family:Menlo,'DejaVu Sans Mono',consolas,'Courier New',monospace\"><span style=\"font-style: italic\">        Extraction Criteria        </span>\n",
       "┏━━━━━━━━━━━━━━━━━━━━┳━━━━━━━━━━━━┓\n",
       "┃<span style=\"font-weight: bold\"> Parameter          </span>┃<span style=\"font-weight: bold\"> Value      </span>┃\n",
       "┣━━━━━━━━━━━━━━━━━━━━╋━━━━━━━━━━━━┫\n",
       "┃<span style=\"color: #008080; text-decoration-color: #008080; font-weight: bold\"> 🧪 Trial Mode      </span>┃<span style=\"color: #808000; text-decoration-color: #808000; font-weight: bold\">            </span>┃\n",
       "┃<span style=\"color: #008080; text-decoration-color: #008080; font-weight: bold\"> 📏 Trial Unit      </span>┃<span style=\"color: #808000; text-decoration-color: #808000; font-weight: bold\"> Words      </span>┃\n",
       "┃<span style=\"color: #008080; text-decoration-color: #008080; font-weight: bold\"> 🔗 Experiment Mode </span>┃<span style=\"color: #808000; text-decoration-color: #808000; font-weight: bold\"> Experiment </span>┃\n",
       "┃<span style=\"color: #008080; text-decoration-color: #008080; font-weight: bold\"> 🎭 Trial Boundary  </span>┃<span style=\"color: #808000; text-decoration-color: #808000; font-weight: bold\"> Start      </span>┃\n",
       "┃<span style=\"color: #008080; text-decoration-color: #008080; font-weight: bold\"> 🔬 Trial Type      </span>┃<span style=\"color: #808000; text-decoration-color: #808000; font-weight: bold\"> Stimulus   </span>┃\n",
       "┃<span style=\"color: #008080; text-decoration-color: #008080; font-weight: bold\"> 📊 Modality        </span>┃<span style=\"color: #808000; text-decoration-color: #808000; font-weight: bold\"> Pictures   </span>┃\n",
       "┃<span style=\"color: #008080; text-decoration-color: #008080; font-weight: bold\"> ⏱ Tmax             </span>┃<span style=\"color: #808000; text-decoration-color: #808000; font-weight: bold\"> </span><span style=\"color: #008080; text-decoration-color: #008080; font-weight: bold\">-0.2</span><span style=\"color: #808000; text-decoration-color: #808000; font-weight: bold\">       </span>┃\n",
       "┃<span style=\"color: #008080; text-decoration-color: #008080; font-weight: bold\"> ⏳ Tmin            </span>┃<span style=\"color: #808000; text-decoration-color: #808000; font-weight: bold\"> </span><span style=\"color: #008080; text-decoration-color: #008080; font-weight: bold\">0.5</span><span style=\"color: #808000; text-decoration-color: #808000; font-weight: bold\">        </span>┃\n",
       "┗━━━━━━━━━━━━━━━━━━━━┻━━━━━━━━━━━━┛\n",
       "</pre>\n"
      ],
      "text/plain": [
       "\u001b[3m        Extraction Criteria        \u001b[0m\n",
       "┏━━━━━━━━━━━━━━━━━━━━┳━━━━━━━━━━━━┓\n",
       "┃\u001b[1m \u001b[0m\u001b[1mParameter         \u001b[0m\u001b[1m \u001b[0m┃\u001b[1m \u001b[0m\u001b[1mValue     \u001b[0m\u001b[1m \u001b[0m┃\n",
       "┣━━━━━━━━━━━━━━━━━━━━╋━━━━━━━━━━━━┫\n",
       "┃\u001b[1;36m \u001b[0m\u001b[1;36m🧪 Trial Mode     \u001b[0m\u001b[1;36m \u001b[0m┃\u001b[1;33m \u001b[0m\u001b[1;33m          \u001b[0m\u001b[1;33m \u001b[0m┃\n",
       "┃\u001b[1;36m \u001b[0m\u001b[1;36m📏 Trial Unit     \u001b[0m\u001b[1;36m \u001b[0m┃\u001b[1;33m \u001b[0m\u001b[1;33mWords     \u001b[0m\u001b[1;33m \u001b[0m┃\n",
       "┃\u001b[1;36m \u001b[0m\u001b[1;36m🔗 Experiment Mode\u001b[0m\u001b[1;36m \u001b[0m┃\u001b[1;33m \u001b[0m\u001b[1;33mExperiment\u001b[0m\u001b[1;33m \u001b[0m┃\n",
       "┃\u001b[1;36m \u001b[0m\u001b[1;36m🎭 Trial Boundary \u001b[0m\u001b[1;36m \u001b[0m┃\u001b[1;33m \u001b[0m\u001b[1;33mStart     \u001b[0m\u001b[1;33m \u001b[0m┃\n",
       "┃\u001b[1;36m \u001b[0m\u001b[1;36m🔬 Trial Type     \u001b[0m\u001b[1;36m \u001b[0m┃\u001b[1;33m \u001b[0m\u001b[1;33mStimulus  \u001b[0m\u001b[1;33m \u001b[0m┃\n",
       "┃\u001b[1;36m \u001b[0m\u001b[1;36m📊 Modality       \u001b[0m\u001b[1;36m \u001b[0m┃\u001b[1;33m \u001b[0m\u001b[1;33mPictures  \u001b[0m\u001b[1;33m \u001b[0m┃\n",
       "┃\u001b[1;36m \u001b[0m\u001b[1;36m⏱ Tmax            \u001b[0m\u001b[1;36m \u001b[0m┃\u001b[1;33m \u001b[0m\u001b[1;36m-0.2\u001b[0m\u001b[1;33m      \u001b[0m\u001b[1;33m \u001b[0m┃\n",
       "┃\u001b[1;36m \u001b[0m\u001b[1;36m⏳ Tmin           \u001b[0m\u001b[1;36m \u001b[0m┃\u001b[1;33m \u001b[0m\u001b[1;36m0.5\u001b[0m\u001b[1;33m       \u001b[0m\u001b[1;33m \u001b[0m┃\n",
       "┗━━━━━━━━━━━━━━━━━━━━┻━━━━━━━━━━━━┛\n"
      ]
     },
     "metadata": {},
     "output_type": "display_data"
    },
    {
     "name": "stdout",
     "output_type": "stream",
     "text": [
      "Not setting metadata\n",
      "130 matching events found\n",
      "Applying baseline correction (mode: mean)\n",
      "0 projection items activated\n",
      "Loading data for 130 events and 701 original time points ...\n",
      "0 bad epochs dropped\n"
     ]
    },
    {
     "data": {
      "text/html": [
       "<pre style=\"white-space:pre;overflow-x:auto;line-height:normal;font-family:Menlo,'DejaVu Sans Mono',consolas,'Courier New',monospace\"> <span style=\"color: #008000; text-decoration-color: #008000; font-weight: bold\">Loading for sub-</span><span style=\"color: #008000; text-decoration-color: #008000; font-weight: bold\">12</span><span style=\"color: #008000; text-decoration-color: #008000; font-weight: bold\">, ses-</span><span style=\"color: #008000; text-decoration-color: #008000; font-weight: bold\">02</span>\n",
       "</pre>\n"
      ],
      "text/plain": [
       " \u001b[1;32mLoading for sub-\u001b[0m\u001b[1;32m12\u001b[0m\u001b[1;32m, ses-\u001b[0m\u001b[1;32m02\u001b[0m\n"
      ]
     },
     "metadata": {},
     "output_type": "display_data"
    },
    {
     "data": {
      "text/html": [
       "<pre style=\"white-space:pre;overflow-x:auto;line-height:normal;font-family:Menlo,'DejaVu Sans Mono',consolas,'Courier New',monospace\"><span style=\"color: #800000; text-decoration-color: #800000\">╭────────────────────────────────╮</span>\n",
       "<span style=\"color: #800000; text-decoration-color: #800000\">│</span>  <span style=\"color: #800000; text-decoration-color: #800000; font-weight: bold\">Initializing DataLoader Class</span> <span style=\"color: #800000; text-decoration-color: #800000\">│</span>\n",
       "<span style=\"color: #800000; text-decoration-color: #800000\">╰────────────────────────────────╯</span>\n",
       "</pre>\n"
      ],
      "text/plain": [
       "\u001b[31m╭────────────────────────────────╮\u001b[0m\n",
       "\u001b[31m│\u001b[0m  \u001b[1;31mInitializing DataLoader Class\u001b[0m \u001b[31m│\u001b[0m\n",
       "\u001b[31m╰────────────────────────────────╯\u001b[0m\n"
      ]
     },
     "metadata": {},
     "output_type": "display_data"
    },
    {
     "data": {
      "text/html": [
       "<pre style=\"white-space:pre;overflow-x:auto;line-height:normal;font-family:Menlo,'DejaVu Sans Mono',consolas,'Courier New',monospace\"> <span style=\"color: #008000; text-decoration-color: #008000; font-weight: bold\">Creating EPOCHS</span>\n",
       "</pre>\n"
      ],
      "text/plain": [
       " \u001b[1;32mCreating EPOCHS\u001b[0m\n"
      ]
     },
     "metadata": {},
     "output_type": "display_data"
    },
    {
     "data": {
      "text/html": [
       "<pre style=\"white-space:pre;overflow-x:auto;line-height:normal;font-family:Menlo,'DejaVu Sans Mono',consolas,'Courier New',monospace\"><span style=\"font-style: italic\">        Extraction Criteria        </span>\n",
       "┏━━━━━━━━━━━━━━━━━━━━┳━━━━━━━━━━━━┓\n",
       "┃<span style=\"font-weight: bold\"> Parameter          </span>┃<span style=\"font-weight: bold\"> Value      </span>┃\n",
       "┣━━━━━━━━━━━━━━━━━━━━╋━━━━━━━━━━━━┫\n",
       "┃<span style=\"color: #008080; text-decoration-color: #008080; font-weight: bold\"> 🧪 Trial Mode      </span>┃<span style=\"color: #808000; text-decoration-color: #808000; font-weight: bold\">            </span>┃\n",
       "┃<span style=\"color: #008080; text-decoration-color: #008080; font-weight: bold\"> 📏 Trial Unit      </span>┃<span style=\"color: #808000; text-decoration-color: #808000; font-weight: bold\"> Words      </span>┃\n",
       "┃<span style=\"color: #008080; text-decoration-color: #008080; font-weight: bold\"> 🔗 Experiment Mode </span>┃<span style=\"color: #808000; text-decoration-color: #808000; font-weight: bold\"> Experiment </span>┃\n",
       "┃<span style=\"color: #008080; text-decoration-color: #008080; font-weight: bold\"> 🎭 Trial Boundary  </span>┃<span style=\"color: #808000; text-decoration-color: #808000; font-weight: bold\"> Start      </span>┃\n",
       "┃<span style=\"color: #008080; text-decoration-color: #008080; font-weight: bold\"> 🔬 Trial Type      </span>┃<span style=\"color: #808000; text-decoration-color: #808000; font-weight: bold\"> Stimulus   </span>┃\n",
       "┃<span style=\"color: #008080; text-decoration-color: #008080; font-weight: bold\"> 📊 Modality        </span>┃<span style=\"color: #808000; text-decoration-color: #808000; font-weight: bold\"> Pictures   </span>┃\n",
       "┃<span style=\"color: #008080; text-decoration-color: #008080; font-weight: bold\"> ⏱ Tmax             </span>┃<span style=\"color: #808000; text-decoration-color: #808000; font-weight: bold\"> </span><span style=\"color: #008080; text-decoration-color: #008080; font-weight: bold\">-0.2</span><span style=\"color: #808000; text-decoration-color: #808000; font-weight: bold\">       </span>┃\n",
       "┃<span style=\"color: #008080; text-decoration-color: #008080; font-weight: bold\"> ⏳ Tmin            </span>┃<span style=\"color: #808000; text-decoration-color: #808000; font-weight: bold\"> </span><span style=\"color: #008080; text-decoration-color: #008080; font-weight: bold\">0.5</span><span style=\"color: #808000; text-decoration-color: #808000; font-weight: bold\">        </span>┃\n",
       "┗━━━━━━━━━━━━━━━━━━━━┻━━━━━━━━━━━━┛\n",
       "</pre>\n"
      ],
      "text/plain": [
       "\u001b[3m        Extraction Criteria        \u001b[0m\n",
       "┏━━━━━━━━━━━━━━━━━━━━┳━━━━━━━━━━━━┓\n",
       "┃\u001b[1m \u001b[0m\u001b[1mParameter         \u001b[0m\u001b[1m \u001b[0m┃\u001b[1m \u001b[0m\u001b[1mValue     \u001b[0m\u001b[1m \u001b[0m┃\n",
       "┣━━━━━━━━━━━━━━━━━━━━╋━━━━━━━━━━━━┫\n",
       "┃\u001b[1;36m \u001b[0m\u001b[1;36m🧪 Trial Mode     \u001b[0m\u001b[1;36m \u001b[0m┃\u001b[1;33m \u001b[0m\u001b[1;33m          \u001b[0m\u001b[1;33m \u001b[0m┃\n",
       "┃\u001b[1;36m \u001b[0m\u001b[1;36m📏 Trial Unit     \u001b[0m\u001b[1;36m \u001b[0m┃\u001b[1;33m \u001b[0m\u001b[1;33mWords     \u001b[0m\u001b[1;33m \u001b[0m┃\n",
       "┃\u001b[1;36m \u001b[0m\u001b[1;36m🔗 Experiment Mode\u001b[0m\u001b[1;36m \u001b[0m┃\u001b[1;33m \u001b[0m\u001b[1;33mExperiment\u001b[0m\u001b[1;33m \u001b[0m┃\n",
       "┃\u001b[1;36m \u001b[0m\u001b[1;36m🎭 Trial Boundary \u001b[0m\u001b[1;36m \u001b[0m┃\u001b[1;33m \u001b[0m\u001b[1;33mStart     \u001b[0m\u001b[1;33m \u001b[0m┃\n",
       "┃\u001b[1;36m \u001b[0m\u001b[1;36m🔬 Trial Type     \u001b[0m\u001b[1;36m \u001b[0m┃\u001b[1;33m \u001b[0m\u001b[1;33mStimulus  \u001b[0m\u001b[1;33m \u001b[0m┃\n",
       "┃\u001b[1;36m \u001b[0m\u001b[1;36m📊 Modality       \u001b[0m\u001b[1;36m \u001b[0m┃\u001b[1;33m \u001b[0m\u001b[1;33mPictures  \u001b[0m\u001b[1;33m \u001b[0m┃\n",
       "┃\u001b[1;36m \u001b[0m\u001b[1;36m⏱ Tmax            \u001b[0m\u001b[1;36m \u001b[0m┃\u001b[1;33m \u001b[0m\u001b[1;36m-0.2\u001b[0m\u001b[1;33m      \u001b[0m\u001b[1;33m \u001b[0m┃\n",
       "┃\u001b[1;36m \u001b[0m\u001b[1;36m⏳ Tmin           \u001b[0m\u001b[1;36m \u001b[0m┃\u001b[1;33m \u001b[0m\u001b[1;36m0.5\u001b[0m\u001b[1;33m       \u001b[0m\u001b[1;33m \u001b[0m┃\n",
       "┗━━━━━━━━━━━━━━━━━━━━┻━━━━━━━━━━━━┛\n"
      ]
     },
     "metadata": {},
     "output_type": "display_data"
    },
    {
     "name": "stdout",
     "output_type": "stream",
     "text": [
      "Not setting metadata\n",
      "130 matching events found\n",
      "Applying baseline correction (mode: mean)\n",
      "0 projection items activated\n",
      "Loading data for 130 events and 701 original time points ...\n",
      "0 bad epochs dropped\n"
     ]
    },
    {
     "data": {
      "text/html": [
       "<pre style=\"white-space:pre;overflow-x:auto;line-height:normal;font-family:Menlo,'DejaVu Sans Mono',consolas,'Courier New',monospace\"> <span style=\"color: #008000; text-decoration-color: #008000; font-weight: bold\">Loading for sub-</span><span style=\"color: #008000; text-decoration-color: #008000; font-weight: bold\">13</span><span style=\"color: #008000; text-decoration-color: #008000; font-weight: bold\">, ses-</span><span style=\"color: #008000; text-decoration-color: #008000; font-weight: bold\">01</span>\n",
       "</pre>\n"
      ],
      "text/plain": [
       " \u001b[1;32mLoading for sub-\u001b[0m\u001b[1;32m13\u001b[0m\u001b[1;32m, ses-\u001b[0m\u001b[1;32m01\u001b[0m\n"
      ]
     },
     "metadata": {},
     "output_type": "display_data"
    },
    {
     "data": {
      "text/html": [
       "<pre style=\"white-space:pre;overflow-x:auto;line-height:normal;font-family:Menlo,'DejaVu Sans Mono',consolas,'Courier New',monospace\"><span style=\"color: #800000; text-decoration-color: #800000\">╭────────────────────────────────╮</span>\n",
       "<span style=\"color: #800000; text-decoration-color: #800000\">│</span>  <span style=\"color: #800000; text-decoration-color: #800000; font-weight: bold\">Initializing DataLoader Class</span> <span style=\"color: #800000; text-decoration-color: #800000\">│</span>\n",
       "<span style=\"color: #800000; text-decoration-color: #800000\">╰────────────────────────────────╯</span>\n",
       "</pre>\n"
      ],
      "text/plain": [
       "\u001b[31m╭────────────────────────────────╮\u001b[0m\n",
       "\u001b[31m│\u001b[0m  \u001b[1;31mInitializing DataLoader Class\u001b[0m \u001b[31m│\u001b[0m\n",
       "\u001b[31m╰────────────────────────────────╯\u001b[0m\n"
      ]
     },
     "metadata": {},
     "output_type": "display_data"
    },
    {
     "data": {
      "text/html": [
       "<pre style=\"white-space:pre;overflow-x:auto;line-height:normal;font-family:Menlo,'DejaVu Sans Mono',consolas,'Courier New',monospace\"> <span style=\"color: #008000; text-decoration-color: #008000; font-weight: bold\">Creating EPOCHS</span>\n",
       "</pre>\n"
      ],
      "text/plain": [
       " \u001b[1;32mCreating EPOCHS\u001b[0m\n"
      ]
     },
     "metadata": {},
     "output_type": "display_data"
    },
    {
     "data": {
      "text/html": [
       "<pre style=\"white-space:pre;overflow-x:auto;line-height:normal;font-family:Menlo,'DejaVu Sans Mono',consolas,'Courier New',monospace\"><span style=\"font-style: italic\">        Extraction Criteria        </span>\n",
       "┏━━━━━━━━━━━━━━━━━━━━┳━━━━━━━━━━━━┓\n",
       "┃<span style=\"font-weight: bold\"> Parameter          </span>┃<span style=\"font-weight: bold\"> Value      </span>┃\n",
       "┣━━━━━━━━━━━━━━━━━━━━╋━━━━━━━━━━━━┫\n",
       "┃<span style=\"color: #008080; text-decoration-color: #008080; font-weight: bold\"> 🧪 Trial Mode      </span>┃<span style=\"color: #808000; text-decoration-color: #808000; font-weight: bold\">            </span>┃\n",
       "┃<span style=\"color: #008080; text-decoration-color: #008080; font-weight: bold\"> 📏 Trial Unit      </span>┃<span style=\"color: #808000; text-decoration-color: #808000; font-weight: bold\"> Words      </span>┃\n",
       "┃<span style=\"color: #008080; text-decoration-color: #008080; font-weight: bold\"> 🔗 Experiment Mode </span>┃<span style=\"color: #808000; text-decoration-color: #808000; font-weight: bold\"> Experiment </span>┃\n",
       "┃<span style=\"color: #008080; text-decoration-color: #008080; font-weight: bold\"> 🎭 Trial Boundary  </span>┃<span style=\"color: #808000; text-decoration-color: #808000; font-weight: bold\"> Start      </span>┃\n",
       "┃<span style=\"color: #008080; text-decoration-color: #008080; font-weight: bold\"> 🔬 Trial Type      </span>┃<span style=\"color: #808000; text-decoration-color: #808000; font-weight: bold\"> Stimulus   </span>┃\n",
       "┃<span style=\"color: #008080; text-decoration-color: #008080; font-weight: bold\"> 📊 Modality        </span>┃<span style=\"color: #808000; text-decoration-color: #808000; font-weight: bold\"> Pictures   </span>┃\n",
       "┃<span style=\"color: #008080; text-decoration-color: #008080; font-weight: bold\"> ⏱ Tmax             </span>┃<span style=\"color: #808000; text-decoration-color: #808000; font-weight: bold\"> </span><span style=\"color: #008080; text-decoration-color: #008080; font-weight: bold\">-0.2</span><span style=\"color: #808000; text-decoration-color: #808000; font-weight: bold\">       </span>┃\n",
       "┃<span style=\"color: #008080; text-decoration-color: #008080; font-weight: bold\"> ⏳ Tmin            </span>┃<span style=\"color: #808000; text-decoration-color: #808000; font-weight: bold\"> </span><span style=\"color: #008080; text-decoration-color: #008080; font-weight: bold\">0.5</span><span style=\"color: #808000; text-decoration-color: #808000; font-weight: bold\">        </span>┃\n",
       "┗━━━━━━━━━━━━━━━━━━━━┻━━━━━━━━━━━━┛\n",
       "</pre>\n"
      ],
      "text/plain": [
       "\u001b[3m        Extraction Criteria        \u001b[0m\n",
       "┏━━━━━━━━━━━━━━━━━━━━┳━━━━━━━━━━━━┓\n",
       "┃\u001b[1m \u001b[0m\u001b[1mParameter         \u001b[0m\u001b[1m \u001b[0m┃\u001b[1m \u001b[0m\u001b[1mValue     \u001b[0m\u001b[1m \u001b[0m┃\n",
       "┣━━━━━━━━━━━━━━━━━━━━╋━━━━━━━━━━━━┫\n",
       "┃\u001b[1;36m \u001b[0m\u001b[1;36m🧪 Trial Mode     \u001b[0m\u001b[1;36m \u001b[0m┃\u001b[1;33m \u001b[0m\u001b[1;33m          \u001b[0m\u001b[1;33m \u001b[0m┃\n",
       "┃\u001b[1;36m \u001b[0m\u001b[1;36m📏 Trial Unit     \u001b[0m\u001b[1;36m \u001b[0m┃\u001b[1;33m \u001b[0m\u001b[1;33mWords     \u001b[0m\u001b[1;33m \u001b[0m┃\n",
       "┃\u001b[1;36m \u001b[0m\u001b[1;36m🔗 Experiment Mode\u001b[0m\u001b[1;36m \u001b[0m┃\u001b[1;33m \u001b[0m\u001b[1;33mExperiment\u001b[0m\u001b[1;33m \u001b[0m┃\n",
       "┃\u001b[1;36m \u001b[0m\u001b[1;36m🎭 Trial Boundary \u001b[0m\u001b[1;36m \u001b[0m┃\u001b[1;33m \u001b[0m\u001b[1;33mStart     \u001b[0m\u001b[1;33m \u001b[0m┃\n",
       "┃\u001b[1;36m \u001b[0m\u001b[1;36m🔬 Trial Type     \u001b[0m\u001b[1;36m \u001b[0m┃\u001b[1;33m \u001b[0m\u001b[1;33mStimulus  \u001b[0m\u001b[1;33m \u001b[0m┃\n",
       "┃\u001b[1;36m \u001b[0m\u001b[1;36m📊 Modality       \u001b[0m\u001b[1;36m \u001b[0m┃\u001b[1;33m \u001b[0m\u001b[1;33mPictures  \u001b[0m\u001b[1;33m \u001b[0m┃\n",
       "┃\u001b[1;36m \u001b[0m\u001b[1;36m⏱ Tmax            \u001b[0m\u001b[1;36m \u001b[0m┃\u001b[1;33m \u001b[0m\u001b[1;36m-0.2\u001b[0m\u001b[1;33m      \u001b[0m\u001b[1;33m \u001b[0m┃\n",
       "┃\u001b[1;36m \u001b[0m\u001b[1;36m⏳ Tmin           \u001b[0m\u001b[1;36m \u001b[0m┃\u001b[1;33m \u001b[0m\u001b[1;36m0.5\u001b[0m\u001b[1;33m       \u001b[0m\u001b[1;33m \u001b[0m┃\n",
       "┗━━━━━━━━━━━━━━━━━━━━┻━━━━━━━━━━━━┛\n"
      ]
     },
     "metadata": {},
     "output_type": "display_data"
    },
    {
     "name": "stdout",
     "output_type": "stream",
     "text": [
      "Not setting metadata\n",
      "130 matching events found\n",
      "Applying baseline correction (mode: mean)\n",
      "0 projection items activated\n",
      "Loading data for 130 events and 701 original time points ...\n",
      "0 bad epochs dropped\n"
     ]
    },
    {
     "data": {
      "text/html": [
       "<pre style=\"white-space:pre;overflow-x:auto;line-height:normal;font-family:Menlo,'DejaVu Sans Mono',consolas,'Courier New',monospace\"> <span style=\"color: #008000; text-decoration-color: #008000; font-weight: bold\">Loading for sub-</span><span style=\"color: #008000; text-decoration-color: #008000; font-weight: bold\">13</span><span style=\"color: #008000; text-decoration-color: #008000; font-weight: bold\">, ses-</span><span style=\"color: #008000; text-decoration-color: #008000; font-weight: bold\">02</span>\n",
       "</pre>\n"
      ],
      "text/plain": [
       " \u001b[1;32mLoading for sub-\u001b[0m\u001b[1;32m13\u001b[0m\u001b[1;32m, ses-\u001b[0m\u001b[1;32m02\u001b[0m\n"
      ]
     },
     "metadata": {},
     "output_type": "display_data"
    },
    {
     "data": {
      "text/html": [
       "<pre style=\"white-space:pre;overflow-x:auto;line-height:normal;font-family:Menlo,'DejaVu Sans Mono',consolas,'Courier New',monospace\"><span style=\"color: #800000; text-decoration-color: #800000\">╭────────────────────────────────╮</span>\n",
       "<span style=\"color: #800000; text-decoration-color: #800000\">│</span>  <span style=\"color: #800000; text-decoration-color: #800000; font-weight: bold\">Initializing DataLoader Class</span> <span style=\"color: #800000; text-decoration-color: #800000\">│</span>\n",
       "<span style=\"color: #800000; text-decoration-color: #800000\">╰────────────────────────────────╯</span>\n",
       "</pre>\n"
      ],
      "text/plain": [
       "\u001b[31m╭────────────────────────────────╮\u001b[0m\n",
       "\u001b[31m│\u001b[0m  \u001b[1;31mInitializing DataLoader Class\u001b[0m \u001b[31m│\u001b[0m\n",
       "\u001b[31m╰────────────────────────────────╯\u001b[0m\n"
      ]
     },
     "metadata": {},
     "output_type": "display_data"
    },
    {
     "data": {
      "text/html": [
       "<pre style=\"white-space:pre;overflow-x:auto;line-height:normal;font-family:Menlo,'DejaVu Sans Mono',consolas,'Courier New',monospace\"> <span style=\"color: #008000; text-decoration-color: #008000; font-weight: bold\">Creating EPOCHS</span>\n",
       "</pre>\n"
      ],
      "text/plain": [
       " \u001b[1;32mCreating EPOCHS\u001b[0m\n"
      ]
     },
     "metadata": {},
     "output_type": "display_data"
    },
    {
     "data": {
      "text/html": [
       "<pre style=\"white-space:pre;overflow-x:auto;line-height:normal;font-family:Menlo,'DejaVu Sans Mono',consolas,'Courier New',monospace\"><span style=\"font-style: italic\">        Extraction Criteria        </span>\n",
       "┏━━━━━━━━━━━━━━━━━━━━┳━━━━━━━━━━━━┓\n",
       "┃<span style=\"font-weight: bold\"> Parameter          </span>┃<span style=\"font-weight: bold\"> Value      </span>┃\n",
       "┣━━━━━━━━━━━━━━━━━━━━╋━━━━━━━━━━━━┫\n",
       "┃<span style=\"color: #008080; text-decoration-color: #008080; font-weight: bold\"> 🧪 Trial Mode      </span>┃<span style=\"color: #808000; text-decoration-color: #808000; font-weight: bold\">            </span>┃\n",
       "┃<span style=\"color: #008080; text-decoration-color: #008080; font-weight: bold\"> 📏 Trial Unit      </span>┃<span style=\"color: #808000; text-decoration-color: #808000; font-weight: bold\"> Words      </span>┃\n",
       "┃<span style=\"color: #008080; text-decoration-color: #008080; font-weight: bold\"> 🔗 Experiment Mode </span>┃<span style=\"color: #808000; text-decoration-color: #808000; font-weight: bold\"> Experiment </span>┃\n",
       "┃<span style=\"color: #008080; text-decoration-color: #008080; font-weight: bold\"> 🎭 Trial Boundary  </span>┃<span style=\"color: #808000; text-decoration-color: #808000; font-weight: bold\"> Start      </span>┃\n",
       "┃<span style=\"color: #008080; text-decoration-color: #008080; font-weight: bold\"> 🔬 Trial Type      </span>┃<span style=\"color: #808000; text-decoration-color: #808000; font-weight: bold\"> Stimulus   </span>┃\n",
       "┃<span style=\"color: #008080; text-decoration-color: #008080; font-weight: bold\"> 📊 Modality        </span>┃<span style=\"color: #808000; text-decoration-color: #808000; font-weight: bold\"> Pictures   </span>┃\n",
       "┃<span style=\"color: #008080; text-decoration-color: #008080; font-weight: bold\"> ⏱ Tmax             </span>┃<span style=\"color: #808000; text-decoration-color: #808000; font-weight: bold\"> </span><span style=\"color: #008080; text-decoration-color: #008080; font-weight: bold\">-0.2</span><span style=\"color: #808000; text-decoration-color: #808000; font-weight: bold\">       </span>┃\n",
       "┃<span style=\"color: #008080; text-decoration-color: #008080; font-weight: bold\"> ⏳ Tmin            </span>┃<span style=\"color: #808000; text-decoration-color: #808000; font-weight: bold\"> </span><span style=\"color: #008080; text-decoration-color: #008080; font-weight: bold\">0.5</span><span style=\"color: #808000; text-decoration-color: #808000; font-weight: bold\">        </span>┃\n",
       "┗━━━━━━━━━━━━━━━━━━━━┻━━━━━━━━━━━━┛\n",
       "</pre>\n"
      ],
      "text/plain": [
       "\u001b[3m        Extraction Criteria        \u001b[0m\n",
       "┏━━━━━━━━━━━━━━━━━━━━┳━━━━━━━━━━━━┓\n",
       "┃\u001b[1m \u001b[0m\u001b[1mParameter         \u001b[0m\u001b[1m \u001b[0m┃\u001b[1m \u001b[0m\u001b[1mValue     \u001b[0m\u001b[1m \u001b[0m┃\n",
       "┣━━━━━━━━━━━━━━━━━━━━╋━━━━━━━━━━━━┫\n",
       "┃\u001b[1;36m \u001b[0m\u001b[1;36m🧪 Trial Mode     \u001b[0m\u001b[1;36m \u001b[0m┃\u001b[1;33m \u001b[0m\u001b[1;33m          \u001b[0m\u001b[1;33m \u001b[0m┃\n",
       "┃\u001b[1;36m \u001b[0m\u001b[1;36m📏 Trial Unit     \u001b[0m\u001b[1;36m \u001b[0m┃\u001b[1;33m \u001b[0m\u001b[1;33mWords     \u001b[0m\u001b[1;33m \u001b[0m┃\n",
       "┃\u001b[1;36m \u001b[0m\u001b[1;36m🔗 Experiment Mode\u001b[0m\u001b[1;36m \u001b[0m┃\u001b[1;33m \u001b[0m\u001b[1;33mExperiment\u001b[0m\u001b[1;33m \u001b[0m┃\n",
       "┃\u001b[1;36m \u001b[0m\u001b[1;36m🎭 Trial Boundary \u001b[0m\u001b[1;36m \u001b[0m┃\u001b[1;33m \u001b[0m\u001b[1;33mStart     \u001b[0m\u001b[1;33m \u001b[0m┃\n",
       "┃\u001b[1;36m \u001b[0m\u001b[1;36m🔬 Trial Type     \u001b[0m\u001b[1;36m \u001b[0m┃\u001b[1;33m \u001b[0m\u001b[1;33mStimulus  \u001b[0m\u001b[1;33m \u001b[0m┃\n",
       "┃\u001b[1;36m \u001b[0m\u001b[1;36m📊 Modality       \u001b[0m\u001b[1;36m \u001b[0m┃\u001b[1;33m \u001b[0m\u001b[1;33mPictures  \u001b[0m\u001b[1;33m \u001b[0m┃\n",
       "┃\u001b[1;36m \u001b[0m\u001b[1;36m⏱ Tmax            \u001b[0m\u001b[1;36m \u001b[0m┃\u001b[1;33m \u001b[0m\u001b[1;36m-0.2\u001b[0m\u001b[1;33m      \u001b[0m\u001b[1;33m \u001b[0m┃\n",
       "┃\u001b[1;36m \u001b[0m\u001b[1;36m⏳ Tmin           \u001b[0m\u001b[1;36m \u001b[0m┃\u001b[1;33m \u001b[0m\u001b[1;36m0.5\u001b[0m\u001b[1;33m       \u001b[0m\u001b[1;33m \u001b[0m┃\n",
       "┗━━━━━━━━━━━━━━━━━━━━┻━━━━━━━━━━━━┛\n"
      ]
     },
     "metadata": {},
     "output_type": "display_data"
    },
    {
     "name": "stdout",
     "output_type": "stream",
     "text": [
      "Not setting metadata\n",
      "130 matching events found\n",
      "Applying baseline correction (mode: mean)\n",
      "0 projection items activated\n",
      "Loading data for 130 events and 701 original time points ...\n",
      "0 bad epochs dropped\n"
     ]
    },
    {
     "data": {
      "text/html": [
       "<pre style=\"white-space:pre;overflow-x:auto;line-height:normal;font-family:Menlo,'DejaVu Sans Mono',consolas,'Courier New',monospace\"> <span style=\"color: #008000; text-decoration-color: #008000; font-weight: bold\">Loading for sub-</span><span style=\"color: #008000; text-decoration-color: #008000; font-weight: bold\">14</span><span style=\"color: #008000; text-decoration-color: #008000; font-weight: bold\">, ses-</span><span style=\"color: #008000; text-decoration-color: #008000; font-weight: bold\">01</span>\n",
       "</pre>\n"
      ],
      "text/plain": [
       " \u001b[1;32mLoading for sub-\u001b[0m\u001b[1;32m14\u001b[0m\u001b[1;32m, ses-\u001b[0m\u001b[1;32m01\u001b[0m\n"
      ]
     },
     "metadata": {},
     "output_type": "display_data"
    },
    {
     "data": {
      "text/html": [
       "<pre style=\"white-space:pre;overflow-x:auto;line-height:normal;font-family:Menlo,'DejaVu Sans Mono',consolas,'Courier New',monospace\"><span style=\"color: #800000; text-decoration-color: #800000\">╭────────────────────────────────╮</span>\n",
       "<span style=\"color: #800000; text-decoration-color: #800000\">│</span>  <span style=\"color: #800000; text-decoration-color: #800000; font-weight: bold\">Initializing DataLoader Class</span> <span style=\"color: #800000; text-decoration-color: #800000\">│</span>\n",
       "<span style=\"color: #800000; text-decoration-color: #800000\">╰────────────────────────────────╯</span>\n",
       "</pre>\n"
      ],
      "text/plain": [
       "\u001b[31m╭────────────────────────────────╮\u001b[0m\n",
       "\u001b[31m│\u001b[0m  \u001b[1;31mInitializing DataLoader Class\u001b[0m \u001b[31m│\u001b[0m\n",
       "\u001b[31m╰────────────────────────────────╯\u001b[0m\n"
      ]
     },
     "metadata": {},
     "output_type": "display_data"
    },
    {
     "data": {
      "text/html": [
       "<pre style=\"white-space:pre;overflow-x:auto;line-height:normal;font-family:Menlo,'DejaVu Sans Mono',consolas,'Courier New',monospace\"> <span style=\"color: #008000; text-decoration-color: #008000; font-weight: bold\">Creating EPOCHS</span>\n",
       "</pre>\n"
      ],
      "text/plain": [
       " \u001b[1;32mCreating EPOCHS\u001b[0m\n"
      ]
     },
     "metadata": {},
     "output_type": "display_data"
    },
    {
     "data": {
      "text/html": [
       "<pre style=\"white-space:pre;overflow-x:auto;line-height:normal;font-family:Menlo,'DejaVu Sans Mono',consolas,'Courier New',monospace\"><span style=\"font-style: italic\">        Extraction Criteria        </span>\n",
       "┏━━━━━━━━━━━━━━━━━━━━┳━━━━━━━━━━━━┓\n",
       "┃<span style=\"font-weight: bold\"> Parameter          </span>┃<span style=\"font-weight: bold\"> Value      </span>┃\n",
       "┣━━━━━━━━━━━━━━━━━━━━╋━━━━━━━━━━━━┫\n",
       "┃<span style=\"color: #008080; text-decoration-color: #008080; font-weight: bold\"> 🧪 Trial Mode      </span>┃<span style=\"color: #808000; text-decoration-color: #808000; font-weight: bold\">            </span>┃\n",
       "┃<span style=\"color: #008080; text-decoration-color: #008080; font-weight: bold\"> 📏 Trial Unit      </span>┃<span style=\"color: #808000; text-decoration-color: #808000; font-weight: bold\"> Words      </span>┃\n",
       "┃<span style=\"color: #008080; text-decoration-color: #008080; font-weight: bold\"> 🔗 Experiment Mode </span>┃<span style=\"color: #808000; text-decoration-color: #808000; font-weight: bold\"> Experiment </span>┃\n",
       "┃<span style=\"color: #008080; text-decoration-color: #008080; font-weight: bold\"> 🎭 Trial Boundary  </span>┃<span style=\"color: #808000; text-decoration-color: #808000; font-weight: bold\"> Start      </span>┃\n",
       "┃<span style=\"color: #008080; text-decoration-color: #008080; font-weight: bold\"> 🔬 Trial Type      </span>┃<span style=\"color: #808000; text-decoration-color: #808000; font-weight: bold\"> Stimulus   </span>┃\n",
       "┃<span style=\"color: #008080; text-decoration-color: #008080; font-weight: bold\"> 📊 Modality        </span>┃<span style=\"color: #808000; text-decoration-color: #808000; font-weight: bold\"> Pictures   </span>┃\n",
       "┃<span style=\"color: #008080; text-decoration-color: #008080; font-weight: bold\"> ⏱ Tmax             </span>┃<span style=\"color: #808000; text-decoration-color: #808000; font-weight: bold\"> </span><span style=\"color: #008080; text-decoration-color: #008080; font-weight: bold\">-0.2</span><span style=\"color: #808000; text-decoration-color: #808000; font-weight: bold\">       </span>┃\n",
       "┃<span style=\"color: #008080; text-decoration-color: #008080; font-weight: bold\"> ⏳ Tmin            </span>┃<span style=\"color: #808000; text-decoration-color: #808000; font-weight: bold\"> </span><span style=\"color: #008080; text-decoration-color: #008080; font-weight: bold\">0.5</span><span style=\"color: #808000; text-decoration-color: #808000; font-weight: bold\">        </span>┃\n",
       "┗━━━━━━━━━━━━━━━━━━━━┻━━━━━━━━━━━━┛\n",
       "</pre>\n"
      ],
      "text/plain": [
       "\u001b[3m        Extraction Criteria        \u001b[0m\n",
       "┏━━━━━━━━━━━━━━━━━━━━┳━━━━━━━━━━━━┓\n",
       "┃\u001b[1m \u001b[0m\u001b[1mParameter         \u001b[0m\u001b[1m \u001b[0m┃\u001b[1m \u001b[0m\u001b[1mValue     \u001b[0m\u001b[1m \u001b[0m┃\n",
       "┣━━━━━━━━━━━━━━━━━━━━╋━━━━━━━━━━━━┫\n",
       "┃\u001b[1;36m \u001b[0m\u001b[1;36m🧪 Trial Mode     \u001b[0m\u001b[1;36m \u001b[0m┃\u001b[1;33m \u001b[0m\u001b[1;33m          \u001b[0m\u001b[1;33m \u001b[0m┃\n",
       "┃\u001b[1;36m \u001b[0m\u001b[1;36m📏 Trial Unit     \u001b[0m\u001b[1;36m \u001b[0m┃\u001b[1;33m \u001b[0m\u001b[1;33mWords     \u001b[0m\u001b[1;33m \u001b[0m┃\n",
       "┃\u001b[1;36m \u001b[0m\u001b[1;36m🔗 Experiment Mode\u001b[0m\u001b[1;36m \u001b[0m┃\u001b[1;33m \u001b[0m\u001b[1;33mExperiment\u001b[0m\u001b[1;33m \u001b[0m┃\n",
       "┃\u001b[1;36m \u001b[0m\u001b[1;36m🎭 Trial Boundary \u001b[0m\u001b[1;36m \u001b[0m┃\u001b[1;33m \u001b[0m\u001b[1;33mStart     \u001b[0m\u001b[1;33m \u001b[0m┃\n",
       "┃\u001b[1;36m \u001b[0m\u001b[1;36m🔬 Trial Type     \u001b[0m\u001b[1;36m \u001b[0m┃\u001b[1;33m \u001b[0m\u001b[1;33mStimulus  \u001b[0m\u001b[1;33m \u001b[0m┃\n",
       "┃\u001b[1;36m \u001b[0m\u001b[1;36m📊 Modality       \u001b[0m\u001b[1;36m \u001b[0m┃\u001b[1;33m \u001b[0m\u001b[1;33mPictures  \u001b[0m\u001b[1;33m \u001b[0m┃\n",
       "┃\u001b[1;36m \u001b[0m\u001b[1;36m⏱ Tmax            \u001b[0m\u001b[1;36m \u001b[0m┃\u001b[1;33m \u001b[0m\u001b[1;36m-0.2\u001b[0m\u001b[1;33m      \u001b[0m\u001b[1;33m \u001b[0m┃\n",
       "┃\u001b[1;36m \u001b[0m\u001b[1;36m⏳ Tmin           \u001b[0m\u001b[1;36m \u001b[0m┃\u001b[1;33m \u001b[0m\u001b[1;36m0.5\u001b[0m\u001b[1;33m       \u001b[0m\u001b[1;33m \u001b[0m┃\n",
       "┗━━━━━━━━━━━━━━━━━━━━┻━━━━━━━━━━━━┛\n"
      ]
     },
     "metadata": {},
     "output_type": "display_data"
    },
    {
     "name": "stdout",
     "output_type": "stream",
     "text": [
      "Not setting metadata\n",
      "130 matching events found\n",
      "Applying baseline correction (mode: mean)\n",
      "0 projection items activated\n",
      "Loading data for 130 events and 701 original time points ...\n",
      "0 bad epochs dropped\n"
     ]
    }
   ],
   "source": [
    "epochs_pictorial = reg.create_epochs_for_all(\n",
    "            trial_mode=trial_mode, trial_unit=trial_unit,\n",
    "            experiment_mode=experiment_mode, trial_boundary=trial_boundary,\n",
    "            trial_type=trial_type, modality=modality,\n",
    "            tmin=-0.2, tmax=0.5\n",
    ")"
   ]
  },
  {
   "cell_type": "code",
   "execution_count": 14,
   "metadata": {},
   "outputs": [
    {
     "data": {
      "text/plain": [
       "{('01',\n",
       "  '01'): <Epochs | 65 events (all good), -0.2 – 0.5 s (baseline -0.2 – 0 s), ~22.3 MiB, data loaded,\n",
       "  np.str_('SilentWordsExperimentStartStimulus:Pictures_silence'): 5\n",
       "  np.str_('SilentWordsExperimentStartStimulus:Pictures_pantalón'): 1\n",
       "  np.str_('SilentWordsExperimentStartStimulus:Pictures_cebolla '): 1\n",
       "  np.str_('SilentWordsExperimentStartStimulus:Pictures_peto'): 1\n",
       "  np.str_('SilentWordsExperimentStartStimulus:Pictures_foca'): 1\n",
       "  np.str_('SilentWordsExperimentStartStimulus:Pictures_tetera'): 1\n",
       "  np.str_('SilentWordsExperimentStartStimulus:Pictures_tomate '): 1\n",
       "  np.str_('SilentWordsExperimentStartStimulus:Pictures_búho'): 1\n",
       "  np.str_('SilentWordsExperimentStartStimulus:Pictures_meñique'): 1\n",
       "  np.str_('SilentWordsExperimentStartStimulus:Pictures_colador'): 1\n",
       "  and 51 more events ...>,\n",
       " ('02',\n",
       "  '01'): <Epochs | 65 events (all good), -0.2 – 0.5 s (baseline -0.2 – 0 s), ~22.3 MiB, data loaded,\n",
       "  np.str_('SilentWordsExperimentStartStimulus:Pictures_tetera'): 1\n",
       "  np.str_('SilentWordsExperimentStartStimulus:Pictures_nariz '): 1\n",
       "  np.str_('SilentWordsExperimentStartStimulus:Pictures_campana'): 1\n",
       "  np.str_('SilentWordsExperimentStartStimulus:Pictures_talón '): 1\n",
       "  np.str_('SilentWordsExperimentStartStimulus:Pictures_brócoli'): 1\n",
       "  np.str_('SilentWordsExperimentStartStimulus:Pictures_camiseta'): 1\n",
       "  np.str_('SilentWordsExperimentStartStimulus:Pictures_manzana '): 1\n",
       "  np.str_('SilentWordsExperimentStartStimulus:Pictures_pepino'): 1\n",
       "  np.str_('SilentWordsExperimentStartStimulus:Pictures_vaso'): 1\n",
       "  np.str_('SilentWordsExperimentStartStimulus:Pictures_ardilla'): 1\n",
       "  and 51 more events ...>,\n",
       " ('03',\n",
       "  '01'): <Epochs | 65 events (all good), -0.2 – 0.5 s (baseline -0.2 – 0 s), ~22.3 MiB, data loaded,\n",
       "  np.str_('SilentWordsExperimentStartStimulus:Pictures_boina'): 1\n",
       "  np.str_('SilentWordsExperimentStartStimulus:Pictures_banjo'): 1\n",
       "  np.str_('SilentWordsExperimentStartStimulus:Pictures_foca'): 1\n",
       "  np.str_('SilentWordsExperimentStartStimulus:Pictures_silence'): 5\n",
       "  np.str_('SilentWordsExperimentStartStimulus:Pictures_bufanda'): 1\n",
       "  np.str_('SilentWordsExperimentStartStimulus:Pictures_poncho'): 1\n",
       "  np.str_('SilentWordsExperimentStartStimulus:Pictures_trompeta'): 1\n",
       "  np.str_('SilentWordsExperimentStartStimulus:Pictures_gato'): 1\n",
       "  np.str_('SilentWordsExperimentStartStimulus:Pictures_tomate '): 1\n",
       "  np.str_('SilentWordsExperimentStartStimulus:Pictures_cebolla '): 1\n",
       "  and 51 more events ...>,\n",
       " ('04',\n",
       "  '01'): <Epochs | 65 events (all good), -0.2 – 0.5 s (baseline -0.2 – 0 s), ~22.3 MiB, data loaded,\n",
       "  np.str_('SilentWordsExperimentStartStimulus:Pictures_acordeón'): 1\n",
       "  np.str_('SilentWordsExperimentStartStimulus:Pictures_cuchillo'): 1\n",
       "  np.str_('SilentWordsExperimentStartStimulus:Pictures_tomate '): 1\n",
       "  np.str_('SilentWordsExperimentStartStimulus:Pictures_ojo '): 1\n",
       "  np.str_('SilentWordsExperimentStartStimulus:Pictures_campana'): 1\n",
       "  np.str_('SilentWordsExperimentStartStimulus:Pictures_batería'): 1\n",
       "  np.str_('SilentWordsExperimentStartStimulus:Pictures_hombro'): 1\n",
       "  np.str_('SilentWordsExperimentStartStimulus:Pictures_camiseta'): 1\n",
       "  np.str_('SilentWordsExperimentStartStimulus:Pictures_nariz '): 1\n",
       "  np.str_('SilentWordsExperimentStartStimulus:Pictures_tetera'): 1\n",
       "  and 51 more events ...>,\n",
       " ('04',\n",
       "  '02'): <Epochs | 65 events (all good), -0.2 – 0.5 s (baseline -0.2 – 0 s), ~22.3 MiB, data loaded,\n",
       "  np.str_('SilentWordsExperimentStartStimulus:Pictures_meñique'): 1\n",
       "  np.str_('SilentWordsExperimentStartStimulus:Pictures_piano'): 1\n",
       "  np.str_('SilentWordsExperimentStartStimulus:Pictures_manopla'): 1\n",
       "  np.str_('SilentWordsExperimentStartStimulus:Pictures_cuchillo'): 1\n",
       "  np.str_('SilentWordsExperimentStartStimulus:Pictures_paloma'): 1\n",
       "  np.str_('SilentWordsExperimentStartStimulus:Pictures_galleta'): 1\n",
       "  np.str_('SilentWordsExperimentStartStimulus:Pictures_rodilla '): 1\n",
       "  np.str_('SilentWordsExperimentStartStimulus:Pictures_naranja'): 1\n",
       "  np.str_('SilentWordsExperimentStartStimulus:Pictures_gato'): 1\n",
       "  np.str_('SilentWordsExperimentStartStimulus:Pictures_manzana '): 1\n",
       "  and 51 more events ...>,\n",
       " ('05',\n",
       "  '01'): <Epochs | 65 events (all good), -0.2 – 0.5 s (baseline -0.2 – 0 s), ~22.3 MiB, data loaded,\n",
       "  np.str_('SilentWordsExperimentStartStimulus:Pictures_galleta'): 1\n",
       "  np.str_('SilentWordsExperimentStartStimulus:Pictures_guitarra'): 1\n",
       "  np.str_('SilentWordsExperimentStartStimulus:Pictures_coliflor'): 1\n",
       "  np.str_('SilentWordsExperimentStartStimulus:Pictures_búho'): 1\n",
       "  np.str_('SilentWordsExperimentStartStimulus:Pictures_ojo '): 1\n",
       "  np.str_('SilentWordsExperimentStartStimulus:Pictures_piano'): 1\n",
       "  np.str_('SilentWordsExperimentStartStimulus:Pictures_camiseta'): 1\n",
       "  np.str_('SilentWordsExperimentStartStimulus:Pictures_silence'): 5\n",
       "  np.str_('SilentWordsExperimentStartStimulus:Pictures_nariz '): 1\n",
       "  np.str_('SilentWordsExperimentStartStimulus:Pictures_brócoli'): 1\n",
       "  and 51 more events ...>,\n",
       " ('05',\n",
       "  '02'): <Epochs | 65 events (all good), -0.2 – 0.5 s (baseline -0.2 – 0 s), ~22.3 MiB, data loaded,\n",
       "  np.str_('SilentWordsExperimentStartStimulus:Pictures_embudo '): 1\n",
       "  np.str_('SilentWordsExperimentStartStimulus:Pictures_taza'): 1\n",
       "  np.str_('SilentWordsExperimentStartStimulus:Pictures_colador'): 1\n",
       "  np.str_('SilentWordsExperimentStartStimulus:Pictures_caballo'): 1\n",
       "  np.str_('SilentWordsExperimentStartStimulus:Pictures_cucharón'): 1\n",
       "  np.str_('SilentWordsExperimentStartStimulus:Pictures_tetera'): 1\n",
       "  np.str_('SilentWordsExperimentStartStimulus:Pictures_trompeta'): 1\n",
       "  np.str_('SilentWordsExperimentStartStimulus:Pictures_clarinete'): 1\n",
       "  np.str_('SilentWordsExperimentStartStimulus:Pictures_espátula'): 1\n",
       "  np.str_('SilentWordsExperimentStartStimulus:Pictures_kiwi '): 1\n",
       "  and 51 more events ...>,\n",
       " ('06',\n",
       "  '01'): <Epochs | 65 events (all good), -0.2 – 0.5 s (baseline -0.2 – 0 s), ~22.3 MiB, data loaded,\n",
       "  np.str_('SilentWordsExperimentStartStimulus:Pictures_silence'): 5\n",
       "  np.str_('SilentWordsExperimentStartStimulus:Pictures_pantalón'): 1\n",
       "  np.str_('SilentWordsExperimentStartStimulus:Pictures_cebolla '): 1\n",
       "  np.str_('SilentWordsExperimentStartStimulus:Pictures_peto'): 1\n",
       "  np.str_('SilentWordsExperimentStartStimulus:Pictures_foca'): 1\n",
       "  np.str_('SilentWordsExperimentStartStimulus:Pictures_tetera'): 1\n",
       "  np.str_('SilentWordsExperimentStartStimulus:Pictures_tomate '): 1\n",
       "  np.str_('SilentWordsExperimentStartStimulus:Pictures_búho'): 1\n",
       "  np.str_('SilentWordsExperimentStartStimulus:Pictures_meñique'): 1\n",
       "  np.str_('SilentWordsExperimentStartStimulus:Pictures_colador'): 1\n",
       "  and 51 more events ...>,\n",
       " ('06',\n",
       "  '02'): <Epochs | 65 events (all good), -0.2 – 0.5 s (baseline -0.2 – 0 s), ~22.3 MiB, data loaded,\n",
       "  np.str_('SilentWordsExperimentStartStimulus:Pictures_bolso'): 1\n",
       "  np.str_('SilentWordsExperimentStartStimulus:Pictures_manopla'): 1\n",
       "  np.str_('SilentWordsExperimentStartStimulus:Pictures_trompeta'): 1\n",
       "  np.str_('SilentWordsExperimentStartStimulus:Pictures_talón '): 1\n",
       "  np.str_('SilentWordsExperimentStartStimulus:Pictures_boina'): 1\n",
       "  np.str_('SilentWordsExperimentStartStimulus:Pictures_silence'): 5\n",
       "  np.str_('SilentWordsExperimentStartStimulus:Pictures_banjo'): 1\n",
       "  np.str_('SilentWordsExperimentStartStimulus:Pictures_brócoli'): 1\n",
       "  np.str_('SilentWordsExperimentStartStimulus:Pictures_arpa '): 1\n",
       "  np.str_('SilentWordsExperimentStartStimulus:Pictures_piano'): 1\n",
       "  and 51 more events ...>,\n",
       " ('07',\n",
       "  '01'): <Epochs | 65 events (all good), -0.2 – 0.5 s (baseline -0.2 – 0 s), ~22.3 MiB, data loaded,\n",
       "  np.str_('SilentWordsExperimentStartStimulus:Pictures_meñique'): 1\n",
       "  np.str_('SilentWordsExperimentStartStimulus:Pictures_cucharón'): 1\n",
       "  np.str_('SilentWordsExperimentStartStimulus:Pictures_acordeón'): 1\n",
       "  np.str_('SilentWordsExperimentStartStimulus:Pictures_embudo '): 1\n",
       "  np.str_('SilentWordsExperimentStartStimulus:Pictures_brócoli'): 1\n",
       "  np.str_('SilentWordsExperimentStartStimulus:Pictures_rodilla '): 1\n",
       "  np.str_('SilentWordsExperimentStartStimulus:Pictures_bufanda'): 1\n",
       "  np.str_('SilentWordsExperimentStartStimulus:Pictures_muela '): 1\n",
       "  np.str_('SilentWordsExperimentStartStimulus:Pictures_paloma'): 1\n",
       "  np.str_('SilentWordsExperimentStartStimulus:Pictures_boina'): 1\n",
       "  and 51 more events ...>,\n",
       " ('08',\n",
       "  '01'): <Epochs | 65 events (all good), -0.2 – 0.5 s (baseline -0.2 – 0 s), ~22.3 MiB, data loaded,\n",
       "  np.str_('SilentWordsExperimentStartStimulus:Pictures_caballo'): 1\n",
       "  np.str_('SilentWordsExperimentStartStimulus:Pictures_foca'): 1\n",
       "  np.str_('SilentWordsExperimentStartStimulus:Pictures_acordeón'): 1\n",
       "  np.str_('SilentWordsExperimentStartStimulus:Pictures_muela '): 1\n",
       "  np.str_('SilentWordsExperimentStartStimulus:Pictures_sartén'): 1\n",
       "  np.str_('SilentWordsExperimentStartStimulus:Pictures_colador'): 1\n",
       "  np.str_('SilentWordsExperimentStartStimulus:Pictures_vaso'): 1\n",
       "  np.str_('SilentWordsExperimentStartStimulus:Pictures_naranja'): 1\n",
       "  np.str_('SilentWordsExperimentStartStimulus:Pictures_clarinete'): 1\n",
       "  np.str_('SilentWordsExperimentStartStimulus:Pictures_espátula'): 1\n",
       "  and 51 more events ...>,\n",
       " ('09',\n",
       "  '01'): <Epochs | 65 events (all good), -0.2 – 0.5 s (baseline -0.2 – 0 s), ~22.3 MiB, data loaded,\n",
       "  np.str_('SilentWordsExperimentStartStimulus:Pictures_arpa '): 1\n",
       "  np.str_('SilentWordsExperimentStartStimulus:Pictures_zapato'): 1\n",
       "  np.str_('SilentWordsExperimentStartStimulus:Pictures_león'): 1\n",
       "  np.str_('SilentWordsExperimentStartStimulus:Pictures_silence'): 5\n",
       "  np.str_('SilentWordsExperimentStartStimulus:Pictures_ardilla'): 1\n",
       "  np.str_('SilentWordsExperimentStartStimulus:Pictures_meñique'): 1\n",
       "  np.str_('SilentWordsExperimentStartStimulus:Pictures_oreja '): 1\n",
       "  np.str_('SilentWordsExperimentStartStimulus:Pictures_trompeta'): 1\n",
       "  np.str_('SilentWordsExperimentStartStimulus:Pictures_manopla'): 1\n",
       "  np.str_('SilentWordsExperimentStartStimulus:Pictures_mono'): 1\n",
       "  and 51 more events ...>,\n",
       " ('09',\n",
       "  '02'): <Epochs | 65 events (all good), -0.2 – 0.5 s (baseline -0.2 – 0 s), ~22.3 MiB, data loaded,\n",
       "  np.str_('SilentWordsExperimentStartStimulus:Pictures_nariz '): 1\n",
       "  np.str_('SilentWordsExperimentStartStimulus:Pictures_silence'): 5\n",
       "  np.str_('SilentWordsExperimentStartStimulus:Pictures_muela '): 1\n",
       "  np.str_('SilentWordsExperimentStartStimulus:Pictures_mono'): 1\n",
       "  np.str_('SilentWordsExperimentStartStimulus:Pictures_paloma'): 1\n",
       "  np.str_('SilentWordsExperimentStartStimulus:Pictures_zapato'): 1\n",
       "  np.str_('SilentWordsExperimentStartStimulus:Pictures_león'): 1\n",
       "  np.str_('SilentWordsExperimentStartStimulus:Pictures_banjo'): 1\n",
       "  np.str_('SilentWordsExperimentStartStimulus:Pictures_caballo'): 1\n",
       "  np.str_('SilentWordsExperimentStartStimulus:Pictures_cebolla '): 1\n",
       "  and 51 more events ...>,\n",
       " ('10',\n",
       "  '01'): <Epochs | 65 events (all good), -0.2 – 0.5 s (baseline -0.2 – 0 s), ~22.3 MiB, data loaded,\n",
       "  np.str_('SilentWordsExperimentStartStimulus:Pictures_clarinete'): 1\n",
       "  np.str_('SilentWordsExperimentStartStimulus:Pictures_cinturón'): 1\n",
       "  np.str_('SilentWordsExperimentStartStimulus:Pictures_loro'): 1\n",
       "  np.str_('SilentWordsExperimentStartStimulus:Pictures_bolso'): 1\n",
       "  np.str_('SilentWordsExperimentStartStimulus:Pictures_tomate '): 1\n",
       "  np.str_('SilentWordsExperimentStartStimulus:Pictures_micrófono'): 1\n",
       "  np.str_('SilentWordsExperimentStartStimulus:Pictures_búho'): 1\n",
       "  np.str_('SilentWordsExperimentStartStimulus:Pictures_manopla'): 1\n",
       "  np.str_('SilentWordsExperimentStartStimulus:Pictures_boina'): 1\n",
       "  np.str_('SilentWordsExperimentStartStimulus:Pictures_hombro'): 1\n",
       "  and 51 more events ...>,\n",
       " ('11',\n",
       "  '01'): <Epochs | 65 events (all good), -0.2 – 0.5 s (baseline -0.2 – 0 s), ~22.3 MiB, data loaded,\n",
       "  np.str_('SilentWordsExperimentStartStimulus:Pictures_cinturón'): 1\n",
       "  np.str_('SilentWordsExperimentStartStimulus:Pictures_zapato'): 1\n",
       "  np.str_('SilentWordsExperimentStartStimulus:Pictures_boina'): 1\n",
       "  np.str_('SilentWordsExperimentStartStimulus:Pictures_manzana '): 1\n",
       "  np.str_('SilentWordsExperimentStartStimulus:Pictures_campana'): 1\n",
       "  np.str_('SilentWordsExperimentStartStimulus:Pictures_muela '): 1\n",
       "  np.str_('SilentWordsExperimentStartStimulus:Pictures_silence'): 5\n",
       "  np.str_('SilentWordsExperimentStartStimulus:Pictures_sartén'): 1\n",
       "  np.str_('SilentWordsExperimentStartStimulus:Pictures_meñique'): 1\n",
       "  np.str_('SilentWordsExperimentStartStimulus:Pictures_tomate '): 1\n",
       "  and 51 more events ...>,\n",
       " ('12',\n",
       "  '01'): <Epochs | 65 events (all good), -0.2 – 0.5 s (baseline -0.2 – 0 s), ~22.3 MiB, data loaded,\n",
       "  np.str_('SilentWordsExperimentStartStimulus:Pictures_manzana '): 1\n",
       "  np.str_('SilentWordsExperimentStartStimulus:Pictures_galleta'): 1\n",
       "  np.str_('SilentWordsExperimentStartStimulus:Pictures_hiena'): 1\n",
       "  np.str_('SilentWordsExperimentStartStimulus:Pictures_piano'): 1\n",
       "  np.str_('SilentWordsExperimentStartStimulus:Pictures_loro'): 1\n",
       "  np.str_('SilentWordsExperimentStartStimulus:Pictures_rodilla '): 1\n",
       "  np.str_('SilentWordsExperimentStartStimulus:Pictures_mono'): 1\n",
       "  np.str_('SilentWordsExperimentStartStimulus:Pictures_pantorrilla'): 1\n",
       "  np.str_('SilentWordsExperimentStartStimulus:Pictures_meñique'): 1\n",
       "  np.str_('SilentWordsExperimentStartStimulus:Pictures_cebolla '): 1\n",
       "  and 51 more events ...>,\n",
       " ('12',\n",
       "  '02'): <Epochs | 65 events (all good), -0.2 – 0.5 s (baseline -0.2 – 0 s), ~22.3 MiB, data loaded,\n",
       "  np.str_('SilentWordsExperimentStartStimulus:Pictures_boina'): 1\n",
       "  np.str_('SilentWordsExperimentStartStimulus:Pictures_sandía'): 1\n",
       "  np.str_('SilentWordsExperimentStartStimulus:Pictures_espátula'): 1\n",
       "  np.str_('SilentWordsExperimentStartStimulus:Pictures_ardilla'): 1\n",
       "  np.str_('SilentWordsExperimentStartStimulus:Pictures_foca'): 1\n",
       "  np.str_('SilentWordsExperimentStartStimulus:Pictures_manopla'): 1\n",
       "  np.str_('SilentWordsExperimentStartStimulus:Pictures_trompeta'): 1\n",
       "  np.str_('SilentWordsExperimentStartStimulus:Pictures_pantalón'): 1\n",
       "  np.str_('SilentWordsExperimentStartStimulus:Pictures_camiseta'): 1\n",
       "  np.str_('SilentWordsExperimentStartStimulus:Pictures_loro'): 1\n",
       "  and 51 more events ...>,\n",
       " ('13',\n",
       "  '01'): <Epochs | 65 events (all good), -0.2 – 0.5 s (baseline -0.2 – 0 s), ~22.3 MiB, data loaded,\n",
       "  np.str_('SilentWordsExperimentStartStimulus:Pictures_silence'): 5\n",
       "  np.str_('SilentWordsExperimentStartStimulus:Pictures_hiena'): 1\n",
       "  np.str_('SilentWordsExperimentStartStimulus:Pictures_bolso'): 1\n",
       "  np.str_('SilentWordsExperimentStartStimulus:Pictures_colador'): 1\n",
       "  np.str_('SilentWordsExperimentStartStimulus:Pictures_talón '): 1\n",
       "  np.str_('SilentWordsExperimentStartStimulus:Pictures_micrófono'): 1\n",
       "  np.str_('SilentWordsExperimentStartStimulus:Pictures_cuchillo'): 1\n",
       "  np.str_('SilentWordsExperimentStartStimulus:Pictures_poncho'): 1\n",
       "  np.str_('SilentWordsExperimentStartStimulus:Pictures_ardilla'): 1\n",
       "  np.str_('SilentWordsExperimentStartStimulus:Pictures_acordeón'): 1\n",
       "  and 51 more events ...>,\n",
       " ('13',\n",
       "  '02'): <Epochs | 65 events (all good), -0.2 – 0.5 s (baseline -0.2 – 0 s), ~22.3 MiB, data loaded,\n",
       "  np.str_('SilentWordsExperimentStartStimulus:Pictures_silence'): 5\n",
       "  np.str_('SilentWordsExperimentStartStimulus:Pictures_batería'): 1\n",
       "  np.str_('SilentWordsExperimentStartStimulus:Pictures_caballo'): 1\n",
       "  np.str_('SilentWordsExperimentStartStimulus:Pictures_hombro'): 1\n",
       "  np.str_('SilentWordsExperimentStartStimulus:Pictures_talón '): 1\n",
       "  np.str_('SilentWordsExperimentStartStimulus:Pictures_camiseta'): 1\n",
       "  np.str_('SilentWordsExperimentStartStimulus:Pictures_muela '): 1\n",
       "  np.str_('SilentWordsExperimentStartStimulus:Pictures_cucharón'): 1\n",
       "  np.str_('SilentWordsExperimentStartStimulus:Pictures_plato'): 1\n",
       "  np.str_('SilentWordsExperimentStartStimulus:Pictures_cinturón'): 1\n",
       "  and 51 more events ...>,\n",
       " ('14',\n",
       "  '01'): <Epochs | 65 events (all good), -0.2 – 0.5 s (baseline -0.2 – 0 s), ~22.3 MiB, data loaded,\n",
       "  np.str_('SilentWordsExperimentStartStimulus:Pictures_manzana '): 1\n",
       "  np.str_('SilentWordsExperimentStartStimulus:Pictures_bufanda'): 1\n",
       "  np.str_('SilentWordsExperimentStartStimulus:Pictures_oreja '): 1\n",
       "  np.str_('SilentWordsExperimentStartStimulus:Pictures_sandía'): 1\n",
       "  np.str_('SilentWordsExperimentStartStimulus:Pictures_zapato'): 1\n",
       "  np.str_('SilentWordsExperimentStartStimulus:Pictures_cebolla '): 1\n",
       "  np.str_('SilentWordsExperimentStartStimulus:Pictures_naranja'): 1\n",
       "  np.str_('SilentWordsExperimentStartStimulus:Pictures_silence'): 5\n",
       "  np.str_('SilentWordsExperimentStartStimulus:Pictures_vaso'): 1\n",
       "  np.str_('SilentWordsExperimentStartStimulus:Pictures_boina'): 1\n",
       "  and 51 more events ...>}"
      ]
     },
     "execution_count": 14,
     "metadata": {},
     "output_type": "execute_result"
    }
   ],
   "source": [
    "epochs_pictorial"
   ]
  },
  {
   "cell_type": "code",
   "execution_count": null,
   "metadata": {},
   "outputs": [],
   "source": []
  },
  {
   "cell_type": "code",
   "execution_count": null,
   "metadata": {},
   "outputs": [],
   "source": []
  },
  {
   "cell_type": "code",
   "execution_count": 26,
   "metadata": {},
   "outputs": [
    {
     "data": {
      "text/html": [
       "<pre style=\"white-space:pre;overflow-x:auto;line-height:normal;font-family:Menlo,'DejaVu Sans Mono',consolas,'Courier New',monospace\"> <span style=\"color: #800000; text-decoration-color: #800000; font-weight: bold\">Creating EPOCHS for all subjects</span>\n",
       "</pre>\n"
      ],
      "text/plain": [
       " \u001b[1;31mCreating EPOCHS for all subjects\u001b[0m\n"
      ]
     },
     "metadata": {},
     "output_type": "display_data"
    },
    {
     "data": {
      "text/html": [
       "<pre style=\"white-space:pre;overflow-x:auto;line-height:normal;font-family:Menlo,'DejaVu Sans Mono',consolas,'Courier New',monospace\"> <span style=\"color: #008000; text-decoration-color: #008000; font-weight: bold\">Loading for sub-</span><span style=\"color: #008000; text-decoration-color: #008000; font-weight: bold\">01</span><span style=\"color: #008000; text-decoration-color: #008000; font-weight: bold\">, ses-</span><span style=\"color: #008000; text-decoration-color: #008000; font-weight: bold\">01</span>\n",
       "</pre>\n"
      ],
      "text/plain": [
       " \u001b[1;32mLoading for sub-\u001b[0m\u001b[1;32m01\u001b[0m\u001b[1;32m, ses-\u001b[0m\u001b[1;32m01\u001b[0m\n"
      ]
     },
     "metadata": {},
     "output_type": "display_data"
    },
    {
     "data": {
      "text/html": [
       "<pre style=\"white-space:pre;overflow-x:auto;line-height:normal;font-family:Menlo,'DejaVu Sans Mono',consolas,'Courier New',monospace\"><span style=\"color: #800000; text-decoration-color: #800000\">╭────────────────────────────────╮</span>\n",
       "<span style=\"color: #800000; text-decoration-color: #800000\">│</span>  <span style=\"color: #800000; text-decoration-color: #800000; font-weight: bold\">Initializing DataLoader Class</span> <span style=\"color: #800000; text-decoration-color: #800000\">│</span>\n",
       "<span style=\"color: #800000; text-decoration-color: #800000\">╰────────────────────────────────╯</span>\n",
       "</pre>\n"
      ],
      "text/plain": [
       "\u001b[31m╭────────────────────────────────╮\u001b[0m\n",
       "\u001b[31m│\u001b[0m  \u001b[1;31mInitializing DataLoader Class\u001b[0m \u001b[31m│\u001b[0m\n",
       "\u001b[31m╰────────────────────────────────╯\u001b[0m\n"
      ]
     },
     "metadata": {},
     "output_type": "display_data"
    },
    {
     "data": {
      "text/html": [
       "<pre style=\"white-space:pre;overflow-x:auto;line-height:normal;font-family:Menlo,'DejaVu Sans Mono',consolas,'Courier New',monospace\"> <span style=\"color: #008000; text-decoration-color: #008000; font-weight: bold\">Creating EPOCHS</span>\n",
       "</pre>\n"
      ],
      "text/plain": [
       " \u001b[1;32mCreating EPOCHS\u001b[0m\n"
      ]
     },
     "metadata": {},
     "output_type": "display_data"
    },
    {
     "data": {
      "text/html": [
       "<pre style=\"white-space:pre;overflow-x:auto;line-height:normal;font-family:Menlo,'DejaVu Sans Mono',consolas,'Courier New',monospace\"><span style=\"font-style: italic\">        Extraction Criteria        </span>\n",
       "┏━━━━━━━━━━━━━━━━━━━━┳━━━━━━━━━━━━┓\n",
       "┃<span style=\"font-weight: bold\"> Parameter          </span>┃<span style=\"font-weight: bold\"> Value      </span>┃\n",
       "┣━━━━━━━━━━━━━━━━━━━━╋━━━━━━━━━━━━┫\n",
       "┃<span style=\"color: #008080; text-decoration-color: #008080; font-weight: bold\"> 🧪 Trial Mode      </span>┃<span style=\"color: #808000; text-decoration-color: #808000; font-weight: bold\">            </span>┃\n",
       "┃<span style=\"color: #008080; text-decoration-color: #008080; font-weight: bold\"> 📏 Trial Unit      </span>┃<span style=\"color: #808000; text-decoration-color: #808000; font-weight: bold\"> Words      </span>┃\n",
       "┃<span style=\"color: #008080; text-decoration-color: #008080; font-weight: bold\"> 🔗 Experiment Mode </span>┃<span style=\"color: #808000; text-decoration-color: #808000; font-weight: bold\"> Experiment </span>┃\n",
       "┃<span style=\"color: #008080; text-decoration-color: #008080; font-weight: bold\"> 🎭 Trial Boundary  </span>┃<span style=\"color: #808000; text-decoration-color: #808000; font-weight: bold\"> Start      </span>┃\n",
       "┃<span style=\"color: #008080; text-decoration-color: #008080; font-weight: bold\"> 🔬 Trial Type      </span>┃<span style=\"color: #808000; text-decoration-color: #808000; font-weight: bold\"> Fixation   </span>┃\n",
       "┃<span style=\"color: #008080; text-decoration-color: #008080; font-weight: bold\"> 📊 Modality        </span>┃<span style=\"color: #808000; text-decoration-color: #808000; font-weight: bold\"> Pictures   </span>┃\n",
       "┃<span style=\"color: #008080; text-decoration-color: #008080; font-weight: bold\"> ⏱ Tmax             </span>┃<span style=\"color: #808000; text-decoration-color: #808000; font-weight: bold\"> </span><span style=\"color: #008080; text-decoration-color: #008080; font-weight: bold\">0.3</span><span style=\"color: #808000; text-decoration-color: #808000; font-weight: bold\">        </span>┃\n",
       "┃<span style=\"color: #008080; text-decoration-color: #008080; font-weight: bold\"> ⏳ Tmin            </span>┃<span style=\"color: #808000; text-decoration-color: #808000; font-weight: bold\"> </span><span style=\"color: #008080; text-decoration-color: #008080; font-weight: bold\">1.0</span><span style=\"color: #808000; text-decoration-color: #808000; font-weight: bold\">        </span>┃\n",
       "┗━━━━━━━━━━━━━━━━━━━━┻━━━━━━━━━━━━┛\n",
       "</pre>\n"
      ],
      "text/plain": [
       "\u001b[3m        Extraction Criteria        \u001b[0m\n",
       "┏━━━━━━━━━━━━━━━━━━━━┳━━━━━━━━━━━━┓\n",
       "┃\u001b[1m \u001b[0m\u001b[1mParameter         \u001b[0m\u001b[1m \u001b[0m┃\u001b[1m \u001b[0m\u001b[1mValue     \u001b[0m\u001b[1m \u001b[0m┃\n",
       "┣━━━━━━━━━━━━━━━━━━━━╋━━━━━━━━━━━━┫\n",
       "┃\u001b[1;36m \u001b[0m\u001b[1;36m🧪 Trial Mode     \u001b[0m\u001b[1;36m \u001b[0m┃\u001b[1;33m \u001b[0m\u001b[1;33m          \u001b[0m\u001b[1;33m \u001b[0m┃\n",
       "┃\u001b[1;36m \u001b[0m\u001b[1;36m📏 Trial Unit     \u001b[0m\u001b[1;36m \u001b[0m┃\u001b[1;33m \u001b[0m\u001b[1;33mWords     \u001b[0m\u001b[1;33m \u001b[0m┃\n",
       "┃\u001b[1;36m \u001b[0m\u001b[1;36m🔗 Experiment Mode\u001b[0m\u001b[1;36m \u001b[0m┃\u001b[1;33m \u001b[0m\u001b[1;33mExperiment\u001b[0m\u001b[1;33m \u001b[0m┃\n",
       "┃\u001b[1;36m \u001b[0m\u001b[1;36m🎭 Trial Boundary \u001b[0m\u001b[1;36m \u001b[0m┃\u001b[1;33m \u001b[0m\u001b[1;33mStart     \u001b[0m\u001b[1;33m \u001b[0m┃\n",
       "┃\u001b[1;36m \u001b[0m\u001b[1;36m🔬 Trial Type     \u001b[0m\u001b[1;36m \u001b[0m┃\u001b[1;33m \u001b[0m\u001b[1;33mFixation  \u001b[0m\u001b[1;33m \u001b[0m┃\n",
       "┃\u001b[1;36m \u001b[0m\u001b[1;36m📊 Modality       \u001b[0m\u001b[1;36m \u001b[0m┃\u001b[1;33m \u001b[0m\u001b[1;33mPictures  \u001b[0m\u001b[1;33m \u001b[0m┃\n",
       "┃\u001b[1;36m \u001b[0m\u001b[1;36m⏱ Tmax            \u001b[0m\u001b[1;36m \u001b[0m┃\u001b[1;33m \u001b[0m\u001b[1;36m0.3\u001b[0m\u001b[1;33m       \u001b[0m\u001b[1;33m \u001b[0m┃\n",
       "┃\u001b[1;36m \u001b[0m\u001b[1;36m⏳ Tmin           \u001b[0m\u001b[1;36m \u001b[0m┃\u001b[1;33m \u001b[0m\u001b[1;36m1.0\u001b[0m\u001b[1;33m       \u001b[0m\u001b[1;33m \u001b[0m┃\n",
       "┗━━━━━━━━━━━━━━━━━━━━┻━━━━━━━━━━━━┛\n"
      ]
     },
     "metadata": {},
     "output_type": "display_data"
    },
    {
     "name": "stdout",
     "output_type": "stream",
     "text": [
      "Not setting metadata\n",
      "130 matching events found\n",
      "Applying baseline correction (mode: mean)\n",
      "0 projection items activated\n",
      "Loading data for 130 events and 701 original time points ...\n",
      "0 bad epochs dropped\n"
     ]
    },
    {
     "data": {
      "text/html": [
       "<pre style=\"white-space:pre;overflow-x:auto;line-height:normal;font-family:Menlo,'DejaVu Sans Mono',consolas,'Courier New',monospace\"> <span style=\"color: #008000; text-decoration-color: #008000; font-weight: bold\">Loading for sub-</span><span style=\"color: #008000; text-decoration-color: #008000; font-weight: bold\">02</span><span style=\"color: #008000; text-decoration-color: #008000; font-weight: bold\">, ses-</span><span style=\"color: #008000; text-decoration-color: #008000; font-weight: bold\">01</span>\n",
       "</pre>\n"
      ],
      "text/plain": [
       " \u001b[1;32mLoading for sub-\u001b[0m\u001b[1;32m02\u001b[0m\u001b[1;32m, ses-\u001b[0m\u001b[1;32m01\u001b[0m\n"
      ]
     },
     "metadata": {},
     "output_type": "display_data"
    },
    {
     "data": {
      "text/html": [
       "<pre style=\"white-space:pre;overflow-x:auto;line-height:normal;font-family:Menlo,'DejaVu Sans Mono',consolas,'Courier New',monospace\"><span style=\"color: #800000; text-decoration-color: #800000\">╭────────────────────────────────╮</span>\n",
       "<span style=\"color: #800000; text-decoration-color: #800000\">│</span>  <span style=\"color: #800000; text-decoration-color: #800000; font-weight: bold\">Initializing DataLoader Class</span> <span style=\"color: #800000; text-decoration-color: #800000\">│</span>\n",
       "<span style=\"color: #800000; text-decoration-color: #800000\">╰────────────────────────────────╯</span>\n",
       "</pre>\n"
      ],
      "text/plain": [
       "\u001b[31m╭────────────────────────────────╮\u001b[0m\n",
       "\u001b[31m│\u001b[0m  \u001b[1;31mInitializing DataLoader Class\u001b[0m \u001b[31m│\u001b[0m\n",
       "\u001b[31m╰────────────────────────────────╯\u001b[0m\n"
      ]
     },
     "metadata": {},
     "output_type": "display_data"
    },
    {
     "data": {
      "text/html": [
       "<pre style=\"white-space:pre;overflow-x:auto;line-height:normal;font-family:Menlo,'DejaVu Sans Mono',consolas,'Courier New',monospace\"> <span style=\"color: #008000; text-decoration-color: #008000; font-weight: bold\">Creating EPOCHS</span>\n",
       "</pre>\n"
      ],
      "text/plain": [
       " \u001b[1;32mCreating EPOCHS\u001b[0m\n"
      ]
     },
     "metadata": {},
     "output_type": "display_data"
    },
    {
     "data": {
      "text/html": [
       "<pre style=\"white-space:pre;overflow-x:auto;line-height:normal;font-family:Menlo,'DejaVu Sans Mono',consolas,'Courier New',monospace\"><span style=\"font-style: italic\">        Extraction Criteria        </span>\n",
       "┏━━━━━━━━━━━━━━━━━━━━┳━━━━━━━━━━━━┓\n",
       "┃<span style=\"font-weight: bold\"> Parameter          </span>┃<span style=\"font-weight: bold\"> Value      </span>┃\n",
       "┣━━━━━━━━━━━━━━━━━━━━╋━━━━━━━━━━━━┫\n",
       "┃<span style=\"color: #008080; text-decoration-color: #008080; font-weight: bold\"> 🧪 Trial Mode      </span>┃<span style=\"color: #808000; text-decoration-color: #808000; font-weight: bold\">            </span>┃\n",
       "┃<span style=\"color: #008080; text-decoration-color: #008080; font-weight: bold\"> 📏 Trial Unit      </span>┃<span style=\"color: #808000; text-decoration-color: #808000; font-weight: bold\"> Words      </span>┃\n",
       "┃<span style=\"color: #008080; text-decoration-color: #008080; font-weight: bold\"> 🔗 Experiment Mode </span>┃<span style=\"color: #808000; text-decoration-color: #808000; font-weight: bold\"> Experiment </span>┃\n",
       "┃<span style=\"color: #008080; text-decoration-color: #008080; font-weight: bold\"> 🎭 Trial Boundary  </span>┃<span style=\"color: #808000; text-decoration-color: #808000; font-weight: bold\"> Start      </span>┃\n",
       "┃<span style=\"color: #008080; text-decoration-color: #008080; font-weight: bold\"> 🔬 Trial Type      </span>┃<span style=\"color: #808000; text-decoration-color: #808000; font-weight: bold\"> Fixation   </span>┃\n",
       "┃<span style=\"color: #008080; text-decoration-color: #008080; font-weight: bold\"> 📊 Modality        </span>┃<span style=\"color: #808000; text-decoration-color: #808000; font-weight: bold\"> Pictures   </span>┃\n",
       "┃<span style=\"color: #008080; text-decoration-color: #008080; font-weight: bold\"> ⏱ Tmax             </span>┃<span style=\"color: #808000; text-decoration-color: #808000; font-weight: bold\"> </span><span style=\"color: #008080; text-decoration-color: #008080; font-weight: bold\">0.3</span><span style=\"color: #808000; text-decoration-color: #808000; font-weight: bold\">        </span>┃\n",
       "┃<span style=\"color: #008080; text-decoration-color: #008080; font-weight: bold\"> ⏳ Tmin            </span>┃<span style=\"color: #808000; text-decoration-color: #808000; font-weight: bold\"> </span><span style=\"color: #008080; text-decoration-color: #008080; font-weight: bold\">1.0</span><span style=\"color: #808000; text-decoration-color: #808000; font-weight: bold\">        </span>┃\n",
       "┗━━━━━━━━━━━━━━━━━━━━┻━━━━━━━━━━━━┛\n",
       "</pre>\n"
      ],
      "text/plain": [
       "\u001b[3m        Extraction Criteria        \u001b[0m\n",
       "┏━━━━━━━━━━━━━━━━━━━━┳━━━━━━━━━━━━┓\n",
       "┃\u001b[1m \u001b[0m\u001b[1mParameter         \u001b[0m\u001b[1m \u001b[0m┃\u001b[1m \u001b[0m\u001b[1mValue     \u001b[0m\u001b[1m \u001b[0m┃\n",
       "┣━━━━━━━━━━━━━━━━━━━━╋━━━━━━━━━━━━┫\n",
       "┃\u001b[1;36m \u001b[0m\u001b[1;36m🧪 Trial Mode     \u001b[0m\u001b[1;36m \u001b[0m┃\u001b[1;33m \u001b[0m\u001b[1;33m          \u001b[0m\u001b[1;33m \u001b[0m┃\n",
       "┃\u001b[1;36m \u001b[0m\u001b[1;36m📏 Trial Unit     \u001b[0m\u001b[1;36m \u001b[0m┃\u001b[1;33m \u001b[0m\u001b[1;33mWords     \u001b[0m\u001b[1;33m \u001b[0m┃\n",
       "┃\u001b[1;36m \u001b[0m\u001b[1;36m🔗 Experiment Mode\u001b[0m\u001b[1;36m \u001b[0m┃\u001b[1;33m \u001b[0m\u001b[1;33mExperiment\u001b[0m\u001b[1;33m \u001b[0m┃\n",
       "┃\u001b[1;36m \u001b[0m\u001b[1;36m🎭 Trial Boundary \u001b[0m\u001b[1;36m \u001b[0m┃\u001b[1;33m \u001b[0m\u001b[1;33mStart     \u001b[0m\u001b[1;33m \u001b[0m┃\n",
       "┃\u001b[1;36m \u001b[0m\u001b[1;36m🔬 Trial Type     \u001b[0m\u001b[1;36m \u001b[0m┃\u001b[1;33m \u001b[0m\u001b[1;33mFixation  \u001b[0m\u001b[1;33m \u001b[0m┃\n",
       "┃\u001b[1;36m \u001b[0m\u001b[1;36m📊 Modality       \u001b[0m\u001b[1;36m \u001b[0m┃\u001b[1;33m \u001b[0m\u001b[1;33mPictures  \u001b[0m\u001b[1;33m \u001b[0m┃\n",
       "┃\u001b[1;36m \u001b[0m\u001b[1;36m⏱ Tmax            \u001b[0m\u001b[1;36m \u001b[0m┃\u001b[1;33m \u001b[0m\u001b[1;36m0.3\u001b[0m\u001b[1;33m       \u001b[0m\u001b[1;33m \u001b[0m┃\n",
       "┃\u001b[1;36m \u001b[0m\u001b[1;36m⏳ Tmin           \u001b[0m\u001b[1;36m \u001b[0m┃\u001b[1;33m \u001b[0m\u001b[1;36m1.0\u001b[0m\u001b[1;33m       \u001b[0m\u001b[1;33m \u001b[0m┃\n",
       "┗━━━━━━━━━━━━━━━━━━━━┻━━━━━━━━━━━━┛\n"
      ]
     },
     "metadata": {},
     "output_type": "display_data"
    },
    {
     "name": "stdout",
     "output_type": "stream",
     "text": [
      "Not setting metadata\n",
      "130 matching events found\n",
      "Applying baseline correction (mode: mean)\n",
      "0 projection items activated\n",
      "Loading data for 130 events and 701 original time points ...\n",
      "0 bad epochs dropped\n"
     ]
    },
    {
     "data": {
      "text/html": [
       "<pre style=\"white-space:pre;overflow-x:auto;line-height:normal;font-family:Menlo,'DejaVu Sans Mono',consolas,'Courier New',monospace\"> <span style=\"color: #008000; text-decoration-color: #008000; font-weight: bold\">Loading for sub-</span><span style=\"color: #008000; text-decoration-color: #008000; font-weight: bold\">03</span><span style=\"color: #008000; text-decoration-color: #008000; font-weight: bold\">, ses-</span><span style=\"color: #008000; text-decoration-color: #008000; font-weight: bold\">01</span>\n",
       "</pre>\n"
      ],
      "text/plain": [
       " \u001b[1;32mLoading for sub-\u001b[0m\u001b[1;32m03\u001b[0m\u001b[1;32m, ses-\u001b[0m\u001b[1;32m01\u001b[0m\n"
      ]
     },
     "metadata": {},
     "output_type": "display_data"
    },
    {
     "data": {
      "text/html": [
       "<pre style=\"white-space:pre;overflow-x:auto;line-height:normal;font-family:Menlo,'DejaVu Sans Mono',consolas,'Courier New',monospace\"><span style=\"color: #800000; text-decoration-color: #800000\">╭────────────────────────────────╮</span>\n",
       "<span style=\"color: #800000; text-decoration-color: #800000\">│</span>  <span style=\"color: #800000; text-decoration-color: #800000; font-weight: bold\">Initializing DataLoader Class</span> <span style=\"color: #800000; text-decoration-color: #800000\">│</span>\n",
       "<span style=\"color: #800000; text-decoration-color: #800000\">╰────────────────────────────────╯</span>\n",
       "</pre>\n"
      ],
      "text/plain": [
       "\u001b[31m╭────────────────────────────────╮\u001b[0m\n",
       "\u001b[31m│\u001b[0m  \u001b[1;31mInitializing DataLoader Class\u001b[0m \u001b[31m│\u001b[0m\n",
       "\u001b[31m╰────────────────────────────────╯\u001b[0m\n"
      ]
     },
     "metadata": {},
     "output_type": "display_data"
    },
    {
     "data": {
      "text/html": [
       "<pre style=\"white-space:pre;overflow-x:auto;line-height:normal;font-family:Menlo,'DejaVu Sans Mono',consolas,'Courier New',monospace\"> <span style=\"color: #008000; text-decoration-color: #008000; font-weight: bold\">Creating EPOCHS</span>\n",
       "</pre>\n"
      ],
      "text/plain": [
       " \u001b[1;32mCreating EPOCHS\u001b[0m\n"
      ]
     },
     "metadata": {},
     "output_type": "display_data"
    },
    {
     "data": {
      "text/html": [
       "<pre style=\"white-space:pre;overflow-x:auto;line-height:normal;font-family:Menlo,'DejaVu Sans Mono',consolas,'Courier New',monospace\"><span style=\"font-style: italic\">        Extraction Criteria        </span>\n",
       "┏━━━━━━━━━━━━━━━━━━━━┳━━━━━━━━━━━━┓\n",
       "┃<span style=\"font-weight: bold\"> Parameter          </span>┃<span style=\"font-weight: bold\"> Value      </span>┃\n",
       "┣━━━━━━━━━━━━━━━━━━━━╋━━━━━━━━━━━━┫\n",
       "┃<span style=\"color: #008080; text-decoration-color: #008080; font-weight: bold\"> 🧪 Trial Mode      </span>┃<span style=\"color: #808000; text-decoration-color: #808000; font-weight: bold\">            </span>┃\n",
       "┃<span style=\"color: #008080; text-decoration-color: #008080; font-weight: bold\"> 📏 Trial Unit      </span>┃<span style=\"color: #808000; text-decoration-color: #808000; font-weight: bold\"> Words      </span>┃\n",
       "┃<span style=\"color: #008080; text-decoration-color: #008080; font-weight: bold\"> 🔗 Experiment Mode </span>┃<span style=\"color: #808000; text-decoration-color: #808000; font-weight: bold\"> Experiment </span>┃\n",
       "┃<span style=\"color: #008080; text-decoration-color: #008080; font-weight: bold\"> 🎭 Trial Boundary  </span>┃<span style=\"color: #808000; text-decoration-color: #808000; font-weight: bold\"> Start      </span>┃\n",
       "┃<span style=\"color: #008080; text-decoration-color: #008080; font-weight: bold\"> 🔬 Trial Type      </span>┃<span style=\"color: #808000; text-decoration-color: #808000; font-weight: bold\"> Fixation   </span>┃\n",
       "┃<span style=\"color: #008080; text-decoration-color: #008080; font-weight: bold\"> 📊 Modality        </span>┃<span style=\"color: #808000; text-decoration-color: #808000; font-weight: bold\"> Pictures   </span>┃\n",
       "┃<span style=\"color: #008080; text-decoration-color: #008080; font-weight: bold\"> ⏱ Tmax             </span>┃<span style=\"color: #808000; text-decoration-color: #808000; font-weight: bold\"> </span><span style=\"color: #008080; text-decoration-color: #008080; font-weight: bold\">0.3</span><span style=\"color: #808000; text-decoration-color: #808000; font-weight: bold\">        </span>┃\n",
       "┃<span style=\"color: #008080; text-decoration-color: #008080; font-weight: bold\"> ⏳ Tmin            </span>┃<span style=\"color: #808000; text-decoration-color: #808000; font-weight: bold\"> </span><span style=\"color: #008080; text-decoration-color: #008080; font-weight: bold\">1.0</span><span style=\"color: #808000; text-decoration-color: #808000; font-weight: bold\">        </span>┃\n",
       "┗━━━━━━━━━━━━━━━━━━━━┻━━━━━━━━━━━━┛\n",
       "</pre>\n"
      ],
      "text/plain": [
       "\u001b[3m        Extraction Criteria        \u001b[0m\n",
       "┏━━━━━━━━━━━━━━━━━━━━┳━━━━━━━━━━━━┓\n",
       "┃\u001b[1m \u001b[0m\u001b[1mParameter         \u001b[0m\u001b[1m \u001b[0m┃\u001b[1m \u001b[0m\u001b[1mValue     \u001b[0m\u001b[1m \u001b[0m┃\n",
       "┣━━━━━━━━━━━━━━━━━━━━╋━━━━━━━━━━━━┫\n",
       "┃\u001b[1;36m \u001b[0m\u001b[1;36m🧪 Trial Mode     \u001b[0m\u001b[1;36m \u001b[0m┃\u001b[1;33m \u001b[0m\u001b[1;33m          \u001b[0m\u001b[1;33m \u001b[0m┃\n",
       "┃\u001b[1;36m \u001b[0m\u001b[1;36m📏 Trial Unit     \u001b[0m\u001b[1;36m \u001b[0m┃\u001b[1;33m \u001b[0m\u001b[1;33mWords     \u001b[0m\u001b[1;33m \u001b[0m┃\n",
       "┃\u001b[1;36m \u001b[0m\u001b[1;36m🔗 Experiment Mode\u001b[0m\u001b[1;36m \u001b[0m┃\u001b[1;33m \u001b[0m\u001b[1;33mExperiment\u001b[0m\u001b[1;33m \u001b[0m┃\n",
       "┃\u001b[1;36m \u001b[0m\u001b[1;36m🎭 Trial Boundary \u001b[0m\u001b[1;36m \u001b[0m┃\u001b[1;33m \u001b[0m\u001b[1;33mStart     \u001b[0m\u001b[1;33m \u001b[0m┃\n",
       "┃\u001b[1;36m \u001b[0m\u001b[1;36m🔬 Trial Type     \u001b[0m\u001b[1;36m \u001b[0m┃\u001b[1;33m \u001b[0m\u001b[1;33mFixation  \u001b[0m\u001b[1;33m \u001b[0m┃\n",
       "┃\u001b[1;36m \u001b[0m\u001b[1;36m📊 Modality       \u001b[0m\u001b[1;36m \u001b[0m┃\u001b[1;33m \u001b[0m\u001b[1;33mPictures  \u001b[0m\u001b[1;33m \u001b[0m┃\n",
       "┃\u001b[1;36m \u001b[0m\u001b[1;36m⏱ Tmax            \u001b[0m\u001b[1;36m \u001b[0m┃\u001b[1;33m \u001b[0m\u001b[1;36m0.3\u001b[0m\u001b[1;33m       \u001b[0m\u001b[1;33m \u001b[0m┃\n",
       "┃\u001b[1;36m \u001b[0m\u001b[1;36m⏳ Tmin           \u001b[0m\u001b[1;36m \u001b[0m┃\u001b[1;33m \u001b[0m\u001b[1;36m1.0\u001b[0m\u001b[1;33m       \u001b[0m\u001b[1;33m \u001b[0m┃\n",
       "┗━━━━━━━━━━━━━━━━━━━━┻━━━━━━━━━━━━┛\n"
      ]
     },
     "metadata": {},
     "output_type": "display_data"
    },
    {
     "name": "stdout",
     "output_type": "stream",
     "text": [
      "Not setting metadata\n",
      "130 matching events found\n",
      "Applying baseline correction (mode: mean)\n",
      "0 projection items activated\n",
      "Loading data for 130 events and 701 original time points ...\n",
      "0 bad epochs dropped\n"
     ]
    },
    {
     "data": {
      "text/html": [
       "<pre style=\"white-space:pre;overflow-x:auto;line-height:normal;font-family:Menlo,'DejaVu Sans Mono',consolas,'Courier New',monospace\"> <span style=\"color: #008000; text-decoration-color: #008000; font-weight: bold\">Loading for sub-</span><span style=\"color: #008000; text-decoration-color: #008000; font-weight: bold\">04</span><span style=\"color: #008000; text-decoration-color: #008000; font-weight: bold\">, ses-</span><span style=\"color: #008000; text-decoration-color: #008000; font-weight: bold\">01</span>\n",
       "</pre>\n"
      ],
      "text/plain": [
       " \u001b[1;32mLoading for sub-\u001b[0m\u001b[1;32m04\u001b[0m\u001b[1;32m, ses-\u001b[0m\u001b[1;32m01\u001b[0m\n"
      ]
     },
     "metadata": {},
     "output_type": "display_data"
    },
    {
     "data": {
      "text/html": [
       "<pre style=\"white-space:pre;overflow-x:auto;line-height:normal;font-family:Menlo,'DejaVu Sans Mono',consolas,'Courier New',monospace\"><span style=\"color: #800000; text-decoration-color: #800000\">╭────────────────────────────────╮</span>\n",
       "<span style=\"color: #800000; text-decoration-color: #800000\">│</span>  <span style=\"color: #800000; text-decoration-color: #800000; font-weight: bold\">Initializing DataLoader Class</span> <span style=\"color: #800000; text-decoration-color: #800000\">│</span>\n",
       "<span style=\"color: #800000; text-decoration-color: #800000\">╰────────────────────────────────╯</span>\n",
       "</pre>\n"
      ],
      "text/plain": [
       "\u001b[31m╭────────────────────────────────╮\u001b[0m\n",
       "\u001b[31m│\u001b[0m  \u001b[1;31mInitializing DataLoader Class\u001b[0m \u001b[31m│\u001b[0m\n",
       "\u001b[31m╰────────────────────────────────╯\u001b[0m\n"
      ]
     },
     "metadata": {},
     "output_type": "display_data"
    },
    {
     "data": {
      "text/html": [
       "<pre style=\"white-space:pre;overflow-x:auto;line-height:normal;font-family:Menlo,'DejaVu Sans Mono',consolas,'Courier New',monospace\"> <span style=\"color: #008000; text-decoration-color: #008000; font-weight: bold\">Creating EPOCHS</span>\n",
       "</pre>\n"
      ],
      "text/plain": [
       " \u001b[1;32mCreating EPOCHS\u001b[0m\n"
      ]
     },
     "metadata": {},
     "output_type": "display_data"
    },
    {
     "data": {
      "text/html": [
       "<pre style=\"white-space:pre;overflow-x:auto;line-height:normal;font-family:Menlo,'DejaVu Sans Mono',consolas,'Courier New',monospace\"><span style=\"font-style: italic\">        Extraction Criteria        </span>\n",
       "┏━━━━━━━━━━━━━━━━━━━━┳━━━━━━━━━━━━┓\n",
       "┃<span style=\"font-weight: bold\"> Parameter          </span>┃<span style=\"font-weight: bold\"> Value      </span>┃\n",
       "┣━━━━━━━━━━━━━━━━━━━━╋━━━━━━━━━━━━┫\n",
       "┃<span style=\"color: #008080; text-decoration-color: #008080; font-weight: bold\"> 🧪 Trial Mode      </span>┃<span style=\"color: #808000; text-decoration-color: #808000; font-weight: bold\">            </span>┃\n",
       "┃<span style=\"color: #008080; text-decoration-color: #008080; font-weight: bold\"> 📏 Trial Unit      </span>┃<span style=\"color: #808000; text-decoration-color: #808000; font-weight: bold\"> Words      </span>┃\n",
       "┃<span style=\"color: #008080; text-decoration-color: #008080; font-weight: bold\"> 🔗 Experiment Mode </span>┃<span style=\"color: #808000; text-decoration-color: #808000; font-weight: bold\"> Experiment </span>┃\n",
       "┃<span style=\"color: #008080; text-decoration-color: #008080; font-weight: bold\"> 🎭 Trial Boundary  </span>┃<span style=\"color: #808000; text-decoration-color: #808000; font-weight: bold\"> Start      </span>┃\n",
       "┃<span style=\"color: #008080; text-decoration-color: #008080; font-weight: bold\"> 🔬 Trial Type      </span>┃<span style=\"color: #808000; text-decoration-color: #808000; font-weight: bold\"> Fixation   </span>┃\n",
       "┃<span style=\"color: #008080; text-decoration-color: #008080; font-weight: bold\"> 📊 Modality        </span>┃<span style=\"color: #808000; text-decoration-color: #808000; font-weight: bold\"> Pictures   </span>┃\n",
       "┃<span style=\"color: #008080; text-decoration-color: #008080; font-weight: bold\"> ⏱ Tmax             </span>┃<span style=\"color: #808000; text-decoration-color: #808000; font-weight: bold\"> </span><span style=\"color: #008080; text-decoration-color: #008080; font-weight: bold\">0.3</span><span style=\"color: #808000; text-decoration-color: #808000; font-weight: bold\">        </span>┃\n",
       "┃<span style=\"color: #008080; text-decoration-color: #008080; font-weight: bold\"> ⏳ Tmin            </span>┃<span style=\"color: #808000; text-decoration-color: #808000; font-weight: bold\"> </span><span style=\"color: #008080; text-decoration-color: #008080; font-weight: bold\">1.0</span><span style=\"color: #808000; text-decoration-color: #808000; font-weight: bold\">        </span>┃\n",
       "┗━━━━━━━━━━━━━━━━━━━━┻━━━━━━━━━━━━┛\n",
       "</pre>\n"
      ],
      "text/plain": [
       "\u001b[3m        Extraction Criteria        \u001b[0m\n",
       "┏━━━━━━━━━━━━━━━━━━━━┳━━━━━━━━━━━━┓\n",
       "┃\u001b[1m \u001b[0m\u001b[1mParameter         \u001b[0m\u001b[1m \u001b[0m┃\u001b[1m \u001b[0m\u001b[1mValue     \u001b[0m\u001b[1m \u001b[0m┃\n",
       "┣━━━━━━━━━━━━━━━━━━━━╋━━━━━━━━━━━━┫\n",
       "┃\u001b[1;36m \u001b[0m\u001b[1;36m🧪 Trial Mode     \u001b[0m\u001b[1;36m \u001b[0m┃\u001b[1;33m \u001b[0m\u001b[1;33m          \u001b[0m\u001b[1;33m \u001b[0m┃\n",
       "┃\u001b[1;36m \u001b[0m\u001b[1;36m📏 Trial Unit     \u001b[0m\u001b[1;36m \u001b[0m┃\u001b[1;33m \u001b[0m\u001b[1;33mWords     \u001b[0m\u001b[1;33m \u001b[0m┃\n",
       "┃\u001b[1;36m \u001b[0m\u001b[1;36m🔗 Experiment Mode\u001b[0m\u001b[1;36m \u001b[0m┃\u001b[1;33m \u001b[0m\u001b[1;33mExperiment\u001b[0m\u001b[1;33m \u001b[0m┃\n",
       "┃\u001b[1;36m \u001b[0m\u001b[1;36m🎭 Trial Boundary \u001b[0m\u001b[1;36m \u001b[0m┃\u001b[1;33m \u001b[0m\u001b[1;33mStart     \u001b[0m\u001b[1;33m \u001b[0m┃\n",
       "┃\u001b[1;36m \u001b[0m\u001b[1;36m🔬 Trial Type     \u001b[0m\u001b[1;36m \u001b[0m┃\u001b[1;33m \u001b[0m\u001b[1;33mFixation  \u001b[0m\u001b[1;33m \u001b[0m┃\n",
       "┃\u001b[1;36m \u001b[0m\u001b[1;36m📊 Modality       \u001b[0m\u001b[1;36m \u001b[0m┃\u001b[1;33m \u001b[0m\u001b[1;33mPictures  \u001b[0m\u001b[1;33m \u001b[0m┃\n",
       "┃\u001b[1;36m \u001b[0m\u001b[1;36m⏱ Tmax            \u001b[0m\u001b[1;36m \u001b[0m┃\u001b[1;33m \u001b[0m\u001b[1;36m0.3\u001b[0m\u001b[1;33m       \u001b[0m\u001b[1;33m \u001b[0m┃\n",
       "┃\u001b[1;36m \u001b[0m\u001b[1;36m⏳ Tmin           \u001b[0m\u001b[1;36m \u001b[0m┃\u001b[1;33m \u001b[0m\u001b[1;36m1.0\u001b[0m\u001b[1;33m       \u001b[0m\u001b[1;33m \u001b[0m┃\n",
       "┗━━━━━━━━━━━━━━━━━━━━┻━━━━━━━━━━━━┛\n"
      ]
     },
     "metadata": {},
     "output_type": "display_data"
    },
    {
     "name": "stdout",
     "output_type": "stream",
     "text": [
      "Not setting metadata\n",
      "130 matching events found\n",
      "Applying baseline correction (mode: mean)\n",
      "0 projection items activated\n",
      "Loading data for 130 events and 701 original time points ...\n",
      "0 bad epochs dropped\n"
     ]
    },
    {
     "data": {
      "text/html": [
       "<pre style=\"white-space:pre;overflow-x:auto;line-height:normal;font-family:Menlo,'DejaVu Sans Mono',consolas,'Courier New',monospace\"> <span style=\"color: #008000; text-decoration-color: #008000; font-weight: bold\">Loading for sub-</span><span style=\"color: #008000; text-decoration-color: #008000; font-weight: bold\">04</span><span style=\"color: #008000; text-decoration-color: #008000; font-weight: bold\">, ses-</span><span style=\"color: #008000; text-decoration-color: #008000; font-weight: bold\">02</span>\n",
       "</pre>\n"
      ],
      "text/plain": [
       " \u001b[1;32mLoading for sub-\u001b[0m\u001b[1;32m04\u001b[0m\u001b[1;32m, ses-\u001b[0m\u001b[1;32m02\u001b[0m\n"
      ]
     },
     "metadata": {},
     "output_type": "display_data"
    },
    {
     "data": {
      "text/html": [
       "<pre style=\"white-space:pre;overflow-x:auto;line-height:normal;font-family:Menlo,'DejaVu Sans Mono',consolas,'Courier New',monospace\"><span style=\"color: #800000; text-decoration-color: #800000\">╭────────────────────────────────╮</span>\n",
       "<span style=\"color: #800000; text-decoration-color: #800000\">│</span>  <span style=\"color: #800000; text-decoration-color: #800000; font-weight: bold\">Initializing DataLoader Class</span> <span style=\"color: #800000; text-decoration-color: #800000\">│</span>\n",
       "<span style=\"color: #800000; text-decoration-color: #800000\">╰────────────────────────────────╯</span>\n",
       "</pre>\n"
      ],
      "text/plain": [
       "\u001b[31m╭────────────────────────────────╮\u001b[0m\n",
       "\u001b[31m│\u001b[0m  \u001b[1;31mInitializing DataLoader Class\u001b[0m \u001b[31m│\u001b[0m\n",
       "\u001b[31m╰────────────────────────────────╯\u001b[0m\n"
      ]
     },
     "metadata": {},
     "output_type": "display_data"
    },
    {
     "data": {
      "text/html": [
       "<pre style=\"white-space:pre;overflow-x:auto;line-height:normal;font-family:Menlo,'DejaVu Sans Mono',consolas,'Courier New',monospace\"> <span style=\"color: #008000; text-decoration-color: #008000; font-weight: bold\">Creating EPOCHS</span>\n",
       "</pre>\n"
      ],
      "text/plain": [
       " \u001b[1;32mCreating EPOCHS\u001b[0m\n"
      ]
     },
     "metadata": {},
     "output_type": "display_data"
    },
    {
     "data": {
      "text/html": [
       "<pre style=\"white-space:pre;overflow-x:auto;line-height:normal;font-family:Menlo,'DejaVu Sans Mono',consolas,'Courier New',monospace\"><span style=\"font-style: italic\">        Extraction Criteria        </span>\n",
       "┏━━━━━━━━━━━━━━━━━━━━┳━━━━━━━━━━━━┓\n",
       "┃<span style=\"font-weight: bold\"> Parameter          </span>┃<span style=\"font-weight: bold\"> Value      </span>┃\n",
       "┣━━━━━━━━━━━━━━━━━━━━╋━━━━━━━━━━━━┫\n",
       "┃<span style=\"color: #008080; text-decoration-color: #008080; font-weight: bold\"> 🧪 Trial Mode      </span>┃<span style=\"color: #808000; text-decoration-color: #808000; font-weight: bold\">            </span>┃\n",
       "┃<span style=\"color: #008080; text-decoration-color: #008080; font-weight: bold\"> 📏 Trial Unit      </span>┃<span style=\"color: #808000; text-decoration-color: #808000; font-weight: bold\"> Words      </span>┃\n",
       "┃<span style=\"color: #008080; text-decoration-color: #008080; font-weight: bold\"> 🔗 Experiment Mode </span>┃<span style=\"color: #808000; text-decoration-color: #808000; font-weight: bold\"> Experiment </span>┃\n",
       "┃<span style=\"color: #008080; text-decoration-color: #008080; font-weight: bold\"> 🎭 Trial Boundary  </span>┃<span style=\"color: #808000; text-decoration-color: #808000; font-weight: bold\"> Start      </span>┃\n",
       "┃<span style=\"color: #008080; text-decoration-color: #008080; font-weight: bold\"> 🔬 Trial Type      </span>┃<span style=\"color: #808000; text-decoration-color: #808000; font-weight: bold\"> Fixation   </span>┃\n",
       "┃<span style=\"color: #008080; text-decoration-color: #008080; font-weight: bold\"> 📊 Modality        </span>┃<span style=\"color: #808000; text-decoration-color: #808000; font-weight: bold\"> Pictures   </span>┃\n",
       "┃<span style=\"color: #008080; text-decoration-color: #008080; font-weight: bold\"> ⏱ Tmax             </span>┃<span style=\"color: #808000; text-decoration-color: #808000; font-weight: bold\"> </span><span style=\"color: #008080; text-decoration-color: #008080; font-weight: bold\">0.3</span><span style=\"color: #808000; text-decoration-color: #808000; font-weight: bold\">        </span>┃\n",
       "┃<span style=\"color: #008080; text-decoration-color: #008080; font-weight: bold\"> ⏳ Tmin            </span>┃<span style=\"color: #808000; text-decoration-color: #808000; font-weight: bold\"> </span><span style=\"color: #008080; text-decoration-color: #008080; font-weight: bold\">1.0</span><span style=\"color: #808000; text-decoration-color: #808000; font-weight: bold\">        </span>┃\n",
       "┗━━━━━━━━━━━━━━━━━━━━┻━━━━━━━━━━━━┛\n",
       "</pre>\n"
      ],
      "text/plain": [
       "\u001b[3m        Extraction Criteria        \u001b[0m\n",
       "┏━━━━━━━━━━━━━━━━━━━━┳━━━━━━━━━━━━┓\n",
       "┃\u001b[1m \u001b[0m\u001b[1mParameter         \u001b[0m\u001b[1m \u001b[0m┃\u001b[1m \u001b[0m\u001b[1mValue     \u001b[0m\u001b[1m \u001b[0m┃\n",
       "┣━━━━━━━━━━━━━━━━━━━━╋━━━━━━━━━━━━┫\n",
       "┃\u001b[1;36m \u001b[0m\u001b[1;36m🧪 Trial Mode     \u001b[0m\u001b[1;36m \u001b[0m┃\u001b[1;33m \u001b[0m\u001b[1;33m          \u001b[0m\u001b[1;33m \u001b[0m┃\n",
       "┃\u001b[1;36m \u001b[0m\u001b[1;36m📏 Trial Unit     \u001b[0m\u001b[1;36m \u001b[0m┃\u001b[1;33m \u001b[0m\u001b[1;33mWords     \u001b[0m\u001b[1;33m \u001b[0m┃\n",
       "┃\u001b[1;36m \u001b[0m\u001b[1;36m🔗 Experiment Mode\u001b[0m\u001b[1;36m \u001b[0m┃\u001b[1;33m \u001b[0m\u001b[1;33mExperiment\u001b[0m\u001b[1;33m \u001b[0m┃\n",
       "┃\u001b[1;36m \u001b[0m\u001b[1;36m🎭 Trial Boundary \u001b[0m\u001b[1;36m \u001b[0m┃\u001b[1;33m \u001b[0m\u001b[1;33mStart     \u001b[0m\u001b[1;33m \u001b[0m┃\n",
       "┃\u001b[1;36m \u001b[0m\u001b[1;36m🔬 Trial Type     \u001b[0m\u001b[1;36m \u001b[0m┃\u001b[1;33m \u001b[0m\u001b[1;33mFixation  \u001b[0m\u001b[1;33m \u001b[0m┃\n",
       "┃\u001b[1;36m \u001b[0m\u001b[1;36m📊 Modality       \u001b[0m\u001b[1;36m \u001b[0m┃\u001b[1;33m \u001b[0m\u001b[1;33mPictures  \u001b[0m\u001b[1;33m \u001b[0m┃\n",
       "┃\u001b[1;36m \u001b[0m\u001b[1;36m⏱ Tmax            \u001b[0m\u001b[1;36m \u001b[0m┃\u001b[1;33m \u001b[0m\u001b[1;36m0.3\u001b[0m\u001b[1;33m       \u001b[0m\u001b[1;33m \u001b[0m┃\n",
       "┃\u001b[1;36m \u001b[0m\u001b[1;36m⏳ Tmin           \u001b[0m\u001b[1;36m \u001b[0m┃\u001b[1;33m \u001b[0m\u001b[1;36m1.0\u001b[0m\u001b[1;33m       \u001b[0m\u001b[1;33m \u001b[0m┃\n",
       "┗━━━━━━━━━━━━━━━━━━━━┻━━━━━━━━━━━━┛\n"
      ]
     },
     "metadata": {},
     "output_type": "display_data"
    },
    {
     "name": "stdout",
     "output_type": "stream",
     "text": [
      "Not setting metadata\n",
      "130 matching events found\n",
      "Applying baseline correction (mode: mean)\n",
      "0 projection items activated\n",
      "Loading data for 130 events and 701 original time points ...\n",
      "0 bad epochs dropped\n"
     ]
    },
    {
     "data": {
      "text/html": [
       "<pre style=\"white-space:pre;overflow-x:auto;line-height:normal;font-family:Menlo,'DejaVu Sans Mono',consolas,'Courier New',monospace\"> <span style=\"color: #008000; text-decoration-color: #008000; font-weight: bold\">Loading for sub-</span><span style=\"color: #008000; text-decoration-color: #008000; font-weight: bold\">05</span><span style=\"color: #008000; text-decoration-color: #008000; font-weight: bold\">, ses-</span><span style=\"color: #008000; text-decoration-color: #008000; font-weight: bold\">01</span>\n",
       "</pre>\n"
      ],
      "text/plain": [
       " \u001b[1;32mLoading for sub-\u001b[0m\u001b[1;32m05\u001b[0m\u001b[1;32m, ses-\u001b[0m\u001b[1;32m01\u001b[0m\n"
      ]
     },
     "metadata": {},
     "output_type": "display_data"
    },
    {
     "data": {
      "text/html": [
       "<pre style=\"white-space:pre;overflow-x:auto;line-height:normal;font-family:Menlo,'DejaVu Sans Mono',consolas,'Courier New',monospace\"><span style=\"color: #800000; text-decoration-color: #800000\">╭────────────────────────────────╮</span>\n",
       "<span style=\"color: #800000; text-decoration-color: #800000\">│</span>  <span style=\"color: #800000; text-decoration-color: #800000; font-weight: bold\">Initializing DataLoader Class</span> <span style=\"color: #800000; text-decoration-color: #800000\">│</span>\n",
       "<span style=\"color: #800000; text-decoration-color: #800000\">╰────────────────────────────────╯</span>\n",
       "</pre>\n"
      ],
      "text/plain": [
       "\u001b[31m╭────────────────────────────────╮\u001b[0m\n",
       "\u001b[31m│\u001b[0m  \u001b[1;31mInitializing DataLoader Class\u001b[0m \u001b[31m│\u001b[0m\n",
       "\u001b[31m╰────────────────────────────────╯\u001b[0m\n"
      ]
     },
     "metadata": {},
     "output_type": "display_data"
    },
    {
     "data": {
      "text/html": [
       "<pre style=\"white-space:pre;overflow-x:auto;line-height:normal;font-family:Menlo,'DejaVu Sans Mono',consolas,'Courier New',monospace\"> <span style=\"color: #008000; text-decoration-color: #008000; font-weight: bold\">Creating EPOCHS</span>\n",
       "</pre>\n"
      ],
      "text/plain": [
       " \u001b[1;32mCreating EPOCHS\u001b[0m\n"
      ]
     },
     "metadata": {},
     "output_type": "display_data"
    },
    {
     "data": {
      "text/html": [
       "<pre style=\"white-space:pre;overflow-x:auto;line-height:normal;font-family:Menlo,'DejaVu Sans Mono',consolas,'Courier New',monospace\"><span style=\"font-style: italic\">        Extraction Criteria        </span>\n",
       "┏━━━━━━━━━━━━━━━━━━━━┳━━━━━━━━━━━━┓\n",
       "┃<span style=\"font-weight: bold\"> Parameter          </span>┃<span style=\"font-weight: bold\"> Value      </span>┃\n",
       "┣━━━━━━━━━━━━━━━━━━━━╋━━━━━━━━━━━━┫\n",
       "┃<span style=\"color: #008080; text-decoration-color: #008080; font-weight: bold\"> 🧪 Trial Mode      </span>┃<span style=\"color: #808000; text-decoration-color: #808000; font-weight: bold\">            </span>┃\n",
       "┃<span style=\"color: #008080; text-decoration-color: #008080; font-weight: bold\"> 📏 Trial Unit      </span>┃<span style=\"color: #808000; text-decoration-color: #808000; font-weight: bold\"> Words      </span>┃\n",
       "┃<span style=\"color: #008080; text-decoration-color: #008080; font-weight: bold\"> 🔗 Experiment Mode </span>┃<span style=\"color: #808000; text-decoration-color: #808000; font-weight: bold\"> Experiment </span>┃\n",
       "┃<span style=\"color: #008080; text-decoration-color: #008080; font-weight: bold\"> 🎭 Trial Boundary  </span>┃<span style=\"color: #808000; text-decoration-color: #808000; font-weight: bold\"> Start      </span>┃\n",
       "┃<span style=\"color: #008080; text-decoration-color: #008080; font-weight: bold\"> 🔬 Trial Type      </span>┃<span style=\"color: #808000; text-decoration-color: #808000; font-weight: bold\"> Fixation   </span>┃\n",
       "┃<span style=\"color: #008080; text-decoration-color: #008080; font-weight: bold\"> 📊 Modality        </span>┃<span style=\"color: #808000; text-decoration-color: #808000; font-weight: bold\"> Pictures   </span>┃\n",
       "┃<span style=\"color: #008080; text-decoration-color: #008080; font-weight: bold\"> ⏱ Tmax             </span>┃<span style=\"color: #808000; text-decoration-color: #808000; font-weight: bold\"> </span><span style=\"color: #008080; text-decoration-color: #008080; font-weight: bold\">0.3</span><span style=\"color: #808000; text-decoration-color: #808000; font-weight: bold\">        </span>┃\n",
       "┃<span style=\"color: #008080; text-decoration-color: #008080; font-weight: bold\"> ⏳ Tmin            </span>┃<span style=\"color: #808000; text-decoration-color: #808000; font-weight: bold\"> </span><span style=\"color: #008080; text-decoration-color: #008080; font-weight: bold\">1.0</span><span style=\"color: #808000; text-decoration-color: #808000; font-weight: bold\">        </span>┃\n",
       "┗━━━━━━━━━━━━━━━━━━━━┻━━━━━━━━━━━━┛\n",
       "</pre>\n"
      ],
      "text/plain": [
       "\u001b[3m        Extraction Criteria        \u001b[0m\n",
       "┏━━━━━━━━━━━━━━━━━━━━┳━━━━━━━━━━━━┓\n",
       "┃\u001b[1m \u001b[0m\u001b[1mParameter         \u001b[0m\u001b[1m \u001b[0m┃\u001b[1m \u001b[0m\u001b[1mValue     \u001b[0m\u001b[1m \u001b[0m┃\n",
       "┣━━━━━━━━━━━━━━━━━━━━╋━━━━━━━━━━━━┫\n",
       "┃\u001b[1;36m \u001b[0m\u001b[1;36m🧪 Trial Mode     \u001b[0m\u001b[1;36m \u001b[0m┃\u001b[1;33m \u001b[0m\u001b[1;33m          \u001b[0m\u001b[1;33m \u001b[0m┃\n",
       "┃\u001b[1;36m \u001b[0m\u001b[1;36m📏 Trial Unit     \u001b[0m\u001b[1;36m \u001b[0m┃\u001b[1;33m \u001b[0m\u001b[1;33mWords     \u001b[0m\u001b[1;33m \u001b[0m┃\n",
       "┃\u001b[1;36m \u001b[0m\u001b[1;36m🔗 Experiment Mode\u001b[0m\u001b[1;36m \u001b[0m┃\u001b[1;33m \u001b[0m\u001b[1;33mExperiment\u001b[0m\u001b[1;33m \u001b[0m┃\n",
       "┃\u001b[1;36m \u001b[0m\u001b[1;36m🎭 Trial Boundary \u001b[0m\u001b[1;36m \u001b[0m┃\u001b[1;33m \u001b[0m\u001b[1;33mStart     \u001b[0m\u001b[1;33m \u001b[0m┃\n",
       "┃\u001b[1;36m \u001b[0m\u001b[1;36m🔬 Trial Type     \u001b[0m\u001b[1;36m \u001b[0m┃\u001b[1;33m \u001b[0m\u001b[1;33mFixation  \u001b[0m\u001b[1;33m \u001b[0m┃\n",
       "┃\u001b[1;36m \u001b[0m\u001b[1;36m📊 Modality       \u001b[0m\u001b[1;36m \u001b[0m┃\u001b[1;33m \u001b[0m\u001b[1;33mPictures  \u001b[0m\u001b[1;33m \u001b[0m┃\n",
       "┃\u001b[1;36m \u001b[0m\u001b[1;36m⏱ Tmax            \u001b[0m\u001b[1;36m \u001b[0m┃\u001b[1;33m \u001b[0m\u001b[1;36m0.3\u001b[0m\u001b[1;33m       \u001b[0m\u001b[1;33m \u001b[0m┃\n",
       "┃\u001b[1;36m \u001b[0m\u001b[1;36m⏳ Tmin           \u001b[0m\u001b[1;36m \u001b[0m┃\u001b[1;33m \u001b[0m\u001b[1;36m1.0\u001b[0m\u001b[1;33m       \u001b[0m\u001b[1;33m \u001b[0m┃\n",
       "┗━━━━━━━━━━━━━━━━━━━━┻━━━━━━━━━━━━┛\n"
      ]
     },
     "metadata": {},
     "output_type": "display_data"
    },
    {
     "name": "stdout",
     "output_type": "stream",
     "text": [
      "Not setting metadata\n",
      "130 matching events found\n",
      "Applying baseline correction (mode: mean)\n",
      "0 projection items activated\n",
      "Loading data for 130 events and 701 original time points ...\n",
      "0 bad epochs dropped\n"
     ]
    },
    {
     "data": {
      "text/html": [
       "<pre style=\"white-space:pre;overflow-x:auto;line-height:normal;font-family:Menlo,'DejaVu Sans Mono',consolas,'Courier New',monospace\"> <span style=\"color: #008000; text-decoration-color: #008000; font-weight: bold\">Loading for sub-</span><span style=\"color: #008000; text-decoration-color: #008000; font-weight: bold\">05</span><span style=\"color: #008000; text-decoration-color: #008000; font-weight: bold\">, ses-</span><span style=\"color: #008000; text-decoration-color: #008000; font-weight: bold\">02</span>\n",
       "</pre>\n"
      ],
      "text/plain": [
       " \u001b[1;32mLoading for sub-\u001b[0m\u001b[1;32m05\u001b[0m\u001b[1;32m, ses-\u001b[0m\u001b[1;32m02\u001b[0m\n"
      ]
     },
     "metadata": {},
     "output_type": "display_data"
    },
    {
     "data": {
      "text/html": [
       "<pre style=\"white-space:pre;overflow-x:auto;line-height:normal;font-family:Menlo,'DejaVu Sans Mono',consolas,'Courier New',monospace\"><span style=\"color: #800000; text-decoration-color: #800000\">╭────────────────────────────────╮</span>\n",
       "<span style=\"color: #800000; text-decoration-color: #800000\">│</span>  <span style=\"color: #800000; text-decoration-color: #800000; font-weight: bold\">Initializing DataLoader Class</span> <span style=\"color: #800000; text-decoration-color: #800000\">│</span>\n",
       "<span style=\"color: #800000; text-decoration-color: #800000\">╰────────────────────────────────╯</span>\n",
       "</pre>\n"
      ],
      "text/plain": [
       "\u001b[31m╭────────────────────────────────╮\u001b[0m\n",
       "\u001b[31m│\u001b[0m  \u001b[1;31mInitializing DataLoader Class\u001b[0m \u001b[31m│\u001b[0m\n",
       "\u001b[31m╰────────────────────────────────╯\u001b[0m\n"
      ]
     },
     "metadata": {},
     "output_type": "display_data"
    },
    {
     "data": {
      "text/html": [
       "<pre style=\"white-space:pre;overflow-x:auto;line-height:normal;font-family:Menlo,'DejaVu Sans Mono',consolas,'Courier New',monospace\"> <span style=\"color: #008000; text-decoration-color: #008000; font-weight: bold\">Creating EPOCHS</span>\n",
       "</pre>\n"
      ],
      "text/plain": [
       " \u001b[1;32mCreating EPOCHS\u001b[0m\n"
      ]
     },
     "metadata": {},
     "output_type": "display_data"
    },
    {
     "data": {
      "text/html": [
       "<pre style=\"white-space:pre;overflow-x:auto;line-height:normal;font-family:Menlo,'DejaVu Sans Mono',consolas,'Courier New',monospace\"><span style=\"font-style: italic\">        Extraction Criteria        </span>\n",
       "┏━━━━━━━━━━━━━━━━━━━━┳━━━━━━━━━━━━┓\n",
       "┃<span style=\"font-weight: bold\"> Parameter          </span>┃<span style=\"font-weight: bold\"> Value      </span>┃\n",
       "┣━━━━━━━━━━━━━━━━━━━━╋━━━━━━━━━━━━┫\n",
       "┃<span style=\"color: #008080; text-decoration-color: #008080; font-weight: bold\"> 🧪 Trial Mode      </span>┃<span style=\"color: #808000; text-decoration-color: #808000; font-weight: bold\">            </span>┃\n",
       "┃<span style=\"color: #008080; text-decoration-color: #008080; font-weight: bold\"> 📏 Trial Unit      </span>┃<span style=\"color: #808000; text-decoration-color: #808000; font-weight: bold\"> Words      </span>┃\n",
       "┃<span style=\"color: #008080; text-decoration-color: #008080; font-weight: bold\"> 🔗 Experiment Mode </span>┃<span style=\"color: #808000; text-decoration-color: #808000; font-weight: bold\"> Experiment </span>┃\n",
       "┃<span style=\"color: #008080; text-decoration-color: #008080; font-weight: bold\"> 🎭 Trial Boundary  </span>┃<span style=\"color: #808000; text-decoration-color: #808000; font-weight: bold\"> Start      </span>┃\n",
       "┃<span style=\"color: #008080; text-decoration-color: #008080; font-weight: bold\"> 🔬 Trial Type      </span>┃<span style=\"color: #808000; text-decoration-color: #808000; font-weight: bold\"> Fixation   </span>┃\n",
       "┃<span style=\"color: #008080; text-decoration-color: #008080; font-weight: bold\"> 📊 Modality        </span>┃<span style=\"color: #808000; text-decoration-color: #808000; font-weight: bold\"> Pictures   </span>┃\n",
       "┃<span style=\"color: #008080; text-decoration-color: #008080; font-weight: bold\"> ⏱ Tmax             </span>┃<span style=\"color: #808000; text-decoration-color: #808000; font-weight: bold\"> </span><span style=\"color: #008080; text-decoration-color: #008080; font-weight: bold\">0.3</span><span style=\"color: #808000; text-decoration-color: #808000; font-weight: bold\">        </span>┃\n",
       "┃<span style=\"color: #008080; text-decoration-color: #008080; font-weight: bold\"> ⏳ Tmin            </span>┃<span style=\"color: #808000; text-decoration-color: #808000; font-weight: bold\"> </span><span style=\"color: #008080; text-decoration-color: #008080; font-weight: bold\">1.0</span><span style=\"color: #808000; text-decoration-color: #808000; font-weight: bold\">        </span>┃\n",
       "┗━━━━━━━━━━━━━━━━━━━━┻━━━━━━━━━━━━┛\n",
       "</pre>\n"
      ],
      "text/plain": [
       "\u001b[3m        Extraction Criteria        \u001b[0m\n",
       "┏━━━━━━━━━━━━━━━━━━━━┳━━━━━━━━━━━━┓\n",
       "┃\u001b[1m \u001b[0m\u001b[1mParameter         \u001b[0m\u001b[1m \u001b[0m┃\u001b[1m \u001b[0m\u001b[1mValue     \u001b[0m\u001b[1m \u001b[0m┃\n",
       "┣━━━━━━━━━━━━━━━━━━━━╋━━━━━━━━━━━━┫\n",
       "┃\u001b[1;36m \u001b[0m\u001b[1;36m🧪 Trial Mode     \u001b[0m\u001b[1;36m \u001b[0m┃\u001b[1;33m \u001b[0m\u001b[1;33m          \u001b[0m\u001b[1;33m \u001b[0m┃\n",
       "┃\u001b[1;36m \u001b[0m\u001b[1;36m📏 Trial Unit     \u001b[0m\u001b[1;36m \u001b[0m┃\u001b[1;33m \u001b[0m\u001b[1;33mWords     \u001b[0m\u001b[1;33m \u001b[0m┃\n",
       "┃\u001b[1;36m \u001b[0m\u001b[1;36m🔗 Experiment Mode\u001b[0m\u001b[1;36m \u001b[0m┃\u001b[1;33m \u001b[0m\u001b[1;33mExperiment\u001b[0m\u001b[1;33m \u001b[0m┃\n",
       "┃\u001b[1;36m \u001b[0m\u001b[1;36m🎭 Trial Boundary \u001b[0m\u001b[1;36m \u001b[0m┃\u001b[1;33m \u001b[0m\u001b[1;33mStart     \u001b[0m\u001b[1;33m \u001b[0m┃\n",
       "┃\u001b[1;36m \u001b[0m\u001b[1;36m🔬 Trial Type     \u001b[0m\u001b[1;36m \u001b[0m┃\u001b[1;33m \u001b[0m\u001b[1;33mFixation  \u001b[0m\u001b[1;33m \u001b[0m┃\n",
       "┃\u001b[1;36m \u001b[0m\u001b[1;36m📊 Modality       \u001b[0m\u001b[1;36m \u001b[0m┃\u001b[1;33m \u001b[0m\u001b[1;33mPictures  \u001b[0m\u001b[1;33m \u001b[0m┃\n",
       "┃\u001b[1;36m \u001b[0m\u001b[1;36m⏱ Tmax            \u001b[0m\u001b[1;36m \u001b[0m┃\u001b[1;33m \u001b[0m\u001b[1;36m0.3\u001b[0m\u001b[1;33m       \u001b[0m\u001b[1;33m \u001b[0m┃\n",
       "┃\u001b[1;36m \u001b[0m\u001b[1;36m⏳ Tmin           \u001b[0m\u001b[1;36m \u001b[0m┃\u001b[1;33m \u001b[0m\u001b[1;36m1.0\u001b[0m\u001b[1;33m       \u001b[0m\u001b[1;33m \u001b[0m┃\n",
       "┗━━━━━━━━━━━━━━━━━━━━┻━━━━━━━━━━━━┛\n"
      ]
     },
     "metadata": {},
     "output_type": "display_data"
    },
    {
     "name": "stdout",
     "output_type": "stream",
     "text": [
      "Not setting metadata\n",
      "130 matching events found\n",
      "Applying baseline correction (mode: mean)\n",
      "0 projection items activated\n",
      "Loading data for 130 events and 701 original time points ...\n",
      "0 bad epochs dropped\n"
     ]
    },
    {
     "data": {
      "text/html": [
       "<pre style=\"white-space:pre;overflow-x:auto;line-height:normal;font-family:Menlo,'DejaVu Sans Mono',consolas,'Courier New',monospace\"> <span style=\"color: #008000; text-decoration-color: #008000; font-weight: bold\">Loading for sub-</span><span style=\"color: #008000; text-decoration-color: #008000; font-weight: bold\">06</span><span style=\"color: #008000; text-decoration-color: #008000; font-weight: bold\">, ses-</span><span style=\"color: #008000; text-decoration-color: #008000; font-weight: bold\">01</span>\n",
       "</pre>\n"
      ],
      "text/plain": [
       " \u001b[1;32mLoading for sub-\u001b[0m\u001b[1;32m06\u001b[0m\u001b[1;32m, ses-\u001b[0m\u001b[1;32m01\u001b[0m\n"
      ]
     },
     "metadata": {},
     "output_type": "display_data"
    },
    {
     "data": {
      "text/html": [
       "<pre style=\"white-space:pre;overflow-x:auto;line-height:normal;font-family:Menlo,'DejaVu Sans Mono',consolas,'Courier New',monospace\"><span style=\"color: #800000; text-decoration-color: #800000\">╭────────────────────────────────╮</span>\n",
       "<span style=\"color: #800000; text-decoration-color: #800000\">│</span>  <span style=\"color: #800000; text-decoration-color: #800000; font-weight: bold\">Initializing DataLoader Class</span> <span style=\"color: #800000; text-decoration-color: #800000\">│</span>\n",
       "<span style=\"color: #800000; text-decoration-color: #800000\">╰────────────────────────────────╯</span>\n",
       "</pre>\n"
      ],
      "text/plain": [
       "\u001b[31m╭────────────────────────────────╮\u001b[0m\n",
       "\u001b[31m│\u001b[0m  \u001b[1;31mInitializing DataLoader Class\u001b[0m \u001b[31m│\u001b[0m\n",
       "\u001b[31m╰────────────────────────────────╯\u001b[0m\n"
      ]
     },
     "metadata": {},
     "output_type": "display_data"
    },
    {
     "data": {
      "text/html": [
       "<pre style=\"white-space:pre;overflow-x:auto;line-height:normal;font-family:Menlo,'DejaVu Sans Mono',consolas,'Courier New',monospace\"> <span style=\"color: #008000; text-decoration-color: #008000; font-weight: bold\">Creating EPOCHS</span>\n",
       "</pre>\n"
      ],
      "text/plain": [
       " \u001b[1;32mCreating EPOCHS\u001b[0m\n"
      ]
     },
     "metadata": {},
     "output_type": "display_data"
    },
    {
     "data": {
      "text/html": [
       "<pre style=\"white-space:pre;overflow-x:auto;line-height:normal;font-family:Menlo,'DejaVu Sans Mono',consolas,'Courier New',monospace\"><span style=\"font-style: italic\">        Extraction Criteria        </span>\n",
       "┏━━━━━━━━━━━━━━━━━━━━┳━━━━━━━━━━━━┓\n",
       "┃<span style=\"font-weight: bold\"> Parameter          </span>┃<span style=\"font-weight: bold\"> Value      </span>┃\n",
       "┣━━━━━━━━━━━━━━━━━━━━╋━━━━━━━━━━━━┫\n",
       "┃<span style=\"color: #008080; text-decoration-color: #008080; font-weight: bold\"> 🧪 Trial Mode      </span>┃<span style=\"color: #808000; text-decoration-color: #808000; font-weight: bold\">            </span>┃\n",
       "┃<span style=\"color: #008080; text-decoration-color: #008080; font-weight: bold\"> 📏 Trial Unit      </span>┃<span style=\"color: #808000; text-decoration-color: #808000; font-weight: bold\"> Words      </span>┃\n",
       "┃<span style=\"color: #008080; text-decoration-color: #008080; font-weight: bold\"> 🔗 Experiment Mode </span>┃<span style=\"color: #808000; text-decoration-color: #808000; font-weight: bold\"> Experiment </span>┃\n",
       "┃<span style=\"color: #008080; text-decoration-color: #008080; font-weight: bold\"> 🎭 Trial Boundary  </span>┃<span style=\"color: #808000; text-decoration-color: #808000; font-weight: bold\"> Start      </span>┃\n",
       "┃<span style=\"color: #008080; text-decoration-color: #008080; font-weight: bold\"> 🔬 Trial Type      </span>┃<span style=\"color: #808000; text-decoration-color: #808000; font-weight: bold\"> Fixation   </span>┃\n",
       "┃<span style=\"color: #008080; text-decoration-color: #008080; font-weight: bold\"> 📊 Modality        </span>┃<span style=\"color: #808000; text-decoration-color: #808000; font-weight: bold\"> Pictures   </span>┃\n",
       "┃<span style=\"color: #008080; text-decoration-color: #008080; font-weight: bold\"> ⏱ Tmax             </span>┃<span style=\"color: #808000; text-decoration-color: #808000; font-weight: bold\"> </span><span style=\"color: #008080; text-decoration-color: #008080; font-weight: bold\">0.3</span><span style=\"color: #808000; text-decoration-color: #808000; font-weight: bold\">        </span>┃\n",
       "┃<span style=\"color: #008080; text-decoration-color: #008080; font-weight: bold\"> ⏳ Tmin            </span>┃<span style=\"color: #808000; text-decoration-color: #808000; font-weight: bold\"> </span><span style=\"color: #008080; text-decoration-color: #008080; font-weight: bold\">1.0</span><span style=\"color: #808000; text-decoration-color: #808000; font-weight: bold\">        </span>┃\n",
       "┗━━━━━━━━━━━━━━━━━━━━┻━━━━━━━━━━━━┛\n",
       "</pre>\n"
      ],
      "text/plain": [
       "\u001b[3m        Extraction Criteria        \u001b[0m\n",
       "┏━━━━━━━━━━━━━━━━━━━━┳━━━━━━━━━━━━┓\n",
       "┃\u001b[1m \u001b[0m\u001b[1mParameter         \u001b[0m\u001b[1m \u001b[0m┃\u001b[1m \u001b[0m\u001b[1mValue     \u001b[0m\u001b[1m \u001b[0m┃\n",
       "┣━━━━━━━━━━━━━━━━━━━━╋━━━━━━━━━━━━┫\n",
       "┃\u001b[1;36m \u001b[0m\u001b[1;36m🧪 Trial Mode     \u001b[0m\u001b[1;36m \u001b[0m┃\u001b[1;33m \u001b[0m\u001b[1;33m          \u001b[0m\u001b[1;33m \u001b[0m┃\n",
       "┃\u001b[1;36m \u001b[0m\u001b[1;36m📏 Trial Unit     \u001b[0m\u001b[1;36m \u001b[0m┃\u001b[1;33m \u001b[0m\u001b[1;33mWords     \u001b[0m\u001b[1;33m \u001b[0m┃\n",
       "┃\u001b[1;36m \u001b[0m\u001b[1;36m🔗 Experiment Mode\u001b[0m\u001b[1;36m \u001b[0m┃\u001b[1;33m \u001b[0m\u001b[1;33mExperiment\u001b[0m\u001b[1;33m \u001b[0m┃\n",
       "┃\u001b[1;36m \u001b[0m\u001b[1;36m🎭 Trial Boundary \u001b[0m\u001b[1;36m \u001b[0m┃\u001b[1;33m \u001b[0m\u001b[1;33mStart     \u001b[0m\u001b[1;33m \u001b[0m┃\n",
       "┃\u001b[1;36m \u001b[0m\u001b[1;36m🔬 Trial Type     \u001b[0m\u001b[1;36m \u001b[0m┃\u001b[1;33m \u001b[0m\u001b[1;33mFixation  \u001b[0m\u001b[1;33m \u001b[0m┃\n",
       "┃\u001b[1;36m \u001b[0m\u001b[1;36m📊 Modality       \u001b[0m\u001b[1;36m \u001b[0m┃\u001b[1;33m \u001b[0m\u001b[1;33mPictures  \u001b[0m\u001b[1;33m \u001b[0m┃\n",
       "┃\u001b[1;36m \u001b[0m\u001b[1;36m⏱ Tmax            \u001b[0m\u001b[1;36m \u001b[0m┃\u001b[1;33m \u001b[0m\u001b[1;36m0.3\u001b[0m\u001b[1;33m       \u001b[0m\u001b[1;33m \u001b[0m┃\n",
       "┃\u001b[1;36m \u001b[0m\u001b[1;36m⏳ Tmin           \u001b[0m\u001b[1;36m \u001b[0m┃\u001b[1;33m \u001b[0m\u001b[1;36m1.0\u001b[0m\u001b[1;33m       \u001b[0m\u001b[1;33m \u001b[0m┃\n",
       "┗━━━━━━━━━━━━━━━━━━━━┻━━━━━━━━━━━━┛\n"
      ]
     },
     "metadata": {},
     "output_type": "display_data"
    },
    {
     "name": "stdout",
     "output_type": "stream",
     "text": [
      "Not setting metadata\n",
      "130 matching events found\n",
      "Applying baseline correction (mode: mean)\n",
      "0 projection items activated\n",
      "Loading data for 130 events and 701 original time points ...\n",
      "0 bad epochs dropped\n"
     ]
    },
    {
     "data": {
      "text/html": [
       "<pre style=\"white-space:pre;overflow-x:auto;line-height:normal;font-family:Menlo,'DejaVu Sans Mono',consolas,'Courier New',monospace\"> <span style=\"color: #008000; text-decoration-color: #008000; font-weight: bold\">Loading for sub-</span><span style=\"color: #008000; text-decoration-color: #008000; font-weight: bold\">06</span><span style=\"color: #008000; text-decoration-color: #008000; font-weight: bold\">, ses-</span><span style=\"color: #008000; text-decoration-color: #008000; font-weight: bold\">02</span>\n",
       "</pre>\n"
      ],
      "text/plain": [
       " \u001b[1;32mLoading for sub-\u001b[0m\u001b[1;32m06\u001b[0m\u001b[1;32m, ses-\u001b[0m\u001b[1;32m02\u001b[0m\n"
      ]
     },
     "metadata": {},
     "output_type": "display_data"
    },
    {
     "data": {
      "text/html": [
       "<pre style=\"white-space:pre;overflow-x:auto;line-height:normal;font-family:Menlo,'DejaVu Sans Mono',consolas,'Courier New',monospace\"><span style=\"color: #800000; text-decoration-color: #800000\">╭────────────────────────────────╮</span>\n",
       "<span style=\"color: #800000; text-decoration-color: #800000\">│</span>  <span style=\"color: #800000; text-decoration-color: #800000; font-weight: bold\">Initializing DataLoader Class</span> <span style=\"color: #800000; text-decoration-color: #800000\">│</span>\n",
       "<span style=\"color: #800000; text-decoration-color: #800000\">╰────────────────────────────────╯</span>\n",
       "</pre>\n"
      ],
      "text/plain": [
       "\u001b[31m╭────────────────────────────────╮\u001b[0m\n",
       "\u001b[31m│\u001b[0m  \u001b[1;31mInitializing DataLoader Class\u001b[0m \u001b[31m│\u001b[0m\n",
       "\u001b[31m╰────────────────────────────────╯\u001b[0m\n"
      ]
     },
     "metadata": {},
     "output_type": "display_data"
    },
    {
     "data": {
      "text/html": [
       "<pre style=\"white-space:pre;overflow-x:auto;line-height:normal;font-family:Menlo,'DejaVu Sans Mono',consolas,'Courier New',monospace\"> <span style=\"color: #008000; text-decoration-color: #008000; font-weight: bold\">Creating EPOCHS</span>\n",
       "</pre>\n"
      ],
      "text/plain": [
       " \u001b[1;32mCreating EPOCHS\u001b[0m\n"
      ]
     },
     "metadata": {},
     "output_type": "display_data"
    },
    {
     "data": {
      "text/html": [
       "<pre style=\"white-space:pre;overflow-x:auto;line-height:normal;font-family:Menlo,'DejaVu Sans Mono',consolas,'Courier New',monospace\"><span style=\"font-style: italic\">        Extraction Criteria        </span>\n",
       "┏━━━━━━━━━━━━━━━━━━━━┳━━━━━━━━━━━━┓\n",
       "┃<span style=\"font-weight: bold\"> Parameter          </span>┃<span style=\"font-weight: bold\"> Value      </span>┃\n",
       "┣━━━━━━━━━━━━━━━━━━━━╋━━━━━━━━━━━━┫\n",
       "┃<span style=\"color: #008080; text-decoration-color: #008080; font-weight: bold\"> 🧪 Trial Mode      </span>┃<span style=\"color: #808000; text-decoration-color: #808000; font-weight: bold\">            </span>┃\n",
       "┃<span style=\"color: #008080; text-decoration-color: #008080; font-weight: bold\"> 📏 Trial Unit      </span>┃<span style=\"color: #808000; text-decoration-color: #808000; font-weight: bold\"> Words      </span>┃\n",
       "┃<span style=\"color: #008080; text-decoration-color: #008080; font-weight: bold\"> 🔗 Experiment Mode </span>┃<span style=\"color: #808000; text-decoration-color: #808000; font-weight: bold\"> Experiment </span>┃\n",
       "┃<span style=\"color: #008080; text-decoration-color: #008080; font-weight: bold\"> 🎭 Trial Boundary  </span>┃<span style=\"color: #808000; text-decoration-color: #808000; font-weight: bold\"> Start      </span>┃\n",
       "┃<span style=\"color: #008080; text-decoration-color: #008080; font-weight: bold\"> 🔬 Trial Type      </span>┃<span style=\"color: #808000; text-decoration-color: #808000; font-weight: bold\"> Fixation   </span>┃\n",
       "┃<span style=\"color: #008080; text-decoration-color: #008080; font-weight: bold\"> 📊 Modality        </span>┃<span style=\"color: #808000; text-decoration-color: #808000; font-weight: bold\"> Pictures   </span>┃\n",
       "┃<span style=\"color: #008080; text-decoration-color: #008080; font-weight: bold\"> ⏱ Tmax             </span>┃<span style=\"color: #808000; text-decoration-color: #808000; font-weight: bold\"> </span><span style=\"color: #008080; text-decoration-color: #008080; font-weight: bold\">0.3</span><span style=\"color: #808000; text-decoration-color: #808000; font-weight: bold\">        </span>┃\n",
       "┃<span style=\"color: #008080; text-decoration-color: #008080; font-weight: bold\"> ⏳ Tmin            </span>┃<span style=\"color: #808000; text-decoration-color: #808000; font-weight: bold\"> </span><span style=\"color: #008080; text-decoration-color: #008080; font-weight: bold\">1.0</span><span style=\"color: #808000; text-decoration-color: #808000; font-weight: bold\">        </span>┃\n",
       "┗━━━━━━━━━━━━━━━━━━━━┻━━━━━━━━━━━━┛\n",
       "</pre>\n"
      ],
      "text/plain": [
       "\u001b[3m        Extraction Criteria        \u001b[0m\n",
       "┏━━━━━━━━━━━━━━━━━━━━┳━━━━━━━━━━━━┓\n",
       "┃\u001b[1m \u001b[0m\u001b[1mParameter         \u001b[0m\u001b[1m \u001b[0m┃\u001b[1m \u001b[0m\u001b[1mValue     \u001b[0m\u001b[1m \u001b[0m┃\n",
       "┣━━━━━━━━━━━━━━━━━━━━╋━━━━━━━━━━━━┫\n",
       "┃\u001b[1;36m \u001b[0m\u001b[1;36m🧪 Trial Mode     \u001b[0m\u001b[1;36m \u001b[0m┃\u001b[1;33m \u001b[0m\u001b[1;33m          \u001b[0m\u001b[1;33m \u001b[0m┃\n",
       "┃\u001b[1;36m \u001b[0m\u001b[1;36m📏 Trial Unit     \u001b[0m\u001b[1;36m \u001b[0m┃\u001b[1;33m \u001b[0m\u001b[1;33mWords     \u001b[0m\u001b[1;33m \u001b[0m┃\n",
       "┃\u001b[1;36m \u001b[0m\u001b[1;36m🔗 Experiment Mode\u001b[0m\u001b[1;36m \u001b[0m┃\u001b[1;33m \u001b[0m\u001b[1;33mExperiment\u001b[0m\u001b[1;33m \u001b[0m┃\n",
       "┃\u001b[1;36m \u001b[0m\u001b[1;36m🎭 Trial Boundary \u001b[0m\u001b[1;36m \u001b[0m┃\u001b[1;33m \u001b[0m\u001b[1;33mStart     \u001b[0m\u001b[1;33m \u001b[0m┃\n",
       "┃\u001b[1;36m \u001b[0m\u001b[1;36m🔬 Trial Type     \u001b[0m\u001b[1;36m \u001b[0m┃\u001b[1;33m \u001b[0m\u001b[1;33mFixation  \u001b[0m\u001b[1;33m \u001b[0m┃\n",
       "┃\u001b[1;36m \u001b[0m\u001b[1;36m📊 Modality       \u001b[0m\u001b[1;36m \u001b[0m┃\u001b[1;33m \u001b[0m\u001b[1;33mPictures  \u001b[0m\u001b[1;33m \u001b[0m┃\n",
       "┃\u001b[1;36m \u001b[0m\u001b[1;36m⏱ Tmax            \u001b[0m\u001b[1;36m \u001b[0m┃\u001b[1;33m \u001b[0m\u001b[1;36m0.3\u001b[0m\u001b[1;33m       \u001b[0m\u001b[1;33m \u001b[0m┃\n",
       "┃\u001b[1;36m \u001b[0m\u001b[1;36m⏳ Tmin           \u001b[0m\u001b[1;36m \u001b[0m┃\u001b[1;33m \u001b[0m\u001b[1;36m1.0\u001b[0m\u001b[1;33m       \u001b[0m\u001b[1;33m \u001b[0m┃\n",
       "┗━━━━━━━━━━━━━━━━━━━━┻━━━━━━━━━━━━┛\n"
      ]
     },
     "metadata": {},
     "output_type": "display_data"
    },
    {
     "name": "stdout",
     "output_type": "stream",
     "text": [
      "Not setting metadata\n",
      "130 matching events found\n",
      "Applying baseline correction (mode: mean)\n",
      "0 projection items activated\n",
      "Loading data for 130 events and 701 original time points ...\n",
      "0 bad epochs dropped\n"
     ]
    },
    {
     "data": {
      "text/html": [
       "<pre style=\"white-space:pre;overflow-x:auto;line-height:normal;font-family:Menlo,'DejaVu Sans Mono',consolas,'Courier New',monospace\"> <span style=\"color: #008000; text-decoration-color: #008000; font-weight: bold\">Loading for sub-</span><span style=\"color: #008000; text-decoration-color: #008000; font-weight: bold\">07</span><span style=\"color: #008000; text-decoration-color: #008000; font-weight: bold\">, ses-</span><span style=\"color: #008000; text-decoration-color: #008000; font-weight: bold\">01</span>\n",
       "</pre>\n"
      ],
      "text/plain": [
       " \u001b[1;32mLoading for sub-\u001b[0m\u001b[1;32m07\u001b[0m\u001b[1;32m, ses-\u001b[0m\u001b[1;32m01\u001b[0m\n"
      ]
     },
     "metadata": {},
     "output_type": "display_data"
    },
    {
     "data": {
      "text/html": [
       "<pre style=\"white-space:pre;overflow-x:auto;line-height:normal;font-family:Menlo,'DejaVu Sans Mono',consolas,'Courier New',monospace\"><span style=\"color: #800000; text-decoration-color: #800000\">╭────────────────────────────────╮</span>\n",
       "<span style=\"color: #800000; text-decoration-color: #800000\">│</span>  <span style=\"color: #800000; text-decoration-color: #800000; font-weight: bold\">Initializing DataLoader Class</span> <span style=\"color: #800000; text-decoration-color: #800000\">│</span>\n",
       "<span style=\"color: #800000; text-decoration-color: #800000\">╰────────────────────────────────╯</span>\n",
       "</pre>\n"
      ],
      "text/plain": [
       "\u001b[31m╭────────────────────────────────╮\u001b[0m\n",
       "\u001b[31m│\u001b[0m  \u001b[1;31mInitializing DataLoader Class\u001b[0m \u001b[31m│\u001b[0m\n",
       "\u001b[31m╰────────────────────────────────╯\u001b[0m\n"
      ]
     },
     "metadata": {},
     "output_type": "display_data"
    },
    {
     "data": {
      "text/html": [
       "<pre style=\"white-space:pre;overflow-x:auto;line-height:normal;font-family:Menlo,'DejaVu Sans Mono',consolas,'Courier New',monospace\"> <span style=\"color: #008000; text-decoration-color: #008000; font-weight: bold\">Creating EPOCHS</span>\n",
       "</pre>\n"
      ],
      "text/plain": [
       " \u001b[1;32mCreating EPOCHS\u001b[0m\n"
      ]
     },
     "metadata": {},
     "output_type": "display_data"
    },
    {
     "data": {
      "text/html": [
       "<pre style=\"white-space:pre;overflow-x:auto;line-height:normal;font-family:Menlo,'DejaVu Sans Mono',consolas,'Courier New',monospace\"><span style=\"font-style: italic\">        Extraction Criteria        </span>\n",
       "┏━━━━━━━━━━━━━━━━━━━━┳━━━━━━━━━━━━┓\n",
       "┃<span style=\"font-weight: bold\"> Parameter          </span>┃<span style=\"font-weight: bold\"> Value      </span>┃\n",
       "┣━━━━━━━━━━━━━━━━━━━━╋━━━━━━━━━━━━┫\n",
       "┃<span style=\"color: #008080; text-decoration-color: #008080; font-weight: bold\"> 🧪 Trial Mode      </span>┃<span style=\"color: #808000; text-decoration-color: #808000; font-weight: bold\">            </span>┃\n",
       "┃<span style=\"color: #008080; text-decoration-color: #008080; font-weight: bold\"> 📏 Trial Unit      </span>┃<span style=\"color: #808000; text-decoration-color: #808000; font-weight: bold\"> Words      </span>┃\n",
       "┃<span style=\"color: #008080; text-decoration-color: #008080; font-weight: bold\"> 🔗 Experiment Mode </span>┃<span style=\"color: #808000; text-decoration-color: #808000; font-weight: bold\"> Experiment </span>┃\n",
       "┃<span style=\"color: #008080; text-decoration-color: #008080; font-weight: bold\"> 🎭 Trial Boundary  </span>┃<span style=\"color: #808000; text-decoration-color: #808000; font-weight: bold\"> Start      </span>┃\n",
       "┃<span style=\"color: #008080; text-decoration-color: #008080; font-weight: bold\"> 🔬 Trial Type      </span>┃<span style=\"color: #808000; text-decoration-color: #808000; font-weight: bold\"> Fixation   </span>┃\n",
       "┃<span style=\"color: #008080; text-decoration-color: #008080; font-weight: bold\"> 📊 Modality        </span>┃<span style=\"color: #808000; text-decoration-color: #808000; font-weight: bold\"> Pictures   </span>┃\n",
       "┃<span style=\"color: #008080; text-decoration-color: #008080; font-weight: bold\"> ⏱ Tmax             </span>┃<span style=\"color: #808000; text-decoration-color: #808000; font-weight: bold\"> </span><span style=\"color: #008080; text-decoration-color: #008080; font-weight: bold\">0.3</span><span style=\"color: #808000; text-decoration-color: #808000; font-weight: bold\">        </span>┃\n",
       "┃<span style=\"color: #008080; text-decoration-color: #008080; font-weight: bold\"> ⏳ Tmin            </span>┃<span style=\"color: #808000; text-decoration-color: #808000; font-weight: bold\"> </span><span style=\"color: #008080; text-decoration-color: #008080; font-weight: bold\">1.0</span><span style=\"color: #808000; text-decoration-color: #808000; font-weight: bold\">        </span>┃\n",
       "┗━━━━━━━━━━━━━━━━━━━━┻━━━━━━━━━━━━┛\n",
       "</pre>\n"
      ],
      "text/plain": [
       "\u001b[3m        Extraction Criteria        \u001b[0m\n",
       "┏━━━━━━━━━━━━━━━━━━━━┳━━━━━━━━━━━━┓\n",
       "┃\u001b[1m \u001b[0m\u001b[1mParameter         \u001b[0m\u001b[1m \u001b[0m┃\u001b[1m \u001b[0m\u001b[1mValue     \u001b[0m\u001b[1m \u001b[0m┃\n",
       "┣━━━━━━━━━━━━━━━━━━━━╋━━━━━━━━━━━━┫\n",
       "┃\u001b[1;36m \u001b[0m\u001b[1;36m🧪 Trial Mode     \u001b[0m\u001b[1;36m \u001b[0m┃\u001b[1;33m \u001b[0m\u001b[1;33m          \u001b[0m\u001b[1;33m \u001b[0m┃\n",
       "┃\u001b[1;36m \u001b[0m\u001b[1;36m📏 Trial Unit     \u001b[0m\u001b[1;36m \u001b[0m┃\u001b[1;33m \u001b[0m\u001b[1;33mWords     \u001b[0m\u001b[1;33m \u001b[0m┃\n",
       "┃\u001b[1;36m \u001b[0m\u001b[1;36m🔗 Experiment Mode\u001b[0m\u001b[1;36m \u001b[0m┃\u001b[1;33m \u001b[0m\u001b[1;33mExperiment\u001b[0m\u001b[1;33m \u001b[0m┃\n",
       "┃\u001b[1;36m \u001b[0m\u001b[1;36m🎭 Trial Boundary \u001b[0m\u001b[1;36m \u001b[0m┃\u001b[1;33m \u001b[0m\u001b[1;33mStart     \u001b[0m\u001b[1;33m \u001b[0m┃\n",
       "┃\u001b[1;36m \u001b[0m\u001b[1;36m🔬 Trial Type     \u001b[0m\u001b[1;36m \u001b[0m┃\u001b[1;33m \u001b[0m\u001b[1;33mFixation  \u001b[0m\u001b[1;33m \u001b[0m┃\n",
       "┃\u001b[1;36m \u001b[0m\u001b[1;36m📊 Modality       \u001b[0m\u001b[1;36m \u001b[0m┃\u001b[1;33m \u001b[0m\u001b[1;33mPictures  \u001b[0m\u001b[1;33m \u001b[0m┃\n",
       "┃\u001b[1;36m \u001b[0m\u001b[1;36m⏱ Tmax            \u001b[0m\u001b[1;36m \u001b[0m┃\u001b[1;33m \u001b[0m\u001b[1;36m0.3\u001b[0m\u001b[1;33m       \u001b[0m\u001b[1;33m \u001b[0m┃\n",
       "┃\u001b[1;36m \u001b[0m\u001b[1;36m⏳ Tmin           \u001b[0m\u001b[1;36m \u001b[0m┃\u001b[1;33m \u001b[0m\u001b[1;36m1.0\u001b[0m\u001b[1;33m       \u001b[0m\u001b[1;33m \u001b[0m┃\n",
       "┗━━━━━━━━━━━━━━━━━━━━┻━━━━━━━━━━━━┛\n"
      ]
     },
     "metadata": {},
     "output_type": "display_data"
    },
    {
     "name": "stdout",
     "output_type": "stream",
     "text": [
      "Not setting metadata\n",
      "130 matching events found\n",
      "Applying baseline correction (mode: mean)\n",
      "0 projection items activated\n",
      "Loading data for 130 events and 701 original time points ...\n",
      "0 bad epochs dropped\n"
     ]
    },
    {
     "data": {
      "text/html": [
       "<pre style=\"white-space:pre;overflow-x:auto;line-height:normal;font-family:Menlo,'DejaVu Sans Mono',consolas,'Courier New',monospace\"> <span style=\"color: #008000; text-decoration-color: #008000; font-weight: bold\">Loading for sub-</span><span style=\"color: #008000; text-decoration-color: #008000; font-weight: bold\">08</span><span style=\"color: #008000; text-decoration-color: #008000; font-weight: bold\">, ses-</span><span style=\"color: #008000; text-decoration-color: #008000; font-weight: bold\">01</span>\n",
       "</pre>\n"
      ],
      "text/plain": [
       " \u001b[1;32mLoading for sub-\u001b[0m\u001b[1;32m08\u001b[0m\u001b[1;32m, ses-\u001b[0m\u001b[1;32m01\u001b[0m\n"
      ]
     },
     "metadata": {},
     "output_type": "display_data"
    },
    {
     "data": {
      "text/html": [
       "<pre style=\"white-space:pre;overflow-x:auto;line-height:normal;font-family:Menlo,'DejaVu Sans Mono',consolas,'Courier New',monospace\"><span style=\"color: #800000; text-decoration-color: #800000\">╭────────────────────────────────╮</span>\n",
       "<span style=\"color: #800000; text-decoration-color: #800000\">│</span>  <span style=\"color: #800000; text-decoration-color: #800000; font-weight: bold\">Initializing DataLoader Class</span> <span style=\"color: #800000; text-decoration-color: #800000\">│</span>\n",
       "<span style=\"color: #800000; text-decoration-color: #800000\">╰────────────────────────────────╯</span>\n",
       "</pre>\n"
      ],
      "text/plain": [
       "\u001b[31m╭────────────────────────────────╮\u001b[0m\n",
       "\u001b[31m│\u001b[0m  \u001b[1;31mInitializing DataLoader Class\u001b[0m \u001b[31m│\u001b[0m\n",
       "\u001b[31m╰────────────────────────────────╯\u001b[0m\n"
      ]
     },
     "metadata": {},
     "output_type": "display_data"
    },
    {
     "data": {
      "text/html": [
       "<pre style=\"white-space:pre;overflow-x:auto;line-height:normal;font-family:Menlo,'DejaVu Sans Mono',consolas,'Courier New',monospace\"> <span style=\"color: #008000; text-decoration-color: #008000; font-weight: bold\">Creating EPOCHS</span>\n",
       "</pre>\n"
      ],
      "text/plain": [
       " \u001b[1;32mCreating EPOCHS\u001b[0m\n"
      ]
     },
     "metadata": {},
     "output_type": "display_data"
    },
    {
     "data": {
      "text/html": [
       "<pre style=\"white-space:pre;overflow-x:auto;line-height:normal;font-family:Menlo,'DejaVu Sans Mono',consolas,'Courier New',monospace\"><span style=\"font-style: italic\">        Extraction Criteria        </span>\n",
       "┏━━━━━━━━━━━━━━━━━━━━┳━━━━━━━━━━━━┓\n",
       "┃<span style=\"font-weight: bold\"> Parameter          </span>┃<span style=\"font-weight: bold\"> Value      </span>┃\n",
       "┣━━━━━━━━━━━━━━━━━━━━╋━━━━━━━━━━━━┫\n",
       "┃<span style=\"color: #008080; text-decoration-color: #008080; font-weight: bold\"> 🧪 Trial Mode      </span>┃<span style=\"color: #808000; text-decoration-color: #808000; font-weight: bold\">            </span>┃\n",
       "┃<span style=\"color: #008080; text-decoration-color: #008080; font-weight: bold\"> 📏 Trial Unit      </span>┃<span style=\"color: #808000; text-decoration-color: #808000; font-weight: bold\"> Words      </span>┃\n",
       "┃<span style=\"color: #008080; text-decoration-color: #008080; font-weight: bold\"> 🔗 Experiment Mode </span>┃<span style=\"color: #808000; text-decoration-color: #808000; font-weight: bold\"> Experiment </span>┃\n",
       "┃<span style=\"color: #008080; text-decoration-color: #008080; font-weight: bold\"> 🎭 Trial Boundary  </span>┃<span style=\"color: #808000; text-decoration-color: #808000; font-weight: bold\"> Start      </span>┃\n",
       "┃<span style=\"color: #008080; text-decoration-color: #008080; font-weight: bold\"> 🔬 Trial Type      </span>┃<span style=\"color: #808000; text-decoration-color: #808000; font-weight: bold\"> Fixation   </span>┃\n",
       "┃<span style=\"color: #008080; text-decoration-color: #008080; font-weight: bold\"> 📊 Modality        </span>┃<span style=\"color: #808000; text-decoration-color: #808000; font-weight: bold\"> Pictures   </span>┃\n",
       "┃<span style=\"color: #008080; text-decoration-color: #008080; font-weight: bold\"> ⏱ Tmax             </span>┃<span style=\"color: #808000; text-decoration-color: #808000; font-weight: bold\"> </span><span style=\"color: #008080; text-decoration-color: #008080; font-weight: bold\">0.3</span><span style=\"color: #808000; text-decoration-color: #808000; font-weight: bold\">        </span>┃\n",
       "┃<span style=\"color: #008080; text-decoration-color: #008080; font-weight: bold\"> ⏳ Tmin            </span>┃<span style=\"color: #808000; text-decoration-color: #808000; font-weight: bold\"> </span><span style=\"color: #008080; text-decoration-color: #008080; font-weight: bold\">1.0</span><span style=\"color: #808000; text-decoration-color: #808000; font-weight: bold\">        </span>┃\n",
       "┗━━━━━━━━━━━━━━━━━━━━┻━━━━━━━━━━━━┛\n",
       "</pre>\n"
      ],
      "text/plain": [
       "\u001b[3m        Extraction Criteria        \u001b[0m\n",
       "┏━━━━━━━━━━━━━━━━━━━━┳━━━━━━━━━━━━┓\n",
       "┃\u001b[1m \u001b[0m\u001b[1mParameter         \u001b[0m\u001b[1m \u001b[0m┃\u001b[1m \u001b[0m\u001b[1mValue     \u001b[0m\u001b[1m \u001b[0m┃\n",
       "┣━━━━━━━━━━━━━━━━━━━━╋━━━━━━━━━━━━┫\n",
       "┃\u001b[1;36m \u001b[0m\u001b[1;36m🧪 Trial Mode     \u001b[0m\u001b[1;36m \u001b[0m┃\u001b[1;33m \u001b[0m\u001b[1;33m          \u001b[0m\u001b[1;33m \u001b[0m┃\n",
       "┃\u001b[1;36m \u001b[0m\u001b[1;36m📏 Trial Unit     \u001b[0m\u001b[1;36m \u001b[0m┃\u001b[1;33m \u001b[0m\u001b[1;33mWords     \u001b[0m\u001b[1;33m \u001b[0m┃\n",
       "┃\u001b[1;36m \u001b[0m\u001b[1;36m🔗 Experiment Mode\u001b[0m\u001b[1;36m \u001b[0m┃\u001b[1;33m \u001b[0m\u001b[1;33mExperiment\u001b[0m\u001b[1;33m \u001b[0m┃\n",
       "┃\u001b[1;36m \u001b[0m\u001b[1;36m🎭 Trial Boundary \u001b[0m\u001b[1;36m \u001b[0m┃\u001b[1;33m \u001b[0m\u001b[1;33mStart     \u001b[0m\u001b[1;33m \u001b[0m┃\n",
       "┃\u001b[1;36m \u001b[0m\u001b[1;36m🔬 Trial Type     \u001b[0m\u001b[1;36m \u001b[0m┃\u001b[1;33m \u001b[0m\u001b[1;33mFixation  \u001b[0m\u001b[1;33m \u001b[0m┃\n",
       "┃\u001b[1;36m \u001b[0m\u001b[1;36m📊 Modality       \u001b[0m\u001b[1;36m \u001b[0m┃\u001b[1;33m \u001b[0m\u001b[1;33mPictures  \u001b[0m\u001b[1;33m \u001b[0m┃\n",
       "┃\u001b[1;36m \u001b[0m\u001b[1;36m⏱ Tmax            \u001b[0m\u001b[1;36m \u001b[0m┃\u001b[1;33m \u001b[0m\u001b[1;36m0.3\u001b[0m\u001b[1;33m       \u001b[0m\u001b[1;33m \u001b[0m┃\n",
       "┃\u001b[1;36m \u001b[0m\u001b[1;36m⏳ Tmin           \u001b[0m\u001b[1;36m \u001b[0m┃\u001b[1;33m \u001b[0m\u001b[1;36m1.0\u001b[0m\u001b[1;33m       \u001b[0m\u001b[1;33m \u001b[0m┃\n",
       "┗━━━━━━━━━━━━━━━━━━━━┻━━━━━━━━━━━━┛\n"
      ]
     },
     "metadata": {},
     "output_type": "display_data"
    },
    {
     "name": "stdout",
     "output_type": "stream",
     "text": [
      "Not setting metadata\n",
      "130 matching events found\n",
      "Applying baseline correction (mode: mean)\n",
      "0 projection items activated\n",
      "Loading data for 130 events and 701 original time points ...\n",
      "0 bad epochs dropped\n"
     ]
    },
    {
     "data": {
      "text/html": [
       "<pre style=\"white-space:pre;overflow-x:auto;line-height:normal;font-family:Menlo,'DejaVu Sans Mono',consolas,'Courier New',monospace\"> <span style=\"color: #008000; text-decoration-color: #008000; font-weight: bold\">Loading for sub-</span><span style=\"color: #008000; text-decoration-color: #008000; font-weight: bold\">09</span><span style=\"color: #008000; text-decoration-color: #008000; font-weight: bold\">, ses-</span><span style=\"color: #008000; text-decoration-color: #008000; font-weight: bold\">01</span>\n",
       "</pre>\n"
      ],
      "text/plain": [
       " \u001b[1;32mLoading for sub-\u001b[0m\u001b[1;32m09\u001b[0m\u001b[1;32m, ses-\u001b[0m\u001b[1;32m01\u001b[0m\n"
      ]
     },
     "metadata": {},
     "output_type": "display_data"
    },
    {
     "data": {
      "text/html": [
       "<pre style=\"white-space:pre;overflow-x:auto;line-height:normal;font-family:Menlo,'DejaVu Sans Mono',consolas,'Courier New',monospace\"><span style=\"color: #800000; text-decoration-color: #800000\">╭────────────────────────────────╮</span>\n",
       "<span style=\"color: #800000; text-decoration-color: #800000\">│</span>  <span style=\"color: #800000; text-decoration-color: #800000; font-weight: bold\">Initializing DataLoader Class</span> <span style=\"color: #800000; text-decoration-color: #800000\">│</span>\n",
       "<span style=\"color: #800000; text-decoration-color: #800000\">╰────────────────────────────────╯</span>\n",
       "</pre>\n"
      ],
      "text/plain": [
       "\u001b[31m╭────────────────────────────────╮\u001b[0m\n",
       "\u001b[31m│\u001b[0m  \u001b[1;31mInitializing DataLoader Class\u001b[0m \u001b[31m│\u001b[0m\n",
       "\u001b[31m╰────────────────────────────────╯\u001b[0m\n"
      ]
     },
     "metadata": {},
     "output_type": "display_data"
    },
    {
     "data": {
      "text/html": [
       "<pre style=\"white-space:pre;overflow-x:auto;line-height:normal;font-family:Menlo,'DejaVu Sans Mono',consolas,'Courier New',monospace\"> <span style=\"color: #008000; text-decoration-color: #008000; font-weight: bold\">Creating EPOCHS</span>\n",
       "</pre>\n"
      ],
      "text/plain": [
       " \u001b[1;32mCreating EPOCHS\u001b[0m\n"
      ]
     },
     "metadata": {},
     "output_type": "display_data"
    },
    {
     "data": {
      "text/html": [
       "<pre style=\"white-space:pre;overflow-x:auto;line-height:normal;font-family:Menlo,'DejaVu Sans Mono',consolas,'Courier New',monospace\"><span style=\"font-style: italic\">        Extraction Criteria        </span>\n",
       "┏━━━━━━━━━━━━━━━━━━━━┳━━━━━━━━━━━━┓\n",
       "┃<span style=\"font-weight: bold\"> Parameter          </span>┃<span style=\"font-weight: bold\"> Value      </span>┃\n",
       "┣━━━━━━━━━━━━━━━━━━━━╋━━━━━━━━━━━━┫\n",
       "┃<span style=\"color: #008080; text-decoration-color: #008080; font-weight: bold\"> 🧪 Trial Mode      </span>┃<span style=\"color: #808000; text-decoration-color: #808000; font-weight: bold\">            </span>┃\n",
       "┃<span style=\"color: #008080; text-decoration-color: #008080; font-weight: bold\"> 📏 Trial Unit      </span>┃<span style=\"color: #808000; text-decoration-color: #808000; font-weight: bold\"> Words      </span>┃\n",
       "┃<span style=\"color: #008080; text-decoration-color: #008080; font-weight: bold\"> 🔗 Experiment Mode </span>┃<span style=\"color: #808000; text-decoration-color: #808000; font-weight: bold\"> Experiment </span>┃\n",
       "┃<span style=\"color: #008080; text-decoration-color: #008080; font-weight: bold\"> 🎭 Trial Boundary  </span>┃<span style=\"color: #808000; text-decoration-color: #808000; font-weight: bold\"> Start      </span>┃\n",
       "┃<span style=\"color: #008080; text-decoration-color: #008080; font-weight: bold\"> 🔬 Trial Type      </span>┃<span style=\"color: #808000; text-decoration-color: #808000; font-weight: bold\"> Fixation   </span>┃\n",
       "┃<span style=\"color: #008080; text-decoration-color: #008080; font-weight: bold\"> 📊 Modality        </span>┃<span style=\"color: #808000; text-decoration-color: #808000; font-weight: bold\"> Pictures   </span>┃\n",
       "┃<span style=\"color: #008080; text-decoration-color: #008080; font-weight: bold\"> ⏱ Tmax             </span>┃<span style=\"color: #808000; text-decoration-color: #808000; font-weight: bold\"> </span><span style=\"color: #008080; text-decoration-color: #008080; font-weight: bold\">0.3</span><span style=\"color: #808000; text-decoration-color: #808000; font-weight: bold\">        </span>┃\n",
       "┃<span style=\"color: #008080; text-decoration-color: #008080; font-weight: bold\"> ⏳ Tmin            </span>┃<span style=\"color: #808000; text-decoration-color: #808000; font-weight: bold\"> </span><span style=\"color: #008080; text-decoration-color: #008080; font-weight: bold\">1.0</span><span style=\"color: #808000; text-decoration-color: #808000; font-weight: bold\">        </span>┃\n",
       "┗━━━━━━━━━━━━━━━━━━━━┻━━━━━━━━━━━━┛\n",
       "</pre>\n"
      ],
      "text/plain": [
       "\u001b[3m        Extraction Criteria        \u001b[0m\n",
       "┏━━━━━━━━━━━━━━━━━━━━┳━━━━━━━━━━━━┓\n",
       "┃\u001b[1m \u001b[0m\u001b[1mParameter         \u001b[0m\u001b[1m \u001b[0m┃\u001b[1m \u001b[0m\u001b[1mValue     \u001b[0m\u001b[1m \u001b[0m┃\n",
       "┣━━━━━━━━━━━━━━━━━━━━╋━━━━━━━━━━━━┫\n",
       "┃\u001b[1;36m \u001b[0m\u001b[1;36m🧪 Trial Mode     \u001b[0m\u001b[1;36m \u001b[0m┃\u001b[1;33m \u001b[0m\u001b[1;33m          \u001b[0m\u001b[1;33m \u001b[0m┃\n",
       "┃\u001b[1;36m \u001b[0m\u001b[1;36m📏 Trial Unit     \u001b[0m\u001b[1;36m \u001b[0m┃\u001b[1;33m \u001b[0m\u001b[1;33mWords     \u001b[0m\u001b[1;33m \u001b[0m┃\n",
       "┃\u001b[1;36m \u001b[0m\u001b[1;36m🔗 Experiment Mode\u001b[0m\u001b[1;36m \u001b[0m┃\u001b[1;33m \u001b[0m\u001b[1;33mExperiment\u001b[0m\u001b[1;33m \u001b[0m┃\n",
       "┃\u001b[1;36m \u001b[0m\u001b[1;36m🎭 Trial Boundary \u001b[0m\u001b[1;36m \u001b[0m┃\u001b[1;33m \u001b[0m\u001b[1;33mStart     \u001b[0m\u001b[1;33m \u001b[0m┃\n",
       "┃\u001b[1;36m \u001b[0m\u001b[1;36m🔬 Trial Type     \u001b[0m\u001b[1;36m \u001b[0m┃\u001b[1;33m \u001b[0m\u001b[1;33mFixation  \u001b[0m\u001b[1;33m \u001b[0m┃\n",
       "┃\u001b[1;36m \u001b[0m\u001b[1;36m📊 Modality       \u001b[0m\u001b[1;36m \u001b[0m┃\u001b[1;33m \u001b[0m\u001b[1;33mPictures  \u001b[0m\u001b[1;33m \u001b[0m┃\n",
       "┃\u001b[1;36m \u001b[0m\u001b[1;36m⏱ Tmax            \u001b[0m\u001b[1;36m \u001b[0m┃\u001b[1;33m \u001b[0m\u001b[1;36m0.3\u001b[0m\u001b[1;33m       \u001b[0m\u001b[1;33m \u001b[0m┃\n",
       "┃\u001b[1;36m \u001b[0m\u001b[1;36m⏳ Tmin           \u001b[0m\u001b[1;36m \u001b[0m┃\u001b[1;33m \u001b[0m\u001b[1;36m1.0\u001b[0m\u001b[1;33m       \u001b[0m\u001b[1;33m \u001b[0m┃\n",
       "┗━━━━━━━━━━━━━━━━━━━━┻━━━━━━━━━━━━┛\n"
      ]
     },
     "metadata": {},
     "output_type": "display_data"
    },
    {
     "name": "stdout",
     "output_type": "stream",
     "text": [
      "Not setting metadata\n",
      "130 matching events found\n",
      "Applying baseline correction (mode: mean)\n",
      "0 projection items activated\n",
      "Loading data for 130 events and 701 original time points ...\n",
      "0 bad epochs dropped\n"
     ]
    },
    {
     "data": {
      "text/html": [
       "<pre style=\"white-space:pre;overflow-x:auto;line-height:normal;font-family:Menlo,'DejaVu Sans Mono',consolas,'Courier New',monospace\"> <span style=\"color: #008000; text-decoration-color: #008000; font-weight: bold\">Loading for sub-</span><span style=\"color: #008000; text-decoration-color: #008000; font-weight: bold\">09</span><span style=\"color: #008000; text-decoration-color: #008000; font-weight: bold\">, ses-</span><span style=\"color: #008000; text-decoration-color: #008000; font-weight: bold\">02</span>\n",
       "</pre>\n"
      ],
      "text/plain": [
       " \u001b[1;32mLoading for sub-\u001b[0m\u001b[1;32m09\u001b[0m\u001b[1;32m, ses-\u001b[0m\u001b[1;32m02\u001b[0m\n"
      ]
     },
     "metadata": {},
     "output_type": "display_data"
    },
    {
     "data": {
      "text/html": [
       "<pre style=\"white-space:pre;overflow-x:auto;line-height:normal;font-family:Menlo,'DejaVu Sans Mono',consolas,'Courier New',monospace\"><span style=\"color: #800000; text-decoration-color: #800000\">╭────────────────────────────────╮</span>\n",
       "<span style=\"color: #800000; text-decoration-color: #800000\">│</span>  <span style=\"color: #800000; text-decoration-color: #800000; font-weight: bold\">Initializing DataLoader Class</span> <span style=\"color: #800000; text-decoration-color: #800000\">│</span>\n",
       "<span style=\"color: #800000; text-decoration-color: #800000\">╰────────────────────────────────╯</span>\n",
       "</pre>\n"
      ],
      "text/plain": [
       "\u001b[31m╭────────────────────────────────╮\u001b[0m\n",
       "\u001b[31m│\u001b[0m  \u001b[1;31mInitializing DataLoader Class\u001b[0m \u001b[31m│\u001b[0m\n",
       "\u001b[31m╰────────────────────────────────╯\u001b[0m\n"
      ]
     },
     "metadata": {},
     "output_type": "display_data"
    },
    {
     "data": {
      "text/html": [
       "<pre style=\"white-space:pre;overflow-x:auto;line-height:normal;font-family:Menlo,'DejaVu Sans Mono',consolas,'Courier New',monospace\"> <span style=\"color: #008000; text-decoration-color: #008000; font-weight: bold\">Creating EPOCHS</span>\n",
       "</pre>\n"
      ],
      "text/plain": [
       " \u001b[1;32mCreating EPOCHS\u001b[0m\n"
      ]
     },
     "metadata": {},
     "output_type": "display_data"
    },
    {
     "data": {
      "text/html": [
       "<pre style=\"white-space:pre;overflow-x:auto;line-height:normal;font-family:Menlo,'DejaVu Sans Mono',consolas,'Courier New',monospace\"><span style=\"font-style: italic\">        Extraction Criteria        </span>\n",
       "┏━━━━━━━━━━━━━━━━━━━━┳━━━━━━━━━━━━┓\n",
       "┃<span style=\"font-weight: bold\"> Parameter          </span>┃<span style=\"font-weight: bold\"> Value      </span>┃\n",
       "┣━━━━━━━━━━━━━━━━━━━━╋━━━━━━━━━━━━┫\n",
       "┃<span style=\"color: #008080; text-decoration-color: #008080; font-weight: bold\"> 🧪 Trial Mode      </span>┃<span style=\"color: #808000; text-decoration-color: #808000; font-weight: bold\">            </span>┃\n",
       "┃<span style=\"color: #008080; text-decoration-color: #008080; font-weight: bold\"> 📏 Trial Unit      </span>┃<span style=\"color: #808000; text-decoration-color: #808000; font-weight: bold\"> Words      </span>┃\n",
       "┃<span style=\"color: #008080; text-decoration-color: #008080; font-weight: bold\"> 🔗 Experiment Mode </span>┃<span style=\"color: #808000; text-decoration-color: #808000; font-weight: bold\"> Experiment </span>┃\n",
       "┃<span style=\"color: #008080; text-decoration-color: #008080; font-weight: bold\"> 🎭 Trial Boundary  </span>┃<span style=\"color: #808000; text-decoration-color: #808000; font-weight: bold\"> Start      </span>┃\n",
       "┃<span style=\"color: #008080; text-decoration-color: #008080; font-weight: bold\"> 🔬 Trial Type      </span>┃<span style=\"color: #808000; text-decoration-color: #808000; font-weight: bold\"> Fixation   </span>┃\n",
       "┃<span style=\"color: #008080; text-decoration-color: #008080; font-weight: bold\"> 📊 Modality        </span>┃<span style=\"color: #808000; text-decoration-color: #808000; font-weight: bold\"> Pictures   </span>┃\n",
       "┃<span style=\"color: #008080; text-decoration-color: #008080; font-weight: bold\"> ⏱ Tmax             </span>┃<span style=\"color: #808000; text-decoration-color: #808000; font-weight: bold\"> </span><span style=\"color: #008080; text-decoration-color: #008080; font-weight: bold\">0.3</span><span style=\"color: #808000; text-decoration-color: #808000; font-weight: bold\">        </span>┃\n",
       "┃<span style=\"color: #008080; text-decoration-color: #008080; font-weight: bold\"> ⏳ Tmin            </span>┃<span style=\"color: #808000; text-decoration-color: #808000; font-weight: bold\"> </span><span style=\"color: #008080; text-decoration-color: #008080; font-weight: bold\">1.0</span><span style=\"color: #808000; text-decoration-color: #808000; font-weight: bold\">        </span>┃\n",
       "┗━━━━━━━━━━━━━━━━━━━━┻━━━━━━━━━━━━┛\n",
       "</pre>\n"
      ],
      "text/plain": [
       "\u001b[3m        Extraction Criteria        \u001b[0m\n",
       "┏━━━━━━━━━━━━━━━━━━━━┳━━━━━━━━━━━━┓\n",
       "┃\u001b[1m \u001b[0m\u001b[1mParameter         \u001b[0m\u001b[1m \u001b[0m┃\u001b[1m \u001b[0m\u001b[1mValue     \u001b[0m\u001b[1m \u001b[0m┃\n",
       "┣━━━━━━━━━━━━━━━━━━━━╋━━━━━━━━━━━━┫\n",
       "┃\u001b[1;36m \u001b[0m\u001b[1;36m🧪 Trial Mode     \u001b[0m\u001b[1;36m \u001b[0m┃\u001b[1;33m \u001b[0m\u001b[1;33m          \u001b[0m\u001b[1;33m \u001b[0m┃\n",
       "┃\u001b[1;36m \u001b[0m\u001b[1;36m📏 Trial Unit     \u001b[0m\u001b[1;36m \u001b[0m┃\u001b[1;33m \u001b[0m\u001b[1;33mWords     \u001b[0m\u001b[1;33m \u001b[0m┃\n",
       "┃\u001b[1;36m \u001b[0m\u001b[1;36m🔗 Experiment Mode\u001b[0m\u001b[1;36m \u001b[0m┃\u001b[1;33m \u001b[0m\u001b[1;33mExperiment\u001b[0m\u001b[1;33m \u001b[0m┃\n",
       "┃\u001b[1;36m \u001b[0m\u001b[1;36m🎭 Trial Boundary \u001b[0m\u001b[1;36m \u001b[0m┃\u001b[1;33m \u001b[0m\u001b[1;33mStart     \u001b[0m\u001b[1;33m \u001b[0m┃\n",
       "┃\u001b[1;36m \u001b[0m\u001b[1;36m🔬 Trial Type     \u001b[0m\u001b[1;36m \u001b[0m┃\u001b[1;33m \u001b[0m\u001b[1;33mFixation  \u001b[0m\u001b[1;33m \u001b[0m┃\n",
       "┃\u001b[1;36m \u001b[0m\u001b[1;36m📊 Modality       \u001b[0m\u001b[1;36m \u001b[0m┃\u001b[1;33m \u001b[0m\u001b[1;33mPictures  \u001b[0m\u001b[1;33m \u001b[0m┃\n",
       "┃\u001b[1;36m \u001b[0m\u001b[1;36m⏱ Tmax            \u001b[0m\u001b[1;36m \u001b[0m┃\u001b[1;33m \u001b[0m\u001b[1;36m0.3\u001b[0m\u001b[1;33m       \u001b[0m\u001b[1;33m \u001b[0m┃\n",
       "┃\u001b[1;36m \u001b[0m\u001b[1;36m⏳ Tmin           \u001b[0m\u001b[1;36m \u001b[0m┃\u001b[1;33m \u001b[0m\u001b[1;36m1.0\u001b[0m\u001b[1;33m       \u001b[0m\u001b[1;33m \u001b[0m┃\n",
       "┗━━━━━━━━━━━━━━━━━━━━┻━━━━━━━━━━━━┛\n"
      ]
     },
     "metadata": {},
     "output_type": "display_data"
    },
    {
     "name": "stdout",
     "output_type": "stream",
     "text": [
      "Not setting metadata\n",
      "130 matching events found\n",
      "Applying baseline correction (mode: mean)\n",
      "0 projection items activated\n",
      "Loading data for 130 events and 701 original time points ...\n",
      "0 bad epochs dropped\n"
     ]
    },
    {
     "data": {
      "text/html": [
       "<pre style=\"white-space:pre;overflow-x:auto;line-height:normal;font-family:Menlo,'DejaVu Sans Mono',consolas,'Courier New',monospace\"> <span style=\"color: #008000; text-decoration-color: #008000; font-weight: bold\">Loading for sub-</span><span style=\"color: #008000; text-decoration-color: #008000; font-weight: bold\">10</span><span style=\"color: #008000; text-decoration-color: #008000; font-weight: bold\">, ses-</span><span style=\"color: #008000; text-decoration-color: #008000; font-weight: bold\">01</span>\n",
       "</pre>\n"
      ],
      "text/plain": [
       " \u001b[1;32mLoading for sub-\u001b[0m\u001b[1;32m10\u001b[0m\u001b[1;32m, ses-\u001b[0m\u001b[1;32m01\u001b[0m\n"
      ]
     },
     "metadata": {},
     "output_type": "display_data"
    },
    {
     "data": {
      "text/html": [
       "<pre style=\"white-space:pre;overflow-x:auto;line-height:normal;font-family:Menlo,'DejaVu Sans Mono',consolas,'Courier New',monospace\"><span style=\"color: #800000; text-decoration-color: #800000\">╭────────────────────────────────╮</span>\n",
       "<span style=\"color: #800000; text-decoration-color: #800000\">│</span>  <span style=\"color: #800000; text-decoration-color: #800000; font-weight: bold\">Initializing DataLoader Class</span> <span style=\"color: #800000; text-decoration-color: #800000\">│</span>\n",
       "<span style=\"color: #800000; text-decoration-color: #800000\">╰────────────────────────────────╯</span>\n",
       "</pre>\n"
      ],
      "text/plain": [
       "\u001b[31m╭────────────────────────────────╮\u001b[0m\n",
       "\u001b[31m│\u001b[0m  \u001b[1;31mInitializing DataLoader Class\u001b[0m \u001b[31m│\u001b[0m\n",
       "\u001b[31m╰────────────────────────────────╯\u001b[0m\n"
      ]
     },
     "metadata": {},
     "output_type": "display_data"
    },
    {
     "data": {
      "text/html": [
       "<pre style=\"white-space:pre;overflow-x:auto;line-height:normal;font-family:Menlo,'DejaVu Sans Mono',consolas,'Courier New',monospace\"> <span style=\"color: #008000; text-decoration-color: #008000; font-weight: bold\">Creating EPOCHS</span>\n",
       "</pre>\n"
      ],
      "text/plain": [
       " \u001b[1;32mCreating EPOCHS\u001b[0m\n"
      ]
     },
     "metadata": {},
     "output_type": "display_data"
    },
    {
     "data": {
      "text/html": [
       "<pre style=\"white-space:pre;overflow-x:auto;line-height:normal;font-family:Menlo,'DejaVu Sans Mono',consolas,'Courier New',monospace\"><span style=\"font-style: italic\">        Extraction Criteria        </span>\n",
       "┏━━━━━━━━━━━━━━━━━━━━┳━━━━━━━━━━━━┓\n",
       "┃<span style=\"font-weight: bold\"> Parameter          </span>┃<span style=\"font-weight: bold\"> Value      </span>┃\n",
       "┣━━━━━━━━━━━━━━━━━━━━╋━━━━━━━━━━━━┫\n",
       "┃<span style=\"color: #008080; text-decoration-color: #008080; font-weight: bold\"> 🧪 Trial Mode      </span>┃<span style=\"color: #808000; text-decoration-color: #808000; font-weight: bold\">            </span>┃\n",
       "┃<span style=\"color: #008080; text-decoration-color: #008080; font-weight: bold\"> 📏 Trial Unit      </span>┃<span style=\"color: #808000; text-decoration-color: #808000; font-weight: bold\"> Words      </span>┃\n",
       "┃<span style=\"color: #008080; text-decoration-color: #008080; font-weight: bold\"> 🔗 Experiment Mode </span>┃<span style=\"color: #808000; text-decoration-color: #808000; font-weight: bold\"> Experiment </span>┃\n",
       "┃<span style=\"color: #008080; text-decoration-color: #008080; font-weight: bold\"> 🎭 Trial Boundary  </span>┃<span style=\"color: #808000; text-decoration-color: #808000; font-weight: bold\"> Start      </span>┃\n",
       "┃<span style=\"color: #008080; text-decoration-color: #008080; font-weight: bold\"> 🔬 Trial Type      </span>┃<span style=\"color: #808000; text-decoration-color: #808000; font-weight: bold\"> Fixation   </span>┃\n",
       "┃<span style=\"color: #008080; text-decoration-color: #008080; font-weight: bold\"> 📊 Modality        </span>┃<span style=\"color: #808000; text-decoration-color: #808000; font-weight: bold\"> Pictures   </span>┃\n",
       "┃<span style=\"color: #008080; text-decoration-color: #008080; font-weight: bold\"> ⏱ Tmax             </span>┃<span style=\"color: #808000; text-decoration-color: #808000; font-weight: bold\"> </span><span style=\"color: #008080; text-decoration-color: #008080; font-weight: bold\">0.3</span><span style=\"color: #808000; text-decoration-color: #808000; font-weight: bold\">        </span>┃\n",
       "┃<span style=\"color: #008080; text-decoration-color: #008080; font-weight: bold\"> ⏳ Tmin            </span>┃<span style=\"color: #808000; text-decoration-color: #808000; font-weight: bold\"> </span><span style=\"color: #008080; text-decoration-color: #008080; font-weight: bold\">1.0</span><span style=\"color: #808000; text-decoration-color: #808000; font-weight: bold\">        </span>┃\n",
       "┗━━━━━━━━━━━━━━━━━━━━┻━━━━━━━━━━━━┛\n",
       "</pre>\n"
      ],
      "text/plain": [
       "\u001b[3m        Extraction Criteria        \u001b[0m\n",
       "┏━━━━━━━━━━━━━━━━━━━━┳━━━━━━━━━━━━┓\n",
       "┃\u001b[1m \u001b[0m\u001b[1mParameter         \u001b[0m\u001b[1m \u001b[0m┃\u001b[1m \u001b[0m\u001b[1mValue     \u001b[0m\u001b[1m \u001b[0m┃\n",
       "┣━━━━━━━━━━━━━━━━━━━━╋━━━━━━━━━━━━┫\n",
       "┃\u001b[1;36m \u001b[0m\u001b[1;36m🧪 Trial Mode     \u001b[0m\u001b[1;36m \u001b[0m┃\u001b[1;33m \u001b[0m\u001b[1;33m          \u001b[0m\u001b[1;33m \u001b[0m┃\n",
       "┃\u001b[1;36m \u001b[0m\u001b[1;36m📏 Trial Unit     \u001b[0m\u001b[1;36m \u001b[0m┃\u001b[1;33m \u001b[0m\u001b[1;33mWords     \u001b[0m\u001b[1;33m \u001b[0m┃\n",
       "┃\u001b[1;36m \u001b[0m\u001b[1;36m🔗 Experiment Mode\u001b[0m\u001b[1;36m \u001b[0m┃\u001b[1;33m \u001b[0m\u001b[1;33mExperiment\u001b[0m\u001b[1;33m \u001b[0m┃\n",
       "┃\u001b[1;36m \u001b[0m\u001b[1;36m🎭 Trial Boundary \u001b[0m\u001b[1;36m \u001b[0m┃\u001b[1;33m \u001b[0m\u001b[1;33mStart     \u001b[0m\u001b[1;33m \u001b[0m┃\n",
       "┃\u001b[1;36m \u001b[0m\u001b[1;36m🔬 Trial Type     \u001b[0m\u001b[1;36m \u001b[0m┃\u001b[1;33m \u001b[0m\u001b[1;33mFixation  \u001b[0m\u001b[1;33m \u001b[0m┃\n",
       "┃\u001b[1;36m \u001b[0m\u001b[1;36m📊 Modality       \u001b[0m\u001b[1;36m \u001b[0m┃\u001b[1;33m \u001b[0m\u001b[1;33mPictures  \u001b[0m\u001b[1;33m \u001b[0m┃\n",
       "┃\u001b[1;36m \u001b[0m\u001b[1;36m⏱ Tmax            \u001b[0m\u001b[1;36m \u001b[0m┃\u001b[1;33m \u001b[0m\u001b[1;36m0.3\u001b[0m\u001b[1;33m       \u001b[0m\u001b[1;33m \u001b[0m┃\n",
       "┃\u001b[1;36m \u001b[0m\u001b[1;36m⏳ Tmin           \u001b[0m\u001b[1;36m \u001b[0m┃\u001b[1;33m \u001b[0m\u001b[1;36m1.0\u001b[0m\u001b[1;33m       \u001b[0m\u001b[1;33m \u001b[0m┃\n",
       "┗━━━━━━━━━━━━━━━━━━━━┻━━━━━━━━━━━━┛\n"
      ]
     },
     "metadata": {},
     "output_type": "display_data"
    },
    {
     "name": "stdout",
     "output_type": "stream",
     "text": [
      "Not setting metadata\n",
      "130 matching events found\n",
      "Applying baseline correction (mode: mean)\n",
      "0 projection items activated\n",
      "Loading data for 130 events and 701 original time points ...\n",
      "0 bad epochs dropped\n"
     ]
    },
    {
     "data": {
      "text/html": [
       "<pre style=\"white-space:pre;overflow-x:auto;line-height:normal;font-family:Menlo,'DejaVu Sans Mono',consolas,'Courier New',monospace\"> <span style=\"color: #008000; text-decoration-color: #008000; font-weight: bold\">Loading for sub-</span><span style=\"color: #008000; text-decoration-color: #008000; font-weight: bold\">11</span><span style=\"color: #008000; text-decoration-color: #008000; font-weight: bold\">, ses-</span><span style=\"color: #008000; text-decoration-color: #008000; font-weight: bold\">01</span>\n",
       "</pre>\n"
      ],
      "text/plain": [
       " \u001b[1;32mLoading for sub-\u001b[0m\u001b[1;32m11\u001b[0m\u001b[1;32m, ses-\u001b[0m\u001b[1;32m01\u001b[0m\n"
      ]
     },
     "metadata": {},
     "output_type": "display_data"
    },
    {
     "data": {
      "text/html": [
       "<pre style=\"white-space:pre;overflow-x:auto;line-height:normal;font-family:Menlo,'DejaVu Sans Mono',consolas,'Courier New',monospace\"><span style=\"color: #800000; text-decoration-color: #800000\">╭────────────────────────────────╮</span>\n",
       "<span style=\"color: #800000; text-decoration-color: #800000\">│</span>  <span style=\"color: #800000; text-decoration-color: #800000; font-weight: bold\">Initializing DataLoader Class</span> <span style=\"color: #800000; text-decoration-color: #800000\">│</span>\n",
       "<span style=\"color: #800000; text-decoration-color: #800000\">╰────────────────────────────────╯</span>\n",
       "</pre>\n"
      ],
      "text/plain": [
       "\u001b[31m╭────────────────────────────────╮\u001b[0m\n",
       "\u001b[31m│\u001b[0m  \u001b[1;31mInitializing DataLoader Class\u001b[0m \u001b[31m│\u001b[0m\n",
       "\u001b[31m╰────────────────────────────────╯\u001b[0m\n"
      ]
     },
     "metadata": {},
     "output_type": "display_data"
    },
    {
     "data": {
      "text/html": [
       "<pre style=\"white-space:pre;overflow-x:auto;line-height:normal;font-family:Menlo,'DejaVu Sans Mono',consolas,'Courier New',monospace\"> <span style=\"color: #008000; text-decoration-color: #008000; font-weight: bold\">Creating EPOCHS</span>\n",
       "</pre>\n"
      ],
      "text/plain": [
       " \u001b[1;32mCreating EPOCHS\u001b[0m\n"
      ]
     },
     "metadata": {},
     "output_type": "display_data"
    },
    {
     "data": {
      "text/html": [
       "<pre style=\"white-space:pre;overflow-x:auto;line-height:normal;font-family:Menlo,'DejaVu Sans Mono',consolas,'Courier New',monospace\"><span style=\"font-style: italic\">        Extraction Criteria        </span>\n",
       "┏━━━━━━━━━━━━━━━━━━━━┳━━━━━━━━━━━━┓\n",
       "┃<span style=\"font-weight: bold\"> Parameter          </span>┃<span style=\"font-weight: bold\"> Value      </span>┃\n",
       "┣━━━━━━━━━━━━━━━━━━━━╋━━━━━━━━━━━━┫\n",
       "┃<span style=\"color: #008080; text-decoration-color: #008080; font-weight: bold\"> 🧪 Trial Mode      </span>┃<span style=\"color: #808000; text-decoration-color: #808000; font-weight: bold\">            </span>┃\n",
       "┃<span style=\"color: #008080; text-decoration-color: #008080; font-weight: bold\"> 📏 Trial Unit      </span>┃<span style=\"color: #808000; text-decoration-color: #808000; font-weight: bold\"> Words      </span>┃\n",
       "┃<span style=\"color: #008080; text-decoration-color: #008080; font-weight: bold\"> 🔗 Experiment Mode </span>┃<span style=\"color: #808000; text-decoration-color: #808000; font-weight: bold\"> Experiment </span>┃\n",
       "┃<span style=\"color: #008080; text-decoration-color: #008080; font-weight: bold\"> 🎭 Trial Boundary  </span>┃<span style=\"color: #808000; text-decoration-color: #808000; font-weight: bold\"> Start      </span>┃\n",
       "┃<span style=\"color: #008080; text-decoration-color: #008080; font-weight: bold\"> 🔬 Trial Type      </span>┃<span style=\"color: #808000; text-decoration-color: #808000; font-weight: bold\"> Fixation   </span>┃\n",
       "┃<span style=\"color: #008080; text-decoration-color: #008080; font-weight: bold\"> 📊 Modality        </span>┃<span style=\"color: #808000; text-decoration-color: #808000; font-weight: bold\"> Pictures   </span>┃\n",
       "┃<span style=\"color: #008080; text-decoration-color: #008080; font-weight: bold\"> ⏱ Tmax             </span>┃<span style=\"color: #808000; text-decoration-color: #808000; font-weight: bold\"> </span><span style=\"color: #008080; text-decoration-color: #008080; font-weight: bold\">0.3</span><span style=\"color: #808000; text-decoration-color: #808000; font-weight: bold\">        </span>┃\n",
       "┃<span style=\"color: #008080; text-decoration-color: #008080; font-weight: bold\"> ⏳ Tmin            </span>┃<span style=\"color: #808000; text-decoration-color: #808000; font-weight: bold\"> </span><span style=\"color: #008080; text-decoration-color: #008080; font-weight: bold\">1.0</span><span style=\"color: #808000; text-decoration-color: #808000; font-weight: bold\">        </span>┃\n",
       "┗━━━━━━━━━━━━━━━━━━━━┻━━━━━━━━━━━━┛\n",
       "</pre>\n"
      ],
      "text/plain": [
       "\u001b[3m        Extraction Criteria        \u001b[0m\n",
       "┏━━━━━━━━━━━━━━━━━━━━┳━━━━━━━━━━━━┓\n",
       "┃\u001b[1m \u001b[0m\u001b[1mParameter         \u001b[0m\u001b[1m \u001b[0m┃\u001b[1m \u001b[0m\u001b[1mValue     \u001b[0m\u001b[1m \u001b[0m┃\n",
       "┣━━━━━━━━━━━━━━━━━━━━╋━━━━━━━━━━━━┫\n",
       "┃\u001b[1;36m \u001b[0m\u001b[1;36m🧪 Trial Mode     \u001b[0m\u001b[1;36m \u001b[0m┃\u001b[1;33m \u001b[0m\u001b[1;33m          \u001b[0m\u001b[1;33m \u001b[0m┃\n",
       "┃\u001b[1;36m \u001b[0m\u001b[1;36m📏 Trial Unit     \u001b[0m\u001b[1;36m \u001b[0m┃\u001b[1;33m \u001b[0m\u001b[1;33mWords     \u001b[0m\u001b[1;33m \u001b[0m┃\n",
       "┃\u001b[1;36m \u001b[0m\u001b[1;36m🔗 Experiment Mode\u001b[0m\u001b[1;36m \u001b[0m┃\u001b[1;33m \u001b[0m\u001b[1;33mExperiment\u001b[0m\u001b[1;33m \u001b[0m┃\n",
       "┃\u001b[1;36m \u001b[0m\u001b[1;36m🎭 Trial Boundary \u001b[0m\u001b[1;36m \u001b[0m┃\u001b[1;33m \u001b[0m\u001b[1;33mStart     \u001b[0m\u001b[1;33m \u001b[0m┃\n",
       "┃\u001b[1;36m \u001b[0m\u001b[1;36m🔬 Trial Type     \u001b[0m\u001b[1;36m \u001b[0m┃\u001b[1;33m \u001b[0m\u001b[1;33mFixation  \u001b[0m\u001b[1;33m \u001b[0m┃\n",
       "┃\u001b[1;36m \u001b[0m\u001b[1;36m📊 Modality       \u001b[0m\u001b[1;36m \u001b[0m┃\u001b[1;33m \u001b[0m\u001b[1;33mPictures  \u001b[0m\u001b[1;33m \u001b[0m┃\n",
       "┃\u001b[1;36m \u001b[0m\u001b[1;36m⏱ Tmax            \u001b[0m\u001b[1;36m \u001b[0m┃\u001b[1;33m \u001b[0m\u001b[1;36m0.3\u001b[0m\u001b[1;33m       \u001b[0m\u001b[1;33m \u001b[0m┃\n",
       "┃\u001b[1;36m \u001b[0m\u001b[1;36m⏳ Tmin           \u001b[0m\u001b[1;36m \u001b[0m┃\u001b[1;33m \u001b[0m\u001b[1;36m1.0\u001b[0m\u001b[1;33m       \u001b[0m\u001b[1;33m \u001b[0m┃\n",
       "┗━━━━━━━━━━━━━━━━━━━━┻━━━━━━━━━━━━┛\n"
      ]
     },
     "metadata": {},
     "output_type": "display_data"
    },
    {
     "name": "stdout",
     "output_type": "stream",
     "text": [
      "Not setting metadata\n",
      "130 matching events found\n",
      "Applying baseline correction (mode: mean)\n",
      "0 projection items activated\n",
      "Loading data for 130 events and 701 original time points ...\n",
      "0 bad epochs dropped\n"
     ]
    },
    {
     "data": {
      "text/html": [
       "<pre style=\"white-space:pre;overflow-x:auto;line-height:normal;font-family:Menlo,'DejaVu Sans Mono',consolas,'Courier New',monospace\"> <span style=\"color: #008000; text-decoration-color: #008000; font-weight: bold\">Loading for sub-</span><span style=\"color: #008000; text-decoration-color: #008000; font-weight: bold\">12</span><span style=\"color: #008000; text-decoration-color: #008000; font-weight: bold\">, ses-</span><span style=\"color: #008000; text-decoration-color: #008000; font-weight: bold\">01</span>\n",
       "</pre>\n"
      ],
      "text/plain": [
       " \u001b[1;32mLoading for sub-\u001b[0m\u001b[1;32m12\u001b[0m\u001b[1;32m, ses-\u001b[0m\u001b[1;32m01\u001b[0m\n"
      ]
     },
     "metadata": {},
     "output_type": "display_data"
    },
    {
     "data": {
      "text/html": [
       "<pre style=\"white-space:pre;overflow-x:auto;line-height:normal;font-family:Menlo,'DejaVu Sans Mono',consolas,'Courier New',monospace\"><span style=\"color: #800000; text-decoration-color: #800000\">╭────────────────────────────────╮</span>\n",
       "<span style=\"color: #800000; text-decoration-color: #800000\">│</span>  <span style=\"color: #800000; text-decoration-color: #800000; font-weight: bold\">Initializing DataLoader Class</span> <span style=\"color: #800000; text-decoration-color: #800000\">│</span>\n",
       "<span style=\"color: #800000; text-decoration-color: #800000\">╰────────────────────────────────╯</span>\n",
       "</pre>\n"
      ],
      "text/plain": [
       "\u001b[31m╭────────────────────────────────╮\u001b[0m\n",
       "\u001b[31m│\u001b[0m  \u001b[1;31mInitializing DataLoader Class\u001b[0m \u001b[31m│\u001b[0m\n",
       "\u001b[31m╰────────────────────────────────╯\u001b[0m\n"
      ]
     },
     "metadata": {},
     "output_type": "display_data"
    },
    {
     "data": {
      "text/html": [
       "<pre style=\"white-space:pre;overflow-x:auto;line-height:normal;font-family:Menlo,'DejaVu Sans Mono',consolas,'Courier New',monospace\"> <span style=\"color: #008000; text-decoration-color: #008000; font-weight: bold\">Creating EPOCHS</span>\n",
       "</pre>\n"
      ],
      "text/plain": [
       " \u001b[1;32mCreating EPOCHS\u001b[0m\n"
      ]
     },
     "metadata": {},
     "output_type": "display_data"
    },
    {
     "data": {
      "text/html": [
       "<pre style=\"white-space:pre;overflow-x:auto;line-height:normal;font-family:Menlo,'DejaVu Sans Mono',consolas,'Courier New',monospace\"><span style=\"font-style: italic\">        Extraction Criteria        </span>\n",
       "┏━━━━━━━━━━━━━━━━━━━━┳━━━━━━━━━━━━┓\n",
       "┃<span style=\"font-weight: bold\"> Parameter          </span>┃<span style=\"font-weight: bold\"> Value      </span>┃\n",
       "┣━━━━━━━━━━━━━━━━━━━━╋━━━━━━━━━━━━┫\n",
       "┃<span style=\"color: #008080; text-decoration-color: #008080; font-weight: bold\"> 🧪 Trial Mode      </span>┃<span style=\"color: #808000; text-decoration-color: #808000; font-weight: bold\">            </span>┃\n",
       "┃<span style=\"color: #008080; text-decoration-color: #008080; font-weight: bold\"> 📏 Trial Unit      </span>┃<span style=\"color: #808000; text-decoration-color: #808000; font-weight: bold\"> Words      </span>┃\n",
       "┃<span style=\"color: #008080; text-decoration-color: #008080; font-weight: bold\"> 🔗 Experiment Mode </span>┃<span style=\"color: #808000; text-decoration-color: #808000; font-weight: bold\"> Experiment </span>┃\n",
       "┃<span style=\"color: #008080; text-decoration-color: #008080; font-weight: bold\"> 🎭 Trial Boundary  </span>┃<span style=\"color: #808000; text-decoration-color: #808000; font-weight: bold\"> Start      </span>┃\n",
       "┃<span style=\"color: #008080; text-decoration-color: #008080; font-weight: bold\"> 🔬 Trial Type      </span>┃<span style=\"color: #808000; text-decoration-color: #808000; font-weight: bold\"> Fixation   </span>┃\n",
       "┃<span style=\"color: #008080; text-decoration-color: #008080; font-weight: bold\"> 📊 Modality        </span>┃<span style=\"color: #808000; text-decoration-color: #808000; font-weight: bold\"> Pictures   </span>┃\n",
       "┃<span style=\"color: #008080; text-decoration-color: #008080; font-weight: bold\"> ⏱ Tmax             </span>┃<span style=\"color: #808000; text-decoration-color: #808000; font-weight: bold\"> </span><span style=\"color: #008080; text-decoration-color: #008080; font-weight: bold\">0.3</span><span style=\"color: #808000; text-decoration-color: #808000; font-weight: bold\">        </span>┃\n",
       "┃<span style=\"color: #008080; text-decoration-color: #008080; font-weight: bold\"> ⏳ Tmin            </span>┃<span style=\"color: #808000; text-decoration-color: #808000; font-weight: bold\"> </span><span style=\"color: #008080; text-decoration-color: #008080; font-weight: bold\">1.0</span><span style=\"color: #808000; text-decoration-color: #808000; font-weight: bold\">        </span>┃\n",
       "┗━━━━━━━━━━━━━━━━━━━━┻━━━━━━━━━━━━┛\n",
       "</pre>\n"
      ],
      "text/plain": [
       "\u001b[3m        Extraction Criteria        \u001b[0m\n",
       "┏━━━━━━━━━━━━━━━━━━━━┳━━━━━━━━━━━━┓\n",
       "┃\u001b[1m \u001b[0m\u001b[1mParameter         \u001b[0m\u001b[1m \u001b[0m┃\u001b[1m \u001b[0m\u001b[1mValue     \u001b[0m\u001b[1m \u001b[0m┃\n",
       "┣━━━━━━━━━━━━━━━━━━━━╋━━━━━━━━━━━━┫\n",
       "┃\u001b[1;36m \u001b[0m\u001b[1;36m🧪 Trial Mode     \u001b[0m\u001b[1;36m \u001b[0m┃\u001b[1;33m \u001b[0m\u001b[1;33m          \u001b[0m\u001b[1;33m \u001b[0m┃\n",
       "┃\u001b[1;36m \u001b[0m\u001b[1;36m📏 Trial Unit     \u001b[0m\u001b[1;36m \u001b[0m┃\u001b[1;33m \u001b[0m\u001b[1;33mWords     \u001b[0m\u001b[1;33m \u001b[0m┃\n",
       "┃\u001b[1;36m \u001b[0m\u001b[1;36m🔗 Experiment Mode\u001b[0m\u001b[1;36m \u001b[0m┃\u001b[1;33m \u001b[0m\u001b[1;33mExperiment\u001b[0m\u001b[1;33m \u001b[0m┃\n",
       "┃\u001b[1;36m \u001b[0m\u001b[1;36m🎭 Trial Boundary \u001b[0m\u001b[1;36m \u001b[0m┃\u001b[1;33m \u001b[0m\u001b[1;33mStart     \u001b[0m\u001b[1;33m \u001b[0m┃\n",
       "┃\u001b[1;36m \u001b[0m\u001b[1;36m🔬 Trial Type     \u001b[0m\u001b[1;36m \u001b[0m┃\u001b[1;33m \u001b[0m\u001b[1;33mFixation  \u001b[0m\u001b[1;33m \u001b[0m┃\n",
       "┃\u001b[1;36m \u001b[0m\u001b[1;36m📊 Modality       \u001b[0m\u001b[1;36m \u001b[0m┃\u001b[1;33m \u001b[0m\u001b[1;33mPictures  \u001b[0m\u001b[1;33m \u001b[0m┃\n",
       "┃\u001b[1;36m \u001b[0m\u001b[1;36m⏱ Tmax            \u001b[0m\u001b[1;36m \u001b[0m┃\u001b[1;33m \u001b[0m\u001b[1;36m0.3\u001b[0m\u001b[1;33m       \u001b[0m\u001b[1;33m \u001b[0m┃\n",
       "┃\u001b[1;36m \u001b[0m\u001b[1;36m⏳ Tmin           \u001b[0m\u001b[1;36m \u001b[0m┃\u001b[1;33m \u001b[0m\u001b[1;36m1.0\u001b[0m\u001b[1;33m       \u001b[0m\u001b[1;33m \u001b[0m┃\n",
       "┗━━━━━━━━━━━━━━━━━━━━┻━━━━━━━━━━━━┛\n"
      ]
     },
     "metadata": {},
     "output_type": "display_data"
    },
    {
     "name": "stdout",
     "output_type": "stream",
     "text": [
      "Not setting metadata\n",
      "130 matching events found\n",
      "Applying baseline correction (mode: mean)\n",
      "0 projection items activated\n",
      "Loading data for 130 events and 701 original time points ...\n",
      "0 bad epochs dropped\n"
     ]
    },
    {
     "data": {
      "text/html": [
       "<pre style=\"white-space:pre;overflow-x:auto;line-height:normal;font-family:Menlo,'DejaVu Sans Mono',consolas,'Courier New',monospace\"> <span style=\"color: #008000; text-decoration-color: #008000; font-weight: bold\">Loading for sub-</span><span style=\"color: #008000; text-decoration-color: #008000; font-weight: bold\">12</span><span style=\"color: #008000; text-decoration-color: #008000; font-weight: bold\">, ses-</span><span style=\"color: #008000; text-decoration-color: #008000; font-weight: bold\">02</span>\n",
       "</pre>\n"
      ],
      "text/plain": [
       " \u001b[1;32mLoading for sub-\u001b[0m\u001b[1;32m12\u001b[0m\u001b[1;32m, ses-\u001b[0m\u001b[1;32m02\u001b[0m\n"
      ]
     },
     "metadata": {},
     "output_type": "display_data"
    },
    {
     "data": {
      "text/html": [
       "<pre style=\"white-space:pre;overflow-x:auto;line-height:normal;font-family:Menlo,'DejaVu Sans Mono',consolas,'Courier New',monospace\"><span style=\"color: #800000; text-decoration-color: #800000\">╭────────────────────────────────╮</span>\n",
       "<span style=\"color: #800000; text-decoration-color: #800000\">│</span>  <span style=\"color: #800000; text-decoration-color: #800000; font-weight: bold\">Initializing DataLoader Class</span> <span style=\"color: #800000; text-decoration-color: #800000\">│</span>\n",
       "<span style=\"color: #800000; text-decoration-color: #800000\">╰────────────────────────────────╯</span>\n",
       "</pre>\n"
      ],
      "text/plain": [
       "\u001b[31m╭────────────────────────────────╮\u001b[0m\n",
       "\u001b[31m│\u001b[0m  \u001b[1;31mInitializing DataLoader Class\u001b[0m \u001b[31m│\u001b[0m\n",
       "\u001b[31m╰────────────────────────────────╯\u001b[0m\n"
      ]
     },
     "metadata": {},
     "output_type": "display_data"
    },
    {
     "data": {
      "text/html": [
       "<pre style=\"white-space:pre;overflow-x:auto;line-height:normal;font-family:Menlo,'DejaVu Sans Mono',consolas,'Courier New',monospace\"> <span style=\"color: #008000; text-decoration-color: #008000; font-weight: bold\">Creating EPOCHS</span>\n",
       "</pre>\n"
      ],
      "text/plain": [
       " \u001b[1;32mCreating EPOCHS\u001b[0m\n"
      ]
     },
     "metadata": {},
     "output_type": "display_data"
    },
    {
     "data": {
      "text/html": [
       "<pre style=\"white-space:pre;overflow-x:auto;line-height:normal;font-family:Menlo,'DejaVu Sans Mono',consolas,'Courier New',monospace\"><span style=\"font-style: italic\">        Extraction Criteria        </span>\n",
       "┏━━━━━━━━━━━━━━━━━━━━┳━━━━━━━━━━━━┓\n",
       "┃<span style=\"font-weight: bold\"> Parameter          </span>┃<span style=\"font-weight: bold\"> Value      </span>┃\n",
       "┣━━━━━━━━━━━━━━━━━━━━╋━━━━━━━━━━━━┫\n",
       "┃<span style=\"color: #008080; text-decoration-color: #008080; font-weight: bold\"> 🧪 Trial Mode      </span>┃<span style=\"color: #808000; text-decoration-color: #808000; font-weight: bold\">            </span>┃\n",
       "┃<span style=\"color: #008080; text-decoration-color: #008080; font-weight: bold\"> 📏 Trial Unit      </span>┃<span style=\"color: #808000; text-decoration-color: #808000; font-weight: bold\"> Words      </span>┃\n",
       "┃<span style=\"color: #008080; text-decoration-color: #008080; font-weight: bold\"> 🔗 Experiment Mode </span>┃<span style=\"color: #808000; text-decoration-color: #808000; font-weight: bold\"> Experiment </span>┃\n",
       "┃<span style=\"color: #008080; text-decoration-color: #008080; font-weight: bold\"> 🎭 Trial Boundary  </span>┃<span style=\"color: #808000; text-decoration-color: #808000; font-weight: bold\"> Start      </span>┃\n",
       "┃<span style=\"color: #008080; text-decoration-color: #008080; font-weight: bold\"> 🔬 Trial Type      </span>┃<span style=\"color: #808000; text-decoration-color: #808000; font-weight: bold\"> Fixation   </span>┃\n",
       "┃<span style=\"color: #008080; text-decoration-color: #008080; font-weight: bold\"> 📊 Modality        </span>┃<span style=\"color: #808000; text-decoration-color: #808000; font-weight: bold\"> Pictures   </span>┃\n",
       "┃<span style=\"color: #008080; text-decoration-color: #008080; font-weight: bold\"> ⏱ Tmax             </span>┃<span style=\"color: #808000; text-decoration-color: #808000; font-weight: bold\"> </span><span style=\"color: #008080; text-decoration-color: #008080; font-weight: bold\">0.3</span><span style=\"color: #808000; text-decoration-color: #808000; font-weight: bold\">        </span>┃\n",
       "┃<span style=\"color: #008080; text-decoration-color: #008080; font-weight: bold\"> ⏳ Tmin            </span>┃<span style=\"color: #808000; text-decoration-color: #808000; font-weight: bold\"> </span><span style=\"color: #008080; text-decoration-color: #008080; font-weight: bold\">1.0</span><span style=\"color: #808000; text-decoration-color: #808000; font-weight: bold\">        </span>┃\n",
       "┗━━━━━━━━━━━━━━━━━━━━┻━━━━━━━━━━━━┛\n",
       "</pre>\n"
      ],
      "text/plain": [
       "\u001b[3m        Extraction Criteria        \u001b[0m\n",
       "┏━━━━━━━━━━━━━━━━━━━━┳━━━━━━━━━━━━┓\n",
       "┃\u001b[1m \u001b[0m\u001b[1mParameter         \u001b[0m\u001b[1m \u001b[0m┃\u001b[1m \u001b[0m\u001b[1mValue     \u001b[0m\u001b[1m \u001b[0m┃\n",
       "┣━━━━━━━━━━━━━━━━━━━━╋━━━━━━━━━━━━┫\n",
       "┃\u001b[1;36m \u001b[0m\u001b[1;36m🧪 Trial Mode     \u001b[0m\u001b[1;36m \u001b[0m┃\u001b[1;33m \u001b[0m\u001b[1;33m          \u001b[0m\u001b[1;33m \u001b[0m┃\n",
       "┃\u001b[1;36m \u001b[0m\u001b[1;36m📏 Trial Unit     \u001b[0m\u001b[1;36m \u001b[0m┃\u001b[1;33m \u001b[0m\u001b[1;33mWords     \u001b[0m\u001b[1;33m \u001b[0m┃\n",
       "┃\u001b[1;36m \u001b[0m\u001b[1;36m🔗 Experiment Mode\u001b[0m\u001b[1;36m \u001b[0m┃\u001b[1;33m \u001b[0m\u001b[1;33mExperiment\u001b[0m\u001b[1;33m \u001b[0m┃\n",
       "┃\u001b[1;36m \u001b[0m\u001b[1;36m🎭 Trial Boundary \u001b[0m\u001b[1;36m \u001b[0m┃\u001b[1;33m \u001b[0m\u001b[1;33mStart     \u001b[0m\u001b[1;33m \u001b[0m┃\n",
       "┃\u001b[1;36m \u001b[0m\u001b[1;36m🔬 Trial Type     \u001b[0m\u001b[1;36m \u001b[0m┃\u001b[1;33m \u001b[0m\u001b[1;33mFixation  \u001b[0m\u001b[1;33m \u001b[0m┃\n",
       "┃\u001b[1;36m \u001b[0m\u001b[1;36m📊 Modality       \u001b[0m\u001b[1;36m \u001b[0m┃\u001b[1;33m \u001b[0m\u001b[1;33mPictures  \u001b[0m\u001b[1;33m \u001b[0m┃\n",
       "┃\u001b[1;36m \u001b[0m\u001b[1;36m⏱ Tmax            \u001b[0m\u001b[1;36m \u001b[0m┃\u001b[1;33m \u001b[0m\u001b[1;36m0.3\u001b[0m\u001b[1;33m       \u001b[0m\u001b[1;33m \u001b[0m┃\n",
       "┃\u001b[1;36m \u001b[0m\u001b[1;36m⏳ Tmin           \u001b[0m\u001b[1;36m \u001b[0m┃\u001b[1;33m \u001b[0m\u001b[1;36m1.0\u001b[0m\u001b[1;33m       \u001b[0m\u001b[1;33m \u001b[0m┃\n",
       "┗━━━━━━━━━━━━━━━━━━━━┻━━━━━━━━━━━━┛\n"
      ]
     },
     "metadata": {},
     "output_type": "display_data"
    },
    {
     "name": "stdout",
     "output_type": "stream",
     "text": [
      "Not setting metadata\n",
      "130 matching events found\n",
      "Applying baseline correction (mode: mean)\n",
      "0 projection items activated\n",
      "Loading data for 130 events and 701 original time points ...\n",
      "0 bad epochs dropped\n"
     ]
    },
    {
     "data": {
      "text/html": [
       "<pre style=\"white-space:pre;overflow-x:auto;line-height:normal;font-family:Menlo,'DejaVu Sans Mono',consolas,'Courier New',monospace\"> <span style=\"color: #008000; text-decoration-color: #008000; font-weight: bold\">Loading for sub-</span><span style=\"color: #008000; text-decoration-color: #008000; font-weight: bold\">13</span><span style=\"color: #008000; text-decoration-color: #008000; font-weight: bold\">, ses-</span><span style=\"color: #008000; text-decoration-color: #008000; font-weight: bold\">01</span>\n",
       "</pre>\n"
      ],
      "text/plain": [
       " \u001b[1;32mLoading for sub-\u001b[0m\u001b[1;32m13\u001b[0m\u001b[1;32m, ses-\u001b[0m\u001b[1;32m01\u001b[0m\n"
      ]
     },
     "metadata": {},
     "output_type": "display_data"
    },
    {
     "data": {
      "text/html": [
       "<pre style=\"white-space:pre;overflow-x:auto;line-height:normal;font-family:Menlo,'DejaVu Sans Mono',consolas,'Courier New',monospace\"><span style=\"color: #800000; text-decoration-color: #800000\">╭────────────────────────────────╮</span>\n",
       "<span style=\"color: #800000; text-decoration-color: #800000\">│</span>  <span style=\"color: #800000; text-decoration-color: #800000; font-weight: bold\">Initializing DataLoader Class</span> <span style=\"color: #800000; text-decoration-color: #800000\">│</span>\n",
       "<span style=\"color: #800000; text-decoration-color: #800000\">╰────────────────────────────────╯</span>\n",
       "</pre>\n"
      ],
      "text/plain": [
       "\u001b[31m╭────────────────────────────────╮\u001b[0m\n",
       "\u001b[31m│\u001b[0m  \u001b[1;31mInitializing DataLoader Class\u001b[0m \u001b[31m│\u001b[0m\n",
       "\u001b[31m╰────────────────────────────────╯\u001b[0m\n"
      ]
     },
     "metadata": {},
     "output_type": "display_data"
    },
    {
     "data": {
      "text/html": [
       "<pre style=\"white-space:pre;overflow-x:auto;line-height:normal;font-family:Menlo,'DejaVu Sans Mono',consolas,'Courier New',monospace\"> <span style=\"color: #008000; text-decoration-color: #008000; font-weight: bold\">Creating EPOCHS</span>\n",
       "</pre>\n"
      ],
      "text/plain": [
       " \u001b[1;32mCreating EPOCHS\u001b[0m\n"
      ]
     },
     "metadata": {},
     "output_type": "display_data"
    },
    {
     "data": {
      "text/html": [
       "<pre style=\"white-space:pre;overflow-x:auto;line-height:normal;font-family:Menlo,'DejaVu Sans Mono',consolas,'Courier New',monospace\"><span style=\"font-style: italic\">        Extraction Criteria        </span>\n",
       "┏━━━━━━━━━━━━━━━━━━━━┳━━━━━━━━━━━━┓\n",
       "┃<span style=\"font-weight: bold\"> Parameter          </span>┃<span style=\"font-weight: bold\"> Value      </span>┃\n",
       "┣━━━━━━━━━━━━━━━━━━━━╋━━━━━━━━━━━━┫\n",
       "┃<span style=\"color: #008080; text-decoration-color: #008080; font-weight: bold\"> 🧪 Trial Mode      </span>┃<span style=\"color: #808000; text-decoration-color: #808000; font-weight: bold\">            </span>┃\n",
       "┃<span style=\"color: #008080; text-decoration-color: #008080; font-weight: bold\"> 📏 Trial Unit      </span>┃<span style=\"color: #808000; text-decoration-color: #808000; font-weight: bold\"> Words      </span>┃\n",
       "┃<span style=\"color: #008080; text-decoration-color: #008080; font-weight: bold\"> 🔗 Experiment Mode </span>┃<span style=\"color: #808000; text-decoration-color: #808000; font-weight: bold\"> Experiment </span>┃\n",
       "┃<span style=\"color: #008080; text-decoration-color: #008080; font-weight: bold\"> 🎭 Trial Boundary  </span>┃<span style=\"color: #808000; text-decoration-color: #808000; font-weight: bold\"> Start      </span>┃\n",
       "┃<span style=\"color: #008080; text-decoration-color: #008080; font-weight: bold\"> 🔬 Trial Type      </span>┃<span style=\"color: #808000; text-decoration-color: #808000; font-weight: bold\"> Fixation   </span>┃\n",
       "┃<span style=\"color: #008080; text-decoration-color: #008080; font-weight: bold\"> 📊 Modality        </span>┃<span style=\"color: #808000; text-decoration-color: #808000; font-weight: bold\"> Pictures   </span>┃\n",
       "┃<span style=\"color: #008080; text-decoration-color: #008080; font-weight: bold\"> ⏱ Tmax             </span>┃<span style=\"color: #808000; text-decoration-color: #808000; font-weight: bold\"> </span><span style=\"color: #008080; text-decoration-color: #008080; font-weight: bold\">0.3</span><span style=\"color: #808000; text-decoration-color: #808000; font-weight: bold\">        </span>┃\n",
       "┃<span style=\"color: #008080; text-decoration-color: #008080; font-weight: bold\"> ⏳ Tmin            </span>┃<span style=\"color: #808000; text-decoration-color: #808000; font-weight: bold\"> </span><span style=\"color: #008080; text-decoration-color: #008080; font-weight: bold\">1.0</span><span style=\"color: #808000; text-decoration-color: #808000; font-weight: bold\">        </span>┃\n",
       "┗━━━━━━━━━━━━━━━━━━━━┻━━━━━━━━━━━━┛\n",
       "</pre>\n"
      ],
      "text/plain": [
       "\u001b[3m        Extraction Criteria        \u001b[0m\n",
       "┏━━━━━━━━━━━━━━━━━━━━┳━━━━━━━━━━━━┓\n",
       "┃\u001b[1m \u001b[0m\u001b[1mParameter         \u001b[0m\u001b[1m \u001b[0m┃\u001b[1m \u001b[0m\u001b[1mValue     \u001b[0m\u001b[1m \u001b[0m┃\n",
       "┣━━━━━━━━━━━━━━━━━━━━╋━━━━━━━━━━━━┫\n",
       "┃\u001b[1;36m \u001b[0m\u001b[1;36m🧪 Trial Mode     \u001b[0m\u001b[1;36m \u001b[0m┃\u001b[1;33m \u001b[0m\u001b[1;33m          \u001b[0m\u001b[1;33m \u001b[0m┃\n",
       "┃\u001b[1;36m \u001b[0m\u001b[1;36m📏 Trial Unit     \u001b[0m\u001b[1;36m \u001b[0m┃\u001b[1;33m \u001b[0m\u001b[1;33mWords     \u001b[0m\u001b[1;33m \u001b[0m┃\n",
       "┃\u001b[1;36m \u001b[0m\u001b[1;36m🔗 Experiment Mode\u001b[0m\u001b[1;36m \u001b[0m┃\u001b[1;33m \u001b[0m\u001b[1;33mExperiment\u001b[0m\u001b[1;33m \u001b[0m┃\n",
       "┃\u001b[1;36m \u001b[0m\u001b[1;36m🎭 Trial Boundary \u001b[0m\u001b[1;36m \u001b[0m┃\u001b[1;33m \u001b[0m\u001b[1;33mStart     \u001b[0m\u001b[1;33m \u001b[0m┃\n",
       "┃\u001b[1;36m \u001b[0m\u001b[1;36m🔬 Trial Type     \u001b[0m\u001b[1;36m \u001b[0m┃\u001b[1;33m \u001b[0m\u001b[1;33mFixation  \u001b[0m\u001b[1;33m \u001b[0m┃\n",
       "┃\u001b[1;36m \u001b[0m\u001b[1;36m📊 Modality       \u001b[0m\u001b[1;36m \u001b[0m┃\u001b[1;33m \u001b[0m\u001b[1;33mPictures  \u001b[0m\u001b[1;33m \u001b[0m┃\n",
       "┃\u001b[1;36m \u001b[0m\u001b[1;36m⏱ Tmax            \u001b[0m\u001b[1;36m \u001b[0m┃\u001b[1;33m \u001b[0m\u001b[1;36m0.3\u001b[0m\u001b[1;33m       \u001b[0m\u001b[1;33m \u001b[0m┃\n",
       "┃\u001b[1;36m \u001b[0m\u001b[1;36m⏳ Tmin           \u001b[0m\u001b[1;36m \u001b[0m┃\u001b[1;33m \u001b[0m\u001b[1;36m1.0\u001b[0m\u001b[1;33m       \u001b[0m\u001b[1;33m \u001b[0m┃\n",
       "┗━━━━━━━━━━━━━━━━━━━━┻━━━━━━━━━━━━┛\n"
      ]
     },
     "metadata": {},
     "output_type": "display_data"
    },
    {
     "name": "stdout",
     "output_type": "stream",
     "text": [
      "Not setting metadata\n",
      "130 matching events found\n",
      "Applying baseline correction (mode: mean)\n",
      "0 projection items activated\n",
      "Loading data for 130 events and 701 original time points ...\n",
      "0 bad epochs dropped\n"
     ]
    },
    {
     "data": {
      "text/html": [
       "<pre style=\"white-space:pre;overflow-x:auto;line-height:normal;font-family:Menlo,'DejaVu Sans Mono',consolas,'Courier New',monospace\"> <span style=\"color: #008000; text-decoration-color: #008000; font-weight: bold\">Loading for sub-</span><span style=\"color: #008000; text-decoration-color: #008000; font-weight: bold\">13</span><span style=\"color: #008000; text-decoration-color: #008000; font-weight: bold\">, ses-</span><span style=\"color: #008000; text-decoration-color: #008000; font-weight: bold\">02</span>\n",
       "</pre>\n"
      ],
      "text/plain": [
       " \u001b[1;32mLoading for sub-\u001b[0m\u001b[1;32m13\u001b[0m\u001b[1;32m, ses-\u001b[0m\u001b[1;32m02\u001b[0m\n"
      ]
     },
     "metadata": {},
     "output_type": "display_data"
    },
    {
     "data": {
      "text/html": [
       "<pre style=\"white-space:pre;overflow-x:auto;line-height:normal;font-family:Menlo,'DejaVu Sans Mono',consolas,'Courier New',monospace\"><span style=\"color: #800000; text-decoration-color: #800000\">╭────────────────────────────────╮</span>\n",
       "<span style=\"color: #800000; text-decoration-color: #800000\">│</span>  <span style=\"color: #800000; text-decoration-color: #800000; font-weight: bold\">Initializing DataLoader Class</span> <span style=\"color: #800000; text-decoration-color: #800000\">│</span>\n",
       "<span style=\"color: #800000; text-decoration-color: #800000\">╰────────────────────────────────╯</span>\n",
       "</pre>\n"
      ],
      "text/plain": [
       "\u001b[31m╭────────────────────────────────╮\u001b[0m\n",
       "\u001b[31m│\u001b[0m  \u001b[1;31mInitializing DataLoader Class\u001b[0m \u001b[31m│\u001b[0m\n",
       "\u001b[31m╰────────────────────────────────╯\u001b[0m\n"
      ]
     },
     "metadata": {},
     "output_type": "display_data"
    },
    {
     "data": {
      "text/html": [
       "<pre style=\"white-space:pre;overflow-x:auto;line-height:normal;font-family:Menlo,'DejaVu Sans Mono',consolas,'Courier New',monospace\"> <span style=\"color: #008000; text-decoration-color: #008000; font-weight: bold\">Creating EPOCHS</span>\n",
       "</pre>\n"
      ],
      "text/plain": [
       " \u001b[1;32mCreating EPOCHS\u001b[0m\n"
      ]
     },
     "metadata": {},
     "output_type": "display_data"
    },
    {
     "data": {
      "text/html": [
       "<pre style=\"white-space:pre;overflow-x:auto;line-height:normal;font-family:Menlo,'DejaVu Sans Mono',consolas,'Courier New',monospace\"><span style=\"font-style: italic\">        Extraction Criteria        </span>\n",
       "┏━━━━━━━━━━━━━━━━━━━━┳━━━━━━━━━━━━┓\n",
       "┃<span style=\"font-weight: bold\"> Parameter          </span>┃<span style=\"font-weight: bold\"> Value      </span>┃\n",
       "┣━━━━━━━━━━━━━━━━━━━━╋━━━━━━━━━━━━┫\n",
       "┃<span style=\"color: #008080; text-decoration-color: #008080; font-weight: bold\"> 🧪 Trial Mode      </span>┃<span style=\"color: #808000; text-decoration-color: #808000; font-weight: bold\">            </span>┃\n",
       "┃<span style=\"color: #008080; text-decoration-color: #008080; font-weight: bold\"> 📏 Trial Unit      </span>┃<span style=\"color: #808000; text-decoration-color: #808000; font-weight: bold\"> Words      </span>┃\n",
       "┃<span style=\"color: #008080; text-decoration-color: #008080; font-weight: bold\"> 🔗 Experiment Mode </span>┃<span style=\"color: #808000; text-decoration-color: #808000; font-weight: bold\"> Experiment </span>┃\n",
       "┃<span style=\"color: #008080; text-decoration-color: #008080; font-weight: bold\"> 🎭 Trial Boundary  </span>┃<span style=\"color: #808000; text-decoration-color: #808000; font-weight: bold\"> Start      </span>┃\n",
       "┃<span style=\"color: #008080; text-decoration-color: #008080; font-weight: bold\"> 🔬 Trial Type      </span>┃<span style=\"color: #808000; text-decoration-color: #808000; font-weight: bold\"> Fixation   </span>┃\n",
       "┃<span style=\"color: #008080; text-decoration-color: #008080; font-weight: bold\"> 📊 Modality        </span>┃<span style=\"color: #808000; text-decoration-color: #808000; font-weight: bold\"> Pictures   </span>┃\n",
       "┃<span style=\"color: #008080; text-decoration-color: #008080; font-weight: bold\"> ⏱ Tmax             </span>┃<span style=\"color: #808000; text-decoration-color: #808000; font-weight: bold\"> </span><span style=\"color: #008080; text-decoration-color: #008080; font-weight: bold\">0.3</span><span style=\"color: #808000; text-decoration-color: #808000; font-weight: bold\">        </span>┃\n",
       "┃<span style=\"color: #008080; text-decoration-color: #008080; font-weight: bold\"> ⏳ Tmin            </span>┃<span style=\"color: #808000; text-decoration-color: #808000; font-weight: bold\"> </span><span style=\"color: #008080; text-decoration-color: #008080; font-weight: bold\">1.0</span><span style=\"color: #808000; text-decoration-color: #808000; font-weight: bold\">        </span>┃\n",
       "┗━━━━━━━━━━━━━━━━━━━━┻━━━━━━━━━━━━┛\n",
       "</pre>\n"
      ],
      "text/plain": [
       "\u001b[3m        Extraction Criteria        \u001b[0m\n",
       "┏━━━━━━━━━━━━━━━━━━━━┳━━━━━━━━━━━━┓\n",
       "┃\u001b[1m \u001b[0m\u001b[1mParameter         \u001b[0m\u001b[1m \u001b[0m┃\u001b[1m \u001b[0m\u001b[1mValue     \u001b[0m\u001b[1m \u001b[0m┃\n",
       "┣━━━━━━━━━━━━━━━━━━━━╋━━━━━━━━━━━━┫\n",
       "┃\u001b[1;36m \u001b[0m\u001b[1;36m🧪 Trial Mode     \u001b[0m\u001b[1;36m \u001b[0m┃\u001b[1;33m \u001b[0m\u001b[1;33m          \u001b[0m\u001b[1;33m \u001b[0m┃\n",
       "┃\u001b[1;36m \u001b[0m\u001b[1;36m📏 Trial Unit     \u001b[0m\u001b[1;36m \u001b[0m┃\u001b[1;33m \u001b[0m\u001b[1;33mWords     \u001b[0m\u001b[1;33m \u001b[0m┃\n",
       "┃\u001b[1;36m \u001b[0m\u001b[1;36m🔗 Experiment Mode\u001b[0m\u001b[1;36m \u001b[0m┃\u001b[1;33m \u001b[0m\u001b[1;33mExperiment\u001b[0m\u001b[1;33m \u001b[0m┃\n",
       "┃\u001b[1;36m \u001b[0m\u001b[1;36m🎭 Trial Boundary \u001b[0m\u001b[1;36m \u001b[0m┃\u001b[1;33m \u001b[0m\u001b[1;33mStart     \u001b[0m\u001b[1;33m \u001b[0m┃\n",
       "┃\u001b[1;36m \u001b[0m\u001b[1;36m🔬 Trial Type     \u001b[0m\u001b[1;36m \u001b[0m┃\u001b[1;33m \u001b[0m\u001b[1;33mFixation  \u001b[0m\u001b[1;33m \u001b[0m┃\n",
       "┃\u001b[1;36m \u001b[0m\u001b[1;36m📊 Modality       \u001b[0m\u001b[1;36m \u001b[0m┃\u001b[1;33m \u001b[0m\u001b[1;33mPictures  \u001b[0m\u001b[1;33m \u001b[0m┃\n",
       "┃\u001b[1;36m \u001b[0m\u001b[1;36m⏱ Tmax            \u001b[0m\u001b[1;36m \u001b[0m┃\u001b[1;33m \u001b[0m\u001b[1;36m0.3\u001b[0m\u001b[1;33m       \u001b[0m\u001b[1;33m \u001b[0m┃\n",
       "┃\u001b[1;36m \u001b[0m\u001b[1;36m⏳ Tmin           \u001b[0m\u001b[1;36m \u001b[0m┃\u001b[1;33m \u001b[0m\u001b[1;36m1.0\u001b[0m\u001b[1;33m       \u001b[0m\u001b[1;33m \u001b[0m┃\n",
       "┗━━━━━━━━━━━━━━━━━━━━┻━━━━━━━━━━━━┛\n"
      ]
     },
     "metadata": {},
     "output_type": "display_data"
    },
    {
     "name": "stdout",
     "output_type": "stream",
     "text": [
      "Not setting metadata\n",
      "130 matching events found\n",
      "Applying baseline correction (mode: mean)\n",
      "0 projection items activated\n",
      "Loading data for 130 events and 701 original time points ...\n",
      "0 bad epochs dropped\n"
     ]
    },
    {
     "data": {
      "text/html": [
       "<pre style=\"white-space:pre;overflow-x:auto;line-height:normal;font-family:Menlo,'DejaVu Sans Mono',consolas,'Courier New',monospace\"> <span style=\"color: #008000; text-decoration-color: #008000; font-weight: bold\">Loading for sub-</span><span style=\"color: #008000; text-decoration-color: #008000; font-weight: bold\">14</span><span style=\"color: #008000; text-decoration-color: #008000; font-weight: bold\">, ses-</span><span style=\"color: #008000; text-decoration-color: #008000; font-weight: bold\">01</span>\n",
       "</pre>\n"
      ],
      "text/plain": [
       " \u001b[1;32mLoading for sub-\u001b[0m\u001b[1;32m14\u001b[0m\u001b[1;32m, ses-\u001b[0m\u001b[1;32m01\u001b[0m\n"
      ]
     },
     "metadata": {},
     "output_type": "display_data"
    },
    {
     "data": {
      "text/html": [
       "<pre style=\"white-space:pre;overflow-x:auto;line-height:normal;font-family:Menlo,'DejaVu Sans Mono',consolas,'Courier New',monospace\"><span style=\"color: #800000; text-decoration-color: #800000\">╭────────────────────────────────╮</span>\n",
       "<span style=\"color: #800000; text-decoration-color: #800000\">│</span>  <span style=\"color: #800000; text-decoration-color: #800000; font-weight: bold\">Initializing DataLoader Class</span> <span style=\"color: #800000; text-decoration-color: #800000\">│</span>\n",
       "<span style=\"color: #800000; text-decoration-color: #800000\">╰────────────────────────────────╯</span>\n",
       "</pre>\n"
      ],
      "text/plain": [
       "\u001b[31m╭────────────────────────────────╮\u001b[0m\n",
       "\u001b[31m│\u001b[0m  \u001b[1;31mInitializing DataLoader Class\u001b[0m \u001b[31m│\u001b[0m\n",
       "\u001b[31m╰────────────────────────────────╯\u001b[0m\n"
      ]
     },
     "metadata": {},
     "output_type": "display_data"
    },
    {
     "data": {
      "text/html": [
       "<pre style=\"white-space:pre;overflow-x:auto;line-height:normal;font-family:Menlo,'DejaVu Sans Mono',consolas,'Courier New',monospace\"> <span style=\"color: #008000; text-decoration-color: #008000; font-weight: bold\">Creating EPOCHS</span>\n",
       "</pre>\n"
      ],
      "text/plain": [
       " \u001b[1;32mCreating EPOCHS\u001b[0m\n"
      ]
     },
     "metadata": {},
     "output_type": "display_data"
    },
    {
     "data": {
      "text/html": [
       "<pre style=\"white-space:pre;overflow-x:auto;line-height:normal;font-family:Menlo,'DejaVu Sans Mono',consolas,'Courier New',monospace\"><span style=\"font-style: italic\">        Extraction Criteria        </span>\n",
       "┏━━━━━━━━━━━━━━━━━━━━┳━━━━━━━━━━━━┓\n",
       "┃<span style=\"font-weight: bold\"> Parameter          </span>┃<span style=\"font-weight: bold\"> Value      </span>┃\n",
       "┣━━━━━━━━━━━━━━━━━━━━╋━━━━━━━━━━━━┫\n",
       "┃<span style=\"color: #008080; text-decoration-color: #008080; font-weight: bold\"> 🧪 Trial Mode      </span>┃<span style=\"color: #808000; text-decoration-color: #808000; font-weight: bold\">            </span>┃\n",
       "┃<span style=\"color: #008080; text-decoration-color: #008080; font-weight: bold\"> 📏 Trial Unit      </span>┃<span style=\"color: #808000; text-decoration-color: #808000; font-weight: bold\"> Words      </span>┃\n",
       "┃<span style=\"color: #008080; text-decoration-color: #008080; font-weight: bold\"> 🔗 Experiment Mode </span>┃<span style=\"color: #808000; text-decoration-color: #808000; font-weight: bold\"> Experiment </span>┃\n",
       "┃<span style=\"color: #008080; text-decoration-color: #008080; font-weight: bold\"> 🎭 Trial Boundary  </span>┃<span style=\"color: #808000; text-decoration-color: #808000; font-weight: bold\"> Start      </span>┃\n",
       "┃<span style=\"color: #008080; text-decoration-color: #008080; font-weight: bold\"> 🔬 Trial Type      </span>┃<span style=\"color: #808000; text-decoration-color: #808000; font-weight: bold\"> Fixation   </span>┃\n",
       "┃<span style=\"color: #008080; text-decoration-color: #008080; font-weight: bold\"> 📊 Modality        </span>┃<span style=\"color: #808000; text-decoration-color: #808000; font-weight: bold\"> Pictures   </span>┃\n",
       "┃<span style=\"color: #008080; text-decoration-color: #008080; font-weight: bold\"> ⏱ Tmax             </span>┃<span style=\"color: #808000; text-decoration-color: #808000; font-weight: bold\"> </span><span style=\"color: #008080; text-decoration-color: #008080; font-weight: bold\">0.3</span><span style=\"color: #808000; text-decoration-color: #808000; font-weight: bold\">        </span>┃\n",
       "┃<span style=\"color: #008080; text-decoration-color: #008080; font-weight: bold\"> ⏳ Tmin            </span>┃<span style=\"color: #808000; text-decoration-color: #808000; font-weight: bold\"> </span><span style=\"color: #008080; text-decoration-color: #008080; font-weight: bold\">1.0</span><span style=\"color: #808000; text-decoration-color: #808000; font-weight: bold\">        </span>┃\n",
       "┗━━━━━━━━━━━━━━━━━━━━┻━━━━━━━━━━━━┛\n",
       "</pre>\n"
      ],
      "text/plain": [
       "\u001b[3m        Extraction Criteria        \u001b[0m\n",
       "┏━━━━━━━━━━━━━━━━━━━━┳━━━━━━━━━━━━┓\n",
       "┃\u001b[1m \u001b[0m\u001b[1mParameter         \u001b[0m\u001b[1m \u001b[0m┃\u001b[1m \u001b[0m\u001b[1mValue     \u001b[0m\u001b[1m \u001b[0m┃\n",
       "┣━━━━━━━━━━━━━━━━━━━━╋━━━━━━━━━━━━┫\n",
       "┃\u001b[1;36m \u001b[0m\u001b[1;36m🧪 Trial Mode     \u001b[0m\u001b[1;36m \u001b[0m┃\u001b[1;33m \u001b[0m\u001b[1;33m          \u001b[0m\u001b[1;33m \u001b[0m┃\n",
       "┃\u001b[1;36m \u001b[0m\u001b[1;36m📏 Trial Unit     \u001b[0m\u001b[1;36m \u001b[0m┃\u001b[1;33m \u001b[0m\u001b[1;33mWords     \u001b[0m\u001b[1;33m \u001b[0m┃\n",
       "┃\u001b[1;36m \u001b[0m\u001b[1;36m🔗 Experiment Mode\u001b[0m\u001b[1;36m \u001b[0m┃\u001b[1;33m \u001b[0m\u001b[1;33mExperiment\u001b[0m\u001b[1;33m \u001b[0m┃\n",
       "┃\u001b[1;36m \u001b[0m\u001b[1;36m🎭 Trial Boundary \u001b[0m\u001b[1;36m \u001b[0m┃\u001b[1;33m \u001b[0m\u001b[1;33mStart     \u001b[0m\u001b[1;33m \u001b[0m┃\n",
       "┃\u001b[1;36m \u001b[0m\u001b[1;36m🔬 Trial Type     \u001b[0m\u001b[1;36m \u001b[0m┃\u001b[1;33m \u001b[0m\u001b[1;33mFixation  \u001b[0m\u001b[1;33m \u001b[0m┃\n",
       "┃\u001b[1;36m \u001b[0m\u001b[1;36m📊 Modality       \u001b[0m\u001b[1;36m \u001b[0m┃\u001b[1;33m \u001b[0m\u001b[1;33mPictures  \u001b[0m\u001b[1;33m \u001b[0m┃\n",
       "┃\u001b[1;36m \u001b[0m\u001b[1;36m⏱ Tmax            \u001b[0m\u001b[1;36m \u001b[0m┃\u001b[1;33m \u001b[0m\u001b[1;36m0.3\u001b[0m\u001b[1;33m       \u001b[0m\u001b[1;33m \u001b[0m┃\n",
       "┃\u001b[1;36m \u001b[0m\u001b[1;36m⏳ Tmin           \u001b[0m\u001b[1;36m \u001b[0m┃\u001b[1;33m \u001b[0m\u001b[1;36m1.0\u001b[0m\u001b[1;33m       \u001b[0m\u001b[1;33m \u001b[0m┃\n",
       "┗━━━━━━━━━━━━━━━━━━━━┻━━━━━━━━━━━━┛\n"
      ]
     },
     "metadata": {},
     "output_type": "display_data"
    },
    {
     "name": "stdout",
     "output_type": "stream",
     "text": [
      "Not setting metadata\n",
      "130 matching events found\n",
      "Applying baseline correction (mode: mean)\n",
      "0 projection items activated\n",
      "Loading data for 130 events and 701 original time points ...\n",
      "0 bad epochs dropped\n"
     ]
    }
   ],
   "source": [
    "epochs_fixation = reg.create_epochs_for_all(\n",
    "            trial_mode=trial_mode, trial_unit=trial_unit,\n",
    "            experiment_mode=experiment_mode, trial_boundary=trial_boundary,\n",
    "            trial_type='Fixation', modality=modality,\n",
    "            tmin=0.3, tmax=1.0\n",
    ")"
   ]
  },
  {
   "cell_type": "code",
   "execution_count": 7,
   "metadata": {},
   "outputs": [
    {
     "data": {
      "text/plain": [
       "{}"
      ]
     },
     "execution_count": 7,
     "metadata": {},
     "output_type": "execute_result"
    }
   ],
   "source": [
    "epochs_pictorial"
   ]
  },
  {
   "cell_type": "code",
   "execution_count": 27,
   "metadata": {},
   "outputs": [
    {
     "name": "stdout",
     "output_type": "stream",
     "text": [
      "<Evoked | '0.04 × SilentWordsExperimentStartStimulus:Pictures_silence + 0.01 × SilentWordsExperimentStartStimulus:Pictures_pantalón + 0.01 × SilentWordsExperimentStartStimulus:Pictures_cebolla  + 0.01 × SilentWordsExperimentStartStimulus:Pictures_peto + 0.01 × RealWordsExperimentStartStimulus:Pictures_poncho + 0.01 × RealWordsExperimentStartStimulus:Pictures_zapato + 0.01 × RealWordsExperimentStartStimulus:Pictures_micrófono + 0.01 × RealWordsExperimentStartStimulus:Pictures_vaso + 0.01 × RealWordsExperimentStartStimulus:Pictures_gato + 0.01 × RealWordsExperimentStartStimulus:Pictures_mono + 0.01 × RealWordsExperimentStartStimulus:Pictures_búho + 0.04 × RealWordsExperimentStartStimulus:Pictures_silence + 0.01 × SilentWordsExperimentStartStimulus:Pictures_foca + 0.01 × SilentWordsExperimentStartStimulus:Pictures_tetera + 0.01 × SilentWordsExperimentStartStimulus:Pictures_tomate  + 0.01 × SilentWordsExperimentStartStimulus:Pictures_búho + 0.01 × RealWordsExperimentStartStimulus:Pictures_espátula + ...' (average, N=130), -0.2 – 0.5 s, baseline -0.2 – 0 s, 64 ch, ~415 KiB>\n",
      "<Evoked | '0.01 × SilentWordsExperimentStartStimulus:Pictures_tetera + 0.01 × SilentWordsExperimentStartStimulus:Pictures_nariz  + 0.01 × SilentWordsExperimentStartStimulus:Pictures_campana + 0.01 × SilentWordsExperimentStartStimulus:Pictures_talón  + 0.01 × SilentWordsExperimentStartStimulus:Pictures_brócoli + 0.01 × RealWordsExperimentStartStimulus:Pictures_plato + 0.01 × RealWordsExperimentStartStimulus:Pictures_clarinete + 0.01 × RealWordsExperimentStartStimulus:Pictures_hiena + 0.01 × SilentWordsExperimentStartStimulus:Pictures_camiseta + 0.01 × SilentWordsExperimentStartStimulus:Pictures_manzana  + 0.04 × RealWordsExperimentStartStimulus:Pictures_silence + 0.01 × RealWordsExperimentStartStimulus:Pictures_colador + 0.01 × RealWordsExperimentStartStimulus:Pictures_boina + 0.01 × RealWordsExperimentStartStimulus:Pictures_talón  + 0.01 × RealWordsExperimentStartStimulus:Pictures_trompeta + 0.01 × RealWordsExperimentStartStimulus:Pictures_muela  + 0.01 × RealWordsExperimentStartStimulus:Pictures...' (average, N=130), -0.2 – 0.5 s, baseline -0.2 – 0 s, 64 ch, ~415 KiB>\n",
      "<Evoked | '0.01 × SilentWordsExperimentStartStimulus:Pictures_boina + 0.01 × SilentWordsExperimentStartStimulus:Pictures_banjo + 0.01 × SilentWordsExperimentStartStimulus:Pictures_foca + 0.04 × SilentWordsExperimentStartStimulus:Pictures_silence + 0.01 × SilentWordsExperimentStartStimulus:Pictures_bufanda + 0.01 × RealWordsExperimentStartStimulus:Pictures_embudo  + 0.01 × RealWordsExperimentStartStimulus:Pictures_búho + 0.01 × RealWordsExperimentStartStimulus:Pictures_ardilla + 0.01 × SilentWordsExperimentStartStimulus:Pictures_poncho + 0.01 × SilentWordsExperimentStartStimulus:Pictures_trompeta + 0.01 × SilentWordsExperimentStartStimulus:Pictures_gato + 0.01 × RealWordsExperimentStartStimulus:Pictures_nariz  + 0.01 × RealWordsExperimentStartStimulus:Pictures_sartén + 0.01 × RealWordsExperimentStartStimulus:Pictures_bolso + 0.01 × RealWordsExperimentStartStimulus:Pictures_campana + 0.01 × RealWordsExperimentStartStimulus:Pictures_hiena + 0.01 × RealWordsExperimentStartStimulus:Pictures_león + 0.0...' (average, N=130), -0.2 – 0.5 s, baseline -0.2 – 0 s, 64 ch, ~415 KiB>\n",
      "<Evoked | '0.01 × SilentWordsExperimentStartStimulus:Pictures_acordeón + 0.01 × SilentWordsExperimentStartStimulus:Pictures_cuchillo + 0.01 × SilentWordsExperimentStartStimulus:Pictures_tomate  + 0.01 × SilentWordsExperimentStartStimulus:Pictures_ojo  + 0.01 × SilentWordsExperimentStartStimulus:Pictures_campana + 0.01 × SilentWordsExperimentStartStimulus:Pictures_batería + 0.01 × SilentWordsExperimentStartStimulus:Pictures_hombro + 0.01 × SilentWordsExperimentStartStimulus:Pictures_camiseta + 0.01 × SilentWordsExperimentStartStimulus:Pictures_nariz  + 0.01 × RealWordsExperimentStartStimulus:Pictures_ardilla + 0.01 × RealWordsExperimentStartStimulus:Pictures_campana + 0.01 × RealWordsExperimentStartStimulus:Pictures_clarinete + 0.01 × RealWordsExperimentStartStimulus:Pictures_embudo  + 0.01 × RealWordsExperimentStartStimulus:Pictures_loro + 0.01 × RealWordsExperimentStartStimulus:Pictures_bufanda + 0.01 × RealWordsExperimentStartStimulus:Pictures_caballo + 0.01 × RealWordsExperimentStartStimulus:P...' (average, N=130), -0.2 – 0.5 s, baseline -0.2 – 0 s, 64 ch, ~415 KiB>\n",
      "<Evoked | '0.01 × SilentWordsExperimentStartStimulus:Pictures_meñique + 0.01 × SilentWordsExperimentStartStimulus:Pictures_piano + 0.01 × SilentWordsExperimentStartStimulus:Pictures_manopla + 0.01 × SilentWordsExperimentStartStimulus:Pictures_cuchillo + 0.01 × SilentWordsExperimentStartStimulus:Pictures_paloma + 0.01 × SilentWordsExperimentStartStimulus:Pictures_galleta + 0.01 × SilentWordsExperimentStartStimulus:Pictures_rodilla  + 0.01 × SilentWordsExperimentStartStimulus:Pictures_naranja + 0.01 × SilentWordsExperimentStartStimulus:Pictures_gato + 0.04 × RealWordsExperimentStartStimulus:Pictures_silence + 0.01 × RealWordsExperimentStartStimulus:Pictures_bufanda + 0.01 × SilentWordsExperimentStartStimulus:Pictures_manzana  + 0.01 × SilentWordsExperimentStartStimulus:Pictures_cinturón + 0.01 × SilentWordsExperimentStartStimulus:Pictures_ardilla + 0.01 × SilentWordsExperimentStartStimulus:Pictures_sartén + 0.04 × SilentWordsExperimentStartStimulus:Pictures_silence + 0.01 × SilentWordsExperimentSta...' (average, N=130), -0.2 – 0.5 s, baseline -0.2 – 0 s, 64 ch, ~415 KiB>\n",
      "<Evoked | '0.01 × SilentWordsExperimentStartStimulus:Pictures_galleta + 0.01 × SilentWordsExperimentStartStimulus:Pictures_guitarra + 0.01 × SilentWordsExperimentStartStimulus:Pictures_coliflor + 0.01 × SilentWordsExperimentStartStimulus:Pictures_búho + 0.01 × SilentWordsExperimentStartStimulus:Pictures_ojo  + 0.01 × SilentWordsExperimentStartStimulus:Pictures_piano + 0.01 × RealWordsExperimentStartStimulus:Pictures_zapato + 0.04 × RealWordsExperimentStartStimulus:Pictures_silence + 0.01 × RealWordsExperimentStartStimulus:Pictures_embudo  + 0.01 × RealWordsExperimentStartStimulus:Pictures_camiseta + 0.01 × RealWordsExperimentStartStimulus:Pictures_pepino + 0.01 × SilentWordsExperimentStartStimulus:Pictures_camiseta + 0.04 × SilentWordsExperimentStartStimulus:Pictures_silence + 0.01 × RealWordsExperimentStartStimulus:Pictures_paloma + 0.01 × RealWordsExperimentStartStimulus:Pictures_búho + 0.01 × RealWordsExperimentStartStimulus:Pictures_caballo + 0.01 × RealWordsExperimentStartStimulus:Pictures_c...' (average, N=130), -0.2 – 0.5 s, baseline -0.2 – 0 s, 64 ch, ~415 KiB>\n",
      "<Evoked | '0.01 × SilentWordsExperimentStartStimulus:Pictures_embudo  + 0.01 × SilentWordsExperimentStartStimulus:Pictures_taza + 0.01 × SilentWordsExperimentStartStimulus:Pictures_colador + 0.01 × SilentWordsExperimentStartStimulus:Pictures_caballo + 0.01 × SilentWordsExperimentStartStimulus:Pictures_cucharón + 0.01 × RealWordsExperimentStartStimulus:Pictures_taza + 0.01 × RealWordsExperimentStartStimulus:Pictures_colador + 0.01 × RealWordsExperimentStartStimulus:Pictures_foca + 0.01 × RealWordsExperimentStartStimulus:Pictures_espátula + 0.01 × SilentWordsExperimentStartStimulus:Pictures_tetera + 0.01 × SilentWordsExperimentStartStimulus:Pictures_trompeta + 0.01 × SilentWordsExperimentStartStimulus:Pictures_clarinete + 0.01 × SilentWordsExperimentStartStimulus:Pictures_espátula + 0.01 × SilentWordsExperimentStartStimulus:Pictures_kiwi  + 0.01 × RealWordsExperimentStartStimulus:Pictures_embudo  + 0.01 × RealWordsExperimentStartStimulus:Pictures_bufanda + 0.01 × RealWordsExperimentStartStimulus:Pi...' (average, N=130), -0.2 – 0.5 s, baseline -0.2 – 0 s, 64 ch, ~415 KiB>\n",
      "<Evoked | '0.04 × SilentWordsExperimentStartStimulus:Pictures_silence + 0.01 × SilentWordsExperimentStartStimulus:Pictures_pantalón + 0.01 × SilentWordsExperimentStartStimulus:Pictures_cebolla  + 0.01 × SilentWordsExperimentStartStimulus:Pictures_peto + 0.01 × RealWordsExperimentStartStimulus:Pictures_poncho + 0.01 × RealWordsExperimentStartStimulus:Pictures_zapato + 0.01 × RealWordsExperimentStartStimulus:Pictures_micrófono + 0.01 × RealWordsExperimentStartStimulus:Pictures_vaso + 0.01 × RealWordsExperimentStartStimulus:Pictures_gato + 0.01 × RealWordsExperimentStartStimulus:Pictures_mono + 0.01 × RealWordsExperimentStartStimulus:Pictures_búho + 0.04 × RealWordsExperimentStartStimulus:Pictures_silence + 0.01 × SilentWordsExperimentStartStimulus:Pictures_foca + 0.01 × SilentWordsExperimentStartStimulus:Pictures_tetera + 0.01 × SilentWordsExperimentStartStimulus:Pictures_tomate  + 0.01 × SilentWordsExperimentStartStimulus:Pictures_búho + 0.01 × RealWordsExperimentStartStimulus:Pictures_espátula + ...' (average, N=130), -0.2 – 0.5 s, baseline -0.2 – 0 s, 64 ch, ~415 KiB>\n",
      "<Evoked | '0.01 × SilentWordsExperimentStartStimulus:Pictures_bolso + 0.01 × SilentWordsExperimentStartStimulus:Pictures_manopla + 0.01 × SilentWordsExperimentStartStimulus:Pictures_trompeta + 0.01 × SilentWordsExperimentStartStimulus:Pictures_talón  + 0.01 × SilentWordsExperimentStartStimulus:Pictures_boina + 0.04 × SilentWordsExperimentStartStimulus:Pictures_silence + 0.01 × RealWordsExperimentStartStimulus:Pictures_espátula + 0.01 × RealWordsExperimentStartStimulus:Pictures_hiena + 0.01 × RealWordsExperimentStartStimulus:Pictures_boina + 0.01 × RealWordsExperimentStartStimulus:Pictures_foca + 0.01 × RealWordsExperimentStartStimulus:Pictures_clarinete + 0.01 × SilentWordsExperimentStartStimulus:Pictures_banjo + 0.01 × SilentWordsExperimentStartStimulus:Pictures_brócoli + 0.01 × SilentWordsExperimentStartStimulus:Pictures_arpa  + 0.01 × SilentWordsExperimentStartStimulus:Pictures_piano + 0.01 × RealWordsExperimentStartStimulus:Pictures_taza + 0.01 × RealWordsExperimentStartStimulus:Pictures_rodi...' (average, N=130), -0.2 – 0.5 s, baseline -0.2 – 0 s, 64 ch, ~415 KiB>\n",
      "<Evoked | '0.01 × SilentWordsExperimentStartStimulus:Pictures_meñique + 0.01 × SilentWordsExperimentStartStimulus:Pictures_cucharón + 0.01 × SilentWordsExperimentStartStimulus:Pictures_acordeón + 0.01 × SilentWordsExperimentStartStimulus:Pictures_embudo  + 0.01 × RealWordsExperimentStartStimulus:Pictures_paloma + 0.01 × RealWordsExperimentStartStimulus:Pictures_pantalón + 0.01 × RealWordsExperimentStartStimulus:Pictures_muela  + 0.01 × RealWordsExperimentStartStimulus:Pictures_boina + 0.01 × RealWordsExperimentStartStimulus:Pictures_bolso + 0.01 × SilentWordsExperimentStartStimulus:Pictures_brócoli + 0.01 × SilentWordsExperimentStartStimulus:Pictures_rodilla  + 0.01 × SilentWordsExperimentStartStimulus:Pictures_bufanda + 0.01 × RealWordsExperimentStartStimulus:Pictures_loro + 0.01 × RealWordsExperimentStartStimulus:Pictures_caballo + 0.01 × RealWordsExperimentStartStimulus:Pictures_camiseta + 0.01 × RealWordsExperimentStartStimulus:Pictures_tetera + 0.01 × SilentWordsExperimentStartStimulus:Pictu...' (average, N=130), -0.2 – 0.5 s, baseline -0.2 – 0 s, 64 ch, ~415 KiB>\n",
      "<Evoked | '0.01 × SilentWordsExperimentStartStimulus:Pictures_caballo + 0.01 × SilentWordsExperimentStartStimulus:Pictures_foca + 0.01 × SilentWordsExperimentStartStimulus:Pictures_acordeón + 0.01 × SilentWordsExperimentStartStimulus:Pictures_muela  + 0.01 × RealWordsExperimentStartStimulus:Pictures_batería + 0.04 × RealWordsExperimentStartStimulus:Pictures_silence + 0.01 × RealWordsExperimentStartStimulus:Pictures_sandía + 0.01 × RealWordsExperimentStartStimulus:Pictures_espátula + 0.01 × SilentWordsExperimentStartStimulus:Pictures_sartén + 0.01 × SilentWordsExperimentStartStimulus:Pictures_colador + 0.01 × SilentWordsExperimentStartStimulus:Pictures_vaso + 0.01 × SilentWordsExperimentStartStimulus:Pictures_naranja + 0.01 × SilentWordsExperimentStartStimulus:Pictures_clarinete + 0.01 × RealWordsExperimentStartStimulus:Pictures_tomate  + 0.01 × SilentWordsExperimentStartStimulus:Pictures_espátula + 0.01 × SilentWordsExperimentStartStimulus:Pictures_campana + 0.01 × SilentWordsExperimentStartStimu...' (average, N=130), -0.2 – 0.5 s, baseline -0.2 – 0 s, 64 ch, ~415 KiB>\n",
      "<Evoked | '0.01 × SilentWordsExperimentStartStimulus:Pictures_arpa  + 0.01 × SilentWordsExperimentStartStimulus:Pictures_zapato + 0.01 × SilentWordsExperimentStartStimulus:Pictures_león + 0.04 × SilentWordsExperimentStartStimulus:Pictures_silence + 0.01 × RealWordsExperimentStartStimulus:Pictures_colador + 0.04 × RealWordsExperimentStartStimulus:Pictures_silence + 0.01 × RealWordsExperimentStartStimulus:Pictures_hombro + 0.01 × SilentWordsExperimentStartStimulus:Pictures_ardilla + 0.01 × SilentWordsExperimentStartStimulus:Pictures_meñique + 0.01 × SilentWordsExperimentStartStimulus:Pictures_oreja  + 0.01 × SilentWordsExperimentStartStimulus:Pictures_trompeta + 0.01 × SilentWordsExperimentStartStimulus:Pictures_manopla + 0.01 × SilentWordsExperimentStartStimulus:Pictures_mono + 0.01 × RealWordsExperimentStartStimulus:Pictures_gato + 0.01 × RealWordsExperimentStartStimulus:Pictures_ardilla + 0.01 × SilentWordsExperimentStartStimulus:Pictures_pantalón + 0.01 × RealWordsExperimentStartStimulus:Pictur...' (average, N=130), -0.2 – 0.5 s, baseline -0.2 – 0 s, 64 ch, ~415 KiB>\n",
      "<Evoked | '0.01 × SilentWordsExperimentStartStimulus:Pictures_nariz  + 0.04 × SilentWordsExperimentStartStimulus:Pictures_silence + 0.01 × SilentWordsExperimentStartStimulus:Pictures_muela  + 0.01 × RealWordsExperimentStartStimulus:Pictures_micrófono + 0.01 × RealWordsExperimentStartStimulus:Pictures_banjo + 0.01 × RealWordsExperimentStartStimulus:Pictures_galleta + 0.01 × RealWordsExperimentStartStimulus:Pictures_vaso + 0.01 × RealWordsExperimentStartStimulus:Pictures_hombro + 0.01 × SilentWordsExperimentStartStimulus:Pictures_mono + 0.01 × SilentWordsExperimentStartStimulus:Pictures_paloma + 0.01 × SilentWordsExperimentStartStimulus:Pictures_zapato + 0.01 × SilentWordsExperimentStartStimulus:Pictures_león + 0.01 × SilentWordsExperimentStartStimulus:Pictures_banjo + 0.01 × SilentWordsExperimentStartStimulus:Pictures_caballo + 0.01 × SilentWordsExperimentStartStimulus:Pictures_cebolla  + 0.01 × RealWordsExperimentStartStimulus:Pictures_cucharón + 0.01 × RealWordsExperimentStartStimulus:Pictures_p...' (average, N=130), -0.2 – 0.5 s, baseline -0.2 – 0 s, 64 ch, ~415 KiB>\n",
      "<Evoked | '0.01 × SilentWordsExperimentStartStimulus:Pictures_clarinete + 0.01 × SilentWordsExperimentStartStimulus:Pictures_cinturón + 0.01 × SilentWordsExperimentStartStimulus:Pictures_loro + 0.01 × SilentWordsExperimentStartStimulus:Pictures_bolso + 0.01 × SilentWordsExperimentStartStimulus:Pictures_tomate  + 0.01 × RealWordsExperimentStartStimulus:Pictures_campana + 0.01 × RealWordsExperimentStartStimulus:Pictures_manzana  + 0.01 × RealWordsExperimentStartStimulus:Pictures_coliflor + 0.01 × RealWordsExperimentStartStimulus:Pictures_kiwi  + 0.04 × RealWordsExperimentStartStimulus:Pictures_silence + 0.01 × RealWordsExperimentStartStimulus:Pictures_tomate  + 0.01 × RealWordsExperimentStartStimulus:Pictures_manopla + 0.01 × SilentWordsExperimentStartStimulus:Pictures_micrófono + 0.01 × SilentWordsExperimentStartStimulus:Pictures_búho + 0.01 × SilentWordsExperimentStartStimulus:Pictures_manopla + 0.01 × SilentWordsExperimentStartStimulus:Pictures_boina + 0.01 × SilentWordsExperimentStartStimulus:P...' (average, N=130), -0.2 – 0.5 s, baseline -0.2 – 0 s, 64 ch, ~415 KiB>\n",
      "<Evoked | '0.01 × SilentWordsExperimentStartStimulus:Pictures_cinturón + 0.01 × SilentWordsExperimentStartStimulus:Pictures_zapato + 0.01 × SilentWordsExperimentStartStimulus:Pictures_boina + 0.01 × SilentWordsExperimentStartStimulus:Pictures_manzana  + 0.01 × SilentWordsExperimentStartStimulus:Pictures_campana + 0.01 × RealWordsExperimentStartStimulus:Pictures_cinturón + 0.04 × RealWordsExperimentStartStimulus:Pictures_silence + 0.01 × SilentWordsExperimentStartStimulus:Pictures_muela  + 0.04 × SilentWordsExperimentStartStimulus:Pictures_silence + 0.01 × RealWordsExperimentStartStimulus:Pictures_peto + 0.01 × RealWordsExperimentStartStimulus:Pictures_pantalón + 0.01 × RealWordsExperimentStartStimulus:Pictures_zapato + 0.01 × RealWordsExperimentStartStimulus:Pictures_sandía + 0.01 × SilentWordsExperimentStartStimulus:Pictures_sartén + 0.01 × SilentWordsExperimentStartStimulus:Pictures_meñique + 0.01 × SilentWordsExperimentStartStimulus:Pictures_tomate  + 0.01 × SilentWordsExperimentStartStimulus:...' (average, N=130), -0.2 – 0.5 s, baseline -0.2 – 0 s, 64 ch, ~415 KiB>\n",
      "<Evoked | '0.01 × SilentWordsExperimentStartStimulus:Pictures_manzana  + 0.01 × SilentWordsExperimentStartStimulus:Pictures_galleta + 0.01 × SilentWordsExperimentStartStimulus:Pictures_hiena + 0.01 × SilentWordsExperimentStartStimulus:Pictures_piano + 0.01 × SilentWordsExperimentStartStimulus:Pictures_loro + 0.01 × SilentWordsExperimentStartStimulus:Pictures_rodilla  + 0.01 × SilentWordsExperimentStartStimulus:Pictures_mono + 0.01 × RealWordsExperimentStartStimulus:Pictures_pantalón + 0.01 × RealWordsExperimentStartStimulus:Pictures_guitarra + 0.01 × RealWordsExperimentStartStimulus:Pictures_espátula + 0.01 × RealWordsExperimentStartStimulus:Pictures_boina + 0.01 × RealWordsExperimentStartStimulus:Pictures_hiena + 0.04 × RealWordsExperimentStartStimulus:Pictures_silence + 0.01 × RealWordsExperimentStartStimulus:Pictures_loro + 0.01 × RealWordsExperimentStartStimulus:Pictures_coliflor + 0.01 × SilentWordsExperimentStartStimulus:Pictures_pantorrilla + 0.01 × SilentWordsExperimentStartStimulus:Pictu...' (average, N=130), -0.2 – 0.5 s, baseline -0.2 – 0 s, 64 ch, ~415 KiB>\n",
      "<Evoked | '0.01 × SilentWordsExperimentStartStimulus:Pictures_boina + 0.01 × SilentWordsExperimentStartStimulus:Pictures_sandía + 0.01 × SilentWordsExperimentStartStimulus:Pictures_espátula + 0.01 × SilentWordsExperimentStartStimulus:Pictures_ardilla + 0.01 × SilentWordsExperimentStartStimulus:Pictures_foca + 0.01 × SilentWordsExperimentStartStimulus:Pictures_manopla + 0.01 × SilentWordsExperimentStartStimulus:Pictures_trompeta + 0.01 × RealWordsExperimentStartStimulus:Pictures_galleta + 0.01 × RealWordsExperimentStartStimulus:Pictures_clarinete + 0.01 × RealWordsExperimentStartStimulus:Pictures_muela  + 0.01 × RealWordsExperimentStartStimulus:Pictures_cucharón + 0.01 × RealWordsExperimentStartStimulus:Pictures_pepino + 0.01 × RealWordsExperimentStartStimulus:Pictures_caballo + 0.01 × RealWordsExperimentStartStimulus:Pictures_tomate  + 0.01 × RealWordsExperimentStartStimulus:Pictures_taza + 0.01 × SilentWordsExperimentStartStimulus:Pictures_pantalón + 0.01 × SilentWordsExperimentStartStimulus:Pic...' (average, N=130), -0.2 – 0.5 s, baseline -0.2 – 0 s, 64 ch, ~415 KiB>\n",
      "<Evoked | '0.04 × SilentWordsExperimentStartStimulus:Pictures_silence + 0.01 × SilentWordsExperimentStartStimulus:Pictures_hiena + 0.01 × SilentWordsExperimentStartStimulus:Pictures_bolso + 0.01 × SilentWordsExperimentStartStimulus:Pictures_colador + 0.01 × SilentWordsExperimentStartStimulus:Pictures_talón  + 0.01 × SilentWordsExperimentStartStimulus:Pictures_micrófono + 0.01 × SilentWordsExperimentStartStimulus:Pictures_cuchillo + 0.01 × RealWordsExperimentStartStimulus:Pictures_pantalón + 0.01 × RealWordsExperimentStartStimulus:Pictures_muela  + 0.01 × RealWordsExperimentStartStimulus:Pictures_zapato + 0.01 × RealWordsExperimentStartStimulus:Pictures_coliflor + 0.01 × SilentWordsExperimentStartStimulus:Pictures_poncho + 0.01 × SilentWordsExperimentStartStimulus:Pictures_ardilla + 0.01 × SilentWordsExperimentStartStimulus:Pictures_acordeón + 0.01 × RealWordsExperimentStartStimulus:Pictures_búho + 0.01 × RealWordsExperimentStartStimulus:Pictures_campana + 0.01 × RealWordsExperimentStartStimulus:P...' (average, N=130), -0.2 – 0.5 s, baseline -0.2 – 0 s, 64 ch, ~415 KiB>\n",
      "<Evoked | '0.04 × SilentWordsExperimentStartStimulus:Pictures_silence + 0.01 × SilentWordsExperimentStartStimulus:Pictures_batería + 0.01 × SilentWordsExperimentStartStimulus:Pictures_caballo + 0.01 × SilentWordsExperimentStartStimulus:Pictures_hombro + 0.01 × SilentWordsExperimentStartStimulus:Pictures_talón  + 0.01 × RealWordsExperimentStartStimulus:Pictures_nariz  + 0.01 × RealWordsExperimentStartStimulus:Pictures_brócoli + 0.01 × RealWordsExperimentStartStimulus:Pictures_cebolla  + 0.01 × RealWordsExperimentStartStimulus:Pictures_banjo + 0.01 × SilentWordsExperimentStartStimulus:Pictures_camiseta + 0.01 × SilentWordsExperimentStartStimulus:Pictures_muela  + 0.01 × SilentWordsExperimentStartStimulus:Pictures_cucharón + 0.01 × SilentWordsExperimentStartStimulus:Pictures_plato + 0.01 × SilentWordsExperimentStartStimulus:Pictures_cinturón + 0.01 × RealWordsExperimentStartStimulus:Pictures_león + 0.01 × RealWordsExperimentStartStimulus:Pictures_manzana  + 0.01 × RealWordsExperimentStartStimulus:Pi...' (average, N=130), -0.2 – 0.5 s, baseline -0.2 – 0 s, 64 ch, ~415 KiB>\n",
      "<Evoked | '0.01 × SilentWordsExperimentStartStimulus:Pictures_manzana  + 0.01 × SilentWordsExperimentStartStimulus:Pictures_bufanda + 0.01 × SilentWordsExperimentStartStimulus:Pictures_oreja  + 0.01 × SilentWordsExperimentStartStimulus:Pictures_sandía + 0.01 × SilentWordsExperimentStartStimulus:Pictures_zapato + 0.01 × SilentWordsExperimentStartStimulus:Pictures_cebolla  + 0.01 × SilentWordsExperimentStartStimulus:Pictures_naranja + 0.01 × RealWordsExperimentStartStimulus:Pictures_bíceps + 0.01 × RealWordsExperimentStartStimulus:Pictures_hiena + 0.01 × RealWordsExperimentStartStimulus:Pictures_acordeón + 0.01 × RealWordsExperimentStartStimulus:Pictures_clarinete + 0.01 × RealWordsExperimentStartStimulus:Pictures_vaso + 0.01 × RealWordsExperimentStartStimulus:Pictures_guitarra + 0.04 × SilentWordsExperimentStartStimulus:Pictures_silence + 0.01 × SilentWordsExperimentStartStimulus:Pictures_vaso + 0.01 × SilentWordsExperimentStartStimulus:Pictures_boina + 0.01 × SilentWordsExperimentStartStimulus:Pi...' (average, N=130), -0.2 – 0.5 s, baseline -0.2 – 0 s, 64 ch, ~415 KiB>\n",
      "Saved plot to /home/owaismujtaba/projects/article/Images/_Words_Experiment_Start_Stimulus_Pictures_and_Fixation_occipital_p100_and_p300_plot.png\n"
     ]
    },
    {
     "data": {
      "image/png": "[encoded data removed]",
      "text/plain": [
       "<Figure size 1500x1000 with 20 Axes>"
      ]
     },
     "metadata": {},
     "output_type": "display_data"
    }
   ],
   "source": [
    "from matplotlib import pyplot as plt\n",
    "import config as config\n",
    "from pathlib import Path\n",
    "import numpy as np\n",
    "\n",
    "occipital_channels = ['O1', 'O2', 'Oz']\n",
    "\n",
    "fig, axes = plt.subplots(5, 4, figsize=(15, 10), sharex=True, sharey=False)\n",
    "axes = axes.flatten()\n",
    "\n",
    "for i, ((subject, session), epoch) in enumerate(epochs_pictorial.items()):\n",
    "            evoked_pictorial = epoch.average()\n",
    "            print(evoked_pictorial)\n",
    "            occipital_data_pictorial = evoked_pictorial.copy().pick(occipital_channels).data\n",
    "            mean_signal_pictorial = np.mean(occipital_data_pictorial, axis=0)\n",
    "\n",
    "            fixation_epoch = epochs_fixation[(subject, session)]\n",
    "            evoked_fixation = fixation_epoch.average()\n",
    "            occipital_data_fixation = evoked_fixation.copy().pick(occipital_channels).data\n",
    "            mean_signal_fixation = np.mean(occipital_data_fixation, axis=0)\n",
    "\n",
    "            ax = axes[i]\n",
    "            ax.plot(mean_signal_pictorial, label='Pictorial', color='green')\n",
    "            ax.plot(mean_signal_fixation, label='Fixation', color='blue')\n",
    "            ax.axvline(200, color='cyan', linestyle='--', label=\"onset\")\n",
    "            ax.axvline(300, color='r', linestyle='--', label=\"100ms\")\n",
    "            ax.axvline(500, color='black', linestyle='--', label=\"300ms\")\n",
    "\n",
    "            ax.set_title(f\"sub-{subject}_ses_{session}\")\n",
    "            ax.spines['top'].set_visible(False)\n",
    "            ax.spines['right'].set_visible(False)\n",
    "            #ax.set_xlim([0, 0.7])\n",
    "            if i == 0:\n",
    "                ax.set_xlabel(\"Time (s)\")\n",
    "                ax.set_ylabel(\"µV\")\n",
    "\n",
    "axes[-1].legend(loc='upper right')  \n",
    "plt.tight_layout()\n",
    "images_dir = config.IMAGES_DIR\n",
    "image_filepath = Path(images_dir, f'{trial_mode}_{trial_unit}_{experiment_mode}_{trial_boundary}_{trial_type}_Pictures_and_Fixation_occipital_p100_and_p300_plot.png')\n",
    "plt.savefig(image_filepath, dpi=600)\n",
    "print(f\"Saved plot to {image_filepath}\")\n",
    "        \n",
    "        \n"
   ]
  },
  {
   "cell_type": "code",
   "execution_count": null,
   "metadata": {},
   "outputs": [],
   "source": []
  }
 ],
 "metadata": {
  "kernelspec": {
   "display_name": "vow",
   "language": "python",
   "name": "python3"
  },
  "language_info": {
   "codemirror_mode": {
    "name": "ipython",
    "version": 3
   },
   "file_extension": ".py",
   "mimetype": "text/x-python",
   "name": "python",
   "nbconvert_exporter": "python",
   "pygments_lexer": "ipython3",
   "version": "3.10.16"
  }
 },
 "nbformat": 4,
 "nbformat_minor": 2
}
